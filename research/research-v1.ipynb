{
 "cells": [
  {
   "cell_type": "code",
   "execution_count": 1,
   "metadata": {},
   "outputs": [],
   "source": [
    "import numpy as np\n",
    "import json\n",
    "import os\n",
    "\n",
    "import subprocess"
   ]
  },
  {
   "cell_type": "code",
   "execution_count": 2,
   "metadata": {},
   "outputs": [],
   "source": [
    "%matplotlib inline\n",
    "%config Completer.use_jedi = False"
   ]
  },
  {
   "cell_type": "code",
   "execution_count": 39,
   "metadata": {},
   "outputs": [
    {
     "name": "stdout",
     "output_type": "stream",
     "text": [
      "b'total 32\\ndrwxr-xr-x  24 sergmiller  staff   768B Sep 29 23:25 errorlogs\\n-rw-r--r--   1 sergmiller  staff     0B Sep 29 23:19 replay.json\\ndrwxr-xr-x  15 sergmiller  staff   480B Sep 29 23:25 replays\\n-rw-r--r--   1 sergmiller  staff    16K Sep 29 23:26 research-v1.ipynb\\n'\n"
     ]
    }
   ],
   "source": [
    "import subprocess\n",
    "\n",
    "useless_cat_call = subprocess.run([\"ls\", \"-lh\"], stdout=subprocess.PIPE)\n",
    "print(useless_cat_call.stdout)  # Hello from the other side"
   ]
  },
  {
   "cell_type": "code",
   "execution_count": 4,
   "metadata": {},
   "outputs": [
    {
     "data": {
      "text/plain": [
       "0"
      ]
     },
     "execution_count": 4,
     "metadata": {},
     "output_type": "execute_result"
    }
   ],
   "source": [
    "useless_cat_call.returncode"
   ]
  },
  {
   "cell_type": "code",
   "execution_count": 137,
   "metadata": {},
   "outputs": [],
   "source": [
    "simple_bot = \"../submissions/simple/main.py\"\n",
    "replays = \"replays\"\n",
    "\n",
    "def run_game(left_bot=simple_bot, right_bot=simple_bot, seed=42):\n",
    "    replay_path = \"replay.json\"\n",
    "    python_v = \"python3.7\"\n",
    "    \n",
    "    replay_path = os.path.join(replays, str(np.random.randint(1e9)) + \".json\")\n",
    "    \n",
    "    res = subprocess.run([\n",
    "        \"lux-ai-2021\",\n",
    "        left_bot,\n",
    "        right_bot,\n",
    "        \"--statefulReplay\",\n",
    "        \"--python={}\".format(python_v),\n",
    "        \"--seed={}\".format(seed),\n",
    "        \"--out={}\".format(replay_path)], stdout=subprocess.PIPE)\n",
    "    \n",
    "    print(res.stdout)\n",
    "\n",
    "    assert res.returncode == 0\n",
    "\n",
    "    with open(replay_path, \"r\") as f:\n",
    "        result = json.load(f)\n",
    "    return result"
   ]
  },
  {
   "cell_type": "code",
   "execution_count": 138,
   "metadata": {},
   "outputs": [
    {
     "name": "stdout",
     "output_type": "stream",
     "text": [
      "b\"\\n-=-=-=-=-=-=-=-=-=-=-=-| \\x1b[34m[INFO]\\x1b[39m \\x1b[1m\\x1b[32mmatch_7wQ9PzjJ6pvX\\x1b[39m\\x1b[22m |-=-=-=-=-=-=-=-=-=-=-=-\\n\\n\\x1b[34m[INFO]\\x1b[39m (match_7wQ9PzjJ6pvX) - Design: lux_ai_2021 | Initializing match - ID: 7wQ9PzjJ6pvX, Name: match_7wQ9PzjJ6pvX\\n{\\n  ranks: [\\n    { rank: 1, agentID: 0, name: '../submissions/simple/main.py' },\\n    {\\n      rank: 2,\\n      agentID: 1,\\n      name: '../submissions/zero_actions/main.py'\\n    }\\n  ],\\n  replayFile: 'replays/93402117.json',\\n  seed: 42\\n}\\n\"\n"
     ]
    }
   ],
   "source": [
    "zero_bot = \"../submissions/zero_actions/main.py\"\n",
    "r = run_game(simple_bot, zero_bot, 42)"
   ]
  },
  {
   "cell_type": "code",
   "execution_count": 139,
   "metadata": {},
   "outputs": [
    {
     "data": {
      "text/plain": [
       "dict_keys(['seed', 'allCommands', 'mapType', 'teamDetails', 'version', 'stateful', 'results'])"
      ]
     },
     "execution_count": 139,
     "metadata": {},
     "output_type": "execute_result"
    }
   ],
   "source": [
    "r.keys()"
   ]
  },
  {
   "cell_type": "code",
   "execution_count": 140,
   "metadata": {},
   "outputs": [
    {
     "data": {
      "text/plain": [
       "'3.1.0'"
      ]
     },
     "execution_count": 140,
     "metadata": {},
     "output_type": "execute_result"
    }
   ],
   "source": [
    "r[\"version\"]"
   ]
  },
  {
   "cell_type": "code",
   "execution_count": 141,
   "metadata": {},
   "outputs": [
    {
     "data": {
      "text/plain": [
       "{'ranks': [{'rank': 1, 'agentID': 0}, {'rank': 2, 'agentID': 1}],\n",
       " 'replayFile': 'replays/93402117.json'}"
      ]
     },
     "execution_count": 141,
     "metadata": {},
     "output_type": "execute_result"
    }
   ],
   "source": [
    "r[\"results\"]"
   ]
  },
  {
   "cell_type": "code",
   "execution_count": 55,
   "metadata": {},
   "outputs": [],
   "source": [
    "def run_series(left_bot, right_bot, seed=42, n_runs=10):\n",
    "    results = []\n",
    "    for t in range(n_runs):\n",
    "        results.append(run_game(left_bot, right_bot, seed + t))\n",
    "    return results"
   ]
  },
  {
   "cell_type": "code",
   "execution_count": 56,
   "metadata": {},
   "outputs": [
    {
     "name": "stdout",
     "output_type": "stream",
     "text": [
      "CPU times: user 15 ms, sys: 28.8 ms, total: 43.8 ms\n",
      "Wall time: 17.2 s\n"
     ]
    }
   ],
   "source": [
    "%%time\n",
    "\n",
    "r = run_series(bot_entry_path, bot_entry_path)"
   ]
  },
  {
   "cell_type": "code",
   "execution_count": 57,
   "metadata": {},
   "outputs": [
    {
     "data": {
      "text/plain": [
       "10"
      ]
     },
     "execution_count": 57,
     "metadata": {},
     "output_type": "execute_result"
    }
   ],
   "source": [
    "len(r)"
   ]
  },
  {
   "cell_type": "code",
   "execution_count": 58,
   "metadata": {},
   "outputs": [
    {
     "data": {
      "text/plain": [
       "{'ranks': [{'rank': 1, 'agentID': 0}, {'rank': 1, 'agentID': 1}],\n",
       " 'replayFile': 'replays/930220479.json'}"
      ]
     },
     "execution_count": 58,
     "metadata": {},
     "output_type": "execute_result"
    }
   ],
   "source": [
    "r[0]['results']"
   ]
  },
  {
   "cell_type": "code",
   "execution_count": 9,
   "metadata": {},
   "outputs": [
    {
     "data": {
      "text/plain": [
       "dict_keys(['seed', 'allCommands', 'mapType', 'teamDetails', 'version', 'results'])"
      ]
     },
     "execution_count": 9,
     "metadata": {},
     "output_type": "execute_result"
    }
   ],
   "source": [
    "result.keys()"
   ]
  },
  {
   "cell_type": "code",
   "execution_count": 35,
   "metadata": {},
   "outputs": [],
   "source": [
    "from subprocess import Popen, PIPE\n",
    "\n",
    "session = subprocess.Popen(['ls', '-lh'] + '| grep 1'.split(), stdout=PIPE, stderr=PIPE)\n",
    "stdout, stderr = session.communicate()"
   ]
  },
  {
   "cell_type": "code",
   "execution_count": 36,
   "metadata": {},
   "outputs": [
    {
     "data": {
      "text/plain": [
       "(b'',\n",
       " b'ls: 1: No such file or directory\\nls: grep: No such file or directory\\nls: |: No such file or directory\\n')"
      ]
     },
     "execution_count": 36,
     "metadata": {},
     "output_type": "execute_result"
    }
   ],
   "source": [
    "stdout, stderr"
   ]
  },
  {
   "cell_type": "code",
   "execution_count": null,
   "metadata": {},
   "outputs": [],
   "source": [
    "def run_game(agentA: str, agentB: str):\n",
    "    os."
   ]
  }
 ],
 "metadata": {
  "kernelspec": {
   "display_name": "Python 3",
   "language": "python",
   "name": "python3"
  },
  "language_info": {
   "codemirror_mode": {
    "name": "ipython",
    "version": 3
   },
   "file_extension": ".py",
   "mimetype": "text/x-python",
   "name": "python",
   "nbconvert_exporter": "python",
   "pygments_lexer": "ipython3",
   "version": "3.7.9"
  }
 },
 "nbformat": 4,
 "nbformat_minor": 4
}
