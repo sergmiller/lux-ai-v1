{
 "cells": [
  {
   "cell_type": "code",
   "execution_count": 3,
   "metadata": {},
   "outputs": [],
   "source": [
    "import numpy as np\n",
    "import json\n",
    "import os\n",
    "\n",
    "import subprocess"
   ]
  },
  {
   "cell_type": "code",
   "execution_count": 4,
   "metadata": {},
   "outputs": [],
   "source": [
    "%matplotlib inline\n",
    "%config Completer.use_jedi = False"
   ]
  },
  {
   "cell_type": "code",
   "execution_count": 5,
   "metadata": {},
   "outputs": [
    {
     "name": "stdout",
     "output_type": "stream",
     "text": [
      "b'total 1936\\ndrwxr-xr-x  138 sergmiller  staff   4.3K Nov  6 03:11 errorlogs\\ndrwxr-xr-x  213 sergmiller  staff   6.7K Nov  6 03:11 replays\\n-rw-r--r--    1 sergmiller  staff   965K Nov  6 13:02 research-v1.ipynb\\n'\n"
     ]
    }
   ],
   "source": [
    "import subprocess\n",
    "\n",
    "useless_cat_call = subprocess.run([\"ls\", \"-lh\"], stdout=subprocess.PIPE)\n",
    "print(useless_cat_call.stdout)  # Hello from the other side"
   ]
  },
  {
   "cell_type": "code",
   "execution_count": 12,
   "metadata": {},
   "outputs": [
    {
     "data": {
      "text/plain": [
       "0"
      ]
     },
     "execution_count": 12,
     "metadata": {},
     "output_type": "execute_result"
    }
   ],
   "source": [
    "useless_cat_call.returncode"
   ]
  },
  {
   "cell_type": "code",
   "execution_count": 100,
   "metadata": {},
   "outputs": [],
   "source": [
    "simple_bot = \"../submissions/simple/main.py\"\n",
    "replays = \"replays\"\n",
    "\n",
    "def run_game(left_bot=simple_bot, right_bot=simple_bot, seed=42, loglevel=2):\n",
    "    replay_path = \"replay.json\"\n",
    "    python_v = \"python3.7\"\n",
    "    \n",
    "    replay_path = os.path.join(replays, str(np.random.randint(1e9)) + \".json\")\n",
    "    \n",
    "    size = np.random.choice([12,16,24,32], size=1)[0]\n",
    "    \n",
    "    res = subprocess.run([\n",
    "        \"lux-ai-2021\",\n",
    "        left_bot,\n",
    "        right_bot,\n",
    "#         \"--statefulReplay\",\n",
    "        \"--width={}\".format(size),\n",
    "        \"--height={}\".format(size),\n",
    "        \"--loglevel={}\".format(loglevel),\n",
    "        \"--python={}\".format(python_v),\n",
    "        \"--seed={}\".format(seed),\n",
    "        \"--out={}\".format(replay_path)], stdout=subprocess.PIPE)\n",
    "    \n",
    "    if loglevel > 0:\n",
    "        print(res.stdout.decode())\n",
    "\n",
    "    assert res.returncode == 0\n",
    "\n",
    "    with open(replay_path, \"r\") as f:\n",
    "        result = json.load(f)\n",
    "    return result"
   ]
  },
  {
   "cell_type": "code",
   "execution_count": 48,
   "metadata": {},
   "outputs": [],
   "source": [
    "import hashlib\n",
    "\n",
    "def build_runnable_bot_with_flags(flags: dict, origin = simple_bot, base_path = '../submissions/simple/') -> str:\n",
    "    lines = []\n",
    "    with open(origin, \"r\") as f:\n",
    "        for line in f:\n",
    "            lines.append(line[:-1])\n",
    "    text = '\\n'.join(lines)\n",
    "    f = json.dumps(flags)\n",
    "    text = text.format(f)\n",
    "    h = int(hashlib.sha256(f.encode('utf-8')).hexdigest(), 16) % (10 ** 9)\n",
    "    path = base_path + \"main_\" + f + \".py\"\n",
    "    with open(path, \"w\") as f:\n",
    "        f.write(text)\n",
    "    return path"
   ]
  },
  {
   "cell_type": "code",
   "execution_count": 96,
   "metadata": {},
   "outputs": [],
   "source": [
    "path = build_runnable_bot_with_flags({\"debug\": True})"
   ]
  },
  {
   "cell_type": "code",
   "execution_count": 97,
   "metadata": {},
   "outputs": [
    {
     "data": {
      "text/plain": [
       "'../submissions/simple/main_{\"debug\": true}.py'"
      ]
     },
     "execution_count": 97,
     "metadata": {},
     "output_type": "execute_result"
    }
   ],
   "source": [
    "path"
   ]
  },
  {
   "cell_type": "code",
   "execution_count": 101,
   "metadata": {
    "scrolled": true
   },
   "outputs": [
    {
     "name": "stdout",
     "output_type": "stream",
     "text": [
      "\n",
      "-=-=-=-=-=-=-=-=-=-=-=-| \u001b[34m[INFO]\u001b[39m \u001b[1m\u001b[32mmatch_XQGm5T3Z5jkg\u001b[39m\u001b[22m |-=-=-=-=-=-=-=-=-=-=-=-\n",
      "\n",
      "\u001b[34m[INFO]\u001b[39m (match_XQGm5T3Z5jkg) - Design: lux_ai_2021 | Initializing match - ID: XQGm5T3Z5jkg, Name: match_XQGm5T3Z5jkg\n",
      "\u001b[33m[WARN]\u001b[39m (match_XQGm5T3Z5jkg) - turn 15; Unit u_2 collided when trying to move w to (23, 29)\n",
      "\u001b[33m[WARN]\u001b[39m (match_XQGm5T3Z5jkg) - turn 15; Unit u_4 collided when trying to move s to (23, 29)\n",
      "\u001b[33m[WARN]\u001b[39m (match_XQGm5T3Z5jkg) - turn 21; Unit u_6 collided when trying to move w to (22, 29)\n",
      "\u001b[33m[WARN]\u001b[39m (match_XQGm5T3Z5jkg) - turn 25; Unit u_9 collided when trying to move e to (24, 27)\n",
      "\u001b[33m[WARN]\u001b[39m (match_XQGm5T3Z5jkg) - turn 26; Unit u_10 collided when trying to move n to (21, 28)\n",
      "\u001b[33m[WARN]\u001b[39m (match_XQGm5T3Z5jkg) - turn 28; Unit u_4 collided when trying to move n to (23, 26)\n",
      "\u001b[33m[WARN]\u001b[39m (match_XQGm5T3Z5jkg) - turn 28; Unit u_13 collided when trying to move w to (23, 27)\n",
      "\u001b[33m[WARN]\u001b[39m (match_XQGm5T3Z5jkg) - turn 29; Unit u_5 collided when trying to move n to (8, 27)\n",
      "\u001b[33m[WARN]\u001b[39m (match_XQGm5T3Z5jkg) - turn 29; Unit u_7 collided when trying to move n to (8, 28)\n",
      "\u001b[33m[WARN]\u001b[39m (match_XQGm5T3Z5jkg) - turn 30; Unit u_7 collided when trying to move n to (8, 28)\n",
      "\u001b[33m[WARN]\u001b[39m (match_XQGm5T3Z5jkg) - turn 30; Unit u_8 collided when trying to move s to (8, 28)\n",
      "\u001b[33m[WARN]\u001b[39m (match_XQGm5T3Z5jkg) - turn 30; Unit u_5 collided when trying to move n to (8, 27)\n",
      "\u001b[33m[WARN]\u001b[39m (match_XQGm5T3Z5jkg) - turn 30; Unit u_7 collided when trying to move n to (8, 28)\n",
      "\u001b[33m[WARN]\u001b[39m (match_XQGm5T3Z5jkg) - turn 30; Unit u_8 collided when trying to move s to (8, 28)\n",
      "\u001b[33m[WARN]\u001b[39m (match_XQGm5T3Z5jkg) - turn 31; Unit u_10 collided when trying to move w to (21, 30)\n",
      "\u001b[33m[WARN]\u001b[39m (match_XQGm5T3Z5jkg) - turn 31; Unit u_16 collided when trying to move s to (21, 30)\n",
      "\u001b[33m[WARN]\u001b[39m (match_XQGm5T3Z5jkg) - turn 32; Unit u_7 collided when trying to move n to (8, 28)\n",
      "\u001b[33m[WARN]\u001b[39m (match_XQGm5T3Z5jkg) - turn 34; Unit u_7 collided when trying to move n to (8, 28)\n",
      "\u001b[33m[WARN]\u001b[39m (match_XQGm5T3Z5jkg) - turn 34; Unit u_12 collided when trying to move n to (23, 28)\n",
      "\u001b[33m[WARN]\u001b[39m (match_XQGm5T3Z5jkg) - turn 34; Unit u_16 collided when trying to move e to (23, 29)\n",
      "\u001b[33m[WARN]\u001b[39m (match_XQGm5T3Z5jkg) - turn 35; Unit u_3 collided when trying to move s to (10, 31)\n",
      "\u001b[33m[WARN]\u001b[39m (match_XQGm5T3Z5jkg) - turn 35; Unit u_6 collided when trying to move s to (23, 28)\n",
      "\u001b[33m[WARN]\u001b[39m (match_XQGm5T3Z5jkg) - turn 35; Unit u_13 collided when trying to move w to (23, 27)\n",
      "\u001b[33m[WARN]\u001b[39m (match_XQGm5T3Z5jkg) - turn 35; Unit u_16 collided when trying to move e to (23, 29)\n",
      "\u001b[33m[WARN]\u001b[39m (match_XQGm5T3Z5jkg) - turn 36; Unit u_13 collided when trying to move w to (23, 27)\n",
      "\u001b[33m[WARN]\u001b[39m (match_XQGm5T3Z5jkg) - turn 36; Unit u_16 collided when trying to move e to (23, 29)\n",
      "\u001b[33m[WARN]\u001b[39m (match_XQGm5T3Z5jkg) - turn 37; Unit u_13 collided when trying to move w to (23, 27)\n",
      "\u001b[33m[WARN]\u001b[39m (match_XQGm5T3Z5jkg) - turn 38; Unit u_16 collided when trying to move e to (23, 29)\n",
      "\u001b[33m[WARN]\u001b[39m (match_XQGm5T3Z5jkg) - turn 38; Unit u_17 collided when trying to move s to (23, 27)\n",
      "\u001b[33m[WARN]\u001b[39m (match_XQGm5T3Z5jkg) - turn 41; Unit u_7 collided when trying to move n to (8, 28)\n",
      "\u001b[33m[WARN]\u001b[39m (match_XQGm5T3Z5jkg) - turn 42; Unit u_13 collided when trying to move w to (23, 28)\n",
      "\u001b[33m[WARN]\u001b[39m (match_XQGm5T3Z5jkg) - turn 42; Unit u_16 collided when trying to move n to (23, 28)\n",
      "\u001b[33m[WARN]\u001b[39m (match_XQGm5T3Z5jkg) - turn 43; Unit u_7 collided when trying to move n to (8, 28)\n",
      "\u001b[33m[WARN]\u001b[39m (match_XQGm5T3Z5jkg) - turn 45; Unit u_12 collided when trying to move n to (23, 28)\n",
      "\u001b[33m[WARN]\u001b[39m (match_XQGm5T3Z5jkg) - turn 46; Unit u_2 collided when trying to move s to (20, 28)\n",
      "\u001b[33m[WARN]\u001b[39m (match_XQGm5T3Z5jkg) - turn 46; Unit u_10 collided when trying to move n to (20, 28)\n",
      "\u001b[33m[WARN]\u001b[39m (match_XQGm5T3Z5jkg) - turn 51; Unit u_12 collided when trying to move e to (22, 30)\n",
      "\u001b[33m[WARN]\u001b[39m (match_XQGm5T3Z5jkg) - turn 51; Unit u_13 collided when trying to move w to (20, 29)\n",
      "\u001b[33m[WARN]\u001b[39m (match_XQGm5T3Z5jkg) - turn 51; Unit u_23 collided when trying to move w to (21, 29)\n",
      "\u001b[33m[WARN]\u001b[39m (match_XQGm5T3Z5jkg) - turn 53; Unit u_3 collided when trying to move w to (10, 29)\n",
      "\u001b[33m[WARN]\u001b[39m (match_XQGm5T3Z5jkg) - turn 53; Unit u_8 collided when trying to move n to (10, 29)\n",
      "\u001b[33m[WARN]\u001b[39m (match_XQGm5T3Z5jkg) - turn 53; Unit u_15 collided when trying to move n to (10, 30)\n",
      "\u001b[33m[WARN]\u001b[39m (match_XQGm5T3Z5jkg) - turn 54; Unit u_2 collided when trying to move s to (20, 29)\n",
      "\u001b[33m[WARN]\u001b[39m (match_XQGm5T3Z5jkg) - turn 54; Unit u_23 collided when trying to move w to (20, 29)\n",
      "\u001b[33m[WARN]\u001b[39m (match_XQGm5T3Z5jkg) - turn 54; Unit u_13 collided when trying to move e to (22, 30)\n",
      "\u001b[33m[WARN]\u001b[39m (match_XQGm5T3Z5jkg) - turn 55; Unit u_12 collided when trying to move w to (21, 30)\n",
      "\u001b[33m[WARN]\u001b[39m (match_XQGm5T3Z5jkg) - turn 55; Unit u_23 collided when trying to move s to (21, 30)\n",
      "\u001b[33m[WARN]\u001b[39m (match_XQGm5T3Z5jkg) - turn 55; Unit u_4 collided when trying to move w to (21, 29)\n",
      "\u001b[33m[WARN]\u001b[39m (match_XQGm5T3Z5jkg) - turn 56; Unit u_25 collided when trying to move n to (19, 28)\n",
      "\u001b[33m[WARN]\u001b[39m (match_XQGm5T3Z5jkg) - turn 58; Unit u_22 collided when trying to move n to (12, 27)\n",
      "\u001b[33m[WARN]\u001b[39m (match_XQGm5T3Z5jkg) - turn 58; Unit u_30 collided when trying to move e to (12, 28)\n",
      "\u001b[33m[WARN]\u001b[39m (match_XQGm5T3Z5jkg) - turn 58; Unit u_8 collided when trying to move n to (11, 28)\n",
      "\u001b[33m[WARN]\u001b[39m (match_XQGm5T3Z5jkg) - turn 58; Unit u_14 collided when trying to move e to (11, 29)\n",
      "\u001b[33m[WARN]\u001b[39m (match_XQGm5T3Z5jkg) - turn 58; Unit u_16 collided when trying to move w to (21, 29)\n",
      "\u001b[33m[WARN]\u001b[39m (match_XQGm5T3Z5jkg) - turn 58; Unit u_23 collided when trying to move n to (21, 29)\n",
      "\u001b[33m[WARN]\u001b[39m (match_XQGm5T3Z5jkg) - turn 59; Unit u_14 collided when trying to move e to (11, 29)\n",
      "\u001b[33m[WARN]\u001b[39m (match_XQGm5T3Z5jkg) - turn 59; Unit u_30 collided when trying to move s to (11, 29)\n",
      "\u001b[33m[WARN]\u001b[39m (match_XQGm5T3Z5jkg) - turn 59; Unit u_8 collided when trying to move n to (11, 28)\n",
      "\u001b[33m[WARN]\u001b[39m (match_XQGm5T3Z5jkg) - turn 59; Unit u_14 collided when trying to move e to (11, 29)\n",
      "\u001b[33m[WARN]\u001b[39m (match_XQGm5T3Z5jkg) - turn 59; Unit u_30 collided when trying to move s to (11, 29)\n",
      "\u001b[33m[WARN]\u001b[39m (match_XQGm5T3Z5jkg) - turn 59; Unit u_25 collided when trying to move n to (19, 27)\n",
      "\u001b[33m[WARN]\u001b[39m (match_XQGm5T3Z5jkg) - turn 60; Unit u_5 collided when trying to move s to (12, 28)\n",
      "\u001b[33m[WARN]\u001b[39m (match_XQGm5T3Z5jkg) - turn 60; Unit u_30 collided when trying to move e to (12, 28)\n",
      "\u001b[33m[WARN]\u001b[39m (match_XQGm5T3Z5jkg) - turn 60; Unit u_34 collided when trying to move s to (11, 28)\n",
      "\u001b[33m[WARN]\u001b[39m (match_XQGm5T3Z5jkg) - turn 60; Unit u_4 collided when trying to move e to (21, 29)\n",
      "\u001b[33m[WARN]\u001b[39m (match_XQGm5T3Z5jkg) - turn 61; Unit u_4 collided when trying to move e to (21, 29)\n",
      "\u001b[33m[WARN]\u001b[39m (match_XQGm5T3Z5jkg) - turn 62; Unit u_2 collided when trying to move w to (18, 28)\n",
      "\u001b[33m[WARN]\u001b[39m (match_XQGm5T3Z5jkg) - turn 62; Unit u_23 collided when trying to move w to (20, 29)\n",
      "\u001b[33m[WARN]\u001b[39m (match_XQGm5T3Z5jkg) - turn 62; Unit u_36 collided when trying to move s to (20, 29)\n",
      "\u001b[33m[WARN]\u001b[39m (match_XQGm5T3Z5jkg) - turn 62; Unit u_4 collided when trying to move n to (20, 28)\n",
      "\u001b[33m[WARN]\u001b[39m (match_XQGm5T3Z5jkg) - turn 62; Unit u_23 collided when trying to move w to (20, 29)\n",
      "\u001b[33m[WARN]\u001b[39m (match_XQGm5T3Z5jkg) - turn 62; Unit u_36 collided when trying to move s to (20, 29)\n",
      "\u001b[33m[WARN]\u001b[39m (match_XQGm5T3Z5jkg) - turn 63; Unit u_21 collided when trying to move e to (13, 30)\n",
      "\u001b[33m[WARN]\u001b[39m (match_XQGm5T3Z5jkg) - turn 63; Unit u_29 collided when trying to move e to (12, 30)\n",
      "\u001b[33m[WARN]\u001b[39m (match_XQGm5T3Z5jkg) - turn 63; Unit u_2 collided when trying to move e to (20, 28)\n",
      "\u001b[33m[WARN]\u001b[39m (match_XQGm5T3Z5jkg) - turn 63; Unit u_25 collided when trying to move e to (19, 28)\n",
      "\u001b[33m[WARN]\u001b[39m (match_XQGm5T3Z5jkg) - turn 63; Unit u_36 collided when trying to move w to (19, 28)\n",
      "\u001b[33m[WARN]\u001b[39m (match_XQGm5T3Z5jkg) - turn 63; Unit u_2 collided when trying to move e to (20, 28)\n",
      "\u001b[33m[WARN]\u001b[39m (match_XQGm5T3Z5jkg) - turn 63; Unit u_4 collided when trying to move n to (20, 28)\n",
      "\u001b[33m[WARN]\u001b[39m (match_XQGm5T3Z5jkg) - turn 63; Unit u_4 collided when trying to move n to (20, 28)\n",
      "\u001b[33m[WARN]\u001b[39m (match_XQGm5T3Z5jkg) - turn 64; Unit u_2 collided when trying to move s to (19, 29)\n",
      "\u001b[33m[WARN]\u001b[39m (match_XQGm5T3Z5jkg) - turn 64; Unit u_36 collided when trying to move w to (19, 28)\n",
      "\u001b[33m[WARN]\u001b[39m (match_XQGm5T3Z5jkg) - turn 64; Unit u_41 collided when trying to move w to (20, 28)\n",
      "\u001b[33m[WARN]\u001b[39m (match_XQGm5T3Z5jkg) - turn 64; Unit u_4 collided when trying to move w to (19, 29)\n",
      "\u001b[33m[WARN]\u001b[39m (match_XQGm5T3Z5jkg) - turn 64; Unit u_23 collided when trying to move w to (20, 29)\n",
      "\u001b[33m[WARN]\u001b[39m (match_XQGm5T3Z5jkg) - turn 65; Unit u_19 collided when trying to move n to (11, 28)\n",
      "\u001b[33m[WARN]\u001b[39m (match_XQGm5T3Z5jkg) - turn 65; Unit u_26 collided when trying to move e to (11, 29)\n",
      "\u001b[33m[WARN]\u001b[39m (match_XQGm5T3Z5jkg) - turn 65; Unit u_34 collided when trying to move w to (11, 28)\n",
      "\u001b[33m[WARN]\u001b[39m (match_XQGm5T3Z5jkg) - turn 65; Unit u_2 collided when trying to move s to (19, 29)\n",
      "\u001b[33m[WARN]\u001b[39m (match_XQGm5T3Z5jkg) - turn 65; Unit u_36 collided when trying to move w to (19, 28)\n",
      "\u001b[33m[WARN]\u001b[39m (match_XQGm5T3Z5jkg) - turn 65; Unit u_41 collided when trying to move w to (20, 28)\n",
      "\u001b[33m[WARN]\u001b[39m (match_XQGm5T3Z5jkg) - turn 65; Unit u_4 collided when trying to move w to (19, 29)\n",
      "\u001b[33m[WARN]\u001b[39m (match_XQGm5T3Z5jkg) - turn 65; Unit u_23 collided when trying to move w to (20, 29)\n",
      "\u001b[33m[WARN]\u001b[39m (match_XQGm5T3Z5jkg) - turn 66; Unit u_21 collided when trying to move w to (11, 29)\n",
      "\u001b[33m[WARN]\u001b[39m (match_XQGm5T3Z5jkg) - turn 66; Unit u_29 collided when trying to move n to (12, 29)\n",
      "\u001b[33m[WARN]\u001b[39m (match_XQGm5T3Z5jkg) - turn 66; Unit u_34 collided when trying to move s to (12, 29)\n",
      "\u001b[33m[WARN]\u001b[39m (match_XQGm5T3Z5jkg) - turn 66; Unit u_5 collided when trying to move s to (12, 28)\n",
      "\u001b[33m[WARN]\u001b[39m (match_XQGm5T3Z5jkg) - turn 67; Unit u_21 collided when trying to move w to (11, 29)\n",
      "\u001b[33m[WARN]\u001b[39m (match_XQGm5T3Z5jkg) - turn 67; Unit u_29 collided when trying to move n to (12, 29)\n",
      "\u001b[33m[WARN]\u001b[39m (match_XQGm5T3Z5jkg) - turn 67; Unit u_15 collided when trying to move w to (12, 30)\n",
      "\u001b[33m[WARN]\u001b[39m (match_XQGm5T3Z5jkg) - turn 67; Unit u_34 collided when trying to move s to (12, 29)\n",
      "\u001b[33m[WARN]\u001b[39m (match_XQGm5T3Z5jkg) - turn 67; Unit u_5 collided when trying to move s to (12, 28)\n",
      "\u001b[33m[WARN]\u001b[39m (match_XQGm5T3Z5jkg) - turn 67; Unit u_40 collided when trying to move e to (8, 24)\n",
      "\u001b[33m[WARN]\u001b[39m (match_XQGm5T3Z5jkg) - turn 67; Unit u_6 collided when trying to move n to (24, 23)\n",
      "\u001b[33m[WARN]\u001b[39m (match_XQGm5T3Z5jkg) - turn 67; Unit u_24 collided when trying to move w to (24, 24)\n",
      "\u001b[33m[WARN]\u001b[39m (match_XQGm5T3Z5jkg) - turn 68; Unit u_21 collided when trying to move w to (11, 29)\n",
      "\u001b[33m[WARN]\u001b[39m (match_XQGm5T3Z5jkg) - turn 68; Unit u_29 collided when trying to move n to (12, 29)\n",
      "\u001b[33m[WARN]\u001b[39m (match_XQGm5T3Z5jkg) - turn 68; Unit u_15 collided when trying to move w to (12, 30)\n",
      "\u001b[33m[WARN]\u001b[39m (match_XQGm5T3Z5jkg) - turn 68; Unit u_34 collided when trying to move s to (12, 29)\n",
      "\u001b[33m[WARN]\u001b[39m (match_XQGm5T3Z5jkg) - turn 68; Unit u_5 collided when trying to move s to (12, 28)\n",
      "\u001b[33m[WARN]\u001b[39m (match_XQGm5T3Z5jkg) - turn 68; Unit u_2 collided when trying to move w to (19, 28)\n",
      "\u001b[33m[WARN]\u001b[39m (match_XQGm5T3Z5jkg) - turn 68; Unit u_41 collided when trying to move w to (20, 28)\n",
      "\u001b[33m[WARN]\u001b[39m (match_XQGm5T3Z5jkg) - turn 68; Unit u_4 collided when trying to move n to (19, 28)\n",
      "\u001b[33m[WARN]\u001b[39m (match_XQGm5T3Z5jkg) - turn 68; Unit u_10 collided when trying to move e to (19, 29)\n",
      "\u001b[33m[WARN]\u001b[39m (match_XQGm5T3Z5jkg) - turn 68; Unit u_31 collided when trying to move n to (19, 29)\n",
      "\u001b[33m[WARN]\u001b[39m (match_XQGm5T3Z5jkg) - turn 68; Unit u_43 collided when trying to move n to (19, 30)\n",
      "\u001b[33m[WARN]\u001b[39m (match_XQGm5T3Z5jkg) - turn 68; Unit u_36 collided when trying to move s to (19, 29)\n",
      "\u001b[33m[WARN]\u001b[39m (match_XQGm5T3Z5jkg) - turn 68; Unit u_2 collided when trying to move w to (19, 28)\n",
      "\u001b[33m[WARN]\u001b[39m (match_XQGm5T3Z5jkg) - turn 68; Unit u_4 collided when trying to move n to (19, 28)\n",
      "\u001b[33m[WARN]\u001b[39m (match_XQGm5T3Z5jkg) - turn 69; Unit u_5 collided when trying to move s to (12, 28)\n",
      "\u001b[33m[WARN]\u001b[39m (match_XQGm5T3Z5jkg) - turn 69; Unit u_21 collided when trying to move n to (12, 28)\n",
      "\u001b[33m[WARN]\u001b[39m (match_XQGm5T3Z5jkg) - turn 69; Unit u_29 collided when trying to move n to (12, 29)\n",
      "\u001b[33m[WARN]\u001b[39m (match_XQGm5T3Z5jkg) - turn 69; Unit u_15 collided when trying to move w to (12, 30)\n",
      "\u001b[33m[WARN]\u001b[39m (match_XQGm5T3Z5jkg) - turn 69; Unit u_34 collided when trying to move s to (12, 29)\n",
      "\u001b[33m[WARN]\u001b[39m (match_XQGm5T3Z5jkg) - turn 69; Unit u_5 collided when trying to move s to (12, 28)\n",
      "\u001b[33m[WARN]\u001b[39m (match_XQGm5T3Z5jkg) - turn 69; Unit u_21 collided when trying to move n to (12, 28)\n",
      "\u001b[33m[WARN]\u001b[39m (match_XQGm5T3Z5jkg) - turn 69; Unit u_31 collided when trying to move n to (19, 29)\n",
      "\u001b[33m[WARN]\u001b[39m (match_XQGm5T3Z5jkg) - turn 69; Unit u_4 collided when trying to move s to (19, 30)\n",
      "\u001b[33m[WARN]\u001b[39m (match_XQGm5T3Z5jkg) - turn 69; Unit u_31 collided when trying to move n to (19, 29)\n",
      "\u001b[33m[WARN]\u001b[39m (match_XQGm5T3Z5jkg) - turn 69; Unit u_36 collided when trying to move s to (19, 29)\n",
      "\u001b[33m[WARN]\u001b[39m (match_XQGm5T3Z5jkg) - turn 69; Unit u_2 collided when trying to move w to (19, 28)\n",
      "\u001b[33m[WARN]\u001b[39m (match_XQGm5T3Z5jkg) - turn 69; Unit u_41 collided when trying to move w to (20, 28)\n",
      "\u001b[33m[WARN]\u001b[39m (match_XQGm5T3Z5jkg) - turn 69; Unit u_36 collided when trying to move s to (19, 29)\n",
      "\u001b[33m[WARN]\u001b[39m (match_XQGm5T3Z5jkg) - turn 70; Unit u_21 collided when trying to move n to (12, 28)\n",
      "\u001b[33m[WARN]\u001b[39m (match_XQGm5T3Z5jkg) - turn 70; Unit u_6 collided when trying to move n to (25, 23)\n",
      "\u001b[33m[WARN]\u001b[39m (match_XQGm5T3Z5jkg) - turn 70; Unit u_32 collided when trying to move n to (25, 24)\n",
      "\u001b[33m[WARN]\u001b[39m (match_XQGm5T3Z5jkg) - turn 70; Unit u_42 collided when trying to move e to (25, 24)\n",
      "\u001b[33m[WARN]\u001b[39m (match_XQGm5T3Z5jkg) - turn 70; Unit u_31 collided when trying to move n to (19, 29)\n",
      "\u001b[33m[WARN]\u001b[39m (match_XQGm5T3Z5jkg) - turn 70; Unit u_43 collided when trying to move n to (19, 30)\n",
      "\u001b[33m[WARN]\u001b[39m (match_XQGm5T3Z5jkg) - turn 70; Unit u_36 collided when trying to move s to (19, 29)\n",
      "\u001b[33m[WARN]\u001b[39m (match_XQGm5T3Z5jkg) - turn 70; Unit u_4 collided when trying to move n to (19, 28)\n",
      "\u001b[33m[WARN]\u001b[39m (match_XQGm5T3Z5jkg) - turn 70; Unit u_31 collided when trying to move n to (19, 29)\n",
      "\u001b[33m[WARN]\u001b[39m (match_XQGm5T3Z5jkg) - turn 70; Unit u_36 collided when trying to move s to (19, 29)\n",
      "\u001b[33m[WARN]\u001b[39m (match_XQGm5T3Z5jkg) - turn 71; Unit u_43 collided when trying to move n to (19, 30)\n",
      "\u001b[33m[WARN]\u001b[39m (match_XQGm5T3Z5jkg) - turn 72; Unit u_35 collided when trying to move e to (12, 29)\n",
      "\u001b[33m[WARN]\u001b[39m (match_XQGm5T3Z5jkg) - turn 72; Unit u_43 collided when trying to move n to (19, 30)\n",
      "\u001b[33m[WARN]\u001b[39m (match_XQGm5T3Z5jkg) - turn 73; Unit u_35 collided when trying to move e to (12, 29)\n",
      "\u001b[33m[WARN]\u001b[39m (match_XQGm5T3Z5jkg) - turn 73; Unit u_43 collided when trying to move n to (19, 30)\n",
      "\u001b[33m[WARN]\u001b[39m (match_XQGm5T3Z5jkg) - turn 74; Unit u_35 collided when trying to move e to (12, 29)\n",
      "\u001b[33m[WARN]\u001b[39m (match_XQGm5T3Z5jkg) - turn 74; Unit u_43 collided when trying to move n to (19, 30)\n",
      "\u001b[33m[WARN]\u001b[39m (match_XQGm5T3Z5jkg) - turn 78; Unit u_23 collided when trying to move n to (20, 29)\n",
      "\u001b[33m[WARN]\u001b[39m (match_XQGm5T3Z5jkg) - turn 78; Unit u_27 collided when trying to move s to (20, 29)\n",
      "\u001b[33m[WARN]\u001b[39m (match_XQGm5T3Z5jkg) - turn 78; Unit u_41 collided when trying to move w to (20, 28)\n",
      "\u001b[33m[WARN]\u001b[39m (match_XQGm5T3Z5jkg) - turn 79; Unit u_25 collided when trying to move s to (19, 29)\n",
      "\u001b[33m[WARN]\u001b[39m (match_XQGm5T3Z5jkg) - turn 79; Unit u_36 collided when trying to move s to (19, 28)\n",
      "\u001b[33m[WARN]\u001b[39m (match_XQGm5T3Z5jkg) - turn 79; Unit u_43 collided when trying to move n to (19, 29)\n",
      "\u001b[33m[WARN]\u001b[39m (match_XQGm5T3Z5jkg) - turn 79; Unit u_41 collided when trying to move w to (20, 28)\n",
      "\u001b[33m[WARN]\u001b[39m (match_XQGm5T3Z5jkg) - turn 80; Unit u_6 collided when trying to move e to (25, 25)\n",
      "\u001b[33m[WARN]\u001b[39m (match_XQGm5T3Z5jkg) - turn 80; Unit u_32 collided when trying to move w to (25, 25)\n",
      "\u001b[33m[WARN]\u001b[39m (match_XQGm5T3Z5jkg) - turn 80; Unit u_41 collided when trying to move w to (20, 28)\n",
      "\u001b[33m[WARN]\u001b[39m (match_XQGm5T3Z5jkg) - turn 80; Unit u_46 collided when trying to move e to (19, 28)\n",
      "\u001b[33m[WARN]\u001b[39m (match_XQGm5T3Z5jkg) - turn 81; Unit u_41 collided when trying to move w to (20, 28)\n",
      "\u001b[33m[WARN]\u001b[39m (match_XQGm5T3Z5jkg) - turn 81; Unit u_46 collided when trying to move e to (19, 28)\n",
      "\u001b[33m[WARN]\u001b[39m (match_XQGm5T3Z5jkg) - turn 82; Unit u_41 collided when trying to move w to (20, 28)\n",
      "\u001b[33m[WARN]\u001b[39m (match_XQGm5T3Z5jkg) - turn 84; Unit u_46 collided when trying to move n to (19, 27)\n",
      "\u001b[33m[WARN]\u001b[39m (match_XQGm5T3Z5jkg) - turn 89; Unit u_41 collided when trying to move s to (20, 27)\n",
      "\u001b[33m[WARN]\u001b[39m (match_XQGm5T3Z5jkg) - turn 92; Unit u_31 collided when trying to move n to (19, 25)\n",
      "\u001b[33m[WARN]\u001b[39m (match_XQGm5T3Z5jkg) - turn 92; Unit u_41 collided when trying to move w to (19, 25)\n",
      "\u001b[33m[WARN]\u001b[39m (match_XQGm5T3Z5jkg) - turn 93; Unit u_58 collided when trying to move e to (25, 24)\n",
      "\u001b[33m[WARN]\u001b[39m (match_XQGm5T3Z5jkg) - turn 94; Unit u_6 collided when trying to move n to (24, 24)\n",
      "\u001b[33m[WARN]\u001b[39m (match_XQGm5T3Z5jkg) - turn 94; Unit u_23 collided when trying to move n to (20, 25)\n",
      "\u001b[33m[WARN]\u001b[39m (match_XQGm5T3Z5jkg) - turn 94; Unit u_43 collided when trying to move n to (20, 26)\n",
      "\u001b[33m[WARN]\u001b[39m (match_XQGm5T3Z5jkg) - turn 95; Unit u_2 collided when trying to move n to (20, 27)\n",
      "\u001b[33m[WARN]\u001b[39m (match_XQGm5T3Z5jkg) - turn 95; Unit u_6 collided when trying to move n to (24, 24)\n",
      "\u001b[33m[WARN]\u001b[39m (match_XQGm5T3Z5jkg) - turn 96; Unit u_2 collided when trying to move n to (20, 27)\n",
      "\u001b[33m[WARN]\u001b[39m (match_XQGm5T3Z5jkg) - turn 96; Unit u_6 collided when trying to move n to (24, 24)\n",
      "\u001b[33m[WARN]\u001b[39m (match_XQGm5T3Z5jkg) - turn 97; Unit u_2 collided when trying to move n to (20, 27)\n",
      "\u001b[33m[WARN]\u001b[39m (match_XQGm5T3Z5jkg) - turn 98; Unit u_2 collided when trying to move n to (20, 27)\n",
      "\u001b[33m[WARN]\u001b[39m (match_XQGm5T3Z5jkg) - turn 101; Unit u_64 collided when trying to move e to (3, 25)\n",
      "\u001b[33m[WARN]\u001b[39m (match_XQGm5T3Z5jkg) - turn 101; Unit u_65 collided when trying to move e to (2, 25)\n",
      "\u001b[33m[WARN]\u001b[39m (match_XQGm5T3Z5jkg) - turn 101; Unit u_71 collided when trying to move s to (8, 19)\n",
      "\u001b[33m[WARN]\u001b[39m (match_XQGm5T3Z5jkg) - turn 102; Unit u_64 collided when trying to move e to (3, 25)\n",
      "\u001b[33m[WARN]\u001b[39m (match_XQGm5T3Z5jkg) - turn 103; Unit u_74 collided when trying to move e to (3, 26)\n",
      "\u001b[33m[WARN]\u001b[39m (match_XQGm5T3Z5jkg) - turn 103; Unit u_79 collided when trying to move e to (2, 26)\n",
      "\u001b[33m[WARN]\u001b[39m (match_XQGm5T3Z5jkg) - turn 104; Unit u_69 collided when trying to move s to (9, 19)\n",
      "\u001b[33m[WARN]\u001b[39m (match_XQGm5T3Z5jkg) - turn 104; Unit u_74 collided when trying to move e to (3, 26)\n",
      "\u001b[33m[WARN]\u001b[39m (match_XQGm5T3Z5jkg) - turn 104; Unit u_79 collided when trying to move e to (2, 26)\n",
      "\u001b[33m[WARN]\u001b[39m (match_XQGm5T3Z5jkg) - turn 105; Unit u_74 collided when trying to move e to (3, 26)\n",
      "\u001b[33m[WARN]\u001b[39m (match_XQGm5T3Z5jkg) - turn 105; Unit u_79 collided when trying to move e to (2, 26)\n",
      "\u001b[33m[WARN]\u001b[39m (match_XQGm5T3Z5jkg) - turn 106; Unit u_65 collided when trying to move e to (2, 25)\n",
      "\u001b[33m[WARN]\u001b[39m (match_XQGm5T3Z5jkg) - turn 106; Unit u_74 collided when trying to move e to (3, 26)\n",
      "\u001b[33m[WARN]\u001b[39m (match_XQGm5T3Z5jkg) - turn 106; Unit u_79 collided when trying to move e to (2, 26)\n",
      "\u001b[33m[WARN]\u001b[39m (match_XQGm5T3Z5jkg) - turn 107; Unit u_74 collided when trying to move e to (3, 26)\n",
      "\u001b[33m[WARN]\u001b[39m (match_XQGm5T3Z5jkg) - turn 107; Unit u_79 collided when trying to move e to (2, 26)\n",
      "\u001b[33m[WARN]\u001b[39m (match_XQGm5T3Z5jkg) - turn 108; Unit u_74 collided when trying to move e to (3, 26)\n",
      "\u001b[33m[WARN]\u001b[39m (match_XQGm5T3Z5jkg) - turn 108; Unit u_79 collided when trying to move e to (2, 26)\n",
      "\u001b[33m[WARN]\u001b[39m (match_XQGm5T3Z5jkg) - turn 109; Unit u_64 collided when trying to move e to (6, 25)\n",
      "\u001b[33m[WARN]\u001b[39m (match_XQGm5T3Z5jkg) - turn 109; Unit u_65 collided when trying to move e to (3, 25)\n",
      "\u001b[33m[WARN]\u001b[39m (match_XQGm5T3Z5jkg) - turn 109; Unit u_67 collided when trying to move e to (2, 25)\n",
      "\u001b[33m[WARN]\u001b[39m (match_XQGm5T3Z5jkg) - turn 109; Unit u_68 collided when trying to move w to (9, 17)\n",
      "\u001b[33m[WARN]\u001b[39m (match_XQGm5T3Z5jkg) - turn 109; Unit u_71 collided when trying to move n to (9, 17)\n",
      "\u001b[33m[WARN]\u001b[39m (match_XQGm5T3Z5jkg) - turn 109; Unit u_80 collided when trying to move e to (9, 18)\n",
      "\u001b[33m[WARN]\u001b[39m (match_XQGm5T3Z5jkg) - turn 109; Unit u_74 collided when trying to move e to (3, 26)\n",
      "\u001b[33m[WARN]\u001b[39m (match_XQGm5T3Z5jkg) - turn 109; Unit u_79 collided when trying to move e to (2, 26)\n",
      "\u001b[33m[WARN]\u001b[39m (match_XQGm5T3Z5jkg) - turn 110; Unit u_65 collided when trying to move e to (3, 25)\n",
      "\u001b[33m[WARN]\u001b[39m (match_XQGm5T3Z5jkg) - turn 110; Unit u_74 collided when trying to move e to (3, 26)\n",
      "\u001b[33m[WARN]\u001b[39m (match_XQGm5T3Z5jkg) - turn 110; Unit u_79 collided when trying to move e to (2, 26)\n",
      "\u001b[33m[WARN]\u001b[39m (match_XQGm5T3Z5jkg) - turn 118; Unit u_67 collided when trying to move e to (2, 25)\n",
      "\u001b[33m[WARN]\u001b[39m (match_XQGm5T3Z5jkg) - turn 122; Unit u_80 collided when trying to move w to (9, 17)\n",
      "\u001b[33m[WARN]\u001b[39m (match_XQGm5T3Z5jkg) - turn 124; Unit u_13 collided when trying to move n to (24, 19)\n",
      "\u001b[33m[WARN]\u001b[39m (match_XQGm5T3Z5jkg) - turn 124; Unit u_27 collided when trying to move s to (24, 19)\n",
      "\u001b[33m[WARN]\u001b[39m (match_XQGm5T3Z5jkg) - turn 125; Unit u_13 collided when trying to move n to (24, 19)\n",
      "\u001b[33m[WARN]\u001b[39m (match_XQGm5T3Z5jkg) - turn 125; Unit u_27 collided when trying to move s to (24, 19)\n",
      "\u001b[33m[WARN]\u001b[39m (match_XQGm5T3Z5jkg) - turn 126; Unit u_13 collided when trying to move n to (24, 19)\n",
      "\u001b[33m[WARN]\u001b[39m (match_XQGm5T3Z5jkg) - turn 126; Unit u_27 collided when trying to move s to (24, 19)\n",
      "\u001b[33m[WARN]\u001b[39m (match_XQGm5T3Z5jkg) - turn 127; Unit u_13 collided when trying to move n to (24, 19)\n",
      "\u001b[33m[WARN]\u001b[39m (match_XQGm5T3Z5jkg) - turn 127; Unit u_27 collided when trying to move s to (24, 19)\n",
      "\u001b[33m[WARN]\u001b[39m (match_XQGm5T3Z5jkg) - turn 128; Unit u_20 collided when trying to move n to (9, 16)\n",
      "\u001b[33m[WARN]\u001b[39m (match_XQGm5T3Z5jkg) - turn 129; Unit u_19 collided when trying to move s to (9, 17)\n",
      "\u001b[33m[WARN]\u001b[39m (match_XQGm5T3Z5jkg) - turn 132; Unit u_27 collided when trying to move w to (21, 18)\n",
      "\u001b[33m[WARN]\u001b[39m (match_XQGm5T3Z5jkg) - turn 134; Unit u_26 collided when trying to move n to (10, 15)\n",
      "\u001b[33m[WARN]\u001b[39m (match_XQGm5T3Z5jkg) - turn 135; Unit u_20 collided when trying to move n to (10, 17)\n",
      "\u001b[33m[WARN]\u001b[39m (match_XQGm5T3Z5jkg) - turn 135; Unit u_26 collided when trying to move s to (10, 17)\n",
      "\u001b[33m[WARN]\u001b[39m (match_XQGm5T3Z5jkg) - turn 135; Unit u_19 collided when trying to move s to (10, 16)\n",
      "\u001b[33m[WARN]\u001b[39m (match_XQGm5T3Z5jkg) - turn 136; Unit u_19 collided when trying to move s to (10, 16)\n",
      "\u001b[33m[WARN]\u001b[39m (match_XQGm5T3Z5jkg) - turn 136; Unit u_69 collided when trying to move e to (10, 16)\n",
      "\u001b[33m[WARN]\u001b[39m (match_XQGm5T3Z5jkg) - turn 136; Unit u_26 collided when trying to move w to (9, 16)\n",
      "\u001b[33m[WARN]\u001b[39m (match_XQGm5T3Z5jkg) - turn 136; Unit u_19 collided when trying to move s to (10, 16)\n",
      "\u001b[33m[WARN]\u001b[39m (match_XQGm5T3Z5jkg) - turn 136; Unit u_69 collided when trying to move e to (10, 16)\n",
      "\u001b[33m[WARN]\u001b[39m (match_XQGm5T3Z5jkg) - turn 137; Unit u_26 collided when trying to move w to (9, 16)\n",
      "\u001b[33m[WARN]\u001b[39m (match_XQGm5T3Z5jkg) - turn 137; Unit u_13 collided when trying to move e to (23, 17)\n",
      "\u001b[33m[WARN]\u001b[39m (match_XQGm5T3Z5jkg) - turn 138; Unit u_26 collided when trying to move w to (9, 16)\n",
      "\u001b[33m[WARN]\u001b[39m (match_XQGm5T3Z5jkg) - turn 141; Unit u_109 collided when trying to move n to (22, 17)\n",
      "\u001b[33m[WARN]\u001b[39m (match_XQGm5T3Z5jkg) - turn 142; Unit u_110 collided when trying to move s to (22, 18)\n",
      "\u001b[33m[WARN]\u001b[39m (match_XQGm5T3Z5jkg) - turn 143; Unit u_110 collided when trying to move s to (22, 18)\n",
      "\u001b[33m[WARN]\u001b[39m (match_XQGm5T3Z5jkg) - turn 143; Unit u_16 collided when trying to move e to (22, 17)\n",
      "\u001b[33m[WARN]\u001b[39m (match_XQGm5T3Z5jkg) - turn 143; Unit u_111 collided when trying to move e to (21, 17)\n",
      "\u001b[33m[WARN]\u001b[39m (match_XQGm5T3Z5jkg) - turn 144; Unit u_42 collided when trying to move s to (28, 21)\n",
      "\u001b[33m[WARN]\u001b[39m (match_XQGm5T3Z5jkg) - turn 144; Unit u_110 collided when trying to move s to (22, 18)\n",
      "\u001b[33m[WARN]\u001b[39m (match_XQGm5T3Z5jkg) - turn 145; Unit u_74 collided when trying to move e to (3, 25)\n",
      "\u001b[33m[WARN]\u001b[39m (match_XQGm5T3Z5jkg) - turn 145; Unit u_79 collided when trying to move e to (2, 25)\n",
      "\u001b[33m[WARN]\u001b[39m (match_XQGm5T3Z5jkg) - turn 145; Unit u_13 collided when trying to move w to (21, 16)\n",
      "\u001b[33m[WARN]\u001b[39m (match_XQGm5T3Z5jkg) - turn 145; Unit u_110 collided when trying to move n to (22, 16)\n",
      "\u001b[33m[WARN]\u001b[39m (match_XQGm5T3Z5jkg) - turn 145; Unit u_109 collided when trying to move n to (22, 17)\n",
      "\u001b[33m[WARN]\u001b[39m (match_XQGm5T3Z5jkg) - turn 146; Unit u_74 collided when trying to move e to (3, 25)\n",
      "\u001b[33m[WARN]\u001b[39m (match_XQGm5T3Z5jkg) - turn 147; Unit u_74 collided when trying to move e to (3, 25)\n",
      "\u001b[33m[WARN]\u001b[39m (match_XQGm5T3Z5jkg) - turn 148; Unit u_110 collided when trying to move s to (22, 17)\n",
      "\u001b[33m[WARN]\u001b[39m (match_XQGm5T3Z5jkg) - turn 148; Unit u_111 collided when trying to move w to (20, 16)\n",
      "\u001b[33m[WARN]\u001b[39m (match_XQGm5T3Z5jkg) - turn 149; Unit u_58 collided when trying to move w to (29, 22)\n",
      "\u001b[33m[WARN]\u001b[39m (match_XQGm5T3Z5jkg) - turn 150; Unit u_74 collided when trying to move e to (4, 25)\n",
      "\u001b[33m[WARN]\u001b[39m (match_XQGm5T3Z5jkg) - turn 151; Unit u_13 collided when trying to move n to (22, 15)\n",
      "\u001b[33m[WARN]\u001b[39m (match_XQGm5T3Z5jkg) - turn 151; Unit u_16 collided when trying to move e to (22, 16)\n",
      "\u001b[33m[WARN]\u001b[39m (match_XQGm5T3Z5jkg) - turn 151; Unit u_111 collided when trying to move s to (21, 16)\n",
      "\u001b[33m[WARN]\u001b[39m (match_XQGm5T3Z5jkg) - turn 152; Unit u_32 collided when trying to move n to (28, 21)\n",
      "\u001b[33m[WARN]\u001b[39m (match_XQGm5T3Z5jkg) - turn 152; Unit u_113 collided when trying to move w to (28, 21)\n",
      "\u001b[33m[WARN]\u001b[39m (match_XQGm5T3Z5jkg) - turn 152; Unit u_118 collided when trying to move e to (21, 16)\n",
      "\u001b[33m[WARN]\u001b[39m (match_XQGm5T3Z5jkg) - turn 153; Unit u_6 collided when trying to move n to (29, 21)\n",
      "\u001b[33m[WARN]\u001b[39m (match_XQGm5T3Z5jkg) - turn 153; Unit u_118 collided when trying to move e to (21, 16)\n",
      "\u001b[33m[WARN]\u001b[39m (match_XQGm5T3Z5jkg) - turn 154; Unit u_6 collided when trying to move n to (29, 21)\n",
      "\u001b[33m[WARN]\u001b[39m (match_XQGm5T3Z5jkg) - turn 154; Unit u_109 collided when trying to move n to (21, 16)\n",
      "\u001b[33m[WARN]\u001b[39m (match_XQGm5T3Z5jkg) - turn 155; Unit u_6 collided when trying to move n to (29, 21)\n",
      "\u001b[33m[WARN]\u001b[39m (match_XQGm5T3Z5jkg) - turn 155; Unit u_27 collided when trying to move w to (21, 17)\n",
      "\u001b[33m[WARN]\u001b[39m (match_XQGm5T3Z5jkg) - turn 155; Unit u_110 collided when trying to move s to (22, 16)\n",
      "\u001b[33m[WARN]\u001b[39m (match_XQGm5T3Z5jkg) - turn 156; Unit u_6 collided when trying to move n to (29, 21)\n",
      "\u001b[33m[WARN]\u001b[39m (match_XQGm5T3Z5jkg) - turn 157; Unit u_27 collided when trying to move w to (21, 17)\n",
      "\u001b[33m[WARN]\u001b[39m (match_XQGm5T3Z5jkg) - turn 158; Unit u_27 collided when trying to move w to (21, 17)\n",
      "\u001b[33m[WARN]\u001b[39m (match_XQGm5T3Z5jkg) - turn 160; Unit u_12 collided when trying to move s to (28, 21)\n",
      "\u001b[33m[WARN]\u001b[39m (match_XQGm5T3Z5jkg) - turn 160; Unit u_42 collided when trying to move e to (28, 20)\n",
      "\u001b[33m[WARN]\u001b[39m (match_XQGm5T3Z5jkg) - turn 160; Unit u_111 collided when trying to move e to (22, 15)\n",
      "\u001b[33m[WARN]\u001b[39m (match_XQGm5T3Z5jkg) - turn 161; Unit u_6 collided when trying to move w to (28, 21)\n",
      "\u001b[33m[WARN]\u001b[39m (match_XQGm5T3Z5jkg) - turn 161; Unit u_58 collided when trying to move n to (29, 21)\n",
      "\u001b[33m[WARN]\u001b[39m (match_XQGm5T3Z5jkg) - turn 161; Unit u_12 collided when trying to move s to (28, 21)\n",
      "\u001b[33m[WARN]\u001b[39m (match_XQGm5T3Z5jkg) - turn 161; Unit u_42 collided when trying to move e to (28, 20)\n",
      "\u001b[33m[WARN]\u001b[39m (match_XQGm5T3Z5jkg) - turn 162; Unit u_6 collided when trying to move w to (28, 21)\n",
      "\u001b[33m[WARN]\u001b[39m (match_XQGm5T3Z5jkg) - turn 162; Unit u_58 collided when trying to move n to (29, 21)\n",
      "\u001b[33m[WARN]\u001b[39m (match_XQGm5T3Z5jkg) - turn 162; Unit u_12 collided when trying to move s to (28, 21)\n",
      "\u001b[33m[WARN]\u001b[39m (match_XQGm5T3Z5jkg) - turn 162; Unit u_42 collided when trying to move e to (28, 20)\n",
      "\u001b[33m[WARN]\u001b[39m (match_XQGm5T3Z5jkg) - turn 165; Unit u_58 collided when trying to move e to (30, 21)\n",
      "\u001b[33m[WARN]\u001b[39m (match_XQGm5T3Z5jkg) - turn 165; Unit u_113 collided when trying to move n to (29, 21)\n",
      "\u001b[33m[WARN]\u001b[39m (match_XQGm5T3Z5jkg) - turn 167; Unit u_12 collided when trying to move e to (29, 20)\n",
      "\u001b[33m[WARN]\u001b[39m (match_XQGm5T3Z5jkg) - turn 167; Unit u_32 collided when trying to move n to (28, 20)\n",
      "\u001b[33m[WARN]\u001b[39m (match_XQGm5T3Z5jkg) - turn 168; Unit u_79 collided when trying to move e to (4, 25)\n",
      "\u001b[33m[WARN]\u001b[39m (match_XQGm5T3Z5jkg) - turn 168; Unit u_12 collided when trying to move e to (29, 20)\n",
      "\u001b[33m[WARN]\u001b[39m (match_XQGm5T3Z5jkg) - turn 168; Unit u_32 collided when trying to move n to (28, 20)\n",
      "\u001b[33m[WARN]\u001b[39m (match_XQGm5T3Z5jkg) - turn 168; Unit u_113 collided when trying to move n to (29, 20)\n",
      "\u001b[33m[WARN]\u001b[39m (match_XQGm5T3Z5jkg) - turn 168; Unit u_58 collided when trying to move s to (29, 21)\n",
      "\u001b[33m[WARN]\u001b[39m (match_XQGm5T3Z5jkg) - turn 168; Unit u_12 collided when trying to move e to (29, 20)\n",
      "\u001b[33m[WARN]\u001b[39m (match_XQGm5T3Z5jkg) - turn 168; Unit u_113 collided when trying to move n to (29, 20)\n",
      "\u001b[33m[WARN]\u001b[39m (match_XQGm5T3Z5jkg) - turn 169; Unit u_32 collided when trying to move n to (28, 20)\n",
      "\u001b[33m[WARN]\u001b[39m (match_XQGm5T3Z5jkg) - turn 171; Unit u_79 collided when trying to move e to (5, 25)\n",
      "\u001b[33m[WARN]\u001b[39m (match_XQGm5T3Z5jkg) - turn 173; Unit u_6 collided when trying to move n to (29, 19)\n",
      "\u001b[33m[WARN]\u001b[39m (match_XQGm5T3Z5jkg) - turn 178; Unit u_141 collided when trying to move w to (13, 14)\n",
      "\u001b[33m[WARN]\u001b[39m (match_XQGm5T3Z5jkg) - turn 178; Unit u_139 collided when trying to move s to (23, 11)\n",
      "\u001b[33m[WARN]\u001b[39m (match_XQGm5T3Z5jkg) - turn 179; Unit u_135 collided when trying to move e to (2, 25)\n",
      "\u001b[33m[WARN]\u001b[39m (match_XQGm5T3Z5jkg) - turn 179; Unit u_112 collided when trying to move e to (18, 14)\n",
      "\u001b[33m[WARN]\u001b[39m (match_XQGm5T3Z5jkg) - turn 179; Unit u_139 collided when trying to move s to (23, 11)\n",
      "\u001b[33m[WARN]\u001b[39m (match_XQGm5T3Z5jkg) - turn 180; Unit u_112 collided when trying to move e to (18, 14)\n",
      "\u001b[33m[WARN]\u001b[39m (match_XQGm5T3Z5jkg) - turn 181; Unit u_110 collided when trying to move e to (19, 14)\n",
      "\u001b[33m[WARN]\u001b[39m (match_XQGm5T3Z5jkg) - turn 181; Unit u_112 collided when trying to move e to (18, 14)\n",
      "\u001b[33m[WARN]\u001b[39m (match_XQGm5T3Z5jkg) - turn 182; Unit u_137 collided when trying to move e to (7, 21)\n",
      "\u001b[33m[WARN]\u001b[39m (match_XQGm5T3Z5jkg) - turn 182; Unit u_142 collided when trying to move n to (4, 19)\n",
      "\u001b[33m[WARN]\u001b[39m (match_XQGm5T3Z5jkg) - turn 182; Unit u_110 collided when trying to move e to (19, 14)\n",
      "\u001b[33m[WARN]\u001b[39m (match_XQGm5T3Z5jkg) - turn 182; Unit u_112 collided when trying to move e to (18, 14)\n",
      "\u001b[33m[WARN]\u001b[39m (match_XQGm5T3Z5jkg) - turn 182; Unit u_139 collided when trying to move s to (23, 12)\n",
      "\u001b[33m[WARN]\u001b[39m (match_XQGm5T3Z5jkg) - turn 182; Unit u_115 collided when trying to move s to (23, 11)\n",
      "\u001b[33m[WARN]\u001b[39m (match_XQGm5T3Z5jkg) - turn 183; Unit u_142 collided when trying to move n to (4, 19)\n",
      "\u001b[33m[WARN]\u001b[39m (match_XQGm5T3Z5jkg) - turn 183; Unit u_145 collided when trying to move w to (4, 20)\n",
      "\u001b[33m[WARN]\u001b[39m (match_XQGm5T3Z5jkg) - turn 183; Unit u_110 collided when trying to move e to (19, 14)\n",
      "\u001b[33m[WARN]\u001b[39m (match_XQGm5T3Z5jkg) - turn 183; Unit u_112 collided when trying to move e to (18, 14)\n",
      "\u001b[33m[WARN]\u001b[39m (match_XQGm5T3Z5jkg) - turn 184; Unit u_110 collided when trying to move e to (19, 14)\n",
      "\u001b[33m[WARN]\u001b[39m (match_XQGm5T3Z5jkg) - turn 184; Unit u_112 collided when trying to move e to (18, 14)\n",
      "\u001b[33m[WARN]\u001b[39m (match_XQGm5T3Z5jkg) - turn 184; Unit u_111 collided when trying to move e to (20, 15)\n",
      "\u001b[33m[WARN]\u001b[39m (match_XQGm5T3Z5jkg) - turn 185; Unit u_110 collided when trying to move e to (19, 14)\n",
      "\u001b[33m[WARN]\u001b[39m (match_XQGm5T3Z5jkg) - turn 185; Unit u_112 collided when trying to move e to (18, 14)\n",
      "\u001b[33m[WARN]\u001b[39m (match_XQGm5T3Z5jkg) - turn 185; Unit u_111 collided when trying to move e to (20, 15)\n",
      "\u001b[33m[WARN]\u001b[39m (match_XQGm5T3Z5jkg) - turn 185; Unit u_113 collided when trying to move n to (31, 22)\n",
      "\u001b[33m[WARN]\u001b[39m (match_XQGm5T3Z5jkg) - turn 185; Unit u_139 collided when trying to move s to (23, 13)\n",
      "\u001b[33m[WARN]\u001b[39m (match_XQGm5T3Z5jkg) - turn 186; Unit u_74 collided when trying to move e to (3, 25)\n",
      "\u001b[33m[WARN]\u001b[39m (match_XQGm5T3Z5jkg) - turn 186; Unit u_110 collided when trying to move e to (19, 14)\n",
      "\u001b[33m[WARN]\u001b[39m (match_XQGm5T3Z5jkg) - turn 186; Unit u_112 collided when trying to move e to (18, 14)\n",
      "\u001b[33m[WARN]\u001b[39m (match_XQGm5T3Z5jkg) - turn 186; Unit u_111 collided when trying to move e to (20, 15)\n",
      "\u001b[33m[WARN]\u001b[39m (match_XQGm5T3Z5jkg) - turn 187; Unit u_141 collided when trying to move w to (14, 15)\n",
      "\u001b[33m[WARN]\u001b[39m (match_XQGm5T3Z5jkg) - turn 187; Unit u_12 collided when trying to move s to (30, 17)\n",
      "\u001b[33m[WARN]\u001b[39m (match_XQGm5T3Z5jkg) - turn 187; Unit u_110 collided when trying to move e to (19, 14)\n",
      "\u001b[33m[WARN]\u001b[39m (match_XQGm5T3Z5jkg) - turn 187; Unit u_112 collided when trying to move e to (18, 14)\n",
      "\u001b[33m[WARN]\u001b[39m (match_XQGm5T3Z5jkg) - turn 187; Unit u_111 collided when trying to move e to (20, 15)\n",
      "\u001b[33m[WARN]\u001b[39m (match_XQGm5T3Z5jkg) - turn 188; Unit u_110 collided when trying to move e to (19, 14)\n",
      "\u001b[33m[WARN]\u001b[39m (match_XQGm5T3Z5jkg) - turn 188; Unit u_112 collided when trying to move e to (18, 14)\n",
      "\u001b[33m[WARN]\u001b[39m (match_XQGm5T3Z5jkg) - turn 188; Unit u_111 collided when trying to move e to (20, 15)\n",
      "\u001b[33m[WARN]\u001b[39m (match_XQGm5T3Z5jkg) - turn 189; Unit u_110 collided when trying to move e to (19, 14)\n",
      "\u001b[33m[WARN]\u001b[39m (match_XQGm5T3Z5jkg) - turn 189; Unit u_112 collided when trying to move e to (18, 14)\n",
      "\u001b[33m[WARN]\u001b[39m (match_XQGm5T3Z5jkg) - turn 189; Unit u_111 collided when trying to move e to (20, 15)\n",
      "\u001b[33m[WARN]\u001b[39m (match_XQGm5T3Z5jkg) - turn 190; Unit u_135 collided when trying to move e to (1, 25)\n",
      "\u001b[33m[WARN]\u001b[39m (match_XQGm5T3Z5jkg) - turn 190; Unit u_110 collided when trying to move e to (19, 14)\n",
      "\u001b[33m[WARN]\u001b[39m (match_XQGm5T3Z5jkg) - turn 190; Unit u_112 collided when trying to move e to (18, 14)\n",
      "\u001b[33m[WARN]\u001b[39m (match_XQGm5T3Z5jkg) - turn 190; Unit u_111 collided when trying to move e to (20, 15)\n",
      "\u001b[33m[WARN]\u001b[39m (match_XQGm5T3Z5jkg) - turn 191; Unit u_113 collided when trying to move e to (31, 21)\n",
      "\u001b[33m[WARN]\u001b[39m (match_XQGm5T3Z5jkg) - turn 191; Unit u_144 collided when trying to move n to (31, 21)\n",
      "\u001b[33m[WARN]\u001b[39m (match_XQGm5T3Z5jkg) - turn 205; Unit u_174 collided when trying to move w to (23, 9)\n",
      "\u001b[33m[WARN]\u001b[39m (match_XQGm5T3Z5jkg) - turn 209; Unit u_176 collided when trying to move n to (31, 23)\n",
      "\u001b[33m[WARN]\u001b[39m (match_XQGm5T3Z5jkg) - turn 212; Unit u_176 collided when trying to move n to (31, 22)\n",
      "\u001b[33m[WARN]\u001b[39m (match_XQGm5T3Z5jkg) - turn 212; Unit u_178 collided when trying to move n to (31, 23)\n",
      "\u001b[33m[WARN]\u001b[39m (match_XQGm5T3Z5jkg) - turn 212; Unit u_177 collided when trying to move s to (30, 17)\n",
      "\u001b[33m[WARN]\u001b[39m (match_XQGm5T3Z5jkg) - turn 216; Unit u_142 collided when trying to move e to (11, 24)\n",
      "\u001b[33m[WARN]\u001b[39m (match_XQGm5T3Z5jkg) - turn 216; Unit u_143 collided when trying to move s to (11, 24)\n",
      "\u001b[33m[WARN]\u001b[39m (match_XQGm5T3Z5jkg) - turn 218; Unit u_141 collided when trying to move w to (11, 24)\n",
      "\u001b[33m[WARN]\u001b[39m (match_XQGm5T3Z5jkg) - turn 218; Unit u_181 collided when trying to move w to (25, 7)\n",
      "\u001b[33m[WARN]\u001b[39m (match_XQGm5T3Z5jkg) - turn 219; Unit u_178 collided when trying to move n to (31, 22)\n",
      "\u001b[33m[WARN]\u001b[39m (match_XQGm5T3Z5jkg) - turn 219; Unit u_179 collided when trying to move n to (31, 23)\n",
      "\u001b[33m[WARN]\u001b[39m (match_XQGm5T3Z5jkg) - turn 220; Unit u_178 collided when trying to move n to (31, 22)\n",
      "\u001b[33m[WARN]\u001b[39m (match_XQGm5T3Z5jkg) - turn 224; Unit u_79 collided when trying to move e to (2, 26)\n",
      "\u001b[33m[WARN]\u001b[39m (match_XQGm5T3Z5jkg) - turn 226; Unit u_181 collided when trying to move s to (25, 8)\n",
      "\u001b[33m[WARN]\u001b[39m (match_XQGm5T3Z5jkg) - turn 229; Unit u_182 collided when trying to move s to (27, 10)\n",
      "\u001b[33m[WARN]\u001b[39m (match_XQGm5T3Z5jkg) - turn 229; Unit u_186 collided when trying to move e to (27, 9)\n",
      "\u001b[33m[WARN]\u001b[39m (match_XQGm5T3Z5jkg) - turn 229; Unit u_184 collided when trying to move n to (31, 23)\n",
      "\u001b[33m[WARN]\u001b[39m (match_XQGm5T3Z5jkg) - turn 230; Unit u_183 collided when trying to move s to (29, 16)\n",
      "\u001b[33m[WARN]\u001b[39m (match_XQGm5T3Z5jkg) - turn 231; Unit u_57 collided when trying to move c to (3, 21)\n",
      "\u001b[33m[WARN]\u001b[39m (match_XQGm5T3Z5jkg) - turn 231; Unit u_57 collided when trying to move c to (3, 21)\n",
      "\u001b[33m[WARN]\u001b[39m (match_XQGm5T3Z5jkg) - turn 231; Unit u_138 collided when trying to move s to (3, 21)\n",
      "\u001b[33m[WARN]\u001b[39m (match_XQGm5T3Z5jkg) - turn 231; Unit u_138 collided when trying to move s to (3, 21)\n",
      "\u001b[33m[WARN]\u001b[39m (match_XQGm5T3Z5jkg) - turn 231; Unit u_13 collided when trying to move c to (26, 7)\n",
      "\u001b[33m[WARN]\u001b[39m (match_XQGm5T3Z5jkg) - turn 231; Unit u_13 collided when trying to move c to (26, 7)\n",
      "\u001b[33m[WARN]\u001b[39m (match_XQGm5T3Z5jkg) - turn 231; Unit u_112 collided when trying to move e to (26, 7)\n",
      "\u001b[33m[WARN]\u001b[39m (match_XQGm5T3Z5jkg) - turn 231; Unit u_112 collided when trying to move e to (26, 7)\n",
      "\u001b[33m[WARN]\u001b[39m (match_XQGm5T3Z5jkg) - turn 231; Unit u_183 collided when trying to move s to (29, 16)\n",
      "\u001b[33m[WARN]\u001b[39m (match_XQGm5T3Z5jkg) - turn 232; Unit u_57 collided when trying to move n to (3, 20)\n",
      "\u001b[33m[WARN]\u001b[39m (match_XQGm5T3Z5jkg) - turn 232; Unit u_183 collided when trying to move s to (29, 16)\n",
      "\u001b[33m[WARN]\u001b[39m (match_XQGm5T3Z5jkg) - turn 233; Unit u_183 collided when trying to move s to (29, 16)\n",
      "\u001b[33m[WARN]\u001b[39m (match_XQGm5T3Z5jkg) - turn 234; Unit u_115 collided when trying to move n to (26, 8)\n",
      "\u001b[33m[WARN]\u001b[39m (match_XQGm5T3Z5jkg) - turn 234; Unit u_184 collided when trying to move n to (31, 24)\n",
      "\u001b[33m[WARN]\u001b[39m (match_XQGm5T3Z5jkg) - turn 235; Unit u_110 collided when trying to move s to (26, 9)\n",
      "\u001b[33m[WARN]\u001b[39m (match_XQGm5T3Z5jkg) - turn 235; Unit u_186 collided when trying to move w to (26, 9)\n",
      "\u001b[33m[WARN]\u001b[39m (match_XQGm5T3Z5jkg) - turn 235; Unit u_189 collided when trying to move s to (27, 9)\n",
      "\u001b[33m[WARN]\u001b[39m (match_XQGm5T3Z5jkg) - turn 235; Unit u_184 collided when trying to move n to (31, 24)\n",
      "\u001b[33m[WARN]\u001b[39m (match_XQGm5T3Z5jkg) - turn 236; Unit u_184 collided when trying to move n to (31, 24)\n",
      "\u001b[33m[WARN]\u001b[39m (match_XQGm5T3Z5jkg) - turn 236; Unit u_189 collided when trying to move s to (27, 9)\n",
      "\u001b[33m[WARN]\u001b[39m (match_XQGm5T3Z5jkg) - turn 237; Unit u_184 collided when trying to move n to (31, 24)\n",
      "\u001b[33m[WARN]\u001b[39m (match_XQGm5T3Z5jkg) - turn 237; Unit u_189 collided when trying to move w to (26, 8)\n",
      "\u001b[33m[WARN]\u001b[39m (match_XQGm5T3Z5jkg) - turn 238; Unit u_179 collided when trying to move n to (31, 23)\n",
      "\u001b[33m[WARN]\u001b[39m (match_XQGm5T3Z5jkg) - turn 238; Unit u_184 collided when trying to move n to (31, 24)\n",
      "\u001b[33m[WARN]\u001b[39m (match_XQGm5T3Z5jkg) - turn 238; Unit u_182 collided when trying to move w to (27, 9)\n",
      "\u001b[33m[WARN]\u001b[39m (match_XQGm5T3Z5jkg) - turn 238; Unit u_189 collided when trying to move w to (26, 8)\n",
      "\u001b[33m[WARN]\u001b[39m (match_XQGm5T3Z5jkg) - turn 239; Unit u_115 collided when trying to move e to (27, 9)\n",
      "\u001b[33m[WARN]\u001b[39m (match_XQGm5T3Z5jkg) - turn 239; Unit u_189 collided when trying to move w to (26, 8)\n",
      "\u001b[33m[WARN]\u001b[39m (match_XQGm5T3Z5jkg) - turn 240; Unit u_186 collided when trying to move w to (26, 9)\n",
      "\u001b[33m[WARN]\u001b[39m (match_XQGm5T3Z5jkg) - turn 241; Unit u_193 collided when trying to move n to (3, 19)\n",
      "\u001b[33m[WARN]\u001b[39m (match_XQGm5T3Z5jkg) - turn 241; Unit u_186 collided when trying to move w to (26, 9)\n",
      "\u001b[33m[WARN]\u001b[39m (match_XQGm5T3Z5jkg) - turn 242; Unit u_13 collided when trying to move s to (26, 8)\n",
      "\u001b[33m[WARN]\u001b[39m (match_XQGm5T3Z5jkg) - turn 242; Unit u_112 collided when trying to move s to (26, 7)\n",
      "\u001b[33m[WARN]\u001b[39m (match_XQGm5T3Z5jkg) - turn 242; Unit u_194 collided when trying to move e to (26, 7)\n",
      "\u001b[33m[WARN]\u001b[39m (match_XQGm5T3Z5jkg) - turn 242; Unit u_207 collided when trying to move n to (25, 7)\n",
      "\u001b[33m[WARN]\u001b[39m (match_XQGm5T3Z5jkg) - turn 242; Unit u_110 collided when trying to move w to (26, 8)\n",
      "\u001b[33m[WARN]\u001b[39m (match_XQGm5T3Z5jkg) - turn 243; Unit u_13 collided when trying to move s to (26, 8)\n",
      "\u001b[33m[WARN]\u001b[39m (match_XQGm5T3Z5jkg) - turn 243; Unit u_110 collided when trying to move w to (26, 8)\n",
      "\u001b[33m[WARN]\u001b[39m (match_XQGm5T3Z5jkg) - turn 243; Unit u_207 collided when trying to move n to (25, 7)\n",
      "\u001b[33m[WARN]\u001b[39m (match_XQGm5T3Z5jkg) - turn 244; Unit u_57 collided when trying to move n to (3, 20)\n",
      "\u001b[33m[WARN]\u001b[39m (match_XQGm5T3Z5jkg) - turn 244; Unit u_188 collided when trying to move e to (3, 20)\n",
      "\u001b[33m[WARN]\u001b[39m (match_XQGm5T3Z5jkg) - turn 249; Unit u_193 collided when trying to move n to (3, 20)\n",
      "\u001b[33m[WARN]\u001b[39m (match_XQGm5T3Z5jkg) - turn 250; Unit u_138 collided when trying to move w to (2, 20)\n",
      "\u001b[33m[WARN]\u001b[39m (match_XQGm5T3Z5jkg) - turn 250; Unit u_193 collided when trying to move n to (3, 20)\n",
      "\u001b[33m[WARN]\u001b[39m (match_XQGm5T3Z5jkg) - turn 250; Unit u_186 collided when trying to move w to (26, 8)\n",
      "\u001b[33m[WARN]\u001b[39m (match_XQGm5T3Z5jkg) - turn 250; Unit u_211 collided when trying to move w to (27, 8)\n",
      "\u001b[33m[WARN]\u001b[39m (match_XQGm5T3Z5jkg) - turn 252; Unit u_112 collided when trying to move s to (27, 8)\n",
      "\u001b[33m[WARN]\u001b[39m (match_XQGm5T3Z5jkg) - turn 252; Unit u_174 collided when trying to move s to (27, 7)\n",
      "\u001b[33m[WARN]\u001b[39m (match_XQGm5T3Z5jkg) - turn 253; Unit u_174 collided when trying to move s to (27, 7)\n",
      "\u001b[33m[WARN]\u001b[39m (match_XQGm5T3Z5jkg) - turn 254; Unit u_145 collided when trying to move s to (2, 20)\n",
      "\u001b[33m[WARN]\u001b[39m (match_XQGm5T3Z5jkg) - turn 254; Unit u_188 collided when trying to move w to (2, 20)\n",
      "\u001b[33m[WARN]\u001b[39m (match_XQGm5T3Z5jkg) - turn 254; Unit u_179 collided when trying to move n to (31, 24)\n",
      "\u001b[33m[WARN]\u001b[39m (match_XQGm5T3Z5jkg) - turn 255; Unit u_138 collided when trying to move n to (2, 20)\n",
      "\u001b[33m[WARN]\u001b[39m (match_XQGm5T3Z5jkg) - turn 255; Unit u_193 collided when trying to move w to (2, 21)\n",
      "\u001b[33m[WARN]\u001b[39m (match_XQGm5T3Z5jkg) - turn 255; Unit u_220 collided when trying to move w to (3, 21)\n",
      "\u001b[33m[WARN]\u001b[39m (match_XQGm5T3Z5jkg) - turn 255; Unit u_188 collided when trying to move w to (2, 20)\n",
      "\u001b[33m[WARN]\u001b[39m (match_XQGm5T3Z5jkg) - turn 255; Unit u_210 collided when trying to move w to (30, 24)\n",
      "\u001b[33m[WARN]\u001b[39m (match_XQGm5T3Z5jkg) - turn 255; Unit u_214 collided when trying to move s to (31, 24)\n",
      "\u001b[33m[WARN]\u001b[39m (match_XQGm5T3Z5jkg) - turn 256; Unit u_180 collided when trying to move s to (31, 23)\n",
      "\u001b[33m[WARN]\u001b[39m (match_XQGm5T3Z5jkg) - turn 256; Unit u_184 collided when trying to move s to (31, 22)\n",
      "\u001b[33m[WARN]\u001b[39m (match_XQGm5T3Z5jkg) - turn 256; Unit u_208 collided when trying to move w to (28, 15)\n",
      "\u001b[33m[WARN]\u001b[39m (match_XQGm5T3Z5jkg) - turn 256; Unit u_212 collided when trying to move n to (29, 15)\n",
      "\u001b[33m[WARN]\u001b[39m (match_XQGm5T3Z5jkg) - turn 257; Unit u_180 collided when trying to move s to (31, 23)\n",
      "\u001b[33m[WARN]\u001b[39m (match_XQGm5T3Z5jkg) - turn 257; Unit u_184 collided when trying to move s to (31, 22)\n",
      "\u001b[33m[WARN]\u001b[39m (match_XQGm5T3Z5jkg) - turn 258; Unit u_145 collided when trying to move s to (2, 20)\n",
      "\u001b[33m[WARN]\u001b[39m (match_XQGm5T3Z5jkg) - turn 258; Unit u_218 collided when trying to move n to (2, 20)\n",
      "\u001b[33m[WARN]\u001b[39m (match_XQGm5T3Z5jkg) - turn 258; Unit u_188 collided when trying to move w to (2, 21)\n",
      "\u001b[33m[WARN]\u001b[39m (match_XQGm5T3Z5jkg) - turn 258; Unit u_193 collided when trying to move s to (3, 21)\n",
      "\u001b[33m[WARN]\u001b[39m (match_XQGm5T3Z5jkg) - turn 258; Unit u_138 collided when trying to move e to (3, 20)\n",
      "\u001b[33m[WARN]\u001b[39m (match_XQGm5T3Z5jkg) - turn 258; Unit u_145 collided when trying to move s to (2, 20)\n",
      "\u001b[33m[WARN]\u001b[39m (match_XQGm5T3Z5jkg) - turn 258; Unit u_218 collided when trying to move n to (2, 20)\n",
      "\u001b[33m[WARN]\u001b[39m (match_XQGm5T3Z5jkg) - turn 258; Unit u_180 collided when trying to move s to (31, 23)\n",
      "\u001b[33m[WARN]\u001b[39m (match_XQGm5T3Z5jkg) - turn 258; Unit u_184 collided when trying to move s to (31, 22)\n",
      "\u001b[33m[WARN]\u001b[39m (match_XQGm5T3Z5jkg) - turn 258; Unit u_210 collided when trying to move n to (31, 24)\n",
      "\u001b[33m[WARN]\u001b[39m (match_XQGm5T3Z5jkg) - turn 259; Unit u_193 collided when trying to move w to (2, 20)\n",
      "\u001b[33m[WARN]\u001b[39m (match_XQGm5T3Z5jkg) - turn 259; Unit u_138 collided when trying to move e to (3, 20)\n",
      "\u001b[33m[WARN]\u001b[39m (match_XQGm5T3Z5jkg) - turn 259; Unit u_193 collided when trying to move w to (2, 20)\n",
      "\u001b[33m[WARN]\u001b[39m (match_XQGm5T3Z5jkg) - turn 259; Unit u_218 collided when trying to move n to (2, 20)\n",
      "\u001b[33m[WARN]\u001b[39m (match_XQGm5T3Z5jkg) - turn 259; Unit u_188 collided when trying to move w to (2, 21)\n",
      "\u001b[33m[WARN]\u001b[39m (match_XQGm5T3Z5jkg) - turn 259; Unit u_220 collided when trying to move w to (3, 21)\n",
      "\u001b[33m[WARN]\u001b[39m (match_XQGm5T3Z5jkg) - turn 259; Unit u_218 collided when trying to move n to (2, 20)\n",
      "\u001b[33m[WARN]\u001b[39m (match_XQGm5T3Z5jkg) - turn 259; Unit u_180 collided when trying to move s to (31, 23)\n",
      "\u001b[33m[WARN]\u001b[39m (match_XQGm5T3Z5jkg) - turn 259; Unit u_184 collided when trying to move s to (31, 22)\n",
      "\u001b[33m[WARN]\u001b[39m (match_XQGm5T3Z5jkg) - turn 260; Unit u_193 collided when trying to move s to (3, 21)\n",
      "\u001b[33m[WARN]\u001b[39m (match_XQGm5T3Z5jkg) - turn 260; Unit u_138 collided when trying to move e to (3, 20)\n",
      "\u001b[33m[WARN]\u001b[39m (match_XQGm5T3Z5jkg) - turn 260; Unit u_218 collided when trying to move e to (3, 21)\n",
      "\u001b[33m[WARN]\u001b[39m (match_XQGm5T3Z5jkg) - turn 260; Unit u_179 collided when trying to move s to (31, 25)\n",
      "\u001b[33m[WARN]\u001b[39m (match_XQGm5T3Z5jkg) - turn 260; Unit u_214 collided when trying to move s to (31, 24)\n",
      "\u001b[33m[WARN]\u001b[39m (match_XQGm5T3Z5jkg) - turn 260; Unit u_180 collided when trying to move s to (31, 23)\n",
      "\u001b[33m[WARN]\u001b[39m (match_XQGm5T3Z5jkg) - turn 260; Unit u_184 collided when trying to move s to (31, 22)\n",
      "\u001b[33m[WARN]\u001b[39m (match_XQGm5T3Z5jkg) - turn 261; Unit u_145 collided when trying to move s to (2, 20)\n",
      "\u001b[33m[WARN]\u001b[39m (match_XQGm5T3Z5jkg) - turn 261; Unit u_193 collided when trying to move w to (2, 20)\n",
      "\u001b[33m[WARN]\u001b[39m (match_XQGm5T3Z5jkg) - turn 261; Unit u_188 collided when trying to move n to (3, 20)\n",
      "\u001b[33m[WARN]\u001b[39m (match_XQGm5T3Z5jkg) - turn 261; Unit u_218 collided when trying to move n to (2, 20)\n",
      "\u001b[33m[WARN]\u001b[39m (match_XQGm5T3Z5jkg) - turn 261; Unit u_138 collided when trying to move s to (2, 21)\n",
      "\u001b[33m[WARN]\u001b[39m (match_XQGm5T3Z5jkg) - turn 261; Unit u_145 collided when trying to move s to (2, 20)\n",
      "\u001b[33m[WARN]\u001b[39m (match_XQGm5T3Z5jkg) - turn 261; Unit u_193 collided when trying to move w to (2, 20)\n",
      "\u001b[33m[WARN]\u001b[39m (match_XQGm5T3Z5jkg) - turn 261; Unit u_218 collided when trying to move n to (2, 20)\n",
      "\u001b[33m[WARN]\u001b[39m (match_XQGm5T3Z5jkg) - turn 261; Unit u_179 collided when trying to move s to (31, 25)\n",
      "\u001b[33m[WARN]\u001b[39m (match_XQGm5T3Z5jkg) - turn 261; Unit u_209 collided when trying to move n to (31, 24)\n",
      "\u001b[33m[WARN]\u001b[39m (match_XQGm5T3Z5jkg) - turn 261; Unit u_179 collided when trying to move s to (31, 25)\n",
      "\u001b[33m[WARN]\u001b[39m (match_XQGm5T3Z5jkg) - turn 261; Unit u_210 collided when trying to move n to (31, 25)\n",
      "\u001b[33m[WARN]\u001b[39m (match_XQGm5T3Z5jkg) - turn 261; Unit u_210 collided when trying to move n to (31, 25)\n",
      "\u001b[33m[WARN]\u001b[39m (match_XQGm5T3Z5jkg) - turn 261; Unit u_180 collided when trying to move s to (31, 23)\n",
      "\u001b[33m[WARN]\u001b[39m (match_XQGm5T3Z5jkg) - turn 261; Unit u_184 collided when trying to move s to (31, 22)\n",
      "\u001b[33m[WARN]\u001b[39m (match_XQGm5T3Z5jkg) - turn 262; Unit u_193 collided when trying to move w to (2, 20)\n",
      "\u001b[33m[WARN]\u001b[39m (match_XQGm5T3Z5jkg) - turn 262; Unit u_188 collided when trying to move n to (3, 20)\n",
      "\u001b[33m[WARN]\u001b[39m (match_XQGm5T3Z5jkg) - turn 262; Unit u_218 collided when trying to move n to (2, 20)\n",
      "\u001b[33m[WARN]\u001b[39m (match_XQGm5T3Z5jkg) - turn 262; Unit u_180 collided when trying to move s to (31, 23)\n",
      "\u001b[33m[WARN]\u001b[39m (match_XQGm5T3Z5jkg) - turn 262; Unit u_184 collided when trying to move s to (31, 22)\n",
      "\u001b[33m[WARN]\u001b[39m (match_XQGm5T3Z5jkg) - turn 262; Unit u_209 collided when trying to move s to (31, 26)\n",
      "\u001b[33m[WARN]\u001b[39m (match_XQGm5T3Z5jkg) - turn 262; Unit u_179 collided when trying to move s to (31, 25)\n",
      "\u001b[33m[WARN]\u001b[39m (match_XQGm5T3Z5jkg) - turn 263; Unit u_180 collided when trying to move s to (31, 23)\n",
      "\u001b[33m[WARN]\u001b[39m (match_XQGm5T3Z5jkg) - turn 263; Unit u_184 collided when trying to move s to (31, 22)\n",
      "\u001b[33m[WARN]\u001b[39m (match_XQGm5T3Z5jkg) - turn 263; Unit u_183 collided when trying to move w to (28, 15)\n",
      "\u001b[33m[WARN]\u001b[39m (match_XQGm5T3Z5jkg) - turn 263; Unit u_208 collided when trying to move s to (30, 18)\n",
      "\u001b[33m[WARN]\u001b[39m (match_XQGm5T3Z5jkg) - turn 264; Unit u_13 collided when trying to move e to (24, 6)\n",
      "\u001b[33m[WARN]\u001b[39m (match_XQGm5T3Z5jkg) - turn 264; Unit u_115 collided when trying to move e to (23, 6)\n",
      "\u001b[33m[WARN]\u001b[39m (match_XQGm5T3Z5jkg) - turn 264; Unit u_180 collided when trying to move s to (31, 23)\n",
      "\u001b[33m[WARN]\u001b[39m (match_XQGm5T3Z5jkg) - turn 264; Unit u_184 collided when trying to move s to (31, 22)\n",
      "\u001b[33m[WARN]\u001b[39m (match_XQGm5T3Z5jkg) - turn 265; Unit u_13 collided when trying to move e to (24, 6)\n",
      "\u001b[33m[WARN]\u001b[39m (match_XQGm5T3Z5jkg) - turn 266; Unit u_177 collided when trying to move n to (30, 16)\n",
      "\u001b[33m[WARN]\u001b[39m (match_XQGm5T3Z5jkg) - turn 266; Unit u_183 collided when trying to move s to (30, 16)\n",
      "\u001b[33m[WARN]\u001b[39m (match_XQGm5T3Z5jkg) - turn 270; Unit u_183 collided when trying to move s to (30, 17)\n",
      "\u001b[33m[WARN]\u001b[39m (match_XQGm5T3Z5jkg) - turn 271; Unit u_186 collided when trying to move c to (30, 15)\n",
      "\u001b[33m[WARN]\u001b[39m (match_XQGm5T3Z5jkg) - turn 271; Unit u_186 collided when trying to move c to (30, 15)\n",
      "\u001b[33m[WARN]\u001b[39m (match_XQGm5T3Z5jkg) - turn 271; Unit u_221 collided when trying to move s to (30, 15)\n",
      "\u001b[33m[WARN]\u001b[39m (match_XQGm5T3Z5jkg) - turn 271; Unit u_221 collided when trying to move s to (30, 15)\n",
      "\u001b[33m[WARN]\u001b[39m (match_XQGm5T3Z5jkg) - turn 274; Unit u_209 collided when trying to move e to (31, 25)\n",
      "\u001b[33m[WARN]\u001b[39m (match_XQGm5T3Z5jkg) - turn 274; Unit u_210 collided when trying to move n to (31, 25)\n",
      "\u001b[33m[WARN]\u001b[39m (match_XQGm5T3Z5jkg) - turn 274; Unit u_179 collided when trying to move s to (31, 26)\n",
      "\u001b[33m[WARN]\u001b[39m (match_XQGm5T3Z5jkg) - turn 274; Unit u_209 collided when trying to move e to (31, 25)\n",
      "\u001b[33m[WARN]\u001b[39m (match_XQGm5T3Z5jkg) - turn 274; Unit u_210 collided when trying to move n to (31, 25)\n",
      "\u001b[33m[WARN]\u001b[39m (match_XQGm5T3Z5jkg) - turn 275; Unit u_179 collided when trying to move s to (31, 26)\n",
      "\u001b[33m[WARN]\u001b[39m (match_XQGm5T3Z5jkg) - turn 276; Unit u_221 collided when trying to move s to (30, 16)\n",
      "\u001b[33m[WARN]\u001b[39m (match_XQGm5T3Z5jkg) - turn 277; Unit u_221 collided when trying to move s to (30, 16)\n",
      "\u001b[33m[WARN]\u001b[39m (match_XQGm5T3Z5jkg) - turn 278; Unit u_226 collided when trying to move n to (16, 12)\n",
      "\u001b[33m[WARN]\u001b[39m (match_XQGm5T3Z5jkg) - turn 278; Unit u_242 collided when trying to move n to (16, 13)\n",
      "\u001b[33m[WARN]\u001b[39m (match_XQGm5T3Z5jkg) - turn 278; Unit u_221 collided when trying to move s to (30, 16)\n",
      "\u001b[33m[WARN]\u001b[39m (match_XQGm5T3Z5jkg) - turn 279; Unit u_115 collided when trying to move e to (22, 6)\n",
      "\u001b[33m[WARN]\u001b[39m (match_XQGm5T3Z5jkg) - turn 279; Unit u_221 collided when trying to move s to (30, 16)\n",
      "\u001b[33m[WARN]\u001b[39m (match_XQGm5T3Z5jkg) - turn 281; Unit u_262 collided when trying to move w to (16, 13)\n",
      "\u001b[33m[WARN]\u001b[39m (match_XQGm5T3Z5jkg) - turn 281; Unit u_115 collided when trying to move e to (22, 6)\n",
      "\u001b[33m[WARN]\u001b[39m (match_XQGm5T3Z5jkg) - turn 282; Unit u_262 collided when trying to move w to (16, 13)\n",
      "\u001b[33m[WARN]\u001b[39m (match_XQGm5T3Z5jkg) - turn 282; Unit u_179 collided when trying to move s to (31, 25)\n",
      "\u001b[33m[WARN]\u001b[39m (match_XQGm5T3Z5jkg) - turn 283; Unit u_179 collided when trying to move s to (31, 25)\n",
      "\u001b[33m[WARN]\u001b[39m (match_XQGm5T3Z5jkg) - turn 284; Unit u_186 collided when trying to move s to (30, 19)\n",
      "\u001b[33m[WARN]\u001b[39m (match_XQGm5T3Z5jkg) - turn 284; Unit u_221 collided when trying to move s to (30, 18)\n",
      "\u001b[33m[WARN]\u001b[39m (match_XQGm5T3Z5jkg) - turn 285; Unit u_262 collided when trying to move s to (16, 14)\n",
      "\u001b[33m[WARN]\u001b[39m (match_XQGm5T3Z5jkg) - turn 285; Unit u_186 collided when trying to move s to (30, 19)\n",
      "\u001b[33m[WARN]\u001b[39m (match_XQGm5T3Z5jkg) - turn 285; Unit u_221 collided when trying to move s to (30, 18)\n",
      "\u001b[33m[WARN]\u001b[39m (match_XQGm5T3Z5jkg) - turn 286; Unit u_136 collided when trying to move w to (16, 13)\n",
      "\u001b[33m[WARN]\u001b[39m (match_XQGm5T3Z5jkg) - turn 286; Unit u_186 collided when trying to move s to (30, 19)\n",
      "\u001b[33m[WARN]\u001b[39m (match_XQGm5T3Z5jkg) - turn 286; Unit u_221 collided when trying to move s to (30, 18)\n",
      "\u001b[33m[WARN]\u001b[39m (match_XQGm5T3Z5jkg) - turn 287; Unit u_136 collided when trying to move w to (16, 13)\n",
      "\u001b[33m[WARN]\u001b[39m (match_XQGm5T3Z5jkg) - turn 287; Unit u_115 collided when trying to move e to (22, 6)\n",
      "\u001b[33m[WARN]\u001b[39m (match_XQGm5T3Z5jkg) - turn 287; Unit u_186 collided when trying to move s to (30, 19)\n",
      "\u001b[33m[WARN]\u001b[39m (match_XQGm5T3Z5jkg) - turn 287; Unit u_221 collided when trying to move s to (30, 18)\n",
      "\u001b[33m[WARN]\u001b[39m (match_XQGm5T3Z5jkg) - turn 288; Unit u_186 collided when trying to move s to (30, 19)\n",
      "\u001b[33m[WARN]\u001b[39m (match_XQGm5T3Z5jkg) - turn 288; Unit u_221 collided when trying to move s to (30, 18)\n",
      "\u001b[33m[WARN]\u001b[39m (match_XQGm5T3Z5jkg) - turn 288; Unit u_211 collided when trying to move e to (23, 6)\n",
      "\u001b[33m[WARN]\u001b[39m (match_XQGm5T3Z5jkg) - turn 289; Unit u_186 collided when trying to move s to (30, 19)\n",
      "\u001b[33m[WARN]\u001b[39m (match_XQGm5T3Z5jkg) - turn 289; Unit u_221 collided when trying to move s to (30, 18)\n",
      "\u001b[33m[WARN]\u001b[39m (match_XQGm5T3Z5jkg) - turn 290; Unit u_186 collided when trying to move s to (30, 19)\n",
      "\u001b[33m[WARN]\u001b[39m (match_XQGm5T3Z5jkg) - turn 290; Unit u_221 collided when trying to move s to (30, 18)\n",
      "\u001b[33m[WARN]\u001b[39m (match_XQGm5T3Z5jkg) - turn 291; Unit u_115 collided when trying to move e to (23, 6)\n",
      "\u001b[33m[WARN]\u001b[39m (match_XQGm5T3Z5jkg) - turn 291; Unit u_186 collided when trying to move s to (30, 19)\n",
      "\u001b[33m[WARN]\u001b[39m (match_XQGm5T3Z5jkg) - turn 291; Unit u_221 collided when trying to move s to (30, 18)\n",
      "\u001b[33m[WARN]\u001b[39m (match_XQGm5T3Z5jkg) - turn 292; Unit u_186 collided when trying to move s to (30, 19)\n",
      "\u001b[33m[WARN]\u001b[39m (match_XQGm5T3Z5jkg) - turn 292; Unit u_221 collided when trying to move s to (30, 18)\n",
      "\u001b[33m[WARN]\u001b[39m (match_XQGm5T3Z5jkg) - turn 293; Unit u_186 collided when trying to move s to (30, 19)\n",
      "\u001b[33m[WARN]\u001b[39m (match_XQGm5T3Z5jkg) - turn 293; Unit u_221 collided when trying to move s to (30, 18)\n",
      "\u001b[33m[WARN]\u001b[39m (match_XQGm5T3Z5jkg) - turn 294; Unit u_115 collided when trying to move e to (24, 6)\n",
      "\u001b[33m[WARN]\u001b[39m (match_XQGm5T3Z5jkg) - turn 294; Unit u_213 collided when trying to move e to (23, 6)\n",
      "\u001b[33m[WARN]\u001b[39m (match_XQGm5T3Z5jkg) - turn 294; Unit u_186 collided when trying to move s to (30, 19)\n",
      "\u001b[33m[WARN]\u001b[39m (match_XQGm5T3Z5jkg) - turn 294; Unit u_221 collided when trying to move s to (30, 18)\n",
      "\u001b[33m[WARN]\u001b[39m (match_XQGm5T3Z5jkg) - turn 295; Unit u_277 collided when trying to move s to (2, 16)\n",
      "\u001b[33m[WARN]\u001b[39m (match_XQGm5T3Z5jkg) - turn 295; Unit u_115 collided when trying to move e to (24, 6)\n",
      "\u001b[33m[WARN]\u001b[39m (match_XQGm5T3Z5jkg) - turn 295; Unit u_186 collided when trying to move s to (30, 19)\n",
      "\u001b[33m[WARN]\u001b[39m (match_XQGm5T3Z5jkg) - turn 295; Unit u_221 collided when trying to move s to (30, 18)\n",
      "\u001b[33m[WARN]\u001b[39m (match_XQGm5T3Z5jkg) - turn 296; Unit u_186 collided when trying to move s to (30, 19)\n",
      "\u001b[33m[WARN]\u001b[39m (match_XQGm5T3Z5jkg) - turn 296; Unit u_221 collided when trying to move s to (30, 18)\n",
      "\u001b[33m[WARN]\u001b[39m (match_XQGm5T3Z5jkg) - turn 297; Unit u_136 collided when trying to move n to (15, 13)\n",
      "\u001b[33m[WARN]\u001b[39m (match_XQGm5T3Z5jkg) - turn 297; Unit u_226 collided when trying to move w to (15, 14)\n",
      "\u001b[33m[WARN]\u001b[39m (match_XQGm5T3Z5jkg) - turn 297; Unit u_272 collided when trying to move w to (11, 23)\n",
      "\u001b[33m[WARN]\u001b[39m (match_XQGm5T3Z5jkg) - turn 297; Unit u_186 collided when trying to move s to (30, 19)\n",
      "\u001b[33m[WARN]\u001b[39m (match_XQGm5T3Z5jkg) - turn 297; Unit u_221 collided when trying to move s to (30, 18)\n",
      "\u001b[33m[WARN]\u001b[39m (match_XQGm5T3Z5jkg) - turn 297; Unit u_213 collided when trying to move e to (22, 6)\n",
      "\u001b[33m[WARN]\u001b[39m (match_XQGm5T3Z5jkg) - turn 298; Unit u_226 collided when trying to move w to (15, 14)\n",
      "\u001b[33m[WARN]\u001b[39m (match_XQGm5T3Z5jkg) - turn 298; Unit u_262 collided when trying to move s to (16, 13)\n",
      "\u001b[33m[WARN]\u001b[39m (match_XQGm5T3Z5jkg) - turn 298; Unit u_271 collided when trying to move w to (2, 15)\n",
      "\u001b[33m[WARN]\u001b[39m (match_XQGm5T3Z5jkg) - turn 298; Unit u_278 collided when trying to move n to (3, 15)\n",
      "\u001b[33m[WARN]\u001b[39m (match_XQGm5T3Z5jkg) - turn 298; Unit u_280 collided when trying to move n to (3, 16)\n",
      "\u001b[33m[WARN]\u001b[39m (match_XQGm5T3Z5jkg) - turn 298; Unit u_277 collided when trying to move e to (2, 15)\n",
      "\u001b[33m[WARN]\u001b[39m (match_XQGm5T3Z5jkg) - turn 298; Unit u_186 collided when trying to move s to (30, 19)\n",
      "\u001b[33m[WARN]\u001b[39m (match_XQGm5T3Z5jkg) - turn 298; Unit u_221 collided when trying to move s to (30, 18)\n",
      "\u001b[33m[WARN]\u001b[39m (match_XQGm5T3Z5jkg) - turn 298; Unit u_213 collided when trying to move e to (22, 6)\n",
      "\u001b[33m[WARN]\u001b[39m (match_XQGm5T3Z5jkg) - turn 298; Unit u_253 collided when trying to move n to (31, 26)\n",
      "\u001b[33m[WARN]\u001b[39m (match_XQGm5T3Z5jkg) - turn 299; Unit u_226 collided when trying to move w to (15, 14)\n",
      "\u001b[33m[WARN]\u001b[39m (match_XQGm5T3Z5jkg) - turn 299; Unit u_278 collided when trying to move n to (3, 15)\n",
      "\u001b[33m[WARN]\u001b[39m (match_XQGm5T3Z5jkg) - turn 299; Unit u_280 collided when trying to move n to (3, 16)\n",
      "\u001b[33m[WARN]\u001b[39m (match_XQGm5T3Z5jkg) - turn 299; Unit u_186 collided when trying to move s to (30, 19)\n",
      "\u001b[33m[WARN]\u001b[39m (match_XQGm5T3Z5jkg) - turn 299; Unit u_221 collided when trying to move s to (30, 18)\n",
      "\u001b[33m[WARN]\u001b[39m (match_XQGm5T3Z5jkg) - turn 299; Unit u_211 collided when trying to move e to (23, 6)\n",
      "\u001b[33m[WARN]\u001b[39m (match_XQGm5T3Z5jkg) - turn 299; Unit u_213 collided when trying to move e to (22, 6)\n",
      "\u001b[33m[WARN]\u001b[39m (match_XQGm5T3Z5jkg) - turn 300; Unit u_274 collided when trying to move e to (16, 13)\n",
      "\u001b[33m[WARN]\u001b[39m (match_XQGm5T3Z5jkg) - turn 300; Unit u_136 collided when trying to move n to (15, 13)\n",
      "\u001b[33m[WARN]\u001b[39m (match_XQGm5T3Z5jkg) - turn 300; Unit u_278 collided when trying to move n to (3, 15)\n",
      "\u001b[33m[WARN]\u001b[39m (match_XQGm5T3Z5jkg) - turn 300; Unit u_280 collided when trying to move n to (3, 16)\n",
      "\u001b[33m[WARN]\u001b[39m (match_XQGm5T3Z5jkg) - turn 300; Unit u_186 collided when trying to move s to (30, 19)\n",
      "\u001b[33m[WARN]\u001b[39m (match_XQGm5T3Z5jkg) - turn 300; Unit u_221 collided when trying to move s to (30, 18)\n",
      "\u001b[33m[WARN]\u001b[39m (match_XQGm5T3Z5jkg) - turn 300; Unit u_211 collided when trying to move e to (23, 6)\n",
      "\u001b[33m[WARN]\u001b[39m (match_XQGm5T3Z5jkg) - turn 300; Unit u_213 collided when trying to move e to (22, 6)\n",
      "\u001b[33m[WARN]\u001b[39m (match_XQGm5T3Z5jkg) - turn 301; Unit u_278 collided when trying to move n to (3, 15)\n",
      "\u001b[33m[WARN]\u001b[39m (match_XQGm5T3Z5jkg) - turn 301; Unit u_280 collided when trying to move n to (3, 16)\n",
      "\u001b[33m[WARN]\u001b[39m (match_XQGm5T3Z5jkg) - turn 301; Unit u_186 collided when trying to move s to (30, 19)\n",
      "\u001b[33m[WARN]\u001b[39m (match_XQGm5T3Z5jkg) - turn 301; Unit u_221 collided when trying to move s to (30, 18)\n",
      "\u001b[33m[WARN]\u001b[39m (match_XQGm5T3Z5jkg) - turn 301; Unit u_211 collided when trying to move e to (23, 6)\n",
      "\u001b[33m[WARN]\u001b[39m (match_XQGm5T3Z5jkg) - turn 301; Unit u_213 collided when trying to move e to (22, 6)\n",
      "\u001b[33m[WARN]\u001b[39m (match_XQGm5T3Z5jkg) - turn 301; Unit u_253 collided when trying to move n to (31, 27)\n",
      "\u001b[33m[WARN]\u001b[39m (match_XQGm5T3Z5jkg) - turn 302; Unit u_278 collided when trying to move n to (3, 15)\n",
      "\u001b[33m[WARN]\u001b[39m (match_XQGm5T3Z5jkg) - turn 302; Unit u_280 collided when trying to move n to (3, 16)\n",
      "\u001b[33m[WARN]\u001b[39m (match_XQGm5T3Z5jkg) - turn 302; Unit u_186 collided when trying to move s to (30, 19)\n",
      "\u001b[33m[WARN]\u001b[39m (match_XQGm5T3Z5jkg) - turn 302; Unit u_221 collided when trying to move s to (30, 18)\n",
      "\u001b[33m[WARN]\u001b[39m (match_XQGm5T3Z5jkg) - turn 302; Unit u_211 collided when trying to move e to (23, 6)\n",
      "\u001b[33m[WARN]\u001b[39m (match_XQGm5T3Z5jkg) - turn 302; Unit u_213 collided when trying to move e to (22, 6)\n",
      "\u001b[33m[WARN]\u001b[39m (match_XQGm5T3Z5jkg) - turn 303; Unit u_186 collided when trying to move s to (30, 19)\n",
      "\u001b[33m[WARN]\u001b[39m (match_XQGm5T3Z5jkg) - turn 303; Unit u_221 collided when trying to move s to (30, 18)\n",
      "\u001b[33m[WARN]\u001b[39m (match_XQGm5T3Z5jkg) - turn 303; Unit u_211 collided when trying to move e to (23, 6)\n",
      "\u001b[33m[WARN]\u001b[39m (match_XQGm5T3Z5jkg) - turn 303; Unit u_213 collided when trying to move e to (22, 6)\n",
      "\u001b[33m[WARN]\u001b[39m (match_XQGm5T3Z5jkg) - turn 304; Unit u_264 collided when trying to move n to (1, 16)\n",
      "\u001b[33m[WARN]\u001b[39m (match_XQGm5T3Z5jkg) - turn 304; Unit u_277 collided when trying to move s to (1, 16)\n",
      "\u001b[33m[WARN]\u001b[39m (match_XQGm5T3Z5jkg) - turn 304; Unit u_272 collided when trying to move w to (11, 24)\n",
      "\u001b[33m[WARN]\u001b[39m (match_XQGm5T3Z5jkg) - turn 304; Unit u_186 collided when trying to move s to (30, 19)\n",
      "\u001b[33m[WARN]\u001b[39m (match_XQGm5T3Z5jkg) - turn 304; Unit u_221 collided when trying to move s to (30, 18)\n",
      "\u001b[33m[WARN]\u001b[39m (match_XQGm5T3Z5jkg) - turn 304; Unit u_276 collided when trying to move s to (30, 17)\n",
      "\u001b[33m[WARN]\u001b[39m (match_XQGm5T3Z5jkg) - turn 304; Unit u_211 collided when trying to move e to (23, 6)\n",
      "\u001b[33m[WARN]\u001b[39m (match_XQGm5T3Z5jkg) - turn 304; Unit u_213 collided when trying to move e to (22, 6)\n",
      "\u001b[33m[WARN]\u001b[39m (match_XQGm5T3Z5jkg) - turn 304; Unit u_253 collided when trying to move n to (31, 28)\n",
      "\u001b[33m[WARN]\u001b[39m (match_XQGm5T3Z5jkg) - turn 305; Unit u_271 collided when trying to move s to (2, 16)\n",
      "\u001b[33m[WARN]\u001b[39m (match_XQGm5T3Z5jkg) - turn 305; Unit u_278 collided when trying to move w to (2, 15)\n",
      "\u001b[33m[WARN]\u001b[39m (match_XQGm5T3Z5jkg) - turn 305; Unit u_280 collided when trying to move n to (3, 15)\n",
      "\u001b[33m[WARN]\u001b[39m (match_XQGm5T3Z5jkg) - turn 305; Unit u_186 collided when trying to move s to (30, 19)\n",
      "\u001b[33m[WARN]\u001b[39m (match_XQGm5T3Z5jkg) - turn 305; Unit u_221 collided when trying to move s to (30, 18)\n",
      "\u001b[33m[WARN]\u001b[39m (match_XQGm5T3Z5jkg) - turn 305; Unit u_276 collided when trying to move s to (30, 17)\n",
      "\u001b[33m[WARN]\u001b[39m (match_XQGm5T3Z5jkg) - turn 305; Unit u_211 collided when trying to move e to (23, 6)\n",
      "\u001b[33m[WARN]\u001b[39m (match_XQGm5T3Z5jkg) - turn 305; Unit u_213 collided when trying to move e to (22, 6)\n",
      "\u001b[33m[WARN]\u001b[39m (match_XQGm5T3Z5jkg) - turn 306; Unit u_186 collided when trying to move s to (30, 19)\n",
      "\u001b[33m[WARN]\u001b[39m (match_XQGm5T3Z5jkg) - turn 306; Unit u_221 collided when trying to move s to (30, 18)\n",
      "\u001b[33m[WARN]\u001b[39m (match_XQGm5T3Z5jkg) - turn 306; Unit u_276 collided when trying to move s to (30, 17)\n",
      "\u001b[33m[WARN]\u001b[39m (match_XQGm5T3Z5jkg) - turn 306; Unit u_211 collided when trying to move e to (23, 6)\n",
      "\u001b[33m[WARN]\u001b[39m (match_XQGm5T3Z5jkg) - turn 306; Unit u_213 collided when trying to move e to (22, 6)\n",
      "\u001b[33m[WARN]\u001b[39m (match_XQGm5T3Z5jkg) - turn 306; Unit u_261 collided when trying to move n to (31, 30)\n",
      "\u001b[33m[WARN]\u001b[39m (match_XQGm5T3Z5jkg) - turn 307; Unit u_186 collided when trying to move s to (30, 19)\n",
      "\u001b[33m[WARN]\u001b[39m (match_XQGm5T3Z5jkg) - turn 307; Unit u_221 collided when trying to move s to (30, 18)\n",
      "\u001b[33m[WARN]\u001b[39m (match_XQGm5T3Z5jkg) - turn 307; Unit u_276 collided when trying to move s to (30, 17)\n",
      "\u001b[33m[WARN]\u001b[39m (match_XQGm5T3Z5jkg) - turn 307; Unit u_211 collided when trying to move e to (23, 6)\n",
      "\u001b[33m[WARN]\u001b[39m (match_XQGm5T3Z5jkg) - turn 307; Unit u_213 collided when trying to move e to (22, 6)\n",
      "\u001b[33m[WARN]\u001b[39m (match_XQGm5T3Z5jkg) - turn 307; Unit u_253 collided when trying to move n to (31, 29)\n",
      "\u001b[33m[WARN]\u001b[39m (match_XQGm5T3Z5jkg) - turn 308; Unit u_278 collided when trying to move s to (2, 16)\n",
      "\u001b[33m[WARN]\u001b[39m (match_XQGm5T3Z5jkg) - turn 308; Unit u_280 collided when trying to move w to (2, 15)\n",
      "\u001b[33m[WARN]\u001b[39m (match_XQGm5T3Z5jkg) - turn 308; Unit u_186 collided when trying to move s to (30, 19)\n",
      "\u001b[33m[WARN]\u001b[39m (match_XQGm5T3Z5jkg) - turn 308; Unit u_221 collided when trying to move s to (30, 18)\n",
      "\u001b[33m[WARN]\u001b[39m (match_XQGm5T3Z5jkg) - turn 308; Unit u_276 collided when trying to move s to (30, 17)\n",
      "\u001b[33m[WARN]\u001b[39m (match_XQGm5T3Z5jkg) - turn 308; Unit u_211 collided when trying to move e to (23, 6)\n",
      "\u001b[33m[WARN]\u001b[39m (match_XQGm5T3Z5jkg) - turn 308; Unit u_213 collided when trying to move e to (22, 6)\n",
      "\u001b[33m[WARN]\u001b[39m (match_XQGm5T3Z5jkg) - turn 309; Unit u_277 collided when trying to move s to (2, 17)\n",
      "\u001b[33m[WARN]\u001b[39m (match_XQGm5T3Z5jkg) - turn 309; Unit u_186 collided when trying to move s to (30, 19)\n",
      "\u001b[33m[WARN]\u001b[39m (match_XQGm5T3Z5jkg) - turn 309; Unit u_221 collided when trying to move s to (30, 18)\n",
      "\u001b[33m[WARN]\u001b[39m (match_XQGm5T3Z5jkg) - turn 309; Unit u_276 collided when trying to move s to (30, 17)\n",
      "\u001b[33m[WARN]\u001b[39m (match_XQGm5T3Z5jkg) - turn 309; Unit u_211 collided when trying to move e to (23, 6)\n",
      "\u001b[33m[WARN]\u001b[39m (match_XQGm5T3Z5jkg) - turn 309; Unit u_213 collided when trying to move e to (22, 6)\n",
      "\u001b[33m[WARN]\u001b[39m (match_XQGm5T3Z5jkg) - turn 310; Unit u_269 collided when trying to move s to (2, 18)\n",
      "\u001b[33m[WARN]\u001b[39m (match_XQGm5T3Z5jkg) - turn 310; Unit u_277 collided when trying to move s to (2, 17)\n",
      "\u001b[33m[WARN]\u001b[39m (match_XQGm5T3Z5jkg) - turn 310; Unit u_186 collided when trying to move s to (30, 19)\n",
      "\u001b[33m[WARN]\u001b[39m (match_XQGm5T3Z5jkg) - turn 310; Unit u_221 collided when trying to move s to (30, 18)\n",
      "\u001b[33m[WARN]\u001b[39m (match_XQGm5T3Z5jkg) - turn 310; Unit u_276 collided when trying to move s to (30, 17)\n",
      "\u001b[33m[WARN]\u001b[39m (match_XQGm5T3Z5jkg) - turn 310; Unit u_211 collided when trying to move e to (23, 6)\n",
      "\u001b[33m[WARN]\u001b[39m (match_XQGm5T3Z5jkg) - turn 310; Unit u_213 collided when trying to move e to (22, 6)\n",
      "\u001b[33m[WARN]\u001b[39m (match_XQGm5T3Z5jkg) - turn 310; Unit u_253 collided when trying to move n to (31, 30)\n",
      "\u001b[33m[WARN]\u001b[39m (match_XQGm5T3Z5jkg) - turn 311; Unit u_278 collided when trying to move s to (1, 16)\n",
      "\u001b[33m[WARN]\u001b[39m (match_XQGm5T3Z5jkg) - turn 314; Unit u_271 collided when trying to move s to (1, 17)\n",
      "\u001b[33m[WARN]\u001b[39m (match_XQGm5T3Z5jkg) - turn 331; Unit u_248 collided when trying to move e to (24, 6)\n",
      "\u001b[33m[WARN]\u001b[39m (match_XQGm5T3Z5jkg) - turn 331; Unit u_251 collided when trying to move e to (23, 6)\n",
      "\u001b[33m[WARN]\u001b[39m (match_XQGm5T3Z5jkg) - turn 332; Unit u_248 collided when trying to move e to (24, 6)\n",
      "\u001b[33m[WARN]\u001b[39m (match_XQGm5T3Z5jkg) - turn 333; Unit u_287 collided when trying to move s to (30, 18)\n",
      "\u001b[33m[WARN]\u001b[39m (match_XQGm5T3Z5jkg) - turn 333; Unit u_305 collided when trying to move s to (30, 17)\n",
      "\u001b[33m[WARN]\u001b[39m (match_XQGm5T3Z5jkg) - turn 334; Unit u_287 collided when trying to move s to (30, 18)\n",
      "\u001b[33m[WARN]\u001b[39m (match_XQGm5T3Z5jkg) - turn 334; Unit u_305 collided when trying to move s to (30, 17)\n",
      "\u001b[33m[WARN]\u001b[39m (match_XQGm5T3Z5jkg) - turn 335; Unit u_287 collided when trying to move s to (30, 18)\n",
      "\u001b[33m[WARN]\u001b[39m (match_XQGm5T3Z5jkg) - turn 335; Unit u_305 collided when trying to move s to (30, 17)\n",
      "\u001b[33m[WARN]\u001b[39m (match_XQGm5T3Z5jkg) - turn 336; Unit u_287 collided when trying to move s to (30, 18)\n",
      "\u001b[33m[WARN]\u001b[39m (match_XQGm5T3Z5jkg) - turn 336; Unit u_305 collided when trying to move s to (30, 17)\n",
      "\u001b[33m[WARN]\u001b[39m (match_XQGm5T3Z5jkg) - turn 337; Unit u_287 collided when trying to move s to (30, 18)\n",
      "\u001b[33m[WARN]\u001b[39m (match_XQGm5T3Z5jkg) - turn 337; Unit u_305 collided when trying to move s to (30, 17)\n",
      "\u001b[33m[WARN]\u001b[39m (match_XQGm5T3Z5jkg) - turn 338; Unit u_251 collided when trying to move e to (22, 6)\n",
      "\u001b[33m[WARN]\u001b[39m (match_XQGm5T3Z5jkg) - turn 338; Unit u_287 collided when trying to move s to (30, 18)\n",
      "\u001b[33m[WARN]\u001b[39m (match_XQGm5T3Z5jkg) - turn 338; Unit u_305 collided when trying to move s to (30, 17)\n",
      "\u001b[33m[WARN]\u001b[39m (match_XQGm5T3Z5jkg) - turn 339; Unit u_259 collided when trying to move e to (23, 6)\n",
      "\u001b[33m[WARN]\u001b[39m (match_XQGm5T3Z5jkg) - turn 339; Unit u_251 collided when trying to move e to (22, 6)\n",
      "\u001b[33m[WARN]\u001b[39m (match_XQGm5T3Z5jkg) - turn 339; Unit u_287 collided when trying to move s to (30, 18)\n",
      "\u001b[33m[WARN]\u001b[39m (match_XQGm5T3Z5jkg) - turn 339; Unit u_305 collided when trying to move s to (30, 17)\n",
      "\u001b[33m[WARN]\u001b[39m (match_XQGm5T3Z5jkg) - turn 340; Unit u_259 collided when trying to move e to (23, 6)\n",
      "\u001b[33m[WARN]\u001b[39m (match_XQGm5T3Z5jkg) - turn 340; Unit u_251 collided when trying to move e to (22, 6)\n",
      "\u001b[33m[WARN]\u001b[39m (match_XQGm5T3Z5jkg) - turn 340; Unit u_287 collided when trying to move s to (30, 18)\n",
      "\u001b[33m[WARN]\u001b[39m (match_XQGm5T3Z5jkg) - turn 340; Unit u_305 collided when trying to move s to (30, 17)\n",
      "\u001b[33m[WARN]\u001b[39m (match_XQGm5T3Z5jkg) - turn 341; Unit u_259 collided when trying to move e to (23, 6)\n",
      "\u001b[33m[WARN]\u001b[39m (match_XQGm5T3Z5jkg) - turn 341; Unit u_251 collided when trying to move e to (22, 6)\n",
      "\u001b[33m[WARN]\u001b[39m (match_XQGm5T3Z5jkg) - turn 341; Unit u_287 collided when trying to move s to (30, 18)\n",
      "\u001b[33m[WARN]\u001b[39m (match_XQGm5T3Z5jkg) - turn 341; Unit u_305 collided when trying to move s to (30, 17)\n",
      "\u001b[33m[WARN]\u001b[39m (match_XQGm5T3Z5jkg) - turn 342; Unit u_259 collided when trying to move e to (23, 6)\n",
      "\u001b[33m[WARN]\u001b[39m (match_XQGm5T3Z5jkg) - turn 342; Unit u_251 collided when trying to move e to (22, 6)\n",
      "\u001b[33m[WARN]\u001b[39m (match_XQGm5T3Z5jkg) - turn 342; Unit u_287 collided when trying to move s to (30, 18)\n",
      "\u001b[33m[WARN]\u001b[39m (match_XQGm5T3Z5jkg) - turn 342; Unit u_305 collided when trying to move s to (30, 17)\n",
      "\u001b[33m[WARN]\u001b[39m (match_XQGm5T3Z5jkg) - turn 343; Unit u_259 collided when trying to move e to (23, 6)\n",
      "\u001b[33m[WARN]\u001b[39m (match_XQGm5T3Z5jkg) - turn 343; Unit u_251 collided when trying to move e to (22, 6)\n",
      "\u001b[33m[WARN]\u001b[39m (match_XQGm5T3Z5jkg) - turn 343; Unit u_287 collided when trying to move s to (30, 18)\n",
      "\u001b[33m[WARN]\u001b[39m (match_XQGm5T3Z5jkg) - turn 343; Unit u_305 collided when trying to move s to (30, 17)\n",
      "\u001b[33m[WARN]\u001b[39m (match_XQGm5T3Z5jkg) - turn 344; Unit u_259 collided when trying to move e to (23, 6)\n",
      "\u001b[33m[WARN]\u001b[39m (match_XQGm5T3Z5jkg) - turn 344; Unit u_251 collided when trying to move e to (22, 6)\n",
      "\u001b[33m[WARN]\u001b[39m (match_XQGm5T3Z5jkg) - turn 344; Unit u_287 collided when trying to move s to (30, 18)\n",
      "\u001b[33m[WARN]\u001b[39m (match_XQGm5T3Z5jkg) - turn 344; Unit u_305 collided when trying to move s to (30, 17)\n",
      "\u001b[33m[WARN]\u001b[39m (match_XQGm5T3Z5jkg) - turn 345; Unit u_259 collided when trying to move e to (23, 6)\n",
      "\u001b[33m[WARN]\u001b[39m (match_XQGm5T3Z5jkg) - turn 345; Unit u_251 collided when trying to move e to (22, 6)\n",
      "\u001b[33m[WARN]\u001b[39m (match_XQGm5T3Z5jkg) - turn 345; Unit u_287 collided when trying to move s to (30, 18)\n",
      "\u001b[33m[WARN]\u001b[39m (match_XQGm5T3Z5jkg) - turn 345; Unit u_305 collided when trying to move s to (30, 17)\n",
      "\u001b[33m[WARN]\u001b[39m (match_XQGm5T3Z5jkg) - turn 346; Unit u_277 collided when trying to move n to (1, 29)\n",
      "\u001b[33m[WARN]\u001b[39m (match_XQGm5T3Z5jkg) - turn 346; Unit u_259 collided when trying to move e to (23, 6)\n",
      "\u001b[33m[WARN]\u001b[39m (match_XQGm5T3Z5jkg) - turn 346; Unit u_251 collided when trying to move e to (22, 6)\n",
      "\u001b[33m[WARN]\u001b[39m (match_XQGm5T3Z5jkg) - turn 346; Unit u_287 collided when trying to move s to (30, 18)\n",
      "\u001b[33m[WARN]\u001b[39m (match_XQGm5T3Z5jkg) - turn 346; Unit u_305 collided when trying to move s to (30, 17)\n",
      "\u001b[33m[WARN]\u001b[39m (match_XQGm5T3Z5jkg) - turn 347; Unit u_259 collided when trying to move e to (23, 6)\n",
      "\u001b[33m[WARN]\u001b[39m (match_XQGm5T3Z5jkg) - turn 347; Unit u_251 collided when trying to move e to (22, 6)\n",
      "\u001b[33m[WARN]\u001b[39m (match_XQGm5T3Z5jkg) - turn 347; Unit u_287 collided when trying to move s to (30, 18)\n",
      "\u001b[33m[WARN]\u001b[39m (match_XQGm5T3Z5jkg) - turn 347; Unit u_305 collided when trying to move s to (30, 17)\n",
      "\u001b[33m[WARN]\u001b[39m (match_XQGm5T3Z5jkg) - turn 348; Unit u_259 collided when trying to move e to (23, 6)\n",
      "\u001b[33m[WARN]\u001b[39m (match_XQGm5T3Z5jkg) - turn 348; Unit u_251 collided when trying to move e to (22, 6)\n",
      "\u001b[33m[WARN]\u001b[39m (match_XQGm5T3Z5jkg) - turn 348; Unit u_287 collided when trying to move s to (30, 18)\n",
      "\u001b[33m[WARN]\u001b[39m (match_XQGm5T3Z5jkg) - turn 348; Unit u_305 collided when trying to move s to (30, 17)\n",
      "\u001b[33m[WARN]\u001b[39m (match_XQGm5T3Z5jkg) - turn 349; Unit u_259 collided when trying to move e to (23, 6)\n",
      "\u001b[33m[WARN]\u001b[39m (match_XQGm5T3Z5jkg) - turn 349; Unit u_251 collided when trying to move e to (22, 6)\n",
      "\u001b[33m[WARN]\u001b[39m (match_XQGm5T3Z5jkg) - turn 349; Unit u_287 collided when trying to move s to (30, 18)\n",
      "\u001b[33m[WARN]\u001b[39m (match_XQGm5T3Z5jkg) - turn 349; Unit u_305 collided when trying to move s to (30, 17)\n",
      "\u001b[33m[WARN]\u001b[39m (match_XQGm5T3Z5jkg) - turn 350; Unit u_259 collided when trying to move e to (23, 6)\n",
      "\u001b[33m[WARN]\u001b[39m (match_XQGm5T3Z5jkg) - turn 350; Unit u_251 collided when trying to move e to (22, 6)\n",
      "\u001b[33m[WARN]\u001b[39m (match_XQGm5T3Z5jkg) - turn 350; Unit u_287 collided when trying to move s to (30, 18)\n",
      "\u001b[33m[WARN]\u001b[39m (match_XQGm5T3Z5jkg) - turn 350; Unit u_305 collided when trying to move s to (30, 17)\n",
      "{\n",
      "  ranks: [\n",
      "    { rank: 1, agentID: 1, name: '../submissions/simple/main.py' },\n",
      "    { rank: 2, agentID: 0, name: '../submissions/simple/main.py' }\n",
      "  ],\n",
      "  replayFile: 'replays/284447005.json',\n",
      "  seed: 42\n",
      "}\n",
      "\n"
     ]
    }
   ],
   "source": [
    "r = run_game(simple_bot, simple_bot, 42)"
   ]
  },
  {
   "cell_type": "code",
   "execution_count": 69,
   "metadata": {},
   "outputs": [],
   "source": [
    "from joblib import Parallel, delayed"
   ]
  },
  {
   "cell_type": "code",
   "execution_count": 70,
   "metadata": {},
   "outputs": [],
   "source": [
    "def run_series(l, r, seed=42, n_runs=10, n_jobs=4):\n",
    "    import tqdm\n",
    "    assert n_runs % 2 == 0\n",
    "    results = []\n",
    "#     for t in tqdm.tqdm(np.arange(n_runs), position=0):\n",
    "#         if t % 2 == 0:\n",
    "#             g = run_game(left_bot, right_bot, seed + t, loglevel=0)\n",
    "#         else:\n",
    "#             g = run_game(right_bot, left_bot, seed + t, loglevel=0)\n",
    "#         results.append(g)\n",
    "    \n",
    "    with Parallel(n_jobs=n_jobs) as P:\n",
    "        results = P(delayed(run_game)(l if t % 2 == 0 else r, r if t % 2 == 0 else l, seed + t, 0) for t in tqdm.tqdm(np.arange(n_runs), position=0))\n",
    "    \n",
    "    return results"
   ]
  },
  {
   "cell_type": "code",
   "execution_count": 29,
   "metadata": {},
   "outputs": [],
   "source": [
    "def count_series(results: list):\n",
    "    wins = []\n",
    "    for i, r in enumerate(results):\n",
    "        ranks = r['results']['ranks']\n",
    "        teams = r['teamDetails']\n",
    "        if ranks[0]['rank'] == 1 and ranks[1]['rank'] == 2:\n",
    "            if ranks[0][\"agentID\"] == i % 2:\n",
    "                wins.append(1)\n",
    "            else:\n",
    "                wins.append(0)\n",
    "        else:\n",
    "            wins.append(0.5)\n",
    "    return wins"
   ]
  },
  {
   "cell_type": "code",
   "execution_count": 17,
   "metadata": {},
   "outputs": [],
   "source": [
    "def calc_z_test(series: np.array):\n",
    "    N = len(series)\n",
    "    p = 0.5\n",
    "    y = np.sum(series)\n",
    "    z = (y - N * p) / (N * p * (1 - p)) ** 0.5\n",
    "    \n",
    "    from scipy.stats import norm\n",
    "    def p_val(x):\n",
    "        return 2 * min(norm.cdf(-x), norm.cdf(x))\n",
    "    \n",
    "    return y / N, z, p_val(z)"
   ]
  },
  {
   "cell_type": "code",
   "execution_count": 86,
   "metadata": {},
   "outputs": [],
   "source": [
    "def build_bot_from_many(source) -> str:\n",
    "    if isinstance(source, dict):\n",
    "        s = build_runnable_bot_with_flags(source)\n",
    "    else:\n",
    "        assert isinstance(source, str)\n",
    "        s = source\n",
    "    return s\n",
    "\n",
    "def compare_flags(flags_left, flags_right, n_games: int=10, seed: int=42):\n",
    "    l = build_bot_from_many(flags_left)\n",
    "    r = build_bot_from_many(flags_right)\n",
    "    series = run_series(l, r, seed, n_games)\n",
    "    counts = count_series(series)\n",
    "    return calc_z_test(np.array(counts)), series[0]['results']"
   ]
  },
  {
   "cell_type": "code",
   "execution_count": 58,
   "metadata": {
    "scrolled": true
   },
   "outputs": [
    {
     "name": "stderr",
     "output_type": "stream",
     "text": [
      "100%|██████████| 20/20 [00:53<00:00,  2.68s/it]\n"
     ]
    },
    {
     "data": {
      "text/plain": [
       "(0.475, -0.22360679774997896, 0.8230632737581215)"
      ]
     },
     "execution_count": 58,
     "metadata": {},
     "output_type": "execute_result"
    }
   ],
   "source": [
    "compare_flags({\"alfa\": 0.9}, {\"alfa\": 0.0}, n_games=20)"
   ]
  },
  {
   "cell_type": "code",
   "execution_count": 59,
   "metadata": {
    "scrolled": true
   },
   "outputs": [
    {
     "name": "stderr",
     "output_type": "stream",
     "text": [
      "100%|██████████| 20/20 [00:56<00:00,  2.80s/it]\n"
     ]
    },
    {
     "data": {
      "text/plain": [
       "(0.5, 0.0, 1.0)"
      ]
     },
     "execution_count": 59,
     "metadata": {},
     "output_type": "execute_result"
    }
   ],
   "source": [
    "compare_flags({\"alfa\": 0.9}, {\"alfa\": 1.0}, n_games=20)"
   ]
  },
  {
   "cell_type": "code",
   "execution_count": 64,
   "metadata": {},
   "outputs": [
    {
     "name": "stderr",
     "output_type": "stream",
     "text": [
      "100%|██████████| 20/20 [00:59<00:00,  2.98s/it]\n"
     ]
    },
    {
     "data": {
      "text/plain": [
       "(0.3, -1.7888543819998317, 0.07363827012030266)"
      ]
     },
     "execution_count": 64,
     "metadata": {},
     "output_type": "execute_result"
    }
   ],
   "source": [
    "compare_flags({\"alfa\": 0.0}, {\"alfa\": 1.0}, n_games=20)"
   ]
  },
  {
   "cell_type": "code",
   "execution_count": 72,
   "metadata": {},
   "outputs": [
    {
     "name": "stderr",
     "output_type": "stream",
     "text": [
      "100%|██████████| 40/40 [00:40<00:00,  1.01s/it]\n"
     ]
    },
    {
     "data": {
      "text/plain": [
       "(0.35, -1.8973665961010275, 0.057779571123597245)"
      ]
     },
     "execution_count": 72,
     "metadata": {},
     "output_type": "execute_result"
    }
   ],
   "source": [
    "compare_flags({\"alfa\": 0.0}, {\"alfa\": 1.0}, n_games=40)"
   ]
  },
  {
   "cell_type": "code",
   "execution_count": 62,
   "metadata": {},
   "outputs": [
    {
     "name": "stderr",
     "output_type": "stream",
     "text": [
      "100%|██████████| 20/20 [00:50<00:00,  2.51s/it]\n"
     ]
    },
    {
     "data": {
      "text/plain": [
       "(0.425, -0.6708203932499369, 0.5023349543605021)"
      ]
     },
     "execution_count": 62,
     "metadata": {},
     "output_type": "execute_result"
    }
   ],
   "source": [
    "compare_flags({\"norm_fuel_to_city_size\": True}, {}, n_games=20)"
   ]
  },
  {
   "cell_type": "code",
   "execution_count": 76,
   "metadata": {},
   "outputs": [
    {
     "name": "stderr",
     "output_type": "stream",
     "text": [
      "100%|██████████| 40/40 [00:42<00:00,  1.06s/it]\n"
     ]
    },
    {
     "data": {
      "text/plain": [
       "(0.675, 2.2135943621178655, 0.026856695507524397)"
      ]
     },
     "execution_count": 76,
     "metadata": {},
     "output_type": "execute_result"
    }
   ],
   "source": [
    "compare_flags({\"go_resource_next_action_probs\": [0.25, 0.75]}, {}, n_games=40)"
   ]
  },
  {
   "cell_type": "code",
   "execution_count": 77,
   "metadata": {},
   "outputs": [
    {
     "name": "stderr",
     "output_type": "stream",
     "text": [
      "100%|██████████| 40/40 [00:41<00:00,  1.05s/it]\n"
     ]
    },
    {
     "data": {
      "text/plain": [
       "(0.65, 1.8973665961010275, 0.057779571123597245)"
      ]
     },
     "execution_count": 77,
     "metadata": {},
     "output_type": "execute_result"
    }
   ],
   "source": [
    "compare_flags({\"go_resource_next_action_probs\": [0.1, 0.9]}, {}, n_games=40)"
   ]
  },
  {
   "cell_type": "code",
   "execution_count": 83,
   "metadata": {},
   "outputs": [
    {
     "name": "stderr",
     "output_type": "stream",
     "text": [
      "100%|██████████| 40/40 [00:50<00:00,  1.27s/it]\n"
     ]
    },
    {
     "data": {
      "text/plain": [
       "((0.575, 0.9486832980505138, 0.34278171114791145),\n",
       " {'ranks': [{'rank': 1, 'agentID': 1}, {'rank': 2, 'agentID': 0}],\n",
       "  'replayFile': 'replays/34159252.json'})"
      ]
     },
     "execution_count": 83,
     "metadata": {},
     "output_type": "execute_result"
    }
   ],
   "source": [
    "compare_flags({\"go_resource_next_action_probs\": [0.25, 0.75], \"norm_probs_to_city_tiles\": True}, {}, n_games=40)"
   ]
  },
  {
   "cell_type": "code",
   "execution_count": 85,
   "metadata": {
    "scrolled": true
   },
   "outputs": [
    {
     "name": "stdout",
     "output_type": "stream",
     "text": [
      "\n",
      "-=-=-=-=-=-=-=-=-=-=-=-| \u001b[34m[INFO]\u001b[39m \u001b[1m\u001b[32mmatch_M2qKXLJ1wmsG\u001b[39m\u001b[22m |-=-=-=-=-=-=-=-=-=-=-=-\n",
      "\n",
      "\u001b[34m[INFO]\u001b[39m (match_M2qKXLJ1wmsG) - Design: lux_ai_2021 | Initializing match - ID: M2qKXLJ1wmsG, Name: match_M2qKXLJ1wmsG\n",
      "\u001b[33m[WARN]\u001b[39m (match_M2qKXLJ1wmsG) - turn 21; Unit u_4 collided when trying to move n to (2, 9)\n",
      "\u001b[33m[WARN]\u001b[39m (match_M2qKXLJ1wmsG) - turn 26; Unit u_1 collided when trying to move n to (1, 9)\n",
      "\u001b[33m[WARN]\u001b[39m (match_M2qKXLJ1wmsG) - turn 26; Unit u_6 collided when trying to move w to (1, 10)\n",
      "\u001b[33m[WARN]\u001b[39m (match_M2qKXLJ1wmsG) - turn 27; Unit u_1 collided when trying to move w to (0, 10)\n",
      "\u001b[33m[WARN]\u001b[39m (match_M2qKXLJ1wmsG) - turn 27; Unit u_6 collided when trying to move w to (1, 10)\n",
      "\u001b[33m[WARN]\u001b[39m (match_M2qKXLJ1wmsG) - turn 27; Unit u_3 collided when trying to move n to (0, 10)\n",
      "\u001b[33m[WARN]\u001b[39m (match_M2qKXLJ1wmsG) - turn 27; Unit u_7 collided when trying to move n to (0, 11)\n",
      "\u001b[33m[WARN]\u001b[39m (match_M2qKXLJ1wmsG) - turn 35; Unit u_3 collided when trying to move n to (1, 10)\n",
      "\u001b[33m[WARN]\u001b[39m (match_M2qKXLJ1wmsG) - turn 35; Unit u_6 collided when trying to move w to (1, 10)\n",
      "\u001b[33m[WARN]\u001b[39m (match_M2qKXLJ1wmsG) - turn 35; Unit u_1 collided when trying to move e to (2, 10)\n",
      "\u001b[33m[WARN]\u001b[39m (match_M2qKXLJ1wmsG) - turn 35; Unit u_3 collided when trying to move n to (1, 10)\n",
      "\u001b[33m[WARN]\u001b[39m (match_M2qKXLJ1wmsG) - turn 35; Unit u_6 collided when trying to move w to (1, 10)\n",
      "\u001b[33m[WARN]\u001b[39m (match_M2qKXLJ1wmsG) - turn 46; Unit u_8 collided when trying to move w to (2, 10)\n",
      "\u001b[33m[WARN]\u001b[39m (match_M2qKXLJ1wmsG) - turn 47; Unit u_3 collided when trying to move w to (1, 10)\n",
      "\u001b[33m[WARN]\u001b[39m (match_M2qKXLJ1wmsG) - turn 47; Unit u_8 collided when trying to move w to (2, 10)\n",
      "\u001b[33m[WARN]\u001b[39m (match_M2qKXLJ1wmsG) - turn 51; Unit u_1 collided when trying to move e to (1, 10)\n",
      "\u001b[33m[WARN]\u001b[39m (match_M2qKXLJ1wmsG) - turn 54; Unit u_3 collided when trying to move s to (1, 10)\n",
      "\u001b[33m[WARN]\u001b[39m (match_M2qKXLJ1wmsG) - turn 59; Unit u_10 collided when trying to move s to (15, 11)\n",
      "\u001b[33m[WARN]\u001b[39m (match_M2qKXLJ1wmsG) - turn 59; Unit u_12 collided when trying to move s to (15, 10)\n",
      "\u001b[33m[WARN]\u001b[39m (match_M2qKXLJ1wmsG) - turn 60; Unit u_3 collided when trying to move s to (0, 11)\n",
      "\u001b[33m[WARN]\u001b[39m (match_M2qKXLJ1wmsG) - turn 60; Unit u_6 collided when trying to move w to (0, 10)\n",
      "\u001b[33m[WARN]\u001b[39m (match_M2qKXLJ1wmsG) - turn 60; Unit u_10 collided when trying to move w to (14, 10)\n",
      "\u001b[33m[WARN]\u001b[39m (match_M2qKXLJ1wmsG) - turn 61; Unit u_6 collided when trying to move w to (0, 10)\n",
      "\u001b[33m[WARN]\u001b[39m (match_M2qKXLJ1wmsG) - turn 62; Unit u_1 collided when trying to move n to (0, 10)\n",
      "\u001b[33m[WARN]\u001b[39m (match_M2qKXLJ1wmsG) - turn 63; Unit u_2 collided when trying to move s to (15, 11)\n",
      "\u001b[33m[WARN]\u001b[39m (match_M2qKXLJ1wmsG) - turn 63; Unit u_10 collided when trying to move e to (15, 10)\n",
      "\u001b[33m[WARN]\u001b[39m (match_M2qKXLJ1wmsG) - turn 63; Unit u_9 collided when trying to move e to (14, 10)\n",
      "\u001b[33m[WARN]\u001b[39m (match_M2qKXLJ1wmsG) - turn 63; Unit u_11 collided when trying to move e to (13, 10)\n",
      "\u001b[33m[WARN]\u001b[39m (match_M2qKXLJ1wmsG) - turn 64; Unit u_5 collided when trying to move n to (15, 10)\n",
      "\u001b[33m[WARN]\u001b[39m (match_M2qKXLJ1wmsG) - turn 64; Unit u_2 collided when trying to move s to (15, 11)\n",
      "\u001b[33m[WARN]\u001b[39m (match_M2qKXLJ1wmsG) - turn 64; Unit u_5 collided when trying to move n to (15, 10)\n",
      "\u001b[33m[WARN]\u001b[39m (match_M2qKXLJ1wmsG) - turn 64; Unit u_10 collided when trying to move e to (15, 10)\n",
      "\u001b[33m[WARN]\u001b[39m (match_M2qKXLJ1wmsG) - turn 64; Unit u_9 collided when trying to move e to (14, 10)\n",
      "\u001b[33m[WARN]\u001b[39m (match_M2qKXLJ1wmsG) - turn 64; Unit u_10 collided when trying to move e to (15, 10)\n",
      "\u001b[33m[WARN]\u001b[39m (match_M2qKXLJ1wmsG) - turn 92; Unit u_19 collided when trying to move w to (4, 11)\n",
      "\u001b[33m[WARN]\u001b[39m (match_M2qKXLJ1wmsG) - turn 95; Unit u_19 collided when trying to move w to (3, 11)\n",
      "\u001b[33m[WARN]\u001b[39m (match_M2qKXLJ1wmsG) - turn 95; Unit u_6 collided when trying to move w to (4, 11)\n",
      "\u001b[33m[WARN]\u001b[39m (match_M2qKXLJ1wmsG) - turn 96; Unit u_19 collided when trying to move w to (3, 11)\n",
      "\u001b[33m[WARN]\u001b[39m (match_M2qKXLJ1wmsG) - turn 98; Unit u_20 collided when trying to move w to (4, 11)\n",
      "\u001b[33m[WARN]\u001b[39m (match_M2qKXLJ1wmsG) - turn 98; Unit u_22 collided when trying to move s to (5, 11)\n",
      "\u001b[33m[WARN]\u001b[39m (match_M2qKXLJ1wmsG) - turn 103; Unit u_23 collided when trying to move w to (4, 11)\n",
      "\u001b[33m[WARN]\u001b[39m (match_M2qKXLJ1wmsG) - turn 106; Unit u_20 collided when trying to move n to (5, 11)\n",
      "\u001b[33m[WARN]\u001b[39m (match_M2qKXLJ1wmsG) - turn 106; Unit u_22 collided when trying to move e to (5, 12)\n",
      "\u001b[33m[WARN]\u001b[39m (match_M2qKXLJ1wmsG) - turn 108; Unit u_13 collided when trying to move e to (11, 9)\n",
      "\u001b[33m[WARN]\u001b[39m (match_M2qKXLJ1wmsG) - turn 108; Unit u_18 collided when trying to move s to (11, 9)\n",
      "\u001b[33m[WARN]\u001b[39m (match_M2qKXLJ1wmsG) - turn 109; Unit u_13 collided when trying to move e to (11, 9)\n",
      "\u001b[33m[WARN]\u001b[39m (match_M2qKXLJ1wmsG) - turn 109; Unit u_18 collided when trying to move s to (11, 9)\n",
      "\u001b[33m[WARN]\u001b[39m (match_M2qKXLJ1wmsG) - turn 110; Unit u_13 collided when trying to move e to (11, 9)\n",
      "\u001b[33m[WARN]\u001b[39m (match_M2qKXLJ1wmsG) - turn 110; Unit u_18 collided when trying to move s to (11, 9)\n",
      "\u001b[33m[WARN]\u001b[39m (match_M2qKXLJ1wmsG) - turn 111; Unit u_20 collided when trying to move e to (5, 13)\n",
      "\u001b[33m[WARN]\u001b[39m (match_M2qKXLJ1wmsG) - turn 111; Unit u_24 collided when trying to move s to (5, 13)\n",
      "\u001b[33m[WARN]\u001b[39m (match_M2qKXLJ1wmsG) - turn 111; Unit u_13 collided when trying to move e to (11, 9)\n",
      "\u001b[33m[WARN]\u001b[39m (match_M2qKXLJ1wmsG) - turn 111; Unit u_18 collided when trying to move s to (11, 9)\n",
      "\u001b[33m[WARN]\u001b[39m (match_M2qKXLJ1wmsG) - turn 116; Unit u_22 collided when trying to move e to (5, 12)\n",
      "\u001b[33m[WARN]\u001b[39m (match_M2qKXLJ1wmsG) - turn 116; Unit u_24 collided when trying to move w to (5, 12)\n",
      "\u001b[33m[WARN]\u001b[39m (match_M2qKXLJ1wmsG) - turn 116; Unit u_6 collided when trying to move e to (6, 12)\n",
      "\u001b[33m[WARN]\u001b[39m (match_M2qKXLJ1wmsG) - turn 116; Unit u_22 collided when trying to move e to (5, 12)\n",
      "\u001b[33m[WARN]\u001b[39m (match_M2qKXLJ1wmsG) - turn 116; Unit u_24 collided when trying to move w to (5, 12)\n",
      "\u001b[33m[WARN]\u001b[39m (match_M2qKXLJ1wmsG) - turn 117; Unit u_24 collided when trying to move w to (5, 12)\n",
      "\u001b[33m[WARN]\u001b[39m (match_M2qKXLJ1wmsG) - turn 118; Unit u_24 collided when trying to move w to (5, 12)\n",
      "\u001b[33m[WARN]\u001b[39m (match_M2qKXLJ1wmsG) - turn 119; Unit u_24 collided when trying to move w to (5, 12)\n",
      "\u001b[33m[WARN]\u001b[39m (match_M2qKXLJ1wmsG) - turn 119; Unit u_23 collided when trying to move w to (6, 12)\n",
      "\u001b[33m[WARN]\u001b[39m (match_M2qKXLJ1wmsG) - turn 120; Unit u_24 collided when trying to move w to (5, 12)\n",
      "\u001b[33m[WARN]\u001b[39m (match_M2qKXLJ1wmsG) - turn 121; Unit u_24 collided when trying to move w to (5, 12)\n",
      "\u001b[33m[WARN]\u001b[39m (match_M2qKXLJ1wmsG) - turn 122; Unit u_10 collided when trying to move n to (10, 11)\n",
      "\u001b[33m[WARN]\u001b[39m (match_M2qKXLJ1wmsG) - turn 130; Unit u_29 collided when trying to move s to (5, 14)\n",
      "\u001b[33m[WARN]\u001b[39m (match_M2qKXLJ1wmsG) - turn 134; Unit u_18 collided when trying to move n to (13, 4)\n",
      "\u001b[33m[WARN]\u001b[39m (match_M2qKXLJ1wmsG) - turn 135; Unit u_18 collided when trying to move n to (13, 4)\n",
      "\u001b[33m[WARN]\u001b[39m (match_M2qKXLJ1wmsG) - turn 136; Unit u_24 collided when trying to move n to (6, 12)\n",
      "\u001b[33m[WARN]\u001b[39m (match_M2qKXLJ1wmsG) - turn 137; Unit u_13 collided when trying to move e to (11, 12)\n",
      "\u001b[33m[WARN]\u001b[39m (match_M2qKXLJ1wmsG) - turn 140; Unit u_10 collided when trying to move e to (11, 12)\n",
      "\u001b[33m[WARN]\u001b[39m (match_M2qKXLJ1wmsG) - turn 146; Unit u_13 collided when trying to move w to (9, 12)\n",
      "\u001b[33m[WARN]\u001b[39m (match_M2qKXLJ1wmsG) - turn 147; Unit u_22 collided when trying to move e to (9, 12)\n",
      "\u001b[33m[WARN]\u001b[39m (match_M2qKXLJ1wmsG) - turn 147; Unit u_13 collided when trying to move w to (9, 12)\n",
      "\u001b[33m[WARN]\u001b[39m (match_M2qKXLJ1wmsG) - turn 148; Unit u_22 collided when trying to move e to (9, 12)\n",
      "\u001b[33m[WARN]\u001b[39m (match_M2qKXLJ1wmsG) - turn 148; Unit u_13 collided when trying to move w to (9, 12)\n",
      "\u001b[33m[WARN]\u001b[39m (match_M2qKXLJ1wmsG) - turn 149; Unit u_22 collided when trying to move e to (9, 12)\n",
      "\u001b[33m[WARN]\u001b[39m (match_M2qKXLJ1wmsG) - turn 149; Unit u_13 collided when trying to move w to (9, 12)\n",
      "\u001b[33m[WARN]\u001b[39m (match_M2qKXLJ1wmsG) - turn 150; Unit u_22 collided when trying to move e to (9, 12)\n",
      "\u001b[33m[WARN]\u001b[39m (match_M2qKXLJ1wmsG) - turn 150; Unit u_13 collided when trying to move w to (9, 12)\n",
      "\u001b[33m[WARN]\u001b[39m (match_M2qKXLJ1wmsG) - Agent 0 tried to move unit u_20 onto opponent CityTile; turn 152; cmd: m u_20 e\n",
      "\u001b[33m[WARN]\u001b[39m (match_M2qKXLJ1wmsG) - turn 163; Unit u_5 collided when trying to move s to (14, 2)\n",
      "\u001b[33m[WARN]\u001b[39m (match_M2qKXLJ1wmsG) - turn 169; Unit u_33 collided when trying to move e to (12, 2)\n",
      "\u001b[33m[WARN]\u001b[39m (match_M2qKXLJ1wmsG) - turn 171; Unit u_40 collided when trying to move w to (9, 12)\n",
      "\u001b[33m[WARN]\u001b[39m (match_M2qKXLJ1wmsG) - Agent 0 tried to move unit u_38 onto opponent CityTile; turn 175; cmd: m u_38 e\n",
      "\u001b[33m[WARN]\u001b[39m (match_M2qKXLJ1wmsG) - Agent 0 tried to move unit u_39 onto opponent CityTile; turn 175; cmd: m u_39 n\n",
      "\u001b[33m[WARN]\u001b[39m (match_M2qKXLJ1wmsG) - Agent 0 tried to move unit u_38 onto opponent CityTile; turn 176; cmd: m u_38 e\n",
      "\u001b[33m[WARN]\u001b[39m (match_M2qKXLJ1wmsG) - Agent 0 tried to move unit u_38 onto opponent CityTile; turn 177; cmd: m u_38 e\n",
      "\u001b[33m[WARN]\u001b[39m (match_M2qKXLJ1wmsG) - Agent 0 tried to move unit u_38 onto opponent CityTile; turn 178; cmd: m u_38 e\n",
      "\u001b[33m[WARN]\u001b[39m (match_M2qKXLJ1wmsG) - Agent 0 tried to move unit u_38 onto opponent CityTile; turn 179; cmd: m u_38 e\n",
      "\u001b[33m[WARN]\u001b[39m (match_M2qKXLJ1wmsG) - Agent 0 tried to move unit u_38 onto opponent CityTile; turn 180; cmd: m u_38 e\n",
      "\u001b[33m[WARN]\u001b[39m (match_M2qKXLJ1wmsG) - Agent 0 tried to move unit u_38 onto opponent CityTile; turn 181; cmd: m u_38 e\n",
      "\u001b[33m[WARN]\u001b[39m (match_M2qKXLJ1wmsG) - Agent 0 tried to move unit u_38 onto opponent CityTile; turn 182; cmd: m u_38 e\n",
      "\u001b[33m[WARN]\u001b[39m (match_M2qKXLJ1wmsG) - Agent 0 tried to move unit u_38 onto opponent CityTile; turn 183; cmd: m u_38 e\n",
      "\u001b[33m[WARN]\u001b[39m (match_M2qKXLJ1wmsG) - Agent 0 tried to move unit u_38 onto opponent CityTile; turn 184; cmd: m u_38 e\n",
      "\u001b[33m[WARN]\u001b[39m (match_M2qKXLJ1wmsG) - Agent 0 tried to move unit u_38 onto opponent CityTile; turn 185; cmd: m u_38 e\n",
      "\u001b[33m[WARN]\u001b[39m (match_M2qKXLJ1wmsG) - Agent 0 tried to move unit u_38 onto opponent CityTile; turn 186; cmd: m u_38 e\n",
      "\u001b[33m[WARN]\u001b[39m (match_M2qKXLJ1wmsG) - Agent 0 tried to move unit u_38 onto opponent CityTile; turn 187; cmd: m u_38 e\n",
      "\u001b[33m[WARN]\u001b[39m (match_M2qKXLJ1wmsG) - Agent 0 tried to move unit u_38 onto opponent CityTile; turn 188; cmd: m u_38 e\n",
      "\u001b[33m[WARN]\u001b[39m (match_M2qKXLJ1wmsG) - Agent 0 tried to move unit u_38 onto opponent CityTile; turn 189; cmd: m u_38 e\n",
      "\u001b[33m[WARN]\u001b[39m (match_M2qKXLJ1wmsG) - Agent 0 tried to move unit u_38 onto opponent CityTile; turn 190; cmd: m u_38 e\n",
      "\u001b[33m[WARN]\u001b[39m (match_M2qKXLJ1wmsG) - turn 191; Unit u_36 collided when trying to move w to (10, 5)\n",
      "\u001b[33m[WARN]\u001b[39m (match_M2qKXLJ1wmsG) - turn 191; Unit u_40 collided when trying to move e to (10, 5)\n",
      "\u001b[33m[WARN]\u001b[39m (match_M2qKXLJ1wmsG) - turn 194; Unit u_41 collided when trying to move s to (10, 5)\n",
      "\u001b[33m[WARN]\u001b[39m (match_M2qKXLJ1wmsG) - Agent 0 tried to move unit u_36 onto opponent CityTile; turn 196; cmd: m u_36 n\n",
      "\u001b[33m[WARN]\u001b[39m (match_M2qKXLJ1wmsG) - turn 203; Unit u_13 collided when trying to move n to (15, 14)\n",
      "\u001b[33m[WARN]\u001b[39m (match_M2qKXLJ1wmsG) - turn 204; Unit u_31 collided when trying to move w to (11, 2)\n",
      "\u001b[33m[WARN]\u001b[39m (match_M2qKXLJ1wmsG) - turn 205; Unit u_40 collided when trying to move n to (11, 4)\n",
      "\u001b[33m[WARN]\u001b[39m (match_M2qKXLJ1wmsG) - turn 207; Unit u_37 collided when trying to move e to (10, 5)\n",
      "\u001b[33m[WARN]\u001b[39m (match_M2qKXLJ1wmsG) - turn 208; Unit u_40 collided when trying to move n to (11, 4)\n",
      "\u001b[33m[WARN]\u001b[39m (match_M2qKXLJ1wmsG) - turn 209; Unit u_5 collided when trying to move w to (11, 2)\n",
      "\u001b[33m[WARN]\u001b[39m (match_M2qKXLJ1wmsG) - turn 209; Unit u_12 collided when trying to move w to (12, 2)\n",
      "\u001b[33m[WARN]\u001b[39m (match_M2qKXLJ1wmsG) - turn 210; Unit u_40 collided when trying to move n to (11, 4)\n",
      "\u001b[33m[WARN]\u001b[39m (match_M2qKXLJ1wmsG) - turn 210; Unit u_41 collided when trying to move e to (11, 4)\n",
      "\u001b[33m[WARN]\u001b[39m (match_M2qKXLJ1wmsG) - turn 211; Unit u_47 collided when trying to move n to (11, 2)\n",
      "\u001b[33m[WARN]\u001b[39m (match_M2qKXLJ1wmsG) - turn 213; Unit u_40 collided when trying to move n to (11, 3)\n",
      "\u001b[33m[WARN]\u001b[39m (match_M2qKXLJ1wmsG) - turn 216; Unit u_40 collided when trying to move w to (10, 3)\n",
      "\u001b[33m[WARN]\u001b[39m (match_M2qKXLJ1wmsG) - turn 217; Unit u_37 collided when trying to move n to (11, 4)\n",
      "\u001b[33m[WARN]\u001b[39m (match_M2qKXLJ1wmsG) - turn 217; Unit u_40 collided when trying to move s to (11, 4)\n",
      "\u001b[33m[WARN]\u001b[39m (match_M2qKXLJ1wmsG) - turn 217; Unit u_5 collided when trying to move e to (11, 3)\n",
      "\u001b[33m[WARN]\u001b[39m (match_M2qKXLJ1wmsG) - turn 217; Unit u_31 collided when trying to move s to (11, 3)\n",
      "\u001b[33m[WARN]\u001b[39m (match_M2qKXLJ1wmsG) - turn 217; Unit u_47 collided when trying to move e to (11, 2)\n",
      "\u001b[33m[WARN]\u001b[39m (match_M2qKXLJ1wmsG) - Agent 0 tried to move unit u_36 onto opponent CityTile; turn 218; cmd: m u_36 e\n",
      "\u001b[33m[WARN]\u001b[39m (match_M2qKXLJ1wmsG) - turn 218; Unit u_18 collided when trying to move w to (11, 3)\n",
      "\u001b[33m[WARN]\u001b[39m (match_M2qKXLJ1wmsG) - turn 218; Unit u_31 collided when trying to move s to (11, 3)\n",
      "\u001b[33m[WARN]\u001b[39m (match_M2qKXLJ1wmsG) - Agent 0 tried to move unit u_36 onto opponent CityTile; turn 219; cmd: m u_36 e\n",
      "\u001b[33m[WARN]\u001b[39m (match_M2qKXLJ1wmsG) - Agent 0 tried to move unit u_36 onto opponent CityTile; turn 220; cmd: m u_36 e\n",
      "\u001b[33m[WARN]\u001b[39m (match_M2qKXLJ1wmsG) - Agent 0 tried to move unit u_36 onto opponent CityTile; turn 221; cmd: m u_36 e\n",
      "\u001b[33m[WARN]\u001b[39m (match_M2qKXLJ1wmsG) - Agent 0 tried to move unit u_36 onto opponent CityTile; turn 222; cmd: m u_36 e\n",
      "\u001b[33m[WARN]\u001b[39m (match_M2qKXLJ1wmsG) - Agent 0 tried to move unit u_36 onto opponent CityTile; turn 223; cmd: m u_36 e\n",
      "\u001b[33m[WARN]\u001b[39m (match_M2qKXLJ1wmsG) - turn 223; Unit u_40 collided when trying to move n to (11, 2)\n",
      "\u001b[33m[WARN]\u001b[39m (match_M2qKXLJ1wmsG) - Agent 0 tried to move unit u_36 onto opponent CityTile; turn 224; cmd: m u_36 e\n",
      "\u001b[33m[WARN]\u001b[39m (match_M2qKXLJ1wmsG) - turn 224; Unit u_40 collided when trying to move e to (12, 3)\n",
      "\u001b[33m[WARN]\u001b[39m (match_M2qKXLJ1wmsG) - turn 224; Unit u_37 collided when trying to move n to (11, 3)\n",
      "\u001b[33m[WARN]\u001b[39m (match_M2qKXLJ1wmsG) - Agent 0 tried to move unit u_36 onto opponent CityTile; turn 225; cmd: m u_36 e\n",
      "\u001b[33m[WARN]\u001b[39m (match_M2qKXLJ1wmsG) - turn 225; Unit u_40 collided when trying to move e to (12, 3)\n",
      "\u001b[33m[WARN]\u001b[39m (match_M2qKXLJ1wmsG) - turn 225; Unit u_37 collided when trying to move n to (11, 3)\n",
      "\u001b[33m[WARN]\u001b[39m (match_M2qKXLJ1wmsG) - Agent 0 tried to move unit u_36 onto opponent CityTile; turn 226; cmd: m u_36 e\n",
      "\u001b[33m[WARN]\u001b[39m (match_M2qKXLJ1wmsG) - turn 226; Unit u_37 collided when trying to move n to (11, 3)\n",
      "\u001b[33m[WARN]\u001b[39m (match_M2qKXLJ1wmsG) - turn 226; Unit u_12 collided when trying to move w to (11, 3)\n",
      "\u001b[33m[WARN]\u001b[39m (match_M2qKXLJ1wmsG) - turn 226; Unit u_40 collided when trying to move e to (12, 3)\n",
      "\u001b[33m[WARN]\u001b[39m (match_M2qKXLJ1wmsG) - turn 226; Unit u_37 collided when trying to move n to (11, 3)\n",
      "\u001b[33m[WARN]\u001b[39m (match_M2qKXLJ1wmsG) - turn 226; Unit u_12 collided when trying to move w to (11, 3)\n",
      "\u001b[33m[WARN]\u001b[39m (match_M2qKXLJ1wmsG) - turn 226; Unit u_18 collided when trying to move s to (12, 3)\n",
      "\u001b[33m[WARN]\u001b[39m (match_M2qKXLJ1wmsG) - Agent 0 tried to move unit u_36 onto opponent CityTile; turn 227; cmd: m u_36 e\n",
      "\u001b[33m[WARN]\u001b[39m (match_M2qKXLJ1wmsG) - turn 227; Unit u_37 collided when trying to move n to (11, 3)\n",
      "\u001b[33m[WARN]\u001b[39m (match_M2qKXLJ1wmsG) - turn 227; Unit u_12 collided when trying to move w to (11, 3)\n",
      "\u001b[33m[WARN]\u001b[39m (match_M2qKXLJ1wmsG) - Agent 0 tried to move unit u_36 onto opponent CityTile; turn 228; cmd: m u_36 e\n",
      "\u001b[33m[WARN]\u001b[39m (match_M2qKXLJ1wmsG) - Agent 0 tried to move unit u_36 onto opponent CityTile; turn 229; cmd: m u_36 e\n",
      "\u001b[33m[WARN]\u001b[39m (match_M2qKXLJ1wmsG) - turn 229; Unit u_5 collided when trying to move w to (9, 3)\n",
      "\u001b[33m[WARN]\u001b[39m (match_M2qKXLJ1wmsG) - Agent 0 tried to move unit u_36 onto opponent CityTile; turn 230; cmd: m u_36 e\n",
      "\u001b[33m[WARN]\u001b[39m (match_M2qKXLJ1wmsG) - Agent 0 tried to move unit u_36 onto opponent CityTile; turn 231; cmd: m u_36 e\n",
      "\u001b[33m[WARN]\u001b[39m (match_M2qKXLJ1wmsG) - Agent 0 tried to move unit u_40 onto opponent CityTile; turn 231; cmd: m u_40 e\n",
      "\u001b[33m[WARN]\u001b[39m (match_M2qKXLJ1wmsG) - Agent 0 tried to move unit u_36 onto opponent CityTile; turn 232; cmd: m u_36 e\n",
      "\u001b[33m[WARN]\u001b[39m (match_M2qKXLJ1wmsG) - Agent 0 tried to move unit u_36 onto opponent CityTile; turn 233; cmd: m u_36 e\n",
      "\u001b[33m[WARN]\u001b[39m (match_M2qKXLJ1wmsG) - Agent 0 tried to move unit u_36 onto opponent CityTile; turn 234; cmd: m u_36 e\n",
      "\u001b[33m[WARN]\u001b[39m (match_M2qKXLJ1wmsG) - Agent 0 tried to move unit u_36 onto opponent CityTile; turn 235; cmd: m u_36 e\n",
      "\u001b[33m[WARN]\u001b[39m (match_M2qKXLJ1wmsG) - Agent 0 tried to move unit u_36 onto opponent CityTile; turn 236; cmd: m u_36 e\n",
      "\u001b[33m[WARN]\u001b[39m (match_M2qKXLJ1wmsG) - Agent 0 tried to move unit u_36 onto opponent CityTile; turn 237; cmd: m u_36 e\n",
      "\u001b[33m[WARN]\u001b[39m (match_M2qKXLJ1wmsG) - Agent 0 tried to move unit u_36 onto opponent CityTile; turn 238; cmd: m u_36 e\n",
      "\u001b[33m[WARN]\u001b[39m (match_M2qKXLJ1wmsG) - Agent 0 tried to move unit u_36 onto opponent CityTile; turn 239; cmd: m u_36 e\n",
      "\u001b[33m[WARN]\u001b[39m (match_M2qKXLJ1wmsG) - Agent 0 tried to move unit u_36 onto opponent CityTile; turn 240; cmd: m u_36 e\n",
      "\u001b[33m[WARN]\u001b[39m (match_M2qKXLJ1wmsG) - Agent 0 tried to move unit u_36 onto opponent CityTile; turn 241; cmd: m u_36 e\n",
      "\u001b[33m[WARN]\u001b[39m (match_M2qKXLJ1wmsG) - Agent 0 tried to move unit u_36 onto opponent CityTile; turn 242; cmd: m u_36 e\n",
      "\u001b[33m[WARN]\u001b[39m (match_M2qKXLJ1wmsG) - Agent 0 tried to move unit u_36 onto opponent CityTile; turn 243; cmd: m u_36 e\n",
      "\u001b[33m[WARN]\u001b[39m (match_M2qKXLJ1wmsG) - Agent 0 tried to move unit u_36 onto opponent CityTile; turn 244; cmd: m u_36 e\n",
      "\u001b[33m[WARN]\u001b[39m (match_M2qKXLJ1wmsG) - Agent 0 tried to move unit u_36 onto opponent CityTile; turn 245; cmd: m u_36 e\n",
      "\u001b[33m[WARN]\u001b[39m (match_M2qKXLJ1wmsG) - Agent 0 tried to move unit u_36 onto opponent CityTile; turn 246; cmd: m u_36 e\n",
      "\u001b[33m[WARN]\u001b[39m (match_M2qKXLJ1wmsG) - Agent 0 tried to move unit u_36 onto opponent CityTile; turn 247; cmd: m u_36 e\n",
      "\u001b[33m[WARN]\u001b[39m (match_M2qKXLJ1wmsG) - Agent 0 tried to move unit u_36 onto opponent CityTile; turn 248; cmd: m u_36 e\n",
      "\u001b[33m[WARN]\u001b[39m (match_M2qKXLJ1wmsG) - Agent 0 tried to move unit u_36 onto opponent CityTile; turn 249; cmd: m u_36 e\n",
      "\u001b[33m[WARN]\u001b[39m (match_M2qKXLJ1wmsG) - Agent 0 tried to move unit u_36 onto opponent CityTile; turn 250; cmd: m u_36 e\n",
      "\u001b[33m[WARN]\u001b[39m (match_M2qKXLJ1wmsG) - Agent 0 tried to move unit u_36 onto opponent CityTile; turn 251; cmd: m u_36 e\n",
      "\u001b[33m[WARN]\u001b[39m (match_M2qKXLJ1wmsG) - Agent 0 tried to move unit u_36 onto opponent CityTile; turn 252; cmd: m u_36 e\n",
      "\u001b[33m[WARN]\u001b[39m (match_M2qKXLJ1wmsG) - Agent 0 tried to move unit u_36 onto opponent CityTile; turn 253; cmd: m u_36 e\n",
      "\u001b[33m[WARN]\u001b[39m (match_M2qKXLJ1wmsG) - Agent 0 tried to move unit u_36 onto opponent CityTile; turn 254; cmd: m u_36 e\n",
      "\u001b[33m[WARN]\u001b[39m (match_M2qKXLJ1wmsG) - Agent 0 tried to move unit u_36 onto opponent CityTile; turn 255; cmd: m u_36 e\n",
      "\u001b[33m[WARN]\u001b[39m (match_M2qKXLJ1wmsG) - Agent 0 tried to move unit u_36 onto opponent CityTile; turn 256; cmd: m u_36 e\n",
      "\u001b[33m[WARN]\u001b[39m (match_M2qKXLJ1wmsG) - Agent 0 tried to move unit u_36 onto opponent CityTile; turn 257; cmd: m u_36 e\n",
      "\u001b[33m[WARN]\u001b[39m (match_M2qKXLJ1wmsG) - Agent 0 tried to move unit u_36 onto opponent CityTile; turn 258; cmd: m u_36 e\n",
      "\u001b[33m[WARN]\u001b[39m (match_M2qKXLJ1wmsG) - Agent 0 tried to move unit u_36 onto opponent CityTile; turn 259; cmd: m u_36 e\n",
      "\u001b[33m[WARN]\u001b[39m (match_M2qKXLJ1wmsG) - Agent 0 tried to move unit u_36 onto opponent CityTile; turn 260; cmd: m u_36 e\n",
      "\u001b[33m[WARN]\u001b[39m (match_M2qKXLJ1wmsG) - Agent 0 tried to move unit u_36 onto opponent CityTile; turn 261; cmd: m u_36 e\n",
      "\u001b[33m[WARN]\u001b[39m (match_M2qKXLJ1wmsG) - Agent 0 tried to move unit u_36 onto opponent CityTile; turn 262; cmd: m u_36 e\n",
      "\u001b[33m[WARN]\u001b[39m (match_M2qKXLJ1wmsG) - Agent 0 tried to move unit u_36 onto opponent CityTile; turn 263; cmd: m u_36 e\n",
      "\u001b[33m[WARN]\u001b[39m (match_M2qKXLJ1wmsG) - Agent 0 tried to move unit u_36 onto opponent CityTile; turn 264; cmd: m u_36 e\n",
      "\u001b[33m[WARN]\u001b[39m (match_M2qKXLJ1wmsG) - turn 264; Unit u_66 collided when trying to move n to (4, 1)\n",
      "\u001b[33m[WARN]\u001b[39m (match_M2qKXLJ1wmsG) - Agent 0 tried to move unit u_36 onto opponent CityTile; turn 265; cmd: m u_36 e\n",
      "\u001b[33m[WARN]\u001b[39m (match_M2qKXLJ1wmsG) - turn 265; Unit u_13 collided when trying to move s to (15, 4)\n",
      "\u001b[33m[WARN]\u001b[39m (match_M2qKXLJ1wmsG) - Agent 0 tried to move unit u_36 onto opponent CityTile; turn 266; cmd: m u_36 e\n",
      "\u001b[33m[WARN]\u001b[39m (match_M2qKXLJ1wmsG) - turn 266; Unit u_13 collided when trying to move s to (15, 4)\n",
      "\u001b[33m[WARN]\u001b[39m (match_M2qKXLJ1wmsG) - Agent 0 tried to move unit u_36 onto opponent CityTile; turn 267; cmd: m u_36 e\n",
      "\u001b[33m[WARN]\u001b[39m (match_M2qKXLJ1wmsG) - turn 267; Unit u_13 collided when trying to move s to (15, 4)\n",
      "\u001b[33m[WARN]\u001b[39m (match_M2qKXLJ1wmsG) - Agent 0 tried to move unit u_36 onto opponent CityTile; turn 268; cmd: m u_36 e\n",
      "\u001b[33m[WARN]\u001b[39m (match_M2qKXLJ1wmsG) - turn 268; Unit u_13 collided when trying to move s to (15, 4)\n",
      "\u001b[33m[WARN]\u001b[39m (match_M2qKXLJ1wmsG) - Agent 0 tried to move unit u_36 onto opponent CityTile; turn 269; cmd: m u_36 e\n",
      "\u001b[33m[WARN]\u001b[39m (match_M2qKXLJ1wmsG) - turn 269; Unit u_13 collided when trying to move s to (15, 4)\n",
      "\u001b[33m[WARN]\u001b[39m (match_M2qKXLJ1wmsG) - turn 269; Unit u_64 collided when trying to move w to (2, 2)\n",
      "\u001b[33m[WARN]\u001b[39m (match_M2qKXLJ1wmsG) - Agent 0 tried to move unit u_36 onto opponent CityTile; turn 270; cmd: m u_36 e\n",
      "\u001b[33m[WARN]\u001b[39m (match_M2qKXLJ1wmsG) - turn 270; Unit u_66 collided when trying to move e to (3, 2)\n",
      "\u001b[33m[WARN]\u001b[39m (match_M2qKXLJ1wmsG) - turn 270; Unit u_69 collided when trying to move w to (3, 2)\n",
      "\u001b[33m[WARN]\u001b[39m (match_M2qKXLJ1wmsG) - turn 270; Unit u_72 collided when trying to move w to (4, 2)\n",
      "\u001b[33m[WARN]\u001b[39m (match_M2qKXLJ1wmsG) - Agent 0 tried to move unit u_36 onto opponent CityTile; turn 271; cmd: m u_36 e\n",
      "\u001b[33m[WARN]\u001b[39m (match_M2qKXLJ1wmsG) - Agent 0 tried to move unit u_36 onto opponent CityTile; turn 272; cmd: m u_36 e\n",
      "\u001b[33m[WARN]\u001b[39m (match_M2qKXLJ1wmsG) - Agent 0 tried to move unit u_36 onto opponent CityTile; turn 273; cmd: m u_36 e\n",
      "\u001b[33m[WARN]\u001b[39m (match_M2qKXLJ1wmsG) - Agent 0 tried to move unit u_36 onto opponent CityTile; turn 274; cmd: m u_36 e\n",
      "\u001b[33m[WARN]\u001b[39m (match_M2qKXLJ1wmsG) - Agent 0 tried to move unit u_36 onto opponent CityTile; turn 275; cmd: m u_36 e\n",
      "{\n",
      "  ranks: [\n",
      "    {\n",
      "      rank: 1,\n",
      "      agentID: 1,\n",
      "      name: '/Users/sergmiller/Downloads/submission-5/main.py'\n",
      "    },\n",
      "    { rank: 2, agentID: 0, name: '../submissions/simple/main.py' }\n",
      "  ],\n",
      "  replayFile: 'replays/417943959.json',\n",
      "  seed: 42\n",
      "}\n",
      "\n"
     ]
    }
   ],
   "source": [
    "zero_bot = \"../submissions/zero_actions/main.py\"\n",
    "r = run_game(simple_bot, \"/Users/sergmiller/Downloads/submission-5/main.py\", 42)"
   ]
  },
  {
   "cell_type": "code",
   "execution_count": 106,
   "metadata": {},
   "outputs": [
    {
     "name": "stderr",
     "output_type": "stream",
     "text": [
      "100%|██████████| 40/40 [01:02<00:00,  1.56s/it]\n"
     ]
    },
    {
     "data": {
      "text/plain": [
       "((0.4625, -0.4743416490252569, 0.6352562959972483),\n",
       " {'ranks': [{'rank': 1, 'agentID': 0}, {'rank': 2, 'agentID': 1}],\n",
       "  'replayFile': 'replays/419589201.json'})"
      ]
     },
     "execution_count": 106,
     "metadata": {},
     "output_type": "execute_result"
    }
   ],
   "source": [
    "compare_flags({}, \"/Users/sergmiller/Downloads/submission-5/main.py\", n_games=40)"
   ]
  },
  {
   "cell_type": "code",
   "execution_count": 111,
   "metadata": {},
   "outputs": [
    {
     "name": "stderr",
     "output_type": "stream",
     "text": [
      "100%|██████████| 40/40 [00:56<00:00,  1.40s/it]\n"
     ]
    },
    {
     "data": {
      "text/plain": [
       "((0.325, -2.2135943621178655, 0.026856695507524397),\n",
       " {'ranks': [{'rank': 1, 'agentID': 1}, {'rank': 2, 'agentID': 0}],\n",
       "  'replayFile': 'replays/951213014.json'})"
      ]
     },
     "execution_count": 111,
     "metadata": {},
     "output_type": "execute_result"
    }
   ],
   "source": [
    "compare_flags({\"check_only_adjacent_city_points\": True}, {}, n_games=40)"
   ]
  },
  {
   "cell_type": "code",
   "execution_count": 118,
   "metadata": {},
   "outputs": [
    {
     "name": "stderr",
     "output_type": "stream",
     "text": [
      "100%|██████████| 2/2 [00:00<00:00, 12264.05it/s]\n"
     ]
    },
    {
     "data": {
      "text/plain": [
       "((0.0, -1.414213562373095, 0.15729920705028516),\n",
       " {'ranks': [{'rank': 1, 'agentID': 1}, {'rank': 2, 'agentID': 0}],\n",
       "  'replayFile': 'replays/312348333.json'})"
      ]
     },
     "execution_count": 118,
     "metadata": {},
     "output_type": "execute_result"
    }
   ],
   "source": [
    "compare_flags({\"skip_mine_and_build_loop\": True}, {}, n_games=2)"
   ]
  },
  {
   "cell_type": "code",
   "execution_count": 113,
   "metadata": {},
   "outputs": [
    {
     "name": "stderr",
     "output_type": "stream",
     "text": [
      "100%|██████████| 40/40 [01:11<00:00,  1.78s/it]\n"
     ]
    },
    {
     "data": {
      "text/plain": [
       "((0.475, -0.31622776601683794, 0.7518296340458492),\n",
       " {'ranks': [{'rank': 1, 'agentID': 0}, {'rank': 2, 'agentID': 1}],\n",
       "  'replayFile': 'replays/41791872.json'})"
      ]
     },
     "execution_count": 113,
     "metadata": {},
     "output_type": "execute_result"
    }
   ],
   "source": [
    "compare_flags({\"go_to_city_at_night\": True}, {}, n_games=40)"
   ]
  },
  {
   "cell_type": "code",
   "execution_count": 117,
   "metadata": {},
   "outputs": [
    {
     "name": "stderr",
     "output_type": "stream",
     "text": [
      "100%|██████████| 80/80 [01:44<00:00,  1.30s/it]\n"
     ]
    },
    {
     "data": {
      "text/plain": [
       "((0.45625, -0.7826237921249264, 0.4338480657664392),\n",
       " {'ranks': [{'rank': 1, 'agentID': 0}, {'rank': 2, 'agentID': 1}],\n",
       "  'replayFile': 'replays/657084024.json'})"
      ]
     },
     "execution_count": 117,
     "metadata": {},
     "output_type": "execute_result"
    }
   ],
   "source": [
    "compare_flags({\"skip_go_to_city_on_zero_dist\": True, \"go_to_city_at_night\": True}, {}, n_games=80)"
   ]
  },
  {
   "cell_type": "code",
   "execution_count": 116,
   "metadata": {},
   "outputs": [
    {
     "name": "stderr",
     "output_type": "stream",
     "text": [
      "100%|██████████| 40/40 [00:53<00:00,  1.34s/it]\n"
     ]
    },
    {
     "data": {
      "text/plain": [
       "((0.4375, -0.7905694150420948, 0.42919530044034926),\n",
       " {'ranks': [{'rank': 1, 'agentID': 1}, {'rank': 2, 'agentID': 0}],\n",
       "  'replayFile': 'replays/295897956.json'})"
      ]
     },
     "execution_count": 116,
     "metadata": {},
     "output_type": "execute_result"
    }
   ],
   "source": [
    "compare_flags({\"skip_go_to_city_on_zero_dist\": True, \"go_to_city_at_night\": True}, \"/Users/sergmiller/Downloads/submission-5/main.py\", n_games=40)"
   ]
  },
  {
   "cell_type": "code",
   "execution_count": 125,
   "metadata": {},
   "outputs": [
    {
     "name": "stderr",
     "output_type": "stream",
     "text": [
      "100%|██████████| 40/40 [00:42<00:00,  1.05s/it]\n"
     ]
    },
    {
     "data": {
      "text/plain": [
       "((0.3625, -1.7392527130926085, 0.081990321000383),\n",
       " {'ranks': [{'rank': 1, 'agentID': 1}, {'rank': 2, 'agentID': 0}],\n",
       "  'replayFile': 'replays/39046897.json'})"
      ]
     },
     "execution_count": 125,
     "metadata": {},
     "output_type": "execute_result"
    }
   ],
   "source": [
    "compare_flags({\"use_size_as_distance\": True}, {}, n_games=40)"
   ]
  },
  {
   "cell_type": "code",
   "execution_count": 123,
   "metadata": {},
   "outputs": [
    {
     "name": "stdout",
     "output_type": "stream",
     "text": [
      "\n",
      "-=-=-=-=-=-=-=-=-=-=-=-| \u001b[34m[INFO]\u001b[39m \u001b[1m\u001b[32mmatch_bet0zS3gBXZw\u001b[39m\u001b[22m |-=-=-=-=-=-=-=-=-=-=-=-\n",
      "\n",
      "\u001b[34m[INFO]\u001b[39m (match_bet0zS3gBXZw) - Design: lux_ai_2021 | Initializing match - ID: bet0zS3gBXZw, Name: match_bet0zS3gBXZw\n",
      "\u001b[36m[Agent 0 Log]\u001b[39m Traceback (most recent call last):\n",
      "\u001b[36m[Agent 0 Log]\u001b[39m   File \"main_{\"skip_mine_and_build_loop\": true}.py\", line 42, in <module>\n",
      "\u001b[36m[Agent 0 Log]\u001b[39m     actions = agent(observation, ENV)\n",
      "\u001b[36m[Agent 0 Log]\u001b[39m   File \"/Users/sergmiller/Documents/my/lux-ai-v1/submissions/simple/agent.py\", line 208, in agent\n",
      "\u001b[36m[Agent 0 Log]\u001b[39m     Routine.GO_BUILD_CITY: lambda: worker_try_to_build_a_city(unit)\n",
      "\u001b[36m[Agent 0 Log]\u001b[39m   File \"/Users/sergmiller/Documents/my/lux-ai-v1/submissions/simple/routines.py\", line 40, in perform_routine\n",
      "\u001b[36m[Agent 0 Log]\u001b[39m     state = update_state(unit, city_tiles, turn)\n",
      "\u001b[36m[Agent 0 Log]\u001b[39m   File \"/Users/sergmiller/Documents/my/lux-ai-v1/submissions/simple/routines.py\", line 64, in update_state\n",
      "\u001b[36m[Agent 0 Log]\u001b[39m     assert False\n",
      "\u001b[36m[Agent 0 Log]\u001b[39m AssertionError\n",
      "\u001b[33m[WARN]\u001b[39m (match_bet0zS3gBXZw) - turn 54; Unit u_3 collided when trying to move n to (9, 10)\n",
      "\u001b[33m[WARN]\u001b[39m (match_bet0zS3gBXZw) - turn 88; Unit u_3 collided when trying to move w to (4, 11)\n",
      "\u001b[33m[WARN]\u001b[39m (match_bet0zS3gBXZw) - turn 88; Unit u_4 collided when trying to move w to (5, 11)\n",
      "\u001b[33m[WARN]\u001b[39m (match_bet0zS3gBXZw) - turn 88; Unit u_5 collided when trying to move w to (6, 11)\n",
      "\u001b[33m[WARN]\u001b[39m (match_bet0zS3gBXZw) - turn 88; Unit u_6 collided when trying to move w to (7, 11)\n",
      "\u001b[33m[WARN]\u001b[39m (match_bet0zS3gBXZw) - turn 89; Unit u_3 collided when trying to move w to (4, 11)\n",
      "\u001b[33m[WARN]\u001b[39m (match_bet0zS3gBXZw) - turn 89; Unit u_4 collided when trying to move w to (5, 11)\n",
      "\u001b[33m[WARN]\u001b[39m (match_bet0zS3gBXZw) - turn 89; Unit u_5 collided when trying to move w to (6, 11)\n",
      "\u001b[33m[WARN]\u001b[39m (match_bet0zS3gBXZw) - turn 89; Unit u_6 collided when trying to move w to (7, 11)\n",
      "\u001b[33m[WARN]\u001b[39m (match_bet0zS3gBXZw) - turn 90; Unit u_6 collided when trying to move w to (7, 11)\n",
      "\u001b[33m[WARN]\u001b[39m (match_bet0zS3gBXZw) - turn 91; Unit u_6 collided when trying to move w to (7, 11)\n",
      "\u001b[33m[WARN]\u001b[39m (match_bet0zS3gBXZw) - turn 96; Unit u_4 collided when trying to move w to (4, 11)\n",
      "\u001b[33m[WARN]\u001b[39m (match_bet0zS3gBXZw) - turn 96; Unit u_5 collided when trying to move w to (5, 11)\n",
      "\u001b[33m[WARN]\u001b[39m (match_bet0zS3gBXZw) - turn 96; Unit u_6 collided when trying to move w to (6, 11)\n",
      "\u001b[33m[WARN]\u001b[39m (match_bet0zS3gBXZw) - turn 96; Unit u_7 collided when trying to move s to (7, 11)\n",
      "\u001b[33m[WARN]\u001b[39m (match_bet0zS3gBXZw) - turn 97; Unit u_5 collided when trying to move w to (5, 11)\n",
      "\u001b[33m[WARN]\u001b[39m (match_bet0zS3gBXZw) - turn 97; Unit u_6 collided when trying to move w to (6, 11)\n",
      "\u001b[33m[WARN]\u001b[39m (match_bet0zS3gBXZw) - turn 97; Unit u_7 collided when trying to move s to (7, 11)\n",
      "\u001b[33m[WARN]\u001b[39m (match_bet0zS3gBXZw) - turn 98; Unit u_4 collided when trying to move w to (4, 11)\n",
      "\u001b[33m[WARN]\u001b[39m (match_bet0zS3gBXZw) - turn 99; Unit u_4 collided when trying to move w to (4, 11)\n",
      "\u001b[33m[WARN]\u001b[39m (match_bet0zS3gBXZw) - turn 100; Unit u_4 collided when trying to move w to (4, 11)\n",
      "\u001b[33m[WARN]\u001b[39m (match_bet0zS3gBXZw) - turn 101; Unit u_4 collided when trying to move w to (4, 11)\n",
      "\u001b[33m[WARN]\u001b[39m (match_bet0zS3gBXZw) - turn 102; Unit u_4 collided when trying to move w to (4, 11)\n",
      "\u001b[33m[WARN]\u001b[39m (match_bet0zS3gBXZw) - turn 103; Unit u_4 collided when trying to move w to (4, 11)\n",
      "\u001b[33m[WARN]\u001b[39m (match_bet0zS3gBXZw) - turn 104; Unit u_4 collided when trying to move w to (4, 11)\n",
      "\u001b[33m[WARN]\u001b[39m (match_bet0zS3gBXZw) - turn 105; Unit u_4 collided when trying to move w to (4, 11)\n",
      "\u001b[33m[WARN]\u001b[39m (match_bet0zS3gBXZw) - turn 106; Unit u_4 collided when trying to move w to (4, 11)\n",
      "\u001b[33m[WARN]\u001b[39m (match_bet0zS3gBXZw) - turn 107; Unit u_4 collided when trying to move w to (4, 11)\n",
      "\u001b[33m[WARN]\u001b[39m (match_bet0zS3gBXZw) - turn 108; Unit u_4 collided when trying to move w to (4, 11)\n",
      "\u001b[33m[WARN]\u001b[39m (match_bet0zS3gBXZw) - turn 109; Unit u_4 collided when trying to move w to (4, 11)\n",
      "\u001b[33m[WARN]\u001b[39m (match_bet0zS3gBXZw) - turn 120; Unit u_4 collided when trying to move w to (4, 11)\n",
      "\u001b[33m[WARN]\u001b[39m (match_bet0zS3gBXZw) - turn 121; Unit u_4 collided when trying to move w to (4, 11)\n",
      "\u001b[33m[WARN]\u001b[39m (match_bet0zS3gBXZw) - turn 122; Unit u_4 collided when trying to move w to (4, 11)\n",
      "\u001b[33m[WARN]\u001b[39m (match_bet0zS3gBXZw) - turn 123; Unit u_4 collided when trying to move w to (4, 11)\n",
      "\u001b[33m[WARN]\u001b[39m (match_bet0zS3gBXZw) - turn 124; Unit u_4 collided when trying to move w to (4, 11)\n",
      "\u001b[33m[WARN]\u001b[39m (match_bet0zS3gBXZw) - turn 125; Unit u_4 collided when trying to move w to (4, 11)\n",
      "\u001b[33m[WARN]\u001b[39m (match_bet0zS3gBXZw) - turn 126; Unit u_4 collided when trying to move w to (4, 11)\n",
      "\u001b[33m[WARN]\u001b[39m (match_bet0zS3gBXZw) - turn 127; Unit u_4 collided when trying to move w to (4, 11)\n",
      "\u001b[33m[WARN]\u001b[39m (match_bet0zS3gBXZw) - turn 128; Unit u_4 collided when trying to move w to (4, 11)\n",
      "\u001b[33m[WARN]\u001b[39m (match_bet0zS3gBXZw) - turn 129; Unit u_4 collided when trying to move w to (4, 11)\n",
      "\u001b[33m[WARN]\u001b[39m (match_bet0zS3gBXZw) - turn 130; Unit u_4 collided when trying to move w to (4, 11)\n",
      "\u001b[33m[WARN]\u001b[39m (match_bet0zS3gBXZw) - turn 131; Unit u_4 collided when trying to move w to (4, 11)\n",
      "\u001b[33m[WARN]\u001b[39m (match_bet0zS3gBXZw) - turn 132; Unit u_4 collided when trying to move w to (4, 11)\n",
      "\u001b[33m[WARN]\u001b[39m (match_bet0zS3gBXZw) - turn 133; Unit u_4 collided when trying to move w to (4, 11)\n",
      "\u001b[33m[WARN]\u001b[39m (match_bet0zS3gBXZw) - turn 134; Unit u_4 collided when trying to move w to (4, 11)\n",
      "\u001b[33m[WARN]\u001b[39m (match_bet0zS3gBXZw) - turn 135; Unit u_4 collided when trying to move w to (4, 11)\n",
      "\u001b[33m[WARN]\u001b[39m (match_bet0zS3gBXZw) - turn 136; Unit u_4 collided when trying to move w to (4, 11)\n",
      "\u001b[33m[WARN]\u001b[39m (match_bet0zS3gBXZw) - turn 137; Unit u_4 collided when trying to move w to (4, 11)\n",
      "\u001b[33m[WARN]\u001b[39m (match_bet0zS3gBXZw) - turn 138; Unit u_4 collided when trying to move w to (4, 11)\n",
      "\u001b[33m[WARN]\u001b[39m (match_bet0zS3gBXZw) - turn 139; Unit u_4 collided when trying to move w to (4, 11)\n",
      "\u001b[33m[WARN]\u001b[39m (match_bet0zS3gBXZw) - turn 140; Unit u_4 collided when trying to move w to (4, 11)\n",
      "\u001b[33m[WARN]\u001b[39m (match_bet0zS3gBXZw) - turn 141; Unit u_4 collided when trying to move w to (4, 11)\n",
      "\u001b[33m[WARN]\u001b[39m (match_bet0zS3gBXZw) - turn 142; Unit u_4 collided when trying to move w to (4, 11)\n",
      "\u001b[33m[WARN]\u001b[39m (match_bet0zS3gBXZw) - turn 143; Unit u_4 collided when trying to move w to (4, 11)\n",
      "\u001b[33m[WARN]\u001b[39m (match_bet0zS3gBXZw) - turn 144; Unit u_4 collided when trying to move w to (4, 11)\n",
      "\u001b[33m[WARN]\u001b[39m (match_bet0zS3gBXZw) - turn 145; Unit u_4 collided when trying to move w to (4, 11)\n",
      "\u001b[33m[WARN]\u001b[39m (match_bet0zS3gBXZw) - turn 146; Unit u_4 collided when trying to move w to (4, 11)\n",
      "\u001b[33m[WARN]\u001b[39m (match_bet0zS3gBXZw) - turn 147; Unit u_4 collided when trying to move w to (4, 11)\n",
      "\u001b[33m[WARN]\u001b[39m (match_bet0zS3gBXZw) - turn 148; Unit u_4 collided when trying to move w to (4, 11)\n",
      "\u001b[33m[WARN]\u001b[39m (match_bet0zS3gBXZw) - turn 149; Unit u_4 collided when trying to move w to (4, 11)\n",
      "\u001b[33m[WARN]\u001b[39m (match_bet0zS3gBXZw) - turn 160; Unit u_4 collided when trying to move w to (4, 11)\n",
      "\u001b[33m[WARN]\u001b[39m (match_bet0zS3gBXZw) - turn 161; Unit u_4 collided when trying to move w to (4, 11)\n",
      "\u001b[33m[WARN]\u001b[39m (match_bet0zS3gBXZw) - turn 162; Unit u_4 collided when trying to move w to (4, 11)\n",
      "\u001b[33m[WARN]\u001b[39m (match_bet0zS3gBXZw) - turn 163; Unit u_4 collided when trying to move w to (4, 11)\n",
      "\u001b[33m[WARN]\u001b[39m (match_bet0zS3gBXZw) - turn 164; Unit u_4 collided when trying to move w to (4, 11)\n",
      "\u001b[33m[WARN]\u001b[39m (match_bet0zS3gBXZw) - turn 165; Unit u_4 collided when trying to move w to (4, 11)\n",
      "\u001b[33m[WARN]\u001b[39m (match_bet0zS3gBXZw) - turn 166; Unit u_4 collided when trying to move w to (4, 11)\n",
      "\u001b[33m[WARN]\u001b[39m (match_bet0zS3gBXZw) - turn 167; Unit u_4 collided when trying to move w to (4, 11)\n",
      "\u001b[33m[WARN]\u001b[39m (match_bet0zS3gBXZw) - turn 168; Unit u_4 collided when trying to move w to (4, 11)\n",
      "\u001b[33m[WARN]\u001b[39m (match_bet0zS3gBXZw) - turn 169; Unit u_4 collided when trying to move w to (4, 11)\n",
      "\u001b[33m[WARN]\u001b[39m (match_bet0zS3gBXZw) - turn 170; Unit u_4 collided when trying to move w to (4, 11)\n",
      "\u001b[33m[WARN]\u001b[39m (match_bet0zS3gBXZw) - turn 171; Unit u_4 collided when trying to move w to (4, 11)\n",
      "\u001b[33m[WARN]\u001b[39m (match_bet0zS3gBXZw) - turn 172; Unit u_4 collided when trying to move w to (4, 11)\n",
      "\u001b[33m[WARN]\u001b[39m (match_bet0zS3gBXZw) - turn 173; Unit u_4 collided when trying to move w to (4, 11)\n",
      "\u001b[33m[WARN]\u001b[39m (match_bet0zS3gBXZw) - turn 174; Unit u_4 collided when trying to move w to (4, 11)\n",
      "\u001b[33m[WARN]\u001b[39m (match_bet0zS3gBXZw) - turn 175; Unit u_4 collided when trying to move w to (4, 11)\n",
      "\u001b[33m[WARN]\u001b[39m (match_bet0zS3gBXZw) - turn 176; Unit u_4 collided when trying to move w to (4, 11)\n",
      "\u001b[33m[WARN]\u001b[39m (match_bet0zS3gBXZw) - turn 177; Unit u_4 collided when trying to move w to (4, 11)\n",
      "\u001b[33m[WARN]\u001b[39m (match_bet0zS3gBXZw) - turn 178; Unit u_4 collided when trying to move w to (4, 11)\n",
      "\u001b[33m[WARN]\u001b[39m (match_bet0zS3gBXZw) - turn 179; Unit u_4 collided when trying to move w to (4, 11)\n",
      "\u001b[33m[WARN]\u001b[39m (match_bet0zS3gBXZw) - turn 180; Unit u_4 collided when trying to move w to (4, 11)\n",
      "\u001b[33m[WARN]\u001b[39m (match_bet0zS3gBXZw) - turn 181; Unit u_4 collided when trying to move w to (4, 11)\n",
      "\u001b[33m[WARN]\u001b[39m (match_bet0zS3gBXZw) - turn 182; Unit u_4 collided when trying to move w to (4, 11)\n",
      "\u001b[33m[WARN]\u001b[39m (match_bet0zS3gBXZw) - turn 183; Unit u_4 collided when trying to move w to (4, 11)\n",
      "\u001b[33m[WARN]\u001b[39m (match_bet0zS3gBXZw) - turn 184; Unit u_4 collided when trying to move w to (4, 11)\n",
      "\u001b[33m[WARN]\u001b[39m (match_bet0zS3gBXZw) - turn 185; Unit u_4 collided when trying to move w to (4, 11)\n",
      "\u001b[33m[WARN]\u001b[39m (match_bet0zS3gBXZw) - turn 186; Unit u_4 collided when trying to move w to (4, 11)\n",
      "\u001b[33m[WARN]\u001b[39m (match_bet0zS3gBXZw) - turn 187; Unit u_4 collided when trying to move w to (4, 11)\n",
      "\u001b[33m[WARN]\u001b[39m (match_bet0zS3gBXZw) - turn 188; Unit u_4 collided when trying to move w to (4, 11)\n",
      "\u001b[33m[WARN]\u001b[39m (match_bet0zS3gBXZw) - turn 189; Unit u_4 collided when trying to move w to (4, 11)\n",
      "{\n",
      "  ranks: [\n",
      "    {\n",
      "      rank: 1,\n",
      "      agentID: 0,\n",
      "      name: '../submissions/simple/main_{\"skip_mine_and_build_loop\": true}.py'\n",
      "    },\n",
      "    { rank: 2, agentID: 1, name: '../submissions/simple/main.py' }\n",
      "  ],\n",
      "  replayFile: 'replays/516914884.json',\n",
      "  seed: 42\n",
      "}\n",
      "\n"
     ]
    }
   ],
   "source": [
    "r = run_game(build_runnable_bot_with_flags({\"skip_mine_and_build_loop\": True}), simple_bot)"
   ]
  },
  {
   "cell_type": "code",
   "execution_count": null,
   "metadata": {},
   "outputs": [],
   "source": []
  }
 ],
 "metadata": {
  "kernelspec": {
   "display_name": "Python 3",
   "language": "python",
   "name": "python3"
  },
  "language_info": {
   "codemirror_mode": {
    "name": "ipython",
    "version": 3
   },
   "file_extension": ".py",
   "mimetype": "text/x-python",
   "name": "python",
   "nbconvert_exporter": "python",
   "pygments_lexer": "ipython3",
   "version": "3.7.9"
  }
 },
 "nbformat": 4,
 "nbformat_minor": 4
}
