{
 "cells": [
  {
   "cell_type": "code",
   "execution_count": 10,
   "metadata": {},
   "outputs": [],
   "source": [
    "import numpy as np\n",
    "import json\n",
    "import os\n",
    "import pandas as pd\n",
    "\n",
    "import subprocess\n",
    "\n",
    "from matplotlib import pyplot as plt"
   ]
  },
  {
   "cell_type": "code",
   "execution_count": 2,
   "metadata": {},
   "outputs": [],
   "source": [
    "%matplotlib inline\n",
    "%config Completer.use_jedi = False"
   ]
  },
  {
   "cell_type": "code",
   "execution_count": 3,
   "metadata": {},
   "outputs": [
    {
     "name": "stdout",
     "output_type": "stream",
     "text": [
      "b'total 1088\\ndrwxr-xr-x      9 sergmiller  staff   288B Nov  7 03:37 catboost_info\\ndrwxr-xr-x  13446 sergmiller  staff   420K Nov  9 20:05 errorlogs\\ndrwxr-xr-x    502 sergmiller  staff    16K Nov  7 04:57 features\\ndrwxr-xr-x   8278 sergmiller  staff   259K Nov  9 12:15 features_iter\\ndrwxr-xr-x    994 sergmiller  staff    31K Nov  8 01:01 features_v2\\ndrwxr-xr-x    987 sergmiller  staff    31K Nov  8 03:08 features_v3\\ndrwxr-xr-x   2119 sergmiller  staff    66K Nov  9 20:02 replays\\n-rw-r--r--      1 sergmiller  staff   437K Nov  9 00:39 research-v1.ipynb\\n-rw-r--r--      1 sergmiller  staff   102K Nov  9 20:04 rl-part.ipynb\\ndrwxr-xr-x     45 sergmiller  staff   1.4K Nov  9 01:14 runs\\ndrwxr-xr-x      5 sergmiller  staff   160B Nov  9 19:55 utils\\n'\n"
     ]
    }
   ],
   "source": [
    "useless_cat_call = subprocess.run([\"ls\", \"-lh\"], stdout=subprocess.PIPE)\n",
    "print(useless_cat_call.stdout)  # Hello from the other side"
   ]
  },
  {
   "cell_type": "code",
   "execution_count": 4,
   "metadata": {},
   "outputs": [
    {
     "data": {
      "text/plain": [
       "0"
      ]
     },
     "execution_count": 4,
     "metadata": {},
     "output_type": "execute_result"
    }
   ],
   "source": [
    "useless_cat_call.returncode"
   ]
  },
  {
   "cell_type": "code",
   "execution_count": 34,
   "metadata": {},
   "outputs": [],
   "source": [
    "simple_bot = \"../submissions/simple/main.py\"\n",
    "replays = \"replays\"\n",
    "\n",
    "def run_game(left_bot=simple_bot, right_bot=simple_bot, seed=42, loglevel=2):\n",
    "    replay_path = \"replay.json\"\n",
    "    python_v = \"python3.7\"\n",
    "    \n",
    "    replay_path = os.path.join(replays, str(np.random.randint(1e9)) + \".json\")\n",
    "    \n",
    "    size = np.random.choice([12,16,24,32], size=1)[0]\n",
    "    \n",
    "    res = subprocess.run([\n",
    "        \"lux-ai-2021\",\n",
    "        left_bot,\n",
    "        right_bot,\n",
    "#         \"--statefulReplay\",\n",
    "        \"--width={}\".format(size),\n",
    "        \"--height={}\".format(size),\n",
    "        \"--loglevel={}\".format(loglevel),\n",
    "        \"--python={}\".format(python_v),\n",
    "        \"--seed={}\".format(seed),\n",
    "        \"--out={}\".format(replay_path)], stdout=subprocess.PIPE)\n",
    "    \n",
    "    if loglevel > 0:\n",
    "        print(res.stdout.decode())\n",
    "\n",
    "    assert res.returncode == 0\n",
    "\n",
    "    with open(replay_path, \"r\") as f:\n",
    "        result = json.load(f)\n",
    "    return result, res.stdout.decode()"
   ]
  },
  {
   "cell_type": "code",
   "execution_count": 35,
   "metadata": {},
   "outputs": [],
   "source": [
    "import hashlib\n",
    "\n",
    "def build_runnable_bot_with_flags(flags: dict, origin = simple_bot, base_path = '../submissions/simple/') -> str:\n",
    "    lines = []\n",
    "    with open(origin, \"r\") as f:\n",
    "        for line in f:\n",
    "            lines.append(line[:-1])\n",
    "    text = '\\n'.join(lines)\n",
    "    f = json.dumps(flags)\n",
    "    text = text.format(f)\n",
    "    h = int(hashlib.sha256(f.encode('utf-8')).hexdigest(), 16) % (10 ** 18)\n",
    "    path = base_path + \"main_\" + str(h) + \".py\"\n",
    "    with open(path, \"w\") as f:\n",
    "        f.write(text)\n",
    "    return path"
   ]
  },
  {
   "cell_type": "code",
   "execution_count": 96,
   "metadata": {},
   "outputs": [],
   "source": [
    "path = build_runnable_bot_with_flags({\"debug\": True})"
   ]
  },
  {
   "cell_type": "code",
   "execution_count": 97,
   "metadata": {},
   "outputs": [
    {
     "data": {
      "text/plain": [
       "'../submissions/simple/main_{\"debug\": true}.py'"
      ]
     },
     "execution_count": 97,
     "metadata": {},
     "output_type": "execute_result"
    }
   ],
   "source": [
    "path"
   ]
  },
  {
   "cell_type": "code",
   "execution_count": 101,
   "metadata": {
    "scrolled": true
   },
   "outputs": [
    {
     "name": "stdout",
     "output_type": "stream",
     "text": [
      "\n",
      "-=-=-=-=-=-=-=-=-=-=-=-| \u001b[34m[INFO]\u001b[39m \u001b[1m\u001b[32mmatch_XQGm5T3Z5jkg\u001b[39m\u001b[22m |-=-=-=-=-=-=-=-=-=-=-=-\n",
      "\n",
      "\u001b[34m[INFO]\u001b[39m (match_XQGm5T3Z5jkg) - Design: lux_ai_2021 | Initializing match - ID: XQGm5T3Z5jkg, Name: match_XQGm5T3Z5jkg\n",
      "\u001b[33m[WARN]\u001b[39m (match_XQGm5T3Z5jkg) - turn 15; Unit u_2 collided when trying to move w to (23, 29)\n",
      "\u001b[33m[WARN]\u001b[39m (match_XQGm5T3Z5jkg) - turn 15; Unit u_4 collided when trying to move s to (23, 29)\n",
      "\u001b[33m[WARN]\u001b[39m (match_XQGm5T3Z5jkg) - turn 21; Unit u_6 collided when trying to move w to (22, 29)\n",
      "\u001b[33m[WARN]\u001b[39m (match_XQGm5T3Z5jkg) - turn 25; Unit u_9 collided when trying to move e to (24, 27)\n",
      "\u001b[33m[WARN]\u001b[39m (match_XQGm5T3Z5jkg) - turn 26; Unit u_10 collided when trying to move n to (21, 28)\n",
      "\u001b[33m[WARN]\u001b[39m (match_XQGm5T3Z5jkg) - turn 28; Unit u_4 collided when trying to move n to (23, 26)\n",
      "\u001b[33m[WARN]\u001b[39m (match_XQGm5T3Z5jkg) - turn 28; Unit u_13 collided when trying to move w to (23, 27)\n",
      "\u001b[33m[WARN]\u001b[39m (match_XQGm5T3Z5jkg) - turn 29; Unit u_5 collided when trying to move n to (8, 27)\n",
      "\u001b[33m[WARN]\u001b[39m (match_XQGm5T3Z5jkg) - turn 29; Unit u_7 collided when trying to move n to (8, 28)\n",
      "\u001b[33m[WARN]\u001b[39m (match_XQGm5T3Z5jkg) - turn 30; Unit u_7 collided when trying to move n to (8, 28)\n",
      "\u001b[33m[WARN]\u001b[39m (match_XQGm5T3Z5jkg) - turn 30; Unit u_8 collided when trying to move s to (8, 28)\n",
      "\u001b[33m[WARN]\u001b[39m (match_XQGm5T3Z5jkg) - turn 30; Unit u_5 collided when trying to move n to (8, 27)\n",
      "\u001b[33m[WARN]\u001b[39m (match_XQGm5T3Z5jkg) - turn 30; Unit u_7 collided when trying to move n to (8, 28)\n",
      "\u001b[33m[WARN]\u001b[39m (match_XQGm5T3Z5jkg) - turn 30; Unit u_8 collided when trying to move s to (8, 28)\n",
      "\u001b[33m[WARN]\u001b[39m (match_XQGm5T3Z5jkg) - turn 31; Unit u_10 collided when trying to move w to (21, 30)\n",
      "\u001b[33m[WARN]\u001b[39m (match_XQGm5T3Z5jkg) - turn 31; Unit u_16 collided when trying to move s to (21, 30)\n",
      "\u001b[33m[WARN]\u001b[39m (match_XQGm5T3Z5jkg) - turn 32; Unit u_7 collided when trying to move n to (8, 28)\n",
      "\u001b[33m[WARN]\u001b[39m (match_XQGm5T3Z5jkg) - turn 34; Unit u_7 collided when trying to move n to (8, 28)\n",
      "\u001b[33m[WARN]\u001b[39m (match_XQGm5T3Z5jkg) - turn 34; Unit u_12 collided when trying to move n to (23, 28)\n",
      "\u001b[33m[WARN]\u001b[39m (match_XQGm5T3Z5jkg) - turn 34; Unit u_16 collided when trying to move e to (23, 29)\n",
      "\u001b[33m[WARN]\u001b[39m (match_XQGm5T3Z5jkg) - turn 35; Unit u_3 collided when trying to move s to (10, 31)\n",
      "\u001b[33m[WARN]\u001b[39m (match_XQGm5T3Z5jkg) - turn 35; Unit u_6 collided when trying to move s to (23, 28)\n",
      "\u001b[33m[WARN]\u001b[39m (match_XQGm5T3Z5jkg) - turn 35; Unit u_13 collided when trying to move w to (23, 27)\n",
      "\u001b[33m[WARN]\u001b[39m (match_XQGm5T3Z5jkg) - turn 35; Unit u_16 collided when trying to move e to (23, 29)\n",
      "\u001b[33m[WARN]\u001b[39m (match_XQGm5T3Z5jkg) - turn 36; Unit u_13 collided when trying to move w to (23, 27)\n",
      "\u001b[33m[WARN]\u001b[39m (match_XQGm5T3Z5jkg) - turn 36; Unit u_16 collided when trying to move e to (23, 29)\n",
      "\u001b[33m[WARN]\u001b[39m (match_XQGm5T3Z5jkg) - turn 37; Unit u_13 collided when trying to move w to (23, 27)\n",
      "\u001b[33m[WARN]\u001b[39m (match_XQGm5T3Z5jkg) - turn 38; Unit u_16 collided when trying to move e to (23, 29)\n",
      "\u001b[33m[WARN]\u001b[39m (match_XQGm5T3Z5jkg) - turn 38; Unit u_17 collided when trying to move s to (23, 27)\n",
      "\u001b[33m[WARN]\u001b[39m (match_XQGm5T3Z5jkg) - turn 41; Unit u_7 collided when trying to move n to (8, 28)\n",
      "\u001b[33m[WARN]\u001b[39m (match_XQGm5T3Z5jkg) - turn 42; Unit u_13 collided when trying to move w to (23, 28)\n",
      "\u001b[33m[WARN]\u001b[39m (match_XQGm5T3Z5jkg) - turn 42; Unit u_16 collided when trying to move n to (23, 28)\n",
      "\u001b[33m[WARN]\u001b[39m (match_XQGm5T3Z5jkg) - turn 43; Unit u_7 collided when trying to move n to (8, 28)\n",
      "\u001b[33m[WARN]\u001b[39m (match_XQGm5T3Z5jkg) - turn 45; Unit u_12 collided when trying to move n to (23, 28)\n",
      "\u001b[33m[WARN]\u001b[39m (match_XQGm5T3Z5jkg) - turn 46; Unit u_2 collided when trying to move s to (20, 28)\n",
      "\u001b[33m[WARN]\u001b[39m (match_XQGm5T3Z5jkg) - turn 46; Unit u_10 collided when trying to move n to (20, 28)\n",
      "\u001b[33m[WARN]\u001b[39m (match_XQGm5T3Z5jkg) - turn 51; Unit u_12 collided when trying to move e to (22, 30)\n",
      "\u001b[33m[WARN]\u001b[39m (match_XQGm5T3Z5jkg) - turn 51; Unit u_13 collided when trying to move w to (20, 29)\n",
      "\u001b[33m[WARN]\u001b[39m (match_XQGm5T3Z5jkg) - turn 51; Unit u_23 collided when trying to move w to (21, 29)\n",
      "\u001b[33m[WARN]\u001b[39m (match_XQGm5T3Z5jkg) - turn 53; Unit u_3 collided when trying to move w to (10, 29)\n",
      "\u001b[33m[WARN]\u001b[39m (match_XQGm5T3Z5jkg) - turn 53; Unit u_8 collided when trying to move n to (10, 29)\n",
      "\u001b[33m[WARN]\u001b[39m (match_XQGm5T3Z5jkg) - turn 53; Unit u_15 collided when trying to move n to (10, 30)\n",
      "\u001b[33m[WARN]\u001b[39m (match_XQGm5T3Z5jkg) - turn 54; Unit u_2 collided when trying to move s to (20, 29)\n",
      "\u001b[33m[WARN]\u001b[39m (match_XQGm5T3Z5jkg) - turn 54; Unit u_23 collided when trying to move w to (20, 29)\n",
      "\u001b[33m[WARN]\u001b[39m (match_XQGm5T3Z5jkg) - turn 54; Unit u_13 collided when trying to move e to (22, 30)\n",
      "\u001b[33m[WARN]\u001b[39m (match_XQGm5T3Z5jkg) - turn 55; Unit u_12 collided when trying to move w to (21, 30)\n",
      "\u001b[33m[WARN]\u001b[39m (match_XQGm5T3Z5jkg) - turn 55; Unit u_23 collided when trying to move s to (21, 30)\n",
      "\u001b[33m[WARN]\u001b[39m (match_XQGm5T3Z5jkg) - turn 55; Unit u_4 collided when trying to move w to (21, 29)\n",
      "\u001b[33m[WARN]\u001b[39m (match_XQGm5T3Z5jkg) - turn 56; Unit u_25 collided when trying to move n to (19, 28)\n",
      "\u001b[33m[WARN]\u001b[39m (match_XQGm5T3Z5jkg) - turn 58; Unit u_22 collided when trying to move n to (12, 27)\n",
      "\u001b[33m[WARN]\u001b[39m (match_XQGm5T3Z5jkg) - turn 58; Unit u_30 collided when trying to move e to (12, 28)\n",
      "\u001b[33m[WARN]\u001b[39m (match_XQGm5T3Z5jkg) - turn 58; Unit u_8 collided when trying to move n to (11, 28)\n",
      "\u001b[33m[WARN]\u001b[39m (match_XQGm5T3Z5jkg) - turn 58; Unit u_14 collided when trying to move e to (11, 29)\n",
      "\u001b[33m[WARN]\u001b[39m (match_XQGm5T3Z5jkg) - turn 58; Unit u_16 collided when trying to move w to (21, 29)\n",
      "\u001b[33m[WARN]\u001b[39m (match_XQGm5T3Z5jkg) - turn 58; Unit u_23 collided when trying to move n to (21, 29)\n",
      "\u001b[33m[WARN]\u001b[39m (match_XQGm5T3Z5jkg) - turn 59; Unit u_14 collided when trying to move e to (11, 29)\n",
      "\u001b[33m[WARN]\u001b[39m (match_XQGm5T3Z5jkg) - turn 59; Unit u_30 collided when trying to move s to (11, 29)\n",
      "\u001b[33m[WARN]\u001b[39m (match_XQGm5T3Z5jkg) - turn 59; Unit u_8 collided when trying to move n to (11, 28)\n",
      "\u001b[33m[WARN]\u001b[39m (match_XQGm5T3Z5jkg) - turn 59; Unit u_14 collided when trying to move e to (11, 29)\n",
      "\u001b[33m[WARN]\u001b[39m (match_XQGm5T3Z5jkg) - turn 59; Unit u_30 collided when trying to move s to (11, 29)\n",
      "\u001b[33m[WARN]\u001b[39m (match_XQGm5T3Z5jkg) - turn 59; Unit u_25 collided when trying to move n to (19, 27)\n",
      "\u001b[33m[WARN]\u001b[39m (match_XQGm5T3Z5jkg) - turn 60; Unit u_5 collided when trying to move s to (12, 28)\n",
      "\u001b[33m[WARN]\u001b[39m (match_XQGm5T3Z5jkg) - turn 60; Unit u_30 collided when trying to move e to (12, 28)\n",
      "\u001b[33m[WARN]\u001b[39m (match_XQGm5T3Z5jkg) - turn 60; Unit u_34 collided when trying to move s to (11, 28)\n",
      "\u001b[33m[WARN]\u001b[39m (match_XQGm5T3Z5jkg) - turn 60; Unit u_4 collided when trying to move e to (21, 29)\n",
      "\u001b[33m[WARN]\u001b[39m (match_XQGm5T3Z5jkg) - turn 61; Unit u_4 collided when trying to move e to (21, 29)\n",
      "\u001b[33m[WARN]\u001b[39m (match_XQGm5T3Z5jkg) - turn 62; Unit u_2 collided when trying to move w to (18, 28)\n",
      "\u001b[33m[WARN]\u001b[39m (match_XQGm5T3Z5jkg) - turn 62; Unit u_23 collided when trying to move w to (20, 29)\n",
      "\u001b[33m[WARN]\u001b[39m (match_XQGm5T3Z5jkg) - turn 62; Unit u_36 collided when trying to move s to (20, 29)\n",
      "\u001b[33m[WARN]\u001b[39m (match_XQGm5T3Z5jkg) - turn 62; Unit u_4 collided when trying to move n to (20, 28)\n",
      "\u001b[33m[WARN]\u001b[39m (match_XQGm5T3Z5jkg) - turn 62; Unit u_23 collided when trying to move w to (20, 29)\n",
      "\u001b[33m[WARN]\u001b[39m (match_XQGm5T3Z5jkg) - turn 62; Unit u_36 collided when trying to move s to (20, 29)\n",
      "\u001b[33m[WARN]\u001b[39m (match_XQGm5T3Z5jkg) - turn 63; Unit u_21 collided when trying to move e to (13, 30)\n",
      "\u001b[33m[WARN]\u001b[39m (match_XQGm5T3Z5jkg) - turn 63; Unit u_29 collided when trying to move e to (12, 30)\n",
      "\u001b[33m[WARN]\u001b[39m (match_XQGm5T3Z5jkg) - turn 63; Unit u_2 collided when trying to move e to (20, 28)\n",
      "\u001b[33m[WARN]\u001b[39m (match_XQGm5T3Z5jkg) - turn 63; Unit u_25 collided when trying to move e to (19, 28)\n",
      "\u001b[33m[WARN]\u001b[39m (match_XQGm5T3Z5jkg) - turn 63; Unit u_36 collided when trying to move w to (19, 28)\n",
      "\u001b[33m[WARN]\u001b[39m (match_XQGm5T3Z5jkg) - turn 63; Unit u_2 collided when trying to move e to (20, 28)\n",
      "\u001b[33m[WARN]\u001b[39m (match_XQGm5T3Z5jkg) - turn 63; Unit u_4 collided when trying to move n to (20, 28)\n",
      "\u001b[33m[WARN]\u001b[39m (match_XQGm5T3Z5jkg) - turn 63; Unit u_4 collided when trying to move n to (20, 28)\n",
      "\u001b[33m[WARN]\u001b[39m (match_XQGm5T3Z5jkg) - turn 64; Unit u_2 collided when trying to move s to (19, 29)\n",
      "\u001b[33m[WARN]\u001b[39m (match_XQGm5T3Z5jkg) - turn 64; Unit u_36 collided when trying to move w to (19, 28)\n",
      "\u001b[33m[WARN]\u001b[39m (match_XQGm5T3Z5jkg) - turn 64; Unit u_41 collided when trying to move w to (20, 28)\n",
      "\u001b[33m[WARN]\u001b[39m (match_XQGm5T3Z5jkg) - turn 64; Unit u_4 collided when trying to move w to (19, 29)\n",
      "\u001b[33m[WARN]\u001b[39m (match_XQGm5T3Z5jkg) - turn 64; Unit u_23 collided when trying to move w to (20, 29)\n",
      "\u001b[33m[WARN]\u001b[39m (match_XQGm5T3Z5jkg) - turn 65; Unit u_19 collided when trying to move n to (11, 28)\n",
      "\u001b[33m[WARN]\u001b[39m (match_XQGm5T3Z5jkg) - turn 65; Unit u_26 collided when trying to move e to (11, 29)\n",
      "\u001b[33m[WARN]\u001b[39m (match_XQGm5T3Z5jkg) - turn 65; Unit u_34 collided when trying to move w to (11, 28)\n",
      "\u001b[33m[WARN]\u001b[39m (match_XQGm5T3Z5jkg) - turn 65; Unit u_2 collided when trying to move s to (19, 29)\n",
      "\u001b[33m[WARN]\u001b[39m (match_XQGm5T3Z5jkg) - turn 65; Unit u_36 collided when trying to move w to (19, 28)\n",
      "\u001b[33m[WARN]\u001b[39m (match_XQGm5T3Z5jkg) - turn 65; Unit u_41 collided when trying to move w to (20, 28)\n",
      "\u001b[33m[WARN]\u001b[39m (match_XQGm5T3Z5jkg) - turn 65; Unit u_4 collided when trying to move w to (19, 29)\n",
      "\u001b[33m[WARN]\u001b[39m (match_XQGm5T3Z5jkg) - turn 65; Unit u_23 collided when trying to move w to (20, 29)\n",
      "\u001b[33m[WARN]\u001b[39m (match_XQGm5T3Z5jkg) - turn 66; Unit u_21 collided when trying to move w to (11, 29)\n",
      "\u001b[33m[WARN]\u001b[39m (match_XQGm5T3Z5jkg) - turn 66; Unit u_29 collided when trying to move n to (12, 29)\n",
      "\u001b[33m[WARN]\u001b[39m (match_XQGm5T3Z5jkg) - turn 66; Unit u_34 collided when trying to move s to (12, 29)\n",
      "\u001b[33m[WARN]\u001b[39m (match_XQGm5T3Z5jkg) - turn 66; Unit u_5 collided when trying to move s to (12, 28)\n",
      "\u001b[33m[WARN]\u001b[39m (match_XQGm5T3Z5jkg) - turn 67; Unit u_21 collided when trying to move w to (11, 29)\n",
      "\u001b[33m[WARN]\u001b[39m (match_XQGm5T3Z5jkg) - turn 67; Unit u_29 collided when trying to move n to (12, 29)\n",
      "\u001b[33m[WARN]\u001b[39m (match_XQGm5T3Z5jkg) - turn 67; Unit u_15 collided when trying to move w to (12, 30)\n",
      "\u001b[33m[WARN]\u001b[39m (match_XQGm5T3Z5jkg) - turn 67; Unit u_34 collided when trying to move s to (12, 29)\n",
      "\u001b[33m[WARN]\u001b[39m (match_XQGm5T3Z5jkg) - turn 67; Unit u_5 collided when trying to move s to (12, 28)\n",
      "\u001b[33m[WARN]\u001b[39m (match_XQGm5T3Z5jkg) - turn 67; Unit u_40 collided when trying to move e to (8, 24)\n",
      "\u001b[33m[WARN]\u001b[39m (match_XQGm5T3Z5jkg) - turn 67; Unit u_6 collided when trying to move n to (24, 23)\n",
      "\u001b[33m[WARN]\u001b[39m (match_XQGm5T3Z5jkg) - turn 67; Unit u_24 collided when trying to move w to (24, 24)\n",
      "\u001b[33m[WARN]\u001b[39m (match_XQGm5T3Z5jkg) - turn 68; Unit u_21 collided when trying to move w to (11, 29)\n",
      "\u001b[33m[WARN]\u001b[39m (match_XQGm5T3Z5jkg) - turn 68; Unit u_29 collided when trying to move n to (12, 29)\n",
      "\u001b[33m[WARN]\u001b[39m (match_XQGm5T3Z5jkg) - turn 68; Unit u_15 collided when trying to move w to (12, 30)\n",
      "\u001b[33m[WARN]\u001b[39m (match_XQGm5T3Z5jkg) - turn 68; Unit u_34 collided when trying to move s to (12, 29)\n",
      "\u001b[33m[WARN]\u001b[39m (match_XQGm5T3Z5jkg) - turn 68; Unit u_5 collided when trying to move s to (12, 28)\n",
      "\u001b[33m[WARN]\u001b[39m (match_XQGm5T3Z5jkg) - turn 68; Unit u_2 collided when trying to move w to (19, 28)\n",
      "\u001b[33m[WARN]\u001b[39m (match_XQGm5T3Z5jkg) - turn 68; Unit u_41 collided when trying to move w to (20, 28)\n",
      "\u001b[33m[WARN]\u001b[39m (match_XQGm5T3Z5jkg) - turn 68; Unit u_4 collided when trying to move n to (19, 28)\n",
      "\u001b[33m[WARN]\u001b[39m (match_XQGm5T3Z5jkg) - turn 68; Unit u_10 collided when trying to move e to (19, 29)\n",
      "\u001b[33m[WARN]\u001b[39m (match_XQGm5T3Z5jkg) - turn 68; Unit u_31 collided when trying to move n to (19, 29)\n",
      "\u001b[33m[WARN]\u001b[39m (match_XQGm5T3Z5jkg) - turn 68; Unit u_43 collided when trying to move n to (19, 30)\n",
      "\u001b[33m[WARN]\u001b[39m (match_XQGm5T3Z5jkg) - turn 68; Unit u_36 collided when trying to move s to (19, 29)\n",
      "\u001b[33m[WARN]\u001b[39m (match_XQGm5T3Z5jkg) - turn 68; Unit u_2 collided when trying to move w to (19, 28)\n",
      "\u001b[33m[WARN]\u001b[39m (match_XQGm5T3Z5jkg) - turn 68; Unit u_4 collided when trying to move n to (19, 28)\n",
      "\u001b[33m[WARN]\u001b[39m (match_XQGm5T3Z5jkg) - turn 69; Unit u_5 collided when trying to move s to (12, 28)\n",
      "\u001b[33m[WARN]\u001b[39m (match_XQGm5T3Z5jkg) - turn 69; Unit u_21 collided when trying to move n to (12, 28)\n",
      "\u001b[33m[WARN]\u001b[39m (match_XQGm5T3Z5jkg) - turn 69; Unit u_29 collided when trying to move n to (12, 29)\n",
      "\u001b[33m[WARN]\u001b[39m (match_XQGm5T3Z5jkg) - turn 69; Unit u_15 collided when trying to move w to (12, 30)\n",
      "\u001b[33m[WARN]\u001b[39m (match_XQGm5T3Z5jkg) - turn 69; Unit u_34 collided when trying to move s to (12, 29)\n",
      "\u001b[33m[WARN]\u001b[39m (match_XQGm5T3Z5jkg) - turn 69; Unit u_5 collided when trying to move s to (12, 28)\n",
      "\u001b[33m[WARN]\u001b[39m (match_XQGm5T3Z5jkg) - turn 69; Unit u_21 collided when trying to move n to (12, 28)\n",
      "\u001b[33m[WARN]\u001b[39m (match_XQGm5T3Z5jkg) - turn 69; Unit u_31 collided when trying to move n to (19, 29)\n",
      "\u001b[33m[WARN]\u001b[39m (match_XQGm5T3Z5jkg) - turn 69; Unit u_4 collided when trying to move s to (19, 30)\n",
      "\u001b[33m[WARN]\u001b[39m (match_XQGm5T3Z5jkg) - turn 69; Unit u_31 collided when trying to move n to (19, 29)\n",
      "\u001b[33m[WARN]\u001b[39m (match_XQGm5T3Z5jkg) - turn 69; Unit u_36 collided when trying to move s to (19, 29)\n",
      "\u001b[33m[WARN]\u001b[39m (match_XQGm5T3Z5jkg) - turn 69; Unit u_2 collided when trying to move w to (19, 28)\n",
      "\u001b[33m[WARN]\u001b[39m (match_XQGm5T3Z5jkg) - turn 69; Unit u_41 collided when trying to move w to (20, 28)\n",
      "\u001b[33m[WARN]\u001b[39m (match_XQGm5T3Z5jkg) - turn 69; Unit u_36 collided when trying to move s to (19, 29)\n",
      "\u001b[33m[WARN]\u001b[39m (match_XQGm5T3Z5jkg) - turn 70; Unit u_21 collided when trying to move n to (12, 28)\n",
      "\u001b[33m[WARN]\u001b[39m (match_XQGm5T3Z5jkg) - turn 70; Unit u_6 collided when trying to move n to (25, 23)\n",
      "\u001b[33m[WARN]\u001b[39m (match_XQGm5T3Z5jkg) - turn 70; Unit u_32 collided when trying to move n to (25, 24)\n",
      "\u001b[33m[WARN]\u001b[39m (match_XQGm5T3Z5jkg) - turn 70; Unit u_42 collided when trying to move e to (25, 24)\n",
      "\u001b[33m[WARN]\u001b[39m (match_XQGm5T3Z5jkg) - turn 70; Unit u_31 collided when trying to move n to (19, 29)\n",
      "\u001b[33m[WARN]\u001b[39m (match_XQGm5T3Z5jkg) - turn 70; Unit u_43 collided when trying to move n to (19, 30)\n",
      "\u001b[33m[WARN]\u001b[39m (match_XQGm5T3Z5jkg) - turn 70; Unit u_36 collided when trying to move s to (19, 29)\n",
      "\u001b[33m[WARN]\u001b[39m (match_XQGm5T3Z5jkg) - turn 70; Unit u_4 collided when trying to move n to (19, 28)\n",
      "\u001b[33m[WARN]\u001b[39m (match_XQGm5T3Z5jkg) - turn 70; Unit u_31 collided when trying to move n to (19, 29)\n",
      "\u001b[33m[WARN]\u001b[39m (match_XQGm5T3Z5jkg) - turn 70; Unit u_36 collided when trying to move s to (19, 29)\n",
      "\u001b[33m[WARN]\u001b[39m (match_XQGm5T3Z5jkg) - turn 71; Unit u_43 collided when trying to move n to (19, 30)\n",
      "\u001b[33m[WARN]\u001b[39m (match_XQGm5T3Z5jkg) - turn 72; Unit u_35 collided when trying to move e to (12, 29)\n",
      "\u001b[33m[WARN]\u001b[39m (match_XQGm5T3Z5jkg) - turn 72; Unit u_43 collided when trying to move n to (19, 30)\n",
      "\u001b[33m[WARN]\u001b[39m (match_XQGm5T3Z5jkg) - turn 73; Unit u_35 collided when trying to move e to (12, 29)\n",
      "\u001b[33m[WARN]\u001b[39m (match_XQGm5T3Z5jkg) - turn 73; Unit u_43 collided when trying to move n to (19, 30)\n",
      "\u001b[33m[WARN]\u001b[39m (match_XQGm5T3Z5jkg) - turn 74; Unit u_35 collided when trying to move e to (12, 29)\n",
      "\u001b[33m[WARN]\u001b[39m (match_XQGm5T3Z5jkg) - turn 74; Unit u_43 collided when trying to move n to (19, 30)\n",
      "\u001b[33m[WARN]\u001b[39m (match_XQGm5T3Z5jkg) - turn 78; Unit u_23 collided when trying to move n to (20, 29)\n",
      "\u001b[33m[WARN]\u001b[39m (match_XQGm5T3Z5jkg) - turn 78; Unit u_27 collided when trying to move s to (20, 29)\n",
      "\u001b[33m[WARN]\u001b[39m (match_XQGm5T3Z5jkg) - turn 78; Unit u_41 collided when trying to move w to (20, 28)\n",
      "\u001b[33m[WARN]\u001b[39m (match_XQGm5T3Z5jkg) - turn 79; Unit u_25 collided when trying to move s to (19, 29)\n",
      "\u001b[33m[WARN]\u001b[39m (match_XQGm5T3Z5jkg) - turn 79; Unit u_36 collided when trying to move s to (19, 28)\n",
      "\u001b[33m[WARN]\u001b[39m (match_XQGm5T3Z5jkg) - turn 79; Unit u_43 collided when trying to move n to (19, 29)\n",
      "\u001b[33m[WARN]\u001b[39m (match_XQGm5T3Z5jkg) - turn 79; Unit u_41 collided when trying to move w to (20, 28)\n",
      "\u001b[33m[WARN]\u001b[39m (match_XQGm5T3Z5jkg) - turn 80; Unit u_6 collided when trying to move e to (25, 25)\n",
      "\u001b[33m[WARN]\u001b[39m (match_XQGm5T3Z5jkg) - turn 80; Unit u_32 collided when trying to move w to (25, 25)\n",
      "\u001b[33m[WARN]\u001b[39m (match_XQGm5T3Z5jkg) - turn 80; Unit u_41 collided when trying to move w to (20, 28)\n",
      "\u001b[33m[WARN]\u001b[39m (match_XQGm5T3Z5jkg) - turn 80; Unit u_46 collided when trying to move e to (19, 28)\n",
      "\u001b[33m[WARN]\u001b[39m (match_XQGm5T3Z5jkg) - turn 81; Unit u_41 collided when trying to move w to (20, 28)\n",
      "\u001b[33m[WARN]\u001b[39m (match_XQGm5T3Z5jkg) - turn 81; Unit u_46 collided when trying to move e to (19, 28)\n",
      "\u001b[33m[WARN]\u001b[39m (match_XQGm5T3Z5jkg) - turn 82; Unit u_41 collided when trying to move w to (20, 28)\n",
      "\u001b[33m[WARN]\u001b[39m (match_XQGm5T3Z5jkg) - turn 84; Unit u_46 collided when trying to move n to (19, 27)\n",
      "\u001b[33m[WARN]\u001b[39m (match_XQGm5T3Z5jkg) - turn 89; Unit u_41 collided when trying to move s to (20, 27)\n",
      "\u001b[33m[WARN]\u001b[39m (match_XQGm5T3Z5jkg) - turn 92; Unit u_31 collided when trying to move n to (19, 25)\n",
      "\u001b[33m[WARN]\u001b[39m (match_XQGm5T3Z5jkg) - turn 92; Unit u_41 collided when trying to move w to (19, 25)\n",
      "\u001b[33m[WARN]\u001b[39m (match_XQGm5T3Z5jkg) - turn 93; Unit u_58 collided when trying to move e to (25, 24)\n",
      "\u001b[33m[WARN]\u001b[39m (match_XQGm5T3Z5jkg) - turn 94; Unit u_6 collided when trying to move n to (24, 24)\n",
      "\u001b[33m[WARN]\u001b[39m (match_XQGm5T3Z5jkg) - turn 94; Unit u_23 collided when trying to move n to (20, 25)\n",
      "\u001b[33m[WARN]\u001b[39m (match_XQGm5T3Z5jkg) - turn 94; Unit u_43 collided when trying to move n to (20, 26)\n",
      "\u001b[33m[WARN]\u001b[39m (match_XQGm5T3Z5jkg) - turn 95; Unit u_2 collided when trying to move n to (20, 27)\n",
      "\u001b[33m[WARN]\u001b[39m (match_XQGm5T3Z5jkg) - turn 95; Unit u_6 collided when trying to move n to (24, 24)\n",
      "\u001b[33m[WARN]\u001b[39m (match_XQGm5T3Z5jkg) - turn 96; Unit u_2 collided when trying to move n to (20, 27)\n",
      "\u001b[33m[WARN]\u001b[39m (match_XQGm5T3Z5jkg) - turn 96; Unit u_6 collided when trying to move n to (24, 24)\n",
      "\u001b[33m[WARN]\u001b[39m (match_XQGm5T3Z5jkg) - turn 97; Unit u_2 collided when trying to move n to (20, 27)\n",
      "\u001b[33m[WARN]\u001b[39m (match_XQGm5T3Z5jkg) - turn 98; Unit u_2 collided when trying to move n to (20, 27)\n",
      "\u001b[33m[WARN]\u001b[39m (match_XQGm5T3Z5jkg) - turn 101; Unit u_64 collided when trying to move e to (3, 25)\n",
      "\u001b[33m[WARN]\u001b[39m (match_XQGm5T3Z5jkg) - turn 101; Unit u_65 collided when trying to move e to (2, 25)\n",
      "\u001b[33m[WARN]\u001b[39m (match_XQGm5T3Z5jkg) - turn 101; Unit u_71 collided when trying to move s to (8, 19)\n",
      "\u001b[33m[WARN]\u001b[39m (match_XQGm5T3Z5jkg) - turn 102; Unit u_64 collided when trying to move e to (3, 25)\n",
      "\u001b[33m[WARN]\u001b[39m (match_XQGm5T3Z5jkg) - turn 103; Unit u_74 collided when trying to move e to (3, 26)\n",
      "\u001b[33m[WARN]\u001b[39m (match_XQGm5T3Z5jkg) - turn 103; Unit u_79 collided when trying to move e to (2, 26)\n",
      "\u001b[33m[WARN]\u001b[39m (match_XQGm5T3Z5jkg) - turn 104; Unit u_69 collided when trying to move s to (9, 19)\n",
      "\u001b[33m[WARN]\u001b[39m (match_XQGm5T3Z5jkg) - turn 104; Unit u_74 collided when trying to move e to (3, 26)\n",
      "\u001b[33m[WARN]\u001b[39m (match_XQGm5T3Z5jkg) - turn 104; Unit u_79 collided when trying to move e to (2, 26)\n",
      "\u001b[33m[WARN]\u001b[39m (match_XQGm5T3Z5jkg) - turn 105; Unit u_74 collided when trying to move e to (3, 26)\n",
      "\u001b[33m[WARN]\u001b[39m (match_XQGm5T3Z5jkg) - turn 105; Unit u_79 collided when trying to move e to (2, 26)\n",
      "\u001b[33m[WARN]\u001b[39m (match_XQGm5T3Z5jkg) - turn 106; Unit u_65 collided when trying to move e to (2, 25)\n",
      "\u001b[33m[WARN]\u001b[39m (match_XQGm5T3Z5jkg) - turn 106; Unit u_74 collided when trying to move e to (3, 26)\n",
      "\u001b[33m[WARN]\u001b[39m (match_XQGm5T3Z5jkg) - turn 106; Unit u_79 collided when trying to move e to (2, 26)\n",
      "\u001b[33m[WARN]\u001b[39m (match_XQGm5T3Z5jkg) - turn 107; Unit u_74 collided when trying to move e to (3, 26)\n",
      "\u001b[33m[WARN]\u001b[39m (match_XQGm5T3Z5jkg) - turn 107; Unit u_79 collided when trying to move e to (2, 26)\n",
      "\u001b[33m[WARN]\u001b[39m (match_XQGm5T3Z5jkg) - turn 108; Unit u_74 collided when trying to move e to (3, 26)\n",
      "\u001b[33m[WARN]\u001b[39m (match_XQGm5T3Z5jkg) - turn 108; Unit u_79 collided when trying to move e to (2, 26)\n",
      "\u001b[33m[WARN]\u001b[39m (match_XQGm5T3Z5jkg) - turn 109; Unit u_64 collided when trying to move e to (6, 25)\n",
      "\u001b[33m[WARN]\u001b[39m (match_XQGm5T3Z5jkg) - turn 109; Unit u_65 collided when trying to move e to (3, 25)\n",
      "\u001b[33m[WARN]\u001b[39m (match_XQGm5T3Z5jkg) - turn 109; Unit u_67 collided when trying to move e to (2, 25)\n",
      "\u001b[33m[WARN]\u001b[39m (match_XQGm5T3Z5jkg) - turn 109; Unit u_68 collided when trying to move w to (9, 17)\n",
      "\u001b[33m[WARN]\u001b[39m (match_XQGm5T3Z5jkg) - turn 109; Unit u_71 collided when trying to move n to (9, 17)\n",
      "\u001b[33m[WARN]\u001b[39m (match_XQGm5T3Z5jkg) - turn 109; Unit u_80 collided when trying to move e to (9, 18)\n",
      "\u001b[33m[WARN]\u001b[39m (match_XQGm5T3Z5jkg) - turn 109; Unit u_74 collided when trying to move e to (3, 26)\n",
      "\u001b[33m[WARN]\u001b[39m (match_XQGm5T3Z5jkg) - turn 109; Unit u_79 collided when trying to move e to (2, 26)\n",
      "\u001b[33m[WARN]\u001b[39m (match_XQGm5T3Z5jkg) - turn 110; Unit u_65 collided when trying to move e to (3, 25)\n",
      "\u001b[33m[WARN]\u001b[39m (match_XQGm5T3Z5jkg) - turn 110; Unit u_74 collided when trying to move e to (3, 26)\n",
      "\u001b[33m[WARN]\u001b[39m (match_XQGm5T3Z5jkg) - turn 110; Unit u_79 collided when trying to move e to (2, 26)\n",
      "\u001b[33m[WARN]\u001b[39m (match_XQGm5T3Z5jkg) - turn 118; Unit u_67 collided when trying to move e to (2, 25)\n",
      "\u001b[33m[WARN]\u001b[39m (match_XQGm5T3Z5jkg) - turn 122; Unit u_80 collided when trying to move w to (9, 17)\n",
      "\u001b[33m[WARN]\u001b[39m (match_XQGm5T3Z5jkg) - turn 124; Unit u_13 collided when trying to move n to (24, 19)\n",
      "\u001b[33m[WARN]\u001b[39m (match_XQGm5T3Z5jkg) - turn 124; Unit u_27 collided when trying to move s to (24, 19)\n",
      "\u001b[33m[WARN]\u001b[39m (match_XQGm5T3Z5jkg) - turn 125; Unit u_13 collided when trying to move n to (24, 19)\n",
      "\u001b[33m[WARN]\u001b[39m (match_XQGm5T3Z5jkg) - turn 125; Unit u_27 collided when trying to move s to (24, 19)\n",
      "\u001b[33m[WARN]\u001b[39m (match_XQGm5T3Z5jkg) - turn 126; Unit u_13 collided when trying to move n to (24, 19)\n",
      "\u001b[33m[WARN]\u001b[39m (match_XQGm5T3Z5jkg) - turn 126; Unit u_27 collided when trying to move s to (24, 19)\n",
      "\u001b[33m[WARN]\u001b[39m (match_XQGm5T3Z5jkg) - turn 127; Unit u_13 collided when trying to move n to (24, 19)\n",
      "\u001b[33m[WARN]\u001b[39m (match_XQGm5T3Z5jkg) - turn 127; Unit u_27 collided when trying to move s to (24, 19)\n",
      "\u001b[33m[WARN]\u001b[39m (match_XQGm5T3Z5jkg) - turn 128; Unit u_20 collided when trying to move n to (9, 16)\n",
      "\u001b[33m[WARN]\u001b[39m (match_XQGm5T3Z5jkg) - turn 129; Unit u_19 collided when trying to move s to (9, 17)\n",
      "\u001b[33m[WARN]\u001b[39m (match_XQGm5T3Z5jkg) - turn 132; Unit u_27 collided when trying to move w to (21, 18)\n",
      "\u001b[33m[WARN]\u001b[39m (match_XQGm5T3Z5jkg) - turn 134; Unit u_26 collided when trying to move n to (10, 15)\n",
      "\u001b[33m[WARN]\u001b[39m (match_XQGm5T3Z5jkg) - turn 135; Unit u_20 collided when trying to move n to (10, 17)\n",
      "\u001b[33m[WARN]\u001b[39m (match_XQGm5T3Z5jkg) - turn 135; Unit u_26 collided when trying to move s to (10, 17)\n",
      "\u001b[33m[WARN]\u001b[39m (match_XQGm5T3Z5jkg) - turn 135; Unit u_19 collided when trying to move s to (10, 16)\n",
      "\u001b[33m[WARN]\u001b[39m (match_XQGm5T3Z5jkg) - turn 136; Unit u_19 collided when trying to move s to (10, 16)\n",
      "\u001b[33m[WARN]\u001b[39m (match_XQGm5T3Z5jkg) - turn 136; Unit u_69 collided when trying to move e to (10, 16)\n",
      "\u001b[33m[WARN]\u001b[39m (match_XQGm5T3Z5jkg) - turn 136; Unit u_26 collided when trying to move w to (9, 16)\n",
      "\u001b[33m[WARN]\u001b[39m (match_XQGm5T3Z5jkg) - turn 136; Unit u_19 collided when trying to move s to (10, 16)\n",
      "\u001b[33m[WARN]\u001b[39m (match_XQGm5T3Z5jkg) - turn 136; Unit u_69 collided when trying to move e to (10, 16)\n",
      "\u001b[33m[WARN]\u001b[39m (match_XQGm5T3Z5jkg) - turn 137; Unit u_26 collided when trying to move w to (9, 16)\n",
      "\u001b[33m[WARN]\u001b[39m (match_XQGm5T3Z5jkg) - turn 137; Unit u_13 collided when trying to move e to (23, 17)\n",
      "\u001b[33m[WARN]\u001b[39m (match_XQGm5T3Z5jkg) - turn 138; Unit u_26 collided when trying to move w to (9, 16)\n",
      "\u001b[33m[WARN]\u001b[39m (match_XQGm5T3Z5jkg) - turn 141; Unit u_109 collided when trying to move n to (22, 17)\n",
      "\u001b[33m[WARN]\u001b[39m (match_XQGm5T3Z5jkg) - turn 142; Unit u_110 collided when trying to move s to (22, 18)\n",
      "\u001b[33m[WARN]\u001b[39m (match_XQGm5T3Z5jkg) - turn 143; Unit u_110 collided when trying to move s to (22, 18)\n",
      "\u001b[33m[WARN]\u001b[39m (match_XQGm5T3Z5jkg) - turn 143; Unit u_16 collided when trying to move e to (22, 17)\n",
      "\u001b[33m[WARN]\u001b[39m (match_XQGm5T3Z5jkg) - turn 143; Unit u_111 collided when trying to move e to (21, 17)\n",
      "\u001b[33m[WARN]\u001b[39m (match_XQGm5T3Z5jkg) - turn 144; Unit u_42 collided when trying to move s to (28, 21)\n",
      "\u001b[33m[WARN]\u001b[39m (match_XQGm5T3Z5jkg) - turn 144; Unit u_110 collided when trying to move s to (22, 18)\n",
      "\u001b[33m[WARN]\u001b[39m (match_XQGm5T3Z5jkg) - turn 145; Unit u_74 collided when trying to move e to (3, 25)\n",
      "\u001b[33m[WARN]\u001b[39m (match_XQGm5T3Z5jkg) - turn 145; Unit u_79 collided when trying to move e to (2, 25)\n",
      "\u001b[33m[WARN]\u001b[39m (match_XQGm5T3Z5jkg) - turn 145; Unit u_13 collided when trying to move w to (21, 16)\n",
      "\u001b[33m[WARN]\u001b[39m (match_XQGm5T3Z5jkg) - turn 145; Unit u_110 collided when trying to move n to (22, 16)\n",
      "\u001b[33m[WARN]\u001b[39m (match_XQGm5T3Z5jkg) - turn 145; Unit u_109 collided when trying to move n to (22, 17)\n",
      "\u001b[33m[WARN]\u001b[39m (match_XQGm5T3Z5jkg) - turn 146; Unit u_74 collided when trying to move e to (3, 25)\n",
      "\u001b[33m[WARN]\u001b[39m (match_XQGm5T3Z5jkg) - turn 147; Unit u_74 collided when trying to move e to (3, 25)\n",
      "\u001b[33m[WARN]\u001b[39m (match_XQGm5T3Z5jkg) - turn 148; Unit u_110 collided when trying to move s to (22, 17)\n",
      "\u001b[33m[WARN]\u001b[39m (match_XQGm5T3Z5jkg) - turn 148; Unit u_111 collided when trying to move w to (20, 16)\n",
      "\u001b[33m[WARN]\u001b[39m (match_XQGm5T3Z5jkg) - turn 149; Unit u_58 collided when trying to move w to (29, 22)\n",
      "\u001b[33m[WARN]\u001b[39m (match_XQGm5T3Z5jkg) - turn 150; Unit u_74 collided when trying to move e to (4, 25)\n",
      "\u001b[33m[WARN]\u001b[39m (match_XQGm5T3Z5jkg) - turn 151; Unit u_13 collided when trying to move n to (22, 15)\n",
      "\u001b[33m[WARN]\u001b[39m (match_XQGm5T3Z5jkg) - turn 151; Unit u_16 collided when trying to move e to (22, 16)\n",
      "\u001b[33m[WARN]\u001b[39m (match_XQGm5T3Z5jkg) - turn 151; Unit u_111 collided when trying to move s to (21, 16)\n",
      "\u001b[33m[WARN]\u001b[39m (match_XQGm5T3Z5jkg) - turn 152; Unit u_32 collided when trying to move n to (28, 21)\n",
      "\u001b[33m[WARN]\u001b[39m (match_XQGm5T3Z5jkg) - turn 152; Unit u_113 collided when trying to move w to (28, 21)\n",
      "\u001b[33m[WARN]\u001b[39m (match_XQGm5T3Z5jkg) - turn 152; Unit u_118 collided when trying to move e to (21, 16)\n",
      "\u001b[33m[WARN]\u001b[39m (match_XQGm5T3Z5jkg) - turn 153; Unit u_6 collided when trying to move n to (29, 21)\n",
      "\u001b[33m[WARN]\u001b[39m (match_XQGm5T3Z5jkg) - turn 153; Unit u_118 collided when trying to move e to (21, 16)\n",
      "\u001b[33m[WARN]\u001b[39m (match_XQGm5T3Z5jkg) - turn 154; Unit u_6 collided when trying to move n to (29, 21)\n",
      "\u001b[33m[WARN]\u001b[39m (match_XQGm5T3Z5jkg) - turn 154; Unit u_109 collided when trying to move n to (21, 16)\n",
      "\u001b[33m[WARN]\u001b[39m (match_XQGm5T3Z5jkg) - turn 155; Unit u_6 collided when trying to move n to (29, 21)\n",
      "\u001b[33m[WARN]\u001b[39m (match_XQGm5T3Z5jkg) - turn 155; Unit u_27 collided when trying to move w to (21, 17)\n",
      "\u001b[33m[WARN]\u001b[39m (match_XQGm5T3Z5jkg) - turn 155; Unit u_110 collided when trying to move s to (22, 16)\n",
      "\u001b[33m[WARN]\u001b[39m (match_XQGm5T3Z5jkg) - turn 156; Unit u_6 collided when trying to move n to (29, 21)\n",
      "\u001b[33m[WARN]\u001b[39m (match_XQGm5T3Z5jkg) - turn 157; Unit u_27 collided when trying to move w to (21, 17)\n",
      "\u001b[33m[WARN]\u001b[39m (match_XQGm5T3Z5jkg) - turn 158; Unit u_27 collided when trying to move w to (21, 17)\n",
      "\u001b[33m[WARN]\u001b[39m (match_XQGm5T3Z5jkg) - turn 160; Unit u_12 collided when trying to move s to (28, 21)\n",
      "\u001b[33m[WARN]\u001b[39m (match_XQGm5T3Z5jkg) - turn 160; Unit u_42 collided when trying to move e to (28, 20)\n",
      "\u001b[33m[WARN]\u001b[39m (match_XQGm5T3Z5jkg) - turn 160; Unit u_111 collided when trying to move e to (22, 15)\n",
      "\u001b[33m[WARN]\u001b[39m (match_XQGm5T3Z5jkg) - turn 161; Unit u_6 collided when trying to move w to (28, 21)\n",
      "\u001b[33m[WARN]\u001b[39m (match_XQGm5T3Z5jkg) - turn 161; Unit u_58 collided when trying to move n to (29, 21)\n",
      "\u001b[33m[WARN]\u001b[39m (match_XQGm5T3Z5jkg) - turn 161; Unit u_12 collided when trying to move s to (28, 21)\n",
      "\u001b[33m[WARN]\u001b[39m (match_XQGm5T3Z5jkg) - turn 161; Unit u_42 collided when trying to move e to (28, 20)\n",
      "\u001b[33m[WARN]\u001b[39m (match_XQGm5T3Z5jkg) - turn 162; Unit u_6 collided when trying to move w to (28, 21)\n",
      "\u001b[33m[WARN]\u001b[39m (match_XQGm5T3Z5jkg) - turn 162; Unit u_58 collided when trying to move n to (29, 21)\n",
      "\u001b[33m[WARN]\u001b[39m (match_XQGm5T3Z5jkg) - turn 162; Unit u_12 collided when trying to move s to (28, 21)\n",
      "\u001b[33m[WARN]\u001b[39m (match_XQGm5T3Z5jkg) - turn 162; Unit u_42 collided when trying to move e to (28, 20)\n",
      "\u001b[33m[WARN]\u001b[39m (match_XQGm5T3Z5jkg) - turn 165; Unit u_58 collided when trying to move e to (30, 21)\n",
      "\u001b[33m[WARN]\u001b[39m (match_XQGm5T3Z5jkg) - turn 165; Unit u_113 collided when trying to move n to (29, 21)\n",
      "\u001b[33m[WARN]\u001b[39m (match_XQGm5T3Z5jkg) - turn 167; Unit u_12 collided when trying to move e to (29, 20)\n",
      "\u001b[33m[WARN]\u001b[39m (match_XQGm5T3Z5jkg) - turn 167; Unit u_32 collided when trying to move n to (28, 20)\n",
      "\u001b[33m[WARN]\u001b[39m (match_XQGm5T3Z5jkg) - turn 168; Unit u_79 collided when trying to move e to (4, 25)\n",
      "\u001b[33m[WARN]\u001b[39m (match_XQGm5T3Z5jkg) - turn 168; Unit u_12 collided when trying to move e to (29, 20)\n",
      "\u001b[33m[WARN]\u001b[39m (match_XQGm5T3Z5jkg) - turn 168; Unit u_32 collided when trying to move n to (28, 20)\n",
      "\u001b[33m[WARN]\u001b[39m (match_XQGm5T3Z5jkg) - turn 168; Unit u_113 collided when trying to move n to (29, 20)\n",
      "\u001b[33m[WARN]\u001b[39m (match_XQGm5T3Z5jkg) - turn 168; Unit u_58 collided when trying to move s to (29, 21)\n",
      "\u001b[33m[WARN]\u001b[39m (match_XQGm5T3Z5jkg) - turn 168; Unit u_12 collided when trying to move e to (29, 20)\n",
      "\u001b[33m[WARN]\u001b[39m (match_XQGm5T3Z5jkg) - turn 168; Unit u_113 collided when trying to move n to (29, 20)\n",
      "\u001b[33m[WARN]\u001b[39m (match_XQGm5T3Z5jkg) - turn 169; Unit u_32 collided when trying to move n to (28, 20)\n",
      "\u001b[33m[WARN]\u001b[39m (match_XQGm5T3Z5jkg) - turn 171; Unit u_79 collided when trying to move e to (5, 25)\n",
      "\u001b[33m[WARN]\u001b[39m (match_XQGm5T3Z5jkg) - turn 173; Unit u_6 collided when trying to move n to (29, 19)\n",
      "\u001b[33m[WARN]\u001b[39m (match_XQGm5T3Z5jkg) - turn 178; Unit u_141 collided when trying to move w to (13, 14)\n",
      "\u001b[33m[WARN]\u001b[39m (match_XQGm5T3Z5jkg) - turn 178; Unit u_139 collided when trying to move s to (23, 11)\n",
      "\u001b[33m[WARN]\u001b[39m (match_XQGm5T3Z5jkg) - turn 179; Unit u_135 collided when trying to move e to (2, 25)\n",
      "\u001b[33m[WARN]\u001b[39m (match_XQGm5T3Z5jkg) - turn 179; Unit u_112 collided when trying to move e to (18, 14)\n",
      "\u001b[33m[WARN]\u001b[39m (match_XQGm5T3Z5jkg) - turn 179; Unit u_139 collided when trying to move s to (23, 11)\n",
      "\u001b[33m[WARN]\u001b[39m (match_XQGm5T3Z5jkg) - turn 180; Unit u_112 collided when trying to move e to (18, 14)\n",
      "\u001b[33m[WARN]\u001b[39m (match_XQGm5T3Z5jkg) - turn 181; Unit u_110 collided when trying to move e to (19, 14)\n",
      "\u001b[33m[WARN]\u001b[39m (match_XQGm5T3Z5jkg) - turn 181; Unit u_112 collided when trying to move e to (18, 14)\n",
      "\u001b[33m[WARN]\u001b[39m (match_XQGm5T3Z5jkg) - turn 182; Unit u_137 collided when trying to move e to (7, 21)\n",
      "\u001b[33m[WARN]\u001b[39m (match_XQGm5T3Z5jkg) - turn 182; Unit u_142 collided when trying to move n to (4, 19)\n",
      "\u001b[33m[WARN]\u001b[39m (match_XQGm5T3Z5jkg) - turn 182; Unit u_110 collided when trying to move e to (19, 14)\n",
      "\u001b[33m[WARN]\u001b[39m (match_XQGm5T3Z5jkg) - turn 182; Unit u_112 collided when trying to move e to (18, 14)\n",
      "\u001b[33m[WARN]\u001b[39m (match_XQGm5T3Z5jkg) - turn 182; Unit u_139 collided when trying to move s to (23, 12)\n",
      "\u001b[33m[WARN]\u001b[39m (match_XQGm5T3Z5jkg) - turn 182; Unit u_115 collided when trying to move s to (23, 11)\n",
      "\u001b[33m[WARN]\u001b[39m (match_XQGm5T3Z5jkg) - turn 183; Unit u_142 collided when trying to move n to (4, 19)\n",
      "\u001b[33m[WARN]\u001b[39m (match_XQGm5T3Z5jkg) - turn 183; Unit u_145 collided when trying to move w to (4, 20)\n",
      "\u001b[33m[WARN]\u001b[39m (match_XQGm5T3Z5jkg) - turn 183; Unit u_110 collided when trying to move e to (19, 14)\n",
      "\u001b[33m[WARN]\u001b[39m (match_XQGm5T3Z5jkg) - turn 183; Unit u_112 collided when trying to move e to (18, 14)\n",
      "\u001b[33m[WARN]\u001b[39m (match_XQGm5T3Z5jkg) - turn 184; Unit u_110 collided when trying to move e to (19, 14)\n",
      "\u001b[33m[WARN]\u001b[39m (match_XQGm5T3Z5jkg) - turn 184; Unit u_112 collided when trying to move e to (18, 14)\n",
      "\u001b[33m[WARN]\u001b[39m (match_XQGm5T3Z5jkg) - turn 184; Unit u_111 collided when trying to move e to (20, 15)\n",
      "\u001b[33m[WARN]\u001b[39m (match_XQGm5T3Z5jkg) - turn 185; Unit u_110 collided when trying to move e to (19, 14)\n",
      "\u001b[33m[WARN]\u001b[39m (match_XQGm5T3Z5jkg) - turn 185; Unit u_112 collided when trying to move e to (18, 14)\n",
      "\u001b[33m[WARN]\u001b[39m (match_XQGm5T3Z5jkg) - turn 185; Unit u_111 collided when trying to move e to (20, 15)\n",
      "\u001b[33m[WARN]\u001b[39m (match_XQGm5T3Z5jkg) - turn 185; Unit u_113 collided when trying to move n to (31, 22)\n",
      "\u001b[33m[WARN]\u001b[39m (match_XQGm5T3Z5jkg) - turn 185; Unit u_139 collided when trying to move s to (23, 13)\n",
      "\u001b[33m[WARN]\u001b[39m (match_XQGm5T3Z5jkg) - turn 186; Unit u_74 collided when trying to move e to (3, 25)\n",
      "\u001b[33m[WARN]\u001b[39m (match_XQGm5T3Z5jkg) - turn 186; Unit u_110 collided when trying to move e to (19, 14)\n",
      "\u001b[33m[WARN]\u001b[39m (match_XQGm5T3Z5jkg) - turn 186; Unit u_112 collided when trying to move e to (18, 14)\n",
      "\u001b[33m[WARN]\u001b[39m (match_XQGm5T3Z5jkg) - turn 186; Unit u_111 collided when trying to move e to (20, 15)\n",
      "\u001b[33m[WARN]\u001b[39m (match_XQGm5T3Z5jkg) - turn 187; Unit u_141 collided when trying to move w to (14, 15)\n",
      "\u001b[33m[WARN]\u001b[39m (match_XQGm5T3Z5jkg) - turn 187; Unit u_12 collided when trying to move s to (30, 17)\n",
      "\u001b[33m[WARN]\u001b[39m (match_XQGm5T3Z5jkg) - turn 187; Unit u_110 collided when trying to move e to (19, 14)\n",
      "\u001b[33m[WARN]\u001b[39m (match_XQGm5T3Z5jkg) - turn 187; Unit u_112 collided when trying to move e to (18, 14)\n",
      "\u001b[33m[WARN]\u001b[39m (match_XQGm5T3Z5jkg) - turn 187; Unit u_111 collided when trying to move e to (20, 15)\n",
      "\u001b[33m[WARN]\u001b[39m (match_XQGm5T3Z5jkg) - turn 188; Unit u_110 collided when trying to move e to (19, 14)\n",
      "\u001b[33m[WARN]\u001b[39m (match_XQGm5T3Z5jkg) - turn 188; Unit u_112 collided when trying to move e to (18, 14)\n",
      "\u001b[33m[WARN]\u001b[39m (match_XQGm5T3Z5jkg) - turn 188; Unit u_111 collided when trying to move e to (20, 15)\n",
      "\u001b[33m[WARN]\u001b[39m (match_XQGm5T3Z5jkg) - turn 189; Unit u_110 collided when trying to move e to (19, 14)\n",
      "\u001b[33m[WARN]\u001b[39m (match_XQGm5T3Z5jkg) - turn 189; Unit u_112 collided when trying to move e to (18, 14)\n",
      "\u001b[33m[WARN]\u001b[39m (match_XQGm5T3Z5jkg) - turn 189; Unit u_111 collided when trying to move e to (20, 15)\n",
      "\u001b[33m[WARN]\u001b[39m (match_XQGm5T3Z5jkg) - turn 190; Unit u_135 collided when trying to move e to (1, 25)\n",
      "\u001b[33m[WARN]\u001b[39m (match_XQGm5T3Z5jkg) - turn 190; Unit u_110 collided when trying to move e to (19, 14)\n",
      "\u001b[33m[WARN]\u001b[39m (match_XQGm5T3Z5jkg) - turn 190; Unit u_112 collided when trying to move e to (18, 14)\n",
      "\u001b[33m[WARN]\u001b[39m (match_XQGm5T3Z5jkg) - turn 190; Unit u_111 collided when trying to move e to (20, 15)\n",
      "\u001b[33m[WARN]\u001b[39m (match_XQGm5T3Z5jkg) - turn 191; Unit u_113 collided when trying to move e to (31, 21)\n",
      "\u001b[33m[WARN]\u001b[39m (match_XQGm5T3Z5jkg) - turn 191; Unit u_144 collided when trying to move n to (31, 21)\n",
      "\u001b[33m[WARN]\u001b[39m (match_XQGm5T3Z5jkg) - turn 205; Unit u_174 collided when trying to move w to (23, 9)\n",
      "\u001b[33m[WARN]\u001b[39m (match_XQGm5T3Z5jkg) - turn 209; Unit u_176 collided when trying to move n to (31, 23)\n",
      "\u001b[33m[WARN]\u001b[39m (match_XQGm5T3Z5jkg) - turn 212; Unit u_176 collided when trying to move n to (31, 22)\n",
      "\u001b[33m[WARN]\u001b[39m (match_XQGm5T3Z5jkg) - turn 212; Unit u_178 collided when trying to move n to (31, 23)\n",
      "\u001b[33m[WARN]\u001b[39m (match_XQGm5T3Z5jkg) - turn 212; Unit u_177 collided when trying to move s to (30, 17)\n",
      "\u001b[33m[WARN]\u001b[39m (match_XQGm5T3Z5jkg) - turn 216; Unit u_142 collided when trying to move e to (11, 24)\n",
      "\u001b[33m[WARN]\u001b[39m (match_XQGm5T3Z5jkg) - turn 216; Unit u_143 collided when trying to move s to (11, 24)\n",
      "\u001b[33m[WARN]\u001b[39m (match_XQGm5T3Z5jkg) - turn 218; Unit u_141 collided when trying to move w to (11, 24)\n",
      "\u001b[33m[WARN]\u001b[39m (match_XQGm5T3Z5jkg) - turn 218; Unit u_181 collided when trying to move w to (25, 7)\n",
      "\u001b[33m[WARN]\u001b[39m (match_XQGm5T3Z5jkg) - turn 219; Unit u_178 collided when trying to move n to (31, 22)\n",
      "\u001b[33m[WARN]\u001b[39m (match_XQGm5T3Z5jkg) - turn 219; Unit u_179 collided when trying to move n to (31, 23)\n",
      "\u001b[33m[WARN]\u001b[39m (match_XQGm5T3Z5jkg) - turn 220; Unit u_178 collided when trying to move n to (31, 22)\n",
      "\u001b[33m[WARN]\u001b[39m (match_XQGm5T3Z5jkg) - turn 224; Unit u_79 collided when trying to move e to (2, 26)\n",
      "\u001b[33m[WARN]\u001b[39m (match_XQGm5T3Z5jkg) - turn 226; Unit u_181 collided when trying to move s to (25, 8)\n",
      "\u001b[33m[WARN]\u001b[39m (match_XQGm5T3Z5jkg) - turn 229; Unit u_182 collided when trying to move s to (27, 10)\n",
      "\u001b[33m[WARN]\u001b[39m (match_XQGm5T3Z5jkg) - turn 229; Unit u_186 collided when trying to move e to (27, 9)\n",
      "\u001b[33m[WARN]\u001b[39m (match_XQGm5T3Z5jkg) - turn 229; Unit u_184 collided when trying to move n to (31, 23)\n",
      "\u001b[33m[WARN]\u001b[39m (match_XQGm5T3Z5jkg) - turn 230; Unit u_183 collided when trying to move s to (29, 16)\n",
      "\u001b[33m[WARN]\u001b[39m (match_XQGm5T3Z5jkg) - turn 231; Unit u_57 collided when trying to move c to (3, 21)\n",
      "\u001b[33m[WARN]\u001b[39m (match_XQGm5T3Z5jkg) - turn 231; Unit u_57 collided when trying to move c to (3, 21)\n",
      "\u001b[33m[WARN]\u001b[39m (match_XQGm5T3Z5jkg) - turn 231; Unit u_138 collided when trying to move s to (3, 21)\n",
      "\u001b[33m[WARN]\u001b[39m (match_XQGm5T3Z5jkg) - turn 231; Unit u_138 collided when trying to move s to (3, 21)\n",
      "\u001b[33m[WARN]\u001b[39m (match_XQGm5T3Z5jkg) - turn 231; Unit u_13 collided when trying to move c to (26, 7)\n",
      "\u001b[33m[WARN]\u001b[39m (match_XQGm5T3Z5jkg) - turn 231; Unit u_13 collided when trying to move c to (26, 7)\n",
      "\u001b[33m[WARN]\u001b[39m (match_XQGm5T3Z5jkg) - turn 231; Unit u_112 collided when trying to move e to (26, 7)\n",
      "\u001b[33m[WARN]\u001b[39m (match_XQGm5T3Z5jkg) - turn 231; Unit u_112 collided when trying to move e to (26, 7)\n",
      "\u001b[33m[WARN]\u001b[39m (match_XQGm5T3Z5jkg) - turn 231; Unit u_183 collided when trying to move s to (29, 16)\n",
      "\u001b[33m[WARN]\u001b[39m (match_XQGm5T3Z5jkg) - turn 232; Unit u_57 collided when trying to move n to (3, 20)\n",
      "\u001b[33m[WARN]\u001b[39m (match_XQGm5T3Z5jkg) - turn 232; Unit u_183 collided when trying to move s to (29, 16)\n",
      "\u001b[33m[WARN]\u001b[39m (match_XQGm5T3Z5jkg) - turn 233; Unit u_183 collided when trying to move s to (29, 16)\n",
      "\u001b[33m[WARN]\u001b[39m (match_XQGm5T3Z5jkg) - turn 234; Unit u_115 collided when trying to move n to (26, 8)\n",
      "\u001b[33m[WARN]\u001b[39m (match_XQGm5T3Z5jkg) - turn 234; Unit u_184 collided when trying to move n to (31, 24)\n",
      "\u001b[33m[WARN]\u001b[39m (match_XQGm5T3Z5jkg) - turn 235; Unit u_110 collided when trying to move s to (26, 9)\n",
      "\u001b[33m[WARN]\u001b[39m (match_XQGm5T3Z5jkg) - turn 235; Unit u_186 collided when trying to move w to (26, 9)\n",
      "\u001b[33m[WARN]\u001b[39m (match_XQGm5T3Z5jkg) - turn 235; Unit u_189 collided when trying to move s to (27, 9)\n",
      "\u001b[33m[WARN]\u001b[39m (match_XQGm5T3Z5jkg) - turn 235; Unit u_184 collided when trying to move n to (31, 24)\n",
      "\u001b[33m[WARN]\u001b[39m (match_XQGm5T3Z5jkg) - turn 236; Unit u_184 collided when trying to move n to (31, 24)\n",
      "\u001b[33m[WARN]\u001b[39m (match_XQGm5T3Z5jkg) - turn 236; Unit u_189 collided when trying to move s to (27, 9)\n",
      "\u001b[33m[WARN]\u001b[39m (match_XQGm5T3Z5jkg) - turn 237; Unit u_184 collided when trying to move n to (31, 24)\n",
      "\u001b[33m[WARN]\u001b[39m (match_XQGm5T3Z5jkg) - turn 237; Unit u_189 collided when trying to move w to (26, 8)\n",
      "\u001b[33m[WARN]\u001b[39m (match_XQGm5T3Z5jkg) - turn 238; Unit u_179 collided when trying to move n to (31, 23)\n",
      "\u001b[33m[WARN]\u001b[39m (match_XQGm5T3Z5jkg) - turn 238; Unit u_184 collided when trying to move n to (31, 24)\n",
      "\u001b[33m[WARN]\u001b[39m (match_XQGm5T3Z5jkg) - turn 238; Unit u_182 collided when trying to move w to (27, 9)\n",
      "\u001b[33m[WARN]\u001b[39m (match_XQGm5T3Z5jkg) - turn 238; Unit u_189 collided when trying to move w to (26, 8)\n",
      "\u001b[33m[WARN]\u001b[39m (match_XQGm5T3Z5jkg) - turn 239; Unit u_115 collided when trying to move e to (27, 9)\n",
      "\u001b[33m[WARN]\u001b[39m (match_XQGm5T3Z5jkg) - turn 239; Unit u_189 collided when trying to move w to (26, 8)\n",
      "\u001b[33m[WARN]\u001b[39m (match_XQGm5T3Z5jkg) - turn 240; Unit u_186 collided when trying to move w to (26, 9)\n",
      "\u001b[33m[WARN]\u001b[39m (match_XQGm5T3Z5jkg) - turn 241; Unit u_193 collided when trying to move n to (3, 19)\n",
      "\u001b[33m[WARN]\u001b[39m (match_XQGm5T3Z5jkg) - turn 241; Unit u_186 collided when trying to move w to (26, 9)\n",
      "\u001b[33m[WARN]\u001b[39m (match_XQGm5T3Z5jkg) - turn 242; Unit u_13 collided when trying to move s to (26, 8)\n",
      "\u001b[33m[WARN]\u001b[39m (match_XQGm5T3Z5jkg) - turn 242; Unit u_112 collided when trying to move s to (26, 7)\n",
      "\u001b[33m[WARN]\u001b[39m (match_XQGm5T3Z5jkg) - turn 242; Unit u_194 collided when trying to move e to (26, 7)\n",
      "\u001b[33m[WARN]\u001b[39m (match_XQGm5T3Z5jkg) - turn 242; Unit u_207 collided when trying to move n to (25, 7)\n",
      "\u001b[33m[WARN]\u001b[39m (match_XQGm5T3Z5jkg) - turn 242; Unit u_110 collided when trying to move w to (26, 8)\n",
      "\u001b[33m[WARN]\u001b[39m (match_XQGm5T3Z5jkg) - turn 243; Unit u_13 collided when trying to move s to (26, 8)\n",
      "\u001b[33m[WARN]\u001b[39m (match_XQGm5T3Z5jkg) - turn 243; Unit u_110 collided when trying to move w to (26, 8)\n",
      "\u001b[33m[WARN]\u001b[39m (match_XQGm5T3Z5jkg) - turn 243; Unit u_207 collided when trying to move n to (25, 7)\n",
      "\u001b[33m[WARN]\u001b[39m (match_XQGm5T3Z5jkg) - turn 244; Unit u_57 collided when trying to move n to (3, 20)\n",
      "\u001b[33m[WARN]\u001b[39m (match_XQGm5T3Z5jkg) - turn 244; Unit u_188 collided when trying to move e to (3, 20)\n",
      "\u001b[33m[WARN]\u001b[39m (match_XQGm5T3Z5jkg) - turn 249; Unit u_193 collided when trying to move n to (3, 20)\n",
      "\u001b[33m[WARN]\u001b[39m (match_XQGm5T3Z5jkg) - turn 250; Unit u_138 collided when trying to move w to (2, 20)\n",
      "\u001b[33m[WARN]\u001b[39m (match_XQGm5T3Z5jkg) - turn 250; Unit u_193 collided when trying to move n to (3, 20)\n",
      "\u001b[33m[WARN]\u001b[39m (match_XQGm5T3Z5jkg) - turn 250; Unit u_186 collided when trying to move w to (26, 8)\n",
      "\u001b[33m[WARN]\u001b[39m (match_XQGm5T3Z5jkg) - turn 250; Unit u_211 collided when trying to move w to (27, 8)\n",
      "\u001b[33m[WARN]\u001b[39m (match_XQGm5T3Z5jkg) - turn 252; Unit u_112 collided when trying to move s to (27, 8)\n",
      "\u001b[33m[WARN]\u001b[39m (match_XQGm5T3Z5jkg) - turn 252; Unit u_174 collided when trying to move s to (27, 7)\n",
      "\u001b[33m[WARN]\u001b[39m (match_XQGm5T3Z5jkg) - turn 253; Unit u_174 collided when trying to move s to (27, 7)\n",
      "\u001b[33m[WARN]\u001b[39m (match_XQGm5T3Z5jkg) - turn 254; Unit u_145 collided when trying to move s to (2, 20)\n",
      "\u001b[33m[WARN]\u001b[39m (match_XQGm5T3Z5jkg) - turn 254; Unit u_188 collided when trying to move w to (2, 20)\n",
      "\u001b[33m[WARN]\u001b[39m (match_XQGm5T3Z5jkg) - turn 254; Unit u_179 collided when trying to move n to (31, 24)\n",
      "\u001b[33m[WARN]\u001b[39m (match_XQGm5T3Z5jkg) - turn 255; Unit u_138 collided when trying to move n to (2, 20)\n",
      "\u001b[33m[WARN]\u001b[39m (match_XQGm5T3Z5jkg) - turn 255; Unit u_193 collided when trying to move w to (2, 21)\n",
      "\u001b[33m[WARN]\u001b[39m (match_XQGm5T3Z5jkg) - turn 255; Unit u_220 collided when trying to move w to (3, 21)\n",
      "\u001b[33m[WARN]\u001b[39m (match_XQGm5T3Z5jkg) - turn 255; Unit u_188 collided when trying to move w to (2, 20)\n",
      "\u001b[33m[WARN]\u001b[39m (match_XQGm5T3Z5jkg) - turn 255; Unit u_210 collided when trying to move w to (30, 24)\n",
      "\u001b[33m[WARN]\u001b[39m (match_XQGm5T3Z5jkg) - turn 255; Unit u_214 collided when trying to move s to (31, 24)\n",
      "\u001b[33m[WARN]\u001b[39m (match_XQGm5T3Z5jkg) - turn 256; Unit u_180 collided when trying to move s to (31, 23)\n",
      "\u001b[33m[WARN]\u001b[39m (match_XQGm5T3Z5jkg) - turn 256; Unit u_184 collided when trying to move s to (31, 22)\n",
      "\u001b[33m[WARN]\u001b[39m (match_XQGm5T3Z5jkg) - turn 256; Unit u_208 collided when trying to move w to (28, 15)\n",
      "\u001b[33m[WARN]\u001b[39m (match_XQGm5T3Z5jkg) - turn 256; Unit u_212 collided when trying to move n to (29, 15)\n",
      "\u001b[33m[WARN]\u001b[39m (match_XQGm5T3Z5jkg) - turn 257; Unit u_180 collided when trying to move s to (31, 23)\n",
      "\u001b[33m[WARN]\u001b[39m (match_XQGm5T3Z5jkg) - turn 257; Unit u_184 collided when trying to move s to (31, 22)\n",
      "\u001b[33m[WARN]\u001b[39m (match_XQGm5T3Z5jkg) - turn 258; Unit u_145 collided when trying to move s to (2, 20)\n",
      "\u001b[33m[WARN]\u001b[39m (match_XQGm5T3Z5jkg) - turn 258; Unit u_218 collided when trying to move n to (2, 20)\n",
      "\u001b[33m[WARN]\u001b[39m (match_XQGm5T3Z5jkg) - turn 258; Unit u_188 collided when trying to move w to (2, 21)\n",
      "\u001b[33m[WARN]\u001b[39m (match_XQGm5T3Z5jkg) - turn 258; Unit u_193 collided when trying to move s to (3, 21)\n",
      "\u001b[33m[WARN]\u001b[39m (match_XQGm5T3Z5jkg) - turn 258; Unit u_138 collided when trying to move e to (3, 20)\n",
      "\u001b[33m[WARN]\u001b[39m (match_XQGm5T3Z5jkg) - turn 258; Unit u_145 collided when trying to move s to (2, 20)\n",
      "\u001b[33m[WARN]\u001b[39m (match_XQGm5T3Z5jkg) - turn 258; Unit u_218 collided when trying to move n to (2, 20)\n",
      "\u001b[33m[WARN]\u001b[39m (match_XQGm5T3Z5jkg) - turn 258; Unit u_180 collided when trying to move s to (31, 23)\n",
      "\u001b[33m[WARN]\u001b[39m (match_XQGm5T3Z5jkg) - turn 258; Unit u_184 collided when trying to move s to (31, 22)\n",
      "\u001b[33m[WARN]\u001b[39m (match_XQGm5T3Z5jkg) - turn 258; Unit u_210 collided when trying to move n to (31, 24)\n",
      "\u001b[33m[WARN]\u001b[39m (match_XQGm5T3Z5jkg) - turn 259; Unit u_193 collided when trying to move w to (2, 20)\n",
      "\u001b[33m[WARN]\u001b[39m (match_XQGm5T3Z5jkg) - turn 259; Unit u_138 collided when trying to move e to (3, 20)\n",
      "\u001b[33m[WARN]\u001b[39m (match_XQGm5T3Z5jkg) - turn 259; Unit u_193 collided when trying to move w to (2, 20)\n",
      "\u001b[33m[WARN]\u001b[39m (match_XQGm5T3Z5jkg) - turn 259; Unit u_218 collided when trying to move n to (2, 20)\n",
      "\u001b[33m[WARN]\u001b[39m (match_XQGm5T3Z5jkg) - turn 259; Unit u_188 collided when trying to move w to (2, 21)\n",
      "\u001b[33m[WARN]\u001b[39m (match_XQGm5T3Z5jkg) - turn 259; Unit u_220 collided when trying to move w to (3, 21)\n",
      "\u001b[33m[WARN]\u001b[39m (match_XQGm5T3Z5jkg) - turn 259; Unit u_218 collided when trying to move n to (2, 20)\n",
      "\u001b[33m[WARN]\u001b[39m (match_XQGm5T3Z5jkg) - turn 259; Unit u_180 collided when trying to move s to (31, 23)\n",
      "\u001b[33m[WARN]\u001b[39m (match_XQGm5T3Z5jkg) - turn 259; Unit u_184 collided when trying to move s to (31, 22)\n",
      "\u001b[33m[WARN]\u001b[39m (match_XQGm5T3Z5jkg) - turn 260; Unit u_193 collided when trying to move s to (3, 21)\n",
      "\u001b[33m[WARN]\u001b[39m (match_XQGm5T3Z5jkg) - turn 260; Unit u_138 collided when trying to move e to (3, 20)\n",
      "\u001b[33m[WARN]\u001b[39m (match_XQGm5T3Z5jkg) - turn 260; Unit u_218 collided when trying to move e to (3, 21)\n",
      "\u001b[33m[WARN]\u001b[39m (match_XQGm5T3Z5jkg) - turn 260; Unit u_179 collided when trying to move s to (31, 25)\n",
      "\u001b[33m[WARN]\u001b[39m (match_XQGm5T3Z5jkg) - turn 260; Unit u_214 collided when trying to move s to (31, 24)\n",
      "\u001b[33m[WARN]\u001b[39m (match_XQGm5T3Z5jkg) - turn 260; Unit u_180 collided when trying to move s to (31, 23)\n",
      "\u001b[33m[WARN]\u001b[39m (match_XQGm5T3Z5jkg) - turn 260; Unit u_184 collided when trying to move s to (31, 22)\n",
      "\u001b[33m[WARN]\u001b[39m (match_XQGm5T3Z5jkg) - turn 261; Unit u_145 collided when trying to move s to (2, 20)\n",
      "\u001b[33m[WARN]\u001b[39m (match_XQGm5T3Z5jkg) - turn 261; Unit u_193 collided when trying to move w to (2, 20)\n",
      "\u001b[33m[WARN]\u001b[39m (match_XQGm5T3Z5jkg) - turn 261; Unit u_188 collided when trying to move n to (3, 20)\n",
      "\u001b[33m[WARN]\u001b[39m (match_XQGm5T3Z5jkg) - turn 261; Unit u_218 collided when trying to move n to (2, 20)\n",
      "\u001b[33m[WARN]\u001b[39m (match_XQGm5T3Z5jkg) - turn 261; Unit u_138 collided when trying to move s to (2, 21)\n",
      "\u001b[33m[WARN]\u001b[39m (match_XQGm5T3Z5jkg) - turn 261; Unit u_145 collided when trying to move s to (2, 20)\n",
      "\u001b[33m[WARN]\u001b[39m (match_XQGm5T3Z5jkg) - turn 261; Unit u_193 collided when trying to move w to (2, 20)\n",
      "\u001b[33m[WARN]\u001b[39m (match_XQGm5T3Z5jkg) - turn 261; Unit u_218 collided when trying to move n to (2, 20)\n",
      "\u001b[33m[WARN]\u001b[39m (match_XQGm5T3Z5jkg) - turn 261; Unit u_179 collided when trying to move s to (31, 25)\n",
      "\u001b[33m[WARN]\u001b[39m (match_XQGm5T3Z5jkg) - turn 261; Unit u_209 collided when trying to move n to (31, 24)\n",
      "\u001b[33m[WARN]\u001b[39m (match_XQGm5T3Z5jkg) - turn 261; Unit u_179 collided when trying to move s to (31, 25)\n",
      "\u001b[33m[WARN]\u001b[39m (match_XQGm5T3Z5jkg) - turn 261; Unit u_210 collided when trying to move n to (31, 25)\n",
      "\u001b[33m[WARN]\u001b[39m (match_XQGm5T3Z5jkg) - turn 261; Unit u_210 collided when trying to move n to (31, 25)\n",
      "\u001b[33m[WARN]\u001b[39m (match_XQGm5T3Z5jkg) - turn 261; Unit u_180 collided when trying to move s to (31, 23)\n",
      "\u001b[33m[WARN]\u001b[39m (match_XQGm5T3Z5jkg) - turn 261; Unit u_184 collided when trying to move s to (31, 22)\n",
      "\u001b[33m[WARN]\u001b[39m (match_XQGm5T3Z5jkg) - turn 262; Unit u_193 collided when trying to move w to (2, 20)\n",
      "\u001b[33m[WARN]\u001b[39m (match_XQGm5T3Z5jkg) - turn 262; Unit u_188 collided when trying to move n to (3, 20)\n",
      "\u001b[33m[WARN]\u001b[39m (match_XQGm5T3Z5jkg) - turn 262; Unit u_218 collided when trying to move n to (2, 20)\n",
      "\u001b[33m[WARN]\u001b[39m (match_XQGm5T3Z5jkg) - turn 262; Unit u_180 collided when trying to move s to (31, 23)\n",
      "\u001b[33m[WARN]\u001b[39m (match_XQGm5T3Z5jkg) - turn 262; Unit u_184 collided when trying to move s to (31, 22)\n",
      "\u001b[33m[WARN]\u001b[39m (match_XQGm5T3Z5jkg) - turn 262; Unit u_209 collided when trying to move s to (31, 26)\n",
      "\u001b[33m[WARN]\u001b[39m (match_XQGm5T3Z5jkg) - turn 262; Unit u_179 collided when trying to move s to (31, 25)\n",
      "\u001b[33m[WARN]\u001b[39m (match_XQGm5T3Z5jkg) - turn 263; Unit u_180 collided when trying to move s to (31, 23)\n",
      "\u001b[33m[WARN]\u001b[39m (match_XQGm5T3Z5jkg) - turn 263; Unit u_184 collided when trying to move s to (31, 22)\n",
      "\u001b[33m[WARN]\u001b[39m (match_XQGm5T3Z5jkg) - turn 263; Unit u_183 collided when trying to move w to (28, 15)\n",
      "\u001b[33m[WARN]\u001b[39m (match_XQGm5T3Z5jkg) - turn 263; Unit u_208 collided when trying to move s to (30, 18)\n",
      "\u001b[33m[WARN]\u001b[39m (match_XQGm5T3Z5jkg) - turn 264; Unit u_13 collided when trying to move e to (24, 6)\n",
      "\u001b[33m[WARN]\u001b[39m (match_XQGm5T3Z5jkg) - turn 264; Unit u_115 collided when trying to move e to (23, 6)\n",
      "\u001b[33m[WARN]\u001b[39m (match_XQGm5T3Z5jkg) - turn 264; Unit u_180 collided when trying to move s to (31, 23)\n",
      "\u001b[33m[WARN]\u001b[39m (match_XQGm5T3Z5jkg) - turn 264; Unit u_184 collided when trying to move s to (31, 22)\n",
      "\u001b[33m[WARN]\u001b[39m (match_XQGm5T3Z5jkg) - turn 265; Unit u_13 collided when trying to move e to (24, 6)\n",
      "\u001b[33m[WARN]\u001b[39m (match_XQGm5T3Z5jkg) - turn 266; Unit u_177 collided when trying to move n to (30, 16)\n",
      "\u001b[33m[WARN]\u001b[39m (match_XQGm5T3Z5jkg) - turn 266; Unit u_183 collided when trying to move s to (30, 16)\n",
      "\u001b[33m[WARN]\u001b[39m (match_XQGm5T3Z5jkg) - turn 270; Unit u_183 collided when trying to move s to (30, 17)\n",
      "\u001b[33m[WARN]\u001b[39m (match_XQGm5T3Z5jkg) - turn 271; Unit u_186 collided when trying to move c to (30, 15)\n",
      "\u001b[33m[WARN]\u001b[39m (match_XQGm5T3Z5jkg) - turn 271; Unit u_186 collided when trying to move c to (30, 15)\n",
      "\u001b[33m[WARN]\u001b[39m (match_XQGm5T3Z5jkg) - turn 271; Unit u_221 collided when trying to move s to (30, 15)\n",
      "\u001b[33m[WARN]\u001b[39m (match_XQGm5T3Z5jkg) - turn 271; Unit u_221 collided when trying to move s to (30, 15)\n",
      "\u001b[33m[WARN]\u001b[39m (match_XQGm5T3Z5jkg) - turn 274; Unit u_209 collided when trying to move e to (31, 25)\n",
      "\u001b[33m[WARN]\u001b[39m (match_XQGm5T3Z5jkg) - turn 274; Unit u_210 collided when trying to move n to (31, 25)\n",
      "\u001b[33m[WARN]\u001b[39m (match_XQGm5T3Z5jkg) - turn 274; Unit u_179 collided when trying to move s to (31, 26)\n",
      "\u001b[33m[WARN]\u001b[39m (match_XQGm5T3Z5jkg) - turn 274; Unit u_209 collided when trying to move e to (31, 25)\n",
      "\u001b[33m[WARN]\u001b[39m (match_XQGm5T3Z5jkg) - turn 274; Unit u_210 collided when trying to move n to (31, 25)\n",
      "\u001b[33m[WARN]\u001b[39m (match_XQGm5T3Z5jkg) - turn 275; Unit u_179 collided when trying to move s to (31, 26)\n",
      "\u001b[33m[WARN]\u001b[39m (match_XQGm5T3Z5jkg) - turn 276; Unit u_221 collided when trying to move s to (30, 16)\n",
      "\u001b[33m[WARN]\u001b[39m (match_XQGm5T3Z5jkg) - turn 277; Unit u_221 collided when trying to move s to (30, 16)\n",
      "\u001b[33m[WARN]\u001b[39m (match_XQGm5T3Z5jkg) - turn 278; Unit u_226 collided when trying to move n to (16, 12)\n",
      "\u001b[33m[WARN]\u001b[39m (match_XQGm5T3Z5jkg) - turn 278; Unit u_242 collided when trying to move n to (16, 13)\n",
      "\u001b[33m[WARN]\u001b[39m (match_XQGm5T3Z5jkg) - turn 278; Unit u_221 collided when trying to move s to (30, 16)\n",
      "\u001b[33m[WARN]\u001b[39m (match_XQGm5T3Z5jkg) - turn 279; Unit u_115 collided when trying to move e to (22, 6)\n",
      "\u001b[33m[WARN]\u001b[39m (match_XQGm5T3Z5jkg) - turn 279; Unit u_221 collided when trying to move s to (30, 16)\n",
      "\u001b[33m[WARN]\u001b[39m (match_XQGm5T3Z5jkg) - turn 281; Unit u_262 collided when trying to move w to (16, 13)\n",
      "\u001b[33m[WARN]\u001b[39m (match_XQGm5T3Z5jkg) - turn 281; Unit u_115 collided when trying to move e to (22, 6)\n",
      "\u001b[33m[WARN]\u001b[39m (match_XQGm5T3Z5jkg) - turn 282; Unit u_262 collided when trying to move w to (16, 13)\n",
      "\u001b[33m[WARN]\u001b[39m (match_XQGm5T3Z5jkg) - turn 282; Unit u_179 collided when trying to move s to (31, 25)\n",
      "\u001b[33m[WARN]\u001b[39m (match_XQGm5T3Z5jkg) - turn 283; Unit u_179 collided when trying to move s to (31, 25)\n",
      "\u001b[33m[WARN]\u001b[39m (match_XQGm5T3Z5jkg) - turn 284; Unit u_186 collided when trying to move s to (30, 19)\n",
      "\u001b[33m[WARN]\u001b[39m (match_XQGm5T3Z5jkg) - turn 284; Unit u_221 collided when trying to move s to (30, 18)\n",
      "\u001b[33m[WARN]\u001b[39m (match_XQGm5T3Z5jkg) - turn 285; Unit u_262 collided when trying to move s to (16, 14)\n",
      "\u001b[33m[WARN]\u001b[39m (match_XQGm5T3Z5jkg) - turn 285; Unit u_186 collided when trying to move s to (30, 19)\n",
      "\u001b[33m[WARN]\u001b[39m (match_XQGm5T3Z5jkg) - turn 285; Unit u_221 collided when trying to move s to (30, 18)\n",
      "\u001b[33m[WARN]\u001b[39m (match_XQGm5T3Z5jkg) - turn 286; Unit u_136 collided when trying to move w to (16, 13)\n",
      "\u001b[33m[WARN]\u001b[39m (match_XQGm5T3Z5jkg) - turn 286; Unit u_186 collided when trying to move s to (30, 19)\n",
      "\u001b[33m[WARN]\u001b[39m (match_XQGm5T3Z5jkg) - turn 286; Unit u_221 collided when trying to move s to (30, 18)\n",
      "\u001b[33m[WARN]\u001b[39m (match_XQGm5T3Z5jkg) - turn 287; Unit u_136 collided when trying to move w to (16, 13)\n",
      "\u001b[33m[WARN]\u001b[39m (match_XQGm5T3Z5jkg) - turn 287; Unit u_115 collided when trying to move e to (22, 6)\n",
      "\u001b[33m[WARN]\u001b[39m (match_XQGm5T3Z5jkg) - turn 287; Unit u_186 collided when trying to move s to (30, 19)\n",
      "\u001b[33m[WARN]\u001b[39m (match_XQGm5T3Z5jkg) - turn 287; Unit u_221 collided when trying to move s to (30, 18)\n",
      "\u001b[33m[WARN]\u001b[39m (match_XQGm5T3Z5jkg) - turn 288; Unit u_186 collided when trying to move s to (30, 19)\n",
      "\u001b[33m[WARN]\u001b[39m (match_XQGm5T3Z5jkg) - turn 288; Unit u_221 collided when trying to move s to (30, 18)\n",
      "\u001b[33m[WARN]\u001b[39m (match_XQGm5T3Z5jkg) - turn 288; Unit u_211 collided when trying to move e to (23, 6)\n",
      "\u001b[33m[WARN]\u001b[39m (match_XQGm5T3Z5jkg) - turn 289; Unit u_186 collided when trying to move s to (30, 19)\n",
      "\u001b[33m[WARN]\u001b[39m (match_XQGm5T3Z5jkg) - turn 289; Unit u_221 collided when trying to move s to (30, 18)\n",
      "\u001b[33m[WARN]\u001b[39m (match_XQGm5T3Z5jkg) - turn 290; Unit u_186 collided when trying to move s to (30, 19)\n",
      "\u001b[33m[WARN]\u001b[39m (match_XQGm5T3Z5jkg) - turn 290; Unit u_221 collided when trying to move s to (30, 18)\n",
      "\u001b[33m[WARN]\u001b[39m (match_XQGm5T3Z5jkg) - turn 291; Unit u_115 collided when trying to move e to (23, 6)\n",
      "\u001b[33m[WARN]\u001b[39m (match_XQGm5T3Z5jkg) - turn 291; Unit u_186 collided when trying to move s to (30, 19)\n",
      "\u001b[33m[WARN]\u001b[39m (match_XQGm5T3Z5jkg) - turn 291; Unit u_221 collided when trying to move s to (30, 18)\n",
      "\u001b[33m[WARN]\u001b[39m (match_XQGm5T3Z5jkg) - turn 292; Unit u_186 collided when trying to move s to (30, 19)\n",
      "\u001b[33m[WARN]\u001b[39m (match_XQGm5T3Z5jkg) - turn 292; Unit u_221 collided when trying to move s to (30, 18)\n",
      "\u001b[33m[WARN]\u001b[39m (match_XQGm5T3Z5jkg) - turn 293; Unit u_186 collided when trying to move s to (30, 19)\n",
      "\u001b[33m[WARN]\u001b[39m (match_XQGm5T3Z5jkg) - turn 293; Unit u_221 collided when trying to move s to (30, 18)\n",
      "\u001b[33m[WARN]\u001b[39m (match_XQGm5T3Z5jkg) - turn 294; Unit u_115 collided when trying to move e to (24, 6)\n",
      "\u001b[33m[WARN]\u001b[39m (match_XQGm5T3Z5jkg) - turn 294; Unit u_213 collided when trying to move e to (23, 6)\n",
      "\u001b[33m[WARN]\u001b[39m (match_XQGm5T3Z5jkg) - turn 294; Unit u_186 collided when trying to move s to (30, 19)\n",
      "\u001b[33m[WARN]\u001b[39m (match_XQGm5T3Z5jkg) - turn 294; Unit u_221 collided when trying to move s to (30, 18)\n",
      "\u001b[33m[WARN]\u001b[39m (match_XQGm5T3Z5jkg) - turn 295; Unit u_277 collided when trying to move s to (2, 16)\n",
      "\u001b[33m[WARN]\u001b[39m (match_XQGm5T3Z5jkg) - turn 295; Unit u_115 collided when trying to move e to (24, 6)\n",
      "\u001b[33m[WARN]\u001b[39m (match_XQGm5T3Z5jkg) - turn 295; Unit u_186 collided when trying to move s to (30, 19)\n",
      "\u001b[33m[WARN]\u001b[39m (match_XQGm5T3Z5jkg) - turn 295; Unit u_221 collided when trying to move s to (30, 18)\n",
      "\u001b[33m[WARN]\u001b[39m (match_XQGm5T3Z5jkg) - turn 296; Unit u_186 collided when trying to move s to (30, 19)\n",
      "\u001b[33m[WARN]\u001b[39m (match_XQGm5T3Z5jkg) - turn 296; Unit u_221 collided when trying to move s to (30, 18)\n",
      "\u001b[33m[WARN]\u001b[39m (match_XQGm5T3Z5jkg) - turn 297; Unit u_136 collided when trying to move n to (15, 13)\n",
      "\u001b[33m[WARN]\u001b[39m (match_XQGm5T3Z5jkg) - turn 297; Unit u_226 collided when trying to move w to (15, 14)\n",
      "\u001b[33m[WARN]\u001b[39m (match_XQGm5T3Z5jkg) - turn 297; Unit u_272 collided when trying to move w to (11, 23)\n",
      "\u001b[33m[WARN]\u001b[39m (match_XQGm5T3Z5jkg) - turn 297; Unit u_186 collided when trying to move s to (30, 19)\n",
      "\u001b[33m[WARN]\u001b[39m (match_XQGm5T3Z5jkg) - turn 297; Unit u_221 collided when trying to move s to (30, 18)\n",
      "\u001b[33m[WARN]\u001b[39m (match_XQGm5T3Z5jkg) - turn 297; Unit u_213 collided when trying to move e to (22, 6)\n",
      "\u001b[33m[WARN]\u001b[39m (match_XQGm5T3Z5jkg) - turn 298; Unit u_226 collided when trying to move w to (15, 14)\n",
      "\u001b[33m[WARN]\u001b[39m (match_XQGm5T3Z5jkg) - turn 298; Unit u_262 collided when trying to move s to (16, 13)\n",
      "\u001b[33m[WARN]\u001b[39m (match_XQGm5T3Z5jkg) - turn 298; Unit u_271 collided when trying to move w to (2, 15)\n",
      "\u001b[33m[WARN]\u001b[39m (match_XQGm5T3Z5jkg) - turn 298; Unit u_278 collided when trying to move n to (3, 15)\n",
      "\u001b[33m[WARN]\u001b[39m (match_XQGm5T3Z5jkg) - turn 298; Unit u_280 collided when trying to move n to (3, 16)\n",
      "\u001b[33m[WARN]\u001b[39m (match_XQGm5T3Z5jkg) - turn 298; Unit u_277 collided when trying to move e to (2, 15)\n",
      "\u001b[33m[WARN]\u001b[39m (match_XQGm5T3Z5jkg) - turn 298; Unit u_186 collided when trying to move s to (30, 19)\n",
      "\u001b[33m[WARN]\u001b[39m (match_XQGm5T3Z5jkg) - turn 298; Unit u_221 collided when trying to move s to (30, 18)\n",
      "\u001b[33m[WARN]\u001b[39m (match_XQGm5T3Z5jkg) - turn 298; Unit u_213 collided when trying to move e to (22, 6)\n",
      "\u001b[33m[WARN]\u001b[39m (match_XQGm5T3Z5jkg) - turn 298; Unit u_253 collided when trying to move n to (31, 26)\n",
      "\u001b[33m[WARN]\u001b[39m (match_XQGm5T3Z5jkg) - turn 299; Unit u_226 collided when trying to move w to (15, 14)\n",
      "\u001b[33m[WARN]\u001b[39m (match_XQGm5T3Z5jkg) - turn 299; Unit u_278 collided when trying to move n to (3, 15)\n",
      "\u001b[33m[WARN]\u001b[39m (match_XQGm5T3Z5jkg) - turn 299; Unit u_280 collided when trying to move n to (3, 16)\n",
      "\u001b[33m[WARN]\u001b[39m (match_XQGm5T3Z5jkg) - turn 299; Unit u_186 collided when trying to move s to (30, 19)\n",
      "\u001b[33m[WARN]\u001b[39m (match_XQGm5T3Z5jkg) - turn 299; Unit u_221 collided when trying to move s to (30, 18)\n",
      "\u001b[33m[WARN]\u001b[39m (match_XQGm5T3Z5jkg) - turn 299; Unit u_211 collided when trying to move e to (23, 6)\n",
      "\u001b[33m[WARN]\u001b[39m (match_XQGm5T3Z5jkg) - turn 299; Unit u_213 collided when trying to move e to (22, 6)\n",
      "\u001b[33m[WARN]\u001b[39m (match_XQGm5T3Z5jkg) - turn 300; Unit u_274 collided when trying to move e to (16, 13)\n",
      "\u001b[33m[WARN]\u001b[39m (match_XQGm5T3Z5jkg) - turn 300; Unit u_136 collided when trying to move n to (15, 13)\n",
      "\u001b[33m[WARN]\u001b[39m (match_XQGm5T3Z5jkg) - turn 300; Unit u_278 collided when trying to move n to (3, 15)\n",
      "\u001b[33m[WARN]\u001b[39m (match_XQGm5T3Z5jkg) - turn 300; Unit u_280 collided when trying to move n to (3, 16)\n",
      "\u001b[33m[WARN]\u001b[39m (match_XQGm5T3Z5jkg) - turn 300; Unit u_186 collided when trying to move s to (30, 19)\n",
      "\u001b[33m[WARN]\u001b[39m (match_XQGm5T3Z5jkg) - turn 300; Unit u_221 collided when trying to move s to (30, 18)\n",
      "\u001b[33m[WARN]\u001b[39m (match_XQGm5T3Z5jkg) - turn 300; Unit u_211 collided when trying to move e to (23, 6)\n",
      "\u001b[33m[WARN]\u001b[39m (match_XQGm5T3Z5jkg) - turn 300; Unit u_213 collided when trying to move e to (22, 6)\n",
      "\u001b[33m[WARN]\u001b[39m (match_XQGm5T3Z5jkg) - turn 301; Unit u_278 collided when trying to move n to (3, 15)\n",
      "\u001b[33m[WARN]\u001b[39m (match_XQGm5T3Z5jkg) - turn 301; Unit u_280 collided when trying to move n to (3, 16)\n",
      "\u001b[33m[WARN]\u001b[39m (match_XQGm5T3Z5jkg) - turn 301; Unit u_186 collided when trying to move s to (30, 19)\n",
      "\u001b[33m[WARN]\u001b[39m (match_XQGm5T3Z5jkg) - turn 301; Unit u_221 collided when trying to move s to (30, 18)\n",
      "\u001b[33m[WARN]\u001b[39m (match_XQGm5T3Z5jkg) - turn 301; Unit u_211 collided when trying to move e to (23, 6)\n",
      "\u001b[33m[WARN]\u001b[39m (match_XQGm5T3Z5jkg) - turn 301; Unit u_213 collided when trying to move e to (22, 6)\n",
      "\u001b[33m[WARN]\u001b[39m (match_XQGm5T3Z5jkg) - turn 301; Unit u_253 collided when trying to move n to (31, 27)\n",
      "\u001b[33m[WARN]\u001b[39m (match_XQGm5T3Z5jkg) - turn 302; Unit u_278 collided when trying to move n to (3, 15)\n",
      "\u001b[33m[WARN]\u001b[39m (match_XQGm5T3Z5jkg) - turn 302; Unit u_280 collided when trying to move n to (3, 16)\n",
      "\u001b[33m[WARN]\u001b[39m (match_XQGm5T3Z5jkg) - turn 302; Unit u_186 collided when trying to move s to (30, 19)\n",
      "\u001b[33m[WARN]\u001b[39m (match_XQGm5T3Z5jkg) - turn 302; Unit u_221 collided when trying to move s to (30, 18)\n",
      "\u001b[33m[WARN]\u001b[39m (match_XQGm5T3Z5jkg) - turn 302; Unit u_211 collided when trying to move e to (23, 6)\n",
      "\u001b[33m[WARN]\u001b[39m (match_XQGm5T3Z5jkg) - turn 302; Unit u_213 collided when trying to move e to (22, 6)\n",
      "\u001b[33m[WARN]\u001b[39m (match_XQGm5T3Z5jkg) - turn 303; Unit u_186 collided when trying to move s to (30, 19)\n",
      "\u001b[33m[WARN]\u001b[39m (match_XQGm5T3Z5jkg) - turn 303; Unit u_221 collided when trying to move s to (30, 18)\n",
      "\u001b[33m[WARN]\u001b[39m (match_XQGm5T3Z5jkg) - turn 303; Unit u_211 collided when trying to move e to (23, 6)\n",
      "\u001b[33m[WARN]\u001b[39m (match_XQGm5T3Z5jkg) - turn 303; Unit u_213 collided when trying to move e to (22, 6)\n",
      "\u001b[33m[WARN]\u001b[39m (match_XQGm5T3Z5jkg) - turn 304; Unit u_264 collided when trying to move n to (1, 16)\n",
      "\u001b[33m[WARN]\u001b[39m (match_XQGm5T3Z5jkg) - turn 304; Unit u_277 collided when trying to move s to (1, 16)\n",
      "\u001b[33m[WARN]\u001b[39m (match_XQGm5T3Z5jkg) - turn 304; Unit u_272 collided when trying to move w to (11, 24)\n",
      "\u001b[33m[WARN]\u001b[39m (match_XQGm5T3Z5jkg) - turn 304; Unit u_186 collided when trying to move s to (30, 19)\n",
      "\u001b[33m[WARN]\u001b[39m (match_XQGm5T3Z5jkg) - turn 304; Unit u_221 collided when trying to move s to (30, 18)\n",
      "\u001b[33m[WARN]\u001b[39m (match_XQGm5T3Z5jkg) - turn 304; Unit u_276 collided when trying to move s to (30, 17)\n",
      "\u001b[33m[WARN]\u001b[39m (match_XQGm5T3Z5jkg) - turn 304; Unit u_211 collided when trying to move e to (23, 6)\n",
      "\u001b[33m[WARN]\u001b[39m (match_XQGm5T3Z5jkg) - turn 304; Unit u_213 collided when trying to move e to (22, 6)\n",
      "\u001b[33m[WARN]\u001b[39m (match_XQGm5T3Z5jkg) - turn 304; Unit u_253 collided when trying to move n to (31, 28)\n",
      "\u001b[33m[WARN]\u001b[39m (match_XQGm5T3Z5jkg) - turn 305; Unit u_271 collided when trying to move s to (2, 16)\n",
      "\u001b[33m[WARN]\u001b[39m (match_XQGm5T3Z5jkg) - turn 305; Unit u_278 collided when trying to move w to (2, 15)\n",
      "\u001b[33m[WARN]\u001b[39m (match_XQGm5T3Z5jkg) - turn 305; Unit u_280 collided when trying to move n to (3, 15)\n",
      "\u001b[33m[WARN]\u001b[39m (match_XQGm5T3Z5jkg) - turn 305; Unit u_186 collided when trying to move s to (30, 19)\n",
      "\u001b[33m[WARN]\u001b[39m (match_XQGm5T3Z5jkg) - turn 305; Unit u_221 collided when trying to move s to (30, 18)\n",
      "\u001b[33m[WARN]\u001b[39m (match_XQGm5T3Z5jkg) - turn 305; Unit u_276 collided when trying to move s to (30, 17)\n",
      "\u001b[33m[WARN]\u001b[39m (match_XQGm5T3Z5jkg) - turn 305; Unit u_211 collided when trying to move e to (23, 6)\n",
      "\u001b[33m[WARN]\u001b[39m (match_XQGm5T3Z5jkg) - turn 305; Unit u_213 collided when trying to move e to (22, 6)\n",
      "\u001b[33m[WARN]\u001b[39m (match_XQGm5T3Z5jkg) - turn 306; Unit u_186 collided when trying to move s to (30, 19)\n",
      "\u001b[33m[WARN]\u001b[39m (match_XQGm5T3Z5jkg) - turn 306; Unit u_221 collided when trying to move s to (30, 18)\n",
      "\u001b[33m[WARN]\u001b[39m (match_XQGm5T3Z5jkg) - turn 306; Unit u_276 collided when trying to move s to (30, 17)\n",
      "\u001b[33m[WARN]\u001b[39m (match_XQGm5T3Z5jkg) - turn 306; Unit u_211 collided when trying to move e to (23, 6)\n",
      "\u001b[33m[WARN]\u001b[39m (match_XQGm5T3Z5jkg) - turn 306; Unit u_213 collided when trying to move e to (22, 6)\n",
      "\u001b[33m[WARN]\u001b[39m (match_XQGm5T3Z5jkg) - turn 306; Unit u_261 collided when trying to move n to (31, 30)\n",
      "\u001b[33m[WARN]\u001b[39m (match_XQGm5T3Z5jkg) - turn 307; Unit u_186 collided when trying to move s to (30, 19)\n",
      "\u001b[33m[WARN]\u001b[39m (match_XQGm5T3Z5jkg) - turn 307; Unit u_221 collided when trying to move s to (30, 18)\n",
      "\u001b[33m[WARN]\u001b[39m (match_XQGm5T3Z5jkg) - turn 307; Unit u_276 collided when trying to move s to (30, 17)\n",
      "\u001b[33m[WARN]\u001b[39m (match_XQGm5T3Z5jkg) - turn 307; Unit u_211 collided when trying to move e to (23, 6)\n",
      "\u001b[33m[WARN]\u001b[39m (match_XQGm5T3Z5jkg) - turn 307; Unit u_213 collided when trying to move e to (22, 6)\n",
      "\u001b[33m[WARN]\u001b[39m (match_XQGm5T3Z5jkg) - turn 307; Unit u_253 collided when trying to move n to (31, 29)\n",
      "\u001b[33m[WARN]\u001b[39m (match_XQGm5T3Z5jkg) - turn 308; Unit u_278 collided when trying to move s to (2, 16)\n",
      "\u001b[33m[WARN]\u001b[39m (match_XQGm5T3Z5jkg) - turn 308; Unit u_280 collided when trying to move w to (2, 15)\n",
      "\u001b[33m[WARN]\u001b[39m (match_XQGm5T3Z5jkg) - turn 308; Unit u_186 collided when trying to move s to (30, 19)\n",
      "\u001b[33m[WARN]\u001b[39m (match_XQGm5T3Z5jkg) - turn 308; Unit u_221 collided when trying to move s to (30, 18)\n",
      "\u001b[33m[WARN]\u001b[39m (match_XQGm5T3Z5jkg) - turn 308; Unit u_276 collided when trying to move s to (30, 17)\n",
      "\u001b[33m[WARN]\u001b[39m (match_XQGm5T3Z5jkg) - turn 308; Unit u_211 collided when trying to move e to (23, 6)\n",
      "\u001b[33m[WARN]\u001b[39m (match_XQGm5T3Z5jkg) - turn 308; Unit u_213 collided when trying to move e to (22, 6)\n",
      "\u001b[33m[WARN]\u001b[39m (match_XQGm5T3Z5jkg) - turn 309; Unit u_277 collided when trying to move s to (2, 17)\n",
      "\u001b[33m[WARN]\u001b[39m (match_XQGm5T3Z5jkg) - turn 309; Unit u_186 collided when trying to move s to (30, 19)\n",
      "\u001b[33m[WARN]\u001b[39m (match_XQGm5T3Z5jkg) - turn 309; Unit u_221 collided when trying to move s to (30, 18)\n",
      "\u001b[33m[WARN]\u001b[39m (match_XQGm5T3Z5jkg) - turn 309; Unit u_276 collided when trying to move s to (30, 17)\n",
      "\u001b[33m[WARN]\u001b[39m (match_XQGm5T3Z5jkg) - turn 309; Unit u_211 collided when trying to move e to (23, 6)\n",
      "\u001b[33m[WARN]\u001b[39m (match_XQGm5T3Z5jkg) - turn 309; Unit u_213 collided when trying to move e to (22, 6)\n",
      "\u001b[33m[WARN]\u001b[39m (match_XQGm5T3Z5jkg) - turn 310; Unit u_269 collided when trying to move s to (2, 18)\n",
      "\u001b[33m[WARN]\u001b[39m (match_XQGm5T3Z5jkg) - turn 310; Unit u_277 collided when trying to move s to (2, 17)\n",
      "\u001b[33m[WARN]\u001b[39m (match_XQGm5T3Z5jkg) - turn 310; Unit u_186 collided when trying to move s to (30, 19)\n",
      "\u001b[33m[WARN]\u001b[39m (match_XQGm5T3Z5jkg) - turn 310; Unit u_221 collided when trying to move s to (30, 18)\n",
      "\u001b[33m[WARN]\u001b[39m (match_XQGm5T3Z5jkg) - turn 310; Unit u_276 collided when trying to move s to (30, 17)\n",
      "\u001b[33m[WARN]\u001b[39m (match_XQGm5T3Z5jkg) - turn 310; Unit u_211 collided when trying to move e to (23, 6)\n",
      "\u001b[33m[WARN]\u001b[39m (match_XQGm5T3Z5jkg) - turn 310; Unit u_213 collided when trying to move e to (22, 6)\n",
      "\u001b[33m[WARN]\u001b[39m (match_XQGm5T3Z5jkg) - turn 310; Unit u_253 collided when trying to move n to (31, 30)\n",
      "\u001b[33m[WARN]\u001b[39m (match_XQGm5T3Z5jkg) - turn 311; Unit u_278 collided when trying to move s to (1, 16)\n",
      "\u001b[33m[WARN]\u001b[39m (match_XQGm5T3Z5jkg) - turn 314; Unit u_271 collided when trying to move s to (1, 17)\n",
      "\u001b[33m[WARN]\u001b[39m (match_XQGm5T3Z5jkg) - turn 331; Unit u_248 collided when trying to move e to (24, 6)\n",
      "\u001b[33m[WARN]\u001b[39m (match_XQGm5T3Z5jkg) - turn 331; Unit u_251 collided when trying to move e to (23, 6)\n",
      "\u001b[33m[WARN]\u001b[39m (match_XQGm5T3Z5jkg) - turn 332; Unit u_248 collided when trying to move e to (24, 6)\n",
      "\u001b[33m[WARN]\u001b[39m (match_XQGm5T3Z5jkg) - turn 333; Unit u_287 collided when trying to move s to (30, 18)\n",
      "\u001b[33m[WARN]\u001b[39m (match_XQGm5T3Z5jkg) - turn 333; Unit u_305 collided when trying to move s to (30, 17)\n",
      "\u001b[33m[WARN]\u001b[39m (match_XQGm5T3Z5jkg) - turn 334; Unit u_287 collided when trying to move s to (30, 18)\n",
      "\u001b[33m[WARN]\u001b[39m (match_XQGm5T3Z5jkg) - turn 334; Unit u_305 collided when trying to move s to (30, 17)\n",
      "\u001b[33m[WARN]\u001b[39m (match_XQGm5T3Z5jkg) - turn 335; Unit u_287 collided when trying to move s to (30, 18)\n",
      "\u001b[33m[WARN]\u001b[39m (match_XQGm5T3Z5jkg) - turn 335; Unit u_305 collided when trying to move s to (30, 17)\n",
      "\u001b[33m[WARN]\u001b[39m (match_XQGm5T3Z5jkg) - turn 336; Unit u_287 collided when trying to move s to (30, 18)\n",
      "\u001b[33m[WARN]\u001b[39m (match_XQGm5T3Z5jkg) - turn 336; Unit u_305 collided when trying to move s to (30, 17)\n",
      "\u001b[33m[WARN]\u001b[39m (match_XQGm5T3Z5jkg) - turn 337; Unit u_287 collided when trying to move s to (30, 18)\n",
      "\u001b[33m[WARN]\u001b[39m (match_XQGm5T3Z5jkg) - turn 337; Unit u_305 collided when trying to move s to (30, 17)\n",
      "\u001b[33m[WARN]\u001b[39m (match_XQGm5T3Z5jkg) - turn 338; Unit u_251 collided when trying to move e to (22, 6)\n",
      "\u001b[33m[WARN]\u001b[39m (match_XQGm5T3Z5jkg) - turn 338; Unit u_287 collided when trying to move s to (30, 18)\n",
      "\u001b[33m[WARN]\u001b[39m (match_XQGm5T3Z5jkg) - turn 338; Unit u_305 collided when trying to move s to (30, 17)\n",
      "\u001b[33m[WARN]\u001b[39m (match_XQGm5T3Z5jkg) - turn 339; Unit u_259 collided when trying to move e to (23, 6)\n",
      "\u001b[33m[WARN]\u001b[39m (match_XQGm5T3Z5jkg) - turn 339; Unit u_251 collided when trying to move e to (22, 6)\n",
      "\u001b[33m[WARN]\u001b[39m (match_XQGm5T3Z5jkg) - turn 339; Unit u_287 collided when trying to move s to (30, 18)\n",
      "\u001b[33m[WARN]\u001b[39m (match_XQGm5T3Z5jkg) - turn 339; Unit u_305 collided when trying to move s to (30, 17)\n",
      "\u001b[33m[WARN]\u001b[39m (match_XQGm5T3Z5jkg) - turn 340; Unit u_259 collided when trying to move e to (23, 6)\n",
      "\u001b[33m[WARN]\u001b[39m (match_XQGm5T3Z5jkg) - turn 340; Unit u_251 collided when trying to move e to (22, 6)\n",
      "\u001b[33m[WARN]\u001b[39m (match_XQGm5T3Z5jkg) - turn 340; Unit u_287 collided when trying to move s to (30, 18)\n",
      "\u001b[33m[WARN]\u001b[39m (match_XQGm5T3Z5jkg) - turn 340; Unit u_305 collided when trying to move s to (30, 17)\n",
      "\u001b[33m[WARN]\u001b[39m (match_XQGm5T3Z5jkg) - turn 341; Unit u_259 collided when trying to move e to (23, 6)\n",
      "\u001b[33m[WARN]\u001b[39m (match_XQGm5T3Z5jkg) - turn 341; Unit u_251 collided when trying to move e to (22, 6)\n",
      "\u001b[33m[WARN]\u001b[39m (match_XQGm5T3Z5jkg) - turn 341; Unit u_287 collided when trying to move s to (30, 18)\n",
      "\u001b[33m[WARN]\u001b[39m (match_XQGm5T3Z5jkg) - turn 341; Unit u_305 collided when trying to move s to (30, 17)\n",
      "\u001b[33m[WARN]\u001b[39m (match_XQGm5T3Z5jkg) - turn 342; Unit u_259 collided when trying to move e to (23, 6)\n",
      "\u001b[33m[WARN]\u001b[39m (match_XQGm5T3Z5jkg) - turn 342; Unit u_251 collided when trying to move e to (22, 6)\n",
      "\u001b[33m[WARN]\u001b[39m (match_XQGm5T3Z5jkg) - turn 342; Unit u_287 collided when trying to move s to (30, 18)\n",
      "\u001b[33m[WARN]\u001b[39m (match_XQGm5T3Z5jkg) - turn 342; Unit u_305 collided when trying to move s to (30, 17)\n",
      "\u001b[33m[WARN]\u001b[39m (match_XQGm5T3Z5jkg) - turn 343; Unit u_259 collided when trying to move e to (23, 6)\n",
      "\u001b[33m[WARN]\u001b[39m (match_XQGm5T3Z5jkg) - turn 343; Unit u_251 collided when trying to move e to (22, 6)\n",
      "\u001b[33m[WARN]\u001b[39m (match_XQGm5T3Z5jkg) - turn 343; Unit u_287 collided when trying to move s to (30, 18)\n",
      "\u001b[33m[WARN]\u001b[39m (match_XQGm5T3Z5jkg) - turn 343; Unit u_305 collided when trying to move s to (30, 17)\n",
      "\u001b[33m[WARN]\u001b[39m (match_XQGm5T3Z5jkg) - turn 344; Unit u_259 collided when trying to move e to (23, 6)\n",
      "\u001b[33m[WARN]\u001b[39m (match_XQGm5T3Z5jkg) - turn 344; Unit u_251 collided when trying to move e to (22, 6)\n",
      "\u001b[33m[WARN]\u001b[39m (match_XQGm5T3Z5jkg) - turn 344; Unit u_287 collided when trying to move s to (30, 18)\n",
      "\u001b[33m[WARN]\u001b[39m (match_XQGm5T3Z5jkg) - turn 344; Unit u_305 collided when trying to move s to (30, 17)\n",
      "\u001b[33m[WARN]\u001b[39m (match_XQGm5T3Z5jkg) - turn 345; Unit u_259 collided when trying to move e to (23, 6)\n",
      "\u001b[33m[WARN]\u001b[39m (match_XQGm5T3Z5jkg) - turn 345; Unit u_251 collided when trying to move e to (22, 6)\n",
      "\u001b[33m[WARN]\u001b[39m (match_XQGm5T3Z5jkg) - turn 345; Unit u_287 collided when trying to move s to (30, 18)\n",
      "\u001b[33m[WARN]\u001b[39m (match_XQGm5T3Z5jkg) - turn 345; Unit u_305 collided when trying to move s to (30, 17)\n",
      "\u001b[33m[WARN]\u001b[39m (match_XQGm5T3Z5jkg) - turn 346; Unit u_277 collided when trying to move n to (1, 29)\n",
      "\u001b[33m[WARN]\u001b[39m (match_XQGm5T3Z5jkg) - turn 346; Unit u_259 collided when trying to move e to (23, 6)\n",
      "\u001b[33m[WARN]\u001b[39m (match_XQGm5T3Z5jkg) - turn 346; Unit u_251 collided when trying to move e to (22, 6)\n",
      "\u001b[33m[WARN]\u001b[39m (match_XQGm5T3Z5jkg) - turn 346; Unit u_287 collided when trying to move s to (30, 18)\n",
      "\u001b[33m[WARN]\u001b[39m (match_XQGm5T3Z5jkg) - turn 346; Unit u_305 collided when trying to move s to (30, 17)\n",
      "\u001b[33m[WARN]\u001b[39m (match_XQGm5T3Z5jkg) - turn 347; Unit u_259 collided when trying to move e to (23, 6)\n",
      "\u001b[33m[WARN]\u001b[39m (match_XQGm5T3Z5jkg) - turn 347; Unit u_251 collided when trying to move e to (22, 6)\n",
      "\u001b[33m[WARN]\u001b[39m (match_XQGm5T3Z5jkg) - turn 347; Unit u_287 collided when trying to move s to (30, 18)\n",
      "\u001b[33m[WARN]\u001b[39m (match_XQGm5T3Z5jkg) - turn 347; Unit u_305 collided when trying to move s to (30, 17)\n",
      "\u001b[33m[WARN]\u001b[39m (match_XQGm5T3Z5jkg) - turn 348; Unit u_259 collided when trying to move e to (23, 6)\n",
      "\u001b[33m[WARN]\u001b[39m (match_XQGm5T3Z5jkg) - turn 348; Unit u_251 collided when trying to move e to (22, 6)\n",
      "\u001b[33m[WARN]\u001b[39m (match_XQGm5T3Z5jkg) - turn 348; Unit u_287 collided when trying to move s to (30, 18)\n",
      "\u001b[33m[WARN]\u001b[39m (match_XQGm5T3Z5jkg) - turn 348; Unit u_305 collided when trying to move s to (30, 17)\n",
      "\u001b[33m[WARN]\u001b[39m (match_XQGm5T3Z5jkg) - turn 349; Unit u_259 collided when trying to move e to (23, 6)\n",
      "\u001b[33m[WARN]\u001b[39m (match_XQGm5T3Z5jkg) - turn 349; Unit u_251 collided when trying to move e to (22, 6)\n",
      "\u001b[33m[WARN]\u001b[39m (match_XQGm5T3Z5jkg) - turn 349; Unit u_287 collided when trying to move s to (30, 18)\n",
      "\u001b[33m[WARN]\u001b[39m (match_XQGm5T3Z5jkg) - turn 349; Unit u_305 collided when trying to move s to (30, 17)\n",
      "\u001b[33m[WARN]\u001b[39m (match_XQGm5T3Z5jkg) - turn 350; Unit u_259 collided when trying to move e to (23, 6)\n",
      "\u001b[33m[WARN]\u001b[39m (match_XQGm5T3Z5jkg) - turn 350; Unit u_251 collided when trying to move e to (22, 6)\n",
      "\u001b[33m[WARN]\u001b[39m (match_XQGm5T3Z5jkg) - turn 350; Unit u_287 collided when trying to move s to (30, 18)\n",
      "\u001b[33m[WARN]\u001b[39m (match_XQGm5T3Z5jkg) - turn 350; Unit u_305 collided when trying to move s to (30, 17)\n",
      "{\n",
      "  ranks: [\n",
      "    { rank: 1, agentID: 1, name: '../submissions/simple/main.py' },\n",
      "    { rank: 2, agentID: 0, name: '../submissions/simple/main.py' }\n",
      "  ],\n",
      "  replayFile: 'replays/284447005.json',\n",
      "  seed: 42\n",
      "}\n",
      "\n"
     ]
    }
   ],
   "source": [
    "r = run_game(simple_bot, simple_bot, 42)"
   ]
  },
  {
   "cell_type": "code",
   "execution_count": 36,
   "metadata": {},
   "outputs": [],
   "source": [
    "from joblib import Parallel, delayed"
   ]
  },
  {
   "cell_type": "code",
   "execution_count": 37,
   "metadata": {},
   "outputs": [],
   "source": [
    "def run_series(l, r, seed=42, n_runs=10, n_jobs=4):\n",
    "    import tqdm\n",
    "    assert n_runs % 2 == 0\n",
    "    results = []\n",
    "    \n",
    "    with Parallel(n_jobs=n_jobs) as P:\n",
    "        results = P(delayed(run_game)(l if t % 2 == 0 else r, r if t % 2 == 0 else l, seed + t, 0) for t in tqdm.tqdm(np.arange(n_runs), position=0))\n",
    "    \n",
    "    return results"
   ]
  },
  {
   "cell_type": "code",
   "execution_count": 38,
   "metadata": {},
   "outputs": [],
   "source": [
    "def count_series(results: list):\n",
    "    wins = []\n",
    "    for i, r in enumerate(results):\n",
    "        ranks = r[0]['results']['ranks']\n",
    "        teams = r[0]['teamDetails']\n",
    "        if ranks[0]['rank'] == 1 and ranks[1]['rank'] == 2:\n",
    "            if ranks[0][\"agentID\"] == i % 2:\n",
    "                wins.append(1)\n",
    "            else:\n",
    "                wins.append(0)\n",
    "        else:\n",
    "            wins.append(0.5)\n",
    "    return wins"
   ]
  },
  {
   "cell_type": "code",
   "execution_count": 39,
   "metadata": {},
   "outputs": [],
   "source": [
    "def calc_z_test(series: np.array):\n",
    "    N = len(series)\n",
    "    p = 0.5\n",
    "    y = np.sum(series)\n",
    "    z = (y - N * p) / (N * p * (1 - p)) ** 0.5\n",
    "    \n",
    "    from scipy.stats import norm\n",
    "    def p_val(x):\n",
    "        return 2 * min(norm.cdf(-x), norm.cdf(x))\n",
    "    \n",
    "    return y / N, z, p_val(z)"
   ]
  },
  {
   "cell_type": "code",
   "execution_count": 40,
   "metadata": {},
   "outputs": [],
   "source": [
    "def build_bot_from_many(source) -> str:\n",
    "    if isinstance(source, dict):\n",
    "        s = build_runnable_bot_with_flags(source)\n",
    "    else:\n",
    "        assert isinstance(source, str)\n",
    "        s = source\n",
    "    return s\n",
    "\n",
    "def compare_flags(flags_left, flags_right, n_games: int=10, seed: int=42):\n",
    "    l = build_bot_from_many(flags_left)\n",
    "    r = build_bot_from_many(flags_right)\n",
    "    series = run_series(l, r, seed, n_games)\n",
    "    counts = count_series(series)\n",
    "    return calc_z_test(np.array(counts)), series[0][0]['results']"
   ]
  },
  {
   "cell_type": "code",
   "execution_count": 13,
   "metadata": {},
   "outputs": [],
   "source": [
    "# compare_flags({\"alfa\": 0.9}, {\"alfa\": 0.0}, n_games=2)"
   ]
  },
  {
   "cell_type": "code",
   "execution_count": 58,
   "metadata": {
    "scrolled": true
   },
   "outputs": [
    {
     "name": "stderr",
     "output_type": "stream",
     "text": [
      "100%|██████████| 20/20 [00:53<00:00,  2.68s/it]\n"
     ]
    },
    {
     "data": {
      "text/plain": [
       "(0.475, -0.22360679774997896, 0.8230632737581215)"
      ]
     },
     "execution_count": 58,
     "metadata": {},
     "output_type": "execute_result"
    }
   ],
   "source": [
    "compare_flags({\"alfa\": 0.9}, {\"alfa\": 0.0}, n_games=20)"
   ]
  },
  {
   "cell_type": "code",
   "execution_count": 59,
   "metadata": {
    "scrolled": true
   },
   "outputs": [
    {
     "name": "stderr",
     "output_type": "stream",
     "text": [
      "100%|██████████| 20/20 [00:56<00:00,  2.80s/it]\n"
     ]
    },
    {
     "data": {
      "text/plain": [
       "(0.5, 0.0, 1.0)"
      ]
     },
     "execution_count": 59,
     "metadata": {},
     "output_type": "execute_result"
    }
   ],
   "source": [
    "compare_flags({\"alfa\": 0.9}, {\"alfa\": 1.0}, n_games=20)"
   ]
  },
  {
   "cell_type": "code",
   "execution_count": 64,
   "metadata": {},
   "outputs": [
    {
     "name": "stderr",
     "output_type": "stream",
     "text": [
      "100%|██████████| 20/20 [00:59<00:00,  2.98s/it]\n"
     ]
    },
    {
     "data": {
      "text/plain": [
       "(0.3, -1.7888543819998317, 0.07363827012030266)"
      ]
     },
     "execution_count": 64,
     "metadata": {},
     "output_type": "execute_result"
    }
   ],
   "source": [
    "compare_flags({\"alfa\": 0.0}, {\"alfa\": 1.0}, n_games=20)"
   ]
  },
  {
   "cell_type": "code",
   "execution_count": 72,
   "metadata": {},
   "outputs": [
    {
     "name": "stderr",
     "output_type": "stream",
     "text": [
      "100%|██████████| 40/40 [00:40<00:00,  1.01s/it]\n"
     ]
    },
    {
     "data": {
      "text/plain": [
       "(0.35, -1.8973665961010275, 0.057779571123597245)"
      ]
     },
     "execution_count": 72,
     "metadata": {},
     "output_type": "execute_result"
    }
   ],
   "source": [
    "compare_flags({\"alfa\": 0.0}, {\"alfa\": 1.0}, n_games=40)"
   ]
  },
  {
   "cell_type": "code",
   "execution_count": 62,
   "metadata": {},
   "outputs": [
    {
     "name": "stderr",
     "output_type": "stream",
     "text": [
      "100%|██████████| 20/20 [00:50<00:00,  2.51s/it]\n"
     ]
    },
    {
     "data": {
      "text/plain": [
       "(0.425, -0.6708203932499369, 0.5023349543605021)"
      ]
     },
     "execution_count": 62,
     "metadata": {},
     "output_type": "execute_result"
    }
   ],
   "source": [
    "compare_flags({\"norm_fuel_to_city_size\": True}, {}, n_games=20)"
   ]
  },
  {
   "cell_type": "code",
   "execution_count": 76,
   "metadata": {},
   "outputs": [
    {
     "name": "stderr",
     "output_type": "stream",
     "text": [
      "100%|██████████| 40/40 [00:42<00:00,  1.06s/it]\n"
     ]
    },
    {
     "data": {
      "text/plain": [
       "(0.675, 2.2135943621178655, 0.026856695507524397)"
      ]
     },
     "execution_count": 76,
     "metadata": {},
     "output_type": "execute_result"
    }
   ],
   "source": [
    "compare_flags({\"go_resource_next_action_probs\": [0.25, 0.75]}, {}, n_games=40)"
   ]
  },
  {
   "cell_type": "code",
   "execution_count": 77,
   "metadata": {},
   "outputs": [
    {
     "name": "stderr",
     "output_type": "stream",
     "text": [
      "100%|██████████| 40/40 [00:41<00:00,  1.05s/it]\n"
     ]
    },
    {
     "data": {
      "text/plain": [
       "(0.65, 1.8973665961010275, 0.057779571123597245)"
      ]
     },
     "execution_count": 77,
     "metadata": {},
     "output_type": "execute_result"
    }
   ],
   "source": [
    "compare_flags({\"go_resource_next_action_probs\": [0.1, 0.9]}, {}, n_games=40)"
   ]
  },
  {
   "cell_type": "code",
   "execution_count": 83,
   "metadata": {},
   "outputs": [
    {
     "name": "stderr",
     "output_type": "stream",
     "text": [
      "100%|██████████| 40/40 [00:50<00:00,  1.27s/it]\n"
     ]
    },
    {
     "data": {
      "text/plain": [
       "((0.575, 0.9486832980505138, 0.34278171114791145),\n",
       " {'ranks': [{'rank': 1, 'agentID': 1}, {'rank': 2, 'agentID': 0}],\n",
       "  'replayFile': 'replays/34159252.json'})"
      ]
     },
     "execution_count": 83,
     "metadata": {},
     "output_type": "execute_result"
    }
   ],
   "source": [
    "compare_flags({\"go_resource_next_action_probs\": [0.25, 0.75], \"norm_probs_to_city_tiles\": True}, {}, n_games=40)"
   ]
  },
  {
   "cell_type": "code",
   "execution_count": 85,
   "metadata": {
    "scrolled": true
   },
   "outputs": [
    {
     "name": "stdout",
     "output_type": "stream",
     "text": [
      "\n",
      "-=-=-=-=-=-=-=-=-=-=-=-| \u001b[34m[INFO]\u001b[39m \u001b[1m\u001b[32mmatch_M2qKXLJ1wmsG\u001b[39m\u001b[22m |-=-=-=-=-=-=-=-=-=-=-=-\n",
      "\n",
      "\u001b[34m[INFO]\u001b[39m (match_M2qKXLJ1wmsG) - Design: lux_ai_2021 | Initializing match - ID: M2qKXLJ1wmsG, Name: match_M2qKXLJ1wmsG\n",
      "\u001b[33m[WARN]\u001b[39m (match_M2qKXLJ1wmsG) - turn 21; Unit u_4 collided when trying to move n to (2, 9)\n",
      "\u001b[33m[WARN]\u001b[39m (match_M2qKXLJ1wmsG) - turn 26; Unit u_1 collided when trying to move n to (1, 9)\n",
      "\u001b[33m[WARN]\u001b[39m (match_M2qKXLJ1wmsG) - turn 26; Unit u_6 collided when trying to move w to (1, 10)\n",
      "\u001b[33m[WARN]\u001b[39m (match_M2qKXLJ1wmsG) - turn 27; Unit u_1 collided when trying to move w to (0, 10)\n",
      "\u001b[33m[WARN]\u001b[39m (match_M2qKXLJ1wmsG) - turn 27; Unit u_6 collided when trying to move w to (1, 10)\n",
      "\u001b[33m[WARN]\u001b[39m (match_M2qKXLJ1wmsG) - turn 27; Unit u_3 collided when trying to move n to (0, 10)\n",
      "\u001b[33m[WARN]\u001b[39m (match_M2qKXLJ1wmsG) - turn 27; Unit u_7 collided when trying to move n to (0, 11)\n",
      "\u001b[33m[WARN]\u001b[39m (match_M2qKXLJ1wmsG) - turn 35; Unit u_3 collided when trying to move n to (1, 10)\n",
      "\u001b[33m[WARN]\u001b[39m (match_M2qKXLJ1wmsG) - turn 35; Unit u_6 collided when trying to move w to (1, 10)\n",
      "\u001b[33m[WARN]\u001b[39m (match_M2qKXLJ1wmsG) - turn 35; Unit u_1 collided when trying to move e to (2, 10)\n",
      "\u001b[33m[WARN]\u001b[39m (match_M2qKXLJ1wmsG) - turn 35; Unit u_3 collided when trying to move n to (1, 10)\n",
      "\u001b[33m[WARN]\u001b[39m (match_M2qKXLJ1wmsG) - turn 35; Unit u_6 collided when trying to move w to (1, 10)\n",
      "\u001b[33m[WARN]\u001b[39m (match_M2qKXLJ1wmsG) - turn 46; Unit u_8 collided when trying to move w to (2, 10)\n",
      "\u001b[33m[WARN]\u001b[39m (match_M2qKXLJ1wmsG) - turn 47; Unit u_3 collided when trying to move w to (1, 10)\n",
      "\u001b[33m[WARN]\u001b[39m (match_M2qKXLJ1wmsG) - turn 47; Unit u_8 collided when trying to move w to (2, 10)\n",
      "\u001b[33m[WARN]\u001b[39m (match_M2qKXLJ1wmsG) - turn 51; Unit u_1 collided when trying to move e to (1, 10)\n",
      "\u001b[33m[WARN]\u001b[39m (match_M2qKXLJ1wmsG) - turn 54; Unit u_3 collided when trying to move s to (1, 10)\n",
      "\u001b[33m[WARN]\u001b[39m (match_M2qKXLJ1wmsG) - turn 59; Unit u_10 collided when trying to move s to (15, 11)\n",
      "\u001b[33m[WARN]\u001b[39m (match_M2qKXLJ1wmsG) - turn 59; Unit u_12 collided when trying to move s to (15, 10)\n",
      "\u001b[33m[WARN]\u001b[39m (match_M2qKXLJ1wmsG) - turn 60; Unit u_3 collided when trying to move s to (0, 11)\n",
      "\u001b[33m[WARN]\u001b[39m (match_M2qKXLJ1wmsG) - turn 60; Unit u_6 collided when trying to move w to (0, 10)\n",
      "\u001b[33m[WARN]\u001b[39m (match_M2qKXLJ1wmsG) - turn 60; Unit u_10 collided when trying to move w to (14, 10)\n",
      "\u001b[33m[WARN]\u001b[39m (match_M2qKXLJ1wmsG) - turn 61; Unit u_6 collided when trying to move w to (0, 10)\n",
      "\u001b[33m[WARN]\u001b[39m (match_M2qKXLJ1wmsG) - turn 62; Unit u_1 collided when trying to move n to (0, 10)\n",
      "\u001b[33m[WARN]\u001b[39m (match_M2qKXLJ1wmsG) - turn 63; Unit u_2 collided when trying to move s to (15, 11)\n",
      "\u001b[33m[WARN]\u001b[39m (match_M2qKXLJ1wmsG) - turn 63; Unit u_10 collided when trying to move e to (15, 10)\n",
      "\u001b[33m[WARN]\u001b[39m (match_M2qKXLJ1wmsG) - turn 63; Unit u_9 collided when trying to move e to (14, 10)\n",
      "\u001b[33m[WARN]\u001b[39m (match_M2qKXLJ1wmsG) - turn 63; Unit u_11 collided when trying to move e to (13, 10)\n",
      "\u001b[33m[WARN]\u001b[39m (match_M2qKXLJ1wmsG) - turn 64; Unit u_5 collided when trying to move n to (15, 10)\n",
      "\u001b[33m[WARN]\u001b[39m (match_M2qKXLJ1wmsG) - turn 64; Unit u_2 collided when trying to move s to (15, 11)\n",
      "\u001b[33m[WARN]\u001b[39m (match_M2qKXLJ1wmsG) - turn 64; Unit u_5 collided when trying to move n to (15, 10)\n",
      "\u001b[33m[WARN]\u001b[39m (match_M2qKXLJ1wmsG) - turn 64; Unit u_10 collided when trying to move e to (15, 10)\n",
      "\u001b[33m[WARN]\u001b[39m (match_M2qKXLJ1wmsG) - turn 64; Unit u_9 collided when trying to move e to (14, 10)\n",
      "\u001b[33m[WARN]\u001b[39m (match_M2qKXLJ1wmsG) - turn 64; Unit u_10 collided when trying to move e to (15, 10)\n",
      "\u001b[33m[WARN]\u001b[39m (match_M2qKXLJ1wmsG) - turn 92; Unit u_19 collided when trying to move w to (4, 11)\n",
      "\u001b[33m[WARN]\u001b[39m (match_M2qKXLJ1wmsG) - turn 95; Unit u_19 collided when trying to move w to (3, 11)\n",
      "\u001b[33m[WARN]\u001b[39m (match_M2qKXLJ1wmsG) - turn 95; Unit u_6 collided when trying to move w to (4, 11)\n",
      "\u001b[33m[WARN]\u001b[39m (match_M2qKXLJ1wmsG) - turn 96; Unit u_19 collided when trying to move w to (3, 11)\n",
      "\u001b[33m[WARN]\u001b[39m (match_M2qKXLJ1wmsG) - turn 98; Unit u_20 collided when trying to move w to (4, 11)\n",
      "\u001b[33m[WARN]\u001b[39m (match_M2qKXLJ1wmsG) - turn 98; Unit u_22 collided when trying to move s to (5, 11)\n",
      "\u001b[33m[WARN]\u001b[39m (match_M2qKXLJ1wmsG) - turn 103; Unit u_23 collided when trying to move w to (4, 11)\n",
      "\u001b[33m[WARN]\u001b[39m (match_M2qKXLJ1wmsG) - turn 106; Unit u_20 collided when trying to move n to (5, 11)\n",
      "\u001b[33m[WARN]\u001b[39m (match_M2qKXLJ1wmsG) - turn 106; Unit u_22 collided when trying to move e to (5, 12)\n",
      "\u001b[33m[WARN]\u001b[39m (match_M2qKXLJ1wmsG) - turn 108; Unit u_13 collided when trying to move e to (11, 9)\n",
      "\u001b[33m[WARN]\u001b[39m (match_M2qKXLJ1wmsG) - turn 108; Unit u_18 collided when trying to move s to (11, 9)\n",
      "\u001b[33m[WARN]\u001b[39m (match_M2qKXLJ1wmsG) - turn 109; Unit u_13 collided when trying to move e to (11, 9)\n",
      "\u001b[33m[WARN]\u001b[39m (match_M2qKXLJ1wmsG) - turn 109; Unit u_18 collided when trying to move s to (11, 9)\n",
      "\u001b[33m[WARN]\u001b[39m (match_M2qKXLJ1wmsG) - turn 110; Unit u_13 collided when trying to move e to (11, 9)\n",
      "\u001b[33m[WARN]\u001b[39m (match_M2qKXLJ1wmsG) - turn 110; Unit u_18 collided when trying to move s to (11, 9)\n",
      "\u001b[33m[WARN]\u001b[39m (match_M2qKXLJ1wmsG) - turn 111; Unit u_20 collided when trying to move e to (5, 13)\n",
      "\u001b[33m[WARN]\u001b[39m (match_M2qKXLJ1wmsG) - turn 111; Unit u_24 collided when trying to move s to (5, 13)\n",
      "\u001b[33m[WARN]\u001b[39m (match_M2qKXLJ1wmsG) - turn 111; Unit u_13 collided when trying to move e to (11, 9)\n",
      "\u001b[33m[WARN]\u001b[39m (match_M2qKXLJ1wmsG) - turn 111; Unit u_18 collided when trying to move s to (11, 9)\n",
      "\u001b[33m[WARN]\u001b[39m (match_M2qKXLJ1wmsG) - turn 116; Unit u_22 collided when trying to move e to (5, 12)\n",
      "\u001b[33m[WARN]\u001b[39m (match_M2qKXLJ1wmsG) - turn 116; Unit u_24 collided when trying to move w to (5, 12)\n",
      "\u001b[33m[WARN]\u001b[39m (match_M2qKXLJ1wmsG) - turn 116; Unit u_6 collided when trying to move e to (6, 12)\n",
      "\u001b[33m[WARN]\u001b[39m (match_M2qKXLJ1wmsG) - turn 116; Unit u_22 collided when trying to move e to (5, 12)\n",
      "\u001b[33m[WARN]\u001b[39m (match_M2qKXLJ1wmsG) - turn 116; Unit u_24 collided when trying to move w to (5, 12)\n",
      "\u001b[33m[WARN]\u001b[39m (match_M2qKXLJ1wmsG) - turn 117; Unit u_24 collided when trying to move w to (5, 12)\n",
      "\u001b[33m[WARN]\u001b[39m (match_M2qKXLJ1wmsG) - turn 118; Unit u_24 collided when trying to move w to (5, 12)\n",
      "\u001b[33m[WARN]\u001b[39m (match_M2qKXLJ1wmsG) - turn 119; Unit u_24 collided when trying to move w to (5, 12)\n",
      "\u001b[33m[WARN]\u001b[39m (match_M2qKXLJ1wmsG) - turn 119; Unit u_23 collided when trying to move w to (6, 12)\n",
      "\u001b[33m[WARN]\u001b[39m (match_M2qKXLJ1wmsG) - turn 120; Unit u_24 collided when trying to move w to (5, 12)\n",
      "\u001b[33m[WARN]\u001b[39m (match_M2qKXLJ1wmsG) - turn 121; Unit u_24 collided when trying to move w to (5, 12)\n",
      "\u001b[33m[WARN]\u001b[39m (match_M2qKXLJ1wmsG) - turn 122; Unit u_10 collided when trying to move n to (10, 11)\n",
      "\u001b[33m[WARN]\u001b[39m (match_M2qKXLJ1wmsG) - turn 130; Unit u_29 collided when trying to move s to (5, 14)\n",
      "\u001b[33m[WARN]\u001b[39m (match_M2qKXLJ1wmsG) - turn 134; Unit u_18 collided when trying to move n to (13, 4)\n",
      "\u001b[33m[WARN]\u001b[39m (match_M2qKXLJ1wmsG) - turn 135; Unit u_18 collided when trying to move n to (13, 4)\n",
      "\u001b[33m[WARN]\u001b[39m (match_M2qKXLJ1wmsG) - turn 136; Unit u_24 collided when trying to move n to (6, 12)\n",
      "\u001b[33m[WARN]\u001b[39m (match_M2qKXLJ1wmsG) - turn 137; Unit u_13 collided when trying to move e to (11, 12)\n",
      "\u001b[33m[WARN]\u001b[39m (match_M2qKXLJ1wmsG) - turn 140; Unit u_10 collided when trying to move e to (11, 12)\n",
      "\u001b[33m[WARN]\u001b[39m (match_M2qKXLJ1wmsG) - turn 146; Unit u_13 collided when trying to move w to (9, 12)\n",
      "\u001b[33m[WARN]\u001b[39m (match_M2qKXLJ1wmsG) - turn 147; Unit u_22 collided when trying to move e to (9, 12)\n",
      "\u001b[33m[WARN]\u001b[39m (match_M2qKXLJ1wmsG) - turn 147; Unit u_13 collided when trying to move w to (9, 12)\n",
      "\u001b[33m[WARN]\u001b[39m (match_M2qKXLJ1wmsG) - turn 148; Unit u_22 collided when trying to move e to (9, 12)\n",
      "\u001b[33m[WARN]\u001b[39m (match_M2qKXLJ1wmsG) - turn 148; Unit u_13 collided when trying to move w to (9, 12)\n",
      "\u001b[33m[WARN]\u001b[39m (match_M2qKXLJ1wmsG) - turn 149; Unit u_22 collided when trying to move e to (9, 12)\n",
      "\u001b[33m[WARN]\u001b[39m (match_M2qKXLJ1wmsG) - turn 149; Unit u_13 collided when trying to move w to (9, 12)\n",
      "\u001b[33m[WARN]\u001b[39m (match_M2qKXLJ1wmsG) - turn 150; Unit u_22 collided when trying to move e to (9, 12)\n",
      "\u001b[33m[WARN]\u001b[39m (match_M2qKXLJ1wmsG) - turn 150; Unit u_13 collided when trying to move w to (9, 12)\n",
      "\u001b[33m[WARN]\u001b[39m (match_M2qKXLJ1wmsG) - Agent 0 tried to move unit u_20 onto opponent CityTile; turn 152; cmd: m u_20 e\n",
      "\u001b[33m[WARN]\u001b[39m (match_M2qKXLJ1wmsG) - turn 163; Unit u_5 collided when trying to move s to (14, 2)\n",
      "\u001b[33m[WARN]\u001b[39m (match_M2qKXLJ1wmsG) - turn 169; Unit u_33 collided when trying to move e to (12, 2)\n",
      "\u001b[33m[WARN]\u001b[39m (match_M2qKXLJ1wmsG) - turn 171; Unit u_40 collided when trying to move w to (9, 12)\n",
      "\u001b[33m[WARN]\u001b[39m (match_M2qKXLJ1wmsG) - Agent 0 tried to move unit u_38 onto opponent CityTile; turn 175; cmd: m u_38 e\n",
      "\u001b[33m[WARN]\u001b[39m (match_M2qKXLJ1wmsG) - Agent 0 tried to move unit u_39 onto opponent CityTile; turn 175; cmd: m u_39 n\n",
      "\u001b[33m[WARN]\u001b[39m (match_M2qKXLJ1wmsG) - Agent 0 tried to move unit u_38 onto opponent CityTile; turn 176; cmd: m u_38 e\n",
      "\u001b[33m[WARN]\u001b[39m (match_M2qKXLJ1wmsG) - Agent 0 tried to move unit u_38 onto opponent CityTile; turn 177; cmd: m u_38 e\n",
      "\u001b[33m[WARN]\u001b[39m (match_M2qKXLJ1wmsG) - Agent 0 tried to move unit u_38 onto opponent CityTile; turn 178; cmd: m u_38 e\n",
      "\u001b[33m[WARN]\u001b[39m (match_M2qKXLJ1wmsG) - Agent 0 tried to move unit u_38 onto opponent CityTile; turn 179; cmd: m u_38 e\n",
      "\u001b[33m[WARN]\u001b[39m (match_M2qKXLJ1wmsG) - Agent 0 tried to move unit u_38 onto opponent CityTile; turn 180; cmd: m u_38 e\n",
      "\u001b[33m[WARN]\u001b[39m (match_M2qKXLJ1wmsG) - Agent 0 tried to move unit u_38 onto opponent CityTile; turn 181; cmd: m u_38 e\n",
      "\u001b[33m[WARN]\u001b[39m (match_M2qKXLJ1wmsG) - Agent 0 tried to move unit u_38 onto opponent CityTile; turn 182; cmd: m u_38 e\n",
      "\u001b[33m[WARN]\u001b[39m (match_M2qKXLJ1wmsG) - Agent 0 tried to move unit u_38 onto opponent CityTile; turn 183; cmd: m u_38 e\n",
      "\u001b[33m[WARN]\u001b[39m (match_M2qKXLJ1wmsG) - Agent 0 tried to move unit u_38 onto opponent CityTile; turn 184; cmd: m u_38 e\n",
      "\u001b[33m[WARN]\u001b[39m (match_M2qKXLJ1wmsG) - Agent 0 tried to move unit u_38 onto opponent CityTile; turn 185; cmd: m u_38 e\n",
      "\u001b[33m[WARN]\u001b[39m (match_M2qKXLJ1wmsG) - Agent 0 tried to move unit u_38 onto opponent CityTile; turn 186; cmd: m u_38 e\n",
      "\u001b[33m[WARN]\u001b[39m (match_M2qKXLJ1wmsG) - Agent 0 tried to move unit u_38 onto opponent CityTile; turn 187; cmd: m u_38 e\n",
      "\u001b[33m[WARN]\u001b[39m (match_M2qKXLJ1wmsG) - Agent 0 tried to move unit u_38 onto opponent CityTile; turn 188; cmd: m u_38 e\n",
      "\u001b[33m[WARN]\u001b[39m (match_M2qKXLJ1wmsG) - Agent 0 tried to move unit u_38 onto opponent CityTile; turn 189; cmd: m u_38 e\n",
      "\u001b[33m[WARN]\u001b[39m (match_M2qKXLJ1wmsG) - Agent 0 tried to move unit u_38 onto opponent CityTile; turn 190; cmd: m u_38 e\n",
      "\u001b[33m[WARN]\u001b[39m (match_M2qKXLJ1wmsG) - turn 191; Unit u_36 collided when trying to move w to (10, 5)\n",
      "\u001b[33m[WARN]\u001b[39m (match_M2qKXLJ1wmsG) - turn 191; Unit u_40 collided when trying to move e to (10, 5)\n",
      "\u001b[33m[WARN]\u001b[39m (match_M2qKXLJ1wmsG) - turn 194; Unit u_41 collided when trying to move s to (10, 5)\n",
      "\u001b[33m[WARN]\u001b[39m (match_M2qKXLJ1wmsG) - Agent 0 tried to move unit u_36 onto opponent CityTile; turn 196; cmd: m u_36 n\n",
      "\u001b[33m[WARN]\u001b[39m (match_M2qKXLJ1wmsG) - turn 203; Unit u_13 collided when trying to move n to (15, 14)\n",
      "\u001b[33m[WARN]\u001b[39m (match_M2qKXLJ1wmsG) - turn 204; Unit u_31 collided when trying to move w to (11, 2)\n",
      "\u001b[33m[WARN]\u001b[39m (match_M2qKXLJ1wmsG) - turn 205; Unit u_40 collided when trying to move n to (11, 4)\n",
      "\u001b[33m[WARN]\u001b[39m (match_M2qKXLJ1wmsG) - turn 207; Unit u_37 collided when trying to move e to (10, 5)\n",
      "\u001b[33m[WARN]\u001b[39m (match_M2qKXLJ1wmsG) - turn 208; Unit u_40 collided when trying to move n to (11, 4)\n",
      "\u001b[33m[WARN]\u001b[39m (match_M2qKXLJ1wmsG) - turn 209; Unit u_5 collided when trying to move w to (11, 2)\n",
      "\u001b[33m[WARN]\u001b[39m (match_M2qKXLJ1wmsG) - turn 209; Unit u_12 collided when trying to move w to (12, 2)\n",
      "\u001b[33m[WARN]\u001b[39m (match_M2qKXLJ1wmsG) - turn 210; Unit u_40 collided when trying to move n to (11, 4)\n",
      "\u001b[33m[WARN]\u001b[39m (match_M2qKXLJ1wmsG) - turn 210; Unit u_41 collided when trying to move e to (11, 4)\n",
      "\u001b[33m[WARN]\u001b[39m (match_M2qKXLJ1wmsG) - turn 211; Unit u_47 collided when trying to move n to (11, 2)\n",
      "\u001b[33m[WARN]\u001b[39m (match_M2qKXLJ1wmsG) - turn 213; Unit u_40 collided when trying to move n to (11, 3)\n",
      "\u001b[33m[WARN]\u001b[39m (match_M2qKXLJ1wmsG) - turn 216; Unit u_40 collided when trying to move w to (10, 3)\n",
      "\u001b[33m[WARN]\u001b[39m (match_M2qKXLJ1wmsG) - turn 217; Unit u_37 collided when trying to move n to (11, 4)\n",
      "\u001b[33m[WARN]\u001b[39m (match_M2qKXLJ1wmsG) - turn 217; Unit u_40 collided when trying to move s to (11, 4)\n",
      "\u001b[33m[WARN]\u001b[39m (match_M2qKXLJ1wmsG) - turn 217; Unit u_5 collided when trying to move e to (11, 3)\n",
      "\u001b[33m[WARN]\u001b[39m (match_M2qKXLJ1wmsG) - turn 217; Unit u_31 collided when trying to move s to (11, 3)\n",
      "\u001b[33m[WARN]\u001b[39m (match_M2qKXLJ1wmsG) - turn 217; Unit u_47 collided when trying to move e to (11, 2)\n",
      "\u001b[33m[WARN]\u001b[39m (match_M2qKXLJ1wmsG) - Agent 0 tried to move unit u_36 onto opponent CityTile; turn 218; cmd: m u_36 e\n",
      "\u001b[33m[WARN]\u001b[39m (match_M2qKXLJ1wmsG) - turn 218; Unit u_18 collided when trying to move w to (11, 3)\n",
      "\u001b[33m[WARN]\u001b[39m (match_M2qKXLJ1wmsG) - turn 218; Unit u_31 collided when trying to move s to (11, 3)\n",
      "\u001b[33m[WARN]\u001b[39m (match_M2qKXLJ1wmsG) - Agent 0 tried to move unit u_36 onto opponent CityTile; turn 219; cmd: m u_36 e\n",
      "\u001b[33m[WARN]\u001b[39m (match_M2qKXLJ1wmsG) - Agent 0 tried to move unit u_36 onto opponent CityTile; turn 220; cmd: m u_36 e\n",
      "\u001b[33m[WARN]\u001b[39m (match_M2qKXLJ1wmsG) - Agent 0 tried to move unit u_36 onto opponent CityTile; turn 221; cmd: m u_36 e\n",
      "\u001b[33m[WARN]\u001b[39m (match_M2qKXLJ1wmsG) - Agent 0 tried to move unit u_36 onto opponent CityTile; turn 222; cmd: m u_36 e\n",
      "\u001b[33m[WARN]\u001b[39m (match_M2qKXLJ1wmsG) - Agent 0 tried to move unit u_36 onto opponent CityTile; turn 223; cmd: m u_36 e\n",
      "\u001b[33m[WARN]\u001b[39m (match_M2qKXLJ1wmsG) - turn 223; Unit u_40 collided when trying to move n to (11, 2)\n",
      "\u001b[33m[WARN]\u001b[39m (match_M2qKXLJ1wmsG) - Agent 0 tried to move unit u_36 onto opponent CityTile; turn 224; cmd: m u_36 e\n",
      "\u001b[33m[WARN]\u001b[39m (match_M2qKXLJ1wmsG) - turn 224; Unit u_40 collided when trying to move e to (12, 3)\n",
      "\u001b[33m[WARN]\u001b[39m (match_M2qKXLJ1wmsG) - turn 224; Unit u_37 collided when trying to move n to (11, 3)\n",
      "\u001b[33m[WARN]\u001b[39m (match_M2qKXLJ1wmsG) - Agent 0 tried to move unit u_36 onto opponent CityTile; turn 225; cmd: m u_36 e\n",
      "\u001b[33m[WARN]\u001b[39m (match_M2qKXLJ1wmsG) - turn 225; Unit u_40 collided when trying to move e to (12, 3)\n",
      "\u001b[33m[WARN]\u001b[39m (match_M2qKXLJ1wmsG) - turn 225; Unit u_37 collided when trying to move n to (11, 3)\n",
      "\u001b[33m[WARN]\u001b[39m (match_M2qKXLJ1wmsG) - Agent 0 tried to move unit u_36 onto opponent CityTile; turn 226; cmd: m u_36 e\n",
      "\u001b[33m[WARN]\u001b[39m (match_M2qKXLJ1wmsG) - turn 226; Unit u_37 collided when trying to move n to (11, 3)\n",
      "\u001b[33m[WARN]\u001b[39m (match_M2qKXLJ1wmsG) - turn 226; Unit u_12 collided when trying to move w to (11, 3)\n",
      "\u001b[33m[WARN]\u001b[39m (match_M2qKXLJ1wmsG) - turn 226; Unit u_40 collided when trying to move e to (12, 3)\n",
      "\u001b[33m[WARN]\u001b[39m (match_M2qKXLJ1wmsG) - turn 226; Unit u_37 collided when trying to move n to (11, 3)\n",
      "\u001b[33m[WARN]\u001b[39m (match_M2qKXLJ1wmsG) - turn 226; Unit u_12 collided when trying to move w to (11, 3)\n",
      "\u001b[33m[WARN]\u001b[39m (match_M2qKXLJ1wmsG) - turn 226; Unit u_18 collided when trying to move s to (12, 3)\n",
      "\u001b[33m[WARN]\u001b[39m (match_M2qKXLJ1wmsG) - Agent 0 tried to move unit u_36 onto opponent CityTile; turn 227; cmd: m u_36 e\n",
      "\u001b[33m[WARN]\u001b[39m (match_M2qKXLJ1wmsG) - turn 227; Unit u_37 collided when trying to move n to (11, 3)\n",
      "\u001b[33m[WARN]\u001b[39m (match_M2qKXLJ1wmsG) - turn 227; Unit u_12 collided when trying to move w to (11, 3)\n",
      "\u001b[33m[WARN]\u001b[39m (match_M2qKXLJ1wmsG) - Agent 0 tried to move unit u_36 onto opponent CityTile; turn 228; cmd: m u_36 e\n",
      "\u001b[33m[WARN]\u001b[39m (match_M2qKXLJ1wmsG) - Agent 0 tried to move unit u_36 onto opponent CityTile; turn 229; cmd: m u_36 e\n",
      "\u001b[33m[WARN]\u001b[39m (match_M2qKXLJ1wmsG) - turn 229; Unit u_5 collided when trying to move w to (9, 3)\n",
      "\u001b[33m[WARN]\u001b[39m (match_M2qKXLJ1wmsG) - Agent 0 tried to move unit u_36 onto opponent CityTile; turn 230; cmd: m u_36 e\n",
      "\u001b[33m[WARN]\u001b[39m (match_M2qKXLJ1wmsG) - Agent 0 tried to move unit u_36 onto opponent CityTile; turn 231; cmd: m u_36 e\n",
      "\u001b[33m[WARN]\u001b[39m (match_M2qKXLJ1wmsG) - Agent 0 tried to move unit u_40 onto opponent CityTile; turn 231; cmd: m u_40 e\n",
      "\u001b[33m[WARN]\u001b[39m (match_M2qKXLJ1wmsG) - Agent 0 tried to move unit u_36 onto opponent CityTile; turn 232; cmd: m u_36 e\n",
      "\u001b[33m[WARN]\u001b[39m (match_M2qKXLJ1wmsG) - Agent 0 tried to move unit u_36 onto opponent CityTile; turn 233; cmd: m u_36 e\n",
      "\u001b[33m[WARN]\u001b[39m (match_M2qKXLJ1wmsG) - Agent 0 tried to move unit u_36 onto opponent CityTile; turn 234; cmd: m u_36 e\n",
      "\u001b[33m[WARN]\u001b[39m (match_M2qKXLJ1wmsG) - Agent 0 tried to move unit u_36 onto opponent CityTile; turn 235; cmd: m u_36 e\n",
      "\u001b[33m[WARN]\u001b[39m (match_M2qKXLJ1wmsG) - Agent 0 tried to move unit u_36 onto opponent CityTile; turn 236; cmd: m u_36 e\n",
      "\u001b[33m[WARN]\u001b[39m (match_M2qKXLJ1wmsG) - Agent 0 tried to move unit u_36 onto opponent CityTile; turn 237; cmd: m u_36 e\n",
      "\u001b[33m[WARN]\u001b[39m (match_M2qKXLJ1wmsG) - Agent 0 tried to move unit u_36 onto opponent CityTile; turn 238; cmd: m u_36 e\n",
      "\u001b[33m[WARN]\u001b[39m (match_M2qKXLJ1wmsG) - Agent 0 tried to move unit u_36 onto opponent CityTile; turn 239; cmd: m u_36 e\n",
      "\u001b[33m[WARN]\u001b[39m (match_M2qKXLJ1wmsG) - Agent 0 tried to move unit u_36 onto opponent CityTile; turn 240; cmd: m u_36 e\n",
      "\u001b[33m[WARN]\u001b[39m (match_M2qKXLJ1wmsG) - Agent 0 tried to move unit u_36 onto opponent CityTile; turn 241; cmd: m u_36 e\n",
      "\u001b[33m[WARN]\u001b[39m (match_M2qKXLJ1wmsG) - Agent 0 tried to move unit u_36 onto opponent CityTile; turn 242; cmd: m u_36 e\n",
      "\u001b[33m[WARN]\u001b[39m (match_M2qKXLJ1wmsG) - Agent 0 tried to move unit u_36 onto opponent CityTile; turn 243; cmd: m u_36 e\n",
      "\u001b[33m[WARN]\u001b[39m (match_M2qKXLJ1wmsG) - Agent 0 tried to move unit u_36 onto opponent CityTile; turn 244; cmd: m u_36 e\n",
      "\u001b[33m[WARN]\u001b[39m (match_M2qKXLJ1wmsG) - Agent 0 tried to move unit u_36 onto opponent CityTile; turn 245; cmd: m u_36 e\n",
      "\u001b[33m[WARN]\u001b[39m (match_M2qKXLJ1wmsG) - Agent 0 tried to move unit u_36 onto opponent CityTile; turn 246; cmd: m u_36 e\n",
      "\u001b[33m[WARN]\u001b[39m (match_M2qKXLJ1wmsG) - Agent 0 tried to move unit u_36 onto opponent CityTile; turn 247; cmd: m u_36 e\n",
      "\u001b[33m[WARN]\u001b[39m (match_M2qKXLJ1wmsG) - Agent 0 tried to move unit u_36 onto opponent CityTile; turn 248; cmd: m u_36 e\n",
      "\u001b[33m[WARN]\u001b[39m (match_M2qKXLJ1wmsG) - Agent 0 tried to move unit u_36 onto opponent CityTile; turn 249; cmd: m u_36 e\n",
      "\u001b[33m[WARN]\u001b[39m (match_M2qKXLJ1wmsG) - Agent 0 tried to move unit u_36 onto opponent CityTile; turn 250; cmd: m u_36 e\n",
      "\u001b[33m[WARN]\u001b[39m (match_M2qKXLJ1wmsG) - Agent 0 tried to move unit u_36 onto opponent CityTile; turn 251; cmd: m u_36 e\n",
      "\u001b[33m[WARN]\u001b[39m (match_M2qKXLJ1wmsG) - Agent 0 tried to move unit u_36 onto opponent CityTile; turn 252; cmd: m u_36 e\n",
      "\u001b[33m[WARN]\u001b[39m (match_M2qKXLJ1wmsG) - Agent 0 tried to move unit u_36 onto opponent CityTile; turn 253; cmd: m u_36 e\n",
      "\u001b[33m[WARN]\u001b[39m (match_M2qKXLJ1wmsG) - Agent 0 tried to move unit u_36 onto opponent CityTile; turn 254; cmd: m u_36 e\n",
      "\u001b[33m[WARN]\u001b[39m (match_M2qKXLJ1wmsG) - Agent 0 tried to move unit u_36 onto opponent CityTile; turn 255; cmd: m u_36 e\n",
      "\u001b[33m[WARN]\u001b[39m (match_M2qKXLJ1wmsG) - Agent 0 tried to move unit u_36 onto opponent CityTile; turn 256; cmd: m u_36 e\n",
      "\u001b[33m[WARN]\u001b[39m (match_M2qKXLJ1wmsG) - Agent 0 tried to move unit u_36 onto opponent CityTile; turn 257; cmd: m u_36 e\n",
      "\u001b[33m[WARN]\u001b[39m (match_M2qKXLJ1wmsG) - Agent 0 tried to move unit u_36 onto opponent CityTile; turn 258; cmd: m u_36 e\n",
      "\u001b[33m[WARN]\u001b[39m (match_M2qKXLJ1wmsG) - Agent 0 tried to move unit u_36 onto opponent CityTile; turn 259; cmd: m u_36 e\n",
      "\u001b[33m[WARN]\u001b[39m (match_M2qKXLJ1wmsG) - Agent 0 tried to move unit u_36 onto opponent CityTile; turn 260; cmd: m u_36 e\n",
      "\u001b[33m[WARN]\u001b[39m (match_M2qKXLJ1wmsG) - Agent 0 tried to move unit u_36 onto opponent CityTile; turn 261; cmd: m u_36 e\n",
      "\u001b[33m[WARN]\u001b[39m (match_M2qKXLJ1wmsG) - Agent 0 tried to move unit u_36 onto opponent CityTile; turn 262; cmd: m u_36 e\n",
      "\u001b[33m[WARN]\u001b[39m (match_M2qKXLJ1wmsG) - Agent 0 tried to move unit u_36 onto opponent CityTile; turn 263; cmd: m u_36 e\n",
      "\u001b[33m[WARN]\u001b[39m (match_M2qKXLJ1wmsG) - Agent 0 tried to move unit u_36 onto opponent CityTile; turn 264; cmd: m u_36 e\n",
      "\u001b[33m[WARN]\u001b[39m (match_M2qKXLJ1wmsG) - turn 264; Unit u_66 collided when trying to move n to (4, 1)\n",
      "\u001b[33m[WARN]\u001b[39m (match_M2qKXLJ1wmsG) - Agent 0 tried to move unit u_36 onto opponent CityTile; turn 265; cmd: m u_36 e\n",
      "\u001b[33m[WARN]\u001b[39m (match_M2qKXLJ1wmsG) - turn 265; Unit u_13 collided when trying to move s to (15, 4)\n",
      "\u001b[33m[WARN]\u001b[39m (match_M2qKXLJ1wmsG) - Agent 0 tried to move unit u_36 onto opponent CityTile; turn 266; cmd: m u_36 e\n",
      "\u001b[33m[WARN]\u001b[39m (match_M2qKXLJ1wmsG) - turn 266; Unit u_13 collided when trying to move s to (15, 4)\n",
      "\u001b[33m[WARN]\u001b[39m (match_M2qKXLJ1wmsG) - Agent 0 tried to move unit u_36 onto opponent CityTile; turn 267; cmd: m u_36 e\n",
      "\u001b[33m[WARN]\u001b[39m (match_M2qKXLJ1wmsG) - turn 267; Unit u_13 collided when trying to move s to (15, 4)\n",
      "\u001b[33m[WARN]\u001b[39m (match_M2qKXLJ1wmsG) - Agent 0 tried to move unit u_36 onto opponent CityTile; turn 268; cmd: m u_36 e\n",
      "\u001b[33m[WARN]\u001b[39m (match_M2qKXLJ1wmsG) - turn 268; Unit u_13 collided when trying to move s to (15, 4)\n",
      "\u001b[33m[WARN]\u001b[39m (match_M2qKXLJ1wmsG) - Agent 0 tried to move unit u_36 onto opponent CityTile; turn 269; cmd: m u_36 e\n",
      "\u001b[33m[WARN]\u001b[39m (match_M2qKXLJ1wmsG) - turn 269; Unit u_13 collided when trying to move s to (15, 4)\n",
      "\u001b[33m[WARN]\u001b[39m (match_M2qKXLJ1wmsG) - turn 269; Unit u_64 collided when trying to move w to (2, 2)\n",
      "\u001b[33m[WARN]\u001b[39m (match_M2qKXLJ1wmsG) - Agent 0 tried to move unit u_36 onto opponent CityTile; turn 270; cmd: m u_36 e\n",
      "\u001b[33m[WARN]\u001b[39m (match_M2qKXLJ1wmsG) - turn 270; Unit u_66 collided when trying to move e to (3, 2)\n",
      "\u001b[33m[WARN]\u001b[39m (match_M2qKXLJ1wmsG) - turn 270; Unit u_69 collided when trying to move w to (3, 2)\n",
      "\u001b[33m[WARN]\u001b[39m (match_M2qKXLJ1wmsG) - turn 270; Unit u_72 collided when trying to move w to (4, 2)\n",
      "\u001b[33m[WARN]\u001b[39m (match_M2qKXLJ1wmsG) - Agent 0 tried to move unit u_36 onto opponent CityTile; turn 271; cmd: m u_36 e\n",
      "\u001b[33m[WARN]\u001b[39m (match_M2qKXLJ1wmsG) - Agent 0 tried to move unit u_36 onto opponent CityTile; turn 272; cmd: m u_36 e\n",
      "\u001b[33m[WARN]\u001b[39m (match_M2qKXLJ1wmsG) - Agent 0 tried to move unit u_36 onto opponent CityTile; turn 273; cmd: m u_36 e\n",
      "\u001b[33m[WARN]\u001b[39m (match_M2qKXLJ1wmsG) - Agent 0 tried to move unit u_36 onto opponent CityTile; turn 274; cmd: m u_36 e\n",
      "\u001b[33m[WARN]\u001b[39m (match_M2qKXLJ1wmsG) - Agent 0 tried to move unit u_36 onto opponent CityTile; turn 275; cmd: m u_36 e\n",
      "{\n",
      "  ranks: [\n",
      "    {\n",
      "      rank: 1,\n",
      "      agentID: 1,\n",
      "      name: '/Users/sergmiller/Downloads/submission-5/main.py'\n",
      "    },\n",
      "    { rank: 2, agentID: 0, name: '../submissions/simple/main.py' }\n",
      "  ],\n",
      "  replayFile: 'replays/417943959.json',\n",
      "  seed: 42\n",
      "}\n",
      "\n"
     ]
    }
   ],
   "source": [
    "zero_bot = \"../submissions/zero_actions/main.py\"\n",
    "r = run_game(simple_bot, \"/Users/sergmiller/Downloads/submission-5/main.py\", 42)"
   ]
  },
  {
   "cell_type": "code",
   "execution_count": 106,
   "metadata": {},
   "outputs": [
    {
     "name": "stderr",
     "output_type": "stream",
     "text": [
      "100%|██████████| 40/40 [01:02<00:00,  1.56s/it]\n"
     ]
    },
    {
     "data": {
      "text/plain": [
       "((0.4625, -0.4743416490252569, 0.6352562959972483),\n",
       " {'ranks': [{'rank': 1, 'agentID': 0}, {'rank': 2, 'agentID': 1}],\n",
       "  'replayFile': 'replays/419589201.json'})"
      ]
     },
     "execution_count": 106,
     "metadata": {},
     "output_type": "execute_result"
    }
   ],
   "source": [
    "compare_flags({}, \"/Users/sergmiller/Downloads/submission-5/main.py\", n_games=40)"
   ]
  },
  {
   "cell_type": "code",
   "execution_count": 111,
   "metadata": {},
   "outputs": [
    {
     "name": "stderr",
     "output_type": "stream",
     "text": [
      "100%|██████████| 40/40 [00:56<00:00,  1.40s/it]\n"
     ]
    },
    {
     "data": {
      "text/plain": [
       "((0.325, -2.2135943621178655, 0.026856695507524397),\n",
       " {'ranks': [{'rank': 1, 'agentID': 1}, {'rank': 2, 'agentID': 0}],\n",
       "  'replayFile': 'replays/951213014.json'})"
      ]
     },
     "execution_count": 111,
     "metadata": {},
     "output_type": "execute_result"
    }
   ],
   "source": [
    "compare_flags({\"check_only_adjacent_city_points\": True}, {}, n_games=40)"
   ]
  },
  {
   "cell_type": "code",
   "execution_count": 118,
   "metadata": {},
   "outputs": [
    {
     "name": "stderr",
     "output_type": "stream",
     "text": [
      "100%|██████████| 2/2 [00:00<00:00, 12264.05it/s]\n"
     ]
    },
    {
     "data": {
      "text/plain": [
       "((0.0, -1.414213562373095, 0.15729920705028516),\n",
       " {'ranks': [{'rank': 1, 'agentID': 1}, {'rank': 2, 'agentID': 0}],\n",
       "  'replayFile': 'replays/312348333.json'})"
      ]
     },
     "execution_count": 118,
     "metadata": {},
     "output_type": "execute_result"
    }
   ],
   "source": [
    "compare_flags({\"skip_mine_and_build_loop\": True}, {}, n_games=2)"
   ]
  },
  {
   "cell_type": "code",
   "execution_count": 113,
   "metadata": {},
   "outputs": [
    {
     "name": "stderr",
     "output_type": "stream",
     "text": [
      "100%|██████████| 40/40 [01:11<00:00,  1.78s/it]\n"
     ]
    },
    {
     "data": {
      "text/plain": [
       "((0.475, -0.31622776601683794, 0.7518296340458492),\n",
       " {'ranks': [{'rank': 1, 'agentID': 0}, {'rank': 2, 'agentID': 1}],\n",
       "  'replayFile': 'replays/41791872.json'})"
      ]
     },
     "execution_count": 113,
     "metadata": {},
     "output_type": "execute_result"
    }
   ],
   "source": [
    "compare_flags({\"go_to_city_at_night\": True}, {}, n_games=40)"
   ]
  },
  {
   "cell_type": "code",
   "execution_count": 117,
   "metadata": {},
   "outputs": [
    {
     "name": "stderr",
     "output_type": "stream",
     "text": [
      "100%|██████████| 80/80 [01:44<00:00,  1.30s/it]\n"
     ]
    },
    {
     "data": {
      "text/plain": [
       "((0.45625, -0.7826237921249264, 0.4338480657664392),\n",
       " {'ranks': [{'rank': 1, 'agentID': 0}, {'rank': 2, 'agentID': 1}],\n",
       "  'replayFile': 'replays/657084024.json'})"
      ]
     },
     "execution_count": 117,
     "metadata": {},
     "output_type": "execute_result"
    }
   ],
   "source": [
    "compare_flags({\"skip_go_to_city_on_zero_dist\": True, \"go_to_city_at_night\": True}, {}, n_games=80)"
   ]
  },
  {
   "cell_type": "code",
   "execution_count": 116,
   "metadata": {},
   "outputs": [
    {
     "name": "stderr",
     "output_type": "stream",
     "text": [
      "100%|██████████| 40/40 [00:53<00:00,  1.34s/it]\n"
     ]
    },
    {
     "data": {
      "text/plain": [
       "((0.4375, -0.7905694150420948, 0.42919530044034926),\n",
       " {'ranks': [{'rank': 1, 'agentID': 1}, {'rank': 2, 'agentID': 0}],\n",
       "  'replayFile': 'replays/295897956.json'})"
      ]
     },
     "execution_count": 116,
     "metadata": {},
     "output_type": "execute_result"
    }
   ],
   "source": [
    "compare_flags({\"skip_go_to_city_on_zero_dist\": True, \"go_to_city_at_night\": True}, \"/Users/sergmiller/Downloads/submission-5/main.py\", n_games=40)"
   ]
  },
  {
   "cell_type": "code",
   "execution_count": 125,
   "metadata": {},
   "outputs": [
    {
     "name": "stderr",
     "output_type": "stream",
     "text": [
      "100%|██████████| 40/40 [00:42<00:00,  1.05s/it]\n"
     ]
    },
    {
     "data": {
      "text/plain": [
       "((0.3625, -1.7392527130926085, 0.081990321000383),\n",
       " {'ranks': [{'rank': 1, 'agentID': 1}, {'rank': 2, 'agentID': 0}],\n",
       "  'replayFile': 'replays/39046897.json'})"
      ]
     },
     "execution_count": 125,
     "metadata": {},
     "output_type": "execute_result"
    }
   ],
   "source": [
    "compare_flags({\"use_size_as_distance\": True}, {}, n_games=40)"
   ]
  },
  {
   "cell_type": "code",
   "execution_count": 126,
   "metadata": {},
   "outputs": [
    {
     "name": "stderr",
     "output_type": "stream",
     "text": [
      "100%|██████████| 40/40 [00:53<00:00,  1.35s/it]\n"
     ]
    },
    {
     "data": {
      "text/plain": [
       "((0.5875, 1.1067971810589328, 0.2683816272927607),\n",
       " {'ranks': [{'rank': 1, 'agentID': 0}, {'rank': 2, 'agentID': 1}],\n",
       "  'replayFile': 'replays/175835218.json'})"
      ]
     },
     "execution_count": 126,
     "metadata": {},
     "output_type": "execute_result"
    }
   ],
   "source": [
    "compare_flags({\"go_resource_next_action_probs\": [0.25, 0.75]}, {}, n_games=40)"
   ]
  },
  {
   "cell_type": "code",
   "execution_count": 129,
   "metadata": {},
   "outputs": [
    {
     "name": "stderr",
     "output_type": "stream",
     "text": [
      "100%|██████████| 40/40 [00:52<00:00,  1.32s/it]\n"
     ]
    },
    {
     "data": {
      "text/plain": [
       "((0.725, 2.846049894151541, 0.004426525857919832),\n",
       " {'ranks': [{'rank': 1, 'agentID': 0}, {'rank': 2, 'agentID': 1}],\n",
       "  'replayFile': 'replays/640888564.json'})"
      ]
     },
     "execution_count": 129,
     "metadata": {},
     "output_type": "execute_result"
    }
   ],
   "source": [
    "compare_flags({\"go_resource_next_action_probs\": [0.1, 0.9]}, {}, n_games=40)"
   ]
  },
  {
   "cell_type": "code",
   "execution_count": 130,
   "metadata": {},
   "outputs": [
    {
     "name": "stderr",
     "output_type": "stream",
     "text": [
      "100%|██████████| 40/40 [00:51<00:00,  1.28s/it]\n"
     ]
    },
    {
     "data": {
      "text/plain": [
       "((0.6625, 2.0554804791094465, 0.03983261924474144),\n",
       " {'ranks': [{'rank': 1, 'agentID': 0}, {'rank': 2, 'agentID': 1}],\n",
       "  'replayFile': 'replays/412483474.json'})"
      ]
     },
     "execution_count": 130,
     "metadata": {},
     "output_type": "execute_result"
    }
   ],
   "source": [
    "compare_flags({\"go_resource_next_action_probs\": [0.1, 0.9]}, \"/Users/sergmiller/Downloads/submission-5/main.py\", n_games=40)"
   ]
  },
  {
   "cell_type": "code",
   "execution_count": 131,
   "metadata": {},
   "outputs": [
    {
     "name": "stderr",
     "output_type": "stream",
     "text": [
      "100%|██████████| 40/40 [00:58<00:00,  1.47s/it]\n"
     ]
    },
    {
     "data": {
      "text/plain": [
       "((0.55, 0.6324555320336759, 0.5270892568655381),\n",
       " {'ranks': [{'rank': 1, 'agentID': 0}, {'rank': 2, 'agentID': 1}],\n",
       "  'replayFile': 'replays/554223651.json'})"
      ]
     },
     "execution_count": 131,
     "metadata": {},
     "output_type": "execute_result"
    }
   ],
   "source": [
    "compare_flags({\"use_old_units_cargo_rules\": False}, \"/Users/sergmiller/Downloads/submission-5/main.py\", n_games=40)"
   ]
  },
  {
   "cell_type": "code",
   "execution_count": null,
   "metadata": {},
   "outputs": [],
   "source": [
    "compare_flags({\"use_old_units_cargo_rules\": False}, \"/Users/sergmiller/Downloads/submission-5/main.py\", n_games=40)"
   ]
  },
  {
   "cell_type": "code",
   "execution_count": 133,
   "metadata": {},
   "outputs": [
    {
     "name": "stderr",
     "output_type": "stream",
     "text": [
      "100%|██████████| 40/40 [01:28<00:00,  2.22s/it]\n"
     ]
    },
    {
     "data": {
      "text/plain": [
       "((0.275, -2.846049894151541, 0.004426525857919832),\n",
       " {'ranks': [{'rank': 1, 'agentID': 1}, {'rank': 2, 'agentID': 0}],\n",
       "  'replayFile': 'replays/870054567.json'})"
      ]
     },
     "execution_count": 133,
     "metadata": {},
     "output_type": "execute_result"
    }
   ],
   "source": [
    "compare_flags({\"use_old_units_cargo_rules\": False, \"go_resource_next_action_probs\": [0.5, 0.5]}, {}, n_games=40)"
   ]
  },
  {
   "cell_type": "code",
   "execution_count": 127,
   "metadata": {},
   "outputs": [
    {
     "name": "stderr",
     "output_type": "stream",
     "text": [
      "100%|██████████| 40/40 [01:12<00:00,  1.82s/it]\n"
     ]
    },
    {
     "data": {
      "text/plain": [
       "((0.7, 2.5298221281347035, 0.011412036386001651),\n",
       " {'ranks': [{'rank': 1, 'agentID': 1}, {'rank': 2, 'agentID': 0}],\n",
       "  'replayFile': 'replays/53090520.json'})"
      ]
     },
     "execution_count": 127,
     "metadata": {},
     "output_type": "execute_result"
    }
   ],
   "source": [
    "compare_flags({\"go_resource_next_action_probs\": [0.05, 0.95]}, {}, n_games=40)"
   ]
  },
  {
   "cell_type": "code",
   "execution_count": 128,
   "metadata": {},
   "outputs": [
    {
     "name": "stderr",
     "output_type": "stream",
     "text": [
      "100%|██████████| 40/40 [01:30<00:00,  2.27s/it]\n"
     ]
    },
    {
     "data": {
      "text/plain": [
       "((0.7, 2.5298221281347035, 0.011412036386001651),\n",
       " {'ranks': [{'rank': 1, 'agentID': 0}, {'rank': 2, 'agentID': 1}],\n",
       "  'replayFile': 'replays/507062604.json'})"
      ]
     },
     "execution_count": 128,
     "metadata": {},
     "output_type": "execute_result"
    }
   ],
   "source": [
    "compare_flags({\"go_resource_next_action_probs\": [0.0, 1.0]}, {}, n_games=40)"
   ]
  },
  {
   "cell_type": "code",
   "execution_count": 134,
   "metadata": {},
   "outputs": [
    {
     "name": "stderr",
     "output_type": "stream",
     "text": [
      "100%|██████████| 40/40 [01:16<00:00,  1.90s/it]\n"
     ]
    },
    {
     "data": {
      "text/plain": [
       "((0.6375, 1.7392527130926085, 0.081990321000383),\n",
       " {'ranks': [{'rank': 1, 'agentID': 1}, {'rank': 2, 'agentID': 0}],\n",
       "  'replayFile': 'replays/182478039.json'})"
      ]
     },
     "execution_count": 134,
     "metadata": {},
     "output_type": "execute_result"
    }
   ],
   "source": [
    "compare_flags({\"stop_mining_threshold\": 99}, {}, n_games=40)"
   ]
  },
  {
   "cell_type": "code",
   "execution_count": 135,
   "metadata": {},
   "outputs": [
    {
     "name": "stderr",
     "output_type": "stream",
     "text": [
      "100%|██████████| 40/40 [00:51<00:00,  1.28s/it]\n"
     ]
    },
    {
     "data": {
      "text/plain": [
       "((0.5625, 0.7905694150420948, 0.42919530044034926),\n",
       " {'ranks': [{'rank': 1, 'agentID': 0}, {'rank': 2, 'agentID': 1}],\n",
       "  'replayFile': 'replays/846145215.json'})"
      ]
     },
     "execution_count": 135,
     "metadata": {},
     "output_type": "execute_result"
    }
   ],
   "source": [
    "compare_flags({\"stop_mining_threshold\": 50}, {}, n_games=40)"
   ]
  },
  {
   "cell_type": "code",
   "execution_count": 137,
   "metadata": {},
   "outputs": [
    {
     "name": "stderr",
     "output_type": "stream",
     "text": [
      "100%|██████████| 40/40 [01:10<00:00,  1.76s/it]\n"
     ]
    },
    {
     "data": {
      "text/plain": [
       "((0.675, 2.2135943621178655, 0.026856695507524397),\n",
       " {'ranks': [{'rank': 1, 'agentID': 0}, {'rank': 2, 'agentID': 1}],\n",
       "  'replayFile': 'replays/752854654.json'})"
      ]
     },
     "execution_count": 137,
     "metadata": {},
     "output_type": "execute_result"
    }
   ],
   "source": [
    "compare_flags({\"stop_mining_threshold\": 79}, {}, n_games=40)"
   ]
  },
  {
   "cell_type": "code",
   "execution_count": 138,
   "metadata": {},
   "outputs": [
    {
     "name": "stderr",
     "output_type": "stream",
     "text": [
      "100%|██████████| 40/40 [01:05<00:00,  1.64s/it]\n"
     ]
    },
    {
     "data": {
      "text/plain": [
       "((0.675, 2.2135943621178655, 0.026856695507524397),\n",
       " {'ranks': [{'rank': 1, 'agentID': 0}, {'rank': 2, 'agentID': 1}],\n",
       "  'replayFile': 'replays/947433138.json'})"
      ]
     },
     "execution_count": 138,
     "metadata": {},
     "output_type": "execute_result"
    }
   ],
   "source": [
    "compare_flags({\"stop_mining_threshold\": 79}, \"/Users/sergmiller/Downloads/submission-5/main.py\", n_games=40)"
   ]
  },
  {
   "cell_type": "code",
   "execution_count": 139,
   "metadata": {},
   "outputs": [
    {
     "name": "stderr",
     "output_type": "stream",
     "text": [
      "100%|██████████| 40/40 [00:57<00:00,  1.44s/it]\n"
     ]
    },
    {
     "data": {
      "text/plain": [
       "((0.6625, 2.0554804791094465, 0.03983261924474144),\n",
       " {'ranks': [{'rank': 1, 'agentID': 0}, {'rank': 2, 'agentID': 1}],\n",
       "  'replayFile': 'replays/583013079.json'})"
      ]
     },
     "execution_count": 139,
     "metadata": {},
     "output_type": "execute_result"
    }
   ],
   "source": [
    "compare_flags({\"stop_mining_threshold\": 79, \"use_old_units_cargo_rules\": False}, \"/Users/sergmiller/Downloads/submission-5/main.py\", n_games=40)"
   ]
  },
  {
   "cell_type": "code",
   "execution_count": 140,
   "metadata": {},
   "outputs": [
    {
     "name": "stderr",
     "output_type": "stream",
     "text": [
      "100%|██████████| 40/40 [01:12<00:00,  1.81s/it]\n"
     ]
    },
    {
     "data": {
      "text/plain": [
       "((0.5625, 0.7905694150420948, 0.42919530044034926),\n",
       " {'ranks': [{'rank': 1, 'agentID': 1}, {'rank': 2, 'agentID': 0}],\n",
       "  'replayFile': 'replays/792768760.json'})"
      ]
     },
     "execution_count": 140,
     "metadata": {},
     "output_type": "execute_result"
    }
   ],
   "source": [
    "compare_flags({\"stop_mining_threshold\": 79, \"use_old_units_cargo_rules\": False}, {}, n_games=40)"
   ]
  },
  {
   "cell_type": "code",
   "execution_count": 141,
   "metadata": {},
   "outputs": [
    {
     "name": "stderr",
     "output_type": "stream",
     "text": [
      "100%|██████████| 40/40 [01:06<00:00,  1.67s/it]\n"
     ]
    },
    {
     "data": {
      "text/plain": [
       "((0.5, 0.0, 1.0),\n",
       " {'ranks': [{'rank': 1, 'agentID': 1}, {'rank': 2, 'agentID': 0}],\n",
       "  'replayFile': 'replays/433330989.json'})"
      ]
     },
     "execution_count": 141,
     "metadata": {},
     "output_type": "execute_result"
    }
   ],
   "source": [
    "compare_flags({\"stop_mining_threshold\": 79, \"random_pillage_prob\": 0.1}, {}, n_games=40) #\"random_pillage_prob\""
   ]
  },
  {
   "cell_type": "code",
   "execution_count": 151,
   "metadata": {},
   "outputs": [
    {
     "name": "stderr",
     "output_type": "stream",
     "text": [
      "100%|██████████| 40/40 [00:53<00:00,  1.33s/it]\n"
     ]
    },
    {
     "data": {
      "text/plain": [
       "((0.725, 2.846049894151541, 0.004426525857919832),\n",
       " {'ranks': [{'rank': 1, 'agentID': 0}, {'rank': 2, 'agentID': 1}],\n",
       "  'replayFile': 'replays/357037306.json'})"
      ]
     },
     "execution_count": 151,
     "metadata": {},
     "output_type": "execute_result"
    }
   ],
   "source": [
    "compare_flags({\"stop_mining_threshold\": 79}, {\"stop_mining_threshold\": 0}, n_games=40)"
   ]
  },
  {
   "cell_type": "code",
   "execution_count": 150,
   "metadata": {},
   "outputs": [
    {
     "name": "stderr",
     "output_type": "stream",
     "text": [
      "100%|██████████| 40/40 [01:12<00:00,  1.81s/it]\n"
     ]
    },
    {
     "data": {
      "text/plain": [
       "((0.525, 0.31622776601683794, 0.7518296340458492),\n",
       " {'ranks': [{'rank': 1, 'agentID': 0}, {'rank': 2, 'agentID': 1}],\n",
       "  'replayFile': 'replays/332667360.json'})"
      ]
     },
     "execution_count": 150,
     "metadata": {},
     "output_type": "execute_result"
    }
   ],
   "source": [
    "compare_flags({\"stop_mining_threshold\": 79, \"fill_future_positions_each_turn\": True}, {\"stop_mining_threshold\": 0}, n_games=40)"
   ]
  },
  {
   "cell_type": "code",
   "execution_count": 152,
   "metadata": {},
   "outputs": [
    {
     "name": "stderr",
     "output_type": "stream",
     "text": [
      "100%|██████████| 80/80 [01:47<00:00,  1.34s/it]\n"
     ]
    },
    {
     "data": {
      "text/plain": [
       "((0.54375, 0.7826237921249264, 0.4338480657664392),\n",
       " {'ranks': [{'rank': 1, 'agentID': 0}, {'rank': 2, 'agentID': 1}],\n",
       "  'replayFile': 'replays/845998719.json'})"
      ]
     },
     "execution_count": 152,
     "metadata": {},
     "output_type": "execute_result"
    }
   ],
   "source": [
    "# remove_future_position_if_go_in_city\n",
    "compare_flags({\"fill_future_positions_each_turn\": True}, {}, n_games=80)"
   ]
  },
  {
   "cell_type": "code",
   "execution_count": 247,
   "metadata": {},
   "outputs": [
    {
     "name": "stderr",
     "output_type": "stream",
     "text": [
      "100%|██████████| 2/2 [00:00<00:00, 9177.91it/s]\n"
     ]
    },
    {
     "data": {
      "text/plain": [
       "((0.5, 0.0, 1.0),\n",
       " {'ranks': [{'rank': 1, 'agentID': 0}, {'rank': 2, 'agentID': 1}],\n",
       "  'replayFile': 'replays/72460859.json'})"
      ]
     },
     "execution_count": 247,
     "metadata": {},
     "output_type": "execute_result"
    }
   ],
   "source": [
    "compare_flags({\"time_to_go_in_night\": 0}, {}, n_games=2)"
   ]
  },
  {
   "cell_type": "code",
   "execution_count": 153,
   "metadata": {},
   "outputs": [
    {
     "name": "stderr",
     "output_type": "stream",
     "text": [
      "100%|██████████| 40/40 [00:48<00:00,  1.22s/it]\n"
     ]
    },
    {
     "data": {
      "text/plain": [
       "((0.2875, -2.687936011143122, 0.007189517250165056),\n",
       " {'ranks': [{'rank': 1, 'agentID': 1}, {'rank': 2, 'agentID': 0}],\n",
       "  'replayFile': 'replays/495874431.json'})"
      ]
     },
     "execution_count": 153,
     "metadata": {},
     "output_type": "execute_result"
    }
   ],
   "source": [
    "compare_flags({\"time_to_go_in_night\": 0}, {}, n_games=40)"
   ]
  },
  {
   "cell_type": "code",
   "execution_count": 156,
   "metadata": {},
   "outputs": [
    {
     "name": "stderr",
     "output_type": "stream",
     "text": [
      "100%|██████████| 40/40 [01:00<00:00,  1.51s/it]\n"
     ]
    },
    {
     "data": {
      "text/plain": [
       "((0.425, -0.9486832980505138, 0.34278171114791145),\n",
       " {'ranks': [{'rank': 1, 'agentID': 0}, {'rank': 2, 'agentID': 1}],\n",
       "  'replayFile': 'replays/320147582.json'})"
      ]
     },
     "execution_count": 156,
     "metadata": {},
     "output_type": "execute_result"
    }
   ],
   "source": [
    "compare_flags({\"time_to_go_in_night\": 4}, {}, n_games=40)"
   ]
  },
  {
   "cell_type": "code",
   "execution_count": 154,
   "metadata": {},
   "outputs": [
    {
     "name": "stderr",
     "output_type": "stream",
     "text": [
      "100%|██████████| 40/40 [00:54<00:00,  1.35s/it]\n"
     ]
    },
    {
     "data": {
      "text/plain": [
       "((0.4125, -1.1067971810589328, 0.2683816272927607),\n",
       " {'ranks': [{'rank': 1, 'agentID': 1}, {'rank': 2, 'agentID': 0}],\n",
       "  'replayFile': 'replays/101957888.json'})"
      ]
     },
     "execution_count": 154,
     "metadata": {},
     "output_type": "execute_result"
    }
   ],
   "source": [
    "compare_flags({\"time_to_go_in_night\": 8}, {}, n_games=40)"
   ]
  },
  {
   "cell_type": "code",
   "execution_count": 155,
   "metadata": {},
   "outputs": [
    {
     "name": "stderr",
     "output_type": "stream",
     "text": [
      "100%|██████████| 40/40 [00:58<00:00,  1.47s/it]\n"
     ]
    },
    {
     "data": {
      "text/plain": [
       "((0.3125, -2.3717082451262845, 0.017706065807366615),\n",
       " {'ranks': [{'rank': 1, 'agentID': 0}, {'rank': 2, 'agentID': 1}],\n",
       "  'replayFile': 'replays/545830147.json'})"
      ]
     },
     "execution_count": 155,
     "metadata": {},
     "output_type": "execute_result"
    }
   ],
   "source": [
    "compare_flags({\"time_to_go_in_night\": 16}, {}, n_games=40)"
   ]
  },
  {
   "cell_type": "code",
   "execution_count": 117,
   "metadata": {},
   "outputs": [
    {
     "name": "stderr",
     "output_type": "stream",
     "text": [
      "100%|██████████| 2/2 [00:00<00:00, 5349.88it/s]\n"
     ]
    },
    {
     "data": {
      "text/plain": [
       "((0.0, -1.414213562373095, 0.15729920705028516),\n",
       " {'ranks': [{'rank': 1, 'agentID': 1}, {'rank': 2, 'agentID': 0}],\n",
       "  'replayFile': 'replays/655675028.json'})"
      ]
     },
     "execution_count": 117,
     "metadata": {},
     "output_type": "execute_result"
    }
   ],
   "source": [
    "compare_flags({\"model_path\": \"models/v1.cbm\",  \"use_policy\": True}, {}, n_games=2)"
   ]
  },
  {
   "cell_type": "code",
   "execution_count": 118,
   "metadata": {},
   "outputs": [
    {
     "name": "stderr",
     "output_type": "stream",
     "text": [
      "100%|██████████| 10/10 [00:05<00:00,  1.72it/s]\n"
     ]
    },
    {
     "data": {
      "text/plain": [
       "((0.25, -1.5811388300841895, 0.11384629800665805),\n",
       " {'ranks': [{'rank': 1, 'agentID': 0}, {'rank': 2, 'agentID': 1}],\n",
       "  'replayFile': 'replays/540148086.json'})"
      ]
     },
     "execution_count": 118,
     "metadata": {},
     "output_type": "execute_result"
    }
   ],
   "source": [
    "compare_flags({\"model_path\": \"models/v1.cbm\",  \"use_policy\": True}, {}, n_games=10)"
   ]
  },
  {
   "cell_type": "code",
   "execution_count": 132,
   "metadata": {},
   "outputs": [
    {
     "name": "stderr",
     "output_type": "stream",
     "text": [
      "100%|██████████| 10/10 [00:09<00:00,  1.10it/s]\n"
     ]
    },
    {
     "data": {
      "text/plain": [
       "((0.0, -3.162277660168379, 0.001565402258002548),\n",
       " {'ranks': [{'rank': 1, 'agentID': 1}, {'rank': 2, 'agentID': 0}],\n",
       "  'replayFile': 'replays/244177221.json'})"
      ]
     },
     "execution_count": 132,
     "metadata": {},
     "output_type": "execute_result"
    }
   ],
   "source": [
    "compare_flags({\"model_path\": \"models/v2.cbm\",  \"use_policy\": True}, {}, n_games=10)"
   ]
  },
  {
   "cell_type": "code",
   "execution_count": 119,
   "metadata": {},
   "outputs": [
    {
     "name": "stderr",
     "output_type": "stream",
     "text": [
      "100%|██████████| 10/10 [00:04<00:00,  2.24it/s]\n"
     ]
    },
    {
     "data": {
      "text/plain": [
       "((0.1, -2.5298221281347035, 0.011412036386001651),\n",
       " {'ranks': [{'rank': 1, 'agentID': 1}, {'rank': 2, 'agentID': 0}],\n",
       "  'replayFile': 'replays/592808267.json'})"
      ]
     },
     "execution_count": 119,
     "metadata": {},
     "output_type": "execute_result"
    }
   ],
   "source": [
    "compare_flags({\"model_path\": \"models/v1.cbm\",  \"use_policy\": True}, {}, n_games=10, seed=1000)"
   ]
  },
  {
   "cell_type": "code",
   "execution_count": 133,
   "metadata": {},
   "outputs": [
    {
     "name": "stderr",
     "output_type": "stream",
     "text": [
      "100%|██████████| 10/10 [00:03<00:00,  2.51it/s]\n"
     ]
    },
    {
     "data": {
      "text/plain": [
       "((0.1, -2.5298221281347035, 0.011412036386001651),\n",
       " {'ranks': [{'rank': 1, 'agentID': 1}, {'rank': 2, 'agentID': 0}],\n",
       "  'replayFile': 'replays/11473317.json'})"
      ]
     },
     "execution_count": 133,
     "metadata": {},
     "output_type": "execute_result"
    }
   ],
   "source": [
    "compare_flags({\"model_path\": \"models/v2.cbm\",  \"use_policy\": True}, {}, n_games=10, seed=1000)"
   ]
  },
  {
   "cell_type": "code",
   "execution_count": 174,
   "metadata": {},
   "outputs": [
    {
     "name": "stderr",
     "output_type": "stream",
     "text": [
      "100%|██████████| 10/10 [00:05<00:00,  1.71it/s]\n"
     ]
    },
    {
     "data": {
      "text/plain": [
       "((0.2, -1.8973665961010275, 0.057779571123597245),\n",
       " {'ranks': [{'rank': 1, 'agentID': 1}, {'rank': 2, 'agentID': 0}],\n",
       "  'replayFile': 'replays/116046383.json'})"
      ]
     },
     "execution_count": 174,
     "metadata": {},
     "output_type": "execute_result"
    }
   ],
   "source": [
    "compare_flags({\"model_path\": \"models/v4.cbm\",  \"use_policy\": True}, {}, n_games=10, seed=1000)"
   ]
  },
  {
   "cell_type": "code",
   "execution_count": 173,
   "metadata": {},
   "outputs": [
    {
     "name": "stderr",
     "output_type": "stream",
     "text": [
      "100%|██████████| 10/10 [00:06<00:00,  1.49it/s]\n"
     ]
    },
    {
     "data": {
      "text/plain": [
       "((0.3, -1.2649110640673518, 0.2059032107320684),\n",
       " {'ranks': [{'rank': 1, 'agentID': 1}, {'rank': 2, 'agentID': 0}],\n",
       "  'replayFile': 'replays/352805774.json'})"
      ]
     },
     "execution_count": 173,
     "metadata": {},
     "output_type": "execute_result"
    }
   ],
   "source": [
    "compare_flags({\"model_path\": \"models/v4.cbm\",  \"use_policy\": True}, {}, n_games=10)"
   ]
  },
  {
   "cell_type": "code",
   "execution_count": 218,
   "metadata": {},
   "outputs": [
    {
     "name": "stderr",
     "output_type": "stream",
     "text": [
      "100%|██████████| 40/40 [01:39<00:00,  2.49s/it]\n"
     ]
    },
    {
     "data": {
      "text/plain": [
       "((0.0625, -5.533985905294664, 3.13034139901677e-08),\n",
       " {'ranks': [{'rank': 1, 'agentID': 1}, {'rank': 2, 'agentID': 0}],\n",
       "  'replayFile': 'replays/762639817.json'})"
      ]
     },
     "execution_count": 218,
     "metadata": {},
     "output_type": "execute_result"
    }
   ],
   "source": [
    "compare_flags({\"model_path\": \"models/v4.cbm\",  \"use_policy\": True}, {}, n_games=40)"
   ]
  },
  {
   "cell_type": "code",
   "execution_count": 219,
   "metadata": {},
   "outputs": [
    {
     "name": "stderr",
     "output_type": "stream",
     "text": [
      "100%|██████████| 40/40 [01:20<00:00,  2.01s/it]\n"
     ]
    },
    {
     "data": {
      "text/plain": [
       "((0.075, -5.375872022286244, 7.621291296382992e-08),\n",
       " {'ranks': [{'rank': 1, 'agentID': 1}, {'rank': 2, 'agentID': 0}],\n",
       "  'replayFile': 'replays/471864564.json'})"
      ]
     },
     "execution_count": 219,
     "metadata": {},
     "output_type": "execute_result"
    }
   ],
   "source": [
    "compare_flags({\"model_path\": \"models/v5.cbm\",  \"use_policy\": True}, {}, n_games=40)"
   ]
  },
  {
   "cell_type": "code",
   "execution_count": 220,
   "metadata": {},
   "outputs": [
    {
     "name": "stderr",
     "output_type": "stream",
     "text": [
      "100%|██████████| 40/40 [01:29<00:00,  2.23s/it]\n"
     ]
    },
    {
     "data": {
      "text/plain": [
       "((0.075, -5.375872022286244, 7.621291296382992e-08),\n",
       " {'ranks': [{'rank': 1, 'agentID': 1}, {'rank': 2, 'agentID': 0}],\n",
       "  'replayFile': 'replays/800913199.json'})"
      ]
     },
     "execution_count": 220,
     "metadata": {},
     "output_type": "execute_result"
    }
   ],
   "source": [
    "compare_flags({\"model_path\": \"models/v5.cbm\",  \"use_policy\": True, \"use_old_units_cargo_rules\": False}, {}, n_games=40)"
   ]
  },
  {
   "cell_type": "code",
   "execution_count": 201,
   "metadata": {},
   "outputs": [
    {
     "name": "stderr",
     "output_type": "stream",
     "text": [
      "100%|██████████| 10/10 [00:07<00:00,  1.40it/s]\n"
     ]
    },
    {
     "data": {
      "text/plain": [
       "((0.1, -2.5298221281347035, 0.011412036386001651),\n",
       " {'ranks': [{'rank': 1, 'agentID': 1}, {'rank': 2, 'agentID': 0}],\n",
       "  'replayFile': 'replays/203538302.json'})"
      ]
     },
     "execution_count": 201,
     "metadata": {},
     "output_type": "execute_result"
    }
   ],
   "source": [
    "compare_flags(\"/Users/sergmiller/Downloads/submission-7/main.py\", {}, n_games=10)"
   ]
  },
  {
   "cell_type": "code",
   "execution_count": 199,
   "metadata": {},
   "outputs": [
    {
     "name": "stderr",
     "output_type": "stream",
     "text": [
      "100%|██████████| 10/10 [00:06<00:00,  1.49it/s]\n"
     ]
    },
    {
     "data": {
      "text/plain": [
       "((0.0, -3.162277660168379, 0.001565402258002548),\n",
       " {'ranks': [{'rank': 1, 'agentID': 1}, {'rank': 2, 'agentID': 0}],\n",
       "  'replayFile': 'replays/685934250.json'})"
      ]
     },
     "execution_count": 199,
     "metadata": {},
     "output_type": "execute_result"
    }
   ],
   "source": [
    "compare_flags({\"model_path\": \"models/v4.cbm\",  \"use_policy\": True, \"use_old_units_cargo_rules\": False}, {}, n_games=10)"
   ]
  },
  {
   "cell_type": "code",
   "execution_count": 197,
   "metadata": {},
   "outputs": [
    {
     "name": "stderr",
     "output_type": "stream",
     "text": [
      "100%|██████████| 10/10 [00:04<00:00,  2.01it/s]\n"
     ]
    },
    {
     "data": {
      "text/plain": [
       "((0.1, -2.5298221281347035, 0.011412036386001651),\n",
       " {'ranks': [{'rank': 1, 'agentID': 1}, {'rank': 2, 'agentID': 0}],\n",
       "  'replayFile': 'replays/358311209.json'})"
      ]
     },
     "execution_count": 197,
     "metadata": {},
     "output_type": "execute_result"
    }
   ],
   "source": [
    "compare_flags({\"model_path\": \"models/v5.cbm\",  \"use_policy\": True, \"use_old_units_cargo_rules\": False}, {}, n_games=10, seed=1000)"
   ]
  },
  {
   "cell_type": "code",
   "execution_count": 31,
   "metadata": {},
   "outputs": [
    {
     "name": "stderr",
     "output_type": "stream",
     "text": [
      "100%|██████████| 10/10 [00:05<00:00,  1.79it/s]\n"
     ]
    },
    {
     "data": {
      "text/plain": [
       "((0.4, -0.6324555320336759, 0.5270892568655381),\n",
       " {'ranks': [{'rank': 1, 'agentID': 0}, {'rank': 1, 'agentID': 1}],\n",
       "  'replayFile': 'replays/416519288.json'})"
      ]
     },
     "execution_count": 31,
     "metadata": {},
     "output_type": "execute_result"
    }
   ],
   "source": [
    "compare_flags({\"model_path\": \"models/v6.cbm\",  \"use_policy\": True}, {}, n_games=10)"
   ]
  },
  {
   "cell_type": "code",
   "execution_count": 32,
   "metadata": {},
   "outputs": [
    {
     "name": "stderr",
     "output_type": "stream",
     "text": [
      "100%|██████████| 10/10 [00:04<00:00,  2.12it/s]\n"
     ]
    },
    {
     "data": {
      "text/plain": [
       "((0.2, -1.8973665961010275, 0.057779571123597245),\n",
       " {'ranks': [{'rank': 1, 'agentID': 0}, {'rank': 1, 'agentID': 1}],\n",
       "  'replayFile': 'replays/264223040.json'})"
      ]
     },
     "execution_count": 32,
     "metadata": {},
     "output_type": "execute_result"
    }
   ],
   "source": [
    "compare_flags({\"model_path\": \"models/v6.cbm\",  \"use_policy\": True, \"use_old_units_cargo_rules\": False}, {}, n_games=10, seed=1000)"
   ]
  },
  {
   "cell_type": "code",
   "execution_count": 198,
   "metadata": {},
   "outputs": [
    {
     "name": "stderr",
     "output_type": "stream",
     "text": [
      "100%|██████████| 10/10 [00:06<00:00,  1.59it/s]\n"
     ]
    },
    {
     "data": {
      "text/plain": [
       "((0.1, -2.5298221281347035, 0.011412036386001651),\n",
       " {'ranks': [{'rank': 1, 'agentID': 1}, {'rank': 2, 'agentID': 0}],\n",
       "  'replayFile': 'replays/960509757.json'})"
      ]
     },
     "execution_count": 198,
     "metadata": {},
     "output_type": "execute_result"
    }
   ],
   "source": [
    "compare_flags({\"model_path\": \"models/v5.cbm\",  \"use_policy\": True}, {}, n_games=10)"
   ]
  },
  {
   "cell_type": "code",
   "execution_count": 200,
   "metadata": {},
   "outputs": [
    {
     "name": "stderr",
     "output_type": "stream",
     "text": [
      "100%|██████████| 10/10 [00:05<00:00,  1.87it/s]\n"
     ]
    },
    {
     "data": {
      "text/plain": [
       "((0.1, -2.5298221281347035, 0.011412036386001651),\n",
       " {'ranks': [{'rank': 1, 'agentID': 1}, {'rank': 2, 'agentID': 0}],\n",
       "  'replayFile': 'replays/458023925.json'})"
      ]
     },
     "execution_count": 200,
     "metadata": {},
     "output_type": "execute_result"
    }
   ],
   "source": [
    "compare_flags({\"model_path\": \"models/v5.cbm\",  \"use_policy\": True}, {}, n_games=10, seed=1000)"
   ]
  },
  {
   "cell_type": "code",
   "execution_count": 258,
   "metadata": {},
   "outputs": [
    {
     "name": "stderr",
     "output_type": "stream",
     "text": [
      "100%|██████████| 10/10 [00:06<00:00,  1.47it/s]\n"
     ]
    },
    {
     "data": {
      "text/plain": [
       "((0.45, -0.31622776601683794, 0.7518296340458492),\n",
       " {'ranks': [{'rank': 1, 'agentID': 0}, {'rank': 1, 'agentID': 1}],\n",
       "  'replayFile': 'replays/734290048.json'})"
      ]
     },
     "execution_count": 258,
     "metadata": {},
     "output_type": "execute_result"
    }
   ],
   "source": [
    "compare_flags({\"model_path\": \"models/policy_v1\",  \"use_policy\": True, \"is_neural\": True, \"ohe_path\": \"models/ohe_v1\", \"use_old_units_cargo_rules\": False},\n",
    "              {}, n_games=10, seed=1000)"
   ]
  },
  {
   "cell_type": "code",
   "execution_count": 245,
   "metadata": {},
   "outputs": [],
   "source": [
    "x = np.array([\"1\", \"False\", None])"
   ]
  },
  {
   "cell_type": "code",
   "execution_count": 246,
   "metadata": {},
   "outputs": [],
   "source": [
    "x[x == 'False'] = False"
   ]
  },
  {
   "cell_type": "code",
   "execution_count": 247,
   "metadata": {},
   "outputs": [
    {
     "data": {
      "text/plain": [
       "array(['1', False, None], dtype=object)"
      ]
     },
     "execution_count": 247,
     "metadata": {},
     "output_type": "execute_result"
    }
   ],
   "source": [
    "x"
   ]
  },
  {
   "cell_type": "code",
   "execution_count": 260,
   "metadata": {
    "scrolled": true
   },
   "outputs": [
    {
     "name": "stdout",
     "output_type": "stream",
     "text": [
      "\n",
      "-=-=-=-=-=-=-=-=-=-=-=-| \u001b[34m[INFO]\u001b[39m \u001b[1m\u001b[32mmatch_cJCDCjousHxc\u001b[39m\u001b[22m |-=-=-=-=-=-=-=-=-=-=-=-\n",
      "\n",
      "\u001b[34m[INFO]\u001b[39m (match_cJCDCjousHxc) - Design: lux_ai_2021 | Initializing match - ID: cJCDCjousHxc, Name: match_cJCDCjousHxc\n",
      "\u001b[33m[WARN]\u001b[39m (match_cJCDCjousHxc) - turn 16; Unit u_3 collided when trying to move e to (23, 29)\n",
      "\u001b[33m[WARN]\u001b[39m (match_cJCDCjousHxc) - turn 16; Unit u_4 collided when trying to move s to (22, 29)\n",
      "\u001b[33m[WARN]\u001b[39m (match_cJCDCjousHxc) - turn 29; Unit u_4 collided when trying to move w to (20, 31)\n",
      "\u001b[33m[WARN]\u001b[39m (match_cJCDCjousHxc) - turn 29; Unit u_6 collided when trying to move n to (22, 29)\n",
      "\u001b[33m[WARN]\u001b[39m (match_cJCDCjousHxc) - turn 44; Unit u_3 collided when trying to move e to (22, 31)\n",
      "\u001b[33m[WARN]\u001b[39m (match_cJCDCjousHxc) - turn 44; Unit u_4 collided when trying to move e to (21, 31)\n",
      "\u001b[33m[WARN]\u001b[39m (match_cJCDCjousHxc) - turn 45; Unit u_3 collided when trying to move e to (22, 31)\n",
      "\u001b[33m[WARN]\u001b[39m (match_cJCDCjousHxc) - turn 45; Unit u_4 collided when trying to move e to (21, 31)\n",
      "\u001b[33m[WARN]\u001b[39m (match_cJCDCjousHxc) - Agent 0 tried to move unit u_1 off map; turn 48; cmd: m u_1 w\n",
      "\u001b[33m[WARN]\u001b[39m (match_cJCDCjousHxc) - Agent 0 tried to move unit u_1 off map; turn 49; cmd: m u_1 w\n",
      "\u001b[33m[WARN]\u001b[39m (match_cJCDCjousHxc) - Agent 0 tried to move unit u_1 off map; turn 50; cmd: m u_1 w\n",
      "\u001b[33m[WARN]\u001b[39m (match_cJCDCjousHxc) - Agent 0 tried to move unit u_1 off map; turn 51; cmd: m u_1 w\n",
      "\u001b[33m[WARN]\u001b[39m (match_cJCDCjousHxc) - Agent 0 tried to move unit u_1 off map; turn 52; cmd: m u_1 w\n",
      "\u001b[33m[WARN]\u001b[39m (match_cJCDCjousHxc) - Agent 0 tried to move unit u_1 off map; turn 53; cmd: m u_1 w\n",
      "\u001b[33m[WARN]\u001b[39m (match_cJCDCjousHxc) - turn 53; Unit u_9 collided when trying to move s to (22, 27)\n",
      "\u001b[33m[WARN]\u001b[39m (match_cJCDCjousHxc) - Agent 0 tried to move unit u_1 off map; turn 54; cmd: m u_1 w\n",
      "\u001b[33m[WARN]\u001b[39m (match_cJCDCjousHxc) - Agent 0 tried to move unit u_1 off map; turn 55; cmd: m u_1 w\n",
      "\u001b[33m[WARN]\u001b[39m (match_cJCDCjousHxc) - Agent 0 tried to move unit u_1 off map; turn 56; cmd: m u_1 w\n",
      "\u001b[33m[WARN]\u001b[39m (match_cJCDCjousHxc) - Agent 0 tried to move unit u_1 off map; turn 57; cmd: m u_1 w\n",
      "\u001b[33m[WARN]\u001b[39m (match_cJCDCjousHxc) - Agent 0 tried to move unit u_1 off map; turn 58; cmd: m u_1 w\n",
      "\u001b[33m[WARN]\u001b[39m (match_cJCDCjousHxc) - Agent 0 tried to move unit u_1 off map; turn 59; cmd: m u_1 w\n",
      "\u001b[33m[WARN]\u001b[39m (match_cJCDCjousHxc) - Agent 0 tried to move unit u_1 off map; turn 60; cmd: m u_1 w\n",
      "\u001b[33m[WARN]\u001b[39m (match_cJCDCjousHxc) - Agent 0 tried to move unit u_1 off map; turn 61; cmd: m u_1 w\n",
      "\u001b[33m[WARN]\u001b[39m (match_cJCDCjousHxc) - Agent 0 tried to move unit u_1 off map; turn 62; cmd: m u_1 w\n",
      "\u001b[33m[WARN]\u001b[39m (match_cJCDCjousHxc) - Agent 0 tried to move unit u_1 off map; turn 63; cmd: m u_1 w\n",
      "\u001b[33m[WARN]\u001b[39m (match_cJCDCjousHxc) - Agent 0 tried to move unit u_1 off map; turn 64; cmd: m u_1 w\n",
      "\u001b[33m[WARN]\u001b[39m (match_cJCDCjousHxc) - Agent 0 tried to move unit u_1 off map; turn 65; cmd: m u_1 w\n",
      "\u001b[33m[WARN]\u001b[39m (match_cJCDCjousHxc) - Agent 0 tried to move unit u_1 off map; turn 66; cmd: m u_1 w\n",
      "\u001b[33m[WARN]\u001b[39m (match_cJCDCjousHxc) - Agent 0 tried to move unit u_1 off map; turn 67; cmd: m u_1 w\n",
      "\u001b[33m[WARN]\u001b[39m (match_cJCDCjousHxc) - Agent 0 tried to move unit u_1 off map; turn 68; cmd: m u_1 w\n",
      "\u001b[33m[WARN]\u001b[39m (match_cJCDCjousHxc) - Agent 0 tried to move unit u_1 off map; turn 69; cmd: m u_1 w\n",
      "\u001b[33m[WARN]\u001b[39m (match_cJCDCjousHxc) - Agent 0 tried to move unit u_1 off map; turn 70; cmd: m u_1 w\n",
      "\u001b[33m[WARN]\u001b[39m (match_cJCDCjousHxc) - Agent 0 tried to move unit u_1 off map; turn 71; cmd: m u_1 w\n",
      "\u001b[33m[WARN]\u001b[39m (match_cJCDCjousHxc) - Agent 0 tried to move unit u_1 off map; turn 72; cmd: m u_1 w\n",
      "\u001b[33m[WARN]\u001b[39m (match_cJCDCjousHxc) - Agent 0 tried to move unit u_1 off map; turn 73; cmd: m u_1 w\n",
      "\u001b[33m[WARN]\u001b[39m (match_cJCDCjousHxc) - Agent 0 tried to move unit u_1 off map; turn 74; cmd: m u_1 w\n",
      "\u001b[33m[WARN]\u001b[39m (match_cJCDCjousHxc) - Agent 0 tried to move unit u_1 off map; turn 75; cmd: m u_1 w\n",
      "\u001b[33m[WARN]\u001b[39m (match_cJCDCjousHxc) - Agent 0 tried to move unit u_1 off map; turn 76; cmd: m u_1 w\n",
      "\u001b[33m[WARN]\u001b[39m (match_cJCDCjousHxc) - Agent 0 tried to move unit u_1 off map; turn 77; cmd: m u_1 w\n",
      "\u001b[33m[WARN]\u001b[39m (match_cJCDCjousHxc) - Agent 0 tried to move unit u_1 off map; turn 78; cmd: m u_1 w\n",
      "\u001b[33m[WARN]\u001b[39m (match_cJCDCjousHxc) - Agent 0 tried to move unit u_1 off map; turn 79; cmd: m u_1 w\n",
      "\u001b[33m[WARN]\u001b[39m (match_cJCDCjousHxc) - Agent 0 tried to move unit u_1 off map; turn 80; cmd: m u_1 w\n",
      "\u001b[33m[WARN]\u001b[39m (match_cJCDCjousHxc) - Agent 0 tried to move unit u_1 off map; turn 81; cmd: m u_1 w\n",
      "\u001b[33m[WARN]\u001b[39m (match_cJCDCjousHxc) - Agent 0 tried to move unit u_1 off map; turn 82; cmd: m u_1 w\n",
      "\u001b[33m[WARN]\u001b[39m (match_cJCDCjousHxc) - Agent 0 tried to move unit u_1 off map; turn 83; cmd: m u_1 w\n",
      "\u001b[33m[WARN]\u001b[39m (match_cJCDCjousHxc) - Agent 0 tried to move unit u_1 off map; turn 84; cmd: m u_1 w\n",
      "\u001b[33m[WARN]\u001b[39m (match_cJCDCjousHxc) - Agent 0 tried to move unit u_1 off map; turn 85; cmd: m u_1 w\n",
      "\u001b[33m[WARN]\u001b[39m (match_cJCDCjousHxc) - Agent 0 tried to move unit u_1 off map; turn 86; cmd: m u_1 w\n",
      "\u001b[33m[WARN]\u001b[39m (match_cJCDCjousHxc) - Agent 0 tried to move unit u_1 off map; turn 87; cmd: m u_1 w\n",
      "\u001b[33m[WARN]\u001b[39m (match_cJCDCjousHxc) - Agent 0 tried to move unit u_1 off map; turn 88; cmd: m u_1 w\n",
      "\u001b[33m[WARN]\u001b[39m (match_cJCDCjousHxc) - Agent 0 tried to move unit u_1 off map; turn 89; cmd: m u_1 w\n",
      "\u001b[33m[WARN]\u001b[39m (match_cJCDCjousHxc) - Agent 0 tried to move unit u_1 off map; turn 90; cmd: m u_1 w\n",
      "\u001b[33m[WARN]\u001b[39m (match_cJCDCjousHxc) - Agent 0 tried to move unit u_1 off map; turn 91; cmd: m u_1 w\n",
      "\u001b[33m[WARN]\u001b[39m (match_cJCDCjousHxc) - Agent 0 tried to move unit u_1 off map; turn 92; cmd: m u_1 w\n",
      "\u001b[33m[WARN]\u001b[39m (match_cJCDCjousHxc) - turn 92; Unit u_10 collided when trying to move s to (28, 27)\n",
      "\u001b[33m[WARN]\u001b[39m (match_cJCDCjousHxc) - turn 92; Unit u_12 collided when trying to move e to (28, 26)\n",
      "\u001b[33m[WARN]\u001b[39m (match_cJCDCjousHxc) - Agent 0 tried to move unit u_1 off map; turn 93; cmd: m u_1 w\n",
      "\u001b[33m[WARN]\u001b[39m (match_cJCDCjousHxc) - Agent 0 tried to move unit u_1 off map; turn 94; cmd: m u_1 w\n",
      "\u001b[33m[WARN]\u001b[39m (match_cJCDCjousHxc) - Agent 0 tried to move unit u_1 off map; turn 95; cmd: m u_1 w\n",
      "\u001b[33m[WARN]\u001b[39m (match_cJCDCjousHxc) - turn 95; Unit u_10 collided when trying to move n to (28, 24)\n",
      "\u001b[33m[WARN]\u001b[39m (match_cJCDCjousHxc) - turn 95; Unit u_12 collided when trying to move n to (28, 25)\n",
      "\u001b[33m[WARN]\u001b[39m (match_cJCDCjousHxc) - Agent 0 tried to move unit u_1 off map; turn 96; cmd: m u_1 w\n",
      "\u001b[33m[WARN]\u001b[39m (match_cJCDCjousHxc) - Agent 0 tried to move unit u_1 off map; turn 97; cmd: m u_1 w\n",
      "\u001b[33m[WARN]\u001b[39m (match_cJCDCjousHxc) - Agent 0 tried to move unit u_1 off map; turn 98; cmd: m u_1 w\n",
      "\u001b[33m[WARN]\u001b[39m (match_cJCDCjousHxc) - turn 98; Unit u_12 collided when trying to move w to (27, 25)\n",
      "\u001b[33m[WARN]\u001b[39m (match_cJCDCjousHxc) - Agent 0 tried to move unit u_1 off map; turn 99; cmd: m u_1 w\n",
      "\u001b[33m[WARN]\u001b[39m (match_cJCDCjousHxc) - Agent 0 tried to move unit u_1 off map; turn 100; cmd: m u_1 w\n",
      "\u001b[33m[WARN]\u001b[39m (match_cJCDCjousHxc) - Agent 0 tried to move unit u_1 off map; turn 101; cmd: m u_1 w\n",
      "\u001b[33m[WARN]\u001b[39m (match_cJCDCjousHxc) - Agent 0 tried to move unit u_1 off map; turn 102; cmd: m u_1 w\n",
      "\u001b[33m[WARN]\u001b[39m (match_cJCDCjousHxc) - Agent 0 tried to move unit u_1 off map; turn 103; cmd: m u_1 w\n",
      "\u001b[33m[WARN]\u001b[39m (match_cJCDCjousHxc) - turn 103; Unit u_2 collided when trying to move n to (29, 24)\n",
      "\u001b[33m[WARN]\u001b[39m (match_cJCDCjousHxc) - turn 103; Unit u_6 collided when trying to move e to (29, 25)\n",
      "\u001b[33m[WARN]\u001b[39m (match_cJCDCjousHxc) - turn 103; Unit u_10 collided when trying to move e to (28, 25)\n",
      "\u001b[33m[WARN]\u001b[39m (match_cJCDCjousHxc) - Agent 0 tried to move unit u_1 off map; turn 104; cmd: m u_1 w\n",
      "\u001b[33m[WARN]\u001b[39m (match_cJCDCjousHxc) - Agent 0 tried to move unit u_1 off map; turn 105; cmd: m u_1 w\n",
      "\u001b[33m[WARN]\u001b[39m (match_cJCDCjousHxc) - turn 105; Unit u_22 collided when trying to move s to (16, 29)\n",
      "\u001b[33m[WARN]\u001b[39m (match_cJCDCjousHxc) - Agent 0 tried to move unit u_1 off map; turn 106; cmd: m u_1 w\n",
      "\u001b[33m[WARN]\u001b[39m (match_cJCDCjousHxc) - turn 106; Unit u_12 collided when trying to move e to (30, 25)\n",
      "\u001b[33m[WARN]\u001b[39m (match_cJCDCjousHxc) - turn 106; Unit u_10 collided when trying to move e to (29, 25)\n",
      "\u001b[33m[WARN]\u001b[39m (match_cJCDCjousHxc) - turn 106; Unit u_6 collided when trying to move n to (28, 25)\n",
      "\u001b[33m[WARN]\u001b[39m (match_cJCDCjousHxc) - Agent 0 tried to move unit u_1 off map; turn 107; cmd: m u_1 w\n",
      "\u001b[33m[WARN]\u001b[39m (match_cJCDCjousHxc) - turn 107; Unit u_6 collided when trying to move e to (29, 26)\n",
      "\u001b[33m[WARN]\u001b[39m (match_cJCDCjousHxc) - turn 107; Unit u_12 collided when trying to move s to (29, 26)\n",
      "\u001b[33m[WARN]\u001b[39m (match_cJCDCjousHxc) - turn 107; Unit u_10 collided when trying to move e to (29, 25)\n",
      "\u001b[33m[WARN]\u001b[39m (match_cJCDCjousHxc) - turn 107; Unit u_24 collided when trying to move s to (28, 25)\n",
      "\u001b[33m[WARN]\u001b[39m (match_cJCDCjousHxc) - Agent 0 tried to move unit u_1 off map; turn 108; cmd: m u_1 w\n",
      "\u001b[33m[WARN]\u001b[39m (match_cJCDCjousHxc) - Agent 0 tried to move unit u_1 off map; turn 109; cmd: m u_1 w\n",
      "\u001b[33m[WARN]\u001b[39m (match_cJCDCjousHxc) - Agent 0 tried to move unit u_1 off map; turn 110; cmd: m u_1 w\n",
      "\u001b[33m[WARN]\u001b[39m (match_cJCDCjousHxc) - Agent 0 tried to move unit u_1 off map; turn 111; cmd: m u_1 w\n",
      "\u001b[33m[WARN]\u001b[39m (match_cJCDCjousHxc) - Agent 0 tried to move unit u_1 off map; turn 112; cmd: m u_1 w\n",
      "\u001b[33m[WARN]\u001b[39m (match_cJCDCjousHxc) - Agent 0 tried to move unit u_1 off map; turn 113; cmd: m u_1 w\n",
      "\u001b[33m[WARN]\u001b[39m (match_cJCDCjousHxc) - Agent 0 tried to move unit u_1 off map; turn 114; cmd: m u_1 w\n",
      "\u001b[33m[WARN]\u001b[39m (match_cJCDCjousHxc) - Agent 0 tried to move unit u_1 off map; turn 115; cmd: m u_1 w\n",
      "{\n",
      "  ranks: [\n",
      "    {\n",
      "      rank: 1,\n",
      "      agentID: 1,\n",
      "      name: '../submissions/simple/main_550318061354680202.py'\n",
      "    },\n",
      "    {\n",
      "      rank: 2,\n",
      "      agentID: 0,\n",
      "      name: '../submissions/simple/main_448592590627219544.py'\n",
      "    }\n",
      "  ],\n",
      "  replayFile: 'replays/286015765.json',\n",
      "  seed: 1000\n",
      "}\n",
      "\n"
     ]
    },
    {
     "data": {
      "text/plain": [
       "({'seed': 1000,\n",
       "  'allCommands': [[{'command': 'm u_1 w', 'agentID': 0},\n",
       "    {'command': 'r 21 1', 'agentID': 0},\n",
       "    {'command': 'm u_2 e', 'agentID': 1},\n",
       "    {'command': 'r 21 30', 'agentID': 1}],\n",
       "   [],\n",
       "   [{'command': 'm u_1 w', 'agentID': 0},\n",
       "    {'command': 'm u_2 e', 'agentID': 1}],\n",
       "   [],\n",
       "   [{'command': 'm u_1 w', 'agentID': 0},\n",
       "    {'command': 'bcity u_2', 'agentID': 1}],\n",
       "   [{'command': 'm u_2 w', 'agentID': 1},\n",
       "    {'command': 'bw 23 30', 'agentID': 1}],\n",
       "   [{'command': 'm u_1 w', 'agentID': 0}, {'command': 'p u_3', 'agentID': 1}],\n",
       "   [{'command': 'm u_2 n', 'agentID': 1},\n",
       "    {'command': 'm u_3 w', 'agentID': 1}],\n",
       "   [{'command': 'm u_1 w', 'agentID': 0}],\n",
       "   [{'command': 'm u_2 n', 'agentID': 1},\n",
       "    {'command': 'm u_3 n', 'agentID': 1}],\n",
       "   [{'command': 'm u_1 w', 'agentID': 0},\n",
       "    {'command': 'r 21 1', 'agentID': 0},\n",
       "    {'command': 'r 21 30', 'agentID': 1}],\n",
       "   [{'command': 'bcity u_2', 'agentID': 1},\n",
       "    {'command': 'm u_3 w', 'agentID': 1}],\n",
       "   [{'command': 'm u_1 w', 'agentID': 0},\n",
       "    {'command': 'm u_2 s', 'agentID': 1},\n",
       "    {'command': 'bw 22 28', 'agentID': 1}],\n",
       "   [{'command': 'bcity u_3', 'agentID': 1},\n",
       "    {'command': 'p u_4', 'agentID': 1}],\n",
       "   [{'command': 'm u_1 w', 'agentID': 0},\n",
       "    {'command': 'm u_2 e', 'agentID': 1},\n",
       "    {'command': 'm u_3 e', 'agentID': 1},\n",
       "    {'command': 'p u_4', 'agentID': 1},\n",
       "    {'command': 'bw 21 29', 'agentID': 1}],\n",
       "   [{'command': 'p u_4', 'agentID': 1},\n",
       "    {'command': 'p u_5', 'agentID': 1},\n",
       "    {'command': 'r 23 30', 'agentID': 1}],\n",
       "   [{'command': 'm u_1 w', 'agentID': 0},\n",
       "    {'command': 'bcity u_2', 'agentID': 1},\n",
       "    {'command': 'm u_3 e', 'agentID': 1},\n",
       "    {'command': 'm u_4 s', 'agentID': 1},\n",
       "    {'command': 'p u_5', 'agentID': 1}],\n",
       "   [{'command': 'p u_2', 'agentID': 1},\n",
       "    {'command': 'm u_3 s', 'agentID': 1},\n",
       "    {'command': 'm u_4 s', 'agentID': 1},\n",
       "    {'command': 'p u_5', 'agentID': 1},\n",
       "    {'command': 'bw 23 29', 'agentID': 1}],\n",
       "   [{'command': 'm u_1 w', 'agentID': 0},\n",
       "    {'command': 'p u_2', 'agentID': 1},\n",
       "    {'command': 'p u_5', 'agentID': 1},\n",
       "    {'command': 'p u_6', 'agentID': 1}],\n",
       "   [{'command': 'p u_2', 'agentID': 1},\n",
       "    {'command': 'm u_3 n', 'agentID': 1},\n",
       "    {'command': 'm u_4 s', 'agentID': 1},\n",
       "    {'command': 'p u_5', 'agentID': 1},\n",
       "    {'command': 'p u_6', 'agentID': 1}],\n",
       "   [{'command': 'm u_1 w', 'agentID': 0},\n",
       "    {'command': 'r 21 1', 'agentID': 0},\n",
       "    {'command': 'p u_2', 'agentID': 1},\n",
       "    {'command': 'p u_5', 'agentID': 1},\n",
       "    {'command': 'p u_6', 'agentID': 1},\n",
       "    {'command': 'r 21 30', 'agentID': 1}],\n",
       "   [{'command': 'p u_2', 'agentID': 1},\n",
       "    {'command': 'm u_3 s', 'agentID': 1},\n",
       "    {'command': 'm u_4 n', 'agentID': 1},\n",
       "    {'command': 'p u_5', 'agentID': 1},\n",
       "    {'command': 'p u_6', 'agentID': 1}],\n",
       "   [{'command': 'm u_1 w', 'agentID': 0},\n",
       "    {'command': 'p u_2', 'agentID': 1},\n",
       "    {'command': 'p u_5', 'agentID': 1},\n",
       "    {'command': 'p u_6', 'agentID': 1},\n",
       "    {'command': 'r 22 28', 'agentID': 1}],\n",
       "   [{'command': 'p u_2', 'agentID': 1},\n",
       "    {'command': 'm u_3 s', 'agentID': 1},\n",
       "    {'command': 'm u_4 s', 'agentID': 1},\n",
       "    {'command': 'm u_5 e', 'agentID': 1},\n",
       "    {'command': 'p u_6', 'agentID': 1}],\n",
       "   [{'command': 'm u_1 w', 'agentID': 0},\n",
       "    {'command': 'p u_2', 'agentID': 1},\n",
       "    {'command': 'p u_6', 'agentID': 1},\n",
       "    {'command': 'r 21 29', 'agentID': 1}],\n",
       "   [{'command': 'p u_2', 'agentID': 1},\n",
       "    {'command': 'm u_3 w', 'agentID': 1},\n",
       "    {'command': 'm u_4 s', 'agentID': 1},\n",
       "    {'command': 'm u_5 s', 'agentID': 1},\n",
       "    {'command': 'm u_6 w', 'agentID': 1},\n",
       "    {'command': 'r 23 30', 'agentID': 1}],\n",
       "   [{'command': 'm u_1 w', 'agentID': 0},\n",
       "    {'command': 'm u_2 s', 'agentID': 1}],\n",
       "   [{'command': 'p u_2', 'agentID': 1},\n",
       "    {'command': 'm u_3 w', 'agentID': 1},\n",
       "    {'command': 'm u_4 w', 'agentID': 1},\n",
       "    {'command': 'm u_5 n', 'agentID': 1},\n",
       "    {'command': 'm u_6 s', 'agentID': 1},\n",
       "    {'command': 'r 23 29', 'agentID': 1}],\n",
       "   [{'command': 'm u_1 w', 'agentID': 0}, {'command': 'p u_2', 'agentID': 1}],\n",
       "   [{'command': 'p u_2', 'agentID': 1},\n",
       "    {'command': 'bcity u_3', 'agentID': 1},\n",
       "    {'command': 'm u_4 w', 'agentID': 1},\n",
       "    {'command': 'bcity u_5', 'agentID': 1},\n",
       "    {'command': 'm u_6 n', 'agentID': 1}],\n",
       "   [{'command': 'm u_1 w', 'agentID': 0},\n",
       "    {'command': 'r 21 1', 'agentID': 0},\n",
       "    {'command': 'p u_2', 'agentID': 1},\n",
       "    {'command': 'p u_3', 'agentID': 1},\n",
       "    {'command': 'm u_4 w', 'agentID': 1},\n",
       "    {'command': 'p u_5', 'agentID': 1},\n",
       "    {'command': 'm u_6 e', 'agentID': 1},\n",
       "    {'command': 'bw 22 29', 'agentID': 1},\n",
       "    {'command': 'bw 21 30', 'agentID': 1},\n",
       "    {'command': 'r 20 31', 'agentID': 1}],\n",
       "   [{'command': 'p u_2', 'agentID': 1},\n",
       "    {'command': 'p u_3', 'agentID': 1},\n",
       "    {'command': 'p u_4', 'agentID': 1},\n",
       "    {'command': 'p u_5', 'agentID': 1},\n",
       "    {'command': 'p u_6', 'agentID': 1},\n",
       "    {'command': 'p u_7', 'agentID': 1},\n",
       "    {'command': 'p u_8', 'agentID': 1}],\n",
       "   [{'command': 'p u_2', 'agentID': 1},\n",
       "    {'command': 'p u_3', 'agentID': 1},\n",
       "    {'command': 'p u_4', 'agentID': 1},\n",
       "    {'command': 'p u_5', 'agentID': 1},\n",
       "    {'command': 'p u_6', 'agentID': 1},\n",
       "    {'command': 'p u_7', 'agentID': 1},\n",
       "    {'command': 'p u_8', 'agentID': 1},\n",
       "    {'command': 'r 22 28', 'agentID': 1}],\n",
       "   [{'command': 'p u_2', 'agentID': 1},\n",
       "    {'command': 'p u_3', 'agentID': 1},\n",
       "    {'command': 'p u_4', 'agentID': 1},\n",
       "    {'command': 'p u_5', 'agentID': 1},\n",
       "    {'command': 'p u_6', 'agentID': 1},\n",
       "    {'command': 'p u_7', 'agentID': 1},\n",
       "    {'command': 'p u_8', 'agentID': 1}],\n",
       "   [{'command': 'm u_1 w', 'agentID': 0},\n",
       "    {'command': 'p u_2', 'agentID': 1},\n",
       "    {'command': 'p u_3', 'agentID': 1},\n",
       "    {'command': 'p u_4', 'agentID': 1},\n",
       "    {'command': 'p u_5', 'agentID': 1},\n",
       "    {'command': 'p u_6', 'agentID': 1},\n",
       "    {'command': 'p u_7', 'agentID': 1},\n",
       "    {'command': 'p u_8', 'agentID': 1},\n",
       "    {'command': 'r 21 29', 'agentID': 1}],\n",
       "   [{'command': 'p u_2', 'agentID': 1},\n",
       "    {'command': 'p u_3', 'agentID': 1},\n",
       "    {'command': 'p u_4', 'agentID': 1},\n",
       "    {'command': 'p u_5', 'agentID': 1},\n",
       "    {'command': 'p u_6', 'agentID': 1},\n",
       "    {'command': 'p u_7', 'agentID': 1},\n",
       "    {'command': 'p u_8', 'agentID': 1},\n",
       "    {'command': 'r 23 30', 'agentID': 1}],\n",
       "   [{'command': 'p u_2', 'agentID': 1},\n",
       "    {'command': 'p u_3', 'agentID': 1},\n",
       "    {'command': 'p u_4', 'agentID': 1},\n",
       "    {'command': 'p u_5', 'agentID': 1},\n",
       "    {'command': 'p u_6', 'agentID': 1},\n",
       "    {'command': 'p u_7', 'agentID': 1},\n",
       "    {'command': 'p u_8', 'agentID': 1}],\n",
       "   [{'command': 'p u_2', 'agentID': 1},\n",
       "    {'command': 'p u_3', 'agentID': 1},\n",
       "    {'command': 'p u_4', 'agentID': 1},\n",
       "    {'command': 'p u_5', 'agentID': 1},\n",
       "    {'command': 'p u_6', 'agentID': 1},\n",
       "    {'command': 'p u_7', 'agentID': 1},\n",
       "    {'command': 'p u_8', 'agentID': 1},\n",
       "    {'command': 'r 23 29', 'agentID': 1}],\n",
       "   [{'command': 'm u_1 w', 'agentID': 0},\n",
       "    {'command': 'p u_2', 'agentID': 1},\n",
       "    {'command': 'p u_3', 'agentID': 1},\n",
       "    {'command': 'p u_4', 'agentID': 1},\n",
       "    {'command': 'p u_5', 'agentID': 1},\n",
       "    {'command': 'p u_6', 'agentID': 1},\n",
       "    {'command': 'p u_7', 'agentID': 1},\n",
       "    {'command': 'p u_8', 'agentID': 1}],\n",
       "   [{'command': 'p u_2', 'agentID': 1},\n",
       "    {'command': 'p u_3', 'agentID': 1},\n",
       "    {'command': 'p u_4', 'agentID': 1},\n",
       "    {'command': 'p u_5', 'agentID': 1},\n",
       "    {'command': 'p u_6', 'agentID': 1},\n",
       "    {'command': 'p u_7', 'agentID': 1},\n",
       "    {'command': 'p u_8', 'agentID': 1}],\n",
       "   [{'command': 'm u_2 s', 'agentID': 1},\n",
       "    {'command': 'm u_3 e', 'agentID': 1},\n",
       "    {'command': 'p u_4', 'agentID': 1},\n",
       "    {'command': 'm u_5 n', 'agentID': 1},\n",
       "    {'command': 'p u_6', 'agentID': 1},\n",
       "    {'command': 'm u_7 n', 'agentID': 1},\n",
       "    {'command': 'p u_8', 'agentID': 1},\n",
       "    {'command': 'r 22 29', 'agentID': 1},\n",
       "    {'command': 'r 21 30', 'agentID': 1},\n",
       "    {'command': 'r 20 31', 'agentID': 1}],\n",
       "   [{'command': 'p u_4', 'agentID': 1},\n",
       "    {'command': 'm u_5 n', 'agentID': 1},\n",
       "    {'command': 'p u_6', 'agentID': 1},\n",
       "    {'command': 'p u_7', 'agentID': 1},\n",
       "    {'command': 'p u_8', 'agentID': 1}],\n",
       "   [{'command': 'm u_1 w', 'agentID': 0},\n",
       "    {'command': 'm u_2 w', 'agentID': 1},\n",
       "    {'command': 'm u_3 c', 'agentID': 1},\n",
       "    {'command': 'p u_4', 'agentID': 1},\n",
       "    {'command': 'm u_6 s', 'agentID': 1},\n",
       "    {'command': 'p u_7', 'agentID': 1},\n",
       "    {'command': 'p u_8', 'agentID': 1},\n",
       "    {'command': 'r 22 28', 'agentID': 1}],\n",
       "   [{'command': 'm u_3 c', 'agentID': 1},\n",
       "    {'command': 'p u_4', 'agentID': 1},\n",
       "    {'command': 'm u_5 n', 'agentID': 1},\n",
       "    {'command': 'm u_7 n', 'agentID': 1},\n",
       "    {'command': 'p u_8', 'agentID': 1}],\n",
       "   [{'command': 'm u_1 w', 'agentID': 0},\n",
       "    {'command': 'p u_2', 'agentID': 1},\n",
       "    {'command': 'm u_3 e', 'agentID': 1},\n",
       "    {'command': 'm u_4 e', 'agentID': 1},\n",
       "    {'command': 'p u_6', 'agentID': 1},\n",
       "    {'command': 'p u_8', 'agentID': 1},\n",
       "    {'command': 'r 21 29', 'agentID': 1}],\n",
       "   [{'command': 'm u_3 e', 'agentID': 1},\n",
       "    {'command': 'm u_4 e', 'agentID': 1},\n",
       "    {'command': 'm u_5 w', 'agentID': 1},\n",
       "    {'command': 'm u_7 n', 'agentID': 1},\n",
       "    {'command': 'p u_8', 'agentID': 1},\n",
       "    {'command': 'r 23 30', 'agentID': 1}],\n",
       "   [{'command': 'm u_1 w', 'agentID': 0},\n",
       "    {'command': 'm u_2 n', 'agentID': 1},\n",
       "    {'command': 'm u_3 e', 'agentID': 1},\n",
       "    {'command': 'm u_4 e', 'agentID': 1},\n",
       "    {'command': 'p u_6', 'agentID': 1},\n",
       "    {'command': 'p u_8', 'agentID': 1}],\n",
       "   [{'command': 'bcity u_5', 'agentID': 1},\n",
       "    {'command': 'm u_7 n', 'agentID': 1},\n",
       "    {'command': 'm u_8 n', 'agentID': 1},\n",
       "    {'command': 'r 23 29', 'agentID': 1}],\n",
       "   [{'command': 'm u_1 w', 'agentID': 0},\n",
       "    {'command': 'm u_2 n', 'agentID': 1},\n",
       "    {'command': 'm u_3 w', 'agentID': 1},\n",
       "    {'command': 'm u_4 n', 'agentID': 1},\n",
       "    {'command': 'm u_5 n', 'agentID': 1},\n",
       "    {'command': 'm u_6 n', 'agentID': 1},\n",
       "    {'command': 'm u_8 n', 'agentID': 1},\n",
       "    {'command': 'bw 21 26', 'agentID': 1}],\n",
       "   [{'command': 'm u_1 w', 'agentID': 0},\n",
       "    {'command': 'm u_2 n', 'agentID': 1},\n",
       "    {'command': 'm u_4 n', 'agentID': 1},\n",
       "    {'command': 'm u_6 n', 'agentID': 1},\n",
       "    {'command': 'bcity u_7', 'agentID': 1},\n",
       "    {'command': 'm u_9 e', 'agentID': 1}],\n",
       "   [{'command': 'm u_1 w', 'agentID': 0},\n",
       "    {'command': 'm u_2 n', 'agentID': 1},\n",
       "    {'command': 'bcity u_3', 'agentID': 1},\n",
       "    {'command': 'p u_4', 'agentID': 1},\n",
       "    {'command': 'm u_5 c', 'agentID': 1},\n",
       "    {'command': 'm u_6 n', 'agentID': 1},\n",
       "    {'command': 'p u_7', 'agentID': 1},\n",
       "    {'command': 'm u_8 n', 'agentID': 1},\n",
       "    {'command': 'bw 22 29', 'agentID': 1},\n",
       "    {'command': 'r 21 30', 'agentID': 1},\n",
       "    {'command': 'r 20 31', 'agentID': 1},\n",
       "    {'command': 'r 22 25', 'agentID': 1}],\n",
       "   [{'command': 'm u_1 w', 'agentID': 0},\n",
       "    {'command': 'm u_3 n', 'agentID': 1},\n",
       "    {'command': 'm u_4 n', 'agentID': 1},\n",
       "    {'command': 'm u_5 c', 'agentID': 1},\n",
       "    {'command': 'p u_7', 'agentID': 1},\n",
       "    {'command': 'm u_9 c', 'agentID': 1},\n",
       "    {'command': 'm u_10 n', 'agentID': 1},\n",
       "    {'command': 'bw 21 31', 'agentID': 1}],\n",
       "   [{'command': 'm u_1 w', 'agentID': 0},\n",
       "    {'command': 'p u_2', 'agentID': 1},\n",
       "    {'command': 'm u_3 n', 'agentID': 1},\n",
       "    {'command': 'm u_5 n', 'agentID': 1},\n",
       "    {'command': 'm u_6 n', 'agentID': 1},\n",
       "    {'command': 'p u_7', 'agentID': 1},\n",
       "    {'command': 'm u_8 n', 'agentID': 1},\n",
       "    {'command': 'm u_9 c', 'agentID': 1},\n",
       "    {'command': 'p u_10', 'agentID': 1},\n",
       "    {'command': 'm u_11 n', 'agentID': 1},\n",
       "    {'command': 'r 22 28', 'agentID': 1}],\n",
       "   [{'command': 'm u_1 w', 'agentID': 0},\n",
       "    {'command': 'p u_3', 'agentID': 1},\n",
       "    {'command': 'm u_4 n', 'agentID': 1},\n",
       "    {'command': 'm u_7 w', 'agentID': 1},\n",
       "    {'command': 'p u_8', 'agentID': 1},\n",
       "    {'command': 'm u_9 s', 'agentID': 1},\n",
       "    {'command': 'p u_10', 'agentID': 1},\n",
       "    {'command': 'm u_11 n', 'agentID': 1}],\n",
       "   [{'command': 'm u_1 w', 'agentID': 0},\n",
       "    {'command': 'm u_2 n', 'agentID': 1},\n",
       "    {'command': 'm u_3 n', 'agentID': 1},\n",
       "    {'command': 'bcity u_5', 'agentID': 1},\n",
       "    {'command': 'm u_6 n', 'agentID': 1},\n",
       "    {'command': 'p u_8', 'agentID': 1},\n",
       "    {'command': 'm u_9 s', 'agentID': 1},\n",
       "    {'command': 'p u_10', 'agentID': 1},\n",
       "    {'command': 'p u_11', 'agentID': 1},\n",
       "    {'command': 'r 21 29', 'agentID': 1}],\n",
       "   [{'command': 'm u_1 w', 'agentID': 0},\n",
       "    {'command': 'm u_4 n', 'agentID': 1},\n",
       "    {'command': 'p u_5', 'agentID': 1},\n",
       "    {'command': 'm u_7 c', 'agentID': 1},\n",
       "    {'command': 'p u_8', 'agentID': 1},\n",
       "    {'command': 'p u_10', 'agentID': 1},\n",
       "    {'command': 'p u_11', 'agentID': 1},\n",
       "    {'command': 'bw 23 30', 'agentID': 1},\n",
       "    {'command': 'r 21 24', 'agentID': 1}],\n",
       "   [{'command': 'm u_1 w', 'agentID': 0},\n",
       "    {'command': 'bcity u_2', 'agentID': 1},\n",
       "    {'command': 'm u_3 n', 'agentID': 1},\n",
       "    {'command': 'p u_4', 'agentID': 1},\n",
       "    {'command': 'p u_5', 'agentID': 1},\n",
       "    {'command': 'm u_6 n', 'agentID': 1},\n",
       "    {'command': 'm u_7 c', 'agentID': 1},\n",
       "    {'command': 'p u_8', 'agentID': 1},\n",
       "    {'command': 'bcity u_9', 'agentID': 1},\n",
       "    {'command': 'p u_10', 'agentID': 1},\n",
       "    {'command': 'm u_11 n', 'agentID': 1},\n",
       "    {'command': 'm u_12 n', 'agentID': 1}],\n",
       "   [{'command': 'm u_1 w', 'agentID': 0},\n",
       "    {'command': 'm u_2 n', 'agentID': 1},\n",
       "    {'command': 'p u_4', 'agentID': 1},\n",
       "    {'command': 'p u_5', 'agentID': 1},\n",
       "    {'command': 'm u_7 w', 'agentID': 1},\n",
       "    {'command': 'm u_8 n', 'agentID': 1},\n",
       "    {'command': 'm u_9 n', 'agentID': 1},\n",
       "    {'command': 'm u_10 n', 'agentID': 1},\n",
       "    {'command': 'm u_12 n', 'agentID': 1},\n",
       "    {'command': 'bw 22 26', 'agentID': 1},\n",
       "    {'command': 'bw 22 27', 'agentID': 1},\n",
       "    {'command': 'r 23 29', 'agentID': 1}],\n",
       "   [{'command': 'm u_1 w', 'agentID': 0},\n",
       "    {'command': 'p u_2', 'agentID': 1},\n",
       "    {'command': 'm u_3 n', 'agentID': 1},\n",
       "    {'command': 'p u_4', 'agentID': 1},\n",
       "    {'command': 'p u_5', 'agentID': 1},\n",
       "    {'command': 'm u_6 w', 'agentID': 1},\n",
       "    {'command': 'm u_9 n', 'agentID': 1},\n",
       "    {'command': 'm u_10 n', 'agentID': 1},\n",
       "    {'command': 'm u_11 n', 'agentID': 1},\n",
       "    {'command': 'm u_13 n', 'agentID': 1},\n",
       "    {'command': 'm u_14 n', 'agentID': 1},\n",
       "    {'command': 'r 21 26', 'agentID': 1}],\n",
       "   [{'command': 'm u_1 w', 'agentID': 0},\n",
       "    {'command': 'm u_2 e', 'agentID': 1},\n",
       "    {'command': 'm u_3 e', 'agentID': 1},\n",
       "    {'command': 'm u_4 e', 'agentID': 1},\n",
       "    {'command': 'm u_5 e', 'agentID': 1},\n",
       "    {'command': 'p u_6', 'agentID': 1},\n",
       "    {'command': 'bcity u_7', 'agentID': 1},\n",
       "    {'command': 'm u_8 e', 'agentID': 1},\n",
       "    {'command': 'p u_9', 'agentID': 1},\n",
       "    {'command': 'm u_10 e', 'agentID': 1},\n",
       "    {'command': 'm u_12 n', 'agentID': 1},\n",
       "    {'command': 'p u_13', 'agentID': 1},\n",
       "    {'command': 'p u_14', 'agentID': 1}],\n",
       "   [{'command': 'm u_1 w', 'agentID': 0},\n",
       "    {'command': 'p u_3', 'agentID': 1},\n",
       "    {'command': 'p u_4', 'agentID': 1},\n",
       "    {'command': 'p u_6', 'agentID': 1},\n",
       "    {'command': 'm u_7 s', 'agentID': 1},\n",
       "    {'command': 'p u_8', 'agentID': 1},\n",
       "    {'command': 'p u_9', 'agentID': 1},\n",
       "    {'command': 'm u_11 s', 'agentID': 1},\n",
       "    {'command': 'p u_13', 'agentID': 1},\n",
       "    {'command': 'p u_14', 'agentID': 1},\n",
       "    {'command': 'bw 22 25', 'agentID': 1},\n",
       "    {'command': 'r 22 29', 'agentID': 1},\n",
       "    {'command': 'r 21 30', 'agentID': 1},\n",
       "    {'command': 'r 20 31', 'agentID': 1},\n",
       "    {'command': 'r 20 25', 'agentID': 1}],\n",
       "   [{'command': 'm u_1 w', 'agentID': 0},\n",
       "    {'command': 'm u_2 e', 'agentID': 1},\n",
       "    {'command': 'p u_3', 'agentID': 1},\n",
       "    {'command': 'p u_4', 'agentID': 1},\n",
       "    {'command': 'm u_5 e', 'agentID': 1},\n",
       "    {'command': 'm u_6 e', 'agentID': 1},\n",
       "    {'command': 'p u_8', 'agentID': 1},\n",
       "    {'command': 'p u_9', 'agentID': 1},\n",
       "    {'command': 'm u_10 e', 'agentID': 1},\n",
       "    {'command': 'm u_12 n', 'agentID': 1},\n",
       "    {'command': 'p u_13', 'agentID': 1},\n",
       "    {'command': 'p u_14', 'agentID': 1},\n",
       "    {'command': 'p u_15', 'agentID': 1},\n",
       "    {'command': 'r 21 31', 'agentID': 1}],\n",
       "   [{'command': 'm u_1 w', 'agentID': 0},\n",
       "    {'command': 'p u_3', 'agentID': 1},\n",
       "    {'command': 'p u_4', 'agentID': 1},\n",
       "    {'command': 'm u_7 s', 'agentID': 1},\n",
       "    {'command': 'p u_8', 'agentID': 1},\n",
       "    {'command': 'p u_9', 'agentID': 1},\n",
       "    {'command': 'm u_11 w', 'agentID': 1},\n",
       "    {'command': 'p u_13', 'agentID': 1},\n",
       "    {'command': 'p u_14', 'agentID': 1},\n",
       "    {'command': 'p u_15', 'agentID': 1},\n",
       "    {'command': 'r 22 28', 'agentID': 1}],\n",
       "   [{'command': 'm u_1 w', 'agentID': 0},\n",
       "    {'command': 'm u_2 e', 'agentID': 1},\n",
       "    {'command': 'p u_3', 'agentID': 1},\n",
       "    {'command': 'p u_4', 'agentID': 1},\n",
       "    {'command': 'm u_5 e', 'agentID': 1},\n",
       "    {'command': 'm u_6 e', 'agentID': 1},\n",
       "    {'command': 'm u_8 e', 'agentID': 1},\n",
       "    {'command': 'p u_9', 'agentID': 1},\n",
       "    {'command': 'm u_10 e', 'agentID': 1},\n",
       "    {'command': 'm u_12 e', 'agentID': 1},\n",
       "    {'command': 'p u_13', 'agentID': 1},\n",
       "    {'command': 'm u_14 e', 'agentID': 1},\n",
       "    {'command': 'p u_15', 'agentID': 1}],\n",
       "   [{'command': 'm u_1 w', 'agentID': 0},\n",
       "    {'command': 'p u_3', 'agentID': 1},\n",
       "    {'command': 'p u_4', 'agentID': 1},\n",
       "    {'command': 'p u_7', 'agentID': 1},\n",
       "    {'command': 'p u_9', 'agentID': 1},\n",
       "    {'command': 'm u_11 w', 'agentID': 1},\n",
       "    {'command': 'p u_13', 'agentID': 1},\n",
       "    {'command': 'p u_15', 'agentID': 1},\n",
       "    {'command': 'r 21 29', 'agentID': 1}],\n",
       "   [{'command': 'm u_1 w', 'agentID': 0},\n",
       "    {'command': 'm u_2 e', 'agentID': 1},\n",
       "    {'command': 'p u_3', 'agentID': 1},\n",
       "    {'command': 'p u_4', 'agentID': 1},\n",
       "    {'command': 'm u_5 e', 'agentID': 1},\n",
       "    {'command': 'm u_6 e', 'agentID': 1},\n",
       "    {'command': 'm u_8 e', 'agentID': 1},\n",
       "    {'command': 'm u_9 e', 'agentID': 1},\n",
       "    {'command': 'm u_10 e', 'agentID': 1},\n",
       "    {'command': 'm u_12 e', 'agentID': 1},\n",
       "    {'command': 'p u_13', 'agentID': 1},\n",
       "    {'command': 'm u_14 e', 'agentID': 1},\n",
       "    {'command': 'p u_15', 'agentID': 1},\n",
       "    {'command': 'r 23 30', 'agentID': 1},\n",
       "    {'command': 'r 21 24', 'agentID': 1}],\n",
       "   [{'command': 'm u_1 w', 'agentID': 0},\n",
       "    {'command': 'm u_3 e', 'agentID': 1},\n",
       "    {'command': 'p u_4', 'agentID': 1},\n",
       "    {'command': 'm u_7 s', 'agentID': 1},\n",
       "    {'command': 'm u_11 w', 'agentID': 1},\n",
       "    {'command': 'p u_13', 'agentID': 1},\n",
       "    {'command': 'p u_15', 'agentID': 1}],\n",
       "   [{'command': 'm u_1 w', 'agentID': 0},\n",
       "    {'command': 'm u_2 e', 'agentID': 1},\n",
       "    {'command': 'p u_4', 'agentID': 1},\n",
       "    {'command': 'm u_5 e', 'agentID': 1},\n",
       "    {'command': 'm u_6 e', 'agentID': 1},\n",
       "    {'command': 'm u_8 e', 'agentID': 1},\n",
       "    {'command': 'm u_9 e', 'agentID': 1},\n",
       "    {'command': 'm u_10 e', 'agentID': 1},\n",
       "    {'command': 'm u_12 e', 'agentID': 1},\n",
       "    {'command': 'm u_13 e', 'agentID': 1},\n",
       "    {'command': 'm u_14 e', 'agentID': 1},\n",
       "    {'command': 'p u_15', 'agentID': 1},\n",
       "    {'command': 'r 22 26', 'agentID': 1},\n",
       "    {'command': 'r 22 27', 'agentID': 1},\n",
       "    {'command': 'r 23 29', 'agentID': 1}],\n",
       "   [{'command': 'm u_1 w', 'agentID': 0},\n",
       "    {'command': 'm u_3 e', 'agentID': 1},\n",
       "    {'command': 'm u_4 e', 'agentID': 1},\n",
       "    {'command': 'm u_7 w', 'agentID': 1},\n",
       "    {'command': 'm u_11 w', 'agentID': 1},\n",
       "    {'command': 'p u_15', 'agentID': 1},\n",
       "    {'command': 'r 21 26', 'agentID': 1}],\n",
       "   [{'command': 'm u_1 w', 'agentID': 0},\n",
       "    {'command': 'm u_2 e', 'agentID': 1},\n",
       "    {'command': 'm u_5 e', 'agentID': 1},\n",
       "    {'command': 'm u_6 e', 'agentID': 1},\n",
       "    {'command': 'm u_8 e', 'agentID': 1},\n",
       "    {'command': 'm u_9 e', 'agentID': 1},\n",
       "    {'command': 'm u_10 e', 'agentID': 1},\n",
       "    {'command': 'm u_12 e', 'agentID': 1},\n",
       "    {'command': 'm u_13 e', 'agentID': 1},\n",
       "    {'command': 'm u_14 e', 'agentID': 1},\n",
       "    {'command': 'm u_15 e', 'agentID': 1}],\n",
       "   [{'command': 'm u_1 w', 'agentID': 0},\n",
       "    {'command': 'm u_3 w', 'agentID': 1},\n",
       "    {'command': 'm u_4 w', 'agentID': 1},\n",
       "    {'command': 'm u_7 e', 'agentID': 1},\n",
       "    {'command': 'm u_11 e', 'agentID': 1},\n",
       "    {'command': 'r 22 25', 'agentID': 1},\n",
       "    {'command': 'r 22 29', 'agentID': 1},\n",
       "    {'command': 'r 21 30', 'agentID': 1},\n",
       "    {'command': 'r 20 31', 'agentID': 1},\n",
       "    {'command': 'r 20 25', 'agentID': 1}],\n",
       "   [{'command': 'm u_1 w', 'agentID': 0},\n",
       "    {'command': 'm u_2 w', 'agentID': 1},\n",
       "    {'command': 'p u_4', 'agentID': 1},\n",
       "    {'command': 'm u_6 w', 'agentID': 1},\n",
       "    {'command': 'm u_10 w', 'agentID': 1},\n",
       "    {'command': 'm u_12 w', 'agentID': 1},\n",
       "    {'command': 'bw 21 31', 'agentID': 1}],\n",
       "   [{'command': 'm u_1 w', 'agentID': 0},\n",
       "    {'command': 'p u_4', 'agentID': 1},\n",
       "    {'command': 'p u_16', 'agentID': 1},\n",
       "    {'command': 'bw 22 28', 'agentID': 1}],\n",
       "   [{'command': 'm u_1 w', 'agentID': 0},\n",
       "    {'command': 'p u_4', 'agentID': 1},\n",
       "    {'command': 'p u_16', 'agentID': 1},\n",
       "    {'command': 'p u_17', 'agentID': 1}],\n",
       "   [{'command': 'm u_1 w', 'agentID': 0},\n",
       "    {'command': 'p u_4', 'agentID': 1},\n",
       "    {'command': 'm u_11 e', 'agentID': 1},\n",
       "    {'command': 'p u_16', 'agentID': 1},\n",
       "    {'command': 'p u_17', 'agentID': 1},\n",
       "    {'command': 'bw 21 29', 'agentID': 1}],\n",
       "   [{'command': 'm u_1 w', 'agentID': 0},\n",
       "    {'command': 'm u_2 w', 'agentID': 1},\n",
       "    {'command': 'p u_4', 'agentID': 1},\n",
       "    {'command': 'm u_6 w', 'agentID': 1},\n",
       "    {'command': 'm u_10 w', 'agentID': 1},\n",
       "    {'command': 'm u_12 w', 'agentID': 1},\n",
       "    {'command': 'p u_16', 'agentID': 1},\n",
       "    {'command': 'p u_17', 'agentID': 1},\n",
       "    {'command': 'p u_18', 'agentID': 1},\n",
       "    {'command': 'bw 23 30', 'agentID': 1}],\n",
       "   [{'command': 'm u_1 w', 'agentID': 0},\n",
       "    {'command': 'p u_4', 'agentID': 1},\n",
       "    {'command': 'p u_16', 'agentID': 1},\n",
       "    {'command': 'p u_17', 'agentID': 1},\n",
       "    {'command': 'p u_18', 'agentID': 1},\n",
       "    {'command': 'p u_19', 'agentID': 1}],\n",
       "   [{'command': 'm u_1 w', 'agentID': 0},\n",
       "    {'command': 'p u_4', 'agentID': 1},\n",
       "    {'command': 'p u_16', 'agentID': 1},\n",
       "    {'command': 'p u_17', 'agentID': 1},\n",
       "    {'command': 'p u_18', 'agentID': 1},\n",
       "    {'command': 'p u_19', 'agentID': 1},\n",
       "    {'command': 'bw 22 26', 'agentID': 1},\n",
       "    {'command': 'bw 22 27', 'agentID': 1},\n",
       "    {'command': 'r 23 29', 'agentID': 1}],\n",
       "   [{'command': 'm u_1 w', 'agentID': 0},\n",
       "    {'command': 'p u_4', 'agentID': 1},\n",
       "    {'command': 'm u_11 e', 'agentID': 1},\n",
       "    {'command': 'p u_16', 'agentID': 1},\n",
       "    {'command': 'p u_17', 'agentID': 1},\n",
       "    {'command': 'p u_18', 'agentID': 1},\n",
       "    {'command': 'p u_19', 'agentID': 1},\n",
       "    {'command': 'p u_20', 'agentID': 1},\n",
       "    {'command': 'p u_21', 'agentID': 1},\n",
       "    {'command': 'r 21 26', 'agentID': 1}],\n",
       "   [{'command': 'm u_1 w', 'agentID': 0},\n",
       "    {'command': 'p u_2', 'agentID': 1},\n",
       "    {'command': 'p u_6', 'agentID': 1},\n",
       "    {'command': 'p u_10', 'agentID': 1},\n",
       "    {'command': 'p u_12', 'agentID': 1}],\n",
       "   [{'command': 'm u_1 w', 'agentID': 0}],\n",
       "   [{'command': 'm u_1 w', 'agentID': 0}],\n",
       "   [{'command': 'm u_1 w', 'agentID': 0},\n",
       "    {'command': 'm u_11 w', 'agentID': 1}],\n",
       "   [{'command': 'm u_1 w', 'agentID': 0},\n",
       "    {'command': 'm u_2 s', 'agentID': 1},\n",
       "    {'command': 'm u_6 w', 'agentID': 1},\n",
       "    {'command': 'm u_10 w', 'agentID': 1},\n",
       "    {'command': 'm u_12 s', 'agentID': 1}],\n",
       "   [{'command': 'm u_1 w', 'agentID': 0},\n",
       "    {'command': 'm u_11 w', 'agentID': 1}],\n",
       "   [{'command': 'm u_1 w', 'agentID': 0},\n",
       "    {'command': 'm u_2 e', 'agentID': 1},\n",
       "    {'command': 'm u_6 e', 'agentID': 1},\n",
       "    {'command': 'm u_10 e', 'agentID': 1},\n",
       "    {'command': 'm u_12 n', 'agentID': 1}],\n",
       "   [{'command': 'm u_1 w', 'agentID': 0},\n",
       "    {'command': 'm u_11 w', 'agentID': 1}],\n",
       "   [{'command': 'm u_1 w', 'agentID': 0},\n",
       "    {'command': 'bcity u_2', 'agentID': 1},\n",
       "    {'command': 'm u_6 e', 'agentID': 1},\n",
       "    {'command': 'p u_10', 'agentID': 1},\n",
       "    {'command': 'p u_12', 'agentID': 1}],\n",
       "   [{'command': 'm u_1 w', 'agentID': 0},\n",
       "    {'command': 'm u_2 e', 'agentID': 1},\n",
       "    {'command': 'm u_11 w', 'agentID': 1},\n",
       "    {'command': 'r 27 26', 'agentID': 1}],\n",
       "   [{'command': 'm u_1 w', 'agentID': 0},\n",
       "    {'command': 'm u_6 e', 'agentID': 1},\n",
       "    {'command': 'm u_10 e', 'agentID': 1},\n",
       "    {'command': 'm u_12 e', 'agentID': 1}],\n",
       "   [{'command': 'm u_1 w', 'agentID': 0},\n",
       "    {'command': 'm u_2 s', 'agentID': 1},\n",
       "    {'command': 'm u_10 e', 'agentID': 1},\n",
       "    {'command': 'm u_11 n', 'agentID': 1}],\n",
       "   [{'command': 'm u_1 w', 'agentID': 0},\n",
       "    {'command': 'm u_6 e', 'agentID': 1},\n",
       "    {'command': 'm u_12 e', 'agentID': 1}],\n",
       "   [{'command': 'm u_1 w', 'agentID': 0},\n",
       "    {'command': 'bcity u_2', 'agentID': 1},\n",
       "    {'command': 'm u_10 s', 'agentID': 1},\n",
       "    {'command': 'bcity u_11', 'agentID': 1},\n",
       "    {'command': 'm u_12 e', 'agentID': 1}],\n",
       "   [{'command': 'm u_1 w', 'agentID': 0},\n",
       "    {'command': 'p u_2', 'agentID': 1},\n",
       "    {'command': 'm u_6 n', 'agentID': 1},\n",
       "    {'command': 'm u_10 n', 'agentID': 1},\n",
       "    {'command': 'm u_11 s', 'agentID': 1},\n",
       "    {'command': 'm u_12 e', 'agentID': 1},\n",
       "    {'command': 'r 28 27', 'agentID': 1},\n",
       "    {'command': 'r 16 27', 'agentID': 1}],\n",
       "   [{'command': 'm u_1 w', 'agentID': 0}, {'command': 'p u_2', 'agentID': 1}],\n",
       "   [{'command': 'm u_1 w', 'agentID': 0},\n",
       "    {'command': 'p u_2', 'agentID': 1},\n",
       "    {'command': 'bcity u_6', 'agentID': 1},\n",
       "    {'command': 'm u_10 n', 'agentID': 1},\n",
       "    {'command': 'm u_11 n', 'agentID': 1},\n",
       "    {'command': 'm u_12 n', 'agentID': 1}],\n",
       "   [{'command': 'm u_1 w', 'agentID': 0},\n",
       "    {'command': 'p u_2', 'agentID': 1},\n",
       "    {'command': 'p u_6', 'agentID': 1},\n",
       "    {'command': 'm u_10 w', 'agentID': 1},\n",
       "    {'command': 'm u_11 s', 'agentID': 1},\n",
       "    {'command': 'm u_12 n', 'agentID': 1},\n",
       "    {'command': 'r 28 24', 'agentID': 1}],\n",
       "   [{'command': 'm u_1 w', 'agentID': 0},\n",
       "    {'command': 'm u_2 n', 'agentID': 1},\n",
       "    {'command': 'p u_6', 'agentID': 1}],\n",
       "   [{'command': 'm u_1 w', 'agentID': 0},\n",
       "    {'command': 'p u_6', 'agentID': 1},\n",
       "    {'command': 'bcity u_10', 'agentID': 1},\n",
       "    {'command': 'm u_11 e', 'agentID': 1},\n",
       "    {'command': 'm u_12 w', 'agentID': 1},\n",
       "    {'command': 'r 27 26', 'agentID': 1}],\n",
       "   [{'command': 'm u_1 w', 'agentID': 0},\n",
       "    {'command': 'm u_2 n', 'agentID': 1},\n",
       "    {'command': 'p u_6', 'agentID': 1},\n",
       "    {'command': 'p u_10', 'agentID': 1},\n",
       "    {'command': 'm u_12 e', 'agentID': 1},\n",
       "    {'command': 'r 27 25', 'agentID': 1}],\n",
       "   [{'command': 'm u_1 w', 'agentID': 0},\n",
       "    {'command': 'p u_6', 'agentID': 1},\n",
       "    {'command': 'p u_10', 'agentID': 1},\n",
       "    {'command': 'bcity u_11', 'agentID': 1}],\n",
       "   [{'command': 'm u_1 w', 'agentID': 0},\n",
       "    {'command': 'm u_2 e', 'agentID': 1},\n",
       "    {'command': 'm u_6 s', 'agentID': 1},\n",
       "    {'command': 'p u_10', 'agentID': 1},\n",
       "    {'command': 'm u_11 w', 'agentID': 1},\n",
       "    {'command': 'm u_12 n', 'agentID': 1},\n",
       "    {'command': 'bw 17 28', 'agentID': 1}],\n",
       "   [{'command': 'm u_1 w', 'agentID': 0},\n",
       "    {'command': 'p u_10', 'agentID': 1},\n",
       "    {'command': 'p u_22', 'agentID': 1}],\n",
       "   [{'command': 'm u_1 w', 'agentID': 0},\n",
       "    {'command': 'm u_2 n', 'agentID': 1},\n",
       "    {'command': 'm u_6 e', 'agentID': 1},\n",
       "    {'command': 'm u_10 e', 'agentID': 1},\n",
       "    {'command': 'm u_11 s', 'agentID': 1},\n",
       "    {'command': 'bcity u_12', 'agentID': 1},\n",
       "    {'command': 'm u_22 w', 'agentID': 1},\n",
       "    {'command': 'r 28 27', 'agentID': 1},\n",
       "    {'command': 'r 16 27', 'agentID': 1}],\n",
       "   [{'command': 'm u_1 w', 'agentID': 0},\n",
       "    {'command': 'm u_2 e', 'agentID': 1},\n",
       "    {'command': 'm u_6 s', 'agentID': 1},\n",
       "    {'command': 'm u_10 e', 'agentID': 1},\n",
       "    {'command': 'm u_12 s', 'agentID': 1},\n",
       "    {'command': 'bw 29 24', 'agentID': 1}],\n",
       "   [{'command': 'm u_1 w', 'agentID': 0},\n",
       "    {'command': 'bcity u_11', 'agentID': 1},\n",
       "    {'command': 'm u_22 s', 'agentID': 1},\n",
       "    {'command': 'p u_23', 'agentID': 1}],\n",
       "   [{'command': 'm u_1 w', 'agentID': 0},\n",
       "    {'command': 'bcity u_2', 'agentID': 1},\n",
       "    {'command': 'm u_6 n', 'agentID': 1},\n",
       "    {'command': 'm u_10 e', 'agentID': 1},\n",
       "    {'command': 'p u_11', 'agentID': 1},\n",
       "    {'command': 'm u_12 e', 'agentID': 1},\n",
       "    {'command': 'm u_22 w', 'agentID': 1},\n",
       "    {'command': 'p u_23', 'agentID': 1},\n",
       "    {'command': 'bw 28 24', 'agentID': 1},\n",
       "    {'command': 'r 16 29', 'agentID': 1}],\n",
       "   [{'command': 'm u_1 w', 'agentID': 0},\n",
       "    {'command': 'p u_2', 'agentID': 1},\n",
       "    {'command': 'm u_6 e', 'agentID': 1},\n",
       "    {'command': 'm u_10 e', 'agentID': 1},\n",
       "    {'command': 'm u_11 n', 'agentID': 1},\n",
       "    {'command': 'm u_12 s', 'agentID': 1},\n",
       "    {'command': 'p u_23', 'agentID': 1},\n",
       "    {'command': 'm u_24 s', 'agentID': 1},\n",
       "    {'command': 'bw 30 25', 'agentID': 1}],\n",
       "   [{'command': 'm u_1 w', 'agentID': 0},\n",
       "    {'command': 'p u_2', 'agentID': 1},\n",
       "    {'command': 'm u_6 n', 'agentID': 1},\n",
       "    {'command': 'm u_10 e', 'agentID': 1},\n",
       "    {'command': 'm u_12 s', 'agentID': 1},\n",
       "    {'command': 'm u_22 n', 'agentID': 1},\n",
       "    {'command': 'p u_23', 'agentID': 1},\n",
       "    {'command': 'p u_24', 'agentID': 1},\n",
       "    {'command': 'm u_25 s', 'agentID': 1},\n",
       "    {'command': 'r 27 26', 'agentID': 1}],\n",
       "   [{'command': 'm u_1 w', 'agentID': 0},\n",
       "    {'command': 'p u_2', 'agentID': 1},\n",
       "    {'command': 'm u_11 n', 'agentID': 1},\n",
       "    {'command': 'p u_23', 'agentID': 1},\n",
       "    {'command': 'p u_24', 'agentID': 1},\n",
       "    {'command': 'r 27 25', 'agentID': 1}],\n",
       "   [{'command': 'm u_1 w', 'agentID': 0},\n",
       "    {'command': 'p u_2', 'agentID': 1},\n",
       "    {'command': 'm u_6 n', 'agentID': 1},\n",
       "    {'command': 'm u_10 e', 'agentID': 1},\n",
       "    {'command': 'p u_11', 'agentID': 1},\n",
       "    {'command': 'm u_12 n', 'agentID': 1},\n",
       "    {'command': 'm u_22 e', 'agentID': 1},\n",
       "    {'command': 'p u_23', 'agentID': 1},\n",
       "    {'command': 'p u_24', 'agentID': 1},\n",
       "    {'command': 'm u_25 n', 'agentID': 1}],\n",
       "   [{'command': 'm u_1 w', 'agentID': 0},\n",
       "    {'command': 'p u_2', 'agentID': 1},\n",
       "    {'command': 'p u_6', 'agentID': 1},\n",
       "    {'command': 'p u_10', 'agentID': 1},\n",
       "    {'command': 'p u_11', 'agentID': 1},\n",
       "    {'command': 'p u_22', 'agentID': 1},\n",
       "    {'command': 'p u_23', 'agentID': 1},\n",
       "    {'command': 'p u_24', 'agentID': 1},\n",
       "    {'command': 'p u_25', 'agentID': 1},\n",
       "    {'command': 'r 17 28', 'agentID': 1}],\n",
       "   [{'command': 'm u_1 w', 'agentID': 0},\n",
       "    {'command': 'p u_2', 'agentID': 1},\n",
       "    {'command': 'p u_6', 'agentID': 1},\n",
       "    {'command': 'p u_10', 'agentID': 1},\n",
       "    {'command': 'p u_11', 'agentID': 1},\n",
       "    {'command': 'p u_22', 'agentID': 1},\n",
       "    {'command': 'p u_23', 'agentID': 1},\n",
       "    {'command': 'p u_24', 'agentID': 1},\n",
       "    {'command': 'p u_25', 'agentID': 1}],\n",
       "   [{'command': 'm u_1 w', 'agentID': 0},\n",
       "    {'command': 'p u_2', 'agentID': 1},\n",
       "    {'command': 'p u_6', 'agentID': 1},\n",
       "    {'command': 'p u_10', 'agentID': 1},\n",
       "    {'command': 'p u_11', 'agentID': 1},\n",
       "    {'command': 'p u_22', 'agentID': 1},\n",
       "    {'command': 'p u_23', 'agentID': 1},\n",
       "    {'command': 'p u_24', 'agentID': 1},\n",
       "    {'command': 'p u_25', 'agentID': 1},\n",
       "    {'command': 'r 28 27', 'agentID': 1},\n",
       "    {'command': 'r 16 27', 'agentID': 1}],\n",
       "   [{'command': 'm u_1 w', 'agentID': 0},\n",
       "    {'command': 'p u_2', 'agentID': 1},\n",
       "    {'command': 'p u_6', 'agentID': 1},\n",
       "    {'command': 'p u_10', 'agentID': 1},\n",
       "    {'command': 'p u_11', 'agentID': 1},\n",
       "    {'command': 'm u_12 e', 'agentID': 1},\n",
       "    {'command': 'p u_22', 'agentID': 1},\n",
       "    {'command': 'p u_23', 'agentID': 1},\n",
       "    {'command': 'p u_24', 'agentID': 1},\n",
       "    {'command': 'p u_25', 'agentID': 1},\n",
       "    {'command': 'r 29 24', 'agentID': 1}],\n",
       "   [{'command': 'm u_1 w', 'agentID': 0},\n",
       "    {'command': 'p u_2', 'agentID': 1},\n",
       "    {'command': 'p u_6', 'agentID': 1},\n",
       "    {'command': 'p u_10', 'agentID': 1},\n",
       "    {'command': 'p u_11', 'agentID': 1},\n",
       "    {'command': 'p u_12', 'agentID': 1},\n",
       "    {'command': 'p u_22', 'agentID': 1},\n",
       "    {'command': 'p u_23', 'agentID': 1},\n",
       "    {'command': 'p u_24', 'agentID': 1},\n",
       "    {'command': 'p u_25', 'agentID': 1}]],\n",
       "  'mapType': 'random',\n",
       "  'width': 32,\n",
       "  'height': 32,\n",
       "  'teamDetails': [{'name': '../submissions/simple/main_448592590627219544.py',\n",
       "    'tournamentID': ''},\n",
       "   {'name': '../submissions/simple/main_550318061354680202.py',\n",
       "    'tournamentID': ''}],\n",
       "  'version': '3.1.0',\n",
       "  'results': {'ranks': [{'rank': 1, 'agentID': 1}, {'rank': 2, 'agentID': 0}],\n",
       "   'replayFile': 'replays/286015765.json'}},\n",
       " \"\\n-=-=-=-=-=-=-=-=-=-=-=-| \\x1b[34m[INFO]\\x1b[39m \\x1b[1m\\x1b[32mmatch_cJCDCjousHxc\\x1b[39m\\x1b[22m |-=-=-=-=-=-=-=-=-=-=-=-\\n\\n\\x1b[34m[INFO]\\x1b[39m (match_cJCDCjousHxc) - Design: lux_ai_2021 | Initializing match - ID: cJCDCjousHxc, Name: match_cJCDCjousHxc\\n\\x1b[33m[WARN]\\x1b[39m (match_cJCDCjousHxc) - turn 16; Unit u_3 collided when trying to move e to (23, 29)\\n\\x1b[33m[WARN]\\x1b[39m (match_cJCDCjousHxc) - turn 16; Unit u_4 collided when trying to move s to (22, 29)\\n\\x1b[33m[WARN]\\x1b[39m (match_cJCDCjousHxc) - turn 29; Unit u_4 collided when trying to move w to (20, 31)\\n\\x1b[33m[WARN]\\x1b[39m (match_cJCDCjousHxc) - turn 29; Unit u_6 collided when trying to move n to (22, 29)\\n\\x1b[33m[WARN]\\x1b[39m (match_cJCDCjousHxc) - turn 44; Unit u_3 collided when trying to move e to (22, 31)\\n\\x1b[33m[WARN]\\x1b[39m (match_cJCDCjousHxc) - turn 44; Unit u_4 collided when trying to move e to (21, 31)\\n\\x1b[33m[WARN]\\x1b[39m (match_cJCDCjousHxc) - turn 45; Unit u_3 collided when trying to move e to (22, 31)\\n\\x1b[33m[WARN]\\x1b[39m (match_cJCDCjousHxc) - turn 45; Unit u_4 collided when trying to move e to (21, 31)\\n\\x1b[33m[WARN]\\x1b[39m (match_cJCDCjousHxc) - Agent 0 tried to move unit u_1 off map; turn 48; cmd: m u_1 w\\n\\x1b[33m[WARN]\\x1b[39m (match_cJCDCjousHxc) - Agent 0 tried to move unit u_1 off map; turn 49; cmd: m u_1 w\\n\\x1b[33m[WARN]\\x1b[39m (match_cJCDCjousHxc) - Agent 0 tried to move unit u_1 off map; turn 50; cmd: m u_1 w\\n\\x1b[33m[WARN]\\x1b[39m (match_cJCDCjousHxc) - Agent 0 tried to move unit u_1 off map; turn 51; cmd: m u_1 w\\n\\x1b[33m[WARN]\\x1b[39m (match_cJCDCjousHxc) - Agent 0 tried to move unit u_1 off map; turn 52; cmd: m u_1 w\\n\\x1b[33m[WARN]\\x1b[39m (match_cJCDCjousHxc) - Agent 0 tried to move unit u_1 off map; turn 53; cmd: m u_1 w\\n\\x1b[33m[WARN]\\x1b[39m (match_cJCDCjousHxc) - turn 53; Unit u_9 collided when trying to move s to (22, 27)\\n\\x1b[33m[WARN]\\x1b[39m (match_cJCDCjousHxc) - Agent 0 tried to move unit u_1 off map; turn 54; cmd: m u_1 w\\n\\x1b[33m[WARN]\\x1b[39m (match_cJCDCjousHxc) - Agent 0 tried to move unit u_1 off map; turn 55; cmd: m u_1 w\\n\\x1b[33m[WARN]\\x1b[39m (match_cJCDCjousHxc) - Agent 0 tried to move unit u_1 off map; turn 56; cmd: m u_1 w\\n\\x1b[33m[WARN]\\x1b[39m (match_cJCDCjousHxc) - Agent 0 tried to move unit u_1 off map; turn 57; cmd: m u_1 w\\n\\x1b[33m[WARN]\\x1b[39m (match_cJCDCjousHxc) - Agent 0 tried to move unit u_1 off map; turn 58; cmd: m u_1 w\\n\\x1b[33m[WARN]\\x1b[39m (match_cJCDCjousHxc) - Agent 0 tried to move unit u_1 off map; turn 59; cmd: m u_1 w\\n\\x1b[33m[WARN]\\x1b[39m (match_cJCDCjousHxc) - Agent 0 tried to move unit u_1 off map; turn 60; cmd: m u_1 w\\n\\x1b[33m[WARN]\\x1b[39m (match_cJCDCjousHxc) - Agent 0 tried to move unit u_1 off map; turn 61; cmd: m u_1 w\\n\\x1b[33m[WARN]\\x1b[39m (match_cJCDCjousHxc) - Agent 0 tried to move unit u_1 off map; turn 62; cmd: m u_1 w\\n\\x1b[33m[WARN]\\x1b[39m (match_cJCDCjousHxc) - Agent 0 tried to move unit u_1 off map; turn 63; cmd: m u_1 w\\n\\x1b[33m[WARN]\\x1b[39m (match_cJCDCjousHxc) - Agent 0 tried to move unit u_1 off map; turn 64; cmd: m u_1 w\\n\\x1b[33m[WARN]\\x1b[39m (match_cJCDCjousHxc) - Agent 0 tried to move unit u_1 off map; turn 65; cmd: m u_1 w\\n\\x1b[33m[WARN]\\x1b[39m (match_cJCDCjousHxc) - Agent 0 tried to move unit u_1 off map; turn 66; cmd: m u_1 w\\n\\x1b[33m[WARN]\\x1b[39m (match_cJCDCjousHxc) - Agent 0 tried to move unit u_1 off map; turn 67; cmd: m u_1 w\\n\\x1b[33m[WARN]\\x1b[39m (match_cJCDCjousHxc) - Agent 0 tried to move unit u_1 off map; turn 68; cmd: m u_1 w\\n\\x1b[33m[WARN]\\x1b[39m (match_cJCDCjousHxc) - Agent 0 tried to move unit u_1 off map; turn 69; cmd: m u_1 w\\n\\x1b[33m[WARN]\\x1b[39m (match_cJCDCjousHxc) - Agent 0 tried to move unit u_1 off map; turn 70; cmd: m u_1 w\\n\\x1b[33m[WARN]\\x1b[39m (match_cJCDCjousHxc) - Agent 0 tried to move unit u_1 off map; turn 71; cmd: m u_1 w\\n\\x1b[33m[WARN]\\x1b[39m (match_cJCDCjousHxc) - Agent 0 tried to move unit u_1 off map; turn 72; cmd: m u_1 w\\n\\x1b[33m[WARN]\\x1b[39m (match_cJCDCjousHxc) - Agent 0 tried to move unit u_1 off map; turn 73; cmd: m u_1 w\\n\\x1b[33m[WARN]\\x1b[39m (match_cJCDCjousHxc) - Agent 0 tried to move unit u_1 off map; turn 74; cmd: m u_1 w\\n\\x1b[33m[WARN]\\x1b[39m (match_cJCDCjousHxc) - Agent 0 tried to move unit u_1 off map; turn 75; cmd: m u_1 w\\n\\x1b[33m[WARN]\\x1b[39m (match_cJCDCjousHxc) - Agent 0 tried to move unit u_1 off map; turn 76; cmd: m u_1 w\\n\\x1b[33m[WARN]\\x1b[39m (match_cJCDCjousHxc) - Agent 0 tried to move unit u_1 off map; turn 77; cmd: m u_1 w\\n\\x1b[33m[WARN]\\x1b[39m (match_cJCDCjousHxc) - Agent 0 tried to move unit u_1 off map; turn 78; cmd: m u_1 w\\n\\x1b[33m[WARN]\\x1b[39m (match_cJCDCjousHxc) - Agent 0 tried to move unit u_1 off map; turn 79; cmd: m u_1 w\\n\\x1b[33m[WARN]\\x1b[39m (match_cJCDCjousHxc) - Agent 0 tried to move unit u_1 off map; turn 80; cmd: m u_1 w\\n\\x1b[33m[WARN]\\x1b[39m (match_cJCDCjousHxc) - Agent 0 tried to move unit u_1 off map; turn 81; cmd: m u_1 w\\n\\x1b[33m[WARN]\\x1b[39m (match_cJCDCjousHxc) - Agent 0 tried to move unit u_1 off map; turn 82; cmd: m u_1 w\\n\\x1b[33m[WARN]\\x1b[39m (match_cJCDCjousHxc) - Agent 0 tried to move unit u_1 off map; turn 83; cmd: m u_1 w\\n\\x1b[33m[WARN]\\x1b[39m (match_cJCDCjousHxc) - Agent 0 tried to move unit u_1 off map; turn 84; cmd: m u_1 w\\n\\x1b[33m[WARN]\\x1b[39m (match_cJCDCjousHxc) - Agent 0 tried to move unit u_1 off map; turn 85; cmd: m u_1 w\\n\\x1b[33m[WARN]\\x1b[39m (match_cJCDCjousHxc) - Agent 0 tried to move unit u_1 off map; turn 86; cmd: m u_1 w\\n\\x1b[33m[WARN]\\x1b[39m (match_cJCDCjousHxc) - Agent 0 tried to move unit u_1 off map; turn 87; cmd: m u_1 w\\n\\x1b[33m[WARN]\\x1b[39m (match_cJCDCjousHxc) - Agent 0 tried to move unit u_1 off map; turn 88; cmd: m u_1 w\\n\\x1b[33m[WARN]\\x1b[39m (match_cJCDCjousHxc) - Agent 0 tried to move unit u_1 off map; turn 89; cmd: m u_1 w\\n\\x1b[33m[WARN]\\x1b[39m (match_cJCDCjousHxc) - Agent 0 tried to move unit u_1 off map; turn 90; cmd: m u_1 w\\n\\x1b[33m[WARN]\\x1b[39m (match_cJCDCjousHxc) - Agent 0 tried to move unit u_1 off map; turn 91; cmd: m u_1 w\\n\\x1b[33m[WARN]\\x1b[39m (match_cJCDCjousHxc) - Agent 0 tried to move unit u_1 off map; turn 92; cmd: m u_1 w\\n\\x1b[33m[WARN]\\x1b[39m (match_cJCDCjousHxc) - turn 92; Unit u_10 collided when trying to move s to (28, 27)\\n\\x1b[33m[WARN]\\x1b[39m (match_cJCDCjousHxc) - turn 92; Unit u_12 collided when trying to move e to (28, 26)\\n\\x1b[33m[WARN]\\x1b[39m (match_cJCDCjousHxc) - Agent 0 tried to move unit u_1 off map; turn 93; cmd: m u_1 w\\n\\x1b[33m[WARN]\\x1b[39m (match_cJCDCjousHxc) - Agent 0 tried to move unit u_1 off map; turn 94; cmd: m u_1 w\\n\\x1b[33m[WARN]\\x1b[39m (match_cJCDCjousHxc) - Agent 0 tried to move unit u_1 off map; turn 95; cmd: m u_1 w\\n\\x1b[33m[WARN]\\x1b[39m (match_cJCDCjousHxc) - turn 95; Unit u_10 collided when trying to move n to (28, 24)\\n\\x1b[33m[WARN]\\x1b[39m (match_cJCDCjousHxc) - turn 95; Unit u_12 collided when trying to move n to (28, 25)\\n\\x1b[33m[WARN]\\x1b[39m (match_cJCDCjousHxc) - Agent 0 tried to move unit u_1 off map; turn 96; cmd: m u_1 w\\n\\x1b[33m[WARN]\\x1b[39m (match_cJCDCjousHxc) - Agent 0 tried to move unit u_1 off map; turn 97; cmd: m u_1 w\\n\\x1b[33m[WARN]\\x1b[39m (match_cJCDCjousHxc) - Agent 0 tried to move unit u_1 off map; turn 98; cmd: m u_1 w\\n\\x1b[33m[WARN]\\x1b[39m (match_cJCDCjousHxc) - turn 98; Unit u_12 collided when trying to move w to (27, 25)\\n\\x1b[33m[WARN]\\x1b[39m (match_cJCDCjousHxc) - Agent 0 tried to move unit u_1 off map; turn 99; cmd: m u_1 w\\n\\x1b[33m[WARN]\\x1b[39m (match_cJCDCjousHxc) - Agent 0 tried to move unit u_1 off map; turn 100; cmd: m u_1 w\\n\\x1b[33m[WARN]\\x1b[39m (match_cJCDCjousHxc) - Agent 0 tried to move unit u_1 off map; turn 101; cmd: m u_1 w\\n\\x1b[33m[WARN]\\x1b[39m (match_cJCDCjousHxc) - Agent 0 tried to move unit u_1 off map; turn 102; cmd: m u_1 w\\n\\x1b[33m[WARN]\\x1b[39m (match_cJCDCjousHxc) - Agent 0 tried to move unit u_1 off map; turn 103; cmd: m u_1 w\\n\\x1b[33m[WARN]\\x1b[39m (match_cJCDCjousHxc) - turn 103; Unit u_2 collided when trying to move n to (29, 24)\\n\\x1b[33m[WARN]\\x1b[39m (match_cJCDCjousHxc) - turn 103; Unit u_6 collided when trying to move e to (29, 25)\\n\\x1b[33m[WARN]\\x1b[39m (match_cJCDCjousHxc) - turn 103; Unit u_10 collided when trying to move e to (28, 25)\\n\\x1b[33m[WARN]\\x1b[39m (match_cJCDCjousHxc) - Agent 0 tried to move unit u_1 off map; turn 104; cmd: m u_1 w\\n\\x1b[33m[WARN]\\x1b[39m (match_cJCDCjousHxc) - Agent 0 tried to move unit u_1 off map; turn 105; cmd: m u_1 w\\n\\x1b[33m[WARN]\\x1b[39m (match_cJCDCjousHxc) - turn 105; Unit u_22 collided when trying to move s to (16, 29)\\n\\x1b[33m[WARN]\\x1b[39m (match_cJCDCjousHxc) - Agent 0 tried to move unit u_1 off map; turn 106; cmd: m u_1 w\\n\\x1b[33m[WARN]\\x1b[39m (match_cJCDCjousHxc) - turn 106; Unit u_12 collided when trying to move e to (30, 25)\\n\\x1b[33m[WARN]\\x1b[39m (match_cJCDCjousHxc) - turn 106; Unit u_10 collided when trying to move e to (29, 25)\\n\\x1b[33m[WARN]\\x1b[39m (match_cJCDCjousHxc) - turn 106; Unit u_6 collided when trying to move n to (28, 25)\\n\\x1b[33m[WARN]\\x1b[39m (match_cJCDCjousHxc) - Agent 0 tried to move unit u_1 off map; turn 107; cmd: m u_1 w\\n\\x1b[33m[WARN]\\x1b[39m (match_cJCDCjousHxc) - turn 107; Unit u_6 collided when trying to move e to (29, 26)\\n\\x1b[33m[WARN]\\x1b[39m (match_cJCDCjousHxc) - turn 107; Unit u_12 collided when trying to move s to (29, 26)\\n\\x1b[33m[WARN]\\x1b[39m (match_cJCDCjousHxc) - turn 107; Unit u_10 collided when trying to move e to (29, 25)\\n\\x1b[33m[WARN]\\x1b[39m (match_cJCDCjousHxc) - turn 107; Unit u_24 collided when trying to move s to (28, 25)\\n\\x1b[33m[WARN]\\x1b[39m (match_cJCDCjousHxc) - Agent 0 tried to move unit u_1 off map; turn 108; cmd: m u_1 w\\n\\x1b[33m[WARN]\\x1b[39m (match_cJCDCjousHxc) - Agent 0 tried to move unit u_1 off map; turn 109; cmd: m u_1 w\\n\\x1b[33m[WARN]\\x1b[39m (match_cJCDCjousHxc) - Agent 0 tried to move unit u_1 off map; turn 110; cmd: m u_1 w\\n\\x1b[33m[WARN]\\x1b[39m (match_cJCDCjousHxc) - Agent 0 tried to move unit u_1 off map; turn 111; cmd: m u_1 w\\n\\x1b[33m[WARN]\\x1b[39m (match_cJCDCjousHxc) - Agent 0 tried to move unit u_1 off map; turn 112; cmd: m u_1 w\\n\\x1b[33m[WARN]\\x1b[39m (match_cJCDCjousHxc) - Agent 0 tried to move unit u_1 off map; turn 113; cmd: m u_1 w\\n\\x1b[33m[WARN]\\x1b[39m (match_cJCDCjousHxc) - Agent 0 tried to move unit u_1 off map; turn 114; cmd: m u_1 w\\n\\x1b[33m[WARN]\\x1b[39m (match_cJCDCjousHxc) - Agent 0 tried to move unit u_1 off map; turn 115; cmd: m u_1 w\\n{\\n  ranks: [\\n    {\\n      rank: 1,\\n      agentID: 1,\\n      name: '../submissions/simple/main_550318061354680202.py'\\n    },\\n    {\\n      rank: 2,\\n      agentID: 0,\\n      name: '../submissions/simple/main_448592590627219544.py'\\n    }\\n  ],\\n  replayFile: 'replays/286015765.json',\\n  seed: 1000\\n}\\n\")"
      ]
     },
     "execution_count": 260,
     "metadata": {},
     "output_type": "execute_result"
    }
   ],
   "source": [
    "run_game(build_runnable_bot_with_flags({\"model_path\": \"models/policy_v1\", \n",
    "                                        \"use_policy\": True,\n",
    "                                        \"is_neural\": True,\n",
    "                                        \"ohe_path\": \"models/ohe_v1\",\n",
    "                                        \"use_old_units_cargo_rules\": False}),\n",
    "         build_runnable_bot_with_flags({}), seed=1000)"
   ]
  },
  {
   "cell_type": "code",
   "execution_count": 49,
   "metadata": {
    "scrolled": true
   },
   "outputs": [
    {
     "name": "stdout",
     "output_type": "stream",
     "text": [
      "\n",
      "-=-=-=-=-=-=-=-=-=-=-=-| \u001b[34m[INFO]\u001b[39m \u001b[1m\u001b[32mmatch_EdnGJ14OldCZ\u001b[39m\u001b[22m |-=-=-=-=-=-=-=-=-=-=-=-\n",
      "\n",
      "\u001b[34m[INFO]\u001b[39m (match_EdnGJ14OldCZ) - Design: lux_ai_2021 | Initializing match - ID: EdnGJ14OldCZ, Name: match_EdnGJ14OldCZ\n",
      "\u001b[33m[WARN]\u001b[39m (match_EdnGJ14OldCZ) - turn 9; Unit u_3 collided when trying to move s to (18, 16)\n",
      "\u001b[33m[WARN]\u001b[39m (match_EdnGJ14OldCZ) - turn 22; Unit u_5 collided when trying to move e to (22, 15)\n",
      "\u001b[33m[WARN]\u001b[39m (match_EdnGJ14OldCZ) - turn 22; Unit u_6 collided when trying to move e to (21, 15)\n",
      "\u001b[33m[WARN]\u001b[39m (match_EdnGJ14OldCZ) - turn 22; Unit u_7 collided when trying to move w to (16, 15)\n",
      "\u001b[33m[WARN]\u001b[39m (match_EdnGJ14OldCZ) - turn 23; Unit u_7 collided when trying to move n to (17, 14)\n",
      "\u001b[33m[WARN]\u001b[39m (match_EdnGJ14OldCZ) - turn 25; Unit u_6 collided when trying to move n to (21, 14)\n",
      "\u001b[33m[WARN]\u001b[39m (match_EdnGJ14OldCZ) - turn 25; Unit u_10 collided when trying to move w to (21, 15)\n",
      "\u001b[33m[WARN]\u001b[39m (match_EdnGJ14OldCZ) - turn 26; Unit u_7 collided when trying to move w to (16, 14)\n",
      "\u001b[33m[WARN]\u001b[39m (match_EdnGJ14OldCZ) - turn 26; Unit u_9 collided when trying to move n to (17, 14)\n",
      "\u001b[33m[WARN]\u001b[39m (match_EdnGJ14OldCZ) - turn 29; Unit u_9 collided when trying to move n to (17, 13)\n",
      "\u001b[33m[WARN]\u001b[39m (match_EdnGJ14OldCZ) - turn 29; Unit u_13 collided when trying to move e to (17, 14)\n",
      "\u001b[33m[WARN]\u001b[39m (match_EdnGJ14OldCZ) - turn 44; Unit u_4 collided when trying to move s to (21, 15)\n",
      "\u001b[33m[WARN]\u001b[39m (match_EdnGJ14OldCZ) - turn 44; Unit u_11 collided when trying to move n to (21, 15)\n",
      "\u001b[33m[WARN]\u001b[39m (match_EdnGJ14OldCZ) - turn 44; Unit u_14 collided when trying to move e to (21, 16)\n",
      "\u001b[33m[WARN]\u001b[39m (match_EdnGJ14OldCZ) - turn 46; Unit u_13 collided when trying to move n to (18, 13)\n",
      "\u001b[33m[WARN]\u001b[39m (match_EdnGJ14OldCZ) - turn 87; Unit u_4 collided when trying to move e to (20, 14)\n",
      "\u001b[33m[WARN]\u001b[39m (match_EdnGJ14OldCZ) - turn 87; Unit u_6 collided when trying to move s to (20, 14)\n",
      "\u001b[33m[WARN]\u001b[39m (match_EdnGJ14OldCZ) - turn 88; Unit u_4 collided when trying to move e to (20, 14)\n",
      "\u001b[33m[WARN]\u001b[39m (match_EdnGJ14OldCZ) - turn 88; Unit u_6 collided when trying to move s to (20, 14)\n",
      "\u001b[33m[WARN]\u001b[39m (match_EdnGJ14OldCZ) - turn 89; Unit u_4 collided when trying to move e to (20, 14)\n",
      "\u001b[33m[WARN]\u001b[39m (match_EdnGJ14OldCZ) - turn 89; Unit u_6 collided when trying to move s to (20, 14)\n",
      "\u001b[33m[WARN]\u001b[39m (match_EdnGJ14OldCZ) - turn 90; Unit u_4 collided when trying to move e to (20, 14)\n",
      "\u001b[33m[WARN]\u001b[39m (match_EdnGJ14OldCZ) - turn 90; Unit u_6 collided when trying to move s to (20, 14)\n",
      "\u001b[33m[WARN]\u001b[39m (match_EdnGJ14OldCZ) - turn 91; Unit u_4 collided when trying to move e to (20, 14)\n",
      "\u001b[33m[WARN]\u001b[39m (match_EdnGJ14OldCZ) - turn 91; Unit u_6 collided when trying to move s to (20, 14)\n",
      "\u001b[33m[WARN]\u001b[39m (match_EdnGJ14OldCZ) - turn 92; Unit u_3 collided when trying to move e to (20, 14)\n",
      "\u001b[33m[WARN]\u001b[39m (match_EdnGJ14OldCZ) - turn 92; Unit u_6 collided when trying to move s to (20, 14)\n",
      "\u001b[33m[WARN]\u001b[39m (match_EdnGJ14OldCZ) - turn 93; Unit u_3 collided when trying to move e to (20, 14)\n",
      "\u001b[33m[WARN]\u001b[39m (match_EdnGJ14OldCZ) - turn 93; Unit u_6 collided when trying to move s to (20, 14)\n",
      "\u001b[33m[WARN]\u001b[39m (match_EdnGJ14OldCZ) - turn 94; Unit u_3 collided when trying to move e to (20, 14)\n",
      "\u001b[33m[WARN]\u001b[39m (match_EdnGJ14OldCZ) - turn 94; Unit u_6 collided when trying to move s to (20, 14)\n",
      "\u001b[33m[WARN]\u001b[39m (match_EdnGJ14OldCZ) - turn 95; Unit u_3 collided when trying to move e to (20, 14)\n",
      "\u001b[33m[WARN]\u001b[39m (match_EdnGJ14OldCZ) - turn 95; Unit u_6 collided when trying to move s to (20, 14)\n",
      "\u001b[33m[WARN]\u001b[39m (match_EdnGJ14OldCZ) - turn 96; Unit u_3 collided when trying to move e to (20, 14)\n",
      "\u001b[33m[WARN]\u001b[39m (match_EdnGJ14OldCZ) - turn 96; Unit u_6 collided when trying to move s to (20, 14)\n",
      "\u001b[33m[WARN]\u001b[39m (match_EdnGJ14OldCZ) - turn 97; Unit u_3 collided when trying to move e to (20, 14)\n",
      "\u001b[33m[WARN]\u001b[39m (match_EdnGJ14OldCZ) - turn 97; Unit u_6 collided when trying to move s to (20, 14)\n",
      "\u001b[33m[WARN]\u001b[39m (match_EdnGJ14OldCZ) - turn 98; Unit u_3 collided when trying to move e to (20, 14)\n",
      "\u001b[33m[WARN]\u001b[39m (match_EdnGJ14OldCZ) - turn 98; Unit u_6 collided when trying to move s to (20, 14)\n",
      "\u001b[33m[WARN]\u001b[39m (match_EdnGJ14OldCZ) - turn 99; Unit u_21 collided when trying to move s to (3, 15)\n",
      "\u001b[33m[WARN]\u001b[39m (match_EdnGJ14OldCZ) - turn 99; Unit u_3 collided when trying to move e to (20, 14)\n",
      "\u001b[33m[WARN]\u001b[39m (match_EdnGJ14OldCZ) - turn 99; Unit u_6 collided when trying to move s to (20, 14)\n",
      "\u001b[33m[WARN]\u001b[39m (match_EdnGJ14OldCZ) - turn 100; Unit u_3 collided when trying to move e to (20, 14)\n",
      "\u001b[33m[WARN]\u001b[39m (match_EdnGJ14OldCZ) - turn 100; Unit u_6 collided when trying to move s to (20, 14)\n",
      "\u001b[33m[WARN]\u001b[39m (match_EdnGJ14OldCZ) - turn 101; Unit u_3 collided when trying to move e to (20, 14)\n",
      "\u001b[33m[WARN]\u001b[39m (match_EdnGJ14OldCZ) - turn 101; Unit u_6 collided when trying to move s to (20, 14)\n",
      "\u001b[33m[WARN]\u001b[39m (match_EdnGJ14OldCZ) - turn 102; Unit u_21 collided when trying to move e to (4, 15)\n",
      "\u001b[33m[WARN]\u001b[39m (match_EdnGJ14OldCZ) - turn 102; Unit u_3 collided when trying to move e to (20, 14)\n",
      "\u001b[33m[WARN]\u001b[39m (match_EdnGJ14OldCZ) - turn 102; Unit u_6 collided when trying to move s to (20, 14)\n",
      "\u001b[33m[WARN]\u001b[39m (match_EdnGJ14OldCZ) - turn 103; Unit u_3 collided when trying to move e to (20, 14)\n",
      "\u001b[33m[WARN]\u001b[39m (match_EdnGJ14OldCZ) - turn 103; Unit u_6 collided when trying to move s to (20, 14)\n",
      "\u001b[33m[WARN]\u001b[39m (match_EdnGJ14OldCZ) - turn 104; Unit u_3 collided when trying to move e to (20, 14)\n",
      "\u001b[33m[WARN]\u001b[39m (match_EdnGJ14OldCZ) - turn 104; Unit u_6 collided when trying to move s to (20, 14)\n",
      "\u001b[33m[WARN]\u001b[39m (match_EdnGJ14OldCZ) - turn 105; Unit u_3 collided when trying to move e to (20, 14)\n",
      "\u001b[33m[WARN]\u001b[39m (match_EdnGJ14OldCZ) - turn 105; Unit u_6 collided when trying to move s to (20, 14)\n",
      "\u001b[33m[WARN]\u001b[39m (match_EdnGJ14OldCZ) - turn 106; Unit u_3 collided when trying to move e to (20, 14)\n",
      "\u001b[33m[WARN]\u001b[39m (match_EdnGJ14OldCZ) - turn 106; Unit u_6 collided when trying to move s to (20, 14)\n",
      "\u001b[33m[WARN]\u001b[39m (match_EdnGJ14OldCZ) - turn 107; Unit u_3 collided when trying to move e to (20, 14)\n",
      "\u001b[33m[WARN]\u001b[39m (match_EdnGJ14OldCZ) - turn 107; Unit u_6 collided when trying to move s to (20, 14)\n",
      "\u001b[33m[WARN]\u001b[39m (match_EdnGJ14OldCZ) - turn 108; Unit u_3 collided when trying to move e to (20, 14)\n",
      "\u001b[33m[WARN]\u001b[39m (match_EdnGJ14OldCZ) - turn 108; Unit u_6 collided when trying to move s to (20, 14)\n",
      "\u001b[33m[WARN]\u001b[39m (match_EdnGJ14OldCZ) - turn 109; Unit u_3 collided when trying to move e to (20, 14)\n",
      "\u001b[33m[WARN]\u001b[39m (match_EdnGJ14OldCZ) - turn 109; Unit u_6 collided when trying to move s to (20, 14)\n",
      "\u001b[33m[WARN]\u001b[39m (match_EdnGJ14OldCZ) - turn 135; Unit u_21 collided when trying to move n to (6, 14)\n",
      "\u001b[33m[WARN]\u001b[39m (match_EdnGJ14OldCZ) - turn 135; Unit u_22 collided when trying to move s to (6, 14)\n",
      "\u001b[33m[WARN]\u001b[39m (match_EdnGJ14OldCZ) - turn 136; Unit u_21 collided when trying to move n to (6, 14)\n",
      "\u001b[33m[WARN]\u001b[39m (match_EdnGJ14OldCZ) - turn 136; Unit u_25 collided when trying to move s to (6, 14)\n",
      "\u001b[33m[WARN]\u001b[39m (match_EdnGJ14OldCZ) - turn 140; Unit u_22 collided when trying to move s to (6, 14)\n",
      "\u001b[33m[WARN]\u001b[39m (match_EdnGJ14OldCZ) - turn 145; Unit u_25 collided when trying to move e to (7, 14)\n",
      "\u001b[33m[WARN]\u001b[39m (match_EdnGJ14OldCZ) - turn 147; Unit u_24 collided when trying to move n to (6, 15)\n",
      "\u001b[33m[WARN]\u001b[39m (match_EdnGJ14OldCZ) - turn 150; Unit u_21 collided when trying to move w to (4, 14)\n",
      "\u001b[33m[WARN]\u001b[39m (match_EdnGJ14OldCZ) - turn 161; Unit u_22 collided when trying to move s to (6, 14)\n",
      "\u001b[33m[WARN]\u001b[39m (match_EdnGJ14OldCZ) - turn 161; Unit u_26 collided when trying to move s to (6, 14)\n",
      "\u001b[33m[WARN]\u001b[39m (match_EdnGJ14OldCZ) - turn 167; Unit u_28 collided when trying to move e to (5, 15)\n",
      "\u001b[33m[WARN]\u001b[39m (match_EdnGJ14OldCZ) - turn 170; Unit u_25 collided when trying to move w to (5, 14)\n",
      "\u001b[33m[WARN]\u001b[39m (match_EdnGJ14OldCZ) - turn 170; Unit u_28 collided when trying to move n to (5, 14)\n",
      "\u001b[33m[WARN]\u001b[39m (match_EdnGJ14OldCZ) - turn 173; Unit u_28 collided when trying to move n to (5, 13)\n",
      "\u001b[33m[WARN]\u001b[39m (match_EdnGJ14OldCZ) - turn 173; Unit u_24 collided when trying to move n to (5, 14)\n",
      "\u001b[33m[WARN]\u001b[39m (match_EdnGJ14OldCZ) - turn 174; Unit u_28 collided when trying to move n to (5, 13)\n",
      "\u001b[33m[WARN]\u001b[39m (match_EdnGJ14OldCZ) - turn 174; Unit u_24 collided when trying to move n to (5, 14)\n",
      "\u001b[33m[WARN]\u001b[39m (match_EdnGJ14OldCZ) - turn 175; Unit u_24 collided when trying to move n to (5, 14)\n",
      "\u001b[33m[WARN]\u001b[39m (match_EdnGJ14OldCZ) - turn 175; Unit u_26 collided when trying to move s to (5, 14)\n",
      "\u001b[33m[WARN]\u001b[39m (match_EdnGJ14OldCZ) - turn 177; Unit u_1 collided when trying to move s to (2, 16)\n",
      "\u001b[33m[WARN]\u001b[39m (match_EdnGJ14OldCZ) - turn 178; Unit u_1 collided when trying to move s to (2, 16)\n",
      "\u001b[33m[WARN]\u001b[39m (match_EdnGJ14OldCZ) - turn 178; Unit u_21 collided when trying to move w to (2, 16)\n",
      "\u001b[33m[WARN]\u001b[39m (match_EdnGJ14OldCZ) - turn 180; Unit u_21 collided when trying to move w to (2, 16)\n",
      "\u001b[33m[WARN]\u001b[39m (match_EdnGJ14OldCZ) - turn 180; Unit u_24 collided when trying to move s to (6, 15)\n",
      "\u001b[33m[WARN]\u001b[39m (match_EdnGJ14OldCZ) - turn 180; Unit u_28 collided when trying to move s to (6, 15)\n",
      "\u001b[33m[WARN]\u001b[39m (match_EdnGJ14OldCZ) - turn 180; Unit u_30 collided when trying to move s to (6, 15)\n",
      "\u001b[33m[WARN]\u001b[39m (match_EdnGJ14OldCZ) - turn 181; Unit u_22 collided when trying to move s to (6, 15)\n",
      "\u001b[33m[WARN]\u001b[39m (match_EdnGJ14OldCZ) - turn 181; Unit u_24 collided when trying to move s to (6, 15)\n",
      "\u001b[33m[WARN]\u001b[39m (match_EdnGJ14OldCZ) - turn 181; Unit u_28 collided when trying to move s to (6, 15)\n",
      "\u001b[33m[WARN]\u001b[39m (match_EdnGJ14OldCZ) - turn 181; Unit u_30 collided when trying to move s to (6, 15)\n",
      "\u001b[33m[WARN]\u001b[39m (match_EdnGJ14OldCZ) - turn 182; Unit u_22 collided when trying to move s to (6, 15)\n",
      "\u001b[33m[WARN]\u001b[39m (match_EdnGJ14OldCZ) - turn 182; Unit u_24 collided when trying to move s to (6, 15)\n",
      "\u001b[33m[WARN]\u001b[39m (match_EdnGJ14OldCZ) - turn 182; Unit u_28 collided when trying to move s to (6, 15)\n",
      "\u001b[33m[WARN]\u001b[39m (match_EdnGJ14OldCZ) - turn 182; Unit u_32 collided when trying to move w to (2, 16)\n",
      "\u001b[33m[WARN]\u001b[39m (match_EdnGJ14OldCZ) - turn 183; Unit u_22 collided when trying to move s to (6, 15)\n",
      "\u001b[33m[WARN]\u001b[39m (match_EdnGJ14OldCZ) - turn 183; Unit u_28 collided when trying to move s to (6, 15)\n",
      "\u001b[33m[WARN]\u001b[39m (match_EdnGJ14OldCZ) - turn 183; Unit u_32 collided when trying to move w to (2, 16)\n",
      "\u001b[33m[WARN]\u001b[39m (match_EdnGJ14OldCZ) - turn 184; Unit u_1 collided when trying to move e to (2, 16)\n",
      "\u001b[33m[WARN]\u001b[39m (match_EdnGJ14OldCZ) - turn 184; Unit u_27 collided when trying to move n to (2, 16)\n",
      "\u001b[33m[WARN]\u001b[39m (match_EdnGJ14OldCZ) - turn 184; Unit u_32 collided when trying to move w to (2, 16)\n",
      "\u001b[33m[WARN]\u001b[39m (match_EdnGJ14OldCZ) - turn 184; Unit u_22 collided when trying to move s to (6, 15)\n",
      "\u001b[33m[WARN]\u001b[39m (match_EdnGJ14OldCZ) - turn 184; Unit u_28 collided when trying to move s to (6, 15)\n",
      "\u001b[33m[WARN]\u001b[39m (match_EdnGJ14OldCZ) - turn 185; Unit u_1 collided when trying to move e to (2, 16)\n",
      "\u001b[33m[WARN]\u001b[39m (match_EdnGJ14OldCZ) - turn 185; Unit u_27 collided when trying to move n to (2, 16)\n",
      "\u001b[33m[WARN]\u001b[39m (match_EdnGJ14OldCZ) - turn 185; Unit u_32 collided when trying to move w to (2, 16)\n",
      "\u001b[33m[WARN]\u001b[39m (match_EdnGJ14OldCZ) - turn 185; Unit u_34 collided when trying to move e to (2, 16)\n",
      "\u001b[33m[WARN]\u001b[39m (match_EdnGJ14OldCZ) - turn 186; Unit u_24 collided when trying to move s to (6, 15)\n",
      "\u001b[33m[WARN]\u001b[39m (match_EdnGJ14OldCZ) - turn 189; Unit u_32 collided when trying to move n to (3, 15)\n",
      "\u001b[33m[WARN]\u001b[39m (match_EdnGJ14OldCZ) - turn 200; Unit u_21 collided when trying to move w to (0, 15)\n",
      "\u001b[33m[WARN]\u001b[39m (match_EdnGJ14OldCZ) - turn 200; Unit u_34 collided when trying to move w to (0, 15)\n",
      "\u001b[33m[WARN]\u001b[39m (match_EdnGJ14OldCZ) - turn 200; Unit u_22 collided when trying to move s to (6, 15)\n",
      "\u001b[33m[WARN]\u001b[39m (match_EdnGJ14OldCZ) - turn 200; Unit u_24 collided when trying to move s to (6, 15)\n",
      "\u001b[33m[WARN]\u001b[39m (match_EdnGJ14OldCZ) - turn 200; Unit u_30 collided when trying to move s to (6, 15)\n",
      "\u001b[33m[WARN]\u001b[39m (match_EdnGJ14OldCZ) - turn 201; Unit u_22 collided when trying to move s to (6, 15)\n",
      "\u001b[33m[WARN]\u001b[39m (match_EdnGJ14OldCZ) - turn 201; Unit u_24 collided when trying to move s to (6, 15)\n",
      "\u001b[33m[WARN]\u001b[39m (match_EdnGJ14OldCZ) - turn 201; Unit u_30 collided when trying to move s to (6, 15)\n",
      "\u001b[33m[WARN]\u001b[39m (match_EdnGJ14OldCZ) - turn 202; Unit u_22 collided when trying to move s to (6, 15)\n",
      "\u001b[33m[WARN]\u001b[39m (match_EdnGJ14OldCZ) - turn 202; Unit u_30 collided when trying to move s to (6, 15)\n",
      "\u001b[33m[WARN]\u001b[39m (match_EdnGJ14OldCZ) - turn 202; Unit u_37 collided when trying to move s to (6, 15)\n",
      "\u001b[33m[WARN]\u001b[39m (match_EdnGJ14OldCZ) - turn 203; Unit u_22 collided when trying to move s to (6, 15)\n",
      "\u001b[33m[WARN]\u001b[39m (match_EdnGJ14OldCZ) - turn 203; Unit u_30 collided when trying to move s to (6, 15)\n",
      "\u001b[33m[WARN]\u001b[39m (match_EdnGJ14OldCZ) - turn 205; Unit u_24 collided when trying to move s to (6, 15)\n",
      "\u001b[33m[WARN]\u001b[39m (match_EdnGJ14OldCZ) - turn 205; Unit u_37 collided when trying to move s to (6, 15)\n",
      "\u001b[33m[WARN]\u001b[39m (match_EdnGJ14OldCZ) - turn 206; Unit u_22 collided when trying to move w to (5, 15)\n",
      "\u001b[33m[WARN]\u001b[39m (match_EdnGJ14OldCZ) - turn 206; Unit u_24 collided when trying to move s to (6, 15)\n",
      "\u001b[33m[WARN]\u001b[39m (match_EdnGJ14OldCZ) - turn 206; Unit u_37 collided when trying to move s to (6, 15)\n",
      "\u001b[33m[WARN]\u001b[39m (match_EdnGJ14OldCZ) - turn 206; Unit u_30 collided when trying to move s to (5, 15)\n",
      "\u001b[33m[WARN]\u001b[39m (match_EdnGJ14OldCZ) - turn 207; Unit u_22 collided when trying to move w to (5, 15)\n",
      "\u001b[33m[WARN]\u001b[39m (match_EdnGJ14OldCZ) - turn 207; Unit u_24 collided when trying to move s to (6, 15)\n",
      "\u001b[33m[WARN]\u001b[39m (match_EdnGJ14OldCZ) - turn 207; Unit u_37 collided when trying to move s to (6, 15)\n",
      "\u001b[33m[WARN]\u001b[39m (match_EdnGJ14OldCZ) - turn 207; Unit u_30 collided when trying to move s to (5, 15)\n",
      "\u001b[33m[WARN]\u001b[39m (match_EdnGJ14OldCZ) - turn 208; Unit u_22 collided when trying to move w to (5, 15)\n",
      "\u001b[33m[WARN]\u001b[39m (match_EdnGJ14OldCZ) - turn 208; Unit u_24 collided when trying to move s to (6, 15)\n",
      "\u001b[33m[WARN]\u001b[39m (match_EdnGJ14OldCZ) - turn 208; Unit u_37 collided when trying to move s to (6, 15)\n",
      "\u001b[33m[WARN]\u001b[39m (match_EdnGJ14OldCZ) - turn 208; Unit u_30 collided when trying to move s to (5, 15)\n",
      "\u001b[33m[WARN]\u001b[39m (match_EdnGJ14OldCZ) - turn 209; Unit u_24 collided when trying to move s to (6, 15)\n",
      "\u001b[33m[WARN]\u001b[39m (match_EdnGJ14OldCZ) - turn 209; Unit u_37 collided when trying to move s to (6, 15)\n",
      "\u001b[33m[WARN]\u001b[39m (match_EdnGJ14OldCZ) - turn 210; Unit u_24 collided when trying to move s to (6, 15)\n",
      "\u001b[33m[WARN]\u001b[39m (match_EdnGJ14OldCZ) - turn 210; Unit u_37 collided when trying to move s to (6, 15)\n",
      "\u001b[33m[WARN]\u001b[39m (match_EdnGJ14OldCZ) - turn 211; Unit u_24 collided when trying to move s to (6, 15)\n",
      "\u001b[33m[WARN]\u001b[39m (match_EdnGJ14OldCZ) - turn 211; Unit u_37 collided when trying to move s to (6, 15)\n",
      "\u001b[33m[WARN]\u001b[39m (match_EdnGJ14OldCZ) - turn 212; Unit u_24 collided when trying to move s to (6, 15)\n",
      "\u001b[33m[WARN]\u001b[39m (match_EdnGJ14OldCZ) - turn 212; Unit u_37 collided when trying to move s to (6, 15)\n",
      "\u001b[33m[WARN]\u001b[39m (match_EdnGJ14OldCZ) - turn 213; Unit u_24 collided when trying to move s to (6, 15)\n",
      "\u001b[33m[WARN]\u001b[39m (match_EdnGJ14OldCZ) - turn 214; Unit u_24 collided when trying to move s to (6, 15)\n",
      "\u001b[33m[WARN]\u001b[39m (match_EdnGJ14OldCZ) - turn 215; Unit u_24 collided when trying to move s to (6, 15)\n",
      "\u001b[33m[WARN]\u001b[39m (match_EdnGJ14OldCZ) - turn 216; Unit u_24 collided when trying to move s to (6, 15)\n",
      "\u001b[33m[WARN]\u001b[39m (match_EdnGJ14OldCZ) - turn 216; Unit u_37 collided when trying to move s to (6, 15)\n",
      "\u001b[33m[WARN]\u001b[39m (match_EdnGJ14OldCZ) - turn 217; Unit u_24 collided when trying to move s to (6, 15)\n",
      "\u001b[33m[WARN]\u001b[39m (match_EdnGJ14OldCZ) - turn 217; Unit u_37 collided when trying to move s to (6, 15)\n",
      "\u001b[33m[WARN]\u001b[39m (match_EdnGJ14OldCZ) - turn 218; Unit u_37 collided when trying to move s to (6, 15)\n",
      "\u001b[33m[WARN]\u001b[39m (match_EdnGJ14OldCZ) - turn 221; Unit u_24 collided when trying to move s to (6, 15)\n",
      "\u001b[33m[WARN]\u001b[39m (match_EdnGJ14OldCZ) - turn 222; Unit u_24 collided when trying to move s to (6, 15)\n",
      "\u001b[33m[WARN]\u001b[39m (match_EdnGJ14OldCZ) - turn 223; Unit u_24 collided when trying to move s to (6, 15)\n",
      "\u001b[33m[WARN]\u001b[39m (match_EdnGJ14OldCZ) - turn 224; Unit u_24 collided when trying to move s to (6, 15)\n",
      "\u001b[33m[WARN]\u001b[39m (match_EdnGJ14OldCZ) - turn 225; Unit u_24 collided when trying to move s to (6, 15)\n",
      "\u001b[33m[WARN]\u001b[39m (match_EdnGJ14OldCZ) - turn 226; Unit u_24 collided when trying to move s to (6, 15)\n",
      "\u001b[33m[WARN]\u001b[39m (match_EdnGJ14OldCZ) - turn 249; Unit u_22 collided when trying to move w to (0, 15)\n",
      "\u001b[33m[WARN]\u001b[39m (match_EdnGJ14OldCZ) - turn 250; Unit u_22 collided when trying to move w to (0, 15)\n",
      "\u001b[33m[WARN]\u001b[39m (match_EdnGJ14OldCZ) - turn 251; Unit u_30 collided when trying to move w to (0, 15)\n",
      "\u001b[33m[WARN]\u001b[39m (match_EdnGJ14OldCZ) - turn 256; Unit u_28 collided when trying to move s to (1, 17)\n",
      "\u001b[33m[WARN]\u001b[39m (match_EdnGJ14OldCZ) - turn 256; Unit u_30 collided when trying to move s to (1, 17)\n",
      "\u001b[33m[WARN]\u001b[39m (match_EdnGJ14OldCZ) - turn 256; Unit u_34 collided when trying to move s to (1, 17)\n",
      "\u001b[33m[WARN]\u001b[39m (match_EdnGJ14OldCZ) - turn 257; Unit u_1 collided when trying to move s to (1, 17)\n",
      "\u001b[33m[WARN]\u001b[39m (match_EdnGJ14OldCZ) - turn 257; Unit u_22 collided when trying to move s to (1, 17)\n",
      "\u001b[33m[WARN]\u001b[39m (match_EdnGJ14OldCZ) - turn 257; Unit u_28 collided when trying to move s to (1, 17)\n",
      "\u001b[33m[WARN]\u001b[39m (match_EdnGJ14OldCZ) - turn 257; Unit u_30 collided when trying to move s to (1, 17)\n",
      "\u001b[33m[WARN]\u001b[39m (match_EdnGJ14OldCZ) - turn 257; Unit u_34 collided when trying to move s to (1, 17)\n",
      "\u001b[33m[WARN]\u001b[39m (match_EdnGJ14OldCZ) - turn 258; Unit u_1 collided when trying to move s to (1, 17)\n",
      "\u001b[33m[WARN]\u001b[39m (match_EdnGJ14OldCZ) - turn 258; Unit u_22 collided when trying to move s to (1, 17)\n",
      "\u001b[33m[WARN]\u001b[39m (match_EdnGJ14OldCZ) - turn 258; Unit u_28 collided when trying to move s to (1, 17)\n",
      "\u001b[33m[WARN]\u001b[39m (match_EdnGJ14OldCZ) - turn 258; Unit u_30 collided when trying to move s to (1, 17)\n",
      "\u001b[33m[WARN]\u001b[39m (match_EdnGJ14OldCZ) - turn 258; Unit u_34 collided when trying to move s to (1, 17)\n",
      "\u001b[33m[WARN]\u001b[39m (match_EdnGJ14OldCZ) - turn 259; Unit u_1 collided when trying to move s to (1, 17)\n",
      "\u001b[33m[WARN]\u001b[39m (match_EdnGJ14OldCZ) - turn 259; Unit u_30 collided when trying to move s to (1, 17)\n",
      "\u001b[33m[WARN]\u001b[39m (match_EdnGJ14OldCZ) - turn 259; Unit u_34 collided when trying to move s to (1, 17)\n",
      "\u001b[33m[WARN]\u001b[39m (match_EdnGJ14OldCZ) - turn 260; Unit u_30 collided when trying to move w to (0, 16)\n",
      "\u001b[33m[WARN]\u001b[39m (match_EdnGJ14OldCZ) - turn 261; Unit u_22 collided when trying to move s to (1, 17)\n",
      "\u001b[33m[WARN]\u001b[39m (match_EdnGJ14OldCZ) - turn 262; Unit u_22 collided when trying to move s to (1, 17)\n",
      "\u001b[33m[WARN]\u001b[39m (match_EdnGJ14OldCZ) - turn 262; Unit u_30 collided when trying to move s to (1, 17)\n",
      "\u001b[33m[WARN]\u001b[39m (match_EdnGJ14OldCZ) - turn 262; Unit u_34 collided when trying to move s to (1, 17)\n",
      "\u001b[33m[WARN]\u001b[39m (match_EdnGJ14OldCZ) - turn 263; Unit u_22 collided when trying to move s to (1, 17)\n",
      "\u001b[33m[WARN]\u001b[39m (match_EdnGJ14OldCZ) - turn 263; Unit u_30 collided when trying to move s to (1, 17)\n",
      "\u001b[33m[WARN]\u001b[39m (match_EdnGJ14OldCZ) - turn 263; Unit u_34 collided when trying to move s to (1, 17)\n",
      "\u001b[33m[WARN]\u001b[39m (match_EdnGJ14OldCZ) - turn 264; Unit u_30 collided when trying to move s to (1, 17)\n",
      "\u001b[33m[WARN]\u001b[39m (match_EdnGJ14OldCZ) - turn 264; Unit u_34 collided when trying to move s to (1, 17)\n",
      "\u001b[33m[WARN]\u001b[39m (match_EdnGJ14OldCZ) - turn 265; Unit u_22 collided when trying to move s to (1, 17)\n",
      "\u001b[33m[WARN]\u001b[39m (match_EdnGJ14OldCZ) - turn 265; Unit u_30 collided when trying to move s to (1, 17)\n",
      "\u001b[33m[WARN]\u001b[39m (match_EdnGJ14OldCZ) - turn 265; Unit u_34 collided when trying to move s to (1, 17)\n",
      "\u001b[33m[WARN]\u001b[39m (match_EdnGJ14OldCZ) - turn 266; Unit u_22 collided when trying to move s to (1, 17)\n",
      "\u001b[33m[WARN]\u001b[39m (match_EdnGJ14OldCZ) - turn 266; Unit u_30 collided when trying to move s to (1, 17)\n",
      "\u001b[33m[WARN]\u001b[39m (match_EdnGJ14OldCZ) - turn 266; Unit u_34 collided when trying to move s to (1, 17)\n",
      "\u001b[33m[WARN]\u001b[39m (match_EdnGJ14OldCZ) - turn 267; Unit u_22 collided when trying to move s to (1, 17)\n",
      "\u001b[33m[WARN]\u001b[39m (match_EdnGJ14OldCZ) - turn 267; Unit u_30 collided when trying to move s to (1, 17)\n",
      "\u001b[33m[WARN]\u001b[39m (match_EdnGJ14OldCZ) - turn 269; Unit u_34 collided when trying to move s to (1, 17)\n",
      "\u001b[33m[WARN]\u001b[39m (match_EdnGJ14OldCZ) - turn 280; Unit u_30 collided when trying to move s to (1, 17)\n",
      "\u001b[33m[WARN]\u001b[39m (match_EdnGJ14OldCZ) - turn 280; Unit u_34 collided when trying to move s to (1, 17)\n",
      "\u001b[33m[WARN]\u001b[39m (match_EdnGJ14OldCZ) - turn 281; Unit u_30 collided when trying to move s to (1, 17)\n",
      "\u001b[33m[WARN]\u001b[39m (match_EdnGJ14OldCZ) - turn 281; Unit u_34 collided when trying to move s to (1, 17)\n",
      "\u001b[33m[WARN]\u001b[39m (match_EdnGJ14OldCZ) - turn 282; Unit u_30 collided when trying to move s to (1, 17)\n",
      "\u001b[33m[WARN]\u001b[39m (match_EdnGJ14OldCZ) - turn 282; Unit u_34 collided when trying to move s to (1, 17)\n",
      "\u001b[33m[WARN]\u001b[39m (match_EdnGJ14OldCZ) - turn 283; Unit u_30 collided when trying to move s to (1, 17)\n",
      "\u001b[33m[WARN]\u001b[39m (match_EdnGJ14OldCZ) - turn 283; Unit u_34 collided when trying to move s to (1, 17)\n",
      "\u001b[33m[WARN]\u001b[39m (match_EdnGJ14OldCZ) - turn 284; Unit u_30 collided when trying to move s to (1, 17)\n",
      "\u001b[33m[WARN]\u001b[39m (match_EdnGJ14OldCZ) - turn 284; Unit u_34 collided when trying to move s to (1, 17)\n",
      "\u001b[33m[WARN]\u001b[39m (match_EdnGJ14OldCZ) - turn 285; Unit u_30 collided when trying to move s to (1, 17)\n",
      "\u001b[33m[WARN]\u001b[39m (match_EdnGJ14OldCZ) - turn 285; Unit u_34 collided when trying to move s to (1, 17)\n",
      "\u001b[33m[WARN]\u001b[39m (match_EdnGJ14OldCZ) - turn 289; Unit u_21 collided when trying to move s to (1, 17)\n",
      "\u001b[33m[WARN]\u001b[39m (match_EdnGJ14OldCZ) - turn 289; Unit u_34 collided when trying to move s to (1, 17)\n",
      "\u001b[33m[WARN]\u001b[39m (match_EdnGJ14OldCZ) - turn 294; Unit u_21 collided when trying to move s to (1, 18)\n",
      "\u001b[33m[WARN]\u001b[39m (match_EdnGJ14OldCZ) - turn 295; Unit u_21 collided when trying to move s to (1, 18)\n",
      "\u001b[33m[WARN]\u001b[39m (match_EdnGJ14OldCZ) - turn 300; Unit u_21 collided when trying to move s to (1, 20)\n",
      "\u001b[33m[WARN]\u001b[39m (match_EdnGJ14OldCZ) - turn 301; Unit u_21 collided when trying to move s to (1, 20)\n",
      "\u001b[33m[WARN]\u001b[39m (match_EdnGJ14OldCZ) - turn 302; Unit u_21 collided when trying to move s to (1, 20)\n",
      "\u001b[33m[WARN]\u001b[39m (match_EdnGJ14OldCZ) - turn 303; Unit u_21 collided when trying to move s to (1, 20)\n",
      "\u001b[33m[WARN]\u001b[39m (match_EdnGJ14OldCZ) - turn 304; Unit u_21 collided when trying to move s to (1, 20)\n",
      "\u001b[33m[WARN]\u001b[39m (match_EdnGJ14OldCZ) - turn 304; Unit u_22 collided when trying to move w to (1, 23)\n",
      "\u001b[33m[WARN]\u001b[39m (match_EdnGJ14OldCZ) - turn 305; Unit u_21 collided when trying to move s to (1, 20)\n",
      "\u001b[33m[WARN]\u001b[39m (match_EdnGJ14OldCZ) - turn 305; Unit u_22 collided when trying to move w to (1, 23)\n",
      "\u001b[33m[WARN]\u001b[39m (match_EdnGJ14OldCZ) - turn 306; Unit u_21 collided when trying to move s to (1, 20)\n",
      "\u001b[33m[WARN]\u001b[39m (match_EdnGJ14OldCZ) - turn 306; Unit u_22 collided when trying to move w to (1, 23)\n",
      "\u001b[33m[WARN]\u001b[39m (match_EdnGJ14OldCZ) - turn 307; Unit u_21 collided when trying to move s to (1, 20)\n",
      "\u001b[33m[WARN]\u001b[39m (match_EdnGJ14OldCZ) - turn 307; Unit u_22 collided when trying to move w to (1, 23)\n",
      "\u001b[33m[WARN]\u001b[39m (match_EdnGJ14OldCZ) - turn 308; Unit u_21 collided when trying to move s to (1, 20)\n",
      "\u001b[33m[WARN]\u001b[39m (match_EdnGJ14OldCZ) - turn 310; Unit u_34 collided when trying to move n to (1, 19)\n",
      "\u001b[33m[WARN]\u001b[39m (match_EdnGJ14OldCZ) - turn 324; Unit u_30 collided when trying to move n to (1, 18)\n",
      "\u001b[33m[WARN]\u001b[39m (match_EdnGJ14OldCZ) - turn 324; Unit u_38 collided when trying to move s to (1, 18)\n",
      "\u001b[33m[WARN]\u001b[39m (match_EdnGJ14OldCZ) - turn 325; Unit u_30 collided when trying to move n to (1, 18)\n",
      "\u001b[33m[WARN]\u001b[39m (match_EdnGJ14OldCZ) - turn 325; Unit u_38 collided when trying to move s to (1, 18)\n",
      "\u001b[33m[WARN]\u001b[39m (match_EdnGJ14OldCZ) - turn 326; Unit u_30 collided when trying to move n to (1, 18)\n",
      "\u001b[33m[WARN]\u001b[39m (match_EdnGJ14OldCZ) - turn 326; Unit u_38 collided when trying to move s to (1, 18)\n",
      "\u001b[33m[WARN]\u001b[39m (match_EdnGJ14OldCZ) - turn 327; Unit u_30 collided when trying to move n to (1, 18)\n",
      "\u001b[33m[WARN]\u001b[39m (match_EdnGJ14OldCZ) - turn 327; Unit u_38 collided when trying to move s to (1, 18)\n",
      "\u001b[33m[WARN]\u001b[39m (match_EdnGJ14OldCZ) - turn 328; Unit u_30 collided when trying to move n to (1, 18)\n",
      "\u001b[33m[WARN]\u001b[39m (match_EdnGJ14OldCZ) - turn 328; Unit u_38 collided when trying to move s to (1, 18)\n",
      "\u001b[33m[WARN]\u001b[39m (match_EdnGJ14OldCZ) - turn 329; Unit u_30 collided when trying to move n to (1, 18)\n",
      "\u001b[33m[WARN]\u001b[39m (match_EdnGJ14OldCZ) - turn 329; Unit u_38 collided when trying to move s to (1, 18)\n",
      "\u001b[33m[WARN]\u001b[39m (match_EdnGJ14OldCZ) - turn 330; Unit u_30 collided when trying to move n to (1, 18)\n",
      "\u001b[33m[WARN]\u001b[39m (match_EdnGJ14OldCZ) - turn 330; Unit u_38 collided when trying to move s to (1, 18)\n",
      "\u001b[33m[WARN]\u001b[39m (match_EdnGJ14OldCZ) - turn 331; Unit u_30 collided when trying to move n to (1, 18)\n",
      "\u001b[33m[WARN]\u001b[39m (match_EdnGJ14OldCZ) - turn 331; Unit u_38 collided when trying to move s to (1, 18)\n",
      "\u001b[33m[WARN]\u001b[39m (match_EdnGJ14OldCZ) - turn 332; Unit u_30 collided when trying to move n to (1, 18)\n",
      "\u001b[33m[WARN]\u001b[39m (match_EdnGJ14OldCZ) - turn 332; Unit u_38 collided when trying to move s to (1, 18)\n",
      "\u001b[33m[WARN]\u001b[39m (match_EdnGJ14OldCZ) - turn 333; Unit u_30 collided when trying to move n to (1, 18)\n",
      "\u001b[33m[WARN]\u001b[39m (match_EdnGJ14OldCZ) - turn 333; Unit u_38 collided when trying to move s to (1, 18)\n",
      "\u001b[33m[WARN]\u001b[39m (match_EdnGJ14OldCZ) - turn 334; Unit u_30 collided when trying to move n to (1, 18)\n",
      "\u001b[33m[WARN]\u001b[39m (match_EdnGJ14OldCZ) - turn 334; Unit u_38 collided when trying to move s to (1, 18)\n",
      "\u001b[33m[WARN]\u001b[39m (match_EdnGJ14OldCZ) - turn 335; Unit u_30 collided when trying to move n to (1, 18)\n",
      "\u001b[33m[WARN]\u001b[39m (match_EdnGJ14OldCZ) - turn 335; Unit u_38 collided when trying to move s to (1, 18)\n",
      "\u001b[33m[WARN]\u001b[39m (match_EdnGJ14OldCZ) - turn 336; Unit u_30 collided when trying to move n to (1, 18)\n",
      "\u001b[33m[WARN]\u001b[39m (match_EdnGJ14OldCZ) - turn 336; Unit u_38 collided when trying to move s to (1, 18)\n",
      "\u001b[33m[WARN]\u001b[39m (match_EdnGJ14OldCZ) - turn 337; Unit u_30 collided when trying to move n to (1, 18)\n",
      "\u001b[33m[WARN]\u001b[39m (match_EdnGJ14OldCZ) - turn 337; Unit u_38 collided when trying to move s to (1, 18)\n",
      "\u001b[33m[WARN]\u001b[39m (match_EdnGJ14OldCZ) - turn 338; Unit u_30 collided when trying to move n to (1, 18)\n",
      "\u001b[33m[WARN]\u001b[39m (match_EdnGJ14OldCZ) - turn 338; Unit u_38 collided when trying to move s to (1, 18)\n",
      "\u001b[33m[WARN]\u001b[39m (match_EdnGJ14OldCZ) - turn 339; Unit u_30 collided when trying to move n to (1, 18)\n",
      "\u001b[33m[WARN]\u001b[39m (match_EdnGJ14OldCZ) - turn 339; Unit u_38 collided when trying to move s to (1, 18)\n",
      "\u001b[33m[WARN]\u001b[39m (match_EdnGJ14OldCZ) - turn 340; Unit u_30 collided when trying to move n to (1, 18)\n",
      "\u001b[33m[WARN]\u001b[39m (match_EdnGJ14OldCZ) - turn 340; Unit u_38 collided when trying to move s to (1, 18)\n",
      "{\n",
      "  ranks: [\n",
      "    {\n",
      "      rank: 1,\n",
      "      agentID: 0,\n",
      "      name: '../submissions/simple/main_337473089350127160.py'\n",
      "    },\n",
      "    {\n",
      "      rank: 2,\n",
      "      agentID: 1,\n",
      "      name: '../submissions/simple/main_550318061354680202.py'\n",
      "    }\n",
      "  ],\n",
      "  replayFile: 'replays/722431853.json',\n",
      "  seed: 42\n",
      "}\n",
      "\n"
     ]
    }
   ],
   "source": [
    "model_bot = build_runnable_bot_with_flags({\"model_path\": \"models/v8.cbm\", \"use_policy\": True, \"use_old_units_cargo_rules\": False})\n",
    "r = run_game(model_bot, build_runnable_bot_with_flags({}))"
   ]
  },
  {
   "cell_type": "code",
   "execution_count": null,
   "metadata": {},
   "outputs": [],
   "source": [
    "model_bot = build_runnable_bot_with_flags({\"model_path\": \"models/v3.cbm\", \"use_policy\": True})\n",
    "r = run_game(model_bot, simple_bot)"
   ]
  },
  {
   "cell_type": "code",
   "execution_count": null,
   "metadata": {},
   "outputs": [],
   "source": [
    "find_feature_log_path = lambda text: list(filter(lambda x:x.find(\"FEATURE_LOG_PATH=\") != -1, text.split('\\n')))[0].split(\"FEATURE_LOG_PATH=\")[-1]"
   ]
  },
  {
   "cell_type": "code",
   "execution_count": 43,
   "metadata": {
    "scrolled": true
   },
   "outputs": [
    {
     "name": "stdout",
     "output_type": "stream",
     "text": [
      "\n",
      "-=-=-=-=-=-=-=-=-=-=-=-| \u001b[34m[INFO]\u001b[39m \u001b[1m\u001b[32mmatch_YCudTV4rSiZX\u001b[39m\u001b[22m |-=-=-=-=-=-=-=-=-=-=-=-\n",
      "\n",
      "\u001b[34m[INFO]\u001b[39m (match_YCudTV4rSiZX) - Design: lux_ai_2021 | Initializing match - ID: YCudTV4rSiZX, Name: match_YCudTV4rSiZX\n",
      "\u001b[36m[Agent 0 Log]\u001b[39m FEATURE_LOG_PATH=../../research/features_v4/features_0.27967816551515157.txt\n",
      "\u001b[33m[WARN]\u001b[39m (match_YCudTV4rSiZX) - turn 11; Unit u_4 collided when trying to move s to (23, 30)\n",
      "\u001b[33m[WARN]\u001b[39m (match_YCudTV4rSiZX) - turn 16; Unit u_3 collided when trying to move e to (9, 29)\n",
      "\u001b[33m[WARN]\u001b[39m (match_YCudTV4rSiZX) - turn 16; Unit u_5 collided when trying to move n to (8, 29)\n",
      "\u001b[33m[WARN]\u001b[39m (match_YCudTV4rSiZX) - turn 17; Unit u_4 collided when trying to move w to (22, 29)\n",
      "\u001b[33m[WARN]\u001b[39m (match_YCudTV4rSiZX) - turn 17; Unit u_6 collided when trying to move n to (23, 29)\n",
      "\u001b[33m[WARN]\u001b[39m (match_YCudTV4rSiZX) - turn 22; Unit u_10 collided when trying to move n to (21, 28)\n",
      "\u001b[33m[WARN]\u001b[39m (match_YCudTV4rSiZX) - turn 23; Unit u_5 collided when trying to move n to (8, 26)\n",
      "\u001b[33m[WARN]\u001b[39m (match_YCudTV4rSiZX) - turn 27; Unit u_5 collided when trying to move e to (8, 27)\n",
      "\u001b[33m[WARN]\u001b[39m (match_YCudTV4rSiZX) - turn 27; Unit u_7 collided when trying to move n to (8, 27)\n",
      "\u001b[33m[WARN]\u001b[39m (match_YCudTV4rSiZX) - turn 27; Unit u_13 collided when trying to move n to (8, 28)\n",
      "\u001b[33m[WARN]\u001b[39m (match_YCudTV4rSiZX) - turn 28; Unit u_5 collided when trying to move e to (8, 27)\n",
      "\u001b[33m[WARN]\u001b[39m (match_YCudTV4rSiZX) - turn 28; Unit u_7 collided when trying to move n to (8, 27)\n",
      "\u001b[33m[WARN]\u001b[39m (match_YCudTV4rSiZX) - turn 28; Unit u_13 collided when trying to move n to (8, 28)\n",
      "\u001b[33m[WARN]\u001b[39m (match_YCudTV4rSiZX) - turn 28; Unit u_8 collided when trying to move n to (23, 27)\n",
      "\u001b[33m[WARN]\u001b[39m (match_YCudTV4rSiZX) - turn 28; Unit u_14 collided when trying to move n to (23, 28)\n",
      "\u001b[33m[WARN]\u001b[39m (match_YCudTV4rSiZX) - turn 28; Unit u_12 collided when trying to move n to (20, 27)\n",
      "\u001b[33m[WARN]\u001b[39m (match_YCudTV4rSiZX) - turn 29; Unit u_5 collided when trying to move e to (8, 27)\n",
      "\u001b[33m[WARN]\u001b[39m (match_YCudTV4rSiZX) - turn 29; Unit u_7 collided when trying to move n to (8, 27)\n",
      "\u001b[33m[WARN]\u001b[39m (match_YCudTV4rSiZX) - turn 29; Unit u_13 collided when trying to move n to (8, 28)\n",
      "\u001b[33m[WARN]\u001b[39m (match_YCudTV4rSiZX) - turn 29; Unit u_6 collided when trying to move n to (23, 26)\n",
      "\u001b[33m[WARN]\u001b[39m (match_YCudTV4rSiZX) - turn 29; Unit u_8 collided when trying to move n to (23, 27)\n",
      "\u001b[33m[WARN]\u001b[39m (match_YCudTV4rSiZX) - turn 29; Unit u_14 collided when trying to move n to (23, 28)\n",
      "\u001b[33m[WARN]\u001b[39m (match_YCudTV4rSiZX) - turn 29; Unit u_17 collided when trying to move e to (23, 29)\n",
      "\u001b[33m[WARN]\u001b[39m (match_YCudTV4rSiZX) - turn 44; Unit u_8 collided when trying to move n to (23, 27)\n",
      "\u001b[33m[WARN]\u001b[39m (match_YCudTV4rSiZX) - turn 44; Unit u_17 collided when trying to move e to (22, 30)\n",
      "\u001b[33m[WARN]\u001b[39m (match_YCudTV4rSiZX) - turn 46; Unit u_9 collided when trying to move e to (11, 30)\n",
      "\u001b[33m[WARN]\u001b[39m (match_YCudTV4rSiZX) - turn 46; Unit u_11 collided when trying to move s to (10, 30)\n",
      "\u001b[33m[WARN]\u001b[39m (match_YCudTV4rSiZX) - turn 46; Unit u_12 collided when trying to move w to (18, 28)\n",
      "\u001b[33m[WARN]\u001b[39m (match_YCudTV4rSiZX) - turn 48; Unit u_11 collided when trying to move e to (11, 29)\n",
      "\u001b[33m[WARN]\u001b[39m (match_YCudTV4rSiZX) - turn 48; Unit u_13 collided when trying to move s to (11, 29)\n",
      "\u001b[33m[WARN]\u001b[39m (match_YCudTV4rSiZX) - turn 48; Unit u_19 collided when trying to move n to (20, 28)\n",
      "\u001b[33m[WARN]\u001b[39m (match_YCudTV4rSiZX) - turn 48; Unit u_16 collided when trying to move w to (20, 29)\n",
      "\u001b[33m[WARN]\u001b[39m (match_YCudTV4rSiZX) - turn 48; Unit u_10 collided when trying to move n to (21, 29)\n",
      "\u001b[33m[WARN]\u001b[39m (match_YCudTV4rSiZX) - turn 51; Unit u_20 collided when trying to move e to (8, 24)\n",
      "\u001b[33m[WARN]\u001b[39m (match_YCudTV4rSiZX) - turn 51; Unit u_16 collided when trying to move n to (20, 28)\n",
      "\u001b[33m[WARN]\u001b[39m (match_YCudTV4rSiZX) - turn 52; Unit u_13 collided when trying to move s to (12, 29)\n",
      "\u001b[33m[WARN]\u001b[39m (match_YCudTV4rSiZX) - turn 52; Unit u_18 collided when trying to move s to (12, 28)\n",
      "\u001b[33m[WARN]\u001b[39m (match_YCudTV4rSiZX) - turn 52; Unit u_20 collided when trying to move e to (8, 24)\n",
      "\u001b[33m[WARN]\u001b[39m (match_YCudTV4rSiZX) - turn 52; Unit u_12 collided when trying to move e to (20, 28)\n",
      "\u001b[33m[WARN]\u001b[39m (match_YCudTV4rSiZX) - turn 52; Unit u_16 collided when trying to move n to (20, 28)\n",
      "\u001b[33m[WARN]\u001b[39m (match_YCudTV4rSiZX) - turn 53; Unit u_13 collided when trying to move s to (12, 29)\n",
      "\u001b[33m[WARN]\u001b[39m (match_YCudTV4rSiZX) - turn 53; Unit u_18 collided when trying to move s to (12, 28)\n",
      "\u001b[33m[WARN]\u001b[39m (match_YCudTV4rSiZX) - turn 53; Unit u_23 collided when trying to move e to (12, 29)\n",
      "\u001b[33m[WARN]\u001b[39m (match_YCudTV4rSiZX) - turn 53; Unit u_12 collided when trying to move s to (19, 29)\n",
      "\u001b[33m[WARN]\u001b[39m (match_YCudTV4rSiZX) - turn 53; Unit u_16 collided when trying to move w to (19, 29)\n",
      "\u001b[33m[WARN]\u001b[39m (match_YCudTV4rSiZX) - turn 53; Unit u_28 collided when trying to move w to (20, 29)\n",
      "\u001b[33m[WARN]\u001b[39m (match_YCudTV4rSiZX) - turn 54; Unit u_13 collided when trying to move s to (12, 29)\n",
      "\u001b[33m[WARN]\u001b[39m (match_YCudTV4rSiZX) - turn 54; Unit u_18 collided when trying to move s to (12, 28)\n",
      "\u001b[33m[WARN]\u001b[39m (match_YCudTV4rSiZX) - turn 54; Unit u_23 collided when trying to move e to (12, 29)\n",
      "\u001b[33m[WARN]\u001b[39m (match_YCudTV4rSiZX) - turn 54; Unit u_27 collided when trying to move s to (11, 29)\n",
      "\u001b[33m[WARN]\u001b[39m (match_YCudTV4rSiZX) - turn 54; Unit u_12 collided when trying to move s to (19, 29)\n",
      "\u001b[33m[WARN]\u001b[39m (match_YCudTV4rSiZX) - turn 54; Unit u_16 collided when trying to move w to (19, 29)\n",
      "\u001b[33m[WARN]\u001b[39m (match_YCudTV4rSiZX) - turn 54; Unit u_22 collided when trying to move w to (20, 29)\n",
      "\u001b[33m[WARN]\u001b[39m (match_YCudTV4rSiZX) - turn 55; Unit u_13 collided when trying to move s to (12, 29)\n",
      "\u001b[33m[WARN]\u001b[39m (match_YCudTV4rSiZX) - turn 55; Unit u_18 collided when trying to move s to (12, 28)\n",
      "\u001b[33m[WARN]\u001b[39m (match_YCudTV4rSiZX) - turn 55; Unit u_23 collided when trying to move e to (12, 29)\n",
      "\u001b[33m[WARN]\u001b[39m (match_YCudTV4rSiZX) - turn 55; Unit u_32 collided when trying to move e to (11, 29)\n",
      "\u001b[33m[WARN]\u001b[39m (match_YCudTV4rSiZX) - turn 55; Unit u_12 collided when trying to move s to (19, 29)\n",
      "\u001b[33m[WARN]\u001b[39m (match_YCudTV4rSiZX) - turn 55; Unit u_33 collided when trying to move w to (19, 28)\n",
      "\u001b[33m[WARN]\u001b[39m (match_YCudTV4rSiZX) - turn 55; Unit u_16 collided when trying to move w to (19, 29)\n",
      "\u001b[33m[WARN]\u001b[39m (match_YCudTV4rSiZX) - turn 55; Unit u_22 collided when trying to move w to (20, 29)\n",
      "\u001b[33m[WARN]\u001b[39m (match_YCudTV4rSiZX) - turn 56; Unit u_11 collided when trying to move w to (12, 29)\n",
      "\u001b[33m[WARN]\u001b[39m (match_YCudTV4rSiZX) - turn 56; Unit u_13 collided when trying to move s to (12, 29)\n",
      "\u001b[33m[WARN]\u001b[39m (match_YCudTV4rSiZX) - turn 56; Unit u_18 collided when trying to move s to (12, 28)\n",
      "\u001b[33m[WARN]\u001b[39m (match_YCudTV4rSiZX) - turn 56; Unit u_23 collided when trying to move e to (12, 29)\n",
      "\u001b[33m[WARN]\u001b[39m (match_YCudTV4rSiZX) - turn 56; Unit u_30 collided when trying to move e to (13, 30)\n",
      "\u001b[33m[WARN]\u001b[39m (match_YCudTV4rSiZX) - turn 56; Unit u_12 collided when trying to move s to (19, 29)\n",
      "\u001b[33m[WARN]\u001b[39m (match_YCudTV4rSiZX) - turn 56; Unit u_16 collided when trying to move w to (19, 29)\n",
      "\u001b[33m[WARN]\u001b[39m (match_YCudTV4rSiZX) - turn 56; Unit u_22 collided when trying to move w to (20, 29)\n",
      "\u001b[33m[WARN]\u001b[39m (match_YCudTV4rSiZX) - turn 57; Unit u_11 collided when trying to move w to (12, 29)\n",
      "\u001b[33m[WARN]\u001b[39m (match_YCudTV4rSiZX) - turn 57; Unit u_13 collided when trying to move s to (12, 29)\n",
      "\u001b[33m[WARN]\u001b[39m (match_YCudTV4rSiZX) - turn 57; Unit u_18 collided when trying to move s to (12, 28)\n",
      "\u001b[33m[WARN]\u001b[39m (match_YCudTV4rSiZX) - turn 57; Unit u_23 collided when trying to move e to (12, 29)\n",
      "\u001b[33m[WARN]\u001b[39m (match_YCudTV4rSiZX) - turn 57; Unit u_27 collided when trying to move s to (11, 29)\n",
      "\u001b[33m[WARN]\u001b[39m (match_YCudTV4rSiZX) - turn 57; Unit u_30 collided when trying to move n to (12, 29)\n",
      "\u001b[33m[WARN]\u001b[39m (match_YCudTV4rSiZX) - turn 57; Unit u_12 collided when trying to move s to (19, 29)\n",
      "\u001b[33m[WARN]\u001b[39m (match_YCudTV4rSiZX) - turn 57; Unit u_33 collided when trying to move w to (19, 28)\n",
      "\u001b[33m[WARN]\u001b[39m (match_YCudTV4rSiZX) - turn 57; Unit u_16 collided when trying to move w to (19, 29)\n",
      "\u001b[33m[WARN]\u001b[39m (match_YCudTV4rSiZX) - turn 57; Unit u_22 collided when trying to move w to (20, 29)\n",
      "\u001b[33m[WARN]\u001b[39m (match_YCudTV4rSiZX) - turn 58; Unit u_11 collided when trying to move w to (12, 29)\n",
      "\u001b[33m[WARN]\u001b[39m (match_YCudTV4rSiZX) - turn 58; Unit u_13 collided when trying to move s to (12, 29)\n",
      "\u001b[33m[WARN]\u001b[39m (match_YCudTV4rSiZX) - turn 58; Unit u_18 collided when trying to move s to (12, 28)\n",
      "\u001b[33m[WARN]\u001b[39m (match_YCudTV4rSiZX) - turn 58; Unit u_30 collided when trying to move n to (12, 29)\n",
      "\u001b[33m[WARN]\u001b[39m (match_YCudTV4rSiZX) - turn 58; Unit u_12 collided when trying to move s to (19, 29)\n",
      "\u001b[33m[WARN]\u001b[39m (match_YCudTV4rSiZX) - turn 58; Unit u_16 collided when trying to move w to (19, 29)\n",
      "\u001b[33m[WARN]\u001b[39m (match_YCudTV4rSiZX) - turn 58; Unit u_22 collided when trying to move w to (20, 29)\n",
      "\u001b[33m[WARN]\u001b[39m (match_YCudTV4rSiZX) - turn 58; Unit u_36 collided when trying to move w to (18, 30)\n",
      "\u001b[33m[WARN]\u001b[39m (match_YCudTV4rSiZX) - turn 59; Unit u_11 collided when trying to move w to (12, 29)\n",
      "\u001b[33m[WARN]\u001b[39m (match_YCudTV4rSiZX) - turn 59; Unit u_13 collided when trying to move s to (12, 29)\n",
      "\u001b[33m[WARN]\u001b[39m (match_YCudTV4rSiZX) - turn 59; Unit u_18 collided when trying to move s to (12, 28)\n",
      "\u001b[33m[WARN]\u001b[39m (match_YCudTV4rSiZX) - turn 59; Unit u_30 collided when trying to move n to (12, 29)\n",
      "\u001b[33m[WARN]\u001b[39m (match_YCudTV4rSiZX) - turn 59; Unit u_12 collided when trying to move s to (19, 29)\n",
      "\u001b[33m[WARN]\u001b[39m (match_YCudTV4rSiZX) - turn 59; Unit u_33 collided when trying to move w to (19, 28)\n",
      "\u001b[33m[WARN]\u001b[39m (match_YCudTV4rSiZX) - turn 59; Unit u_16 collided when trying to move w to (19, 29)\n",
      "\u001b[33m[WARN]\u001b[39m (match_YCudTV4rSiZX) - turn 59; Unit u_22 collided when trying to move w to (20, 29)\n",
      "\u001b[33m[WARN]\u001b[39m (match_YCudTV4rSiZX) - turn 59; Unit u_36 collided when trying to move n to (19, 29)\n",
      "\u001b[33m[WARN]\u001b[39m (match_YCudTV4rSiZX) - turn 60; Unit u_11 collided when trying to move w to (12, 29)\n",
      "\u001b[33m[WARN]\u001b[39m (match_YCudTV4rSiZX) - turn 60; Unit u_13 collided when trying to move s to (12, 29)\n",
      "\u001b[33m[WARN]\u001b[39m (match_YCudTV4rSiZX) - turn 60; Unit u_18 collided when trying to move s to (12, 28)\n",
      "\u001b[33m[WARN]\u001b[39m (match_YCudTV4rSiZX) - turn 60; Unit u_30 collided when trying to move n to (12, 29)\n",
      "\u001b[33m[WARN]\u001b[39m (match_YCudTV4rSiZX) - turn 60; Unit u_12 collided when trying to move s to (19, 29)\n",
      "\u001b[33m[WARN]\u001b[39m (match_YCudTV4rSiZX) - turn 60; Unit u_33 collided when trying to move w to (19, 28)\n",
      "\u001b[33m[WARN]\u001b[39m (match_YCudTV4rSiZX) - turn 60; Unit u_16 collided when trying to move w to (19, 29)\n",
      "\u001b[33m[WARN]\u001b[39m (match_YCudTV4rSiZX) - turn 60; Unit u_22 collided when trying to move w to (20, 29)\n",
      "\u001b[33m[WARN]\u001b[39m (match_YCudTV4rSiZX) - turn 60; Unit u_36 collided when trying to move n to (19, 29)\n",
      "\u001b[33m[WARN]\u001b[39m (match_YCudTV4rSiZX) - turn 61; Unit u_11 collided when trying to move w to (12, 29)\n",
      "\u001b[33m[WARN]\u001b[39m (match_YCudTV4rSiZX) - turn 61; Unit u_30 collided when trying to move n to (12, 29)\n",
      "\u001b[33m[WARN]\u001b[39m (match_YCudTV4rSiZX) - turn 61; Unit u_12 collided when trying to move s to (19, 29)\n",
      "\u001b[33m[WARN]\u001b[39m (match_YCudTV4rSiZX) - turn 61; Unit u_43 collided when trying to move w to (19, 28)\n",
      "\u001b[33m[WARN]\u001b[39m (match_YCudTV4rSiZX) - turn 61; Unit u_16 collided when trying to move w to (19, 29)\n",
      "\u001b[33m[WARN]\u001b[39m (match_YCudTV4rSiZX) - turn 61; Unit u_22 collided when trying to move w to (20, 29)\n",
      "\u001b[33m[WARN]\u001b[39m (match_YCudTV4rSiZX) - turn 61; Unit u_36 collided when trying to move n to (19, 29)\n",
      "\u001b[33m[WARN]\u001b[39m (match_YCudTV4rSiZX) - turn 62; Unit u_11 collided when trying to move w to (12, 29)\n",
      "\u001b[33m[WARN]\u001b[39m (match_YCudTV4rSiZX) - turn 62; Unit u_30 collided when trying to move n to (12, 29)\n",
      "\u001b[33m[WARN]\u001b[39m (match_YCudTV4rSiZX) - turn 62; Unit u_15 collided when trying to move w to (5, 24)\n",
      "\u001b[33m[WARN]\u001b[39m (match_YCudTV4rSiZX) - turn 62; Unit u_31 collided when trying to move n to (6, 24)\n",
      "\u001b[33m[WARN]\u001b[39m (match_YCudTV4rSiZX) - turn 62; Unit u_39 collided when trying to move w to (6, 25)\n",
      "\u001b[33m[WARN]\u001b[39m (match_YCudTV4rSiZX) - turn 62; Unit u_12 collided when trying to move s to (19, 29)\n",
      "\u001b[33m[WARN]\u001b[39m (match_YCudTV4rSiZX) - turn 62; Unit u_33 collided when trying to move w to (19, 28)\n",
      "\u001b[33m[WARN]\u001b[39m (match_YCudTV4rSiZX) - turn 62; Unit u_36 collided when trying to move n to (19, 29)\n",
      "\u001b[33m[WARN]\u001b[39m (match_YCudTV4rSiZX) - turn 62; Unit u_41 collided when trying to move w to (19, 30)\n",
      "\u001b[33m[WARN]\u001b[39m (match_YCudTV4rSiZX) - turn 63; Unit u_13 collided when trying to move s to (12, 29)\n",
      "\u001b[33m[WARN]\u001b[39m (match_YCudTV4rSiZX) - turn 63; Unit u_30 collided when trying to move n to (12, 29)\n",
      "\u001b[33m[WARN]\u001b[39m (match_YCudTV4rSiZX) - turn 63; Unit u_15 collided when trying to move e to (7, 24)\n",
      "\u001b[33m[WARN]\u001b[39m (match_YCudTV4rSiZX) - turn 63; Unit u_20 collided when trying to move e to (6, 24)\n",
      "\u001b[33m[WARN]\u001b[39m (match_YCudTV4rSiZX) - turn 63; Unit u_31 collided when trying to move n to (6, 24)\n",
      "\u001b[33m[WARN]\u001b[39m (match_YCudTV4rSiZX) - turn 63; Unit u_39 collided when trying to move w to (6, 25)\n",
      "\u001b[33m[WARN]\u001b[39m (match_YCudTV4rSiZX) - turn 63; Unit u_12 collided when trying to move s to (19, 29)\n",
      "\u001b[33m[WARN]\u001b[39m (match_YCudTV4rSiZX) - turn 63; Unit u_33 collided when trying to move w to (19, 28)\n",
      "\u001b[33m[WARN]\u001b[39m (match_YCudTV4rSiZX) - turn 63; Unit u_36 collided when trying to move n to (19, 29)\n",
      "\u001b[33m[WARN]\u001b[39m (match_YCudTV4rSiZX) - turn 63; Unit u_41 collided when trying to move w to (19, 30)\n",
      "\u001b[33m[WARN]\u001b[39m (match_YCudTV4rSiZX) - turn 64; Unit u_13 collided when trying to move s to (12, 29)\n",
      "\u001b[33m[WARN]\u001b[39m (match_YCudTV4rSiZX) - turn 64; Unit u_30 collided when trying to move n to (12, 29)\n",
      "\u001b[33m[WARN]\u001b[39m (match_YCudTV4rSiZX) - turn 64; Unit u_37 collided when trying to move w to (12, 30)\n",
      "\u001b[33m[WARN]\u001b[39m (match_YCudTV4rSiZX) - turn 64; Unit u_20 collided when trying to move e to (6, 24)\n",
      "\u001b[33m[WARN]\u001b[39m (match_YCudTV4rSiZX) - turn 64; Unit u_31 collided when trying to move n to (6, 24)\n",
      "\u001b[33m[WARN]\u001b[39m (match_YCudTV4rSiZX) - turn 64; Unit u_39 collided when trying to move w to (6, 25)\n",
      "\u001b[33m[WARN]\u001b[39m (match_YCudTV4rSiZX) - turn 64; Unit u_38 collided when trying to move w to (6, 24)\n",
      "\u001b[33m[WARN]\u001b[39m (match_YCudTV4rSiZX) - turn 64; Unit u_15 collided when trying to move e to (7, 24)\n",
      "\u001b[33m[WARN]\u001b[39m (match_YCudTV4rSiZX) - turn 64; Unit u_20 collided when trying to move e to (6, 24)\n",
      "\u001b[33m[WARN]\u001b[39m (match_YCudTV4rSiZX) - turn 64; Unit u_31 collided when trying to move n to (6, 24)\n",
      "\u001b[33m[WARN]\u001b[39m (match_YCudTV4rSiZX) - turn 64; Unit u_38 collided when trying to move w to (6, 24)\n",
      "\u001b[33m[WARN]\u001b[39m (match_YCudTV4rSiZX) - turn 64; Unit u_10 collided when trying to move w to (19, 29)\n",
      "\u001b[33m[WARN]\u001b[39m (match_YCudTV4rSiZX) - turn 64; Unit u_12 collided when trying to move s to (19, 29)\n",
      "\u001b[33m[WARN]\u001b[39m (match_YCudTV4rSiZX) - turn 64; Unit u_33 collided when trying to move w to (19, 28)\n",
      "\u001b[33m[WARN]\u001b[39m (match_YCudTV4rSiZX) - turn 64; Unit u_36 collided when trying to move n to (19, 29)\n",
      "\u001b[33m[WARN]\u001b[39m (match_YCudTV4rSiZX) - turn 64; Unit u_41 collided when trying to move w to (19, 30)\n",
      "\u001b[33m[WARN]\u001b[39m (match_YCudTV4rSiZX) - turn 65; Unit u_13 collided when trying to move s to (12, 29)\n",
      "\u001b[33m[WARN]\u001b[39m (match_YCudTV4rSiZX) - turn 65; Unit u_30 collided when trying to move n to (12, 29)\n",
      "\u001b[33m[WARN]\u001b[39m (match_YCudTV4rSiZX) - turn 65; Unit u_37 collided when trying to move w to (12, 30)\n",
      "\u001b[33m[WARN]\u001b[39m (match_YCudTV4rSiZX) - turn 65; Unit u_15 collided when trying to move e to (7, 24)\n",
      "\u001b[33m[WARN]\u001b[39m (match_YCudTV4rSiZX) - turn 65; Unit u_20 collided when trying to move e to (6, 24)\n",
      "\u001b[33m[WARN]\u001b[39m (match_YCudTV4rSiZX) - turn 65; Unit u_31 collided when trying to move n to (6, 24)\n",
      "\u001b[33m[WARN]\u001b[39m (match_YCudTV4rSiZX) - turn 65; Unit u_39 collided when trying to move w to (6, 25)\n",
      "\u001b[33m[WARN]\u001b[39m (match_YCudTV4rSiZX) - turn 65; Unit u_10 collided when trying to move w to (19, 29)\n",
      "\u001b[33m[WARN]\u001b[39m (match_YCudTV4rSiZX) - turn 65; Unit u_12 collided when trying to move s to (19, 29)\n",
      "\u001b[33m[WARN]\u001b[39m (match_YCudTV4rSiZX) - turn 65; Unit u_33 collided when trying to move w to (19, 28)\n",
      "\u001b[33m[WARN]\u001b[39m (match_YCudTV4rSiZX) - turn 65; Unit u_36 collided when trying to move n to (19, 29)\n",
      "\u001b[33m[WARN]\u001b[39m (match_YCudTV4rSiZX) - turn 65; Unit u_41 collided when trying to move w to (19, 30)\n",
      "\u001b[33m[WARN]\u001b[39m (match_YCudTV4rSiZX) - turn 66; Unit u_13 collided when trying to move s to (12, 29)\n",
      "\u001b[33m[WARN]\u001b[39m (match_YCudTV4rSiZX) - turn 66; Unit u_30 collided when trying to move n to (12, 29)\n",
      "\u001b[33m[WARN]\u001b[39m (match_YCudTV4rSiZX) - turn 66; Unit u_37 collided when trying to move w to (12, 30)\n",
      "\u001b[33m[WARN]\u001b[39m (match_YCudTV4rSiZX) - turn 66; Unit u_31 collided when trying to move n to (6, 24)\n",
      "\u001b[33m[WARN]\u001b[39m (match_YCudTV4rSiZX) - turn 66; Unit u_39 collided when trying to move w to (6, 25)\n",
      "\u001b[33m[WARN]\u001b[39m (match_YCudTV4rSiZX) - turn 66; Unit u_10 collided when trying to move w to (19, 29)\n",
      "\u001b[33m[WARN]\u001b[39m (match_YCudTV4rSiZX) - turn 66; Unit u_12 collided when trying to move s to (19, 29)\n",
      "\u001b[33m[WARN]\u001b[39m (match_YCudTV4rSiZX) - turn 66; Unit u_33 collided when trying to move w to (19, 28)\n",
      "\u001b[33m[WARN]\u001b[39m (match_YCudTV4rSiZX) - turn 66; Unit u_36 collided when trying to move n to (19, 29)\n",
      "\u001b[33m[WARN]\u001b[39m (match_YCudTV4rSiZX) - turn 66; Unit u_41 collided when trying to move w to (19, 30)\n",
      "\u001b[33m[WARN]\u001b[39m (match_YCudTV4rSiZX) - turn 67; Unit u_13 collided when trying to move s to (12, 29)\n",
      "\u001b[33m[WARN]\u001b[39m (match_YCudTV4rSiZX) - turn 67; Unit u_30 collided when trying to move n to (12, 29)\n",
      "\u001b[33m[WARN]\u001b[39m (match_YCudTV4rSiZX) - turn 67; Unit u_37 collided when trying to move w to (12, 30)\n",
      "\u001b[33m[WARN]\u001b[39m (match_YCudTV4rSiZX) - turn 67; Unit u_10 collided when trying to move w to (19, 29)\n",
      "\u001b[33m[WARN]\u001b[39m (match_YCudTV4rSiZX) - turn 67; Unit u_12 collided when trying to move s to (19, 29)\n",
      "\u001b[33m[WARN]\u001b[39m (match_YCudTV4rSiZX) - turn 67; Unit u_33 collided when trying to move w to (19, 28)\n",
      "\u001b[33m[WARN]\u001b[39m (match_YCudTV4rSiZX) - turn 67; Unit u_36 collided when trying to move n to (19, 29)\n",
      "\u001b[33m[WARN]\u001b[39m (match_YCudTV4rSiZX) - turn 67; Unit u_41 collided when trying to move w to (19, 30)\n",
      "\u001b[33m[WARN]\u001b[39m (match_YCudTV4rSiZX) - turn 67; Unit u_26 collided when trying to move w to (25, 24)\n",
      "\u001b[33m[WARN]\u001b[39m (match_YCudTV4rSiZX) - turn 67; Unit u_45 collided when trying to move n to (25, 24)\n",
      "\u001b[33m[WARN]\u001b[39m (match_YCudTV4rSiZX) - turn 67; Unit u_21 collided when trying to move s to (25, 25)\n",
      "\u001b[33m[WARN]\u001b[39m (match_YCudTV4rSiZX) - turn 67; Unit u_26 collided when trying to move w to (25, 24)\n",
      "\u001b[33m[WARN]\u001b[39m (match_YCudTV4rSiZX) - turn 67; Unit u_45 collided when trying to move n to (25, 24)\n",
      "\u001b[33m[WARN]\u001b[39m (match_YCudTV4rSiZX) - turn 68; Unit u_13 collided when trying to move s to (12, 29)\n",
      "\u001b[33m[WARN]\u001b[39m (match_YCudTV4rSiZX) - turn 68; Unit u_30 collided when trying to move n to (12, 29)\n",
      "\u001b[33m[WARN]\u001b[39m (match_YCudTV4rSiZX) - turn 68; Unit u_37 collided when trying to move w to (12, 30)\n",
      "\u001b[33m[WARN]\u001b[39m (match_YCudTV4rSiZX) - turn 68; Unit u_10 collided when trying to move w to (19, 29)\n",
      "\u001b[33m[WARN]\u001b[39m (match_YCudTV4rSiZX) - turn 68; Unit u_12 collided when trying to move s to (19, 29)\n",
      "\u001b[33m[WARN]\u001b[39m (match_YCudTV4rSiZX) - turn 68; Unit u_33 collided when trying to move w to (19, 28)\n",
      "\u001b[33m[WARN]\u001b[39m (match_YCudTV4rSiZX) - turn 68; Unit u_36 collided when trying to move n to (19, 29)\n",
      "\u001b[33m[WARN]\u001b[39m (match_YCudTV4rSiZX) - turn 68; Unit u_41 collided when trying to move w to (19, 30)\n",
      "\u001b[33m[WARN]\u001b[39m (match_YCudTV4rSiZX) - turn 68; Unit u_26 collided when trying to move w to (25, 24)\n",
      "\u001b[33m[WARN]\u001b[39m (match_YCudTV4rSiZX) - turn 68; Unit u_45 collided when trying to move n to (25, 24)\n",
      "\u001b[33m[WARN]\u001b[39m (match_YCudTV4rSiZX) - turn 69; Unit u_26 collided when trying to move w to (25, 24)\n",
      "\u001b[33m[WARN]\u001b[39m (match_YCudTV4rSiZX) - turn 69; Unit u_45 collided when trying to move n to (25, 24)\n",
      "\u001b[33m[WARN]\u001b[39m (match_YCudTV4rSiZX) - turn 92; Unit u_51 collided when trying to move n to (25, 23)\n",
      "\u001b[33m[WARN]\u001b[39m (match_YCudTV4rSiZX) - turn 103; Unit u_40 collided when trying to move w to (10, 18)\n",
      "\u001b[33m[WARN]\u001b[39m (match_YCudTV4rSiZX) - turn 103; Unit u_42 collided when trying to move n to (11, 18)\n",
      "\u001b[33m[WARN]\u001b[39m (match_YCudTV4rSiZX) - turn 103; Unit u_53 collided when trying to move e to (10, 18)\n",
      "\u001b[33m[WARN]\u001b[39m (match_YCudTV4rSiZX) - turn 105; Unit u_32 collided when trying to move e to (11, 17)\n",
      "\u001b[33m[WARN]\u001b[39m (match_YCudTV4rSiZX) - turn 110; Unit u_52 collided when trying to move s to (13, 26)\n",
      "\u001b[33m[WARN]\u001b[39m (match_YCudTV4rSiZX) - turn 110; Unit u_49 collided when trying to move s to (13, 25)\n",
      "\u001b[33m[WARN]\u001b[39m (match_YCudTV4rSiZX) - turn 110; Unit u_48 collided when trying to move s to (13, 24)\n",
      "\u001b[33m[WARN]\u001b[39m (match_YCudTV4rSiZX) - turn 110; Unit u_46 collided when trying to move s to (13, 23)\n",
      "\u001b[33m[WARN]\u001b[39m (match_YCudTV4rSiZX) - turn 110; Unit u_19 collided when trying to move s to (19, 19)\n",
      "\u001b[33m[WARN]\u001b[39m (match_YCudTV4rSiZX) - turn 110; Unit u_35 collided when trying to move e to (19, 18)\n",
      "\u001b[33m[WARN]\u001b[39m (match_YCudTV4rSiZX) - turn 110; Unit u_33 collided when trying to move e to (23, 18)\n",
      "\u001b[33m[WARN]\u001b[39m (match_YCudTV4rSiZX) - turn 114; Unit u_21 collided when trying to move w to (27, 23)\n",
      "\u001b[33m[WARN]\u001b[39m (match_YCudTV4rSiZX) - turn 114; Unit u_45 collided when trying to move s to (28, 23)\n",
      "\u001b[33m[WARN]\u001b[39m (match_YCudTV4rSiZX) - turn 114; Unit u_51 collided when trying to move s to (27, 23)\n",
      "\u001b[33m[WARN]\u001b[39m (match_YCudTV4rSiZX) - turn 115; Unit u_21 collided when trying to move w to (27, 23)\n",
      "\u001b[33m[WARN]\u001b[39m (match_YCudTV4rSiZX) - turn 115; Unit u_45 collided when trying to move s to (28, 23)\n",
      "\u001b[33m[WARN]\u001b[39m (match_YCudTV4rSiZX) - turn 115; Unit u_51 collided when trying to move s to (27, 23)\n",
      "\u001b[33m[WARN]\u001b[39m (match_YCudTV4rSiZX) - turn 116; Unit u_21 collided when trying to move w to (27, 23)\n",
      "\u001b[33m[WARN]\u001b[39m (match_YCudTV4rSiZX) - turn 116; Unit u_45 collided when trying to move s to (28, 23)\n",
      "\u001b[33m[WARN]\u001b[39m (match_YCudTV4rSiZX) - turn 116; Unit u_51 collided when trying to move s to (27, 23)\n",
      "\u001b[33m[WARN]\u001b[39m (match_YCudTV4rSiZX) - turn 117; Unit u_21 collided when trying to move w to (27, 23)\n",
      "\u001b[33m[WARN]\u001b[39m (match_YCudTV4rSiZX) - turn 117; Unit u_45 collided when trying to move s to (28, 23)\n",
      "\u001b[33m[WARN]\u001b[39m (match_YCudTV4rSiZX) - turn 117; Unit u_51 collided when trying to move s to (27, 23)\n",
      "\u001b[33m[WARN]\u001b[39m (match_YCudTV4rSiZX) - turn 118; Unit u_21 collided when trying to move w to (27, 23)\n",
      "\u001b[33m[WARN]\u001b[39m (match_YCudTV4rSiZX) - turn 118; Unit u_45 collided when trying to move s to (28, 23)\n",
      "\u001b[33m[WARN]\u001b[39m (match_YCudTV4rSiZX) - turn 118; Unit u_51 collided when trying to move s to (27, 23)\n",
      "\u001b[33m[WARN]\u001b[39m (match_YCudTV4rSiZX) - turn 128; Unit u_55 collided when trying to move s to (10, 17)\n",
      "\u001b[33m[WARN]\u001b[39m (match_YCudTV4rSiZX) - turn 128; Unit u_83 collided when trying to move w to (10, 16)\n",
      "\u001b[33m[WARN]\u001b[39m (match_YCudTV4rSiZX) - turn 128; Unit u_60 collided when trying to move e to (10, 17)\n",
      "\u001b[33m[WARN]\u001b[39m (match_YCudTV4rSiZX) - turn 129; Unit u_40 collided when trying to move s to (9, 19)\n",
      "\u001b[33m[WARN]\u001b[39m (match_YCudTV4rSiZX) - turn 131; Unit u_83 collided when trying to move e to (11, 16)\n",
      "\u001b[33m[WARN]\u001b[39m (match_YCudTV4rSiZX) - turn 131; Unit u_2 collided when trying to move n to (27, 20)\n",
      "\u001b[33m[WARN]\u001b[39m (match_YCudTV4rSiZX) - turn 131; Unit u_21 collided when trying to move n to (27, 21)\n",
      "\u001b[33m[WARN]\u001b[39m (match_YCudTV4rSiZX) - turn 132; Unit u_40 collided when trying to move s to (9, 18)\n",
      "\u001b[33m[WARN]\u001b[39m (match_YCudTV4rSiZX) - turn 132; Unit u_42 collided when trying to move w to (9, 17)\n",
      "\u001b[33m[WARN]\u001b[39m (match_YCudTV4rSiZX) - turn 133; Unit u_40 collided when trying to move s to (9, 18)\n",
      "\u001b[33m[WARN]\u001b[39m (match_YCudTV4rSiZX) - turn 133; Unit u_42 collided when trying to move w to (9, 17)\n",
      "\u001b[33m[WARN]\u001b[39m (match_YCudTV4rSiZX) - turn 134; Unit u_40 collided when trying to move s to (9, 18)\n",
      "\u001b[33m[WARN]\u001b[39m (match_YCudTV4rSiZX) - turn 134; Unit u_42 collided when trying to move w to (9, 17)\n",
      "\u001b[33m[WARN]\u001b[39m (match_YCudTV4rSiZX) - turn 136; Unit u_83 collided when trying to move w to (8, 16)\n",
      "\u001b[33m[WARN]\u001b[39m (match_YCudTV4rSiZX) - turn 136; Unit u_51 collided when trying to move e to (30, 21)\n",
      "\u001b[33m[WARN]\u001b[39m (match_YCudTV4rSiZX) - turn 137; Unit u_21 collided when trying to move e to (28, 21)\n",
      "\u001b[33m[WARN]\u001b[39m (match_YCudTV4rSiZX) - turn 137; Unit u_51 collided when trying to move w to (28, 21)\n",
      "\u001b[33m[WARN]\u001b[39m (match_YCudTV4rSiZX) - turn 138; Unit u_21 collided when trying to move e to (28, 21)\n",
      "\u001b[33m[WARN]\u001b[39m (match_YCudTV4rSiZX) - turn 138; Unit u_51 collided when trying to move w to (28, 21)\n",
      "\u001b[33m[WARN]\u001b[39m (match_YCudTV4rSiZX) - turn 139; Unit u_60 collided when trying to move e to (9, 16)\n",
      "\u001b[33m[WARN]\u001b[39m (match_YCudTV4rSiZX) - turn 139; Unit u_2 collided when trying to move e to (29, 20)\n",
      "\u001b[33m[WARN]\u001b[39m (match_YCudTV4rSiZX) - turn 139; Unit u_33 collided when trying to move s to (28, 20)\n",
      "\u001b[33m[WARN]\u001b[39m (match_YCudTV4rSiZX) - turn 139; Unit u_51 collided when trying to move n to (29, 20)\n",
      "\u001b[33m[WARN]\u001b[39m (match_YCudTV4rSiZX) - turn 140; Unit u_51 collided when trying to move w to (28, 21)\n",
      "\u001b[33m[WARN]\u001b[39m (match_YCudTV4rSiZX) - turn 141; Unit u_51 collided when trying to move n to (29, 20)\n",
      "\u001b[33m[WARN]\u001b[39m (match_YCudTV4rSiZX) - turn 142; Unit u_21 collided when trying to move n to (28, 21)\n",
      "\u001b[33m[WARN]\u001b[39m (match_YCudTV4rSiZX) - turn 142; Unit u_51 collided when trying to move w to (28, 21)\n",
      "\u001b[33m[WARN]\u001b[39m (match_YCudTV4rSiZX) - turn 142; Unit u_85 collided when trying to move s to (21, 18)\n",
      "\u001b[33m[WARN]\u001b[39m (match_YCudTV4rSiZX) - turn 143; Unit u_51 collided when trying to move n to (29, 20)\n",
      "\u001b[33m[WARN]\u001b[39m (match_YCudTV4rSiZX) - turn 144; Unit u_51 collided when trying to move w to (28, 21)\n",
      "\u001b[33m[WARN]\u001b[39m (match_YCudTV4rSiZX) - turn 145; Unit u_2 collided when trying to move w to (29, 20)\n",
      "\u001b[33m[WARN]\u001b[39m (match_YCudTV4rSiZX) - turn 145; Unit u_51 collided when trying to move n to (29, 20)\n",
      "\u001b[33m[WARN]\u001b[39m (match_YCudTV4rSiZX) - turn 146; Unit u_2 collided when trying to move w to (29, 20)\n",
      "\u001b[33m[WARN]\u001b[39m (match_YCudTV4rSiZX) - turn 146; Unit u_51 collided when trying to move n to (29, 20)\n",
      "\u001b[33m[WARN]\u001b[39m (match_YCudTV4rSiZX) - turn 147; Unit u_2 collided when trying to move w to (29, 20)\n",
      "\u001b[33m[WARN]\u001b[39m (match_YCudTV4rSiZX) - turn 147; Unit u_21 collided when trying to move e to (29, 20)\n",
      "\u001b[33m[WARN]\u001b[39m (match_YCudTV4rSiZX) - turn 148; Unit u_2 collided when trying to move w to (29, 20)\n",
      "\u001b[33m[WARN]\u001b[39m (match_YCudTV4rSiZX) - turn 148; Unit u_21 collided when trying to move e to (29, 20)\n",
      "\u001b[33m[WARN]\u001b[39m (match_YCudTV4rSiZX) - turn 148; Unit u_90 collided when trying to move s to (28, 20)\n",
      "\u001b[33m[WARN]\u001b[39m (match_YCudTV4rSiZX) - turn 149; Unit u_2 collided when trying to move w to (29, 20)\n",
      "\u001b[33m[WARN]\u001b[39m (match_YCudTV4rSiZX) - turn 149; Unit u_88 collided when trying to move n to (29, 20)\n",
      "\u001b[33m[WARN]\u001b[39m (match_YCudTV4rSiZX) - turn 171; Unit u_91 collided when trying to move n to (22, 15)\n",
      "\u001b[33m[WARN]\u001b[39m (match_YCudTV4rSiZX) - turn 174; Unit u_40 collided when trying to move w to (8, 10)\n",
      "\u001b[33m[WARN]\u001b[39m (match_YCudTV4rSiZX) - turn 174; Unit u_92 collided when trying to move e to (8, 10)\n",
      "\u001b[33m[WARN]\u001b[39m (match_YCudTV4rSiZX) - turn 174; Unit u_8 collided when trying to move n to (22, 16)\n",
      "\u001b[33m[WARN]\u001b[39m (match_YCudTV4rSiZX) - turn 174; Unit u_101 collided when trying to move n to (22, 17)\n",
      "\u001b[33m[WARN]\u001b[39m (match_YCudTV4rSiZX) - turn 175; Unit u_59 collided when trying to move w to (14, 14)\n",
      "\u001b[33m[WARN]\u001b[39m (match_YCudTV4rSiZX) - turn 175; Unit u_85 collided when trying to move s to (22, 17)\n",
      "\u001b[33m[WARN]\u001b[39m (match_YCudTV4rSiZX) - turn 175; Unit u_91 collided when trying to move w to (22, 16)\n",
      "\u001b[33m[WARN]\u001b[39m (match_YCudTV4rSiZX) - turn 175; Unit u_101 collided when trying to move n to (22, 17)\n",
      "\u001b[33m[WARN]\u001b[39m (match_YCudTV4rSiZX) - turn 177; Unit u_8 collided when trying to move n to (21, 16)\n",
      "\u001b[33m[WARN]\u001b[39m (match_YCudTV4rSiZX) - turn 179; Unit u_99 collided when trying to move e to (4, 20)\n",
      "\u001b[33m[WARN]\u001b[39m (match_YCudTV4rSiZX) - turn 179; Unit u_51 collided when trying to move n to (22, 17)\n",
      "\u001b[33m[WARN]\u001b[39m (match_YCudTV4rSiZX) - turn 179; Unit u_90 collided when trying to move w to (22, 18)\n",
      "\u001b[33m[WARN]\u001b[39m (match_YCudTV4rSiZX) - turn 180; Unit u_51 collided when trying to move n to (22, 17)\n",
      "\u001b[33m[WARN]\u001b[39m (match_YCudTV4rSiZX) - turn 180; Unit u_90 collided when trying to move w to (22, 18)\n",
      "\u001b[33m[WARN]\u001b[39m (match_YCudTV4rSiZX) - turn 180; Unit u_101 collided when trying to move s to (22, 17)\n",
      "\u001b[33m[WARN]\u001b[39m (match_YCudTV4rSiZX) - turn 180; Unit u_91 collided when trying to move n to (22, 16)\n",
      "\u001b[33m[WARN]\u001b[39m (match_YCudTV4rSiZX) - turn 180; Unit u_51 collided when trying to move n to (22, 17)\n",
      "\u001b[33m[WARN]\u001b[39m (match_YCudTV4rSiZX) - turn 180; Unit u_101 collided when trying to move s to (22, 17)\n",
      "\u001b[33m[WARN]\u001b[39m (match_YCudTV4rSiZX) - turn 181; Unit u_101 collided when trying to move w to (21, 16)\n",
      "\u001b[33m[WARN]\u001b[39m (match_YCudTV4rSiZX) - turn 181; Unit u_91 collided when trying to move n to (22, 16)\n",
      "\u001b[33m[WARN]\u001b[39m (match_YCudTV4rSiZX) - turn 181; Unit u_51 collided when trying to move n to (22, 17)\n",
      "\u001b[33m[WARN]\u001b[39m (match_YCudTV4rSiZX) - turn 181; Unit u_90 collided when trying to move w to (22, 18)\n",
      "\u001b[33m[WARN]\u001b[39m (match_YCudTV4rSiZX) - turn 182; Unit u_91 collided when trying to move s to (22, 18)\n",
      "\u001b[33m[WARN]\u001b[39m (match_YCudTV4rSiZX) - turn 182; Unit u_8 collided when trying to move e to (22, 17)\n",
      "\u001b[33m[WARN]\u001b[39m (match_YCudTV4rSiZX) - turn 182; Unit u_85 collided when trying to move s to (21, 17)\n",
      "\u001b[33m[WARN]\u001b[39m (match_YCudTV4rSiZX) - turn 182; Unit u_101 collided when trying to move w to (21, 16)\n",
      "\u001b[33m[WARN]\u001b[39m (match_YCudTV4rSiZX) - turn 182; Unit u_102 collided when trying to move s to (22, 16)\n",
      "\u001b[33m[WARN]\u001b[39m (match_YCudTV4rSiZX) - turn 183; Unit u_105 collided when trying to move w to (6, 10)\n",
      "\u001b[33m[WARN]\u001b[39m (match_YCudTV4rSiZX) - turn 185; Unit u_8 collided when trying to move e to (22, 16)\n",
      "\u001b[33m[WARN]\u001b[39m (match_YCudTV4rSiZX) - turn 185; Unit u_85 collided when trying to move n to (21, 16)\n",
      "\u001b[33m[WARN]\u001b[39m (match_YCudTV4rSiZX) - turn 185; Unit u_101 collided when trying to move n to (22, 16)\n",
      "\u001b[33m[WARN]\u001b[39m (match_YCudTV4rSiZX) - turn 185; Unit u_91 collided when trying to move s to (22, 17)\n",
      "\u001b[33m[WARN]\u001b[39m (match_YCudTV4rSiZX) - turn 185; Unit u_8 collided when trying to move e to (22, 16)\n",
      "\u001b[33m[WARN]\u001b[39m (match_YCudTV4rSiZX) - turn 185; Unit u_101 collided when trying to move n to (22, 16)\n",
      "\u001b[33m[WARN]\u001b[39m (match_YCudTV4rSiZX) - turn 186; Unit u_85 collided when trying to move e to (22, 17)\n",
      "\u001b[33m[WARN]\u001b[39m (match_YCudTV4rSiZX) - turn 186; Unit u_8 collided when trying to move s to (21, 17)\n",
      "\u001b[33m[WARN]\u001b[39m (match_YCudTV4rSiZX) - turn 186; Unit u_91 collided when trying to move s to (22, 17)\n",
      "\u001b[33m[WARN]\u001b[39m (match_YCudTV4rSiZX) - turn 186; Unit u_101 collided when trying to move n to (22, 16)\n",
      "\u001b[33m[WARN]\u001b[39m (match_YCudTV4rSiZX) - turn 186; Unit u_85 collided when trying to move e to (22, 17)\n",
      "\u001b[33m[WARN]\u001b[39m (match_YCudTV4rSiZX) - turn 186; Unit u_91 collided when trying to move s to (22, 17)\n",
      "\u001b[33m[WARN]\u001b[39m (match_YCudTV4rSiZX) - turn 187; Unit u_85 collided when trying to move n to (21, 16)\n",
      "\u001b[33m[WARN]\u001b[39m (match_YCudTV4rSiZX) - turn 187; Unit u_8 collided when trying to move s to (21, 17)\n",
      "\u001b[33m[WARN]\u001b[39m (match_YCudTV4rSiZX) - turn 187; Unit u_85 collided when trying to move n to (21, 16)\n",
      "\u001b[33m[WARN]\u001b[39m (match_YCudTV4rSiZX) - turn 187; Unit u_91 collided when trying to move w to (21, 16)\n",
      "\u001b[33m[WARN]\u001b[39m (match_YCudTV4rSiZX) - turn 187; Unit u_101 collided when trying to move n to (22, 16)\n",
      "\u001b[33m[WARN]\u001b[39m (match_YCudTV4rSiZX) - turn 187; Unit u_110 collided when trying to move n to (22, 17)\n",
      "\u001b[33m[WARN]\u001b[39m (match_YCudTV4rSiZX) - turn 187; Unit u_91 collided when trying to move w to (21, 16)\n",
      "\u001b[33m[WARN]\u001b[39m (match_YCudTV4rSiZX) - turn 189; Unit u_112 collided when trying to move n to (2, 19)\n",
      "\u001b[33m[WARN]\u001b[39m (match_YCudTV4rSiZX) - turn 190; Unit u_109 collided when trying to move s to (11, 15)\n",
      "\u001b[33m[WARN]\u001b[39m (match_YCudTV4rSiZX) - turn 204; Unit u_94 collided when trying to move w to (1, 20)\n",
      "\u001b[33m[WARN]\u001b[39m (match_YCudTV4rSiZX) - turn 204; Unit u_112 collided when trying to move s to (2, 20)\n",
      "\u001b[33m[WARN]\u001b[39m (match_YCudTV4rSiZX) - turn 204; Unit u_33 collided when trying to move e to (22, 17)\n",
      "\u001b[33m[WARN]\u001b[39m (match_YCudTV4rSiZX) - turn 204; Unit u_101 collided when trying to move e to (22, 16)\n",
      "\u001b[33m[WARN]\u001b[39m (match_YCudTV4rSiZX) - turn 207; Unit u_85 collided when trying to move w to (21, 16)\n",
      "\u001b[33m[WARN]\u001b[39m (match_YCudTV4rSiZX) - turn 207; Unit u_101 collided when trying to move n to (21, 16)\n",
      "\u001b[33m[WARN]\u001b[39m (match_YCudTV4rSiZX) - turn 207; Unit u_33 collided when trying to move s to (21, 17)\n",
      "\u001b[33m[WARN]\u001b[39m (match_YCudTV4rSiZX) - turn 207; Unit u_85 collided when trying to move w to (21, 16)\n",
      "\u001b[33m[WARN]\u001b[39m (match_YCudTV4rSiZX) - turn 207; Unit u_101 collided when trying to move n to (21, 16)\n",
      "\u001b[33m[WARN]\u001b[39m (match_YCudTV4rSiZX) - turn 208; Unit u_85 collided when trying to move w to (21, 16)\n",
      "\u001b[33m[WARN]\u001b[39m (match_YCudTV4rSiZX) - turn 208; Unit u_101 collided when trying to move n to (21, 16)\n",
      "\u001b[33m[WARN]\u001b[39m (match_YCudTV4rSiZX) - turn 208; Unit u_33 collided when trying to move s to (21, 17)\n",
      "\u001b[33m[WARN]\u001b[39m (match_YCudTV4rSiZX) - turn 208; Unit u_85 collided when trying to move w to (21, 16)\n",
      "\u001b[33m[WARN]\u001b[39m (match_YCudTV4rSiZX) - turn 208; Unit u_101 collided when trying to move n to (21, 16)\n",
      "\u001b[33m[WARN]\u001b[39m (match_YCudTV4rSiZX) - turn 209; Unit u_99 collided when trying to move w to (1, 21)\n",
      "\u001b[33m[WARN]\u001b[39m (match_YCudTV4rSiZX) - turn 209; Unit u_85 collided when trying to move w to (21, 16)\n",
      "\u001b[33m[WARN]\u001b[39m (match_YCudTV4rSiZX) - turn 209; Unit u_101 collided when trying to move n to (21, 16)\n",
      "\u001b[33m[WARN]\u001b[39m (match_YCudTV4rSiZX) - turn 209; Unit u_33 collided when trying to move s to (21, 17)\n",
      "\u001b[33m[WARN]\u001b[39m (match_YCudTV4rSiZX) - turn 209; Unit u_85 collided when trying to move w to (21, 16)\n",
      "\u001b[33m[WARN]\u001b[39m (match_YCudTV4rSiZX) - turn 209; Unit u_101 collided when trying to move n to (21, 16)\n",
      "\u001b[33m[WARN]\u001b[39m (match_YCudTV4rSiZX) - turn 210; Unit u_85 collided when trying to move w to (21, 16)\n",
      "\u001b[33m[WARN]\u001b[39m (match_YCudTV4rSiZX) - turn 210; Unit u_101 collided when trying to move n to (21, 16)\n",
      "\u001b[33m[WARN]\u001b[39m (match_YCudTV4rSiZX) - turn 210; Unit u_33 collided when trying to move s to (21, 17)\n",
      "\u001b[33m[WARN]\u001b[39m (match_YCudTV4rSiZX) - turn 210; Unit u_85 collided when trying to move w to (21, 16)\n",
      "\u001b[33m[WARN]\u001b[39m (match_YCudTV4rSiZX) - turn 210; Unit u_101 collided when trying to move n to (21, 16)\n",
      "\u001b[33m[WARN]\u001b[39m (match_YCudTV4rSiZX) - turn 211; Unit u_101 collided when trying to move n to (21, 16)\n",
      "\u001b[33m[WARN]\u001b[39m (match_YCudTV4rSiZX) - turn 211; Unit u_110 collided when trying to move w to (21, 17)\n",
      "\u001b[33m[WARN]\u001b[39m (match_YCudTV4rSiZX) - turn 214; Unit u_93 collided when trying to move w to (15, 14)\n",
      "\u001b[33m[WARN]\u001b[39m (match_YCudTV4rSiZX) - turn 215; Unit u_105 collided when trying to move e to (7, 7)\n",
      "\u001b[33m[WARN]\u001b[39m (match_YCudTV4rSiZX) - turn 216; Unit u_112 collided when trying to move s to (3, 21)\n",
      "\u001b[33m[WARN]\u001b[39m (match_YCudTV4rSiZX) - turn 218; Unit u_94 collided when trying to move e to (3, 21)\n",
      "\u001b[33m[WARN]\u001b[39m (match_YCudTV4rSiZX) - turn 218; Unit u_100 collided when trying to move e to (17, 14)\n",
      "\u001b[33m[WARN]\u001b[39m (match_YCudTV4rSiZX) - turn 218; Unit u_104 collided when trying to move e to (16, 14)\n",
      "\u001b[33m[WARN]\u001b[39m (match_YCudTV4rSiZX) - turn 219; Unit u_92 collided when trying to move w to (5, 7)\n",
      "\u001b[33m[WARN]\u001b[39m (match_YCudTV4rSiZX) - turn 219; Unit u_111 collided when trying to move n to (5, 7)\n",
      "\u001b[33m[WARN]\u001b[39m (match_YCudTV4rSiZX) - turn 219; Unit u_119 collided when trying to move w to (5, 8)\n",
      "\u001b[33m[WARN]\u001b[39m (match_YCudTV4rSiZX) - turn 220; Unit u_100 collided when trying to move w to (15, 14)\n",
      "\u001b[33m[WARN]\u001b[39m (match_YCudTV4rSiZX) - turn 221; Unit u_94 collided when trying to move s to (3, 22)\n",
      "\u001b[33m[WARN]\u001b[39m (match_YCudTV4rSiZX) - turn 221; Unit u_99 collided when trying to move w to (3, 21)\n",
      "\u001b[33m[WARN]\u001b[39m (match_YCudTV4rSiZX) - Agent 1 tried to move unit u_33 onto opponent CityTile; turn 223; cmd: m u_33 w\n",
      "\u001b[33m[WARN]\u001b[39m (match_YCudTV4rSiZX) - turn 223; Unit u_102 collided when trying to move w to (18, 14)\n",
      "\u001b[33m[WARN]\u001b[39m (match_YCudTV4rSiZX) - turn 223; Unit u_121 collided when trying to move w to (19, 14)\n",
      "\u001b[33m[WARN]\u001b[39m (match_YCudTV4rSiZX) - turn 224; Unit u_94 collided when trying to move e to (3, 21)\n",
      "\u001b[33m[WARN]\u001b[39m (match_YCudTV4rSiZX) - turn 224; Unit u_99 collided when trying to move w to (2, 21)\n",
      "\u001b[33m[WARN]\u001b[39m (match_YCudTV4rSiZX) - turn 224; Unit u_94 collided when trying to move e to (3, 21)\n",
      "\u001b[33m[WARN]\u001b[39m (match_YCudTV4rSiZX) - turn 224; Unit u_124 collided when trying to move s to (3, 21)\n",
      "\u001b[33m[WARN]\u001b[39m (match_YCudTV4rSiZX) - turn 224; Unit u_124 collided when trying to move s to (3, 21)\n",
      "\u001b[33m[WARN]\u001b[39m (match_YCudTV4rSiZX) - turn 225; Unit u_94 collided when trying to move e to (3, 21)\n",
      "\u001b[33m[WARN]\u001b[39m (match_YCudTV4rSiZX) - turn 225; Unit u_99 collided when trying to move w to (2, 21)\n",
      "\u001b[33m[WARN]\u001b[39m (match_YCudTV4rSiZX) - turn 225; Unit u_94 collided when trying to move e to (3, 21)\n",
      "\u001b[33m[WARN]\u001b[39m (match_YCudTV4rSiZX) - turn 225; Unit u_124 collided when trying to move s to (3, 21)\n",
      "\u001b[33m[WARN]\u001b[39m (match_YCudTV4rSiZX) - turn 225; Unit u_128 collided when trying to move e to (3, 20)\n",
      "\u001b[33m[WARN]\u001b[39m (match_YCudTV4rSiZX) - turn 225; Unit u_124 collided when trying to move s to (3, 21)\n",
      "\u001b[33m[WARN]\u001b[39m (match_YCudTV4rSiZX) - turn 226; Unit u_94 collided when trying to move e to (3, 21)\n",
      "\u001b[33m[WARN]\u001b[39m (match_YCudTV4rSiZX) - turn 226; Unit u_99 collided when trying to move w to (2, 21)\n",
      "\u001b[33m[WARN]\u001b[39m (match_YCudTV4rSiZX) - turn 226; Unit u_94 collided when trying to move e to (3, 21)\n",
      "\u001b[33m[WARN]\u001b[39m (match_YCudTV4rSiZX) - turn 226; Unit u_124 collided when trying to move s to (3, 21)\n",
      "\u001b[33m[WARN]\u001b[39m (match_YCudTV4rSiZX) - turn 226; Unit u_128 collided when trying to move e to (3, 20)\n",
      "\u001b[33m[WARN]\u001b[39m (match_YCudTV4rSiZX) - turn 226; Unit u_124 collided when trying to move s to (3, 21)\n",
      "\u001b[33m[WARN]\u001b[39m (match_YCudTV4rSiZX) - turn 226; Unit u_104 collided when trying to move n to (16, 12)\n",
      "\u001b[33m[WARN]\u001b[39m (match_YCudTV4rSiZX) - turn 226; Unit u_125 collided when trying to move n to (16, 13)\n",
      "\u001b[33m[WARN]\u001b[39m (match_YCudTV4rSiZX) - turn 226; Unit u_33 collided when trying to move w to (17, 13)\n",
      "\u001b[33m[WARN]\u001b[39m (match_YCudTV4rSiZX) - turn 226; Unit u_102 collided when trying to move w to (18, 13)\n",
      "\u001b[33m[WARN]\u001b[39m (match_YCudTV4rSiZX) - turn 226; Unit u_121 collided when trying to move w to (19, 13)\n",
      "\u001b[33m[WARN]\u001b[39m (match_YCudTV4rSiZX) - turn 227; Unit u_94 collided when trying to move e to (3, 21)\n",
      "\u001b[33m[WARN]\u001b[39m (match_YCudTV4rSiZX) - turn 227; Unit u_99 collided when trying to move w to (2, 21)\n",
      "\u001b[33m[WARN]\u001b[39m (match_YCudTV4rSiZX) - turn 227; Unit u_94 collided when trying to move e to (3, 21)\n",
      "\u001b[33m[WARN]\u001b[39m (match_YCudTV4rSiZX) - turn 227; Unit u_124 collided when trying to move s to (3, 21)\n",
      "\u001b[33m[WARN]\u001b[39m (match_YCudTV4rSiZX) - turn 227; Unit u_129 collided when trying to move e to (3, 20)\n",
      "\u001b[33m[WARN]\u001b[39m (match_YCudTV4rSiZX) - turn 227; Unit u_124 collided when trying to move s to (3, 21)\n",
      "\u001b[33m[WARN]\u001b[39m (match_YCudTV4rSiZX) - turn 227; Unit u_33 collided when trying to move w to (17, 13)\n",
      "\u001b[33m[WARN]\u001b[39m (match_YCudTV4rSiZX) - turn 227; Unit u_102 collided when trying to move w to (18, 13)\n",
      "\u001b[33m[WARN]\u001b[39m (match_YCudTV4rSiZX) - turn 227; Unit u_121 collided when trying to move w to (19, 13)\n",
      "\u001b[33m[WARN]\u001b[39m (match_YCudTV4rSiZX) - turn 228; Unit u_99 collided when trying to move n to (3, 20)\n",
      "\u001b[33m[WARN]\u001b[39m (match_YCudTV4rSiZX) - turn 228; Unit u_94 collided when trying to move e to (3, 21)\n",
      "\u001b[33m[WARN]\u001b[39m (match_YCudTV4rSiZX) - turn 228; Unit u_128 collided when trying to move s to (2, 21)\n",
      "\u001b[33m[WARN]\u001b[39m (match_YCudTV4rSiZX) - turn 228; Unit u_104 collided when trying to move n to (16, 12)\n",
      "\u001b[33m[WARN]\u001b[39m (match_YCudTV4rSiZX) - turn 228; Unit u_105 collided when trying to move s to (4, 9)\n",
      "\u001b[33m[WARN]\u001b[39m (match_YCudTV4rSiZX) - turn 228; Unit u_119 collided when trying to move e to (4, 8)\n",
      "\u001b[33m[WARN]\u001b[39m (match_YCudTV4rSiZX) - turn 228; Unit u_33 collided when trying to move w to (17, 13)\n",
      "\u001b[33m[WARN]\u001b[39m (match_YCudTV4rSiZX) - turn 228; Unit u_102 collided when trying to move w to (18, 13)\n",
      "\u001b[33m[WARN]\u001b[39m (match_YCudTV4rSiZX) - turn 228; Unit u_121 collided when trying to move w to (19, 13)\n",
      "\u001b[33m[WARN]\u001b[39m (match_YCudTV4rSiZX) - turn 229; Unit u_104 collided when trying to move s to (16, 14)\n",
      "\u001b[33m[WARN]\u001b[39m (match_YCudTV4rSiZX) - turn 229; Unit u_97 collided when trying to move e to (16, 13)\n",
      "\u001b[33m[WARN]\u001b[39m (match_YCudTV4rSiZX) - turn 229; Unit u_98 collided when trying to move e to (15, 13)\n",
      "\u001b[33m[WARN]\u001b[39m (match_YCudTV4rSiZX) - turn 229; Unit u_105 collided when trying to move n to (4, 7)\n",
      "\u001b[33m[WARN]\u001b[39m (match_YCudTV4rSiZX) - turn 229; Unit u_119 collided when trying to move e to (4, 8)\n",
      "\u001b[33m[WARN]\u001b[39m (match_YCudTV4rSiZX) - turn 229; Unit u_33 collided when trying to move w to (17, 13)\n",
      "\u001b[33m[WARN]\u001b[39m (match_YCudTV4rSiZX) - turn 229; Unit u_102 collided when trying to move w to (18, 13)\n",
      "\u001b[33m[WARN]\u001b[39m (match_YCudTV4rSiZX) - turn 229; Unit u_121 collided when trying to move w to (19, 13)\n",
      "\u001b[33m[WARN]\u001b[39m (match_YCudTV4rSiZX) - turn 242; Unit u_120 collided when trying to move s to (30, 19)\n",
      "\u001b[33m[WARN]\u001b[39m (match_YCudTV4rSiZX) - turn 242; Unit u_123 collided when trying to move s to (30, 18)\n",
      "\u001b[33m[WARN]\u001b[39m (match_YCudTV4rSiZX) - turn 243; Unit u_120 collided when trying to move s to (30, 19)\n",
      "\u001b[33m[WARN]\u001b[39m (match_YCudTV4rSiZX) - turn 243; Unit u_123 collided when trying to move s to (30, 18)\n",
      "\u001b[33m[WARN]\u001b[39m (match_YCudTV4rSiZX) - turn 244; Unit u_132 collided when trying to move w to (3, 7)\n",
      "\u001b[33m[WARN]\u001b[39m (match_YCudTV4rSiZX) - turn 244; Unit u_40 collided when trying to move w to (4, 7)\n",
      "\u001b[33m[WARN]\u001b[39m (match_YCudTV4rSiZX) - turn 244; Unit u_120 collided when trying to move s to (30, 19)\n",
      "\u001b[33m[WARN]\u001b[39m (match_YCudTV4rSiZX) - turn 244; Unit u_123 collided when trying to move s to (30, 18)\n",
      "\u001b[33m[WARN]\u001b[39m (match_YCudTV4rSiZX) - turn 245; Unit u_120 collided when trying to move s to (30, 19)\n",
      "\u001b[33m[WARN]\u001b[39m (match_YCudTV4rSiZX) - turn 245; Unit u_123 collided when trying to move s to (30, 18)\n",
      "\u001b[33m[WARN]\u001b[39m (match_YCudTV4rSiZX) - turn 246; Unit u_120 collided when trying to move s to (30, 19)\n",
      "\u001b[33m[WARN]\u001b[39m (match_YCudTV4rSiZX) - turn 246; Unit u_123 collided when trying to move s to (30, 18)\n",
      "\u001b[33m[WARN]\u001b[39m (match_YCudTV4rSiZX) - turn 247; Unit u_40 collided when trying to move s to (4, 8)\n",
      "\u001b[33m[WARN]\u001b[39m (match_YCudTV4rSiZX) - turn 247; Unit u_92 collided when trying to move e to (4, 7)\n",
      "\u001b[33m[WARN]\u001b[39m (match_YCudTV4rSiZX) - turn 247; Unit u_120 collided when trying to move s to (30, 19)\n",
      "\u001b[33m[WARN]\u001b[39m (match_YCudTV4rSiZX) - turn 247; Unit u_123 collided when trying to move s to (30, 18)\n",
      "\u001b[33m[WARN]\u001b[39m (match_YCudTV4rSiZX) - turn 248; Unit u_120 collided when trying to move s to (30, 19)\n",
      "\u001b[33m[WARN]\u001b[39m (match_YCudTV4rSiZX) - turn 248; Unit u_123 collided when trying to move s to (30, 18)\n",
      "\u001b[33m[WARN]\u001b[39m (match_YCudTV4rSiZX) - turn 249; Unit u_120 collided when trying to move s to (30, 19)\n",
      "\u001b[33m[WARN]\u001b[39m (match_YCudTV4rSiZX) - turn 249; Unit u_123 collided when trying to move s to (30, 18)\n",
      "\u001b[33m[WARN]\u001b[39m (match_YCudTV4rSiZX) - turn 250; Unit u_92 collided when trying to move s to (4, 8)\n",
      "\u001b[33m[WARN]\u001b[39m (match_YCudTV4rSiZX) - turn 250; Unit u_40 collided when trying to move w to (4, 7)\n",
      "\u001b[33m[WARN]\u001b[39m (match_YCudTV4rSiZX) - turn 250; Unit u_126 collided when trying to move n to (4, 8)\n",
      "\u001b[33m[WARN]\u001b[39m (match_YCudTV4rSiZX) - turn 250; Unit u_120 collided when trying to move s to (30, 19)\n",
      "\u001b[33m[WARN]\u001b[39m (match_YCudTV4rSiZX) - turn 250; Unit u_123 collided when trying to move s to (30, 18)\n",
      "\u001b[33m[WARN]\u001b[39m (match_YCudTV4rSiZX) - turn 251; Unit u_40 collided when trying to move s to (5, 8)\n",
      "\u001b[33m[WARN]\u001b[39m (match_YCudTV4rSiZX) - turn 251; Unit u_127 collided when trying to move n to (5, 8)\n",
      "\u001b[33m[WARN]\u001b[39m (match_YCudTV4rSiZX) - turn 251; Unit u_92 collided when trying to move s to (4, 8)\n",
      "\u001b[33m[WARN]\u001b[39m (match_YCudTV4rSiZX) - turn 251; Unit u_126 collided when trying to move n to (4, 8)\n",
      "\u001b[33m[WARN]\u001b[39m (match_YCudTV4rSiZX) - turn 251; Unit u_120 collided when trying to move s to (30, 19)\n",
      "\u001b[33m[WARN]\u001b[39m (match_YCudTV4rSiZX) - turn 251; Unit u_123 collided when trying to move s to (30, 18)\n",
      "\u001b[33m[WARN]\u001b[39m (match_YCudTV4rSiZX) - turn 252; Unit u_92 collided when trying to move s to (4, 8)\n",
      "\u001b[33m[WARN]\u001b[39m (match_YCudTV4rSiZX) - turn 252; Unit u_40 collided when trying to move w to (4, 7)\n",
      "\u001b[33m[WARN]\u001b[39m (match_YCudTV4rSiZX) - turn 252; Unit u_126 collided when trying to move n to (4, 8)\n",
      "\u001b[33m[WARN]\u001b[39m (match_YCudTV4rSiZX) - turn 252; Unit u_127 collided when trying to move w to (4, 9)\n",
      "\u001b[33m[WARN]\u001b[39m (match_YCudTV4rSiZX) - turn 252; Unit u_120 collided when trying to move s to (30, 19)\n",
      "\u001b[33m[WARN]\u001b[39m (match_YCudTV4rSiZX) - turn 252; Unit u_123 collided when trying to move s to (30, 18)\n",
      "\u001b[33m[WARN]\u001b[39m (match_YCudTV4rSiZX) - turn 253; Unit u_40 collided when trying to move w to (4, 7)\n",
      "\u001b[33m[WARN]\u001b[39m (match_YCudTV4rSiZX) - turn 253; Unit u_120 collided when trying to move s to (30, 19)\n",
      "\u001b[33m[WARN]\u001b[39m (match_YCudTV4rSiZX) - turn 253; Unit u_123 collided when trying to move s to (30, 18)\n",
      "\u001b[33m[WARN]\u001b[39m (match_YCudTV4rSiZX) - turn 254; Unit u_120 collided when trying to move s to (30, 19)\n",
      "\u001b[33m[WARN]\u001b[39m (match_YCudTV4rSiZX) - turn 254; Unit u_123 collided when trying to move s to (30, 18)\n",
      "\u001b[33m[WARN]\u001b[39m (match_YCudTV4rSiZX) - turn 255; Unit u_127 collided when trying to move n to (4, 8)\n",
      "\u001b[33m[WARN]\u001b[39m (match_YCudTV4rSiZX) - turn 255; Unit u_132 collided when trying to move w to (5, 8)\n",
      "\u001b[33m[WARN]\u001b[39m (match_YCudTV4rSiZX) - turn 255; Unit u_120 collided when trying to move s to (30, 19)\n",
      "\u001b[33m[WARN]\u001b[39m (match_YCudTV4rSiZX) - turn 255; Unit u_123 collided when trying to move s to (30, 18)\n",
      "\u001b[33m[WARN]\u001b[39m (match_YCudTV4rSiZX) - turn 256; Unit u_40 collided when trying to move s to (5, 9)\n",
      "\u001b[33m[WARN]\u001b[39m (match_YCudTV4rSiZX) - turn 256; Unit u_126 collided when trying to move e to (5, 8)\n",
      "\u001b[33m[WARN]\u001b[39m (match_YCudTV4rSiZX) - turn 256; Unit u_132 collided when trying to move w to (5, 8)\n",
      "\u001b[33m[WARN]\u001b[39m (match_YCudTV4rSiZX) - turn 256; Unit u_127 collided when trying to move e to (5, 9)\n",
      "\u001b[33m[WARN]\u001b[39m (match_YCudTV4rSiZX) - turn 256; Unit u_110 collided when trying to move s to (24, 11)\n",
      "\u001b[33m[WARN]\u001b[39m (match_YCudTV4rSiZX) - turn 256; Unit u_115 collided when trying to move e to (24, 10)\n",
      "\u001b[33m[WARN]\u001b[39m (match_YCudTV4rSiZX) - turn 256; Unit u_134 collided when trying to move e to (23, 10)\n",
      "\u001b[33m[WARN]\u001b[39m (match_YCudTV4rSiZX) - turn 256; Unit u_120 collided when trying to move s to (30, 19)\n",
      "\u001b[33m[WARN]\u001b[39m (match_YCudTV4rSiZX) - turn 256; Unit u_123 collided when trying to move s to (30, 18)\n",
      "\u001b[33m[WARN]\u001b[39m (match_YCudTV4rSiZX) - turn 257; Unit u_40 collided when trying to move n to (5, 7)\n",
      "\u001b[33m[WARN]\u001b[39m (match_YCudTV4rSiZX) - turn 257; Unit u_126 collided when trying to move e to (5, 8)\n",
      "\u001b[33m[WARN]\u001b[39m (match_YCudTV4rSiZX) - turn 257; Unit u_132 collided when trying to move w to (5, 8)\n",
      "\u001b[33m[WARN]\u001b[39m (match_YCudTV4rSiZX) - turn 257; Unit u_120 collided when trying to move s to (30, 19)\n",
      "\u001b[33m[WARN]\u001b[39m (match_YCudTV4rSiZX) - turn 257; Unit u_123 collided when trying to move s to (30, 18)\n",
      "\u001b[33m[WARN]\u001b[39m (match_YCudTV4rSiZX) - turn 258; Unit u_40 collided when trying to move s to (5, 9)\n",
      "\u001b[33m[WARN]\u001b[39m (match_YCudTV4rSiZX) - turn 258; Unit u_111 collided when trying to move s to (5, 8)\n",
      "\u001b[33m[WARN]\u001b[39m (match_YCudTV4rSiZX) - turn 258; Unit u_132 collided when trying to move w to (5, 8)\n",
      "\u001b[33m[WARN]\u001b[39m (match_YCudTV4rSiZX) - turn 258; Unit u_92 collided when trying to move s to (6, 8)\n",
      "\u001b[33m[WARN]\u001b[39m (match_YCudTV4rSiZX) - turn 258; Unit u_144 collided when trying to move w to (6, 7)\n",
      "\u001b[33m[WARN]\u001b[39m (match_YCudTV4rSiZX) - turn 258; Unit u_120 collided when trying to move s to (30, 19)\n",
      "\u001b[33m[WARN]\u001b[39m (match_YCudTV4rSiZX) - turn 258; Unit u_123 collided when trying to move s to (30, 18)\n",
      "\u001b[33m[WARN]\u001b[39m (match_YCudTV4rSiZX) - turn 259; Unit u_111 collided when trying to move e to (6, 7)\n",
      "\u001b[33m[WARN]\u001b[39m (match_YCudTV4rSiZX) - turn 259; Unit u_132 collided when trying to move n to (6, 7)\n",
      "\u001b[33m[WARN]\u001b[39m (match_YCudTV4rSiZX) - turn 259; Unit u_92 collided when trying to move s to (6, 8)\n",
      "\u001b[33m[WARN]\u001b[39m (match_YCudTV4rSiZX) - turn 259; Unit u_111 collided when trying to move e to (6, 7)\n",
      "\u001b[33m[WARN]\u001b[39m (match_YCudTV4rSiZX) - turn 259; Unit u_132 collided when trying to move n to (6, 7)\n",
      "\u001b[33m[WARN]\u001b[39m (match_YCudTV4rSiZX) - turn 259; Unit u_127 collided when trying to move w to (4, 9)\n",
      "\u001b[33m[WARN]\u001b[39m (match_YCudTV4rSiZX) - turn 259; Unit u_40 collided when trying to move s to (5, 9)\n",
      "\u001b[33m[WARN]\u001b[39m (match_YCudTV4rSiZX) - turn 259; Unit u_126 collided when trying to move e to (5, 8)\n",
      "\u001b[33m[WARN]\u001b[39m (match_YCudTV4rSiZX) - turn 259; Unit u_120 collided when trying to move s to (30, 19)\n",
      "\u001b[33m[WARN]\u001b[39m (match_YCudTV4rSiZX) - turn 259; Unit u_123 collided when trying to move s to (30, 18)\n",
      "\u001b[33m[WARN]\u001b[39m (match_YCudTV4rSiZX) - turn 260; Unit u_111 collided when trying to move e to (6, 7)\n",
      "\u001b[33m[WARN]\u001b[39m (match_YCudTV4rSiZX) - turn 260; Unit u_132 collided when trying to move n to (6, 7)\n",
      "\u001b[33m[WARN]\u001b[39m (match_YCudTV4rSiZX) - turn 260; Unit u_92 collided when trying to move s to (6, 8)\n",
      "\u001b[33m[WARN]\u001b[39m (match_YCudTV4rSiZX) - turn 260; Unit u_111 collided when trying to move e to (6, 7)\n",
      "\u001b[33m[WARN]\u001b[39m (match_YCudTV4rSiZX) - turn 260; Unit u_132 collided when trying to move n to (6, 7)\n",
      "\u001b[33m[WARN]\u001b[39m (match_YCudTV4rSiZX) - turn 260; Unit u_127 collided when trying to move w to (4, 9)\n",
      "\u001b[33m[WARN]\u001b[39m (match_YCudTV4rSiZX) - turn 260; Unit u_40 collided when trying to move s to (5, 9)\n",
      "\u001b[33m[WARN]\u001b[39m (match_YCudTV4rSiZX) - turn 260; Unit u_126 collided when trying to move e to (5, 8)\n",
      "\u001b[33m[WARN]\u001b[39m (match_YCudTV4rSiZX) - turn 260; Unit u_120 collided when trying to move s to (30, 19)\n",
      "\u001b[33m[WARN]\u001b[39m (match_YCudTV4rSiZX) - turn 260; Unit u_123 collided when trying to move s to (30, 18)\n",
      "\u001b[33m[WARN]\u001b[39m (match_YCudTV4rSiZX) - turn 261; Unit u_94 collided when trying to move e to (1, 25)\n",
      "\u001b[33m[WARN]\u001b[39m (match_YCudTV4rSiZX) - turn 261; Unit u_126 collided when trying to move e to (5, 8)\n",
      "\u001b[33m[WARN]\u001b[39m (match_YCudTV4rSiZX) - turn 261; Unit u_132 collided when trying to move w to (5, 8)\n",
      "\u001b[33m[WARN]\u001b[39m (match_YCudTV4rSiZX) - turn 261; Unit u_127 collided when trying to move w to (4, 9)\n",
      "\u001b[33m[WARN]\u001b[39m (match_YCudTV4rSiZX) - turn 261; Unit u_40 collided when trying to move s to (5, 9)\n",
      "\u001b[33m[WARN]\u001b[39m (match_YCudTV4rSiZX) - turn 261; Unit u_120 collided when trying to move s to (30, 19)\n",
      "\u001b[33m[WARN]\u001b[39m (match_YCudTV4rSiZX) - turn 261; Unit u_123 collided when trying to move s to (30, 18)\n",
      "\u001b[33m[WARN]\u001b[39m (match_YCudTV4rSiZX) - turn 261; Unit u_134 collided when trying to move w to (23, 10)\n",
      "\u001b[33m[WARN]\u001b[39m (match_YCudTV4rSiZX) - turn 262; Unit u_40 collided when trying to move s to (5, 9)\n",
      "\u001b[33m[WARN]\u001b[39m (match_YCudTV4rSiZX) - turn 262; Unit u_126 collided when trying to move e to (5, 8)\n",
      "\u001b[33m[WARN]\u001b[39m (match_YCudTV4rSiZX) - turn 262; Unit u_132 collided when trying to move w to (5, 8)\n",
      "\u001b[33m[WARN]\u001b[39m (match_YCudTV4rSiZX) - turn 262; Unit u_105 collided when trying to move e to (5, 9)\n",
      "\u001b[33m[WARN]\u001b[39m (match_YCudTV4rSiZX) - turn 262; Unit u_119 collided when trying to move e to (4, 9)\n",
      "\u001b[33m[WARN]\u001b[39m (match_YCudTV4rSiZX) - turn 262; Unit u_127 collided when trying to move w to (4, 9)\n",
      "\u001b[33m[WARN]\u001b[39m (match_YCudTV4rSiZX) - turn 262; Unit u_40 collided when trying to move s to (5, 9)\n",
      "\u001b[33m[WARN]\u001b[39m (match_YCudTV4rSiZX) - turn 262; Unit u_105 collided when trying to move e to (5, 9)\n",
      "\u001b[33m[WARN]\u001b[39m (match_YCudTV4rSiZX) - turn 262; Unit u_120 collided when trying to move s to (30, 19)\n",
      "\u001b[33m[WARN]\u001b[39m (match_YCudTV4rSiZX) - turn 262; Unit u_123 collided when trying to move s to (30, 18)\n",
      "\u001b[33m[WARN]\u001b[39m (match_YCudTV4rSiZX) - turn 263; Unit u_94 collided when trying to move e to (1, 25)\n",
      "\u001b[33m[WARN]\u001b[39m (match_YCudTV4rSiZX) - turn 263; Unit u_126 collided when trying to move e to (5, 8)\n",
      "\u001b[33m[WARN]\u001b[39m (match_YCudTV4rSiZX) - turn 263; Unit u_132 collided when trying to move w to (5, 8)\n",
      "\u001b[33m[WARN]\u001b[39m (match_YCudTV4rSiZX) - turn 263; Unit u_111 collided when trying to move s to (6, 8)\n",
      "\u001b[33m[WARN]\u001b[39m (match_YCudTV4rSiZX) - turn 263; Unit u_92 collided when trying to move e to (6, 7)\n",
      "\u001b[33m[WARN]\u001b[39m (match_YCudTV4rSiZX) - turn 263; Unit u_127 collided when trying to move w to (4, 9)\n",
      "\u001b[33m[WARN]\u001b[39m (match_YCudTV4rSiZX) - turn 263; Unit u_40 collided when trying to move s to (5, 9)\n",
      "\u001b[33m[WARN]\u001b[39m (match_YCudTV4rSiZX) - turn 263; Unit u_120 collided when trying to move s to (30, 19)\n",
      "\u001b[33m[WARN]\u001b[39m (match_YCudTV4rSiZX) - turn 263; Unit u_123 collided when trying to move s to (30, 18)\n",
      "\u001b[33m[WARN]\u001b[39m (match_YCudTV4rSiZX) - turn 264; Unit u_126 collided when trying to move e to (5, 8)\n",
      "\u001b[33m[WARN]\u001b[39m (match_YCudTV4rSiZX) - turn 264; Unit u_127 collided when trying to move n to (5, 8)\n",
      "\u001b[33m[WARN]\u001b[39m (match_YCudTV4rSiZX) - turn 264; Unit u_40 collided when trying to move s to (5, 9)\n",
      "\u001b[33m[WARN]\u001b[39m (match_YCudTV4rSiZX) - turn 264; Unit u_126 collided when trying to move e to (5, 8)\n",
      "\u001b[33m[WARN]\u001b[39m (match_YCudTV4rSiZX) - turn 264; Unit u_127 collided when trying to move n to (5, 8)\n",
      "\u001b[33m[WARN]\u001b[39m (match_YCudTV4rSiZX) - turn 264; Unit u_132 collided when trying to move w to (5, 8)\n",
      "\u001b[33m[WARN]\u001b[39m (match_YCudTV4rSiZX) - turn 264; Unit u_111 collided when trying to move s to (6, 8)\n",
      "\u001b[33m[WARN]\u001b[39m (match_YCudTV4rSiZX) - turn 264; Unit u_92 collided when trying to move e to (6, 7)\n",
      "\u001b[33m[WARN]\u001b[39m (match_YCudTV4rSiZX) - turn 264; Unit u_132 collided when trying to move w to (5, 8)\n",
      "\u001b[33m[WARN]\u001b[39m (match_YCudTV4rSiZX) - turn 264; Unit u_110 collided when trying to move n to (25, 9)\n",
      "\u001b[33m[WARN]\u001b[39m (match_YCudTV4rSiZX) - turn 264; Unit u_134 collided when trying to move e to (25, 9)\n",
      "\u001b[33m[WARN]\u001b[39m (match_YCudTV4rSiZX) - turn 264; Unit u_120 collided when trying to move s to (30, 19)\n",
      "\u001b[33m[WARN]\u001b[39m (match_YCudTV4rSiZX) - turn 264; Unit u_123 collided when trying to move s to (30, 18)\n",
      "\u001b[33m[WARN]\u001b[39m (match_YCudTV4rSiZX) - turn 265; Unit u_92 collided when trying to move s to (5, 8)\n",
      "\u001b[33m[WARN]\u001b[39m (match_YCudTV4rSiZX) - turn 265; Unit u_111 collided when trying to move w to (5, 7)\n",
      "\u001b[33m[WARN]\u001b[39m (match_YCudTV4rSiZX) - turn 265; Unit u_132 collided when trying to move n to (6, 7)\n",
      "\u001b[33m[WARN]\u001b[39m (match_YCudTV4rSiZX) - turn 265; Unit u_127 collided when trying to move n to (5, 8)\n",
      "\u001b[33m[WARN]\u001b[39m (match_YCudTV4rSiZX) - turn 265; Unit u_40 collided when trying to move s to (5, 9)\n",
      "\u001b[33m[WARN]\u001b[39m (match_YCudTV4rSiZX) - turn 265; Unit u_92 collided when trying to move s to (5, 8)\n",
      "\u001b[33m[WARN]\u001b[39m (match_YCudTV4rSiZX) - turn 265; Unit u_127 collided when trying to move n to (5, 8)\n",
      "\u001b[33m[WARN]\u001b[39m (match_YCudTV4rSiZX) - turn 265; Unit u_120 collided when trying to move s to (30, 19)\n",
      "\u001b[33m[WARN]\u001b[39m (match_YCudTV4rSiZX) - turn 265; Unit u_123 collided when trying to move s to (30, 18)\n",
      "\u001b[33m[WARN]\u001b[39m (match_YCudTV4rSiZX) - turn 266; Unit u_40 collided when trying to move e to (6, 8)\n",
      "\u001b[33m[WARN]\u001b[39m (match_YCudTV4rSiZX) - turn 266; Unit u_126 collided when trying to move e to (5, 8)\n",
      "\u001b[33m[WARN]\u001b[39m (match_YCudTV4rSiZX) - turn 266; Unit u_127 collided when trying to move n to (5, 8)\n",
      "\u001b[33m[WARN]\u001b[39m (match_YCudTV4rSiZX) - turn 266; Unit u_132 collided when trying to move w to (5, 8)\n",
      "\u001b[33m[WARN]\u001b[39m (match_YCudTV4rSiZX) - turn 266; Unit u_40 collided when trying to move e to (6, 8)\n",
      "\u001b[33m[WARN]\u001b[39m (match_YCudTV4rSiZX) - turn 266; Unit u_111 collided when trying to move s to (6, 8)\n",
      "\u001b[33m[WARN]\u001b[39m (match_YCudTV4rSiZX) - turn 266; Unit u_92 collided when trying to move e to (6, 7)\n",
      "\u001b[33m[WARN]\u001b[39m (match_YCudTV4rSiZX) - turn 266; Unit u_111 collided when trying to move s to (6, 8)\n",
      "\u001b[33m[WARN]\u001b[39m (match_YCudTV4rSiZX) - turn 266; Unit u_59 collided when trying to move e to (19, 7)\n",
      "\u001b[33m[WARN]\u001b[39m (match_YCudTV4rSiZX) - turn 266; Unit u_139 collided when trying to move c to (19, 7)\n",
      "\u001b[33m[WARN]\u001b[39m (match_YCudTV4rSiZX) - turn 266; Unit u_59 collided when trying to move e to (19, 7)\n",
      "\u001b[33m[WARN]\u001b[39m (match_YCudTV4rSiZX) - turn 266; Unit u_139 collided when trying to move c to (19, 7)\n",
      "\u001b[33m[WARN]\u001b[39m (match_YCudTV4rSiZX) - turn 266; Unit u_120 collided when trying to move s to (30, 19)\n",
      "\u001b[33m[WARN]\u001b[39m (match_YCudTV4rSiZX) - turn 266; Unit u_123 collided when trying to move s to (30, 18)\n",
      "\u001b[33m[WARN]\u001b[39m (match_YCudTV4rSiZX) - turn 267; Unit u_92 collided when trying to move e to (6, 7)\n",
      "\u001b[33m[WARN]\u001b[39m (match_YCudTV4rSiZX) - turn 267; Unit u_111 collided when trying to move w to (5, 7)\n",
      "\u001b[33m[WARN]\u001b[39m (match_YCudTV4rSiZX) - turn 267; Unit u_92 collided when trying to move e to (6, 7)\n",
      "\u001b[33m[WARN]\u001b[39m (match_YCudTV4rSiZX) - turn 267; Unit u_132 collided when trying to move n to (6, 7)\n",
      "\u001b[33m[WARN]\u001b[39m (match_YCudTV4rSiZX) - turn 267; Unit u_132 collided when trying to move n to (6, 7)\n",
      "\u001b[33m[WARN]\u001b[39m (match_YCudTV4rSiZX) - turn 267; Unit u_126 collided when trying to move e to (5, 8)\n",
      "\u001b[33m[WARN]\u001b[39m (match_YCudTV4rSiZX) - turn 267; Unit u_127 collided when trying to move n to (5, 8)\n",
      "\u001b[33m[WARN]\u001b[39m (match_YCudTV4rSiZX) - turn 267; Unit u_40 collided when trying to move s to (5, 9)\n",
      "\u001b[33m[WARN]\u001b[39m (match_YCudTV4rSiZX) - turn 267; Unit u_126 collided when trying to move e to (5, 8)\n",
      "\u001b[33m[WARN]\u001b[39m (match_YCudTV4rSiZX) - turn 267; Unit u_127 collided when trying to move n to (5, 8)\n",
      "\u001b[33m[WARN]\u001b[39m (match_YCudTV4rSiZX) - turn 267; Unit u_91 collided when trying to move n to (24, 9)\n",
      "\u001b[33m[WARN]\u001b[39m (match_YCudTV4rSiZX) - turn 267; Unit u_120 collided when trying to move s to (30, 19)\n",
      "\u001b[33m[WARN]\u001b[39m (match_YCudTV4rSiZX) - turn 267; Unit u_123 collided when trying to move s to (30, 18)\n",
      "\u001b[33m[WARN]\u001b[39m (match_YCudTV4rSiZX) - turn 268; Unit u_40 collided when trying to move n to (5, 7)\n",
      "\u001b[33m[WARN]\u001b[39m (match_YCudTV4rSiZX) - turn 268; Unit u_92 collided when trying to move s to (5, 8)\n",
      "\u001b[33m[WARN]\u001b[39m (match_YCudTV4rSiZX) - turn 268; Unit u_40 collided when trying to move n to (5, 7)\n",
      "\u001b[33m[WARN]\u001b[39m (match_YCudTV4rSiZX) - turn 268; Unit u_111 collided when trying to move w to (5, 7)\n",
      "\u001b[33m[WARN]\u001b[39m (match_YCudTV4rSiZX) - turn 268; Unit u_144 collided when trying to move w to (6, 7)\n",
      "\u001b[33m[WARN]\u001b[39m (match_YCudTV4rSiZX) - turn 268; Unit u_127 collided when trying to move n to (5, 8)\n",
      "\u001b[33m[WARN]\u001b[39m (match_YCudTV4rSiZX) - turn 268; Unit u_132 collided when trying to move w to (5, 8)\n",
      "\u001b[33m[WARN]\u001b[39m (match_YCudTV4rSiZX) - turn 268; Unit u_111 collided when trying to move w to (5, 7)\n",
      "\u001b[33m[WARN]\u001b[39m (match_YCudTV4rSiZX) - turn 268; Unit u_128 collided when trying to move e to (2, 15)\n",
      "\u001b[33m[WARN]\u001b[39m (match_YCudTV4rSiZX) - turn 268; Unit u_115 collided when trying to move s to (24, 10)\n",
      "\u001b[33m[WARN]\u001b[39m (match_YCudTV4rSiZX) - turn 268; Unit u_122 collided when trying to move e to (24, 9)\n",
      "\u001b[33m[WARN]\u001b[39m (match_YCudTV4rSiZX) - turn 268; Unit u_135 collided when trying to move n to (23, 9)\n",
      "\u001b[33m[WARN]\u001b[39m (match_YCudTV4rSiZX) - turn 268; Unit u_120 collided when trying to move s to (30, 19)\n",
      "\u001b[33m[WARN]\u001b[39m (match_YCudTV4rSiZX) - turn 268; Unit u_123 collided when trying to move s to (30, 18)\n",
      "\u001b[33m[WARN]\u001b[39m (match_YCudTV4rSiZX) - turn 269; Unit u_92 collided when trying to move e to (6, 7)\n",
      "\u001b[33m[WARN]\u001b[39m (match_YCudTV4rSiZX) - turn 269; Unit u_132 collided when trying to move n to (6, 7)\n",
      "\u001b[33m[WARN]\u001b[39m (match_YCudTV4rSiZX) - turn 269; Unit u_111 collided when trying to move s to (6, 8)\n",
      "\u001b[33m[WARN]\u001b[39m (match_YCudTV4rSiZX) - turn 269; Unit u_92 collided when trying to move e to (6, 7)\n",
      "\u001b[33m[WARN]\u001b[39m (match_YCudTV4rSiZX) - turn 269; Unit u_132 collided when trying to move n to (6, 7)\n",
      "\u001b[33m[WARN]\u001b[39m (match_YCudTV4rSiZX) - turn 269; Unit u_126 collided when trying to move e to (5, 8)\n",
      "\u001b[33m[WARN]\u001b[39m (match_YCudTV4rSiZX) - turn 269; Unit u_127 collided when trying to move n to (5, 8)\n",
      "\u001b[33m[WARN]\u001b[39m (match_YCudTV4rSiZX) - turn 269; Unit u_40 collided when trying to move s to (5, 9)\n",
      "\u001b[33m[WARN]\u001b[39m (match_YCudTV4rSiZX) - turn 269; Unit u_126 collided when trying to move e to (5, 8)\n",
      "\u001b[33m[WARN]\u001b[39m (match_YCudTV4rSiZX) - turn 269; Unit u_127 collided when trying to move n to (5, 8)\n",
      "\u001b[33m[WARN]\u001b[39m (match_YCudTV4rSiZX) - turn 269; Unit u_120 collided when trying to move s to (30, 19)\n",
      "\u001b[33m[WARN]\u001b[39m (match_YCudTV4rSiZX) - turn 269; Unit u_123 collided when trying to move s to (30, 18)\n",
      "\u001b[33m[WARN]\u001b[39m (match_YCudTV4rSiZX) - turn 270; Unit u_93 collided when trying to move s to (18, 7)\n",
      "\u001b[33m[WARN]\u001b[39m (match_YCudTV4rSiZX) - turn 270; Unit u_100 collided when trying to move n to (15, 22)\n",
      "\u001b[33m[WARN]\u001b[39m (match_YCudTV4rSiZX) - turn 274; Unit u_97 collided when trying to move s to (12, 7)\n",
      "\u001b[33m[WARN]\u001b[39m (match_YCudTV4rSiZX) - turn 278; Unit u_128 collided when trying to move e to (2, 17)\n",
      "\u001b[33m[WARN]\u001b[39m (match_YCudTV4rSiZX) - turn 278; Unit u_137 collided when trying to move e to (19, 21)\n",
      "\u001b[33m[WARN]\u001b[39m (match_YCudTV4rSiZX) - turn 282; Unit u_111 collided when trying to move s to (6, 8)\n",
      "\u001b[33m[WARN]\u001b[39m (match_YCudTV4rSiZX) - turn 282; Unit u_159 collided when trying to move s to (6, 7)\n",
      "\u001b[33m[WARN]\u001b[39m (match_YCudTV4rSiZX) - turn 284; Unit u_134 collided when trying to move w to (24, 8)\n",
      "\u001b[33m[WARN]\u001b[39m (match_YCudTV4rSiZX) - turn 284; Unit u_135 collided when trying to move n to (23, 8)\n",
      "\u001b[33m[WARN]\u001b[39m (match_YCudTV4rSiZX) - turn 284; Unit u_161 collided when trying to move n to (23, 9)\n",
      "\u001b[33m[WARN]\u001b[39m (match_YCudTV4rSiZX) - turn 284; Unit u_139 collided when trying to move s to (23, 8)\n",
      "\u001b[33m[WARN]\u001b[39m (match_YCudTV4rSiZX) - turn 287; Unit u_59 collided when trying to move w to (17, 12)\n",
      "\u001b[33m[WARN]\u001b[39m (match_YCudTV4rSiZX) - turn 287; Unit u_93 collided when trying to move s to (18, 12)\n",
      "\u001b[33m[WARN]\u001b[39m (match_YCudTV4rSiZX) - turn 290; Unit u_94 collided when trying to move n to (0, 25)\n",
      "\u001b[33m[WARN]\u001b[39m (match_YCudTV4rSiZX) - turn 290; Unit u_91 collided when trying to move n to (27, 9)\n",
      "\u001b[33m[WARN]\u001b[39m (match_YCudTV4rSiZX) - turn 290; Unit u_115 collided when trying to move e to (27, 9)\n",
      "\u001b[33m[WARN]\u001b[39m (match_YCudTV4rSiZX) - turn 290; Unit u_135 collided when trying to move e to (26, 9)\n",
      "\u001b[33m[WARN]\u001b[39m (match_YCudTV4rSiZX) - turn 290; Unit u_134 collided when trying to move e to (25, 7)\n",
      "\u001b[33m[WARN]\u001b[39m (match_YCudTV4rSiZX) - turn 290; Unit u_152 collided when trying to move n to (25, 7)\n",
      "\u001b[33m[WARN]\u001b[39m (match_YCudTV4rSiZX) - turn 290; Unit u_122 collided when trying to move w to (25, 8)\n",
      "\u001b[33m[WARN]\u001b[39m (match_YCudTV4rSiZX) - turn 291; Unit u_122 collided when trying to move w to (25, 8)\n",
      "\u001b[33m[WARN]\u001b[39m (match_YCudTV4rSiZX) - turn 291; Unit u_115 collided when trying to move n to (26, 8)\n",
      "\u001b[33m[WARN]\u001b[39m (match_YCudTV4rSiZX) - turn 291; Unit u_135 collided when trying to move e to (26, 9)\n",
      "\u001b[33m[WARN]\u001b[39m (match_YCudTV4rSiZX) - turn 292; Unit u_115 collided when trying to move e to (27, 9)\n",
      "\u001b[33m[WARN]\u001b[39m (match_YCudTV4rSiZX) - turn 292; Unit u_135 collided when trying to move e to (26, 9)\n",
      "\u001b[33m[WARN]\u001b[39m (match_YCudTV4rSiZX) - turn 293; Unit u_110 collided when trying to move w to (27, 9)\n",
      "\u001b[33m[WARN]\u001b[39m (match_YCudTV4rSiZX) - turn 293; Unit u_115 collided when trying to move e to (27, 9)\n",
      "\u001b[33m[WARN]\u001b[39m (match_YCudTV4rSiZX) - turn 293; Unit u_91 collided when trying to move w to (26, 9)\n",
      "\u001b[33m[WARN]\u001b[39m (match_YCudTV4rSiZX) - turn 293; Unit u_110 collided when trying to move w to (27, 9)\n",
      "\u001b[33m[WARN]\u001b[39m (match_YCudTV4rSiZX) - turn 293; Unit u_115 collided when trying to move e to (27, 9)\n",
      "\u001b[33m[WARN]\u001b[39m (match_YCudTV4rSiZX) - turn 295; Unit u_139 collided when trying to move n to (25, 6)\n",
      "\u001b[33m[WARN]\u001b[39m (match_YCudTV4rSiZX) - turn 296; Unit u_91 collided when trying to move e to (28, 8)\n",
      "\u001b[33m[WARN]\u001b[39m (match_YCudTV4rSiZX) - turn 296; Unit u_110 collided when trying to move w to (26, 9)\n",
      "\u001b[33m[WARN]\u001b[39m (match_YCudTV4rSiZX) - turn 296; Unit u_135 collided when trying to move e to (27, 9)\n",
      "\u001b[33m[WARN]\u001b[39m (match_YCudTV4rSiZX) - turn 296; Unit u_110 collided when trying to move w to (26, 9)\n",
      "\u001b[33m[WARN]\u001b[39m (match_YCudTV4rSiZX) - turn 296; Unit u_115 collided when trying to move s to (26, 9)\n",
      "\u001b[33m[WARN]\u001b[39m (match_YCudTV4rSiZX) - turn 296; Unit u_152 collided when trying to move e to (26, 8)\n",
      "\u001b[33m[WARN]\u001b[39m (match_YCudTV4rSiZX) - turn 296; Unit u_115 collided when trying to move s to (26, 9)\n",
      "\u001b[33m[WARN]\u001b[39m (match_YCudTV4rSiZX) - turn 297; Unit u_110 collided when trying to move w to (26, 9)\n",
      "\u001b[33m[WARN]\u001b[39m (match_YCudTV4rSiZX) - turn 297; Unit u_115 collided when trying to move s to (26, 9)\n",
      "\u001b[33m[WARN]\u001b[39m (match_YCudTV4rSiZX) - turn 297; Unit u_152 collided when trying to move e to (26, 8)\n",
      "\u001b[33m[WARN]\u001b[39m (match_YCudTV4rSiZX) - turn 298; Unit u_110 collided when trying to move n to (27, 8)\n",
      "\u001b[33m[WARN]\u001b[39m (match_YCudTV4rSiZX) - turn 298; Unit u_115 collided when trying to move n to (26, 7)\n",
      "\u001b[33m[WARN]\u001b[39m (match_YCudTV4rSiZX) - turn 298; Unit u_135 collided when trying to move n to (26, 8)\n",
      "\u001b[33m[WARN]\u001b[39m (match_YCudTV4rSiZX) - turn 298; Unit u_161 collided when trying to move e to (26, 7)\n",
      "\u001b[33m[WARN]\u001b[39m (match_YCudTV4rSiZX) - turn 299; Unit u_115 collided when trying to move n to (26, 7)\n",
      "\u001b[33m[WARN]\u001b[39m (match_YCudTV4rSiZX) - turn 299; Unit u_161 collided when trying to move e to (26, 7)\n",
      "\u001b[33m[WARN]\u001b[39m (match_YCudTV4rSiZX) - turn 301; Unit u_122 collided when trying to move w to (27, 8)\n",
      "\u001b[33m[WARN]\u001b[39m (match_YCudTV4rSiZX) - turn 301; Unit u_135 collided when trying to move n to (27, 8)\n",
      "\u001b[33m[WARN]\u001b[39m (match_YCudTV4rSiZX) - turn 301; Unit u_164 collided when trying to move e to (27, 9)\n",
      "\u001b[33m[WARN]\u001b[39m (match_YCudTV4rSiZX) - turn 302; Unit u_122 collided when trying to move w to (27, 8)\n",
      "\u001b[33m[WARN]\u001b[39m (match_YCudTV4rSiZX) - turn 302; Unit u_135 collided when trying to move n to (27, 8)\n",
      "\u001b[33m[WARN]\u001b[39m (match_YCudTV4rSiZX) - turn 302; Unit u_164 collided when trying to move e to (27, 9)\n",
      "\u001b[33m[WARN]\u001b[39m (match_YCudTV4rSiZX) - turn 302; Unit u_134 collided when trying to move s to (26, 7)\n",
      "\u001b[33m[WARN]\u001b[39m (match_YCudTV4rSiZX) - turn 302; Unit u_152 collided when trying to move n to (26, 7)\n",
      "\u001b[33m[WARN]\u001b[39m (match_YCudTV4rSiZX) - turn 302; Unit u_115 collided when trying to move s to (26, 8)\n",
      "\u001b[33m[WARN]\u001b[39m (match_YCudTV4rSiZX) - turn 302; Unit u_134 collided when trying to move s to (26, 7)\n",
      "\u001b[33m[WARN]\u001b[39m (match_YCudTV4rSiZX) - turn 302; Unit u_152 collided when trying to move n to (26, 7)\n",
      "\u001b[33m[WARN]\u001b[39m (match_YCudTV4rSiZX) - turn 303; Unit u_115 collided when trying to move s to (26, 8)\n",
      "\u001b[33m[WARN]\u001b[39m (match_YCudTV4rSiZX) - turn 303; Unit u_134 collided when trying to move s to (26, 7)\n",
      "\u001b[33m[WARN]\u001b[39m (match_YCudTV4rSiZX) - turn 303; Unit u_122 collided when trying to move w to (27, 8)\n",
      "\u001b[33m[WARN]\u001b[39m (match_YCudTV4rSiZX) - turn 303; Unit u_135 collided when trying to move n to (27, 8)\n",
      "\u001b[33m[WARN]\u001b[39m (match_YCudTV4rSiZX) - turn 303; Unit u_164 collided when trying to move e to (27, 9)\n",
      "\u001b[33m[WARN]\u001b[39m (match_YCudTV4rSiZX) - turn 304; Unit u_91 collided when trying to move w to (27, 7)\n",
      "\u001b[33m[WARN]\u001b[39m (match_YCudTV4rSiZX) - turn 304; Unit u_115 collided when trying to move e to (27, 7)\n",
      "\u001b[33m[WARN]\u001b[39m (match_YCudTV4rSiZX) - turn 304; Unit u_134 collided when trying to move s to (26, 7)\n",
      "\u001b[33m[WARN]\u001b[39m (match_YCudTV4rSiZX) - turn 304; Unit u_122 collided when trying to move w to (27, 8)\n",
      "\u001b[33m[WARN]\u001b[39m (match_YCudTV4rSiZX) - turn 304; Unit u_135 collided when trying to move n to (27, 8)\n",
      "\u001b[33m[WARN]\u001b[39m (match_YCudTV4rSiZX) - turn 304; Unit u_164 collided when trying to move e to (27, 9)\n",
      "\u001b[33m[WARN]\u001b[39m (match_YCudTV4rSiZX) - turn 305; Unit u_91 collided when trying to move w to (27, 7)\n",
      "\u001b[33m[WARN]\u001b[39m (match_YCudTV4rSiZX) - turn 305; Unit u_115 collided when trying to move e to (27, 7)\n",
      "\u001b[33m[WARN]\u001b[39m (match_YCudTV4rSiZX) - turn 305; Unit u_134 collided when trying to move s to (26, 7)\n",
      "\u001b[33m[WARN]\u001b[39m (match_YCudTV4rSiZX) - turn 305; Unit u_122 collided when trying to move w to (27, 8)\n",
      "\u001b[33m[WARN]\u001b[39m (match_YCudTV4rSiZX) - turn 305; Unit u_135 collided when trying to move n to (27, 8)\n",
      "\u001b[33m[WARN]\u001b[39m (match_YCudTV4rSiZX) - turn 305; Unit u_164 collided when trying to move e to (27, 9)\n",
      "\u001b[33m[WARN]\u001b[39m (match_YCudTV4rSiZX) - turn 306; Unit u_153 collided when trying to move n to (16, 22)\n",
      "\u001b[33m[WARN]\u001b[39m (match_YCudTV4rSiZX) - turn 306; Unit u_91 collided when trying to move w to (27, 7)\n",
      "\u001b[33m[WARN]\u001b[39m (match_YCudTV4rSiZX) - turn 306; Unit u_115 collided when trying to move e to (27, 7)\n",
      "\u001b[33m[WARN]\u001b[39m (match_YCudTV4rSiZX) - turn 306; Unit u_134 collided when trying to move s to (26, 7)\n",
      "\u001b[33m[WARN]\u001b[39m (match_YCudTV4rSiZX) - turn 306; Unit u_122 collided when trying to move w to (27, 8)\n",
      "\u001b[33m[WARN]\u001b[39m (match_YCudTV4rSiZX) - turn 306; Unit u_135 collided when trying to move n to (27, 8)\n",
      "\u001b[33m[WARN]\u001b[39m (match_YCudTV4rSiZX) - turn 306; Unit u_164 collided when trying to move e to (27, 9)\n",
      "\u001b[33m[WARN]\u001b[39m (match_YCudTV4rSiZX) - turn 307; Unit u_153 collided when trying to move n to (16, 22)\n",
      "\u001b[33m[WARN]\u001b[39m (match_YCudTV4rSiZX) - turn 307; Unit u_91 collided when trying to move w to (27, 7)\n",
      "\u001b[33m[WARN]\u001b[39m (match_YCudTV4rSiZX) - turn 307; Unit u_115 collided when trying to move e to (27, 7)\n",
      "\u001b[33m[WARN]\u001b[39m (match_YCudTV4rSiZX) - turn 307; Unit u_134 collided when trying to move s to (26, 7)\n",
      "\u001b[33m[WARN]\u001b[39m (match_YCudTV4rSiZX) - turn 307; Unit u_120 collided when trying to move s to (30, 16)\n",
      "\u001b[33m[WARN]\u001b[39m (match_YCudTV4rSiZX) - turn 308; Unit u_153 collided when trying to move n to (16, 22)\n",
      "\u001b[33m[WARN]\u001b[39m (match_YCudTV4rSiZX) - turn 308; Unit u_91 collided when trying to move w to (27, 7)\n",
      "\u001b[33m[WARN]\u001b[39m (match_YCudTV4rSiZX) - turn 308; Unit u_115 collided when trying to move e to (27, 7)\n",
      "\u001b[33m[WARN]\u001b[39m (match_YCudTV4rSiZX) - turn 308; Unit u_134 collided when trying to move s to (26, 7)\n",
      "\u001b[33m[WARN]\u001b[39m (match_YCudTV4rSiZX) - turn 309; Unit u_153 collided when trying to move n to (16, 22)\n",
      "\u001b[33m[WARN]\u001b[39m (match_YCudTV4rSiZX) - turn 309; Unit u_91 collided when trying to move w to (27, 7)\n",
      "\u001b[33m[WARN]\u001b[39m (match_YCudTV4rSiZX) - turn 309; Unit u_115 collided when trying to move e to (27, 7)\n",
      "\u001b[33m[WARN]\u001b[39m (match_YCudTV4rSiZX) - turn 309; Unit u_134 collided when trying to move s to (26, 7)\n",
      "\u001b[33m[WARN]\u001b[39m (match_YCudTV4rSiZX) - turn 309; Unit u_122 collided when trying to move n to (27, 7)\n",
      "\u001b[33m[WARN]\u001b[39m (match_YCudTV4rSiZX) - turn 309; Unit u_135 collided when trying to move n to (27, 8)\n",
      "\u001b[33m[WARN]\u001b[39m (match_YCudTV4rSiZX) - turn 310; Unit u_92 collided when trying to move w to (9, 6)\n",
      "\u001b[33m[WARN]\u001b[39m (match_YCudTV4rSiZX) - turn 310; Unit u_153 collided when trying to move n to (16, 22)\n",
      "\u001b[33m[WARN]\u001b[39m (match_YCudTV4rSiZX) - turn 310; Unit u_145 collided when trying to move s to (30, 19)\n",
      "\u001b[33m[WARN]\u001b[39m (match_YCudTV4rSiZX) - turn 310; Unit u_140 collided when trying to move s to (30, 18)\n",
      "\u001b[33m[WARN]\u001b[39m (match_YCudTV4rSiZX) - turn 310; Unit u_138 collided when trying to move s to (30, 17)\n",
      "\u001b[33m[WARN]\u001b[39m (match_YCudTV4rSiZX) - turn 318; Unit u_156 collided when trying to move w to (9, 7)\n",
      "\u001b[33m[WARN]\u001b[39m (match_YCudTV4rSiZX) - turn 325; Unit u_120 collided when trying to move s to (30, 19)\n",
      "\u001b[33m[WARN]\u001b[39m (match_YCudTV4rSiZX) - turn 345; Unit u_40 collided when trying to move w to (9, 6)\n",
      "\u001b[33m[WARN]\u001b[39m (match_YCudTV4rSiZX) - turn 350; Unit u_99 collided when trying to move n to (1, 30)\n",
      "\u001b[33m[WARN]\u001b[39m (match_YCudTV4rSiZX) - turn 350; Unit u_88 collided when trying to move n to (30, 30)\n",
      "\u001b[33m[WARN]\u001b[39m (match_YCudTV4rSiZX) - turn 350; Unit u_138 collided when trying to move s to (30, 17)\n",
      "\u001b[33m[WARN]\u001b[39m (match_YCudTV4rSiZX) - turn 350; Unit u_137 collided when trying to move s to (30, 16)\n",
      "\u001b[33m[WARN]\u001b[39m (match_YCudTV4rSiZX) - turn 350; Unit u_173 collided when trying to move s to (30, 15)\n",
      "\u001b[33m[WARN]\u001b[39m (match_YCudTV4rSiZX) - turn 350; Unit u_139 collided when trying to move e to (22, 6)\n",
      "{\n",
      "  ranks: [\n",
      "    {\n",
      "      rank: 1,\n",
      "      agentID: 0,\n",
      "      name: '../submissions/simple/main_647143162683380568.py'\n",
      "    },\n",
      "    { rank: 2, agentID: 1, name: '../submissions/simple/main.py' }\n",
      "  ],\n",
      "  replayFile: 'replays/900923954.json',\n",
      "  seed: 42\n",
      "}\n",
      "\n"
     ]
    }
   ],
   "source": [
    "loggin_bot = build_runnable_bot_with_flags({\"log_features_path\": \"../../research/features_v4/\"})\n",
    "r = run_game(loggin_bot, simple_bot)\n",
    "# p = find_feature_log_path(r[1])"
   ]
  },
  {
   "cell_type": "code",
   "execution_count": 351,
   "metadata": {},
   "outputs": [
    {
     "name": "stderr",
     "output_type": "stream",
     "text": [
      "100%|██████████| 500/500 [30:26<00:00,  3.65s/it]\n"
     ]
    },
    {
     "name": "stdout",
     "output_type": "stream",
     "text": [
      "CPU times: user 5.37 s, sys: 1.33 s, total: 6.7 s\n",
      "Wall time: 30min 42s\n"
     ]
    },
    {
     "data": {
      "text/plain": [
       "((0.534, 1.520526224699857, 0.12837877285143115),\n",
       " {'ranks': [{'rank': 1, 'agentID': 0}, {'rank': 2, 'agentID': 1}],\n",
       "  'replayFile': 'replays/301854068.json'})"
      ]
     },
     "execution_count": 351,
     "metadata": {},
     "output_type": "execute_result"
    }
   ],
   "source": [
    "%%time\n",
    "compare_flags({\"log_features_path\": \"../../research/features/\"}, {}, n_games=500)"
   ]
  },
  {
   "cell_type": "code",
   "execution_count": 57,
   "metadata": {},
   "outputs": [
    {
     "name": "stderr",
     "output_type": "stream",
     "text": [
      "100%|██████████| 500/500 [47:31<00:00,  5.70s/it]  \n"
     ]
    },
    {
     "name": "stdout",
     "output_type": "stream",
     "text": [
      "CPU times: user 3.82 s, sys: 3.46 s, total: 7.29 s\n",
      "Wall time: 48min 6s\n"
     ]
    },
    {
     "data": {
      "text/plain": [
       "((0.489, -0.4919349550499537, 0.6227653265162957),\n",
       " {'ranks': [{'rank': 1, 'agentID': 0}, {'rank': 1, 'agentID': 1}],\n",
       "  'replayFile': 'replays/529101239.json'})"
      ]
     },
     "execution_count": 57,
     "metadata": {},
     "output_type": "execute_result"
    }
   ],
   "source": [
    "%%time\n",
    "compare_flags({\"log_features_path\": \"../../research/features_v4/\", \"use_old_units_cargo_rules\": False}, {}, n_games=500)"
   ]
  },
  {
   "cell_type": "code",
   "execution_count": 1,
   "metadata": {},
   "outputs": [
    {
     "data": {
      "text/plain": [
       "<module 'utils.dataset' from '/Users/sergmiller/Documents/my/lux-ai-v1/research/utils/dataset.py'>"
      ]
     },
     "execution_count": 1,
     "metadata": {},
     "output_type": "execute_result"
    }
   ],
   "source": [
    "from importlib import reload\n",
    "from utils import dataset\n",
    "\n",
    "reload(dataset)"
   ]
  },
  {
   "cell_type": "code",
   "execution_count": null,
   "metadata": {},
   "outputs": [
    {
     "name": "stderr",
     "output_type": "stream",
     "text": [
      "/Library/Frameworks/Python.framework/Versions/3.7/lib/python3.7/site-packages/ipykernel_launcher.py:1: DtypeWarning: Columns (26,27,28) have mixed types.Specify dtype option on import or set low_memory=False.\n",
      "  \"\"\"Entry point for launching an IPython kernel.\n",
      "/Library/Frameworks/Python.framework/Versions/3.7/lib/python3.7/site-packages/ipykernel_launcher.py:1: DtypeWarning: Columns (9,10,11,12,13,14) have mixed types.Specify dtype option on import or set low_memory=False.\n",
      "  \"\"\"Entry point for launching an IPython kernel.\n",
      "/Library/Frameworks/Python.framework/Versions/3.7/lib/python3.7/site-packages/ipykernel_launcher.py:1: DtypeWarning: Columns (17,18,19,20,21,22) have mixed types.Specify dtype option on import or set low_memory=False.\n",
      "  \"\"\"Entry point for launching an IPython kernel.\n"
     ]
    }
   ],
   "source": [
    "datasets = dataset.read_datasets_from_dir(\"features_v4/\")"
   ]
  },
  {
   "cell_type": "code",
   "execution_count": 3,
   "metadata": {},
   "outputs": [],
   "source": [
    "files = dataset.read_files_in_dir(\"features_v4/\")"
   ]
  },
  {
   "cell_type": "code",
   "execution_count": 4,
   "metadata": {},
   "outputs": [
    {
     "data": {
      "text/plain": [
       "209"
      ]
     },
     "execution_count": 4,
     "metadata": {},
     "output_type": "execute_result"
    }
   ],
   "source": [
    "len(files)"
   ]
  },
  {
   "cell_type": "code",
   "execution_count": 5,
   "metadata": {
    "scrolled": true
   },
   "outputs": [
    {
     "name": "stdout",
     "output_type": "stream",
     "text": [
      "0\n",
      "1\n",
      "2\n"
     ]
    },
    {
     "name": "stderr",
     "output_type": "stream",
     "text": [
      "/Library/Frameworks/Python.framework/Versions/3.7/lib/python3.7/site-packages/IPython/core/interactiveshell.py:3338: DtypeWarning: Columns (26,27,28) have mixed types.Specify dtype option on import or set low_memory=False.\n",
      "  if (await self.run_code(code, result,  async_=asy)):\n"
     ]
    },
    {
     "name": "stdout",
     "output_type": "stream",
     "text": [
      "3\n",
      "4\n",
      "5\n",
      "6\n",
      "7\n",
      "8\n",
      "9\n",
      "10\n"
     ]
    },
    {
     "name": "stderr",
     "output_type": "stream",
     "text": [
      "/Library/Frameworks/Python.framework/Versions/3.7/lib/python3.7/site-packages/IPython/core/interactiveshell.py:3338: DtypeWarning: Columns (9,10,11,12,13,14) have mixed types.Specify dtype option on import or set low_memory=False.\n",
      "  if (await self.run_code(code, result,  async_=asy)):\n"
     ]
    },
    {
     "name": "stdout",
     "output_type": "stream",
     "text": [
      "11\n",
      "12\n",
      "13\n",
      "14\n"
     ]
    },
    {
     "name": "stderr",
     "output_type": "stream",
     "text": [
      "/Library/Frameworks/Python.framework/Versions/3.7/lib/python3.7/site-packages/IPython/core/interactiveshell.py:3338: DtypeWarning: Columns (17,18,19,20,21,22) have mixed types.Specify dtype option on import or set low_memory=False.\n",
      "  if (await self.run_code(code, result,  async_=asy)):\n"
     ]
    },
    {
     "name": "stdout",
     "output_type": "stream",
     "text": [
      "15\n",
      "16\n",
      "17\n",
      "18\n",
      "19\n",
      "20\n",
      "21\n",
      "22\n",
      "23\n",
      "24\n",
      "25\n",
      "26\n",
      "27\n",
      "28\n",
      "29\n",
      "30\n",
      "31\n",
      "32\n",
      "33\n",
      "34\n",
      "35\n",
      "36\n",
      "37\n",
      "38\n",
      "39\n",
      "40\n",
      "41\n",
      "42\n",
      "43\n",
      "44\n",
      "45\n",
      "46\n",
      "47\n",
      "48\n",
      "49\n"
     ]
    }
   ],
   "source": [
    "datasets = []\n",
    "for i,f in enumerate(files[:50]):\n",
    "    print(i)\n",
    "    datasets.append(dataset.get_dataset_from_file(f))"
   ]
  },
  {
   "cell_type": "code",
   "execution_count": 53,
   "metadata": {
    "scrolled": true
   },
   "outputs": [],
   "source": [
    "cols = dataset.read_columns_from_random_file(\"features_v4/\")"
   ]
  },
  {
   "cell_type": "code",
   "execution_count": 54,
   "metadata": {},
   "outputs": [
    {
     "data": {
      "text/plain": [
       "[(7203, 'map_i_7161'),\n",
       " (7204, 'map_i_7162'),\n",
       " (7205, 'map_i_7163'),\n",
       " (7206, 'map_i_7164'),\n",
       " (7207, 'map_i_7165'),\n",
       " (7208, 'map_i_7166'),\n",
       " (7209, 'map_i_7167'),\n",
       " (7210, 'action'),\n",
       " (7211, 'my_tiles'),\n",
       " (7212, 'opp_tiles')]"
      ]
     },
     "execution_count": 54,
     "metadata": {},
     "output_type": "execute_result"
    }
   ],
   "source": [
    "cols[-10:]"
   ]
  },
  {
   "cell_type": "code",
   "execution_count": 45,
   "metadata": {},
   "outputs": [
    {
     "data": {
      "text/plain": [
       "1"
      ]
     },
     "execution_count": 45,
     "metadata": {},
     "output_type": "execute_result"
    }
   ],
   "source": [
    "len(datasets)"
   ]
  },
  {
   "cell_type": "code",
   "execution_count": 14,
   "metadata": {},
   "outputs": [
    {
     "data": {
      "text/plain": [
       "[2, 3, 4, 6, 11, 16, 17, 22, 28, 29, 30, 31]"
      ]
     },
     "execution_count": 14,
     "metadata": {},
     "output_type": "execute_result"
    }
   ],
   "source": [
    "dataset.CAT_FEATURES"
   ]
  },
  {
   "cell_type": "code",
   "execution_count": 15,
   "metadata": {},
   "outputs": [
    {
     "data": {
      "text/plain": [
       "985"
      ]
     },
     "execution_count": 15,
     "metadata": {},
     "output_type": "execute_result"
    }
   ],
   "source": [
    "len(datasets)"
   ]
  },
  {
   "cell_type": "code",
   "execution_count": 6,
   "metadata": {},
   "outputs": [],
   "source": [
    "trainD = dataset.concat_datasets(datasets[:-5])\n",
    "valD = dataset.concat_datasets(datasets[-5:])"
   ]
  },
  {
   "cell_type": "code",
   "execution_count": 7,
   "metadata": {},
   "outputs": [
    {
     "data": {
      "text/plain": [
       "(133032, 7210)"
      ]
     },
     "execution_count": 7,
     "metadata": {},
     "output_type": "execute_result"
    }
   ],
   "source": [
    "trainD.features.shape"
   ]
  },
  {
   "cell_type": "code",
   "execution_count": 12,
   "metadata": {},
   "outputs": [],
   "source": [
    "np.save(\"datasets/trainD.npy\", trainD)"
   ]
  },
  {
   "cell_type": "code",
   "execution_count": 11,
   "metadata": {},
   "outputs": [],
   "source": [
    "np.save(\"datasets/valD.npy\", valD)"
   ]
  },
  {
   "cell_type": "code",
   "execution_count": 8,
   "metadata": {},
   "outputs": [],
   "source": [
    "import catboost"
   ]
  },
  {
   "cell_type": "code",
   "execution_count": 13,
   "metadata": {},
   "outputs": [
    {
     "data": {
      "text/plain": [
       "(array([99386., 16947.,  6495.,  3984.,  2819.,  1299.,   832.,   673.,\n",
       "          387.,   210.]),\n",
       " array([ 0.94223553,  3.91107348,  6.87991143,  9.84874938, 12.81758733,\n",
       "        15.78642528, 18.75526323, 21.72410118, 24.69293913, 27.66177708,\n",
       "        30.63061503]),\n",
       " <BarContainer object of 10 artists>)"
      ]
     },
     "execution_count": 13,
     "metadata": {},
     "output_type": "execute_result"
    },
    {
     "data": {
      "image/png": "[encoded data removed]",
      "text/plain": [
       "<Figure size 432x288 with 1 Axes>"
      ]
     },
     "metadata": {
      "needs_background": "light"
     },
     "output_type": "display_data"
    }
   ],
   "source": [
    "plt.hist(np.exp(np.array(trainD.weights / 20, dtype=float)))"
   ]
  },
  {
   "cell_type": "code",
   "execution_count": 18,
   "metadata": {},
   "outputs": [],
   "source": [
    "import catboost"
   ]
  },
  {
   "cell_type": "code",
   "execution_count": 15,
   "metadata": {},
   "outputs": [],
   "source": [
    "train_pool = catboost.Pool(trainD.features, trainD.targets, cat_features=dataset.CAT_FEATURES_V4)\n",
    "val_pool = catboost.Pool(valD.features, valD.targets, cat_features=dataset.CAT_FEATURES_V4)"
   ]
  },
  {
   "cell_type": "code",
   "execution_count": 16,
   "metadata": {},
   "outputs": [
    {
     "data": {
      "text/plain": [
       "Counter({4: 1229, 0: 204, 5: 1184, 1: 8389, 3: 1314, 2: 1212})"
      ]
     },
     "execution_count": 16,
     "metadata": {},
     "output_type": "execute_result"
    }
   ],
   "source": [
    "from collections import Counter\n",
    "Counter(val_pool.get_label())"
   ]
  },
  {
   "cell_type": "code",
   "execution_count": 17,
   "metadata": {},
   "outputs": [
    {
     "data": {
      "text/plain": [
       "((133032, 7210), (13532, 7210))"
      ]
     },
     "execution_count": 17,
     "metadata": {},
     "output_type": "execute_result"
    }
   ],
   "source": [
    "train_pool.shape, val_pool.shape"
   ]
  },
  {
   "cell_type": "code",
   "execution_count": 50,
   "metadata": {},
   "outputs": [],
   "source": [
    "model = catboost.CatBoostClassifier(n_estimators=10000)"
   ]
  },
  {
   "cell_type": "code",
   "execution_count": null,
   "metadata": {
    "scrolled": true
   },
   "outputs": [
    {
     "name": "stdout",
     "output_type": "stream",
     "text": [
      "Learning rate set to 0.049409\n",
      "0:\tlearn: 1.6443997\ttest: 1.6644641\tbest: 1.6644641 (0)\ttotal: 5.25s\tremaining: 14h 35m 5s\n",
      "1:\tlearn: 1.5233408\ttest: 1.5561686\tbest: 1.5561686 (1)\ttotal: 8.69s\tremaining: 12h 4m 1s\n",
      "2:\tlearn: 1.4223686\ttest: 1.4637431\tbest: 1.4637431 (2)\ttotal: 13.3s\tremaining: 12h 17m 35s\n",
      "3:\tlearn: 1.3406777\ttest: 1.3911112\tbest: 1.3911112 (3)\ttotal: 18.2s\tremaining: 12h 38m 29s\n",
      "4:\tlearn: 1.2690960\ttest: 1.3246399\tbest: 1.3246399 (4)\ttotal: 22.9s\tremaining: 12h 42m 15s\n",
      "5:\tlearn: 1.2084502\ttest: 1.2702006\tbest: 1.2702006 (5)\ttotal: 27s\tremaining: 12h 28m 17s\n",
      "6:\tlearn: 1.1544328\ttest: 1.2206764\tbest: 1.2206764 (6)\ttotal: 30.9s\tremaining: 12h 15m 54s\n",
      "7:\tlearn: 1.1050319\ttest: 1.1745043\tbest: 1.1745043 (7)\ttotal: 35.9s\tremaining: 12h 28m 13s\n",
      "8:\tlearn: 1.0627533\ttest: 1.1357289\tbest: 1.1357289 (8)\ttotal: 41.4s\tremaining: 12h 46m 9s\n",
      "9:\tlearn: 1.0246271\ttest: 1.1008629\tbest: 1.1008629 (9)\ttotal: 45.6s\tremaining: 12h 39m 36s\n",
      "10:\tlearn: 0.9894043\ttest: 1.0682665\tbest: 1.0682665 (10)\ttotal: 49.1s\tremaining: 12h 23m 49s\n",
      "11:\tlearn: 0.9578453\ttest: 1.0400908\tbest: 1.0400908 (11)\ttotal: 54s\tremaining: 12h 29m 44s\n",
      "12:\tlearn: 0.9290916\ttest: 1.0133963\tbest: 1.0133963 (12)\ttotal: 57.2s\tremaining: 12h 12m 34s\n",
      "13:\tlearn: 0.9034759\ttest: 0.9901922\tbest: 0.9901922 (13)\ttotal: 1m 1s\tremaining: 12h 7m 25s\n",
      "14:\tlearn: 0.8807175\ttest: 0.9702265\tbest: 0.9702265 (14)\ttotal: 1m 4s\tremaining: 11h 53m 36s\n",
      "15:\tlearn: 0.8586534\ttest: 0.9499698\tbest: 0.9499698 (15)\ttotal: 1m 7s\tremaining: 11h 42m 41s\n",
      "16:\tlearn: 0.8382307\ttest: 0.9313483\tbest: 0.9313483 (16)\ttotal: 1m 11s\tremaining: 11h 37m 21s\n",
      "17:\tlearn: 0.8191383\ttest: 0.9137485\tbest: 0.9137485 (17)\ttotal: 1m 14s\tremaining: 11h 25m 3s\n",
      "18:\tlearn: 0.8020838\ttest: 0.8982562\tbest: 0.8982562 (18)\ttotal: 1m 17s\tremaining: 11h 19m 16s\n",
      "19:\tlearn: 0.7861889\ttest: 0.8842236\tbest: 0.8842236 (19)\ttotal: 1m 20s\tremaining: 11h 10m 41s\n",
      "20:\tlearn: 0.7708463\ttest: 0.8700952\tbest: 0.8700952 (20)\ttotal: 1m 23s\tremaining: 11h 55s\n",
      "21:\tlearn: 0.7566152\ttest: 0.8568963\tbest: 0.8568963 (21)\ttotal: 1m 26s\tremaining: 10h 55m 46s\n",
      "22:\tlearn: 0.7432129\ttest: 0.8447121\tbest: 0.8447121 (22)\ttotal: 1m 30s\tremaining: 10h 56m 15s\n",
      "23:\tlearn: 0.7302660\ttest: 0.8329539\tbest: 0.8329539 (23)\ttotal: 1m 33s\tremaining: 10h 50m 29s\n",
      "24:\tlearn: 0.7183249\ttest: 0.8221230\tbest: 0.8221230 (24)\ttotal: 1m 36s\tremaining: 10h 42m 31s\n",
      "25:\tlearn: 0.7069866\ttest: 0.8119912\tbest: 0.8119912 (25)\ttotal: 1m 39s\tremaining: 10h 36m 40s\n",
      "26:\tlearn: 0.6965309\ttest: 0.8026710\tbest: 0.8026710 (26)\ttotal: 1m 42s\tremaining: 10h 29m 31s\n",
      "27:\tlearn: 0.6846716\ttest: 0.7908076\tbest: 0.7908076 (27)\ttotal: 1m 45s\tremaining: 10h 24m 50s\n",
      "28:\tlearn: 0.6674767\ttest: 0.7714298\tbest: 0.7714298 (28)\ttotal: 1m 49s\tremaining: 10h 28m 25s\n",
      "29:\tlearn: 0.6512079\ttest: 0.7526701\tbest: 0.7526701 (29)\ttotal: 1m 53s\tremaining: 10h 30m 1s\n",
      "30:\tlearn: 0.6365177\ttest: 0.7361711\tbest: 0.7361711 (30)\ttotal: 1m 57s\tremaining: 10h 31m 18s\n",
      "31:\tlearn: 0.6221617\ttest: 0.7201566\tbest: 0.7201566 (31)\ttotal: 2m 1s\tremaining: 10h 33m 12s\n",
      "32:\tlearn: 0.6093911\ttest: 0.7059017\tbest: 0.7059017 (32)\ttotal: 2m 6s\tremaining: 10h 36m 23s\n",
      "33:\tlearn: 0.5972060\ttest: 0.6919683\tbest: 0.6919683 (33)\ttotal: 2m 10s\tremaining: 10h 38m 28s\n",
      "34:\tlearn: 0.5861285\ttest: 0.6792469\tbest: 0.6792469 (34)\ttotal: 2m 14s\tremaining: 10h 38m 39s\n",
      "35:\tlearn: 0.5752974\ttest: 0.6669796\tbest: 0.6669796 (35)\ttotal: 2m 18s\tremaining: 10h 40m 13s\n",
      "36:\tlearn: 0.5659455\ttest: 0.6567319\tbest: 0.6567319 (36)\ttotal: 2m 22s\tremaining: 10h 41m 29s\n",
      "37:\tlearn: 0.5563882\ttest: 0.6461519\tbest: 0.6461519 (37)\ttotal: 2m 27s\tremaining: 10h 44m\n",
      "38:\tlearn: 0.5480903\ttest: 0.6373642\tbest: 0.6373642 (38)\ttotal: 2m 31s\tremaining: 10h 45m 50s\n",
      "39:\tlearn: 0.5393819\ttest: 0.6280736\tbest: 0.6280736 (39)\ttotal: 2m 36s\tremaining: 10h 50m 30s\n",
      "40:\tlearn: 0.5314998\ttest: 0.6191687\tbest: 0.6191687 (40)\ttotal: 2m 41s\tremaining: 10h 54m 18s\n",
      "41:\tlearn: 0.5238597\ttest: 0.6108131\tbest: 0.6108131 (41)\ttotal: 2m 46s\tremaining: 10h 56m 16s\n",
      "42:\tlearn: 0.5171795\ttest: 0.6040518\tbest: 0.6040518 (42)\ttotal: 2m 50s\tremaining: 10h 56m 16s\n",
      "43:\tlearn: 0.5105651\ttest: 0.5974020\tbest: 0.5974020 (43)\ttotal: 2m 53s\tremaining: 10h 53m 57s\n",
      "44:\tlearn: 0.5047085\ttest: 0.5913994\tbest: 0.5913994 (44)\ttotal: 2m 56s\tremaining: 10h 51m 23s\n",
      "45:\tlearn: 0.4990429\ttest: 0.5856220\tbest: 0.5856220 (45)\ttotal: 3m\tremaining: 10h 51m 3s\n",
      "46:\tlearn: 0.4938799\ttest: 0.5802937\tbest: 0.5802937 (46)\ttotal: 3m 4s\tremaining: 10h 49m 27s\n",
      "47:\tlearn: 0.4889242\ttest: 0.5752922\tbest: 0.5752922 (47)\ttotal: 3m 8s\tremaining: 10h 49m 47s\n",
      "48:\tlearn: 0.4845956\ttest: 0.5710407\tbest: 0.5710407 (48)\ttotal: 3m 11s\tremaining: 10h 46m 37s\n",
      "49:\tlearn: 0.4784702\ttest: 0.5640604\tbest: 0.5640604 (49)\ttotal: 3m 15s\tremaining: 10h 46m 47s\n",
      "50:\tlearn: 0.4742988\ttest: 0.5600499\tbest: 0.5600499 (50)\ttotal: 3m 18s\tremaining: 10h 46m 15s\n",
      "51:\tlearn: 0.4684874\ttest: 0.5531729\tbest: 0.5531729 (51)\ttotal: 3m 22s\tremaining: 10h 45m 41s\n",
      "52:\tlearn: 0.4632356\ttest: 0.5472156\tbest: 0.5472156 (52)\ttotal: 3m 26s\tremaining: 10h 45m 20s\n",
      "53:\tlearn: 0.4591121\ttest: 0.5428484\tbest: 0.5428484 (53)\ttotal: 3m 30s\tremaining: 10h 44m 57s\n",
      "54:\tlearn: 0.4558949\ttest: 0.5395790\tbest: 0.5395790 (54)\ttotal: 3m 33s\tremaining: 10h 42m 48s\n",
      "55:\tlearn: 0.4517343\ttest: 0.5352849\tbest: 0.5352849 (55)\ttotal: 3m 36s\tremaining: 10h 39m 58s\n",
      "56:\tlearn: 0.4478003\ttest: 0.5317033\tbest: 0.5317033 (56)\ttotal: 3m 39s\tremaining: 10h 38m 13s\n",
      "57:\tlearn: 0.4440023\ttest: 0.5276036\tbest: 0.5276036 (57)\ttotal: 3m 43s\tremaining: 10h 37m 55s\n",
      "58:\tlearn: 0.4409597\ttest: 0.5246373\tbest: 0.5246373 (58)\ttotal: 3m 45s\tremaining: 10h 33m 34s\n",
      "59:\tlearn: 0.4372761\ttest: 0.5202989\tbest: 0.5202989 (59)\ttotal: 3m 49s\tremaining: 10h 33m 12s\n",
      "60:\tlearn: 0.4334600\ttest: 0.5157880\tbest: 0.5157880 (60)\ttotal: 3m 53s\tremaining: 10h 34m 13s\n",
      "61:\tlearn: 0.4303393\ttest: 0.5130274\tbest: 0.5130274 (61)\ttotal: 3m 56s\tremaining: 10h 32m 54s\n",
      "62:\tlearn: 0.4273393\ttest: 0.5097648\tbest: 0.5097648 (62)\ttotal: 4m\tremaining: 10h 33m 4s\n",
      "63:\tlearn: 0.4246784\ttest: 0.5069381\tbest: 0.5069381 (63)\ttotal: 4m 4s\tremaining: 10h 32m 43s\n",
      "64:\tlearn: 0.4218347\ttest: 0.5042714\tbest: 0.5042714 (64)\ttotal: 4m 7s\tremaining: 10h 31m 22s\n",
      "65:\tlearn: 0.4194607\ttest: 0.5019519\tbest: 0.5019519 (65)\ttotal: 4m 10s\tremaining: 10h 27m 50s\n",
      "66:\tlearn: 0.4164686\ttest: 0.4984276\tbest: 0.4984276 (66)\ttotal: 4m 14s\tremaining: 10h 28m 17s\n",
      "67:\tlearn: 0.4144499\ttest: 0.4968106\tbest: 0.4968106 (67)\ttotal: 4m 16s\tremaining: 10h 25m 1s\n",
      "68:\tlearn: 0.4118078\ttest: 0.4937497\tbest: 0.4937497 (68)\ttotal: 4m 20s\tremaining: 10h 25m 20s\n",
      "69:\tlearn: 0.4086353\ttest: 0.4900789\tbest: 0.4900789 (69)\ttotal: 4m 24s\tremaining: 10h 25m 22s\n",
      "70:\tlearn: 0.4065559\ttest: 0.4878854\tbest: 0.4878854 (70)\ttotal: 4m 28s\tremaining: 10h 25m 9s\n",
      "71:\tlearn: 0.4046674\ttest: 0.4860884\tbest: 0.4860884 (71)\ttotal: 4m 31s\tremaining: 10h 23m 2s\n",
      "72:\tlearn: 0.4029469\ttest: 0.4843482\tbest: 0.4843482 (72)\ttotal: 4m 33s\tremaining: 10h 20m 18s\n",
      "73:\tlearn: 0.4015873\ttest: 0.4830905\tbest: 0.4830905 (73)\ttotal: 4m 37s\tremaining: 10h 19m 19s\n",
      "74:\tlearn: 0.3992865\ttest: 0.4804977\tbest: 0.4804977 (74)\ttotal: 4m 40s\tremaining: 10h 19m\n",
      "75:\tlearn: 0.3968298\ttest: 0.4775080\tbest: 0.4775080 (75)\ttotal: 4m 45s\tremaining: 10h 20m 19s\n",
      "76:\tlearn: 0.3954304\ttest: 0.4761958\tbest: 0.4761958 (76)\ttotal: 4m 48s\tremaining: 10h 19m 54s\n",
      "77:\tlearn: 0.3933238\ttest: 0.4735688\tbest: 0.4735688 (77)\ttotal: 4m 52s\tremaining: 10h 20m 24s\n",
      "78:\tlearn: 0.3919029\ttest: 0.4721435\tbest: 0.4721435 (78)\ttotal: 4m 55s\tremaining: 10h 17m 36s\n",
      "79:\tlearn: 0.3906538\ttest: 0.4709875\tbest: 0.4709875 (79)\ttotal: 4m 57s\tremaining: 10h 15m 7s\n",
      "80:\tlearn: 0.3886352\ttest: 0.4687643\tbest: 0.4687643 (80)\ttotal: 5m 1s\tremaining: 10h 15m 46s\n",
      "81:\tlearn: 0.3871180\ttest: 0.4669112\tbest: 0.4669112 (81)\ttotal: 5m 5s\tremaining: 10h 16m 38s\n",
      "82:\tlearn: 0.3862573\ttest: 0.4662349\tbest: 0.4662349 (82)\ttotal: 5m 8s\tremaining: 10h 15m 18s\n",
      "83:\tlearn: 0.3844466\ttest: 0.4640066\tbest: 0.4640066 (83)\ttotal: 5m 12s\tremaining: 10h 14m 39s\n",
      "84:\tlearn: 0.3834142\ttest: 0.4628483\tbest: 0.4628483 (84)\ttotal: 5m 15s\tremaining: 10h 13m 35s\n",
      "85:\tlearn: 0.3816351\ttest: 0.4607638\tbest: 0.4607638 (85)\ttotal: 5m 19s\tremaining: 10h 14m 42s\n",
      "86:\tlearn: 0.3799645\ttest: 0.4587491\tbest: 0.4587491 (86)\ttotal: 5m 23s\tremaining: 10h 15m 1s\n",
      "87:\tlearn: 0.3787463\ttest: 0.4572410\tbest: 0.4572410 (87)\ttotal: 5m 27s\tremaining: 10h 14m 29s\n",
      "88:\tlearn: 0.3775246\ttest: 0.4559759\tbest: 0.4559759 (88)\ttotal: 5m 31s\tremaining: 10h 14m 26s\n",
      "89:\tlearn: 0.3765249\ttest: 0.4547444\tbest: 0.4547444 (89)\ttotal: 5m 34s\tremaining: 10h 14m 31s\n",
      "90:\tlearn: 0.3753563\ttest: 0.4535570\tbest: 0.4535570 (90)\ttotal: 5m 38s\tremaining: 10h 14m 28s\n",
      "91:\tlearn: 0.3735886\ttest: 0.4512251\tbest: 0.4512251 (91)\ttotal: 5m 43s\tremaining: 10h 15m 54s\n",
      "92:\tlearn: 0.3724980\ttest: 0.4500891\tbest: 0.4500891 (92)\ttotal: 5m 46s\tremaining: 10h 14m 59s\n",
      "93:\tlearn: 0.3710155\ttest: 0.4481699\tbest: 0.4481699 (93)\ttotal: 5m 50s\tremaining: 10h 15m 42s\n",
      "94:\tlearn: 0.3698211\ttest: 0.4468104\tbest: 0.4468104 (94)\ttotal: 5m 54s\tremaining: 10h 16m 22s\n",
      "95:\tlearn: 0.3689185\ttest: 0.4458618\tbest: 0.4458618 (95)\ttotal: 5m 58s\tremaining: 10h 16m 9s\n",
      "96:\tlearn: 0.3680111\ttest: 0.4449755\tbest: 0.4449755 (96)\ttotal: 6m\tremaining: 10h 14m 14s\n",
      "97:\tlearn: 0.3671064\ttest: 0.4440009\tbest: 0.4440009 (97)\ttotal: 6m 4s\tremaining: 10h 14m 30s\n",
      "98:\tlearn: 0.3662786\ttest: 0.4432021\tbest: 0.4432021 (98)\ttotal: 6m 7s\tremaining: 10h 13m 22s\n",
      "99:\tlearn: 0.3658519\ttest: 0.4430702\tbest: 0.4430702 (99)\ttotal: 6m 10s\tremaining: 10h 11m 40s\n",
      "100:\tlearn: 0.3648640\ttest: 0.4418335\tbest: 0.4418335 (100)\ttotal: 6m 14s\tremaining: 10h 12m 7s\n",
      "101:\tlearn: 0.3640655\ttest: 0.4410617\tbest: 0.4410617 (101)\ttotal: 6m 17s\tremaining: 10h 9m 49s\n",
      "102:\tlearn: 0.3631640\ttest: 0.4401009\tbest: 0.4401009 (102)\ttotal: 6m 20s\tremaining: 10h 10m 4s\n",
      "103:\tlearn: 0.3623102\ttest: 0.4391047\tbest: 0.4391047 (103)\ttotal: 6m 24s\tremaining: 10h 10m 32s\n",
      "104:\tlearn: 0.3617660\ttest: 0.4386553\tbest: 0.4386553 (104)\ttotal: 6m 27s\tremaining: 10h 8m 34s\n",
      "105:\tlearn: 0.3611692\ttest: 0.4380004\tbest: 0.4380004 (105)\ttotal: 6m 29s\tremaining: 10h 6m 27s\n",
      "106:\tlearn: 0.3601887\ttest: 0.4367835\tbest: 0.4367835 (106)\ttotal: 6m 33s\tremaining: 10h 7m 5s\n",
      "107:\tlearn: 0.3595423\ttest: 0.4361174\tbest: 0.4361174 (107)\ttotal: 6m 37s\tremaining: 10h 7m 19s\n",
      "108:\tlearn: 0.3588339\ttest: 0.4353404\tbest: 0.4353404 (108)\ttotal: 6m 40s\tremaining: 10h 5m 5s\n",
      "109:\tlearn: 0.3580545\ttest: 0.4345937\tbest: 0.4345937 (109)\ttotal: 6m 43s\tremaining: 10h 4m 54s\n",
      "110:\tlearn: 0.3574036\ttest: 0.4340688\tbest: 0.4340688 (110)\ttotal: 6m 47s\tremaining: 10h 5m 27s\n",
      "111:\tlearn: 0.3568890\ttest: 0.4335339\tbest: 0.4335339 (111)\ttotal: 6m 50s\tremaining: 10h 4m 38s\n",
      "112:\tlearn: 0.3562899\ttest: 0.4328073\tbest: 0.4328073 (112)\ttotal: 6m 54s\tremaining: 10h 4m 7s\n",
      "113:\tlearn: 0.3558713\ttest: 0.4323956\tbest: 0.4323956 (113)\ttotal: 6m 57s\tremaining: 10h 3m 38s\n",
      "114:\tlearn: 0.3553844\ttest: 0.4320209\tbest: 0.4320209 (114)\ttotal: 7m 1s\tremaining: 10h 3m 26s\n",
      "115:\tlearn: 0.3545020\ttest: 0.4308493\tbest: 0.4308493 (115)\ttotal: 7m 5s\tremaining: 10h 4m 10s\n",
      "116:\tlearn: 0.3538958\ttest: 0.4303560\tbest: 0.4303560 (116)\ttotal: 7m 8s\tremaining: 10h 3m 13s\n",
      "117:\tlearn: 0.3532186\ttest: 0.4297786\tbest: 0.4297786 (117)\ttotal: 7m 12s\tremaining: 10h 3m 49s\n",
      "118:\tlearn: 0.3529149\ttest: 0.4296233\tbest: 0.4296233 (118)\ttotal: 7m 17s\tremaining: 10h 4m 56s\n",
      "119:\tlearn: 0.3523527\ttest: 0.4290235\tbest: 0.4290235 (119)\ttotal: 7m 21s\tremaining: 10h 5m 26s\n",
      "120:\tlearn: 0.3519610\ttest: 0.4285541\tbest: 0.4285541 (120)\ttotal: 7m 24s\tremaining: 10h 4m 59s\n",
      "121:\tlearn: 0.3512808\ttest: 0.4280866\tbest: 0.4280866 (121)\ttotal: 7m 29s\tremaining: 10h 6m\n",
      "122:\tlearn: 0.3507528\ttest: 0.4276818\tbest: 0.4276818 (122)\ttotal: 7m 32s\tremaining: 10h 5m 57s\n",
      "123:\tlearn: 0.3505007\ttest: 0.4274517\tbest: 0.4274517 (123)\ttotal: 7m 35s\tremaining: 10h 5m 10s\n",
      "124:\tlearn: 0.3503157\ttest: 0.4274249\tbest: 0.4274249 (124)\ttotal: 7m 39s\tremaining: 10h 5m 22s\n",
      "125:\tlearn: 0.3497724\ttest: 0.4268397\tbest: 0.4268397 (125)\ttotal: 7m 42s\tremaining: 10h 3m 28s\n",
      "126:\tlearn: 0.3495048\ttest: 0.4266835\tbest: 0.4266835 (126)\ttotal: 7m 44s\tremaining: 10h 2m\n",
      "127:\tlearn: 0.3493555\ttest: 0.4266597\tbest: 0.4266597 (127)\ttotal: 7m 47s\tremaining: 10h 1m 25s\n",
      "128:\tlearn: 0.3488134\ttest: 0.4261947\tbest: 0.4261947 (128)\ttotal: 7m 51s\tremaining: 10h 1m 38s\n",
      "129:\tlearn: 0.3481527\ttest: 0.4253969\tbest: 0.4253969 (129)\ttotal: 7m 54s\tremaining: 10h 9s\n",
      "130:\tlearn: 0.3475572\ttest: 0.4246665\tbest: 0.4246665 (130)\ttotal: 7m 57s\tremaining: 10h 5s\n",
      "131:\tlearn: 0.3468904\ttest: 0.4237572\tbest: 0.4237572 (131)\ttotal: 8m 1s\tremaining: 9h 59m 43s\n",
      "132:\tlearn: 0.3461608\ttest: 0.4229665\tbest: 0.4229665 (132)\ttotal: 8m 4s\tremaining: 9h 59m 26s\n",
      "133:\tlearn: 0.3455837\ttest: 0.4223118\tbest: 0.4223118 (133)\ttotal: 8m 8s\tremaining: 9h 59m 28s\n",
      "134:\tlearn: 0.3451177\ttest: 0.4217804\tbest: 0.4217804 (134)\ttotal: 8m 11s\tremaining: 9h 58m 6s\n",
      "135:\tlearn: 0.3448753\ttest: 0.4215289\tbest: 0.4215289 (135)\ttotal: 8m 14s\tremaining: 9h 57m 16s\n",
      "136:\tlearn: 0.3446148\ttest: 0.4213741\tbest: 0.4213741 (136)\ttotal: 8m 17s\tremaining: 9h 57m 27s\n",
      "137:\tlearn: 0.3441239\ttest: 0.4208127\tbest: 0.4208127 (137)\ttotal: 8m 21s\tremaining: 9h 57m 32s\n",
      "138:\tlearn: 0.3439169\ttest: 0.4206135\tbest: 0.4206135 (138)\ttotal: 8m 24s\tremaining: 9h 57m 5s\n",
      "139:\tlearn: 0.3435931\ttest: 0.4203716\tbest: 0.4203716 (139)\ttotal: 8m 28s\tremaining: 9h 56m 29s\n",
      "140:\tlearn: 0.3431411\ttest: 0.4198870\tbest: 0.4198870 (140)\ttotal: 8m 31s\tremaining: 9h 56m 28s\n",
      "141:\tlearn: 0.3428369\ttest: 0.4198113\tbest: 0.4198113 (141)\ttotal: 8m 35s\tremaining: 9h 56m 21s\n",
      "142:\tlearn: 0.3425137\ttest: 0.4195639\tbest: 0.4195639 (142)\ttotal: 8m 38s\tremaining: 9h 55m 39s\n",
      "143:\tlearn: 0.3421183\ttest: 0.4192450\tbest: 0.4192450 (143)\ttotal: 8m 42s\tremaining: 9h 55m 43s\n",
      "144:\tlearn: 0.3418539\ttest: 0.4190335\tbest: 0.4190335 (144)\ttotal: 8m 45s\tremaining: 9h 55m 26s\n",
      "145:\tlearn: 0.3416901\ttest: 0.4189883\tbest: 0.4189883 (145)\ttotal: 8m 49s\tremaining: 9h 55m 41s\n",
      "146:\tlearn: 0.3414423\ttest: 0.4187237\tbest: 0.4187237 (146)\ttotal: 8m 51s\tremaining: 9h 54m 9s\n",
      "147:\tlearn: 0.3409840\ttest: 0.4182341\tbest: 0.4182341 (147)\ttotal: 8m 54s\tremaining: 9h 52m 36s\n",
      "148:\tlearn: 0.3406110\ttest: 0.4179530\tbest: 0.4179530 (148)\ttotal: 8m 57s\tremaining: 9h 52m 36s\n",
      "149:\tlearn: 0.3403477\ttest: 0.4176814\tbest: 0.4176814 (149)\ttotal: 9m\tremaining: 9h 52m 4s\n",
      "150:\tlearn: 0.3401110\ttest: 0.4175496\tbest: 0.4175496 (150)\ttotal: 9m 3s\tremaining: 9h 51m 17s\n",
      "151:\tlearn: 0.3399801\ttest: 0.4175168\tbest: 0.4175168 (151)\ttotal: 9m 7s\tremaining: 9h 51m 19s\n",
      "152:\tlearn: 0.3396434\ttest: 0.4170877\tbest: 0.4170877 (152)\ttotal: 9m 10s\tremaining: 9h 50m 34s\n",
      "153:\tlearn: 0.3393734\ttest: 0.4168437\tbest: 0.4168437 (153)\ttotal: 9m 13s\tremaining: 9h 49m 50s\n",
      "154:\tlearn: 0.3391844\ttest: 0.4167779\tbest: 0.4167779 (154)\ttotal: 9m 17s\tremaining: 9h 49m 51s\n",
      "155:\tlearn: 0.3389630\ttest: 0.4167768\tbest: 0.4167768 (155)\ttotal: 9m 20s\tremaining: 9h 49m 54s\n",
      "156:\tlearn: 0.3385920\ttest: 0.4162896\tbest: 0.4162896 (156)\ttotal: 9m 23s\tremaining: 9h 48m 46s\n",
      "157:\tlearn: 0.3383618\ttest: 0.4160233\tbest: 0.4160233 (157)\ttotal: 9m 26s\tremaining: 9h 48m 29s\n",
      "158:\tlearn: 0.3382438\ttest: 0.4159447\tbest: 0.4159447 (158)\ttotal: 9m 29s\tremaining: 9h 47m 36s\n",
      "159:\tlearn: 0.3380271\ttest: 0.4158047\tbest: 0.4158047 (159)\ttotal: 9m 33s\tremaining: 9h 47m 21s\n",
      "160:\tlearn: 0.3377084\ttest: 0.4155585\tbest: 0.4155585 (160)\ttotal: 9m 36s\tremaining: 9h 47m 22s\n",
      "161:\tlearn: 0.3373675\ttest: 0.4152867\tbest: 0.4152867 (161)\ttotal: 9m 39s\tremaining: 9h 46m 24s\n"
     ]
    }
   ],
   "source": [
    "model.fit(train_pool, eval_set=val_pool)  # 0.305, 0.333, / 0.263, 0.388"
   ]
  },
  {
   "cell_type": "code",
   "execution_count": null,
   "metadata": {},
   "outputs": [],
   "source": [
    "model.get_all_params()"
   ]
  },
  {
   "cell_type": "code",
   "execution_count": null,
   "metadata": {},
   "outputs": [],
   "source": [
    "model.predict_proba(trainD.features[0].reshape(1,-1))"
   ]
  },
  {
   "cell_type": "code",
   "execution_count": null,
   "metadata": {},
   "outputs": [],
   "source": [
    "model.classes_"
   ]
  },
  {
   "cell_type": "code",
   "execution_count": null,
   "metadata": {},
   "outputs": [],
   "source": [
    "model.save_model(\"../submissions/simple/models/v9.cbm\")"
   ]
  },
  {
   "cell_type": "code",
   "execution_count": 47,
   "metadata": {},
   "outputs": [
    {
     "data": {
      "text/plain": [
       "array([3.88155442e+00, 5.23721429e-01, 1.53315736e+00, 1.80684075e+01,\n",
       "       1.42098814e+01, 6.40749546e-01, 8.60292955e-01, 4.29625206e+00,\n",
       "       4.92371983e+00, 5.47901807e-01, 5.58933665e-01, 3.98338737e-01,\n",
       "       2.96479427e-01, 2.69626673e-01, 1.35330458e-01, 8.91609371e-01,\n",
       "       2.01598627e-01, 2.84045664e-01, 1.68363909e-01, 3.38436744e-02,\n",
       "       1.67969243e-01, 1.19950604e-01, 8.29330690e-05, 3.95940466e+00,\n",
       "       2.81753226e+01, 1.42539636e+00, 1.85117179e+00, 4.00109426e-01,\n",
       "       2.71870377e-01, 9.63834925e-02, 9.47759236e-02, 3.74476796e-01,\n",
       "       1.40735395e+00, 2.85777123e+00, 0.00000000e+00, 0.00000000e+00,\n",
       "       2.16401402e-01, 2.73528663e-01, 0.00000000e+00, 0.00000000e+00,\n",
       "       4.95478203e-02, 0.00000000e+00, 1.74187326e-03, 1.56919672e-02,\n",
       "       0.00000000e+00, 0.00000000e+00, 1.32037936e-02, 4.90370732e-02,\n",
       "       7.91212650e-04, 1.45938583e-03, 1.05824667e-02, 2.84092535e-02,\n",
       "       0.00000000e+00, 1.47723982e-02, 4.49167545e-03, 2.90063799e-03,\n",
       "       1.28880262e-04, 5.57482111e-03, 0.00000000e+00, 0.00000000e+00,\n",
       "       1.10477028e-03, 1.00950376e-02, 1.14863711e-02, 7.81448528e-03,\n",
       "       0.00000000e+00, 0.00000000e+00, 0.00000000e+00, 6.84310369e-03,\n",
       "       1.10629776e-04, 1.64156740e-03, 4.30620719e-03, 0.00000000e+00,\n",
       "       0.00000000e+00, 6.00064693e-05, 0.00000000e+00, 9.70346728e-03,\n",
       "       4.75497047e-03, 9.59863880e-03, 0.00000000e+00, 0.00000000e+00,\n",
       "       0.00000000e+00, 0.00000000e+00, 1.90585172e-03, 2.64720421e-03,\n",
       "       6.40580998e-04, 9.32853407e-03, 2.07544611e-03, 4.66986866e-04,\n",
       "       0.00000000e+00, 3.58593535e-03, 0.00000000e+00, 3.15729289e-03,\n",
       "       1.06294607e-03, 5.73512160e-03, 0.00000000e+00, 1.28589955e-02,\n",
       "       0.00000000e+00, 8.97462526e-07, 4.52455590e-03, 4.85000460e-03])"
      ]
     },
     "execution_count": 47,
     "metadata": {},
     "output_type": "execute_result"
    }
   ],
   "source": [
    "model.feature_importances_[:100]"
   ]
  },
  {
   "cell_type": "code",
   "execution_count": 116,
   "metadata": {},
   "outputs": [
    {
     "data": {
      "text/plain": [
       "array([0, 1, 2, 3, 4, 5])"
      ]
     },
     "execution_count": 116,
     "metadata": {},
     "output_type": "execute_result"
    }
   ],
   "source": [
    "catboost.CatBoostClassifier().load_model(\"../submissions/simple/models/v1.cbm\").classes_"
   ]
  },
  {
   "cell_type": "code",
   "execution_count": null,
   "metadata": {},
   "outputs": [],
   "source": []
  }
 ],
 "metadata": {
  "kernelspec": {
   "display_name": "Python 3",
   "language": "python",
   "name": "python3"
  },
  "language_info": {
   "codemirror_mode": {
    "name": "ipython",
    "version": 3
   },
   "file_extension": ".py",
   "mimetype": "text/x-python",
   "name": "python",
   "nbconvert_exporter": "python",
   "pygments_lexer": "ipython3",
   "version": "3.7.9"
  }
 },
 "nbformat": 4,
 "nbformat_minor": 4
}
