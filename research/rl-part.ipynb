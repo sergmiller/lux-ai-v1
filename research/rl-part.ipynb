{
 "cells": [
  {
   "cell_type": "code",
   "execution_count": 1,
   "metadata": {},
   "outputs": [],
   "source": [
    "import numpy as np\n",
    "import pandas as pd\n",
    "\n",
    "\n",
    "import json\n",
    "import os\n",
    "\n",
    "import subprocess\n",
    "\n",
    "from matplotlib import pyplot as plt"
   ]
  },
  {
   "cell_type": "code",
   "execution_count": 6,
   "metadata": {},
   "outputs": [],
   "source": [
    "%matplotlib inline\n",
    "%config Completer.use_jedi = False"
   ]
  },
  {
   "cell_type": "code",
   "execution_count": 3,
   "metadata": {},
   "outputs": [],
   "source": [
    "import torch\n",
    "from torch import nn\n",
    "from torch import optim\n",
    "\n",
    "from tensorboardX import SummaryWriter"
   ]
  },
  {
   "cell_type": "code",
   "execution_count": 674,
   "metadata": {},
   "outputs": [
    {
     "data": {
      "text/plain": [
       "<module 'utils.dataset' from '/Users/sergmiller/Documents/my/lux-ai-v1/research/utils/dataset.py'>"
      ]
     },
     "execution_count": 674,
     "metadata": {},
     "output_type": "execute_result"
    }
   ],
   "source": [
    "from importlib import reload\n",
    "from utils import dataset\n",
    "\n",
    "reload(dataset)"
   ]
  },
  {
   "cell_type": "code",
   "execution_count": 573,
   "metadata": {},
   "outputs": [],
   "source": [
    "def learn(train, val, model_ff, criterion, epochs=5, batch_size=64, shuffle=True, freq=10,lr=1e-3, l2=1e-5, use_tb=True): \n",
    "    if use_tb:\n",
    "        writer = SummaryWriter()\n",
    "    \n",
    "#     np.random.seed(1)\n",
    "    ids_nn = np.arange(train.targets.shape[0])\n",
    "    \n",
    "    reshape_to_last = lambda x: torch.reshape(x, [np.prod(x.shape[:-1]), x.shape[-1]])\n",
    "\n",
    "    optimizer = optim.Adam(model_ff.parameters(), lr=lr, weight_decay=l2)\n",
    "\n",
    "    time_for_print_loss = lambda i: (i + 1) % freq == 0\n",
    "    \n",
    "    n_iter = 0\n",
    "\n",
    "\n",
    "    for epoch in np.arange(epochs):\n",
    "        np.random.shuffle(ids_nn)\n",
    "\n",
    "        model_ff.train(True)\n",
    "\n",
    "        for b in np.arange(0, train.targets.shape[0], batch_size):\n",
    "            X_batch = torch.FloatTensor(train.features[ids_nn[b:b+batch_size]])\n",
    "            y_batch = torch.FloatTensor(train.weights[ids_nn[b:b+batch_size]])  # reward(advantage)\n",
    "            a_batch = torch.LongTensor(train.targets[ids_nn[b:b+batch_size]])  # action\n",
    "\n",
    "            optimizer.zero_grad()\n",
    "            y_pred_logits = model_ff(X_batch)\n",
    "\n",
    "            loss = criterion(y_pred_logits, y_batch, a_batch, X_batch)\n",
    "            loss.backward()\n",
    "\n",
    "            optimizer.step()\n",
    "\n",
    "            if (b // batch_size + 1) % freq == 0:\n",
    "                print('train loss in %d epoch in %d batch: %.5f' %\n",
    "                  (epoch + 1, b // batch_size + 1, loss.item()))\n",
    "                \n",
    "                if use_tb:\n",
    "                    writer.add_scalar('data/train_loss', loss.item(), n_iter)\n",
    "                    writer.add_scalar('data/epoch', epoch + 1, n_iter)\n",
    "                    writer.add_scalar('data/batch', b // batch_size + 1, n_iter)\n",
    "\n",
    "                val_loss = 0\n",
    "                its = 0\n",
    "                model_ff.train(False)\n",
    "                for b in np.arange(0, val.targets.shape[0], batch_size):\n",
    "                    its += 1\n",
    "                    X_batch = torch.FloatTensor(val.features[b:b+batch_size])\n",
    "#                     X_batch = reshape_to_last(X_batch)\n",
    "\n",
    "                    y_batch = torch.FloatTensor(val.weights[b:b+batch_size])\n",
    "                    a_batch = torch.LongTensor(val.targets[b:b+batch_size])\n",
    "                    with torch.no_grad():\n",
    "                        y_pred_logits = model_ff(X_batch)\n",
    "                    loss = criterion(y_pred_logits, y_batch, a_batch, X_batch)\n",
    "                    val_loss += loss.item()\n",
    "                val_loss /= its\n",
    "                print('val loss in %d epoch: %.5f' % (epoch + 1, val_loss))\n",
    "                \n",
    "                if use_tb:\n",
    "                    writer.add_scalar('data/val_loss', val_loss, n_iter)\n",
    "                n_iter += 1\n"
   ]
  },
  {
   "cell_type": "code",
   "execution_count": 96,
   "metadata": {},
   "outputs": [],
   "source": [
    "# datasets = dataset.read_datasets_from_dir(\"features_v3/\")"
   ]
  },
  {
   "cell_type": "code",
   "execution_count": 97,
   "metadata": {},
   "outputs": [
    {
     "data": {
      "text/plain": [
       "[(0, 'cargo_vol_total'),\n",
       " (1, 'cargo_fuel_total'),\n",
       " (2, 'unit_can_build'),\n",
       " (3, 'unit_routine'),\n",
       " (4, 'unit_last_action'),\n",
       " (5, 'near_city_dist'),\n",
       " (6, 'near_city_dir'),\n",
       " (7, 'near_city_fuel'),\n",
       " (8, 'near_city_light_upkeep'),\n",
       " (9, 'city_size'),\n",
       " (10, 'opp_near_city_dist'),\n",
       " (11, 'opp_near_city_dir'),\n",
       " (12, 'opp_near_city_fuel'),\n",
       " (13, 'opp_near_city_light_upkeep'),\n",
       " (14, 'opp_city_size'),\n",
       " (15, 'near_resource_dist'),\n",
       " (16, 'near_resource_dir'),\n",
       " (17, 'near_resource_type'),\n",
       " (18, 'near_resource_amount'),\n",
       " (19, 'my_city_count'),\n",
       " (20, 'opp_city_count'),\n",
       " (21, 'turn'),\n",
       " (22, 'is_night'),\n",
       " (23, 'time_to_night'),\n",
       " (24, 'width'),\n",
       " (25, 'height'),\n",
       " (26, 'my_research'),\n",
       " (27, 'opp_research'),\n",
       " (28, 'my_research_coal'),\n",
       " (29, 'opp_research_coal'),\n",
       " (30, 'my_research_uran'),\n",
       " (31, 'opp_research_uran'),\n",
       " (32, 'action'),\n",
       " (33, 'my_tiles'),\n",
       " (34, 'opp_tiles')]"
      ]
     },
     "execution_count": 97,
     "metadata": {},
     "output_type": "execute_result"
    }
   ],
   "source": [
    "# dataset.read_columns_from_random_file(\"features_v3\")"
   ]
  },
  {
   "cell_type": "code",
   "execution_count": 100,
   "metadata": {},
   "outputs": [
    {
     "data": {
      "text/plain": [
       "[2, 3, 4, 6, 11, 16, 17, 22, 28, 29, 30, 31]"
      ]
     },
     "execution_count": 100,
     "metadata": {},
     "output_type": "execute_result"
    }
   ],
   "source": [
    "dataset.CAT_FEATURES"
   ]
  },
  {
   "cell_type": "code",
   "execution_count": 409,
   "metadata": {},
   "outputs": [],
   "source": [
    "FLOAT_FEATURES = [i for i in range(42 + 32*32*7) if i not in dataset.CAT_FEATURES_V4]"
   ]
  },
  {
   "cell_type": "code",
   "execution_count": 410,
   "metadata": {},
   "outputs": [
    {
     "data": {
      "text/plain": [
       "([0, 1, 5, 6, 7, 9, 10, 11, 12, 13, 15, 17, 18, 19, 20, 21, 23, 26, 27, 28],\n",
       " [7200, 7201, 7202, 7203, 7204, 7205, 7206, 7207, 7208, 7209])"
      ]
     },
     "execution_count": 410,
     "metadata": {},
     "output_type": "execute_result"
    }
   ],
   "source": [
    "FLOAT_FEATURES[:20], FLOAT_FEATURES[-10:]"
   ]
  },
  {
   "cell_type": "code",
   "execution_count": 87,
   "metadata": {},
   "outputs": [],
   "source": [
    "import pickle\n",
    "from sklearn.preprocessing import OneHotEncoder"
   ]
  },
  {
   "cell_type": "code",
   "execution_count": 392,
   "metadata": {},
   "outputs": [],
   "source": [
    "with open(\"../submissions/simple/models/ohe_v2\", \"rb\") as f:\n",
    "    OHE = pickle.load(f)"
   ]
  },
  {
   "cell_type": "code",
   "execution_count": 419,
   "metadata": {},
   "outputs": [],
   "source": [
    "def prepare_features(t: dataset.Dataset, v: dataset.Dataset, ohe=None, categories=None) -> (dataset.Dataset, dataset.Dataset):\n",
    "    create_ohe = ohe is None\n",
    "    if create_ohe:\n",
    "         ohe = OneHotEncoder(sparse=False, categories=categories)\n",
    "    def prepare(d, is_train):\n",
    "        cf = d.features[:, dataset.CAT_FEATURES_V4]\n",
    "        ff = d.features[:, FLOAT_FEATURES]\n",
    "        cf[cf == \"False\"] = False\n",
    "        cf[cf == \"True\"] = True\n",
    "        cf[cf == None] = \"None\"\n",
    "        cf[cf == \"1\"] = 1\n",
    "        cf[cf == \"2\"] = 2\n",
    "        cf[cf == \"3\"] = 3\n",
    "        ff[ff == \"None\"] = 0\n",
    "        cf_o = ohe.fit_transform(cf) if is_train and create_ohe else ohe.transform(cf)\n",
    "        return dataset.Dataset(\n",
    "            features=np.array(np.concatenate([cf_o, ff], axis=1), dtype=np.float),\n",
    "            targets=np.array(d.targets, dtype=np.float),\n",
    "            weights=np.array(d.weights, dtype=np.float),\n",
    "            next_state_id = d.next_state_id\n",
    "        )\n",
    "    t = prepare(t, True)\n",
    "    v = prepare(v, False)\n",
    "    return (t,v, ohe)"
   ]
  },
  {
   "cell_type": "code",
   "execution_count": 184,
   "metadata": {},
   "outputs": [],
   "source": [
    "# dt,dv,OHE = prepare_features(data, data, None, [\n",
    "#      np.array([\"None\", False, True], dtype=object),\n",
    "#      np.array([1, 2, 3], dtype=object),\n",
    "#      np.array(['None', 'bcity', 'e', 'n', 'p', 's', 'w'], dtype=object),\n",
    "#      np.array(['None', 'c', 'e', 'n', 's', 'w'], dtype=object),\n",
    "#      np.array([\"None\", False, True], dtype=object),\n",
    "#      np.array(['None', 'e', 'n', 's', 'w'], dtype=object),\n",
    "#      np.array([\"None\", False, True], dtype=object),\n",
    "#      np.array(['None', 'c', 'e', 'n', 's', 'w'], dtype=object),\n",
    "#      np.array(['None', 'coal', 'uranium', 'wood'], dtype=object),\n",
    "#      np.array([\"None\", False, True], dtype=object),\n",
    "#      np.array([\"None\", False, True], dtype=object),\n",
    "#      np.array([\"None\", False, True], dtype=object),\n",
    "#      np.array([\"None\", False, True], dtype=object),\n",
    "#      np.array([\"None\", False, True], dtype=object)])"
   ]
  },
  {
   "cell_type": "code",
   "execution_count": 185,
   "metadata": {},
   "outputs": [
    {
     "data": {
      "text/plain": [
       "[array(['None', False, True], dtype=object),\n",
       " array([1, 2, 3], dtype=object),\n",
       " array(['None', 'bcity', 'e', 'n', 'p', 's', 'w'], dtype=object),\n",
       " array(['None', 'c', 'e', 'n', 's', 'w'], dtype=object),\n",
       " array(['None', False, True], dtype=object),\n",
       " array(['None', 'e', 'n', 's', 'w'], dtype=object),\n",
       " array(['None', False, True], dtype=object),\n",
       " array(['None', 'c', 'e', 'n', 's', 'w'], dtype=object),\n",
       " array(['None', 'coal', 'uranium', 'wood'], dtype=object),\n",
       " array(['None', False, True], dtype=object),\n",
       " array(['None', False, True], dtype=object),\n",
       " array(['None', False, True], dtype=object),\n",
       " array(['None', False, True], dtype=object),\n",
       " array(['None', False, True], dtype=object)]"
      ]
     },
     "execution_count": 185,
     "metadata": {},
     "output_type": "execute_result"
    }
   ],
   "source": [
    "OHE.categories_"
   ]
  },
  {
   "cell_type": "code",
   "execution_count": 188,
   "metadata": {},
   "outputs": [],
   "source": [
    "# with open(\"../submissions/simple/models/ohe_v2\", \"wb\") as f:\n",
    "#     pickle.dump(OHE, f)"
   ]
  },
  {
   "cell_type": "code",
   "execution_count": 142,
   "metadata": {},
   "outputs": [],
   "source": [
    "# with open(\"../submissions/simple/models/ohe_v1\", \"wb\") as f:\n",
    "#     pickle.dump(ohe, f)"
   ]
  },
  {
   "cell_type": "code",
   "execution_count": 626,
   "metadata": {},
   "outputs": [],
   "source": [
    "MAP_F = 32 * 32 * 7\n",
    "\n",
    "class NNWithCustomFeatures(nn.Module):\n",
    "    def __init__(self, INPUT_F, DROP_P, H, A=6):\n",
    "        super().__init__()\n",
    "        INPUT_F_C = INPUT_F + 128\n",
    "        self.model_q =  nn.Sequential(\n",
    "            nn.Dropout(DROP_P),\n",
    "            nn.Linear(INPUT_F_C, H),\n",
    "            nn.LayerNorm(H),\n",
    "            nn.ReLU(),\n",
    "            nn.Dropout(DROP_P),\n",
    "            nn.Linear(H, H),\n",
    "            nn.ReLU(),\n",
    "            nn.Dropout(DROP_P),\n",
    "            nn.Linear(H, H),\n",
    "            nn.ReLU(),\n",
    "            nn.Linear(H, A),\n",
    "            nn.ReLU()\n",
    "#             nn.Sigmoid()\n",
    "        )\n",
    "        \n",
    "        self.model_p =  nn.Sequential(\n",
    "            nn.Dropout(DROP_P),\n",
    "            nn.Linear(INPUT_F_C, H),\n",
    "            nn.LayerNorm(H),\n",
    "            nn.ReLU(),\n",
    "            nn.Dropout(DROP_P),\n",
    "            nn.Linear(H, H),\n",
    "            nn.ReLU(),\n",
    "            nn.Dropout(DROP_P),\n",
    "            nn.Linear(H, H),\n",
    "            nn.ReLU(),\n",
    "            nn.Linear(H, A)\n",
    "#             nn.Sigmoid()\n",
    "        )\n",
    "        \n",
    "        self.map_model = nn.Sequential(\n",
    "            nn.Conv2d(7, 64, 3),\n",
    "            nn.ReLU(inplace=True),\n",
    "            nn.MaxPool2d(2),  # after -> (16,16)\n",
    "            nn.Conv2d(64, 128, 3),\n",
    "            nn.ReLU(inplace=True),\n",
    "            nn.MaxPool2d(2),  # after -> (8, 8)\n",
    "            nn.Conv2d(128, 256, 3),\n",
    "            nn.ReLU(inplace=True),\n",
    "            nn.MaxPool2d(2),  # after -> (4, 4)\n",
    "#             nn.Conv2d(128, 256, 3),\n",
    "#             nn.ReLU(inplace=True),\n",
    "#             nn.MaxPool2d(2),  # after -> (1, 1)\n",
    "        )\n",
    "        self.avgpool = nn.AdaptiveAvgPool2d((4, 4))\n",
    "        self.proj = nn.Sequential(\n",
    "            nn.Dropout(p=DROP_P),\n",
    "            nn.Linear(256 * 4 * 4, 256),\n",
    "            nn.ReLU(inplace=True),\n",
    "            nn.Dropout(p=DROP_P),\n",
    "            nn.Linear(256, 128)\n",
    "        )\n",
    "        \n",
    "    def forward(self, x):\n",
    "        L = x.shape[1]\n",
    "        cur_r = self.forward_impl(x[:, :L // 2])\n",
    "        next_r =  self.forward_impl(x[:, L // 2:])\n",
    "        return torch.cat([cur_r, next_r],dim=1)\n",
    "\n",
    "    def forward_impl(self, x):\n",
    "        mapp = x[:, -MAP_F:].reshape(-1, 32, 32, 7)\n",
    "        rest = x[:, :-MAP_F]\n",
    "        mapp = torch.transpose(mapp, 1, -1)\n",
    "        mapp = self.avgpool(self.map_model(mapp))\n",
    "        mapp = torch.flatten(mapp, 1)\n",
    "        mapp_f = self.proj(mapp)\n",
    "#         print(mapp_f.shape)\n",
    "        input_x = torch.cat([rest, mapp_f], dim=1)\n",
    "#         print(input_x.shape)\n",
    "#         return self.model_q(input_x)\n",
    "        return torch.cat([self.model_q(input_x), self.model_p(input_x)], dim=1)"
   ]
  },
  {
   "cell_type": "code",
   "execution_count": 627,
   "metadata": {},
   "outputs": [],
   "source": [
    "model = NNWithCustomFeatures(63, 0.05, 64)"
   ]
  },
  {
   "cell_type": "code",
   "execution_count": 630,
   "metadata": {},
   "outputs": [
    {
     "data": {
      "text/plain": [
       "tensor([[ 0.0000,  0.0000,  0.1109,  0.0476,  0.0000,  0.0915, -0.0937, -0.0995,\n",
       "         -0.1064,  0.0649,  0.0547, -0.0450],\n",
       "        [ 0.0000,  0.0000,  0.1094,  0.0437,  0.0000,  0.0924, -0.0958, -0.0997,\n",
       "         -0.1076,  0.0741,  0.0568, -0.0414],\n",
       "        [ 0.0000,  0.0000,  0.1109,  0.0476,  0.0000,  0.0915, -0.0927, -0.0949,\n",
       "         -0.1044,  0.0684,  0.0588, -0.0371],\n",
       "        [ 0.0000,  0.0000,  0.1147,  0.0556,  0.0000,  0.0966, -0.0937, -0.0995,\n",
       "         -0.1064,  0.0649,  0.0547, -0.0450]], grad_fn=<CatBackward>)"
      ]
     },
     "execution_count": 630,
     "metadata": {},
     "output_type": "execute_result"
    }
   ],
   "source": [
    "model.forward_impl(torch.Tensor(4, 63 + 32*32*7))"
   ]
  },
  {
   "cell_type": "code",
   "execution_count": 680,
   "metadata": {},
   "outputs": [],
   "source": [
    "ENTROPY_REG = 1e-3\n",
    "def policy_loss(pi_logits, reward_batch, a_batch, X_batch):\n",
    "    pi_probs = torch.nn.Softmax(dim=1)(pi_logits)\n",
    "    return torch.mean(torch.nn.CrossEntropyLoss(reduction='none')(pi_logits, a_batch) * reward_batch \n",
    "                      - torch.sum(pi_probs * torch.log(pi_probs) * ENTROPY_REG, dim=1))\n",
    "\n",
    "def q_loss(q_vals, reward_batch, a_batch, X_batch):\n",
    "    q_vals_per_reward = q_vals[np.arange(q_vals.shape[0]), a_batch]\n",
    "    return torch.nn.MSELoss()(q_vals_per_reward, reward_batch) * 0.01\n",
    "\n",
    "gamma = 0.99\n",
    "\n",
    "def get_is_last_state(x):\n",
    "    t = torch.sum(torch.isclose(x, torch.ones_like(x) * (-1)), dim=1) == x.shape[1]\n",
    "    return t.float()\n",
    "\n",
    "def q_loss_pair(q_vals_cur_and_next, reward_batch, a_batch, X_batch):\n",
    "    q_vals = q_vals_cur_and_next[:, :6]\n",
    "    q_vals_next = q_vals_cur_and_next[:, 6:12]\n",
    "    q_vals_per_reward_cur = q_vals[np.arange(q_vals.shape[0]), a_batch]\n",
    "    X_batch_next = X_batch[:, X_batch.shape[1] // 2:]\n",
    "    best_q_vals_next = torch.max(q_vals_next,dim=1)[0] * (1 - get_is_last_state(X_batch_next))\n",
    "#     print(list(enumerate([q_vals_per_reward_cur, reward_batch, best_q_vals_next, q_vals_next])))\n",
    "#     print(0.99 * best_q_vals_next)\n",
    "#     return torch.nn.MSELoss()(target=q_vals_per_reward_cur.detach(), input=reward_batch + gamma * best_q_vals_next)\n",
    "    return torch.nn.SmoothL1Loss()(target=q_vals_per_reward_cur.detach(), input=reward_batch + gamma * best_q_vals_next)\n",
    "\n",
    "\n",
    "def actor_critic_loss(q_pi_payload, reward_batch, a_batch, X_batch):\n",
    "    q_vals = q_pi_payload[:, :6]\n",
    "    pi_logits =  q_pi_payload[:, 6:12]\n",
    "    pi_probs = torch.nn.Softmax(dim=1)(pi_logits)\n",
    "    q_vals_next = q_pi_payload[:, 12:18]\n",
    "    q_vals_per_reward_cur = q_vals[np.arange(q_vals.shape[0]), a_batch]\n",
    "    X_batch_next = X_batch[:, X_batch.shape[1] // 2:]\n",
    "    best_q_vals_next = torch.max(q_vals_next,dim=1)[0] * (1 - get_is_last_state(X_batch_next))\n",
    "    advantage = reward_batch + gamma * best_q_vals_next - q_vals_per_reward_cur\n",
    "    q_loss = torch.nn.SmoothL1Loss()(target=reward_batch + gamma * best_q_vals_next.detach(), input=q_vals_per_reward_cur)\n",
    "    pi_loss =  torch.mean(torch.nn.CrossEntropyLoss(reduction='none')(pi_logits, a_batch) * advantage.detach()\n",
    "                      + torch.sum(pi_probs * torch.log(pi_probs) * ENTROPY_REG, dim=1))\n",
    "#     print(\"q_loss={}, pi_loss={}\".format(q_loss.item(), pi_loss.item()))\n",
    "    return q_loss + pi_loss"
   ]
  },
  {
   "cell_type": "code",
   "execution_count": 429,
   "metadata": {},
   "outputs": [],
   "source": [
    "simple_bot = \"../submissions/simple/main.py\"\n",
    "replays = \"replays\"\n",
    "\n",
    "def run_game(left_bot=simple_bot, right_bot=simple_bot, seed=42, loglevel=2):\n",
    "    replay_path = \"replay.json\"\n",
    "    python_v = \"python3.7\"\n",
    "    \n",
    "    replay_path = os.path.join(replays, str(np.random.randint(1e9)) + \".json\")\n",
    "    \n",
    "    size = np.random.choice([12,16,24,32], size=1)[0]\n",
    "    \n",
    "    res = subprocess.run([\n",
    "        \"lux-ai-2021\",\n",
    "        left_bot,\n",
    "        right_bot,\n",
    "#         \"--statefulReplay\",\n",
    "        \"--width={}\".format(size),\n",
    "        \"--height={}\".format(size),\n",
    "        \"--loglevel={}\".format(loglevel),\n",
    "        \"--python={}\".format(python_v),\n",
    "        \"--maxtime=100000\",\n",
    "        \"--maxConcurrentMatches=1\",\n",
    "        \"--seed={}\".format(seed),\n",
    "        \"--out={}\".format(replay_path)], stdout=subprocess.PIPE)\n",
    "    \n",
    "    if loglevel > 0:\n",
    "        print(res.stdout.decode())\n",
    "\n",
    "    assert res.returncode == 0\n",
    "\n",
    "    with open(replay_path, \"r\") as f:\n",
    "        result = json.load(f)\n",
    "    return result, res.stdout.decode()"
   ]
  },
  {
   "cell_type": "code",
   "execution_count": 432,
   "metadata": {
    "scrolled": true
   },
   "outputs": [],
   "source": [
    "run_game(simple_bot, simple_bot)  # <-- test run one game with default bot"
   ]
  },
  {
   "cell_type": "code",
   "execution_count": 98,
   "metadata": {},
   "outputs": [],
   "source": [
    "import hashlib\n",
    "\n",
    "def build_runnable_bot_with_flags(flags: dict, origin = simple_bot, base_path = '../submissions/simple/') -> str:\n",
    "    lines = []\n",
    "    with open(origin, \"r\") as f:\n",
    "        for line in f:\n",
    "            lines.append(line[:-1])\n",
    "    text = '\\n'.join(lines)\n",
    "    f = json.dumps(flags)\n",
    "    text = text.format(f)\n",
    "    h = int(hashlib.sha256(f.encode('utf-8')).hexdigest(), 16) % (10 ** 18)\n",
    "    path = base_path + \"main_\" + str(h) + \".py\"\n",
    "    with open(path, \"w\") as f:\n",
    "        f.write(text)\n",
    "    return path"
   ]
  },
  {
   "cell_type": "code",
   "execution_count": 229,
   "metadata": {},
   "outputs": [],
   "source": [
    "def count_series(results: list):\n",
    "    wins = []\n",
    "    for i, r in enumerate(results):\n",
    "        ranks = r[0]['results']['ranks']\n",
    "        teams = r[0]['teamDetails']\n",
    "        if ranks[0]['rank'] == 1 and ranks[1]['rank'] == 2:\n",
    "            if ranks[0][\"agentID\"] == i % 2:\n",
    "                wins.append(1)\n",
    "            else:\n",
    "                wins.append(0)\n",
    "        else:\n",
    "            wins.append(0.5)\n",
    "    return wins"
   ]
  },
  {
   "cell_type": "code",
   "execution_count": 100,
   "metadata": {},
   "outputs": [],
   "source": [
    "from joblib import Parallel, delayed\n",
    "import tqdm"
   ]
  },
  {
   "cell_type": "code",
   "execution_count": 614,
   "metadata": {},
   "outputs": [],
   "source": [
    "def sample_dataset(d, p=0.5):\n",
    "    N = len(d.features)\n",
    "    ids = np.random.choice(N, size=int(N * p))\n",
    "    return dataset.Dataset(features = d.features[ids], weights = d.weights[ids], targets = d.targets[ids])"
   ]
  },
  {
   "cell_type": "code",
   "execution_count": 492,
   "metadata": {},
   "outputs": [],
   "source": [
    "def add_next_features(d):\n",
    "    assert d.next_state_id is not None\n",
    "    coupled_features = []\n",
    "    weights = []\n",
    "    targets = []\n",
    "    for i in np.arange(d.features.shape[0]):\n",
    "        next_i = d.next_state_id[i]\n",
    "        if d.next_state_id[i] != -1:\n",
    "            next_f = d.features[next_i]\n",
    "        else:\n",
    "            next_f = np.ones_like(d.features[i]) * (-1)\n",
    "        coupled_features.append(np.concatenate([d.features[i], next_f]))\n",
    "        weights.append(d.weights[i])\n",
    "        targets.append(d.targets[i])\n",
    "    return dataset.Dataset(\n",
    "        features=np.array(coupled_features),\n",
    "        weights=np.array(weights),\n",
    "        targets=np.array(targets))"
   ]
  },
  {
   "cell_type": "code",
   "execution_count": null,
   "metadata": {
    "scrolled": true
   },
   "outputs": [
    {
     "name": "stdout",
     "output_type": "stream",
     "text": [
      "Round 573, winrate: 0.0, max_step: 359, reward: 4, example: {'ranks': [{'rank': 1, 'agentID': 0}, {'rank': 2, 'agentID': 1}], 'replayFile': 'replays/942916128.json'}\n",
      "train loss in 1 epoch in 1 batch: 40.83069\n",
      "val loss in 1 epoch: 59.94242\n",
      "Round 574, winrate: 1.0, max_step: 314, reward: 0, example: {'ranks': [{'rank': 1, 'agentID': 0}, {'rank': 2, 'agentID': 1}], 'replayFile': 'replays/247202987.json'}\n",
      "train loss in 1 epoch in 1 batch: -121.76593\n",
      "val loss in 1 epoch: 52.52039\n",
      "train loss in 1 epoch in 2 batch: -7.54506\n",
      "val loss in 1 epoch: 49.04658\n"
     ]
    },
    {
     "name": "stderr",
     "output_type": "stream",
     "text": [
      "/Library/Frameworks/Python.framework/Versions/3.7/lib/python3.7/site-packages/IPython/core/interactiveshell.py:3338: DtypeWarning: Columns (17,18,19,20,21,22) have mixed types.Specify dtype option on import or set low_memory=False.\n",
      "  if (await self.run_code(code, result,  async_=asy)):\n"
     ]
    },
    {
     "name": "stdout",
     "output_type": "stream",
     "text": [
      "Round 575, winrate: 0.0, max_step: 154, reward: 0, example: {'ranks': [{'rank': 1, 'agentID': 0}, {'rank': 2, 'agentID': 1}], 'replayFile': 'replays/629527449.json'}\n",
      "train loss in 1 epoch in 1 batch: 588.56189\n",
      "val loss in 1 epoch: -219.64782\n",
      "Round 576, winrate: 0.0, max_step: 238, reward: 0, example: {'ranks': [{'rank': 1, 'agentID': 1}, {'rank': 2, 'agentID': 0}], 'replayFile': 'replays/574497171.json'}\n",
      "train loss in 1 epoch in 1 batch: 157.23141\n",
      "val loss in 1 epoch: -290.68017\n",
      "train loss in 1 epoch in 2 batch: -49.59634\n",
      "val loss in 1 epoch: -290.82744\n",
      "train loss in 1 epoch in 3 batch: 43.97684\n",
      "val loss in 1 epoch: -291.89313\n",
      "Round 577, winrate: 0.0, max_step: 110, reward: 0, example: {'ranks': [{'rank': 1, 'agentID': 0}, {'rank': 2, 'agentID': 1}], 'replayFile': 'replays/901790531.json'}\n",
      "train loss in 1 epoch in 1 batch: 449.53827\n",
      "val loss in 1 epoch: -1497.95533\n",
      "Round 578, winrate: 0.0, max_step: 270, reward: 0, example: {'ranks': [{'rank': 1, 'agentID': 1}, {'rank': 2, 'agentID': 0}], 'replayFile': 'replays/553253805.json'}\n",
      "train loss in 1 epoch in 1 batch: -2571.79272\n",
      "val loss in 1 epoch: -703.78939\n",
      "Round 579, winrate: 0.0, max_step: 115, reward: 0, example: {'ranks': [{'rank': 1, 'agentID': 0}, {'rank': 2, 'agentID': 1}], 'replayFile': 'replays/712209341.json'}\n",
      "train loss in 1 epoch in 1 batch: -275.59500\n",
      "val loss in 1 epoch: 30.93087\n",
      "Round 580, winrate: 0.0, max_step: 150, reward: 0, example: {'ranks': [{'rank': 1, 'agentID': 1}, {'rank': 2, 'agentID': 0}], 'replayFile': 'replays/59615136.json'}\n",
      "train loss in 1 epoch in 1 batch: 428.47858\n",
      "val loss in 1 epoch: -170.70206\n"
     ]
    },
    {
     "name": "stderr",
     "output_type": "stream",
     "text": [
      "/Library/Frameworks/Python.framework/Versions/3.7/lib/python3.7/site-packages/IPython/core/interactiveshell.py:3338: DtypeWarning: Columns (17,18,19,20,21,22) have mixed types.Specify dtype option on import or set low_memory=False.\n",
      "  if (await self.run_code(code, result,  async_=asy)):\n"
     ]
    },
    {
     "name": "stdout",
     "output_type": "stream",
     "text": [
      "Round 581, winrate: 0.0, max_step: 277, reward: 0, example: {'ranks': [{'rank': 1, 'agentID': 0}, {'rank': 2, 'agentID': 1}], 'replayFile': 'replays/503366333.json'}\n",
      "train loss in 1 epoch in 1 batch: 642.22485\n",
      "val loss in 1 epoch: 78.06393\n",
      "Round 582, winrate: 0.0, max_step: 350, reward: 0, example: {'ranks': [{'rank': 1, 'agentID': 1}, {'rank': 2, 'agentID': 0}], 'replayFile': 'replays/431861209.json'}\n",
      "train loss in 1 epoch in 1 batch: 539.09265\n",
      "val loss in 1 epoch: -300.61381\n",
      "Round 583, winrate: 0.0, max_step: 235, reward: 0, example: {'ranks': [{'rank': 1, 'agentID': 0}, {'rank': 2, 'agentID': 1}], 'replayFile': 'replays/553093625.json'}\n",
      "train loss in 1 epoch in 1 batch: -33.30542\n",
      "val loss in 1 epoch: -183.00376\n",
      "Round 584, winrate: 1.0, max_step: 79, reward: 0, example: {'ranks': [{'rank': 1, 'agentID': 0}, {'rank': 2, 'agentID': 1}], 'replayFile': 'replays/441633633.json'}\n",
      "train loss in 1 epoch in 1 batch: 343.89520\n",
      "val loss in 1 epoch: -2375.89562\n",
      "Round 585, winrate: 0.0, max_step: 31, reward: 0, example: {'ranks': [{'rank': 1, 'agentID': 0}, {'rank': 2, 'agentID': 1}], 'replayFile': 'replays/162681776.json'}\n",
      "train loss in 1 epoch in 1 batch: 560.34503\n",
      "val loss in 1 epoch: -2640.42090\n"
     ]
    },
    {
     "name": "stderr",
     "output_type": "stream",
     "text": [
      "/Library/Frameworks/Python.framework/Versions/3.7/lib/python3.7/site-packages/IPython/core/interactiveshell.py:3338: DtypeWarning: Columns (26,27,28) have mixed types.Specify dtype option on import or set low_memory=False.\n",
      "  if (await self.run_code(code, result,  async_=asy)):\n"
     ]
    },
    {
     "name": "stdout",
     "output_type": "stream",
     "text": [
      "Round 586, winrate: 0.0, max_step: 353, reward: 0, example: {'ranks': [{'rank': 1, 'agentID': 1}, {'rank': 2, 'agentID': 0}], 'replayFile': 'replays/792531345.json'}\n",
      "train loss in 1 epoch in 1 batch: 687.06335\n",
      "val loss in 1 epoch: -59.41430\n",
      "train loss in 1 epoch in 2 batch: 144.06239\n",
      "val loss in 1 epoch: -61.31743\n"
     ]
    },
    {
     "name": "stderr",
     "output_type": "stream",
     "text": [
      "/Library/Frameworks/Python.framework/Versions/3.7/lib/python3.7/site-packages/IPython/core/interactiveshell.py:3338: DtypeWarning: Columns (17,18,19,20,21,22) have mixed types.Specify dtype option on import or set low_memory=False.\n",
      "  if (await self.run_code(code, result,  async_=asy)):\n"
     ]
    },
    {
     "name": "stdout",
     "output_type": "stream",
     "text": [
      "Round 587, winrate: 0.0, max_step: 190, reward: 0, example: {'ranks': [{'rank': 1, 'agentID': 0}, {'rank': 2, 'agentID': 1}], 'replayFile': 'replays/879796242.json'}\n",
      "train loss in 1 epoch in 1 batch: 369.49579\n",
      "val loss in 1 epoch: -417.95461\n",
      "Round 588, winrate: 0.0, max_step: 230, reward: 0, example: {'ranks': [{'rank': 1, 'agentID': 1}, {'rank': 2, 'agentID': 0}], 'replayFile': 'replays/956182263.json'}\n",
      "train loss in 1 epoch in 1 batch: -439.42944\n",
      "val loss in 1 epoch: -7.34088\n",
      "train loss in 1 epoch in 2 batch: 9.26074\n",
      "val loss in 1 epoch: -8.98777\n"
     ]
    },
    {
     "name": "stderr",
     "output_type": "stream",
     "text": [
      "/Library/Frameworks/Python.framework/Versions/3.7/lib/python3.7/site-packages/IPython/core/interactiveshell.py:3338: DtypeWarning: Columns (26,27,28) have mixed types.Specify dtype option on import or set low_memory=False.\n",
      "  if (await self.run_code(code, result,  async_=asy)):\n"
     ]
    },
    {
     "name": "stdout",
     "output_type": "stream",
     "text": [
      "Round 589, winrate: 0.0, max_step: 235, reward: 0, example: {'ranks': [{'rank': 1, 'agentID': 0}, {'rank': 2, 'agentID': 1}], 'replayFile': 'replays/403614944.json'}\n",
      "train loss in 1 epoch in 1 batch: 45.98357\n",
      "val loss in 1 epoch: -300.84298\n",
      "train loss in 1 epoch in 2 batch: -10.38044\n",
      "val loss in 1 epoch: -300.54806\n",
      "Round 590, winrate: 0.0, max_step: 233, reward: 0, example: {'ranks': [{'rank': 1, 'agentID': 1}, {'rank': 2, 'agentID': 0}], 'replayFile': 'replays/293792490.json'}\n",
      "train loss in 1 epoch in 1 batch: 1057.64807\n",
      "val loss in 1 epoch: -480.22763\n"
     ]
    },
    {
     "name": "stderr",
     "output_type": "stream",
     "text": [
      "/Library/Frameworks/Python.framework/Versions/3.7/lib/python3.7/site-packages/IPython/core/interactiveshell.py:3338: DtypeWarning: Columns (9,10,11,12,13,14) have mixed types.Specify dtype option on import or set low_memory=False.\n",
      "  if (await self.run_code(code, result,  async_=asy)):\n"
     ]
    },
    {
     "name": "stdout",
     "output_type": "stream",
     "text": [
      "Round 591, winrate: 0.0, max_step: 349, reward: 0, example: {'ranks': [{'rank': 1, 'agentID': 0}, {'rank': 2, 'agentID': 1}], 'replayFile': 'replays/273192155.json'}\n",
      "train loss in 1 epoch in 1 batch: 645.70050\n",
      "val loss in 1 epoch: -445.46130\n",
      "train loss in 1 epoch in 2 batch: 376.87769\n",
      "val loss in 1 epoch: -448.86061\n"
     ]
    },
    {
     "name": "stderr",
     "output_type": "stream",
     "text": [
      "/Library/Frameworks/Python.framework/Versions/3.7/lib/python3.7/site-packages/IPython/core/interactiveshell.py:3338: DtypeWarning: Columns (17,18,19,20,21,22) have mixed types.Specify dtype option on import or set low_memory=False.\n",
      "  if (await self.run_code(code, result,  async_=asy)):\n"
     ]
    },
    {
     "name": "stdout",
     "output_type": "stream",
     "text": [
      "Round 592, winrate: 0.0, max_step: 230, reward: 0, example: {'ranks': [{'rank': 1, 'agentID': 1}, {'rank': 2, 'agentID': 0}], 'replayFile': 'replays/548863990.json'}\n",
      "train loss in 1 epoch in 1 batch: -1169.01392\n",
      "val loss in 1 epoch: -747.26821\n",
      "Round 593, winrate: 0.0, max_step: 115, reward: 0, example: {'ranks': [{'rank': 1, 'agentID': 0}, {'rank': 2, 'agentID': 1}], 'replayFile': 'replays/506381372.json'}\n",
      "train loss in 1 epoch in 1 batch: 289.67783\n",
      "val loss in 1 epoch: 63.66300\n",
      "Round 594, winrate: 0.0, max_step: 119, reward: 0, example: {'ranks': [{'rank': 1, 'agentID': 1}, {'rank': 2, 'agentID': 0}], 'replayFile': 'replays/962147311.json'}\n",
      "train loss in 1 epoch in 1 batch: 247.09306\n",
      "val loss in 1 epoch: 122.91373\n",
      "Round 595, winrate: 0.0, max_step: 270, reward: 0, example: {'ranks': [{'rank': 1, 'agentID': 0}, {'rank': 2, 'agentID': 1}], 'replayFile': 'replays/87590795.json'}\n",
      "train loss in 1 epoch in 1 batch: 290.75772\n",
      "val loss in 1 epoch: 88.63070\n"
     ]
    },
    {
     "name": "stderr",
     "output_type": "stream",
     "text": [
      "/Library/Frameworks/Python.framework/Versions/3.7/lib/python3.7/site-packages/IPython/core/interactiveshell.py:3338: DtypeWarning: Columns (26,27,28) have mixed types.Specify dtype option on import or set low_memory=False.\n",
      "  if (await self.run_code(code, result,  async_=asy)):\n"
     ]
    },
    {
     "name": "stdout",
     "output_type": "stream",
     "text": [
      "Round 596, winrate: 0.0, max_step: 154, reward: 0, example: {'ranks': [{'rank': 1, 'agentID': 1}, {'rank': 2, 'agentID': 0}], 'replayFile': 'replays/647626395.json'}\n",
      "train loss in 1 epoch in 1 batch: 187.01886\n",
      "val loss in 1 epoch: 629.00479\n",
      "Round 597, winrate: 0.0, max_step: 315, reward: 0, example: {'ranks': [{'rank': 1, 'agentID': 0}, {'rank': 2, 'agentID': 1}], 'replayFile': 'replays/895872160.json'}\n",
      "train loss in 1 epoch in 1 batch: 212.64984\n",
      "val loss in 1 epoch: -332.72406\n",
      "train loss in 1 epoch in 2 batch: -74.79206\n",
      "val loss in 1 epoch: -338.09233\n",
      "Round 598, winrate: 0.0, max_step: 311, reward: 0, example: {'ranks': [{'rank': 1, 'agentID': 1}, {'rank': 2, 'agentID': 0}], 'replayFile': 'replays/207955727.json'}\n",
      "train loss in 1 epoch in 1 batch: -217.78748\n",
      "val loss in 1 epoch: -361.73671\n",
      "Round 599, winrate: 0.0, max_step: 198, reward: 0, example: {'ranks': [{'rank': 1, 'agentID': 0}, {'rank': 2, 'agentID': 1}], 'replayFile': 'replays/867253489.json'}\n",
      "train loss in 1 epoch in 1 batch: -1665.35693\n",
      "val loss in 1 epoch: -1174.64299\n",
      "Round 600, winrate: 0.0, max_step: 359, reward: 9, example: {'ranks': [{'rank': 1, 'agentID': 1}, {'rank': 2, 'agentID': 0}], 'replayFile': 'replays/139016388.json'}\n",
      "train loss in 1 epoch in 1 batch: 307.59171\n",
      "val loss in 1 epoch: -22.70114\n",
      "train loss in 1 epoch in 2 batch: -65.75617\n",
      "val loss in 1 epoch: -20.59065\n",
      "Round 601, winrate: 0.0, max_step: 150, reward: 0, example: {'ranks': [{'rank': 1, 'agentID': 0}, {'rank': 2, 'agentID': 1}], 'replayFile': 'replays/595312809.json'}\n",
      "train loss in 1 epoch in 1 batch: 617.11365\n",
      "val loss in 1 epoch: 104.99168\n",
      "Round 602, winrate: 0.0, max_step: 158, reward: 0, example: {'ranks': [{'rank': 1, 'agentID': 1}, {'rank': 2, 'agentID': 0}], 'replayFile': 'replays/949360585.json'}\n",
      "train loss in 1 epoch in 1 batch: 392.99567\n",
      "val loss in 1 epoch: 138.04992\n",
      "Round 603, winrate: 0.0, max_step: 359, reward: 4, example: {'ranks': [{'rank': 1, 'agentID': 0}, {'rank': 2, 'agentID': 1}], 'replayFile': 'replays/277032607.json'}\n",
      "train loss in 1 epoch in 1 batch: 495.70026\n",
      "val loss in 1 epoch: -6.46823\n",
      "Round 604, winrate: 0.0, max_step: 277, reward: 0, example: {'ranks': [{'rank': 1, 'agentID': 1}, {'rank': 2, 'agentID': 0}], 'replayFile': 'replays/180367020.json'}\n",
      "train loss in 1 epoch in 1 batch: -184.01740\n",
      "val loss in 1 epoch: -123.28041\n",
      "train loss in 1 epoch in 2 batch: -65.08880\n",
      "val loss in 1 epoch: -123.26677\n",
      "Round 605, winrate: 0.0, max_step: 312, reward: 0, example: {'ranks': [{'rank': 1, 'agentID': 0}, {'rank': 2, 'agentID': 1}], 'replayFile': 'replays/496755850.json'}\n",
      "train loss in 1 epoch in 1 batch: -113.49835\n",
      "val loss in 1 epoch: -574.08184\n",
      "train loss in 1 epoch in 2 batch: -29.55087\n",
      "val loss in 1 epoch: -574.86308\n",
      "train loss in 1 epoch in 3 batch: 225.92403\n",
      "val loss in 1 epoch: -574.88975\n"
     ]
    },
    {
     "name": "stderr",
     "output_type": "stream",
     "text": [
      "/Library/Frameworks/Python.framework/Versions/3.7/lib/python3.7/site-packages/IPython/core/interactiveshell.py:3338: DtypeWarning: Columns (26,27,28) have mixed types.Specify dtype option on import or set low_memory=False.\n",
      "  if (await self.run_code(code, result,  async_=asy)):\n"
     ]
    },
    {
     "name": "stdout",
     "output_type": "stream",
     "text": [
      "Round 606, winrate: 0.0, max_step: 310, reward: 0, example: {'ranks': [{'rank': 1, 'agentID': 1}, {'rank': 2, 'agentID': 0}], 'replayFile': 'replays/345509510.json'}\n",
      "train loss in 1 epoch in 1 batch: 305.28030\n",
      "val loss in 1 epoch: -163.46776\n"
     ]
    },
    {
     "name": "stderr",
     "output_type": "stream",
     "text": [
      "/Library/Frameworks/Python.framework/Versions/3.7/lib/python3.7/site-packages/IPython/core/interactiveshell.py:3338: DtypeWarning: Columns (9,10,11,12,13,14) have mixed types.Specify dtype option on import or set low_memory=False.\n",
      "  if (await self.run_code(code, result,  async_=asy)):\n"
     ]
    },
    {
     "name": "stdout",
     "output_type": "stream",
     "text": [
      "Round 607, winrate: 0.0, max_step: 270, reward: 0, example: {'ranks': [{'rank': 1, 'agentID': 0}, {'rank': 2, 'agentID': 1}], 'replayFile': 'replays/747943270.json'}\n",
      "train loss in 1 epoch in 1 batch: -655.42004\n",
      "val loss in 1 epoch: -341.21716\n",
      "train loss in 1 epoch in 2 batch: -11.80509\n",
      "val loss in 1 epoch: -327.94213\n"
     ]
    },
    {
     "name": "stderr",
     "output_type": "stream",
     "text": [
      "/Library/Frameworks/Python.framework/Versions/3.7/lib/python3.7/site-packages/IPython/core/interactiveshell.py:3338: DtypeWarning: Columns (9,10,11,12,13,14) have mixed types.Specify dtype option on import or set low_memory=False.\n",
      "  if (await self.run_code(code, result,  async_=asy)):\n"
     ]
    },
    {
     "name": "stdout",
     "output_type": "stream",
     "text": [
      "Round 608, winrate: 0.0, max_step: 270, reward: 0, example: {'ranks': [{'rank': 1, 'agentID': 1}, {'rank': 2, 'agentID': 0}], 'replayFile': 'replays/903099021.json'}\n",
      "train loss in 1 epoch in 1 batch: 259.16006\n",
      "val loss in 1 epoch: -327.76852\n"
     ]
    },
    {
     "name": "stderr",
     "output_type": "stream",
     "text": [
      "/Library/Frameworks/Python.framework/Versions/3.7/lib/python3.7/site-packages/IPython/core/interactiveshell.py:3338: DtypeWarning: Columns (9,10,11,12,13,14) have mixed types.Specify dtype option on import or set low_memory=False.\n",
      "  if (await self.run_code(code, result,  async_=asy)):\n"
     ]
    },
    {
     "name": "stdout",
     "output_type": "stream",
     "text": [
      "Round 609, winrate: 0.0, max_step: 359, reward: 1, example: {'ranks': [{'rank': 1, 'agentID': 0}, {'rank': 2, 'agentID': 1}], 'replayFile': 'replays/823883549.json'}\n",
      "train loss in 1 epoch in 1 batch: 217.83253\n",
      "val loss in 1 epoch: -460.31643\n",
      "train loss in 1 epoch in 2 batch: -986.37573\n",
      "val loss in 1 epoch: -464.84851\n",
      "train loss in 1 epoch in 3 batch: -24.82981\n",
      "val loss in 1 epoch: -462.33473\n"
     ]
    },
    {
     "name": "stderr",
     "output_type": "stream",
     "text": [
      "/Library/Frameworks/Python.framework/Versions/3.7/lib/python3.7/site-packages/IPython/core/interactiveshell.py:3338: DtypeWarning: Columns (9,10,11,12,13,14) have mixed types.Specify dtype option on import or set low_memory=False.\n",
      "  if (await self.run_code(code, result,  async_=asy)):\n"
     ]
    },
    {
     "name": "stdout",
     "output_type": "stream",
     "text": [
      "Round 610, winrate: 0.0, max_step: 359, reward: 0, example: {'ranks': [{'rank': 1, 'agentID': 1}, {'rank': 2, 'agentID': 0}], 'replayFile': 'replays/380828244.json'}\n",
      "train loss in 1 epoch in 1 batch: 512.57922\n",
      "val loss in 1 epoch: -203.16424\n",
      "train loss in 1 epoch in 2 batch: -1300.77075\n",
      "val loss in 1 epoch: -216.50474\n",
      "train loss in 1 epoch in 3 batch: -2120.36206\n",
      "val loss in 1 epoch: -218.00224\n",
      "train loss in 1 epoch in 4 batch: 177.81682\n",
      "val loss in 1 epoch: -215.18894\n",
      "train loss in 1 epoch in 5 batch: -7.45139\n",
      "val loss in 1 epoch: -212.57440\n",
      "Round 611, winrate: 0.0, max_step: 350, reward: 0, example: {'ranks': [{'rank': 1, 'agentID': 0}, {'rank': 2, 'agentID': 1}], 'replayFile': 'replays/241843726.json'}\n",
      "train loss in 1 epoch in 1 batch: -2853.04517\n",
      "val loss in 1 epoch: -369.70402\n",
      "Round 612, winrate: 0.0, max_step: 191, reward: 0, example: {'ranks': [{'rank': 1, 'agentID': 1}, {'rank': 2, 'agentID': 0}], 'replayFile': 'replays/616205957.json'}\n",
      "train loss in 1 epoch in 1 batch: -67.93416\n",
      "val loss in 1 epoch: -312.78059\n",
      "Round 613, winrate: 0.0, max_step: 230, reward: 0, example: {'ranks': [{'rank': 1, 'agentID': 0}, {'rank': 2, 'agentID': 1}], 'replayFile': 'replays/163189602.json'}\n",
      "train loss in 1 epoch in 1 batch: 454.68839\n",
      "val loss in 1 epoch: -407.49958\n",
      "train loss in 1 epoch in 2 batch: 0.77734\n",
      "val loss in 1 epoch: -389.67358\n",
      "Round 614, winrate: 0.0, max_step: 351, reward: 0, example: {'ranks': [{'rank': 1, 'agentID': 1}, {'rank': 2, 'agentID': 0}], 'replayFile': 'replays/392759405.json'}\n",
      "train loss in 1 epoch in 1 batch: -153.00325\n",
      "val loss in 1 epoch: -375.16603\n",
      "train loss in 1 epoch in 2 batch: -43.02895\n",
      "val loss in 1 epoch: -375.57375\n",
      "train loss in 1 epoch in 3 batch: -2387.21899\n",
      "val loss in 1 epoch: -373.42440\n",
      "Round 615, winrate: 0.0, max_step: 270, reward: 0, example: {'ranks': [{'rank': 1, 'agentID': 0}, {'rank': 2, 'agentID': 1}], 'replayFile': 'replays/871283890.json'}\n",
      "train loss in 1 epoch in 1 batch: 337.74619\n",
      "val loss in 1 epoch: 67.67750\n",
      "Round 616, winrate: 0.0, max_step: 150, reward: 0, example: {'ranks': [{'rank': 1, 'agentID': 1}, {'rank': 2, 'agentID': 0}], 'replayFile': 'replays/90985018.json'}\n",
      "train loss in 1 epoch in 1 batch: -956.39294\n",
      "val loss in 1 epoch: -449.06734\n"
     ]
    },
    {
     "name": "stderr",
     "output_type": "stream",
     "text": [
      "/Library/Frameworks/Python.framework/Versions/3.7/lib/python3.7/site-packages/IPython/core/interactiveshell.py:3338: DtypeWarning: Columns (26,27,28) have mixed types.Specify dtype option on import or set low_memory=False.\n",
      "  if (await self.run_code(code, result,  async_=asy)):\n"
     ]
    },
    {
     "name": "stdout",
     "output_type": "stream",
     "text": [
      "Round 617, winrate: 0.0, max_step: 239, reward: 0, example: {'ranks': [{'rank': 1, 'agentID': 0}, {'rank': 2, 'agentID': 1}], 'replayFile': 'replays/3264686.json'}\n",
      "train loss in 1 epoch in 1 batch: 288.36377\n",
      "val loss in 1 epoch: -388.03643\n"
     ]
    },
    {
     "name": "stderr",
     "output_type": "stream",
     "text": [
      "/Library/Frameworks/Python.framework/Versions/3.7/lib/python3.7/site-packages/IPython/core/interactiveshell.py:3338: DtypeWarning: Columns (9,10,11,12,13,14,26,27,28) have mixed types.Specify dtype option on import or set low_memory=False.\n",
      "  if (await self.run_code(code, result,  async_=asy)):\n"
     ]
    },
    {
     "name": "stdout",
     "output_type": "stream",
     "text": [
      "Round 618, winrate: 0.0, max_step: 199, reward: 0, example: {'ranks': [{'rank': 1, 'agentID': 1}, {'rank': 2, 'agentID': 0}], 'replayFile': 'replays/192513567.json'}\n",
      "train loss in 1 epoch in 1 batch: 944.55176\n",
      "val loss in 1 epoch: -361.29231\n",
      "Round 619, winrate: 0.0, max_step: 359, reward: 16, example: {'ranks': [{'rank': 1, 'agentID': 0}, {'rank': 2, 'agentID': 1}], 'replayFile': 'replays/884164348.json'}\n",
      "train loss in 1 epoch in 1 batch: -838.00427\n",
      "val loss in 1 epoch: -357.08308\n",
      "train loss in 1 epoch in 2 batch: 40.64564\n",
      "val loss in 1 epoch: -368.47451\n",
      "train loss in 1 epoch in 3 batch: 113.17244\n",
      "val loss in 1 epoch: -368.49784\n"
     ]
    },
    {
     "name": "stderr",
     "output_type": "stream",
     "text": [
      "/Library/Frameworks/Python.framework/Versions/3.7/lib/python3.7/site-packages/IPython/core/interactiveshell.py:3338: DtypeWarning: Columns (9,10,11,12,13,14) have mixed types.Specify dtype option on import or set low_memory=False.\n",
      "  if (await self.run_code(code, result,  async_=asy)):\n"
     ]
    },
    {
     "name": "stdout",
     "output_type": "stream",
     "text": [
      "Round 620, winrate: 0.0, max_step: 230, reward: 0, example: {'ranks': [{'rank': 1, 'agentID': 1}, {'rank': 2, 'agentID': 0}], 'replayFile': 'replays/242583715.json'}\n",
      "train loss in 1 epoch in 1 batch: 73.30986\n",
      "val loss in 1 epoch: 1.66815\n",
      "Round 621, winrate: 0.0, max_step: 152, reward: 0, example: {'ranks': [{'rank': 1, 'agentID': 0}, {'rank': 2, 'agentID': 1}], 'replayFile': 'replays/178274211.json'}\n",
      "train loss in 1 epoch in 1 batch: 1142.19861\n",
      "val loss in 1 epoch: 160.10362\n"
     ]
    },
    {
     "name": "stderr",
     "output_type": "stream",
     "text": [
      "/Library/Frameworks/Python.framework/Versions/3.7/lib/python3.7/site-packages/IPython/core/interactiveshell.py:3338: DtypeWarning: Columns (26,27,28) have mixed types.Specify dtype option on import or set low_memory=False.\n",
      "  if (await self.run_code(code, result,  async_=asy)):\n"
     ]
    },
    {
     "name": "stdout",
     "output_type": "stream",
     "text": [
      "Round 622, winrate: 0.0, max_step: 194, reward: 0, example: {'ranks': [{'rank': 1, 'agentID': 1}, {'rank': 2, 'agentID': 0}], 'replayFile': 'replays/690014903.json'}\n",
      "train loss in 1 epoch in 1 batch: 749.98218\n",
      "val loss in 1 epoch: -524.79771\n",
      "Round 623, winrate: 0.0, max_step: 359, reward: 3, example: {'ranks': [{'rank': 1, 'agentID': 0}, {'rank': 2, 'agentID': 1}], 'replayFile': 'replays/875016726.json'}\n",
      "train loss in 1 epoch in 1 batch: -1031.05225\n",
      "val loss in 1 epoch: -874.19831\n",
      "train loss in 1 epoch in 2 batch: 239.25305\n",
      "val loss in 1 epoch: -888.42352\n"
     ]
    },
    {
     "name": "stderr",
     "output_type": "stream",
     "text": [
      "/Library/Frameworks/Python.framework/Versions/3.7/lib/python3.7/site-packages/IPython/core/interactiveshell.py:3338: DtypeWarning: Columns (26,27,28) have mixed types.Specify dtype option on import or set low_memory=False.\n",
      "  if (await self.run_code(code, result,  async_=asy)):\n"
     ]
    },
    {
     "name": "stdout",
     "output_type": "stream",
     "text": [
      "Round 624, winrate: 0.0, max_step: 359, reward: 1, example: {'ranks': [{'rank': 1, 'agentID': 1}, {'rank': 2, 'agentID': 0}], 'replayFile': 'replays/452090300.json'}\n",
      "train loss in 1 epoch in 1 batch: 629.05304\n",
      "val loss in 1 epoch: -182.37998\n",
      "train loss in 1 epoch in 2 batch: -9.39334\n",
      "val loss in 1 epoch: -170.31727\n",
      "Round 625, winrate: 0.0, max_step: 312, reward: 0, example: {'ranks': [{'rank': 1, 'agentID': 0}, {'rank': 2, 'agentID': 1}], 'replayFile': 'replays/53784371.json'}\n",
      "train loss in 1 epoch in 1 batch: 170.42647\n",
      "val loss in 1 epoch: -356.56254\n",
      "Round 626, winrate: 0.0, max_step: 359, reward: 30, example: {'ranks': [{'rank': 1, 'agentID': 1}, {'rank': 2, 'agentID': 0}], 'replayFile': 'replays/58829777.json'}\n",
      "train loss in 1 epoch in 1 batch: 150.41827\n",
      "val loss in 1 epoch: -393.17174\n",
      "train loss in 1 epoch in 2 batch: 147.88171\n",
      "val loss in 1 epoch: -403.28964\n",
      "train loss in 1 epoch in 3 batch: 18.65964\n",
      "val loss in 1 epoch: -404.37245\n"
     ]
    },
    {
     "name": "stderr",
     "output_type": "stream",
     "text": [
      "/Library/Frameworks/Python.framework/Versions/3.7/lib/python3.7/site-packages/IPython/core/interactiveshell.py:3338: DtypeWarning: Columns (17,18,19,20,21,22) have mixed types.Specify dtype option on import or set low_memory=False.\n",
      "  if (await self.run_code(code, result,  async_=asy)):\n"
     ]
    },
    {
     "name": "stdout",
     "output_type": "stream",
     "text": [
      "Round 627, winrate: 0.0, max_step: 156, reward: 0, example: {'ranks': [{'rank': 1, 'agentID': 0}, {'rank': 2, 'agentID': 1}], 'replayFile': 'replays/913463700.json'}\n",
      "train loss in 1 epoch in 1 batch: -863.06750\n",
      "val loss in 1 epoch: -640.60254\n",
      "Round 628, winrate: 0.0, max_step: 190, reward: 0, example: {'ranks': [{'rank': 1, 'agentID': 1}, {'rank': 2, 'agentID': 0}], 'replayFile': 'replays/326392043.json'}\n",
      "train loss in 1 epoch in 1 batch: 197.53008\n",
      "val loss in 1 epoch: 80.00874\n"
     ]
    },
    {
     "name": "stderr",
     "output_type": "stream",
     "text": [
      "/Library/Frameworks/Python.framework/Versions/3.7/lib/python3.7/site-packages/IPython/core/interactiveshell.py:3338: DtypeWarning: Columns (26,27,28) have mixed types.Specify dtype option on import or set low_memory=False.\n",
      "  if (await self.run_code(code, result,  async_=asy)):\n"
     ]
    },
    {
     "name": "stdout",
     "output_type": "stream",
     "text": [
      "Round 629, winrate: 0.0, max_step: 190, reward: 0, example: {'ranks': [{'rank': 1, 'agentID': 0}, {'rank': 2, 'agentID': 1}], 'replayFile': 'replays/854446421.json'}\n",
      "train loss in 1 epoch in 1 batch: 339.62854\n",
      "val loss in 1 epoch: -136.21115\n"
     ]
    },
    {
     "name": "stderr",
     "output_type": "stream",
     "text": [
      "/Library/Frameworks/Python.framework/Versions/3.7/lib/python3.7/site-packages/IPython/core/interactiveshell.py:3338: DtypeWarning: Columns (9,10,11,12,13,14,26,27,28) have mixed types.Specify dtype option on import or set low_memory=False.\n",
      "  if (await self.run_code(code, result,  async_=asy)):\n"
     ]
    },
    {
     "name": "stdout",
     "output_type": "stream",
     "text": [
      "Round 630, winrate: 0.0, max_step: 277, reward: 0, example: {'ranks': [{'rank': 1, 'agentID': 1}, {'rank': 2, 'agentID': 0}], 'replayFile': 'replays/230216792.json'}\n",
      "train loss in 1 epoch in 1 batch: 328.86813\n",
      "val loss in 1 epoch: -165.66997\n"
     ]
    },
    {
     "name": "stderr",
     "output_type": "stream",
     "text": [
      "/Library/Frameworks/Python.framework/Versions/3.7/lib/python3.7/site-packages/IPython/core/interactiveshell.py:3338: DtypeWarning: Columns (9,10,11,12,13,14,26,27,28) have mixed types.Specify dtype option on import or set low_memory=False.\n",
      "  if (await self.run_code(code, result,  async_=asy)):\n"
     ]
    },
    {
     "name": "stdout",
     "output_type": "stream",
     "text": [
      "Round 631, winrate: 0.0, max_step: 359, reward: 1, example: {'ranks': [{'rank': 1, 'agentID': 0}, {'rank': 2, 'agentID': 1}], 'replayFile': 'replays/536616985.json'}\n",
      "train loss in 1 epoch in 1 batch: 106.92581\n",
      "val loss in 1 epoch: -161.34508\n",
      "train loss in 1 epoch in 2 batch: 3.11719\n",
      "val loss in 1 epoch: -162.30573\n"
     ]
    },
    {
     "name": "stderr",
     "output_type": "stream",
     "text": [
      "/Library/Frameworks/Python.framework/Versions/3.7/lib/python3.7/site-packages/IPython/core/interactiveshell.py:3338: DtypeWarning: Columns (9,10,11,12,13,14) have mixed types.Specify dtype option on import or set low_memory=False.\n",
      "  if (await self.run_code(code, result,  async_=asy)):\n"
     ]
    },
    {
     "name": "stdout",
     "output_type": "stream",
     "text": [
      "Round 632, winrate: 0.0, max_step: 359, reward: 1, example: {'ranks': [{'rank': 1, 'agentID': 1}, {'rank': 2, 'agentID': 0}], 'replayFile': 'replays/350265706.json'}\n",
      "train loss in 1 epoch in 1 batch: 398.31335\n",
      "val loss in 1 epoch: -59.60318\n"
     ]
    },
    {
     "name": "stderr",
     "output_type": "stream",
     "text": [
      "/Library/Frameworks/Python.framework/Versions/3.7/lib/python3.7/site-packages/IPython/core/interactiveshell.py:3338: DtypeWarning: Columns (26,27,28) have mixed types.Specify dtype option on import or set low_memory=False.\n",
      "  if (await self.run_code(code, result,  async_=asy)):\n"
     ]
    },
    {
     "name": "stdout",
     "output_type": "stream",
     "text": [
      "Round 633, winrate: 0.0, max_step: 194, reward: 0, example: {'ranks': [{'rank': 1, 'agentID': 0}, {'rank': 2, 'agentID': 1}], 'replayFile': 'replays/878101368.json'}\n",
      "train loss in 1 epoch in 1 batch: 223.96086\n",
      "val loss in 1 epoch: 1.69141\n"
     ]
    },
    {
     "name": "stderr",
     "output_type": "stream",
     "text": [
      "/Library/Frameworks/Python.framework/Versions/3.7/lib/python3.7/site-packages/IPython/core/interactiveshell.py:3338: DtypeWarning: Columns (9,10,11,12,13,14) have mixed types.Specify dtype option on import or set low_memory=False.\n",
      "  if (await self.run_code(code, result,  async_=asy)):\n"
     ]
    },
    {
     "name": "stdout",
     "output_type": "stream",
     "text": [
      "Round 634, winrate: 0.0, max_step: 155, reward: 0, example: {'ranks': [{'rank': 1, 'agentID': 1}, {'rank': 2, 'agentID': 0}], 'replayFile': 'replays/583350560.json'}\n",
      "train loss in 1 epoch in 1 batch: 279.43851\n",
      "val loss in 1 epoch: -790.62368\n",
      "Round 635, winrate: 0.0, max_step: 233, reward: 0, example: {'ranks': [{'rank': 1, 'agentID': 0}, {'rank': 2, 'agentID': 1}], 'replayFile': 'replays/475613272.json'}\n",
      "train loss in 1 epoch in 1 batch: -288.42990\n",
      "val loss in 1 epoch: -84.54897\n"
     ]
    },
    {
     "name": "stderr",
     "output_type": "stream",
     "text": [
      "/Library/Frameworks/Python.framework/Versions/3.7/lib/python3.7/site-packages/IPython/core/interactiveshell.py:3338: DtypeWarning: Columns (26,27,28) have mixed types.Specify dtype option on import or set low_memory=False.\n",
      "  if (await self.run_code(code, result,  async_=asy)):\n"
     ]
    },
    {
     "name": "stdout",
     "output_type": "stream",
     "text": [
      "Round 636, winrate: 0.0, max_step: 359, reward: 2, example: {'ranks': [{'rank': 1, 'agentID': 1}, {'rank': 2, 'agentID': 0}], 'replayFile': 'replays/840565948.json'}\n",
      "train loss in 1 epoch in 1 batch: 386.53946\n",
      "val loss in 1 epoch: -387.39975\n",
      "train loss in 1 epoch in 2 batch: 70.20407\n",
      "val loss in 1 epoch: -385.50882\n",
      "train loss in 1 epoch in 3 batch: -2583.67310\n",
      "val loss in 1 epoch: -382.36630\n",
      "Round 637, winrate: 0.0, max_step: 351, reward: 0, example: {'ranks': [{'rank': 1, 'agentID': 0}, {'rank': 2, 'agentID': 1}], 'replayFile': 'replays/860919779.json'}\n",
      "train loss in 1 epoch in 1 batch: 424.19171\n",
      "val loss in 1 epoch: -881.20848\n"
     ]
    },
    {
     "name": "stderr",
     "output_type": "stream",
     "text": [
      "/Library/Frameworks/Python.framework/Versions/3.7/lib/python3.7/site-packages/IPython/core/interactiveshell.py:3338: DtypeWarning: Columns (26,27,28) have mixed types.Specify dtype option on import or set low_memory=False.\n",
      "  if (await self.run_code(code, result,  async_=asy)):\n"
     ]
    },
    {
     "name": "stdout",
     "output_type": "stream",
     "text": [
      "Round 638, winrate: 0.0, max_step: 233, reward: 0, example: {'ranks': [{'rank': 1, 'agentID': 1}, {'rank': 2, 'agentID': 0}], 'replayFile': 'replays/820980108.json'}\n",
      "train loss in 1 epoch in 1 batch: 427.71118\n",
      "val loss in 1 epoch: -187.16805\n",
      "Round 639, winrate: 0.0, max_step: 30, reward: 0, example: {'ranks': [{'rank': 1, 'agentID': 0}, {'rank': 2, 'agentID': 1}], 'replayFile': 'replays/706882780.json'}\n",
      "train loss in 1 epoch in 1 batch: 231.77405\n",
      "val loss in 1 epoch: 93.60442\n",
      "Round 640, winrate: 0.0, max_step: 279, reward: 0, example: {'ranks': [{'rank': 1, 'agentID': 1}, {'rank': 2, 'agentID': 0}], 'replayFile': 'replays/145049628.json'}\n",
      "train loss in 1 epoch in 1 batch: 162.58940\n",
      "val loss in 1 epoch: -244.01136\n",
      "Round 641, winrate: 0.0, max_step: 270, reward: 0, example: {'ranks': [{'rank': 1, 'agentID': 0}, {'rank': 2, 'agentID': 1}], 'replayFile': 'replays/744233467.json'}\n",
      "train loss in 1 epoch in 1 batch: 81.15877\n",
      "val loss in 1 epoch: -265.16287\n",
      "train loss in 1 epoch in 2 batch: 41.95792\n",
      "val loss in 1 epoch: -265.56686\n",
      "Round 642, winrate: 0.0, max_step: 350, reward: 0, example: {'ranks': [{'rank': 1, 'agentID': 1}, {'rank': 2, 'agentID': 0}], 'replayFile': 'replays/155098439.json'}\n",
      "train loss in 1 epoch in 1 batch: -583.41699\n",
      "val loss in 1 epoch: 121.69382\n",
      "Round 643, winrate: 0.0, max_step: 310, reward: 0, example: {'ranks': [{'rank': 1, 'agentID': 0}, {'rank': 2, 'agentID': 1}], 'replayFile': 'replays/242006060.json'}\n",
      "train loss in 1 epoch in 1 batch: 94.79318\n",
      "val loss in 1 epoch: -618.57951\n",
      "Round 644, winrate: 0.0, max_step: 271, reward: 0, example: {'ranks': [{'rank': 1, 'agentID': 1}, {'rank': 2, 'agentID': 0}], 'replayFile': 'replays/239371469.json'}\n",
      "train loss in 1 epoch in 1 batch: 123.94277\n",
      "val loss in 1 epoch: -105.77246\n",
      "train loss in 1 epoch in 2 batch: -32.53343\n",
      "val loss in 1 epoch: -104.35501\n",
      "Round 645, winrate: 0.0, max_step: 192, reward: 0, example: {'ranks': [{'rank': 1, 'agentID': 0}, {'rank': 2, 'agentID': 1}], 'replayFile': 'replays/261725237.json'}\n",
      "train loss in 1 epoch in 1 batch: 110.86185\n",
      "val loss in 1 epoch: -478.63971\n",
      "Round 646, winrate: 0.0, max_step: 359, reward: 4, example: {'ranks': [{'rank': 1, 'agentID': 1}, {'rank': 2, 'agentID': 0}], 'replayFile': 'replays/943072595.json'}\n",
      "train loss in 1 epoch in 1 batch: 359.74234\n",
      "val loss in 1 epoch: -310.86963\n",
      "train loss in 1 epoch in 2 batch: -79.85481\n",
      "val loss in 1 epoch: -308.59115\n",
      "train loss in 1 epoch in 3 batch: -117.10320\n",
      "val loss in 1 epoch: -306.60217\n",
      "Round 647, winrate: 0.0, max_step: 116, reward: 0, example: {'ranks': [{'rank': 1, 'agentID': 0}, {'rank': 2, 'agentID': 1}], 'replayFile': 'replays/757025131.json'}\n",
      "train loss in 1 epoch in 1 batch: 74.71075\n",
      "val loss in 1 epoch: 59.88941\n"
     ]
    },
    {
     "name": "stderr",
     "output_type": "stream",
     "text": [
      "/Library/Frameworks/Python.framework/Versions/3.7/lib/python3.7/site-packages/IPython/core/interactiveshell.py:3338: DtypeWarning: Columns (26,27,28) have mixed types.Specify dtype option on import or set low_memory=False.\n",
      "  if (await self.run_code(code, result,  async_=asy)):\n"
     ]
    },
    {
     "name": "stdout",
     "output_type": "stream",
     "text": [
      "Round 648, winrate: 1.0, max_step: 159, reward: 0, example: {'ranks': [{'rank': 1, 'agentID': 0}, {'rank': 2, 'agentID': 1}], 'replayFile': 'replays/641928918.json'}\n",
      "train loss in 1 epoch in 1 batch: -108.77982\n",
      "val loss in 1 epoch: -324.12580\n",
      "Round 649, winrate: 0.0, max_step: 150, reward: 0, example: {'ranks': [{'rank': 1, 'agentID': 0}, {'rank': 2, 'agentID': 1}], 'replayFile': 'replays/249583918.json'}\n",
      "train loss in 1 epoch in 1 batch: 231.65419\n",
      "val loss in 1 epoch: 87.72397\n",
      "Round 650, winrate: 0.0, max_step: 278, reward: 0, example: {'ranks': [{'rank': 1, 'agentID': 1}, {'rank': 2, 'agentID': 0}], 'replayFile': 'replays/558083164.json'}\n",
      "train loss in 1 epoch in 1 batch: -2154.53345\n",
      "val loss in 1 epoch: -189.99353\n",
      "Round 651, winrate: 0.0, max_step: 354, reward: 0, example: {'ranks': [{'rank': 1, 'agentID': 0}, {'rank': 2, 'agentID': 1}], 'replayFile': 'replays/319318239.json'}\n",
      "train loss in 1 epoch in 1 batch: -38.07872\n",
      "val loss in 1 epoch: -498.20043\n",
      "Round 652, winrate: 0.0, max_step: 152, reward: 0, example: {'ranks': [{'rank': 1, 'agentID': 1}, {'rank': 2, 'agentID': 0}], 'replayFile': 'replays/739991871.json'}\n",
      "train loss in 1 epoch in 1 batch: -1370.39258\n",
      "val loss in 1 epoch: -135.40815\n",
      "Round 653, winrate: 0.0, max_step: 118, reward: 0, example: {'ranks': [{'rank': 1, 'agentID': 0}, {'rank': 2, 'agentID': 1}], 'replayFile': 'replays/623134486.json'}\n",
      "train loss in 1 epoch in 1 batch: 679.14557\n",
      "val loss in 1 epoch: 112.02991\n",
      "Round 654, winrate: 0.0, max_step: 359, reward: 9, example: {'ranks': [{'rank': 1, 'agentID': 1}, {'rank': 2, 'agentID': 0}], 'replayFile': 'replays/635521976.json'}\n",
      "train loss in 1 epoch in 1 batch: -615.12665\n",
      "val loss in 1 epoch: -543.01563\n",
      "train loss in 1 epoch in 2 batch: 30.56034\n",
      "val loss in 1 epoch: -541.20143\n",
      "Round 655, winrate: 0.0, max_step: 115, reward: 0, example: {'ranks': [{'rank': 1, 'agentID': 0}, {'rank': 2, 'agentID': 1}], 'replayFile': 'replays/859364263.json'}\n",
      "train loss in 1 epoch in 1 batch: 667.75629\n",
      "val loss in 1 epoch: -1419.07112\n"
     ]
    },
    {
     "name": "stderr",
     "output_type": "stream",
     "text": [
      "/Library/Frameworks/Python.framework/Versions/3.7/lib/python3.7/site-packages/IPython/core/interactiveshell.py:3338: DtypeWarning: Columns (26,27,28) have mixed types.Specify dtype option on import or set low_memory=False.\n",
      "  if (await self.run_code(code, result,  async_=asy)):\n"
     ]
    },
    {
     "name": "stdout",
     "output_type": "stream",
     "text": [
      "Round 656, winrate: 0.0, max_step: 150, reward: 0, example: {'ranks': [{'rank': 1, 'agentID': 1}, {'rank': 2, 'agentID': 0}], 'replayFile': 'replays/255132843.json'}\n",
      "train loss in 1 epoch in 1 batch: -2073.84595\n",
      "val loss in 1 epoch: -384.61723\n"
     ]
    },
    {
     "name": "stderr",
     "output_type": "stream",
     "text": [
      "/Library/Frameworks/Python.framework/Versions/3.7/lib/python3.7/site-packages/IPython/core/interactiveshell.py:3338: DtypeWarning: Columns (9,10,11,12,13,14) have mixed types.Specify dtype option on import or set low_memory=False.\n",
      "  if (await self.run_code(code, result,  async_=asy)):\n"
     ]
    },
    {
     "name": "stdout",
     "output_type": "stream",
     "text": [
      "Round 657, winrate: 0.0, max_step: 359, reward: 1, example: {'ranks': [{'rank': 1, 'agentID': 0}, {'rank': 2, 'agentID': 1}], 'replayFile': 'replays/559402794.json'}\n",
      "train loss in 1 epoch in 1 batch: -77.09784\n",
      "val loss in 1 epoch: 28.96879\n",
      "train loss in 1 epoch in 2 batch: 58.17724\n",
      "val loss in 1 epoch: 21.67445\n"
     ]
    },
    {
     "name": "stderr",
     "output_type": "stream",
     "text": [
      "/Library/Frameworks/Python.framework/Versions/3.7/lib/python3.7/site-packages/IPython/core/interactiveshell.py:3338: DtypeWarning: Columns (26,27,28) have mixed types.Specify dtype option on import or set low_memory=False.\n",
      "  if (await self.run_code(code, result,  async_=asy)):\n"
     ]
    },
    {
     "name": "stdout",
     "output_type": "stream",
     "text": [
      "Round 658, winrate: 0.0, max_step: 198, reward: 0, example: {'ranks': [{'rank': 1, 'agentID': 1}, {'rank': 2, 'agentID': 0}], 'replayFile': 'replays/672069062.json'}\n",
      "train loss in 1 epoch in 1 batch: 454.89893\n",
      "val loss in 1 epoch: 118.59660\n",
      "Round 659, winrate: 0.0, max_step: 190, reward: 0, example: {'ranks': [{'rank': 1, 'agentID': 0}, {'rank': 2, 'agentID': 1}], 'replayFile': 'replays/266411815.json'}\n",
      "train loss in 1 epoch in 1 batch: 248.68655\n",
      "val loss in 1 epoch: -68.35709\n",
      "Round 660, winrate: 0.0, max_step: 356, reward: 0, example: {'ranks': [{'rank': 1, 'agentID': 1}, {'rank': 2, 'agentID': 0}], 'replayFile': 'replays/838218517.json'}\n",
      "train loss in 1 epoch in 1 batch: 248.96854\n",
      "val loss in 1 epoch: -1041.38328\n",
      "train loss in 1 epoch in 2 batch: 67.45953\n",
      "val loss in 1 epoch: -1027.35433\n",
      "Round 661, winrate: 0.0, max_step: 191, reward: 0, example: {'ranks': [{'rank': 1, 'agentID': 0}, {'rank': 2, 'agentID': 1}], 'replayFile': 'replays/310462940.json'}\n",
      "train loss in 1 epoch in 1 batch: 185.53741\n",
      "val loss in 1 epoch: -242.49801\n",
      "train loss in 1 epoch in 2 batch: -59.30138\n",
      "val loss in 1 epoch: -245.65563\n",
      "Round 662, winrate: 0.0, max_step: 274, reward: 0, example: {'ranks': [{'rank': 1, 'agentID': 1}, {'rank': 2, 'agentID': 0}], 'replayFile': 'replays/151894847.json'}\n",
      "train loss in 1 epoch in 1 batch: 393.32578\n",
      "val loss in 1 epoch: -297.65493\n",
      "train loss in 1 epoch in 2 batch: 249.66235\n",
      "val loss in 1 epoch: -294.39266\n",
      "train loss in 1 epoch in 3 batch: 91.80933\n",
      "val loss in 1 epoch: -290.19902\n",
      "Round 663, winrate: 0.0, max_step: 76, reward: 0, example: {'ranks': [{'rank': 1, 'agentID': 0}, {'rank': 2, 'agentID': 1}], 'replayFile': 'replays/24470638.json'}\n",
      "train loss in 1 epoch in 1 batch: -973.10522\n",
      "val loss in 1 epoch: -1853.32249\n",
      "Round 664, winrate: 0.0, max_step: 234, reward: 0, example: {'ranks': [{'rank': 1, 'agentID': 1}, {'rank': 2, 'agentID': 0}], 'replayFile': 'replays/294591913.json'}\n",
      "train loss in 1 epoch in 1 batch: 595.03998\n",
      "val loss in 1 epoch: -929.84613\n",
      "Round 665, winrate: 0.0, max_step: 350, reward: 0, example: {'ranks': [{'rank': 1, 'agentID': 0}, {'rank': 2, 'agentID': 1}], 'replayFile': 'replays/253581545.json'}\n",
      "train loss in 1 epoch in 1 batch: 34.62575\n",
      "val loss in 1 epoch: -80.96219\n",
      "Round 666, winrate: 0.0, max_step: 270, reward: 0, example: {'ranks': [{'rank': 1, 'agentID': 1}, {'rank': 2, 'agentID': 0}], 'replayFile': 'replays/860870892.json'}\n",
      "train loss in 1 epoch in 1 batch: -16.55002\n",
      "val loss in 1 epoch: -139.29795\n",
      "Round 667, winrate: 0.0, max_step: 359, reward: 6, example: {'ranks': [{'rank': 1, 'agentID': 0}, {'rank': 2, 'agentID': 1}], 'replayFile': 'replays/361961871.json'}\n",
      "train loss in 1 epoch in 1 batch: 109.93401\n",
      "val loss in 1 epoch: -141.18546\n",
      "train loss in 1 epoch in 2 batch: 101.37906\n",
      "val loss in 1 epoch: -145.97406\n",
      "Round 668, winrate: 1.0, max_step: 119, reward: 0, example: {'ranks': [{'rank': 1, 'agentID': 0}, {'rank': 2, 'agentID': 1}], 'replayFile': 'replays/999712579.json'}\n",
      "train loss in 1 epoch in 1 batch: 855.26672\n",
      "val loss in 1 epoch: 93.17268\n",
      "Round 669, winrate: 0.0, max_step: 70, reward: 0, example: {'ranks': [{'rank': 1, 'agentID': 0}, {'rank': 2, 'agentID': 1}], 'replayFile': 'replays/401135035.json'}\n",
      "train loss in 1 epoch in 1 batch: 604.62024\n",
      "val loss in 1 epoch: 35.49057\n",
      "Round 670, winrate: 0.0, max_step: 359, reward: 1, example: {'ranks': [{'rank': 1, 'agentID': 1}, {'rank': 2, 'agentID': 0}], 'replayFile': 'replays/244051806.json'}\n",
      "train loss in 1 epoch in 1 batch: 363.25732\n",
      "val loss in 1 epoch: -392.67128\n"
     ]
    },
    {
     "name": "stderr",
     "output_type": "stream",
     "text": [
      "/Library/Frameworks/Python.framework/Versions/3.7/lib/python3.7/site-packages/IPython/core/interactiveshell.py:3338: DtypeWarning: Columns (17,18,19,20,21,22) have mixed types.Specify dtype option on import or set low_memory=False.\n",
      "  if (await self.run_code(code, result,  async_=asy)):\n"
     ]
    },
    {
     "name": "stdout",
     "output_type": "stream",
     "text": [
      "Round 671, winrate: 1.0, max_step: 359, reward: 64, example: {'ranks': [{'rank': 1, 'agentID': 1}, {'rank': 2, 'agentID': 0}], 'replayFile': 'replays/879890721.json'}\n",
      "train loss in 1 epoch in 1 batch: 0.02884\n",
      "val loss in 1 epoch: 56.50146\n",
      "train loss in 1 epoch in 2 batch: 126.23271\n",
      "val loss in 1 epoch: 46.13435\n"
     ]
    },
    {
     "name": "stderr",
     "output_type": "stream",
     "text": [
      "/Library/Frameworks/Python.framework/Versions/3.7/lib/python3.7/site-packages/IPython/core/interactiveshell.py:3338: DtypeWarning: Columns (9,10,11,12,13,14) have mixed types.Specify dtype option on import or set low_memory=False.\n",
      "  if (await self.run_code(code, result,  async_=asy)):\n"
     ]
    },
    {
     "name": "stdout",
     "output_type": "stream",
     "text": [
      "Round 672, winrate: 0.0, max_step: 231, reward: 0, example: {'ranks': [{'rank': 1, 'agentID': 1}, {'rank': 2, 'agentID': 0}], 'replayFile': 'replays/343294743.json'}\n",
      "train loss in 1 epoch in 1 batch: 475.47092\n",
      "val loss in 1 epoch: -327.88345\n",
      "train loss in 1 epoch in 2 batch: 12.46109\n",
      "val loss in 1 epoch: -323.46066\n"
     ]
    },
    {
     "name": "stderr",
     "output_type": "stream",
     "text": [
      "/Library/Frameworks/Python.framework/Versions/3.7/lib/python3.7/site-packages/IPython/core/interactiveshell.py:3338: DtypeWarning: Columns (17,18,19,20,21,22) have mixed types.Specify dtype option on import or set low_memory=False.\n",
      "  if (await self.run_code(code, result,  async_=asy)):\n"
     ]
    },
    {
     "name": "stdout",
     "output_type": "stream",
     "text": [
      "Round 673, winrate: 0.0, max_step: 229, reward: 0, example: {'ranks': [{'rank': 1, 'agentID': 0}, {'rank': 2, 'agentID': 1}], 'replayFile': 'replays/809455129.json'}\n",
      "train loss in 1 epoch in 1 batch: -2562.58569\n",
      "val loss in 1 epoch: -1954.14795\n",
      "Round 674, winrate: 0.5, max_step: 359, reward: 169, example: {'ranks': [{'rank': 1, 'agentID': 0}, {'rank': 1, 'agentID': 1}], 'replayFile': 'replays/146231997.json'}\n",
      "train loss in 1 epoch in 1 batch: 430.37900\n",
      "val loss in 1 epoch: -212.92216\n",
      "train loss in 1 epoch in 2 batch: 38.65897\n",
      "val loss in 1 epoch: -208.09786\n",
      "train loss in 1 epoch in 3 batch: -986.32605\n",
      "val loss in 1 epoch: -207.56849\n",
      "train loss in 1 epoch in 4 batch: 173.15326\n",
      "val loss in 1 epoch: -207.73431\n"
     ]
    },
    {
     "name": "stderr",
     "output_type": "stream",
     "text": [
      "/Library/Frameworks/Python.framework/Versions/3.7/lib/python3.7/site-packages/IPython/core/interactiveshell.py:3338: DtypeWarning: Columns (26,27,28) have mixed types.Specify dtype option on import or set low_memory=False.\n",
      "  if (await self.run_code(code, result,  async_=asy)):\n"
     ]
    },
    {
     "name": "stdout",
     "output_type": "stream",
     "text": [
      "Round 675, winrate: 0.0, max_step: 118, reward: 0, example: {'ranks': [{'rank': 1, 'agentID': 0}, {'rank': 2, 'agentID': 1}], 'replayFile': 'replays/63113897.json'}\n",
      "train loss in 1 epoch in 1 batch: 69.31630\n",
      "val loss in 1 epoch: 39.53467\n"
     ]
    },
    {
     "name": "stderr",
     "output_type": "stream",
     "text": [
      "/Library/Frameworks/Python.framework/Versions/3.7/lib/python3.7/site-packages/IPython/core/interactiveshell.py:3338: DtypeWarning: Columns (17,18,19,20,21,22,26,27,28) have mixed types.Specify dtype option on import or set low_memory=False.\n",
      "  if (await self.run_code(code, result,  async_=asy)):\n"
     ]
    },
    {
     "name": "stdout",
     "output_type": "stream",
     "text": [
      "Round 676, winrate: 0.0, max_step: 239, reward: 0, example: {'ranks': [{'rank': 1, 'agentID': 1}, {'rank': 2, 'agentID': 0}], 'replayFile': 'replays/501304664.json'}\n",
      "train loss in 1 epoch in 1 batch: 596.82672\n",
      "val loss in 1 epoch: -22.90248\n",
      "Round 677, winrate: 0.0, max_step: 359, reward: 1, example: {'ranks': [{'rank': 1, 'agentID': 0}, {'rank': 2, 'agentID': 1}], 'replayFile': 'replays/23698688.json'}\n",
      "train loss in 1 epoch in 1 batch: -1917.85291\n",
      "val loss in 1 epoch: -479.06239\n",
      "train loss in 1 epoch in 2 batch: -1066.79163\n",
      "val loss in 1 epoch: -484.82002\n",
      "train loss in 1 epoch in 3 batch: -938.56769\n",
      "val loss in 1 epoch: -486.78466\n",
      "train loss in 1 epoch in 4 batch: -71.88418\n",
      "val loss in 1 epoch: -485.18294\n",
      "Round 678, winrate: 0.0, max_step: 317, reward: 0, example: {'ranks': [{'rank': 1, 'agentID': 1}, {'rank': 2, 'agentID': 0}], 'replayFile': 'replays/94020689.json'}\n",
      "train loss in 1 epoch in 1 batch: -1420.08301\n",
      "val loss in 1 epoch: -315.13847\n",
      "train loss in 1 epoch in 2 batch: -28.64548\n",
      "val loss in 1 epoch: -314.62834\n",
      "train loss in 1 epoch in 3 batch: -4838.22803\n",
      "val loss in 1 epoch: -312.36277\n",
      "Round 679, winrate: 0.0, max_step: 190, reward: 0, example: {'ranks': [{'rank': 1, 'agentID': 0}, {'rank': 2, 'agentID': 1}], 'replayFile': 'replays/961880277.json'}\n",
      "train loss in 1 epoch in 1 batch: -905.06262\n",
      "val loss in 1 epoch: -303.95752\n",
      "train loss in 1 epoch in 2 batch: 0.40991\n",
      "val loss in 1 epoch: -286.76027\n",
      "Round 680, winrate: 0.0, max_step: 190, reward: 0, example: {'ranks': [{'rank': 1, 'agentID': 1}, {'rank': 2, 'agentID': 0}], 'replayFile': 'replays/931354636.json'}\n",
      "train loss in 1 epoch in 1 batch: 117.09483\n",
      "val loss in 1 epoch: -398.64086\n",
      "Round 681, winrate: 1.0, max_step: 272, reward: 0, example: {'ranks': [{'rank': 1, 'agentID': 1}, {'rank': 2, 'agentID': 0}], 'replayFile': 'replays/545762453.json'}\n",
      "train loss in 1 epoch in 1 batch: 163.59125\n",
      "val loss in 1 epoch: 52.39225\n",
      "train loss in 1 epoch in 2 batch: 143.85843\n",
      "val loss in 1 epoch: 43.43656\n",
      "Round 682, winrate: 0.0, max_step: 110, reward: 0, example: {'ranks': [{'rank': 1, 'agentID': 1}, {'rank': 2, 'agentID': 0}], 'replayFile': 'replays/707725541.json'}\n",
      "train loss in 1 epoch in 1 batch: 318.50021\n",
      "val loss in 1 epoch: 43.66705\n"
     ]
    },
    {
     "name": "stderr",
     "output_type": "stream",
     "text": [
      "/Library/Frameworks/Python.framework/Versions/3.7/lib/python3.7/site-packages/IPython/core/interactiveshell.py:3338: DtypeWarning: Columns (9,10,11,12,13,14,17,18,19,20,21,22) have mixed types.Specify dtype option on import or set low_memory=False.\n",
      "  if (await self.run_code(code, result,  async_=asy)):\n"
     ]
    },
    {
     "name": "stdout",
     "output_type": "stream",
     "text": [
      "Round 683, winrate: 0.0, max_step: 359, reward: 1, example: {'ranks': [{'rank': 1, 'agentID': 0}, {'rank': 2, 'agentID': 1}], 'replayFile': 'replays/468885466.json'}\n",
      "train loss in 1 epoch in 1 batch: 264.11493\n",
      "val loss in 1 epoch: -1494.00112\n",
      "train loss in 1 epoch in 2 batch: 231.61781\n",
      "val loss in 1 epoch: -1480.05559\n",
      "Round 684, winrate: 0.0, max_step: 118, reward: 0, example: {'ranks': [{'rank': 1, 'agentID': 1}, {'rank': 2, 'agentID': 0}], 'replayFile': 'replays/7641146.json'}\n",
      "train loss in 1 epoch in 1 batch: 179.87442\n",
      "val loss in 1 epoch: 53.43691\n"
     ]
    },
    {
     "name": "stderr",
     "output_type": "stream",
     "text": [
      "/Library/Frameworks/Python.framework/Versions/3.7/lib/python3.7/site-packages/IPython/core/interactiveshell.py:3338: DtypeWarning: Columns (26,27,28) have mixed types.Specify dtype option on import or set low_memory=False.\n",
      "  if (await self.run_code(code, result,  async_=asy)):\n"
     ]
    },
    {
     "name": "stdout",
     "output_type": "stream",
     "text": [
      "Round 685, winrate: 0.0, max_step: 350, reward: 0, example: {'ranks': [{'rank': 1, 'agentID': 0}, {'rank': 2, 'agentID': 1}], 'replayFile': 'replays/349043665.json'}\n",
      "train loss in 1 epoch in 1 batch: 234.25981\n",
      "val loss in 1 epoch: 88.97838\n",
      "Round 686, winrate: 0.0, max_step: 313, reward: 0, example: {'ranks': [{'rank': 1, 'agentID': 1}, {'rank': 2, 'agentID': 0}], 'replayFile': 'replays/313301374.json'}\n",
      "train loss in 1 epoch in 1 batch: 325.56668\n",
      "val loss in 1 epoch: -387.25094\n",
      "train loss in 1 epoch in 2 batch: -1316.00000\n",
      "val loss in 1 epoch: -379.45848\n"
     ]
    },
    {
     "name": "stderr",
     "output_type": "stream",
     "text": [
      "/Library/Frameworks/Python.framework/Versions/3.7/lib/python3.7/site-packages/IPython/core/interactiveshell.py:3338: DtypeWarning: Columns (17,18,19,20,21,22) have mixed types.Specify dtype option on import or set low_memory=False.\n",
      "  if (await self.run_code(code, result,  async_=asy)):\n"
     ]
    },
    {
     "name": "stdout",
     "output_type": "stream",
     "text": [
      "Round 687, winrate: 0.0, max_step: 277, reward: 0, example: {'ranks': [{'rank': 1, 'agentID': 0}, {'rank': 2, 'agentID': 1}], 'replayFile': 'replays/462969300.json'}\n",
      "train loss in 1 epoch in 1 batch: 244.25395\n",
      "val loss in 1 epoch: -274.86834\n"
     ]
    },
    {
     "name": "stderr",
     "output_type": "stream",
     "text": [
      "/Library/Frameworks/Python.framework/Versions/3.7/lib/python3.7/site-packages/IPython/core/interactiveshell.py:3338: DtypeWarning: Columns (9,10,11,12,13,14) have mixed types.Specify dtype option on import or set low_memory=False.\n",
      "  if (await self.run_code(code, result,  async_=asy)):\n"
     ]
    },
    {
     "name": "stdout",
     "output_type": "stream",
     "text": [
      "Round 688, winrate: 0.0, max_step: 359, reward: 20, example: {'ranks': [{'rank': 1, 'agentID': 1}, {'rank': 2, 'agentID': 0}], 'replayFile': 'replays/797230513.json'}\n",
      "train loss in 1 epoch in 1 batch: 138.10641\n",
      "val loss in 1 epoch: -384.68814\n",
      "train loss in 1 epoch in 2 batch: 444.80008\n",
      "val loss in 1 epoch: -380.13317\n",
      "Round 689, winrate: 0.0, max_step: 110, reward: 0, example: {'ranks': [{'rank': 1, 'agentID': 0}, {'rank': 2, 'agentID': 1}], 'replayFile': 'replays/118953464.json'}\n",
      "train loss in 1 epoch in 1 batch: -4652.45508\n",
      "val loss in 1 epoch: -338.69275\n",
      "Round 690, winrate: 0.0, max_step: 114, reward: 0, example: {'ranks': [{'rank': 1, 'agentID': 1}, {'rank': 2, 'agentID': 0}], 'replayFile': 'replays/488721355.json'}\n",
      "train loss in 1 epoch in 1 batch: 75.08498\n",
      "val loss in 1 epoch: 457.69883\n",
      "Round 691, winrate: 0.0, max_step: 194, reward: 0, example: {'ranks': [{'rank': 1, 'agentID': 0}, {'rank': 2, 'agentID': 1}], 'replayFile': 'replays/196881768.json'}\n",
      "train loss in 1 epoch in 1 batch: -49.55573\n",
      "val loss in 1 epoch: -136.32518\n",
      "train loss in 1 epoch in 2 batch: -24.73912\n",
      "val loss in 1 epoch: -132.82261\n",
      "Round 692, winrate: 0.0, max_step: 198, reward: 0, example: {'ranks': [{'rank': 1, 'agentID': 1}, {'rank': 2, 'agentID': 0}], 'replayFile': 'replays/169123872.json'}\n",
      "train loss in 1 epoch in 1 batch: 332.64868\n",
      "val loss in 1 epoch: -508.56046\n"
     ]
    },
    {
     "name": "stderr",
     "output_type": "stream",
     "text": [
      "/Library/Frameworks/Python.framework/Versions/3.7/lib/python3.7/site-packages/IPython/core/interactiveshell.py:3338: DtypeWarning: Columns (17,18,19,20,21,22,26,27,28) have mixed types.Specify dtype option on import or set low_memory=False.\n",
      "  if (await self.run_code(code, result,  async_=asy)):\n"
     ]
    },
    {
     "name": "stdout",
     "output_type": "stream",
     "text": [
      "Round 693, winrate: 0.0, max_step: 190, reward: 0, example: {'ranks': [{'rank': 1, 'agentID': 0}, {'rank': 2, 'agentID': 1}], 'replayFile': 'replays/487748850.json'}\n",
      "train loss in 1 epoch in 1 batch: -89.95288\n",
      "val loss in 1 epoch: -401.20529\n",
      "Round 694, winrate: 0.0, max_step: 239, reward: 0, example: {'ranks': [{'rank': 1, 'agentID': 1}, {'rank': 2, 'agentID': 0}], 'replayFile': 'replays/689595245.json'}\n",
      "train loss in 1 epoch in 1 batch: 378.29303\n",
      "val loss in 1 epoch: -629.01949\n",
      "train loss in 1 epoch in 2 batch: 0.04270\n",
      "val loss in 1 epoch: -630.82435\n",
      "Round 695, winrate: 0.0, max_step: 38, reward: 0, example: {'ranks': [{'rank': 1, 'agentID': 0}, {'rank': 2, 'agentID': 1}], 'replayFile': 'replays/986146962.json'}\n",
      "train loss in 1 epoch in 1 batch: 258.10858\n",
      "val loss in 1 epoch: 106.89748\n",
      "Round 696, winrate: 0.0, max_step: 275, reward: 0, example: {'ranks': [{'rank': 1, 'agentID': 1}, {'rank': 2, 'agentID': 0}], 'replayFile': 'replays/176004031.json'}\n",
      "train loss in 1 epoch in 1 batch: 266.40497\n",
      "val loss in 1 epoch: -197.62331\n",
      "train loss in 1 epoch in 2 batch: -14.79921\n",
      "val loss in 1 epoch: -207.59153\n",
      "Round 697, winrate: 0.0, max_step: 350, reward: 0, example: {'ranks': [{'rank': 1, 'agentID': 0}, {'rank': 2, 'agentID': 1}], 'replayFile': 'replays/850219426.json'}\n",
      "train loss in 1 epoch in 1 batch: 464.60403\n",
      "val loss in 1 epoch: -983.17568\n",
      "Round 698, winrate: 0.0, max_step: 150, reward: 0, example: {'ranks': [{'rank': 1, 'agentID': 1}, {'rank': 2, 'agentID': 0}], 'replayFile': 'replays/360827050.json'}\n",
      "train loss in 1 epoch in 1 batch: 209.84415\n",
      "val loss in 1 epoch: -366.08642\n"
     ]
    },
    {
     "name": "stderr",
     "output_type": "stream",
     "text": [
      "/Library/Frameworks/Python.framework/Versions/3.7/lib/python3.7/site-packages/IPython/core/interactiveshell.py:3338: DtypeWarning: Columns (17,18,19,20,21,22,26,27,28) have mixed types.Specify dtype option on import or set low_memory=False.\n",
      "  if (await self.run_code(code, result,  async_=asy)):\n"
     ]
    },
    {
     "name": "stdout",
     "output_type": "stream",
     "text": [
      "Round 699, winrate: 0.0, max_step: 279, reward: 0, example: {'ranks': [{'rank': 1, 'agentID': 0}, {'rank': 2, 'agentID': 1}], 'replayFile': 'replays/354538713.json'}\n",
      "train loss in 1 epoch in 1 batch: 232.24193\n",
      "val loss in 1 epoch: -424.00465\n",
      "train loss in 1 epoch in 2 batch: -67.70117\n",
      "val loss in 1 epoch: -423.78846\n",
      "Round 700, winrate: 0.0, max_step: 76, reward: 0, example: {'ranks': [{'rank': 1, 'agentID': 1}, {'rank': 2, 'agentID': 0}], 'replayFile': 'replays/672361527.json'}\n",
      "train loss in 1 epoch in 1 batch: 104.05782\n",
      "val loss in 1 epoch: 287.90532\n"
     ]
    },
    {
     "name": "stderr",
     "output_type": "stream",
     "text": [
      "/Library/Frameworks/Python.framework/Versions/3.7/lib/python3.7/site-packages/IPython/core/interactiveshell.py:3338: DtypeWarning: Columns (26,27,28) have mixed types.Specify dtype option on import or set low_memory=False.\n",
      "  if (await self.run_code(code, result,  async_=asy)):\n"
     ]
    },
    {
     "name": "stdout",
     "output_type": "stream",
     "text": [
      "Round 701, winrate: 0.0, max_step: 270, reward: 0, example: {'ranks': [{'rank': 1, 'agentID': 0}, {'rank': 2, 'agentID': 1}], 'replayFile': 'replays/516015590.json'}\n",
      "train loss in 1 epoch in 1 batch: -496.41495\n",
      "val loss in 1 epoch: -64.20951\n",
      "Round 702, winrate: 0.0, max_step: 277, reward: 0, example: {'ranks': [{'rank': 1, 'agentID': 1}, {'rank': 2, 'agentID': 0}], 'replayFile': 'replays/664752119.json'}\n",
      "train loss in 1 epoch in 1 batch: -192.63358\n",
      "val loss in 1 epoch: -179.38091\n",
      "train loss in 1 epoch in 2 batch: -6.41666\n",
      "val loss in 1 epoch: -187.90253\n",
      "train loss in 1 epoch in 3 batch: -129.54245\n",
      "val loss in 1 epoch: -185.31076\n",
      "Round 703, winrate: 0.0, max_step: 309, reward: 0, example: {'ranks': [{'rank': 1, 'agentID': 0}, {'rank': 2, 'agentID': 1}], 'replayFile': 'replays/802115870.json'}\n",
      "train loss in 1 epoch in 1 batch: 307.22726\n",
      "val loss in 1 epoch: -3202.72055\n"
     ]
    },
    {
     "name": "stderr",
     "output_type": "stream",
     "text": [
      "/Library/Frameworks/Python.framework/Versions/3.7/lib/python3.7/site-packages/IPython/core/interactiveshell.py:3338: DtypeWarning: Columns (26,27,28) have mixed types.Specify dtype option on import or set low_memory=False.\n",
      "  if (await self.run_code(code, result,  async_=asy)):\n"
     ]
    },
    {
     "name": "stdout",
     "output_type": "stream",
     "text": [
      "Round 704, winrate: 0.0, max_step: 313, reward: 0, example: {'ranks': [{'rank': 1, 'agentID': 1}, {'rank': 2, 'agentID': 0}], 'replayFile': 'replays/120869359.json'}\n",
      "train loss in 1 epoch in 1 batch: 200.89401\n",
      "val loss in 1 epoch: -1513.68162\n"
     ]
    },
    {
     "name": "stderr",
     "output_type": "stream",
     "text": [
      "/Library/Frameworks/Python.framework/Versions/3.7/lib/python3.7/site-packages/IPython/core/interactiveshell.py:3338: DtypeWarning: Columns (17,18,19,20,21,22) have mixed types.Specify dtype option on import or set low_memory=False.\n",
      "  if (await self.run_code(code, result,  async_=asy)):\n"
     ]
    },
    {
     "name": "stdout",
     "output_type": "stream",
     "text": [
      "Round 705, winrate: 0.0, max_step: 190, reward: 0, example: {'ranks': [{'rank': 1, 'agentID': 0}, {'rank': 2, 'agentID': 1}], 'replayFile': 'replays/529534609.json'}\n",
      "train loss in 1 epoch in 1 batch: -1770.36536\n",
      "val loss in 1 epoch: -1639.73968\n"
     ]
    },
    {
     "name": "stderr",
     "output_type": "stream",
     "text": [
      "/Library/Frameworks/Python.framework/Versions/3.7/lib/python3.7/site-packages/IPython/core/interactiveshell.py:3338: DtypeWarning: Columns (17,18,19,20,21,22) have mixed types.Specify dtype option on import or set low_memory=False.\n",
      "  if (await self.run_code(code, result,  async_=asy)):\n"
     ]
    },
    {
     "name": "stdout",
     "output_type": "stream",
     "text": [
      "Round 706, winrate: 0.0, max_step: 271, reward: 0, example: {'ranks': [{'rank': 1, 'agentID': 1}, {'rank': 2, 'agentID': 0}], 'replayFile': 'replays/942526334.json'}\n",
      "train loss in 1 epoch in 1 batch: 750.04846\n",
      "val loss in 1 epoch: -209.37868\n",
      "Round 707, winrate: 0.0, max_step: 158, reward: 0, example: {'ranks': [{'rank': 1, 'agentID': 0}, {'rank': 2, 'agentID': 1}], 'replayFile': 'replays/911401819.json'}\n",
      "train loss in 1 epoch in 1 batch: 333.81131\n",
      "val loss in 1 epoch: -237.78481\n",
      "Round 708, winrate: 0.0, max_step: 157, reward: 0, example: {'ranks': [{'rank': 1, 'agentID': 1}, {'rank': 2, 'agentID': 0}], 'replayFile': 'replays/65071272.json'}\n",
      "train loss in 1 epoch in 1 batch: 127.29951\n",
      "val loss in 1 epoch: -4927.49292\n"
     ]
    },
    {
     "name": "stderr",
     "output_type": "stream",
     "text": [
      "/Library/Frameworks/Python.framework/Versions/3.7/lib/python3.7/site-packages/IPython/core/interactiveshell.py:3338: DtypeWarning: Columns (26,27,28) have mixed types.Specify dtype option on import or set low_memory=False.\n",
      "  if (await self.run_code(code, result,  async_=asy)):\n"
     ]
    },
    {
     "name": "stdout",
     "output_type": "stream",
     "text": [
      "Round 709, winrate: 0.0, max_step: 192, reward: 0, example: {'ranks': [{'rank': 1, 'agentID': 0}, {'rank': 2, 'agentID': 1}], 'replayFile': 'replays/981560335.json'}\n",
      "train loss in 1 epoch in 1 batch: -399.78665\n",
      "val loss in 1 epoch: -334.96003\n",
      "train loss in 1 epoch in 2 batch: -1695.93152\n",
      "val loss in 1 epoch: -320.77352\n",
      "Round 710, winrate: 0.0, max_step: 198, reward: 0, example: {'ranks': [{'rank': 1, 'agentID': 1}, {'rank': 2, 'agentID': 0}], 'replayFile': 'replays/443508454.json'}\n",
      "train loss in 1 epoch in 1 batch: -571.52185\n",
      "val loss in 1 epoch: -258.54473\n",
      "Round 711, winrate: 0.0, max_step: 190, reward: 0, example: {'ranks': [{'rank': 1, 'agentID': 0}, {'rank': 2, 'agentID': 1}], 'replayFile': 'replays/246344090.json'}\n",
      "train loss in 1 epoch in 1 batch: 377.23853\n",
      "val loss in 1 epoch: -484.71077\n",
      "train loss in 1 epoch in 2 batch: 180.80745\n",
      "val loss in 1 epoch: -474.59800\n",
      "Round 712, winrate: 0.0, max_step: 189, reward: 0, example: {'ranks': [{'rank': 1, 'agentID': 1}, {'rank': 2, 'agentID': 0}], 'replayFile': 'replays/724549677.json'}\n",
      "train loss in 1 epoch in 1 batch: 236.55212\n",
      "val loss in 1 epoch: -974.99231\n"
     ]
    },
    {
     "name": "stderr",
     "output_type": "stream",
     "text": [
      "/Library/Frameworks/Python.framework/Versions/3.7/lib/python3.7/site-packages/IPython/core/interactiveshell.py:3338: DtypeWarning: Columns (9,10,11,12,13,14,17,18,19,20,21,22) have mixed types.Specify dtype option on import or set low_memory=False.\n",
      "  if (await self.run_code(code, result,  async_=asy)):\n"
     ]
    },
    {
     "name": "stdout",
     "output_type": "stream",
     "text": [
      "Round 713, winrate: 0.0, max_step: 270, reward: 0, example: {'ranks': [{'rank': 1, 'agentID': 0}, {'rank': 2, 'agentID': 1}], 'replayFile': 'replays/992760525.json'}\n",
      "train loss in 1 epoch in 1 batch: 819.14490\n",
      "val loss in 1 epoch: -482.79422\n",
      "Round 714, winrate: 0.0, max_step: 115, reward: 0, example: {'ranks': [{'rank': 1, 'agentID': 1}, {'rank': 2, 'agentID': 0}], 'replayFile': 'replays/73290591.json'}\n",
      "train loss in 1 epoch in 1 batch: 209.37206\n",
      "val loss in 1 epoch: -1247.27004\n",
      "Round 715, winrate: 0.0, max_step: 113, reward: 0, example: {'ranks': [{'rank': 1, 'agentID': 0}, {'rank': 2, 'agentID': 1}], 'replayFile': 'replays/618679734.json'}\n",
      "train loss in 1 epoch in 1 batch: 162.94649\n",
      "val loss in 1 epoch: 6.59137\n",
      "Round 716, winrate: 0.0, max_step: 110, reward: 0, example: {'ranks': [{'rank': 1, 'agentID': 1}, {'rank': 2, 'agentID': 0}], 'replayFile': 'replays/409857046.json'}\n",
      "train loss in 1 epoch in 1 batch: -5776.57715\n",
      "val loss in 1 epoch: -966.57802\n"
     ]
    }
   ],
   "source": [
    "# t = 0  #  1778 - value_iter\n",
    "# B = 1\n",
    "\n",
    "# model = NNWithCustomFeatures(83, 0.05, 128)\n",
    "\n",
    "# writer = SummaryWriter()\n",
    "\n",
    "while True:\n",
    "    t += 1\n",
    "    np.random.seed(t)\n",
    "    torch.save(model.state_dict(), '../submissions/simple/models/ac_iter_v{}'.format(t))\n",
    "    r = []\n",
    "    for i in np.arange(B):\n",
    "        seed = t * B + i\n",
    "#         _f = str(seed) + \".txt\"\n",
    "        _f = \"log.txt\"\n",
    "        bot = build_runnable_bot_with_flags({\n",
    "            \"model_path\": \"models/ac_iter_v{}\".format(t),\n",
    "            \"use_policy\": True,\n",
    "            \"is_neural\": True,\n",
    "            \"prob_use_default_agent\": 0.5 / np.log(t + 1),\n",
    "            \"prob_use_random\": 0.05,\n",
    "            \"ohe_path\": \"models/ohe_v2\",\n",
    "            \"use_old_units_cargo_rules\": False,\n",
    "            \"log_features_path\": \"../../research/features_iter/\", \"log_path_file_name\": _f\n",
    "        })\n",
    "        if t % 2 == 0:\n",
    "            _r = run_game(bot, simple_bot, loglevel=0, seed=seed)\n",
    "        else:\n",
    "            _r = run_game(simple_bot, bot, loglevel=0, seed=seed)\n",
    "        r.append(_r)\n",
    "    wins = np.mean(count_series(r))\n",
    "    if t % 2 == 1:\n",
    "        wins = 1 - wins\n",
    "    trainD = dataset.get_dataset_from_file(os.path.join(\"features_iter/\", _f), wins)\n",
    "    reward = np.sum(trainD.weights)\n",
    "    trainD_ohe, valD_ohe, _ = prepare_features(trainD, trainD, OHE)\n",
    "    max_step = np.max(trainD.features[:, 31])\n",
    "    trainD_ohe_with_next = add_next_features(trainD_ohe)\n",
    "    valD_ohe_with_next = add_next_features(valD_ohe)\n",
    "    trainD_ohe_with_next_sampled = sample_dataset(trainD_ohe_with_next, 0.1)\n",
    "    print(\"Round {}, winrate: {}, max_step: {}, reward: {}, example: {}\".format(t, wins, max_step, reward, r[0][0]['results']))\n",
    "    writer.add_scalar('data/reward', reward, t)\n",
    "    writer.add_scalar('data/winrate', wins, t)\n",
    "    writer.add_scalar('data/max_step', max_step, t)\n",
    "    try:\n",
    "        learn(trainD_ohe_with_next_sampled, valD_ohe_with_next, model, actor_critic_loss, lr=1e-1 / (t + 1), batch_size=64, epochs=1, freq=1, l2=1e-5, use_tb=False)\n",
    "    except Exception as e:\n",
    "        print(e)"
   ]
  },
  {
   "cell_type": "code",
   "execution_count": null,
   "metadata": {},
   "outputs": [],
   "source": []
  }
 ],
 "metadata": {
  "kernelspec": {
   "display_name": "Python 3",
   "language": "python",
   "name": "python3"
  },
  "language_info": {
   "codemirror_mode": {
    "name": "ipython",
    "version": 3
   },
   "file_extension": ".py",
   "mimetype": "text/x-python",
   "name": "python",
   "nbconvert_exporter": "python",
   "pygments_lexer": "ipython3",
   "version": "3.7.9"
  }
 },
 "nbformat": 4,
 "nbformat_minor": 4
}
