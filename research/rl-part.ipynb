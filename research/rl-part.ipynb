{
 "cells": [
  {
   "cell_type": "code",
   "execution_count": 1,
   "metadata": {},
   "outputs": [],
   "source": [
    "import numpy as np\n",
    "import pandas as pd\n",
    "\n",
    "\n",
    "import json\n",
    "import os\n",
    "\n",
    "import subprocess\n",
    "\n",
    "from matplotlib import pyplot as plt"
   ]
  },
  {
   "cell_type": "code",
   "execution_count": 6,
   "metadata": {},
   "outputs": [],
   "source": [
    "%matplotlib inline\n",
    "%config Completer.use_jedi = False"
   ]
  },
  {
   "cell_type": "code",
   "execution_count": 3,
   "metadata": {},
   "outputs": [],
   "source": [
    "import torch\n",
    "from torch import nn\n",
    "from torch import optim\n",
    "\n",
    "from tensorboardX import SummaryWriter"
   ]
  },
  {
   "cell_type": "code",
   "execution_count": 674,
   "metadata": {},
   "outputs": [
    {
     "data": {
      "text/plain": [
       "<module 'utils.dataset' from '/Users/sergmiller/Documents/my/lux-ai-v1/research/utils/dataset.py'>"
      ]
     },
     "execution_count": 674,
     "metadata": {},
     "output_type": "execute_result"
    }
   ],
   "source": [
    "from importlib import reload\n",
    "from utils import dataset\n",
    "\n",
    "reload(dataset)"
   ]
  },
  {
   "cell_type": "code",
   "execution_count": 573,
   "metadata": {},
   "outputs": [],
   "source": [
    "def learn(train, val, model_ff, criterion, epochs=5, batch_size=64, shuffle=True, freq=10,lr=1e-3, l2=1e-5, use_tb=True): \n",
    "    if use_tb:\n",
    "        writer = SummaryWriter()\n",
    "    \n",
    "#     np.random.seed(1)\n",
    "    ids_nn = np.arange(train.targets.shape[0])\n",
    "    \n",
    "    reshape_to_last = lambda x: torch.reshape(x, [np.prod(x.shape[:-1]), x.shape[-1]])\n",
    "\n",
    "    optimizer = optim.Adam(model_ff.parameters(), lr=lr, weight_decay=l2)\n",
    "\n",
    "    time_for_print_loss = lambda i: (i + 1) % freq == 0\n",
    "    \n",
    "    n_iter = 0\n",
    "\n",
    "\n",
    "    for epoch in np.arange(epochs):\n",
    "        np.random.shuffle(ids_nn)\n",
    "\n",
    "        model_ff.train(True)\n",
    "\n",
    "        for b in np.arange(0, train.targets.shape[0], batch_size):\n",
    "            X_batch = torch.FloatTensor(train.features[ids_nn[b:b+batch_size]])\n",
    "            y_batch = torch.FloatTensor(train.weights[ids_nn[b:b+batch_size]])  # reward(advantage)\n",
    "            a_batch = torch.LongTensor(train.targets[ids_nn[b:b+batch_size]])  # action\n",
    "\n",
    "            optimizer.zero_grad()\n",
    "            y_pred_logits = model_ff(X_batch)\n",
    "\n",
    "            loss = criterion(y_pred_logits, y_batch, a_batch, X_batch)\n",
    "            loss.backward()\n",
    "\n",
    "            optimizer.step()\n",
    "\n",
    "            if (b // batch_size + 1) % freq == 0:\n",
    "                print('train loss in %d epoch in %d batch: %.5f' %\n",
    "                  (epoch + 1, b // batch_size + 1, loss.item()))\n",
    "                \n",
    "                if use_tb:\n",
    "                    writer.add_scalar('data/train_loss', loss.item(), n_iter)\n",
    "                    writer.add_scalar('data/epoch', epoch + 1, n_iter)\n",
    "                    writer.add_scalar('data/batch', b // batch_size + 1, n_iter)\n",
    "\n",
    "                val_loss = 0\n",
    "                its = 0\n",
    "                model_ff.train(False)\n",
    "                for b in np.arange(0, val.targets.shape[0], batch_size):\n",
    "                    its += 1\n",
    "                    X_batch = torch.FloatTensor(val.features[b:b+batch_size])\n",
    "#                     X_batch = reshape_to_last(X_batch)\n",
    "\n",
    "                    y_batch = torch.FloatTensor(val.weights[b:b+batch_size])\n",
    "                    a_batch = torch.LongTensor(val.targets[b:b+batch_size])\n",
    "                    with torch.no_grad():\n",
    "                        y_pred_logits = model_ff(X_batch)\n",
    "                    loss = criterion(y_pred_logits, y_batch, a_batch, X_batch)\n",
    "                    val_loss += loss.item()\n",
    "                val_loss /= its\n",
    "                print('val loss in %d epoch: %.5f' % (epoch + 1, val_loss))\n",
    "                \n",
    "                if use_tb:\n",
    "                    writer.add_scalar('data/val_loss', val_loss, n_iter)\n",
    "                n_iter += 1\n"
   ]
  },
  {
   "cell_type": "code",
   "execution_count": 96,
   "metadata": {},
   "outputs": [],
   "source": [
    "# datasets = dataset.read_datasets_from_dir(\"features_v3/\")"
   ]
  },
  {
   "cell_type": "code",
   "execution_count": 97,
   "metadata": {},
   "outputs": [
    {
     "data": {
      "text/plain": [
       "[(0, 'cargo_vol_total'),\n",
       " (1, 'cargo_fuel_total'),\n",
       " (2, 'unit_can_build'),\n",
       " (3, 'unit_routine'),\n",
       " (4, 'unit_last_action'),\n",
       " (5, 'near_city_dist'),\n",
       " (6, 'near_city_dir'),\n",
       " (7, 'near_city_fuel'),\n",
       " (8, 'near_city_light_upkeep'),\n",
       " (9, 'city_size'),\n",
       " (10, 'opp_near_city_dist'),\n",
       " (11, 'opp_near_city_dir'),\n",
       " (12, 'opp_near_city_fuel'),\n",
       " (13, 'opp_near_city_light_upkeep'),\n",
       " (14, 'opp_city_size'),\n",
       " (15, 'near_resource_dist'),\n",
       " (16, 'near_resource_dir'),\n",
       " (17, 'near_resource_type'),\n",
       " (18, 'near_resource_amount'),\n",
       " (19, 'my_city_count'),\n",
       " (20, 'opp_city_count'),\n",
       " (21, 'turn'),\n",
       " (22, 'is_night'),\n",
       " (23, 'time_to_night'),\n",
       " (24, 'width'),\n",
       " (25, 'height'),\n",
       " (26, 'my_research'),\n",
       " (27, 'opp_research'),\n",
       " (28, 'my_research_coal'),\n",
       " (29, 'opp_research_coal'),\n",
       " (30, 'my_research_uran'),\n",
       " (31, 'opp_research_uran'),\n",
       " (32, 'action'),\n",
       " (33, 'my_tiles'),\n",
       " (34, 'opp_tiles')]"
      ]
     },
     "execution_count": 97,
     "metadata": {},
     "output_type": "execute_result"
    }
   ],
   "source": [
    "# dataset.read_columns_from_random_file(\"features_v3\")"
   ]
  },
  {
   "cell_type": "code",
   "execution_count": 100,
   "metadata": {},
   "outputs": [
    {
     "data": {
      "text/plain": [
       "[2, 3, 4, 6, 11, 16, 17, 22, 28, 29, 30, 31]"
      ]
     },
     "execution_count": 100,
     "metadata": {},
     "output_type": "execute_result"
    }
   ],
   "source": [
    "dataset.CAT_FEATURES"
   ]
  },
  {
   "cell_type": "code",
   "execution_count": 409,
   "metadata": {},
   "outputs": [],
   "source": [
    "FLOAT_FEATURES = [i for i in range(42 + 32*32*7) if i not in dataset.CAT_FEATURES_V4]"
   ]
  },
  {
   "cell_type": "code",
   "execution_count": 410,
   "metadata": {},
   "outputs": [
    {
     "data": {
      "text/plain": [
       "([0, 1, 5, 6, 7, 9, 10, 11, 12, 13, 15, 17, 18, 19, 20, 21, 23, 26, 27, 28],\n",
       " [7200, 7201, 7202, 7203, 7204, 7205, 7206, 7207, 7208, 7209])"
      ]
     },
     "execution_count": 410,
     "metadata": {},
     "output_type": "execute_result"
    }
   ],
   "source": [
    "FLOAT_FEATURES[:20], FLOAT_FEATURES[-10:]"
   ]
  },
  {
   "cell_type": "code",
   "execution_count": 87,
   "metadata": {},
   "outputs": [],
   "source": [
    "import pickle\n",
    "from sklearn.preprocessing import OneHotEncoder"
   ]
  },
  {
   "cell_type": "code",
   "execution_count": 392,
   "metadata": {},
   "outputs": [],
   "source": [
    "with open(\"../submissions/simple/models/ohe_v2\", \"rb\") as f:\n",
    "    OHE = pickle.load(f)"
   ]
  },
  {
   "cell_type": "code",
   "execution_count": 419,
   "metadata": {},
   "outputs": [],
   "source": [
    "def prepare_features(t: dataset.Dataset, v: dataset.Dataset, ohe=None, categories=None) -> (dataset.Dataset, dataset.Dataset):\n",
    "    create_ohe = ohe is None\n",
    "    if create_ohe:\n",
    "         ohe = OneHotEncoder(sparse=False, categories=categories)\n",
    "    def prepare(d, is_train):\n",
    "        cf = d.features[:, dataset.CAT_FEATURES_V4]\n",
    "        ff = d.features[:, FLOAT_FEATURES]\n",
    "        cf[cf == \"False\"] = False\n",
    "        cf[cf == \"True\"] = True\n",
    "        cf[cf == None] = \"None\"\n",
    "        cf[cf == \"1\"] = 1\n",
    "        cf[cf == \"2\"] = 2\n",
    "        cf[cf == \"3\"] = 3\n",
    "        ff[ff == \"None\"] = 0\n",
    "        cf_o = ohe.fit_transform(cf) if is_train and create_ohe else ohe.transform(cf)\n",
    "        return dataset.Dataset(\n",
    "            features=np.array(np.concatenate([cf_o, ff], axis=1), dtype=np.float),\n",
    "            targets=np.array(d.targets, dtype=np.float),\n",
    "            weights=np.array(d.weights, dtype=np.float),\n",
    "            next_state_id = d.next_state_id\n",
    "        )\n",
    "    t = prepare(t, True)\n",
    "    v = prepare(v, False)\n",
    "    return (t,v, ohe)"
   ]
  },
  {
   "cell_type": "code",
   "execution_count": 184,
   "metadata": {},
   "outputs": [],
   "source": [
    "# dt,dv,OHE = prepare_features(data, data, None, [\n",
    "#      np.array([\"None\", False, True], dtype=object),\n",
    "#      np.array([1, 2, 3], dtype=object),\n",
    "#      np.array(['None', 'bcity', 'e', 'n', 'p', 's', 'w'], dtype=object),\n",
    "#      np.array(['None', 'c', 'e', 'n', 's', 'w'], dtype=object),\n",
    "#      np.array([\"None\", False, True], dtype=object),\n",
    "#      np.array(['None', 'e', 'n', 's', 'w'], dtype=object),\n",
    "#      np.array([\"None\", False, True], dtype=object),\n",
    "#      np.array(['None', 'c', 'e', 'n', 's', 'w'], dtype=object),\n",
    "#      np.array(['None', 'coal', 'uranium', 'wood'], dtype=object),\n",
    "#      np.array([\"None\", False, True], dtype=object),\n",
    "#      np.array([\"None\", False, True], dtype=object),\n",
    "#      np.array([\"None\", False, True], dtype=object),\n",
    "#      np.array([\"None\", False, True], dtype=object),\n",
    "#      np.array([\"None\", False, True], dtype=object)])"
   ]
  },
  {
   "cell_type": "code",
   "execution_count": 185,
   "metadata": {},
   "outputs": [
    {
     "data": {
      "text/plain": [
       "[array(['None', False, True], dtype=object),\n",
       " array([1, 2, 3], dtype=object),\n",
       " array(['None', 'bcity', 'e', 'n', 'p', 's', 'w'], dtype=object),\n",
       " array(['None', 'c', 'e', 'n', 's', 'w'], dtype=object),\n",
       " array(['None', False, True], dtype=object),\n",
       " array(['None', 'e', 'n', 's', 'w'], dtype=object),\n",
       " array(['None', False, True], dtype=object),\n",
       " array(['None', 'c', 'e', 'n', 's', 'w'], dtype=object),\n",
       " array(['None', 'coal', 'uranium', 'wood'], dtype=object),\n",
       " array(['None', False, True], dtype=object),\n",
       " array(['None', False, True], dtype=object),\n",
       " array(['None', False, True], dtype=object),\n",
       " array(['None', False, True], dtype=object),\n",
       " array(['None', False, True], dtype=object)]"
      ]
     },
     "execution_count": 185,
     "metadata": {},
     "output_type": "execute_result"
    }
   ],
   "source": [
    "OHE.categories_"
   ]
  },
  {
   "cell_type": "code",
   "execution_count": 188,
   "metadata": {},
   "outputs": [],
   "source": [
    "# with open(\"../submissions/simple/models/ohe_v2\", \"wb\") as f:\n",
    "#     pickle.dump(OHE, f)"
   ]
  },
  {
   "cell_type": "code",
   "execution_count": 142,
   "metadata": {},
   "outputs": [],
   "source": [
    "# with open(\"../submissions/simple/models/ohe_v1\", \"wb\") as f:\n",
    "#     pickle.dump(ohe, f)"
   ]
  },
  {
   "cell_type": "code",
   "execution_count": 626,
   "metadata": {},
   "outputs": [],
   "source": [
    "MAP_F = 32 * 32 * 7\n",
    "\n",
    "class NNWithCustomFeatures(nn.Module):\n",
    "    def __init__(self, INPUT_F, DROP_P, H, A=6):\n",
    "        super().__init__()\n",
    "        INPUT_F_C = INPUT_F + 128\n",
    "        self.model_q =  nn.Sequential(\n",
    "            nn.Dropout(DROP_P),\n",
    "            nn.Linear(INPUT_F_C, H),\n",
    "            nn.LayerNorm(H),\n",
    "            nn.ReLU(),\n",
    "            nn.Dropout(DROP_P),\n",
    "            nn.Linear(H, H),\n",
    "            nn.ReLU(),\n",
    "            nn.Dropout(DROP_P),\n",
    "            nn.Linear(H, H),\n",
    "            nn.ReLU(),\n",
    "            nn.Linear(H, A),\n",
    "            nn.ReLU()\n",
    "#             nn.Sigmoid()\n",
    "        )\n",
    "        \n",
    "        self.model_p =  nn.Sequential(\n",
    "            nn.Dropout(DROP_P),\n",
    "            nn.Linear(INPUT_F_C, H),\n",
    "            nn.LayerNorm(H),\n",
    "            nn.ReLU(),\n",
    "            nn.Dropout(DROP_P),\n",
    "            nn.Linear(H, H),\n",
    "            nn.ReLU(),\n",
    "            nn.Dropout(DROP_P),\n",
    "            nn.Linear(H, H),\n",
    "            nn.ReLU(),\n",
    "            nn.Linear(H, A)\n",
    "#             nn.Sigmoid()\n",
    "        )\n",
    "        \n",
    "        self.map_model = nn.Sequential(\n",
    "            nn.Conv2d(7, 64, 3),\n",
    "            nn.ReLU(inplace=True),\n",
    "            nn.MaxPool2d(2),  # after -> (16,16)\n",
    "            nn.Conv2d(64, 128, 3),\n",
    "            nn.ReLU(inplace=True),\n",
    "            nn.MaxPool2d(2),  # after -> (8, 8)\n",
    "            nn.Conv2d(128, 256, 3),\n",
    "            nn.ReLU(inplace=True),\n",
    "            nn.MaxPool2d(2),  # after -> (4, 4)\n",
    "#             nn.Conv2d(128, 256, 3),\n",
    "#             nn.ReLU(inplace=True),\n",
    "#             nn.MaxPool2d(2),  # after -> (1, 1)\n",
    "        )\n",
    "        self.avgpool = nn.AdaptiveAvgPool2d((4, 4))\n",
    "        self.proj = nn.Sequential(\n",
    "            nn.Dropout(p=DROP_P),\n",
    "            nn.Linear(256 * 4 * 4, 256),\n",
    "            nn.ReLU(inplace=True),\n",
    "            nn.Dropout(p=DROP_P),\n",
    "            nn.Linear(256, 128)\n",
    "        )\n",
    "        \n",
    "    def forward(self, x):\n",
    "        L = x.shape[1]\n",
    "        cur_r = self.forward_impl(x[:, :L // 2])\n",
    "        next_r =  self.forward_impl(x[:, L // 2:])\n",
    "        return torch.cat([cur_r, next_r],dim=1)\n",
    "\n",
    "    def forward_impl(self, x):\n",
    "        mapp = x[:, -MAP_F:].reshape(-1, 32, 32, 7)\n",
    "        rest = x[:, :-MAP_F]\n",
    "        mapp = torch.transpose(mapp, 1, -1)\n",
    "        mapp = self.avgpool(self.map_model(mapp))\n",
    "        mapp = torch.flatten(mapp, 1)\n",
    "        mapp_f = self.proj(mapp)\n",
    "#         print(mapp_f.shape)\n",
    "        input_x = torch.cat([rest, mapp_f], dim=1)\n",
    "#         print(input_x.shape)\n",
    "#         return self.model_q(input_x)\n",
    "        return torch.cat([self.model_q(input_x), self.model_p(input_x)], dim=1)"
   ]
  },
  {
   "cell_type": "code",
   "execution_count": 627,
   "metadata": {},
   "outputs": [],
   "source": [
    "model = NNWithCustomFeatures(63, 0.05, 64)"
   ]
  },
  {
   "cell_type": "code",
   "execution_count": 630,
   "metadata": {},
   "outputs": [
    {
     "data": {
      "text/plain": [
       "tensor([[ 0.0000,  0.0000,  0.1109,  0.0476,  0.0000,  0.0915, -0.0937, -0.0995,\n",
       "         -0.1064,  0.0649,  0.0547, -0.0450],\n",
       "        [ 0.0000,  0.0000,  0.1094,  0.0437,  0.0000,  0.0924, -0.0958, -0.0997,\n",
       "         -0.1076,  0.0741,  0.0568, -0.0414],\n",
       "        [ 0.0000,  0.0000,  0.1109,  0.0476,  0.0000,  0.0915, -0.0927, -0.0949,\n",
       "         -0.1044,  0.0684,  0.0588, -0.0371],\n",
       "        [ 0.0000,  0.0000,  0.1147,  0.0556,  0.0000,  0.0966, -0.0937, -0.0995,\n",
       "         -0.1064,  0.0649,  0.0547, -0.0450]], grad_fn=<CatBackward>)"
      ]
     },
     "execution_count": 630,
     "metadata": {},
     "output_type": "execute_result"
    }
   ],
   "source": [
    "model.forward_impl(torch.Tensor(4, 63 + 32*32*7))"
   ]
  },
  {
   "cell_type": "code",
   "execution_count": 677,
   "metadata": {},
   "outputs": [],
   "source": [
    "ENTROPY_REG = 1e-2\n",
    "def policy_loss(pi_logits, reward_batch, a_batch, X_batch):\n",
    "    pi_probs = torch.nn.Softmax(dim=1)(pi_logits)\n",
    "    return torch.mean(torch.nn.CrossEntropyLoss(reduction='none')(pi_logits, a_batch) * reward_batch \n",
    "                      - torch.sum(pi_probs * torch.log(pi_probs) * ENTROPY_REG, dim=1))\n",
    "\n",
    "def q_loss(q_vals, reward_batch, a_batch, X_batch):\n",
    "    q_vals_per_reward = q_vals[np.arange(q_vals.shape[0]), a_batch]\n",
    "    return torch.nn.MSELoss()(q_vals_per_reward, reward_batch) * 0.01\n",
    "\n",
    "gamma = 0.99\n",
    "\n",
    "def get_is_last_state(x):\n",
    "    t = torch.sum(torch.isclose(x, torch.ones_like(x) * (-1)), dim=1) == x.shape[1]\n",
    "    return t.float()\n",
    "\n",
    "def q_loss_pair(q_vals_cur_and_next, reward_batch, a_batch, X_batch):\n",
    "    q_vals = q_vals_cur_and_next[:, :6]\n",
    "    q_vals_next = q_vals_cur_and_next[:, 6:12]\n",
    "    q_vals_per_reward_cur = q_vals[np.arange(q_vals.shape[0]), a_batch]\n",
    "    X_batch_next = X_batch[:, X_batch.shape[1] // 2:]\n",
    "    best_q_vals_next = torch.max(q_vals_next,dim=1)[0] * (1 - get_is_last_state(X_batch_next))\n",
    "#     print(list(enumerate([q_vals_per_reward_cur, reward_batch, best_q_vals_next, q_vals_next])))\n",
    "#     print(0.99 * best_q_vals_next)\n",
    "#     return torch.nn.MSELoss()(target=q_vals_per_reward_cur.detach(), input=reward_batch + gamma * best_q_vals_next)\n",
    "    return torch.nn.SmoothL1Loss()(target=q_vals_per_reward_cur.detach(), input=reward_batch + gamma * best_q_vals_next)\n",
    "\n",
    "\n",
    "def actor_critic_loss(q_pi_payload, reward_batch, a_batch, X_batch):\n",
    "    q_vals = q_pi_payload[:, :6]\n",
    "    pi_logits =  q_pi_payload[:, 6:12]\n",
    "    pi_probs = torch.nn.Softmax(dim=1)(pi_logits)\n",
    "    q_vals_next = q_pi_payload[:, 12:18]\n",
    "    q_vals_per_reward_cur = q_vals[np.arange(q_vals.shape[0]), a_batch]\n",
    "    X_batch_next = X_batch[:, X_batch.shape[1] // 2:]\n",
    "    best_q_vals_next = torch.max(q_vals_next,dim=1)[0] * (1 - get_is_last_state(X_batch_next))\n",
    "    advantage = reward_batch + gamma * best_q_vals_next - q_vals_per_reward_cur\n",
    "    q_loss = torch.nn.SmoothL1Loss()(target=reward_batch + gamma * best_q_vals_next.detach(), input=q_vals_per_reward_cur)\n",
    "    pi_loss =  torch.mean(torch.nn.CrossEntropyLoss(reduction='none')(pi_logits, a_batch) * advantage.detach()\n",
    "                      - torch.sum(pi_probs * torch.log(pi_probs) * ENTROPY_REG, dim=1))\n",
    "#     print(\"q_loss={}, pi_loss={}\".format(q_loss.item(), pi_loss.item()))\n",
    "    return q_loss + pi_loss"
   ]
  },
  {
   "cell_type": "code",
   "execution_count": 429,
   "metadata": {},
   "outputs": [],
   "source": [
    "simple_bot = \"../submissions/simple/main.py\"\n",
    "replays = \"replays\"\n",
    "\n",
    "def run_game(left_bot=simple_bot, right_bot=simple_bot, seed=42, loglevel=2):\n",
    "    replay_path = \"replay.json\"\n",
    "    python_v = \"python3.7\"\n",
    "    \n",
    "    replay_path = os.path.join(replays, str(np.random.randint(1e9)) + \".json\")\n",
    "    \n",
    "    size = np.random.choice([12,16,24,32], size=1)[0]\n",
    "    \n",
    "    res = subprocess.run([\n",
    "        \"lux-ai-2021\",\n",
    "        left_bot,\n",
    "        right_bot,\n",
    "#         \"--statefulReplay\",\n",
    "        \"--width={}\".format(size),\n",
    "        \"--height={}\".format(size),\n",
    "        \"--loglevel={}\".format(loglevel),\n",
    "        \"--python={}\".format(python_v),\n",
    "        \"--maxtime=100000\",\n",
    "        \"--maxConcurrentMatches=1\",\n",
    "        \"--seed={}\".format(seed),\n",
    "        \"--out={}\".format(replay_path)], stdout=subprocess.PIPE)\n",
    "    \n",
    "    if loglevel > 0:\n",
    "        print(res.stdout.decode())\n",
    "\n",
    "    assert res.returncode == 0\n",
    "\n",
    "    with open(replay_path, \"r\") as f:\n",
    "        result = json.load(f)\n",
    "    return result, res.stdout.decode()"
   ]
  },
  {
   "cell_type": "code",
   "execution_count": 432,
   "metadata": {
    "scrolled": true
   },
   "outputs": [],
   "source": [
    "run_game(simple_bot, simple_bot)  # <-- test run one game with default bot"
   ]
  },
  {
   "cell_type": "code",
   "execution_count": 98,
   "metadata": {},
   "outputs": [],
   "source": [
    "import hashlib\n",
    "\n",
    "def build_runnable_bot_with_flags(flags: dict, origin = simple_bot, base_path = '../submissions/simple/') -> str:\n",
    "    lines = []\n",
    "    with open(origin, \"r\") as f:\n",
    "        for line in f:\n",
    "            lines.append(line[:-1])\n",
    "    text = '\\n'.join(lines)\n",
    "    f = json.dumps(flags)\n",
    "    text = text.format(f)\n",
    "    h = int(hashlib.sha256(f.encode('utf-8')).hexdigest(), 16) % (10 ** 18)\n",
    "    path = base_path + \"main_\" + str(h) + \".py\"\n",
    "    with open(path, \"w\") as f:\n",
    "        f.write(text)\n",
    "    return path"
   ]
  },
  {
   "cell_type": "code",
   "execution_count": 229,
   "metadata": {},
   "outputs": [],
   "source": [
    "def count_series(results: list):\n",
    "    wins = []\n",
    "    for i, r in enumerate(results):\n",
    "        ranks = r[0]['results']['ranks']\n",
    "        teams = r[0]['teamDetails']\n",
    "        if ranks[0]['rank'] == 1 and ranks[1]['rank'] == 2:\n",
    "            if ranks[0][\"agentID\"] == i % 2:\n",
    "                wins.append(1)\n",
    "            else:\n",
    "                wins.append(0)\n",
    "        else:\n",
    "            wins.append(0.5)\n",
    "    return wins"
   ]
  },
  {
   "cell_type": "code",
   "execution_count": 100,
   "metadata": {},
   "outputs": [],
   "source": [
    "from joblib import Parallel, delayed\n",
    "import tqdm"
   ]
  },
  {
   "cell_type": "code",
   "execution_count": 614,
   "metadata": {},
   "outputs": [],
   "source": [
    "def sample_dataset(d, p=0.5):\n",
    "    N = len(d.features)\n",
    "    ids = np.random.choice(N, size=int(N * p))\n",
    "    return dataset.Dataset(features = d.features[ids], weights = d.weights[ids], targets = d.targets[ids])"
   ]
  },
  {
   "cell_type": "code",
   "execution_count": 492,
   "metadata": {},
   "outputs": [],
   "source": [
    "def add_next_features(d):\n",
    "    assert d.next_state_id is not None\n",
    "    coupled_features = []\n",
    "    weights = []\n",
    "    targets = []\n",
    "    for i in np.arange(d.features.shape[0]):\n",
    "        next_i = d.next_state_id[i]\n",
    "        if d.next_state_id[i] != -1:\n",
    "            next_f = d.features[next_i]\n",
    "        else:\n",
    "            next_f = np.ones_like(d.features[i]) * (-1)\n",
    "        coupled_features.append(np.concatenate([d.features[i], next_f]))\n",
    "        weights.append(d.weights[i])\n",
    "        targets.append(d.targets[i])\n",
    "    return dataset.Dataset(\n",
    "        features=np.array(coupled_features),\n",
    "        weights=np.array(weights),\n",
    "        targets=np.array(targets))"
   ]
  },
  {
   "cell_type": "code",
   "execution_count": null,
   "metadata": {
    "scrolled": true
   },
   "outputs": [
    {
     "name": "stderr",
     "output_type": "stream",
     "text": [
      "/Library/Frameworks/Python.framework/Versions/3.7/lib/python3.7/site-packages/IPython/core/interactiveshell.py:3338: DtypeWarning: Columns (9,10,11,12,13,14) have mixed types.Specify dtype option on import or set low_memory=False.\n",
      "  if (await self.run_code(code, result,  async_=asy)):\n"
     ]
    },
    {
     "name": "stdout",
     "output_type": "stream",
     "text": [
      "Round 1, winrate: 0.0, max_step: 359, reward: 1, example: {'ranks': [{'rank': 1, 'agentID': 0}, {'rank': 2, 'agentID': 1}], 'replayFile': 'replays/717354021.json'}\n",
      "train loss in 1 epoch in 1 batch: 0.13380\n",
      "val loss in 1 epoch: 79.47787\n",
      "train loss in 1 epoch in 2 batch: 90.93904\n",
      "val loss in 1 epoch: 100.33106\n",
      "train loss in 1 epoch in 3 batch: 92.60023\n",
      "val loss in 1 epoch: 213.08604\n",
      "train loss in 1 epoch in 4 batch: 286.67859\n",
      "val loss in 1 epoch: 449.73454\n",
      "Round 2, winrate: 0.0, max_step: 110, reward: 0, example: {'ranks': [{'rank': 1, 'agentID': 1}, {'rank': 2, 'agentID': 0}], 'replayFile': 'replays/798842024.json'}\n",
      "train loss in 1 epoch in 1 batch: 646.99487\n",
      "val loss in 1 epoch: 240.44003\n",
      "Round 3, winrate: 0.0, max_step: 158, reward: 0, example: {'ranks': [{'rank': 1, 'agentID': 0}, {'rank': 2, 'agentID': 1}], 'replayFile': 'replays/218175338.json'}\n",
      "train loss in 1 epoch in 1 batch: 108.87628\n",
      "val loss in 1 epoch: 653.31531\n",
      "Round 4, winrate: 0.0, max_step: 70, reward: 0, example: {'ranks': [{'rank': 1, 'agentID': 1}, {'rank': 2, 'agentID': 0}], 'replayFile': 'replays/932136058.json'}\n",
      "train loss in 1 epoch in 1 batch: 253.74139\n",
      "val loss in 1 epoch: 1099.24683\n",
      "Round 5, winrate: 0.0, max_step: 30, reward: 0, example: {'ranks': [{'rank': 1, 'agentID': 0}, {'rank': 2, 'agentID': 1}], 'replayFile': 'replays/953453411.json'}\n",
      "train loss in 1 epoch in 1 batch: 4105.09668\n",
      "val loss in 1 epoch: 988.96228\n",
      "Round 6, winrate: 0.0, max_step: 350, reward: 0, example: {'ranks': [{'rank': 1, 'agentID': 1}, {'rank': 2, 'agentID': 0}], 'replayFile': 'replays/613579658.json'}\n",
      "train loss in 1 epoch in 1 batch: 837.63574\n",
      "val loss in 1 epoch: 638.92494\n",
      "Round 7, winrate: 0.0, max_step: 191, reward: 0, example: {'ranks': [{'rank': 1, 'agentID': 0}, {'rank': 2, 'agentID': 1}], 'replayFile': 'replays/327741615.json'}\n",
      "train loss in 1 epoch in 1 batch: 714.79443\n",
      "val loss in 1 epoch: 286.19728\n",
      "Round 8, winrate: 0.0, max_step: 152, reward: 0, example: {'ranks': [{'rank': 1, 'agentID': 1}, {'rank': 2, 'agentID': 0}], 'replayFile': 'replays/530125251.json'}\n",
      "train loss in 1 epoch in 1 batch: 504.74957\n",
      "val loss in 1 epoch: 747.43002\n"
     ]
    },
    {
     "name": "stderr",
     "output_type": "stream",
     "text": [
      "/Library/Frameworks/Python.framework/Versions/3.7/lib/python3.7/site-packages/IPython/core/interactiveshell.py:3338: DtypeWarning: Columns (26,27,28) have mixed types.Specify dtype option on import or set low_memory=False.\n",
      "  if (await self.run_code(code, result,  async_=asy)):\n"
     ]
    },
    {
     "name": "stdout",
     "output_type": "stream",
     "text": [
      "Round 9, winrate: 0.0, max_step: 269, reward: 0, example: {'ranks': [{'rank': 1, 'agentID': 0}, {'rank': 2, 'agentID': 1}], 'replayFile': 'replays/44556670.json'}\n",
      "train loss in 1 epoch in 1 batch: 609.60803\n",
      "val loss in 1 epoch: 415.93657\n"
     ]
    },
    {
     "name": "stderr",
     "output_type": "stream",
     "text": [
      "/Library/Frameworks/Python.framework/Versions/3.7/lib/python3.7/site-packages/IPython/core/interactiveshell.py:3338: DtypeWarning: Columns (9,10,11,12,13,14) have mixed types.Specify dtype option on import or set low_memory=False.\n",
      "  if (await self.run_code(code, result,  async_=asy)):\n"
     ]
    },
    {
     "name": "stdout",
     "output_type": "stream",
     "text": [
      "Round 10, winrate: 0.0, max_step: 192, reward: 0, example: {'ranks': [{'rank': 1, 'agentID': 1}, {'rank': 2, 'agentID': 0}], 'replayFile': 'replays/91571465.json'}\n",
      "train loss in 1 epoch in 1 batch: 1230.62231\n",
      "val loss in 1 epoch: 625.68748\n",
      "Round 11, winrate: 0.0, max_step: 110, reward: 0, example: {'ranks': [{'rank': 1, 'agentID': 0}, {'rank': 2, 'agentID': 1}], 'replayFile': 'replays/774252441.json'}\n",
      "train loss in 1 epoch in 1 batch: 925.72229\n",
      "val loss in 1 epoch: 459.82204\n",
      "Round 12, winrate: 0.0, max_step: 109, reward: 0, example: {'ranks': [{'rank': 1, 'agentID': 1}, {'rank': 2, 'agentID': 0}], 'replayFile': 'replays/662124363.json'}\n",
      "train loss in 1 epoch in 1 batch: 871.60339\n",
      "val loss in 1 epoch: -805.75122\n",
      "Round 13, winrate: 0.0, max_step: 71, reward: 0, example: {'ranks': [{'rank': 1, 'agentID': 0}, {'rank': 2, 'agentID': 1}], 'replayFile': 'replays/118980946.json'}\n",
      "train loss in 1 epoch in 1 batch: 415.10941\n",
      "val loss in 1 epoch: 552.16748\n",
      "Round 14, winrate: 0.0, max_step: 70, reward: 0, example: {'ranks': [{'rank': 1, 'agentID': 1}, {'rank': 2, 'agentID': 0}], 'replayFile': 'replays/59886187.json'}\n",
      "train loss in 1 epoch in 1 batch: 1060.10925\n",
      "val loss in 1 epoch: 67.07697\n",
      "Round 15, winrate: 0.0, max_step: 30, reward: 0, example: {'ranks': [{'rank': 1, 'agentID': 0}, {'rank': 2, 'agentID': 1}], 'replayFile': 'replays/424418760.json'}\n",
      "train loss in 1 epoch in 1 batch: 0.78018\n",
      "val loss in 1 epoch: 826.53168\n",
      "Round 16, winrate: 0.0, max_step: 350, reward: 0, example: {'ranks': [{'rank': 1, 'agentID': 1}, {'rank': 2, 'agentID': 0}], 'replayFile': 'replays/959027881.json'}\n",
      "train loss in 1 epoch in 1 batch: 712.24890\n",
      "val loss in 1 epoch: 681.18365\n",
      "Round 17, winrate: 0.0, max_step: 75, reward: 0, example: {'ranks': [{'rank': 1, 'agentID': 0}, {'rank': 2, 'agentID': 1}], 'replayFile': 'replays/191834735.json'}\n",
      "train loss in 1 epoch in 1 batch: 672.01868\n",
      "val loss in 1 epoch: 554.85114\n",
      "Round 18, winrate: 0.0, max_step: 38, reward: 0, example: {'ranks': [{'rank': 1, 'agentID': 1}, {'rank': 2, 'agentID': 0}], 'replayFile': 'replays/645852458.json'}\n",
      "train loss in 1 epoch in 1 batch: 1664.45044\n",
      "val loss in 1 epoch: 514.15387\n",
      "Round 19, winrate: 0.0, max_step: 70, reward: 0, example: {'ranks': [{'rank': 1, 'agentID': 0}, {'rank': 2, 'agentID': 1}], 'replayFile': 'replays/418903645.json'}\n",
      "train loss in 1 epoch in 1 batch: -50.41235\n",
      "val loss in 1 epoch: 865.06702\n",
      "Round 20, winrate: 0.0, max_step: 70, reward: 0, example: {'ranks': [{'rank': 1, 'agentID': 1}, {'rank': 2, 'agentID': 0}], 'replayFile': 'replays/378518883.json'}\n",
      "train loss in 1 epoch in 1 batch: 948.99017\n",
      "val loss in 1 epoch: 776.26874\n",
      "Round 21, winrate: 0.0, max_step: 149, reward: 0, example: {'ranks': [{'rank': 1, 'agentID': 0}, {'rank': 2, 'agentID': 1}], 'replayFile': 'replays/209271753.json'}\n",
      "train loss in 1 epoch in 1 batch: 1752.16479\n",
      "val loss in 1 epoch: 868.33099\n",
      "Round 22, winrate: 0.0, max_step: 109, reward: 0, example: {'ranks': [{'rank': 1, 'agentID': 1}, {'rank': 2, 'agentID': 0}], 'replayFile': 'replays/895331189.json'}\n",
      "train loss in 1 epoch in 1 batch: 1313.71045\n",
      "val loss in 1 epoch: 188.59383\n",
      "Round 23, winrate: 0.0, max_step: 149, reward: 0, example: {'ranks': [{'rank': 1, 'agentID': 0}, {'rank': 2, 'agentID': 1}], 'replayFile': 'replays/74293843.json'}\n",
      "train loss in 1 epoch in 1 batch: 993.87555\n",
      "val loss in 1 epoch: 692.08989\n"
     ]
    },
    {
     "name": "stderr",
     "output_type": "stream",
     "text": [
      "/Library/Frameworks/Python.framework/Versions/3.7/lib/python3.7/site-packages/IPython/core/interactiveshell.py:3338: DtypeWarning: Columns (9,10,11,12,13,14) have mixed types.Specify dtype option on import or set low_memory=False.\n",
      "  if (await self.run_code(code, result,  async_=asy)):\n"
     ]
    },
    {
     "name": "stdout",
     "output_type": "stream",
     "text": [
      "Round 24, winrate: 0.0, max_step: 359, reward: 0, example: {'ranks': [{'rank': 1, 'agentID': 1}, {'rank': 2, 'agentID': 0}], 'replayFile': 'replays/902017442.json'}\n",
      "train loss in 1 epoch in 1 batch: 453.71527\n",
      "val loss in 1 epoch: 314.02766\n",
      "Round 25, winrate: 0.0, max_step: 71, reward: 0, example: {'ranks': [{'rank': 1, 'agentID': 0}, {'rank': 2, 'agentID': 1}], 'replayFile': 'replays/515929220.json'}\n",
      "train loss in 1 epoch in 1 batch: 398.65155\n",
      "val loss in 1 epoch: 48.21088\n",
      "Round 26, winrate: 0.0, max_step: 230, reward: 0, example: {'ranks': [{'rank': 1, 'agentID': 1}, {'rank': 2, 'agentID': 0}], 'replayFile': 'replays/248828725.json'}\n",
      "train loss in 1 epoch in 1 batch: 1058.64026\n",
      "val loss in 1 epoch: 235.01193\n",
      "Round 27, winrate: 0.0, max_step: 69, reward: 0, example: {'ranks': [{'rank': 1, 'agentID': 0}, {'rank': 2, 'agentID': 1}], 'replayFile': 'replays/754717715.json'}\n",
      "train loss in 1 epoch in 1 batch: 568.18237\n",
      "val loss in 1 epoch: 265.14249\n",
      "Round 28, winrate: 0.0, max_step: 31, reward: 0, example: {'ranks': [{'rank': 1, 'agentID': 1}, {'rank': 2, 'agentID': 0}], 'replayFile': 'replays/983606529.json'}\n",
      "train loss in 1 epoch in 1 batch: -1688.49402\n",
      "val loss in 1 epoch: 153.88898\n",
      "Round 29, winrate: 0.0, max_step: 189, reward: 0, example: {'ranks': [{'rank': 1, 'agentID': 0}, {'rank': 2, 'agentID': 1}], 'replayFile': 'replays/488595413.json'}\n",
      "train loss in 1 epoch in 1 batch: 431.62341\n",
      "val loss in 1 epoch: 548.76100\n",
      "Round 30, winrate: 0.0, max_step: 112, reward: 0, example: {'ranks': [{'rank': 1, 'agentID': 1}, {'rank': 2, 'agentID': 0}], 'replayFile': 'replays/619091749.json'}\n",
      "train loss in 1 epoch in 1 batch: 392.21701\n",
      "val loss in 1 epoch: 450.68549\n",
      "Round 31, winrate: 0.0, max_step: 149, reward: 0, example: {'ranks': [{'rank': 1, 'agentID': 0}, {'rank': 2, 'agentID': 1}], 'replayFile': 'replays/154850002.json'}\n",
      "train loss in 1 epoch in 1 batch: 1704.81494\n",
      "val loss in 1 epoch: 377.17969\n",
      "Round 32, winrate: 0.0, max_step: 110, reward: 0, example: {'ranks': [{'rank': 1, 'agentID': 1}, {'rank': 2, 'agentID': 0}], 'replayFile': 'replays/467675863.json'}\n",
      "train loss in 1 epoch in 1 batch: 1099.18237\n",
      "val loss in 1 epoch: 47.37404\n"
     ]
    },
    {
     "name": "stderr",
     "output_type": "stream",
     "text": [
      "/Library/Frameworks/Python.framework/Versions/3.7/lib/python3.7/site-packages/IPython/core/interactiveshell.py:3338: DtypeWarning: Columns (26,27,28) have mixed types.Specify dtype option on import or set low_memory=False.\n",
      "  if (await self.run_code(code, result,  async_=asy)):\n"
     ]
    },
    {
     "name": "stdout",
     "output_type": "stream",
     "text": [
      "Round 33, winrate: 0.0, max_step: 149, reward: 0, example: {'ranks': [{'rank': 1, 'agentID': 0}, {'rank': 2, 'agentID': 1}], 'replayFile': 'replays/814680455.json'}\n",
      "train loss in 1 epoch in 1 batch: 8.44952\n",
      "val loss in 1 epoch: 159.60605\n"
     ]
    },
    {
     "name": "stderr",
     "output_type": "stream",
     "text": [
      "/Library/Frameworks/Python.framework/Versions/3.7/lib/python3.7/site-packages/IPython/core/interactiveshell.py:3338: DtypeWarning: Columns (9,10,11,12,13,14) have mixed types.Specify dtype option on import or set low_memory=False.\n",
      "  if (await self.run_code(code, result,  async_=asy)):\n"
     ]
    },
    {
     "name": "stdout",
     "output_type": "stream",
     "text": [
      "Round 34, winrate: 0.0, max_step: 150, reward: 0, example: {'ranks': [{'rank': 1, 'agentID': 1}, {'rank': 2, 'agentID': 0}], 'replayFile': 'replays/165621153.json'}\n",
      "train loss in 1 epoch in 1 batch: 223.34302\n",
      "val loss in 1 epoch: 507.59639\n",
      "Round 35, winrate: 0.0, max_step: 359, reward: 1, example: {'ranks': [{'rank': 1, 'agentID': 0}, {'rank': 2, 'agentID': 1}], 'replayFile': 'replays/893589193.json'}\n",
      "train loss in 1 epoch in 1 batch: 590.32208\n",
      "val loss in 1 epoch: 523.32595\n"
     ]
    },
    {
     "name": "stderr",
     "output_type": "stream",
     "text": [
      "/Library/Frameworks/Python.framework/Versions/3.7/lib/python3.7/site-packages/IPython/core/interactiveshell.py:3338: DtypeWarning: Columns (17,18,19,20,21,22) have mixed types.Specify dtype option on import or set low_memory=False.\n",
      "  if (await self.run_code(code, result,  async_=asy)):\n"
     ]
    },
    {
     "name": "stdout",
     "output_type": "stream",
     "text": [
      "Round 36, winrate: 0.0, max_step: 229, reward: 0, example: {'ranks': [{'rank': 1, 'agentID': 1}, {'rank': 2, 'agentID': 0}], 'replayFile': 'replays/981430917.json'}\n",
      "train loss in 1 epoch in 1 batch: 319.27985\n",
      "val loss in 1 epoch: 153.97856\n",
      "Round 37, winrate: 0.0, max_step: 315, reward: 0, example: {'ranks': [{'rank': 1, 'agentID': 0}, {'rank': 2, 'agentID': 1}], 'replayFile': 'replays/835356559.json'}\n",
      "train loss in 1 epoch in 1 batch: 377.61340\n",
      "val loss in 1 epoch: 258.99935\n",
      "Round 38, winrate: 0.0, max_step: 270, reward: 0, example: {'ranks': [{'rank': 1, 'agentID': 1}, {'rank': 2, 'agentID': 0}], 'replayFile': 'replays/578846113.json'}\n",
      "train loss in 1 epoch in 1 batch: 334.19467\n",
      "val loss in 1 epoch: 404.68533\n",
      "Round 39, winrate: 0.0, max_step: 110, reward: 0, example: {'ranks': [{'rank': 1, 'agentID': 0}, {'rank': 2, 'agentID': 1}], 'replayFile': 'replays/201387401.json'}\n",
      "train loss in 1 epoch in 1 batch: -109.90990\n",
      "val loss in 1 epoch: 192.26283\n",
      "Round 40, winrate: 0.0, max_step: 149, reward: 0, example: {'ranks': [{'rank': 1, 'agentID': 1}, {'rank': 2, 'agentID': 0}], 'replayFile': 'replays/677260614.json'}\n",
      "train loss in 1 epoch in 1 batch: 1179.70935\n",
      "val loss in 1 epoch: 328.79622\n",
      "Round 41, winrate: 0.0, max_step: 72, reward: 0, example: {'ranks': [{'rank': 1, 'agentID': 0}, {'rank': 2, 'agentID': 1}], 'replayFile': 'replays/3966912.json'}\n",
      "train loss in 1 epoch in 1 batch: -515.17950\n",
      "val loss in 1 epoch: -126.13882\n"
     ]
    },
    {
     "name": "stderr",
     "output_type": "stream",
     "text": [
      "/Library/Frameworks/Python.framework/Versions/3.7/lib/python3.7/site-packages/IPython/core/interactiveshell.py:3338: DtypeWarning: Columns (9,10,11,12,13,14) have mixed types.Specify dtype option on import or set low_memory=False.\n",
      "  if (await self.run_code(code, result,  async_=asy)):\n"
     ]
    },
    {
     "name": "stdout",
     "output_type": "stream",
     "text": [
      "Round 42, winrate: 0.0, max_step: 190, reward: 0, example: {'ranks': [{'rank': 1, 'agentID': 1}, {'rank': 2, 'agentID': 0}], 'replayFile': 'replays/534895718.json'}\n",
      "train loss in 1 epoch in 1 batch: 567.14795\n",
      "val loss in 1 epoch: 280.16150\n",
      "Round 43, winrate: 0.0, max_step: 110, reward: 0, example: {'ranks': [{'rank': 1, 'agentID': 0}, {'rank': 2, 'agentID': 1}], 'replayFile': 'replays/494155588.json'}\n",
      "train loss in 1 epoch in 1 batch: 812.22900\n",
      "val loss in 1 epoch: 278.70825\n",
      "Round 44, winrate: 0.0, max_step: 349, reward: 0, example: {'ranks': [{'rank': 1, 'agentID': 1}, {'rank': 2, 'agentID': 0}], 'replayFile': 'replays/364394260.json'}\n",
      "train loss in 1 epoch in 1 batch: 380.40613\n",
      "val loss in 1 epoch: 154.50598\n"
     ]
    },
    {
     "name": "stderr",
     "output_type": "stream",
     "text": [
      "/Library/Frameworks/Python.framework/Versions/3.7/lib/python3.7/site-packages/IPython/core/interactiveshell.py:3338: DtypeWarning: Columns (17,18,19,20,21,22) have mixed types.Specify dtype option on import or set low_memory=False.\n",
      "  if (await self.run_code(code, result,  async_=asy)):\n"
     ]
    },
    {
     "name": "stdout",
     "output_type": "stream",
     "text": [
      "Round 45, winrate: 0.0, max_step: 315, reward: 0, example: {'ranks': [{'rank': 1, 'agentID': 0}, {'rank': 2, 'agentID': 1}], 'replayFile': 'replays/234232222.json'}\n",
      "train loss in 1 epoch in 1 batch: 377.41553\n",
      "val loss in 1 epoch: 163.27263\n"
     ]
    },
    {
     "name": "stderr",
     "output_type": "stream",
     "text": [
      "/Library/Frameworks/Python.framework/Versions/3.7/lib/python3.7/site-packages/IPython/core/interactiveshell.py:3338: DtypeWarning: Columns (9,10,11,12,13,14) have mixed types.Specify dtype option on import or set low_memory=False.\n",
      "  if (await self.run_code(code, result,  async_=asy)):\n"
     ]
    },
    {
     "name": "stdout",
     "output_type": "stream",
     "text": [
      "Round 46, winrate: 0.0, max_step: 350, reward: 0, example: {'ranks': [{'rank': 1, 'agentID': 1}, {'rank': 2, 'agentID': 0}], 'replayFile': 'replays/145308861.json'}\n",
      "train loss in 1 epoch in 1 batch: 378.79324\n",
      "val loss in 1 epoch: 155.71810\n",
      "Round 47, winrate: 0.0, max_step: 70, reward: 0, example: {'ranks': [{'rank': 1, 'agentID': 0}, {'rank': 2, 'agentID': 1}], 'replayFile': 'replays/487429255.json'}\n",
      "train loss in 1 epoch in 1 batch: -188.90933\n",
      "val loss in 1 epoch: 160.42128\n",
      "Round 48, winrate: 0.0, max_step: 70, reward: 0, example: {'ranks': [{'rank': 1, 'agentID': 1}, {'rank': 2, 'agentID': 0}], 'replayFile': 'replays/75120128.json'}\n",
      "train loss in 1 epoch in 1 batch: -219.71075\n",
      "val loss in 1 epoch: -6.40033\n",
      "Round 49, winrate: 0.0, max_step: 37, reward: 0, example: {'ranks': [{'rank': 1, 'agentID': 0}, {'rank': 2, 'agentID': 1}], 'replayFile': 'replays/218890666.json'}\n",
      "train loss in 1 epoch in 1 batch: 3063.46118\n",
      "val loss in 1 epoch: 145.18521\n",
      "Round 50, winrate: 0.0, max_step: 194, reward: 0, example: {'ranks': [{'rank': 1, 'agentID': 1}, {'rank': 2, 'agentID': 0}], 'replayFile': 'replays/554800608.json'}\n",
      "train loss in 1 epoch in 1 batch: 133.23792\n",
      "val loss in 1 epoch: -89.28468\n",
      "Round 51, winrate: 0.0, max_step: 69, reward: 0, example: {'ranks': [{'rank': 1, 'agentID': 0}, {'rank': 2, 'agentID': 1}], 'replayFile': 'replays/754760702.json'}\n",
      "train loss in 1 epoch in 1 batch: 255.89474\n",
      "val loss in 1 epoch: 123.51601\n",
      "Round 52, winrate: 0.0, max_step: 276, reward: 0, example: {'ranks': [{'rank': 1, 'agentID': 1}, {'rank': 2, 'agentID': 0}], 'replayFile': 'replays/314006517.json'}\n",
      "train loss in 1 epoch in 1 batch: 98.24387\n",
      "val loss in 1 epoch: 47.52368\n",
      "train loss in 1 epoch in 2 batch: -267.30035\n",
      "val loss in 1 epoch: -34.32971\n",
      "Round 53, winrate: 0.0, max_step: 110, reward: 0, example: {'ranks': [{'rank': 1, 'agentID': 0}, {'rank': 2, 'agentID': 1}], 'replayFile': 'replays/415161881.json'}\n",
      "train loss in 1 epoch in 1 batch: 585.34406\n",
      "val loss in 1 epoch: 213.01552\n",
      "Round 54, winrate: 0.0, max_step: 30, reward: 0, example: {'ranks': [{'rank': 1, 'agentID': 1}, {'rank': 2, 'agentID': 0}], 'replayFile': 'replays/730930287.json'}\n",
      "train loss in 1 epoch in 1 batch: -15.06779\n",
      "val loss in 1 epoch: 97.32780\n",
      "Round 55, winrate: 0.0, max_step: 110, reward: 0, example: {'ranks': [{'rank': 1, 'agentID': 0}, {'rank': 2, 'agentID': 1}], 'replayFile': 'replays/399897037.json'}\n",
      "train loss in 1 epoch in 1 batch: 406.12244\n",
      "val loss in 1 epoch: 191.02290\n"
     ]
    },
    {
     "name": "stderr",
     "output_type": "stream",
     "text": [
      "/Library/Frameworks/Python.framework/Versions/3.7/lib/python3.7/site-packages/IPython/core/interactiveshell.py:3338: DtypeWarning: Columns (9,10,11,12,13,14) have mixed types.Specify dtype option on import or set low_memory=False.\n",
      "  if (await self.run_code(code, result,  async_=asy)):\n"
     ]
    },
    {
     "name": "stdout",
     "output_type": "stream",
     "text": [
      "Round 56, winrate: 0.0, max_step: 238, reward: 0, example: {'ranks': [{'rank': 1, 'agentID': 1}, {'rank': 2, 'agentID': 0}], 'replayFile': 'replays/412060132.json'}\n",
      "train loss in 1 epoch in 1 batch: 347.99115\n",
      "val loss in 1 epoch: 425.22127\n",
      "Round 57, winrate: 0.0, max_step: 30, reward: 0, example: {'ranks': [{'rank': 1, 'agentID': 0}, {'rank': 2, 'agentID': 1}], 'replayFile': 'replays/375163855.json'}\n",
      "train loss in 1 epoch in 1 batch: -169.43140\n",
      "val loss in 1 epoch: 467.17303\n",
      "Round 58, winrate: 0.0, max_step: 69, reward: 0, example: {'ranks': [{'rank': 1, 'agentID': 1}, {'rank': 2, 'agentID': 0}], 'replayFile': 'replays/494374691.json'}\n",
      "train loss in 1 epoch in 1 batch: 1987.19458\n",
      "val loss in 1 epoch: 577.78088\n",
      "Round 59, winrate: 0.0, max_step: 154, reward: 0, example: {'ranks': [{'rank': 1, 'agentID': 0}, {'rank': 2, 'agentID': 1}], 'replayFile': 'replays/747475121.json'}\n",
      "train loss in 1 epoch in 1 batch: 468.19543\n",
      "val loss in 1 epoch: 484.97946\n",
      "Round 60, winrate: 0.0, max_step: 150, reward: 0, example: {'ranks': [{'rank': 1, 'agentID': 1}, {'rank': 2, 'agentID': 0}], 'replayFile': 'replays/218499277.json'}\n",
      "train loss in 1 epoch in 1 batch: 239.64542\n",
      "val loss in 1 epoch: 310.39283\n",
      "Round 61, winrate: 0.0, max_step: 150, reward: 0, example: {'ranks': [{'rank': 1, 'agentID': 0}, {'rank': 2, 'agentID': 1}], 'replayFile': 'replays/319843939.json'}\n",
      "train loss in 1 epoch in 1 batch: 103.60468\n",
      "val loss in 1 epoch: 209.19727\n",
      "Round 62, winrate: 0.0, max_step: 194, reward: 0, example: {'ranks': [{'rank': 1, 'agentID': 1}, {'rank': 2, 'agentID': 0}], 'replayFile': 'replays/144975378.json'}\n",
      "train loss in 1 epoch in 1 batch: 344.35876\n",
      "val loss in 1 epoch: 188.92744\n"
     ]
    },
    {
     "name": "stderr",
     "output_type": "stream",
     "text": [
      "/Library/Frameworks/Python.framework/Versions/3.7/lib/python3.7/site-packages/IPython/core/interactiveshell.py:3338: DtypeWarning: Columns (26,27,28) have mixed types.Specify dtype option on import or set low_memory=False.\n",
      "  if (await self.run_code(code, result,  async_=asy)):\n"
     ]
    },
    {
     "name": "stdout",
     "output_type": "stream",
     "text": [
      "Round 63, winrate: 0.0, max_step: 230, reward: 0, example: {'ranks': [{'rank': 1, 'agentID': 0}, {'rank': 2, 'agentID': 1}], 'replayFile': 'replays/231674924.json'}\n",
      "train loss in 1 epoch in 1 batch: 472.59058\n",
      "val loss in 1 epoch: 5.18203\n",
      "Round 64, winrate: 0.0, max_step: 117, reward: 0, example: {'ranks': [{'rank': 1, 'agentID': 1}, {'rank': 2, 'agentID': 0}], 'replayFile': 'replays/554473924.json'}\n",
      "train loss in 1 epoch in 1 batch: 358.97559\n",
      "val loss in 1 epoch: -90.26247\n",
      "Round 65, winrate: 0.0, max_step: 114, reward: 0, example: {'ranks': [{'rank': 1, 'agentID': 0}, {'rank': 2, 'agentID': 1}], 'replayFile': 'replays/939073326.json'}\n",
      "train loss in 1 epoch in 1 batch: 737.32837\n",
      "val loss in 1 epoch: -593.73454\n",
      "Round 66, winrate: 0.0, max_step: 118, reward: 0, example: {'ranks': [{'rank': 1, 'agentID': 1}, {'rank': 2, 'agentID': 0}], 'replayFile': 'replays/662660116.json'}\n",
      "train loss in 1 epoch in 1 batch: 710.02600\n",
      "val loss in 1 epoch: 87.05142\n",
      "Round 67, winrate: 0.0, max_step: 114, reward: 0, example: {'ranks': [{'rank': 1, 'agentID': 0}, {'rank': 2, 'agentID': 1}], 'replayFile': 'replays/196930371.json'}\n",
      "train loss in 1 epoch in 1 batch: 836.43738\n",
      "val loss in 1 epoch: 200.61572\n",
      "Round 68, winrate: 0.0, max_step: 69, reward: 0, example: {'ranks': [{'rank': 1, 'agentID': 1}, {'rank': 2, 'agentID': 0}], 'replayFile': 'replays/40250175.json'}\n",
      "train loss in 1 epoch in 1 batch: -141.54576\n",
      "val loss in 1 epoch: 204.52960\n",
      "Round 69, winrate: 0.0, max_step: 69, reward: 0, example: {'ranks': [{'rank': 1, 'agentID': 0}, {'rank': 2, 'agentID': 1}], 'replayFile': 'replays/198638646.json'}\n",
      "train loss in 1 epoch in 1 batch: 849.31543\n",
      "val loss in 1 epoch: 119.90109\n",
      "Round 70, winrate: 0.0, max_step: 70, reward: 0, example: {'ranks': [{'rank': 1, 'agentID': 1}, {'rank': 2, 'agentID': 0}], 'replayFile': 'replays/762273102.json'}\n",
      "train loss in 1 epoch in 1 batch: -616.73987\n",
      "val loss in 1 epoch: 158.15070\n"
     ]
    },
    {
     "name": "stderr",
     "output_type": "stream",
     "text": [
      "/Library/Frameworks/Python.framework/Versions/3.7/lib/python3.7/site-packages/IPython/core/interactiveshell.py:3338: DtypeWarning: Columns (9,10,11,12,13,14) have mixed types.Specify dtype option on import or set low_memory=False.\n",
      "  if (await self.run_code(code, result,  async_=asy)):\n"
     ]
    },
    {
     "name": "stdout",
     "output_type": "stream",
     "text": [
      "Round 71, winrate: 0.0, max_step: 110, reward: 0, example: {'ranks': [{'rank': 1, 'agentID': 0}, {'rank': 2, 'agentID': 1}], 'replayFile': 'replays/797039723.json'}\n",
      "train loss in 1 epoch in 1 batch: 1295.06958\n",
      "val loss in 1 epoch: 293.12538\n",
      "Round 72, winrate: 0.0, max_step: 232, reward: 0, example: {'ranks': [{'rank': 1, 'agentID': 1}, {'rank': 2, 'agentID': 0}], 'replayFile': 'replays/458437080.json'}\n",
      "train loss in 1 epoch in 1 batch: 729.92822\n",
      "val loss in 1 epoch: 398.03915\n",
      "Round 73, winrate: 1.0, max_step: 359, reward: 65, example: {'ranks': [{'rank': 1, 'agentID': 1}, {'rank': 2, 'agentID': 0}], 'replayFile': 'replays/612848534.json'}\n",
      "train loss in 1 epoch in 1 batch: 401.48038\n",
      "val loss in 1 epoch: -167.32581\n",
      "train loss in 1 epoch in 2 batch: 57.84192\n",
      "val loss in 1 epoch: -291.19929\n",
      "Round 74, winrate: 0.0, max_step: 269, reward: 0, example: {'ranks': [{'rank': 1, 'agentID': 1}, {'rank': 2, 'agentID': 0}], 'replayFile': 'replays/868452254.json'}\n",
      "train loss in 1 epoch in 1 batch: 279.51651\n",
      "val loss in 1 epoch: -22.21075\n",
      "Round 75, winrate: 0.0, max_step: 109, reward: 0, example: {'ranks': [{'rank': 1, 'agentID': 0}, {'rank': 2, 'agentID': 1}], 'replayFile': 'replays/296095992.json'}\n",
      "train loss in 1 epoch in 1 batch: 287.28760\n",
      "val loss in 1 epoch: 4.10747\n",
      "Round 76, winrate: 0.0, max_step: 110, reward: 0, example: {'ranks': [{'rank': 1, 'agentID': 1}, {'rank': 2, 'agentID': 0}], 'replayFile': 'replays/261261985.json'}\n",
      "train loss in 1 epoch in 1 batch: 286.54733\n",
      "val loss in 1 epoch: -115.97445\n",
      "Round 77, winrate: 0.0, max_step: 111, reward: 0, example: {'ranks': [{'rank': 1, 'agentID': 0}, {'rank': 2, 'agentID': 1}], 'replayFile': 'replays/726317783.json'}\n",
      "train loss in 1 epoch in 1 batch: 457.92181\n",
      "val loss in 1 epoch: 44.68893\n",
      "Round 78, winrate: 0.0, max_step: 149, reward: 0, example: {'ranks': [{'rank': 1, 'agentID': 1}, {'rank': 2, 'agentID': 0}], 'replayFile': 'replays/206936773.json'}\n",
      "train loss in 1 epoch in 1 batch: 469.56149\n",
      "val loss in 1 epoch: -64.28744\n",
      "Round 79, winrate: 0.0, max_step: 70, reward: 0, example: {'ranks': [{'rank': 1, 'agentID': 0}, {'rank': 2, 'agentID': 1}], 'replayFile': 'replays/2869591.json'}\n",
      "train loss in 1 epoch in 1 batch: -722.74646\n",
      "val loss in 1 epoch: -1027.53873\n"
     ]
    },
    {
     "name": "stderr",
     "output_type": "stream",
     "text": [
      "/Library/Frameworks/Python.framework/Versions/3.7/lib/python3.7/site-packages/IPython/core/interactiveshell.py:3338: DtypeWarning: Columns (9,10,11,12,13,14,26,27,28) have mixed types.Specify dtype option on import or set low_memory=False.\n",
      "  if (await self.run_code(code, result,  async_=asy)):\n"
     ]
    },
    {
     "name": "stdout",
     "output_type": "stream",
     "text": [
      "Round 80, winrate: 0.0, max_step: 190, reward: 0, example: {'ranks': [{'rank': 1, 'agentID': 1}, {'rank': 2, 'agentID': 0}], 'replayFile': 'replays/94127279.json'}\n",
      "train loss in 1 epoch in 1 batch: 386.55719\n",
      "val loss in 1 epoch: -33.29944\n",
      "Round 81, winrate: 0.0, max_step: 150, reward: 0, example: {'ranks': [{'rank': 1, 'agentID': 0}, {'rank': 2, 'agentID': 1}], 'replayFile': 'replays/452771651.json'}\n",
      "train loss in 1 epoch in 1 batch: 267.59042\n",
      "val loss in 1 epoch: 71.04604\n"
     ]
    },
    {
     "name": "stderr",
     "output_type": "stream",
     "text": [
      "/Library/Frameworks/Python.framework/Versions/3.7/lib/python3.7/site-packages/IPython/core/interactiveshell.py:3338: DtypeWarning: Columns (9,10,11,12,13,14) have mixed types.Specify dtype option on import or set low_memory=False.\n",
      "  if (await self.run_code(code, result,  async_=asy)):\n"
     ]
    },
    {
     "name": "stdout",
     "output_type": "stream",
     "text": [
      "Round 82, winrate: 0.0, max_step: 359, reward: 0, example: {'ranks': [{'rank': 1, 'agentID': 1}, {'rank': 2, 'agentID': 0}], 'replayFile': 'replays/108343427.json'}\n",
      "train loss in 1 epoch in 1 batch: 66.74005\n",
      "val loss in 1 epoch: 110.11716\n",
      "Round 83, winrate: 0.0, max_step: 150, reward: 0, example: {'ranks': [{'rank': 1, 'agentID': 0}, {'rank': 2, 'agentID': 1}], 'replayFile': 'replays/30246994.json'}\n",
      "train loss in 1 epoch in 1 batch: 231.10422\n",
      "val loss in 1 epoch: 19.29817\n",
      "Round 84, winrate: 0.0, max_step: 29, reward: 0, example: {'ranks': [{'rank': 1, 'agentID': 1}, {'rank': 2, 'agentID': 0}], 'replayFile': 'replays/197744554.json'}\n",
      "train loss in 1 epoch in 1 batch: 1506.34741\n",
      "val loss in 1 epoch: -6.94116\n",
      "Round 85, winrate: 0.0, max_step: 193, reward: 0, example: {'ranks': [{'rank': 1, 'agentID': 0}, {'rank': 2, 'agentID': 1}], 'replayFile': 'replays/517001578.json'}\n",
      "train loss in 1 epoch in 1 batch: 502.34308\n",
      "val loss in 1 epoch: -47.13964\n"
     ]
    },
    {
     "name": "stderr",
     "output_type": "stream",
     "text": [
      "/Library/Frameworks/Python.framework/Versions/3.7/lib/python3.7/site-packages/IPython/core/interactiveshell.py:3338: DtypeWarning: Columns (9,10,11,12,13,14,26,27,28) have mixed types.Specify dtype option on import or set low_memory=False.\n",
      "  if (await self.run_code(code, result,  async_=asy)):\n"
     ]
    },
    {
     "name": "stdout",
     "output_type": "stream",
     "text": [
      "Round 86, winrate: 0.0, max_step: 359, reward: 0, example: {'ranks': [{'rank': 1, 'agentID': 1}, {'rank': 2, 'agentID': 0}], 'replayFile': 'replays/870190228.json'}\n",
      "train loss in 1 epoch in 1 batch: 122.66536\n",
      "val loss in 1 epoch: -8.03951\n",
      "train loss in 1 epoch in 2 batch: -1157.46448\n",
      "val loss in 1 epoch: -68.08679\n",
      "Round 87, winrate: 0.0, max_step: 30, reward: 0, example: {'ranks': [{'rank': 1, 'agentID': 0}, {'rank': 2, 'agentID': 1}], 'replayFile': 'replays/671149542.json'}\n",
      "train loss in 1 epoch in 1 batch: -333.61865\n",
      "val loss in 1 epoch: -262.21472\n",
      "Round 88, winrate: 0.0, max_step: 74, reward: 0, example: {'ranks': [{'rank': 1, 'agentID': 1}, {'rank': 2, 'agentID': 0}], 'replayFile': 'replays/633726936.json'}\n",
      "train loss in 1 epoch in 1 batch: -453.68616\n",
      "val loss in 1 epoch: -80.24548\n",
      "Round 89, winrate: 0.0, max_step: 112, reward: 0, example: {'ranks': [{'rank': 1, 'agentID': 0}, {'rank': 2, 'agentID': 1}], 'replayFile': 'replays/591978782.json'}\n",
      "train loss in 1 epoch in 1 batch: 308.82736\n",
      "val loss in 1 epoch: 138.65570\n",
      "Round 90, winrate: 0.0, max_step: 190, reward: 0, example: {'ranks': [{'rank': 1, 'agentID': 1}, {'rank': 2, 'agentID': 0}], 'replayFile': 'replays/657362779.json'}\n",
      "train loss in 1 epoch in 1 batch: 270.61151\n",
      "val loss in 1 epoch: -79.34369\n"
     ]
    },
    {
     "name": "stderr",
     "output_type": "stream",
     "text": [
      "/Library/Frameworks/Python.framework/Versions/3.7/lib/python3.7/site-packages/IPython/core/interactiveshell.py:3338: DtypeWarning: Columns (9,10,11,12,13,14) have mixed types.Specify dtype option on import or set low_memory=False.\n",
      "  if (await self.run_code(code, result,  async_=asy)):\n"
     ]
    },
    {
     "name": "stdout",
     "output_type": "stream",
     "text": [
      "Round 91, winrate: 0.0, max_step: 149, reward: 0, example: {'ranks': [{'rank': 1, 'agentID': 0}, {'rank': 2, 'agentID': 1}], 'replayFile': 'replays/863303858.json'}\n",
      "train loss in 1 epoch in 1 batch: 230.17444\n",
      "val loss in 1 epoch: -78.10455\n",
      "Round 92, winrate: 0.0, max_step: 190, reward: 0, example: {'ranks': [{'rank': 1, 'agentID': 1}, {'rank': 2, 'agentID': 0}], 'replayFile': 'replays/583602298.json'}\n",
      "train loss in 1 epoch in 1 batch: -9.85858\n",
      "val loss in 1 epoch: 98.54336\n",
      "Round 93, winrate: 0.0, max_step: 69, reward: 0, example: {'ranks': [{'rank': 1, 'agentID': 0}, {'rank': 2, 'agentID': 1}], 'replayFile': 'replays/456788389.json'}\n",
      "train loss in 1 epoch in 1 batch: -797.71722\n",
      "val loss in 1 epoch: 91.09818\n",
      "Round 94, winrate: 0.0, max_step: 30, reward: 0, example: {'ranks': [{'rank': 1, 'agentID': 1}, {'rank': 2, 'agentID': 0}], 'replayFile': 'replays/942254779.json'}\n",
      "train loss in 1 epoch in 1 batch: 68.70245\n",
      "val loss in 1 epoch: -118.51151\n"
     ]
    },
    {
     "name": "stderr",
     "output_type": "stream",
     "text": [
      "/Library/Frameworks/Python.framework/Versions/3.7/lib/python3.7/site-packages/IPython/core/interactiveshell.py:3338: DtypeWarning: Columns (26,27,28) have mixed types.Specify dtype option on import or set low_memory=False.\n",
      "  if (await self.run_code(code, result,  async_=asy)):\n"
     ]
    },
    {
     "name": "stdout",
     "output_type": "stream",
     "text": [
      "Round 95, winrate: 0.0, max_step: 359, reward: 18, example: {'ranks': [{'rank': 1, 'agentID': 0}, {'rank': 2, 'agentID': 1}], 'replayFile': 'replays/982703510.json'}\n",
      "train loss in 1 epoch in 1 batch: 160.47943\n",
      "val loss in 1 epoch: -2.52236\n",
      "train loss in 1 epoch in 2 batch: 227.40619\n",
      "val loss in 1 epoch: -106.16188\n",
      "Round 96, winrate: 0.0, max_step: 230, reward: 0, example: {'ranks': [{'rank': 1, 'agentID': 1}, {'rank': 2, 'agentID': 0}], 'replayFile': 'replays/922073172.json'}\n",
      "train loss in 1 epoch in 1 batch: 210.80070\n",
      "val loss in 1 epoch: 116.60186\n"
     ]
    },
    {
     "name": "stderr",
     "output_type": "stream",
     "text": [
      "/Library/Frameworks/Python.framework/Versions/3.7/lib/python3.7/site-packages/IPython/core/interactiveshell.py:3338: DtypeWarning: Columns (9,10,11,12,13,14,17,18,19,20,21,22) have mixed types.Specify dtype option on import or set low_memory=False.\n",
      "  if (await self.run_code(code, result,  async_=asy)):\n"
     ]
    },
    {
     "name": "stdout",
     "output_type": "stream",
     "text": [
      "Round 97, winrate: 0.0, max_step: 349, reward: 0, example: {'ranks': [{'rank': 1, 'agentID': 0}, {'rank': 2, 'agentID': 1}], 'replayFile': 'replays/373422170.json'}\n",
      "train loss in 1 epoch in 1 batch: 424.14862\n",
      "val loss in 1 epoch: -173.79406\n",
      "Round 98, winrate: 0.0, max_step: 69, reward: 0, example: {'ranks': [{'rank': 1, 'agentID': 1}, {'rank': 2, 'agentID': 0}], 'replayFile': 'replays/997580250.json'}\n",
      "train loss in 1 epoch in 1 batch: 272.40332\n",
      "val loss in 1 epoch: -65.17679\n"
     ]
    },
    {
     "name": "stderr",
     "output_type": "stream",
     "text": [
      "/Library/Frameworks/Python.framework/Versions/3.7/lib/python3.7/site-packages/IPython/core/interactiveshell.py:3338: DtypeWarning: Columns (9,10,11,12,13,14) have mixed types.Specify dtype option on import or set low_memory=False.\n",
      "  if (await self.run_code(code, result,  async_=asy)):\n"
     ]
    },
    {
     "name": "stdout",
     "output_type": "stream",
     "text": [
      "Round 99, winrate: 0.0, max_step: 359, reward: 36, example: {'ranks': [{'rank': 1, 'agentID': 0}, {'rank': 2, 'agentID': 1}], 'replayFile': 'replays/739930753.json'}\n",
      "train loss in 1 epoch in 1 batch: 186.83447\n",
      "val loss in 1 epoch: -152.33326\n",
      "train loss in 1 epoch in 2 batch: 30.69837\n",
      "val loss in 1 epoch: -204.18790\n",
      "Round 100, winrate: 0.0, max_step: 118, reward: 0, example: {'ranks': [{'rank': 1, 'agentID': 1}, {'rank': 2, 'agentID': 0}], 'replayFile': 'replays/186422792.json'}\n",
      "train loss in 1 epoch in 1 batch: -1121.77466\n",
      "val loss in 1 epoch: -235.58952\n",
      "Round 101, winrate: 0.0, max_step: 230, reward: 0, example: {'ranks': [{'rank': 1, 'agentID': 0}, {'rank': 2, 'agentID': 1}], 'replayFile': 'replays/70431583.json'}\n",
      "train loss in 1 epoch in 1 batch: -1452.85107\n",
      "val loss in 1 epoch: -423.66793\n"
     ]
    },
    {
     "name": "stderr",
     "output_type": "stream",
     "text": [
      "/Library/Frameworks/Python.framework/Versions/3.7/lib/python3.7/site-packages/IPython/core/interactiveshell.py:3338: DtypeWarning: Columns (9,10,11,12,13,14) have mixed types.Specify dtype option on import or set low_memory=False.\n",
      "  if (await self.run_code(code, result,  async_=asy)):\n"
     ]
    },
    {
     "name": "stdout",
     "output_type": "stream",
     "text": [
      "Round 102, winrate: 0.0, max_step: 270, reward: 0, example: {'ranks': [{'rank': 1, 'agentID': 1}, {'rank': 2, 'agentID': 0}], 'replayFile': 'replays/419539200.json'}\n",
      "train loss in 1 epoch in 1 batch: 213.91466\n",
      "val loss in 1 epoch: -183.05494\n",
      "Round 103, winrate: 0.0, max_step: 198, reward: 0, example: {'ranks': [{'rank': 1, 'agentID': 0}, {'rank': 2, 'agentID': 1}], 'replayFile': 'replays/782161671.json'}\n",
      "train loss in 1 epoch in 1 batch: -246.28116\n",
      "val loss in 1 epoch: -184.74321\n",
      "Round 104, winrate: 0.0, max_step: 115, reward: 0, example: {'ranks': [{'rank': 1, 'agentID': 1}, {'rank': 2, 'agentID': 0}], 'replayFile': 'replays/635314245.json'}\n",
      "train loss in 1 epoch in 1 batch: -304.22040\n",
      "val loss in 1 epoch: -663.38932\n",
      "Round 105, winrate: 0.0, max_step: 30, reward: 0, example: {'ranks': [{'rank': 1, 'agentID': 0}, {'rank': 2, 'agentID': 1}], 'replayFile': 'replays/359660224.json'}\n",
      "train loss in 1 epoch in 1 batch: -2354.15479\n",
      "val loss in 1 epoch: -393.44043\n",
      "Round 106, winrate: 0.0, max_step: 110, reward: 0, example: {'ranks': [{'rank': 1, 'agentID': 1}, {'rank': 2, 'agentID': 0}], 'replayFile': 'replays/36785518.json'}\n",
      "train loss in 1 epoch in 1 batch: 337.71136\n",
      "val loss in 1 epoch: -178.63343\n",
      "Round 107, winrate: 0.0, max_step: 150, reward: 0, example: {'ranks': [{'rank': 1, 'agentID': 0}, {'rank': 2, 'agentID': 1}], 'replayFile': 'replays/698812478.json'}\n",
      "train loss in 1 epoch in 1 batch: 247.55170\n",
      "val loss in 1 epoch: -365.64864\n"
     ]
    },
    {
     "name": "stderr",
     "output_type": "stream",
     "text": [
      "/Library/Frameworks/Python.framework/Versions/3.7/lib/python3.7/site-packages/IPython/core/interactiveshell.py:3338: DtypeWarning: Columns (9,10,11,12,13,14) have mixed types.Specify dtype option on import or set low_memory=False.\n",
      "  if (await self.run_code(code, result,  async_=asy)):\n"
     ]
    },
    {
     "name": "stdout",
     "output_type": "stream",
     "text": [
      "Round 108, winrate: 0.0, max_step: 274, reward: 0, example: {'ranks': [{'rank': 1, 'agentID': 1}, {'rank': 2, 'agentID': 0}], 'replayFile': 'replays/675248919.json'}\n",
      "train loss in 1 epoch in 1 batch: -20.52686\n",
      "val loss in 1 epoch: -171.64708\n",
      "Round 109, winrate: 0.0, max_step: 29, reward: 0, example: {'ranks': [{'rank': 1, 'agentID': 0}, {'rank': 2, 'agentID': 1}], 'replayFile': 'replays/478719238.json'}\n",
      "train loss in 1 epoch in 1 batch: 25.57269\n",
      "val loss in 1 epoch: -205.23920\n",
      "Round 110, winrate: 0.0, max_step: 110, reward: 0, example: {'ranks': [{'rank': 1, 'agentID': 1}, {'rank': 2, 'agentID': 0}], 'replayFile': 'replays/498468992.json'}\n",
      "train loss in 1 epoch in 1 batch: 338.80115\n",
      "val loss in 1 epoch: 28.23657\n"
     ]
    },
    {
     "name": "stderr",
     "output_type": "stream",
     "text": [
      "/Library/Frameworks/Python.framework/Versions/3.7/lib/python3.7/site-packages/IPython/core/interactiveshell.py:3338: DtypeWarning: Columns (26,27,28) have mixed types.Specify dtype option on import or set low_memory=False.\n",
      "  if (await self.run_code(code, result,  async_=asy)):\n"
     ]
    },
    {
     "name": "stdout",
     "output_type": "stream",
     "text": [
      "Round 111, winrate: 0.0, max_step: 194, reward: 0, example: {'ranks': [{'rank': 1, 'agentID': 0}, {'rank': 2, 'agentID': 1}], 'replayFile': 'replays/481767252.json'}\n",
      "train loss in 1 epoch in 1 batch: -201.74985\n",
      "val loss in 1 epoch: -71.53996\n",
      "Round 112, winrate: 0.0, max_step: 157, reward: 0, example: {'ranks': [{'rank': 1, 'agentID': 1}, {'rank': 2, 'agentID': 0}], 'replayFile': 'replays/537116260.json'}\n",
      "train loss in 1 epoch in 1 batch: 157.66861\n",
      "val loss in 1 epoch: -57.61908\n"
     ]
    },
    {
     "name": "stderr",
     "output_type": "stream",
     "text": [
      "/Library/Frameworks/Python.framework/Versions/3.7/lib/python3.7/site-packages/IPython/core/interactiveshell.py:3338: DtypeWarning: Columns (9,10,11,12,13,14,26,27,28) have mixed types.Specify dtype option on import or set low_memory=False.\n",
      "  if (await self.run_code(code, result,  async_=asy)):\n"
     ]
    },
    {
     "name": "stdout",
     "output_type": "stream",
     "text": [
      "Round 113, winrate: 0.0, max_step: 274, reward: 0, example: {'ranks': [{'rank': 1, 'agentID': 0}, {'rank': 2, 'agentID': 1}], 'replayFile': 'replays/438024357.json'}\n",
      "train loss in 1 epoch in 1 batch: 303.42468\n",
      "val loss in 1 epoch: -47.53022\n",
      "Round 114, winrate: 0.0, max_step: 359, reward: 3, example: {'ranks': [{'rank': 1, 'agentID': 1}, {'rank': 2, 'agentID': 0}], 'replayFile': 'replays/651254346.json'}\n",
      "train loss in 1 epoch in 1 batch: 1.91458\n",
      "val loss in 1 epoch: -57.85299\n",
      "train loss in 1 epoch in 2 batch: 5.12488\n",
      "val loss in 1 epoch: -155.44301\n",
      "train loss in 1 epoch in 3 batch: -579.29504\n",
      "val loss in 1 epoch: -256.02218\n"
     ]
    },
    {
     "name": "stderr",
     "output_type": "stream",
     "text": [
      "/Library/Frameworks/Python.framework/Versions/3.7/lib/python3.7/site-packages/IPython/core/interactiveshell.py:3338: DtypeWarning: Columns (26,27,28) have mixed types.Specify dtype option on import or set low_memory=False.\n",
      "  if (await self.run_code(code, result,  async_=asy)):\n"
     ]
    },
    {
     "name": "stdout",
     "output_type": "stream",
     "text": [
      "Round 115, winrate: 0.0, max_step: 229, reward: 0, example: {'ranks': [{'rank': 1, 'agentID': 0}, {'rank': 2, 'agentID': 1}], 'replayFile': 'replays/842210066.json'}\n",
      "train loss in 1 epoch in 1 batch: -68.40283\n",
      "val loss in 1 epoch: -108.06287\n",
      "Round 116, winrate: 0.0, max_step: 150, reward: 0, example: {'ranks': [{'rank': 1, 'agentID': 1}, {'rank': 2, 'agentID': 0}], 'replayFile': 'replays/537595189.json'}\n",
      "train loss in 1 epoch in 1 batch: 452.96014\n",
      "val loss in 1 epoch: -89.34958\n"
     ]
    },
    {
     "name": "stderr",
     "output_type": "stream",
     "text": [
      "/Library/Frameworks/Python.framework/Versions/3.7/lib/python3.7/site-packages/IPython/core/interactiveshell.py:3338: DtypeWarning: Columns (9,10,11,12,13,14,26,27,28) have mixed types.Specify dtype option on import or set low_memory=False.\n",
      "  if (await self.run_code(code, result,  async_=asy)):\n"
     ]
    },
    {
     "name": "stdout",
     "output_type": "stream",
     "text": [
      "Round 117, winrate: 0.0, max_step: 358, reward: 0, example: {'ranks': [{'rank': 1, 'agentID': 0}, {'rank': 2, 'agentID': 1}], 'replayFile': 'replays/865054190.json'}\n",
      "train loss in 1 epoch in 1 batch: 137.37228\n",
      "val loss in 1 epoch: -212.34167\n",
      "train loss in 1 epoch in 2 batch: -17.52719\n",
      "val loss in 1 epoch: -304.58595\n",
      "train loss in 1 epoch in 3 batch: -505.40152\n",
      "val loss in 1 epoch: -391.73262\n",
      "train loss in 1 epoch in 4 batch: -831.99530\n",
      "val loss in 1 epoch: -426.09396\n",
      "Round 118, winrate: 0.0, max_step: 30, reward: 0, example: {'ranks': [{'rank': 1, 'agentID': 1}, {'rank': 2, 'agentID': 0}], 'replayFile': 'replays/827432192.json'}\n",
      "train loss in 1 epoch in 1 batch: 119.16895\n",
      "val loss in 1 epoch: -102.11057\n",
      "Round 119, winrate: 0.0, max_step: 30, reward: 0, example: {'ranks': [{'rank': 1, 'agentID': 0}, {'rank': 2, 'agentID': 1}], 'replayFile': 'replays/420235714.json'}\n",
      "train loss in 1 epoch in 1 batch: 212.11002\n",
      "val loss in 1 epoch: -198.07602\n",
      "Round 120, winrate: 0.0, max_step: 158, reward: 0, example: {'ranks': [{'rank': 1, 'agentID': 1}, {'rank': 2, 'agentID': 0}], 'replayFile': 'replays/764313255.json'}\n",
      "train loss in 1 epoch in 1 batch: 254.77928\n",
      "val loss in 1 epoch: -502.03065\n"
     ]
    },
    {
     "name": "stderr",
     "output_type": "stream",
     "text": [
      "/Library/Frameworks/Python.framework/Versions/3.7/lib/python3.7/site-packages/IPython/core/interactiveshell.py:3338: DtypeWarning: Columns (26,27,28) have mixed types.Specify dtype option on import or set low_memory=False.\n",
      "  if (await self.run_code(code, result,  async_=asy)):\n"
     ]
    },
    {
     "name": "stdout",
     "output_type": "stream",
     "text": [
      "Round 121, winrate: 1.0, max_step: 116, reward: 0, example: {'ranks': [{'rank': 1, 'agentID': 1}, {'rank': 2, 'agentID': 0}], 'replayFile': 'replays/478162242.json'}\n",
      "train loss in 1 epoch in 1 batch: -273.25308\n",
      "val loss in 1 epoch: -284.97698\n",
      "Round 122, winrate: 0.0, max_step: 71, reward: 0, example: {'ranks': [{'rank': 1, 'agentID': 1}, {'rank': 2, 'agentID': 0}], 'replayFile': 'replays/674274799.json'}\n",
      "train loss in 1 epoch in 1 batch: 446.43799\n",
      "val loss in 1 epoch: -308.69910\n",
      "Round 123, winrate: 0.0, max_step: 29, reward: 0, example: {'ranks': [{'rank': 1, 'agentID': 0}, {'rank': 2, 'agentID': 1}], 'replayFile': 'replays/843828734.json'}\n",
      "train loss in 1 epoch in 1 batch: -442.17108\n",
      "val loss in 1 epoch: -461.82178\n",
      "Round 124, winrate: 0.0, max_step: 150, reward: 0, example: {'ranks': [{'rank': 1, 'agentID': 1}, {'rank': 2, 'agentID': 0}], 'replayFile': 'replays/455545294.json'}\n",
      "train loss in 1 epoch in 1 batch: 345.92963\n",
      "val loss in 1 epoch: -97.10822\n"
     ]
    },
    {
     "name": "stderr",
     "output_type": "stream",
     "text": [
      "/Library/Frameworks/Python.framework/Versions/3.7/lib/python3.7/site-packages/IPython/core/interactiveshell.py:3338: DtypeWarning: Columns (9,10,11,12,13,14) have mixed types.Specify dtype option on import or set low_memory=False.\n",
      "  if (await self.run_code(code, result,  async_=asy)):\n"
     ]
    },
    {
     "name": "stdout",
     "output_type": "stream",
     "text": [
      "Round 125, winrate: 0.0, max_step: 193, reward: 0, example: {'ranks': [{'rank': 1, 'agentID': 0}, {'rank': 2, 'agentID': 1}], 'replayFile': 'replays/28887997.json'}\n",
      "train loss in 1 epoch in 1 batch: -1071.45569\n",
      "val loss in 1 epoch: -130.56213\n"
     ]
    },
    {
     "name": "stderr",
     "output_type": "stream",
     "text": [
      "/Library/Frameworks/Python.framework/Versions/3.7/lib/python3.7/site-packages/IPython/core/interactiveshell.py:3338: DtypeWarning: Columns (9,10,11,12,13,14) have mixed types.Specify dtype option on import or set low_memory=False.\n",
      "  if (await self.run_code(code, result,  async_=asy)):\n"
     ]
    },
    {
     "name": "stdout",
     "output_type": "stream",
     "text": [
      "Round 126, winrate: 0.0, max_step: 356, reward: 0, example: {'ranks': [{'rank': 1, 'agentID': 1}, {'rank': 2, 'agentID': 0}], 'replayFile': 'replays/451710822.json'}\n",
      "train loss in 1 epoch in 1 batch: -494.30518\n",
      "val loss in 1 epoch: -375.69708\n"
     ]
    },
    {
     "name": "stderr",
     "output_type": "stream",
     "text": [
      "/Library/Frameworks/Python.framework/Versions/3.7/lib/python3.7/site-packages/IPython/core/interactiveshell.py:3338: DtypeWarning: Columns (9,10,11,12,13,14,26,27,28) have mixed types.Specify dtype option on import or set low_memory=False.\n",
      "  if (await self.run_code(code, result,  async_=asy)):\n"
     ]
    },
    {
     "name": "stdout",
     "output_type": "stream",
     "text": [
      "Round 127, winrate: 0.0, max_step: 359, reward: 0, example: {'ranks': [{'rank': 1, 'agentID': 0}, {'rank': 2, 'agentID': 1}], 'replayFile': 'replays/102363337.json'}\n",
      "train loss in 1 epoch in 1 batch: -98.58282\n",
      "val loss in 1 epoch: -375.31587\n",
      "train loss in 1 epoch in 2 batch: 101.52409\n",
      "val loss in 1 epoch: -427.68083\n",
      "Round 128, winrate: 0.0, max_step: 110, reward: 0, example: {'ranks': [{'rank': 1, 'agentID': 1}, {'rank': 2, 'agentID': 0}], 'replayFile': 'replays/500952274.json'}\n",
      "train loss in 1 epoch in 1 batch: -992.61407\n",
      "val loss in 1 epoch: -394.95960\n",
      "Round 129, winrate: 0.0, max_step: 29, reward: 0, example: {'ranks': [{'rank': 1, 'agentID': 0}, {'rank': 2, 'agentID': 1}], 'replayFile': 'replays/302931039.json'}\n",
      "train loss in 1 epoch in 1 batch: 1268.49451\n",
      "val loss in 1 epoch: -577.82379\n",
      "Round 130, winrate: 0.0, max_step: 198, reward: 0, example: {'ranks': [{'rank': 1, 'agentID': 1}, {'rank': 2, 'agentID': 0}], 'replayFile': 'replays/608297369.json'}\n",
      "train loss in 1 epoch in 1 batch: -599.50653\n",
      "val loss in 1 epoch: -919.29926\n",
      "Round 131, winrate: 0.0, max_step: 149, reward: 0, example: {'ranks': [{'rank': 1, 'agentID': 0}, {'rank': 2, 'agentID': 1}], 'replayFile': 'replays/644904819.json'}\n",
      "train loss in 1 epoch in 1 batch: 547.66602\n",
      "val loss in 1 epoch: -420.76409\n"
     ]
    },
    {
     "name": "stderr",
     "output_type": "stream",
     "text": [
      "/Library/Frameworks/Python.framework/Versions/3.7/lib/python3.7/site-packages/IPython/core/interactiveshell.py:3338: DtypeWarning: Columns (9,10,11,12,13,14) have mixed types.Specify dtype option on import or set low_memory=False.\n",
      "  if (await self.run_code(code, result,  async_=asy)):\n"
     ]
    },
    {
     "name": "stdout",
     "output_type": "stream",
     "text": [
      "Round 132, winrate: 0.0, max_step: 229, reward: 0, example: {'ranks': [{'rank': 1, 'agentID': 1}, {'rank': 2, 'agentID': 0}], 'replayFile': 'replays/132731233.json'}\n",
      "train loss in 1 epoch in 1 batch: -225.44647\n",
      "val loss in 1 epoch: -227.53976\n",
      "train loss in 1 epoch in 2 batch: -641.44385\n",
      "val loss in 1 epoch: -299.60548\n",
      "Round 133, winrate: 0.0, max_step: 30, reward: 0, example: {'ranks': [{'rank': 1, 'agentID': 0}, {'rank': 2, 'agentID': 1}], 'replayFile': 'replays/728033953.json'}\n",
      "train loss in 1 epoch in 1 batch: -616.91498\n",
      "val loss in 1 epoch: -669.95807\n",
      "Round 134, winrate: 0.0, max_step: 29, reward: 0, example: {'ranks': [{'rank': 1, 'agentID': 1}, {'rank': 2, 'agentID': 0}], 'replayFile': 'replays/263726563.json'}\n",
      "train loss in 1 epoch in 1 batch: -324.53506\n",
      "val loss in 1 epoch: -717.61987\n",
      "Round 135, winrate: 0.0, max_step: 30, reward: 0, example: {'ranks': [{'rank': 1, 'agentID': 0}, {'rank': 2, 'agentID': 1}], 'replayFile': 'replays/692902559.json'}\n",
      "train loss in 1 epoch in 1 batch: 1144.04675\n",
      "val loss in 1 epoch: 286.53381\n",
      "Round 136, winrate: 1.0, max_step: 359, reward: 7, example: {'ranks': [{'rank': 1, 'agentID': 0}, {'rank': 2, 'agentID': 1}], 'replayFile': 'replays/658057439.json'}\n",
      "train loss in 1 epoch in 1 batch: -638.72504\n",
      "val loss in 1 epoch: -589.50987\n",
      "train loss in 1 epoch in 2 batch: -416.63440\n",
      "val loss in 1 epoch: -654.90503\n"
     ]
    },
    {
     "name": "stderr",
     "output_type": "stream",
     "text": [
      "/Library/Frameworks/Python.framework/Versions/3.7/lib/python3.7/site-packages/IPython/core/interactiveshell.py:3338: DtypeWarning: Columns (9,10,11,12,13,14) have mixed types.Specify dtype option on import or set low_memory=False.\n",
      "  if (await self.run_code(code, result,  async_=asy)):\n"
     ]
    },
    {
     "name": "stdout",
     "output_type": "stream",
     "text": [
      "Round 137, winrate: 0.0, max_step: 229, reward: 0, example: {'ranks': [{'rank': 1, 'agentID': 0}, {'rank': 2, 'agentID': 1}], 'replayFile': 'replays/832580318.json'}\n",
      "train loss in 1 epoch in 1 batch: 82.54099\n",
      "val loss in 1 epoch: -403.80395\n",
      "Round 138, winrate: 0.0, max_step: 234, reward: 0, example: {'ranks': [{'rank': 1, 'agentID': 1}, {'rank': 2, 'agentID': 0}], 'replayFile': 'replays/251585001.json'}\n",
      "train loss in 1 epoch in 1 batch: 232.18469\n",
      "val loss in 1 epoch: -45.05365\n",
      "train loss in 1 epoch in 2 batch: 463.21204\n",
      "val loss in 1 epoch: -146.28193\n",
      "Round 139, winrate: 0.0, max_step: 152, reward: 0, example: {'ranks': [{'rank': 1, 'agentID': 0}, {'rank': 2, 'agentID': 1}], 'replayFile': 'replays/802709328.json'}\n",
      "train loss in 1 epoch in 1 batch: 4.33624\n",
      "val loss in 1 epoch: -136.51286\n",
      "Round 140, winrate: 0.0, max_step: 70, reward: 0, example: {'ranks': [{'rank': 1, 'agentID': 1}, {'rank': 2, 'agentID': 0}], 'replayFile': 'replays/785150630.json'}\n",
      "train loss in 1 epoch in 1 batch: 149.82359\n",
      "val loss in 1 epoch: 162.27141\n"
     ]
    },
    {
     "name": "stderr",
     "output_type": "stream",
     "text": [
      "/Library/Frameworks/Python.framework/Versions/3.7/lib/python3.7/site-packages/IPython/core/interactiveshell.py:3338: DtypeWarning: Columns (9,10,11,12,13,14,26,27,28) have mixed types.Specify dtype option on import or set low_memory=False.\n",
      "  if (await self.run_code(code, result,  async_=asy)):\n"
     ]
    },
    {
     "name": "stdout",
     "output_type": "stream",
     "text": [
      "Round 141, winrate: 0.0, max_step: 355, reward: 0, example: {'ranks': [{'rank': 1, 'agentID': 0}, {'rank': 2, 'agentID': 1}], 'replayFile': 'replays/718915190.json'}\n",
      "train loss in 1 epoch in 1 batch: 82.40332\n",
      "val loss in 1 epoch: 21.45817\n",
      "train loss in 1 epoch in 2 batch: 29.85175\n",
      "val loss in 1 epoch: -61.25123\n",
      "Round 142, winrate: 0.0, max_step: 119, reward: 0, example: {'ranks': [{'rank': 1, 'agentID': 1}, {'rank': 2, 'agentID': 0}], 'replayFile': 'replays/653099285.json'}\n",
      "train loss in 1 epoch in 1 batch: -89.02570\n",
      "val loss in 1 epoch: -206.90023\n"
     ]
    },
    {
     "name": "stderr",
     "output_type": "stream",
     "text": [
      "/Library/Frameworks/Python.framework/Versions/3.7/lib/python3.7/site-packages/IPython/core/interactiveshell.py:3338: DtypeWarning: Columns (26,27,28) have mixed types.Specify dtype option on import or set low_memory=False.\n",
      "  if (await self.run_code(code, result,  async_=asy)):\n"
     ]
    },
    {
     "name": "stdout",
     "output_type": "stream",
     "text": [
      "Round 143, winrate: 0.0, max_step: 197, reward: 0, example: {'ranks': [{'rank': 1, 'agentID': 0}, {'rank': 2, 'agentID': 1}], 'replayFile': 'replays/100829337.json'}\n",
      "train loss in 1 epoch in 1 batch: 666.21387\n",
      "val loss in 1 epoch: -246.87484\n"
     ]
    },
    {
     "name": "stderr",
     "output_type": "stream",
     "text": [
      "/Library/Frameworks/Python.framework/Versions/3.7/lib/python3.7/site-packages/IPython/core/interactiveshell.py:3338: DtypeWarning: Columns (9,10,11,12,13,14) have mixed types.Specify dtype option on import or set low_memory=False.\n",
      "  if (await self.run_code(code, result,  async_=asy)):\n"
     ]
    },
    {
     "name": "stdout",
     "output_type": "stream",
     "text": [
      "Round 144, winrate: 0.0, max_step: 234, reward: 0, example: {'ranks': [{'rank': 1, 'agentID': 1}, {'rank': 2, 'agentID': 0}], 'replayFile': 'replays/400909671.json'}\n",
      "train loss in 1 epoch in 1 batch: 273.84387\n",
      "val loss in 1 epoch: -69.09929\n"
     ]
    },
    {
     "name": "stderr",
     "output_type": "stream",
     "text": [
      "/Library/Frameworks/Python.framework/Versions/3.7/lib/python3.7/site-packages/IPython/core/interactiveshell.py:3338: DtypeWarning: Columns (9,10,11,12,13,14,26,27,28) have mixed types.Specify dtype option on import or set low_memory=False.\n",
      "  if (await self.run_code(code, result,  async_=asy)):\n"
     ]
    },
    {
     "name": "stdout",
     "output_type": "stream",
     "text": [
      "Round 145, winrate: 0.0, max_step: 359, reward: 1, example: {'ranks': [{'rank': 1, 'agentID': 0}, {'rank': 2, 'agentID': 1}], 'replayFile': 'replays/141914101.json'}\n",
      "train loss in 1 epoch in 1 batch: 603.61505\n",
      "val loss in 1 epoch: 179.17505\n",
      "train loss in 1 epoch in 2 batch: 581.09766\n",
      "val loss in 1 epoch: 116.31418\n",
      "Round 146, winrate: 0.0, max_step: 190, reward: 0, example: {'ranks': [{'rank': 1, 'agentID': 1}, {'rank': 2, 'agentID': 0}], 'replayFile': 'replays/833375074.json'}\n",
      "train loss in 1 epoch in 1 batch: 284.26160\n",
      "val loss in 1 epoch: 459.29960\n"
     ]
    },
    {
     "name": "stderr",
     "output_type": "stream",
     "text": [
      "/Library/Frameworks/Python.framework/Versions/3.7/lib/python3.7/site-packages/IPython/core/interactiveshell.py:3338: DtypeWarning: Columns (26,27,28) have mixed types.Specify dtype option on import or set low_memory=False.\n",
      "  if (await self.run_code(code, result,  async_=asy)):\n"
     ]
    },
    {
     "name": "stdout",
     "output_type": "stream",
     "text": [
      "Round 147, winrate: 0.0, max_step: 192, reward: 0, example: {'ranks': [{'rank': 1, 'agentID': 0}, {'rank': 2, 'agentID': 1}], 'replayFile': 'replays/501203670.json'}\n",
      "train loss in 1 epoch in 1 batch: -484.41895\n",
      "val loss in 1 epoch: 138.65106\n",
      "Round 148, winrate: 0.0, max_step: 150, reward: 0, example: {'ranks': [{'rank': 1, 'agentID': 1}, {'rank': 2, 'agentID': 0}], 'replayFile': 'replays/323865683.json'}\n",
      "train loss in 1 epoch in 1 batch: 334.82397\n",
      "val loss in 1 epoch: -174.61787\n"
     ]
    },
    {
     "name": "stderr",
     "output_type": "stream",
     "text": [
      "/Library/Frameworks/Python.framework/Versions/3.7/lib/python3.7/site-packages/IPython/core/interactiveshell.py:3338: DtypeWarning: Columns (26,27,28) have mixed types.Specify dtype option on import or set low_memory=False.\n",
      "  if (await self.run_code(code, result,  async_=asy)):\n"
     ]
    },
    {
     "name": "stdout",
     "output_type": "stream",
     "text": [
      "Round 149, winrate: 0.0, max_step: 192, reward: 0, example: {'ranks': [{'rank': 1, 'agentID': 0}, {'rank': 2, 'agentID': 1}], 'replayFile': 'replays/563961649.json'}\n",
      "train loss in 1 epoch in 1 batch: -319.64880\n",
      "val loss in 1 epoch: -134.02981\n",
      "Round 150, winrate: 0.0, max_step: 112, reward: 0, example: {'ranks': [{'rank': 1, 'agentID': 1}, {'rank': 2, 'agentID': 0}], 'replayFile': 'replays/681112804.json'}\n",
      "train loss in 1 epoch in 1 batch: 633.47632\n",
      "val loss in 1 epoch: -49.55275\n"
     ]
    },
    {
     "name": "stderr",
     "output_type": "stream",
     "text": [
      "/Library/Frameworks/Python.framework/Versions/3.7/lib/python3.7/site-packages/IPython/core/interactiveshell.py:3338: DtypeWarning: Columns (9,10,11,12,13,14) have mixed types.Specify dtype option on import or set low_memory=False.\n",
      "  if (await self.run_code(code, result,  async_=asy)):\n"
     ]
    },
    {
     "name": "stdout",
     "output_type": "stream",
     "text": [
      "Round 151, winrate: 0.0, max_step: 359, reward: 1, example: {'ranks': [{'rank': 1, 'agentID': 0}, {'rank': 2, 'agentID': 1}], 'replayFile': 'replays/85015960.json'}\n",
      "train loss in 1 epoch in 1 batch: 115.11035\n",
      "val loss in 1 epoch: 0.70016\n",
      "train loss in 1 epoch in 2 batch: 79.19208\n",
      "val loss in 1 epoch: -37.77712\n",
      "train loss in 1 epoch in 3 batch: 171.75017\n",
      "val loss in 1 epoch: -76.06608\n",
      "Round 152, winrate: 0.0, max_step: 196, reward: 0, example: {'ranks': [{'rank': 1, 'agentID': 1}, {'rank': 2, 'agentID': 0}], 'replayFile': 'replays/853529308.json'}\n",
      "train loss in 1 epoch in 1 batch: 249.82320\n",
      "val loss in 1 epoch: -19.09306\n",
      "train loss in 1 epoch in 2 batch: -592.02795\n",
      "val loss in 1 epoch: -68.25268\n"
     ]
    },
    {
     "name": "stderr",
     "output_type": "stream",
     "text": [
      "/Library/Frameworks/Python.framework/Versions/3.7/lib/python3.7/site-packages/IPython/core/interactiveshell.py:3338: DtypeWarning: Columns (26,27,28) have mixed types.Specify dtype option on import or set low_memory=False.\n",
      "  if (await self.run_code(code, result,  async_=asy)):\n"
     ]
    },
    {
     "name": "stdout",
     "output_type": "stream",
     "text": [
      "Round 153, winrate: 0.0, max_step: 357, reward: 0, example: {'ranks': [{'rank': 1, 'agentID': 0}, {'rank': 2, 'agentID': 1}], 'replayFile': 'replays/634366047.json'}\n",
      "train loss in 1 epoch in 1 batch: 229.80838\n",
      "val loss in 1 epoch: 193.69910\n",
      "train loss in 1 epoch in 2 batch: -4632.86426\n",
      "val loss in 1 epoch: 161.99463\n"
     ]
    },
    {
     "name": "stderr",
     "output_type": "stream",
     "text": [
      "/Library/Frameworks/Python.framework/Versions/3.7/lib/python3.7/site-packages/IPython/core/interactiveshell.py:3338: DtypeWarning: Columns (9,10,11,12,13,14) have mixed types.Specify dtype option on import or set low_memory=False.\n",
      "  if (await self.run_code(code, result,  async_=asy)):\n"
     ]
    },
    {
     "name": "stdout",
     "output_type": "stream",
     "text": [
      "Round 154, winrate: 0.0, max_step: 359, reward: 0, example: {'ranks': [{'rank': 1, 'agentID': 1}, {'rank': 2, 'agentID': 0}], 'replayFile': 'replays/33173321.json'}\n",
      "train loss in 1 epoch in 1 batch: 5.44342\n",
      "val loss in 1 epoch: 121.94086\n",
      "train loss in 1 epoch in 2 batch: -1176.79370\n",
      "val loss in 1 epoch: 134.53789\n"
     ]
    },
    {
     "name": "stderr",
     "output_type": "stream",
     "text": [
      "/Library/Frameworks/Python.framework/Versions/3.7/lib/python3.7/site-packages/IPython/core/interactiveshell.py:3338: DtypeWarning: Columns (26,27,28) have mixed types.Specify dtype option on import or set low_memory=False.\n",
      "  if (await self.run_code(code, result,  async_=asy)):\n"
     ]
    },
    {
     "name": "stdout",
     "output_type": "stream",
     "text": [
      "Round 155, winrate: 0.0, max_step: 316, reward: 0, example: {'ranks': [{'rank': 1, 'agentID': 0}, {'rank': 2, 'agentID': 1}], 'replayFile': 'replays/654236596.json'}\n",
      "train loss in 1 epoch in 1 batch: 546.45990\n",
      "val loss in 1 epoch: -10.85592\n"
     ]
    },
    {
     "name": "stderr",
     "output_type": "stream",
     "text": [
      "/Library/Frameworks/Python.framework/Versions/3.7/lib/python3.7/site-packages/IPython/core/interactiveshell.py:3338: DtypeWarning: Columns (9,10,11,12,13,14,17,18,19,20,21,22) have mixed types.Specify dtype option on import or set low_memory=False.\n",
      "  if (await self.run_code(code, result,  async_=asy)):\n"
     ]
    },
    {
     "name": "stdout",
     "output_type": "stream",
     "text": [
      "Round 156, winrate: 0.0, max_step: 356, reward: 0, example: {'ranks': [{'rank': 1, 'agentID': 1}, {'rank': 2, 'agentID': 0}], 'replayFile': 'replays/273243692.json'}\n",
      "train loss in 1 epoch in 1 batch: -394.34164\n",
      "val loss in 1 epoch: 92.24391\n",
      "Round 157, winrate: 0.0, max_step: 359, reward: 1, example: {'ranks': [{'rank': 1, 'agentID': 0}, {'rank': 2, 'agentID': 1}], 'replayFile': 'replays/203590312.json'}\n",
      "train loss in 1 epoch in 1 batch: -117.88739\n",
      "val loss in 1 epoch: 43.13639\n",
      "train loss in 1 epoch in 2 batch: 351.65051\n",
      "val loss in 1 epoch: -26.50958\n",
      "train loss in 1 epoch in 3 batch: -248.65076\n",
      "val loss in 1 epoch: -77.43658\n",
      "train loss in 1 epoch in 4 batch: 203.82767\n",
      "val loss in 1 epoch: -103.46366\n",
      "Round 158, winrate: 0.0, max_step: 192, reward: 0, example: {'ranks': [{'rank': 1, 'agentID': 1}, {'rank': 2, 'agentID': 0}], 'replayFile': 'replays/413473693.json'}\n",
      "train loss in 1 epoch in 1 batch: -300.43155\n",
      "val loss in 1 epoch: 71.11595\n",
      "train loss in 1 epoch in 2 batch: 168.14177\n",
      "val loss in 1 epoch: 78.88474\n"
     ]
    },
    {
     "name": "stderr",
     "output_type": "stream",
     "text": [
      "/Library/Frameworks/Python.framework/Versions/3.7/lib/python3.7/site-packages/IPython/core/interactiveshell.py:3338: DtypeWarning: Columns (9,10,11,12,13,14) have mixed types.Specify dtype option on import or set low_memory=False.\n",
      "  if (await self.run_code(code, result,  async_=asy)):\n"
     ]
    },
    {
     "name": "stdout",
     "output_type": "stream",
     "text": [
      "Round 159, winrate: 0.0, max_step: 359, reward: 1, example: {'ranks': [{'rank': 1, 'agentID': 0}, {'rank': 2, 'agentID': 1}], 'replayFile': 'replays/166843915.json'}\n",
      "train loss in 1 epoch in 1 batch: 338.32822\n",
      "val loss in 1 epoch: -60.54563\n",
      "train loss in 1 epoch in 2 batch: -266.78149\n",
      "val loss in 1 epoch: -69.43110\n",
      "train loss in 1 epoch in 3 batch: 149.95190\n",
      "val loss in 1 epoch: -116.23275\n"
     ]
    },
    {
     "name": "stderr",
     "output_type": "stream",
     "text": [
      "/Library/Frameworks/Python.framework/Versions/3.7/lib/python3.7/site-packages/IPython/core/interactiveshell.py:3338: DtypeWarning: Columns (9,10,11,12,13,14) have mixed types.Specify dtype option on import or set low_memory=False.\n",
      "  if (await self.run_code(code, result,  async_=asy)):\n"
     ]
    },
    {
     "name": "stdout",
     "output_type": "stream",
     "text": [
      "Round 160, winrate: 0.0, max_step: 359, reward: 1, example: {'ranks': [{'rank': 1, 'agentID': 1}, {'rank': 2, 'agentID': 0}], 'replayFile': 'replays/358169448.json'}\n",
      "train loss in 1 epoch in 1 batch: -155.85687\n",
      "val loss in 1 epoch: -42.39289\n",
      "train loss in 1 epoch in 2 batch: -285.55377\n",
      "val loss in 1 epoch: -92.03473\n",
      "train loss in 1 epoch in 3 batch: -825.47638\n",
      "val loss in 1 epoch: -139.66144\n",
      "Round 161, winrate: 0.0, max_step: 113, reward: 0, example: {'ranks': [{'rank': 1, 'agentID': 0}, {'rank': 2, 'agentID': 1}], 'replayFile': 'replays/818936910.json'}\n",
      "train loss in 1 epoch in 1 batch: 180.61925\n",
      "val loss in 1 epoch: 251.81545\n",
      "Round 162, winrate: 0.0, max_step: 359, reward: 1, example: {'ranks': [{'rank': 1, 'agentID': 1}, {'rank': 2, 'agentID': 0}], 'replayFile': 'replays/304943035.json'}\n",
      "train loss in 1 epoch in 1 batch: 310.01996\n",
      "val loss in 1 epoch: -211.47536\n",
      "train loss in 1 epoch in 2 batch: 106.85158\n",
      "val loss in 1 epoch: -211.02585\n",
      "train loss in 1 epoch in 3 batch: -12.60692\n",
      "val loss in 1 epoch: -220.21463\n",
      "train loss in 1 epoch in 4 batch: -0.77687\n",
      "val loss in 1 epoch: -204.94744\n",
      "Round 163, winrate: 0.0, max_step: 359, reward: 1, example: {'ranks': [{'rank': 1, 'agentID': 0}, {'rank': 2, 'agentID': 1}], 'replayFile': 'replays/811593569.json'}\n",
      "train loss in 1 epoch in 1 batch: 20.79335\n",
      "val loss in 1 epoch: -653.41955\n",
      "train loss in 1 epoch in 2 batch: 16.06348\n",
      "val loss in 1 epoch: -660.29310\n"
     ]
    },
    {
     "name": "stderr",
     "output_type": "stream",
     "text": [
      "/Library/Frameworks/Python.framework/Versions/3.7/lib/python3.7/site-packages/IPython/core/interactiveshell.py:3338: DtypeWarning: Columns (17,18,19,20,21,22) have mixed types.Specify dtype option on import or set low_memory=False.\n",
      "  if (await self.run_code(code, result,  async_=asy)):\n"
     ]
    },
    {
     "name": "stdout",
     "output_type": "stream",
     "text": [
      "Round 164, winrate: 0.0, max_step: 271, reward: 0, example: {'ranks': [{'rank': 1, 'agentID': 1}, {'rank': 2, 'agentID': 0}], 'replayFile': 'replays/459487352.json'}\n",
      "train loss in 1 epoch in 1 batch: -454.18878\n",
      "val loss in 1 epoch: -115.73987\n",
      "train loss in 1 epoch in 2 batch: 19.02708\n",
      "val loss in 1 epoch: -122.37126\n",
      "Round 165, winrate: 0.0, max_step: 310, reward: 0, example: {'ranks': [{'rank': 1, 'agentID': 0}, {'rank': 2, 'agentID': 1}], 'replayFile': 'replays/327374784.json'}\n",
      "train loss in 1 epoch in 1 batch: 160.87440\n",
      "val loss in 1 epoch: 40.80075\n",
      "train loss in 1 epoch in 2 batch: 38.81901\n",
      "val loss in 1 epoch: 38.96661\n",
      "Round 166, winrate: 1.0, max_step: 157, reward: 0, example: {'ranks': [{'rank': 1, 'agentID': 0}, {'rank': 2, 'agentID': 1}], 'replayFile': 'replays/205037573.json'}\n",
      "train loss in 1 epoch in 1 batch: 215.06764\n",
      "val loss in 1 epoch: 129.07002\n"
     ]
    },
    {
     "name": "stderr",
     "output_type": "stream",
     "text": [
      "/Library/Frameworks/Python.framework/Versions/3.7/lib/python3.7/site-packages/IPython/core/interactiveshell.py:3338: DtypeWarning: Columns (9,10,11,12,13,14) have mixed types.Specify dtype option on import or set low_memory=False.\n",
      "  if (await self.run_code(code, result,  async_=asy)):\n"
     ]
    },
    {
     "name": "stdout",
     "output_type": "stream",
     "text": [
      "Round 167, winrate: 0.0, max_step: 311, reward: 0, example: {'ranks': [{'rank': 1, 'agentID': 0}, {'rank': 2, 'agentID': 1}], 'replayFile': 'replays/637283137.json'}\n",
      "train loss in 1 epoch in 1 batch: 327.01562\n",
      "val loss in 1 epoch: -300.31722\n",
      "Round 168, winrate: 0.0, max_step: 118, reward: 0, example: {'ranks': [{'rank': 1, 'agentID': 1}, {'rank': 2, 'agentID': 0}], 'replayFile': 'replays/420042453.json'}\n",
      "train loss in 1 epoch in 1 batch: 134.17361\n",
      "val loss in 1 epoch: -33.18707\n"
     ]
    },
    {
     "name": "stderr",
     "output_type": "stream",
     "text": [
      "/Library/Frameworks/Python.framework/Versions/3.7/lib/python3.7/site-packages/IPython/core/interactiveshell.py:3338: DtypeWarning: Columns (26,27,28) have mixed types.Specify dtype option on import or set low_memory=False.\n",
      "  if (await self.run_code(code, result,  async_=asy)):\n"
     ]
    },
    {
     "name": "stdout",
     "output_type": "stream",
     "text": [
      "Round 169, winrate: 0.0, max_step: 351, reward: 0, example: {'ranks': [{'rank': 1, 'agentID': 0}, {'rank': 2, 'agentID': 1}], 'replayFile': 'replays/728386851.json'}\n",
      "train loss in 1 epoch in 1 batch: 116.56005\n",
      "val loss in 1 epoch: -92.27799\n",
      "Round 170, winrate: 0.0, max_step: 197, reward: 0, example: {'ranks': [{'rank': 1, 'agentID': 1}, {'rank': 2, 'agentID': 0}], 'replayFile': 'replays/226110362.json'}\n",
      "train loss in 1 epoch in 1 batch: 125.20290\n",
      "val loss in 1 epoch: -324.06801\n"
     ]
    },
    {
     "name": "stderr",
     "output_type": "stream",
     "text": [
      "/Library/Frameworks/Python.framework/Versions/3.7/lib/python3.7/site-packages/IPython/core/interactiveshell.py:3338: DtypeWarning: Columns (26,27,28) have mixed types.Specify dtype option on import or set low_memory=False.\n",
      "  if (await self.run_code(code, result,  async_=asy)):\n"
     ]
    },
    {
     "name": "stdout",
     "output_type": "stream",
     "text": [
      "Round 171, winrate: 0.0, max_step: 355, reward: 0, example: {'ranks': [{'rank': 1, 'agentID': 0}, {'rank': 2, 'agentID': 1}], 'replayFile': 'replays/677514685.json'}\n",
      "train loss in 1 epoch in 1 batch: 115.95665\n",
      "val loss in 1 epoch: -134.04427\n",
      "train loss in 1 epoch in 2 batch: -866.15662\n",
      "val loss in 1 epoch: -160.28304\n"
     ]
    },
    {
     "name": "stderr",
     "output_type": "stream",
     "text": [
      "/Library/Frameworks/Python.framework/Versions/3.7/lib/python3.7/site-packages/IPython/core/interactiveshell.py:3338: DtypeWarning: Columns (26,27,28) have mixed types.Specify dtype option on import or set low_memory=False.\n",
      "  if (await self.run_code(code, result,  async_=asy)):\n"
     ]
    },
    {
     "name": "stdout",
     "output_type": "stream",
     "text": [
      "Round 172, winrate: 0.0, max_step: 238, reward: 0, example: {'ranks': [{'rank': 1, 'agentID': 1}, {'rank': 2, 'agentID': 0}], 'replayFile': 'replays/641676058.json'}\n",
      "train loss in 1 epoch in 1 batch: 231.81065\n",
      "val loss in 1 epoch: -340.88498\n",
      "train loss in 1 epoch in 2 batch: 75.77475\n",
      "val loss in 1 epoch: -338.74682\n"
     ]
    },
    {
     "name": "stderr",
     "output_type": "stream",
     "text": [
      "/Library/Frameworks/Python.framework/Versions/3.7/lib/python3.7/site-packages/IPython/core/interactiveshell.py:3338: DtypeWarning: Columns (26,27,28) have mixed types.Specify dtype option on import or set low_memory=False.\n",
      "  if (await self.run_code(code, result,  async_=asy)):\n"
     ]
    },
    {
     "name": "stdout",
     "output_type": "stream",
     "text": [
      "Round 173, winrate: 0.0, max_step: 231, reward: 0, example: {'ranks': [{'rank': 1, 'agentID': 0}, {'rank': 2, 'agentID': 1}], 'replayFile': 'replays/400537829.json'}\n",
      "train loss in 1 epoch in 1 batch: 86.89146\n",
      "val loss in 1 epoch: -180.20535\n",
      "train loss in 1 epoch in 2 batch: 55.17974\n",
      "val loss in 1 epoch: -203.16697\n",
      "Round 174, winrate: 1.0, max_step: 150, reward: 0, example: {'ranks': [{'rank': 1, 'agentID': 0}, {'rank': 2, 'agentID': 1}], 'replayFile': 'replays/902109485.json'}\n",
      "train loss in 1 epoch in 1 batch: 454.98483\n",
      "val loss in 1 epoch: 81.68029\n"
     ]
    },
    {
     "name": "stderr",
     "output_type": "stream",
     "text": [
      "/Library/Frameworks/Python.framework/Versions/3.7/lib/python3.7/site-packages/IPython/core/interactiveshell.py:3338: DtypeWarning: Columns (9,10,11,12,13,14) have mixed types.Specify dtype option on import or set low_memory=False.\n",
      "  if (await self.run_code(code, result,  async_=asy)):\n"
     ]
    },
    {
     "name": "stdout",
     "output_type": "stream",
     "text": [
      "Round 175, winrate: 0.0, max_step: 275, reward: 0, example: {'ranks': [{'rank': 1, 'agentID': 0}, {'rank': 2, 'agentID': 1}], 'replayFile': 'replays/223715604.json'}\n",
      "train loss in 1 epoch in 1 batch: 43.60464\n",
      "val loss in 1 epoch: -111.61023\n",
      "train loss in 1 epoch in 2 batch: 92.69566\n",
      "val loss in 1 epoch: -105.71421\n",
      "train loss in 1 epoch in 3 batch: 12.76747\n",
      "val loss in 1 epoch: -108.66532\n",
      "Round 176, winrate: 0.0, max_step: 118, reward: 0, example: {'ranks': [{'rank': 1, 'agentID': 1}, {'rank': 2, 'agentID': 0}], 'replayFile': 'replays/461441856.json'}\n",
      "train loss in 1 epoch in 1 batch: 190.10289\n",
      "val loss in 1 epoch: 27.18189\n",
      "Round 177, winrate: 0.0, max_step: 195, reward: 0, example: {'ranks': [{'rank': 1, 'agentID': 0}, {'rank': 2, 'agentID': 1}], 'replayFile': 'replays/12159537.json'}\n",
      "train loss in 1 epoch in 1 batch: 127.47643\n",
      "val loss in 1 epoch: -614.49786\n",
      "Round 178, winrate: 0.0, max_step: 153, reward: 0, example: {'ranks': [{'rank': 1, 'agentID': 1}, {'rank': 2, 'agentID': 0}], 'replayFile': 'replays/105640118.json'}\n",
      "train loss in 1 epoch in 1 batch: -965.74634\n",
      "val loss in 1 epoch: -223.43466\n",
      "Round 179, winrate: 0.0, max_step: 270, reward: 0, example: {'ranks': [{'rank': 1, 'agentID': 0}, {'rank': 2, 'agentID': 1}], 'replayFile': 'replays/860947865.json'}\n",
      "train loss in 1 epoch in 1 batch: 358.47443\n",
      "val loss in 1 epoch: -203.73550\n",
      "train loss in 1 epoch in 2 batch: -977.03375\n",
      "val loss in 1 epoch: -253.39047\n",
      "Round 180, winrate: 0.0, max_step: 271, reward: 0, example: {'ranks': [{'rank': 1, 'agentID': 1}, {'rank': 2, 'agentID': 0}], 'replayFile': 'replays/269393649.json'}\n",
      "train loss in 1 epoch in 1 batch: 392.22571\n",
      "val loss in 1 epoch: 13.00406\n",
      "train loss in 1 epoch in 2 batch: 101.41145\n",
      "val loss in 1 epoch: 29.45327\n",
      "train loss in 1 epoch in 3 batch: 78.23850\n",
      "val loss in 1 epoch: 6.29787\n",
      "train loss in 1 epoch in 4 batch: 49.93837\n",
      "val loss in 1 epoch: -22.66460\n"
     ]
    },
    {
     "name": "stderr",
     "output_type": "stream",
     "text": [
      "/Library/Frameworks/Python.framework/Versions/3.7/lib/python3.7/site-packages/IPython/core/interactiveshell.py:3338: DtypeWarning: Columns (9,10,11,12,13,14) have mixed types.Specify dtype option on import or set low_memory=False.\n",
      "  if (await self.run_code(code, result,  async_=asy)):\n"
     ]
    },
    {
     "name": "stdout",
     "output_type": "stream",
     "text": [
      "Round 181, winrate: 0.0, max_step: 310, reward: 0, example: {'ranks': [{'rank': 1, 'agentID': 0}, {'rank': 2, 'agentID': 1}], 'replayFile': 'replays/103178493.json'}\n",
      "train loss in 1 epoch in 1 batch: -108.57428\n",
      "val loss in 1 epoch: -155.73360\n",
      "Round 182, winrate: 0.0, max_step: 359, reward: 12, example: {'ranks': [{'rank': 1, 'agentID': 1}, {'rank': 2, 'agentID': 0}], 'replayFile': 'replays/543601981.json'}\n",
      "train loss in 1 epoch in 1 batch: -103.29849\n",
      "val loss in 1 epoch: -273.48520\n",
      "train loss in 1 epoch in 2 batch: -643.42181\n",
      "val loss in 1 epoch: -291.14951\n",
      "Round 183, winrate: 0.0, max_step: 113, reward: 0, example: {'ranks': [{'rank': 1, 'agentID': 0}, {'rank': 2, 'agentID': 1}], 'replayFile': 'replays/315050277.json'}\n",
      "train loss in 1 epoch in 1 batch: 373.98291\n",
      "val loss in 1 epoch: -94.63453\n"
     ]
    },
    {
     "name": "stderr",
     "output_type": "stream",
     "text": [
      "/Library/Frameworks/Python.framework/Versions/3.7/lib/python3.7/site-packages/IPython/core/interactiveshell.py:3338: DtypeWarning: Columns (26,27,28) have mixed types.Specify dtype option on import or set low_memory=False.\n",
      "  if (await self.run_code(code, result,  async_=asy)):\n"
     ]
    },
    {
     "name": "stdout",
     "output_type": "stream",
     "text": [
      "Round 184, winrate: 0.0, max_step: 193, reward: 0, example: {'ranks': [{'rank': 1, 'agentID': 1}, {'rank': 2, 'agentID': 0}], 'replayFile': 'replays/294016430.json'}\n",
      "train loss in 1 epoch in 1 batch: 135.51241\n",
      "val loss in 1 epoch: 109.08594\n"
     ]
    },
    {
     "name": "stderr",
     "output_type": "stream",
     "text": [
      "/Library/Frameworks/Python.framework/Versions/3.7/lib/python3.7/site-packages/IPython/core/interactiveshell.py:3338: DtypeWarning: Columns (26,27,28) have mixed types.Specify dtype option on import or set low_memory=False.\n",
      "  if (await self.run_code(code, result,  async_=asy)):\n"
     ]
    },
    {
     "name": "stdout",
     "output_type": "stream",
     "text": [
      "Round 185, winrate: 0.0, max_step: 350, reward: 0, example: {'ranks': [{'rank': 1, 'agentID': 0}, {'rank': 2, 'agentID': 1}], 'replayFile': 'replays/560723200.json'}\n",
      "train loss in 1 epoch in 1 batch: 291.16394\n",
      "val loss in 1 epoch: -89.21328\n"
     ]
    },
    {
     "name": "stderr",
     "output_type": "stream",
     "text": [
      "/Library/Frameworks/Python.framework/Versions/3.7/lib/python3.7/site-packages/IPython/core/interactiveshell.py:3338: DtypeWarning: Columns (26,27,28) have mixed types.Specify dtype option on import or set low_memory=False.\n",
      "  if (await self.run_code(code, result,  async_=asy)):\n"
     ]
    },
    {
     "name": "stdout",
     "output_type": "stream",
     "text": [
      "Round 186, winrate: 0.0, max_step: 150, reward: 0, example: {'ranks': [{'rank': 1, 'agentID': 1}, {'rank': 2, 'agentID': 0}], 'replayFile': 'replays/183389357.json'}\n",
      "train loss in 1 epoch in 1 batch: -1328.60632\n",
      "val loss in 1 epoch: -1177.83802\n"
     ]
    },
    {
     "name": "stderr",
     "output_type": "stream",
     "text": [
      "/Library/Frameworks/Python.framework/Versions/3.7/lib/python3.7/site-packages/IPython/core/interactiveshell.py:3338: DtypeWarning: Columns (9,10,11,12,13,14) have mixed types.Specify dtype option on import or set low_memory=False.\n",
      "  if (await self.run_code(code, result,  async_=asy)):\n"
     ]
    },
    {
     "name": "stdout",
     "output_type": "stream",
     "text": [
      "Round 187, winrate: 0.0, max_step: 150, reward: 0, example: {'ranks': [{'rank': 1, 'agentID': 0}, {'rank': 2, 'agentID': 1}], 'replayFile': 'replays/730320491.json'}\n",
      "train loss in 1 epoch in 1 batch: 161.74493\n",
      "val loss in 1 epoch: 652.64802\n"
     ]
    },
    {
     "name": "stderr",
     "output_type": "stream",
     "text": [
      "/Library/Frameworks/Python.framework/Versions/3.7/lib/python3.7/site-packages/IPython/core/interactiveshell.py:3338: DtypeWarning: Columns (9,10,11,12,13,14) have mixed types.Specify dtype option on import or set low_memory=False.\n",
      "  if (await self.run_code(code, result,  async_=asy)):\n"
     ]
    },
    {
     "name": "stdout",
     "output_type": "stream",
     "text": [
      "Round 188, winrate: 0.0, max_step: 310, reward: 0, example: {'ranks': [{'rank': 1, 'agentID': 1}, {'rank': 2, 'agentID': 0}], 'replayFile': 'replays/51443474.json'}\n",
      "train loss in 1 epoch in 1 batch: -1.85724\n",
      "val loss in 1 epoch: -364.55658\n",
      "train loss in 1 epoch in 2 batch: 47.72827\n",
      "val loss in 1 epoch: -372.45988\n"
     ]
    },
    {
     "name": "stderr",
     "output_type": "stream",
     "text": [
      "/Library/Frameworks/Python.framework/Versions/3.7/lib/python3.7/site-packages/IPython/core/interactiveshell.py:3338: DtypeWarning: Columns (9,10,11,12,13,14) have mixed types.Specify dtype option on import or set low_memory=False.\n",
      "  if (await self.run_code(code, result,  async_=asy)):\n"
     ]
    },
    {
     "name": "stdout",
     "output_type": "stream",
     "text": [
      "Round 189, winrate: 0.0, max_step: 156, reward: 0, example: {'ranks': [{'rank': 1, 'agentID': 0}, {'rank': 2, 'agentID': 1}], 'replayFile': 'replays/741780543.json'}\n",
      "train loss in 1 epoch in 1 batch: 160.22984\n",
      "val loss in 1 epoch: -258.33714\n"
     ]
    },
    {
     "name": "stderr",
     "output_type": "stream",
     "text": [
      "/Library/Frameworks/Python.framework/Versions/3.7/lib/python3.7/site-packages/IPython/core/interactiveshell.py:3338: DtypeWarning: Columns (17,18,19,20,21,22) have mixed types.Specify dtype option on import or set low_memory=False.\n",
      "  if (await self.run_code(code, result,  async_=asy)):\n"
     ]
    },
    {
     "name": "stdout",
     "output_type": "stream",
     "text": [
      "Round 190, winrate: 0.0, max_step: 276, reward: 0, example: {'ranks': [{'rank': 1, 'agentID': 1}, {'rank': 2, 'agentID': 0}], 'replayFile': 'replays/990780300.json'}\n",
      "train loss in 1 epoch in 1 batch: -379.71448\n",
      "val loss in 1 epoch: -211.55830\n",
      "train loss in 1 epoch in 2 batch: -380.25323\n",
      "val loss in 1 epoch: -222.27152\n",
      "train loss in 1 epoch in 3 batch: -955.64148\n",
      "val loss in 1 epoch: -239.72042\n"
     ]
    },
    {
     "name": "stderr",
     "output_type": "stream",
     "text": [
      "/Library/Frameworks/Python.framework/Versions/3.7/lib/python3.7/site-packages/IPython/core/interactiveshell.py:3338: DtypeWarning: Columns (9,10,11,12,13,14,17,18,19,20,21,22) have mixed types.Specify dtype option on import or set low_memory=False.\n",
      "  if (await self.run_code(code, result,  async_=asy)):\n"
     ]
    },
    {
     "name": "stdout",
     "output_type": "stream",
     "text": [
      "Round 191, winrate: 1.0, max_step: 359, reward: 20, example: {'ranks': [{'rank': 1, 'agentID': 1}, {'rank': 2, 'agentID': 0}], 'replayFile': 'replays/178712497.json'}\n",
      "train loss in 1 epoch in 1 batch: -34.52887\n",
      "val loss in 1 epoch: -256.57779\n",
      "train loss in 1 epoch in 2 batch: -12.00784\n",
      "val loss in 1 epoch: -260.07508\n"
     ]
    },
    {
     "name": "stderr",
     "output_type": "stream",
     "text": [
      "/Library/Frameworks/Python.framework/Versions/3.7/lib/python3.7/site-packages/IPython/core/interactiveshell.py:3338: DtypeWarning: Columns (9,10,11,12,13,14) have mixed types.Specify dtype option on import or set low_memory=False.\n",
      "  if (await self.run_code(code, result,  async_=asy)):\n"
     ]
    },
    {
     "name": "stdout",
     "output_type": "stream",
     "text": [
      "Round 192, winrate: 0.0, max_step: 359, reward: 2, example: {'ranks': [{'rank': 1, 'agentID': 1}, {'rank': 2, 'agentID': 0}], 'replayFile': 'replays/31351906.json'}\n",
      "train loss in 1 epoch in 1 batch: 215.92108\n",
      "val loss in 1 epoch: -182.71444\n",
      "train loss in 1 epoch in 2 batch: -602.66174\n",
      "val loss in 1 epoch: -195.90852\n",
      "train loss in 1 epoch in 3 batch: 49.32351\n",
      "val loss in 1 epoch: -204.10375\n",
      "train loss in 1 epoch in 4 batch: 61.05553\n",
      "val loss in 1 epoch: -209.44309\n",
      "train loss in 1 epoch in 5 batch: -14.45989\n",
      "val loss in 1 epoch: -213.59899\n"
     ]
    },
    {
     "name": "stderr",
     "output_type": "stream",
     "text": [
      "/Library/Frameworks/Python.framework/Versions/3.7/lib/python3.7/site-packages/IPython/core/interactiveshell.py:3338: DtypeWarning: Columns (17,18,19,20,21,22) have mixed types.Specify dtype option on import or set low_memory=False.\n",
      "  if (await self.run_code(code, result,  async_=asy)):\n"
     ]
    },
    {
     "name": "stdout",
     "output_type": "stream",
     "text": [
      "Round 193, winrate: 0.0, max_step: 279, reward: 0, example: {'ranks': [{'rank': 1, 'agentID': 0}, {'rank': 2, 'agentID': 1}], 'replayFile': 'replays/652786414.json'}\n",
      "train loss in 1 epoch in 1 batch: 217.94122\n",
      "val loss in 1 epoch: -78.41318\n",
      "train loss in 1 epoch in 2 batch: -924.25946\n",
      "val loss in 1 epoch: -45.29666\n",
      "Round 194, winrate: 0.0, max_step: 195, reward: 0, example: {'ranks': [{'rank': 1, 'agentID': 1}, {'rank': 2, 'agentID': 0}], 'replayFile': 'replays/935007969.json'}\n",
      "train loss in 1 epoch in 1 batch: -648.45563\n",
      "val loss in 1 epoch: -314.69879\n",
      "Round 195, winrate: 0.0, max_step: 359, reward: 49, example: {'ranks': [{'rank': 1, 'agentID': 0}, {'rank': 2, 'agentID': 1}], 'replayFile': 'replays/589817801.json'}\n",
      "train loss in 1 epoch in 1 batch: 151.81238\n",
      "val loss in 1 epoch: -107.04888\n",
      "train loss in 1 epoch in 2 batch: 12.00720\n",
      "val loss in 1 epoch: -94.17034\n",
      "train loss in 1 epoch in 3 batch: -13.79320\n",
      "val loss in 1 epoch: -86.16081\n"
     ]
    },
    {
     "name": "stderr",
     "output_type": "stream",
     "text": [
      "/Library/Frameworks/Python.framework/Versions/3.7/lib/python3.7/site-packages/IPython/core/interactiveshell.py:3338: DtypeWarning: Columns (26,27,28) have mixed types.Specify dtype option on import or set low_memory=False.\n",
      "  if (await self.run_code(code, result,  async_=asy)):\n"
     ]
    },
    {
     "name": "stdout",
     "output_type": "stream",
     "text": [
      "Round 196, winrate: 0.0, max_step: 157, reward: 0, example: {'ranks': [{'rank': 1, 'agentID': 1}, {'rank': 2, 'agentID': 0}], 'replayFile': 'replays/813936156.json'}\n",
      "train loss in 1 epoch in 1 batch: 400.03571\n",
      "val loss in 1 epoch: -5.97157\n"
     ]
    },
    {
     "name": "stderr",
     "output_type": "stream",
     "text": [
      "/Library/Frameworks/Python.framework/Versions/3.7/lib/python3.7/site-packages/IPython/core/interactiveshell.py:3338: DtypeWarning: Columns (26,27,28) have mixed types.Specify dtype option on import or set low_memory=False.\n",
      "  if (await self.run_code(code, result,  async_=asy)):\n"
     ]
    },
    {
     "name": "stdout",
     "output_type": "stream",
     "text": [
      "Round 197, winrate: 0.0, max_step: 275, reward: 0, example: {'ranks': [{'rank': 1, 'agentID': 0}, {'rank': 2, 'agentID': 1}], 'replayFile': 'replays/506405649.json'}\n",
      "train loss in 1 epoch in 1 batch: 138.92212\n",
      "val loss in 1 epoch: -305.18844\n",
      "Round 198, winrate: 0.0, max_step: 232, reward: 0, example: {'ranks': [{'rank': 1, 'agentID': 1}, {'rank': 2, 'agentID': 0}], 'replayFile': 'replays/471594238.json'}\n",
      "train loss in 1 epoch in 1 batch: -298.25165\n",
      "val loss in 1 epoch: -315.59127\n",
      "train loss in 1 epoch in 2 batch: 13.50631\n",
      "val loss in 1 epoch: -336.58522\n",
      "Round 199, winrate: 0.0, max_step: 191, reward: 0, example: {'ranks': [{'rank': 1, 'agentID': 0}, {'rank': 2, 'agentID': 1}], 'replayFile': 'replays/664825252.json'}\n",
      "train loss in 1 epoch in 1 batch: 281.62067\n",
      "val loss in 1 epoch: -280.57702\n",
      "train loss in 1 epoch in 2 batch: 16.65395\n",
      "val loss in 1 epoch: -262.16546\n",
      "Round 200, winrate: 0.0, max_step: 115, reward: 0, example: {'ranks': [{'rank': 1, 'agentID': 1}, {'rank': 2, 'agentID': 0}], 'replayFile': 'replays/848824090.json'}\n",
      "train loss in 1 epoch in 1 batch: 338.96167\n",
      "val loss in 1 epoch: 143.47418\n"
     ]
    },
    {
     "name": "stderr",
     "output_type": "stream",
     "text": [
      "/Library/Frameworks/Python.framework/Versions/3.7/lib/python3.7/site-packages/IPython/core/interactiveshell.py:3338: DtypeWarning: Columns (9,10,11,12,13,14,17,18,19,20,21,22,26,27,28) have mixed types.Specify dtype option on import or set low_memory=False.\n",
      "  if (await self.run_code(code, result,  async_=asy)):\n"
     ]
    },
    {
     "name": "stdout",
     "output_type": "stream",
     "text": [
      "Round 201, winrate: 0.0, max_step: 276, reward: 0, example: {'ranks': [{'rank': 1, 'agentID': 0}, {'rank': 2, 'agentID': 1}], 'replayFile': 'replays/489216512.json'}\n",
      "train loss in 1 epoch in 1 batch: 284.14590\n",
      "val loss in 1 epoch: 60.90629\n",
      "Round 202, winrate: 0.0, max_step: 309, reward: 0, example: {'ranks': [{'rank': 1, 'agentID': 1}, {'rank': 2, 'agentID': 0}], 'replayFile': 'replays/962958227.json'}\n",
      "train loss in 1 epoch in 1 batch: 424.69299\n",
      "val loss in 1 epoch: -469.89140\n",
      "Round 203, winrate: 0.0, max_step: 359, reward: 110, example: {'ranks': [{'rank': 1, 'agentID': 0}, {'rank': 2, 'agentID': 1}], 'replayFile': 'replays/420477548.json'}\n",
      "train loss in 1 epoch in 1 batch: 86.72206\n",
      "val loss in 1 epoch: -153.02744\n",
      "train loss in 1 epoch in 2 batch: 103.03090\n",
      "val loss in 1 epoch: -188.76052\n",
      "train loss in 1 epoch in 3 batch: 44.75507\n",
      "val loss in 1 epoch: -190.86904\n",
      "train loss in 1 epoch in 4 batch: 28.69922\n",
      "val loss in 1 epoch: -197.73937\n",
      "Round 204, winrate: 0.0, max_step: 359, reward: 1, example: {'ranks': [{'rank': 1, 'agentID': 1}, {'rank': 2, 'agentID': 0}], 'replayFile': 'replays/775484481.json'}\n",
      "train loss in 1 epoch in 1 batch: -711.71204\n",
      "val loss in 1 epoch: -422.17677\n"
     ]
    },
    {
     "name": "stderr",
     "output_type": "stream",
     "text": [
      "/Library/Frameworks/Python.framework/Versions/3.7/lib/python3.7/site-packages/IPython/core/interactiveshell.py:3338: DtypeWarning: Columns (26,27,28) have mixed types.Specify dtype option on import or set low_memory=False.\n",
      "  if (await self.run_code(code, result,  async_=asy)):\n"
     ]
    },
    {
     "name": "stdout",
     "output_type": "stream",
     "text": [
      "Round 205, winrate: 0.0, max_step: 359, reward: 1, example: {'ranks': [{'rank': 1, 'agentID': 0}, {'rank': 2, 'agentID': 1}], 'replayFile': 'replays/903062850.json'}\n",
      "train loss in 1 epoch in 1 batch: -41.61720\n",
      "val loss in 1 epoch: 107.15024\n"
     ]
    },
    {
     "name": "stderr",
     "output_type": "stream",
     "text": [
      "/Library/Frameworks/Python.framework/Versions/3.7/lib/python3.7/site-packages/IPython/core/interactiveshell.py:3338: DtypeWarning: Columns (17,18,19,20,21,22) have mixed types.Specify dtype option on import or set low_memory=False.\n",
      "  if (await self.run_code(code, result,  async_=asy)):\n"
     ]
    },
    {
     "name": "stdout",
     "output_type": "stream",
     "text": [
      "Round 206, winrate: 0.0, max_step: 313, reward: 0, example: {'ranks': [{'rank': 1, 'agentID': 1}, {'rank': 2, 'agentID': 0}], 'replayFile': 'replays/761601813.json'}\n",
      "train loss in 1 epoch in 1 batch: 387.16425\n",
      "val loss in 1 epoch: 9.42766\n",
      "train loss in 1 epoch in 2 batch: 70.48288\n",
      "val loss in 1 epoch: -10.30745\n",
      "train loss in 1 epoch in 3 batch: 5.32267\n",
      "val loss in 1 epoch: -13.30121\n",
      "Round 207, winrate: 0.0, max_step: 270, reward: 0, example: {'ranks': [{'rank': 1, 'agentID': 0}, {'rank': 2, 'agentID': 1}], 'replayFile': 'replays/12733958.json'}\n",
      "train loss in 1 epoch in 1 batch: 233.30338\n",
      "val loss in 1 epoch: 145.63723\n",
      "Round 208, winrate: 0.0, max_step: 310, reward: 0, example: {'ranks': [{'rank': 1, 'agentID': 1}, {'rank': 2, 'agentID': 0}], 'replayFile': 'replays/476339614.json'}\n",
      "train loss in 1 epoch in 1 batch: -944.75769\n",
      "val loss in 1 epoch: -89.78421\n",
      "train loss in 1 epoch in 2 batch: 153.12756\n",
      "val loss in 1 epoch: -90.02822\n",
      "train loss in 1 epoch in 3 batch: 172.63544\n",
      "val loss in 1 epoch: -100.00114\n",
      "train loss in 1 epoch in 4 batch: 18.26558\n",
      "val loss in 1 epoch: -107.47317\n",
      "Round 209, winrate: 0.0, max_step: 235, reward: 0, example: {'ranks': [{'rank': 1, 'agentID': 0}, {'rank': 2, 'agentID': 1}], 'replayFile': 'replays/400650974.json'}\n",
      "train loss in 1 epoch in 1 batch: 227.64771\n",
      "val loss in 1 epoch: -5.29973\n",
      "train loss in 1 epoch in 2 batch: 1.28437\n",
      "val loss in 1 epoch: 3.35019\n",
      "Round 210, winrate: 0.0, max_step: 156, reward: 0, example: {'ranks': [{'rank': 1, 'agentID': 1}, {'rank': 2, 'agentID': 0}], 'replayFile': 'replays/429171210.json'}\n",
      "train loss in 1 epoch in 1 batch: 297.50745\n",
      "val loss in 1 epoch: -132.50365\n",
      "Round 211, winrate: 0.0, max_step: 359, reward: 2, example: {'ranks': [{'rank': 1, 'agentID': 0}, {'rank': 2, 'agentID': 1}], 'replayFile': 'replays/134724870.json'}\n",
      "train loss in 1 epoch in 1 batch: 164.12460\n",
      "val loss in 1 epoch: -179.05427\n",
      "train loss in 1 epoch in 2 batch: -908.26270\n",
      "val loss in 1 epoch: -189.77660\n"
     ]
    },
    {
     "name": "stderr",
     "output_type": "stream",
     "text": [
      "/Library/Frameworks/Python.framework/Versions/3.7/lib/python3.7/site-packages/IPython/core/interactiveshell.py:3338: DtypeWarning: Columns (9,10,11,12,13,14) have mixed types.Specify dtype option on import or set low_memory=False.\n",
      "  if (await self.run_code(code, result,  async_=asy)):\n"
     ]
    },
    {
     "name": "stdout",
     "output_type": "stream",
     "text": [
      "Round 212, winrate: 0.0, max_step: 358, reward: 0, example: {'ranks': [{'rank': 1, 'agentID': 1}, {'rank': 2, 'agentID': 0}], 'replayFile': 'replays/715698749.json'}\n",
      "train loss in 1 epoch in 1 batch: -4.39421\n",
      "val loss in 1 epoch: -196.40729\n",
      "train loss in 1 epoch in 2 batch: -425.39481\n",
      "val loss in 1 epoch: -204.39864\n",
      "train loss in 1 epoch in 3 batch: 35.69369\n",
      "val loss in 1 epoch: -213.81489\n",
      "train loss in 1 epoch in 4 batch: 13.71583\n",
      "val loss in 1 epoch: -221.58446\n",
      "Round 213, winrate: 0.0, max_step: 359, reward: 1, example: {'ranks': [{'rank': 1, 'agentID': 0}, {'rank': 2, 'agentID': 1}], 'replayFile': 'replays/938134827.json'}\n",
      "train loss in 1 epoch in 1 batch: 93.12062\n",
      "val loss in 1 epoch: 95.59403\n",
      "Round 214, winrate: 0.0, max_step: 190, reward: 0, example: {'ranks': [{'rank': 1, 'agentID': 1}, {'rank': 2, 'agentID': 0}], 'replayFile': 'replays/207206517.json'}\n",
      "train loss in 1 epoch in 1 batch: 453.39014\n",
      "val loss in 1 epoch: -147.67287\n",
      "Round 215, winrate: 0.0, max_step: 193, reward: 0, example: {'ranks': [{'rank': 1, 'agentID': 0}, {'rank': 2, 'agentID': 1}], 'replayFile': 'replays/661088198.json'}\n",
      "train loss in 1 epoch in 1 batch: -413.57248\n",
      "val loss in 1 epoch: -571.89929\n",
      "train loss in 1 epoch in 2 batch: 26.38362\n",
      "val loss in 1 epoch: -569.37859\n",
      "Round 216, winrate: 0.0, max_step: 156, reward: 0, example: {'ranks': [{'rank': 1, 'agentID': 1}, {'rank': 2, 'agentID': 0}], 'replayFile': 'replays/152853744.json'}\n",
      "train loss in 1 epoch in 1 batch: 142.89105\n",
      "val loss in 1 epoch: -53.75051\n"
     ]
    },
    {
     "name": "stderr",
     "output_type": "stream",
     "text": [
      "/Library/Frameworks/Python.framework/Versions/3.7/lib/python3.7/site-packages/IPython/core/interactiveshell.py:3338: DtypeWarning: Columns (17,18,19,20,21,22,26,27,28) have mixed types.Specify dtype option on import or set low_memory=False.\n",
      "  if (await self.run_code(code, result,  async_=asy)):\n"
     ]
    },
    {
     "name": "stdout",
     "output_type": "stream",
     "text": [
      "Round 217, winrate: 0.0, max_step: 236, reward: 0, example: {'ranks': [{'rank': 1, 'agentID': 0}, {'rank': 2, 'agentID': 1}], 'replayFile': 'replays/445223570.json'}\n",
      "train loss in 1 epoch in 1 batch: -909.24475\n",
      "val loss in 1 epoch: -628.01055\n",
      "Round 218, winrate: 0.0, max_step: 359, reward: 72, example: {'ranks': [{'rank': 1, 'agentID': 1}, {'rank': 2, 'agentID': 0}], 'replayFile': 'replays/361866829.json'}\n",
      "train loss in 1 epoch in 1 batch: 62.07920\n",
      "val loss in 1 epoch: -187.76192\n",
      "train loss in 1 epoch in 2 batch: 253.56903\n",
      "val loss in 1 epoch: -215.24084\n",
      "train loss in 1 epoch in 3 batch: -652.48303\n",
      "val loss in 1 epoch: -254.32250\n",
      "train loss in 1 epoch in 4 batch: -5971.69336\n",
      "val loss in 1 epoch: -287.21175\n",
      "Round 219, winrate: 0.0, max_step: 113, reward: 0, example: {'ranks': [{'rank': 1, 'agentID': 0}, {'rank': 2, 'agentID': 1}], 'replayFile': 'replays/57953729.json'}\n",
      "train loss in 1 epoch in 1 batch: 84.77856\n",
      "val loss in 1 epoch: 25.68327\n",
      "Round 220, winrate: 0.0, max_step: 350, reward: 0, example: {'ranks': [{'rank': 1, 'agentID': 1}, {'rank': 2, 'agentID': 0}], 'replayFile': 'replays/473100147.json'}\n",
      "train loss in 1 epoch in 1 batch: 322.58969\n",
      "val loss in 1 epoch: -165.88242\n",
      "Round 221, winrate: 0.0, max_step: 159, reward: 0, example: {'ranks': [{'rank': 1, 'agentID': 0}, {'rank': 2, 'agentID': 1}], 'replayFile': 'replays/200019788.json'}\n",
      "train loss in 1 epoch in 1 batch: 897.19006\n",
      "val loss in 1 epoch: -103.17340\n"
     ]
    },
    {
     "name": "stderr",
     "output_type": "stream",
     "text": [
      "/Library/Frameworks/Python.framework/Versions/3.7/lib/python3.7/site-packages/IPython/core/interactiveshell.py:3338: DtypeWarning: Columns (26,27,28) have mixed types.Specify dtype option on import or set low_memory=False.\n",
      "  if (await self.run_code(code, result,  async_=asy)):\n"
     ]
    },
    {
     "name": "stdout",
     "output_type": "stream",
     "text": [
      "Round 222, winrate: 0.0, max_step: 359, reward: 4, example: {'ranks': [{'rank': 1, 'agentID': 1}, {'rank': 2, 'agentID': 0}], 'replayFile': 'replays/111791238.json'}\n",
      "train loss in 1 epoch in 1 batch: -624.73688\n",
      "val loss in 1 epoch: -4320.19541\n",
      "train loss in 1 epoch in 2 batch: -52.76836\n",
      "val loss in 1 epoch: -4355.64005\n",
      "Round 223, winrate: 0.0, max_step: 196, reward: 0, example: {'ranks': [{'rank': 1, 'agentID': 0}, {'rank': 2, 'agentID': 1}], 'replayFile': 'replays/280828382.json'}\n",
      "train loss in 1 epoch in 1 batch: 106.68177\n",
      "val loss in 1 epoch: -263.03062\n"
     ]
    },
    {
     "name": "stderr",
     "output_type": "stream",
     "text": [
      "/Library/Frameworks/Python.framework/Versions/3.7/lib/python3.7/site-packages/IPython/core/interactiveshell.py:3338: DtypeWarning: Columns (26,27,28) have mixed types.Specify dtype option on import or set low_memory=False.\n",
      "  if (await self.run_code(code, result,  async_=asy)):\n"
     ]
    },
    {
     "name": "stdout",
     "output_type": "stream",
     "text": [
      "Round 224, winrate: 0.0, max_step: 270, reward: 0, example: {'ranks': [{'rank': 1, 'agentID': 1}, {'rank': 2, 'agentID': 0}], 'replayFile': 'replays/994005916.json'}\n",
      "train loss in 1 epoch in 1 batch: 32.39151\n",
      "val loss in 1 epoch: -486.25937\n",
      "train loss in 1 epoch in 2 batch: 171.60330\n",
      "val loss in 1 epoch: -505.18747\n",
      "Round 225, winrate: 0.0, max_step: 114, reward: 0, example: {'ranks': [{'rank': 1, 'agentID': 0}, {'rank': 2, 'agentID': 1}], 'replayFile': 'replays/181100195.json'}\n",
      "train loss in 1 epoch in 1 batch: 459.53442\n",
      "val loss in 1 epoch: 45.63751\n"
     ]
    },
    {
     "name": "stderr",
     "output_type": "stream",
     "text": [
      "/Library/Frameworks/Python.framework/Versions/3.7/lib/python3.7/site-packages/IPython/core/interactiveshell.py:3338: DtypeWarning: Columns (17,18,19,20,21,22) have mixed types.Specify dtype option on import or set low_memory=False.\n",
      "  if (await self.run_code(code, result,  async_=asy)):\n"
     ]
    },
    {
     "name": "stdout",
     "output_type": "stream",
     "text": [
      "Round 226, winrate: 0.0, max_step: 233, reward: 0, example: {'ranks': [{'rank': 1, 'agentID': 1}, {'rank': 2, 'agentID': 0}], 'replayFile': 'replays/622586688.json'}\n",
      "train loss in 1 epoch in 1 batch: 106.23001\n",
      "val loss in 1 epoch: -246.17197\n",
      "train loss in 1 epoch in 2 batch: -791.24023\n",
      "val loss in 1 epoch: -266.53522\n",
      "train loss in 1 epoch in 3 batch: -10.91455\n",
      "val loss in 1 epoch: -271.75182\n"
     ]
    },
    {
     "name": "stderr",
     "output_type": "stream",
     "text": [
      "/Library/Frameworks/Python.framework/Versions/3.7/lib/python3.7/site-packages/IPython/core/interactiveshell.py:3338: DtypeWarning: Columns (26,27,28) have mixed types.Specify dtype option on import or set low_memory=False.\n",
      "  if (await self.run_code(code, result,  async_=asy)):\n"
     ]
    },
    {
     "name": "stdout",
     "output_type": "stream",
     "text": [
      "Round 227, winrate: 0.0, max_step: 274, reward: 0, example: {'ranks': [{'rank': 1, 'agentID': 0}, {'rank': 2, 'agentID': 1}], 'replayFile': 'replays/547485728.json'}\n",
      "train loss in 1 epoch in 1 batch: 97.21549\n",
      "val loss in 1 epoch: 26.84118\n",
      "Round 228, winrate: 1.0, max_step: 119, reward: 0, example: {'ranks': [{'rank': 1, 'agentID': 0}, {'rank': 2, 'agentID': 1}], 'replayFile': 'replays/746511749.json'}\n",
      "train loss in 1 epoch in 1 batch: 47.75165\n",
      "val loss in 1 epoch: -541.16007\n"
     ]
    },
    {
     "name": "stderr",
     "output_type": "stream",
     "text": [
      "/Library/Frameworks/Python.framework/Versions/3.7/lib/python3.7/site-packages/IPython/core/interactiveshell.py:3338: DtypeWarning: Columns (26,27,28) have mixed types.Specify dtype option on import or set low_memory=False.\n",
      "  if (await self.run_code(code, result,  async_=asy)):\n"
     ]
    },
    {
     "name": "stdout",
     "output_type": "stream",
     "text": [
      "Round 229, winrate: 0.0, max_step: 159, reward: 0, example: {'ranks': [{'rank': 1, 'agentID': 0}, {'rank': 2, 'agentID': 1}], 'replayFile': 'replays/416719193.json'}\n",
      "train loss in 1 epoch in 1 batch: 1151.16870\n",
      "val loss in 1 epoch: -288.25939\n"
     ]
    },
    {
     "name": "stderr",
     "output_type": "stream",
     "text": [
      "/Library/Frameworks/Python.framework/Versions/3.7/lib/python3.7/site-packages/IPython/core/interactiveshell.py:3338: DtypeWarning: Columns (26,27,28) have mixed types.Specify dtype option on import or set low_memory=False.\n",
      "  if (await self.run_code(code, result,  async_=asy)):\n"
     ]
    },
    {
     "name": "stdout",
     "output_type": "stream",
     "text": [
      "Round 230, winrate: 0.0, max_step: 230, reward: 0, example: {'ranks': [{'rank': 1, 'agentID': 1}, {'rank': 2, 'agentID': 0}], 'replayFile': 'replays/562640640.json'}\n",
      "train loss in 1 epoch in 1 batch: -699.84473\n",
      "val loss in 1 epoch: -374.64988\n",
      "train loss in 1 epoch in 2 batch: 12.38574\n",
      "val loss in 1 epoch: -408.03319\n"
     ]
    },
    {
     "name": "stderr",
     "output_type": "stream",
     "text": [
      "/Library/Frameworks/Python.framework/Versions/3.7/lib/python3.7/site-packages/IPython/core/interactiveshell.py:3338: DtypeWarning: Columns (26,27,28) have mixed types.Specify dtype option on import or set low_memory=False.\n",
      "  if (await self.run_code(code, result,  async_=asy)):\n"
     ]
    },
    {
     "name": "stdout",
     "output_type": "stream",
     "text": [
      "Round 231, winrate: 0.0, max_step: 156, reward: 0, example: {'ranks': [{'rank': 1, 'agentID': 0}, {'rank': 2, 'agentID': 1}], 'replayFile': 'replays/135265879.json'}\n",
      "train loss in 1 epoch in 1 batch: 1085.16919\n",
      "val loss in 1 epoch: -513.98768\n"
     ]
    },
    {
     "name": "stderr",
     "output_type": "stream",
     "text": [
      "/Library/Frameworks/Python.framework/Versions/3.7/lib/python3.7/site-packages/IPython/core/interactiveshell.py:3338: DtypeWarning: Columns (9,10,11,12,13,14) have mixed types.Specify dtype option on import or set low_memory=False.\n",
      "  if (await self.run_code(code, result,  async_=asy)):\n"
     ]
    },
    {
     "name": "stdout",
     "output_type": "stream",
     "text": [
      "Round 232, winrate: 0.0, max_step: 152, reward: 0, example: {'ranks': [{'rank': 1, 'agentID': 1}, {'rank': 2, 'agentID': 0}], 'replayFile': 'replays/331126199.json'}\n",
      "train loss in 1 epoch in 1 batch: 460.38397\n",
      "val loss in 1 epoch: 104.78005\n",
      "Round 233, winrate: 0.0, max_step: 270, reward: 0, example: {'ranks': [{'rank': 1, 'agentID': 0}, {'rank': 2, 'agentID': 1}], 'replayFile': 'replays/641965031.json'}\n",
      "train loss in 1 epoch in 1 batch: 623.26959\n",
      "val loss in 1 epoch: -362.78962\n"
     ]
    },
    {
     "name": "stderr",
     "output_type": "stream",
     "text": [
      "/Library/Frameworks/Python.framework/Versions/3.7/lib/python3.7/site-packages/IPython/core/interactiveshell.py:3338: DtypeWarning: Columns (17,18,19,20,21,22) have mixed types.Specify dtype option on import or set low_memory=False.\n",
      "  if (await self.run_code(code, result,  async_=asy)):\n"
     ]
    },
    {
     "name": "stdout",
     "output_type": "stream",
     "text": [
      "Round 234, winrate: 0.0, max_step: 279, reward: 0, example: {'ranks': [{'rank': 1, 'agentID': 1}, {'rank': 2, 'agentID': 0}], 'replayFile': 'replays/133003720.json'}\n",
      "train loss in 1 epoch in 1 batch: -1821.33081\n",
      "val loss in 1 epoch: -230.44181\n",
      "Round 235, winrate: 0.0, max_step: 229, reward: 0, example: {'ranks': [{'rank': 1, 'agentID': 0}, {'rank': 2, 'agentID': 1}], 'replayFile': 'replays/775619992.json'}\n",
      "train loss in 1 epoch in 1 batch: 145.66914\n",
      "val loss in 1 epoch: -518.74971\n",
      "Round 236, winrate: 0.0, max_step: 279, reward: 0, example: {'ranks': [{'rank': 1, 'agentID': 1}, {'rank': 2, 'agentID': 0}], 'replayFile': 'replays/334431105.json'}\n",
      "train loss in 1 epoch in 1 batch: 243.01839\n",
      "val loss in 1 epoch: -165.90552\n",
      "train loss in 1 epoch in 2 batch: -609.48224\n",
      "val loss in 1 epoch: -193.89548\n",
      "train loss in 1 epoch in 3 batch: 118.71855\n",
      "val loss in 1 epoch: -221.70375\n",
      "train loss in 1 epoch in 4 batch: -79.98703\n",
      "val loss in 1 epoch: -255.89395\n",
      "Round 237, winrate: 0.0, max_step: 199, reward: 0, example: {'ranks': [{'rank': 1, 'agentID': 0}, {'rank': 2, 'agentID': 1}], 'replayFile': 'replays/607866348.json'}\n",
      "train loss in 1 epoch in 1 batch: -11.30875\n",
      "val loss in 1 epoch: -230.84602\n"
     ]
    },
    {
     "name": "stderr",
     "output_type": "stream",
     "text": [
      "/Library/Frameworks/Python.framework/Versions/3.7/lib/python3.7/site-packages/IPython/core/interactiveshell.py:3338: DtypeWarning: Columns (9,10,11,12,13,14) have mixed types.Specify dtype option on import or set low_memory=False.\n",
      "  if (await self.run_code(code, result,  async_=asy)):\n"
     ]
    },
    {
     "name": "stdout",
     "output_type": "stream",
     "text": [
      "Round 238, winrate: 0.0, max_step: 270, reward: 0, example: {'ranks': [{'rank': 1, 'agentID': 1}, {'rank': 2, 'agentID': 0}], 'replayFile': 'replays/280626723.json'}\n",
      "train loss in 1 epoch in 1 batch: 124.38712\n",
      "val loss in 1 epoch: -192.12952\n",
      "Round 239, winrate: 1.0, max_step: 114, reward: 0, example: {'ranks': [{'rank': 1, 'agentID': 1}, {'rank': 2, 'agentID': 0}], 'replayFile': 'replays/256973224.json'}\n",
      "train loss in 1 epoch in 1 batch: 30.90671\n",
      "val loss in 1 epoch: -965.72048\n",
      "Round 240, winrate: 0.0, max_step: 110, reward: 0, example: {'ranks': [{'rank': 1, 'agentID': 1}, {'rank': 2, 'agentID': 0}], 'replayFile': 'replays/186859151.json'}\n",
      "train loss in 1 epoch in 1 batch: -45.55646\n",
      "val loss in 1 epoch: 28.75565\n"
     ]
    },
    {
     "name": "stderr",
     "output_type": "stream",
     "text": [
      "/Library/Frameworks/Python.framework/Versions/3.7/lib/python3.7/site-packages/IPython/core/interactiveshell.py:3338: DtypeWarning: Columns (9,10,11,12,13,14,17,18,19,20,21,22) have mixed types.Specify dtype option on import or set low_memory=False.\n",
      "  if (await self.run_code(code, result,  async_=asy)):\n"
     ]
    },
    {
     "name": "stdout",
     "output_type": "stream",
     "text": [
      "Round 241, winrate: 0.0, max_step: 315, reward: 0, example: {'ranks': [{'rank': 1, 'agentID': 0}, {'rank': 2, 'agentID': 1}], 'replayFile': 'replays/493695404.json'}\n",
      "train loss in 1 epoch in 1 batch: 126.60608\n",
      "val loss in 1 epoch: -21.18134\n",
      "Round 242, winrate: 0.0, max_step: 317, reward: 0, example: {'ranks': [{'rank': 1, 'agentID': 1}, {'rank': 2, 'agentID': 0}], 'replayFile': 'replays/793222286.json'}\n",
      "train loss in 1 epoch in 1 batch: -1557.50830\n",
      "val loss in 1 epoch: -477.84269\n",
      "train loss in 1 epoch in 2 batch: -1639.59058\n",
      "val loss in 1 epoch: -485.32818\n",
      "train loss in 1 epoch in 3 batch: 7.27555\n",
      "val loss in 1 epoch: -492.10600\n",
      "Round 243, winrate: 0.0, max_step: 237, reward: 0, example: {'ranks': [{'rank': 1, 'agentID': 0}, {'rank': 2, 'agentID': 1}], 'replayFile': 'replays/891787127.json'}\n",
      "train loss in 1 epoch in 1 batch: 161.83153\n",
      "val loss in 1 epoch: -92.12510\n",
      "train loss in 1 epoch in 2 batch: 81.98151\n",
      "val loss in 1 epoch: -104.32682\n",
      "Round 244, winrate: 1.0, max_step: 198, reward: 0, example: {'ranks': [{'rank': 1, 'agentID': 0}, {'rank': 2, 'agentID': 1}], 'replayFile': 'replays/174709226.json'}\n",
      "train loss in 1 epoch in 1 batch: 198.61249\n",
      "val loss in 1 epoch: -697.74656\n"
     ]
    },
    {
     "name": "stderr",
     "output_type": "stream",
     "text": [
      "/Library/Frameworks/Python.framework/Versions/3.7/lib/python3.7/site-packages/IPython/core/interactiveshell.py:3338: DtypeWarning: Columns (9,10,11,12,13,14) have mixed types.Specify dtype option on import or set low_memory=False.\n",
      "  if (await self.run_code(code, result,  async_=asy)):\n"
     ]
    },
    {
     "name": "stdout",
     "output_type": "stream",
     "text": [
      "Round 245, winrate: 0.0, max_step: 359, reward: 20, example: {'ranks': [{'rank': 1, 'agentID': 0}, {'rank': 2, 'agentID': 1}], 'replayFile': 'replays/673682229.json'}\n",
      "train loss in 1 epoch in 1 batch: 23.47559\n",
      "val loss in 1 epoch: -362.45604\n",
      "train loss in 1 epoch in 2 batch: 102.51939\n",
      "val loss in 1 epoch: -364.49843\n",
      "train loss in 1 epoch in 3 batch: -33.32129\n",
      "val loss in 1 epoch: -366.14471\n",
      "train loss in 1 epoch in 4 batch: -30.49549\n",
      "val loss in 1 epoch: -364.54313\n",
      "Round 246, winrate: 0.0, max_step: 310, reward: 0, example: {'ranks': [{'rank': 1, 'agentID': 1}, {'rank': 2, 'agentID': 0}], 'replayFile': 'replays/986336164.json'}\n",
      "train loss in 1 epoch in 1 batch: 180.23970\n",
      "val loss in 1 epoch: -208.86663\n",
      "train loss in 1 epoch in 2 batch: -25.34607\n",
      "val loss in 1 epoch: -180.95130\n",
      "Round 247, winrate: 0.0, max_step: 190, reward: 0, example: {'ranks': [{'rank': 1, 'agentID': 0}, {'rank': 2, 'agentID': 1}], 'replayFile': 'replays/498990719.json'}\n",
      "train loss in 1 epoch in 1 batch: -129.26270\n",
      "val loss in 1 epoch: 23.42714\n",
      "Round 248, winrate: 0.0, max_step: 155, reward: 0, example: {'ranks': [{'rank': 1, 'agentID': 1}, {'rank': 2, 'agentID': 0}], 'replayFile': 'replays/824576254.json'}\n",
      "train loss in 1 epoch in 1 batch: 227.02042\n",
      "val loss in 1 epoch: -146.07851\n",
      "Round 249, winrate: 0.0, max_step: 314, reward: 0, example: {'ranks': [{'rank': 1, 'agentID': 0}, {'rank': 2, 'agentID': 1}], 'replayFile': 'replays/72742160.json'}\n",
      "train loss in 1 epoch in 1 batch: 207.15741\n",
      "val loss in 1 epoch: -32.80598\n",
      "train loss in 1 epoch in 2 batch: 107.71569\n",
      "val loss in 1 epoch: -42.99417\n",
      "train loss in 1 epoch in 3 batch: 27.53178\n",
      "val loss in 1 epoch: -62.71184\n",
      "train loss in 1 epoch in 4 batch: -53.76594\n",
      "val loss in 1 epoch: -63.00757\n",
      "Round 250, winrate: 0.0, max_step: 150, reward: 0, example: {'ranks': [{'rank': 1, 'agentID': 1}, {'rank': 2, 'agentID': 0}], 'replayFile': 'replays/922470254.json'}\n",
      "train loss in 1 epoch in 1 batch: -192.06987\n",
      "val loss in 1 epoch: -470.68226\n"
     ]
    },
    {
     "name": "stderr",
     "output_type": "stream",
     "text": [
      "/Library/Frameworks/Python.framework/Versions/3.7/lib/python3.7/site-packages/IPython/core/interactiveshell.py:3338: DtypeWarning: Columns (9,10,11,12,13,14) have mixed types.Specify dtype option on import or set low_memory=False.\n",
      "  if (await self.run_code(code, result,  async_=asy)):\n"
     ]
    },
    {
     "name": "stdout",
     "output_type": "stream",
     "text": [
      "Round 251, winrate: 0.0, max_step: 359, reward: 9, example: {'ranks': [{'rank': 1, 'agentID': 0}, {'rank': 2, 'agentID': 1}], 'replayFile': 'replays/591035737.json'}\n",
      "train loss in 1 epoch in 1 batch: 173.16452\n",
      "val loss in 1 epoch: -131.02117\n",
      "train loss in 1 epoch in 2 batch: 43.81367\n",
      "val loss in 1 epoch: -141.03536\n",
      "Round 252, winrate: 0.0, max_step: 236, reward: 0, example: {'ranks': [{'rank': 1, 'agentID': 1}, {'rank': 2, 'agentID': 0}], 'replayFile': 'replays/23250075.json'}\n",
      "train loss in 1 epoch in 1 batch: 172.43454\n",
      "val loss in 1 epoch: -69.11194\n",
      "Round 253, winrate: 0.0, max_step: 159, reward: 0, example: {'ranks': [{'rank': 1, 'agentID': 0}, {'rank': 2, 'agentID': 1}], 'replayFile': 'replays/51796747.json'}\n",
      "train loss in 1 epoch in 1 batch: 55.72289\n",
      "val loss in 1 epoch: -1048.08600\n",
      "Round 254, winrate: 0.0, max_step: 231, reward: 0, example: {'ranks': [{'rank': 1, 'agentID': 1}, {'rank': 2, 'agentID': 0}], 'replayFile': 'replays/51804998.json'}\n",
      "train loss in 1 epoch in 1 batch: 286.18112\n",
      "val loss in 1 epoch: -5.49622\n"
     ]
    },
    {
     "name": "stderr",
     "output_type": "stream",
     "text": [
      "/Library/Frameworks/Python.framework/Versions/3.7/lib/python3.7/site-packages/IPython/core/interactiveshell.py:3338: DtypeWarning: Columns (26,27,28) have mixed types.Specify dtype option on import or set low_memory=False.\n",
      "  if (await self.run_code(code, result,  async_=asy)):\n"
     ]
    },
    {
     "name": "stdout",
     "output_type": "stream",
     "text": [
      "Round 255, winrate: 0.0, max_step: 359, reward: 1, example: {'ranks': [{'rank': 1, 'agentID': 0}, {'rank': 2, 'agentID': 1}], 'replayFile': 'replays/918850355.json'}\n",
      "train loss in 1 epoch in 1 batch: 310.34070\n",
      "val loss in 1 epoch: -32.11755\n",
      "train loss in 1 epoch in 2 batch: 64.78797\n",
      "val loss in 1 epoch: -18.45713\n",
      "Round 256, winrate: 0.0, max_step: 114, reward: 0, example: {'ranks': [{'rank': 1, 'agentID': 1}, {'rank': 2, 'agentID': 0}], 'replayFile': 'replays/196639904.json'}\n",
      "train loss in 1 epoch in 1 batch: 147.51936\n",
      "val loss in 1 epoch: -425.57439\n",
      "Round 257, winrate: 0.0, max_step: 359, reward: 9, example: {'ranks': [{'rank': 1, 'agentID': 0}, {'rank': 2, 'agentID': 1}], 'replayFile': 'replays/772348806.json'}\n",
      "train loss in 1 epoch in 1 batch: 93.77234\n",
      "val loss in 1 epoch: -154.50446\n",
      "train loss in 1 epoch in 2 batch: 63.66265\n",
      "val loss in 1 epoch: -186.91056\n",
      "train loss in 1 epoch in 3 batch: -925.47272\n",
      "val loss in 1 epoch: -223.04391\n",
      "Round 258, winrate: 0.0, max_step: 190, reward: 0, example: {'ranks': [{'rank': 1, 'agentID': 1}, {'rank': 2, 'agentID': 0}], 'replayFile': 'replays/363471047.json'}\n",
      "train loss in 1 epoch in 1 batch: 528.63269\n",
      "val loss in 1 epoch: -232.20601\n",
      "Round 259, winrate: 0.0, max_step: 153, reward: 0, example: {'ranks': [{'rank': 1, 'agentID': 0}, {'rank': 2, 'agentID': 1}], 'replayFile': 'replays/816988264.json'}\n",
      "train loss in 1 epoch in 1 batch: -909.90582\n",
      "val loss in 1 epoch: -327.42083\n"
     ]
    },
    {
     "name": "stderr",
     "output_type": "stream",
     "text": [
      "/Library/Frameworks/Python.framework/Versions/3.7/lib/python3.7/site-packages/IPython/core/interactiveshell.py:3338: DtypeWarning: Columns (9,10,11,12,13,14) have mixed types.Specify dtype option on import or set low_memory=False.\n",
      "  if (await self.run_code(code, result,  async_=asy)):\n"
     ]
    },
    {
     "name": "stdout",
     "output_type": "stream",
     "text": [
      "Round 260, winrate: 0.0, max_step: 199, reward: 0, example: {'ranks': [{'rank': 1, 'agentID': 1}, {'rank': 2, 'agentID': 0}], 'replayFile': 'replays/414944266.json'}\n",
      "train loss in 1 epoch in 1 batch: 274.81903\n",
      "val loss in 1 epoch: -1247.44137\n",
      "Round 261, winrate: 0.0, max_step: 270, reward: 0, example: {'ranks': [{'rank': 1, 'agentID': 0}, {'rank': 2, 'agentID': 1}], 'replayFile': 'replays/218768096.json'}\n",
      "train loss in 1 epoch in 1 batch: -978.95520\n",
      "val loss in 1 epoch: -302.73416\n"
     ]
    },
    {
     "name": "stderr",
     "output_type": "stream",
     "text": [
      "/Library/Frameworks/Python.framework/Versions/3.7/lib/python3.7/site-packages/IPython/core/interactiveshell.py:3338: DtypeWarning: Columns (26,27,28) have mixed types.Specify dtype option on import or set low_memory=False.\n",
      "  if (await self.run_code(code, result,  async_=asy)):\n"
     ]
    },
    {
     "name": "stdout",
     "output_type": "stream",
     "text": [
      "Round 262, winrate: 0.0, max_step: 236, reward: 0, example: {'ranks': [{'rank': 1, 'agentID': 1}, {'rank': 2, 'agentID': 0}], 'replayFile': 'replays/610542285.json'}\n",
      "train loss in 1 epoch in 1 batch: 227.50027\n",
      "val loss in 1 epoch: 25.41799\n",
      "Round 263, winrate: 0.0, max_step: 359, reward: 3, example: {'ranks': [{'rank': 1, 'agentID': 0}, {'rank': 2, 'agentID': 1}], 'replayFile': 'replays/314751461.json'}\n",
      "train loss in 1 epoch in 1 batch: 339.85144\n",
      "val loss in 1 epoch: -350.33020\n",
      "train loss in 1 epoch in 2 batch: 24.70251\n",
      "val loss in 1 epoch: -341.70529\n",
      "Round 264, winrate: 0.0, max_step: 153, reward: 0, example: {'ranks': [{'rank': 1, 'agentID': 1}, {'rank': 2, 'agentID': 0}], 'replayFile': 'replays/113670318.json'}\n",
      "train loss in 1 epoch in 1 batch: 116.51313\n",
      "val loss in 1 epoch: -56.72362\n",
      "Round 265, winrate: 0.0, max_step: 314, reward: 0, example: {'ranks': [{'rank': 1, 'agentID': 0}, {'rank': 2, 'agentID': 1}], 'replayFile': 'replays/94157877.json'}\n",
      "train loss in 1 epoch in 1 batch: 298.48825\n",
      "val loss in 1 epoch: -338.84421\n",
      "train loss in 1 epoch in 2 batch: -7609.68457\n",
      "val loss in 1 epoch: -315.46773\n",
      "Round 266, winrate: 0.0, max_step: 230, reward: 0, example: {'ranks': [{'rank': 1, 'agentID': 1}, {'rank': 2, 'agentID': 0}], 'replayFile': 'replays/342154546.json'}\n",
      "train loss in 1 epoch in 1 batch: -775.35437\n",
      "val loss in 1 epoch: -433.28545\n",
      "Round 267, winrate: 0.0, max_step: 77, reward: 0, example: {'ranks': [{'rank': 1, 'agentID': 0}, {'rank': 2, 'agentID': 1}], 'replayFile': 'replays/758621641.json'}\n",
      "train loss in 1 epoch in 1 batch: 116.07976\n",
      "val loss in 1 epoch: 242.63826\n",
      "Round 268, winrate: 0.0, max_step: 272, reward: 0, example: {'ranks': [{'rank': 1, 'agentID': 1}, {'rank': 2, 'agentID': 0}], 'replayFile': 'replays/639857071.json'}\n",
      "train loss in 1 epoch in 1 batch: 60.47710\n",
      "val loss in 1 epoch: -237.19122\n",
      "train loss in 1 epoch in 2 batch: -881.93378\n",
      "val loss in 1 epoch: -243.47330\n",
      "train loss in 1 epoch in 3 batch: 27.29272\n",
      "val loss in 1 epoch: -255.99399\n",
      "Round 269, winrate: 0.0, max_step: 73, reward: 0, example: {'ranks': [{'rank': 1, 'agentID': 0}, {'rank': 2, 'agentID': 1}], 'replayFile': 'replays/35726716.json'}\n",
      "train loss in 1 epoch in 1 batch: 103.71871\n",
      "val loss in 1 epoch: 380.74010\n"
     ]
    },
    {
     "name": "stderr",
     "output_type": "stream",
     "text": [
      "/Library/Frameworks/Python.framework/Versions/3.7/lib/python3.7/site-packages/IPython/core/interactiveshell.py:3338: DtypeWarning: Columns (26,27,28) have mixed types.Specify dtype option on import or set low_memory=False.\n",
      "  if (await self.run_code(code, result,  async_=asy)):\n"
     ]
    },
    {
     "name": "stdout",
     "output_type": "stream",
     "text": [
      "Round 270, winrate: 0.0, max_step: 190, reward: 0, example: {'ranks': [{'rank': 1, 'agentID': 1}, {'rank': 2, 'agentID': 0}], 'replayFile': 'replays/833760288.json'}\n",
      "train loss in 1 epoch in 1 batch: 338.05408\n",
      "val loss in 1 epoch: -32.41704\n",
      "Round 271, winrate: 1.0, max_step: 158, reward: 0, example: {'ranks': [{'rank': 1, 'agentID': 1}, {'rank': 2, 'agentID': 0}], 'replayFile': 'replays/596505449.json'}\n",
      "train loss in 1 epoch in 1 batch: -733.10114\n",
      "val loss in 1 epoch: -304.47954\n"
     ]
    },
    {
     "name": "stderr",
     "output_type": "stream",
     "text": [
      "/Library/Frameworks/Python.framework/Versions/3.7/lib/python3.7/site-packages/IPython/core/interactiveshell.py:3338: DtypeWarning: Columns (9,10,11,12,13,14) have mixed types.Specify dtype option on import or set low_memory=False.\n",
      "  if (await self.run_code(code, result,  async_=asy)):\n"
     ]
    },
    {
     "name": "stdout",
     "output_type": "stream",
     "text": [
      "Round 272, winrate: 0.0, max_step: 230, reward: 0, example: {'ranks': [{'rank': 1, 'agentID': 1}, {'rank': 2, 'agentID': 0}], 'replayFile': 'replays/735954539.json'}\n",
      "train loss in 1 epoch in 1 batch: 301.37701\n",
      "val loss in 1 epoch: -99.01256\n"
     ]
    },
    {
     "name": "stderr",
     "output_type": "stream",
     "text": [
      "/Library/Frameworks/Python.framework/Versions/3.7/lib/python3.7/site-packages/IPython/core/interactiveshell.py:3338: DtypeWarning: Columns (9,10,11,12,13,14) have mixed types.Specify dtype option on import or set low_memory=False.\n",
      "  if (await self.run_code(code, result,  async_=asy)):\n"
     ]
    },
    {
     "name": "stdout",
     "output_type": "stream",
     "text": [
      "Round 273, winrate: 0.0, max_step: 356, reward: 0, example: {'ranks': [{'rank': 1, 'agentID': 0}, {'rank': 2, 'agentID': 1}], 'replayFile': 'replays/312366831.json'}\n",
      "train loss in 1 epoch in 1 batch: 194.04044\n",
      "val loss in 1 epoch: -302.88793\n",
      "train loss in 1 epoch in 2 batch: -20.54819\n",
      "val loss in 1 epoch: -310.39967\n",
      "train loss in 1 epoch in 3 batch: 38.81747\n",
      "val loss in 1 epoch: -323.12326\n",
      "Round 274, winrate: 0.0, max_step: 358, reward: 0, example: {'ranks': [{'rank': 1, 'agentID': 1}, {'rank': 2, 'agentID': 0}], 'replayFile': 'replays/139566706.json'}\n",
      "train loss in 1 epoch in 1 batch: 168.83273\n",
      "val loss in 1 epoch: -71.49102\n",
      "train loss in 1 epoch in 2 batch: 143.05682\n",
      "val loss in 1 epoch: -58.50363\n"
     ]
    },
    {
     "name": "stderr",
     "output_type": "stream",
     "text": [
      "/Library/Frameworks/Python.framework/Versions/3.7/lib/python3.7/site-packages/IPython/core/interactiveshell.py:3338: DtypeWarning: Columns (9,10,11,12,13,14) have mixed types.Specify dtype option on import or set low_memory=False.\n",
      "  if (await self.run_code(code, result,  async_=asy)):\n"
     ]
    },
    {
     "name": "stdout",
     "output_type": "stream",
     "text": [
      "Round 275, winrate: 0.0, max_step: 359, reward: 2, example: {'ranks': [{'rank': 1, 'agentID': 0}, {'rank': 2, 'agentID': 1}], 'replayFile': 'replays/804541783.json'}\n",
      "train loss in 1 epoch in 1 batch: -398.78369\n",
      "val loss in 1 epoch: -195.17406\n",
      "train loss in 1 epoch in 2 batch: -12.79688\n",
      "val loss in 1 epoch: -204.97360\n",
      "train loss in 1 epoch in 3 batch: -38.25330\n",
      "val loss in 1 epoch: -211.24904\n",
      "train loss in 1 epoch in 4 batch: -94.13318\n",
      "val loss in 1 epoch: -218.68017\n",
      "Round 276, winrate: 0.0, max_step: 350, reward: 0, example: {'ranks': [{'rank': 1, 'agentID': 1}, {'rank': 2, 'agentID': 0}], 'replayFile': 'replays/918172834.json'}\n",
      "train loss in 1 epoch in 1 batch: 140.62895\n",
      "val loss in 1 epoch: 25.13117\n",
      "Round 277, winrate: 0.0, max_step: 231, reward: 0, example: {'ranks': [{'rank': 1, 'agentID': 0}, {'rank': 2, 'agentID': 1}], 'replayFile': 'replays/121744725.json'}\n",
      "train loss in 1 epoch in 1 batch: -1843.19543\n",
      "val loss in 1 epoch: -655.72544\n",
      "Round 278, winrate: 0.0, max_step: 235, reward: 0, example: {'ranks': [{'rank': 1, 'agentID': 1}, {'rank': 2, 'agentID': 0}], 'replayFile': 'replays/841052320.json'}\n",
      "train loss in 1 epoch in 1 batch: 74.58616\n",
      "val loss in 1 epoch: -607.37091\n",
      "train loss in 1 epoch in 2 batch: 14.65039\n",
      "val loss in 1 epoch: -592.90098\n",
      "Round 279, winrate: 0.0, max_step: 359, reward: 49, example: {'ranks': [{'rank': 1, 'agentID': 0}, {'rank': 2, 'agentID': 1}], 'replayFile': 'replays/368454705.json'}\n",
      "train loss in 1 epoch in 1 batch: 666.10559\n",
      "val loss in 1 epoch: -78.88882\n",
      "train loss in 1 epoch in 2 batch: 137.45433\n",
      "val loss in 1 epoch: -87.24728\n",
      "train loss in 1 epoch in 3 batch: 133.81963\n",
      "val loss in 1 epoch: -117.64531\n",
      "Round 280, winrate: 0.0, max_step: 318, reward: 0, example: {'ranks': [{'rank': 1, 'agentID': 1}, {'rank': 2, 'agentID': 0}], 'replayFile': 'replays/572330789.json'}\n",
      "train loss in 1 epoch in 1 batch: 177.84569\n",
      "val loss in 1 epoch: -186.75909\n"
     ]
    },
    {
     "name": "stderr",
     "output_type": "stream",
     "text": [
      "/Library/Frameworks/Python.framework/Versions/3.7/lib/python3.7/site-packages/IPython/core/interactiveshell.py:3338: DtypeWarning: Columns (17,18,19,20,21,22) have mixed types.Specify dtype option on import or set low_memory=False.\n",
      "  if (await self.run_code(code, result,  async_=asy)):\n"
     ]
    },
    {
     "name": "stdout",
     "output_type": "stream",
     "text": [
      "Round 281, winrate: 0.0, max_step: 232, reward: 0, example: {'ranks': [{'rank': 1, 'agentID': 0}, {'rank': 2, 'agentID': 1}], 'replayFile': 'replays/878061684.json'}\n",
      "train loss in 1 epoch in 1 batch: 185.06487\n",
      "val loss in 1 epoch: -797.18399\n"
     ]
    },
    {
     "name": "stderr",
     "output_type": "stream",
     "text": [
      "/Library/Frameworks/Python.framework/Versions/3.7/lib/python3.7/site-packages/IPython/core/interactiveshell.py:3338: DtypeWarning: Columns (17,18,19,20,21,22,26,27,28) have mixed types.Specify dtype option on import or set low_memory=False.\n",
      "  if (await self.run_code(code, result,  async_=asy)):\n"
     ]
    },
    {
     "name": "stdout",
     "output_type": "stream",
     "text": [
      "Round 282, winrate: 0.0, max_step: 239, reward: 0, example: {'ranks': [{'rank': 1, 'agentID': 1}, {'rank': 2, 'agentID': 0}], 'replayFile': 'replays/508637049.json'}\n",
      "train loss in 1 epoch in 1 batch: 93.54794\n",
      "val loss in 1 epoch: -259.00255\n",
      "train loss in 1 epoch in 2 batch: 252.09198\n",
      "val loss in 1 epoch: -296.30295\n",
      "Round 283, winrate: 0.0, max_step: 194, reward: 0, example: {'ranks': [{'rank': 1, 'agentID': 0}, {'rank': 2, 'agentID': 1}], 'replayFile': 'replays/418394767.json'}\n",
      "train loss in 1 epoch in 1 batch: 67.65028\n",
      "val loss in 1 epoch: -532.26705\n"
     ]
    },
    {
     "name": "stderr",
     "output_type": "stream",
     "text": [
      "/Library/Frameworks/Python.framework/Versions/3.7/lib/python3.7/site-packages/IPython/core/interactiveshell.py:3338: DtypeWarning: Columns (17,18,19,20,21,22) have mixed types.Specify dtype option on import or set low_memory=False.\n",
      "  if (await self.run_code(code, result,  async_=asy)):\n"
     ]
    },
    {
     "name": "stdout",
     "output_type": "stream",
     "text": [
      "Round 284, winrate: 0.0, max_step: 152, reward: 0, example: {'ranks': [{'rank': 1, 'agentID': 1}, {'rank': 2, 'agentID': 0}], 'replayFile': 'replays/411791308.json'}\n",
      "train loss in 1 epoch in 1 batch: -1248.85229\n",
      "val loss in 1 epoch: -355.25307\n",
      "Round 285, winrate: 0.0, max_step: 190, reward: 0, example: {'ranks': [{'rank': 1, 'agentID': 0}, {'rank': 2, 'agentID': 1}], 'replayFile': 'replays/10317473.json'}\n",
      "train loss in 1 epoch in 1 batch: 43.78827\n",
      "val loss in 1 epoch: -138.03916\n",
      "Round 286, winrate: 0.0, max_step: 194, reward: 0, example: {'ranks': [{'rank': 1, 'agentID': 1}, {'rank': 2, 'agentID': 0}], 'replayFile': 'replays/622873037.json'}\n",
      "train loss in 1 epoch in 1 batch: 434.06995\n",
      "val loss in 1 epoch: 216.89113\n"
     ]
    },
    {
     "name": "stderr",
     "output_type": "stream",
     "text": [
      "/Library/Frameworks/Python.framework/Versions/3.7/lib/python3.7/site-packages/IPython/core/interactiveshell.py:3338: DtypeWarning: Columns (17,18,19,20,21,22) have mixed types.Specify dtype option on import or set low_memory=False.\n",
      "  if (await self.run_code(code, result,  async_=asy)):\n"
     ]
    },
    {
     "name": "stdout",
     "output_type": "stream",
     "text": [
      "Round 287, winrate: 0.0, max_step: 230, reward: 0, example: {'ranks': [{'rank': 1, 'agentID': 0}, {'rank': 2, 'agentID': 1}], 'replayFile': 'replays/620559351.json'}\n",
      "train loss in 1 epoch in 1 batch: 19.87335\n",
      "val loss in 1 epoch: -230.74061\n",
      "Round 288, winrate: 0.0, max_step: 191, reward: 0, example: {'ranks': [{'rank': 1, 'agentID': 1}, {'rank': 2, 'agentID': 0}], 'replayFile': 'replays/228791458.json'}\n",
      "train loss in 1 epoch in 1 batch: -2113.25366\n",
      "val loss in 1 epoch: -819.12495\n",
      "Round 289, winrate: 0.0, max_step: 158, reward: 0, example: {'ranks': [{'rank': 1, 'agentID': 0}, {'rank': 2, 'agentID': 1}], 'replayFile': 'replays/975522479.json'}\n",
      "train loss in 1 epoch in 1 batch: -1251.88330\n",
      "val loss in 1 epoch: -511.63214\n"
     ]
    },
    {
     "name": "stderr",
     "output_type": "stream",
     "text": [
      "/Library/Frameworks/Python.framework/Versions/3.7/lib/python3.7/site-packages/IPython/core/interactiveshell.py:3338: DtypeWarning: Columns (26,27,28) have mixed types.Specify dtype option on import or set low_memory=False.\n",
      "  if (await self.run_code(code, result,  async_=asy)):\n"
     ]
    },
    {
     "name": "stdout",
     "output_type": "stream",
     "text": [
      "Round 290, winrate: 0.0, max_step: 191, reward: 0, example: {'ranks': [{'rank': 1, 'agentID': 1}, {'rank': 2, 'agentID': 0}], 'replayFile': 'replays/100556268.json'}\n",
      "train loss in 1 epoch in 1 batch: 663.41602\n",
      "val loss in 1 epoch: 166.81427\n",
      "Round 291, winrate: 0.0, max_step: 236, reward: 0, example: {'ranks': [{'rank': 1, 'agentID': 0}, {'rank': 2, 'agentID': 1}], 'replayFile': 'replays/422279215.json'}\n",
      "train loss in 1 epoch in 1 batch: -500.28427\n",
      "val loss in 1 epoch: -260.83218\n",
      "Round 292, winrate: 0.0, max_step: 159, reward: 0, example: {'ranks': [{'rank': 1, 'agentID': 1}, {'rank': 2, 'agentID': 0}], 'replayFile': 'replays/5563564.json'}\n",
      "train loss in 1 epoch in 1 batch: -20.86177\n",
      "val loss in 1 epoch: -309.96477\n",
      "Round 293, winrate: 1.0, max_step: 359, reward: 196, example: {'ranks': [{'rank': 1, 'agentID': 1}, {'rank': 2, 'agentID': 0}], 'replayFile': 'replays/282341798.json'}\n",
      "train loss in 1 epoch in 1 batch: 413.75879\n",
      "val loss in 1 epoch: -85.92735\n",
      "train loss in 1 epoch in 2 batch: 54.11150\n",
      "val loss in 1 epoch: -118.16004\n",
      "train loss in 1 epoch in 3 batch: 16.57630\n",
      "val loss in 1 epoch: -135.82273\n",
      "train loss in 1 epoch in 4 batch: 6.85623\n",
      "val loss in 1 epoch: -141.30102\n"
     ]
    },
    {
     "name": "stderr",
     "output_type": "stream",
     "text": [
      "/Library/Frameworks/Python.framework/Versions/3.7/lib/python3.7/site-packages/IPython/core/interactiveshell.py:3338: DtypeWarning: Columns (9,10,11,12,13,14) have mixed types.Specify dtype option on import or set low_memory=False.\n",
      "  if (await self.run_code(code, result,  async_=asy)):\n"
     ]
    },
    {
     "name": "stdout",
     "output_type": "stream",
     "text": [
      "Round 294, winrate: 0.0, max_step: 359, reward: 9, example: {'ranks': [{'rank': 1, 'agentID': 1}, {'rank': 2, 'agentID': 0}], 'replayFile': 'replays/721663450.json'}\n",
      "train loss in 1 epoch in 1 batch: -578.59198\n",
      "val loss in 1 epoch: -1897.27177\n",
      "train loss in 1 epoch in 2 batch: -0.16048\n",
      "val loss in 1 epoch: -1924.62765\n",
      "Round 295, winrate: 0.0, max_step: 197, reward: 0, example: {'ranks': [{'rank': 1, 'agentID': 0}, {'rank': 2, 'agentID': 1}], 'replayFile': 'replays/524644576.json'}\n",
      "train loss in 1 epoch in 1 batch: -1542.46179\n",
      "val loss in 1 epoch: -288.90632\n"
     ]
    },
    {
     "name": "stderr",
     "output_type": "stream",
     "text": [
      "/Library/Frameworks/Python.framework/Versions/3.7/lib/python3.7/site-packages/IPython/core/interactiveshell.py:3338: DtypeWarning: Columns (9,10,11,12,13,14) have mixed types.Specify dtype option on import or set low_memory=False.\n",
      "  if (await self.run_code(code, result,  async_=asy)):\n"
     ]
    },
    {
     "name": "stdout",
     "output_type": "stream",
     "text": [
      "Round 296, winrate: 0.0, max_step: 359, reward: 4, example: {'ranks': [{'rank': 1, 'agentID': 1}, {'rank': 2, 'agentID': 0}], 'replayFile': 'replays/234810708.json'}\n",
      "train loss in 1 epoch in 1 batch: -871.78418\n",
      "val loss in 1 epoch: -338.35759\n",
      "train loss in 1 epoch in 2 batch: 87.09397\n",
      "val loss in 1 epoch: -334.98186\n",
      "train loss in 1 epoch in 3 batch: 31.29208\n",
      "val loss in 1 epoch: -346.52700\n"
     ]
    },
    {
     "name": "stderr",
     "output_type": "stream",
     "text": [
      "/Library/Frameworks/Python.framework/Versions/3.7/lib/python3.7/site-packages/IPython/core/interactiveshell.py:3338: DtypeWarning: Columns (26,27,28) have mixed types.Specify dtype option on import or set low_memory=False.\n",
      "  if (await self.run_code(code, result,  async_=asy)):\n"
     ]
    },
    {
     "name": "stdout",
     "output_type": "stream",
     "text": [
      "Round 297, winrate: 0.0, max_step: 275, reward: 0, example: {'ranks': [{'rank': 1, 'agentID': 0}, {'rank': 2, 'agentID': 1}], 'replayFile': 'replays/857257094.json'}\n",
      "train loss in 1 epoch in 1 batch: 133.77203\n",
      "val loss in 1 epoch: -580.63923\n"
     ]
    },
    {
     "name": "stderr",
     "output_type": "stream",
     "text": [
      "/Library/Frameworks/Python.framework/Versions/3.7/lib/python3.7/site-packages/IPython/core/interactiveshell.py:3338: DtypeWarning: Columns (26,27,28) have mixed types.Specify dtype option on import or set low_memory=False.\n",
      "  if (await self.run_code(code, result,  async_=asy)):\n"
     ]
    },
    {
     "name": "stdout",
     "output_type": "stream",
     "text": [
      "Round 298, winrate: 0.0, max_step: 198, reward: 0, example: {'ranks': [{'rank': 1, 'agentID': 1}, {'rank': 2, 'agentID': 0}], 'replayFile': 'replays/806161868.json'}\n",
      "train loss in 1 epoch in 1 batch: -10.77434\n",
      "val loss in 1 epoch: -434.77565\n",
      "Round 299, winrate: 0.0, max_step: 117, reward: 0, example: {'ranks': [{'rank': 1, 'agentID': 0}, {'rank': 2, 'agentID': 1}], 'replayFile': 'replays/212837082.json'}\n",
      "train loss in 1 epoch in 1 batch: 39.63770\n",
      "val loss in 1 epoch: -354.01107\n",
      "Round 300, winrate: 0.0, max_step: 230, reward: 0, example: {'ranks': [{'rank': 1, 'agentID': 1}, {'rank': 2, 'agentID': 0}], 'replayFile': 'replays/863814865.json'}\n",
      "train loss in 1 epoch in 1 batch: -1026.23950\n",
      "val loss in 1 epoch: -70.02166\n"
     ]
    },
    {
     "name": "stderr",
     "output_type": "stream",
     "text": [
      "/Library/Frameworks/Python.framework/Versions/3.7/lib/python3.7/site-packages/IPython/core/interactiveshell.py:3338: DtypeWarning: Columns (26,27,28) have mixed types.Specify dtype option on import or set low_memory=False.\n",
      "  if (await self.run_code(code, result,  async_=asy)):\n"
     ]
    },
    {
     "name": "stdout",
     "output_type": "stream",
     "text": [
      "Round 301, winrate: 0.0, max_step: 199, reward: 0, example: {'ranks': [{'rank': 1, 'agentID': 0}, {'rank': 2, 'agentID': 1}], 'replayFile': 'replays/374864757.json'}\n",
      "train loss in 1 epoch in 1 batch: 197.10001\n",
      "val loss in 1 epoch: 146.05913\n",
      "Round 302, winrate: 0.0, max_step: 190, reward: 0, example: {'ranks': [{'rank': 1, 'agentID': 1}, {'rank': 2, 'agentID': 0}], 'replayFile': 'replays/585323358.json'}\n",
      "train loss in 1 epoch in 1 batch: 375.44656\n",
      "val loss in 1 epoch: -4.51885\n"
     ]
    },
    {
     "name": "stderr",
     "output_type": "stream",
     "text": [
      "/Library/Frameworks/Python.framework/Versions/3.7/lib/python3.7/site-packages/IPython/core/interactiveshell.py:3338: DtypeWarning: Columns (9,10,11,12,13,14,26,27,28) have mixed types.Specify dtype option on import or set low_memory=False.\n",
      "  if (await self.run_code(code, result,  async_=asy)):\n"
     ]
    },
    {
     "name": "stdout",
     "output_type": "stream",
     "text": [
      "Round 303, winrate: 0.0, max_step: 274, reward: 0, example: {'ranks': [{'rank': 1, 'agentID': 0}, {'rank': 2, 'agentID': 1}], 'replayFile': 'replays/637499.json'}\n",
      "train loss in 1 epoch in 1 batch: -70.21721\n",
      "val loss in 1 epoch: -356.72995\n"
     ]
    },
    {
     "name": "stderr",
     "output_type": "stream",
     "text": [
      "/Library/Frameworks/Python.framework/Versions/3.7/lib/python3.7/site-packages/IPython/core/interactiveshell.py:3338: DtypeWarning: Columns (9,10,11,12,13,14) have mixed types.Specify dtype option on import or set low_memory=False.\n",
      "  if (await self.run_code(code, result,  async_=asy)):\n"
     ]
    },
    {
     "name": "stdout",
     "output_type": "stream",
     "text": [
      "Round 304, winrate: 0.0, max_step: 359, reward: 0, example: {'ranks': [{'rank': 1, 'agentID': 1}, {'rank': 2, 'agentID': 0}], 'replayFile': 'replays/716111135.json'}\n",
      "train loss in 1 epoch in 1 batch: -650.17761\n",
      "val loss in 1 epoch: -1208.38560\n",
      "train loss in 1 epoch in 2 batch: 265.42596\n",
      "val loss in 1 epoch: -1205.75599\n",
      "Round 305, winrate: 1.0, max_step: 359, reward: 4, example: {'ranks': [{'rank': 1, 'agentID': 1}, {'rank': 2, 'agentID': 0}], 'replayFile': 'replays/666434985.json'}\n",
      "train loss in 1 epoch in 1 batch: -2092.57275\n",
      "val loss in 1 epoch: -292.36554\n",
      "Round 306, winrate: 0.5, max_step: 359, reward: 1, example: {'ranks': [{'rank': 1, 'agentID': 0}, {'rank': 1, 'agentID': 1}], 'replayFile': 'replays/172161760.json'}\n",
      "train loss in 1 epoch in 1 batch: -782.12402\n",
      "val loss in 1 epoch: -264.74580\n",
      "train loss in 1 epoch in 2 batch: 237.71893\n",
      "val loss in 1 epoch: -292.83840\n",
      "train loss in 1 epoch in 3 batch: -3140.77368\n",
      "val loss in 1 epoch: -322.40996\n"
     ]
    },
    {
     "name": "stderr",
     "output_type": "stream",
     "text": [
      "/Library/Frameworks/Python.framework/Versions/3.7/lib/python3.7/site-packages/IPython/core/interactiveshell.py:3338: DtypeWarning: Columns (17,18,19,20,21,22) have mixed types.Specify dtype option on import or set low_memory=False.\n",
      "  if (await self.run_code(code, result,  async_=asy)):\n"
     ]
    },
    {
     "name": "stdout",
     "output_type": "stream",
     "text": [
      "Round 307, winrate: 0.0, max_step: 276, reward: 0, example: {'ranks': [{'rank': 1, 'agentID': 0}, {'rank': 2, 'agentID': 1}], 'replayFile': 'replays/303357813.json'}\n",
      "train loss in 1 epoch in 1 batch: 90.39635\n",
      "val loss in 1 epoch: -160.16550\n",
      "train loss in 1 epoch in 2 batch: -708.03821\n",
      "val loss in 1 epoch: -191.83324\n",
      "train loss in 1 epoch in 3 batch: 201.70366\n",
      "val loss in 1 epoch: -220.76808\n",
      "Round 308, winrate: 0.0, max_step: 229, reward: 0, example: {'ranks': [{'rank': 1, 'agentID': 1}, {'rank': 2, 'agentID': 0}], 'replayFile': 'replays/148017079.json'}\n",
      "train loss in 1 epoch in 1 batch: 385.88443\n",
      "val loss in 1 epoch: -407.82201\n"
     ]
    },
    {
     "name": "stderr",
     "output_type": "stream",
     "text": [
      "/Library/Frameworks/Python.framework/Versions/3.7/lib/python3.7/site-packages/IPython/core/interactiveshell.py:3338: DtypeWarning: Columns (17,18,19,20,21,22) have mixed types.Specify dtype option on import or set low_memory=False.\n",
      "  if (await self.run_code(code, result,  async_=asy)):\n"
     ]
    },
    {
     "name": "stdout",
     "output_type": "stream",
     "text": [
      "Round 309, winrate: 0.0, max_step: 230, reward: 0, example: {'ranks': [{'rank': 1, 'agentID': 0}, {'rank': 2, 'agentID': 1}], 'replayFile': 'replays/163002273.json'}\n",
      "train loss in 1 epoch in 1 batch: 212.47305\n",
      "val loss in 1 epoch: -76.73810\n",
      "Round 310, winrate: 0.0, max_step: 157, reward: 0, example: {'ranks': [{'rank': 1, 'agentID': 1}, {'rank': 2, 'agentID': 0}], 'replayFile': 'replays/294288374.json'}\n",
      "train loss in 1 epoch in 1 batch: 136.79268\n",
      "val loss in 1 epoch: 86.97942\n"
     ]
    },
    {
     "name": "stderr",
     "output_type": "stream",
     "text": [
      "/Library/Frameworks/Python.framework/Versions/3.7/lib/python3.7/site-packages/IPython/core/interactiveshell.py:3338: DtypeWarning: Columns (26,27,28) have mixed types.Specify dtype option on import or set low_memory=False.\n",
      "  if (await self.run_code(code, result,  async_=asy)):\n"
     ]
    }
   ],
   "source": [
    "t = 0  #  1778 - value_iter\n",
    "B = 1\n",
    "\n",
    "model = NNWithCustomFeatures(83, 0.05, 128)\n",
    "\n",
    "writer = SummaryWriter()\n",
    "\n",
    "while True:\n",
    "    t += 1\n",
    "    np.random.seed(t)\n",
    "    torch.save(model.state_dict(), '../submissions/simple/models/ac_iter_v{}'.format(t))\n",
    "    r = []\n",
    "    for i in np.arange(B):\n",
    "        seed = t * B + i\n",
    "#         _f = str(seed) + \".txt\"\n",
    "        _f = \"log.txt\"\n",
    "        bot = build_runnable_bot_with_flags({\n",
    "            \"model_path\": \"models/ac_iter_v{}\".format(t),\n",
    "            \"use_policy\": True,\n",
    "            \"is_neural\": True,\n",
    "            \"prob_use_default_agent\": 0.5 / np.log(t + 1),\n",
    "            \"prob_use_random\": 0.05,\n",
    "            \"ohe_path\": \"models/ohe_v2\",\n",
    "            \"use_old_units_cargo_rules\": False,\n",
    "            \"log_features_path\": \"../../research/features_iter/\", \"log_path_file_name\": _f\n",
    "        })\n",
    "        if t % 2 == 0:\n",
    "            _r = run_game(bot, simple_bot, loglevel=0, seed=seed)\n",
    "        else:\n",
    "            _r = run_game(simple_bot, bot, loglevel=0, seed=seed)\n",
    "        r.append(_r)\n",
    "    wins = np.mean(count_series(r))\n",
    "    if t % 2 == 1:\n",
    "        wins = 1 - wins\n",
    "    trainD = dataset.get_dataset_from_file(os.path.join(\"features_iter/\", _f), wins)\n",
    "    reward = np.sum(trainD.weights)\n",
    "    trainD_ohe, valD_ohe, _ = prepare_features(trainD, trainD, OHE)\n",
    "    max_step = np.max(trainD.features[:, 31])\n",
    "    trainD_ohe_with_next = add_next_features(trainD_ohe)\n",
    "    valD_ohe_with_next = add_next_features(valD_ohe)\n",
    "    trainD_ohe_with_next_sampled = sample_dataset(trainD_ohe_with_next, 0.1)\n",
    "    print(\"Round {}, winrate: {}, max_step: {}, reward: {}, example: {}\".format(t, wins, max_step, reward, r[0][0]['results']))\n",
    "    writer.add_scalar('data/reward', reward, t)\n",
    "    writer.add_scalar('data/winrate', wins, t)\n",
    "    writer.add_scalar('data/max_step', max_step, t)\n",
    "    try:\n",
    "        learn(trainD_ohe_with_next_sampled, valD_ohe_with_next, model, actor_critic_loss, lr=1e-1 / (t + 1), batch_size=64, epochs=1, freq=1, l2=1e-5, use_tb=False)\n",
    "    except Exception as e:\n",
    "        print(e)"
   ]
  },
  {
   "cell_type": "code",
   "execution_count": null,
   "metadata": {},
   "outputs": [],
   "source": []
  }
 ],
 "metadata": {
  "kernelspec": {
   "display_name": "Python 3",
   "language": "python",
   "name": "python3"
  },
  "language_info": {
   "codemirror_mode": {
    "name": "ipython",
    "version": 3
   },
   "file_extension": ".py",
   "mimetype": "text/x-python",
   "name": "python",
   "nbconvert_exporter": "python",
   "pygments_lexer": "ipython3",
   "version": "3.7.9"
  }
 },
 "nbformat": 4,
 "nbformat_minor": 4
}
