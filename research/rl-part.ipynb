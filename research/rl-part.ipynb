{
 "cells": [
  {
   "cell_type": "code",
   "execution_count": 1,
   "metadata": {},
   "outputs": [],
   "source": [
    "import numpy as np\n",
    "import pandas as pd\n",
    "\n",
    "\n",
    "import json\n",
    "import os\n",
    "\n",
    "import subprocess\n",
    "\n",
    "from matplotlib import pyplot as plt"
   ]
  },
  {
   "cell_type": "code",
   "execution_count": 6,
   "metadata": {},
   "outputs": [],
   "source": [
    "%matplotlib inline\n",
    "%config Completer.use_jedi = False"
   ]
  },
  {
   "cell_type": "code",
   "execution_count": 3,
   "metadata": {},
   "outputs": [],
   "source": [
    "import torch\n",
    "from torch import nn\n",
    "from torch import optim\n",
    "\n",
    "from tensorboardX import SummaryWriter"
   ]
  },
  {
   "cell_type": "code",
   "execution_count": 643,
   "metadata": {},
   "outputs": [
    {
     "data": {
      "text/plain": [
       "<module 'utils.dataset' from '/Users/sergmiller/Documents/my/lux-ai-v1/research/utils/dataset.py'>"
      ]
     },
     "execution_count": 643,
     "metadata": {},
     "output_type": "execute_result"
    }
   ],
   "source": [
    "from importlib import reload\n",
    "from utils import dataset\n",
    "\n",
    "reload(dataset)"
   ]
  },
  {
   "cell_type": "code",
   "execution_count": 573,
   "metadata": {},
   "outputs": [],
   "source": [
    "def learn(train, val, model_ff, criterion, epochs=5, batch_size=64, shuffle=True, freq=10,lr=1e-3, l2=1e-5, use_tb=True): \n",
    "    if use_tb:\n",
    "        writer = SummaryWriter()\n",
    "    \n",
    "#     np.random.seed(1)\n",
    "    ids_nn = np.arange(train.targets.shape[0])\n",
    "    \n",
    "    reshape_to_last = lambda x: torch.reshape(x, [np.prod(x.shape[:-1]), x.shape[-1]])\n",
    "\n",
    "    optimizer = optim.Adam(model_ff.parameters(), lr=lr, weight_decay=l2)\n",
    "\n",
    "    time_for_print_loss = lambda i: (i + 1) % freq == 0\n",
    "    \n",
    "    n_iter = 0\n",
    "\n",
    "\n",
    "    for epoch in np.arange(epochs):\n",
    "        np.random.shuffle(ids_nn)\n",
    "\n",
    "        model_ff.train(True)\n",
    "\n",
    "        for b in np.arange(0, train.targets.shape[0], batch_size):\n",
    "            X_batch = torch.FloatTensor(train.features[ids_nn[b:b+batch_size]])\n",
    "            y_batch = torch.FloatTensor(train.weights[ids_nn[b:b+batch_size]])  # reward(advantage)\n",
    "            a_batch = torch.LongTensor(train.targets[ids_nn[b:b+batch_size]])  # action\n",
    "\n",
    "            optimizer.zero_grad()\n",
    "            y_pred_logits = model_ff(X_batch)\n",
    "\n",
    "            loss = criterion(y_pred_logits, y_batch, a_batch, X_batch)\n",
    "            loss.backward()\n",
    "\n",
    "            optimizer.step()\n",
    "\n",
    "            if (b // batch_size + 1) % freq == 0:\n",
    "                print('train loss in %d epoch in %d batch: %.5f' %\n",
    "                  (epoch + 1, b // batch_size + 1, loss.item()))\n",
    "                \n",
    "                if use_tb:\n",
    "                    writer.add_scalar('data/train_loss', loss.item(), n_iter)\n",
    "                    writer.add_scalar('data/epoch', epoch + 1, n_iter)\n",
    "                    writer.add_scalar('data/batch', b // batch_size + 1, n_iter)\n",
    "\n",
    "                val_loss = 0\n",
    "                its = 0\n",
    "                model_ff.train(False)\n",
    "                for b in np.arange(0, val.targets.shape[0], batch_size):\n",
    "                    its += 1\n",
    "                    X_batch = torch.FloatTensor(val.features[b:b+batch_size])\n",
    "#                     X_batch = reshape_to_last(X_batch)\n",
    "\n",
    "                    y_batch = torch.FloatTensor(val.weights[b:b+batch_size])\n",
    "                    a_batch = torch.LongTensor(val.targets[b:b+batch_size])\n",
    "                    with torch.no_grad():\n",
    "                        y_pred_logits = model_ff(X_batch)\n",
    "                    loss = criterion(y_pred_logits, y_batch, a_batch, X_batch)\n",
    "                    val_loss += loss.item()\n",
    "                val_loss /= its\n",
    "                print('val loss in %d epoch: %.5f' % (epoch + 1, val_loss))\n",
    "                \n",
    "                if use_tb:\n",
    "                    writer.add_scalar('data/val_loss', val_loss, n_iter)\n",
    "                n_iter += 1\n"
   ]
  },
  {
   "cell_type": "code",
   "execution_count": 96,
   "metadata": {},
   "outputs": [],
   "source": [
    "datasets = dataset.read_datasets_from_dir(\"features_v3/\")"
   ]
  },
  {
   "cell_type": "code",
   "execution_count": 97,
   "metadata": {},
   "outputs": [
    {
     "data": {
      "text/plain": [
       "[(0, 'cargo_vol_total'),\n",
       " (1, 'cargo_fuel_total'),\n",
       " (2, 'unit_can_build'),\n",
       " (3, 'unit_routine'),\n",
       " (4, 'unit_last_action'),\n",
       " (5, 'near_city_dist'),\n",
       " (6, 'near_city_dir'),\n",
       " (7, 'near_city_fuel'),\n",
       " (8, 'near_city_light_upkeep'),\n",
       " (9, 'city_size'),\n",
       " (10, 'opp_near_city_dist'),\n",
       " (11, 'opp_near_city_dir'),\n",
       " (12, 'opp_near_city_fuel'),\n",
       " (13, 'opp_near_city_light_upkeep'),\n",
       " (14, 'opp_city_size'),\n",
       " (15, 'near_resource_dist'),\n",
       " (16, 'near_resource_dir'),\n",
       " (17, 'near_resource_type'),\n",
       " (18, 'near_resource_amount'),\n",
       " (19, 'my_city_count'),\n",
       " (20, 'opp_city_count'),\n",
       " (21, 'turn'),\n",
       " (22, 'is_night'),\n",
       " (23, 'time_to_night'),\n",
       " (24, 'width'),\n",
       " (25, 'height'),\n",
       " (26, 'my_research'),\n",
       " (27, 'opp_research'),\n",
       " (28, 'my_research_coal'),\n",
       " (29, 'opp_research_coal'),\n",
       " (30, 'my_research_uran'),\n",
       " (31, 'opp_research_uran'),\n",
       " (32, 'action'),\n",
       " (33, 'my_tiles'),\n",
       " (34, 'opp_tiles')]"
      ]
     },
     "execution_count": 97,
     "metadata": {},
     "output_type": "execute_result"
    }
   ],
   "source": [
    "dataset.read_columns_from_random_file(\"features_v3\")"
   ]
  },
  {
   "cell_type": "code",
   "execution_count": 98,
   "metadata": {},
   "outputs": [],
   "source": [
    "trainD = dataset.concat_datasets(datasets[:-50])\n",
    "valD = dataset.concat_datasets(datasets[-50:])"
   ]
  },
  {
   "cell_type": "code",
   "execution_count": 99,
   "metadata": {},
   "outputs": [
    {
     "data": {
      "text/plain": [
       "array(['None', 'w', 'e', ..., 'p', 'p', 'p'], dtype=object)"
      ]
     },
     "execution_count": 99,
     "metadata": {},
     "output_type": "execute_result"
    }
   ],
   "source": [
    "trainD.features[:, 4]"
   ]
  },
  {
   "cell_type": "code",
   "execution_count": 100,
   "metadata": {},
   "outputs": [
    {
     "data": {
      "text/plain": [
       "[2, 3, 4, 6, 11, 16, 17, 22, 28, 29, 30, 31]"
      ]
     },
     "execution_count": 100,
     "metadata": {},
     "output_type": "execute_result"
    }
   ],
   "source": [
    "dataset.CAT_FEATURES"
   ]
  },
  {
   "cell_type": "code",
   "execution_count": 101,
   "metadata": {},
   "outputs": [
    {
     "data": {
      "text/plain": [
       "(2533363, 32)"
      ]
     },
     "execution_count": 101,
     "metadata": {},
     "output_type": "execute_result"
    }
   ],
   "source": [
    "trainD.features.shape"
   ]
  },
  {
   "cell_type": "code",
   "execution_count": 409,
   "metadata": {},
   "outputs": [],
   "source": [
    "FLOAT_FEATURES = [i for i in range(42 + 32*32*7) if i not in dataset.CAT_FEATURES_V4]"
   ]
  },
  {
   "cell_type": "code",
   "execution_count": 410,
   "metadata": {},
   "outputs": [
    {
     "data": {
      "text/plain": [
       "([0, 1, 5, 6, 7, 9, 10, 11, 12, 13, 15, 17, 18, 19, 20, 21, 23, 26, 27, 28],\n",
       " [7200, 7201, 7202, 7203, 7204, 7205, 7206, 7207, 7208, 7209])"
      ]
     },
     "execution_count": 410,
     "metadata": {},
     "output_type": "execute_result"
    }
   ],
   "source": [
    "FLOAT_FEATURES[:20], FLOAT_FEATURES[-10:]"
   ]
  },
  {
   "cell_type": "code",
   "execution_count": 104,
   "metadata": {},
   "outputs": [
    {
     "data": {
      "text/plain": [
       "(2533363, 32)"
      ]
     },
     "execution_count": 104,
     "metadata": {},
     "output_type": "execute_result"
    }
   ],
   "source": [
    "trainD.features.shape"
   ]
  },
  {
   "cell_type": "code",
   "execution_count": 167,
   "metadata": {},
   "outputs": [],
   "source": [
    "data = dataset.get_dataset_from_file(\"features_v4/features_0.07319414446710493.txt\")"
   ]
  },
  {
   "cell_type": "code",
   "execution_count": 81,
   "metadata": {},
   "outputs": [
    {
     "data": {
      "text/plain": [
       "42"
      ]
     },
     "execution_count": 81,
     "metadata": {},
     "output_type": "execute_result"
    }
   ],
   "source": [
    "data.features.shape[1] - 32 * 32 * 7"
   ]
  },
  {
   "cell_type": "code",
   "execution_count": null,
   "metadata": {},
   "outputs": [],
   "source": []
  },
  {
   "cell_type": "code",
   "execution_count": 87,
   "metadata": {},
   "outputs": [],
   "source": [
    "import pickle\n",
    "from sklearn.preprocessing import OneHotEncoder"
   ]
  },
  {
   "cell_type": "code",
   "execution_count": 392,
   "metadata": {},
   "outputs": [],
   "source": [
    "with open(\"../submissions/simple/models/ohe_v2\", \"rb\") as f:\n",
    "    OHE = pickle.load(f)"
   ]
  },
  {
   "cell_type": "code",
   "execution_count": 419,
   "metadata": {},
   "outputs": [],
   "source": [
    "def prepare_features(t: dataset.Dataset, v: dataset.Dataset, ohe=None, categories=None) -> (dataset.Dataset, dataset.Dataset):\n",
    "    create_ohe = ohe is None\n",
    "    if create_ohe:\n",
    "         ohe = OneHotEncoder(sparse=False, categories=categories)\n",
    "    def prepare(d, is_train):\n",
    "        cf = d.features[:, dataset.CAT_FEATURES_V4]\n",
    "        ff = d.features[:, FLOAT_FEATURES]\n",
    "        cf[cf == \"False\"] = False\n",
    "        cf[cf == \"True\"] = True\n",
    "        cf[cf == None] = \"None\"\n",
    "        cf[cf == \"1\"] = 1\n",
    "        cf[cf == \"2\"] = 2\n",
    "        cf[cf == \"3\"] = 3\n",
    "        ff[ff == \"None\"] = 0\n",
    "        cf_o = ohe.fit_transform(cf) if is_train and create_ohe else ohe.transform(cf)\n",
    "        return dataset.Dataset(\n",
    "            features=np.array(np.concatenate([cf_o, ff], axis=1), dtype=np.float),\n",
    "            targets=np.array(d.targets, dtype=np.float),\n",
    "            weights=np.array(d.weights, dtype=np.float),\n",
    "            next_state_id = d.next_state_id\n",
    "        )\n",
    "    t = prepare(t, True)\n",
    "    v = prepare(v, False)\n",
    "    return (t,v, ohe)"
   ]
  },
  {
   "cell_type": "code",
   "execution_count": 171,
   "metadata": {},
   "outputs": [
    {
     "data": {
      "text/plain": [
       "(6400, 7210)"
      ]
     },
     "execution_count": 171,
     "metadata": {},
     "output_type": "execute_result"
    }
   ],
   "source": [
    "data.features.shape"
   ]
  },
  {
   "cell_type": "code",
   "execution_count": 182,
   "metadata": {},
   "outputs": [
    {
     "data": {
      "text/plain": [
       "array([False, False, False, False, False, False, False, False, False,\n",
       "       False, False, False, False, False, False, False, False, False,\n",
       "       False, False, False, False, False, False, False, False, False,\n",
       "       False, False, False, False, False, False, False, False, False,\n",
       "       False, False, False, False, False, False, False, False, False,\n",
       "       False, False, False, False, False, False, False, False, False,\n",
       "       False, False, False, False, False, False, False, False, False,\n",
       "       False, False, True, False, False, False, False, False, False, True,\n",
       "       False, False, False, True, False, False, True, True, False, False,\n",
       "       False, False, True, False, False, True, False, False, False, False,\n",
       "       True, False, False, True, False, False, False], dtype=object)"
      ]
     },
     "execution_count": 182,
     "metadata": {},
     "output_type": "execute_result"
    }
   ],
   "source": [
    "data.features[:, dataset.CAT_FEATURES_V4][:100, 4]"
   ]
  },
  {
   "cell_type": "code",
   "execution_count": 184,
   "metadata": {},
   "outputs": [],
   "source": [
    "dt,dv,OHE = prepare_features(data, data, None, [\n",
    "     np.array([\"None\", False, True], dtype=object),\n",
    "     np.array([1, 2, 3], dtype=object),\n",
    "     np.array(['None', 'bcity', 'e', 'n', 'p', 's', 'w'], dtype=object),\n",
    "     np.array(['None', 'c', 'e', 'n', 's', 'w'], dtype=object),\n",
    "     np.array([\"None\", False, True], dtype=object),\n",
    "     np.array(['None', 'e', 'n', 's', 'w'], dtype=object),\n",
    "     np.array([\"None\", False, True], dtype=object),\n",
    "     np.array(['None', 'c', 'e', 'n', 's', 'w'], dtype=object),\n",
    "     np.array(['None', 'coal', 'uranium', 'wood'], dtype=object),\n",
    "     np.array([\"None\", False, True], dtype=object),\n",
    "     np.array([\"None\", False, True], dtype=object),\n",
    "     np.array([\"None\", False, True], dtype=object),\n",
    "     np.array([\"None\", False, True], dtype=object),\n",
    "     np.array([\"None\", False, True], dtype=object)])"
   ]
  },
  {
   "cell_type": "code",
   "execution_count": 185,
   "metadata": {},
   "outputs": [
    {
     "data": {
      "text/plain": [
       "[array(['None', False, True], dtype=object),\n",
       " array([1, 2, 3], dtype=object),\n",
       " array(['None', 'bcity', 'e', 'n', 'p', 's', 'w'], dtype=object),\n",
       " array(['None', 'c', 'e', 'n', 's', 'w'], dtype=object),\n",
       " array(['None', False, True], dtype=object),\n",
       " array(['None', 'e', 'n', 's', 'w'], dtype=object),\n",
       " array(['None', False, True], dtype=object),\n",
       " array(['None', 'c', 'e', 'n', 's', 'w'], dtype=object),\n",
       " array(['None', 'coal', 'uranium', 'wood'], dtype=object),\n",
       " array(['None', False, True], dtype=object),\n",
       " array(['None', False, True], dtype=object),\n",
       " array(['None', False, True], dtype=object),\n",
       " array(['None', False, True], dtype=object),\n",
       " array(['None', False, True], dtype=object)]"
      ]
     },
     "execution_count": 185,
     "metadata": {},
     "output_type": "execute_result"
    }
   ],
   "source": [
    "OHE.categories_"
   ]
  },
  {
   "cell_type": "code",
   "execution_count": 186,
   "metadata": {},
   "outputs": [
    {
     "data": {
      "text/plain": [
       "(6400, 7251)"
      ]
     },
     "execution_count": 186,
     "metadata": {},
     "output_type": "execute_result"
    }
   ],
   "source": [
    "dt.features.shape"
   ]
  },
  {
   "cell_type": "code",
   "execution_count": 187,
   "metadata": {},
   "outputs": [
    {
     "data": {
      "text/plain": [
       "83"
      ]
     },
     "execution_count": 187,
     "metadata": {},
     "output_type": "execute_result"
    }
   ],
   "source": [
    "dt.features.shape[1] - 32 * 32 * 7"
   ]
  },
  {
   "cell_type": "code",
   "execution_count": 130,
   "metadata": {},
   "outputs": [
    {
     "data": {
      "text/plain": [
       "[array([False, True], dtype=object),\n",
       " array([1, 2, 3], dtype=object),\n",
       " array(['None', 'bcity', 'e', 'n', 'p', 's', 'w'], dtype=object),\n",
       " array(['c', 'e', 'n', 's', 'w'], dtype=object),\n",
       " array([False, True], dtype=object),\n",
       " array(['e', 'n', 's', 'w'], dtype=object),\n",
       " array([False, True], dtype=object),\n",
       " array(['c', 'e', 'n', 's', 'w'], dtype=object),\n",
       " array(['coal', 'uranium', 'wood'], dtype=object),\n",
       " array([False, True], dtype=object),\n",
       " array([False, True], dtype=object),\n",
       " array([False, True], dtype=object),\n",
       " array([False, True], dtype=object),\n",
       " array([False], dtype=object)]"
      ]
     },
     "execution_count": 130,
     "metadata": {},
     "output_type": "execute_result"
    }
   ],
   "source": [
    "OHE.categories_"
   ]
  },
  {
   "cell_type": "code",
   "execution_count": 188,
   "metadata": {},
   "outputs": [],
   "source": [
    "# with open(\"../submissions/simple/models/ohe_v2\", \"wb\") as f:\n",
    "#     pickle.dump(OHE, f)"
   ]
  },
  {
   "cell_type": "code",
   "execution_count": 142,
   "metadata": {},
   "outputs": [],
   "source": [
    "# with open(\"../submissions/simple/models/ohe_v1\", \"wb\") as f:\n",
    "#     pickle.dump(ohe, f)"
   ]
  },
  {
   "cell_type": "code",
   "execution_count": 101,
   "metadata": {},
   "outputs": [],
   "source": [
    "trainD_ohe, valD_ohe = prepare_features(trainD, valD)"
   ]
  },
  {
   "cell_type": "code",
   "execution_count": null,
   "metadata": {},
   "outputs": [],
   "source": [
    "torch.nn.Conv2d(7, )"
   ]
  },
  {
   "cell_type": "code",
   "execution_count": 626,
   "metadata": {},
   "outputs": [],
   "source": [
    "MAP_F = 32 * 32 * 7\n",
    "\n",
    "class NNWithCustomFeatures(nn.Module):\n",
    "    def __init__(self, INPUT_F, DROP_P, H, A=6):\n",
    "        super().__init__()\n",
    "        INPUT_F_C = INPUT_F + 128\n",
    "        self.model_q =  nn.Sequential(\n",
    "            nn.Dropout(DROP_P),\n",
    "            nn.Linear(INPUT_F_C, H),\n",
    "            nn.LayerNorm(H),\n",
    "            nn.ReLU(),\n",
    "            nn.Dropout(DROP_P),\n",
    "            nn.Linear(H, H),\n",
    "            nn.ReLU(),\n",
    "            nn.Dropout(DROP_P),\n",
    "            nn.Linear(H, H),\n",
    "            nn.ReLU(),\n",
    "            nn.Linear(H, A),\n",
    "            nn.ReLU()\n",
    "#             nn.Sigmoid()\n",
    "        )\n",
    "        \n",
    "        self.model_p =  nn.Sequential(\n",
    "            nn.Dropout(DROP_P),\n",
    "            nn.Linear(INPUT_F_C, H),\n",
    "            nn.LayerNorm(H),\n",
    "            nn.ReLU(),\n",
    "            nn.Dropout(DROP_P),\n",
    "            nn.Linear(H, H),\n",
    "            nn.ReLU(),\n",
    "            nn.Dropout(DROP_P),\n",
    "            nn.Linear(H, H),\n",
    "            nn.ReLU(),\n",
    "            nn.Linear(H, A)\n",
    "#             nn.Sigmoid()\n",
    "        )\n",
    "        \n",
    "        self.map_model = nn.Sequential(\n",
    "            nn.Conv2d(7, 64, 3),\n",
    "            nn.ReLU(inplace=True),\n",
    "            nn.MaxPool2d(2),  # after -> (16,16)\n",
    "            nn.Conv2d(64, 128, 3),\n",
    "            nn.ReLU(inplace=True),\n",
    "            nn.MaxPool2d(2),  # after -> (8, 8)\n",
    "            nn.Conv2d(128, 256, 3),\n",
    "            nn.ReLU(inplace=True),\n",
    "            nn.MaxPool2d(2),  # after -> (4, 4)\n",
    "#             nn.Conv2d(128, 256, 3),\n",
    "#             nn.ReLU(inplace=True),\n",
    "#             nn.MaxPool2d(2),  # after -> (1, 1)\n",
    "        )\n",
    "        self.avgpool = nn.AdaptiveAvgPool2d((4, 4))\n",
    "        self.proj = nn.Sequential(\n",
    "            nn.Dropout(p=DROP_P),\n",
    "            nn.Linear(256 * 4 * 4, 256),\n",
    "            nn.ReLU(inplace=True),\n",
    "            nn.Dropout(p=DROP_P),\n",
    "            nn.Linear(256, 128)\n",
    "        )\n",
    "        \n",
    "    def forward(self, x):\n",
    "        L = x.shape[1]\n",
    "        cur_r = self.forward_impl(x[:, :L // 2])\n",
    "        next_r =  self.forward_impl(x[:, L // 2:])\n",
    "        return torch.cat([cur_r, next_r],dim=1)\n",
    "\n",
    "    def forward_impl(self, x):\n",
    "        mapp = x[:, -MAP_F:].reshape(-1, 32, 32, 7)\n",
    "        rest = x[:, :-MAP_F]\n",
    "        mapp = torch.transpose(mapp, 1, -1)\n",
    "        mapp = self.avgpool(self.map_model(mapp))\n",
    "        mapp = torch.flatten(mapp, 1)\n",
    "        mapp_f = self.proj(mapp)\n",
    "#         print(mapp_f.shape)\n",
    "        input_x = torch.cat([rest, mapp_f], dim=1)\n",
    "#         print(input_x.shape)\n",
    "#         return self.model_q(input_x)\n",
    "        return torch.cat([self.model_q(input_x), self.model_p(input_x)], dim=1)"
   ]
  },
  {
   "cell_type": "code",
   "execution_count": 627,
   "metadata": {},
   "outputs": [],
   "source": [
    "model = NNWithCustomFeatures(63, 0.05, 64)"
   ]
  },
  {
   "cell_type": "code",
   "execution_count": 628,
   "metadata": {},
   "outputs": [
    {
     "data": {
      "text/plain": [
       "tensor([[0., 0., 0.,  ..., 0., 0., 0.],\n",
       "        [0., 0., 0.,  ..., 0., 0., 0.],\n",
       "        [0., 0., 0.,  ..., 0., 0., 0.],\n",
       "        [0., 0., 0.,  ..., 0., 0., 0.]])"
      ]
     },
     "execution_count": 628,
     "metadata": {},
     "output_type": "execute_result"
    }
   ],
   "source": [
    "torch.Tensor(4, 63 + 32*32*7)"
   ]
  },
  {
   "cell_type": "code",
   "execution_count": 629,
   "metadata": {},
   "outputs": [
    {
     "data": {
      "text/plain": [
       "Sequential(\n",
       "  (0): Dropout(p=0.05)\n",
       "  (1): Linear(in_features=191, out_features=64, bias=True)\n",
       "  (2): LayerNorm(torch.Size([64]), eps=1e-05, elementwise_affine=True)\n",
       "  (3): ReLU()\n",
       "  (4): Dropout(p=0.05)\n",
       "  (5): Linear(in_features=64, out_features=64, bias=True)\n",
       "  (6): ReLU()\n",
       "  (7): Dropout(p=0.05)\n",
       "  (8): Linear(in_features=64, out_features=64, bias=True)\n",
       "  (9): ReLU()\n",
       "  (10): Linear(in_features=64, out_features=6, bias=True)\n",
       "  (11): ReLU()\n",
       ")"
      ]
     },
     "execution_count": 629,
     "metadata": {},
     "output_type": "execute_result"
    }
   ],
   "source": [
    "model.model_q"
   ]
  },
  {
   "cell_type": "code",
   "execution_count": 630,
   "metadata": {},
   "outputs": [
    {
     "data": {
      "text/plain": [
       "tensor([[ 0.0000,  0.0000,  0.1109,  0.0476,  0.0000,  0.0915, -0.0937, -0.0995,\n",
       "         -0.1064,  0.0649,  0.0547, -0.0450],\n",
       "        [ 0.0000,  0.0000,  0.1094,  0.0437,  0.0000,  0.0924, -0.0958, -0.0997,\n",
       "         -0.1076,  0.0741,  0.0568, -0.0414],\n",
       "        [ 0.0000,  0.0000,  0.1109,  0.0476,  0.0000,  0.0915, -0.0927, -0.0949,\n",
       "         -0.1044,  0.0684,  0.0588, -0.0371],\n",
       "        [ 0.0000,  0.0000,  0.1147,  0.0556,  0.0000,  0.0966, -0.0937, -0.0995,\n",
       "         -0.1064,  0.0649,  0.0547, -0.0450]], grad_fn=<CatBackward>)"
      ]
     },
     "execution_count": 630,
     "metadata": {},
     "output_type": "execute_result"
    }
   ],
   "source": [
    "model.forward_impl(torch.Tensor(4, 63 + 32*32*7))"
   ]
  },
  {
   "cell_type": "code",
   "execution_count": 490,
   "metadata": {},
   "outputs": [
    {
     "data": {
      "text/plain": [
       "True"
      ]
     },
     "execution_count": 490,
     "metadata": {},
     "output_type": "execute_result"
    }
   ],
   "source": [
    "a = torch.Tensor([-1, -1 + 1e-12])\n",
    "torch.allclose(a, torch.ones_like(a) * (-1))"
   ]
  },
  {
   "cell_type": "code",
   "execution_count": 648,
   "metadata": {},
   "outputs": [],
   "source": [
    "ENTROPY_REG = 1e-4\n",
    "def policy_loss(pi_logits, reward_batch, a_batch, X_batch):\n",
    "    pi_probs = torch.nn.Softmax(dim=1)(pi_logits)\n",
    "    return torch.mean(torch.nn.CrossEntropyLoss(reduction='none')(pi_logits, a_batch) * reward_batch \n",
    "                      - torch.sum(pi_probs * torch.log(pi_probs) * ENTROPY_REG, dim=1))\n",
    "\n",
    "def q_loss(q_vals, reward_batch, a_batch, X_batch):\n",
    "    q_vals_per_reward = q_vals[np.arange(q_vals.shape[0]), a_batch]\n",
    "    return torch.nn.MSELoss()(q_vals_per_reward, reward_batch) * 0.01\n",
    "\n",
    "gamma = 0.99\n",
    "\n",
    "def get_is_last_state(x):\n",
    "    t = torch.sum(torch.isclose(x, torch.ones_like(x) * (-1)), dim=1) == x.shape[1]\n",
    "    return t.float()\n",
    "\n",
    "def q_loss_pair(q_vals_cur_and_next, reward_batch, a_batch, X_batch):\n",
    "    q_vals = q_vals_cur_and_next[:, :6]\n",
    "    q_vals_next = q_vals_cur_and_next[:, 6:12]\n",
    "    q_vals_per_reward_cur = q_vals[np.arange(q_vals.shape[0]), a_batch]\n",
    "    X_batch_next = X_batch[:, X_batch.shape[1] // 2:]\n",
    "    best_q_vals_next = torch.max(q_vals_next,dim=1)[0] * (1 - get_is_last_state(X_batch_next))\n",
    "#     print(list(enumerate([q_vals_per_reward_cur, reward_batch, best_q_vals_next, q_vals_next])))\n",
    "#     print(0.99 * best_q_vals_next)\n",
    "#     return torch.nn.MSELoss()(target=q_vals_per_reward_cur.detach(), input=reward_batch + gamma * best_q_vals_next)\n",
    "    return torch.nn.SmoothL1Loss()(target=q_vals_per_reward_cur.detach(), input=reward_batch + gamma * best_q_vals_next)\n",
    "\n",
    "\n",
    "def actor_critic_loss(q_pi_payload, reward_batch, a_batch, X_batch):\n",
    "    q_vals = q_pi_payload[:, :6]\n",
    "    pi_logits =  q_pi_payload[:, 6:12]\n",
    "    pi_probs = torch.nn.Softmax(dim=1)(pi_logits)\n",
    "    q_vals_next = q_pi_payload[:, 12:18]\n",
    "    q_vals_per_reward_cur = q_vals[np.arange(q_vals.shape[0]), a_batch]\n",
    "    X_batch_next = X_batch[:, X_batch.shape[1] // 2:]\n",
    "    best_q_vals_next = torch.max(q_vals_next,dim=1)[0] * (1 - get_is_last_state(X_batch_next))\n",
    "    \n",
    "    q_loss = torch.nn.SmoothL1Loss()(target=reward_batch + gamma * best_q_vals_next.detach(), input=q_vals_per_reward_cur)\n",
    "    pi_loss =  torch.mean(torch.nn.CrossEntropyLoss(reduction='none')(pi_logits, a_batch) * q_vals_per_reward_cur.detach()\n",
    "                      - torch.sum(pi_probs * torch.log(pi_probs) * ENTROPY_REG, dim=1))\n",
    "#     print(\"q_loss={}, pi_loss={}\".format(q_loss.item(), pi_loss.item()))\n",
    "    return q_loss + pi_loss"
   ]
  },
  {
   "cell_type": "code",
   "execution_count": 506,
   "metadata": {},
   "outputs": [],
   "source": [
    "t = torch.sum(torch.isclose(torch.Tensor(np.arange(9).reshape(3,3)), torch.Tensor(np.arange(9).reshape(3,3))), dim=1) == 2"
   ]
  },
  {
   "cell_type": "code",
   "execution_count": 509,
   "metadata": {},
   "outputs": [
    {
     "data": {
      "text/plain": [
       "tensor([0., 0., 0.])"
      ]
     },
     "execution_count": 509,
     "metadata": {},
     "output_type": "execute_result"
    }
   ],
   "source": [
    "t.float()"
   ]
  },
  {
   "cell_type": "code",
   "execution_count": 261,
   "metadata": {},
   "outputs": [
    {
     "data": {
      "text/plain": [
       "tensor([0.9900, 1.9800])"
      ]
     },
     "execution_count": 261,
     "metadata": {},
     "output_type": "execute_result"
    }
   ],
   "source": [
    "0.99 * torch.FloatTensor([1,2])"
   ]
  },
  {
   "cell_type": "code",
   "execution_count": 201,
   "metadata": {},
   "outputs": [
    {
     "data": {
      "text/plain": [
       "tensor([[ 0.0000e+00,  1.5846e+29, -1.5118e-05, -8.5920e+09],\n",
       "        [ 4.2039e-45,  0.0000e+00,  0.0000e+00,  0.0000e+00],\n",
       "        [ 0.0000e+00,  0.0000e+00,  0.0000e+00,  2.7551e-40]])"
      ]
     },
     "execution_count": 201,
     "metadata": {},
     "output_type": "execute_result"
    }
   ],
   "source": [
    "v = torch.Tensor(3,4)\n",
    "v"
   ]
  },
  {
   "cell_type": "code",
   "execution_count": 204,
   "metadata": {},
   "outputs": [
    {
     "data": {
      "text/plain": [
       "tensor([1, 2, 1])"
      ]
     },
     "execution_count": 204,
     "metadata": {},
     "output_type": "execute_result"
    }
   ],
   "source": []
  },
  {
   "cell_type": "code",
   "execution_count": null,
   "metadata": {},
   "outputs": [],
   "source": []
  },
  {
   "cell_type": "code",
   "execution_count": 216,
   "metadata": {},
   "outputs": [
    {
     "data": {
      "text/plain": [
       "torch.Size([3])"
      ]
     },
     "execution_count": 216,
     "metadata": {},
     "output_type": "execute_result"
    }
   ],
   "source": [
    "v[np.array([0,1,2]), torch.LongTensor([1,0,3])].shape"
   ]
  },
  {
   "cell_type": "code",
   "execution_count": null,
   "metadata": {
    "scrolled": true
   },
   "outputs": [
    {
     "name": "stdout",
     "output_type": "stream",
     "text": [
      "train loss in 1 epoch in 64 batch: 33.62749\n",
      "val loss in 1 epoch: 27.46838\n",
      "train loss in 1 epoch in 128 batch: 33.35194\n",
      "val loss in 1 epoch: 27.00126\n",
      "train loss in 1 epoch in 192 batch: 27.84943\n",
      "val loss in 1 epoch: 26.51209\n",
      "train loss in 1 epoch in 256 batch: 33.79417\n",
      "val loss in 1 epoch: 25.98330\n",
      "train loss in 1 epoch in 320 batch: 21.44173\n",
      "val loss in 1 epoch: 25.44491\n",
      "train loss in 1 epoch in 384 batch: 37.08883\n",
      "val loss in 1 epoch: 24.86610\n",
      "train loss in 1 epoch in 448 batch: 32.10423\n",
      "val loss in 1 epoch: 24.28592\n",
      "train loss in 1 epoch in 512 batch: 32.83151\n",
      "val loss in 1 epoch: 23.70958\n",
      "train loss in 1 epoch in 576 batch: 28.95453\n",
      "val loss in 1 epoch: 23.13052\n",
      "train loss in 1 epoch in 640 batch: 23.10432\n",
      "val loss in 1 epoch: 22.59232\n",
      "train loss in 1 epoch in 704 batch: 27.52392\n",
      "val loss in 1 epoch: 22.07282\n",
      "train loss in 1 epoch in 768 batch: 20.83056\n",
      "val loss in 1 epoch: 21.61408\n",
      "train loss in 1 epoch in 832 batch: 25.31148\n",
      "val loss in 1 epoch: 21.17967\n",
      "train loss in 1 epoch in 896 batch: 24.89939\n",
      "val loss in 1 epoch: 20.80766\n",
      "train loss in 1 epoch in 960 batch: 25.66564\n",
      "val loss in 1 epoch: 20.48738\n",
      "train loss in 1 epoch in 1024 batch: 20.48658\n",
      "val loss in 1 epoch: 20.23242\n",
      "train loss in 1 epoch in 1088 batch: 18.47395\n",
      "val loss in 1 epoch: 20.00834\n",
      "train loss in 1 epoch in 1152 batch: 19.02485\n",
      "val loss in 1 epoch: 19.83405\n",
      "train loss in 1 epoch in 1216 batch: 30.28219\n",
      "val loss in 1 epoch: 19.68906\n",
      "train loss in 1 epoch in 1280 batch: 26.30988\n",
      "val loss in 1 epoch: 19.59836\n",
      "train loss in 1 epoch in 1344 batch: 20.44616\n",
      "val loss in 1 epoch: 19.50448\n",
      "train loss in 1 epoch in 1408 batch: 40.45268\n",
      "val loss in 1 epoch: 19.44875\n",
      "train loss in 1 epoch in 1472 batch: 27.02892\n",
      "val loss in 1 epoch: 19.39123\n",
      "train loss in 1 epoch in 1536 batch: 26.70045\n",
      "val loss in 1 epoch: 19.36120\n",
      "train loss in 1 epoch in 1600 batch: 33.82317\n",
      "val loss in 1 epoch: 19.33638\n",
      "train loss in 1 epoch in 1664 batch: 24.55053\n",
      "val loss in 1 epoch: 19.31594\n",
      "train loss in 1 epoch in 1728 batch: 20.58430\n",
      "val loss in 1 epoch: 19.29892\n",
      "train loss in 1 epoch in 1792 batch: 27.23018\n",
      "val loss in 1 epoch: 19.28769\n",
      "train loss in 1 epoch in 1856 batch: 23.67039\n",
      "val loss in 1 epoch: 19.28003\n",
      "train loss in 1 epoch in 1920 batch: 31.92381\n",
      "val loss in 1 epoch: 19.27370\n",
      "train loss in 1 epoch in 1984 batch: 21.85939\n",
      "val loss in 1 epoch: 19.26569\n",
      "train loss in 1 epoch in 2048 batch: 14.98724\n",
      "val loss in 1 epoch: 19.25637\n",
      "train loss in 1 epoch in 2112 batch: 14.96092\n",
      "val loss in 1 epoch: 19.24983\n",
      "train loss in 1 epoch in 2176 batch: 29.01925\n",
      "val loss in 1 epoch: 19.24856\n",
      "train loss in 1 epoch in 2240 batch: 19.54274\n",
      "val loss in 1 epoch: 19.23540\n",
      "train loss in 1 epoch in 2304 batch: 18.12540\n",
      "val loss in 1 epoch: 19.23292\n",
      "train loss in 1 epoch in 2368 batch: 20.21809\n",
      "val loss in 1 epoch: 19.22947\n",
      "train loss in 1 epoch in 2432 batch: 22.81871\n",
      "val loss in 1 epoch: 19.21857\n",
      "train loss in 1 epoch in 2496 batch: 14.44142\n",
      "val loss in 1 epoch: 19.20770\n",
      "train loss in 1 epoch in 2560 batch: 13.56404\n",
      "val loss in 1 epoch: 19.20388\n",
      "train loss in 1 epoch in 2624 batch: 21.50717\n",
      "val loss in 1 epoch: 19.20423\n",
      "train loss in 1 epoch in 2688 batch: 22.23608\n",
      "val loss in 1 epoch: 19.20507\n",
      "train loss in 1 epoch in 2752 batch: 25.53156\n",
      "val loss in 1 epoch: 19.21449\n",
      "train loss in 1 epoch in 2816 batch: 16.36428\n",
      "val loss in 1 epoch: 19.20493\n",
      "train loss in 1 epoch in 2880 batch: 18.85041\n",
      "val loss in 1 epoch: 19.18961\n",
      "train loss in 1 epoch in 2944 batch: 18.82244\n",
      "val loss in 1 epoch: 19.17986\n",
      "train loss in 1 epoch in 3008 batch: 25.28986\n",
      "val loss in 1 epoch: 19.17750\n",
      "train loss in 1 epoch in 3072 batch: 21.44834\n",
      "val loss in 1 epoch: 19.17877\n",
      "train loss in 1 epoch in 3136 batch: 22.33917\n",
      "val loss in 1 epoch: 19.17648\n",
      "train loss in 1 epoch in 3200 batch: 22.06647\n",
      "val loss in 1 epoch: 19.18263\n",
      "train loss in 1 epoch in 3264 batch: 18.27385\n",
      "val loss in 1 epoch: 19.18757\n",
      "train loss in 1 epoch in 3328 batch: 31.10750\n",
      "val loss in 1 epoch: 19.18096\n",
      "train loss in 1 epoch in 3392 batch: 20.47194\n",
      "val loss in 1 epoch: 19.17547\n",
      "train loss in 1 epoch in 3456 batch: 13.64805\n",
      "val loss in 1 epoch: 19.17691\n",
      "train loss in 1 epoch in 3520 batch: 18.32968\n",
      "val loss in 1 epoch: 19.16495\n",
      "train loss in 1 epoch in 3584 batch: 15.58597\n",
      "val loss in 1 epoch: 19.16763\n",
      "train loss in 1 epoch in 3648 batch: 14.08232\n",
      "val loss in 1 epoch: 19.16373\n",
      "train loss in 1 epoch in 3712 batch: 15.24659\n",
      "val loss in 1 epoch: 19.16646\n",
      "train loss in 1 epoch in 3776 batch: 33.33365\n",
      "val loss in 1 epoch: 19.16042\n",
      "train loss in 1 epoch in 3840 batch: 19.87501\n",
      "val loss in 1 epoch: 19.15847\n",
      "train loss in 1 epoch in 3904 batch: 19.09948\n",
      "val loss in 1 epoch: 19.14413\n",
      "train loss in 1 epoch in 3968 batch: 14.17772\n",
      "val loss in 1 epoch: 19.15061\n",
      "train loss in 1 epoch in 4032 batch: 19.20924\n",
      "val loss in 1 epoch: 19.14084\n",
      "train loss in 1 epoch in 4096 batch: 20.08698\n",
      "val loss in 1 epoch: 19.14509\n",
      "train loss in 1 epoch in 4160 batch: 12.43129\n",
      "val loss in 1 epoch: 19.14212\n",
      "train loss in 1 epoch in 4224 batch: 16.90128\n",
      "val loss in 1 epoch: 19.13711\n",
      "train loss in 1 epoch in 4288 batch: 14.60515\n",
      "val loss in 1 epoch: 19.14373\n",
      "train loss in 1 epoch in 4352 batch: 18.52273\n",
      "val loss in 1 epoch: 19.14205\n",
      "train loss in 1 epoch in 4416 batch: 25.77982\n",
      "val loss in 1 epoch: 19.14527\n",
      "train loss in 1 epoch in 4480 batch: 22.90985\n",
      "val loss in 1 epoch: 19.14462\n",
      "train loss in 1 epoch in 4544 batch: 19.78962\n",
      "val loss in 1 epoch: 19.13670\n",
      "train loss in 1 epoch in 4608 batch: 19.76224\n",
      "val loss in 1 epoch: 19.14018\n",
      "train loss in 1 epoch in 4672 batch: 18.28133\n",
      "val loss in 1 epoch: 19.14161\n",
      "train loss in 1 epoch in 4736 batch: 13.68883\n",
      "val loss in 1 epoch: 19.13819\n",
      "train loss in 1 epoch in 4800 batch: 18.09784\n",
      "val loss in 1 epoch: 19.14568\n",
      "train loss in 1 epoch in 4864 batch: 25.31864\n",
      "val loss in 1 epoch: 19.13873\n",
      "train loss in 1 epoch in 4928 batch: 18.58765\n",
      "val loss in 1 epoch: 19.14204\n",
      "train loss in 1 epoch in 4992 batch: 22.71815\n",
      "val loss in 1 epoch: 19.14408\n",
      "train loss in 1 epoch in 5056 batch: 15.91109\n",
      "val loss in 1 epoch: 19.14662\n",
      "train loss in 1 epoch in 5120 batch: 26.86213\n",
      "val loss in 1 epoch: 19.14419\n",
      "train loss in 1 epoch in 5184 batch: 20.74017\n",
      "val loss in 1 epoch: 19.14852\n",
      "train loss in 1 epoch in 5248 batch: 20.62681\n",
      "val loss in 1 epoch: 19.15188\n",
      "train loss in 1 epoch in 5312 batch: 26.78531\n",
      "val loss in 1 epoch: 19.14052\n",
      "train loss in 1 epoch in 5376 batch: 24.13913\n",
      "val loss in 1 epoch: 19.13727\n",
      "train loss in 1 epoch in 5440 batch: 21.46977\n",
      "val loss in 1 epoch: 19.14244\n",
      "train loss in 1 epoch in 5504 batch: 23.71302\n",
      "val loss in 1 epoch: 19.14752\n",
      "train loss in 1 epoch in 5568 batch: 24.46798\n",
      "val loss in 1 epoch: 19.15357\n",
      "train loss in 1 epoch in 5632 batch: 18.76479\n",
      "val loss in 1 epoch: 19.16037\n",
      "train loss in 1 epoch in 5696 batch: 14.03557\n",
      "val loss in 1 epoch: 19.15475\n",
      "train loss in 1 epoch in 5760 batch: 22.66597\n",
      "val loss in 1 epoch: 19.16038\n",
      "train loss in 1 epoch in 5824 batch: 18.25641\n",
      "val loss in 1 epoch: 19.15661\n",
      "train loss in 1 epoch in 5888 batch: 25.77304\n",
      "val loss in 1 epoch: 19.15162\n",
      "train loss in 1 epoch in 5952 batch: 26.01000\n",
      "val loss in 1 epoch: 19.14570\n",
      "train loss in 1 epoch in 6016 batch: 17.52146\n",
      "val loss in 1 epoch: 19.14795\n",
      "train loss in 1 epoch in 6080 batch: 11.35325\n",
      "val loss in 1 epoch: 19.14120\n",
      "train loss in 1 epoch in 6144 batch: 29.35543\n",
      "val loss in 1 epoch: 19.13745\n",
      "train loss in 1 epoch in 6208 batch: 28.54717\n",
      "val loss in 1 epoch: 19.13754\n",
      "train loss in 1 epoch in 6272 batch: 17.90462\n"
     ]
    }
   ],
   "source": [
    "learn(trainD_ohe, valD_ohe, model, policy_loss, lr=1e-4, batch_size=32, epochs=5, freq=64, l2=1e-5)"
   ]
  },
  {
   "cell_type": "code",
   "execution_count": 54,
   "metadata": {},
   "outputs": [
    {
     "data": {
      "text/plain": [
       "tensor([1., 2., 0.])"
      ]
     },
     "execution_count": 54,
     "metadata": {},
     "output_type": "execute_result"
    }
   ],
   "source": [
    "torch.Tensor([1,2,0])"
   ]
  },
  {
   "cell_type": "code",
   "execution_count": 57,
   "metadata": {},
   "outputs": [
    {
     "data": {
      "text/plain": [
       "tensor([[-1.8303,  0.1936,  0.8113],\n",
       "        [ 0.8070, -0.6903, -0.6328]])"
      ]
     },
     "execution_count": 57,
     "metadata": {},
     "output_type": "execute_result"
    }
   ],
   "source": [
    "torch.randn(2, 3)"
   ]
  },
  {
   "cell_type": "code",
   "execution_count": 58,
   "metadata": {},
   "outputs": [
    {
     "data": {
      "text/plain": [
       "tensor([2.6177, 0.9913])"
      ]
     },
     "execution_count": 58,
     "metadata": {},
     "output_type": "execute_result"
    }
   ],
   "source": [
    "torch.nn.CrossEntropyLoss(reduction='none')(torch.randn(2, 3), torch.LongTensor([1,2]))"
   ]
  },
  {
   "cell_type": "code",
   "execution_count": 186,
   "metadata": {},
   "outputs": [],
   "source": [
    "torch.save(model.state_dict(), '../submissions/simple/models/policy_v1')"
   ]
  },
  {
   "cell_type": "code",
   "execution_count": 181,
   "metadata": {},
   "outputs": [
    {
     "data": {
      "text/plain": [
       "tensor([[  4.7694, -46.3936,  -7.7365,  -9.8257,   0.2452,  59.4586]],\n",
       "       grad_fn=<ThAddmmBackward>)"
      ]
     },
     "execution_count": 181,
     "metadata": {},
     "output_type": "execute_result"
    }
   ],
   "source": [
    "model.forward(torch.Tensor(trainD_ohe.features[0]).reshape(1, -1))"
   ]
  },
  {
   "cell_type": "code",
   "execution_count": 184,
   "metadata": {},
   "outputs": [],
   "source": [
    "p = model.forward(torch.Tensor(trainD_ohe.features[0]).reshape(1, -1)).cpu().detach().numpy().reshape(-1)\n",
    "p = np.clip(p, -30, 30)"
   ]
  },
  {
   "cell_type": "code",
   "execution_count": 185,
   "metadata": {},
   "outputs": [
    {
     "data": {
      "text/plain": [
       "array([1.10283675e-11, 8.75651089e-27, 4.08547019e-17, 5.05711219e-18,\n",
       "       1.19576061e-13, 1.00000000e+00], dtype=float32)"
      ]
     },
     "execution_count": 185,
     "metadata": {},
     "output_type": "execute_result"
    }
   ],
   "source": [
    "np.exp(p) / np.sum(np.exp(p))"
   ]
  },
  {
   "cell_type": "code",
   "execution_count": 148,
   "metadata": {},
   "outputs": [
    {
     "data": {
      "text/plain": [
       "array([0, 0, False, 2, 'None', 0, 'c', 0.0, 23.0, 1, 1, 'n', 0.0, 23.0, 1,\n",
       "       1, 'w', 'wood', 800, 1, 1, 0, False, 30, 16, 16, 0, 0, False,\n",
       "       False, False, False], dtype=object)"
      ]
     },
     "execution_count": 148,
     "metadata": {},
     "output_type": "execute_result"
    }
   ],
   "source": [
    "trainD.features[0]"
   ]
  },
  {
   "cell_type": "code",
   "execution_count": 151,
   "metadata": {},
   "outputs": [
    {
     "data": {
      "text/plain": [
       "[<matplotlib.lines.Line2D at 0x7f80458fbfd0>]"
      ]
     },
     "execution_count": 151,
     "metadata": {},
     "output_type": "execute_result"
    },
    {
     "data": {
      "image/png": "[encoded data removed]",
      "text/plain": [
       "<Figure size 432x288 with 1 Axes>"
      ]
     },
     "metadata": {
      "needs_background": "light"
     },
     "output_type": "display_data"
    }
   ],
   "source": [
    "plt.plot(trainD.weights)"
   ]
  },
  {
   "cell_type": "code",
   "execution_count": 429,
   "metadata": {},
   "outputs": [],
   "source": [
    "simple_bot = \"../submissions/simple/main.py\"\n",
    "replays = \"replays\"\n",
    "\n",
    "def run_game(left_bot=simple_bot, right_bot=simple_bot, seed=42, loglevel=2):\n",
    "    replay_path = \"replay.json\"\n",
    "    python_v = \"python3.7\"\n",
    "    \n",
    "    replay_path = os.path.join(replays, str(np.random.randint(1e9)) + \".json\")\n",
    "    \n",
    "    size = np.random.choice([12,16,24,32], size=1)[0]\n",
    "    \n",
    "    res = subprocess.run([\n",
    "        \"lux-ai-2021\",\n",
    "        left_bot,\n",
    "        right_bot,\n",
    "#         \"--statefulReplay\",\n",
    "        \"--width={}\".format(size),\n",
    "        \"--height={}\".format(size),\n",
    "        \"--loglevel={}\".format(loglevel),\n",
    "        \"--python={}\".format(python_v),\n",
    "        \"--maxtime=100000\",\n",
    "        \"--maxConcurrentMatches=1\",\n",
    "        \"--seed={}\".format(seed),\n",
    "        \"--out={}\".format(replay_path)], stdout=subprocess.PIPE)\n",
    "    \n",
    "    if loglevel > 0:\n",
    "        print(res.stdout.decode())\n",
    "\n",
    "    assert res.returncode == 0\n",
    "\n",
    "    with open(replay_path, \"r\") as f:\n",
    "        result = json.load(f)\n",
    "    return result, res.stdout.decode()"
   ]
  },
  {
   "cell_type": "code",
   "execution_count": 432,
   "metadata": {
    "scrolled": true
   },
   "outputs": [],
   "source": [
    "# run_game(simple_bot, simple_bot)"
   ]
  },
  {
   "cell_type": "code",
   "execution_count": 98,
   "metadata": {},
   "outputs": [],
   "source": [
    "import hashlib\n",
    "\n",
    "def build_runnable_bot_with_flags(flags: dict, origin = simple_bot, base_path = '../submissions/simple/') -> str:\n",
    "    lines = []\n",
    "    with open(origin, \"r\") as f:\n",
    "        for line in f:\n",
    "            lines.append(line[:-1])\n",
    "    text = '\\n'.join(lines)\n",
    "    f = json.dumps(flags)\n",
    "    text = text.format(f)\n",
    "    h = int(hashlib.sha256(f.encode('utf-8')).hexdigest(), 16) % (10 ** 18)\n",
    "    path = base_path + \"main_\" + str(h) + \".py\"\n",
    "    with open(path, \"w\") as f:\n",
    "        f.write(text)\n",
    "    return path"
   ]
  },
  {
   "cell_type": "code",
   "execution_count": 229,
   "metadata": {},
   "outputs": [],
   "source": [
    "def count_series(results: list):\n",
    "    wins = []\n",
    "    for i, r in enumerate(results):\n",
    "        ranks = r[0]['results']['ranks']\n",
    "        teams = r[0]['teamDetails']\n",
    "        if ranks[0]['rank'] == 1 and ranks[1]['rank'] == 2:\n",
    "            if ranks[0][\"agentID\"] == i % 2:\n",
    "                wins.append(1)\n",
    "            else:\n",
    "                wins.append(0)\n",
    "        else:\n",
    "            wins.append(0.5)\n",
    "    return wins"
   ]
  },
  {
   "cell_type": "code",
   "execution_count": 100,
   "metadata": {},
   "outputs": [],
   "source": [
    "from joblib import Parallel, delayed\n",
    "import tqdm"
   ]
  },
  {
   "cell_type": "code",
   "execution_count": 614,
   "metadata": {},
   "outputs": [],
   "source": [
    "def sample_dataset(d, p=0.5):\n",
    "    N = len(d.features)\n",
    "    ids = np.random.choice(N, size=int(N * p))\n",
    "    return dataset.Dataset(features = d.features[ids], weights = d.weights[ids], targets = d.targets[ids])"
   ]
  },
  {
   "cell_type": "code",
   "execution_count": 492,
   "metadata": {},
   "outputs": [],
   "source": [
    "def add_next_features(d):\n",
    "    assert d.next_state_id is not None\n",
    "    coupled_features = []\n",
    "    weights = []\n",
    "    targets = []\n",
    "    for i in np.arange(d.features.shape[0]):\n",
    "        next_i = d.next_state_id[i]\n",
    "        if d.next_state_id[i] != -1:\n",
    "            next_f = d.features[next_i]\n",
    "        else:\n",
    "            next_f = np.ones_like(d.features[i]) * (-1)\n",
    "        coupled_features.append(np.concatenate([d.features[i], next_f]))\n",
    "        weights.append(d.weights[i])\n",
    "        targets.append(d.targets[i])\n",
    "    return dataset.Dataset(\n",
    "        features=np.array(coupled_features),\n",
    "        weights=np.array(weights),\n",
    "        targets=np.array(targets))"
   ]
  },
  {
   "cell_type": "code",
   "execution_count": 407,
   "metadata": {},
   "outputs": [
    {
     "data": {
      "text/plain": [
       "[7200, 7201, 7202, 7203, 7204, 7205, 7206, 7207, 7208, 7209]"
      ]
     },
     "execution_count": 407,
     "metadata": {},
     "output_type": "execute_result"
    }
   ],
   "source": [
    "FLOAT_FEATURES[-10:]"
   ]
  },
  {
   "cell_type": "code",
   "execution_count": 408,
   "metadata": {},
   "outputs": [
    {
     "data": {
      "text/plain": [
       "(38, 7209)"
      ]
     },
     "execution_count": 408,
     "metadata": {},
     "output_type": "execute_result"
    }
   ],
   "source": [
    "trainD.features.shape"
   ]
  },
  {
   "cell_type": "code",
   "execution_count": null,
   "metadata": {
    "scrolled": true
   },
   "outputs": [
    {
     "name": "stderr",
     "output_type": "stream",
     "text": [
      "/Library/Frameworks/Python.framework/Versions/3.7/lib/python3.7/site-packages/IPython/core/interactiveshell.py:3338: DtypeWarning: Columns (9,10,11,12,13,14,17,18,19,20,21,22) have mixed types.Specify dtype option on import or set low_memory=False.\n",
      "  if (await self.run_code(code, result,  async_=asy)):\n"
     ]
    },
    {
     "name": "stdout",
     "output_type": "stream",
     "text": [
      "Round 1, winrate: 0.0, max_step: 359, reward: 0.26289999999999836, example: {'ranks': [{'rank': 1, 'agentID': 0}, {'rank': 2, 'agentID': 1}], 'replayFile': 'replays/717354021.json'}\n",
      "train loss in 1 epoch in 1 batch: 0.04858\n",
      "val loss in 1 epoch: 22.23305\n",
      "train loss in 1 epoch in 2 batch: 31.29694\n",
      "val loss in 1 epoch: 1.07178\n"
     ]
    },
    {
     "name": "stderr",
     "output_type": "stream",
     "text": [
      "/Library/Frameworks/Python.framework/Versions/3.7/lib/python3.7/site-packages/IPython/core/interactiveshell.py:3338: DtypeWarning: Columns (9,10,11,12,13,14) have mixed types.Specify dtype option on import or set low_memory=False.\n",
      "  if (await self.run_code(code, result,  async_=asy)):\n"
     ]
    },
    {
     "name": "stdout",
     "output_type": "stream",
     "text": [
      "Round 2, winrate: 0.0, max_step: 310, reward: 1.7673000000000298, example: {'ranks': [{'rank': 1, 'agentID': 1}, {'rank': 2, 'agentID': 0}], 'replayFile': 'replays/798842024.json'}\n",
      "train loss in 1 epoch in 1 batch: 0.89470\n",
      "val loss in 1 epoch: 6.25246\n",
      "train loss in 1 epoch in 2 batch: 6.39071\n",
      "val loss in 1 epoch: 18.49046\n",
      "train loss in 1 epoch in 3 batch: 18.13600\n",
      "val loss in 1 epoch: 13.67970\n"
     ]
    },
    {
     "name": "stderr",
     "output_type": "stream",
     "text": [
      "/Library/Frameworks/Python.framework/Versions/3.7/lib/python3.7/site-packages/IPython/core/interactiveshell.py:3338: DtypeWarning: Columns (26,27,28) have mixed types.Specify dtype option on import or set low_memory=False.\n",
      "  if (await self.run_code(code, result,  async_=asy)):\n"
     ]
    },
    {
     "name": "stdout",
     "output_type": "stream",
     "text": [
      "Round 3, winrate: 0.0, max_step: 359, reward: 0.9316999999999964, example: {'ranks': [{'rank': 1, 'agentID': 0}, {'rank': 2, 'agentID': 1}], 'replayFile': 'replays/218175338.json'}\n",
      "train loss in 1 epoch in 1 batch: 16.02784\n",
      "val loss in 1 epoch: 46.59298\n",
      "train loss in 1 epoch in 2 batch: 46.14453\n",
      "val loss in 1 epoch: 57.88479\n",
      "train loss in 1 epoch in 3 batch: 57.39045\n",
      "val loss in 1 epoch: 86.11944\n",
      "Round 4, winrate: 0.0, max_step: 359, reward: 0.6188999999999972, example: {'ranks': [{'rank': 1, 'agentID': 1}, {'rank': 2, 'agentID': 0}], 'replayFile': 'replays/932136058.json'}\n",
      "train loss in 1 epoch in 1 batch: 82.17757\n",
      "val loss in 1 epoch: 89.83972\n",
      "train loss in 1 epoch in 2 batch: 88.25482\n",
      "val loss in 1 epoch: 71.09046\n"
     ]
    },
    {
     "name": "stderr",
     "output_type": "stream",
     "text": [
      "/Library/Frameworks/Python.framework/Versions/3.7/lib/python3.7/site-packages/IPython/core/interactiveshell.py:3338: DtypeWarning: Columns (9,10,11,12,13,14) have mixed types.Specify dtype option on import or set low_memory=False.\n",
      "  if (await self.run_code(code, result,  async_=asy)):\n"
     ]
    },
    {
     "name": "stdout",
     "output_type": "stream",
     "text": [
      "Round 5, winrate: 0.0, max_step: 238, reward: 0.03640000000000006, example: {'ranks': [{'rank': 1, 'agentID': 0}, {'rank': 2, 'agentID': 1}], 'replayFile': 'replays/953453411.json'}\n",
      "train loss in 1 epoch in 1 batch: 65.57085\n",
      "val loss in 1 epoch: 132.50782\n"
     ]
    },
    {
     "name": "stderr",
     "output_type": "stream",
     "text": [
      "/Library/Frameworks/Python.framework/Versions/3.7/lib/python3.7/site-packages/IPython/core/interactiveshell.py:3338: DtypeWarning: Columns (9,10,11,12,13,14,26,27,28) have mixed types.Specify dtype option on import or set low_memory=False.\n",
      "  if (await self.run_code(code, result,  async_=asy)):\n"
     ]
    },
    {
     "name": "stdout",
     "output_type": "stream",
     "text": [
      "Round 6, winrate: 0.0, max_step: 350, reward: 0.20019999999999885, example: {'ranks': [{'rank': 1, 'agentID': 1}, {'rank': 2, 'agentID': 0}], 'replayFile': 'replays/613579658.json'}\n",
      "train loss in 1 epoch in 1 batch: 88.05369\n",
      "val loss in 1 epoch: 64.98711\n",
      "Round 7, winrate: 0.0, max_step: 110, reward: 0.0038999999999999972, example: {'ranks': [{'rank': 1, 'agentID': 0}, {'rank': 2, 'agentID': 1}], 'replayFile': 'replays/327741615.json'}\n",
      "train loss in 1 epoch in 1 batch: 31.80294\n",
      "val loss in 1 epoch: 193.95966\n",
      "Round 8, winrate: 0.0, max_step: 79, reward: 0.013100000000000006, example: {'ranks': [{'rank': 1, 'agentID': 1}, {'rank': 2, 'agentID': 0}], 'replayFile': 'replays/530125251.json'}\n",
      "train loss in 1 epoch in 1 batch: 33.32146\n",
      "val loss in 1 epoch: 86.04759\n"
     ]
    },
    {
     "name": "stderr",
     "output_type": "stream",
     "text": [
      "/Library/Frameworks/Python.framework/Versions/3.7/lib/python3.7/site-packages/IPython/core/interactiveshell.py:3338: DtypeWarning: Columns (26,27,28) have mixed types.Specify dtype option on import or set low_memory=False.\n",
      "  if (await self.run_code(code, result,  async_=asy)):\n"
     ]
    },
    {
     "name": "stdout",
     "output_type": "stream",
     "text": [
      "Round 9, winrate: 0.0, max_step: 319, reward: 0.045200000000000295, example: {'ranks': [{'rank': 1, 'agentID': 0}, {'rank': 2, 'agentID': 1}], 'replayFile': 'replays/44556670.json'}\n",
      "train loss in 1 epoch in 1 batch: 190.91922\n",
      "val loss in 1 epoch: 84.81249\n",
      "Round 10, winrate: 0.0, max_step: 196, reward: 0.0127, example: {'ranks': [{'rank': 1, 'agentID': 1}, {'rank': 2, 'agentID': 0}], 'replayFile': 'replays/91571465.json'}\n",
      "train loss in 1 epoch in 1 batch: 93.79315\n",
      "val loss in 1 epoch: 111.41048\n"
     ]
    },
    {
     "name": "stderr",
     "output_type": "stream",
     "text": [
      "/Library/Frameworks/Python.framework/Versions/3.7/lib/python3.7/site-packages/IPython/core/interactiveshell.py:3338: DtypeWarning: Columns (9,10,11,12,13,14) have mixed types.Specify dtype option on import or set low_memory=False.\n",
      "  if (await self.run_code(code, result,  async_=asy)):\n"
     ]
    },
    {
     "name": "stdout",
     "output_type": "stream",
     "text": [
      "Round 11, winrate: 1.0, max_step: 314, reward: 4.190800000000001, example: {'ranks': [{'rank': 1, 'agentID': 1}, {'rank': 2, 'agentID': 0}], 'replayFile': 'replays/774252441.json'}\n",
      "train loss in 1 epoch in 1 batch: 909.19666\n",
      "val loss in 1 epoch: 668.16833\n",
      "Round 12, winrate: 0.0, max_step: 29, reward: 0.004200000000000001, example: {'ranks': [{'rank': 1, 'agentID': 1}, {'rank': 2, 'agentID': 0}], 'replayFile': 'replays/662124363.json'}\n",
      "train loss in 1 epoch in 1 batch: 1065.47693\n",
      "val loss in 1 epoch: 690.68457\n",
      "Round 13, winrate: 0.0, max_step: 156, reward: 0.011399999999999987, example: {'ranks': [{'rank': 1, 'agentID': 0}, {'rank': 2, 'agentID': 1}], 'replayFile': 'replays/118980946.json'}\n",
      "train loss in 1 epoch in 1 batch: 36.81111\n",
      "val loss in 1 epoch: 29.70477\n"
     ]
    },
    {
     "name": "stderr",
     "output_type": "stream",
     "text": [
      "/Library/Frameworks/Python.framework/Versions/3.7/lib/python3.7/site-packages/IPython/core/interactiveshell.py:3338: DtypeWarning: Columns (9,10,11,12,13,14) have mixed types.Specify dtype option on import or set low_memory=False.\n",
      "  if (await self.run_code(code, result,  async_=asy)):\n"
     ]
    },
    {
     "name": "stdout",
     "output_type": "stream",
     "text": [
      "Round 14, winrate: 0.0, max_step: 150, reward: 0.026599999999999947, example: {'ranks': [{'rank': 1, 'agentID': 1}, {'rank': 2, 'agentID': 0}], 'replayFile': 'replays/59886187.json'}\n",
      "train loss in 1 epoch in 1 batch: 27.43460\n",
      "val loss in 1 epoch: 83.40161\n",
      "Round 15, winrate: 0.0, max_step: 112, reward: 0.006100000000000003, example: {'ranks': [{'rank': 1, 'agentID': 0}, {'rank': 2, 'agentID': 1}], 'replayFile': 'replays/424418760.json'}\n",
      "train loss in 1 epoch in 1 batch: 18.55710\n",
      "val loss in 1 epoch: 59.74951\n",
      "Round 16, winrate: 0.0, max_step: 276, reward: 1.0378999999999987, example: {'ranks': [{'rank': 1, 'agentID': 1}, {'rank': 2, 'agentID': 0}], 'replayFile': 'replays/959027881.json'}\n",
      "train loss in 1 epoch in 1 batch: 1361.95618\n",
      "val loss in 1 epoch: 1147.46030\n",
      "train loss in 1 epoch in 2 batch: 1077.70996\n",
      "val loss in 1 epoch: 970.36043\n",
      "train loss in 1 epoch in 3 batch: 1071.70105\n",
      "val loss in 1 epoch: 820.92862\n"
     ]
    },
    {
     "name": "stderr",
     "output_type": "stream",
     "text": [
      "/Library/Frameworks/Python.framework/Versions/3.7/lib/python3.7/site-packages/IPython/core/interactiveshell.py:3338: DtypeWarning: Columns (9,10,11,12,13,14) have mixed types.Specify dtype option on import or set low_memory=False.\n",
      "  if (await self.run_code(code, result,  async_=asy)):\n"
     ]
    },
    {
     "name": "stdout",
     "output_type": "stream",
     "text": [
      "Round 17, winrate: 0.0, max_step: 279, reward: 0.02479999999999996, example: {'ranks': [{'rank': 1, 'agentID': 0}, {'rank': 2, 'agentID': 1}], 'replayFile': 'replays/191834735.json'}\n",
      "train loss in 1 epoch in 1 batch: 142.05771\n",
      "val loss in 1 epoch: 116.36702\n"
     ]
    },
    {
     "name": "stderr",
     "output_type": "stream",
     "text": [
      "/Library/Frameworks/Python.framework/Versions/3.7/lib/python3.7/site-packages/IPython/core/interactiveshell.py:3338: DtypeWarning: Columns (9,10,11,12,13,14) have mixed types.Specify dtype option on import or set low_memory=False.\n",
      "  if (await self.run_code(code, result,  async_=asy)):\n"
     ]
    },
    {
     "name": "stdout",
     "output_type": "stream",
     "text": [
      "Round 18, winrate: 0.0, max_step: 310, reward: 0.16959999999999825, example: {'ranks': [{'rank': 1, 'agentID': 1}, {'rank': 2, 'agentID': 0}], 'replayFile': 'replays/645852458.json'}\n",
      "train loss in 1 epoch in 1 batch: 481.06995\n",
      "val loss in 1 epoch: 411.30109\n",
      "train loss in 1 epoch in 2 batch: 410.80725\n",
      "val loss in 1 epoch: 377.32683\n",
      "Round 19, winrate: 0.0, max_step: 155, reward: 0.02629999999999989, example: {'ranks': [{'rank': 1, 'agentID': 0}, {'rank': 2, 'agentID': 1}], 'replayFile': 'replays/418903645.json'}\n",
      "train loss in 1 epoch in 1 batch: 433.30289\n",
      "val loss in 1 epoch: 333.89712\n",
      "Round 20, winrate: 0.0, max_step: 191, reward: 0.11519999999999932, example: {'ranks': [{'rank': 1, 'agentID': 1}, {'rank': 2, 'agentID': 0}], 'replayFile': 'replays/378518883.json'}\n",
      "train loss in 1 epoch in 1 batch: 344.16223\n",
      "val loss in 1 epoch: 330.41922\n",
      "Round 21, winrate: 0.0, max_step: 310, reward: 0.031599999999999906, example: {'ranks': [{'rank': 1, 'agentID': 0}, {'rank': 2, 'agentID': 1}], 'replayFile': 'replays/209271753.json'}\n",
      "train loss in 1 epoch in 1 batch: 408.29727\n",
      "val loss in 1 epoch: 350.01917\n"
     ]
    },
    {
     "name": "stderr",
     "output_type": "stream",
     "text": [
      "/Library/Frameworks/Python.framework/Versions/3.7/lib/python3.7/site-packages/IPython/core/interactiveshell.py:3338: DtypeWarning: Columns (9,10,11,12,13,14) have mixed types.Specify dtype option on import or set low_memory=False.\n",
      "  if (await self.run_code(code, result,  async_=asy)):\n"
     ]
    },
    {
     "name": "stdout",
     "output_type": "stream",
     "text": [
      "Round 22, winrate: 0.0, max_step: 190, reward: 0.01089999999999999, example: {'ranks': [{'rank': 1, 'agentID': 1}, {'rank': 2, 'agentID': 0}], 'replayFile': 'replays/895331189.json'}\n",
      "train loss in 1 epoch in 1 batch: 246.15454\n",
      "val loss in 1 epoch: 209.60680\n",
      "Round 23, winrate: 0.0, max_step: 196, reward: 0.9099000000000081, example: {'ranks': [{'rank': 1, 'agentID': 0}, {'rank': 2, 'agentID': 1}], 'replayFile': 'replays/74293843.json'}\n",
      "train loss in 1 epoch in 1 batch: 312.94333\n",
      "val loss in 1 epoch: 260.40880\n",
      "train loss in 1 epoch in 2 batch: 252.52475\n",
      "val loss in 1 epoch: 246.79204\n",
      "Round 24, winrate: 0.0, max_step: 30, reward: 0.0020000000000000005, example: {'ranks': [{'rank': 1, 'agentID': 1}, {'rank': 2, 'agentID': 0}], 'replayFile': 'replays/902017442.json'}\n",
      "train loss in 1 epoch in 1 batch: 479.45038\n",
      "val loss in 1 epoch: 566.68054\n",
      "Round 25, winrate: 0.0, max_step: 359, reward: 0.6505999999999864, example: {'ranks': [{'rank': 1, 'agentID': 0}, {'rank': 2, 'agentID': 1}], 'replayFile': 'replays/515929220.json'}\n",
      "train loss in 1 epoch in 1 batch: 234.17172\n",
      "val loss in 1 epoch: 195.84171\n",
      "train loss in 1 epoch in 2 batch: 207.60684\n",
      "val loss in 1 epoch: 180.00741\n",
      "train loss in 1 epoch in 3 batch: 162.11996\n",
      "val loss in 1 epoch: 156.15038\n",
      "Round 26, winrate: 0.0, max_step: 158, reward: 0.3045000000000021, example: {'ranks': [{'rank': 1, 'agentID': 1}, {'rank': 2, 'agentID': 0}], 'replayFile': 'replays/248828725.json'}\n",
      "train loss in 1 epoch in 1 batch: 165.24904\n",
      "val loss in 1 epoch: 138.62414\n",
      "Round 27, winrate: 0.0, max_step: 154, reward: 0.0036999999999999976, example: {'ranks': [{'rank': 1, 'agentID': 0}, {'rank': 2, 'agentID': 1}], 'replayFile': 'replays/754717715.json'}\n",
      "train loss in 1 epoch in 1 batch: 271.89761\n",
      "val loss in 1 epoch: 261.19217\n",
      "Round 28, winrate: 0.0, max_step: 359, reward: 0.017399999999999985, example: {'ranks': [{'rank': 1, 'agentID': 1}, {'rank': 2, 'agentID': 0}], 'replayFile': 'replays/983606529.json'}\n",
      "train loss in 1 epoch in 1 batch: 277.36578\n",
      "val loss in 1 epoch: 235.25658\n",
      "Round 29, winrate: 0.0, max_step: 359, reward: 0.3615000000000007, example: {'ranks': [{'rank': 1, 'agentID': 0}, {'rank': 2, 'agentID': 1}], 'replayFile': 'replays/488595413.json'}\n",
      "train loss in 1 epoch in 1 batch: 212.89668\n",
      "val loss in 1 epoch: 244.68191\n",
      "train loss in 1 epoch in 2 batch: 242.29878\n",
      "val loss in 1 epoch: 230.53723\n",
      "Round 30, winrate: 0.0, max_step: 70, reward: 0.0021000000000000003, example: {'ranks': [{'rank': 1, 'agentID': 1}, {'rank': 2, 'agentID': 0}], 'replayFile': 'replays/619091749.json'}\n",
      "train loss in 1 epoch in 1 batch: 292.61002\n",
      "val loss in 1 epoch: 309.54095\n",
      "Round 31, winrate: 0.0, max_step: 359, reward: 0.40350000000000635, example: {'ranks': [{'rank': 1, 'agentID': 0}, {'rank': 2, 'agentID': 1}], 'replayFile': 'replays/154850002.json'}\n",
      "train loss in 1 epoch in 1 batch: 269.51501\n",
      "val loss in 1 epoch: 223.57182\n",
      "train loss in 1 epoch in 2 batch: 204.82047\n",
      "val loss in 1 epoch: 208.10324\n",
      "Round 32, winrate: 0.0, max_step: 152, reward: 0.10849999999999971, example: {'ranks': [{'rank': 1, 'agentID': 1}, {'rank': 2, 'agentID': 0}], 'replayFile': 'replays/467675863.json'}\n",
      "train loss in 1 epoch in 1 batch: 225.50182\n",
      "val loss in 1 epoch: 138.48179\n",
      "Round 33, winrate: 0.0, max_step: 157, reward: 0.0092, example: {'ranks': [{'rank': 1, 'agentID': 0}, {'rank': 2, 'agentID': 1}], 'replayFile': 'replays/814680455.json'}\n",
      "train loss in 1 epoch in 1 batch: 406.23386\n",
      "val loss in 1 epoch: 336.70769\n",
      "Round 34, winrate: 0.0, max_step: 350, reward: 0.35080000000000594, example: {'ranks': [{'rank': 1, 'agentID': 1}, {'rank': 2, 'agentID': 0}], 'replayFile': 'replays/165621153.json'}\n",
      "train loss in 1 epoch in 1 batch: 163.13000\n",
      "val loss in 1 epoch: 136.31204\n",
      "train loss in 1 epoch in 2 batch: 111.73820\n",
      "val loss in 1 epoch: 117.28726\n"
     ]
    },
    {
     "name": "stderr",
     "output_type": "stream",
     "text": [
      "/Library/Frameworks/Python.framework/Versions/3.7/lib/python3.7/site-packages/IPython/core/interactiveshell.py:3338: DtypeWarning: Columns (9,10,11,12,13,14) have mixed types.Specify dtype option on import or set low_memory=False.\n",
      "  if (await self.run_code(code, result,  async_=asy)):\n"
     ]
    },
    {
     "name": "stdout",
     "output_type": "stream",
     "text": [
      "Round 35, winrate: 0.0, max_step: 359, reward: 0.46479999999999866, example: {'ranks': [{'rank': 1, 'agentID': 0}, {'rank': 2, 'agentID': 1}], 'replayFile': 'replays/893589193.json'}\n",
      "train loss in 1 epoch in 1 batch: 226.86462\n",
      "val loss in 1 epoch: 139.03641\n",
      "train loss in 1 epoch in 2 batch: 166.25969\n",
      "val loss in 1 epoch: 132.11613\n",
      "Round 36, winrate: 0.0, max_step: 310, reward: 0.06390000000000017, example: {'ranks': [{'rank': 1, 'agentID': 1}, {'rank': 2, 'agentID': 0}], 'replayFile': 'replays/981430917.json'}\n",
      "train loss in 1 epoch in 1 batch: 132.91501\n",
      "val loss in 1 epoch: 80.78207\n"
     ]
    }
   ],
   "source": [
    "t = 0  #  1778 - value_iter\n",
    "B = 1\n",
    "\n",
    "model = NNWithCustomFeatures(83, 0.05, 64)\n",
    "\n",
    "writer = SummaryWriter()\n",
    "\n",
    "while True:\n",
    "    t += 1\n",
    "    np.random.seed(t)\n",
    "    torch.save(model.state_dict(), '../submissions/simple/models/ac_iter_v{}'.format(t))\n",
    "    r = []\n",
    "    for i in np.arange(B):\n",
    "        seed = t * B + i\n",
    "        _f = str(seed) + \".txt\"\n",
    "        bot = build_runnable_bot_with_flags({\n",
    "            \"model_path\": \"models/ac_iter_v{}\".format(t), \n",
    "            \"use_policy\": True,\n",
    "            \"is_neural\": True,\n",
    "            \"prob_use_default_agent\": 0.5 / np.log(t + 1),\n",
    "            \"prob_use_random\": 0.05,\n",
    "            \"ohe_path\": \"models/ohe_v2\",\n",
    "            \"use_old_units_cargo_rules\": False,\n",
    "            \"log_features_path\": \"../../research/features_iter/\", \"log_path_file_name\": _f\n",
    "        })\n",
    "        if t % 2 == 0:\n",
    "            _r = run_game(bot, simple_bot, loglevel=0, seed=seed)\n",
    "        else:\n",
    "            _r = run_game(simple_bot, bot, loglevel=0, seed=seed)\n",
    "        r.append(_r)\n",
    "    wins = np.mean(count_series(r))\n",
    "    if t % 2 == 1:\n",
    "        wins = 1 - wins\n",
    "    trainD = dataset.get_dataset_from_file(os.path.join(\"features_iter/\", _f), wins)\n",
    "    reward = np.sum(trainD.weights)\n",
    "    trainD_ohe, valD_ohe, _ = prepare_features(trainD, trainD, OHE)\n",
    "    max_step = np.max(trainD.features[:, 31])\n",
    "    trainD_ohe_with_next = add_next_features(trainD_ohe)\n",
    "    valD_ohe_with_next = add_next_features(valD_ohe)\n",
    "    trainD_ohe_with_next_sampled = sample_dataset(trainD_ohe_with_next, 0.1)\n",
    "    print(\"Round {}, winrate: {}, max_step: {}, reward: {}, example: {}\".format(t, wins, max_step, reward, r[0][0]['results']))\n",
    "    writer.add_scalar('data/reward', reward, t)\n",
    "    writer.add_scalar('data/winrate', wins, t)\n",
    "    writer.add_scalar('data/max_step', max_step, t)\n",
    "    try:\n",
    "        learn(trainD_ohe_with_next_sampled, valD_ohe_with_next, model, actor_critic_loss, lr=1e-1 / (t+1), batch_size=64, epochs=1, freq=1, l2=1e-5, use_tb=False)\n",
    "    except Exception as e:\n",
    "        print(e)"
   ]
  },
  {
   "cell_type": "code",
   "execution_count": 394,
   "metadata": {},
   "outputs": [
    {
     "data": {
      "text/plain": [
       "(486, 7208)"
      ]
     },
     "execution_count": 394,
     "metadata": {},
     "output_type": "execute_result"
    }
   ],
   "source": [
    "trainD.features.shape"
   ]
  },
  {
   "cell_type": "raw",
   "metadata": {},
   "source": []
  },
  {
   "cell_type": "code",
   "execution_count": 164,
   "metadata": {},
   "outputs": [
    {
     "data": {
      "text/plain": [
       "array(['False', 'False', 'False', 'False', 'False', 'False', 'False',\n",
       "       'False', 'False', 'False', 'False', 'False', 'False', 'False',\n",
       "       'False', 'False', 'False', 'None', False, False, False, False,\n",
       "       False, False, False, False, False, False, False, False, False,\n",
       "       True, True, True, True, True, True, True, True, True, True, True,\n",
       "       True, True, True, True, True, True, True, True, True, True, True,\n",
       "       True, True, True, True, True, True, True, True, True, True, True,\n",
       "       True, True, True, True, True, False, False, False, False, False,\n",
       "       False, False, False, False, False, False, False, False, False,\n",
       "       False, False], dtype=object)"
      ]
     },
     "execution_count": 164,
     "metadata": {},
     "output_type": "execute_result"
    }
   ],
   "source": [
    "trainD.features[:100, dataset.CAT_FEATURES_V4][:, 4]"
   ]
  },
  {
   "cell_type": "code",
   "execution_count": 266,
   "metadata": {},
   "outputs": [
    {
     "name": "stdout",
     "output_type": "stream",
     "text": [
      "(132, 14502) (131,) (132,)\n"
     ]
    }
   ],
   "source": [
    "print(trainD_ohe_with_next.features.shape, trainD_ohe_with_next.weights.shape, trainD_ohe_with_next.targets.shape)"
   ]
  },
  {
   "cell_type": "code",
   "execution_count": 267,
   "metadata": {},
   "outputs": [
    {
     "data": {
      "text/plain": [
       "(133, 7251)"
      ]
     },
     "execution_count": 267,
     "metadata": {},
     "output_type": "execute_result"
    }
   ],
   "source": [
    "trainD_ohe.features.shape"
   ]
  },
  {
   "cell_type": "code",
   "execution_count": 268,
   "metadata": {},
   "outputs": [
    {
     "data": {
      "text/plain": [
       "(133,)"
      ]
     },
     "execution_count": 268,
     "metadata": {},
     "output_type": "execute_result"
    }
   ],
   "source": [
    "trainD_ohe.targets.shape"
   ]
  },
  {
   "cell_type": "code",
   "execution_count": 269,
   "metadata": {},
   "outputs": [
    {
     "data": {
      "text/plain": [
       "(131,)"
      ]
     },
     "execution_count": 269,
     "metadata": {},
     "output_type": "execute_result"
    }
   ],
   "source": [
    "trainD_ohe.weights.shape"
   ]
  },
  {
   "cell_type": "code",
   "execution_count": 270,
   "metadata": {},
   "outputs": [
    {
     "data": {
      "text/plain": [
       "(131,)"
      ]
     },
     "execution_count": 270,
     "metadata": {},
     "output_type": "execute_result"
    }
   ],
   "source": [
    "trainD.weights.shape"
   ]
  },
  {
   "cell_type": "code",
   "execution_count": 621,
   "metadata": {},
   "outputs": [
    {
     "data": {
      "text/plain": [
       "(138, 14502)"
      ]
     },
     "execution_count": 621,
     "metadata": {},
     "output_type": "execute_result"
    }
   ],
   "source": [
    "trainD_ohe_with_next_sampled.features.shape"
   ]
  },
  {
   "cell_type": "code",
   "execution_count": 623,
   "metadata": {},
   "outputs": [
    {
     "data": {
      "text/plain": [
       "array([[ 0.,  1.,  0., ...,  0.,  0.,  0.],\n",
       "       [ 0.,  1.,  0., ...,  0.,  0.,  0.],\n",
       "       [ 0.,  1.,  0., ...,  0.,  0.,  0.],\n",
       "       ...,\n",
       "       [ 0.,  1.,  0., ...,  0.,  0.,  0.],\n",
       "       [ 0.,  1.,  0., ...,  0.,  0.,  0.],\n",
       "       [ 0.,  1.,  0., ..., -1., -1., -1.]])"
      ]
     },
     "execution_count": 623,
     "metadata": {},
     "output_type": "execute_result"
    }
   ],
   "source": [
    "trainD_ohe_with_next.features"
   ]
  },
  {
   "cell_type": "code",
   "execution_count": null,
   "metadata": {},
   "outputs": [],
   "source": []
  }
 ],
 "metadata": {
  "kernelspec": {
   "display_name": "Python 3",
   "language": "python",
   "name": "python3"
  },
  "language_info": {
   "codemirror_mode": {
    "name": "ipython",
    "version": 3
   },
   "file_extension": ".py",
   "mimetype": "text/x-python",
   "name": "python",
   "nbconvert_exporter": "python",
   "pygments_lexer": "ipython3",
   "version": "3.7.9"
  }
 },
 "nbformat": 4,
 "nbformat_minor": 4
}
