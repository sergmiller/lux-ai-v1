{
 "cells": [
  {
   "cell_type": "code",
   "execution_count": 1,
   "metadata": {},
   "outputs": [],
   "source": [
    "import numpy as np\n",
    "import pandas as pd\n",
    "\n",
    "\n",
    "import json\n",
    "import os\n",
    "\n",
    "import subprocess\n",
    "\n",
    "from matplotlib import pyplot as plt"
   ]
  },
  {
   "cell_type": "code",
   "execution_count": 6,
   "metadata": {},
   "outputs": [],
   "source": [
    "%matplotlib inline\n",
    "%config Completer.use_jedi = False"
   ]
  },
  {
   "cell_type": "code",
   "execution_count": 3,
   "metadata": {},
   "outputs": [],
   "source": [
    "import torch\n",
    "from torch import nn\n",
    "from torch import optim\n",
    "\n",
    "from tensorboardX import SummaryWriter"
   ]
  },
  {
   "cell_type": "code",
   "execution_count": 643,
   "metadata": {},
   "outputs": [
    {
     "data": {
      "text/plain": [
       "<module 'utils.dataset' from '/Users/sergmiller/Documents/my/lux-ai-v1/research/utils/dataset.py'>"
      ]
     },
     "execution_count": 643,
     "metadata": {},
     "output_type": "execute_result"
    }
   ],
   "source": [
    "from importlib import reload\n",
    "from utils import dataset\n",
    "\n",
    "reload(dataset)"
   ]
  },
  {
   "cell_type": "code",
   "execution_count": 573,
   "metadata": {},
   "outputs": [],
   "source": [
    "def learn(train, val, model_ff, criterion, epochs=5, batch_size=64, shuffle=True, freq=10,lr=1e-3, l2=1e-5, use_tb=True): \n",
    "    if use_tb:\n",
    "        writer = SummaryWriter()\n",
    "    \n",
    "#     np.random.seed(1)\n",
    "    ids_nn = np.arange(train.targets.shape[0])\n",
    "    \n",
    "    reshape_to_last = lambda x: torch.reshape(x, [np.prod(x.shape[:-1]), x.shape[-1]])\n",
    "\n",
    "    optimizer = optim.Adam(model_ff.parameters(), lr=lr, weight_decay=l2)\n",
    "\n",
    "    time_for_print_loss = lambda i: (i + 1) % freq == 0\n",
    "    \n",
    "    n_iter = 0\n",
    "\n",
    "\n",
    "    for epoch in np.arange(epochs):\n",
    "        np.random.shuffle(ids_nn)\n",
    "\n",
    "        model_ff.train(True)\n",
    "\n",
    "        for b in np.arange(0, train.targets.shape[0], batch_size):\n",
    "            X_batch = torch.FloatTensor(train.features[ids_nn[b:b+batch_size]])\n",
    "            y_batch = torch.FloatTensor(train.weights[ids_nn[b:b+batch_size]])  # reward(advantage)\n",
    "            a_batch = torch.LongTensor(train.targets[ids_nn[b:b+batch_size]])  # action\n",
    "\n",
    "            optimizer.zero_grad()\n",
    "            y_pred_logits = model_ff(X_batch)\n",
    "\n",
    "            loss = criterion(y_pred_logits, y_batch, a_batch, X_batch)\n",
    "            loss.backward()\n",
    "\n",
    "            optimizer.step()\n",
    "\n",
    "            if (b // batch_size + 1) % freq == 0:\n",
    "                print('train loss in %d epoch in %d batch: %.5f' %\n",
    "                  (epoch + 1, b // batch_size + 1, loss.item()))\n",
    "                \n",
    "                if use_tb:\n",
    "                    writer.add_scalar('data/train_loss', loss.item(), n_iter)\n",
    "                    writer.add_scalar('data/epoch', epoch + 1, n_iter)\n",
    "                    writer.add_scalar('data/batch', b // batch_size + 1, n_iter)\n",
    "\n",
    "                val_loss = 0\n",
    "                its = 0\n",
    "                model_ff.train(False)\n",
    "                for b in np.arange(0, val.targets.shape[0], batch_size):\n",
    "                    its += 1\n",
    "                    X_batch = torch.FloatTensor(val.features[b:b+batch_size])\n",
    "#                     X_batch = reshape_to_last(X_batch)\n",
    "\n",
    "                    y_batch = torch.FloatTensor(val.weights[b:b+batch_size])\n",
    "                    a_batch = torch.LongTensor(val.targets[b:b+batch_size])\n",
    "                    with torch.no_grad():\n",
    "                        y_pred_logits = model_ff(X_batch)\n",
    "                    loss = criterion(y_pred_logits, y_batch, a_batch, X_batch)\n",
    "                    val_loss += loss.item()\n",
    "                val_loss /= its\n",
    "                print('val loss in %d epoch: %.5f' % (epoch + 1, val_loss))\n",
    "                \n",
    "                if use_tb:\n",
    "                    writer.add_scalar('data/val_loss', val_loss, n_iter)\n",
    "                n_iter += 1\n"
   ]
  },
  {
   "cell_type": "code",
   "execution_count": 96,
   "metadata": {},
   "outputs": [],
   "source": [
    "# datasets = dataset.read_datasets_from_dir(\"features_v3/\")"
   ]
  },
  {
   "cell_type": "code",
   "execution_count": 97,
   "metadata": {},
   "outputs": [
    {
     "data": {
      "text/plain": [
       "[(0, 'cargo_vol_total'),\n",
       " (1, 'cargo_fuel_total'),\n",
       " (2, 'unit_can_build'),\n",
       " (3, 'unit_routine'),\n",
       " (4, 'unit_last_action'),\n",
       " (5, 'near_city_dist'),\n",
       " (6, 'near_city_dir'),\n",
       " (7, 'near_city_fuel'),\n",
       " (8, 'near_city_light_upkeep'),\n",
       " (9, 'city_size'),\n",
       " (10, 'opp_near_city_dist'),\n",
       " (11, 'opp_near_city_dir'),\n",
       " (12, 'opp_near_city_fuel'),\n",
       " (13, 'opp_near_city_light_upkeep'),\n",
       " (14, 'opp_city_size'),\n",
       " (15, 'near_resource_dist'),\n",
       " (16, 'near_resource_dir'),\n",
       " (17, 'near_resource_type'),\n",
       " (18, 'near_resource_amount'),\n",
       " (19, 'my_city_count'),\n",
       " (20, 'opp_city_count'),\n",
       " (21, 'turn'),\n",
       " (22, 'is_night'),\n",
       " (23, 'time_to_night'),\n",
       " (24, 'width'),\n",
       " (25, 'height'),\n",
       " (26, 'my_research'),\n",
       " (27, 'opp_research'),\n",
       " (28, 'my_research_coal'),\n",
       " (29, 'opp_research_coal'),\n",
       " (30, 'my_research_uran'),\n",
       " (31, 'opp_research_uran'),\n",
       " (32, 'action'),\n",
       " (33, 'my_tiles'),\n",
       " (34, 'opp_tiles')]"
      ]
     },
     "execution_count": 97,
     "metadata": {},
     "output_type": "execute_result"
    }
   ],
   "source": [
    "# dataset.read_columns_from_random_file(\"features_v3\")"
   ]
  },
  {
   "cell_type": "code",
   "execution_count": 100,
   "metadata": {},
   "outputs": [
    {
     "data": {
      "text/plain": [
       "[2, 3, 4, 6, 11, 16, 17, 22, 28, 29, 30, 31]"
      ]
     },
     "execution_count": 100,
     "metadata": {},
     "output_type": "execute_result"
    }
   ],
   "source": [
    "dataset.CAT_FEATURES"
   ]
  },
  {
   "cell_type": "code",
   "execution_count": 409,
   "metadata": {},
   "outputs": [],
   "source": [
    "FLOAT_FEATURES = [i for i in range(42 + 32*32*7) if i not in dataset.CAT_FEATURES_V4]"
   ]
  },
  {
   "cell_type": "code",
   "execution_count": 410,
   "metadata": {},
   "outputs": [
    {
     "data": {
      "text/plain": [
       "([0, 1, 5, 6, 7, 9, 10, 11, 12, 13, 15, 17, 18, 19, 20, 21, 23, 26, 27, 28],\n",
       " [7200, 7201, 7202, 7203, 7204, 7205, 7206, 7207, 7208, 7209])"
      ]
     },
     "execution_count": 410,
     "metadata": {},
     "output_type": "execute_result"
    }
   ],
   "source": [
    "FLOAT_FEATURES[:20], FLOAT_FEATURES[-10:]"
   ]
  },
  {
   "cell_type": "code",
   "execution_count": 87,
   "metadata": {},
   "outputs": [],
   "source": [
    "import pickle\n",
    "from sklearn.preprocessing import OneHotEncoder"
   ]
  },
  {
   "cell_type": "code",
   "execution_count": 392,
   "metadata": {},
   "outputs": [],
   "source": [
    "with open(\"../submissions/simple/models/ohe_v2\", \"rb\") as f:\n",
    "    OHE = pickle.load(f)"
   ]
  },
  {
   "cell_type": "code",
   "execution_count": 419,
   "metadata": {},
   "outputs": [],
   "source": [
    "def prepare_features(t: dataset.Dataset, v: dataset.Dataset, ohe=None, categories=None) -> (dataset.Dataset, dataset.Dataset):\n",
    "    create_ohe = ohe is None\n",
    "    if create_ohe:\n",
    "         ohe = OneHotEncoder(sparse=False, categories=categories)\n",
    "    def prepare(d, is_train):\n",
    "        cf = d.features[:, dataset.CAT_FEATURES_V4]\n",
    "        ff = d.features[:, FLOAT_FEATURES]\n",
    "        cf[cf == \"False\"] = False\n",
    "        cf[cf == \"True\"] = True\n",
    "        cf[cf == None] = \"None\"\n",
    "        cf[cf == \"1\"] = 1\n",
    "        cf[cf == \"2\"] = 2\n",
    "        cf[cf == \"3\"] = 3\n",
    "        ff[ff == \"None\"] = 0\n",
    "        cf_o = ohe.fit_transform(cf) if is_train and create_ohe else ohe.transform(cf)\n",
    "        return dataset.Dataset(\n",
    "            features=np.array(np.concatenate([cf_o, ff], axis=1), dtype=np.float),\n",
    "            targets=np.array(d.targets, dtype=np.float),\n",
    "            weights=np.array(d.weights, dtype=np.float),\n",
    "            next_state_id = d.next_state_id\n",
    "        )\n",
    "    t = prepare(t, True)\n",
    "    v = prepare(v, False)\n",
    "    return (t,v, ohe)"
   ]
  },
  {
   "cell_type": "code",
   "execution_count": 184,
   "metadata": {},
   "outputs": [],
   "source": [
    "# dt,dv,OHE = prepare_features(data, data, None, [\n",
    "#      np.array([\"None\", False, True], dtype=object),\n",
    "#      np.array([1, 2, 3], dtype=object),\n",
    "#      np.array(['None', 'bcity', 'e', 'n', 'p', 's', 'w'], dtype=object),\n",
    "#      np.array(['None', 'c', 'e', 'n', 's', 'w'], dtype=object),\n",
    "#      np.array([\"None\", False, True], dtype=object),\n",
    "#      np.array(['None', 'e', 'n', 's', 'w'], dtype=object),\n",
    "#      np.array([\"None\", False, True], dtype=object),\n",
    "#      np.array(['None', 'c', 'e', 'n', 's', 'w'], dtype=object),\n",
    "#      np.array(['None', 'coal', 'uranium', 'wood'], dtype=object),\n",
    "#      np.array([\"None\", False, True], dtype=object),\n",
    "#      np.array([\"None\", False, True], dtype=object),\n",
    "#      np.array([\"None\", False, True], dtype=object),\n",
    "#      np.array([\"None\", False, True], dtype=object),\n",
    "#      np.array([\"None\", False, True], dtype=object)])"
   ]
  },
  {
   "cell_type": "code",
   "execution_count": 185,
   "metadata": {},
   "outputs": [
    {
     "data": {
      "text/plain": [
       "[array(['None', False, True], dtype=object),\n",
       " array([1, 2, 3], dtype=object),\n",
       " array(['None', 'bcity', 'e', 'n', 'p', 's', 'w'], dtype=object),\n",
       " array(['None', 'c', 'e', 'n', 's', 'w'], dtype=object),\n",
       " array(['None', False, True], dtype=object),\n",
       " array(['None', 'e', 'n', 's', 'w'], dtype=object),\n",
       " array(['None', False, True], dtype=object),\n",
       " array(['None', 'c', 'e', 'n', 's', 'w'], dtype=object),\n",
       " array(['None', 'coal', 'uranium', 'wood'], dtype=object),\n",
       " array(['None', False, True], dtype=object),\n",
       " array(['None', False, True], dtype=object),\n",
       " array(['None', False, True], dtype=object),\n",
       " array(['None', False, True], dtype=object),\n",
       " array(['None', False, True], dtype=object)]"
      ]
     },
     "execution_count": 185,
     "metadata": {},
     "output_type": "execute_result"
    }
   ],
   "source": [
    "OHE.categories_"
   ]
  },
  {
   "cell_type": "code",
   "execution_count": 188,
   "metadata": {},
   "outputs": [],
   "source": [
    "# with open(\"../submissions/simple/models/ohe_v2\", \"wb\") as f:\n",
    "#     pickle.dump(OHE, f)"
   ]
  },
  {
   "cell_type": "code",
   "execution_count": 142,
   "metadata": {},
   "outputs": [],
   "source": [
    "# with open(\"../submissions/simple/models/ohe_v1\", \"wb\") as f:\n",
    "#     pickle.dump(ohe, f)"
   ]
  },
  {
   "cell_type": "code",
   "execution_count": 626,
   "metadata": {},
   "outputs": [],
   "source": [
    "MAP_F = 32 * 32 * 7\n",
    "\n",
    "class NNWithCustomFeatures(nn.Module):\n",
    "    def __init__(self, INPUT_F, DROP_P, H, A=6):\n",
    "        super().__init__()\n",
    "        INPUT_F_C = INPUT_F + 128\n",
    "        self.model_q =  nn.Sequential(\n",
    "            nn.Dropout(DROP_P),\n",
    "            nn.Linear(INPUT_F_C, H),\n",
    "            nn.LayerNorm(H),\n",
    "            nn.ReLU(),\n",
    "            nn.Dropout(DROP_P),\n",
    "            nn.Linear(H, H),\n",
    "            nn.ReLU(),\n",
    "            nn.Dropout(DROP_P),\n",
    "            nn.Linear(H, H),\n",
    "            nn.ReLU(),\n",
    "            nn.Linear(H, A),\n",
    "            nn.ReLU()\n",
    "#             nn.Sigmoid()\n",
    "        )\n",
    "        \n",
    "        self.model_p =  nn.Sequential(\n",
    "            nn.Dropout(DROP_P),\n",
    "            nn.Linear(INPUT_F_C, H),\n",
    "            nn.LayerNorm(H),\n",
    "            nn.ReLU(),\n",
    "            nn.Dropout(DROP_P),\n",
    "            nn.Linear(H, H),\n",
    "            nn.ReLU(),\n",
    "            nn.Dropout(DROP_P),\n",
    "            nn.Linear(H, H),\n",
    "            nn.ReLU(),\n",
    "            nn.Linear(H, A)\n",
    "#             nn.Sigmoid()\n",
    "        )\n",
    "        \n",
    "        self.map_model = nn.Sequential(\n",
    "            nn.Conv2d(7, 64, 3),\n",
    "            nn.ReLU(inplace=True),\n",
    "            nn.MaxPool2d(2),  # after -> (16,16)\n",
    "            nn.Conv2d(64, 128, 3),\n",
    "            nn.ReLU(inplace=True),\n",
    "            nn.MaxPool2d(2),  # after -> (8, 8)\n",
    "            nn.Conv2d(128, 256, 3),\n",
    "            nn.ReLU(inplace=True),\n",
    "            nn.MaxPool2d(2),  # after -> (4, 4)\n",
    "#             nn.Conv2d(128, 256, 3),\n",
    "#             nn.ReLU(inplace=True),\n",
    "#             nn.MaxPool2d(2),  # after -> (1, 1)\n",
    "        )\n",
    "        self.avgpool = nn.AdaptiveAvgPool2d((4, 4))\n",
    "        self.proj = nn.Sequential(\n",
    "            nn.Dropout(p=DROP_P),\n",
    "            nn.Linear(256 * 4 * 4, 256),\n",
    "            nn.ReLU(inplace=True),\n",
    "            nn.Dropout(p=DROP_P),\n",
    "            nn.Linear(256, 128)\n",
    "        )\n",
    "        \n",
    "    def forward(self, x):\n",
    "        L = x.shape[1]\n",
    "        cur_r = self.forward_impl(x[:, :L // 2])\n",
    "        next_r =  self.forward_impl(x[:, L // 2:])\n",
    "        return torch.cat([cur_r, next_r],dim=1)\n",
    "\n",
    "    def forward_impl(self, x):\n",
    "        mapp = x[:, -MAP_F:].reshape(-1, 32, 32, 7)\n",
    "        rest = x[:, :-MAP_F]\n",
    "        mapp = torch.transpose(mapp, 1, -1)\n",
    "        mapp = self.avgpool(self.map_model(mapp))\n",
    "        mapp = torch.flatten(mapp, 1)\n",
    "        mapp_f = self.proj(mapp)\n",
    "#         print(mapp_f.shape)\n",
    "        input_x = torch.cat([rest, mapp_f], dim=1)\n",
    "#         print(input_x.shape)\n",
    "#         return self.model_q(input_x)\n",
    "        return torch.cat([self.model_q(input_x), self.model_p(input_x)], dim=1)"
   ]
  },
  {
   "cell_type": "code",
   "execution_count": 627,
   "metadata": {},
   "outputs": [],
   "source": [
    "model = NNWithCustomFeatures(63, 0.05, 64)"
   ]
  },
  {
   "cell_type": "code",
   "execution_count": 630,
   "metadata": {},
   "outputs": [
    {
     "data": {
      "text/plain": [
       "tensor([[ 0.0000,  0.0000,  0.1109,  0.0476,  0.0000,  0.0915, -0.0937, -0.0995,\n",
       "         -0.1064,  0.0649,  0.0547, -0.0450],\n",
       "        [ 0.0000,  0.0000,  0.1094,  0.0437,  0.0000,  0.0924, -0.0958, -0.0997,\n",
       "         -0.1076,  0.0741,  0.0568, -0.0414],\n",
       "        [ 0.0000,  0.0000,  0.1109,  0.0476,  0.0000,  0.0915, -0.0927, -0.0949,\n",
       "         -0.1044,  0.0684,  0.0588, -0.0371],\n",
       "        [ 0.0000,  0.0000,  0.1147,  0.0556,  0.0000,  0.0966, -0.0937, -0.0995,\n",
       "         -0.1064,  0.0649,  0.0547, -0.0450]], grad_fn=<CatBackward>)"
      ]
     },
     "execution_count": 630,
     "metadata": {},
     "output_type": "execute_result"
    }
   ],
   "source": [
    "model.forward_impl(torch.Tensor(4, 63 + 32*32*7))"
   ]
  },
  {
   "cell_type": "code",
   "execution_count": 648,
   "metadata": {},
   "outputs": [],
   "source": [
    "ENTROPY_REG = 1e-4\n",
    "def policy_loss(pi_logits, reward_batch, a_batch, X_batch):\n",
    "    pi_probs = torch.nn.Softmax(dim=1)(pi_logits)\n",
    "    return torch.mean(torch.nn.CrossEntropyLoss(reduction='none')(pi_logits, a_batch) * reward_batch \n",
    "                      - torch.sum(pi_probs * torch.log(pi_probs) * ENTROPY_REG, dim=1))\n",
    "\n",
    "def q_loss(q_vals, reward_batch, a_batch, X_batch):\n",
    "    q_vals_per_reward = q_vals[np.arange(q_vals.shape[0]), a_batch]\n",
    "    return torch.nn.MSELoss()(q_vals_per_reward, reward_batch) * 0.01\n",
    "\n",
    "gamma = 0.99\n",
    "\n",
    "def get_is_last_state(x):\n",
    "    t = torch.sum(torch.isclose(x, torch.ones_like(x) * (-1)), dim=1) == x.shape[1]\n",
    "    return t.float()\n",
    "\n",
    "def q_loss_pair(q_vals_cur_and_next, reward_batch, a_batch, X_batch):\n",
    "    q_vals = q_vals_cur_and_next[:, :6]\n",
    "    q_vals_next = q_vals_cur_and_next[:, 6:12]\n",
    "    q_vals_per_reward_cur = q_vals[np.arange(q_vals.shape[0]), a_batch]\n",
    "    X_batch_next = X_batch[:, X_batch.shape[1] // 2:]\n",
    "    best_q_vals_next = torch.max(q_vals_next,dim=1)[0] * (1 - get_is_last_state(X_batch_next))\n",
    "#     print(list(enumerate([q_vals_per_reward_cur, reward_batch, best_q_vals_next, q_vals_next])))\n",
    "#     print(0.99 * best_q_vals_next)\n",
    "#     return torch.nn.MSELoss()(target=q_vals_per_reward_cur.detach(), input=reward_batch + gamma * best_q_vals_next)\n",
    "    return torch.nn.SmoothL1Loss()(target=q_vals_per_reward_cur.detach(), input=reward_batch + gamma * best_q_vals_next)\n",
    "\n",
    "\n",
    "def actor_critic_loss(q_pi_payload, reward_batch, a_batch, X_batch):\n",
    "    q_vals = q_pi_payload[:, :6]\n",
    "    pi_logits =  q_pi_payload[:, 6:12]\n",
    "    pi_probs = torch.nn.Softmax(dim=1)(pi_logits)\n",
    "    q_vals_next = q_pi_payload[:, 12:18]\n",
    "    q_vals_per_reward_cur = q_vals[np.arange(q_vals.shape[0]), a_batch]\n",
    "    X_batch_next = X_batch[:, X_batch.shape[1] // 2:]\n",
    "    best_q_vals_next = torch.max(q_vals_next,dim=1)[0] * (1 - get_is_last_state(X_batch_next))\n",
    "    \n",
    "    q_loss = torch.nn.SmoothL1Loss()(target=reward_batch + gamma * best_q_vals_next.detach(), input=q_vals_per_reward_cur)\n",
    "    pi_loss =  torch.mean(torch.nn.CrossEntropyLoss(reduction='none')(pi_logits, a_batch) * q_vals_per_reward_cur.detach()\n",
    "                      - torch.sum(pi_probs * torch.log(pi_probs) * ENTROPY_REG, dim=1))\n",
    "#     print(\"q_loss={}, pi_loss={}\".format(q_loss.item(), pi_loss.item()))\n",
    "    return q_loss + pi_loss"
   ]
  },
  {
   "cell_type": "code",
   "execution_count": 429,
   "metadata": {},
   "outputs": [],
   "source": [
    "simple_bot = \"../submissions/simple/main.py\"\n",
    "replays = \"replays\"\n",
    "\n",
    "def run_game(left_bot=simple_bot, right_bot=simple_bot, seed=42, loglevel=2):\n",
    "    replay_path = \"replay.json\"\n",
    "    python_v = \"python3.7\"\n",
    "    \n",
    "    replay_path = os.path.join(replays, str(np.random.randint(1e9)) + \".json\")\n",
    "    \n",
    "    size = np.random.choice([12,16,24,32], size=1)[0]\n",
    "    \n",
    "    res = subprocess.run([\n",
    "        \"lux-ai-2021\",\n",
    "        left_bot,\n",
    "        right_bot,\n",
    "#         \"--statefulReplay\",\n",
    "        \"--width={}\".format(size),\n",
    "        \"--height={}\".format(size),\n",
    "        \"--loglevel={}\".format(loglevel),\n",
    "        \"--python={}\".format(python_v),\n",
    "        \"--maxtime=100000\",\n",
    "        \"--maxConcurrentMatches=1\",\n",
    "        \"--seed={}\".format(seed),\n",
    "        \"--out={}\".format(replay_path)], stdout=subprocess.PIPE)\n",
    "    \n",
    "    if loglevel > 0:\n",
    "        print(res.stdout.decode())\n",
    "\n",
    "    assert res.returncode == 0\n",
    "\n",
    "    with open(replay_path, \"r\") as f:\n",
    "        result = json.load(f)\n",
    "    return result, res.stdout.decode()"
   ]
  },
  {
   "cell_type": "code",
   "execution_count": 432,
   "metadata": {
    "scrolled": true
   },
   "outputs": [],
   "source": [
    "run_game(simple_bot, simple_bot)  # <-- test run one game with default bot"
   ]
  },
  {
   "cell_type": "code",
   "execution_count": 98,
   "metadata": {},
   "outputs": [],
   "source": [
    "import hashlib\n",
    "\n",
    "def build_runnable_bot_with_flags(flags: dict, origin = simple_bot, base_path = '../submissions/simple/') -> str:\n",
    "    lines = []\n",
    "    with open(origin, \"r\") as f:\n",
    "        for line in f:\n",
    "            lines.append(line[:-1])\n",
    "    text = '\\n'.join(lines)\n",
    "    f = json.dumps(flags)\n",
    "    text = text.format(f)\n",
    "    h = int(hashlib.sha256(f.encode('utf-8')).hexdigest(), 16) % (10 ** 18)\n",
    "    path = base_path + \"main_\" + str(h) + \".py\"\n",
    "    with open(path, \"w\") as f:\n",
    "        f.write(text)\n",
    "    return path"
   ]
  },
  {
   "cell_type": "code",
   "execution_count": 229,
   "metadata": {},
   "outputs": [],
   "source": [
    "def count_series(results: list):\n",
    "    wins = []\n",
    "    for i, r in enumerate(results):\n",
    "        ranks = r[0]['results']['ranks']\n",
    "        teams = r[0]['teamDetails']\n",
    "        if ranks[0]['rank'] == 1 and ranks[1]['rank'] == 2:\n",
    "            if ranks[0][\"agentID\"] == i % 2:\n",
    "                wins.append(1)\n",
    "            else:\n",
    "                wins.append(0)\n",
    "        else:\n",
    "            wins.append(0.5)\n",
    "    return wins"
   ]
  },
  {
   "cell_type": "code",
   "execution_count": 100,
   "metadata": {},
   "outputs": [],
   "source": [
    "from joblib import Parallel, delayed\n",
    "import tqdm"
   ]
  },
  {
   "cell_type": "code",
   "execution_count": 614,
   "metadata": {},
   "outputs": [],
   "source": [
    "def sample_dataset(d, p=0.5):\n",
    "    N = len(d.features)\n",
    "    ids = np.random.choice(N, size=int(N * p))\n",
    "    return dataset.Dataset(features = d.features[ids], weights = d.weights[ids], targets = d.targets[ids])"
   ]
  },
  {
   "cell_type": "code",
   "execution_count": 492,
   "metadata": {},
   "outputs": [],
   "source": [
    "def add_next_features(d):\n",
    "    assert d.next_state_id is not None\n",
    "    coupled_features = []\n",
    "    weights = []\n",
    "    targets = []\n",
    "    for i in np.arange(d.features.shape[0]):\n",
    "        next_i = d.next_state_id[i]\n",
    "        if d.next_state_id[i] != -1:\n",
    "            next_f = d.features[next_i]\n",
    "        else:\n",
    "            next_f = np.ones_like(d.features[i]) * (-1)\n",
    "        coupled_features.append(np.concatenate([d.features[i], next_f]))\n",
    "        weights.append(d.weights[i])\n",
    "        targets.append(d.targets[i])\n",
    "    return dataset.Dataset(\n",
    "        features=np.array(coupled_features),\n",
    "        weights=np.array(weights),\n",
    "        targets=np.array(targets))"
   ]
  },
  {
   "cell_type": "code",
   "execution_count": null,
   "metadata": {
    "scrolled": true
   },
   "outputs": [
    {
     "name": "stderr",
     "output_type": "stream",
     "text": [
      "/Library/Frameworks/Python.framework/Versions/3.7/lib/python3.7/site-packages/IPython/core/interactiveshell.py:3338: DtypeWarning: Columns (9,10,11,12,13,14,17,18,19,20,21,22) have mixed types.Specify dtype option on import or set low_memory=False.\n",
      "  if (await self.run_code(code, result,  async_=asy)):\n"
     ]
    },
    {
     "name": "stdout",
     "output_type": "stream",
     "text": [
      "Round 1, winrate: 0.0, max_step: 359, reward: 0.26289999999999836, example: {'ranks': [{'rank': 1, 'agentID': 0}, {'rank': 2, 'agentID': 1}], 'replayFile': 'replays/717354021.json'}\n",
      "train loss in 1 epoch in 1 batch: 0.04858\n",
      "val loss in 1 epoch: 22.23305\n",
      "train loss in 1 epoch in 2 batch: 31.29694\n",
      "val loss in 1 epoch: 1.07178\n"
     ]
    },
    {
     "name": "stderr",
     "output_type": "stream",
     "text": [
      "/Library/Frameworks/Python.framework/Versions/3.7/lib/python3.7/site-packages/IPython/core/interactiveshell.py:3338: DtypeWarning: Columns (9,10,11,12,13,14) have mixed types.Specify dtype option on import or set low_memory=False.\n",
      "  if (await self.run_code(code, result,  async_=asy)):\n"
     ]
    },
    {
     "name": "stdout",
     "output_type": "stream",
     "text": [
      "Round 2, winrate: 0.0, max_step: 310, reward: 1.7673000000000298, example: {'ranks': [{'rank': 1, 'agentID': 1}, {'rank': 2, 'agentID': 0}], 'replayFile': 'replays/798842024.json'}\n",
      "train loss in 1 epoch in 1 batch: 0.89470\n",
      "val loss in 1 epoch: 6.25246\n",
      "train loss in 1 epoch in 2 batch: 6.39071\n",
      "val loss in 1 epoch: 18.49046\n",
      "train loss in 1 epoch in 3 batch: 18.13600\n",
      "val loss in 1 epoch: 13.67970\n"
     ]
    },
    {
     "name": "stderr",
     "output_type": "stream",
     "text": [
      "/Library/Frameworks/Python.framework/Versions/3.7/lib/python3.7/site-packages/IPython/core/interactiveshell.py:3338: DtypeWarning: Columns (26,27,28) have mixed types.Specify dtype option on import or set low_memory=False.\n",
      "  if (await self.run_code(code, result,  async_=asy)):\n"
     ]
    },
    {
     "name": "stdout",
     "output_type": "stream",
     "text": [
      "Round 3, winrate: 0.0, max_step: 359, reward: 0.9316999999999964, example: {'ranks': [{'rank': 1, 'agentID': 0}, {'rank': 2, 'agentID': 1}], 'replayFile': 'replays/218175338.json'}\n",
      "train loss in 1 epoch in 1 batch: 16.02784\n",
      "val loss in 1 epoch: 46.59298\n",
      "train loss in 1 epoch in 2 batch: 46.14453\n",
      "val loss in 1 epoch: 57.88479\n",
      "train loss in 1 epoch in 3 batch: 57.39045\n",
      "val loss in 1 epoch: 86.11944\n",
      "Round 4, winrate: 0.0, max_step: 359, reward: 0.6188999999999972, example: {'ranks': [{'rank': 1, 'agentID': 1}, {'rank': 2, 'agentID': 0}], 'replayFile': 'replays/932136058.json'}\n",
      "train loss in 1 epoch in 1 batch: 82.17757\n",
      "val loss in 1 epoch: 89.83972\n",
      "train loss in 1 epoch in 2 batch: 88.25482\n",
      "val loss in 1 epoch: 71.09046\n"
     ]
    },
    {
     "name": "stderr",
     "output_type": "stream",
     "text": [
      "/Library/Frameworks/Python.framework/Versions/3.7/lib/python3.7/site-packages/IPython/core/interactiveshell.py:3338: DtypeWarning: Columns (9,10,11,12,13,14) have mixed types.Specify dtype option on import or set low_memory=False.\n",
      "  if (await self.run_code(code, result,  async_=asy)):\n"
     ]
    },
    {
     "name": "stdout",
     "output_type": "stream",
     "text": [
      "Round 5, winrate: 0.0, max_step: 238, reward: 0.03640000000000006, example: {'ranks': [{'rank': 1, 'agentID': 0}, {'rank': 2, 'agentID': 1}], 'replayFile': 'replays/953453411.json'}\n",
      "train loss in 1 epoch in 1 batch: 65.57085\n",
      "val loss in 1 epoch: 132.50782\n"
     ]
    },
    {
     "name": "stderr",
     "output_type": "stream",
     "text": [
      "/Library/Frameworks/Python.framework/Versions/3.7/lib/python3.7/site-packages/IPython/core/interactiveshell.py:3338: DtypeWarning: Columns (9,10,11,12,13,14,26,27,28) have mixed types.Specify dtype option on import or set low_memory=False.\n",
      "  if (await self.run_code(code, result,  async_=asy)):\n"
     ]
    },
    {
     "name": "stdout",
     "output_type": "stream",
     "text": [
      "Round 6, winrate: 0.0, max_step: 350, reward: 0.20019999999999885, example: {'ranks': [{'rank': 1, 'agentID': 1}, {'rank': 2, 'agentID': 0}], 'replayFile': 'replays/613579658.json'}\n",
      "train loss in 1 epoch in 1 batch: 88.05369\n",
      "val loss in 1 epoch: 64.98711\n",
      "Round 7, winrate: 0.0, max_step: 110, reward: 0.0038999999999999972, example: {'ranks': [{'rank': 1, 'agentID': 0}, {'rank': 2, 'agentID': 1}], 'replayFile': 'replays/327741615.json'}\n",
      "train loss in 1 epoch in 1 batch: 31.80294\n",
      "val loss in 1 epoch: 193.95966\n",
      "Round 8, winrate: 0.0, max_step: 79, reward: 0.013100000000000006, example: {'ranks': [{'rank': 1, 'agentID': 1}, {'rank': 2, 'agentID': 0}], 'replayFile': 'replays/530125251.json'}\n",
      "train loss in 1 epoch in 1 batch: 33.32146\n",
      "val loss in 1 epoch: 86.04759\n"
     ]
    },
    {
     "name": "stderr",
     "output_type": "stream",
     "text": [
      "/Library/Frameworks/Python.framework/Versions/3.7/lib/python3.7/site-packages/IPython/core/interactiveshell.py:3338: DtypeWarning: Columns (26,27,28) have mixed types.Specify dtype option on import or set low_memory=False.\n",
      "  if (await self.run_code(code, result,  async_=asy)):\n"
     ]
    },
    {
     "name": "stdout",
     "output_type": "stream",
     "text": [
      "Round 9, winrate: 0.0, max_step: 319, reward: 0.045200000000000295, example: {'ranks': [{'rank': 1, 'agentID': 0}, {'rank': 2, 'agentID': 1}], 'replayFile': 'replays/44556670.json'}\n",
      "train loss in 1 epoch in 1 batch: 190.91922\n",
      "val loss in 1 epoch: 84.81249\n",
      "Round 10, winrate: 0.0, max_step: 196, reward: 0.0127, example: {'ranks': [{'rank': 1, 'agentID': 1}, {'rank': 2, 'agentID': 0}], 'replayFile': 'replays/91571465.json'}\n",
      "train loss in 1 epoch in 1 batch: 93.79315\n",
      "val loss in 1 epoch: 111.41048\n"
     ]
    },
    {
     "name": "stderr",
     "output_type": "stream",
     "text": [
      "/Library/Frameworks/Python.framework/Versions/3.7/lib/python3.7/site-packages/IPython/core/interactiveshell.py:3338: DtypeWarning: Columns (9,10,11,12,13,14) have mixed types.Specify dtype option on import or set low_memory=False.\n",
      "  if (await self.run_code(code, result,  async_=asy)):\n"
     ]
    },
    {
     "name": "stdout",
     "output_type": "stream",
     "text": [
      "Round 11, winrate: 1.0, max_step: 314, reward: 4.190800000000001, example: {'ranks': [{'rank': 1, 'agentID': 1}, {'rank': 2, 'agentID': 0}], 'replayFile': 'replays/774252441.json'}\n",
      "train loss in 1 epoch in 1 batch: 909.19666\n",
      "val loss in 1 epoch: 668.16833\n",
      "Round 12, winrate: 0.0, max_step: 29, reward: 0.004200000000000001, example: {'ranks': [{'rank': 1, 'agentID': 1}, {'rank': 2, 'agentID': 0}], 'replayFile': 'replays/662124363.json'}\n",
      "train loss in 1 epoch in 1 batch: 1065.47693\n",
      "val loss in 1 epoch: 690.68457\n",
      "Round 13, winrate: 0.0, max_step: 156, reward: 0.011399999999999987, example: {'ranks': [{'rank': 1, 'agentID': 0}, {'rank': 2, 'agentID': 1}], 'replayFile': 'replays/118980946.json'}\n",
      "train loss in 1 epoch in 1 batch: 36.81111\n",
      "val loss in 1 epoch: 29.70477\n"
     ]
    },
    {
     "name": "stderr",
     "output_type": "stream",
     "text": [
      "/Library/Frameworks/Python.framework/Versions/3.7/lib/python3.7/site-packages/IPython/core/interactiveshell.py:3338: DtypeWarning: Columns (9,10,11,12,13,14) have mixed types.Specify dtype option on import or set low_memory=False.\n",
      "  if (await self.run_code(code, result,  async_=asy)):\n"
     ]
    },
    {
     "name": "stdout",
     "output_type": "stream",
     "text": [
      "Round 14, winrate: 0.0, max_step: 150, reward: 0.026599999999999947, example: {'ranks': [{'rank': 1, 'agentID': 1}, {'rank': 2, 'agentID': 0}], 'replayFile': 'replays/59886187.json'}\n",
      "train loss in 1 epoch in 1 batch: 27.43460\n",
      "val loss in 1 epoch: 83.40161\n",
      "Round 15, winrate: 0.0, max_step: 112, reward: 0.006100000000000003, example: {'ranks': [{'rank': 1, 'agentID': 0}, {'rank': 2, 'agentID': 1}], 'replayFile': 'replays/424418760.json'}\n",
      "train loss in 1 epoch in 1 batch: 18.55710\n",
      "val loss in 1 epoch: 59.74951\n",
      "Round 16, winrate: 0.0, max_step: 276, reward: 1.0378999999999987, example: {'ranks': [{'rank': 1, 'agentID': 1}, {'rank': 2, 'agentID': 0}], 'replayFile': 'replays/959027881.json'}\n",
      "train loss in 1 epoch in 1 batch: 1361.95618\n",
      "val loss in 1 epoch: 1147.46030\n",
      "train loss in 1 epoch in 2 batch: 1077.70996\n",
      "val loss in 1 epoch: 970.36043\n",
      "train loss in 1 epoch in 3 batch: 1071.70105\n",
      "val loss in 1 epoch: 820.92862\n"
     ]
    },
    {
     "name": "stderr",
     "output_type": "stream",
     "text": [
      "/Library/Frameworks/Python.framework/Versions/3.7/lib/python3.7/site-packages/IPython/core/interactiveshell.py:3338: DtypeWarning: Columns (9,10,11,12,13,14) have mixed types.Specify dtype option on import or set low_memory=False.\n",
      "  if (await self.run_code(code, result,  async_=asy)):\n"
     ]
    },
    {
     "name": "stdout",
     "output_type": "stream",
     "text": [
      "Round 17, winrate: 0.0, max_step: 279, reward: 0.02479999999999996, example: {'ranks': [{'rank': 1, 'agentID': 0}, {'rank': 2, 'agentID': 1}], 'replayFile': 'replays/191834735.json'}\n",
      "train loss in 1 epoch in 1 batch: 142.05771\n",
      "val loss in 1 epoch: 116.36702\n"
     ]
    },
    {
     "name": "stderr",
     "output_type": "stream",
     "text": [
      "/Library/Frameworks/Python.framework/Versions/3.7/lib/python3.7/site-packages/IPython/core/interactiveshell.py:3338: DtypeWarning: Columns (9,10,11,12,13,14) have mixed types.Specify dtype option on import or set low_memory=False.\n",
      "  if (await self.run_code(code, result,  async_=asy)):\n"
     ]
    },
    {
     "name": "stdout",
     "output_type": "stream",
     "text": [
      "Round 18, winrate: 0.0, max_step: 310, reward: 0.16959999999999825, example: {'ranks': [{'rank': 1, 'agentID': 1}, {'rank': 2, 'agentID': 0}], 'replayFile': 'replays/645852458.json'}\n",
      "train loss in 1 epoch in 1 batch: 481.06995\n",
      "val loss in 1 epoch: 411.30109\n",
      "train loss in 1 epoch in 2 batch: 410.80725\n",
      "val loss in 1 epoch: 377.32683\n",
      "Round 19, winrate: 0.0, max_step: 155, reward: 0.02629999999999989, example: {'ranks': [{'rank': 1, 'agentID': 0}, {'rank': 2, 'agentID': 1}], 'replayFile': 'replays/418903645.json'}\n",
      "train loss in 1 epoch in 1 batch: 433.30289\n",
      "val loss in 1 epoch: 333.89712\n",
      "Round 20, winrate: 0.0, max_step: 191, reward: 0.11519999999999932, example: {'ranks': [{'rank': 1, 'agentID': 1}, {'rank': 2, 'agentID': 0}], 'replayFile': 'replays/378518883.json'}\n",
      "train loss in 1 epoch in 1 batch: 344.16223\n",
      "val loss in 1 epoch: 330.41922\n",
      "Round 21, winrate: 0.0, max_step: 310, reward: 0.031599999999999906, example: {'ranks': [{'rank': 1, 'agentID': 0}, {'rank': 2, 'agentID': 1}], 'replayFile': 'replays/209271753.json'}\n",
      "train loss in 1 epoch in 1 batch: 408.29727\n",
      "val loss in 1 epoch: 350.01917\n"
     ]
    },
    {
     "name": "stderr",
     "output_type": "stream",
     "text": [
      "/Library/Frameworks/Python.framework/Versions/3.7/lib/python3.7/site-packages/IPython/core/interactiveshell.py:3338: DtypeWarning: Columns (9,10,11,12,13,14) have mixed types.Specify dtype option on import or set low_memory=False.\n",
      "  if (await self.run_code(code, result,  async_=asy)):\n"
     ]
    },
    {
     "name": "stdout",
     "output_type": "stream",
     "text": [
      "Round 22, winrate: 0.0, max_step: 190, reward: 0.01089999999999999, example: {'ranks': [{'rank': 1, 'agentID': 1}, {'rank': 2, 'agentID': 0}], 'replayFile': 'replays/895331189.json'}\n",
      "train loss in 1 epoch in 1 batch: 246.15454\n",
      "val loss in 1 epoch: 209.60680\n",
      "Round 23, winrate: 0.0, max_step: 196, reward: 0.9099000000000081, example: {'ranks': [{'rank': 1, 'agentID': 0}, {'rank': 2, 'agentID': 1}], 'replayFile': 'replays/74293843.json'}\n",
      "train loss in 1 epoch in 1 batch: 312.94333\n",
      "val loss in 1 epoch: 260.40880\n",
      "train loss in 1 epoch in 2 batch: 252.52475\n",
      "val loss in 1 epoch: 246.79204\n",
      "Round 24, winrate: 0.0, max_step: 30, reward: 0.0020000000000000005, example: {'ranks': [{'rank': 1, 'agentID': 1}, {'rank': 2, 'agentID': 0}], 'replayFile': 'replays/902017442.json'}\n",
      "train loss in 1 epoch in 1 batch: 479.45038\n",
      "val loss in 1 epoch: 566.68054\n",
      "Round 25, winrate: 0.0, max_step: 359, reward: 0.6505999999999864, example: {'ranks': [{'rank': 1, 'agentID': 0}, {'rank': 2, 'agentID': 1}], 'replayFile': 'replays/515929220.json'}\n",
      "train loss in 1 epoch in 1 batch: 234.17172\n",
      "val loss in 1 epoch: 195.84171\n",
      "train loss in 1 epoch in 2 batch: 207.60684\n",
      "val loss in 1 epoch: 180.00741\n",
      "train loss in 1 epoch in 3 batch: 162.11996\n",
      "val loss in 1 epoch: 156.15038\n",
      "Round 26, winrate: 0.0, max_step: 158, reward: 0.3045000000000021, example: {'ranks': [{'rank': 1, 'agentID': 1}, {'rank': 2, 'agentID': 0}], 'replayFile': 'replays/248828725.json'}\n",
      "train loss in 1 epoch in 1 batch: 165.24904\n",
      "val loss in 1 epoch: 138.62414\n",
      "Round 27, winrate: 0.0, max_step: 154, reward: 0.0036999999999999976, example: {'ranks': [{'rank': 1, 'agentID': 0}, {'rank': 2, 'agentID': 1}], 'replayFile': 'replays/754717715.json'}\n",
      "train loss in 1 epoch in 1 batch: 271.89761\n",
      "val loss in 1 epoch: 261.19217\n",
      "Round 28, winrate: 0.0, max_step: 359, reward: 0.017399999999999985, example: {'ranks': [{'rank': 1, 'agentID': 1}, {'rank': 2, 'agentID': 0}], 'replayFile': 'replays/983606529.json'}\n",
      "train loss in 1 epoch in 1 batch: 277.36578\n",
      "val loss in 1 epoch: 235.25658\n",
      "Round 29, winrate: 0.0, max_step: 359, reward: 0.3615000000000007, example: {'ranks': [{'rank': 1, 'agentID': 0}, {'rank': 2, 'agentID': 1}], 'replayFile': 'replays/488595413.json'}\n",
      "train loss in 1 epoch in 1 batch: 212.89668\n",
      "val loss in 1 epoch: 244.68191\n",
      "train loss in 1 epoch in 2 batch: 242.29878\n",
      "val loss in 1 epoch: 230.53723\n",
      "Round 30, winrate: 0.0, max_step: 70, reward: 0.0021000000000000003, example: {'ranks': [{'rank': 1, 'agentID': 1}, {'rank': 2, 'agentID': 0}], 'replayFile': 'replays/619091749.json'}\n",
      "train loss in 1 epoch in 1 batch: 292.61002\n",
      "val loss in 1 epoch: 309.54095\n",
      "Round 31, winrate: 0.0, max_step: 359, reward: 0.40350000000000635, example: {'ranks': [{'rank': 1, 'agentID': 0}, {'rank': 2, 'agentID': 1}], 'replayFile': 'replays/154850002.json'}\n",
      "train loss in 1 epoch in 1 batch: 269.51501\n",
      "val loss in 1 epoch: 223.57182\n",
      "train loss in 1 epoch in 2 batch: 204.82047\n",
      "val loss in 1 epoch: 208.10324\n",
      "Round 32, winrate: 0.0, max_step: 152, reward: 0.10849999999999971, example: {'ranks': [{'rank': 1, 'agentID': 1}, {'rank': 2, 'agentID': 0}], 'replayFile': 'replays/467675863.json'}\n",
      "train loss in 1 epoch in 1 batch: 225.50182\n",
      "val loss in 1 epoch: 138.48179\n",
      "Round 33, winrate: 0.0, max_step: 157, reward: 0.0092, example: {'ranks': [{'rank': 1, 'agentID': 0}, {'rank': 2, 'agentID': 1}], 'replayFile': 'replays/814680455.json'}\n",
      "train loss in 1 epoch in 1 batch: 406.23386\n",
      "val loss in 1 epoch: 336.70769\n",
      "Round 34, winrate: 0.0, max_step: 350, reward: 0.35080000000000594, example: {'ranks': [{'rank': 1, 'agentID': 1}, {'rank': 2, 'agentID': 0}], 'replayFile': 'replays/165621153.json'}\n",
      "train loss in 1 epoch in 1 batch: 163.13000\n",
      "val loss in 1 epoch: 136.31204\n",
      "train loss in 1 epoch in 2 batch: 111.73820\n",
      "val loss in 1 epoch: 117.28726\n"
     ]
    },
    {
     "name": "stderr",
     "output_type": "stream",
     "text": [
      "/Library/Frameworks/Python.framework/Versions/3.7/lib/python3.7/site-packages/IPython/core/interactiveshell.py:3338: DtypeWarning: Columns (9,10,11,12,13,14) have mixed types.Specify dtype option on import or set low_memory=False.\n",
      "  if (await self.run_code(code, result,  async_=asy)):\n"
     ]
    },
    {
     "name": "stdout",
     "output_type": "stream",
     "text": [
      "Round 35, winrate: 0.0, max_step: 359, reward: 0.46479999999999866, example: {'ranks': [{'rank': 1, 'agentID': 0}, {'rank': 2, 'agentID': 1}], 'replayFile': 'replays/893589193.json'}\n",
      "train loss in 1 epoch in 1 batch: 226.86462\n",
      "val loss in 1 epoch: 139.03641\n",
      "train loss in 1 epoch in 2 batch: 166.25969\n",
      "val loss in 1 epoch: 132.11613\n",
      "Round 36, winrate: 0.0, max_step: 310, reward: 0.06390000000000017, example: {'ranks': [{'rank': 1, 'agentID': 1}, {'rank': 2, 'agentID': 0}], 'replayFile': 'replays/981430917.json'}\n",
      "train loss in 1 epoch in 1 batch: 132.91501\n",
      "val loss in 1 epoch: 80.78207\n",
      "Round 37, winrate: 0.0, max_step: 351, reward: 1.7245999999999282, example: {'ranks': [{'rank': 1, 'agentID': 0}, {'rank': 2, 'agentID': 1}], 'replayFile': 'replays/835356559.json'}\n",
      "train loss in 1 epoch in 1 batch: 58.49144\n",
      "val loss in 1 epoch: 65.58780\n",
      "train loss in 1 epoch in 2 batch: 55.34632\n",
      "val loss in 1 epoch: 60.19590\n",
      "train loss in 1 epoch in 3 batch: 39.38912\n",
      "val loss in 1 epoch: 58.41866\n",
      "train loss in 1 epoch in 4 batch: 147.44249\n",
      "val loss in 1 epoch: 58.06632\n",
      "Round 38, winrate: 0.0, max_step: 30, reward: 0.003900000000000001, example: {'ranks': [{'rank': 1, 'agentID': 1}, {'rank': 2, 'agentID': 0}], 'replayFile': 'replays/578846113.json'}\n",
      "train loss in 1 epoch in 1 batch: 420.91815\n",
      "val loss in 1 epoch: 142.22188\n",
      "Round 39, winrate: 0.0, max_step: 194, reward: 0.0036999999999999976, example: {'ranks': [{'rank': 1, 'agentID': 0}, {'rank': 2, 'agentID': 1}], 'replayFile': 'replays/201387401.json'}\n",
      "train loss in 1 epoch in 1 batch: 634.49066\n",
      "val loss in 1 epoch: 603.87714\n"
     ]
    },
    {
     "name": "stderr",
     "output_type": "stream",
     "text": [
      "/Library/Frameworks/Python.framework/Versions/3.7/lib/python3.7/site-packages/IPython/core/interactiveshell.py:3338: DtypeWarning: Columns (9,10,11,12,13,14) have mixed types.Specify dtype option on import or set low_memory=False.\n",
      "  if (await self.run_code(code, result,  async_=asy)):\n"
     ]
    },
    {
     "name": "stdout",
     "output_type": "stream",
     "text": [
      "Round 40, winrate: 0.0, max_step: 359, reward: 0.7285000000000156, example: {'ranks': [{'rank': 1, 'agentID': 1}, {'rank': 2, 'agentID': 0}], 'replayFile': 'replays/677260614.json'}\n",
      "train loss in 1 epoch in 1 batch: 76.34996\n",
      "val loss in 1 epoch: 74.86792\n",
      "train loss in 1 epoch in 2 batch: 60.64955\n",
      "val loss in 1 epoch: 75.42678\n",
      "train loss in 1 epoch in 3 batch: 12.33106\n",
      "val loss in 1 epoch: 77.31007\n"
     ]
    },
    {
     "name": "stderr",
     "output_type": "stream",
     "text": [
      "/Library/Frameworks/Python.framework/Versions/3.7/lib/python3.7/site-packages/IPython/core/interactiveshell.py:3338: DtypeWarning: Columns (9,10,11,12,13,14) have mixed types.Specify dtype option on import or set low_memory=False.\n",
      "  if (await self.run_code(code, result,  async_=asy)):\n"
     ]
    },
    {
     "name": "stdout",
     "output_type": "stream",
     "text": [
      "Round 41, winrate: 0.0, max_step: 359, reward: 0.18029999999999802, example: {'ranks': [{'rank': 1, 'agentID': 0}, {'rank': 2, 'agentID': 1}], 'replayFile': 'replays/3966912.json'}\n",
      "train loss in 1 epoch in 1 batch: 81.51180\n",
      "val loss in 1 epoch: 53.99648\n",
      "train loss in 1 epoch in 2 batch: 97.16074\n",
      "val loss in 1 epoch: 52.28765\n"
     ]
    },
    {
     "name": "stderr",
     "output_type": "stream",
     "text": [
      "/Library/Frameworks/Python.framework/Versions/3.7/lib/python3.7/site-packages/IPython/core/interactiveshell.py:3338: DtypeWarning: Columns (9,10,11,12,13,14) have mixed types.Specify dtype option on import or set low_memory=False.\n",
      "  if (await self.run_code(code, result,  async_=asy)):\n"
     ]
    },
    {
     "name": "stdout",
     "output_type": "stream",
     "text": [
      "Round 42, winrate: 0.0, max_step: 270, reward: 0.1100000000000003, example: {'ranks': [{'rank': 1, 'agentID': 1}, {'rank': 2, 'agentID': 0}], 'replayFile': 'replays/534895718.json'}\n",
      "train loss in 1 epoch in 1 batch: 128.21826\n",
      "val loss in 1 epoch: 75.53202\n",
      "Round 43, winrate: 1.0, max_step: 196, reward: 1.0093, example: {'ranks': [{'rank': 1, 'agentID': 1}, {'rank': 2, 'agentID': 0}], 'replayFile': 'replays/494155588.json'}\n",
      "train loss in 1 epoch in 1 batch: 539.17950\n",
      "val loss in 1 epoch: 488.48856\n",
      "Round 44, winrate: 0.0, max_step: 150, reward: 0.01079999999999999, example: {'ranks': [{'rank': 1, 'agentID': 1}, {'rank': 2, 'agentID': 0}], 'replayFile': 'replays/364394260.json'}\n",
      "train loss in 1 epoch in 1 batch: 84.18806\n",
      "val loss in 1 epoch: 58.83724\n",
      "Round 45, winrate: 0.0, max_step: 230, reward: 0.3414999999999966, example: {'ranks': [{'rank': 1, 'agentID': 0}, {'rank': 2, 'agentID': 1}], 'replayFile': 'replays/234232222.json'}\n",
      "train loss in 1 epoch in 1 batch: 75.91531\n",
      "val loss in 1 epoch: 71.40829\n",
      "train loss in 1 epoch in 2 batch: 128.20918\n",
      "val loss in 1 epoch: 74.37756\n",
      "Round 46, winrate: 0.0, max_step: 235, reward: 0.0036999999999999976, example: {'ranks': [{'rank': 1, 'agentID': 1}, {'rank': 2, 'agentID': 0}], 'replayFile': 'replays/145308861.json'}\n",
      "train loss in 1 epoch in 1 batch: 533.70544\n",
      "val loss in 1 epoch: 463.12090\n"
     ]
    },
    {
     "name": "stderr",
     "output_type": "stream",
     "text": [
      "/Library/Frameworks/Python.framework/Versions/3.7/lib/python3.7/site-packages/IPython/core/interactiveshell.py:3338: DtypeWarning: Columns (17,18,19,20,21,22) have mixed types.Specify dtype option on import or set low_memory=False.\n",
      "  if (await self.run_code(code, result,  async_=asy)):\n"
     ]
    },
    {
     "name": "stdout",
     "output_type": "stream",
     "text": [
      "Round 47, winrate: 1.0, max_step: 355, reward: 1.0281999999999998, example: {'ranks': [{'rank': 1, 'agentID': 1}, {'rank': 2, 'agentID': 0}], 'replayFile': 'replays/487429255.json'}\n",
      "train loss in 1 epoch in 1 batch: 45.14914\n",
      "val loss in 1 epoch: 38.67229\n",
      "Round 48, winrate: 0.0, max_step: 151, reward: 0.032399999999999894, example: {'ranks': [{'rank': 1, 'agentID': 1}, {'rank': 2, 'agentID': 0}], 'replayFile': 'replays/75120128.json'}\n",
      "train loss in 1 epoch in 1 batch: 79.24583\n",
      "val loss in 1 epoch: 44.12326\n",
      "Round 49, winrate: 0.0, max_step: 231, reward: 0.0063000000000000035, example: {'ranks': [{'rank': 1, 'agentID': 0}, {'rank': 2, 'agentID': 1}], 'replayFile': 'replays/218890666.json'}\n",
      "train loss in 1 epoch in 1 batch: 449.75928\n",
      "val loss in 1 epoch: 434.57611\n",
      "Round 50, winrate: 0.0, max_step: 156, reward: 0.0032999999999999982, example: {'ranks': [{'rank': 1, 'agentID': 1}, {'rank': 2, 'agentID': 0}], 'replayFile': 'replays/554800608.json'}\n",
      "train loss in 1 epoch in 1 batch: 95.48973\n",
      "val loss in 1 epoch: 50.24888\n",
      "Round 51, winrate: 0.0, max_step: 195, reward: 0.01239999999999998, example: {'ranks': [{'rank': 1, 'agentID': 0}, {'rank': 2, 'agentID': 1}], 'replayFile': 'replays/754760702.json'}\n",
      "train loss in 1 epoch in 1 batch: 509.66388\n",
      "val loss in 1 epoch: 469.15546\n"
     ]
    },
    {
     "name": "stderr",
     "output_type": "stream",
     "text": [
      "/Library/Frameworks/Python.framework/Versions/3.7/lib/python3.7/site-packages/IPython/core/interactiveshell.py:3338: DtypeWarning: Columns (17,18,19,20,21,22) have mixed types.Specify dtype option on import or set low_memory=False.\n",
      "  if (await self.run_code(code, result,  async_=asy)):\n"
     ]
    },
    {
     "name": "stdout",
     "output_type": "stream",
     "text": [
      "Round 52, winrate: 0.0, max_step: 199, reward: 0.013399999999999974, example: {'ranks': [{'rank': 1, 'agentID': 1}, {'rank': 2, 'agentID': 0}], 'replayFile': 'replays/314006517.json'}\n",
      "train loss in 1 epoch in 1 batch: 506.74277\n",
      "val loss in 1 epoch: 451.53254\n",
      "Round 53, winrate: 0.0, max_step: 313, reward: 0.019499999999999938, example: {'ranks': [{'rank': 1, 'agentID': 0}, {'rank': 2, 'agentID': 1}], 'replayFile': 'replays/415161881.json'}\n",
      "train loss in 1 epoch in 1 batch: 466.05130\n",
      "val loss in 1 epoch: 428.97362\n",
      "Round 54, winrate: 0.0, max_step: 359, reward: 0.005400000000000001, example: {'ranks': [{'rank': 1, 'agentID': 1}, {'rank': 2, 'agentID': 0}], 'replayFile': 'replays/730930287.json'}\n",
      "train loss in 1 epoch in 1 batch: 407.63181\n",
      "val loss in 1 epoch: 369.73022\n",
      "Round 55, winrate: 0.0, max_step: 150, reward: 0.014699999999999967, example: {'ranks': [{'rank': 1, 'agentID': 0}, {'rank': 2, 'agentID': 1}], 'replayFile': 'replays/399897037.json'}\n",
      "train loss in 1 epoch in 1 batch: 61.94162\n",
      "val loss in 1 epoch: 78.29867\n",
      "Round 56, winrate: 0.0, max_step: 151, reward: 0.04009999999999997, example: {'ranks': [{'rank': 1, 'agentID': 1}, {'rank': 2, 'agentID': 0}], 'replayFile': 'replays/412060132.json'}\n",
      "train loss in 1 epoch in 1 batch: 49.07672\n",
      "val loss in 1 epoch: 55.92519\n",
      "Round 57, winrate: 0.0, max_step: 315, reward: 0.08980000000000052, example: {'ranks': [{'rank': 1, 'agentID': 0}, {'rank': 2, 'agentID': 1}], 'replayFile': 'replays/375163855.json'}\n",
      "train loss in 1 epoch in 1 batch: 64.27416\n",
      "val loss in 1 epoch: 40.86815\n",
      "Round 58, winrate: 0.0, max_step: 150, reward: 0.011099999999999988, example: {'ranks': [{'rank': 1, 'agentID': 1}, {'rank': 2, 'agentID': 0}], 'replayFile': 'replays/494374691.json'}\n",
      "train loss in 1 epoch in 1 batch: 481.55865\n",
      "val loss in 1 epoch: 425.95439\n",
      "Round 59, winrate: 0.0, max_step: 190, reward: 0.014799999999999966, example: {'ranks': [{'rank': 1, 'agentID': 0}, {'rank': 2, 'agentID': 1}], 'replayFile': 'replays/747475121.json'}\n",
      "train loss in 1 epoch in 1 batch: 407.47681\n",
      "val loss in 1 epoch: 367.49957\n",
      "Round 60, winrate: 0.0, max_step: 74, reward: 0.0026999999999999993, example: {'ranks': [{'rank': 1, 'agentID': 1}, {'rank': 2, 'agentID': 0}], 'replayFile': 'replays/218499277.json'}\n",
      "train loss in 1 epoch in 1 batch: 371.95447\n",
      "val loss in 1 epoch: 341.13882\n",
      "Round 61, winrate: 0.0, max_step: 114, reward: 0.044599999999999876, example: {'ranks': [{'rank': 1, 'agentID': 0}, {'rank': 2, 'agentID': 1}], 'replayFile': 'replays/319843939.json'}\n",
      "train loss in 1 epoch in 1 batch: 76.12639\n",
      "val loss in 1 epoch: 71.41752\n"
     ]
    },
    {
     "name": "stderr",
     "output_type": "stream",
     "text": [
      "/Library/Frameworks/Python.framework/Versions/3.7/lib/python3.7/site-packages/IPython/core/interactiveshell.py:3338: DtypeWarning: Columns (26,27,28) have mixed types.Specify dtype option on import or set low_memory=False.\n",
      "  if (await self.run_code(code, result,  async_=asy)):\n"
     ]
    },
    {
     "name": "stdout",
     "output_type": "stream",
     "text": [
      "Round 62, winrate: 0.0, max_step: 275, reward: 0.008400000000000005, example: {'ranks': [{'rank': 1, 'agentID': 1}, {'rank': 2, 'agentID': 0}], 'replayFile': 'replays/144975378.json'}\n",
      "train loss in 1 epoch in 1 batch: 379.42545\n",
      "val loss in 1 epoch: 348.50168\n"
     ]
    },
    {
     "name": "stderr",
     "output_type": "stream",
     "text": [
      "/Library/Frameworks/Python.framework/Versions/3.7/lib/python3.7/site-packages/IPython/core/interactiveshell.py:3338: DtypeWarning: Columns (26,27,28) have mixed types.Specify dtype option on import or set low_memory=False.\n",
      "  if (await self.run_code(code, result,  async_=asy)):\n"
     ]
    },
    {
     "name": "stdout",
     "output_type": "stream",
     "text": [
      "Round 63, winrate: 0.0, max_step: 114, reward: 0.021499999999999922, example: {'ranks': [{'rank': 1, 'agentID': 0}, {'rank': 2, 'agentID': 1}], 'replayFile': 'replays/231674924.json'}\n",
      "train loss in 1 epoch in 1 batch: 334.49719\n",
      "val loss in 1 epoch: 347.06238\n",
      "Round 64, winrate: 0.0, max_step: 152, reward: 0.12719999999999967, example: {'ranks': [{'rank': 1, 'agentID': 1}, {'rank': 2, 'agentID': 0}], 'replayFile': 'replays/554473924.json'}\n",
      "train loss in 1 epoch in 1 batch: 68.55685\n",
      "val loss in 1 epoch: 63.39416\n",
      "Round 65, winrate: 0.0, max_step: 270, reward: 0.020199999999999933, example: {'ranks': [{'rank': 1, 'agentID': 0}, {'rank': 2, 'agentID': 1}], 'replayFile': 'replays/939073326.json'}\n",
      "train loss in 1 epoch in 1 batch: 331.26529\n",
      "val loss in 1 epoch: 297.98415\n",
      "Round 66, winrate: 0.0, max_step: 312, reward: 0.02739999999999989, example: {'ranks': [{'rank': 1, 'agentID': 1}, {'rank': 2, 'agentID': 0}], 'replayFile': 'replays/662660116.json'}\n",
      "train loss in 1 epoch in 1 batch: 293.85175\n",
      "val loss in 1 epoch: 262.06601\n",
      "Round 67, winrate: 0.0, max_step: 229, reward: 0.017999999999999947, example: {'ranks': [{'rank': 1, 'agentID': 0}, {'rank': 2, 'agentID': 1}], 'replayFile': 'replays/196930371.json'}\n",
      "train loss in 1 epoch in 1 batch: 280.21381\n",
      "val loss in 1 epoch: 239.62857\n",
      "Round 68, winrate: 0.0, max_step: 350, reward: 0.09050000000000048, example: {'ranks': [{'rank': 1, 'agentID': 1}, {'rank': 2, 'agentID': 0}], 'replayFile': 'replays/40250175.json'}\n",
      "train loss in 1 epoch in 1 batch: 73.33735\n",
      "val loss in 1 epoch: 70.17703\n",
      "Round 69, winrate: 0.0, max_step: 359, reward: 0.3917999999999983, example: {'ranks': [{'rank': 1, 'agentID': 0}, {'rank': 2, 'agentID': 1}], 'replayFile': 'replays/198638646.json'}\n",
      "train loss in 1 epoch in 1 batch: 67.62370\n",
      "val loss in 1 epoch: 56.66150\n",
      "train loss in 1 epoch in 2 batch: 58.36625\n",
      "val loss in 1 epoch: 53.44896\n",
      "Round 70, winrate: 0.0, max_step: 191, reward: 0.055899999999999776, example: {'ranks': [{'rank': 1, 'agentID': 1}, {'rank': 2, 'agentID': 0}], 'replayFile': 'replays/762273102.json'}\n",
      "train loss in 1 epoch in 1 batch: 63.46033\n",
      "val loss in 1 epoch: 39.57142\n",
      "Round 71, winrate: 0.0, max_step: 356, reward: 0.028699999999999882, example: {'ranks': [{'rank': 1, 'agentID': 0}, {'rank': 2, 'agentID': 1}], 'replayFile': 'replays/797039723.json'}\n",
      "train loss in 1 epoch in 1 batch: 286.87704\n",
      "val loss in 1 epoch: 265.11002\n"
     ]
    },
    {
     "name": "stderr",
     "output_type": "stream",
     "text": [
      "/Library/Frameworks/Python.framework/Versions/3.7/lib/python3.7/site-packages/IPython/core/interactiveshell.py:3338: DtypeWarning: Columns (9,10,11,12,13,14) have mixed types.Specify dtype option on import or set low_memory=False.\n",
      "  if (await self.run_code(code, result,  async_=asy)):\n"
     ]
    },
    {
     "name": "stdout",
     "output_type": "stream",
     "text": [
      "Round 72, winrate: 0.0, max_step: 359, reward: 0.0886999999999996, example: {'ranks': [{'rank': 1, 'agentID': 1}, {'rank': 2, 'agentID': 0}], 'replayFile': 'replays/458437080.json'}\n",
      "train loss in 1 epoch in 1 batch: 91.83481\n",
      "val loss in 1 epoch: 86.11523\n"
     ]
    },
    {
     "name": "stderr",
     "output_type": "stream",
     "text": [
      "/Library/Frameworks/Python.framework/Versions/3.7/lib/python3.7/site-packages/IPython/core/interactiveshell.py:3338: DtypeWarning: Columns (26,27,28) have mixed types.Specify dtype option on import or set low_memory=False.\n",
      "  if (await self.run_code(code, result,  async_=asy)):\n"
     ]
    },
    {
     "name": "stdout",
     "output_type": "stream",
     "text": [
      "Round 73, winrate: 0.0, max_step: 359, reward: 0.03509999999999998, example: {'ranks': [{'rank': 1, 'agentID': 0}, {'rank': 2, 'agentID': 1}], 'replayFile': 'replays/612848534.json'}\n",
      "train loss in 1 epoch in 1 batch: 53.03247\n",
      "val loss in 1 epoch: 32.32279\n"
     ]
    },
    {
     "name": "stderr",
     "output_type": "stream",
     "text": [
      "/Library/Frameworks/Python.framework/Versions/3.7/lib/python3.7/site-packages/IPython/core/interactiveshell.py:3338: DtypeWarning: Columns (9,10,11,12,13,14) have mixed types.Specify dtype option on import or set low_memory=False.\n",
      "  if (await self.run_code(code, result,  async_=asy)):\n"
     ]
    },
    {
     "name": "stdout",
     "output_type": "stream",
     "text": [
      "Round 74, winrate: 0.0, max_step: 359, reward: 0.2472000000000016, example: {'ranks': [{'rank': 1, 'agentID': 1}, {'rank': 2, 'agentID': 0}], 'replayFile': 'replays/868452254.json'}\n",
      "train loss in 1 epoch in 1 batch: 63.84532\n",
      "val loss in 1 epoch: 33.92993\n",
      "train loss in 1 epoch in 2 batch: 35.42611\n",
      "val loss in 1 epoch: 32.04917\n",
      "Round 75, winrate: 0.0, max_step: 191, reward: 0.0016000000000000005, example: {'ranks': [{'rank': 1, 'agentID': 0}, {'rank': 2, 'agentID': 1}], 'replayFile': 'replays/296095992.json'}\n",
      "train loss in 1 epoch in 1 batch: 319.39938\n",
      "val loss in 1 epoch: 319.85744\n",
      "Round 76, winrate: 1.0, max_step: 350, reward: 2.1187000000000014, example: {'ranks': [{'rank': 1, 'agentID': 0}, {'rank': 2, 'agentID': 1}], 'replayFile': 'replays/261261985.json'}\n",
      "train loss in 1 epoch in 1 batch: 35.75071\n",
      "val loss in 1 epoch: 42.33874\n",
      "Round 77, winrate: 0.0, max_step: 350, reward: 0.028199999999999885, example: {'ranks': [{'rank': 1, 'agentID': 0}, {'rank': 2, 'agentID': 1}], 'replayFile': 'replays/726317783.json'}\n",
      "train loss in 1 epoch in 1 batch: 46.54197\n",
      "val loss in 1 epoch: 45.26922\n",
      "Round 78, winrate: 0.5, max_step: 230, reward: 0.5195, example: {'ranks': [{'rank': 1, 'agentID': 0}, {'rank': 1, 'agentID': 1}], 'replayFile': 'replays/206936773.json'}\n",
      "train loss in 1 epoch in 1 batch: 38.09285\n",
      "val loss in 1 epoch: 48.14648\n",
      "Round 79, winrate: 0.0, max_step: 114, reward: 0.008000000000000007, example: {'ranks': [{'rank': 1, 'agentID': 0}, {'rank': 2, 'agentID': 1}], 'replayFile': 'replays/2869591.json'}\n",
      "train loss in 1 epoch in 1 batch: 404.13214\n",
      "val loss in 1 epoch: 373.36406\n",
      "Round 80, winrate: 0.0, max_step: 155, reward: 0.011799999999999984, example: {'ranks': [{'rank': 1, 'agentID': 1}, {'rank': 2, 'agentID': 0}], 'replayFile': 'replays/94127279.json'}\n",
      "train loss in 1 epoch in 1 batch: 374.07812\n",
      "val loss in 1 epoch: 324.53613\n",
      "Round 81, winrate: 0.0, max_step: 358, reward: 0.02049999999999993, example: {'ranks': [{'rank': 1, 'agentID': 0}, {'rank': 2, 'agentID': 1}], 'replayFile': 'replays/452771651.json'}\n",
      "train loss in 1 epoch in 1 batch: 341.16769\n",
      "val loss in 1 epoch: 308.93150\n",
      "Round 82, winrate: 0.0, max_step: 351, reward: 1.0745999999999811, example: {'ranks': [{'rank': 1, 'agentID': 1}, {'rank': 2, 'agentID': 0}], 'replayFile': 'replays/108343427.json'}\n",
      "train loss in 1 epoch in 1 batch: 37.26831\n",
      "val loss in 1 epoch: 30.47125\n",
      "train loss in 1 epoch in 2 batch: 32.09306\n",
      "val loss in 1 epoch: 28.06209\n",
      "train loss in 1 epoch in 3 batch: 45.87421\n",
      "val loss in 1 epoch: 27.37575\n",
      "Round 83, winrate: 0.0, max_step: 198, reward: 0.15690000000000026, example: {'ranks': [{'rank': 1, 'agentID': 0}, {'rank': 2, 'agentID': 1}], 'replayFile': 'replays/30246994.json'}\n",
      "train loss in 1 epoch in 1 batch: 43.55400\n",
      "val loss in 1 epoch: 45.24619\n"
     ]
    },
    {
     "name": "stderr",
     "output_type": "stream",
     "text": [
      "/Library/Frameworks/Python.framework/Versions/3.7/lib/python3.7/site-packages/IPython/core/interactiveshell.py:3338: DtypeWarning: Columns (26,27,28) have mixed types.Specify dtype option on import or set low_memory=False.\n",
      "  if (await self.run_code(code, result,  async_=asy)):\n"
     ]
    },
    {
     "name": "stdout",
     "output_type": "stream",
     "text": [
      "Round 84, winrate: 0.0, max_step: 189, reward: 0.014499999999999968, example: {'ranks': [{'rank': 1, 'agentID': 1}, {'rank': 2, 'agentID': 0}], 'replayFile': 'replays/197744554.json'}\n",
      "train loss in 1 epoch in 1 batch: 321.31219\n",
      "val loss in 1 epoch: 347.44617\n",
      "Round 85, winrate: 0.0, max_step: 312, reward: 0.029599999999999876, example: {'ranks': [{'rank': 1, 'agentID': 0}, {'rank': 2, 'agentID': 1}], 'replayFile': 'replays/517001578.json'}\n",
      "train loss in 1 epoch in 1 batch: 356.40427\n",
      "val loss in 1 epoch: 319.43919\n",
      "Round 86, winrate: 0.0, max_step: 155, reward: 0.011499999999999986, example: {'ranks': [{'rank': 1, 'agentID': 1}, {'rank': 2, 'agentID': 0}], 'replayFile': 'replays/870190228.json'}\n",
      "train loss in 1 epoch in 1 batch: 354.87836\n",
      "val loss in 1 epoch: 304.60735\n"
     ]
    },
    {
     "name": "stderr",
     "output_type": "stream",
     "text": [
      "/Library/Frameworks/Python.framework/Versions/3.7/lib/python3.7/site-packages/IPython/core/interactiveshell.py:3338: DtypeWarning: Columns (26,27,28) have mixed types.Specify dtype option on import or set low_memory=False.\n",
      "  if (await self.run_code(code, result,  async_=asy)):\n"
     ]
    },
    {
     "name": "stdout",
     "output_type": "stream",
     "text": [
      "Round 87, winrate: 0.0, max_step: 359, reward: 0.08810000000000044, example: {'ranks': [{'rank': 1, 'agentID': 0}, {'rank': 2, 'agentID': 1}], 'replayFile': 'replays/671149542.json'}\n",
      "train loss in 1 epoch in 1 batch: 310.32373\n",
      "val loss in 1 epoch: 272.61209\n"
     ]
    },
    {
     "name": "stderr",
     "output_type": "stream",
     "text": [
      "/Library/Frameworks/Python.framework/Versions/3.7/lib/python3.7/site-packages/IPython/core/interactiveshell.py:3338: DtypeWarning: Columns (26,27,28) have mixed types.Specify dtype option on import or set low_memory=False.\n",
      "  if (await self.run_code(code, result,  async_=asy)):\n"
     ]
    },
    {
     "name": "stdout",
     "output_type": "stream",
     "text": [
      "Round 88, winrate: 0.0, max_step: 358, reward: 0.026199999999999897, example: {'ranks': [{'rank': 1, 'agentID': 1}, {'rank': 2, 'agentID': 0}], 'replayFile': 'replays/633726936.json'}\n",
      "train loss in 1 epoch in 1 batch: 281.87949\n",
      "val loss in 1 epoch: 267.91309\n",
      "Round 89, winrate: 0.0, max_step: 189, reward: 0.0017000000000000006, example: {'ranks': [{'rank': 1, 'agentID': 0}, {'rank': 2, 'agentID': 1}], 'replayFile': 'replays/591978782.json'}\n",
      "train loss in 1 epoch in 1 batch: 288.68295\n",
      "val loss in 1 epoch: 267.91318\n",
      "Round 90, winrate: 0.0, max_step: 359, reward: 0.2784000000000001, example: {'ranks': [{'rank': 1, 'agentID': 1}, {'rank': 2, 'agentID': 0}], 'replayFile': 'replays/657362779.json'}\n",
      "train loss in 1 epoch in 1 batch: 83.94552\n",
      "val loss in 1 epoch: 71.53402\n",
      "train loss in 1 epoch in 2 batch: 72.84979\n",
      "val loss in 1 epoch: 72.09185\n",
      "Round 91, winrate: 0.0, max_step: 239, reward: 0.4616000000000009, example: {'ranks': [{'rank': 1, 'agentID': 0}, {'rank': 2, 'agentID': 1}], 'replayFile': 'replays/863303858.json'}\n",
      "train loss in 1 epoch in 1 batch: 53.38224\n",
      "val loss in 1 epoch: 42.08135\n",
      "train loss in 1 epoch in 2 batch: 59.25155\n",
      "val loss in 1 epoch: 39.13492\n",
      "Round 92, winrate: 0.0, max_step: 238, reward: 0.06249999999999973, example: {'ranks': [{'rank': 1, 'agentID': 1}, {'rank': 2, 'agentID': 0}], 'replayFile': 'replays/583602298.json'}\n",
      "train loss in 1 epoch in 1 batch: 55.88842\n",
      "val loss in 1 epoch: 32.74180\n",
      "Round 93, winrate: 0.0, max_step: 274, reward: 0.08380000000000035, example: {'ranks': [{'rank': 1, 'agentID': 0}, {'rank': 2, 'agentID': 1}], 'replayFile': 'replays/456788389.json'}\n",
      "train loss in 1 epoch in 1 batch: 57.78400\n",
      "val loss in 1 epoch: 30.44053\n",
      "Round 94, winrate: 0.0, max_step: 110, reward: 0.01069999999999999, example: {'ranks': [{'rank': 1, 'agentID': 1}, {'rank': 2, 'agentID': 0}], 'replayFile': 'replays/942254779.json'}\n",
      "train loss in 1 epoch in 1 batch: 20.54525\n",
      "val loss in 1 epoch: 24.49375\n",
      "Round 95, winrate: 0.0, max_step: 270, reward: 0.0035999999999999977, example: {'ranks': [{'rank': 1, 'agentID': 0}, {'rank': 2, 'agentID': 1}], 'replayFile': 'replays/982703510.json'}\n",
      "train loss in 1 epoch in 1 batch: 294.58438\n",
      "val loss in 1 epoch: 276.01540\n",
      "Round 96, winrate: 0.0, max_step: 114, reward: 0.06870000000000025, example: {'ranks': [{'rank': 1, 'agentID': 1}, {'rank': 2, 'agentID': 0}], 'replayFile': 'replays/922073172.json'}\n",
      "train loss in 1 epoch in 1 batch: 33.89803\n",
      "val loss in 1 epoch: 31.12968\n",
      "Round 97, winrate: 0.0, max_step: 198, reward: 0.23629999999999984, example: {'ranks': [{'rank': 1, 'agentID': 0}, {'rank': 2, 'agentID': 1}], 'replayFile': 'replays/373422170.json'}\n",
      "train loss in 1 epoch in 1 batch: 34.45380\n",
      "val loss in 1 epoch: 35.36519\n"
     ]
    },
    {
     "name": "stderr",
     "output_type": "stream",
     "text": [
      "/Library/Frameworks/Python.framework/Versions/3.7/lib/python3.7/site-packages/IPython/core/interactiveshell.py:3338: DtypeWarning: Columns (9,10,11,12,13,14) have mixed types.Specify dtype option on import or set low_memory=False.\n",
      "  if (await self.run_code(code, result,  async_=asy)):\n"
     ]
    },
    {
     "name": "stdout",
     "output_type": "stream",
     "text": [
      "Round 98, winrate: 0.0, max_step: 359, reward: 0.12539999999999893, example: {'ranks': [{'rank': 1, 'agentID': 1}, {'rank': 2, 'agentID': 0}], 'replayFile': 'replays/997580250.json'}\n",
      "train loss in 1 epoch in 1 batch: 37.56306\n",
      "val loss in 1 epoch: 29.50850\n",
      "train loss in 1 epoch in 2 batch: 9.52085\n",
      "val loss in 1 epoch: 28.46802\n",
      "Round 99, winrate: 0.0, max_step: 359, reward: 0.7094000000000018, example: {'ranks': [{'rank': 1, 'agentID': 0}, {'rank': 2, 'agentID': 1}], 'replayFile': 'replays/739930753.json'}\n",
      "train loss in 1 epoch in 1 batch: 32.68301\n",
      "val loss in 1 epoch: 28.84313\n",
      "train loss in 1 epoch in 2 batch: 15.54413\n",
      "val loss in 1 epoch: 28.34348\n",
      "Round 100, winrate: 0.0, max_step: 230, reward: 0.015299999999999963, example: {'ranks': [{'rank': 1, 'agentID': 1}, {'rank': 2, 'agentID': 0}], 'replayFile': 'replays/186422792.json'}\n",
      "train loss in 1 epoch in 1 batch: 366.83868\n",
      "val loss in 1 epoch: 331.30687\n"
     ]
    },
    {
     "name": "stderr",
     "output_type": "stream",
     "text": [
      "/Library/Frameworks/Python.framework/Versions/3.7/lib/python3.7/site-packages/IPython/core/interactiveshell.py:3338: DtypeWarning: Columns (9,10,11,12,13,14) have mixed types.Specify dtype option on import or set low_memory=False.\n",
      "  if (await self.run_code(code, result,  async_=asy)):\n"
     ]
    },
    {
     "name": "stdout",
     "output_type": "stream",
     "text": [
      "Round 101, winrate: 0.0, max_step: 359, reward: 0.536299999999993, example: {'ranks': [{'rank': 1, 'agentID': 0}, {'rank': 2, 'agentID': 1}], 'replayFile': 'replays/70431583.json'}\n",
      "train loss in 1 epoch in 1 batch: 27.51153\n",
      "val loss in 1 epoch: 30.46040\n",
      "train loss in 1 epoch in 2 batch: 21.59778\n",
      "val loss in 1 epoch: 29.82834\n",
      "Round 102, winrate: 0.0, max_step: 150, reward: 0.014499999999999968, example: {'ranks': [{'rank': 1, 'agentID': 1}, {'rank': 2, 'agentID': 0}], 'replayFile': 'replays/419539200.json'}\n",
      "train loss in 1 epoch in 1 batch: 13.07081\n",
      "val loss in 1 epoch: 44.17689\n",
      "Round 103, winrate: 0.0, max_step: 198, reward: 0.008200000000000006, example: {'ranks': [{'rank': 1, 'agentID': 0}, {'rank': 2, 'agentID': 1}], 'replayFile': 'replays/782161671.json'}\n",
      "train loss in 1 epoch in 1 batch: 459.66873\n",
      "val loss in 1 epoch: 366.69472\n",
      "Round 104, winrate: 0.0, max_step: 235, reward: 0.01739999999999995, example: {'ranks': [{'rank': 1, 'agentID': 1}, {'rank': 2, 'agentID': 0}], 'replayFile': 'replays/635314245.json'}\n",
      "train loss in 1 epoch in 1 batch: 371.64801\n",
      "val loss in 1 epoch: 342.21762\n"
     ]
    },
    {
     "name": "stderr",
     "output_type": "stream",
     "text": [
      "/Library/Frameworks/Python.framework/Versions/3.7/lib/python3.7/site-packages/IPython/core/interactiveshell.py:3338: DtypeWarning: Columns (9,10,11,12,13,14,26,27,28) have mixed types.Specify dtype option on import or set low_memory=False.\n",
      "  if (await self.run_code(code, result,  async_=asy)):\n"
     ]
    },
    {
     "name": "stdout",
     "output_type": "stream",
     "text": [
      "Round 105, winrate: 0.0, max_step: 350, reward: 0.06730000000000079, example: {'ranks': [{'rank': 1, 'agentID': 0}, {'rank': 2, 'agentID': 1}], 'replayFile': 'replays/359660224.json'}\n",
      "train loss in 1 epoch in 1 batch: 350.21738\n",
      "val loss in 1 epoch: 343.09093\n",
      "Round 106, winrate: 0.0, max_step: 113, reward: 0.03599999999999989, example: {'ranks': [{'rank': 1, 'agentID': 1}, {'rank': 2, 'agentID': 0}], 'replayFile': 'replays/36785518.json'}\n",
      "train loss in 1 epoch in 1 batch: 24.14100\n",
      "val loss in 1 epoch: 18.77297\n",
      "Round 107, winrate: 0.0, max_step: 109, reward: 0.005500000000000001, example: {'ranks': [{'rank': 1, 'agentID': 0}, {'rank': 2, 'agentID': 1}], 'replayFile': 'replays/698812478.json'}\n",
      "train loss in 1 epoch in 1 batch: 306.73184\n",
      "val loss in 1 epoch: 364.72993\n",
      "Round 108, winrate: 0.0, max_step: 269, reward: 0.04140000000000015, example: {'ranks': [{'rank': 1, 'agentID': 1}, {'rank': 2, 'agentID': 0}], 'replayFile': 'replays/675248919.json'}\n",
      "train loss in 1 epoch in 1 batch: 333.95782\n",
      "val loss in 1 epoch: 326.73390\n",
      "Round 109, winrate: 0.0, max_step: 159, reward: 0.009699999999999997, example: {'ranks': [{'rank': 1, 'agentID': 0}, {'rank': 2, 'agentID': 1}], 'replayFile': 'replays/478719238.json'}\n",
      "train loss in 1 epoch in 1 batch: 333.21344\n",
      "val loss in 1 epoch: 297.28589\n",
      "Round 110, winrate: 0.0, max_step: 310, reward: 0.2031999999999977, example: {'ranks': [{'rank': 1, 'agentID': 1}, {'rank': 2, 'agentID': 0}], 'replayFile': 'replays/498468992.json'}\n",
      "train loss in 1 epoch in 1 batch: 20.68757\n",
      "val loss in 1 epoch: 17.67362\n",
      "train loss in 1 epoch in 2 batch: 7.23976\n",
      "val loss in 1 epoch: 16.73733\n"
     ]
    },
    {
     "name": "stderr",
     "output_type": "stream",
     "text": [
      "/Library/Frameworks/Python.framework/Versions/3.7/lib/python3.7/site-packages/IPython/core/interactiveshell.py:3338: DtypeWarning: Columns (9,10,11,12,13,14) have mixed types.Specify dtype option on import or set low_memory=False.\n",
      "  if (await self.run_code(code, result,  async_=asy)):\n"
     ]
    },
    {
     "name": "stdout",
     "output_type": "stream",
     "text": [
      "Round 111, winrate: 0.0, max_step: 234, reward: 0.01569999999999996, example: {'ranks': [{'rank': 1, 'agentID': 0}, {'rank': 2, 'agentID': 1}], 'replayFile': 'replays/481767252.json'}\n",
      "train loss in 1 epoch in 1 batch: 319.98761\n",
      "val loss in 1 epoch: 298.38822\n",
      "Round 112, winrate: 0.0, max_step: 275, reward: 0.17210000000000059, example: {'ranks': [{'rank': 1, 'agentID': 1}, {'rank': 2, 'agentID': 0}], 'replayFile': 'replays/537116260.json'}\n",
      "train loss in 1 epoch in 1 batch: 231.50226\n",
      "val loss in 1 epoch: 196.45670\n"
     ]
    },
    {
     "name": "stderr",
     "output_type": "stream",
     "text": [
      "/Library/Frameworks/Python.framework/Versions/3.7/lib/python3.7/site-packages/IPython/core/interactiveshell.py:3338: DtypeWarning: Columns (26,27,28) have mixed types.Specify dtype option on import or set low_memory=False.\n",
      "  if (await self.run_code(code, result,  async_=asy)):\n"
     ]
    },
    {
     "name": "stdout",
     "output_type": "stream",
     "text": [
      "Round 113, winrate: 0.0, max_step: 355, reward: 0.009000000000000001, example: {'ranks': [{'rank': 1, 'agentID': 0}, {'rank': 2, 'agentID': 1}], 'replayFile': 'replays/438024357.json'}\n",
      "train loss in 1 epoch in 1 batch: 299.90976\n",
      "val loss in 1 epoch: 272.34822\n",
      "Round 114, winrate: 0.0, max_step: 359, reward: 0.24890000000000279, example: {'ranks': [{'rank': 1, 'agentID': 1}, {'rank': 2, 'agentID': 0}], 'replayFile': 'replays/651254346.json'}\n",
      "train loss in 1 epoch in 1 batch: 38.34096\n",
      "val loss in 1 epoch: 27.74250\n",
      "train loss in 1 epoch in 2 batch: 8.26871\n",
      "val loss in 1 epoch: 27.02403\n",
      "Round 115, winrate: 0.0, max_step: 316, reward: 0.02059999999999993, example: {'ranks': [{'rank': 1, 'agentID': 0}, {'rank': 2, 'agentID': 1}], 'replayFile': 'replays/842210066.json'}\n",
      "train loss in 1 epoch in 1 batch: 279.13516\n",
      "val loss in 1 epoch: 254.54746\n"
     ]
    },
    {
     "name": "stderr",
     "output_type": "stream",
     "text": [
      "/Library/Frameworks/Python.framework/Versions/3.7/lib/python3.7/site-packages/IPython/core/interactiveshell.py:3338: DtypeWarning: Columns (9,10,11,12,13,14,17,18,19,20,21,22) have mixed types.Specify dtype option on import or set low_memory=False.\n",
      "  if (await self.run_code(code, result,  async_=asy)):\n"
     ]
    },
    {
     "name": "stdout",
     "output_type": "stream",
     "text": [
      "Round 116, winrate: 0.0, max_step: 359, reward: 0.08290000000000051, example: {'ranks': [{'rank': 1, 'agentID': 1}, {'rank': 2, 'agentID': 0}], 'replayFile': 'replays/537595189.json'}\n",
      "train loss in 1 epoch in 1 batch: 24.83594\n",
      "val loss in 1 epoch: 28.77865\n"
     ]
    },
    {
     "name": "stderr",
     "output_type": "stream",
     "text": [
      "/Library/Frameworks/Python.framework/Versions/3.7/lib/python3.7/site-packages/IPython/core/interactiveshell.py:3338: DtypeWarning: Columns (26,27,28) have mixed types.Specify dtype option on import or set low_memory=False.\n",
      "  if (await self.run_code(code, result,  async_=asy)):\n"
     ]
    },
    {
     "name": "stdout",
     "output_type": "stream",
     "text": [
      "Round 117, winrate: 0.0, max_step: 359, reward: 0.023099999999999916, example: {'ranks': [{'rank': 1, 'agentID': 0}, {'rank': 2, 'agentID': 1}], 'replayFile': 'replays/865054190.json'}\n",
      "train loss in 1 epoch in 1 batch: 263.84583\n",
      "val loss in 1 epoch: 244.65430\n"
     ]
    },
    {
     "name": "stderr",
     "output_type": "stream",
     "text": [
      "/Library/Frameworks/Python.framework/Versions/3.7/lib/python3.7/site-packages/IPython/core/interactiveshell.py:3338: DtypeWarning: Columns (9,10,11,12,13,14) have mixed types.Specify dtype option on import or set low_memory=False.\n",
      "  if (await self.run_code(code, result,  async_=asy)):\n"
     ]
    },
    {
     "name": "stdout",
     "output_type": "stream",
     "text": [
      "Round 118, winrate: 0.0, max_step: 230, reward: 0.03739999999999986, example: {'ranks': [{'rank': 1, 'agentID': 1}, {'rank': 2, 'agentID': 0}], 'replayFile': 'replays/827432192.json'}\n",
      "train loss in 1 epoch in 1 batch: 36.35129\n",
      "val loss in 1 epoch: 18.85181\n"
     ]
    },
    {
     "name": "stderr",
     "output_type": "stream",
     "text": [
      "/Library/Frameworks/Python.framework/Versions/3.7/lib/python3.7/site-packages/IPython/core/interactiveshell.py:3338: DtypeWarning: Columns (17,18,19,20,21,22) have mixed types.Specify dtype option on import or set low_memory=False.\n",
      "  if (await self.run_code(code, result,  async_=asy)):\n"
     ]
    },
    {
     "name": "stdout",
     "output_type": "stream",
     "text": [
      "Round 119, winrate: 0.0, max_step: 271, reward: 0.3794000000000002, example: {'ranks': [{'rank': 1, 'agentID': 0}, {'rank': 2, 'agentID': 1}], 'replayFile': 'replays/420235714.json'}\n",
      "train loss in 1 epoch in 1 batch: 25.76330\n",
      "val loss in 1 epoch: 21.89825\n",
      "train loss in 1 epoch in 2 batch: 21.24514\n",
      "val loss in 1 epoch: 21.98521\n",
      "Round 120, winrate: 0.0, max_step: 359, reward: 0.030999999999999868, example: {'ranks': [{'rank': 1, 'agentID': 1}, {'rank': 2, 'agentID': 0}], 'replayFile': 'replays/764313255.json'}\n",
      "train loss in 1 epoch in 1 batch: 286.32858\n",
      "val loss in 1 epoch: 253.67193\n",
      "Round 121, winrate: 0.0, max_step: 235, reward: 0.011699999999999985, example: {'ranks': [{'rank': 1, 'agentID': 0}, {'rank': 2, 'agentID': 1}], 'replayFile': 'replays/478162242.json'}\n",
      "train loss in 1 epoch in 1 batch: 312.98087\n",
      "val loss in 1 epoch: 255.29223\n"
     ]
    },
    {
     "name": "stderr",
     "output_type": "stream",
     "text": [
      "/Library/Frameworks/Python.framework/Versions/3.7/lib/python3.7/site-packages/IPython/core/interactiveshell.py:3338: DtypeWarning: Columns (9,10,11,12,13,14) have mixed types.Specify dtype option on import or set low_memory=False.\n",
      "  if (await self.run_code(code, result,  async_=asy)):\n"
     ]
    },
    {
     "name": "stdout",
     "output_type": "stream",
     "text": [
      "Round 122, winrate: 0.0, max_step: 316, reward: 0.23039999999999788, example: {'ranks': [{'rank': 1, 'agentID': 1}, {'rank': 2, 'agentID': 0}], 'replayFile': 'replays/674274799.json'}\n",
      "train loss in 1 epoch in 1 batch: 25.37051\n",
      "val loss in 1 epoch: 25.96754\n",
      "train loss in 1 epoch in 2 batch: 47.88850\n",
      "val loss in 1 epoch: 25.59143\n"
     ]
    },
    {
     "name": "stderr",
     "output_type": "stream",
     "text": [
      "/Library/Frameworks/Python.framework/Versions/3.7/lib/python3.7/site-packages/IPython/core/interactiveshell.py:3338: DtypeWarning: Columns (17,18,19,20,21,22) have mixed types.Specify dtype option on import or set low_memory=False.\n",
      "  if (await self.run_code(code, result,  async_=asy)):\n"
     ]
    },
    {
     "name": "stdout",
     "output_type": "stream",
     "text": [
      "Round 123, winrate: 0.0, max_step: 359, reward: 0.02239999999999992, example: {'ranks': [{'rank': 1, 'agentID': 0}, {'rank': 2, 'agentID': 1}], 'replayFile': 'replays/843828734.json'}\n",
      "train loss in 1 epoch in 1 batch: 251.07074\n",
      "val loss in 1 epoch: 236.20892\n",
      "Round 124, winrate: 0.0, max_step: 110, reward: 0.0020000000000000005, example: {'ranks': [{'rank': 1, 'agentID': 1}, {'rank': 2, 'agentID': 0}], 'replayFile': 'replays/455545294.json'}\n",
      "train loss in 1 epoch in 1 batch: 227.45030\n",
      "val loss in 1 epoch: 235.18953\n"
     ]
    },
    {
     "name": "stderr",
     "output_type": "stream",
     "text": [
      "/Library/Frameworks/Python.framework/Versions/3.7/lib/python3.7/site-packages/IPython/core/interactiveshell.py:3338: DtypeWarning: Columns (26,27,28) have mixed types.Specify dtype option on import or set low_memory=False.\n",
      "  if (await self.run_code(code, result,  async_=asy)):\n"
     ]
    },
    {
     "name": "stdout",
     "output_type": "stream",
     "text": [
      "Round 125, winrate: 0.0, max_step: 359, reward: 0.026699999999999894, example: {'ranks': [{'rank': 1, 'agentID': 0}, {'rank': 2, 'agentID': 1}], 'replayFile': 'replays/28887997.json'}\n",
      "train loss in 1 epoch in 1 batch: 230.74202\n",
      "val loss in 1 epoch: 216.95523\n",
      "Round 126, winrate: 0.0, max_step: 239, reward: 0.15990000000000065, example: {'ranks': [{'rank': 1, 'agentID': 1}, {'rank': 2, 'agentID': 0}], 'replayFile': 'replays/451710822.json'}\n",
      "train loss in 1 epoch in 1 batch: 39.16140\n",
      "val loss in 1 epoch: 46.94634\n",
      "Round 127, winrate: 0.0, max_step: 111, reward: 0.0030999999999999986, example: {'ranks': [{'rank': 1, 'agentID': 0}, {'rank': 2, 'agentID': 1}], 'replayFile': 'replays/102363337.json'}\n",
      "train loss in 1 epoch in 1 batch: 213.09445\n",
      "val loss in 1 epoch: 201.25038\n",
      "Round 128, winrate: 0.0, max_step: 277, reward: 0.1752999999999982, example: {'ranks': [{'rank': 1, 'agentID': 1}, {'rank': 2, 'agentID': 0}], 'replayFile': 'replays/500952274.json'}\n",
      "train loss in 1 epoch in 1 batch: 22.43816\n",
      "val loss in 1 epoch: 17.88352\n",
      "train loss in 1 epoch in 2 batch: 8.29656\n",
      "val loss in 1 epoch: 17.72552\n",
      "Round 129, winrate: 0.0, max_step: 319, reward: 0.17379999999999815, example: {'ranks': [{'rank': 1, 'agentID': 0}, {'rank': 2, 'agentID': 1}], 'replayFile': 'replays/302931039.json'}\n",
      "train loss in 1 epoch in 1 batch: 23.54250\n",
      "val loss in 1 epoch: 21.69636\n",
      "train loss in 1 epoch in 2 batch: 6.83502\n",
      "val loss in 1 epoch: 21.71531\n",
      "Round 130, winrate: 0.0, max_step: 315, reward: 0.008100000000000007, example: {'ranks': [{'rank': 1, 'agentID': 1}, {'rank': 2, 'agentID': 0}], 'replayFile': 'replays/608297369.json'}\n",
      "train loss in 1 epoch in 1 batch: 272.71417\n",
      "val loss in 1 epoch: 228.94963\n",
      "Round 131, winrate: 0.0, max_step: 270, reward: 0.0256999999999999, example: {'ranks': [{'rank': 1, 'agentID': 0}, {'rank': 2, 'agentID': 1}], 'replayFile': 'replays/644904819.json'}\n",
      "train loss in 1 epoch in 1 batch: 47.30918\n",
      "val loss in 1 epoch: 26.49120\n",
      "Round 132, winrate: 0.0, max_step: 111, reward: 0.008800000000000002, example: {'ranks': [{'rank': 1, 'agentID': 1}, {'rank': 2, 'agentID': 0}], 'replayFile': 'replays/132731233.json'}\n",
      "train loss in 1 epoch in 1 batch: 52.48139\n",
      "val loss in 1 epoch: 14.63921\n",
      "Round 133, winrate: 0.0, max_step: 110, reward: 0.0025999999999999994, example: {'ranks': [{'rank': 1, 'agentID': 0}, {'rank': 2, 'agentID': 1}], 'replayFile': 'replays/728033953.json'}\n",
      "train loss in 1 epoch in 1 batch: 236.19357\n",
      "val loss in 1 epoch: 223.81111\n",
      "Round 134, winrate: 0.0, max_step: 359, reward: 0.11830000000000133, example: {'ranks': [{'rank': 1, 'agentID': 1}, {'rank': 2, 'agentID': 0}], 'replayFile': 'replays/263726563.json'}\n",
      "train loss in 1 epoch in 1 batch: 29.05303\n",
      "val loss in 1 epoch: 15.37119\n",
      "Round 135, winrate: 0.0, max_step: 359, reward: 0.7130000000000025, example: {'ranks': [{'rank': 1, 'agentID': 0}, {'rank': 2, 'agentID': 1}], 'replayFile': 'replays/692902559.json'}\n",
      "train loss in 1 epoch in 1 batch: 22.50597\n",
      "val loss in 1 epoch: 20.62931\n",
      "train loss in 1 epoch in 2 batch: 20.01698\n",
      "val loss in 1 epoch: 20.10654\n",
      "train loss in 1 epoch in 3 batch: 26.81269\n",
      "val loss in 1 epoch: 19.57964\n"
     ]
    },
    {
     "name": "stderr",
     "output_type": "stream",
     "text": [
      "/Library/Frameworks/Python.framework/Versions/3.7/lib/python3.7/site-packages/IPython/core/interactiveshell.py:3338: DtypeWarning: Columns (26,27,28) have mixed types.Specify dtype option on import or set low_memory=False.\n",
      "  if (await self.run_code(code, result,  async_=asy)):\n"
     ]
    },
    {
     "name": "stdout",
     "output_type": "stream",
     "text": [
      "Round 136, winrate: 0.0, max_step: 359, reward: 0.06659999999999983, example: {'ranks': [{'rank': 1, 'agentID': 1}, {'rank': 2, 'agentID': 0}], 'replayFile': 'replays/658057439.json'}\n",
      "train loss in 1 epoch in 1 batch: 246.62772\n",
      "val loss in 1 epoch: 238.32538\n",
      "Round 137, winrate: 0.0, max_step: 236, reward: 0.05469999999999977, example: {'ranks': [{'rank': 1, 'agentID': 0}, {'rank': 2, 'agentID': 1}], 'replayFile': 'replays/832580318.json'}\n",
      "train loss in 1 epoch in 1 batch: 32.00589\n",
      "val loss in 1 epoch: 17.81433\n"
     ]
    },
    {
     "name": "stderr",
     "output_type": "stream",
     "text": [
      "/Library/Frameworks/Python.framework/Versions/3.7/lib/python3.7/site-packages/IPython/core/interactiveshell.py:3338: DtypeWarning: Columns (26,27,28) have mixed types.Specify dtype option on import or set low_memory=False.\n",
      "  if (await self.run_code(code, result,  async_=asy)):\n"
     ]
    },
    {
     "name": "stdout",
     "output_type": "stream",
     "text": [
      "Round 138, winrate: 0.0, max_step: 359, reward: 0.01079999999999999, example: {'ranks': [{'rank': 1, 'agentID': 1}, {'rank': 2, 'agentID': 0}], 'replayFile': 'replays/251585001.json'}\n",
      "train loss in 1 epoch in 1 batch: 242.77171\n",
      "val loss in 1 epoch: 232.67378\n",
      "Round 139, winrate: 0.0, max_step: 310, reward: 0.016599999999999955, example: {'ranks': [{'rank': 1, 'agentID': 0}, {'rank': 2, 'agentID': 1}], 'replayFile': 'replays/802709328.json'}\n",
      "train loss in 1 epoch in 1 batch: 223.03697\n",
      "val loss in 1 epoch: 215.86674\n",
      "Round 140, winrate: 0.0, max_step: 275, reward: 0.0948000000000003, example: {'ranks': [{'rank': 1, 'agentID': 1}, {'rank': 2, 'agentID': 0}], 'replayFile': 'replays/785150630.json'}\n",
      "train loss in 1 epoch in 1 batch: 38.38170\n",
      "val loss in 1 epoch: 15.89114\n",
      "Round 141, winrate: 0.0, max_step: 155, reward: 0.0019000000000000006, example: {'ranks': [{'rank': 1, 'agentID': 0}, {'rank': 2, 'agentID': 1}], 'replayFile': 'replays/718915190.json'}\n",
      "train loss in 1 epoch in 1 batch: 225.52188\n",
      "val loss in 1 epoch: 214.37875\n"
     ]
    },
    {
     "name": "stderr",
     "output_type": "stream",
     "text": [
      "/Library/Frameworks/Python.framework/Versions/3.7/lib/python3.7/site-packages/IPython/core/interactiveshell.py:3338: DtypeWarning: Columns (26,27,28) have mixed types.Specify dtype option on import or set low_memory=False.\n",
      "  if (await self.run_code(code, result,  async_=asy)):\n"
     ]
    },
    {
     "name": "stdout",
     "output_type": "stream",
     "text": [
      "Round 142, winrate: 0.0, max_step: 359, reward: 0.025299999999999902, example: {'ranks': [{'rank': 1, 'agentID': 1}, {'rank': 2, 'agentID': 0}], 'replayFile': 'replays/653099285.json'}\n",
      "train loss in 1 epoch in 1 batch: 214.76292\n",
      "val loss in 1 epoch: 196.79277\n"
     ]
    },
    {
     "name": "stderr",
     "output_type": "stream",
     "text": [
      "/Library/Frameworks/Python.framework/Versions/3.7/lib/python3.7/site-packages/IPython/core/interactiveshell.py:3338: DtypeWarning: Columns (26,27,28) have mixed types.Specify dtype option on import or set low_memory=False.\n",
      "  if (await self.run_code(code, result,  async_=asy)):\n"
     ]
    },
    {
     "name": "stdout",
     "output_type": "stream",
     "text": [
      "Round 143, winrate: 0.0, max_step: 191, reward: 0.05619999999999978, example: {'ranks': [{'rank': 1, 'agentID': 0}, {'rank': 2, 'agentID': 1}], 'replayFile': 'replays/100829337.json'}\n",
      "train loss in 1 epoch in 1 batch: 196.42378\n",
      "val loss in 1 epoch: 192.66084\n",
      "Round 144, winrate: 0.0, max_step: 235, reward: 0.0017000000000000006, example: {'ranks': [{'rank': 1, 'agentID': 1}, {'rank': 2, 'agentID': 0}], 'replayFile': 'replays/400909671.json'}\n",
      "train loss in 1 epoch in 1 batch: 188.10503\n",
      "val loss in 1 epoch: 179.93124\n",
      "Round 145, winrate: 0.0, max_step: 157, reward: 0.0427000000000001, example: {'ranks': [{'rank': 1, 'agentID': 0}, {'rank': 2, 'agentID': 1}], 'replayFile': 'replays/141914101.json'}\n",
      "train loss in 1 epoch in 1 batch: 196.06009\n",
      "val loss in 1 epoch: 181.85143\n",
      "Round 146, winrate: 0.0, max_step: 190, reward: 0.012299999999999981, example: {'ranks': [{'rank': 1, 'agentID': 1}, {'rank': 2, 'agentID': 0}], 'replayFile': 'replays/833375074.json'}\n",
      "train loss in 1 epoch in 1 batch: 186.02553\n",
      "val loss in 1 epoch: 138.99728\n",
      "Round 147, winrate: 0.0, max_step: 359, reward: 0.03509999999999997, example: {'ranks': [{'rank': 1, 'agentID': 0}, {'rank': 2, 'agentID': 1}], 'replayFile': 'replays/501203670.json'}\n",
      "train loss in 1 epoch in 1 batch: 172.01300\n",
      "val loss in 1 epoch: 157.68757\n",
      "Round 148, winrate: 0.0, max_step: 275, reward: 0.15429999999999855, example: {'ranks': [{'rank': 1, 'agentID': 1}, {'rank': 2, 'agentID': 0}], 'replayFile': 'replays/323865683.json'}\n",
      "train loss in 1 epoch in 1 batch: 27.61367\n",
      "val loss in 1 epoch: 19.30007\n",
      "Round 149, winrate: 0.0, max_step: 152, reward: 0.007200000000000006, example: {'ranks': [{'rank': 1, 'agentID': 0}, {'rank': 2, 'agentID': 1}], 'replayFile': 'replays/563961649.json'}\n",
      "train loss in 1 epoch in 1 batch: 164.75185\n",
      "val loss in 1 epoch: 161.69666\n",
      "Round 150, winrate: 0.0, max_step: 190, reward: 0.03670000000000003, example: {'ranks': [{'rank': 1, 'agentID': 1}, {'rank': 2, 'agentID': 0}], 'replayFile': 'replays/681112804.json'}\n",
      "train loss in 1 epoch in 1 batch: 36.65679\n",
      "val loss in 1 epoch: 30.80154\n",
      "Round 151, winrate: 0.0, max_step: 354, reward: 0.6504000000000063, example: {'ranks': [{'rank': 1, 'agentID': 0}, {'rank': 2, 'agentID': 1}], 'replayFile': 'replays/85015960.json'}\n",
      "train loss in 1 epoch in 1 batch: 20.44355\n",
      "val loss in 1 epoch: 22.27469\n",
      "train loss in 1 epoch in 2 batch: 19.63898\n",
      "val loss in 1 epoch: 21.42872\n",
      "train loss in 1 epoch in 3 batch: 10.40126\n",
      "val loss in 1 epoch: 20.61637\n",
      "Round 152, winrate: 0.0, max_step: 270, reward: 0.024599999999999907, example: {'ranks': [{'rank': 1, 'agentID': 1}, {'rank': 2, 'agentID': 0}], 'replayFile': 'replays/853529308.json'}\n",
      "train loss in 1 epoch in 1 batch: 31.73268\n",
      "val loss in 1 epoch: 19.49451\n",
      "Round 153, winrate: 0.0, max_step: 230, reward: 0.01569999999999996, example: {'ranks': [{'rank': 1, 'agentID': 0}, {'rank': 2, 'agentID': 1}], 'replayFile': 'replays/634366047.json'}\n",
      "train loss in 1 epoch in 1 batch: 190.04359\n",
      "val loss in 1 epoch: 172.60437\n"
     ]
    },
    {
     "name": "stderr",
     "output_type": "stream",
     "text": [
      "/Library/Frameworks/Python.framework/Versions/3.7/lib/python3.7/site-packages/IPython/core/interactiveshell.py:3338: DtypeWarning: Columns (9,10,11,12,13,14) have mixed types.Specify dtype option on import or set low_memory=False.\n",
      "  if (await self.run_code(code, result,  async_=asy)):\n"
     ]
    },
    {
     "name": "stdout",
     "output_type": "stream",
     "text": [
      "Round 154, winrate: 0.0, max_step: 358, reward: 0.05450000000000035, example: {'ranks': [{'rank': 1, 'agentID': 1}, {'rank': 2, 'agentID': 0}], 'replayFile': 'replays/33173321.json'}\n",
      "train loss in 1 epoch in 1 batch: 179.46124\n",
      "val loss in 1 epoch: 174.20463\n",
      "Round 155, winrate: 0.5, max_step: 234, reward: 0.5019, example: {'ranks': [{'rank': 1, 'agentID': 0}, {'rank': 1, 'agentID': 1}], 'replayFile': 'replays/654236596.json'}\n",
      "train loss in 1 epoch in 1 batch: 186.77565\n",
      "val loss in 1 epoch: 168.59118\n"
     ]
    },
    {
     "name": "stderr",
     "output_type": "stream",
     "text": [
      "/Library/Frameworks/Python.framework/Versions/3.7/lib/python3.7/site-packages/IPython/core/interactiveshell.py:3338: DtypeWarning: Columns (26,27,28) have mixed types.Specify dtype option on import or set low_memory=False.\n",
      "  if (await self.run_code(code, result,  async_=asy)):\n"
     ]
    },
    {
     "name": "stdout",
     "output_type": "stream",
     "text": [
      "Round 156, winrate: 0.0, max_step: 359, reward: 0.024899999999999905, example: {'ranks': [{'rank': 1, 'agentID': 1}, {'rank': 2, 'agentID': 0}], 'replayFile': 'replays/273243692.json'}\n",
      "train loss in 1 epoch in 1 batch: 159.86449\n",
      "val loss in 1 epoch: 156.03981\n",
      "Round 157, winrate: 0.0, max_step: 353, reward: 1.7563999999999755, example: {'ranks': [{'rank': 1, 'agentID': 0}, {'rank': 2, 'agentID': 1}], 'replayFile': 'replays/203590312.json'}\n",
      "train loss in 1 epoch in 1 batch: 24.24184\n",
      "val loss in 1 epoch: 25.12333\n",
      "train loss in 1 epoch in 2 batch: 22.78010\n",
      "val loss in 1 epoch: 24.58016\n",
      "train loss in 1 epoch in 3 batch: 12.33416\n",
      "val loss in 1 epoch: 23.98329\n",
      "train loss in 1 epoch in 4 batch: 28.55201\n",
      "val loss in 1 epoch: 23.35567\n",
      "Round 158, winrate: 0.0, max_step: 311, reward: 0.18319999999999806, example: {'ranks': [{'rank': 1, 'agentID': 1}, {'rank': 2, 'agentID': 0}], 'replayFile': 'replays/413473693.json'}\n",
      "train loss in 1 epoch in 1 batch: 18.95904\n",
      "val loss in 1 epoch: 13.26962\n",
      "train loss in 1 epoch in 2 batch: 7.07768\n",
      "val loss in 1 epoch: 13.00961\n",
      "Round 159, winrate: 0.0, max_step: 359, reward: 0.0323999999999999, example: {'ranks': [{'rank': 1, 'agentID': 0}, {'rank': 2, 'agentID': 1}], 'replayFile': 'replays/166843915.json'}\n",
      "train loss in 1 epoch in 1 batch: 12.77699\n",
      "val loss in 1 epoch: 14.26201\n",
      "Round 160, winrate: 0.0, max_step: 110, reward: 0.004699999999999999, example: {'ranks': [{'rank': 1, 'agentID': 1}, {'rank': 2, 'agentID': 0}], 'replayFile': 'replays/358169448.json'}\n",
      "train loss in 1 epoch in 1 batch: 10.83043\n",
      "val loss in 1 epoch: 19.16430\n",
      "Round 161, winrate: 0.0, max_step: 72, reward: 0.02089999999999998, example: {'ranks': [{'rank': 1, 'agentID': 0}, {'rank': 2, 'agentID': 1}], 'replayFile': 'replays/818936910.json'}\n",
      "train loss in 1 epoch in 1 batch: 11.74852\n",
      "val loss in 1 epoch: 15.49967\n",
      "Round 162, winrate: 0.0, max_step: 359, reward: 0.4614000000000011, example: {'ranks': [{'rank': 1, 'agentID': 1}, {'rank': 2, 'agentID': 0}], 'replayFile': 'replays/304943035.json'}\n",
      "train loss in 1 epoch in 1 batch: 18.52301\n",
      "val loss in 1 epoch: 15.07063\n",
      "train loss in 1 epoch in 2 batch: 39.00676\n",
      "val loss in 1 epoch: 14.95812\n"
     ]
    },
    {
     "name": "stderr",
     "output_type": "stream",
     "text": [
      "/Library/Frameworks/Python.framework/Versions/3.7/lib/python3.7/site-packages/IPython/core/interactiveshell.py:3338: DtypeWarning: Columns (9,10,11,12,13,14) have mixed types.Specify dtype option on import or set low_memory=False.\n",
      "  if (await self.run_code(code, result,  async_=asy)):\n"
     ]
    },
    {
     "name": "stdout",
     "output_type": "stream",
     "text": [
      "Round 163, winrate: 0.0, max_step: 359, reward: 0.17669999999999708, example: {'ranks': [{'rank': 1, 'agentID': 0}, {'rank': 2, 'agentID': 1}], 'replayFile': 'replays/811593569.json'}\n",
      "train loss in 1 epoch in 1 batch: 87.84927\n",
      "val loss in 1 epoch: 82.71333\n",
      "train loss in 1 epoch in 2 batch: 74.84451\n",
      "val loss in 1 epoch: 80.73750\n"
     ]
    },
    {
     "name": "stderr",
     "output_type": "stream",
     "text": [
      "/Library/Frameworks/Python.framework/Versions/3.7/lib/python3.7/site-packages/IPython/core/interactiveshell.py:3338: DtypeWarning: Columns (17,18,19,20,21,22) have mixed types.Specify dtype option on import or set low_memory=False.\n",
      "  if (await self.run_code(code, result,  async_=asy)):\n"
     ]
    },
    {
     "name": "stdout",
     "output_type": "stream",
     "text": [
      "Round 164, winrate: 0.0, max_step: 350, reward: 0.029899999999999875, example: {'ranks': [{'rank': 1, 'agentID': 1}, {'rank': 2, 'agentID': 0}], 'replayFile': 'replays/459487352.json'}\n",
      "train loss in 1 epoch in 1 batch: 27.71261\n",
      "val loss in 1 epoch: 46.47875\n",
      "Round 165, winrate: 0.0, max_step: 356, reward: 0.15639999999999837, example: {'ranks': [{'rank': 1, 'agentID': 0}, {'rank': 2, 'agentID': 1}], 'replayFile': 'replays/327374784.json'}\n",
      "train loss in 1 epoch in 1 batch: 30.79198\n",
      "val loss in 1 epoch: 17.63973\n",
      "train loss in 1 epoch in 2 batch: 4.89318\n",
      "val loss in 1 epoch: 18.32399\n"
     ]
    },
    {
     "name": "stderr",
     "output_type": "stream",
     "text": [
      "/Library/Frameworks/Python.framework/Versions/3.7/lib/python3.7/site-packages/IPython/core/interactiveshell.py:3338: DtypeWarning: Columns (26,27,28) have mixed types.Specify dtype option on import or set low_memory=False.\n",
      "  if (await self.run_code(code, result,  async_=asy)):\n"
     ]
    },
    {
     "name": "stdout",
     "output_type": "stream",
     "text": [
      "Round 166, winrate: 0.0, max_step: 270, reward: 0.023499999999999913, example: {'ranks': [{'rank': 1, 'agentID': 1}, {'rank': 2, 'agentID': 0}], 'replayFile': 'replays/205037573.json'}\n",
      "train loss in 1 epoch in 1 batch: 203.18803\n",
      "val loss in 1 epoch: 184.49239\n"
     ]
    },
    {
     "name": "stderr",
     "output_type": "stream",
     "text": [
      "/Library/Frameworks/Python.framework/Versions/3.7/lib/python3.7/site-packages/IPython/core/interactiveshell.py:3338: DtypeWarning: Columns (26,27,28) have mixed types.Specify dtype option on import or set low_memory=False.\n",
      "  if (await self.run_code(code, result,  async_=asy)):\n"
     ]
    },
    {
     "name": "stdout",
     "output_type": "stream",
     "text": [
      "Round 167, winrate: 0.0, max_step: 274, reward: 0.17849999999999813, example: {'ranks': [{'rank': 1, 'agentID': 0}, {'rank': 2, 'agentID': 1}], 'replayFile': 'replays/637283137.json'}\n",
      "train loss in 1 epoch in 1 batch: 20.00699\n",
      "val loss in 1 epoch: 15.42611\n",
      "train loss in 1 epoch in 2 batch: 4.87022\n",
      "val loss in 1 epoch: 15.03031\n",
      "Round 168, winrate: 0.0, max_step: 157, reward: 0.10579999999999948, example: {'ranks': [{'rank': 1, 'agentID': 1}, {'rank': 2, 'agentID': 0}], 'replayFile': 'replays/420042453.json'}\n",
      "train loss in 1 epoch in 1 batch: 14.08573\n",
      "val loss in 1 epoch: 15.43819\n",
      "Round 169, winrate: 0.0, max_step: 314, reward: 0.026099999999999898, example: {'ranks': [{'rank': 1, 'agentID': 0}, {'rank': 2, 'agentID': 1}], 'replayFile': 'replays/728386851.json'}\n",
      "train loss in 1 epoch in 1 batch: 190.63565\n",
      "val loss in 1 epoch: 187.50548\n"
     ]
    },
    {
     "name": "stderr",
     "output_type": "stream",
     "text": [
      "/Library/Frameworks/Python.framework/Versions/3.7/lib/python3.7/site-packages/IPython/core/interactiveshell.py:3338: DtypeWarning: Columns (9,10,11,12,13,14) have mixed types.Specify dtype option on import or set low_memory=False.\n",
      "  if (await self.run_code(code, result,  async_=asy)):\n"
     ]
    },
    {
     "name": "stdout",
     "output_type": "stream",
     "text": [
      "Round 170, winrate: 0.0, max_step: 359, reward: 0.09989999999999986, example: {'ranks': [{'rank': 1, 'agentID': 1}, {'rank': 2, 'agentID': 0}], 'replayFile': 'replays/226110362.json'}\n",
      "train loss in 1 epoch in 1 batch: 8.88234\n",
      "val loss in 1 epoch: 7.96132\n"
     ]
    },
    {
     "name": "stderr",
     "output_type": "stream",
     "text": [
      "/Library/Frameworks/Python.framework/Versions/3.7/lib/python3.7/site-packages/IPython/core/interactiveshell.py:3338: DtypeWarning: Columns (26,27,28) have mixed types.Specify dtype option on import or set low_memory=False.\n",
      "  if (await self.run_code(code, result,  async_=asy)):\n"
     ]
    },
    {
     "name": "stdout",
     "output_type": "stream",
     "text": [
      "Round 171, winrate: 0.0, max_step: 359, reward: 0.026399999999999896, example: {'ranks': [{'rank': 1, 'agentID': 0}, {'rank': 2, 'agentID': 1}], 'replayFile': 'replays/677514685.json'}\n",
      "train loss in 1 epoch in 1 batch: 198.07693\n",
      "val loss in 1 epoch: 174.91721\n",
      "Round 172, winrate: 0.0, max_step: 318, reward: 0.02709999999999989, example: {'ranks': [{'rank': 1, 'agentID': 1}, {'rank': 2, 'agentID': 0}], 'replayFile': 'replays/641676058.json'}\n",
      "train loss in 1 epoch in 1 batch: 187.85713\n",
      "val loss in 1 epoch: 173.40923\n",
      "Round 173, winrate: 0.0, max_step: 113, reward: 0.0067000000000000046, example: {'ranks': [{'rank': 1, 'agentID': 0}, {'rank': 2, 'agentID': 1}], 'replayFile': 'replays/400537829.json'}\n",
      "train loss in 1 epoch in 1 batch: 174.15350\n",
      "val loss in 1 epoch: 170.64800\n"
     ]
    },
    {
     "name": "stderr",
     "output_type": "stream",
     "text": [
      "/Library/Frameworks/Python.framework/Versions/3.7/lib/python3.7/site-packages/IPython/core/interactiveshell.py:3338: DtypeWarning: Columns (17,18,19,20,21,22) have mixed types.Specify dtype option on import or set low_memory=False.\n",
      "  if (await self.run_code(code, result,  async_=asy)):\n"
     ]
    },
    {
     "name": "stdout",
     "output_type": "stream",
     "text": [
      "Round 174, winrate: 0.0, max_step: 359, reward: 0.024999999999999904, example: {'ranks': [{'rank': 1, 'agentID': 1}, {'rank': 2, 'agentID': 0}], 'replayFile': 'replays/902109485.json'}\n",
      "train loss in 1 epoch in 1 batch: 173.20953\n",
      "val loss in 1 epoch: 168.00826\n"
     ]
    },
    {
     "name": "stderr",
     "output_type": "stream",
     "text": [
      "/Library/Frameworks/Python.framework/Versions/3.7/lib/python3.7/site-packages/IPython/core/interactiveshell.py:3338: DtypeWarning: Columns (26,27,28) have mixed types.Specify dtype option on import or set low_memory=False.\n",
      "  if (await self.run_code(code, result,  async_=asy)):\n"
     ]
    },
    {
     "name": "stdout",
     "output_type": "stream",
     "text": [
      "Round 175, winrate: 0.0, max_step: 359, reward: 0.030299999999999872, example: {'ranks': [{'rank': 1, 'agentID': 0}, {'rank': 2, 'agentID': 1}], 'replayFile': 'replays/223715604.json'}\n",
      "train loss in 1 epoch in 1 batch: 163.79254\n",
      "val loss in 1 epoch: 153.07570\n",
      "Round 176, winrate: 0.0, max_step: 270, reward: 0.02049999999999993, example: {'ranks': [{'rank': 1, 'agentID': 1}, {'rank': 2, 'agentID': 0}], 'replayFile': 'replays/461441856.json'}\n",
      "train loss in 1 epoch in 1 batch: 165.10257\n",
      "val loss in 1 epoch: 159.30518\n",
      "Round 177, winrate: 0.0, max_step: 350, reward: 0.03129999999999987, example: {'ranks': [{'rank': 1, 'agentID': 0}, {'rank': 2, 'agentID': 1}], 'replayFile': 'replays/12159537.json'}\n",
      "train loss in 1 epoch in 1 batch: 19.70830\n",
      "val loss in 1 epoch: 11.72688\n"
     ]
    },
    {
     "name": "stderr",
     "output_type": "stream",
     "text": [
      "/Library/Frameworks/Python.framework/Versions/3.7/lib/python3.7/site-packages/IPython/core/interactiveshell.py:3338: DtypeWarning: Columns (26,27,28) have mixed types.Specify dtype option on import or set low_memory=False.\n",
      "  if (await self.run_code(code, result,  async_=asy)):\n"
     ]
    },
    {
     "name": "stdout",
     "output_type": "stream",
     "text": [
      "Round 178, winrate: 0.0, max_step: 236, reward: 0.017999999999999947, example: {'ranks': [{'rank': 1, 'agentID': 1}, {'rank': 2, 'agentID': 0}], 'replayFile': 'replays/105640118.json'}\n",
      "train loss in 1 epoch in 1 batch: 171.94569\n",
      "val loss in 1 epoch: 157.33082\n",
      "Round 179, winrate: 1.0, max_step: 353, reward: 1.0756000000000001, example: {'ranks': [{'rank': 1, 'agentID': 1}, {'rank': 2, 'agentID': 0}], 'replayFile': 'replays/860947865.json'}\n",
      "train loss in 1 epoch in 1 batch: 16.01737\n",
      "val loss in 1 epoch: 12.86755\n"
     ]
    },
    {
     "name": "stderr",
     "output_type": "stream",
     "text": [
      "/Library/Frameworks/Python.framework/Versions/3.7/lib/python3.7/site-packages/IPython/core/interactiveshell.py:3338: DtypeWarning: Columns (26,27,28) have mixed types.Specify dtype option on import or set low_memory=False.\n",
      "  if (await self.run_code(code, result,  async_=asy)):\n"
     ]
    },
    {
     "name": "stdout",
     "output_type": "stream",
     "text": [
      "Round 180, winrate: 0.0, max_step: 278, reward: 0.08020000000000023, example: {'ranks': [{'rank': 1, 'agentID': 1}, {'rank': 2, 'agentID': 0}], 'replayFile': 'replays/269393649.json'}\n",
      "train loss in 1 epoch in 1 batch: 20.95848\n",
      "val loss in 1 epoch: 15.85629\n",
      "Round 181, winrate: 0.0, max_step: 359, reward: 0.033899999999999944, example: {'ranks': [{'rank': 1, 'agentID': 0}, {'rank': 2, 'agentID': 1}], 'replayFile': 'replays/103178493.json'}\n",
      "train loss in 1 epoch in 1 batch: 171.01277\n",
      "val loss in 1 epoch: 154.58204\n"
     ]
    },
    {
     "name": "stderr",
     "output_type": "stream",
     "text": [
      "/Library/Frameworks/Python.framework/Versions/3.7/lib/python3.7/site-packages/IPython/core/interactiveshell.py:3338: DtypeWarning: Columns (9,10,11,12,13,14) have mixed types.Specify dtype option on import or set low_memory=False.\n",
      "  if (await self.run_code(code, result,  async_=asy)):\n"
     ]
    },
    {
     "name": "stdout",
     "output_type": "stream",
     "text": [
      "Round 182, winrate: 0.0, max_step: 319, reward: 0.20190000000000155, example: {'ranks': [{'rank': 1, 'agentID': 1}, {'rank': 2, 'agentID': 0}], 'replayFile': 'replays/543601981.json'}\n",
      "train loss in 1 epoch in 1 batch: 13.51019\n",
      "val loss in 1 epoch: 11.62022\n",
      "train loss in 1 epoch in 2 batch: 5.45211\n",
      "val loss in 1 epoch: 11.43913\n"
     ]
    },
    {
     "name": "stderr",
     "output_type": "stream",
     "text": [
      "/Library/Frameworks/Python.framework/Versions/3.7/lib/python3.7/site-packages/IPython/core/interactiveshell.py:3338: DtypeWarning: Columns (26,27,28) have mixed types.Specify dtype option on import or set low_memory=False.\n",
      "  if (await self.run_code(code, result,  async_=asy)):\n"
     ]
    },
    {
     "name": "stdout",
     "output_type": "stream",
     "text": [
      "Round 183, winrate: 0.0, max_step: 314, reward: 0.023699999999999912, example: {'ranks': [{'rank': 1, 'agentID': 0}, {'rank': 2, 'agentID': 1}], 'replayFile': 'replays/315050277.json'}\n",
      "train loss in 1 epoch in 1 batch: 174.05118\n",
      "val loss in 1 epoch: 156.76746\n",
      "Round 184, winrate: 0.0, max_step: 315, reward: 0.030199999999999873, example: {'ranks': [{'rank': 1, 'agentID': 1}, {'rank': 2, 'agentID': 0}], 'replayFile': 'replays/294016430.json'}\n",
      "train loss in 1 epoch in 1 batch: 157.27991\n",
      "val loss in 1 epoch: 144.41051\n"
     ]
    },
    {
     "name": "stderr",
     "output_type": "stream",
     "text": [
      "/Library/Frameworks/Python.framework/Versions/3.7/lib/python3.7/site-packages/IPython/core/interactiveshell.py:3338: DtypeWarning: Columns (17,18,19,20,21,22) have mixed types.Specify dtype option on import or set low_memory=False.\n",
      "  if (await self.run_code(code, result,  async_=asy)):\n"
     ]
    },
    {
     "name": "stdout",
     "output_type": "stream",
     "text": [
      "Round 185, winrate: 0.0, max_step: 355, reward: 0.0019000000000000006, example: {'ranks': [{'rank': 1, 'agentID': 0}, {'rank': 2, 'agentID': 1}], 'replayFile': 'replays/560723200.json'}\n",
      "train loss in 1 epoch in 1 batch: 157.31964\n",
      "val loss in 1 epoch: 147.10859\n",
      "Round 186, winrate: 0.0, max_step: 195, reward: 0.009799999999999996, example: {'ranks': [{'rank': 1, 'agentID': 1}, {'rank': 2, 'agentID': 0}], 'replayFile': 'replays/183389357.json'}\n",
      "train loss in 1 epoch in 1 batch: 141.74968\n",
      "val loss in 1 epoch: 130.58144\n",
      "Round 187, winrate: 0.0, max_step: 359, reward: 0.4113, example: {'ranks': [{'rank': 1, 'agentID': 0}, {'rank': 2, 'agentID': 1}], 'replayFile': 'replays/730320491.json'}\n",
      "train loss in 1 epoch in 1 batch: 17.46155\n",
      "val loss in 1 epoch: 14.06850\n",
      "train loss in 1 epoch in 2 batch: 18.26563\n",
      "val loss in 1 epoch: 14.13271\n"
     ]
    },
    {
     "name": "stderr",
     "output_type": "stream",
     "text": [
      "/Library/Frameworks/Python.framework/Versions/3.7/lib/python3.7/site-packages/IPython/core/interactiveshell.py:3338: DtypeWarning: Columns (17,18,19,20,21,22) have mixed types.Specify dtype option on import or set low_memory=False.\n",
      "  if (await self.run_code(code, result,  async_=asy)):\n"
     ]
    },
    {
     "name": "stdout",
     "output_type": "stream",
     "text": [
      "Round 188, winrate: 0.0, max_step: 352, reward: 0.5166999999999948, example: {'ranks': [{'rank': 1, 'agentID': 1}, {'rank': 2, 'agentID': 0}], 'replayFile': 'replays/51443474.json'}\n",
      "train loss in 1 epoch in 1 batch: 26.75248\n",
      "val loss in 1 epoch: 12.38259\n",
      "train loss in 1 epoch in 2 batch: 11.11670\n",
      "val loss in 1 epoch: 11.98391\n"
     ]
    },
    {
     "name": "stderr",
     "output_type": "stream",
     "text": [
      "/Library/Frameworks/Python.framework/Versions/3.7/lib/python3.7/site-packages/IPython/core/interactiveshell.py:3338: DtypeWarning: Columns (26,27,28) have mixed types.Specify dtype option on import or set low_memory=False.\n",
      "  if (await self.run_code(code, result,  async_=asy)):\n"
     ]
    },
    {
     "name": "stdout",
     "output_type": "stream",
     "text": [
      "Round 189, winrate: 0.0, max_step: 359, reward: 0.03309999999999992, example: {'ranks': [{'rank': 1, 'agentID': 0}, {'rank': 2, 'agentID': 1}], 'replayFile': 'replays/741780543.json'}\n",
      "train loss in 1 epoch in 1 batch: 144.78328\n",
      "val loss in 1 epoch: 130.67666\n"
     ]
    },
    {
     "name": "stderr",
     "output_type": "stream",
     "text": [
      "/Library/Frameworks/Python.framework/Versions/3.7/lib/python3.7/site-packages/IPython/core/interactiveshell.py:3338: DtypeWarning: Columns (17,18,19,20,21,22) have mixed types.Specify dtype option on import or set low_memory=False.\n",
      "  if (await self.run_code(code, result,  async_=asy)):\n"
     ]
    },
    {
     "name": "stdout",
     "output_type": "stream",
     "text": [
      "Round 190, winrate: 0.0, max_step: 359, reward: 0.439799999999999, example: {'ranks': [{'rank': 1, 'agentID': 1}, {'rank': 2, 'agentID': 0}], 'replayFile': 'replays/990780300.json'}\n",
      "train loss in 1 epoch in 1 batch: 36.89403\n",
      "val loss in 1 epoch: 14.63510\n",
      "train loss in 1 epoch in 2 batch: 15.30898\n",
      "val loss in 1 epoch: 14.62134\n",
      "Round 191, winrate: 0.0, max_step: 274, reward: 0.16870000000000104, example: {'ranks': [{'rank': 1, 'agentID': 0}, {'rank': 2, 'agentID': 1}], 'replayFile': 'replays/178712497.json'}\n",
      "train loss in 1 epoch in 1 batch: 18.18189\n",
      "val loss in 1 epoch: 12.88573\n",
      "Round 192, winrate: 0.0, max_step: 359, reward: 1.2507999999999821, example: {'ranks': [{'rank': 1, 'agentID': 1}, {'rank': 2, 'agentID': 0}], 'replayFile': 'replays/31351906.json'}\n",
      "train loss in 1 epoch in 1 batch: 23.59774\n",
      "val loss in 1 epoch: 14.08177\n",
      "train loss in 1 epoch in 2 batch: 18.75040\n",
      "val loss in 1 epoch: 14.13667\n",
      "train loss in 1 epoch in 3 batch: 13.14098\n",
      "val loss in 1 epoch: 13.91108\n",
      "Round 193, winrate: 0.0, max_step: 358, reward: 0.12280000000000153, example: {'ranks': [{'rank': 1, 'agentID': 0}, {'rank': 2, 'agentID': 1}], 'replayFile': 'replays/652786414.json'}\n",
      "train loss in 1 epoch in 1 batch: 13.34637\n",
      "val loss in 1 epoch: 10.62497\n"
     ]
    },
    {
     "name": "stderr",
     "output_type": "stream",
     "text": [
      "/Library/Frameworks/Python.framework/Versions/3.7/lib/python3.7/site-packages/IPython/core/interactiveshell.py:3338: DtypeWarning: Columns (9,10,11,12,13,14) have mixed types.Specify dtype option on import or set low_memory=False.\n",
      "  if (await self.run_code(code, result,  async_=asy)):\n"
     ]
    },
    {
     "name": "stdout",
     "output_type": "stream",
     "text": [
      "Round 194, winrate: 0.0, max_step: 196, reward: 0.2134999999999998, example: {'ranks': [{'rank': 1, 'agentID': 1}, {'rank': 2, 'agentID': 0}], 'replayFile': 'replays/935007969.json'}\n",
      "train loss in 1 epoch in 1 batch: 19.43395\n",
      "val loss in 1 epoch: 13.67312\n",
      "Round 195, winrate: 0.0, max_step: 359, reward: 0.29960000000000064, example: {'ranks': [{'rank': 1, 'agentID': 0}, {'rank': 2, 'agentID': 1}], 'replayFile': 'replays/589817801.json'}\n",
      "train loss in 1 epoch in 1 batch: 12.78534\n",
      "val loss in 1 epoch: 14.93802\n",
      "train loss in 1 epoch in 2 batch: 8.62531\n",
      "val loss in 1 epoch: 14.70184\n"
     ]
    },
    {
     "name": "stderr",
     "output_type": "stream",
     "text": [
      "/Library/Frameworks/Python.framework/Versions/3.7/lib/python3.7/site-packages/IPython/core/interactiveshell.py:3338: DtypeWarning: Columns (26,27,28) have mixed types.Specify dtype option on import or set low_memory=False.\n",
      "  if (await self.run_code(code, result,  async_=asy)):\n"
     ]
    },
    {
     "name": "stdout",
     "output_type": "stream",
     "text": [
      "Round 196, winrate: 0.0, max_step: 230, reward: 0.021099999999999928, example: {'ranks': [{'rank': 1, 'agentID': 1}, {'rank': 2, 'agentID': 0}], 'replayFile': 'replays/813936156.json'}\n",
      "train loss in 1 epoch in 1 batch: 143.24707\n",
      "val loss in 1 epoch: 137.13120\n"
     ]
    },
    {
     "name": "stderr",
     "output_type": "stream",
     "text": [
      "/Library/Frameworks/Python.framework/Versions/3.7/lib/python3.7/site-packages/IPython/core/interactiveshell.py:3338: DtypeWarning: Columns (26,27,28) have mixed types.Specify dtype option on import or set low_memory=False.\n",
      "  if (await self.run_code(code, result,  async_=asy)):\n"
     ]
    },
    {
     "name": "stdout",
     "output_type": "stream",
     "text": [
      "Round 197, winrate: 0.0, max_step: 157, reward: 0.03569999999999984, example: {'ranks': [{'rank': 1, 'agentID': 0}, {'rank': 2, 'agentID': 1}], 'replayFile': 'replays/506405649.json'}\n",
      "train loss in 1 epoch in 1 batch: 137.48009\n",
      "val loss in 1 epoch: 131.27531\n",
      "Round 198, winrate: 0.0, max_step: 151, reward: 0.054699999999999915, example: {'ranks': [{'rank': 1, 'agentID': 1}, {'rank': 2, 'agentID': 0}], 'replayFile': 'replays/471594238.json'}\n",
      "train loss in 1 epoch in 1 batch: 8.60408\n",
      "val loss in 1 epoch: 12.64964\n",
      "Round 199, winrate: 0.0, max_step: 159, reward: 0.0991999999999999, example: {'ranks': [{'rank': 1, 'agentID': 0}, {'rank': 2, 'agentID': 1}], 'replayFile': 'replays/664825252.json'}\n",
      "train loss in 1 epoch in 1 batch: 8.29838\n",
      "val loss in 1 epoch: 8.59415\n",
      "Round 200, winrate: 0.0, max_step: 154, reward: 0.0021000000000000003, example: {'ranks': [{'rank': 1, 'agentID': 1}, {'rank': 2, 'agentID': 0}], 'replayFile': 'replays/848824090.json'}\n",
      "train loss in 1 epoch in 1 batch: 158.09090\n",
      "val loss in 1 epoch: 143.93718\n",
      "Round 201, winrate: 0.0, max_step: 311, reward: 0.0038999999999999972, example: {'ranks': [{'rank': 1, 'agentID': 0}, {'rank': 2, 'agentID': 1}], 'replayFile': 'replays/489216512.json'}\n",
      "train loss in 1 epoch in 1 batch: 149.66966\n",
      "val loss in 1 epoch: 136.25377\n",
      "Round 202, winrate: 0.0, max_step: 272, reward: 0.0857000000000004, example: {'ranks': [{'rank': 1, 'agentID': 1}, {'rank': 2, 'agentID': 0}], 'replayFile': 'replays/962958227.json'}\n",
      "train loss in 1 epoch in 1 batch: 9.05931\n",
      "val loss in 1 epoch: 8.43129\n"
     ]
    },
    {
     "name": "stderr",
     "output_type": "stream",
     "text": [
      "/Library/Frameworks/Python.framework/Versions/3.7/lib/python3.7/site-packages/IPython/core/interactiveshell.py:3338: DtypeWarning: Columns (26,27,28) have mixed types.Specify dtype option on import or set low_memory=False.\n",
      "  if (await self.run_code(code, result,  async_=asy)):\n"
     ]
    },
    {
     "name": "stdout",
     "output_type": "stream",
     "text": [
      "Round 203, winrate: 0.0, max_step: 349, reward: 0.02879999999999988, example: {'ranks': [{'rank': 1, 'agentID': 0}, {'rank': 2, 'agentID': 1}], 'replayFile': 'replays/420477548.json'}\n",
      "train loss in 1 epoch in 1 batch: 147.95186\n",
      "val loss in 1 epoch: 137.72968\n",
      "Round 204, winrate: 0.0, max_step: 358, reward: 0.0255999999999999, example: {'ranks': [{'rank': 1, 'agentID': 1}, {'rank': 2, 'agentID': 0}], 'replayFile': 'replays/775484481.json'}\n",
      "train loss in 1 epoch in 1 batch: 123.56388\n",
      "val loss in 1 epoch: 128.83465\n"
     ]
    },
    {
     "name": "stderr",
     "output_type": "stream",
     "text": [
      "/Library/Frameworks/Python.framework/Versions/3.7/lib/python3.7/site-packages/IPython/core/interactiveshell.py:3338: DtypeWarning: Columns (17,18,19,20,21,22) have mixed types.Specify dtype option on import or set low_memory=False.\n",
      "  if (await self.run_code(code, result,  async_=asy)):\n"
     ]
    },
    {
     "name": "stdout",
     "output_type": "stream",
     "text": [
      "Round 205, winrate: 0.0, max_step: 350, reward: 0.031799999999999884, example: {'ranks': [{'rank': 1, 'agentID': 0}, {'rank': 2, 'agentID': 1}], 'replayFile': 'replays/903062850.json'}\n",
      "train loss in 1 epoch in 1 batch: 128.65034\n",
      "val loss in 1 epoch: 112.53920\n",
      "Round 206, winrate: 0.0, max_step: 359, reward: 0.7563999999999809, example: {'ranks': [{'rank': 1, 'agentID': 1}, {'rank': 2, 'agentID': 0}], 'replayFile': 'replays/761601813.json'}\n",
      "train loss in 1 epoch in 1 batch: 15.27048\n",
      "val loss in 1 epoch: 11.40229\n",
      "train loss in 1 epoch in 2 batch: 11.10644\n",
      "val loss in 1 epoch: 11.28651\n",
      "train loss in 1 epoch in 3 batch: 5.62243\n",
      "val loss in 1 epoch: 11.11049\n",
      "Round 207, winrate: 0.0, max_step: 235, reward: 0.13650000000000237, example: {'ranks': [{'rank': 1, 'agentID': 0}, {'rank': 2, 'agentID': 1}], 'replayFile': 'replays/12733958.json'}\n",
      "train loss in 1 epoch in 1 batch: 9.88887\n",
      "val loss in 1 epoch: 8.48804\n",
      "Round 208, winrate: 0.0, max_step: 359, reward: 0.16009999999999944, example: {'ranks': [{'rank': 1, 'agentID': 1}, {'rank': 2, 'agentID': 0}], 'replayFile': 'replays/476339614.json'}\n",
      "train loss in 1 epoch in 1 batch: 22.41069\n",
      "val loss in 1 epoch: 10.49806\n",
      "train loss in 1 epoch in 2 batch: 3.43164\n",
      "val loss in 1 epoch: 10.52637\n",
      "Round 209, winrate: 0.0, max_step: 236, reward: 0.015099999999999964, example: {'ranks': [{'rank': 1, 'agentID': 0}, {'rank': 2, 'agentID': 1}], 'replayFile': 'replays/400650974.json'}\n",
      "train loss in 1 epoch in 1 batch: 146.87607\n",
      "val loss in 1 epoch: 144.04207\n",
      "Round 210, winrate: 0.0, max_step: 190, reward: 0.016599999999999955, example: {'ranks': [{'rank': 1, 'agentID': 1}, {'rank': 2, 'agentID': 0}], 'replayFile': 'replays/429171210.json'}\n",
      "train loss in 1 epoch in 1 batch: 31.88107\n",
      "val loss in 1 epoch: 12.60951\n",
      "Round 211, winrate: 0.0, max_step: 359, reward: 0.22699999999999948, example: {'ranks': [{'rank': 1, 'agentID': 0}, {'rank': 2, 'agentID': 1}], 'replayFile': 'replays/134724870.json'}\n",
      "train loss in 1 epoch in 1 batch: 21.86974\n",
      "val loss in 1 epoch: 9.79972\n",
      "train loss in 1 epoch in 2 batch: 3.89985\n",
      "val loss in 1 epoch: 9.59240\n",
      "Round 212, winrate: 0.0, max_step: 353, reward: 0.033899999999999944, example: {'ranks': [{'rank': 1, 'agentID': 1}, {'rank': 2, 'agentID': 0}], 'replayFile': 'replays/715698749.json'}\n",
      "train loss in 1 epoch in 1 batch: 8.44298\n",
      "val loss in 1 epoch: 9.18590\n",
      "Round 213, winrate: 0.0, max_step: 118, reward: 0.004499999999999999, example: {'ranks': [{'rank': 1, 'agentID': 0}, {'rank': 2, 'agentID': 1}], 'replayFile': 'replays/938134827.json'}\n",
      "train loss in 1 epoch in 1 batch: 128.59842\n",
      "val loss in 1 epoch: 119.53123\n",
      "Round 214, winrate: 0.0, max_step: 190, reward: 0.012199999999999982, example: {'ranks': [{'rank': 1, 'agentID': 1}, {'rank': 2, 'agentID': 0}], 'replayFile': 'replays/207206517.json'}\n",
      "train loss in 1 epoch in 1 batch: 142.00259\n",
      "val loss in 1 epoch: 130.90099\n",
      "Round 215, winrate: 0.0, max_step: 235, reward: 0.10029999999999978, example: {'ranks': [{'rank': 1, 'agentID': 0}, {'rank': 2, 'agentID': 1}], 'replayFile': 'replays/661088198.json'}\n",
      "train loss in 1 epoch in 1 batch: 17.08872\n",
      "val loss in 1 epoch: 12.61509\n",
      "Round 216, winrate: 0.0, max_step: 351, reward: 0.17989999999999803, example: {'ranks': [{'rank': 1, 'agentID': 1}, {'rank': 2, 'agentID': 0}], 'replayFile': 'replays/152853744.json'}\n",
      "train loss in 1 epoch in 1 batch: 8.99226\n",
      "val loss in 1 epoch: 10.72519\n",
      "train loss in 1 epoch in 2 batch: 4.07891\n",
      "val loss in 1 epoch: 9.95335\n",
      "Round 217, winrate: 0.0, max_step: 193, reward: 0.017999999999999947, example: {'ranks': [{'rank': 1, 'agentID': 0}, {'rank': 2, 'agentID': 1}], 'replayFile': 'replays/445223570.json'}\n",
      "train loss in 1 epoch in 1 batch: 120.76379\n",
      "val loss in 1 epoch: 121.13150\n",
      "Round 218, winrate: 0.0, max_step: 359, reward: 0.2764999999999989, example: {'ranks': [{'rank': 1, 'agentID': 1}, {'rank': 2, 'agentID': 0}], 'replayFile': 'replays/361866829.json'}\n",
      "train loss in 1 epoch in 1 batch: 8.69781\n",
      "val loss in 1 epoch: 10.92136\n",
      "train loss in 1 epoch in 2 batch: 7.87334\n",
      "val loss in 1 epoch: 10.63363\n",
      "Round 219, winrate: 0.0, max_step: 192, reward: 0.014899999999999965, example: {'ranks': [{'rank': 1, 'agentID': 0}, {'rank': 2, 'agentID': 1}], 'replayFile': 'replays/57953729.json'}\n",
      "train loss in 1 epoch in 1 batch: 140.71692\n",
      "val loss in 1 epoch: 123.51731\n",
      "Round 220, winrate: 0.0, max_step: 310, reward: 0.023699999999999912, example: {'ranks': [{'rank': 1, 'agentID': 1}, {'rank': 2, 'agentID': 0}], 'replayFile': 'replays/473100147.json'}\n",
      "train loss in 1 epoch in 1 batch: 128.09998\n",
      "val loss in 1 epoch: 117.11525\n"
     ]
    },
    {
     "name": "stderr",
     "output_type": "stream",
     "text": [
      "/Library/Frameworks/Python.framework/Versions/3.7/lib/python3.7/site-packages/IPython/core/interactiveshell.py:3338: DtypeWarning: Columns (9,10,11,12,13,14) have mixed types.Specify dtype option on import or set low_memory=False.\n",
      "  if (await self.run_code(code, result,  async_=asy)):\n"
     ]
    },
    {
     "name": "stdout",
     "output_type": "stream",
     "text": [
      "Round 221, winrate: 0.0, max_step: 230, reward: 0.06759999999999985, example: {'ranks': [{'rank': 1, 'agentID': 0}, {'rank': 2, 'agentID': 1}], 'replayFile': 'replays/200019788.json'}\n",
      "train loss in 1 epoch in 1 batch: 9.19064\n",
      "val loss in 1 epoch: 15.38028\n",
      "Round 222, winrate: 0.0, max_step: 359, reward: 0.0019000000000000006, example: {'ranks': [{'rank': 1, 'agentID': 1}, {'rank': 2, 'agentID': 0}], 'replayFile': 'replays/111791238.json'}\n",
      "train loss in 1 epoch in 1 batch: 144.82408\n",
      "val loss in 1 epoch: 130.91537\n",
      "Round 223, winrate: 0.0, max_step: 358, reward: 0.02709999999999989, example: {'ranks': [{'rank': 1, 'agentID': 0}, {'rank': 2, 'agentID': 1}], 'replayFile': 'replays/280828382.json'}\n",
      "train loss in 1 epoch in 1 batch: 139.60883\n",
      "val loss in 1 epoch: 129.66895\n"
     ]
    },
    {
     "name": "stderr",
     "output_type": "stream",
     "text": [
      "/Library/Frameworks/Python.framework/Versions/3.7/lib/python3.7/site-packages/IPython/core/interactiveshell.py:3338: DtypeWarning: Columns (26,27,28) have mixed types.Specify dtype option on import or set low_memory=False.\n",
      "  if (await self.run_code(code, result,  async_=asy)):\n"
     ]
    },
    {
     "name": "stdout",
     "output_type": "stream",
     "text": [
      "Round 224, winrate: 0.0, max_step: 359, reward: 0.028299999999999884, example: {'ranks': [{'rank': 1, 'agentID': 1}, {'rank': 2, 'agentID': 0}], 'replayFile': 'replays/994005916.json'}\n",
      "train loss in 1 epoch in 1 batch: 127.42282\n",
      "val loss in 1 epoch: 121.93652\n",
      "Round 225, winrate: 0.0, max_step: 359, reward: 0.0019000000000000006, example: {'ranks': [{'rank': 1, 'agentID': 0}, {'rank': 2, 'agentID': 1}], 'replayFile': 'replays/181100195.json'}\n",
      "train loss in 1 epoch in 1 batch: 107.60152\n",
      "val loss in 1 epoch: 99.06964\n"
     ]
    },
    {
     "name": "stderr",
     "output_type": "stream",
     "text": [
      "/Library/Frameworks/Python.framework/Versions/3.7/lib/python3.7/site-packages/IPython/core/interactiveshell.py:3338: DtypeWarning: Columns (17,18,19,20,21,22) have mixed types.Specify dtype option on import or set low_memory=False.\n",
      "  if (await self.run_code(code, result,  async_=asy)):\n"
     ]
    },
    {
     "name": "stdout",
     "output_type": "stream",
     "text": [
      "Round 226, winrate: 0.5, max_step: 315, reward: 1.4776999999999896, example: {'ranks': [{'rank': 1, 'agentID': 0}, {'rank': 1, 'agentID': 1}], 'replayFile': 'replays/622586688.json'}\n",
      "train loss in 1 epoch in 1 batch: 14.00523\n",
      "val loss in 1 epoch: 8.14620\n",
      "train loss in 1 epoch in 2 batch: 10.97586\n",
      "val loss in 1 epoch: 7.85252\n",
      "Round 227, winrate: 0.0, max_step: 157, reward: 0.025199999999999955, example: {'ranks': [{'rank': 1, 'agentID': 0}, {'rank': 2, 'agentID': 1}], 'replayFile': 'replays/547485728.json'}\n",
      "train loss in 1 epoch in 1 batch: 106.11137\n",
      "val loss in 1 epoch: 93.69712\n",
      "Round 228, winrate: 0.0, max_step: 75, reward: 0.0025999999999999994, example: {'ranks': [{'rank': 1, 'agentID': 1}, {'rank': 2, 'agentID': 0}], 'replayFile': 'replays/746511749.json'}\n",
      "train loss in 1 epoch in 1 batch: 96.32982\n",
      "val loss in 1 epoch: 89.02028\n"
     ]
    },
    {
     "name": "stderr",
     "output_type": "stream",
     "text": [
      "/Library/Frameworks/Python.framework/Versions/3.7/lib/python3.7/site-packages/IPython/core/interactiveshell.py:3338: DtypeWarning: Columns (26,27,28) have mixed types.Specify dtype option on import or set low_memory=False.\n",
      "  if (await self.run_code(code, result,  async_=asy)):\n"
     ]
    },
    {
     "name": "stdout",
     "output_type": "stream",
     "text": [
      "Round 229, winrate: 0.0, max_step: 230, reward: 0.07760000000000017, example: {'ranks': [{'rank': 1, 'agentID': 0}, {'rank': 2, 'agentID': 1}], 'replayFile': 'replays/416719193.json'}\n",
      "train loss in 1 epoch in 1 batch: 19.72403\n",
      "val loss in 1 epoch: 17.73049\n",
      "Round 230, winrate: 0.0, max_step: 113, reward: 0.015300000000000025, example: {'ranks': [{'rank': 1, 'agentID': 1}, {'rank': 2, 'agentID': 0}], 'replayFile': 'replays/562640640.json'}\n",
      "train loss in 1 epoch in 1 batch: 42.75599\n",
      "val loss in 1 epoch: 42.49960\n",
      "Round 231, winrate: 0.0, max_step: 192, reward: 0.019899999999999935, example: {'ranks': [{'rank': 1, 'agentID': 0}, {'rank': 2, 'agentID': 1}], 'replayFile': 'replays/135265879.json'}\n",
      "train loss in 1 epoch in 1 batch: 24.32917\n",
      "val loss in 1 epoch: 17.71991\n",
      "Round 232, winrate: 0.0, max_step: 191, reward: 0.04289999999999985, example: {'ranks': [{'rank': 1, 'agentID': 1}, {'rank': 2, 'agentID': 0}], 'replayFile': 'replays/331126199.json'}\n",
      "train loss in 1 epoch in 1 batch: 12.12722\n",
      "val loss in 1 epoch: 10.52714\n",
      "Round 233, winrate: 0.0, max_step: 350, reward: 0.04619999999999998, example: {'ranks': [{'rank': 1, 'agentID': 0}, {'rank': 2, 'agentID': 1}], 'replayFile': 'replays/641965031.json'}\n",
      "train loss in 1 epoch in 1 batch: 13.96518\n",
      "val loss in 1 epoch: 10.31867\n"
     ]
    },
    {
     "name": "stderr",
     "output_type": "stream",
     "text": [
      "/Library/Frameworks/Python.framework/Versions/3.7/lib/python3.7/site-packages/IPython/core/interactiveshell.py:3338: DtypeWarning: Columns (17,18,19,20,21,22) have mixed types.Specify dtype option on import or set low_memory=False.\n",
      "  if (await self.run_code(code, result,  async_=asy)):\n"
     ]
    },
    {
     "name": "stdout",
     "output_type": "stream",
     "text": [
      "Round 234, winrate: 0.0, max_step: 196, reward: 0.25259999999999977, example: {'ranks': [{'rank': 1, 'agentID': 1}, {'rank': 2, 'agentID': 0}], 'replayFile': 'replays/133003720.json'}\n",
      "train loss in 1 epoch in 1 batch: 12.48492\n",
      "val loss in 1 epoch: 10.09239\n",
      "Round 235, winrate: 0.0, max_step: 152, reward: 0.09809999999999962, example: {'ranks': [{'rank': 1, 'agentID': 0}, {'rank': 2, 'agentID': 1}], 'replayFile': 'replays/775619992.json'}\n",
      "train loss in 1 epoch in 1 batch: 11.30663\n",
      "val loss in 1 epoch: 7.72098\n",
      "Round 236, winrate: 0.0, max_step: 350, reward: 0.03439999999999996, example: {'ranks': [{'rank': 1, 'agentID': 1}, {'rank': 2, 'agentID': 0}], 'replayFile': 'replays/334431105.json'}\n",
      "train loss in 1 epoch in 1 batch: 13.67281\n",
      "val loss in 1 epoch: 10.35243\n",
      "Round 237, winrate: 0.0, max_step: 110, reward: 0.041799999999999976, example: {'ranks': [{'rank': 1, 'agentID': 0}, {'rank': 2, 'agentID': 1}], 'replayFile': 'replays/607866348.json'}\n",
      "train loss in 1 epoch in 1 batch: 10.38216\n",
      "val loss in 1 epoch: 8.55597\n"
     ]
    },
    {
     "name": "stderr",
     "output_type": "stream",
     "text": [
      "/Library/Frameworks/Python.framework/Versions/3.7/lib/python3.7/site-packages/IPython/core/interactiveshell.py:3338: DtypeWarning: Columns (9,10,11,12,13,14) have mixed types.Specify dtype option on import or set low_memory=False.\n",
      "  if (await self.run_code(code, result,  async_=asy)):\n"
     ]
    },
    {
     "name": "stdout",
     "output_type": "stream",
     "text": [
      "Round 238, winrate: 0.0, max_step: 279, reward: 0.07740000000000026, example: {'ranks': [{'rank': 1, 'agentID': 1}, {'rank': 2, 'agentID': 0}], 'replayFile': 'replays/280626723.json'}\n",
      "train loss in 1 epoch in 1 batch: 28.77499\n",
      "val loss in 1 epoch: 9.16688\n",
      "Round 239, winrate: 0.0, max_step: 189, reward: 0.014999999999999965, example: {'ranks': [{'rank': 1, 'agentID': 0}, {'rank': 2, 'agentID': 1}], 'replayFile': 'replays/256973224.json'}\n",
      "train loss in 1 epoch in 1 batch: 108.50964\n",
      "val loss in 1 epoch: 102.53119\n",
      "Round 240, winrate: 0.0, max_step: 359, reward: 0.0359, example: {'ranks': [{'rank': 1, 'agentID': 1}, {'rank': 2, 'agentID': 0}], 'replayFile': 'replays/186859151.json'}\n",
      "train loss in 1 epoch in 1 batch: 86.44294\n",
      "val loss in 1 epoch: 78.24887\n"
     ]
    },
    {
     "name": "stderr",
     "output_type": "stream",
     "text": [
      "/Library/Frameworks/Python.framework/Versions/3.7/lib/python3.7/site-packages/IPython/core/interactiveshell.py:3338: DtypeWarning: Columns (9,10,11,12,13,14,17,18,19,20,21,22) have mixed types.Specify dtype option on import or set low_memory=False.\n",
      "  if (await self.run_code(code, result,  async_=asy)):\n"
     ]
    },
    {
     "name": "stdout",
     "output_type": "stream",
     "text": [
      "Round 241, winrate: 0.0, max_step: 310, reward: 0.029799999999999927, example: {'ranks': [{'rank': 1, 'agentID': 0}, {'rank': 2, 'agentID': 1}], 'replayFile': 'replays/493695404.json'}\n",
      "train loss in 1 epoch in 1 batch: 11.65643\n",
      "val loss in 1 epoch: 8.04308\n",
      "Round 242, winrate: 0.0, max_step: 319, reward: 0.17479999999999807, example: {'ranks': [{'rank': 1, 'agentID': 1}, {'rank': 2, 'agentID': 0}], 'replayFile': 'replays/793222286.json'}\n",
      "train loss in 1 epoch in 1 batch: 12.16484\n",
      "val loss in 1 epoch: 7.15429\n",
      "train loss in 1 epoch in 2 batch: 2.83289\n",
      "val loss in 1 epoch: 7.13494\n"
     ]
    },
    {
     "name": "stderr",
     "output_type": "stream",
     "text": [
      "/Library/Frameworks/Python.framework/Versions/3.7/lib/python3.7/site-packages/IPython/core/interactiveshell.py:3338: DtypeWarning: Columns (26,27,28) have mixed types.Specify dtype option on import or set low_memory=False.\n",
      "  if (await self.run_code(code, result,  async_=asy)):\n"
     ]
    },
    {
     "name": "stdout",
     "output_type": "stream",
     "text": [
      "Round 243, winrate: 0.0, max_step: 359, reward: 0.028099999999999885, example: {'ranks': [{'rank': 1, 'agentID': 0}, {'rank': 2, 'agentID': 1}], 'replayFile': 'replays/891787127.json'}\n",
      "train loss in 1 epoch in 1 batch: 105.22289\n",
      "val loss in 1 epoch: 100.85181\n"
     ]
    },
    {
     "name": "stderr",
     "output_type": "stream",
     "text": [
      "/Library/Frameworks/Python.framework/Versions/3.7/lib/python3.7/site-packages/IPython/core/interactiveshell.py:3338: DtypeWarning: Columns (9,10,11,12,13,14) have mixed types.Specify dtype option on import or set low_memory=False.\n",
      "  if (await self.run_code(code, result,  async_=asy)):\n"
     ]
    },
    {
     "name": "stdout",
     "output_type": "stream",
     "text": [
      "Round 244, winrate: 0.0, max_step: 275, reward: 0.016499999999999956, example: {'ranks': [{'rank': 1, 'agentID': 1}, {'rank': 2, 'agentID': 0}], 'replayFile': 'replays/174709226.json'}\n",
      "train loss in 1 epoch in 1 batch: 10.15720\n",
      "val loss in 1 epoch: 7.40940\n",
      "Round 245, winrate: 1.0, max_step: 315, reward: 1.0312, example: {'ranks': [{'rank': 1, 'agentID': 1}, {'rank': 2, 'agentID': 0}], 'replayFile': 'replays/673682229.json'}\n",
      "train loss in 1 epoch in 1 batch: 12.68799\n",
      "val loss in 1 epoch: 7.78711\n",
      "Round 246, winrate: 0.0, max_step: 359, reward: 0.31129999999999597, example: {'ranks': [{'rank': 1, 'agentID': 1}, {'rank': 2, 'agentID': 0}], 'replayFile': 'replays/986336164.json'}\n",
      "train loss in 1 epoch in 1 batch: 7.78667\n",
      "val loss in 1 epoch: 8.34383\n",
      "train loss in 1 epoch in 2 batch: 4.88193\n",
      "val loss in 1 epoch: 8.44020\n",
      "Round 247, winrate: 0.0, max_step: 112, reward: 0.02559999999999996, example: {'ranks': [{'rank': 1, 'agentID': 0}, {'rank': 2, 'agentID': 1}], 'replayFile': 'replays/498990719.json'}\n",
      "train loss in 1 epoch in 1 batch: 4.74984\n",
      "val loss in 1 epoch: 12.27021\n"
     ]
    },
    {
     "name": "stderr",
     "output_type": "stream",
     "text": [
      "/Library/Frameworks/Python.framework/Versions/3.7/lib/python3.7/site-packages/IPython/core/interactiveshell.py:3338: DtypeWarning: Columns (17,18,19,20,21,22) have mixed types.Specify dtype option on import or set low_memory=False.\n",
      "  if (await self.run_code(code, result,  async_=asy)):\n"
     ]
    },
    {
     "name": "stdout",
     "output_type": "stream",
     "text": [
      "Round 248, winrate: 0.0, max_step: 199, reward: 0.018699999999999942, example: {'ranks': [{'rank': 1, 'agentID': 1}, {'rank': 2, 'agentID': 0}], 'replayFile': 'replays/824576254.json'}\n",
      "train loss in 1 epoch in 1 batch: 5.20413\n",
      "val loss in 1 epoch: 3.72458\n",
      "Round 249, winrate: 0.0, max_step: 359, reward: 1.0841000000000063, example: {'ranks': [{'rank': 1, 'agentID': 0}, {'rank': 2, 'agentID': 1}], 'replayFile': 'replays/72742160.json'}\n",
      "train loss in 1 epoch in 1 batch: 10.94092\n",
      "val loss in 1 epoch: 7.38382\n",
      "train loss in 1 epoch in 2 batch: 8.06776\n",
      "val loss in 1 epoch: 7.29374\n",
      "train loss in 1 epoch in 3 batch: 12.94835\n",
      "val loss in 1 epoch: 7.37136\n",
      "Round 250, winrate: 1.0, max_step: 154, reward: 1.0076, example: {'ranks': [{'rank': 1, 'agentID': 0}, {'rank': 2, 'agentID': 1}], 'replayFile': 'replays/922470254.json'}\n",
      "train loss in 1 epoch in 1 batch: 117.47575\n",
      "val loss in 1 epoch: 108.81008\n"
     ]
    },
    {
     "name": "stderr",
     "output_type": "stream",
     "text": [
      "/Library/Frameworks/Python.framework/Versions/3.7/lib/python3.7/site-packages/IPython/core/interactiveshell.py:3338: DtypeWarning: Columns (9,10,11,12,13,14) have mixed types.Specify dtype option on import or set low_memory=False.\n",
      "  if (await self.run_code(code, result,  async_=asy)):\n"
     ]
    },
    {
     "name": "stdout",
     "output_type": "stream",
     "text": [
      "Round 251, winrate: 0.0, max_step: 359, reward: 0.1346999999999995, example: {'ranks': [{'rank': 1, 'agentID': 0}, {'rank': 2, 'agentID': 1}], 'replayFile': 'replays/591035737.json'}\n",
      "train loss in 1 epoch in 1 batch: 6.25754\n",
      "val loss in 1 epoch: 6.05529\n",
      "Round 252, winrate: 0.0, max_step: 236, reward: 0.05599999999999974, example: {'ranks': [{'rank': 1, 'agentID': 1}, {'rank': 2, 'agentID': 0}], 'replayFile': 'replays/23250075.json'}\n",
      "train loss in 1 epoch in 1 batch: 10.54768\n",
      "val loss in 1 epoch: 24.25507\n"
     ]
    },
    {
     "name": "stderr",
     "output_type": "stream",
     "text": [
      "/Library/Frameworks/Python.framework/Versions/3.7/lib/python3.7/site-packages/IPython/core/interactiveshell.py:3338: DtypeWarning: Columns (26,27,28) have mixed types.Specify dtype option on import or set low_memory=False.\n",
      "  if (await self.run_code(code, result,  async_=asy)):\n"
     ]
    },
    {
     "name": "stdout",
     "output_type": "stream",
     "text": [
      "Round 253, winrate: 0.0, max_step: 315, reward: 0.025299999999999902, example: {'ranks': [{'rank': 1, 'agentID': 0}, {'rank': 2, 'agentID': 1}], 'replayFile': 'replays/51796747.json'}\n",
      "train loss in 1 epoch in 1 batch: 109.25944\n",
      "val loss in 1 epoch: 101.99330\n"
     ]
    },
    {
     "name": "stderr",
     "output_type": "stream",
     "text": [
      "/Library/Frameworks/Python.framework/Versions/3.7/lib/python3.7/site-packages/IPython/core/interactiveshell.py:3338: DtypeWarning: Columns (26,27,28) have mixed types.Specify dtype option on import or set low_memory=False.\n",
      "  if (await self.run_code(code, result,  async_=asy)):\n"
     ]
    },
    {
     "name": "stdout",
     "output_type": "stream",
     "text": [
      "Round 254, winrate: 0.0, max_step: 351, reward: 0.023099999999999916, example: {'ranks': [{'rank': 1, 'agentID': 1}, {'rank': 2, 'agentID': 0}], 'replayFile': 'replays/51804998.json'}\n",
      "train loss in 1 epoch in 1 batch: 101.73236\n",
      "val loss in 1 epoch: 101.89784\n",
      "Round 255, winrate: 0.0, max_step: 199, reward: 0.010599999999999991, example: {'ranks': [{'rank': 1, 'agentID': 0}, {'rank': 2, 'agentID': 1}], 'replayFile': 'replays/918850355.json'}\n",
      "train loss in 1 epoch in 1 batch: 111.47037\n",
      "val loss in 1 epoch: 96.22057\n",
      "Round 256, winrate: 0.0, max_step: 150, reward: 0.014699999999999967, example: {'ranks': [{'rank': 1, 'agentID': 1}, {'rank': 2, 'agentID': 0}], 'replayFile': 'replays/196639904.json'}\n",
      "train loss in 1 epoch in 1 batch: 3.77633\n",
      "val loss in 1 epoch: 5.88007\n",
      "Round 257, winrate: 0.0, max_step: 355, reward: 0.14649999999999855, example: {'ranks': [{'rank': 1, 'agentID': 0}, {'rank': 2, 'agentID': 1}], 'replayFile': 'replays/772348806.json'}\n",
      "train loss in 1 epoch in 1 batch: 10.06912\n",
      "val loss in 1 epoch: 8.76483\n",
      "Round 258, winrate: 0.0, max_step: 153, reward: 0.005, example: {'ranks': [{'rank': 1, 'agentID': 1}, {'rank': 2, 'agentID': 0}], 'replayFile': 'replays/363471047.json'}\n",
      "train loss in 1 epoch in 1 batch: 102.73975\n",
      "val loss in 1 epoch: 92.65649\n"
     ]
    },
    {
     "name": "stderr",
     "output_type": "stream",
     "text": [
      "/Library/Frameworks/Python.framework/Versions/3.7/lib/python3.7/site-packages/IPython/core/interactiveshell.py:3338: DtypeWarning: Columns (26,27,28) have mixed types.Specify dtype option on import or set low_memory=False.\n",
      "  if (await self.run_code(code, result,  async_=asy)):\n"
     ]
    },
    {
     "name": "stdout",
     "output_type": "stream",
     "text": [
      "Round 259, winrate: 0.0, max_step: 349, reward: 0.023399999999999914, example: {'ranks': [{'rank': 1, 'agentID': 0}, {'rank': 2, 'agentID': 1}], 'replayFile': 'replays/816988264.json'}\n",
      "train loss in 1 epoch in 1 batch: 96.57592\n",
      "val loss in 1 epoch: 91.21517\n",
      "Round 260, winrate: 0.0, max_step: 359, reward: 0.09419999999999931, example: {'ranks': [{'rank': 1, 'agentID': 1}, {'rank': 2, 'agentID': 0}], 'replayFile': 'replays/414944266.json'}\n",
      "train loss in 1 epoch in 1 batch: 6.94849\n",
      "val loss in 1 epoch: 5.83231\n",
      "Round 261, winrate: 0.0, max_step: 359, reward: 0.040500000000000154, example: {'ranks': [{'rank': 1, 'agentID': 0}, {'rank': 2, 'agentID': 1}], 'replayFile': 'replays/218768096.json'}\n",
      "train loss in 1 epoch in 1 batch: 9.43448\n",
      "val loss in 1 epoch: 8.67739\n"
     ]
    },
    {
     "name": "stderr",
     "output_type": "stream",
     "text": [
      "/Library/Frameworks/Python.framework/Versions/3.7/lib/python3.7/site-packages/IPython/core/interactiveshell.py:3338: DtypeWarning: Columns (26,27,28) have mixed types.Specify dtype option on import or set low_memory=False.\n",
      "  if (await self.run_code(code, result,  async_=asy)):\n"
     ]
    },
    {
     "name": "stdout",
     "output_type": "stream",
     "text": [
      "Round 262, winrate: 1.0, max_step: 359, reward: 3.2111999999999976, example: {'ranks': [{'rank': 1, 'agentID': 0}, {'rank': 2, 'agentID': 1}], 'replayFile': 'replays/610542285.json'}\n",
      "train loss in 1 epoch in 1 batch: 5.73999\n",
      "val loss in 1 epoch: 6.03939\n",
      "train loss in 1 epoch in 2 batch: 1.87183\n",
      "val loss in 1 epoch: 5.90039\n"
     ]
    },
    {
     "name": "stderr",
     "output_type": "stream",
     "text": [
      "/Library/Frameworks/Python.framework/Versions/3.7/lib/python3.7/site-packages/IPython/core/interactiveshell.py:3338: DtypeWarning: Columns (9,10,11,12,13,14) have mixed types.Specify dtype option on import or set low_memory=False.\n",
      "  if (await self.run_code(code, result,  async_=asy)):\n"
     ]
    },
    {
     "name": "stdout",
     "output_type": "stream",
     "text": [
      "Round 263, winrate: 0.0, max_step: 319, reward: 0.1290999999999989, example: {'ranks': [{'rank': 1, 'agentID': 0}, {'rank': 2, 'agentID': 1}], 'replayFile': 'replays/314751461.json'}\n",
      "train loss in 1 epoch in 1 batch: 14.40554\n",
      "val loss in 1 epoch: 7.25798\n"
     ]
    },
    {
     "name": "stderr",
     "output_type": "stream",
     "text": [
      "/Library/Frameworks/Python.framework/Versions/3.7/lib/python3.7/site-packages/IPython/core/interactiveshell.py:3338: DtypeWarning: Columns (9,10,11,12,13,14,17,18,19,20,21,22) have mixed types.Specify dtype option on import or set low_memory=False.\n",
      "  if (await self.run_code(code, result,  async_=asy)):\n"
     ]
    },
    {
     "name": "stdout",
     "output_type": "stream",
     "text": [
      "Round 264, winrate: 0.0, max_step: 310, reward: 0.029599999999999876, example: {'ranks': [{'rank': 1, 'agentID': 1}, {'rank': 2, 'agentID': 0}], 'replayFile': 'replays/113670318.json'}\n",
      "train loss in 1 epoch in 1 batch: 17.80640\n",
      "val loss in 1 epoch: 8.32572\n"
     ]
    },
    {
     "name": "stderr",
     "output_type": "stream",
     "text": [
      "/Library/Frameworks/Python.framework/Versions/3.7/lib/python3.7/site-packages/IPython/core/interactiveshell.py:3338: DtypeWarning: Columns (9,10,11,12,13,14) have mixed types.Specify dtype option on import or set low_memory=False.\n",
      "  if (await self.run_code(code, result,  async_=asy)):\n"
     ]
    },
    {
     "name": "stdout",
     "output_type": "stream",
     "text": [
      "Round 265, winrate: 0.0, max_step: 359, reward: 0.04889999999999976, example: {'ranks': [{'rank': 1, 'agentID': 0}, {'rank': 2, 'agentID': 1}], 'replayFile': 'replays/94157877.json'}\n",
      "train loss in 1 epoch in 1 batch: 9.71427\n",
      "val loss in 1 epoch: 4.77721\n",
      "Round 266, winrate: 0.0, max_step: 310, reward: 0.1765999999999982, example: {'ranks': [{'rank': 1, 'agentID': 1}, {'rank': 2, 'agentID': 0}], 'replayFile': 'replays/342154546.json'}\n",
      "train loss in 1 epoch in 1 batch: 9.36287\n",
      "val loss in 1 epoch: 4.96722\n",
      "train loss in 1 epoch in 2 batch: 1.72342\n",
      "val loss in 1 epoch: 4.81946\n",
      "Round 267, winrate: 0.0, max_step: 234, reward: 0.0018000000000000006, example: {'ranks': [{'rank': 1, 'agentID': 0}, {'rank': 2, 'agentID': 1}], 'replayFile': 'replays/758621641.json'}\n",
      "train loss in 1 epoch in 1 batch: 72.61855\n",
      "val loss in 1 epoch: 74.23432\n"
     ]
    },
    {
     "name": "stderr",
     "output_type": "stream",
     "text": [
      "/Library/Frameworks/Python.framework/Versions/3.7/lib/python3.7/site-packages/IPython/core/interactiveshell.py:3338: DtypeWarning: Columns (26,27,28) have mixed types.Specify dtype option on import or set low_memory=False.\n",
      "  if (await self.run_code(code, result,  async_=asy)):\n"
     ]
    },
    {
     "name": "stdout",
     "output_type": "stream",
     "text": [
      "Round 268, winrate: 0.0, max_step: 159, reward: 0.04349999999999985, example: {'ranks': [{'rank': 1, 'agentID': 1}, {'rank': 2, 'agentID': 0}], 'replayFile': 'replays/639857071.json'}\n",
      "train loss in 1 epoch in 1 batch: 98.16914\n",
      "val loss in 1 epoch: 90.70955\n",
      "Round 269, winrate: 0.0, max_step: 270, reward: 0.023599999999999913, example: {'ranks': [{'rank': 1, 'agentID': 0}, {'rank': 2, 'agentID': 1}], 'replayFile': 'replays/35726716.json'}\n",
      "train loss in 1 epoch in 1 batch: 5.47174\n",
      "val loss in 1 epoch: 6.53862\n",
      "Round 270, winrate: 0.0, max_step: 151, reward: 0.008500000000000004, example: {'ranks': [{'rank': 1, 'agentID': 1}, {'rank': 2, 'agentID': 0}], 'replayFile': 'replays/833760288.json'}\n",
      "train loss in 1 epoch in 1 batch: 74.26538\n",
      "val loss in 1 epoch: 73.54098\n",
      "Round 271, winrate: 0.0, max_step: 318, reward: 0.017999999999999947, example: {'ranks': [{'rank': 1, 'agentID': 0}, {'rank': 2, 'agentID': 1}], 'replayFile': 'replays/596505449.json'}\n",
      "train loss in 1 epoch in 1 batch: 98.24495\n",
      "val loss in 1 epoch: 86.00043\n",
      "Round 272, winrate: 0.0, max_step: 230, reward: 0.022699999999999918, example: {'ranks': [{'rank': 1, 'agentID': 1}, {'rank': 2, 'agentID': 0}], 'replayFile': 'replays/735954539.json'}\n",
      "train loss in 1 epoch in 1 batch: 3.73456\n",
      "val loss in 1 epoch: 6.71374\n",
      "Round 273, winrate: 0.0, max_step: 359, reward: 0.48640000000000005, example: {'ranks': [{'rank': 1, 'agentID': 0}, {'rank': 2, 'agentID': 1}], 'replayFile': 'replays/312366831.json'}\n",
      "train loss in 1 epoch in 1 batch: 4.22909\n",
      "val loss in 1 epoch: 5.17667\n",
      "train loss in 1 epoch in 2 batch: 1.59202\n",
      "val loss in 1 epoch: 5.19684\n",
      "Round 274, winrate: 0.0, max_step: 359, reward: 0.32300000000000045, example: {'ranks': [{'rank': 1, 'agentID': 1}, {'rank': 2, 'agentID': 0}], 'replayFile': 'replays/139566706.json'}\n",
      "train loss in 1 epoch in 1 batch: 6.31088\n",
      "val loss in 1 epoch: 6.57870\n",
      "train loss in 1 epoch in 2 batch: 1.40695\n",
      "val loss in 1 epoch: 6.66613\n",
      "Round 275, winrate: 0.0, max_step: 354, reward: 0.10110000000000081, example: {'ranks': [{'rank': 1, 'agentID': 0}, {'rank': 2, 'agentID': 1}], 'replayFile': 'replays/804541783.json'}\n",
      "train loss in 1 epoch in 1 batch: 7.47930\n",
      "val loss in 1 epoch: 4.89721\n"
     ]
    },
    {
     "name": "stderr",
     "output_type": "stream",
     "text": [
      "/Library/Frameworks/Python.framework/Versions/3.7/lib/python3.7/site-packages/IPython/core/interactiveshell.py:3338: DtypeWarning: Columns (9,10,11,12,13,14) have mixed types.Specify dtype option on import or set low_memory=False.\n",
      "  if (await self.run_code(code, result,  async_=asy)):\n"
     ]
    },
    {
     "name": "stdout",
     "output_type": "stream",
     "text": [
      "Round 276, winrate: 0.0, max_step: 196, reward: 0.013499999999999993, example: {'ranks': [{'rank': 1, 'agentID': 1}, {'rank': 2, 'agentID': 0}], 'replayFile': 'replays/918172834.json'}\n",
      "train loss in 1 epoch in 1 batch: 4.81472\n",
      "val loss in 1 epoch: 11.93752\n"
     ]
    },
    {
     "name": "stderr",
     "output_type": "stream",
     "text": [
      "/Library/Frameworks/Python.framework/Versions/3.7/lib/python3.7/site-packages/IPython/core/interactiveshell.py:3338: DtypeWarning: Columns (17,18,19,20,21,22) have mixed types.Specify dtype option on import or set low_memory=False.\n",
      "  if (await self.run_code(code, result,  async_=asy)):\n"
     ]
    },
    {
     "name": "stdout",
     "output_type": "stream",
     "text": [
      "Round 277, winrate: 0.0, max_step: 359, reward: 0.08690000000000038, example: {'ranks': [{'rank': 1, 'agentID': 0}, {'rank': 2, 'agentID': 1}], 'replayFile': 'replays/121744725.json'}\n",
      "train loss in 1 epoch in 1 batch: 6.35639\n",
      "val loss in 1 epoch: 4.98309\n",
      "Round 278, winrate: 0.0, max_step: 349, reward: 0.024999999999999904, example: {'ranks': [{'rank': 1, 'agentID': 1}, {'rank': 2, 'agentID': 0}], 'replayFile': 'replays/841052320.json'}\n",
      "train loss in 1 epoch in 1 batch: 117.75623\n",
      "val loss in 1 epoch: 104.25915\n"
     ]
    },
    {
     "name": "stderr",
     "output_type": "stream",
     "text": [
      "/Library/Frameworks/Python.framework/Versions/3.7/lib/python3.7/site-packages/IPython/core/interactiveshell.py:3338: DtypeWarning: Columns (9,10,11,12,13,14) have mixed types.Specify dtype option on import or set low_memory=False.\n",
      "  if (await self.run_code(code, result,  async_=asy)):\n"
     ]
    },
    {
     "name": "stdout",
     "output_type": "stream",
     "text": [
      "Round 279, winrate: 0.0, max_step: 359, reward: 0.057799999999999706, example: {'ranks': [{'rank': 1, 'agentID': 0}, {'rank': 2, 'agentID': 1}], 'replayFile': 'replays/368454705.json'}\n",
      "train loss in 1 epoch in 1 batch: 9.16526\n",
      "val loss in 1 epoch: 4.37678\n",
      "Round 280, winrate: 0.0, max_step: 231, reward: 0.021199999999999927, example: {'ranks': [{'rank': 1, 'agentID': 1}, {'rank': 2, 'agentID': 0}], 'replayFile': 'replays/572330789.json'}\n",
      "train loss in 1 epoch in 1 batch: 100.97775\n",
      "val loss in 1 epoch: 93.72052\n"
     ]
    },
    {
     "name": "stderr",
     "output_type": "stream",
     "text": [
      "/Library/Frameworks/Python.framework/Versions/3.7/lib/python3.7/site-packages/IPython/core/interactiveshell.py:3338: DtypeWarning: Columns (9,10,11,12,13,14,17,18,19,20,21,22) have mixed types.Specify dtype option on import or set low_memory=False.\n",
      "  if (await self.run_code(code, result,  async_=asy)):\n"
     ]
    },
    {
     "name": "stdout",
     "output_type": "stream",
     "text": [
      "Round 281, winrate: 0.0, max_step: 279, reward: 0.028099999999999885, example: {'ranks': [{'rank': 1, 'agentID': 0}, {'rank': 2, 'agentID': 1}], 'replayFile': 'replays/878061684.json'}\n",
      "train loss in 1 epoch in 1 batch: 12.24134\n",
      "val loss in 1 epoch: 5.39210\n",
      "Round 282, winrate: 0.0, max_step: 199, reward: 0.013499999999999974, example: {'ranks': [{'rank': 1, 'agentID': 1}, {'rank': 2, 'agentID': 0}], 'replayFile': 'replays/508637049.json'}\n",
      "train loss in 1 epoch in 1 batch: 71.48084\n",
      "val loss in 1 epoch: 73.43184\n",
      "Round 283, winrate: 0.0, max_step: 318, reward: 0.08190000000000025, example: {'ranks': [{'rank': 1, 'agentID': 0}, {'rank': 2, 'agentID': 1}], 'replayFile': 'replays/418394767.json'}\n",
      "train loss in 1 epoch in 1 batch: 8.88478\n",
      "val loss in 1 epoch: 5.49684\n"
     ]
    },
    {
     "name": "stderr",
     "output_type": "stream",
     "text": [
      "/Library/Frameworks/Python.framework/Versions/3.7/lib/python3.7/site-packages/IPython/core/interactiveshell.py:3338: DtypeWarning: Columns (9,10,11,12,13,14) have mixed types.Specify dtype option on import or set low_memory=False.\n",
      "  if (await self.run_code(code, result,  async_=asy)):\n"
     ]
    },
    {
     "name": "stdout",
     "output_type": "stream",
     "text": [
      "Round 284, winrate: 0.0, max_step: 199, reward: 0.015299999999999963, example: {'ranks': [{'rank': 1, 'agentID': 1}, {'rank': 2, 'agentID': 0}], 'replayFile': 'replays/411791308.json'}\n",
      "train loss in 1 epoch in 1 batch: 88.46063\n",
      "val loss in 1 epoch: 88.67244\n",
      "Round 285, winrate: 0.0, max_step: 270, reward: 0.08720000000000044, example: {'ranks': [{'rank': 1, 'agentID': 0}, {'rank': 2, 'agentID': 1}], 'replayFile': 'replays/10317473.json'}\n",
      "train loss in 1 epoch in 1 batch: 14.59575\n",
      "val loss in 1 epoch: 9.52555\n",
      "Round 286, winrate: 0.0, max_step: 190, reward: 0.01889999999999994, example: {'ranks': [{'rank': 1, 'agentID': 1}, {'rank': 2, 'agentID': 0}], 'replayFile': 'replays/622873037.json'}\n",
      "train loss in 1 epoch in 1 batch: 4.58355\n",
      "val loss in 1 epoch: 1.88027\n",
      "Round 287, winrate: 0.0, max_step: 154, reward: 0.048499999999999786, example: {'ranks': [{'rank': 1, 'agentID': 0}, {'rank': 2, 'agentID': 1}], 'replayFile': 'replays/620559351.json'}\n",
      "train loss in 1 epoch in 1 batch: 27.36492\n",
      "val loss in 1 epoch: 10.56452\n",
      "Round 288, winrate: 0.0, max_step: 111, reward: 0.004299999999999998, example: {'ranks': [{'rank': 1, 'agentID': 1}, {'rank': 2, 'agentID': 0}], 'replayFile': 'replays/228791458.json'}\n",
      "train loss in 1 epoch in 1 batch: 83.64062\n",
      "val loss in 1 epoch: 82.34924\n"
     ]
    },
    {
     "name": "stderr",
     "output_type": "stream",
     "text": [
      "/Library/Frameworks/Python.framework/Versions/3.7/lib/python3.7/site-packages/IPython/core/interactiveshell.py:3338: DtypeWarning: Columns (26,27,28) have mixed types.Specify dtype option on import or set low_memory=False.\n",
      "  if (await self.run_code(code, result,  async_=asy)):\n"
     ]
    },
    {
     "name": "stdout",
     "output_type": "stream",
     "text": [
      "Round 289, winrate: 0.0, max_step: 352, reward: 0.031799999999999884, example: {'ranks': [{'rank': 1, 'agentID': 0}, {'rank': 2, 'agentID': 1}], 'replayFile': 'replays/975522479.json'}\n",
      "train loss in 1 epoch in 1 batch: 66.25668\n",
      "val loss in 1 epoch: 61.88345\n",
      "Round 290, winrate: 0.0, max_step: 158, reward: 0.01579999999999996, example: {'ranks': [{'rank': 1, 'agentID': 1}, {'rank': 2, 'agentID': 0}], 'replayFile': 'replays/100556268.json'}\n",
      "train loss in 1 epoch in 1 batch: 79.13387\n",
      "val loss in 1 epoch: 73.88601\n",
      "Round 291, winrate: 0.0, max_step: 238, reward: 0.0021000000000000003, example: {'ranks': [{'rank': 1, 'agentID': 0}, {'rank': 2, 'agentID': 1}], 'replayFile': 'replays/422279215.json'}\n",
      "train loss in 1 epoch in 1 batch: 70.18085\n",
      "val loss in 1 epoch: 73.10686\n"
     ]
    },
    {
     "name": "stderr",
     "output_type": "stream",
     "text": [
      "/Library/Frameworks/Python.framework/Versions/3.7/lib/python3.7/site-packages/IPython/core/interactiveshell.py:3338: DtypeWarning: Columns (17,18,19,20,21,22) have mixed types.Specify dtype option on import or set low_memory=False.\n",
      "  if (await self.run_code(code, result,  async_=asy)):\n"
     ]
    },
    {
     "name": "stdout",
     "output_type": "stream",
     "text": [
      "Round 292, winrate: 0.0, max_step: 236, reward: 0.2860999999999972, example: {'ranks': [{'rank': 1, 'agentID': 1}, {'rank': 2, 'agentID': 0}], 'replayFile': 'replays/5563564.json'}\n",
      "train loss in 1 epoch in 1 batch: 6.54659\n",
      "val loss in 1 epoch: 7.51732\n",
      "train loss in 1 epoch in 2 batch: 1.76589\n",
      "val loss in 1 epoch: 7.58606\n",
      "Round 293, winrate: 0.0, max_step: 359, reward: 0.08110000000000021, example: {'ranks': [{'rank': 1, 'agentID': 0}, {'rank': 2, 'agentID': 1}], 'replayFile': 'replays/282341798.json'}\n",
      "train loss in 1 epoch in 1 batch: 3.50639\n",
      "val loss in 1 epoch: 2.75564\n"
     ]
    },
    {
     "name": "stderr",
     "output_type": "stream",
     "text": [
      "/Library/Frameworks/Python.framework/Versions/3.7/lib/python3.7/site-packages/IPython/core/interactiveshell.py:3338: DtypeWarning: Columns (17,18,19,20,21,22,26,27,28) have mixed types.Specify dtype option on import or set low_memory=False.\n",
      "  if (await self.run_code(code, result,  async_=asy)):\n"
     ]
    },
    {
     "name": "stdout",
     "output_type": "stream",
     "text": [
      "Round 294, winrate: 0.0, max_step: 350, reward: 0.009499999999999998, example: {'ranks': [{'rank': 1, 'agentID': 1}, {'rank': 2, 'agentID': 0}], 'replayFile': 'replays/721663450.json'}\n",
      "train loss in 1 epoch in 1 batch: 79.25822\n",
      "val loss in 1 epoch: 76.68885\n",
      "Round 295, winrate: 0.0, max_step: 359, reward: 0.19449999999999776, example: {'ranks': [{'rank': 1, 'agentID': 0}, {'rank': 2, 'agentID': 1}], 'replayFile': 'replays/524644576.json'}\n",
      "train loss in 1 epoch in 1 batch: 10.85058\n",
      "val loss in 1 epoch: 6.27752\n",
      "train loss in 1 epoch in 2 batch: 1.73119\n",
      "val loss in 1 epoch: 6.18231\n"
     ]
    },
    {
     "name": "stderr",
     "output_type": "stream",
     "text": [
      "/Library/Frameworks/Python.framework/Versions/3.7/lib/python3.7/site-packages/IPython/core/interactiveshell.py:3338: DtypeWarning: Columns (9,10,11,12,13,14) have mixed types.Specify dtype option on import or set low_memory=False.\n",
      "  if (await self.run_code(code, result,  async_=asy)):\n"
     ]
    },
    {
     "name": "stdout",
     "output_type": "stream",
     "text": [
      "Round 296, winrate: 0.0, max_step: 276, reward: 0.023099999999999916, example: {'ranks': [{'rank': 1, 'agentID': 1}, {'rank': 2, 'agentID': 0}], 'replayFile': 'replays/234810708.json'}\n",
      "train loss in 1 epoch in 1 batch: 4.44381\n",
      "val loss in 1 epoch: 6.18718\n"
     ]
    },
    {
     "name": "stderr",
     "output_type": "stream",
     "text": [
      "/Library/Frameworks/Python.framework/Versions/3.7/lib/python3.7/site-packages/IPython/core/interactiveshell.py:3338: DtypeWarning: Columns (26,27,28) have mixed types.Specify dtype option on import or set low_memory=False.\n",
      "  if (await self.run_code(code, result,  async_=asy)):\n"
     ]
    },
    {
     "name": "stdout",
     "output_type": "stream",
     "text": [
      "Round 297, winrate: 0.0, max_step: 230, reward: 0.016699999999999954, example: {'ranks': [{'rank': 1, 'agentID': 0}, {'rank': 2, 'agentID': 1}], 'replayFile': 'replays/857257094.json'}\n",
      "train loss in 1 epoch in 1 batch: 62.58701\n",
      "val loss in 1 epoch: 58.54592\n"
     ]
    },
    {
     "name": "stderr",
     "output_type": "stream",
     "text": [
      "/Library/Frameworks/Python.framework/Versions/3.7/lib/python3.7/site-packages/IPython/core/interactiveshell.py:3338: DtypeWarning: Columns (9,10,11,12,13,14,17,18,19,20,21,22) have mixed types.Specify dtype option on import or set low_memory=False.\n",
      "  if (await self.run_code(code, result,  async_=asy)):\n"
     ]
    },
    {
     "name": "stdout",
     "output_type": "stream",
     "text": [
      "Round 298, winrate: 0.0, max_step: 270, reward: 0.013299999999999975, example: {'ranks': [{'rank': 1, 'agentID': 1}, {'rank': 2, 'agentID': 0}], 'replayFile': 'replays/806161868.json'}\n",
      "train loss in 1 epoch in 1 batch: 57.68322\n",
      "val loss in 1 epoch: 52.76324\n",
      "Round 299, winrate: 0.0, max_step: 110, reward: 0.01079999999999999, example: {'ranks': [{'rank': 1, 'agentID': 0}, {'rank': 2, 'agentID': 1}], 'replayFile': 'replays/212837082.json'}\n",
      "train loss in 1 epoch in 1 batch: 3.38099\n",
      "val loss in 1 epoch: 6.27296\n"
     ]
    },
    {
     "name": "stderr",
     "output_type": "stream",
     "text": [
      "/Library/Frameworks/Python.framework/Versions/3.7/lib/python3.7/site-packages/IPython/core/interactiveshell.py:3338: DtypeWarning: Columns (9,10,11,12,13,14,26,27,28) have mixed types.Specify dtype option on import or set low_memory=False.\n",
      "  if (await self.run_code(code, result,  async_=asy)):\n"
     ]
    },
    {
     "name": "stdout",
     "output_type": "stream",
     "text": [
      "Round 300, winrate: 0.0, max_step: 359, reward: 0.022099999999999922, example: {'ranks': [{'rank': 1, 'agentID': 1}, {'rank': 2, 'agentID': 0}], 'replayFile': 'replays/863814865.json'}\n",
      "train loss in 1 epoch in 1 batch: 71.88177\n",
      "val loss in 1 epoch: 67.88151\n"
     ]
    },
    {
     "name": "stderr",
     "output_type": "stream",
     "text": [
      "/Library/Frameworks/Python.framework/Versions/3.7/lib/python3.7/site-packages/IPython/core/interactiveshell.py:3338: DtypeWarning: Columns (26,27,28) have mixed types.Specify dtype option on import or set low_memory=False.\n",
      "  if (await self.run_code(code, result,  async_=asy)):\n"
     ]
    },
    {
     "name": "stdout",
     "output_type": "stream",
     "text": [
      "Round 301, winrate: 0.0, max_step: 358, reward: 0.028499999999999883, example: {'ranks': [{'rank': 1, 'agentID': 0}, {'rank': 2, 'agentID': 1}], 'replayFile': 'replays/374864757.json'}\n",
      "train loss in 1 epoch in 1 batch: 57.25742\n",
      "val loss in 1 epoch: 50.39101\n",
      "Round 302, winrate: 0.0, max_step: 359, reward: 0.0898000000000005, example: {'ranks': [{'rank': 1, 'agentID': 1}, {'rank': 2, 'agentID': 0}], 'replayFile': 'replays/585323358.json'}\n",
      "train loss in 1 epoch in 1 batch: 4.46972\n",
      "val loss in 1 epoch: 3.95113\n",
      "Round 303, winrate: 0.0, max_step: 359, reward: 0.0359, example: {'ranks': [{'rank': 1, 'agentID': 0}, {'rank': 2, 'agentID': 1}], 'replayFile': 'replays/637499.json'}\n",
      "train loss in 1 epoch in 1 batch: 53.30433\n",
      "val loss in 1 epoch: 47.79302\n",
      "Round 304, winrate: 0.0, max_step: 358, reward: 0.15389999999999818, example: {'ranks': [{'rank': 1, 'agentID': 1}, {'rank': 2, 'agentID': 0}], 'replayFile': 'replays/716111135.json'}\n",
      "train loss in 1 epoch in 1 batch: 4.76321\n",
      "val loss in 1 epoch: 4.46028\n",
      "train loss in 1 epoch in 2 batch: 1.49323\n",
      "val loss in 1 epoch: 4.49600\n",
      "Round 305, winrate: 0.0, max_step: 359, reward: 0.07500000000000004, example: {'ranks': [{'rank': 1, 'agentID': 0}, {'rank': 2, 'agentID': 1}], 'replayFile': 'replays/666434985.json'}\n",
      "train loss in 1 epoch in 1 batch: 3.37749\n",
      "val loss in 1 epoch: 3.45540\n",
      "Round 306, winrate: 0.0, max_step: 274, reward: 0.009699999999999997, example: {'ranks': [{'rank': 1, 'agentID': 1}, {'rank': 2, 'agentID': 0}], 'replayFile': 'replays/172161760.json'}\n",
      "train loss in 1 epoch in 1 batch: 73.05927\n",
      "val loss in 1 epoch: 68.11891\n"
     ]
    },
    {
     "name": "stderr",
     "output_type": "stream",
     "text": [
      "/Library/Frameworks/Python.framework/Versions/3.7/lib/python3.7/site-packages/IPython/core/interactiveshell.py:3338: DtypeWarning: Columns (26,27,28) have mixed types.Specify dtype option on import or set low_memory=False.\n",
      "  if (await self.run_code(code, result,  async_=asy)):\n"
     ]
    },
    {
     "name": "stdout",
     "output_type": "stream",
     "text": [
      "Round 307, winrate: 0.0, max_step: 234, reward: 0.015299999999999963, example: {'ranks': [{'rank': 1, 'agentID': 0}, {'rank': 2, 'agentID': 1}], 'replayFile': 'replays/303357813.json'}\n",
      "train loss in 1 epoch in 1 batch: 65.95689\n",
      "val loss in 1 epoch: 65.05501\n",
      "Round 308, winrate: 0.0, max_step: 359, reward: 0.0981000000000007, example: {'ranks': [{'rank': 1, 'agentID': 1}, {'rank': 2, 'agentID': 0}], 'replayFile': 'replays/148017079.json'}\n",
      "train loss in 1 epoch in 1 batch: 5.47286\n",
      "val loss in 1 epoch: 4.12136\n",
      "Round 309, winrate: 0.0, max_step: 314, reward: 0.5026999999999944, example: {'ranks': [{'rank': 1, 'agentID': 0}, {'rank': 2, 'agentID': 1}], 'replayFile': 'replays/163002273.json'}\n",
      "train loss in 1 epoch in 1 batch: 4.25221\n",
      "val loss in 1 epoch: 4.60439\n",
      "train loss in 1 epoch in 2 batch: 1.40527\n",
      "val loss in 1 epoch: 4.55869\n",
      "Round 310, winrate: 0.0, max_step: 230, reward: 0.018599999999999943, example: {'ranks': [{'rank': 1, 'agentID': 1}, {'rank': 2, 'agentID': 0}], 'replayFile': 'replays/294288374.json'}\n",
      "train loss in 1 epoch in 1 batch: 53.42283\n",
      "val loss in 1 epoch: 49.68025\n",
      "Round 311, winrate: 0.0, max_step: 274, reward: 0.08740000000000045, example: {'ranks': [{'rank': 1, 'agentID': 0}, {'rank': 2, 'agentID': 1}], 'replayFile': 'replays/878489508.json'}\n",
      "train loss in 1 epoch in 1 batch: 52.17524\n",
      "val loss in 1 epoch: 48.74361\n"
     ]
    },
    {
     "name": "stderr",
     "output_type": "stream",
     "text": [
      "/Library/Frameworks/Python.framework/Versions/3.7/lib/python3.7/site-packages/IPython/core/interactiveshell.py:3338: DtypeWarning: Columns (26,27,28) have mixed types.Specify dtype option on import or set low_memory=False.\n",
      "  if (await self.run_code(code, result,  async_=asy)):\n"
     ]
    },
    {
     "name": "stdout",
     "output_type": "stream",
     "text": [
      "Round 312, winrate: 0.0, max_step: 273, reward: 0.024799999999999905, example: {'ranks': [{'rank': 1, 'agentID': 1}, {'rank': 2, 'agentID': 0}], 'replayFile': 'replays/930834848.json'}\n",
      "train loss in 1 epoch in 1 batch: 49.71632\n",
      "val loss in 1 epoch: 47.69840\n"
     ]
    },
    {
     "name": "stderr",
     "output_type": "stream",
     "text": [
      "/Library/Frameworks/Python.framework/Versions/3.7/lib/python3.7/site-packages/IPython/core/interactiveshell.py:3338: DtypeWarning: Columns (9,10,11,12,13,14) have mixed types.Specify dtype option on import or set low_memory=False.\n",
      "  if (await self.run_code(code, result,  async_=asy)):\n"
     ]
    },
    {
     "name": "stdout",
     "output_type": "stream",
     "text": [
      "Round 313, winrate: 0.0, max_step: 190, reward: 0.015599999999999961, example: {'ranks': [{'rank': 1, 'agentID': 0}, {'rank': 2, 'agentID': 1}], 'replayFile': 'replays/710987272.json'}\n",
      "train loss in 1 epoch in 1 batch: 5.10888\n",
      "val loss in 1 epoch: 7.13015\n"
     ]
    },
    {
     "name": "stderr",
     "output_type": "stream",
     "text": [
      "/Library/Frameworks/Python.framework/Versions/3.7/lib/python3.7/site-packages/IPython/core/interactiveshell.py:3338: DtypeWarning: Columns (9,10,11,12,13,14) have mixed types.Specify dtype option on import or set low_memory=False.\n",
      "  if (await self.run_code(code, result,  async_=asy)):\n"
     ]
    },
    {
     "name": "stdout",
     "output_type": "stream",
     "text": [
      "Round 314, winrate: 0.0, max_step: 230, reward: 0.010499999999999992, example: {'ranks': [{'rank': 1, 'agentID': 1}, {'rank': 2, 'agentID': 0}], 'replayFile': 'replays/716716552.json'}\n",
      "train loss in 1 epoch in 1 batch: 63.96305\n",
      "val loss in 1 epoch: 67.70107\n",
      "Round 315, winrate: 0.0, max_step: 310, reward: 0.1187000000000017, example: {'ranks': [{'rank': 1, 'agentID': 0}, {'rank': 2, 'agentID': 1}], 'replayFile': 'replays/501133161.json'}\n",
      "train loss in 1 epoch in 1 batch: 6.06220\n",
      "val loss in 1 epoch: 5.78986\n",
      "Round 316, winrate: 0.0, max_step: 112, reward: 0.030299999999999928, example: {'ranks': [{'rank': 1, 'agentID': 1}, {'rank': 2, 'agentID': 0}], 'replayFile': 'replays/346047293.json'}\n",
      "train loss in 1 epoch in 1 batch: 4.93820\n",
      "val loss in 1 epoch: 4.78024\n",
      "Round 317, winrate: 1.0, max_step: 150, reward: 2.0389, example: {'ranks': [{'rank': 1, 'agentID': 1}, {'rank': 2, 'agentID': 0}], 'replayFile': 'replays/233432823.json'}\n",
      "train loss in 1 epoch in 1 batch: 2.67855\n",
      "val loss in 1 epoch: 6.61860\n",
      "Round 318, winrate: 0.0, max_step: 278, reward: 0.02429999999999991, example: {'ranks': [{'rank': 1, 'agentID': 1}, {'rank': 2, 'agentID': 0}], 'replayFile': 'replays/372494755.json'}\n",
      "train loss in 1 epoch in 1 batch: 3.24046\n",
      "val loss in 1 epoch: 3.76728\n",
      "Round 319, winrate: 0.0, max_step: 236, reward: 0.10259999999999951, example: {'ranks': [{'rank': 1, 'agentID': 0}, {'rank': 2, 'agentID': 1}], 'replayFile': 'replays/303971039.json'}\n",
      "train loss in 1 epoch in 1 batch: 7.89966\n",
      "val loss in 1 epoch: 5.45594\n",
      "Round 320, winrate: 0.0, max_step: 359, reward: 0.2980999999999998, example: {'ranks': [{'rank': 1, 'agentID': 1}, {'rank': 2, 'agentID': 0}], 'replayFile': 'replays/920643341.json'}\n",
      "train loss in 1 epoch in 1 batch: 5.77986\n",
      "val loss in 1 epoch: 6.21524\n",
      "train loss in 1 epoch in 2 batch: 2.22773\n",
      "val loss in 1 epoch: 6.12330\n",
      "Round 321, winrate: 0.0, max_step: 193, reward: 0.007000000000000005, example: {'ranks': [{'rank': 1, 'agentID': 0}, {'rank': 2, 'agentID': 1}], 'replayFile': 'replays/583891956.json'}\n",
      "train loss in 1 epoch in 1 batch: 16.03925\n",
      "val loss in 1 epoch: 2.51468\n",
      "Round 322, winrate: 0.0, max_step: 230, reward: 0.017099999999999952, example: {'ranks': [{'rank': 1, 'agentID': 1}, {'rank': 2, 'agentID': 0}], 'replayFile': 'replays/698251680.json'}\n",
      "train loss in 1 epoch in 1 batch: 76.16147\n",
      "val loss in 1 epoch: 69.94127\n",
      "Round 323, winrate: 0.0, max_step: 359, reward: 0.21679999999999702, example: {'ranks': [{'rank': 1, 'agentID': 0}, {'rank': 2, 'agentID': 1}], 'replayFile': 'replays/959446200.json'}\n",
      "train loss in 1 epoch in 1 batch: 3.02549\n",
      "val loss in 1 epoch: 4.22301\n",
      "train loss in 1 epoch in 2 batch: 1.13629\n",
      "val loss in 1 epoch: 4.15501\n",
      "Round 324, winrate: 0.0, max_step: 194, reward: 0.008900000000000002, example: {'ranks': [{'rank': 1, 'agentID': 1}, {'rank': 2, 'agentID': 0}], 'replayFile': 'replays/259058329.json'}\n",
      "train loss in 1 epoch in 1 batch: 45.71747\n",
      "val loss in 1 epoch: 46.28816\n"
     ]
    },
    {
     "name": "stderr",
     "output_type": "stream",
     "text": [
      "/Library/Frameworks/Python.framework/Versions/3.7/lib/python3.7/site-packages/IPython/core/interactiveshell.py:3338: DtypeWarning: Columns (9,10,11,12,13,14,26,27,28) have mixed types.Specify dtype option on import or set low_memory=False.\n",
      "  if (await self.run_code(code, result,  async_=asy)):\n"
     ]
    },
    {
     "name": "stdout",
     "output_type": "stream",
     "text": [
      "Round 325, winrate: 0.0, max_step: 359, reward: 0.014699999999999967, example: {'ranks': [{'rank': 1, 'agentID': 0}, {'rank': 2, 'agentID': 1}], 'replayFile': 'replays/763364343.json'}\n",
      "train loss in 1 epoch in 1 batch: 71.24455\n",
      "val loss in 1 epoch: 66.57044\n",
      "Round 326, winrate: 0.0, max_step: 198, reward: 0.005400000000000001, example: {'ranks': [{'rank': 1, 'agentID': 1}, {'rank': 2, 'agentID': 0}], 'replayFile': 'replays/83845785.json'}\n",
      "train loss in 1 epoch in 1 batch: 44.61588\n",
      "val loss in 1 epoch: 42.79440\n",
      "Round 327, winrate: 0.0, max_step: 315, reward: 0.009799999999999996, example: {'ranks': [{'rank': 1, 'agentID': 0}, {'rank': 2, 'agentID': 1}], 'replayFile': 'replays/850225603.json'}\n",
      "train loss in 1 epoch in 1 batch: 59.23050\n",
      "val loss in 1 epoch: 58.50105\n",
      "Round 328, winrate: 0.0, max_step: 359, reward: 0.11210000000000116, example: {'ranks': [{'rank': 1, 'agentID': 1}, {'rank': 2, 'agentID': 0}], 'replayFile': 'replays/542491570.json'}\n",
      "train loss in 1 epoch in 1 batch: 2.95947\n",
      "val loss in 1 epoch: 2.95415\n"
     ]
    },
    {
     "name": "stderr",
     "output_type": "stream",
     "text": [
      "/Library/Frameworks/Python.framework/Versions/3.7/lib/python3.7/site-packages/IPython/core/interactiveshell.py:3338: DtypeWarning: Columns (9,10,11,12,13,14,17,18,19,20,21,22) have mixed types.Specify dtype option on import or set low_memory=False.\n",
      "  if (await self.run_code(code, result,  async_=asy)):\n"
     ]
    },
    {
     "name": "stdout",
     "output_type": "stream",
     "text": [
      "Round 329, winrate: 0.0, max_step: 316, reward: 0.0693999999999999, example: {'ranks': [{'rank': 1, 'agentID': 0}, {'rank': 2, 'agentID': 1}], 'replayFile': 'replays/317070217.json'}\n",
      "train loss in 1 epoch in 1 batch: 2.72825\n",
      "val loss in 1 epoch: 4.06228\n",
      "Round 330, winrate: 0.0, max_step: 156, reward: 0.010099999999999994, example: {'ranks': [{'rank': 1, 'agentID': 1}, {'rank': 2, 'agentID': 0}], 'replayFile': 'replays/844262656.json'}\n",
      "train loss in 1 epoch in 1 batch: 45.49133\n",
      "val loss in 1 epoch: 39.00880\n",
      "Round 331, winrate: 0.0, max_step: 189, reward: 0.016899999999999953, example: {'ranks': [{'rank': 1, 'agentID': 0}, {'rank': 2, 'agentID': 1}], 'replayFile': 'replays/844699060.json'}\n",
      "train loss in 1 epoch in 1 batch: 59.22445\n",
      "val loss in 1 epoch: 52.86372\n"
     ]
    },
    {
     "name": "stderr",
     "output_type": "stream",
     "text": [
      "/Library/Frameworks/Python.framework/Versions/3.7/lib/python3.7/site-packages/IPython/core/interactiveshell.py:3338: DtypeWarning: Columns (26,27,28) have mixed types.Specify dtype option on import or set low_memory=False.\n",
      "  if (await self.run_code(code, result,  async_=asy)):\n"
     ]
    },
    {
     "name": "stdout",
     "output_type": "stream",
     "text": [
      "Round 332, winrate: 0.0, max_step: 274, reward: 0.021099999999999928, example: {'ranks': [{'rank': 1, 'agentID': 1}, {'rank': 2, 'agentID': 0}], 'replayFile': 'replays/722306095.json'}\n",
      "train loss in 1 epoch in 1 batch: 37.27529\n",
      "val loss in 1 epoch: 35.99054\n",
      "Round 333, winrate: 0.0, max_step: 154, reward: 0.012899999999999977, example: {'ranks': [{'rank': 1, 'agentID': 0}, {'rank': 2, 'agentID': 1}], 'replayFile': 'replays/185933804.json'}\n",
      "train loss in 1 epoch in 1 batch: 38.28502\n",
      "val loss in 1 epoch: 36.50463\n",
      "Round 334, winrate: 0.0, max_step: 315, reward: 0.031099999999999867, example: {'ranks': [{'rank': 1, 'agentID': 1}, {'rank': 2, 'agentID': 0}], 'replayFile': 'replays/849408786.json'}\n",
      "train loss in 1 epoch in 1 batch: 21.48433\n",
      "val loss in 1 epoch: 4.05931\n",
      "Round 335, winrate: 0.0, max_step: 158, reward: 0.02589999999999989, example: {'ranks': [{'rank': 1, 'agentID': 0}, {'rank': 2, 'agentID': 1}], 'replayFile': 'replays/45167558.json'}\n",
      "train loss in 1 epoch in 1 batch: 35.25902\n",
      "val loss in 1 epoch: 31.46432\n",
      "Round 336, winrate: 0.0, max_step: 191, reward: 0.0038999999999999972, example: {'ranks': [{'rank': 1, 'agentID': 1}, {'rank': 2, 'agentID': 0}], 'replayFile': 'replays/817757603.json'}\n",
      "train loss in 1 epoch in 1 batch: 31.73977\n",
      "val loss in 1 epoch: 30.35847\n",
      "Round 337, winrate: 0.0, max_step: 359, reward: 1.0151000000000072, example: {'ranks': [{'rank': 1, 'agentID': 0}, {'rank': 2, 'agentID': 1}], 'replayFile': 'replays/214348036.json'}\n",
      "train loss in 1 epoch in 1 batch: 12.77051\n",
      "val loss in 1 epoch: 5.39325\n",
      "train loss in 1 epoch in 2 batch: 3.66934\n",
      "val loss in 1 epoch: 5.31759\n",
      "train loss in 1 epoch in 3 batch: 5.16047\n",
      "val loss in 1 epoch: 5.26539\n",
      "Round 338, winrate: 0.0, max_step: 110, reward: 0.003499999999999998, example: {'ranks': [{'rank': 1, 'agentID': 1}, {'rank': 2, 'agentID': 0}], 'replayFile': 'replays/504809039.json'}\n",
      "train loss in 1 epoch in 1 batch: 28.48872\n",
      "val loss in 1 epoch: 27.20658\n",
      "Round 339, winrate: 0.0, max_step: 359, reward: 0.12420000000000118, example: {'ranks': [{'rank': 1, 'agentID': 0}, {'rank': 2, 'agentID': 1}], 'replayFile': 'replays/591620214.json'}\n",
      "train loss in 1 epoch in 1 batch: 7.26296\n",
      "val loss in 1 epoch: 6.42601\n",
      "Round 340, winrate: 0.0, max_step: 230, reward: 0.0018000000000000006, example: {'ranks': [{'rank': 1, 'agentID': 1}, {'rank': 2, 'agentID': 0}], 'replayFile': 'replays/134947460.json'}\n",
      "train loss in 1 epoch in 1 batch: 54.55950\n",
      "val loss in 1 epoch: 44.54965\n",
      "Round 341, winrate: 0.0, max_step: 157, reward: 0.002899999999999999, example: {'ranks': [{'rank': 1, 'agentID': 0}, {'rank': 2, 'agentID': 1}], 'replayFile': 'replays/65141363.json'}\n",
      "train loss in 1 epoch in 1 batch: 48.72683\n",
      "val loss in 1 epoch: 37.92727\n",
      "Round 342, winrate: 0.0, max_step: 359, reward: 0.11630000000000128, example: {'ranks': [{'rank': 1, 'agentID': 1}, {'rank': 2, 'agentID': 0}], 'replayFile': 'replays/279320595.json'}\n",
      "train loss in 1 epoch in 1 batch: 3.95921\n",
      "val loss in 1 epoch: 3.73805\n",
      "Round 343, winrate: 0.0, max_step: 195, reward: 0.016299999999999957, example: {'ranks': [{'rank': 1, 'agentID': 0}, {'rank': 2, 'agentID': 1}], 'replayFile': 'replays/322363199.json'}\n",
      "train loss in 1 epoch in 1 batch: 37.91569\n",
      "val loss in 1 epoch: 37.58117\n"
     ]
    },
    {
     "name": "stderr",
     "output_type": "stream",
     "text": [
      "/Library/Frameworks/Python.framework/Versions/3.7/lib/python3.7/site-packages/IPython/core/interactiveshell.py:3338: DtypeWarning: Columns (26,27,28) have mixed types.Specify dtype option on import or set low_memory=False.\n",
      "  if (await self.run_code(code, result,  async_=asy)):\n"
     ]
    },
    {
     "name": "stdout",
     "output_type": "stream",
     "text": [
      "Round 344, winrate: 0.0, max_step: 350, reward: 0.025399999999999902, example: {'ranks': [{'rank': 1, 'agentID': 1}, {'rank': 2, 'agentID': 0}], 'replayFile': 'replays/274387573.json'}\n",
      "train loss in 1 epoch in 1 batch: 27.13529\n",
      "val loss in 1 epoch: 23.69228\n",
      "Round 345, winrate: 0.0, max_step: 235, reward: 0.0036999999999999976, example: {'ranks': [{'rank': 1, 'agentID': 0}, {'rank': 2, 'agentID': 1}], 'replayFile': 'replays/519376408.json'}\n",
      "train loss in 1 epoch in 1 batch: 24.45272\n",
      "val loss in 1 epoch: 23.64823\n"
     ]
    },
    {
     "name": "stderr",
     "output_type": "stream",
     "text": [
      "/Library/Frameworks/Python.framework/Versions/3.7/lib/python3.7/site-packages/IPython/core/interactiveshell.py:3338: DtypeWarning: Columns (17,18,19,20,21,22) have mixed types.Specify dtype option on import or set low_memory=False.\n",
      "  if (await self.run_code(code, result,  async_=asy)):\n"
     ]
    },
    {
     "name": "stdout",
     "output_type": "stream",
     "text": [
      "Round 346, winrate: 0.0, max_step: 271, reward: 0.25770000000000115, example: {'ranks': [{'rank': 1, 'agentID': 1}, {'rank': 2, 'agentID': 0}], 'replayFile': 'replays/402092820.json'}\n",
      "train loss in 1 epoch in 1 batch: 3.14244\n",
      "val loss in 1 epoch: 3.98109\n",
      "train loss in 1 epoch in 2 batch: 1.65533\n",
      "val loss in 1 epoch: 3.87503\n",
      "Round 347, winrate: 0.0, max_step: 194, reward: 0.0016000000000000005, example: {'ranks': [{'rank': 1, 'agentID': 0}, {'rank': 2, 'agentID': 1}], 'replayFile': 'replays/70704305.json'}\n",
      "train loss in 1 epoch in 1 batch: 25.86508\n",
      "val loss in 1 epoch: 22.22495\n",
      "Round 348, winrate: 0.0, max_step: 190, reward: 0.012799999999999978, example: {'ranks': [{'rank': 1, 'agentID': 1}, {'rank': 2, 'agentID': 0}], 'replayFile': 'replays/98173523.json'}\n",
      "train loss in 1 epoch in 1 batch: 21.33298\n",
      "val loss in 1 epoch: 25.73495\n",
      "Round 349, winrate: 0.0, max_step: 79, reward: 0.0078000000000000074, example: {'ranks': [{'rank': 1, 'agentID': 0}, {'rank': 2, 'agentID': 1}], 'replayFile': 'replays/919336125.json'}\n",
      "train loss in 1 epoch in 1 batch: 3.33821\n",
      "val loss in 1 epoch: 3.64030\n",
      "Round 350, winrate: 0.0, max_step: 359, reward: 0.03479999999999997, example: {'ranks': [{'rank': 1, 'agentID': 1}, {'rank': 2, 'agentID': 0}], 'replayFile': 'replays/782247547.json'}\n",
      "train loss in 1 epoch in 1 batch: 2.72186\n",
      "val loss in 1 epoch: 2.70088\n",
      "Round 351, winrate: 0.0, max_step: 350, reward: 0.030299999999999872, example: {'ranks': [{'rank': 1, 'agentID': 0}, {'rank': 2, 'agentID': 1}], 'replayFile': 'replays/48386114.json'}\n",
      "train loss in 1 epoch in 1 batch: 2.74867\n",
      "val loss in 1 epoch: 5.13645\n",
      "Round 352, winrate: 0.0, max_step: 116, reward: 0.0452, example: {'ranks': [{'rank': 1, 'agentID': 1}, {'rank': 2, 'agentID': 0}], 'replayFile': 'replays/528000578.json'}\n",
      "train loss in 1 epoch in 1 batch: 6.42358\n",
      "val loss in 1 epoch: 6.50178\n"
     ]
    },
    {
     "name": "stderr",
     "output_type": "stream",
     "text": [
      "/Library/Frameworks/Python.framework/Versions/3.7/lib/python3.7/site-packages/IPython/core/interactiveshell.py:3338: DtypeWarning: Columns (9,10,11,12,13,14) have mixed types.Specify dtype option on import or set low_memory=False.\n",
      "  if (await self.run_code(code, result,  async_=asy)):\n"
     ]
    },
    {
     "name": "stdout",
     "output_type": "stream",
     "text": [
      "Round 353, winrate: 0.0, max_step: 351, reward: 0.04859999999999976, example: {'ranks': [{'rank': 1, 'agentID': 0}, {'rank': 2, 'agentID': 1}], 'replayFile': 'replays/799637117.json'}\n",
      "train loss in 1 epoch in 1 batch: 3.87006\n",
      "val loss in 1 epoch: 2.77584\n",
      "Round 354, winrate: 0.0, max_step: 275, reward: 0.02749999999999989, example: {'ranks': [{'rank': 1, 'agentID': 1}, {'rank': 2, 'agentID': 0}], 'replayFile': 'replays/994185185.json'}\n",
      "train loss in 1 epoch in 1 batch: 23.37912\n",
      "val loss in 1 epoch: 20.69512\n",
      "Round 355, winrate: 0.0, max_step: 234, reward: 0.23530000000000265, example: {'ranks': [{'rank': 1, 'agentID': 0}, {'rank': 2, 'agentID': 1}], 'replayFile': 'replays/993123070.json'}\n",
      "train loss in 1 epoch in 1 batch: 3.35426\n",
      "val loss in 1 epoch: 5.86751\n",
      "train loss in 1 epoch in 2 batch: 1.21028\n",
      "val loss in 1 epoch: 5.74538\n",
      "Round 356, winrate: 0.0, max_step: 119, reward: 0.0078000000000000074, example: {'ranks': [{'rank': 1, 'agentID': 1}, {'rank': 2, 'agentID': 0}], 'replayFile': 'replays/792836056.json'}\n",
      "train loss in 1 epoch in 1 batch: 20.42599\n",
      "val loss in 1 epoch: 19.46906\n"
     ]
    },
    {
     "name": "stderr",
     "output_type": "stream",
     "text": [
      "/Library/Frameworks/Python.framework/Versions/3.7/lib/python3.7/site-packages/IPython/core/interactiveshell.py:3338: DtypeWarning: Columns (26,27,28) have mixed types.Specify dtype option on import or set low_memory=False.\n",
      "  if (await self.run_code(code, result,  async_=asy)):\n"
     ]
    },
    {
     "name": "stdout",
     "output_type": "stream",
     "text": [
      "Round 357, winrate: 0.0, max_step: 191, reward: 0.01909999999999994, example: {'ranks': [{'rank': 1, 'agentID': 0}, {'rank': 2, 'agentID': 1}], 'replayFile': 'replays/958913704.json'}\n",
      "train loss in 1 epoch in 1 batch: 46.18267\n",
      "val loss in 1 epoch: 37.06425\n",
      "Round 358, winrate: 0.0, max_step: 235, reward: 0.0018000000000000006, example: {'ranks': [{'rank': 1, 'agentID': 1}, {'rank': 2, 'agentID': 0}], 'replayFile': 'replays/917458633.json'}\n",
      "train loss in 1 epoch in 1 batch: 39.55765\n",
      "val loss in 1 epoch: 32.07188\n",
      "Round 359, winrate: 0.0, max_step: 353, reward: 0.11860000000000134, example: {'ranks': [{'rank': 1, 'agentID': 0}, {'rank': 2, 'agentID': 1}], 'replayFile': 'replays/553817060.json'}\n",
      "train loss in 1 epoch in 1 batch: 5.01466\n",
      "val loss in 1 epoch: 3.55482\n"
     ]
    },
    {
     "name": "stderr",
     "output_type": "stream",
     "text": [
      "/Library/Frameworks/Python.framework/Versions/3.7/lib/python3.7/site-packages/IPython/core/interactiveshell.py:3338: DtypeWarning: Columns (17,18,19,20,21,22,26,27,28) have mixed types.Specify dtype option on import or set low_memory=False.\n",
      "  if (await self.run_code(code, result,  async_=asy)):\n"
     ]
    },
    {
     "name": "stdout",
     "output_type": "stream",
     "text": [
      "Round 360, winrate: 0.0, max_step: 231, reward: 0.022799999999999918, example: {'ranks': [{'rank': 1, 'agentID': 1}, {'rank': 2, 'agentID': 0}], 'replayFile': 'replays/613461693.json'}\n",
      "train loss in 1 epoch in 1 batch: 17.16581\n",
      "val loss in 1 epoch: 17.12316\n",
      "Round 361, winrate: 0.0, max_step: 359, reward: 0.0359, example: {'ranks': [{'rank': 1, 'agentID': 0}, {'rank': 2, 'agentID': 1}], 'replayFile': 'replays/473300733.json'}\n",
      "train loss in 1 epoch in 1 batch: 19.43937\n",
      "val loss in 1 epoch: 15.87923\n",
      "Round 362, winrate: 0.5, max_step: 273, reward: 2.306800000000005, example: {'ranks': [{'rank': 1, 'agentID': 0}, {'rank': 1, 'agentID': 1}], 'replayFile': 'replays/68509339.json'}\n",
      "train loss in 1 epoch in 1 batch: 4.92297\n",
      "val loss in 1 epoch: 3.83679\n",
      "train loss in 1 epoch in 2 batch: 1.20835\n",
      "val loss in 1 epoch: 3.76057\n",
      "Round 363, winrate: 0.0, max_step: 359, reward: 0.2519000000000011, example: {'ranks': [{'rank': 1, 'agentID': 0}, {'rank': 2, 'agentID': 1}], 'replayFile': 'replays/452721581.json'}\n",
      "train loss in 1 epoch in 1 batch: 4.94317\n",
      "val loss in 1 epoch: 3.20844\n",
      "train loss in 1 epoch in 2 batch: 1.06883\n",
      "val loss in 1 epoch: 3.13728\n",
      "Round 364, winrate: 0.0, max_step: 358, reward: 0.017799999999999948, example: {'ranks': [{'rank': 1, 'agentID': 1}, {'rank': 2, 'agentID': 0}], 'replayFile': 'replays/752633518.json'}\n",
      "train loss in 1 epoch in 1 batch: 38.54485\n",
      "val loss in 1 epoch: 32.39317\n",
      "Round 365, winrate: 0.0, max_step: 115, reward: 0.007500000000000007, example: {'ranks': [{'rank': 1, 'agentID': 0}, {'rank': 2, 'agentID': 1}], 'replayFile': 'replays/822296146.json'}\n",
      "train loss in 1 epoch in 1 batch: 16.51974\n",
      "val loss in 1 epoch: 13.85833\n"
     ]
    },
    {
     "name": "stderr",
     "output_type": "stream",
     "text": [
      "/Library/Frameworks/Python.framework/Versions/3.7/lib/python3.7/site-packages/IPython/core/interactiveshell.py:3338: DtypeWarning: Columns (26,27,28) have mixed types.Specify dtype option on import or set low_memory=False.\n",
      "  if (await self.run_code(code, result,  async_=asy)):\n"
     ]
    },
    {
     "name": "stdout",
     "output_type": "stream",
     "text": [
      "Round 366, winrate: 0.0, max_step: 311, reward: 0.026199999999999897, example: {'ranks': [{'rank': 1, 'agentID': 1}, {'rank': 2, 'agentID': 0}], 'replayFile': 'replays/450295223.json'}\n",
      "train loss in 1 epoch in 1 batch: 30.11380\n",
      "val loss in 1 epoch: 26.16417\n",
      "Round 367, winrate: 0.0, max_step: 114, reward: 0.02619999999999991, example: {'ranks': [{'rank': 1, 'agentID': 0}, {'rank': 2, 'agentID': 1}], 'replayFile': 'replays/389607854.json'}\n",
      "train loss in 1 epoch in 1 batch: 5.21458\n",
      "val loss in 1 epoch: 4.09256\n"
     ]
    },
    {
     "name": "stderr",
     "output_type": "stream",
     "text": [
      "/Library/Frameworks/Python.framework/Versions/3.7/lib/python3.7/site-packages/IPython/core/interactiveshell.py:3338: DtypeWarning: Columns (26,27,28) have mixed types.Specify dtype option on import or set low_memory=False.\n",
      "  if (await self.run_code(code, result,  async_=asy)):\n"
     ]
    },
    {
     "name": "stdout",
     "output_type": "stream",
     "text": [
      "Round 368, winrate: 1.0, max_step: 314, reward: 1.0308, example: {'ranks': [{'rank': 1, 'agentID': 0}, {'rank': 2, 'agentID': 1}], 'replayFile': 'replays/709353853.json'}\n",
      "train loss in 1 epoch in 1 batch: 28.02476\n",
      "val loss in 1 epoch: 23.44702\n",
      "Round 369, winrate: 0.0, max_step: 310, reward: 0.02749999999999989, example: {'ranks': [{'rank': 1, 'agentID': 0}, {'rank': 2, 'agentID': 1}], 'replayFile': 'replays/644242367.json'}\n",
      "train loss in 1 epoch in 1 batch: 2.93081\n",
      "val loss in 1 epoch: 3.18908\n",
      "Round 370, winrate: 0.0, max_step: 199, reward: 0.009000000000000001, example: {'ranks': [{'rank': 1, 'agentID': 1}, {'rank': 2, 'agentID': 0}], 'replayFile': 'replays/497334504.json'}\n",
      "train loss in 1 epoch in 1 batch: 25.61839\n",
      "val loss in 1 epoch: 22.04610\n",
      "Round 371, winrate: 0.0, max_step: 359, reward: 0.07880000000000019, example: {'ranks': [{'rank': 1, 'agentID': 0}, {'rank': 2, 'agentID': 1}], 'replayFile': 'replays/733397965.json'}\n",
      "train loss in 1 epoch in 1 batch: 21.99701\n",
      "val loss in 1 epoch: 22.56352\n",
      "Round 372, winrate: 0.0, max_step: 310, reward: 0.028599999999999882, example: {'ranks': [{'rank': 1, 'agentID': 1}, {'rank': 2, 'agentID': 0}], 'replayFile': 'replays/987214079.json'}\n",
      "train loss in 1 epoch in 1 batch: 2.66219\n",
      "val loss in 1 epoch: 2.11638\n",
      "Round 373, winrate: 0.0, max_step: 237, reward: 0.021899999999999923, example: {'ranks': [{'rank': 1, 'agentID': 0}, {'rank': 2, 'agentID': 1}], 'replayFile': 'replays/834648846.json'}\n",
      "train loss in 1 epoch in 1 batch: 22.75848\n",
      "val loss in 1 epoch: 20.01372\n"
     ]
    },
    {
     "name": "stderr",
     "output_type": "stream",
     "text": [
      "/Library/Frameworks/Python.framework/Versions/3.7/lib/python3.7/site-packages/IPython/core/interactiveshell.py:3338: DtypeWarning: Columns (9,10,11,12,13,14) have mixed types.Specify dtype option on import or set low_memory=False.\n",
      "  if (await self.run_code(code, result,  async_=asy)):\n"
     ]
    },
    {
     "name": "stdout",
     "output_type": "stream",
     "text": [
      "Round 374, winrate: 0.0, max_step: 359, reward: 0.6412999999999992, example: {'ranks': [{'rank': 1, 'agentID': 1}, {'rank': 2, 'agentID': 0}], 'replayFile': 'replays/582479007.json'}\n",
      "train loss in 1 epoch in 1 batch: 5.50375\n",
      "val loss in 1 epoch: 4.21439\n",
      "train loss in 1 epoch in 2 batch: 4.25710\n",
      "val loss in 1 epoch: 4.20895\n"
     ]
    },
    {
     "name": "stderr",
     "output_type": "stream",
     "text": [
      "/Library/Frameworks/Python.framework/Versions/3.7/lib/python3.7/site-packages/IPython/core/interactiveshell.py:3338: DtypeWarning: Columns (26,27,28) have mixed types.Specify dtype option on import or set low_memory=False.\n",
      "  if (await self.run_code(code, result,  async_=asy)):\n"
     ]
    },
    {
     "name": "stdout",
     "output_type": "stream",
     "text": [
      "Round 375, winrate: 0.0, max_step: 270, reward: 0.026999999999999892, example: {'ranks': [{'rank': 1, 'agentID': 0}, {'rank': 2, 'agentID': 1}], 'replayFile': 'replays/872631779.json'}\n",
      "train loss in 1 epoch in 1 batch: 13.71995\n",
      "val loss in 1 epoch: 12.32800\n",
      "Round 376, winrate: 0.0, max_step: 109, reward: 0.0039999999999999975, example: {'ranks': [{'rank': 1, 'agentID': 1}, {'rank': 2, 'agentID': 0}], 'replayFile': 'replays/662163068.json'}\n",
      "train loss in 1 epoch in 1 batch: 12.94692\n",
      "val loss in 1 epoch: 13.27737\n",
      "Round 377, winrate: 0.0, max_step: 277, reward: 0.027699999999999888, example: {'ranks': [{'rank': 1, 'agentID': 0}, {'rank': 2, 'agentID': 1}], 'replayFile': 'replays/508885519.json'}\n",
      "train loss in 1 epoch in 1 batch: 23.39262\n",
      "val loss in 1 epoch: 20.08463\n",
      "Round 378, winrate: 0.0, max_step: 309, reward: 0.01749999999999995, example: {'ranks': [{'rank': 1, 'agentID': 1}, {'rank': 2, 'agentID': 0}], 'replayFile': 'replays/405119220.json'}\n",
      "train loss in 1 epoch in 1 batch: 21.00258\n",
      "val loss in 1 epoch: 18.81519\n",
      "Round 379, winrate: 0.0, max_step: 270, reward: 0.0257999999999999, example: {'ranks': [{'rank': 1, 'agentID': 0}, {'rank': 2, 'agentID': 1}], 'replayFile': 'replays/232100592.json'}\n",
      "train loss in 1 epoch in 1 batch: 3.17256\n",
      "val loss in 1 epoch: 3.34340\n",
      "Round 380, winrate: 0.0, max_step: 233, reward: 0.2234000000000022, example: {'ranks': [{'rank': 1, 'agentID': 1}, {'rank': 2, 'agentID': 0}], 'replayFile': 'replays/880225674.json'}\n",
      "train loss in 1 epoch in 1 batch: 2.63596\n",
      "val loss in 1 epoch: 3.78981\n",
      "train loss in 1 epoch in 2 batch: 1.11937\n",
      "val loss in 1 epoch: 3.73419\n",
      "Round 381, winrate: 0.0, max_step: 316, reward: 0.15939999999999807, example: {'ranks': [{'rank': 1, 'agentID': 0}, {'rank': 2, 'agentID': 1}], 'replayFile': 'replays/366370377.json'}\n",
      "train loss in 1 epoch in 1 batch: 2.78225\n",
      "val loss in 1 epoch: 3.08796\n",
      "train loss in 1 epoch in 2 batch: 1.04399\n",
      "val loss in 1 epoch: 3.03299\n",
      "Round 382, winrate: 0.0, max_step: 270, reward: 0.024699999999999906, example: {'ranks': [{'rank': 1, 'agentID': 1}, {'rank': 2, 'agentID': 0}], 'replayFile': 'replays/17090548.json'}\n",
      "train loss in 1 epoch in 1 batch: 2.83299\n",
      "val loss in 1 epoch: 2.05098\n"
     ]
    },
    {
     "name": "stderr",
     "output_type": "stream",
     "text": [
      "/Library/Frameworks/Python.framework/Versions/3.7/lib/python3.7/site-packages/IPython/core/interactiveshell.py:3338: DtypeWarning: Columns (9,10,11,12,13,14) have mixed types.Specify dtype option on import or set low_memory=False.\n",
      "  if (await self.run_code(code, result,  async_=asy)):\n"
     ]
    },
    {
     "name": "stdout",
     "output_type": "stream",
     "text": [
      "Round 383, winrate: 0.0, max_step: 277, reward: 0.01749999999999995, example: {'ranks': [{'rank': 1, 'agentID': 0}, {'rank': 2, 'agentID': 1}], 'replayFile': 'replays/815683415.json'}\n",
      "train loss in 1 epoch in 1 batch: 10.14004\n",
      "val loss in 1 epoch: 5.76366\n",
      "Round 384, winrate: 0.0, max_step: 197, reward: 0.019699999999999936, example: {'ranks': [{'rank': 1, 'agentID': 1}, {'rank': 2, 'agentID': 0}], 'replayFile': 'replays/152891622.json'}\n",
      "train loss in 1 epoch in 1 batch: 34.33413\n",
      "val loss in 1 epoch: 28.25877\n",
      "Round 385, winrate: 0.0, max_step: 195, reward: 0.009799999999999996, example: {'ranks': [{'rank': 1, 'agentID': 0}, {'rank': 2, 'agentID': 1}], 'replayFile': 'replays/356589118.json'}\n",
      "train loss in 1 epoch in 1 batch: 27.21901\n",
      "val loss in 1 epoch: 21.25464\n",
      "Round 386, winrate: 0.0, max_step: 158, reward: 0.0017000000000000006, example: {'ranks': [{'rank': 1, 'agentID': 1}, {'rank': 2, 'agentID': 0}], 'replayFile': 'replays/965892534.json'}\n",
      "train loss in 1 epoch in 1 batch: 20.49730\n",
      "val loss in 1 epoch: 18.18578\n",
      "Round 387, winrate: 0.0, max_step: 234, reward: 0.0018000000000000006, example: {'ranks': [{'rank': 1, 'agentID': 0}, {'rank': 2, 'agentID': 1}], 'replayFile': 'replays/395054959.json'}\n",
      "train loss in 1 epoch in 1 batch: 11.64454\n",
      "val loss in 1 epoch: 11.04586\n",
      "Round 388, winrate: 0.0, max_step: 157, reward: 0.0887999999999997, example: {'ranks': [{'rank': 1, 'agentID': 1}, {'rank': 2, 'agentID': 0}], 'replayFile': 'replays/365237170.json'}\n",
      "train loss in 1 epoch in 1 batch: 3.36133\n",
      "val loss in 1 epoch: 2.64654\n",
      "Round 389, winrate: 0.0, max_step: 279, reward: 0.027899999999999887, example: {'ranks': [{'rank': 1, 'agentID': 0}, {'rank': 2, 'agentID': 1}], 'replayFile': 'replays/177010278.json'}\n",
      "train loss in 1 epoch in 1 batch: 11.99085\n",
      "val loss in 1 epoch: 11.69120\n",
      "Round 390, winrate: 0.0, max_step: 275, reward: 0.008600000000000003, example: {'ranks': [{'rank': 1, 'agentID': 1}, {'rank': 2, 'agentID': 0}], 'replayFile': 'replays/632441129.json'}\n",
      "train loss in 1 epoch in 1 batch: 12.37514\n",
      "val loss in 1 epoch: 11.50086\n"
     ]
    },
    {
     "name": "stderr",
     "output_type": "stream",
     "text": [
      "/Library/Frameworks/Python.framework/Versions/3.7/lib/python3.7/site-packages/IPython/core/interactiveshell.py:3338: DtypeWarning: Columns (26,27,28) have mixed types.Specify dtype option on import or set low_memory=False.\n",
      "  if (await self.run_code(code, result,  async_=asy)):\n"
     ]
    },
    {
     "name": "stdout",
     "output_type": "stream",
     "text": [
      "Round 391, winrate: 0.0, max_step: 359, reward: 0.021699999999999924, example: {'ranks': [{'rank': 1, 'agentID': 0}, {'rank': 2, 'agentID': 1}], 'replayFile': 'replays/251497322.json'}\n",
      "train loss in 1 epoch in 1 batch: 11.48966\n",
      "val loss in 1 epoch: 12.16344\n"
     ]
    },
    {
     "name": "stderr",
     "output_type": "stream",
     "text": [
      "/Library/Frameworks/Python.framework/Versions/3.7/lib/python3.7/site-packages/IPython/core/interactiveshell.py:3338: DtypeWarning: Columns (17,18,19,20,21,22) have mixed types.Specify dtype option on import or set low_memory=False.\n",
      "  if (await self.run_code(code, result,  async_=asy)):\n"
     ]
    },
    {
     "name": "stdout",
     "output_type": "stream",
     "text": [
      "Round 392, winrate: 0.0, max_step: 359, reward: 0.09550000000000065, example: {'ranks': [{'rank': 1, 'agentID': 1}, {'rank': 2, 'agentID': 0}], 'replayFile': 'replays/494073372.json'}\n",
      "train loss in 1 epoch in 1 batch: 5.92867\n",
      "val loss in 1 epoch: 4.71006\n",
      "Round 393, winrate: 0.0, max_step: 359, reward: 0.0059000000000000025, example: {'ranks': [{'rank': 1, 'agentID': 0}, {'rank': 2, 'agentID': 1}], 'replayFile': 'replays/856526519.json'}\n",
      "train loss in 1 epoch in 1 batch: 12.31260\n",
      "val loss in 1 epoch: 11.88714\n",
      "Round 394, winrate: 0.0, max_step: 71, reward: 0.004099999999999998, example: {'ranks': [{'rank': 1, 'agentID': 1}, {'rank': 2, 'agentID': 0}], 'replayFile': 'replays/40157939.json'}\n",
      "train loss in 1 epoch in 1 batch: 2.52431\n",
      "val loss in 1 epoch: 4.23897\n",
      "Round 395, winrate: 0.0, max_step: 359, reward: 0.10470000000000092, example: {'ranks': [{'rank': 1, 'agentID': 0}, {'rank': 2, 'agentID': 1}], 'replayFile': 'replays/50846189.json'}\n",
      "train loss in 1 epoch in 1 batch: 2.21531\n",
      "val loss in 1 epoch: 2.99824\n",
      "Round 396, winrate: 0.0, max_step: 118, reward: 0.007100000000000006, example: {'ranks': [{'rank': 1, 'agentID': 1}, {'rank': 2, 'agentID': 0}], 'replayFile': 'replays/249434768.json'}\n",
      "train loss in 1 epoch in 1 batch: 14.13742\n",
      "val loss in 1 epoch: 11.98088\n",
      "Round 397, winrate: 0.0, max_step: 150, reward: 0.006500000000000004, example: {'ranks': [{'rank': 1, 'agentID': 0}, {'rank': 2, 'agentID': 1}], 'replayFile': 'replays/911909911.json'}\n",
      "train loss in 1 epoch in 1 batch: 12.47723\n",
      "val loss in 1 epoch: 12.29797\n",
      "Round 398, winrate: 0.0, max_step: 350, reward: 0.030199999999999873, example: {'ranks': [{'rank': 1, 'agentID': 1}, {'rank': 2, 'agentID': 0}], 'replayFile': 'replays/993735185.json'}\n",
      "train loss in 1 epoch in 1 batch: 8.19102\n",
      "val loss in 1 epoch: 4.75996\n",
      "Round 399, winrate: 0.0, max_step: 317, reward: 0.15149999999999844, example: {'ranks': [{'rank': 1, 'agentID': 0}, {'rank': 2, 'agentID': 1}], 'replayFile': 'replays/537120334.json'}\n",
      "train loss in 1 epoch in 1 batch: 2.56303\n",
      "val loss in 1 epoch: 2.56909\n",
      "train loss in 1 epoch in 2 batch: 0.91219\n",
      "val loss in 1 epoch: 2.50074\n",
      "Round 400, winrate: 0.0, max_step: 239, reward: 0.021599999999999925, example: {'ranks': [{'rank': 1, 'agentID': 1}, {'rank': 2, 'agentID': 0}], 'replayFile': 'replays/724685148.json'}\n",
      "train loss in 1 epoch in 1 batch: 5.34867\n",
      "val loss in 1 epoch: 2.99076\n",
      "Round 401, winrate: 0.0, max_step: 234, reward: 0.0019000000000000006, example: {'ranks': [{'rank': 1, 'agentID': 0}, {'rank': 2, 'agentID': 1}], 'replayFile': 'replays/984416236.json'}\n",
      "train loss in 1 epoch in 1 batch: 13.51734\n",
      "val loss in 1 epoch: 12.00146\n",
      "Round 402, winrate: 0.0, max_step: 230, reward: 0.2968999999999994, example: {'ranks': [{'rank': 1, 'agentID': 1}, {'rank': 2, 'agentID': 0}], 'replayFile': 'replays/218431877.json'}\n",
      "train loss in 1 epoch in 1 batch: 3.61221\n",
      "val loss in 1 epoch: 2.56008\n",
      "train loss in 1 epoch in 2 batch: 0.81029\n",
      "val loss in 1 epoch: 2.52463\n",
      "Round 403, winrate: 0.0, max_step: 315, reward: 0.9647000000000013, example: {'ranks': [{'rank': 1, 'agentID': 0}, {'rank': 2, 'agentID': 1}], 'replayFile': 'replays/783288498.json'}\n",
      "train loss in 1 epoch in 1 batch: 1.64644\n",
      "val loss in 1 epoch: 3.12003\n",
      "train loss in 1 epoch in 2 batch: 7.31040\n",
      "val loss in 1 epoch: 3.06668\n",
      "train loss in 1 epoch in 3 batch: 6.90275\n",
      "val loss in 1 epoch: 3.07686\n",
      "Round 404, winrate: 0.0, max_step: 235, reward: 0.0016000000000000005, example: {'ranks': [{'rank': 1, 'agentID': 1}, {'rank': 2, 'agentID': 0}], 'replayFile': 'replays/725098215.json'}\n",
      "train loss in 1 epoch in 1 batch: 11.94716\n",
      "val loss in 1 epoch: 11.68150\n",
      "Round 405, winrate: 0.0, max_step: 350, reward: 0.030999999999999868, example: {'ranks': [{'rank': 1, 'agentID': 0}, {'rank': 2, 'agentID': 1}], 'replayFile': 'replays/865794036.json'}\n",
      "train loss in 1 epoch in 1 batch: 37.39796\n",
      "val loss in 1 epoch: 33.11983\n",
      "Round 406, winrate: 0.0, max_step: 151, reward: 0.015099999999999964, example: {'ranks': [{'rank': 1, 'agentID': 1}, {'rank': 2, 'agentID': 0}], 'replayFile': 'replays/722475251.json'}\n",
      "train loss in 1 epoch in 1 batch: 34.46202\n",
      "val loss in 1 epoch: 29.10427\n"
     ]
    },
    {
     "name": "stderr",
     "output_type": "stream",
     "text": [
      "/Library/Frameworks/Python.framework/Versions/3.7/lib/python3.7/site-packages/IPython/core/interactiveshell.py:3338: DtypeWarning: Columns (26,27,28) have mixed types.Specify dtype option on import or set low_memory=False.\n",
      "  if (await self.run_code(code, result,  async_=asy)):\n"
     ]
    },
    {
     "name": "stdout",
     "output_type": "stream",
     "text": [
      "Round 407, winrate: 0.0, max_step: 359, reward: 0.04439999999999979, example: {'ranks': [{'rank': 1, 'agentID': 0}, {'rank': 2, 'agentID': 1}], 'replayFile': 'replays/439683900.json'}\n",
      "train loss in 1 epoch in 1 batch: 30.00005\n",
      "val loss in 1 epoch: 24.57972\n",
      "Round 408, winrate: 0.0, max_step: 234, reward: 0.0038999999999999972, example: {'ranks': [{'rank': 1, 'agentID': 1}, {'rank': 2, 'agentID': 0}], 'replayFile': 'replays/609605666.json'}\n",
      "train loss in 1 epoch in 1 batch: 25.78847\n",
      "val loss in 1 epoch: 20.07995\n",
      "Round 409, winrate: 0.0, max_step: 359, reward: 0.030199999999999873, example: {'ranks': [{'rank': 1, 'agentID': 0}, {'rank': 2, 'agentID': 1}], 'replayFile': 'replays/907259755.json'}\n",
      "train loss in 1 epoch in 1 batch: 11.90615\n",
      "val loss in 1 epoch: 9.89060\n",
      "Round 410, winrate: 0.0, max_step: 359, reward: 0.11930000000000136, example: {'ranks': [{'rank': 1, 'agentID': 1}, {'rank': 2, 'agentID': 0}], 'replayFile': 'replays/590135470.json'}\n",
      "train loss in 1 epoch in 1 batch: 2.02524\n",
      "val loss in 1 epoch: 1.75872\n",
      "Round 411, winrate: 0.0, max_step: 150, reward: 0.0036999999999999976, example: {'ranks': [{'rank': 1, 'agentID': 0}, {'rank': 2, 'agentID': 1}], 'replayFile': 'replays/409574364.json'}\n",
      "train loss in 1 epoch in 1 batch: 10.51609\n",
      "val loss in 1 epoch: 10.66822\n"
     ]
    },
    {
     "name": "stderr",
     "output_type": "stream",
     "text": [
      "/Library/Frameworks/Python.framework/Versions/3.7/lib/python3.7/site-packages/IPython/core/interactiveshell.py:3338: DtypeWarning: Columns (26,27,28) have mixed types.Specify dtype option on import or set low_memory=False.\n",
      "  if (await self.run_code(code, result,  async_=asy)):\n"
     ]
    },
    {
     "name": "stdout",
     "output_type": "stream",
     "text": [
      "Round 412, winrate: 0.0, max_step: 359, reward: 0.03379999999999994, example: {'ranks': [{'rank': 1, 'agentID': 1}, {'rank': 2, 'agentID': 0}], 'replayFile': 'replays/837378034.json'}\n",
      "train loss in 1 epoch in 1 batch: 11.14174\n",
      "val loss in 1 epoch: 9.79614\n",
      "Round 413, winrate: 0.0, max_step: 359, reward: 0.03129999999999987, example: {'ranks': [{'rank': 1, 'agentID': 0}, {'rank': 2, 'agentID': 1}], 'replayFile': 'replays/673384519.json'}\n",
      "train loss in 1 epoch in 1 batch: 2.15843\n",
      "val loss in 1 epoch: 4.26684\n"
     ]
    },
    {
     "name": "stderr",
     "output_type": "stream",
     "text": [
      "/Library/Frameworks/Python.framework/Versions/3.7/lib/python3.7/site-packages/IPython/core/interactiveshell.py:3338: DtypeWarning: Columns (9,10,11,12,13,14) have mixed types.Specify dtype option on import or set low_memory=False.\n",
      "  if (await self.run_code(code, result,  async_=asy)):\n"
     ]
    },
    {
     "name": "stdout",
     "output_type": "stream",
     "text": [
      "Round 414, winrate: 0.0, max_step: 359, reward: 0.016899999999999953, example: {'ranks': [{'rank': 1, 'agentID': 1}, {'rank': 2, 'agentID': 0}], 'replayFile': 'replays/123406564.json'}\n",
      "train loss in 1 epoch in 1 batch: 22.65134\n",
      "val loss in 1 epoch: 17.56223\n",
      "Round 415, winrate: 0.0, max_step: 359, reward: 0.11500000000000064, example: {'ranks': [{'rank': 1, 'agentID': 0}, {'rank': 2, 'agentID': 1}], 'replayFile': 'replays/270514505.json'}\n",
      "train loss in 1 epoch in 1 batch: 3.18192\n",
      "val loss in 1 epoch: 2.07880\n",
      "Round 416, winrate: 0.0, max_step: 310, reward: 0.02739999999999989, example: {'ranks': [{'rank': 1, 'agentID': 1}, {'rank': 2, 'agentID': 0}], 'replayFile': 'replays/548078540.json'}\n",
      "train loss in 1 epoch in 1 batch: 2.24900\n",
      "val loss in 1 epoch: 2.83736\n",
      "Round 417, winrate: 0.0, max_step: 359, reward: 0.08980000000000048, example: {'ranks': [{'rank': 1, 'agentID': 0}, {'rank': 2, 'agentID': 1}], 'replayFile': 'replays/81508979.json'}\n",
      "train loss in 1 epoch in 1 batch: 10.20421\n",
      "val loss in 1 epoch: 4.18372\n",
      "Round 418, winrate: 0.0, max_step: 319, reward: 0.016899999999999953, example: {'ranks': [{'rank': 1, 'agentID': 1}, {'rank': 2, 'agentID': 0}], 'replayFile': 'replays/302902217.json'}\n",
      "train loss in 1 epoch in 1 batch: 9.03408\n",
      "val loss in 1 epoch: 8.24122\n",
      "Round 419, winrate: 0.0, max_step: 116, reward: 0.0024, example: {'ranks': [{'rank': 1, 'agentID': 0}, {'rank': 2, 'agentID': 1}], 'replayFile': 'replays/172524626.json'}\n",
      "train loss in 1 epoch in 1 batch: 6.78294\n",
      "val loss in 1 epoch: 8.71406\n"
     ]
    },
    {
     "name": "stderr",
     "output_type": "stream",
     "text": [
      "/Library/Frameworks/Python.framework/Versions/3.7/lib/python3.7/site-packages/IPython/core/interactiveshell.py:3338: DtypeWarning: Columns (26,27,28) have mixed types.Specify dtype option on import or set low_memory=False.\n",
      "  if (await self.run_code(code, result,  async_=asy)):\n"
     ]
    },
    {
     "name": "stdout",
     "output_type": "stream",
     "text": [
      "Round 420, winrate: 0.0, max_step: 359, reward: 0.0359, example: {'ranks': [{'rank': 1, 'agentID': 1}, {'rank': 2, 'agentID': 0}], 'replayFile': 'replays/281947057.json'}\n",
      "train loss in 1 epoch in 1 batch: 9.78907\n",
      "val loss in 1 epoch: 8.26849\n",
      "Round 421, winrate: 0.0, max_step: 230, reward: 0.06499999999999981, example: {'ranks': [{'rank': 1, 'agentID': 0}, {'rank': 2, 'agentID': 1}], 'replayFile': 'replays/785042775.json'}\n",
      "train loss in 1 epoch in 1 batch: 19.38627\n",
      "val loss in 1 epoch: 14.24694\n",
      "Round 422, winrate: 0.0, max_step: 313, reward: 0.9286000000000142, example: {'ranks': [{'rank': 1, 'agentID': 1}, {'rank': 2, 'agentID': 0}], 'replayFile': 'replays/392104575.json'}\n",
      "train loss in 1 epoch in 1 batch: 2.76808\n",
      "val loss in 1 epoch: 2.58237\n",
      "train loss in 1 epoch in 2 batch: 1.21602\n",
      "val loss in 1 epoch: 2.59829\n",
      "train loss in 1 epoch in 3 batch: 4.52614\n",
      "val loss in 1 epoch: 2.57998\n",
      "Round 423, winrate: 0.0, max_step: 153, reward: 0.015299999999999963, example: {'ranks': [{'rank': 1, 'agentID': 0}, {'rank': 2, 'agentID': 1}], 'replayFile': 'replays/374258926.json'}\n",
      "train loss in 1 epoch in 1 batch: 8.42959\n",
      "val loss in 1 epoch: 8.02250\n",
      "Round 424, winrate: 0.0, max_step: 194, reward: 0.005600000000000002, example: {'ranks': [{'rank': 1, 'agentID': 1}, {'rank': 2, 'agentID': 0}], 'replayFile': 'replays/284578775.json'}\n",
      "train loss in 1 epoch in 1 batch: 8.91966\n",
      "val loss in 1 epoch: 7.55355\n",
      "Round 425, winrate: 0.0, max_step: 359, reward: 0.1137000000000012, example: {'ranks': [{'rank': 1, 'agentID': 0}, {'rank': 2, 'agentID': 1}], 'replayFile': 'replays/34593677.json'}\n",
      "train loss in 1 epoch in 1 batch: 10.48540\n",
      "val loss in 1 epoch: 9.46332\n"
     ]
    },
    {
     "name": "stderr",
     "output_type": "stream",
     "text": [
      "/Library/Frameworks/Python.framework/Versions/3.7/lib/python3.7/site-packages/IPython/core/interactiveshell.py:3338: DtypeWarning: Columns (17,18,19,20,21,22) have mixed types.Specify dtype option on import or set low_memory=False.\n",
      "  if (await self.run_code(code, result,  async_=asy)):\n"
     ]
    },
    {
     "name": "stdout",
     "output_type": "stream",
     "text": [
      "Round 426, winrate: 0.0, max_step: 314, reward: 0.16999999999999824, example: {'ranks': [{'rank': 1, 'agentID': 1}, {'rank': 2, 'agentID': 0}], 'replayFile': 'replays/522836138.json'}\n",
      "train loss in 1 epoch in 1 batch: 1.73055\n",
      "val loss in 1 epoch: 2.34033\n",
      "train loss in 1 epoch in 2 batch: 0.67497\n",
      "val loss in 1 epoch: 2.30347\n",
      "Round 427, winrate: 0.0, max_step: 279, reward: 0.1640999999999984, example: {'ranks': [{'rank': 1, 'agentID': 0}, {'rank': 2, 'agentID': 1}], 'replayFile': 'replays/876434722.json'}\n",
      "train loss in 1 epoch in 1 batch: 4.25227\n",
      "val loss in 1 epoch: 2.68151\n",
      "Round 428, winrate: 0.0, max_step: 359, reward: 0.09670000000000067, example: {'ranks': [{'rank': 1, 'agentID': 1}, {'rank': 2, 'agentID': 0}], 'replayFile': 'replays/293879180.json'}\n",
      "train loss in 1 epoch in 1 batch: 1.61299\n",
      "val loss in 1 epoch: 1.50113\n",
      "Round 429, winrate: 0.0, max_step: 359, reward: 0.021699999999999924, example: {'ranks': [{'rank': 1, 'agentID': 0}, {'rank': 2, 'agentID': 1}], 'replayFile': 'replays/485871935.json'}\n",
      "train loss in 1 epoch in 1 batch: 19.76622\n",
      "val loss in 1 epoch: 15.03458\n",
      "Round 430, winrate: 0.0, max_step: 355, reward: 0.21260000000000198, example: {'ranks': [{'rank': 1, 'agentID': 1}, {'rank': 2, 'agentID': 0}], 'replayFile': 'replays/669735125.json'}\n",
      "train loss in 1 epoch in 1 batch: 5.21765\n",
      "val loss in 1 epoch: 2.83482\n",
      "train loss in 1 epoch in 2 batch: 0.64994\n",
      "val loss in 1 epoch: 2.85465\n",
      "Round 431, winrate: 0.0, max_step: 238, reward: 0.20550000000000204, example: {'ranks': [{'rank': 1, 'agentID': 0}, {'rank': 2, 'agentID': 1}], 'replayFile': 'replays/749770997.json'}\n",
      "train loss in 1 epoch in 1 batch: 4.70862\n",
      "val loss in 1 epoch: 2.82760\n",
      "Round 432, winrate: 0.0, max_step: 150, reward: 0.004199999999999998, example: {'ranks': [{'rank': 1, 'agentID': 1}, {'rank': 2, 'agentID': 0}], 'replayFile': 'replays/659967110.json'}\n",
      "train loss in 1 epoch in 1 batch: 6.52132\n",
      "val loss in 1 epoch: 7.29919\n",
      "Round 433, winrate: 0.0, max_step: 155, reward: 0.015499999999999962, example: {'ranks': [{'rank': 1, 'agentID': 0}, {'rank': 2, 'agentID': 1}], 'replayFile': 'replays/979934366.json'}\n",
      "train loss in 1 epoch in 1 batch: 1.16912\n",
      "val loss in 1 epoch: 0.80126\n",
      "Round 434, winrate: 0.0, max_step: 356, reward: 0.38350000000000245, example: {'ranks': [{'rank': 1, 'agentID': 1}, {'rank': 2, 'agentID': 0}], 'replayFile': 'replays/444499729.json'}\n",
      "train loss in 1 epoch in 1 batch: 1.48907\n",
      "val loss in 1 epoch: 2.52119\n",
      "train loss in 1 epoch in 2 batch: 0.86433\n",
      "val loss in 1 epoch: 2.49572\n",
      "Round 435, winrate: 0.0, max_step: 239, reward: 0.021299999999999927, example: {'ranks': [{'rank': 1, 'agentID': 0}, {'rank': 2, 'agentID': 1}], 'replayFile': 'replays/786888130.json'}\n",
      "train loss in 1 epoch in 1 batch: 18.28357\n",
      "val loss in 1 epoch: 15.13910\n",
      "Round 436, winrate: 0.0, max_step: 359, reward: 0.06079999999999979, example: {'ranks': [{'rank': 1, 'agentID': 1}, {'rank': 2, 'agentID': 0}], 'replayFile': 'replays/832783578.json'}\n",
      "train loss in 1 epoch in 1 batch: 5.32458\n",
      "val loss in 1 epoch: 2.95134\n",
      "Round 437, winrate: 0.0, max_step: 359, reward: 0.06519999999999987, example: {'ranks': [{'rank': 1, 'agentID': 0}, {'rank': 2, 'agentID': 1}], 'replayFile': 'replays/164109835.json'}\n",
      "train loss in 1 epoch in 1 batch: 7.43521\n",
      "val loss in 1 epoch: 2.64512\n",
      "Round 438, winrate: 0.0, max_step: 359, reward: 0.02259999999999992, example: {'ranks': [{'rank': 1, 'agentID': 1}, {'rank': 2, 'agentID': 0}], 'replayFile': 'replays/711294180.json'}\n",
      "train loss in 1 epoch in 1 batch: 13.38472\n",
      "val loss in 1 epoch: 12.26732\n"
     ]
    },
    {
     "name": "stderr",
     "output_type": "stream",
     "text": [
      "/Library/Frameworks/Python.framework/Versions/3.7/lib/python3.7/site-packages/IPython/core/interactiveshell.py:3338: DtypeWarning: Columns (17,18,19,20,21,22) have mixed types.Specify dtype option on import or set low_memory=False.\n",
      "  if (await self.run_code(code, result,  async_=asy)):\n"
     ]
    },
    {
     "name": "stdout",
     "output_type": "stream",
     "text": [
      "Round 439, winrate: 0.0, max_step: 190, reward: 0.013899999999999971, example: {'ranks': [{'rank': 1, 'agentID': 0}, {'rank': 2, 'agentID': 1}], 'replayFile': 'replays/385934420.json'}\n",
      "train loss in 1 epoch in 1 batch: 7.76719\n",
      "val loss in 1 epoch: 6.49745\n",
      "Round 440, winrate: 0.0, max_step: 359, reward: 0.04259999999999987, example: {'ranks': [{'rank': 1, 'agentID': 1}, {'rank': 2, 'agentID': 0}], 'replayFile': 'replays/738127222.json'}\n",
      "train loss in 1 epoch in 1 batch: 1.53643\n",
      "val loss in 1 epoch: 2.07457\n",
      "Round 441, winrate: 0.0, max_step: 230, reward: 0.03409999999999999, example: {'ranks': [{'rank': 1, 'agentID': 0}, {'rank': 2, 'agentID': 1}], 'replayFile': 'replays/949784717.json'}\n",
      "train loss in 1 epoch in 1 batch: 1.61178\n",
      "val loss in 1 epoch: 4.10923\n",
      "Round 442, winrate: 0.0, max_step: 190, reward: 0.0016000000000000005, example: {'ranks': [{'rank': 1, 'agentID': 1}, {'rank': 2, 'agentID': 0}], 'replayFile': 'replays/621379426.json'}\n",
      "train loss in 1 epoch in 1 batch: 6.29474\n",
      "val loss in 1 epoch: 5.92844\n"
     ]
    },
    {
     "name": "stderr",
     "output_type": "stream",
     "text": [
      "/Library/Frameworks/Python.framework/Versions/3.7/lib/python3.7/site-packages/IPython/core/interactiveshell.py:3338: DtypeWarning: Columns (26,27,28) have mixed types.Specify dtype option on import or set low_memory=False.\n",
      "  if (await self.run_code(code, result,  async_=asy)):\n"
     ]
    },
    {
     "name": "stdout",
     "output_type": "stream",
     "text": [
      "Round 443, winrate: 0.0, max_step: 351, reward: 0.03349999999999993, example: {'ranks': [{'rank': 1, 'agentID': 0}, {'rank': 2, 'agentID': 1}], 'replayFile': 'replays/863567001.json'}\n",
      "train loss in 1 epoch in 1 batch: 6.01510\n",
      "val loss in 1 epoch: 6.35715\n"
     ]
    },
    {
     "name": "stderr",
     "output_type": "stream",
     "text": [
      "/Library/Frameworks/Python.framework/Versions/3.7/lib/python3.7/site-packages/IPython/core/interactiveshell.py:3338: DtypeWarning: Columns (26,27,28) have mixed types.Specify dtype option on import or set low_memory=False.\n",
      "  if (await self.run_code(code, result,  async_=asy)):\n"
     ]
    },
    {
     "name": "stdout",
     "output_type": "stream",
     "text": [
      "Round 444, winrate: 0.0, max_step: 359, reward: 0.032899999999999915, example: {'ranks': [{'rank': 1, 'agentID': 1}, {'rank': 2, 'agentID': 0}], 'replayFile': 'replays/383802755.json'}\n",
      "train loss in 1 epoch in 1 batch: 6.97758\n",
      "val loss in 1 epoch: 6.58897\n",
      "Round 445, winrate: 0.0, max_step: 197, reward: 0.019699999999999936, example: {'ranks': [{'rank': 1, 'agentID': 0}, {'rank': 2, 'agentID': 1}], 'replayFile': 'replays/615303267.json'}\n",
      "train loss in 1 epoch in 1 batch: 7.42994\n",
      "val loss in 1 epoch: 6.14754\n",
      "Round 446, winrate: 0.0, max_step: 350, reward: 0.03379999999999994, example: {'ranks': [{'rank': 1, 'agentID': 1}, {'rank': 2, 'agentID': 0}], 'replayFile': 'replays/70480415.json'}\n",
      "train loss in 1 epoch in 1 batch: 9.04558\n",
      "val loss in 1 epoch: 2.85916\n"
     ]
    },
    {
     "name": "stderr",
     "output_type": "stream",
     "text": [
      "/Library/Frameworks/Python.framework/Versions/3.7/lib/python3.7/site-packages/IPython/core/interactiveshell.py:3338: DtypeWarning: Columns (26,27,28) have mixed types.Specify dtype option on import or set low_memory=False.\n",
      "  if (await self.run_code(code, result,  async_=asy)):\n"
     ]
    },
    {
     "name": "stdout",
     "output_type": "stream",
     "text": [
      "Round 447, winrate: 0.0, max_step: 351, reward: 0.03299999999999992, example: {'ranks': [{'rank': 1, 'agentID': 0}, {'rank': 2, 'agentID': 1}], 'replayFile': 'replays/272945505.json'}\n",
      "train loss in 1 epoch in 1 batch: 6.64864\n",
      "val loss in 1 epoch: 5.61925\n",
      "Round 448, winrate: 0.0, max_step: 152, reward: 0.015199999999999964, example: {'ranks': [{'rank': 1, 'agentID': 1}, {'rank': 2, 'agentID': 0}], 'replayFile': 'replays/328806364.json'}\n",
      "train loss in 1 epoch in 1 batch: 6.61721\n",
      "val loss in 1 epoch: 5.81270\n"
     ]
    },
    {
     "name": "stderr",
     "output_type": "stream",
     "text": [
      "/Library/Frameworks/Python.framework/Versions/3.7/lib/python3.7/site-packages/IPython/core/interactiveshell.py:3338: DtypeWarning: Columns (26,27,28) have mixed types.Specify dtype option on import or set low_memory=False.\n",
      "  if (await self.run_code(code, result,  async_=asy)):\n"
     ]
    },
    {
     "name": "stdout",
     "output_type": "stream",
     "text": [
      "Round 449, winrate: 0.0, max_step: 272, reward: 0.02719999999999989, example: {'ranks': [{'rank': 1, 'agentID': 0}, {'rank': 2, 'agentID': 1}], 'replayFile': 'replays/251817659.json'}\n",
      "train loss in 1 epoch in 1 batch: 6.10639\n",
      "val loss in 1 epoch: 6.28564\n",
      "Round 450, winrate: 0.0, max_step: 359, reward: 0.0322999999999999, example: {'ranks': [{'rank': 1, 'agentID': 1}, {'rank': 2, 'agentID': 0}], 'replayFile': 'replays/130639423.json'}\n",
      "train loss in 1 epoch in 1 batch: 5.11888\n",
      "val loss in 1 epoch: 4.78136\n",
      "Round 451, winrate: 0.0, max_step: 276, reward: 0.025199999999999903, example: {'ranks': [{'rank': 1, 'agentID': 0}, {'rank': 2, 'agentID': 1}], 'replayFile': 'replays/98734623.json'}\n",
      "train loss in 1 epoch in 1 batch: 5.24622\n",
      "val loss in 1 epoch: 4.44578\n",
      "Round 452, winrate: 0.0, max_step: 115, reward: 0.030299999999999924, example: {'ranks': [{'rank': 1, 'agentID': 1}, {'rank': 2, 'agentID': 0}], 'replayFile': 'replays/585956746.json'}\n",
      "train loss in 1 epoch in 1 batch: 6.14735\n",
      "val loss in 1 epoch: 6.82315\n",
      "Round 453, winrate: 0.0, max_step: 230, reward: 0.03669999999999984, example: {'ranks': [{'rank': 1, 'agentID': 0}, {'rank': 2, 'agentID': 1}], 'replayFile': 'replays/644292498.json'}\n",
      "train loss in 1 epoch in 1 batch: 3.38657\n",
      "val loss in 1 epoch: 3.27826\n",
      "Round 454, winrate: 0.0, max_step: 190, reward: 0.01889999999999994, example: {'ranks': [{'rank': 1, 'agentID': 1}, {'rank': 2, 'agentID': 0}], 'replayFile': 'replays/724567739.json'}\n",
      "train loss in 1 epoch in 1 batch: 1.87174\n",
      "val loss in 1 epoch: 1.12126\n",
      "Round 455, winrate: 0.0, max_step: 38, reward: 0.002799999999999999, example: {'ranks': [{'rank': 1, 'agentID': 0}, {'rank': 2, 'agentID': 1}], 'replayFile': 'replays/696787733.json'}\n",
      "train loss in 1 epoch in 1 batch: 8.48989\n",
      "val loss in 1 epoch: 6.65582\n",
      "Round 456, winrate: 0.0, max_step: 279, reward: 0.17779999999999818, example: {'ranks': [{'rank': 1, 'agentID': 1}, {'rank': 2, 'agentID': 0}], 'replayFile': 'replays/989921893.json'}\n",
      "train loss in 1 epoch in 1 batch: 3.36695\n",
      "val loss in 1 epoch: 1.70746\n",
      "train loss in 1 epoch in 2 batch: 0.54586\n",
      "val loss in 1 epoch: 1.66781\n"
     ]
    },
    {
     "name": "stderr",
     "output_type": "stream",
     "text": [
      "/Library/Frameworks/Python.framework/Versions/3.7/lib/python3.7/site-packages/IPython/core/interactiveshell.py:3338: DtypeWarning: Columns (9,10,11,12,13,14,17,18,19,20,21,22) have mixed types.Specify dtype option on import or set low_memory=False.\n",
      "  if (await self.run_code(code, result,  async_=asy)):\n"
     ]
    },
    {
     "name": "stdout",
     "output_type": "stream",
     "text": [
      "Round 457, winrate: 0.0, max_step: 278, reward: 0.018299999999999945, example: {'ranks': [{'rank': 1, 'agentID': 0}, {'rank': 2, 'agentID': 1}], 'replayFile': 'replays/781284706.json'}\n",
      "train loss in 1 epoch in 1 batch: 4.00670\n",
      "val loss in 1 epoch: 2.87579\n",
      "Round 458, winrate: 0.0, max_step: 239, reward: 0.024899999999999905, example: {'ranks': [{'rank': 1, 'agentID': 1}, {'rank': 2, 'agentID': 0}], 'replayFile': 'replays/240375229.json'}\n",
      "train loss in 1 epoch in 1 batch: 6.55770\n",
      "val loss in 1 epoch: 5.94958\n",
      "Round 459, winrate: 0.0, max_step: 277, reward: 0.027699999999999888, example: {'ranks': [{'rank': 1, 'agentID': 0}, {'rank': 2, 'agentID': 1}], 'replayFile': 'replays/542553298.json'}\n",
      "train loss in 1 epoch in 1 batch: 6.48368\n",
      "val loss in 1 epoch: 5.58819\n"
     ]
    },
    {
     "name": "stderr",
     "output_type": "stream",
     "text": [
      "/Library/Frameworks/Python.framework/Versions/3.7/lib/python3.7/site-packages/IPython/core/interactiveshell.py:3338: DtypeWarning: Columns (17,18,19,20,21,22) have mixed types.Specify dtype option on import or set low_memory=False.\n",
      "  if (await self.run_code(code, result,  async_=asy)):\n"
     ]
    },
    {
     "name": "stdout",
     "output_type": "stream",
     "text": [
      "Round 460, winrate: 0.0, max_step: 197, reward: 0.018599999999999943, example: {'ranks': [{'rank': 1, 'agentID': 1}, {'rank': 2, 'agentID': 0}], 'replayFile': 'replays/542898890.json'}\n",
      "train loss in 1 epoch in 1 batch: 1.24025\n",
      "val loss in 1 epoch: 0.74442\n",
      "Round 461, winrate: 0.0, max_step: 159, reward: 0.013399999999999974, example: {'ranks': [{'rank': 1, 'agentID': 0}, {'rank': 2, 'agentID': 1}], 'replayFile': 'replays/428039457.json'}\n",
      "train loss in 1 epoch in 1 batch: 14.32427\n",
      "val loss in 1 epoch: 12.52258\n",
      "Round 462, winrate: 0.0, max_step: 193, reward: 0.01929999999999994, example: {'ranks': [{'rank': 1, 'agentID': 1}, {'rank': 2, 'agentID': 0}], 'replayFile': 'replays/914971328.json'}\n",
      "train loss in 1 epoch in 1 batch: 0.96620\n",
      "val loss in 1 epoch: 2.38279\n",
      "Round 463, winrate: 0.0, max_step: 359, reward: 0.0359, example: {'ranks': [{'rank': 1, 'agentID': 0}, {'rank': 2, 'agentID': 1}], 'replayFile': 'replays/252550776.json'}\n",
      "train loss in 1 epoch in 1 batch: 6.05879\n",
      "val loss in 1 epoch: 5.43684\n",
      "Round 464, winrate: 0.0, max_step: 319, reward: 0.1711999999999981, example: {'ranks': [{'rank': 1, 'agentID': 1}, {'rank': 2, 'agentID': 0}], 'replayFile': 'replays/894780635.json'}\n",
      "train loss in 1 epoch in 1 batch: 5.76029\n",
      "val loss in 1 epoch: 2.36456\n",
      "train loss in 1 epoch in 2 batch: 0.50302\n",
      "val loss in 1 epoch: 2.37456\n",
      "Round 465, winrate: 0.0, max_step: 229, reward: 0.019399999999999938, example: {'ranks': [{'rank': 1, 'agentID': 0}, {'rank': 2, 'agentID': 1}], 'replayFile': 'replays/497596366.json'}\n",
      "train loss in 1 epoch in 1 batch: 12.61326\n",
      "val loss in 1 epoch: 11.30168\n",
      "Round 466, winrate: 0.0, max_step: 359, reward: 0.0359, example: {'ranks': [{'rank': 1, 'agentID': 1}, {'rank': 2, 'agentID': 0}], 'replayFile': 'replays/731054922.json'}\n",
      "train loss in 1 epoch in 1 batch: 10.98988\n",
      "val loss in 1 epoch: 9.78440\n",
      "Round 467, winrate: 0.0, max_step: 271, reward: 0.02709999999999989, example: {'ranks': [{'rank': 1, 'agentID': 0}, {'rank': 2, 'agentID': 1}], 'replayFile': 'replays/12351933.json'}\n",
      "train loss in 1 epoch in 1 batch: 3.04299\n",
      "val loss in 1 epoch: 1.24252\n",
      "Round 468, winrate: 0.0, max_step: 230, reward: 0.0038999999999999972, example: {'ranks': [{'rank': 1, 'agentID': 1}, {'rank': 2, 'agentID': 0}], 'replayFile': 'replays/448267757.json'}\n",
      "train loss in 1 epoch in 1 batch: 5.86920\n",
      "val loss in 1 epoch: 5.32569\n",
      "Round 469, winrate: 0.0, max_step: 118, reward: 0.03009999999999993, example: {'ranks': [{'rank': 1, 'agentID': 0}, {'rank': 2, 'agentID': 1}], 'replayFile': 'replays/820997625.json'}\n",
      "train loss in 1 epoch in 1 batch: 3.87344\n",
      "val loss in 1 epoch: 2.61386\n"
     ]
    },
    {
     "name": "stderr",
     "output_type": "stream",
     "text": [
      "/Library/Frameworks/Python.framework/Versions/3.7/lib/python3.7/site-packages/IPython/core/interactiveshell.py:3338: DtypeWarning: Columns (26,27,28) have mixed types.Specify dtype option on import or set low_memory=False.\n",
      "  if (await self.run_code(code, result,  async_=asy)):\n"
     ]
    },
    {
     "name": "stdout",
     "output_type": "stream",
     "text": [
      "Round 470, winrate: 0.0, max_step: 359, reward: 0.03349999999999993, example: {'ranks': [{'rank': 1, 'agentID': 1}, {'rank': 2, 'agentID': 0}], 'replayFile': 'replays/86647640.json'}\n",
      "train loss in 1 epoch in 1 batch: 10.23349\n",
      "val loss in 1 epoch: 8.66812\n"
     ]
    },
    {
     "name": "stderr",
     "output_type": "stream",
     "text": [
      "/Library/Frameworks/Python.framework/Versions/3.7/lib/python3.7/site-packages/IPython/core/interactiveshell.py:3338: DtypeWarning: Columns (17,18,19,20,21,22) have mixed types.Specify dtype option on import or set low_memory=False.\n",
      "  if (await self.run_code(code, result,  async_=asy)):\n"
     ]
    },
    {
     "name": "stdout",
     "output_type": "stream",
     "text": [
      "Round 471, winrate: 0.0, max_step: 271, reward: 0.0892000000000005, example: {'ranks': [{'rank': 1, 'agentID': 0}, {'rank': 2, 'agentID': 1}], 'replayFile': 'replays/370738517.json'}\n",
      "train loss in 1 epoch in 1 batch: 4.97719\n",
      "val loss in 1 epoch: 2.53926\n"
     ]
    },
    {
     "name": "stderr",
     "output_type": "stream",
     "text": [
      "/Library/Frameworks/Python.framework/Versions/3.7/lib/python3.7/site-packages/IPython/core/interactiveshell.py:3338: DtypeWarning: Columns (9,10,11,12,13,14) have mixed types.Specify dtype option on import or set low_memory=False.\n",
      "  if (await self.run_code(code, result,  async_=asy)):\n"
     ]
    },
    {
     "name": "stdout",
     "output_type": "stream",
     "text": [
      "Round 472, winrate: 0.0, max_step: 357, reward: 0.06269999999999974, example: {'ranks': [{'rank': 1, 'agentID': 1}, {'rank': 2, 'agentID': 0}], 'replayFile': 'replays/611349564.json'}\n",
      "train loss in 1 epoch in 1 batch: 3.83666\n",
      "val loss in 1 epoch: 1.84815\n",
      "Round 473, winrate: 0.0, max_step: 314, reward: 0.0059000000000000025, example: {'ranks': [{'rank': 1, 'agentID': 0}, {'rank': 2, 'agentID': 1}], 'replayFile': 'replays/200865510.json'}\n",
      "train loss in 1 epoch in 1 batch: 6.24067\n",
      "val loss in 1 epoch: 5.44681\n"
     ]
    },
    {
     "name": "stderr",
     "output_type": "stream",
     "text": [
      "/Library/Frameworks/Python.framework/Versions/3.7/lib/python3.7/site-packages/IPython/core/interactiveshell.py:3338: DtypeWarning: Columns (9,10,11,12,13,14) have mixed types.Specify dtype option on import or set low_memory=False.\n",
      "  if (await self.run_code(code, result,  async_=asy)):\n"
     ]
    },
    {
     "name": "stdout",
     "output_type": "stream",
     "text": [
      "Round 474, winrate: 0.0, max_step: 270, reward: 0.008500000000000004, example: {'ranks': [{'rank': 1, 'agentID': 1}, {'rank': 2, 'agentID': 0}], 'replayFile': 'replays/284082176.json'}\n",
      "train loss in 1 epoch in 1 batch: 9.03726\n",
      "val loss in 1 epoch: 7.96215\n",
      "Round 475, winrate: 0.0, max_step: 277, reward: 0.02419999999999991, example: {'ranks': [{'rank': 1, 'agentID': 0}, {'rank': 2, 'agentID': 1}], 'replayFile': 'replays/37985537.json'}\n",
      "train loss in 1 epoch in 1 batch: 9.94946\n",
      "val loss in 1 epoch: 3.49138\n",
      "Round 476, winrate: 0.0, max_step: 359, reward: 0.09990000000000077, example: {'ranks': [{'rank': 1, 'agentID': 1}, {'rank': 2, 'agentID': 0}], 'replayFile': 'replays/801034007.json'}\n",
      "train loss in 1 epoch in 1 batch: 1.54998\n",
      "val loss in 1 epoch: 1.83059\n",
      "Round 477, winrate: 0.0, max_step: 359, reward: 0.09800000000000071, example: {'ranks': [{'rank': 1, 'agentID': 0}, {'rank': 2, 'agentID': 1}], 'replayFile': 'replays/912823586.json'}\n",
      "train loss in 1 epoch in 1 batch: 1.26071\n",
      "val loss in 1 epoch: 1.21163\n"
     ]
    },
    {
     "name": "stderr",
     "output_type": "stream",
     "text": [
      "/Library/Frameworks/Python.framework/Versions/3.7/lib/python3.7/site-packages/IPython/core/interactiveshell.py:3338: DtypeWarning: Columns (9,10,11,12,13,14) have mixed types.Specify dtype option on import or set low_memory=False.\n",
      "  if (await self.run_code(code, result,  async_=asy)):\n"
     ]
    },
    {
     "name": "stdout",
     "output_type": "stream",
     "text": [
      "Round 478, winrate: 0.0, max_step: 355, reward: 0.1509999999999985, example: {'ranks': [{'rank': 1, 'agentID': 1}, {'rank': 2, 'agentID': 0}], 'replayFile': 'replays/763743906.json'}\n",
      "train loss in 1 epoch in 1 batch: 3.21374\n",
      "val loss in 1 epoch: 3.13956\n",
      "train loss in 1 epoch in 2 batch: 0.58000\n",
      "val loss in 1 epoch: 3.10793\n",
      "Round 479, winrate: 0.0, max_step: 198, reward: 0.019699999999999936, example: {'ranks': [{'rank': 1, 'agentID': 0}, {'rank': 2, 'agentID': 1}], 'replayFile': 'replays/124173540.json'}\n",
      "train loss in 1 epoch in 1 batch: 1.62903\n",
      "val loss in 1 epoch: 1.39538\n",
      "Round 480, winrate: 0.0, max_step: 359, reward: 0.11170000000000067, example: {'ranks': [{'rank': 1, 'agentID': 1}, {'rank': 2, 'agentID': 0}], 'replayFile': 'replays/237762688.json'}\n",
      "train loss in 1 epoch in 1 batch: 2.33704\n",
      "val loss in 1 epoch: 1.95861\n",
      "Round 481, winrate: 0.0, max_step: 359, reward: 0.12380000000000149, example: {'ranks': [{'rank': 1, 'agentID': 0}, {'rank': 2, 'agentID': 1}], 'replayFile': 'replays/32443086.json'}\n",
      "train loss in 1 epoch in 1 batch: 1.58029\n",
      "val loss in 1 epoch: 1.36389\n",
      "train loss in 1 epoch in 2 batch: 0.58313\n",
      "val loss in 1 epoch: 1.33998\n",
      "Round 482, winrate: 0.0, max_step: 235, reward: 0.0020000000000000005, example: {'ranks': [{'rank': 1, 'agentID': 1}, {'rank': 2, 'agentID': 0}], 'replayFile': 'replays/498574472.json'}\n",
      "train loss in 1 epoch in 1 batch: 6.19581\n",
      "val loss in 1 epoch: 5.03973\n",
      "Round 483, winrate: 0.0, max_step: 194, reward: 0.0017000000000000006, example: {'ranks': [{'rank': 1, 'agentID': 0}, {'rank': 2, 'agentID': 1}], 'replayFile': 'replays/660577172.json'}\n",
      "train loss in 1 epoch in 1 batch: 5.98651\n",
      "val loss in 1 epoch: 5.09252\n",
      "Round 484, winrate: 0.0, max_step: 199, reward: 0.016599999999999955, example: {'ranks': [{'rank': 1, 'agentID': 1}, {'rank': 2, 'agentID': 0}], 'replayFile': 'replays/100471455.json'}\n",
      "train loss in 1 epoch in 1 batch: 5.31871\n",
      "val loss in 1 epoch: 4.88983\n",
      "Round 485, winrate: 0.0, max_step: 359, reward: 0.03299999999999992, example: {'ranks': [{'rank': 1, 'agentID': 0}, {'rank': 2, 'agentID': 1}], 'replayFile': 'replays/439173616.json'}\n",
      "train loss in 1 epoch in 1 batch: 5.25811\n",
      "val loss in 1 epoch: 4.93735\n",
      "Round 486, winrate: 0.0, max_step: 234, reward: 0.061399999999999746, example: {'ranks': [{'rank': 1, 'agentID': 1}, {'rank': 2, 'agentID': 0}], 'replayFile': 'replays/235295620.json'}\n",
      "train loss in 1 epoch in 1 batch: 5.52334\n",
      "val loss in 1 epoch: 4.56335\n"
     ]
    },
    {
     "name": "stderr",
     "output_type": "stream",
     "text": [
      "/Library/Frameworks/Python.framework/Versions/3.7/lib/python3.7/site-packages/IPython/core/interactiveshell.py:3338: DtypeWarning: Columns (17,18,19,20,21,22) have mixed types.Specify dtype option on import or set low_memory=False.\n",
      "  if (await self.run_code(code, result,  async_=asy)):\n"
     ]
    },
    {
     "name": "stdout",
     "output_type": "stream",
     "text": [
      "Round 487, winrate: 0.0, max_step: 354, reward: 0.03189999999999989, example: {'ranks': [{'rank': 1, 'agentID': 0}, {'rank': 2, 'agentID': 1}], 'replayFile': 'replays/446056185.json'}\n",
      "train loss in 1 epoch in 1 batch: 4.00020\n",
      "val loss in 1 epoch: 2.56916\n",
      "Round 488, winrate: 0.0, max_step: 277, reward: 0.021499999999999925, example: {'ranks': [{'rank': 1, 'agentID': 1}, {'rank': 2, 'agentID': 0}], 'replayFile': 'replays/924659847.json'}\n",
      "train loss in 1 epoch in 1 batch: 10.75512\n",
      "val loss in 1 epoch: 9.55831\n",
      "Round 489, winrate: 0.0, max_step: 234, reward: 0.0078000000000000074, example: {'ranks': [{'rank': 1, 'agentID': 0}, {'rank': 2, 'agentID': 1}], 'replayFile': 'replays/979225765.json'}\n",
      "train loss in 1 epoch in 1 batch: 9.65639\n",
      "val loss in 1 epoch: 8.46480\n",
      "Round 490, winrate: 0.0, max_step: 359, reward: 0.23709999999999948, example: {'ranks': [{'rank': 1, 'agentID': 1}, {'rank': 2, 'agentID': 0}], 'replayFile': 'replays/453627034.json'}\n",
      "train loss in 1 epoch in 1 batch: 4.94408\n",
      "val loss in 1 epoch: 1.29342\n",
      "train loss in 1 epoch in 2 batch: 8.31780\n",
      "val loss in 1 epoch: 1.29657\n"
     ]
    },
    {
     "name": "stderr",
     "output_type": "stream",
     "text": [
      "/Library/Frameworks/Python.framework/Versions/3.7/lib/python3.7/site-packages/IPython/core/interactiveshell.py:3338: DtypeWarning: Columns (17,18,19,20,21,22) have mixed types.Specify dtype option on import or set low_memory=False.\n",
      "  if (await self.run_code(code, result,  async_=asy)):\n"
     ]
    },
    {
     "name": "stdout",
     "output_type": "stream",
     "text": [
      "Round 491, winrate: 0.0, max_step: 359, reward: 0.07460000000000003, example: {'ranks': [{'rank': 1, 'agentID': 0}, {'rank': 2, 'agentID': 1}], 'replayFile': 'replays/470808429.json'}\n",
      "train loss in 1 epoch in 1 batch: 1.12221\n",
      "val loss in 1 epoch: 0.95007\n",
      "Round 492, winrate: 0.0, max_step: 316, reward: 0.11350000000000118, example: {'ranks': [{'rank': 1, 'agentID': 1}, {'rank': 2, 'agentID': 0}], 'replayFile': 'replays/870128140.json'}\n",
      "train loss in 1 epoch in 1 batch: 1.91575\n",
      "val loss in 1 epoch: 1.18483\n"
     ]
    },
    {
     "name": "stderr",
     "output_type": "stream",
     "text": [
      "/Library/Frameworks/Python.framework/Versions/3.7/lib/python3.7/site-packages/IPython/core/interactiveshell.py:3338: DtypeWarning: Columns (9,10,11,12,13,14) have mixed types.Specify dtype option on import or set low_memory=False.\n",
      "  if (await self.run_code(code, result,  async_=asy)):\n"
     ]
    },
    {
     "name": "stdout",
     "output_type": "stream",
     "text": [
      "Round 493, winrate: 0.0, max_step: 359, reward: 0.09479999999999948, example: {'ranks': [{'rank': 1, 'agentID': 0}, {'rank': 2, 'agentID': 1}], 'replayFile': 'replays/748571090.json'}\n",
      "train loss in 1 epoch in 1 batch: 1.96143\n",
      "val loss in 1 epoch: 1.84100\n",
      "Round 494, winrate: 0.0, max_step: 359, reward: 0.07820000000000013, example: {'ranks': [{'rank': 1, 'agentID': 1}, {'rank': 2, 'agentID': 0}], 'replayFile': 'replays/319248652.json'}\n",
      "train loss in 1 epoch in 1 batch: 2.32784\n",
      "val loss in 1 epoch: 1.09321\n",
      "Round 495, winrate: 0.0, max_step: 194, reward: 0.0043999999999999985, example: {'ranks': [{'rank': 1, 'agentID': 0}, {'rank': 2, 'agentID': 1}], 'replayFile': 'replays/163480217.json'}\n",
      "train loss in 1 epoch in 1 batch: 8.03052\n",
      "val loss in 1 epoch: 6.92081\n",
      "Round 496, winrate: 0.0, max_step: 189, reward: 0.017799999999999948, example: {'ranks': [{'rank': 1, 'agentID': 1}, {'rank': 2, 'agentID': 0}], 'replayFile': 'replays/401275577.json'}\n",
      "train loss in 1 epoch in 1 batch: 4.56588\n",
      "val loss in 1 epoch: 4.21957\n",
      "Round 497, winrate: 0.0, max_step: 352, reward: 0.034999999999999976, example: {'ranks': [{'rank': 1, 'agentID': 0}, {'rank': 2, 'agentID': 1}], 'replayFile': 'replays/723357292.json'}\n",
      "train loss in 1 epoch in 1 batch: 1.12090\n",
      "val loss in 1 epoch: 1.25545\n"
     ]
    },
    {
     "name": "stderr",
     "output_type": "stream",
     "text": [
      "/Library/Frameworks/Python.framework/Versions/3.7/lib/python3.7/site-packages/IPython/core/interactiveshell.py:3338: DtypeWarning: Columns (26,27,28) have mixed types.Specify dtype option on import or set low_memory=False.\n",
      "  if (await self.run_code(code, result,  async_=asy)):\n"
     ]
    },
    {
     "name": "stdout",
     "output_type": "stream",
     "text": [
      "Round 498, winrate: 1.0, max_step: 316, reward: 2.0935000000000006, example: {'ranks': [{'rank': 1, 'agentID': 0}, {'rank': 2, 'agentID': 1}], 'replayFile': 'replays/897878633.json'}\n",
      "train loss in 1 epoch in 1 batch: 4.59352\n",
      "val loss in 1 epoch: 3.96263\n",
      "Round 499, winrate: 0.0, max_step: 359, reward: 0.12200000000000163, example: {'ranks': [{'rank': 1, 'agentID': 0}, {'rank': 2, 'agentID': 1}], 'replayFile': 'replays/875360407.json'}\n",
      "train loss in 1 epoch in 1 batch: 5.14246\n",
      "val loss in 1 epoch: 2.14501\n",
      "Round 500, winrate: 0.0, max_step: 270, reward: 0.0823000000000003, example: {'ranks': [{'rank': 1, 'agentID': 1}, {'rank': 2, 'agentID': 0}], 'replayFile': 'replays/831847258.json'}\n",
      "train loss in 1 epoch in 1 batch: 0.98480\n",
      "val loss in 1 epoch: 2.15993\n",
      "Round 501, winrate: 0.0, max_step: 359, reward: 0.13139999999999954, example: {'ranks': [{'rank': 1, 'agentID': 0}, {'rank': 2, 'agentID': 1}], 'replayFile': 'replays/891313239.json'}\n",
      "train loss in 1 epoch in 1 batch: 1.46204\n",
      "val loss in 1 epoch: 2.13943\n"
     ]
    },
    {
     "name": "stderr",
     "output_type": "stream",
     "text": [
      "/Library/Frameworks/Python.framework/Versions/3.7/lib/python3.7/site-packages/IPython/core/interactiveshell.py:3338: DtypeWarning: Columns (26,27,28) have mixed types.Specify dtype option on import or set low_memory=False.\n",
      "  if (await self.run_code(code, result,  async_=asy)):\n"
     ]
    },
    {
     "name": "stdout",
     "output_type": "stream",
     "text": [
      "Round 502, winrate: 0.0, max_step: 197, reward: 0.015299999999999963, example: {'ranks': [{'rank': 1, 'agentID': 1}, {'rank': 2, 'agentID': 0}], 'replayFile': 'replays/382446995.json'}\n",
      "train loss in 1 epoch in 1 batch: 4.32739\n",
      "val loss in 1 epoch: 4.19834\n",
      "Round 503, winrate: 0.0, max_step: 154, reward: 0.052099999999999806, example: {'ranks': [{'rank': 1, 'agentID': 0}, {'rank': 2, 'agentID': 1}], 'replayFile': 'replays/89416765.json'}\n",
      "train loss in 1 epoch in 1 batch: 0.76806\n",
      "val loss in 1 epoch: 1.46463\n",
      "Round 504, winrate: 0.0, max_step: 317, reward: 0.09909999999999937, example: {'ranks': [{'rank': 1, 'agentID': 1}, {'rank': 2, 'agentID': 0}], 'replayFile': 'replays/263026055.json'}\n",
      "train loss in 1 epoch in 1 batch: 3.80843\n",
      "val loss in 1 epoch: 1.65961\n",
      "Round 505, winrate: 0.0, max_step: 274, reward: 0.005800000000000002, example: {'ranks': [{'rank': 1, 'agentID': 0}, {'rank': 2, 'agentID': 1}], 'replayFile': 'replays/432151433.json'}\n",
      "train loss in 1 epoch in 1 batch: 4.14580\n",
      "val loss in 1 epoch: 4.11067\n",
      "Round 506, winrate: 0.0, max_step: 350, reward: 0.03369999999999994, example: {'ranks': [{'rank': 1, 'agentID': 1}, {'rank': 2, 'agentID': 0}], 'replayFile': 'replays/420425780.json'}\n",
      "train loss in 1 epoch in 1 batch: 2.30930\n",
      "val loss in 1 epoch: 1.16856\n"
     ]
    },
    {
     "name": "stderr",
     "output_type": "stream",
     "text": [
      "/Library/Frameworks/Python.framework/Versions/3.7/lib/python3.7/site-packages/IPython/core/interactiveshell.py:3338: DtypeWarning: Columns (26,27,28) have mixed types.Specify dtype option on import or set low_memory=False.\n",
      "  if (await self.run_code(code, result,  async_=asy)):\n"
     ]
    },
    {
     "name": "stdout",
     "output_type": "stream",
     "text": [
      "Round 507, winrate: 0.0, max_step: 239, reward: 0.02389999999999991, example: {'ranks': [{'rank': 1, 'agentID': 0}, {'rank': 2, 'agentID': 1}], 'replayFile': 'replays/65283696.json'}\n",
      "train loss in 1 epoch in 1 batch: 4.25282\n",
      "val loss in 1 epoch: 4.39555\n",
      "Round 508, winrate: 0.0, max_step: 357, reward: 0.318200000000005, example: {'ranks': [{'rank': 1, 'agentID': 1}, {'rank': 2, 'agentID': 0}], 'replayFile': 'replays/324033189.json'}\n",
      "train loss in 1 epoch in 1 batch: 2.98537\n",
      "val loss in 1 epoch: 1.92733\n",
      "train loss in 1 epoch in 2 batch: 3.14668\n",
      "val loss in 1 epoch: 1.95322\n",
      "Round 509, winrate: 0.0, max_step: 275, reward: 0.0022, example: {'ranks': [{'rank': 1, 'agentID': 0}, {'rank': 2, 'agentID': 1}], 'replayFile': 'replays/25224570.json'}\n",
      "train loss in 1 epoch in 1 batch: 5.02843\n",
      "val loss in 1 epoch: 4.23202\n"
     ]
    },
    {
     "name": "stderr",
     "output_type": "stream",
     "text": [
      "/Library/Frameworks/Python.framework/Versions/3.7/lib/python3.7/site-packages/IPython/core/interactiveshell.py:3338: DtypeWarning: Columns (26,27,28) have mixed types.Specify dtype option on import or set low_memory=False.\n",
      "  if (await self.run_code(code, result,  async_=asy)):\n"
     ]
    },
    {
     "name": "stdout",
     "output_type": "stream",
     "text": [
      "Round 510, winrate: 0.0, max_step: 359, reward: 0.03479999999999997, example: {'ranks': [{'rank': 1, 'agentID': 1}, {'rank': 2, 'agentID': 0}], 'replayFile': 'replays/256995256.json'}\n",
      "train loss in 1 epoch in 1 batch: 1.79499\n",
      "val loss in 1 epoch: 0.88817\n"
     ]
    },
    {
     "name": "stderr",
     "output_type": "stream",
     "text": [
      "/Library/Frameworks/Python.framework/Versions/3.7/lib/python3.7/site-packages/IPython/core/interactiveshell.py:3338: DtypeWarning: Columns (26,27,28) have mixed types.Specify dtype option on import or set low_memory=False.\n",
      "  if (await self.run_code(code, result,  async_=asy)):\n"
     ]
    },
    {
     "name": "stdout",
     "output_type": "stream",
     "text": [
      "Round 511, winrate: 0.0, max_step: 359, reward: 0.0359, example: {'ranks': [{'rank': 1, 'agentID': 0}, {'rank': 2, 'agentID': 1}], 'replayFile': 'replays/83161205.json'}\n",
      "train loss in 1 epoch in 1 batch: 7.08470\n",
      "val loss in 1 epoch: 8.12586\n",
      "Round 512, winrate: 0.0, max_step: 195, reward: 0.0078000000000000074, example: {'ranks': [{'rank': 1, 'agentID': 1}, {'rank': 2, 'agentID': 0}], 'replayFile': 'replays/460832195.json'}\n",
      "train loss in 1 epoch in 1 batch: 9.30126\n",
      "val loss in 1 epoch: 7.57132\n",
      "Round 513, winrate: 0.0, max_step: 118, reward: 0.039800000000000224, example: {'ranks': [{'rank': 1, 'agentID': 0}, {'rank': 2, 'agentID': 1}], 'replayFile': 'replays/425083540.json'}\n",
      "train loss in 1 epoch in 1 batch: 0.71529\n",
      "val loss in 1 epoch: 2.31945\n",
      "Round 514, winrate: 0.5, max_step: 359, reward: 0.5327999999999999, example: {'ranks': [{'rank': 1, 'agentID': 0}, {'rank': 1, 'agentID': 1}], 'replayFile': 'replays/977758534.json'}\n",
      "train loss in 1 epoch in 1 batch: 8.21247\n",
      "val loss in 1 epoch: 6.78173\n",
      "Round 515, winrate: 0.0, max_step: 354, reward: 0.04220000000000026, example: {'ranks': [{'rank': 1, 'agentID': 0}, {'rank': 2, 'agentID': 1}], 'replayFile': 'replays/82488706.json'}\n",
      "train loss in 1 epoch in 1 batch: 1.01040\n",
      "val loss in 1 epoch: 1.24470\n"
     ]
    },
    {
     "name": "stderr",
     "output_type": "stream",
     "text": [
      "/Library/Frameworks/Python.framework/Versions/3.7/lib/python3.7/site-packages/IPython/core/interactiveshell.py:3338: DtypeWarning: Columns (9,10,11,12,13,14) have mixed types.Specify dtype option on import or set low_memory=False.\n",
      "  if (await self.run_code(code, result,  async_=asy)):\n"
     ]
    },
    {
     "name": "stdout",
     "output_type": "stream",
     "text": [
      "Round 516, winrate: 0.0, max_step: 352, reward: 0.018399999999999944, example: {'ranks': [{'rank': 1, 'agentID': 1}, {'rank': 2, 'agentID': 0}], 'replayFile': 'replays/264424191.json'}\n",
      "train loss in 1 epoch in 1 batch: 7.40693\n",
      "val loss in 1 epoch: 6.05765\n",
      "Round 517, winrate: 0.0, max_step: 354, reward: 0.15759999999999838, example: {'ranks': [{'rank': 1, 'agentID': 0}, {'rank': 2, 'agentID': 1}], 'replayFile': 'replays/664551457.json'}\n",
      "train loss in 1 epoch in 1 batch: 0.81983\n",
      "val loss in 1 epoch: 2.58162\n",
      "train loss in 1 epoch in 2 batch: 0.38239\n",
      "val loss in 1 epoch: 2.56401\n"
     ]
    },
    {
     "name": "stderr",
     "output_type": "stream",
     "text": [
      "/Library/Frameworks/Python.framework/Versions/3.7/lib/python3.7/site-packages/IPython/core/interactiveshell.py:3338: DtypeWarning: Columns (26,27,28) have mixed types.Specify dtype option on import or set low_memory=False.\n",
      "  if (await self.run_code(code, result,  async_=asy)):\n"
     ]
    },
    {
     "name": "stdout",
     "output_type": "stream",
     "text": [
      "Round 518, winrate: 0.0, max_step: 359, reward: 0.029299999999999878, example: {'ranks': [{'rank': 1, 'agentID': 1}, {'rank': 2, 'agentID': 0}], 'replayFile': 'replays/65763433.json'}\n",
      "train loss in 1 epoch in 1 batch: 7.34735\n",
      "val loss in 1 epoch: 6.18695\n",
      "Round 519, winrate: 0.5, max_step: 358, reward: 0.5249999999999999, example: {'ranks': [{'rank': 1, 'agentID': 0}, {'rank': 1, 'agentID': 1}], 'replayFile': 'replays/508848152.json'}\n",
      "train loss in 1 epoch in 1 batch: 6.28988\n",
      "val loss in 1 epoch: 5.61913\n",
      "Round 520, winrate: 0.0, max_step: 197, reward: 0.019699999999999936, example: {'ranks': [{'rank': 1, 'agentID': 1}, {'rank': 2, 'agentID': 0}], 'replayFile': 'replays/824285868.json'}\n",
      "train loss in 1 epoch in 1 batch: 0.62567\n",
      "val loss in 1 epoch: 0.74822\n",
      "Round 521, winrate: 0.0, max_step: 195, reward: 0.05259999999999996, example: {'ranks': [{'rank': 1, 'agentID': 0}, {'rank': 2, 'agentID': 1}], 'replayFile': 'replays/885692434.json'}\n",
      "train loss in 1 epoch in 1 batch: 0.99274\n",
      "val loss in 1 epoch: 2.67380\n",
      "Round 522, winrate: 0.0, max_step: 359, reward: 0.1173000000000013, example: {'ranks': [{'rank': 1, 'agentID': 1}, {'rank': 2, 'agentID': 0}], 'replayFile': 'replays/26537876.json'}\n",
      "train loss in 1 epoch in 1 batch: 0.73852\n",
      "val loss in 1 epoch: 1.77116\n",
      "Round 523, winrate: 0.0, max_step: 359, reward: 0.10900000000000107, example: {'ranks': [{'rank': 1, 'agentID': 0}, {'rank': 2, 'agentID': 1}], 'replayFile': 'replays/145183450.json'}\n",
      "train loss in 1 epoch in 1 batch: 4.15011\n",
      "val loss in 1 epoch: 1.89181\n",
      "Round 524, winrate: 0.0, max_step: 358, reward: 0.008000000000000007, example: {'ranks': [{'rank': 1, 'agentID': 1}, {'rank': 2, 'agentID': 0}], 'replayFile': 'replays/509756410.json'}\n",
      "train loss in 1 epoch in 1 batch: 6.22159\n",
      "val loss in 1 epoch: 5.03867\n"
     ]
    },
    {
     "name": "stderr",
     "output_type": "stream",
     "text": [
      "/Library/Frameworks/Python.framework/Versions/3.7/lib/python3.7/site-packages/IPython/core/interactiveshell.py:3338: DtypeWarning: Columns (26,27,28) have mixed types.Specify dtype option on import or set low_memory=False.\n",
      "  if (await self.run_code(code, result,  async_=asy)):\n"
     ]
    },
    {
     "name": "stdout",
     "output_type": "stream",
     "text": [
      "Round 525, winrate: 0.0, max_step: 276, reward: 0.02759999999999989, example: {'ranks': [{'rank': 1, 'agentID': 0}, {'rank': 2, 'agentID': 1}], 'replayFile': 'replays/1211914.json'}\n",
      "train loss in 1 epoch in 1 batch: 5.03034\n",
      "val loss in 1 epoch: 5.61982\n",
      "Round 526, winrate: 0.0, max_step: 195, reward: 0.05299999999999973, example: {'ranks': [{'rank': 1, 'agentID': 1}, {'rank': 2, 'agentID': 0}], 'replayFile': 'replays/330066297.json'}\n",
      "train loss in 1 epoch in 1 batch: 4.10359\n",
      "val loss in 1 epoch: 1.97499\n"
     ]
    },
    {
     "name": "stderr",
     "output_type": "stream",
     "text": [
      "/Library/Frameworks/Python.framework/Versions/3.7/lib/python3.7/site-packages/IPython/core/interactiveshell.py:3338: DtypeWarning: Columns (17,18,19,20,21,22) have mixed types.Specify dtype option on import or set low_memory=False.\n",
      "  if (await self.run_code(code, result,  async_=asy)):\n"
     ]
    },
    {
     "name": "stdout",
     "output_type": "stream",
     "text": [
      "Round 527, winrate: 0.5, max_step: 359, reward: 0.5335, example: {'ranks': [{'rank': 1, 'agentID': 0}, {'rank': 1, 'agentID': 1}], 'replayFile': 'replays/434384137.json'}\n",
      "train loss in 1 epoch in 1 batch: 1.17891\n",
      "val loss in 1 epoch: 1.01880\n",
      "Round 528, winrate: 0.0, max_step: 154, reward: 0.010499999999999992, example: {'ranks': [{'rank': 1, 'agentID': 1}, {'rank': 2, 'agentID': 0}], 'replayFile': 'replays/144219916.json'}\n",
      "train loss in 1 epoch in 1 batch: 6.00354\n",
      "val loss in 1 epoch: 5.23953\n",
      "Round 529, winrate: 0.0, max_step: 156, reward: 0.013599999999999973, example: {'ranks': [{'rank': 1, 'agentID': 0}, {'rank': 2, 'agentID': 1}], 'replayFile': 'replays/968628105.json'}\n",
      "train loss in 1 epoch in 1 batch: 5.30672\n",
      "val loss in 1 epoch: 4.81757\n"
     ]
    },
    {
     "name": "stderr",
     "output_type": "stream",
     "text": [
      "/Library/Frameworks/Python.framework/Versions/3.7/lib/python3.7/site-packages/IPython/core/interactiveshell.py:3338: DtypeWarning: Columns (26,27,28) have mixed types.Specify dtype option on import or set low_memory=False.\n",
      "  if (await self.run_code(code, result,  async_=asy)):\n"
     ]
    },
    {
     "name": "stdout",
     "output_type": "stream",
     "text": [
      "Round 530, winrate: 0.0, max_step: 274, reward: 0.08630000000000042, example: {'ranks': [{'rank': 1, 'agentID': 1}, {'rank': 2, 'agentID': 0}], 'replayFile': 'replays/255410497.json'}\n",
      "train loss in 1 epoch in 1 batch: 0.81173\n",
      "val loss in 1 epoch: 0.98191\n",
      "Round 531, winrate: 0.0, max_step: 359, reward: 0.02709999999999989, example: {'ranks': [{'rank': 1, 'agentID': 0}, {'rank': 2, 'agentID': 1}], 'replayFile': 'replays/815218976.json'}\n",
      "train loss in 1 epoch in 1 batch: 3.26964\n",
      "val loss in 1 epoch: 3.18421\n",
      "Round 532, winrate: 0.0, max_step: 235, reward: 0.23970000000000002, example: {'ranks': [{'rank': 1, 'agentID': 1}, {'rank': 2, 'agentID': 0}], 'replayFile': 'replays/682360505.json'}\n",
      "train loss in 1 epoch in 1 batch: 1.64214\n",
      "val loss in 1 epoch: 1.47817\n",
      "train loss in 1 epoch in 2 batch: 0.30189\n",
      "val loss in 1 epoch: 1.48321\n",
      "Round 533, winrate: 0.0, max_step: 358, reward: 0.0358, example: {'ranks': [{'rank': 1, 'agentID': 0}, {'rank': 2, 'agentID': 1}], 'replayFile': 'replays/586456516.json'}\n",
      "train loss in 1 epoch in 1 batch: 3.45334\n",
      "val loss in 1 epoch: 3.04365\n",
      "Round 534, winrate: 0.0, max_step: 118, reward: 0.0017000000000000006, example: {'ranks': [{'rank': 1, 'agentID': 1}, {'rank': 2, 'agentID': 0}], 'replayFile': 'replays/743563117.json'}\n",
      "train loss in 1 epoch in 1 batch: 3.51890\n",
      "val loss in 1 epoch: 3.45285\n",
      "Round 535, winrate: 0.0, max_step: 359, reward: 0.01929999999999994, example: {'ranks': [{'rank': 1, 'agentID': 0}, {'rank': 2, 'agentID': 1}], 'replayFile': 'replays/481722597.json'}\n",
      "train loss in 1 epoch in 1 batch: 2.43046\n",
      "val loss in 1 epoch: 1.99979\n",
      "Round 536, winrate: 0.0, max_step: 359, reward: 0.06419999999999973, example: {'ranks': [{'rank': 1, 'agentID': 1}, {'rank': 2, 'agentID': 0}], 'replayFile': 'replays/34185756.json'}\n",
      "train loss in 1 epoch in 1 batch: 3.41423\n",
      "val loss in 1 epoch: 1.57400\n",
      "Round 537, winrate: 0.0, max_step: 354, reward: 0.17919999999999803, example: {'ranks': [{'rank': 1, 'agentID': 0}, {'rank': 2, 'agentID': 1}], 'replayFile': 'replays/633545836.json'}\n",
      "train loss in 1 epoch in 1 batch: 2.79170\n",
      "val loss in 1 epoch: 1.82601\n",
      "train loss in 1 epoch in 2 batch: 0.31516\n",
      "val loss in 1 epoch: 1.86178\n",
      "Round 538, winrate: 0.0, max_step: 359, reward: 0.020399999999999932, example: {'ranks': [{'rank': 1, 'agentID': 1}, {'rank': 2, 'agentID': 0}], 'replayFile': 'replays/139213495.json'}\n",
      "train loss in 1 epoch in 1 batch: 7.75739\n",
      "val loss in 1 epoch: 6.47464\n",
      "Round 539, winrate: 0.0, max_step: 231, reward: 0.021699999999999924, example: {'ranks': [{'rank': 1, 'agentID': 0}, {'rank': 2, 'agentID': 1}], 'replayFile': 'replays/478382220.json'}\n",
      "train loss in 1 epoch in 1 batch: 3.85967\n",
      "val loss in 1 epoch: 3.54587\n",
      "Round 540, winrate: 1.0, max_step: 159, reward: 1.0163, example: {'ranks': [{'rank': 1, 'agentID': 0}, {'rank': 2, 'agentID': 1}], 'replayFile': 'replays/931499603.json'}\n",
      "train loss in 1 epoch in 1 batch: 0.94337\n",
      "val loss in 1 epoch: 2.62189\n",
      "Round 541, winrate: 0.0, max_step: 199, reward: 0.0049, example: {'ranks': [{'rank': 1, 'agentID': 0}, {'rank': 2, 'agentID': 1}], 'replayFile': 'replays/88891270.json'}\n",
      "train loss in 1 epoch in 1 batch: 3.91828\n",
      "val loss in 1 epoch: 3.66345\n"
     ]
    },
    {
     "name": "stderr",
     "output_type": "stream",
     "text": [
      "/Library/Frameworks/Python.framework/Versions/3.7/lib/python3.7/site-packages/IPython/core/interactiveshell.py:3338: DtypeWarning: Columns (26,27,28) have mixed types.Specify dtype option on import or set low_memory=False.\n",
      "  if (await self.run_code(code, result,  async_=asy)):\n"
     ]
    },
    {
     "name": "stdout",
     "output_type": "stream",
     "text": [
      "Round 542, winrate: 0.0, max_step: 354, reward: 0.02889999999999988, example: {'ranks': [{'rank': 1, 'agentID': 1}, {'rank': 2, 'agentID': 0}], 'replayFile': 'replays/352802423.json'}\n",
      "train loss in 1 epoch in 1 batch: 4.14838\n",
      "val loss in 1 epoch: 3.63839\n",
      "Round 543, winrate: 0.0, max_step: 119, reward: 0.007100000000000006, example: {'ranks': [{'rank': 1, 'agentID': 0}, {'rank': 2, 'agentID': 1}], 'replayFile': 'replays/16935015.json'}\n",
      "train loss in 1 epoch in 1 batch: 11.33011\n",
      "val loss in 1 epoch: 7.71581\n",
      "Round 544, winrate: 0.0, max_step: 358, reward: 0.03469999999999997, example: {'ranks': [{'rank': 1, 'agentID': 1}, {'rank': 2, 'agentID': 0}], 'replayFile': 'replays/700770333.json'}\n",
      "train loss in 1 epoch in 1 batch: 3.64931\n",
      "val loss in 1 epoch: 3.45232\n"
     ]
    },
    {
     "name": "stderr",
     "output_type": "stream",
     "text": [
      "/Library/Frameworks/Python.framework/Versions/3.7/lib/python3.7/site-packages/IPython/core/interactiveshell.py:3338: DtypeWarning: Columns (17,18,19,20,21,22) have mixed types.Specify dtype option on import or set low_memory=False.\n",
      "  if (await self.run_code(code, result,  async_=asy)):\n"
     ]
    },
    {
     "name": "stdout",
     "output_type": "stream",
     "text": [
      "Round 545, winrate: 0.0, max_step: 316, reward: 0.029799999999999875, example: {'ranks': [{'rank': 1, 'agentID': 0}, {'rank': 2, 'agentID': 1}], 'replayFile': 'replays/370686397.json'}\n",
      "train loss in 1 epoch in 1 batch: 3.17314\n",
      "val loss in 1 epoch: 3.07313\n"
     ]
    },
    {
     "name": "stderr",
     "output_type": "stream",
     "text": [
      "/Library/Frameworks/Python.framework/Versions/3.7/lib/python3.7/site-packages/IPython/core/interactiveshell.py:3338: DtypeWarning: Columns (9,10,11,12,13,14) have mixed types.Specify dtype option on import or set low_memory=False.\n",
      "  if (await self.run_code(code, result,  async_=asy)):\n"
     ]
    },
    {
     "name": "stdout",
     "output_type": "stream",
     "text": [
      "Round 546, winrate: 0.0, max_step: 230, reward: 0.020399999999999932, example: {'ranks': [{'rank': 1, 'agentID': 1}, {'rank': 2, 'agentID': 0}], 'replayFile': 'replays/390460796.json'}\n",
      "train loss in 1 epoch in 1 batch: 1.88840\n",
      "val loss in 1 epoch: 1.34966\n",
      "Round 547, winrate: 0.0, max_step: 359, reward: 0.0877000000000004, example: {'ranks': [{'rank': 1, 'agentID': 0}, {'rank': 2, 'agentID': 1}], 'replayFile': 'replays/488480879.json'}\n",
      "train loss in 1 epoch in 1 batch: 0.80157\n",
      "val loss in 1 epoch: 1.81418\n",
      "Round 548, winrate: 0.0, max_step: 157, reward: 0.02449999999999994, example: {'ranks': [{'rank': 1, 'agentID': 1}, {'rank': 2, 'agentID': 0}], 'replayFile': 'replays/853561253.json'}\n",
      "train loss in 1 epoch in 1 batch: 1.05369\n",
      "val loss in 1 epoch: 2.54788\n",
      "Round 549, winrate: 0.0, max_step: 270, reward: 0.008000000000000007, example: {'ranks': [{'rank': 1, 'agentID': 0}, {'rank': 2, 'agentID': 1}], 'replayFile': 'replays/207747704.json'}\n",
      "train loss in 1 epoch in 1 batch: 20.90766\n",
      "val loss in 1 epoch: 16.06120\n",
      "Round 550, winrate: 0.0, max_step: 319, reward: 0.0971999999999995, example: {'ranks': [{'rank': 1, 'agentID': 1}, {'rank': 2, 'agentID': 0}], 'replayFile': 'replays/504502821.json'}\n",
      "train loss in 1 epoch in 1 batch: 0.79131\n",
      "val loss in 1 epoch: 1.84558\n",
      "Round 551, winrate: 0.0, max_step: 359, reward: 0.06269999999999991, example: {'ranks': [{'rank': 1, 'agentID': 0}, {'rank': 2, 'agentID': 1}], 'replayFile': 'replays/601570525.json'}\n",
      "train loss in 1 epoch in 1 batch: 0.93949\n",
      "val loss in 1 epoch: 1.95066\n"
     ]
    },
    {
     "name": "stderr",
     "output_type": "stream",
     "text": [
      "/Library/Frameworks/Python.framework/Versions/3.7/lib/python3.7/site-packages/IPython/core/interactiveshell.py:3338: DtypeWarning: Columns (9,10,11,12,13,14) have mixed types.Specify dtype option on import or set low_memory=False.\n",
      "  if (await self.run_code(code, result,  async_=asy)):\n"
     ]
    },
    {
     "name": "stdout",
     "output_type": "stream",
     "text": [
      "Round 552, winrate: 0.0, max_step: 316, reward: 0.021899999999999923, example: {'ranks': [{'rank': 1, 'agentID': 1}, {'rank': 2, 'agentID': 0}], 'replayFile': 'replays/254873570.json'}\n",
      "train loss in 1 epoch in 1 batch: 3.95310\n",
      "val loss in 1 epoch: 3.29359\n",
      "Round 553, winrate: 0.0, max_step: 275, reward: 0.011199999999999988, example: {'ranks': [{'rank': 1, 'agentID': 0}, {'rank': 2, 'agentID': 1}], 'replayFile': 'replays/613380938.json'}\n",
      "train loss in 1 epoch in 1 batch: 9.74241\n",
      "val loss in 1 epoch: 6.93749\n",
      "Round 554, winrate: 0.0, max_step: 359, reward: 0.12020000000000139, example: {'ranks': [{'rank': 1, 'agentID': 1}, {'rank': 2, 'agentID': 0}], 'replayFile': 'replays/805326271.json'}\n",
      "train loss in 1 epoch in 1 batch: 1.95098\n",
      "val loss in 1 epoch: 1.16592\n",
      "Round 555, winrate: 0.0, max_step: 75, reward: 0.004699999999999999, example: {'ranks': [{'rank': 1, 'agentID': 0}, {'rank': 2, 'agentID': 1}], 'replayFile': 'replays/935590298.json'}\n",
      "train loss in 1 epoch in 1 batch: 5.06904\n",
      "val loss in 1 epoch: 3.78853\n"
     ]
    },
    {
     "name": "stderr",
     "output_type": "stream",
     "text": [
      "/Library/Frameworks/Python.framework/Versions/3.7/lib/python3.7/site-packages/IPython/core/interactiveshell.py:3338: DtypeWarning: Columns (17,18,19,20,21,22) have mixed types.Specify dtype option on import or set low_memory=False.\n",
      "  if (await self.run_code(code, result,  async_=asy)):\n"
     ]
    },
    {
     "name": "stdout",
     "output_type": "stream",
     "text": [
      "Round 556, winrate: 0.0, max_step: 278, reward: 0.1649999999999984, example: {'ranks': [{'rank': 1, 'agentID': 1}, {'rank': 2, 'agentID': 0}], 'replayFile': 'replays/344151183.json'}\n",
      "train loss in 1 epoch in 1 batch: 0.94888\n",
      "val loss in 1 epoch: 0.88486\n",
      "Round 557, winrate: 0.0, max_step: 158, reward: 0.015599999999999961, example: {'ranks': [{'rank': 1, 'agentID': 0}, {'rank': 2, 'agentID': 1}], 'replayFile': 'replays/685346530.json'}\n",
      "train loss in 1 epoch in 1 batch: 10.77414\n",
      "val loss in 1 epoch: 2.27398\n",
      "Round 558, winrate: 0.0, max_step: 190, reward: 0.016899999999999953, example: {'ranks': [{'rank': 1, 'agentID': 1}, {'rank': 2, 'agentID': 0}], 'replayFile': 'replays/521955945.json'}\n",
      "train loss in 1 epoch in 1 batch: 3.31554\n",
      "val loss in 1 epoch: 2.88884\n"
     ]
    },
    {
     "name": "stderr",
     "output_type": "stream",
     "text": [
      "/Library/Frameworks/Python.framework/Versions/3.7/lib/python3.7/site-packages/IPython/core/interactiveshell.py:3338: DtypeWarning: Columns (17,18,19,20,21,22) have mixed types.Specify dtype option on import or set low_memory=False.\n",
      "  if (await self.run_code(code, result,  async_=asy)):\n"
     ]
    },
    {
     "name": "stdout",
     "output_type": "stream",
     "text": [
      "Round 559, winrate: 0.0, max_step: 232, reward: 0.022099999999999922, example: {'ranks': [{'rank': 1, 'agentID': 0}, {'rank': 2, 'agentID': 1}], 'replayFile': 'replays/248131811.json'}\n",
      "train loss in 1 epoch in 1 batch: 0.60799\n",
      "val loss in 1 epoch: 0.96954\n"
     ]
    },
    {
     "name": "stderr",
     "output_type": "stream",
     "text": [
      "/Library/Frameworks/Python.framework/Versions/3.7/lib/python3.7/site-packages/IPython/core/interactiveshell.py:3338: DtypeWarning: Columns (26,27,28) have mixed types.Specify dtype option on import or set low_memory=False.\n",
      "  if (await self.run_code(code, result,  async_=asy)):\n"
     ]
    },
    {
     "name": "stdout",
     "output_type": "stream",
     "text": [
      "Round 560, winrate: 0.0, max_step: 312, reward: 0.1708999999999981, example: {'ranks': [{'rank': 1, 'agentID': 1}, {'rank': 2, 'agentID': 0}], 'replayFile': 'replays/343483530.json'}\n",
      "train loss in 1 epoch in 1 batch: 1.20792\n",
      "val loss in 1 epoch: 1.39009\n",
      "train loss in 1 epoch in 2 batch: 0.26082\n",
      "val loss in 1 epoch: 1.37503\n"
     ]
    },
    {
     "name": "stderr",
     "output_type": "stream",
     "text": [
      "/Library/Frameworks/Python.framework/Versions/3.7/lib/python3.7/site-packages/IPython/core/interactiveshell.py:3338: DtypeWarning: Columns (26,27,28) have mixed types.Specify dtype option on import or set low_memory=False.\n",
      "  if (await self.run_code(code, result,  async_=asy)):\n"
     ]
    },
    {
     "name": "stdout",
     "output_type": "stream",
     "text": [
      "Round 561, winrate: 0.0, max_step: 355, reward: 0.03399999999999995, example: {'ranks': [{'rank': 1, 'agentID': 0}, {'rank': 2, 'agentID': 1}], 'replayFile': 'replays/881265151.json'}\n",
      "train loss in 1 epoch in 1 batch: 7.60452\n",
      "val loss in 1 epoch: 5.69559\n",
      "Round 562, winrate: 0.0, max_step: 359, reward: 0.21049999999999924, example: {'ranks': [{'rank': 1, 'agentID': 1}, {'rank': 2, 'agentID': 0}], 'replayFile': 'replays/153112139.json'}\n",
      "train loss in 1 epoch in 1 batch: 1.89523\n",
      "val loss in 1 epoch: 1.00739\n",
      "train loss in 1 epoch in 2 batch: 0.24293\n",
      "val loss in 1 epoch: 1.00809\n",
      "Round 563, winrate: 0.0, max_step: 194, reward: 0.23410000000000264, example: {'ranks': [{'rank': 1, 'agentID': 0}, {'rank': 2, 'agentID': 1}], 'replayFile': 'replays/245202462.json'}\n",
      "train loss in 1 epoch in 1 batch: 1.07284\n",
      "val loss in 1 epoch: 2.25570\n"
     ]
    },
    {
     "name": "stderr",
     "output_type": "stream",
     "text": [
      "/Library/Frameworks/Python.framework/Versions/3.7/lib/python3.7/site-packages/IPython/core/interactiveshell.py:3338: DtypeWarning: Columns (17,18,19,20,21,22) have mixed types.Specify dtype option on import or set low_memory=False.\n",
      "  if (await self.run_code(code, result,  async_=asy)):\n"
     ]
    },
    {
     "name": "stdout",
     "output_type": "stream",
     "text": [
      "Round 564, winrate: 0.0, max_step: 350, reward: 0.03159999999999988, example: {'ranks': [{'rank': 1, 'agentID': 1}, {'rank': 2, 'agentID': 0}], 'replayFile': 'replays/224625087.json'}\n",
      "train loss in 1 epoch in 1 batch: 0.73310\n",
      "val loss in 1 epoch: 1.26496\n",
      "Round 565, winrate: 0.0, max_step: 238, reward: 0.021499999999999925, example: {'ranks': [{'rank': 1, 'agentID': 0}, {'rank': 2, 'agentID': 1}], 'replayFile': 'replays/873218308.json'}\n",
      "train loss in 1 epoch in 1 batch: 3.06729\n",
      "val loss in 1 epoch: 2.54648\n",
      "Round 566, winrate: 0.0, max_step: 359, reward: 0.029299999999999878, example: {'ranks': [{'rank': 1, 'agentID': 1}, {'rank': 2, 'agentID': 0}], 'replayFile': 'replays/611864660.json'}\n",
      "train loss in 1 epoch in 1 batch: 2.63939\n",
      "val loss in 1 epoch: 2.68018\n",
      "Round 567, winrate: 0.0, max_step: 278, reward: 0.023299999999999915, example: {'ranks': [{'rank': 1, 'agentID': 0}, {'rank': 2, 'agentID': 1}], 'replayFile': 'replays/235285364.json'}\n",
      "train loss in 1 epoch in 1 batch: 0.51495\n",
      "val loss in 1 epoch: 0.80176\n",
      "Round 568, winrate: 0.0, max_step: 359, reward: 0.12170000000000143, example: {'ranks': [{'rank': 1, 'agentID': 1}, {'rank': 2, 'agentID': 0}], 'replayFile': 'replays/247439612.json'}\n",
      "train loss in 1 epoch in 1 batch: 1.68000\n",
      "val loss in 1 epoch: 1.96702\n"
     ]
    },
    {
     "name": "stderr",
     "output_type": "stream",
     "text": [
      "/Library/Frameworks/Python.framework/Versions/3.7/lib/python3.7/site-packages/IPython/core/interactiveshell.py:3338: DtypeWarning: Columns (17,18,19,20,21,22) have mixed types.Specify dtype option on import or set low_memory=False.\n",
      "  if (await self.run_code(code, result,  async_=asy)):\n"
     ]
    },
    {
     "name": "stdout",
     "output_type": "stream",
     "text": [
      "Round 569, winrate: 0.0, max_step: 315, reward: 0.1660999999999983, example: {'ranks': [{'rank': 1, 'agentID': 0}, {'rank': 2, 'agentID': 1}], 'replayFile': 'replays/541653026.json'}\n",
      "train loss in 1 epoch in 1 batch: 0.65603\n",
      "val loss in 1 epoch: 1.83741\n",
      "train loss in 1 epoch in 2 batch: 0.23804\n",
      "val loss in 1 epoch: 1.84933\n",
      "Round 570, winrate: 0.0, max_step: 195, reward: 0.0039999999999999975, example: {'ranks': [{'rank': 1, 'agentID': 1}, {'rank': 2, 'agentID': 0}], 'replayFile': 'replays/867971669.json'}\n",
      "train loss in 1 epoch in 1 batch: 2.60115\n",
      "val loss in 1 epoch: 2.90688\n"
     ]
    },
    {
     "name": "stderr",
     "output_type": "stream",
     "text": [
      "/Library/Frameworks/Python.framework/Versions/3.7/lib/python3.7/site-packages/IPython/core/interactiveshell.py:3338: DtypeWarning: Columns (9,10,11,12,13,14,26,27,28) have mixed types.Specify dtype option on import or set low_memory=False.\n",
      "  if (await self.run_code(code, result,  async_=asy)):\n"
     ]
    },
    {
     "name": "stdout",
     "output_type": "stream",
     "text": [
      "Round 571, winrate: 0.0, max_step: 359, reward: 0.01899999999999994, example: {'ranks': [{'rank': 1, 'agentID': 0}, {'rank': 2, 'agentID': 1}], 'replayFile': 'replays/725315049.json'}\n",
      "train loss in 1 epoch in 1 batch: 8.44792\n",
      "val loss in 1 epoch: 6.64237\n",
      "Round 572, winrate: 0.0, max_step: 195, reward: 0.0017000000000000006, example: {'ranks': [{'rank': 1, 'agentID': 1}, {'rank': 2, 'agentID': 0}], 'replayFile': 'replays/49972857.json'}\n",
      "train loss in 1 epoch in 1 batch: 6.73061\n",
      "val loss in 1 epoch: 5.68705\n"
     ]
    },
    {
     "name": "stderr",
     "output_type": "stream",
     "text": [
      "/Library/Frameworks/Python.framework/Versions/3.7/lib/python3.7/site-packages/IPython/core/interactiveshell.py:3338: DtypeWarning: Columns (9,10,11,12,13,14) have mixed types.Specify dtype option on import or set low_memory=False.\n",
      "  if (await self.run_code(code, result,  async_=asy)):\n"
     ]
    },
    {
     "name": "stdout",
     "output_type": "stream",
     "text": [
      "Round 573, winrate: 0.0, max_step: 359, reward: 0.04499999999999984, example: {'ranks': [{'rank': 1, 'agentID': 0}, {'rank': 2, 'agentID': 1}], 'replayFile': 'replays/942916128.json'}\n",
      "train loss in 1 epoch in 1 batch: 5.17646\n",
      "val loss in 1 epoch: 1.56794\n"
     ]
    },
    {
     "name": "stderr",
     "output_type": "stream",
     "text": [
      "/Library/Frameworks/Python.framework/Versions/3.7/lib/python3.7/site-packages/IPython/core/interactiveshell.py:3338: DtypeWarning: Columns (17,18,19,20,21,22) have mixed types.Specify dtype option on import or set low_memory=False.\n",
      "  if (await self.run_code(code, result,  async_=asy)):\n"
     ]
    },
    {
     "name": "stdout",
     "output_type": "stream",
     "text": [
      "Round 574, winrate: 0.0, max_step: 310, reward: 0.1842000000000007, example: {'ranks': [{'rank': 1, 'agentID': 1}, {'rank': 2, 'agentID': 0}], 'replayFile': 'replays/247202987.json'}\n",
      "train loss in 1 epoch in 1 batch: 4.67953\n",
      "val loss in 1 epoch: 1.53768\n",
      "train loss in 1 epoch in 2 batch: 2.29306\n",
      "val loss in 1 epoch: 1.55290\n",
      "Round 575, winrate: 0.0, max_step: 359, reward: 0.11870000000000135, example: {'ranks': [{'rank': 1, 'agentID': 0}, {'rank': 2, 'agentID': 1}], 'replayFile': 'replays/629527449.json'}\n",
      "train loss in 1 epoch in 1 batch: 3.24977\n",
      "val loss in 1 epoch: 1.50753\n",
      "Round 576, winrate: 0.0, max_step: 150, reward: 0.03899999999999988, example: {'ranks': [{'rank': 1, 'agentID': 1}, {'rank': 2, 'agentID': 0}], 'replayFile': 'replays/574497171.json'}\n",
      "train loss in 1 epoch in 1 batch: 0.48274\n",
      "val loss in 1 epoch: 1.11061\n"
     ]
    },
    {
     "name": "stderr",
     "output_type": "stream",
     "text": [
      "/Library/Frameworks/Python.framework/Versions/3.7/lib/python3.7/site-packages/IPython/core/interactiveshell.py:3338: DtypeWarning: Columns (26,27,28) have mixed types.Specify dtype option on import or set low_memory=False.\n",
      "  if (await self.run_code(code, result,  async_=asy)):\n"
     ]
    },
    {
     "name": "stdout",
     "output_type": "stream",
     "text": [
      "Round 577, winrate: 0.0, max_step: 234, reward: 0.02229999999999992, example: {'ranks': [{'rank': 1, 'agentID': 0}, {'rank': 2, 'agentID': 1}], 'replayFile': 'replays/901790531.json'}\n",
      "train loss in 1 epoch in 1 batch: 6.04584\n",
      "val loss in 1 epoch: 4.31407\n"
     ]
    },
    {
     "name": "stderr",
     "output_type": "stream",
     "text": [
      "/Library/Frameworks/Python.framework/Versions/3.7/lib/python3.7/site-packages/IPython/core/interactiveshell.py:3338: DtypeWarning: Columns (17,18,19,20,21,22) have mixed types.Specify dtype option on import or set low_memory=False.\n",
      "  if (await self.run_code(code, result,  async_=asy)):\n"
     ]
    },
    {
     "name": "stdout",
     "output_type": "stream",
     "text": [
      "Round 578, winrate: 0.0, max_step: 359, reward: 0.11260000000000117, example: {'ranks': [{'rank': 1, 'agentID': 1}, {'rank': 2, 'agentID': 0}], 'replayFile': 'replays/553253805.json'}\n",
      "train loss in 1 epoch in 1 batch: 1.08323\n",
      "val loss in 1 epoch: 1.53774\n"
     ]
    },
    {
     "name": "stderr",
     "output_type": "stream",
     "text": [
      "/Library/Frameworks/Python.framework/Versions/3.7/lib/python3.7/site-packages/IPython/core/interactiveshell.py:3338: DtypeWarning: Columns (26,27,28) have mixed types.Specify dtype option on import or set low_memory=False.\n",
      "  if (await self.run_code(code, result,  async_=asy)):\n"
     ]
    },
    {
     "name": "stdout",
     "output_type": "stream",
     "text": [
      "Round 579, winrate: 0.0, max_step: 352, reward: 0.1243000000000015, example: {'ranks': [{'rank': 1, 'agentID': 0}, {'rank': 2, 'agentID': 1}], 'replayFile': 'replays/712209341.json'}\n",
      "train loss in 1 epoch in 1 batch: 2.98117\n",
      "val loss in 1 epoch: 3.07125\n",
      "train loss in 1 epoch in 2 batch: 3.03318\n",
      "val loss in 1 epoch: 3.22111\n",
      "Round 580, winrate: 0.0, max_step: 190, reward: 0.016599999999999955, example: {'ranks': [{'rank': 1, 'agentID': 1}, {'rank': 2, 'agentID': 0}], 'replayFile': 'replays/59615136.json'}\n",
      "train loss in 1 epoch in 1 batch: 1.20345\n",
      "val loss in 1 epoch: 0.69421\n",
      "Round 581, winrate: 0.0, max_step: 232, reward: 0.019199999999999932, example: {'ranks': [{'rank': 1, 'agentID': 0}, {'rank': 2, 'agentID': 1}], 'replayFile': 'replays/503366333.json'}\n",
      "train loss in 1 epoch in 1 batch: 5.71901\n",
      "val loss in 1 epoch: 6.16163\n",
      "Round 582, winrate: 0.0, max_step: 150, reward: 0.02859999999999988, example: {'ranks': [{'rank': 1, 'agentID': 1}, {'rank': 2, 'agentID': 0}], 'replayFile': 'replays/431861209.json'}\n",
      "train loss in 1 epoch in 1 batch: 0.59613\n",
      "val loss in 1 epoch: 1.48623\n",
      "Round 583, winrate: 0.0, max_step: 193, reward: 0.01929999999999994, example: {'ranks': [{'rank': 1, 'agentID': 0}, {'rank': 2, 'agentID': 1}], 'replayFile': 'replays/553093625.json'}\n",
      "train loss in 1 epoch in 1 batch: 6.62799\n",
      "val loss in 1 epoch: 6.18635\n",
      "Round 584, winrate: 0.0, max_step: 194, reward: 0.0059000000000000025, example: {'ranks': [{'rank': 1, 'agentID': 1}, {'rank': 2, 'agentID': 0}], 'replayFile': 'replays/441633633.json'}\n",
      "train loss in 1 epoch in 1 batch: 5.94912\n",
      "val loss in 1 epoch: 4.95133\n",
      "Round 585, winrate: 0.0, max_step: 230, reward: 0.02049999999999993, example: {'ranks': [{'rank': 1, 'agentID': 0}, {'rank': 2, 'agentID': 1}], 'replayFile': 'replays/162681776.json'}\n",
      "train loss in 1 epoch in 1 batch: 0.59375\n",
      "val loss in 1 epoch: 1.07208\n",
      "Round 586, winrate: 0.0, max_step: 235, reward: 0.0093, example: {'ranks': [{'rank': 1, 'agentID': 1}, {'rank': 2, 'agentID': 0}], 'replayFile': 'replays/792531345.json'}\n",
      "train loss in 1 epoch in 1 batch: 5.49593\n",
      "val loss in 1 epoch: 5.66155\n"
     ]
    },
    {
     "name": "stderr",
     "output_type": "stream",
     "text": [
      "/Library/Frameworks/Python.framework/Versions/3.7/lib/python3.7/site-packages/IPython/core/interactiveshell.py:3338: DtypeWarning: Columns (17,18,19,20,21,22) have mixed types.Specify dtype option on import or set low_memory=False.\n",
      "  if (await self.run_code(code, result,  async_=asy)):\n"
     ]
    },
    {
     "name": "stdout",
     "output_type": "stream",
     "text": [
      "Round 587, winrate: 0.0, max_step: 314, reward: 0.10200000000000087, example: {'ranks': [{'rank': 1, 'agentID': 0}, {'rank': 2, 'agentID': 1}], 'replayFile': 'replays/879796242.json'}\n",
      "train loss in 1 epoch in 1 batch: 0.70767\n",
      "val loss in 1 epoch: 2.33089\n"
     ]
    },
    {
     "name": "stderr",
     "output_type": "stream",
     "text": [
      "/Library/Frameworks/Python.framework/Versions/3.7/lib/python3.7/site-packages/IPython/core/interactiveshell.py:3338: DtypeWarning: Columns (9,10,11,12,13,14) have mixed types.Specify dtype option on import or set low_memory=False.\n",
      "  if (await self.run_code(code, result,  async_=asy)):\n"
     ]
    },
    {
     "name": "stdout",
     "output_type": "stream",
     "text": [
      "Round 588, winrate: 0.0, max_step: 359, reward: 0.0868000000000004, example: {'ranks': [{'rank': 1, 'agentID': 1}, {'rank': 2, 'agentID': 0}], 'replayFile': 'replays/956182263.json'}\n",
      "train loss in 1 epoch in 1 batch: 2.33767\n",
      "val loss in 1 epoch: 1.15025\n",
      "Round 589, winrate: 0.0, max_step: 238, reward: 0.0016000000000000005, example: {'ranks': [{'rank': 1, 'agentID': 0}, {'rank': 2, 'agentID': 1}], 'replayFile': 'replays/403614944.json'}\n",
      "train loss in 1 epoch in 1 batch: 6.41706\n",
      "val loss in 1 epoch: 5.18460\n",
      "Round 590, winrate: 0.0, max_step: 156, reward: 0.07579999999999996, example: {'ranks': [{'rank': 1, 'agentID': 1}, {'rank': 2, 'agentID': 0}], 'replayFile': 'replays/293792490.json'}\n",
      "train loss in 1 epoch in 1 batch: 0.99190\n",
      "val loss in 1 epoch: 1.30856\n",
      "Round 591, winrate: 0.0, max_step: 79, reward: 0.007900000000000008, example: {'ranks': [{'rank': 1, 'agentID': 0}, {'rank': 2, 'agentID': 1}], 'replayFile': 'replays/273192155.json'}\n",
      "train loss in 1 epoch in 1 batch: 0.72505\n",
      "val loss in 1 epoch: 0.81682\n",
      "Round 592, winrate: 0.0, max_step: 313, reward: 0.18429999999999805, example: {'ranks': [{'rank': 1, 'agentID': 1}, {'rank': 2, 'agentID': 0}], 'replayFile': 'replays/548863990.json'}\n",
      "train loss in 1 epoch in 1 batch: 4.08193\n",
      "val loss in 1 epoch: 1.04305\n",
      "train loss in 1 epoch in 2 batch: 0.27591\n",
      "val loss in 1 epoch: 1.09172\n",
      "Round 593, winrate: 0.0, max_step: 230, reward: 0.021599999999999925, example: {'ranks': [{'rank': 1, 'agentID': 0}, {'rank': 2, 'agentID': 1}], 'replayFile': 'replays/506381372.json'}\n",
      "train loss in 1 epoch in 1 batch: 3.82477\n",
      "val loss in 1 epoch: 3.03064\n",
      "Round 594, winrate: 0.0, max_step: 194, reward: 0.0023, example: {'ranks': [{'rank': 1, 'agentID': 1}, {'rank': 2, 'agentID': 0}], 'replayFile': 'replays/962147311.json'}\n",
      "train loss in 1 epoch in 1 batch: 6.31632\n",
      "val loss in 1 epoch: 4.52965\n",
      "Round 595, winrate: 0.0, max_step: 155, reward: 0.0017000000000000006, example: {'ranks': [{'rank': 1, 'agentID': 0}, {'rank': 2, 'agentID': 1}], 'replayFile': 'replays/87590795.json'}\n",
      "train loss in 1 epoch in 1 batch: 4.64473\n",
      "val loss in 1 epoch: 4.99005\n"
     ]
    },
    {
     "name": "stderr",
     "output_type": "stream",
     "text": [
      "/Library/Frameworks/Python.framework/Versions/3.7/lib/python3.7/site-packages/IPython/core/interactiveshell.py:3338: DtypeWarning: Columns (17,18,19,20,21,22) have mixed types.Specify dtype option on import or set low_memory=False.\n",
      "  if (await self.run_code(code, result,  async_=asy)):\n"
     ]
    },
    {
     "name": "stdout",
     "output_type": "stream",
     "text": [
      "Round 596, winrate: 0.0, max_step: 195, reward: 0.013299999999999975, example: {'ranks': [{'rank': 1, 'agentID': 1}, {'rank': 2, 'agentID': 0}], 'replayFile': 'replays/647626395.json'}\n",
      "train loss in 1 epoch in 1 batch: 4.85072\n",
      "val loss in 1 epoch: 5.59769\n"
     ]
    },
    {
     "name": "stderr",
     "output_type": "stream",
     "text": [
      "/Library/Frameworks/Python.framework/Versions/3.7/lib/python3.7/site-packages/IPython/core/interactiveshell.py:3338: DtypeWarning: Columns (9,10,11,12,13,14) have mixed types.Specify dtype option on import or set low_memory=False.\n",
      "  if (await self.run_code(code, result,  async_=asy)):\n"
     ]
    },
    {
     "name": "stdout",
     "output_type": "stream",
     "text": [
      "Round 597, winrate: 0.0, max_step: 312, reward: 0.015099999999999964, example: {'ranks': [{'rank': 1, 'agentID': 0}, {'rank': 2, 'agentID': 1}], 'replayFile': 'replays/895872160.json'}\n",
      "train loss in 1 epoch in 1 batch: 6.41531\n",
      "val loss in 1 epoch: 4.77302\n",
      "Round 598, winrate: 0.0, max_step: 273, reward: 0.20399999999999774, example: {'ranks': [{'rank': 1, 'agentID': 1}, {'rank': 2, 'agentID': 0}], 'replayFile': 'replays/207955727.json'}\n",
      "train loss in 1 epoch in 1 batch: 0.77865\n",
      "val loss in 1 epoch: 0.99977\n",
      "train loss in 1 epoch in 2 batch: 0.27112\n",
      "val loss in 1 epoch: 0.99073\n",
      "Round 599, winrate: 0.0, max_step: 197, reward: 0.10349999999999948, example: {'ranks': [{'rank': 1, 'agentID': 0}, {'rank': 2, 'agentID': 1}], 'replayFile': 'replays/867253489.json'}\n",
      "train loss in 1 epoch in 1 batch: 1.35544\n",
      "val loss in 1 epoch: 1.20961\n"
     ]
    },
    {
     "name": "stderr",
     "output_type": "stream",
     "text": [
      "/Library/Frameworks/Python.framework/Versions/3.7/lib/python3.7/site-packages/IPython/core/interactiveshell.py:3338: DtypeWarning: Columns (9,10,11,12,13,14) have mixed types.Specify dtype option on import or set low_memory=False.\n",
      "  if (await self.run_code(code, result,  async_=asy)):\n"
     ]
    },
    {
     "name": "stdout",
     "output_type": "stream",
     "text": [
      "Round 600, winrate: 0.0, max_step: 356, reward: 0.01729999999999995, example: {'ranks': [{'rank': 1, 'agentID': 1}, {'rank': 2, 'agentID': 0}], 'replayFile': 'replays/139016388.json'}\n",
      "train loss in 1 epoch in 1 batch: 4.51958\n",
      "val loss in 1 epoch: 3.06517\n",
      "Round 601, winrate: 0.0, max_step: 72, reward: 0.004299999999999998, example: {'ranks': [{'rank': 1, 'agentID': 0}, {'rank': 2, 'agentID': 1}], 'replayFile': 'replays/595312809.json'}\n",
      "train loss in 1 epoch in 1 batch: 0.46597\n",
      "val loss in 1 epoch: 1.58987\n",
      "Round 602, winrate: 0.0, max_step: 194, reward: 0.0021000000000000003, example: {'ranks': [{'rank': 1, 'agentID': 1}, {'rank': 2, 'agentID': 0}], 'replayFile': 'replays/949360585.json'}\n",
      "train loss in 1 epoch in 1 batch: 3.96119\n",
      "val loss in 1 epoch: 2.70302\n",
      "Round 603, winrate: 0.0, max_step: 316, reward: 0.14519999999999875, example: {'ranks': [{'rank': 1, 'agentID': 0}, {'rank': 2, 'agentID': 1}], 'replayFile': 'replays/277032607.json'}\n",
      "train loss in 1 epoch in 1 batch: 1.62964\n",
      "val loss in 1 epoch: 1.32034\n",
      "train loss in 1 epoch in 2 batch: 0.36728\n",
      "val loss in 1 epoch: 1.30727\n",
      "Round 604, winrate: 0.0, max_step: 111, reward: 0.0029999999999999988, example: {'ranks': [{'rank': 1, 'agentID': 1}, {'rank': 2, 'agentID': 0}], 'replayFile': 'replays/180367020.json'}\n",
      "train loss in 1 epoch in 1 batch: 3.50769\n",
      "val loss in 1 epoch: 2.62664\n",
      "Round 605, winrate: 0.0, max_step: 359, reward: 0.34560000000000113, example: {'ranks': [{'rank': 1, 'agentID': 0}, {'rank': 2, 'agentID': 1}], 'replayFile': 'replays/496755850.json'}\n",
      "train loss in 1 epoch in 1 batch: 1.05989\n",
      "val loss in 1 epoch: 1.11767\n",
      "train loss in 1 epoch in 2 batch: 1.78991\n",
      "val loss in 1 epoch: 1.11014\n",
      "Round 606, winrate: 0.0, max_step: 275, reward: 0.0059000000000000025, example: {'ranks': [{'rank': 1, 'agentID': 1}, {'rank': 2, 'agentID': 0}], 'replayFile': 'replays/345509510.json'}\n",
      "train loss in 1 epoch in 1 batch: 6.74019\n",
      "val loss in 1 epoch: 8.19401\n"
     ]
    },
    {
     "name": "stderr",
     "output_type": "stream",
     "text": [
      "/Library/Frameworks/Python.framework/Versions/3.7/lib/python3.7/site-packages/IPython/core/interactiveshell.py:3338: DtypeWarning: Columns (9,10,11,12,13,14) have mixed types.Specify dtype option on import or set low_memory=False.\n",
      "  if (await self.run_code(code, result,  async_=asy)):\n"
     ]
    },
    {
     "name": "stdout",
     "output_type": "stream",
     "text": [
      "Round 607, winrate: 0.0, max_step: 315, reward: 0.042999999999999795, example: {'ranks': [{'rank': 1, 'agentID': 0}, {'rank': 2, 'agentID': 1}], 'replayFile': 'replays/747943270.json'}\n",
      "train loss in 1 epoch in 1 batch: 2.05033\n",
      "val loss in 1 epoch: 1.51992\n",
      "Round 608, winrate: 0.0, max_step: 231, reward: 0.021299999999999927, example: {'ranks': [{'rank': 1, 'agentID': 1}, {'rank': 2, 'agentID': 0}], 'replayFile': 'replays/903099021.json'}\n",
      "train loss in 1 epoch in 1 batch: 9.71007\n",
      "val loss in 1 epoch: 7.98963\n"
     ]
    },
    {
     "name": "stderr",
     "output_type": "stream",
     "text": [
      "/Library/Frameworks/Python.framework/Versions/3.7/lib/python3.7/site-packages/IPython/core/interactiveshell.py:3338: DtypeWarning: Columns (9,10,11,12,13,14) have mixed types.Specify dtype option on import or set low_memory=False.\n",
      "  if (await self.run_code(code, result,  async_=asy)):\n"
     ]
    },
    {
     "name": "stdout",
     "output_type": "stream",
     "text": [
      "Round 609, winrate: 0.0, max_step: 359, reward: 0.04330000000000008, example: {'ranks': [{'rank': 1, 'agentID': 0}, {'rank': 2, 'agentID': 1}], 'replayFile': 'replays/823883549.json'}\n",
      "train loss in 1 epoch in 1 batch: 1.94355\n",
      "val loss in 1 epoch: 1.64708\n",
      "Round 610, winrate: 0.0, max_step: 359, reward: 0.11259999999999963, example: {'ranks': [{'rank': 1, 'agentID': 1}, {'rank': 2, 'agentID': 0}], 'replayFile': 'replays/380828244.json'}\n",
      "train loss in 1 epoch in 1 batch: 2.45969\n",
      "val loss in 1 epoch: 1.30642\n",
      "Round 611, winrate: 0.0, max_step: 116, reward: 0.0325999999999999, example: {'ranks': [{'rank': 1, 'agentID': 0}, {'rank': 2, 'agentID': 1}], 'replayFile': 'replays/241843726.json'}\n",
      "train loss in 1 epoch in 1 batch: 1.09231\n",
      "val loss in 1 epoch: 1.42362\n",
      "Round 612, winrate: 0.0, max_step: 359, reward: 0.032499999999999904, example: {'ranks': [{'rank': 1, 'agentID': 1}, {'rank': 2, 'agentID': 0}], 'replayFile': 'replays/616205957.json'}\n",
      "train loss in 1 epoch in 1 batch: 9.39803\n",
      "val loss in 1 epoch: 8.33060\n"
     ]
    },
    {
     "name": "stderr",
     "output_type": "stream",
     "text": [
      "/Library/Frameworks/Python.framework/Versions/3.7/lib/python3.7/site-packages/IPython/core/interactiveshell.py:3338: DtypeWarning: Columns (9,10,11,12,13,14) have mixed types.Specify dtype option on import or set low_memory=False.\n",
      "  if (await self.run_code(code, result,  async_=asy)):\n"
     ]
    },
    {
     "name": "stdout",
     "output_type": "stream",
     "text": [
      "Round 613, winrate: 0.0, max_step: 350, reward: 0.02729999999999989, example: {'ranks': [{'rank': 1, 'agentID': 0}, {'rank': 2, 'agentID': 1}], 'replayFile': 'replays/163189602.json'}\n",
      "train loss in 1 epoch in 1 batch: 3.01860\n",
      "val loss in 1 epoch: 2.34502\n",
      "Round 614, winrate: 0.0, max_step: 359, reward: 0.07949999999999943, example: {'ranks': [{'rank': 1, 'agentID': 1}, {'rank': 2, 'agentID': 0}], 'replayFile': 'replays/392759405.json'}\n",
      "train loss in 1 epoch in 1 batch: 0.98200\n",
      "val loss in 1 epoch: 0.82761\n"
     ]
    },
    {
     "name": "stderr",
     "output_type": "stream",
     "text": [
      "/Library/Frameworks/Python.framework/Versions/3.7/lib/python3.7/site-packages/IPython/core/interactiveshell.py:3338: DtypeWarning: Columns (26,27,28) have mixed types.Specify dtype option on import or set low_memory=False.\n",
      "  if (await self.run_code(code, result,  async_=asy)):\n"
     ]
    },
    {
     "name": "stdout",
     "output_type": "stream",
     "text": [
      "Round 615, winrate: 0.0, max_step: 278, reward: 0.027799999999999887, example: {'ranks': [{'rank': 1, 'agentID': 0}, {'rank': 2, 'agentID': 1}], 'replayFile': 'replays/871283890.json'}\n",
      "train loss in 1 epoch in 1 batch: 3.28485\n",
      "val loss in 1 epoch: 2.62108\n",
      "Round 616, winrate: 0.0, max_step: 359, reward: 0.0877000000000004, example: {'ranks': [{'rank': 1, 'agentID': 1}, {'rank': 2, 'agentID': 0}], 'replayFile': 'replays/90985018.json'}\n",
      "train loss in 1 epoch in 1 batch: 1.58256\n",
      "val loss in 1 epoch: 0.98917\n",
      "Round 617, winrate: 0.0, max_step: 359, reward: 0.10490000000000095, example: {'ranks': [{'rank': 1, 'agentID': 0}, {'rank': 2, 'agentID': 1}], 'replayFile': 'replays/3264686.json'}\n",
      "train loss in 1 epoch in 1 batch: 2.89103\n",
      "val loss in 1 epoch: 2.45933\n",
      "Round 618, winrate: 0.0, max_step: 276, reward: 0.010499999999999992, example: {'ranks': [{'rank': 1, 'agentID': 1}, {'rank': 2, 'agentID': 0}], 'replayFile': 'replays/192513567.json'}\n",
      "train loss in 1 epoch in 1 batch: 2.69893\n",
      "val loss in 1 epoch: 2.64704\n",
      "Round 619, winrate: 0.0, max_step: 310, reward: 0.15739999999999846, example: {'ranks': [{'rank': 1, 'agentID': 0}, {'rank': 2, 'agentID': 1}], 'replayFile': 'replays/884164348.json'}\n",
      "train loss in 1 epoch in 1 batch: 2.41616\n",
      "val loss in 1 epoch: 1.26579\n",
      "train loss in 1 epoch in 2 batch: 0.24098\n",
      "val loss in 1 epoch: 1.24965\n"
     ]
    },
    {
     "name": "stderr",
     "output_type": "stream",
     "text": [
      "/Library/Frameworks/Python.framework/Versions/3.7/lib/python3.7/site-packages/IPython/core/interactiveshell.py:3338: DtypeWarning: Columns (17,18,19,20,21,22) have mixed types.Specify dtype option on import or set low_memory=False.\n",
      "  if (await self.run_code(code, result,  async_=asy)):\n"
     ]
    },
    {
     "name": "stdout",
     "output_type": "stream",
     "text": [
      "Round 620, winrate: 0.0, max_step: 156, reward: 0.03369999999999994, example: {'ranks': [{'rank': 1, 'agentID': 1}, {'rank': 2, 'agentID': 0}], 'replayFile': 'replays/242583715.json'}\n",
      "train loss in 1 epoch in 1 batch: 2.93879\n",
      "val loss in 1 epoch: 1.26052\n",
      "Round 621, winrate: 0.0, max_step: 350, reward: 0.03269999999999991, example: {'ranks': [{'rank': 1, 'agentID': 0}, {'rank': 2, 'agentID': 1}], 'replayFile': 'replays/178274211.json'}\n",
      "train loss in 1 epoch in 1 batch: 0.65396\n",
      "val loss in 1 epoch: 1.10316\n",
      "Round 622, winrate: 0.0, max_step: 354, reward: 0.0016000000000000005, example: {'ranks': [{'rank': 1, 'agentID': 1}, {'rank': 2, 'agentID': 0}], 'replayFile': 'replays/690014903.json'}\n",
      "train loss in 1 epoch in 1 batch: 7.93902\n",
      "val loss in 1 epoch: 7.36847\n"
     ]
    },
    {
     "name": "stderr",
     "output_type": "stream",
     "text": [
      "/Library/Frameworks/Python.framework/Versions/3.7/lib/python3.7/site-packages/IPython/core/interactiveshell.py:3338: DtypeWarning: Columns (9,10,11,12,13,14) have mixed types.Specify dtype option on import or set low_memory=False.\n",
      "  if (await self.run_code(code, result,  async_=asy)):\n"
     ]
    },
    {
     "name": "stdout",
     "output_type": "stream",
     "text": [
      "Round 623, winrate: 0.0, max_step: 359, reward: 0.022099999999999922, example: {'ranks': [{'rank': 1, 'agentID': 0}, {'rank': 2, 'agentID': 1}], 'replayFile': 'replays/875016726.json'}\n",
      "train loss in 1 epoch in 1 batch: 0.60312\n",
      "val loss in 1 epoch: 1.56287\n"
     ]
    },
    {
     "name": "stderr",
     "output_type": "stream",
     "text": [
      "/Library/Frameworks/Python.framework/Versions/3.7/lib/python3.7/site-packages/IPython/core/interactiveshell.py:3338: DtypeWarning: Columns (26,27,28) have mixed types.Specify dtype option on import or set low_memory=False.\n",
      "  if (await self.run_code(code, result,  async_=asy)):\n"
     ]
    },
    {
     "name": "stdout",
     "output_type": "stream",
     "text": [
      "Round 624, winrate: 0.0, max_step: 359, reward: 0.03349999999999993, example: {'ranks': [{'rank': 1, 'agentID': 1}, {'rank': 2, 'agentID': 0}], 'replayFile': 'replays/452090300.json'}\n",
      "train loss in 1 epoch in 1 batch: 7.83546\n",
      "val loss in 1 epoch: 6.57750\n",
      "Round 625, winrate: 0.0, max_step: 349, reward: 0.03089999999999987, example: {'ranks': [{'rank': 1, 'agentID': 0}, {'rank': 2, 'agentID': 1}], 'replayFile': 'replays/53784371.json'}\n",
      "train loss in 1 epoch in 1 batch: 2.62473\n",
      "val loss in 1 epoch: 2.43980\n",
      "Round 626, winrate: 0.0, max_step: 357, reward: 0.12350000000000148, example: {'ranks': [{'rank': 1, 'agentID': 1}, {'rank': 2, 'agentID': 0}], 'replayFile': 'replays/58829777.json'}\n",
      "train loss in 1 epoch in 1 batch: 1.33783\n",
      "val loss in 1 epoch: 0.95438\n",
      "Round 627, winrate: 1.0, max_step: 359, reward: 2.0981000000000005, example: {'ranks': [{'rank': 1, 'agentID': 1}, {'rank': 2, 'agentID': 0}], 'replayFile': 'replays/913463700.json'}\n",
      "train loss in 1 epoch in 1 batch: 0.50568\n",
      "val loss in 1 epoch: 1.14670\n",
      "Round 628, winrate: 0.0, max_step: 312, reward: 0.0256999999999999, example: {'ranks': [{'rank': 1, 'agentID': 1}, {'rank': 2, 'agentID': 0}], 'replayFile': 'replays/326392043.json'}\n",
      "train loss in 1 epoch in 1 batch: 2.50789\n",
      "val loss in 1 epoch: 2.30549\n"
     ]
    },
    {
     "name": "stderr",
     "output_type": "stream",
     "text": [
      "/Library/Frameworks/Python.framework/Versions/3.7/lib/python3.7/site-packages/IPython/core/interactiveshell.py:3338: DtypeWarning: Columns (26,27,28) have mixed types.Specify dtype option on import or set low_memory=False.\n",
      "  if (await self.run_code(code, result,  async_=asy)):\n"
     ]
    },
    {
     "name": "stdout",
     "output_type": "stream",
     "text": [
      "Round 629, winrate: 0.0, max_step: 236, reward: 0.021599999999999925, example: {'ranks': [{'rank': 1, 'agentID': 0}, {'rank': 2, 'agentID': 1}], 'replayFile': 'replays/854446421.json'}\n",
      "train loss in 1 epoch in 1 batch: 2.30929\n",
      "val loss in 1 epoch: 2.40029\n"
     ]
    },
    {
     "name": "stderr",
     "output_type": "stream",
     "text": [
      "/Library/Frameworks/Python.framework/Versions/3.7/lib/python3.7/site-packages/IPython/core/interactiveshell.py:3338: DtypeWarning: Columns (9,10,11,12,13,14,26,27,28) have mixed types.Specify dtype option on import or set low_memory=False.\n",
      "  if (await self.run_code(code, result,  async_=asy)):\n"
     ]
    },
    {
     "name": "stdout",
     "output_type": "stream",
     "text": [
      "Round 630, winrate: 0.0, max_step: 359, reward: 0.022699999999999918, example: {'ranks': [{'rank': 1, 'agentID': 1}, {'rank': 2, 'agentID': 0}], 'replayFile': 'replays/230216792.json'}\n",
      "train loss in 1 epoch in 1 batch: 2.50872\n",
      "val loss in 1 epoch: 2.16919\n"
     ]
    },
    {
     "name": "stderr",
     "output_type": "stream",
     "text": [
      "/Library/Frameworks/Python.framework/Versions/3.7/lib/python3.7/site-packages/IPython/core/interactiveshell.py:3338: DtypeWarning: Columns (26,27,28) have mixed types.Specify dtype option on import or set low_memory=False.\n",
      "  if (await self.run_code(code, result,  async_=asy)):\n"
     ]
    },
    {
     "name": "stdout",
     "output_type": "stream",
     "text": [
      "Round 631, winrate: 0.0, max_step: 359, reward: 0.03209999999999989, example: {'ranks': [{'rank': 1, 'agentID': 0}, {'rank': 2, 'agentID': 1}], 'replayFile': 'replays/536616985.json'}\n",
      "train loss in 1 epoch in 1 batch: 2.43361\n",
      "val loss in 1 epoch: 2.20487\n",
      "Round 632, winrate: 1.0, max_step: 77, reward: 2.0107, example: {'ranks': [{'rank': 1, 'agentID': 0}, {'rank': 2, 'agentID': 1}], 'replayFile': 'replays/350265706.json'}\n",
      "train loss in 1 epoch in 1 batch: 0.47907\n",
      "val loss in 1 epoch: 0.55922\n",
      "Round 633, winrate: 0.0, max_step: 236, reward: 0.021299999999999927, example: {'ranks': [{'rank': 1, 'agentID': 0}, {'rank': 2, 'agentID': 1}], 'replayFile': 'replays/878101368.json'}\n",
      "train loss in 1 epoch in 1 batch: 2.34573\n",
      "val loss in 1 epoch: 2.25438\n",
      "Round 634, winrate: 0.0, max_step: 190, reward: 0.0833999999999999, example: {'ranks': [{'rank': 1, 'agentID': 1}, {'rank': 2, 'agentID': 0}], 'replayFile': 'replays/583350560.json'}\n",
      "train loss in 1 epoch in 1 batch: 7.47759\n",
      "val loss in 1 epoch: 5.76277\n",
      "Round 635, winrate: 0.0, max_step: 315, reward: 0.08770000000000043, example: {'ranks': [{'rank': 1, 'agentID': 0}, {'rank': 2, 'agentID': 1}], 'replayFile': 'replays/475613272.json'}\n",
      "train loss in 1 epoch in 1 batch: 0.92824\n",
      "val loss in 1 epoch: 1.60200\n",
      "Round 636, winrate: 0.0, max_step: 236, reward: 0.018599999999999943, example: {'ranks': [{'rank': 1, 'agentID': 1}, {'rank': 2, 'agentID': 0}], 'replayFile': 'replays/840565948.json'}\n",
      "train loss in 1 epoch in 1 batch: 2.14932\n",
      "val loss in 1 epoch: 1.99715\n",
      "Round 637, winrate: 1.0, max_step: 193, reward: 1.0033, example: {'ranks': [{'rank': 1, 'agentID': 1}, {'rank': 2, 'agentID': 0}], 'replayFile': 'replays/860919779.json'}\n",
      "train loss in 1 epoch in 1 batch: 2.09219\n",
      "val loss in 1 epoch: 1.73347\n"
     ]
    },
    {
     "name": "stderr",
     "output_type": "stream",
     "text": [
      "/Library/Frameworks/Python.framework/Versions/3.7/lib/python3.7/site-packages/IPython/core/interactiveshell.py:3338: DtypeWarning: Columns (26,27,28) have mixed types.Specify dtype option on import or set low_memory=False.\n",
      "  if (await self.run_code(code, result,  async_=asy)):\n"
     ]
    },
    {
     "name": "stdout",
     "output_type": "stream",
     "text": [
      "Round 638, winrate: 0.0, max_step: 359, reward: 0.03409999999999995, example: {'ranks': [{'rank': 1, 'agentID': 1}, {'rank': 2, 'agentID': 0}], 'replayFile': 'replays/820980108.json'}\n",
      "train loss in 1 epoch in 1 batch: 2.09158\n",
      "val loss in 1 epoch: 1.94313\n",
      "Round 639, winrate: 0.0, max_step: 191, reward: 0.03179999999999988, example: {'ranks': [{'rank': 1, 'agentID': 0}, {'rank': 2, 'agentID': 1}], 'replayFile': 'replays/706882780.json'}\n",
      "train loss in 1 epoch in 1 batch: 0.65117\n",
      "val loss in 1 epoch: 0.90984\n",
      "Round 640, winrate: 0.0, max_step: 316, reward: 0.19849999999999787, example: {'ranks': [{'rank': 1, 'agentID': 1}, {'rank': 2, 'agentID': 0}], 'replayFile': 'replays/145049628.json'}\n",
      "train loss in 1 epoch in 1 batch: 1.67491\n",
      "val loss in 1 epoch: 1.62562\n",
      "train loss in 1 epoch in 2 batch: 0.20201\n",
      "val loss in 1 epoch: 1.61697\n",
      "Round 641, winrate: 0.0, max_step: 78, reward: 0.0078000000000000074, example: {'ranks': [{'rank': 1, 'agentID': 0}, {'rank': 2, 'agentID': 1}], 'replayFile': 'replays/744233467.json'}\n",
      "train loss in 1 epoch in 1 batch: 0.51315\n",
      "val loss in 1 epoch: 0.42218\n",
      "Round 642, winrate: 0.0, max_step: 312, reward: 0.09230000000000059, example: {'ranks': [{'rank': 1, 'agentID': 1}, {'rank': 2, 'agentID': 0}], 'replayFile': 'replays/155098439.json'}\n",
      "train loss in 1 epoch in 1 batch: 1.80850\n",
      "val loss in 1 epoch: 1.31830\n",
      "Round 643, winrate: 0.0, max_step: 359, reward: 0.032499999999999904, example: {'ranks': [{'rank': 1, 'agentID': 0}, {'rank': 2, 'agentID': 1}], 'replayFile': 'replays/242006060.json'}\n",
      "train loss in 1 epoch in 1 batch: 3.50473\n",
      "val loss in 1 epoch: 1.83184\n",
      "Round 644, winrate: 0.0, max_step: 359, reward: 0.007900000000000008, example: {'ranks': [{'rank': 1, 'agentID': 1}, {'rank': 2, 'agentID': 0}], 'replayFile': 'replays/239371469.json'}\n",
      "train loss in 1 epoch in 1 batch: 5.82484\n",
      "val loss in 1 epoch: 5.14705\n",
      "Round 645, winrate: 0.0, max_step: 234, reward: 0.0018000000000000006, example: {'ranks': [{'rank': 1, 'agentID': 0}, {'rank': 2, 'agentID': 1}], 'replayFile': 'replays/261725237.json'}\n",
      "train loss in 1 epoch in 1 batch: 5.42462\n",
      "val loss in 1 epoch: 4.66553\n",
      "Round 646, winrate: 0.0, max_step: 358, reward: 0.005600000000000002, example: {'ranks': [{'rank': 1, 'agentID': 1}, {'rank': 2, 'agentID': 0}], 'replayFile': 'replays/943072595.json'}\n",
      "train loss in 1 epoch in 1 batch: 5.08596\n",
      "val loss in 1 epoch: 4.36892\n"
     ]
    },
    {
     "name": "stderr",
     "output_type": "stream",
     "text": [
      "/Library/Frameworks/Python.framework/Versions/3.7/lib/python3.7/site-packages/IPython/core/interactiveshell.py:3338: DtypeWarning: Columns (26,27,28) have mixed types.Specify dtype option on import or set low_memory=False.\n",
      "  if (await self.run_code(code, result,  async_=asy)):\n"
     ]
    },
    {
     "name": "stdout",
     "output_type": "stream",
     "text": [
      "Round 647, winrate: 0.0, max_step: 356, reward: 0.03559999999999999, example: {'ranks': [{'rank': 1, 'agentID': 0}, {'rank': 2, 'agentID': 1}], 'replayFile': 'replays/757025131.json'}\n",
      "train loss in 1 epoch in 1 batch: 1.98572\n",
      "val loss in 1 epoch: 1.77682\n"
     ]
    },
    {
     "name": "stderr",
     "output_type": "stream",
     "text": [
      "/Library/Frameworks/Python.framework/Versions/3.7/lib/python3.7/site-packages/IPython/core/interactiveshell.py:3338: DtypeWarning: Columns (9,10,11,12,13,14,26,27,28) have mixed types.Specify dtype option on import or set low_memory=False.\n",
      "  if (await self.run_code(code, result,  async_=asy)):\n"
     ]
    },
    {
     "name": "stdout",
     "output_type": "stream",
     "text": [
      "Round 648, winrate: 0.0, max_step: 274, reward: 0.01749999999999995, example: {'ranks': [{'rank': 1, 'agentID': 1}, {'rank': 2, 'agentID': 0}], 'replayFile': 'replays/641928918.json'}\n",
      "train loss in 1 epoch in 1 batch: 4.37912\n",
      "val loss in 1 epoch: 4.66347\n",
      "Round 649, winrate: 0.0, max_step: 109, reward: 0.009999999999999995, example: {'ranks': [{'rank': 1, 'agentID': 0}, {'rank': 2, 'agentID': 1}], 'replayFile': 'replays/249583918.json'}\n",
      "train loss in 1 epoch in 1 batch: 1.80631\n",
      "val loss in 1 epoch: 1.94084\n",
      "Round 650, winrate: 0.0, max_step: 197, reward: 0.019699999999999936, example: {'ranks': [{'rank': 1, 'agentID': 1}, {'rank': 2, 'agentID': 0}], 'replayFile': 'replays/558083164.json'}\n",
      "train loss in 1 epoch in 1 batch: 0.69720\n",
      "val loss in 1 epoch: 0.73962\n",
      "Round 651, winrate: 0.0, max_step: 274, reward: 0.056399999999999714, example: {'ranks': [{'rank': 1, 'agentID': 0}, {'rank': 2, 'agentID': 1}], 'replayFile': 'replays/319318239.json'}\n",
      "train loss in 1 epoch in 1 batch: 2.41170\n",
      "val loss in 1 epoch: 2.35964\n",
      "Round 652, winrate: 0.0, max_step: 234, reward: 0.0036999999999999976, example: {'ranks': [{'rank': 1, 'agentID': 1}, {'rank': 2, 'agentID': 0}], 'replayFile': 'replays/739991871.json'}\n",
      "train loss in 1 epoch in 1 batch: 1.95578\n",
      "val loss in 1 epoch: 2.04755\n"
     ]
    },
    {
     "name": "stderr",
     "output_type": "stream",
     "text": [
      "/Library/Frameworks/Python.framework/Versions/3.7/lib/python3.7/site-packages/IPython/core/interactiveshell.py:3338: DtypeWarning: Columns (17,18,19,20,21,22) have mixed types.Specify dtype option on import or set low_memory=False.\n",
      "  if (await self.run_code(code, result,  async_=asy)):\n"
     ]
    },
    {
     "name": "stdout",
     "output_type": "stream",
     "text": [
      "Round 653, winrate: 0.0, max_step: 359, reward: 0.11810000000000133, example: {'ranks': [{'rank': 1, 'agentID': 0}, {'rank': 2, 'agentID': 1}], 'replayFile': 'replays/623134486.json'}\n",
      "train loss in 1 epoch in 1 batch: 1.01832\n",
      "val loss in 1 epoch: 0.65181\n",
      "Round 654, winrate: 0.0, max_step: 359, reward: 0.03549999999999999, example: {'ranks': [{'rank': 1, 'agentID': 1}, {'rank': 2, 'agentID': 0}], 'replayFile': 'replays/635521976.json'}\n",
      "train loss in 1 epoch in 1 batch: 3.05021\n",
      "val loss in 1 epoch: 2.13800\n"
     ]
    },
    {
     "name": "stderr",
     "output_type": "stream",
     "text": [
      "/Library/Frameworks/Python.framework/Versions/3.7/lib/python3.7/site-packages/IPython/core/interactiveshell.py:3338: DtypeWarning: Columns (17,18,19,20,21,22) have mixed types.Specify dtype option on import or set low_memory=False.\n",
      "  if (await self.run_code(code, result,  async_=asy)):\n"
     ]
    },
    {
     "name": "stdout",
     "output_type": "stream",
     "text": [
      "Round 655, winrate: 1.0, max_step: 195, reward: 2.0564, example: {'ranks': [{'rank': 1, 'agentID': 1}, {'rank': 2, 'agentID': 0}], 'replayFile': 'replays/859364263.json'}\n",
      "train loss in 1 epoch in 1 batch: 1.34573\n",
      "val loss in 1 epoch: 0.96984\n",
      "Round 656, winrate: 0.0, max_step: 194, reward: 0.0038999999999999972, example: {'ranks': [{'rank': 1, 'agentID': 1}, {'rank': 2, 'agentID': 0}], 'replayFile': 'replays/255132843.json'}\n",
      "train loss in 1 epoch in 1 batch: 4.75440\n",
      "val loss in 1 epoch: 4.04376\n",
      "Round 657, winrate: 0.0, max_step: 197, reward: 0.018399999999999944, example: {'ranks': [{'rank': 1, 'agentID': 0}, {'rank': 2, 'agentID': 1}], 'replayFile': 'replays/559402794.json'}\n",
      "train loss in 1 epoch in 1 batch: 0.56609\n",
      "val loss in 1 epoch: 1.74487\n",
      "Round 658, winrate: 0.0, max_step: 235, reward: 0.02059999999999993, example: {'ranks': [{'rank': 1, 'agentID': 1}, {'rank': 2, 'agentID': 0}], 'replayFile': 'replays/672069062.json'}\n",
      "train loss in 1 epoch in 1 batch: 1.97627\n",
      "val loss in 1 epoch: 2.15831\n",
      "Round 659, winrate: 0.0, max_step: 350, reward: 0.03259999999999991, example: {'ranks': [{'rank': 1, 'agentID': 0}, {'rank': 2, 'agentID': 1}], 'replayFile': 'replays/266411815.json'}\n",
      "train loss in 1 epoch in 1 batch: 3.26592\n",
      "val loss in 1 epoch: 1.28650\n",
      "Round 660, winrate: 0.0, max_step: 230, reward: 0.011099999999999988, example: {'ranks': [{'rank': 1, 'agentID': 1}, {'rank': 2, 'agentID': 0}], 'replayFile': 'replays/838218517.json'}\n",
      "train loss in 1 epoch in 1 batch: 4.78047\n",
      "val loss in 1 epoch: 3.81536\n",
      "Round 661, winrate: 0.0, max_step: 314, reward: 0.0035999999999999977, example: {'ranks': [{'rank': 1, 'agentID': 0}, {'rank': 2, 'agentID': 1}], 'replayFile': 'replays/310462940.json'}\n",
      "train loss in 1 epoch in 1 batch: 4.05992\n",
      "val loss in 1 epoch: 3.31476\n",
      "Round 662, winrate: 1.0, max_step: 359, reward: 1.0358, example: {'ranks': [{'rank': 1, 'agentID': 0}, {'rank': 2, 'agentID': 1}], 'replayFile': 'replays/151894847.json'}\n",
      "train loss in 1 epoch in 1 batch: 0.57361\n",
      "val loss in 1 epoch: 0.70400\n",
      "Round 663, winrate: 0.0, max_step: 194, reward: 0.0078000000000000074, example: {'ranks': [{'rank': 1, 'agentID': 0}, {'rank': 2, 'agentID': 1}], 'replayFile': 'replays/24470638.json'}\n",
      "train loss in 1 epoch in 1 batch: 3.17123\n",
      "val loss in 1 epoch: 3.74731\n",
      "Round 664, winrate: 0.0, max_step: 359, reward: 0.16280000000000128, example: {'ranks': [{'rank': 1, 'agentID': 1}, {'rank': 2, 'agentID': 0}], 'replayFile': 'replays/294591913.json'}\n",
      "train loss in 1 epoch in 1 batch: 0.69664\n",
      "val loss in 1 epoch: 0.72877\n",
      "train loss in 1 epoch in 2 batch: 0.22430\n",
      "val loss in 1 epoch: 0.73297\n"
     ]
    },
    {
     "name": "stderr",
     "output_type": "stream",
     "text": [
      "/Library/Frameworks/Python.framework/Versions/3.7/lib/python3.7/site-packages/IPython/core/interactiveshell.py:3338: DtypeWarning: Columns (9,10,11,12,13,14) have mixed types.Specify dtype option on import or set low_memory=False.\n",
      "  if (await self.run_code(code, result,  async_=asy)):\n"
     ]
    },
    {
     "name": "stdout",
     "output_type": "stream",
     "text": [
      "Round 665, winrate: 0.0, max_step: 355, reward: 0.034599999999999964, example: {'ranks': [{'rank': 1, 'agentID': 0}, {'rank': 2, 'agentID': 1}], 'replayFile': 'replays/253581545.json'}\n",
      "train loss in 1 epoch in 1 batch: 0.69810\n",
      "val loss in 1 epoch: 1.14840\n",
      "Round 666, winrate: 0.0, max_step: 311, reward: 0.49350000000000266, example: {'ranks': [{'rank': 1, 'agentID': 1}, {'rank': 2, 'agentID': 0}], 'replayFile': 'replays/860870892.json'}\n",
      "train loss in 1 epoch in 1 batch: 0.43480\n",
      "val loss in 1 epoch: 1.52561\n",
      "train loss in 1 epoch in 2 batch: 0.21067\n",
      "val loss in 1 epoch: 1.51560\n",
      "Round 667, winrate: 0.0, max_step: 359, reward: 0.0359, example: {'ranks': [{'rank': 1, 'agentID': 0}, {'rank': 2, 'agentID': 1}], 'replayFile': 'replays/361961871.json'}\n",
      "train loss in 1 epoch in 1 batch: 4.99577\n",
      "val loss in 1 epoch: 3.86990\n",
      "Round 668, winrate: 0.0, max_step: 359, reward: 0.11430000000000122, example: {'ranks': [{'rank': 1, 'agentID': 1}, {'rank': 2, 'agentID': 0}], 'replayFile': 'replays/999712579.json'}\n",
      "train loss in 1 epoch in 1 batch: 0.47623\n",
      "val loss in 1 epoch: 1.60019\n",
      "Round 669, winrate: 0.0, max_step: 359, reward: 0.0359, example: {'ranks': [{'rank': 1, 'agentID': 0}, {'rank': 2, 'agentID': 1}], 'replayFile': 'replays/401135035.json'}\n",
      "train loss in 1 epoch in 1 batch: 3.96962\n",
      "val loss in 1 epoch: 3.03782\n",
      "Round 670, winrate: 0.0, max_step: 359, reward: 0.03479999999999997, example: {'ranks': [{'rank': 1, 'agentID': 1}, {'rank': 2, 'agentID': 0}], 'replayFile': 'replays/244051806.json'}\n",
      "train loss in 1 epoch in 1 batch: 1.30801\n",
      "val loss in 1 epoch: 0.34168\n",
      "Round 671, winrate: 0.0, max_step: 231, reward: 0.022999999999999916, example: {'ranks': [{'rank': 1, 'agentID': 0}, {'rank': 2, 'agentID': 1}], 'replayFile': 'replays/879890721.json'}\n",
      "train loss in 1 epoch in 1 batch: 0.74978\n",
      "val loss in 1 epoch: 0.52095\n",
      "Round 672, winrate: 0.0, max_step: 230, reward: 0.006800000000000005, example: {'ranks': [{'rank': 1, 'agentID': 1}, {'rank': 2, 'agentID': 0}], 'replayFile': 'replays/343294743.json'}\n",
      "train loss in 1 epoch in 1 batch: 3.03463\n",
      "val loss in 1 epoch: 2.40811\n",
      "Round 673, winrate: 0.0, max_step: 230, reward: 0.022999999999999916, example: {'ranks': [{'rank': 1, 'agentID': 0}, {'rank': 2, 'agentID': 1}], 'replayFile': 'replays/809455129.json'}\n",
      "train loss in 1 epoch in 1 batch: 2.75153\n",
      "val loss in 1 epoch: 2.24644\n",
      "Round 674, winrate: 0.0, max_step: 359, reward: 0.06349999999999971, example: {'ranks': [{'rank': 1, 'agentID': 1}, {'rank': 2, 'agentID': 0}], 'replayFile': 'replays/146231997.json'}\n",
      "train loss in 1 epoch in 1 batch: 2.10571\n",
      "val loss in 1 epoch: 1.10411\n",
      "Round 675, winrate: 0.0, max_step: 233, reward: 0.017999999999999947, example: {'ranks': [{'rank': 1, 'agentID': 0}, {'rank': 2, 'agentID': 1}], 'replayFile': 'replays/63113897.json'}\n",
      "train loss in 1 epoch in 1 batch: 1.39034\n",
      "val loss in 1 epoch: 1.52451\n"
     ]
    },
    {
     "name": "stderr",
     "output_type": "stream",
     "text": [
      "/Library/Frameworks/Python.framework/Versions/3.7/lib/python3.7/site-packages/IPython/core/interactiveshell.py:3338: DtypeWarning: Columns (26,27,28) have mixed types.Specify dtype option on import or set low_memory=False.\n",
      "  if (await self.run_code(code, result,  async_=asy)):\n"
     ]
    },
    {
     "name": "stdout",
     "output_type": "stream",
     "text": [
      "Round 676, winrate: 0.0, max_step: 359, reward: 0.03209999999999995, example: {'ranks': [{'rank': 1, 'agentID': 1}, {'rank': 2, 'agentID': 0}], 'replayFile': 'replays/501304664.json'}\n",
      "train loss in 1 epoch in 1 batch: 1.49722\n",
      "val loss in 1 epoch: 1.66896\n",
      "Round 677, winrate: 0.0, max_step: 352, reward: 0.25239999999999996, example: {'ranks': [{'rank': 1, 'agentID': 0}, {'rank': 2, 'agentID': 1}], 'replayFile': 'replays/23698688.json'}\n",
      "train loss in 1 epoch in 1 batch: 0.71713\n",
      "val loss in 1 epoch: 0.83345\n",
      "train loss in 1 epoch in 2 batch: 0.46495\n",
      "val loss in 1 epoch: 0.83337\n",
      "Round 678, winrate: 0.0, max_step: 359, reward: 0.0407999999999999, example: {'ranks': [{'rank': 1, 'agentID': 1}, {'rank': 2, 'agentID': 0}], 'replayFile': 'replays/94020689.json'}\n",
      "train loss in 1 epoch in 1 batch: 0.57829\n",
      "val loss in 1 epoch: 1.06115\n",
      "Round 679, winrate: 0.0, max_step: 197, reward: 0.019699999999999936, example: {'ranks': [{'rank': 1, 'agentID': 0}, {'rank': 2, 'agentID': 1}], 'replayFile': 'replays/961880277.json'}\n",
      "train loss in 1 epoch in 1 batch: 0.34824\n",
      "val loss in 1 epoch: 0.43880\n"
     ]
    },
    {
     "name": "stderr",
     "output_type": "stream",
     "text": [
      "/Library/Frameworks/Python.framework/Versions/3.7/lib/python3.7/site-packages/IPython/core/interactiveshell.py:3338: DtypeWarning: Columns (17,18,19,20,21,22) have mixed types.Specify dtype option on import or set low_memory=False.\n",
      "  if (await self.run_code(code, result,  async_=asy)):\n"
     ]
    },
    {
     "name": "stdout",
     "output_type": "stream",
     "text": [
      "Round 680, winrate: 0.0, max_step: 359, reward: 0.13990000000000044, example: {'ranks': [{'rank': 1, 'agentID': 1}, {'rank': 2, 'agentID': 0}], 'replayFile': 'replays/931354636.json'}\n",
      "train loss in 1 epoch in 1 batch: 0.36436\n",
      "val loss in 1 epoch: 0.55640\n",
      "train loss in 1 epoch in 2 batch: 0.18605\n",
      "val loss in 1 epoch: 0.53416\n",
      "Round 681, winrate: 0.0, max_step: 359, reward: 0.22590000000000002, example: {'ranks': [{'rank': 1, 'agentID': 0}, {'rank': 2, 'agentID': 1}], 'replayFile': 'replays/545762453.json'}\n",
      "train loss in 1 epoch in 1 batch: 0.43985\n",
      "val loss in 1 epoch: 1.46863\n",
      "train loss in 1 epoch in 2 batch: 1.99844\n",
      "val loss in 1 epoch: 1.46296\n",
      "Round 682, winrate: 0.0, max_step: 118, reward: 0.006600000000000004, example: {'ranks': [{'rank': 1, 'agentID': 1}, {'rank': 2, 'agentID': 0}], 'replayFile': 'replays/707725541.json'}\n",
      "train loss in 1 epoch in 1 batch: 1.30781\n",
      "val loss in 1 epoch: 2.67119\n",
      "Round 683, winrate: 0.0, max_step: 359, reward: 0.07510000000000004, example: {'ranks': [{'rank': 1, 'agentID': 0}, {'rank': 2, 'agentID': 1}], 'replayFile': 'replays/468885466.json'}\n",
      "train loss in 1 epoch in 1 batch: 0.43939\n",
      "val loss in 1 epoch: 0.51184\n",
      "Round 684, winrate: 0.0, max_step: 151, reward: 0.011199999999999988, example: {'ranks': [{'rank': 1, 'agentID': 1}, {'rank': 2, 'agentID': 0}], 'replayFile': 'replays/7641146.json'}\n",
      "train loss in 1 epoch in 1 batch: 4.80556\n",
      "val loss in 1 epoch: 3.62587\n",
      "Round 685, winrate: 0.0, max_step: 231, reward: 0.0020000000000000005, example: {'ranks': [{'rank': 1, 'agentID': 0}, {'rank': 2, 'agentID': 1}], 'replayFile': 'replays/349043665.json'}\n",
      "train loss in 1 epoch in 1 batch: 1.56700\n",
      "val loss in 1 epoch: 1.73528\n",
      "Round 686, winrate: 0.0, max_step: 234, reward: 0.020099999999999934, example: {'ranks': [{'rank': 1, 'agentID': 1}, {'rank': 2, 'agentID': 0}], 'replayFile': 'replays/313301374.json'}\n",
      "train loss in 1 epoch in 1 batch: 0.58105\n",
      "val loss in 1 epoch: 1.29615\n",
      "Round 687, winrate: 1.0, max_step: 273, reward: 3.1793999999999984, example: {'ranks': [{'rank': 1, 'agentID': 1}, {'rank': 2, 'agentID': 0}], 'replayFile': 'replays/462969300.json'}\n",
      "train loss in 1 epoch in 1 batch: 0.76298\n",
      "val loss in 1 epoch: 0.51977\n",
      "train loss in 1 epoch in 2 batch: 0.13113\n",
      "val loss in 1 epoch: 0.51409\n",
      "Round 688, winrate: 0.0, max_step: 359, reward: 0.17119999999999796, example: {'ranks': [{'rank': 1, 'agentID': 1}, {'rank': 2, 'agentID': 0}], 'replayFile': 'replays/797230513.json'}\n",
      "train loss in 1 epoch in 1 batch: 0.47841\n",
      "val loss in 1 epoch: 0.80459\n",
      "train loss in 1 epoch in 2 batch: 0.12441\n",
      "val loss in 1 epoch: 0.80179\n",
      "Round 689, winrate: 0.0, max_step: 230, reward: 0.022899999999999917, example: {'ranks': [{'rank': 1, 'agentID': 0}, {'rank': 2, 'agentID': 1}], 'replayFile': 'replays/118953464.json'}\n",
      "train loss in 1 epoch in 1 batch: 3.54617\n",
      "val loss in 1 epoch: 0.76939\n"
     ]
    },
    {
     "name": "stderr",
     "output_type": "stream",
     "text": [
      "/Library/Frameworks/Python.framework/Versions/3.7/lib/python3.7/site-packages/IPython/core/interactiveshell.py:3338: DtypeWarning: Columns (26,27,28) have mixed types.Specify dtype option on import or set low_memory=False.\n",
      "  if (await self.run_code(code, result,  async_=asy)):\n"
     ]
    },
    {
     "name": "stdout",
     "output_type": "stream",
     "text": [
      "Round 690, winrate: 0.0, max_step: 278, reward: 0.02419999999999991, example: {'ranks': [{'rank': 1, 'agentID': 1}, {'rank': 2, 'agentID': 0}], 'replayFile': 'replays/488721355.json'}\n",
      "train loss in 1 epoch in 1 batch: 4.54993\n",
      "val loss in 1 epoch: 3.94614\n",
      "Round 691, winrate: 0.0, max_step: 197, reward: 0.019699999999999936, example: {'ranks': [{'rank': 1, 'agentID': 0}, {'rank': 2, 'agentID': 1}], 'replayFile': 'replays/196881768.json'}\n",
      "train loss in 1 epoch in 1 batch: 1.57143\n",
      "val loss in 1 epoch: 0.77172\n",
      "Round 692, winrate: 0.0, max_step: 359, reward: 0.4954000000000029, example: {'ranks': [{'rank': 1, 'agentID': 1}, {'rank': 2, 'agentID': 0}], 'replayFile': 'replays/169123872.json'}\n",
      "train loss in 1 epoch in 1 batch: 0.44819\n",
      "val loss in 1 epoch: 1.44564\n",
      "train loss in 1 epoch in 2 batch: 0.12854\n",
      "val loss in 1 epoch: 1.46018\n"
     ]
    },
    {
     "name": "stderr",
     "output_type": "stream",
     "text": [
      "/Library/Frameworks/Python.framework/Versions/3.7/lib/python3.7/site-packages/IPython/core/interactiveshell.py:3338: DtypeWarning: Columns (26,27,28) have mixed types.Specify dtype option on import or set low_memory=False.\n",
      "  if (await self.run_code(code, result,  async_=asy)):\n"
     ]
    },
    {
     "name": "stdout",
     "output_type": "stream",
     "text": [
      "Round 693, winrate: 0.0, max_step: 310, reward: 0.106700000000001, example: {'ranks': [{'rank': 1, 'agentID': 0}, {'rank': 2, 'agentID': 1}], 'replayFile': 'replays/487748850.json'}\n",
      "train loss in 1 epoch in 1 batch: 1.71332\n",
      "val loss in 1 epoch: 1.60401\n",
      "Round 694, winrate: 0.0, max_step: 197, reward: 0.019699999999999936, example: {'ranks': [{'rank': 1, 'agentID': 1}, {'rank': 2, 'agentID': 0}], 'replayFile': 'replays/689595245.json'}\n",
      "train loss in 1 epoch in 1 batch: 1.69118\n",
      "val loss in 1 epoch: 1.71821\n"
     ]
    },
    {
     "name": "stderr",
     "output_type": "stream",
     "text": [
      "/Library/Frameworks/Python.framework/Versions/3.7/lib/python3.7/site-packages/IPython/core/interactiveshell.py:3338: DtypeWarning: Columns (17,18,19,20,21,22) have mixed types.Specify dtype option on import or set low_memory=False.\n",
      "  if (await self.run_code(code, result,  async_=asy)):\n"
     ]
    },
    {
     "name": "stdout",
     "output_type": "stream",
     "text": [
      "Round 695, winrate: 0.0, max_step: 197, reward: 0.019699999999999936, example: {'ranks': [{'rank': 1, 'agentID': 0}, {'rank': 2, 'agentID': 1}], 'replayFile': 'replays/986146962.json'}\n",
      "train loss in 1 epoch in 1 batch: 0.34026\n",
      "val loss in 1 epoch: 0.51017\n",
      "Round 696, winrate: 0.0, max_step: 359, reward: 0.3134000000000049, example: {'ranks': [{'rank': 1, 'agentID': 1}, {'rank': 2, 'agentID': 0}], 'replayFile': 'replays/176004031.json'}\n",
      "train loss in 1 epoch in 1 batch: 1.12640\n",
      "val loss in 1 epoch: 0.67776\n",
      "train loss in 1 epoch in 2 batch: 0.53671\n",
      "val loss in 1 epoch: 0.71088\n",
      "Round 697, winrate: 0.0, max_step: 359, reward: 0.016699999999999954, example: {'ranks': [{'rank': 1, 'agentID': 0}, {'rank': 2, 'agentID': 1}], 'replayFile': 'replays/850219426.json'}\n",
      "train loss in 1 epoch in 1 batch: 0.42748\n",
      "val loss in 1 epoch: 2.16275\n"
     ]
    },
    {
     "name": "stderr",
     "output_type": "stream",
     "text": [
      "/Library/Frameworks/Python.framework/Versions/3.7/lib/python3.7/site-packages/IPython/core/interactiveshell.py:3338: DtypeWarning: Columns (26,27,28) have mixed types.Specify dtype option on import or set low_memory=False.\n",
      "  if (await self.run_code(code, result,  async_=asy)):\n"
     ]
    },
    {
     "name": "stdout",
     "output_type": "stream",
     "text": [
      "Round 698, winrate: 0.0, max_step: 236, reward: 0.021299999999999927, example: {'ranks': [{'rank': 1, 'agentID': 1}, {'rank': 2, 'agentID': 0}], 'replayFile': 'replays/360827050.json'}\n",
      "train loss in 1 epoch in 1 batch: 1.84382\n",
      "val loss in 1 epoch: 1.65595\n",
      "Round 699, winrate: 0.0, max_step: 359, reward: 0.030999999999999868, example: {'ranks': [{'rank': 1, 'agentID': 0}, {'rank': 2, 'agentID': 1}], 'replayFile': 'replays/354538713.json'}\n",
      "train loss in 1 epoch in 1 batch: 5.31797\n",
      "val loss in 1 epoch: 4.06026\n"
     ]
    },
    {
     "name": "stderr",
     "output_type": "stream",
     "text": [
      "/Library/Frameworks/Python.framework/Versions/3.7/lib/python3.7/site-packages/IPython/core/interactiveshell.py:3338: DtypeWarning: Columns (9,10,11,12,13,14) have mixed types.Specify dtype option on import or set low_memory=False.\n",
      "  if (await self.run_code(code, result,  async_=asy)):\n"
     ]
    },
    {
     "name": "stdout",
     "output_type": "stream",
     "text": [
      "Round 700, winrate: 0.0, max_step: 355, reward: 0.06049999999999973, example: {'ranks': [{'rank': 1, 'agentID': 1}, {'rank': 2, 'agentID': 0}], 'replayFile': 'replays/672361527.json'}\n",
      "train loss in 1 epoch in 1 batch: 1.21396\n",
      "val loss in 1 epoch: 0.86640\n",
      "Round 701, winrate: 0.0, max_step: 275, reward: 0.0024, example: {'ranks': [{'rank': 1, 'agentID': 0}, {'rank': 2, 'agentID': 1}], 'replayFile': 'replays/516015590.json'}\n",
      "train loss in 1 epoch in 1 batch: 1.56808\n",
      "val loss in 1 epoch: 1.59552\n"
     ]
    },
    {
     "name": "stderr",
     "output_type": "stream",
     "text": [
      "/Library/Frameworks/Python.framework/Versions/3.7/lib/python3.7/site-packages/IPython/core/interactiveshell.py:3338: DtypeWarning: Columns (26,27,28) have mixed types.Specify dtype option on import or set low_memory=False.\n",
      "  if (await self.run_code(code, result,  async_=asy)):\n"
     ]
    },
    {
     "name": "stdout",
     "output_type": "stream",
     "text": [
      "Round 702, winrate: 0.0, max_step: 310, reward: 0.07890000000000015, example: {'ranks': [{'rank': 1, 'agentID': 1}, {'rank': 2, 'agentID': 0}], 'replayFile': 'replays/664752119.json'}\n",
      "train loss in 1 epoch in 1 batch: 1.69036\n",
      "val loss in 1 epoch: 0.72470\n",
      "Round 703, winrate: 0.0, max_step: 235, reward: 0.023399999999999914, example: {'ranks': [{'rank': 1, 'agentID': 0}, {'rank': 2, 'agentID': 1}], 'replayFile': 'replays/802115870.json'}\n",
      "train loss in 1 epoch in 1 batch: 0.26875\n",
      "val loss in 1 epoch: 1.41884\n"
     ]
    },
    {
     "name": "stderr",
     "output_type": "stream",
     "text": [
      "/Library/Frameworks/Python.framework/Versions/3.7/lib/python3.7/site-packages/IPython/core/interactiveshell.py:3338: DtypeWarning: Columns (9,10,11,12,13,14) have mixed types.Specify dtype option on import or set low_memory=False.\n",
      "  if (await self.run_code(code, result,  async_=asy)):\n"
     ]
    },
    {
     "name": "stdout",
     "output_type": "stream",
     "text": [
      "Round 704, winrate: 0.0, max_step: 231, reward: 0.006900000000000005, example: {'ranks': [{'rank': 1, 'agentID': 1}, {'rank': 2, 'agentID': 0}], 'replayFile': 'replays/120869359.json'}\n",
      "train loss in 1 epoch in 1 batch: 1.53473\n",
      "val loss in 1 epoch: 1.49826\n",
      "Round 705, winrate: 0.0, max_step: 190, reward: 0.017799999999999948, example: {'ranks': [{'rank': 1, 'agentID': 0}, {'rank': 2, 'agentID': 1}], 'replayFile': 'replays/529534609.json'}\n",
      "train loss in 1 epoch in 1 batch: 0.31659\n",
      "val loss in 1 epoch: 0.57248\n",
      "Round 706, winrate: 0.0, max_step: 349, reward: 0.024599999999999907, example: {'ranks': [{'rank': 1, 'agentID': 1}, {'rank': 2, 'agentID': 0}], 'replayFile': 'replays/942526334.json'}\n",
      "train loss in 1 epoch in 1 batch: 4.68442\n",
      "val loss in 1 epoch: 4.08828\n",
      "Round 707, winrate: 0.0, max_step: 229, reward: 0.015399999999999962, example: {'ranks': [{'rank': 1, 'agentID': 0}, {'rank': 2, 'agentID': 1}], 'replayFile': 'replays/911401819.json'}\n",
      "train loss in 1 epoch in 1 batch: 4.51181\n",
      "val loss in 1 epoch: 3.61235\n"
     ]
    },
    {
     "name": "stderr",
     "output_type": "stream",
     "text": [
      "/Library/Frameworks/Python.framework/Versions/3.7/lib/python3.7/site-packages/IPython/core/interactiveshell.py:3338: DtypeWarning: Columns (26,27,28) have mixed types.Specify dtype option on import or set low_memory=False.\n",
      "  if (await self.run_code(code, result,  async_=asy)):\n"
     ]
    },
    {
     "name": "stdout",
     "output_type": "stream",
     "text": [
      "Round 708, winrate: 0.0, max_step: 358, reward: 0.02079999999999993, example: {'ranks': [{'rank': 1, 'agentID': 1}, {'rank': 2, 'agentID': 0}], 'replayFile': 'replays/65071272.json'}\n",
      "train loss in 1 epoch in 1 batch: 1.62313\n",
      "val loss in 1 epoch: 1.39395\n",
      "Round 709, winrate: 0.0, max_step: 359, reward: 0.0359, example: {'ranks': [{'rank': 1, 'agentID': 0}, {'rank': 2, 'agentID': 1}], 'replayFile': 'replays/981560335.json'}\n",
      "train loss in 1 epoch in 1 batch: 3.37040\n",
      "val loss in 1 epoch: 2.63655\n",
      "Round 710, winrate: 0.0, max_step: 314, reward: 0.09230000000000059, example: {'ranks': [{'rank': 1, 'agentID': 1}, {'rank': 2, 'agentID': 0}], 'replayFile': 'replays/443508454.json'}\n",
      "train loss in 1 epoch in 1 batch: 1.85457\n",
      "val loss in 1 epoch: 2.03606\n",
      "Round 711, winrate: 0.0, max_step: 359, reward: 0.10030000000000082, example: {'ranks': [{'rank': 1, 'agentID': 0}, {'rank': 2, 'agentID': 1}], 'replayFile': 'replays/246344090.json'}\n",
      "train loss in 1 epoch in 1 batch: 1.76092\n",
      "val loss in 1 epoch: 1.91771\n",
      "Round 712, winrate: 0.0, max_step: 70, reward: 0.0037999999999999974, example: {'ranks': [{'rank': 1, 'agentID': 1}, {'rank': 2, 'agentID': 0}], 'replayFile': 'replays/724549677.json'}\n",
      "train loss in 1 epoch in 1 batch: 0.30519\n",
      "val loss in 1 epoch: 7.69871\n"
     ]
    },
    {
     "name": "stderr",
     "output_type": "stream",
     "text": [
      "/Library/Frameworks/Python.framework/Versions/3.7/lib/python3.7/site-packages/IPython/core/interactiveshell.py:3338: DtypeWarning: Columns (9,10,11,12,13,14) have mixed types.Specify dtype option on import or set low_memory=False.\n",
      "  if (await self.run_code(code, result,  async_=asy)):\n"
     ]
    },
    {
     "name": "stdout",
     "output_type": "stream",
     "text": [
      "Round 713, winrate: 0.0, max_step: 234, reward: 0.018599999999999943, example: {'ranks': [{'rank': 1, 'agentID': 0}, {'rank': 2, 'agentID': 1}], 'replayFile': 'replays/992760525.json'}\n",
      "train loss in 1 epoch in 1 batch: 3.79576\n",
      "val loss in 1 epoch: 3.68602\n"
     ]
    },
    {
     "name": "stderr",
     "output_type": "stream",
     "text": [
      "/Library/Frameworks/Python.framework/Versions/3.7/lib/python3.7/site-packages/IPython/core/interactiveshell.py:3338: DtypeWarning: Columns (26,27,28) have mixed types.Specify dtype option on import or set low_memory=False.\n",
      "  if (await self.run_code(code, result,  async_=asy)):\n"
     ]
    },
    {
     "name": "stdout",
     "output_type": "stream",
     "text": [
      "Round 714, winrate: 0.0, max_step: 310, reward: 0.02719999999999989, example: {'ranks': [{'rank': 1, 'agentID': 1}, {'rank': 2, 'agentID': 0}], 'replayFile': 'replays/73290591.json'}\n",
      "train loss in 1 epoch in 1 batch: 3.19150\n",
      "val loss in 1 epoch: 2.33744\n",
      "Round 715, winrate: 0.0, max_step: 72, reward: 0.0039999999999999975, example: {'ranks': [{'rank': 1, 'agentID': 0}, {'rank': 2, 'agentID': 1}], 'replayFile': 'replays/618679734.json'}\n",
      "train loss in 1 epoch in 1 batch: 0.31440\n",
      "val loss in 1 epoch: 0.96807\n",
      "Round 716, winrate: 0.0, max_step: 313, reward: 0.02899999999999988, example: {'ranks': [{'rank': 1, 'agentID': 1}, {'rank': 2, 'agentID': 0}], 'replayFile': 'replays/409857046.json'}\n",
      "train loss in 1 epoch in 1 batch: 0.44759\n",
      "val loss in 1 epoch: 0.87839\n",
      "Round 717, winrate: 0.0, max_step: 195, reward: 0.0029999999999999988, example: {'ranks': [{'rank': 1, 'agentID': 0}, {'rank': 2, 'agentID': 1}], 'replayFile': 'replays/652079235.json'}\n",
      "train loss in 1 epoch in 1 batch: 1.61514\n",
      "val loss in 1 epoch: 1.80313\n",
      "Round 718, winrate: 0.0, max_step: 193, reward: 0.03760000000000004, example: {'ranks': [{'rank': 1, 'agentID': 1}, {'rank': 2, 'agentID': 0}], 'replayFile': 'replays/598696002.json'}\n",
      "train loss in 1 epoch in 1 batch: 1.65660\n",
      "val loss in 1 epoch: 0.79078\n",
      "Round 719, winrate: 0.0, max_step: 230, reward: 0.022899999999999917, example: {'ranks': [{'rank': 1, 'agentID': 0}, {'rank': 2, 'agentID': 1}], 'replayFile': 'replays/796257717.json'}\n",
      "train loss in 1 epoch in 1 batch: 1.39838\n",
      "val loss in 1 epoch: 0.86110\n"
     ]
    },
    {
     "name": "stderr",
     "output_type": "stream",
     "text": [
      "/Library/Frameworks/Python.framework/Versions/3.7/lib/python3.7/site-packages/IPython/core/interactiveshell.py:3338: DtypeWarning: Columns (26,27,28) have mixed types.Specify dtype option on import or set low_memory=False.\n",
      "  if (await self.run_code(code, result,  async_=asy)):\n"
     ]
    },
    {
     "name": "stdout",
     "output_type": "stream",
     "text": [
      "Round 720, winrate: 0.0, max_step: 359, reward: 0.0359, example: {'ranks': [{'rank': 1, 'agentID': 1}, {'rank': 2, 'agentID': 0}], 'replayFile': 'replays/462875311.json'}\n",
      "train loss in 1 epoch in 1 batch: 1.28793\n",
      "val loss in 1 epoch: 1.15631\n",
      "Round 721, winrate: 1.0, max_step: 230, reward: 1.0078, example: {'ranks': [{'rank': 1, 'agentID': 1}, {'rank': 2, 'agentID': 0}], 'replayFile': 'replays/314345657.json'}\n",
      "train loss in 1 epoch in 1 batch: 2.89524\n",
      "val loss in 1 epoch: 3.13194\n",
      "Round 722, winrate: 0.0, max_step: 230, reward: 0.0016000000000000005, example: {'ranks': [{'rank': 1, 'agentID': 1}, {'rank': 2, 'agentID': 0}], 'replayFile': 'replays/581656168.json'}\n",
      "train loss in 1 epoch in 1 batch: 1.33107\n",
      "val loss in 1 epoch: 1.21935\n"
     ]
    },
    {
     "name": "stderr",
     "output_type": "stream",
     "text": [
      "/Library/Frameworks/Python.framework/Versions/3.7/lib/python3.7/site-packages/IPython/core/interactiveshell.py:3338: DtypeWarning: Columns (9,10,11,12,13,14) have mixed types.Specify dtype option on import or set low_memory=False.\n",
      "  if (await self.run_code(code, result,  async_=asy)):\n"
     ]
    },
    {
     "name": "stdout",
     "output_type": "stream",
     "text": [
      "Round 723, winrate: 0.0, max_step: 279, reward: 0.010199999999999994, example: {'ranks': [{'rank': 1, 'agentID': 0}, {'rank': 2, 'agentID': 1}], 'replayFile': 'replays/957321711.json'}\n",
      "train loss in 1 epoch in 1 batch: 3.28185\n",
      "val loss in 1 epoch: 3.85702\n"
     ]
    },
    {
     "name": "stderr",
     "output_type": "stream",
     "text": [
      "/Library/Frameworks/Python.framework/Versions/3.7/lib/python3.7/site-packages/IPython/core/interactiveshell.py:3338: DtypeWarning: Columns (26,27,28) have mixed types.Specify dtype option on import or set low_memory=False.\n",
      "  if (await self.run_code(code, result,  async_=asy)):\n"
     ]
    },
    {
     "name": "stdout",
     "output_type": "stream",
     "text": [
      "Round 724, winrate: 0.0, max_step: 359, reward: 0.028499999999999883, example: {'ranks': [{'rank': 1, 'agentID': 1}, {'rank': 2, 'agentID': 0}], 'replayFile': 'replays/589087750.json'}\n",
      "train loss in 1 epoch in 1 batch: 1.36704\n",
      "val loss in 1 epoch: 1.29317\n"
     ]
    },
    {
     "name": "stderr",
     "output_type": "stream",
     "text": [
      "/Library/Frameworks/Python.framework/Versions/3.7/lib/python3.7/site-packages/IPython/core/interactiveshell.py:3338: DtypeWarning: Columns (17,18,19,20,21,22) have mixed types.Specify dtype option on import or set low_memory=False.\n",
      "  if (await self.run_code(code, result,  async_=asy)):\n"
     ]
    },
    {
     "name": "stdout",
     "output_type": "stream",
     "text": [
      "Round 725, winrate: 0.0, max_step: 356, reward: 0.11430000000000119, example: {'ranks': [{'rank': 1, 'agentID': 0}, {'rank': 2, 'agentID': 1}], 'replayFile': 'replays/90727939.json'}\n",
      "train loss in 1 epoch in 1 batch: 1.36693\n",
      "val loss in 1 epoch: 0.73967\n",
      "Round 726, winrate: 0.0, max_step: 190, reward: 0.0038999999999999972, example: {'ranks': [{'rank': 1, 'agentID': 1}, {'rank': 2, 'agentID': 0}], 'replayFile': 'replays/133491610.json'}\n",
      "train loss in 1 epoch in 1 batch: 3.87306\n",
      "val loss in 1 epoch: 2.90558\n"
     ]
    },
    {
     "name": "stderr",
     "output_type": "stream",
     "text": [
      "/Library/Frameworks/Python.framework/Versions/3.7/lib/python3.7/site-packages/IPython/core/interactiveshell.py:3338: DtypeWarning: Columns (26,27,28) have mixed types.Specify dtype option on import or set low_memory=False.\n",
      "  if (await self.run_code(code, result,  async_=asy)):\n"
     ]
    },
    {
     "name": "stdout",
     "output_type": "stream",
     "text": [
      "Round 727, winrate: 0.0, max_step: 358, reward: 0.03279999999999991, example: {'ranks': [{'rank': 1, 'agentID': 0}, {'rank': 2, 'agentID': 1}], 'replayFile': 'replays/158280314.json'}\n",
      "train loss in 1 epoch in 1 batch: 1.19225\n",
      "val loss in 1 epoch: 1.30065\n",
      "Round 728, winrate: 0.0, max_step: 118, reward: 0.011799999999999984, example: {'ranks': [{'rank': 1, 'agentID': 1}, {'rank': 2, 'agentID': 0}], 'replayFile': 'replays/53761797.json'}\n",
      "train loss in 1 epoch in 1 batch: 0.43029\n",
      "val loss in 1 epoch: 0.19924\n",
      "Round 729, winrate: 0.0, max_step: 357, reward: 0.10130000000000078, example: {'ranks': [{'rank': 1, 'agentID': 0}, {'rank': 2, 'agentID': 1}], 'replayFile': 'replays/145775741.json'}\n",
      "train loss in 1 epoch in 1 batch: 1.19994\n",
      "val loss in 1 epoch: 0.63907\n",
      "Round 730, winrate: 0.0, max_step: 359, reward: 0.0359, example: {'ranks': [{'rank': 1, 'agentID': 1}, {'rank': 2, 'agentID': 0}], 'replayFile': 'replays/229777668.json'}\n",
      "train loss in 1 epoch in 1 batch: 1.39368\n",
      "val loss in 1 epoch: 1.24430\n",
      "Round 731, winrate: 0.0, max_step: 30, reward: 0.0029999999999999988, example: {'ranks': [{'rank': 1, 'agentID': 0}, {'rank': 2, 'agentID': 1}], 'replayFile': 'replays/722839129.json'}\n",
      "train loss in 1 epoch in 1 batch: 0.18447\n",
      "val loss in 1 epoch: 0.29154\n",
      "Round 732, winrate: 0.0, max_step: 359, reward: 0.03369999999999994, example: {'ranks': [{'rank': 1, 'agentID': 1}, {'rank': 2, 'agentID': 0}], 'replayFile': 'replays/704095228.json'}\n",
      "train loss in 1 epoch in 1 batch: 2.70782\n",
      "val loss in 1 epoch: 2.12272\n"
     ]
    },
    {
     "name": "stderr",
     "output_type": "stream",
     "text": [
      "/Library/Frameworks/Python.framework/Versions/3.7/lib/python3.7/site-packages/IPython/core/interactiveshell.py:3338: DtypeWarning: Columns (9,10,11,12,13,14) have mixed types.Specify dtype option on import or set low_memory=False.\n",
      "  if (await self.run_code(code, result,  async_=asy)):\n"
     ]
    },
    {
     "name": "stdout",
     "output_type": "stream",
     "text": [
      "Round 733, winrate: 0.0, max_step: 199, reward: 0.01889999999999994, example: {'ranks': [{'rank': 1, 'agentID': 0}, {'rank': 2, 'agentID': 1}], 'replayFile': 'replays/222426237.json'}\n",
      "train loss in 1 epoch in 1 batch: 0.33771\n",
      "val loss in 1 epoch: 1.56016\n",
      "Round 734, winrate: 1.0, max_step: 350, reward: 1.0325, example: {'ranks': [{'rank': 1, 'agentID': 0}, {'rank': 2, 'agentID': 1}], 'replayFile': 'replays/173883837.json'}\n",
      "train loss in 1 epoch in 1 batch: 0.33024\n",
      "val loss in 1 epoch: 1.29346\n",
      "Round 735, winrate: 0.0, max_step: 150, reward: 0.006100000000000003, example: {'ranks': [{'rank': 1, 'agentID': 0}, {'rank': 2, 'agentID': 1}], 'replayFile': 'replays/763541140.json'}\n",
      "train loss in 1 epoch in 1 batch: 1.32711\n",
      "val loss in 1 epoch: 1.07012\n",
      "Round 736, winrate: 0.0, max_step: 359, reward: 0.02729999999999989, example: {'ranks': [{'rank': 1, 'agentID': 1}, {'rank': 2, 'agentID': 0}], 'replayFile': 'replays/682208113.json'}\n",
      "train loss in 1 epoch in 1 batch: 2.61783\n",
      "val loss in 1 epoch: 2.87746\n"
     ]
    },
    {
     "name": "stderr",
     "output_type": "stream",
     "text": [
      "/Library/Frameworks/Python.framework/Versions/3.7/lib/python3.7/site-packages/IPython/core/interactiveshell.py:3338: DtypeWarning: Columns (26,27,28) have mixed types.Specify dtype option on import or set low_memory=False.\n",
      "  if (await self.run_code(code, result,  async_=asy)):\n"
     ]
    },
    {
     "name": "stdout",
     "output_type": "stream",
     "text": [
      "Round 737, winrate: 0.0, max_step: 359, reward: 0.0359, example: {'ranks': [{'rank': 1, 'agentID': 0}, {'rank': 2, 'agentID': 1}], 'replayFile': 'replays/387509833.json'}\n",
      "train loss in 1 epoch in 1 batch: 1.13843\n",
      "val loss in 1 epoch: 1.11137\n",
      "Round 738, winrate: 0.0, max_step: 152, reward: 0.024599999999999945, example: {'ranks': [{'rank': 1, 'agentID': 1}, {'rank': 2, 'agentID': 0}], 'replayFile': 'replays/402768199.json'}\n",
      "train loss in 1 epoch in 1 batch: 5.16954\n",
      "val loss in 1 epoch: 1.63510\n"
     ]
    },
    {
     "name": "stderr",
     "output_type": "stream",
     "text": [
      "/Library/Frameworks/Python.framework/Versions/3.7/lib/python3.7/site-packages/IPython/core/interactiveshell.py:3338: DtypeWarning: Columns (9,10,11,12,13,14) have mixed types.Specify dtype option on import or set low_memory=False.\n",
      "  if (await self.run_code(code, result,  async_=asy)):\n"
     ]
    },
    {
     "name": "stdout",
     "output_type": "stream",
     "text": [
      "Round 739, winrate: 0.0, max_step: 275, reward: 0.015499999999999962, example: {'ranks': [{'rank': 1, 'agentID': 0}, {'rank': 2, 'agentID': 1}], 'replayFile': 'replays/578111633.json'}\n",
      "train loss in 1 epoch in 1 batch: 1.12504\n",
      "val loss in 1 epoch: 1.07063\n",
      "Round 740, winrate: 1.0, max_step: 359, reward: 2.105900000000001, example: {'ranks': [{'rank': 1, 'agentID': 0}, {'rank': 2, 'agentID': 1}], 'replayFile': 'replays/349025981.json'}\n",
      "train loss in 1 epoch in 1 batch: 0.22966\n",
      "val loss in 1 epoch: 0.44510\n",
      "Round 741, winrate: 0.0, max_step: 230, reward: 0.020099999999999934, example: {'ranks': [{'rank': 1, 'agentID': 0}, {'rank': 2, 'agentID': 1}], 'replayFile': 'replays/392411912.json'}\n",
      "train loss in 1 epoch in 1 batch: 1.17379\n",
      "val loss in 1 epoch: 0.98438\n",
      "Round 742, winrate: 0.0, max_step: 195, reward: 0.010399999999999993, example: {'ranks': [{'rank': 1, 'agentID': 1}, {'rank': 2, 'agentID': 0}], 'replayFile': 'replays/5509850.json'}\n",
      "train loss in 1 epoch in 1 batch: 1.15338\n",
      "val loss in 1 epoch: 0.88961\n"
     ]
    },
    {
     "name": "stderr",
     "output_type": "stream",
     "text": [
      "/Library/Frameworks/Python.framework/Versions/3.7/lib/python3.7/site-packages/IPython/core/interactiveshell.py:3338: DtypeWarning: Columns (26,27,28) have mixed types.Specify dtype option on import or set low_memory=False.\n",
      "  if (await self.run_code(code, result,  async_=asy)):\n"
     ]
    },
    {
     "name": "stdout",
     "output_type": "stream",
     "text": [
      "Round 743, winrate: 0.0, max_step: 359, reward: 0.022899999999999917, example: {'ranks': [{'rank': 1, 'agentID': 0}, {'rank': 2, 'agentID': 1}], 'replayFile': 'replays/354079510.json'}\n",
      "train loss in 1 epoch in 1 batch: 0.89699\n",
      "val loss in 1 epoch: 0.95896\n"
     ]
    },
    {
     "name": "stderr",
     "output_type": "stream",
     "text": [
      "/Library/Frameworks/Python.framework/Versions/3.7/lib/python3.7/site-packages/IPython/core/interactiveshell.py:3338: DtypeWarning: Columns (9,10,11,12,13,14,26,27,28) have mixed types.Specify dtype option on import or set low_memory=False.\n",
      "  if (await self.run_code(code, result,  async_=asy)):\n"
     ]
    },
    {
     "name": "stdout",
     "output_type": "stream",
     "text": [
      "Round 744, winrate: 0.0, max_step: 351, reward: 0.0924999999999994, example: {'ranks': [{'rank': 1, 'agentID': 1}, {'rank': 2, 'agentID': 0}], 'replayFile': 'replays/106288533.json'}\n",
      "train loss in 1 epoch in 1 batch: 0.91553\n",
      "val loss in 1 epoch: 0.87748\n"
     ]
    },
    {
     "name": "stderr",
     "output_type": "stream",
     "text": [
      "/Library/Frameworks/Python.framework/Versions/3.7/lib/python3.7/site-packages/IPython/core/interactiveshell.py:3338: DtypeWarning: Columns (26,27,28) have mixed types.Specify dtype option on import or set low_memory=False.\n",
      "  if (await self.run_code(code, result,  async_=asy)):\n"
     ]
    },
    {
     "name": "stdout",
     "output_type": "stream",
     "text": [
      "Round 745, winrate: 0.0, max_step: 359, reward: 0.03349999999999993, example: {'ranks': [{'rank': 1, 'agentID': 0}, {'rank': 2, 'agentID': 1}], 'replayFile': 'replays/880554519.json'}\n",
      "train loss in 1 epoch in 1 batch: 1.20815\n",
      "val loss in 1 epoch: 1.25934\n",
      "Round 746, winrate: 0.0, max_step: 359, reward: 0.1430000000000001, example: {'ranks': [{'rank': 1, 'agentID': 1}, {'rank': 2, 'agentID': 0}], 'replayFile': 'replays/368824940.json'}\n",
      "train loss in 1 epoch in 1 batch: 1.21703\n",
      "val loss in 1 epoch: 1.25607\n",
      "train loss in 1 epoch in 2 batch: 1.18272\n",
      "val loss in 1 epoch: 1.28523\n"
     ]
    },
    {
     "name": "stderr",
     "output_type": "stream",
     "text": [
      "/Library/Frameworks/Python.framework/Versions/3.7/lib/python3.7/site-packages/IPython/core/interactiveshell.py:3338: DtypeWarning: Columns (26,27,28) have mixed types.Specify dtype option on import or set low_memory=False.\n",
      "  if (await self.run_code(code, result,  async_=asy)):\n"
     ]
    },
    {
     "name": "stdout",
     "output_type": "stream",
     "text": [
      "Round 747, winrate: 0.0, max_step: 195, reward: 0.10420000000000122, example: {'ranks': [{'rank': 1, 'agentID': 0}, {'rank': 2, 'agentID': 1}], 'replayFile': 'replays/758801756.json'}\n",
      "train loss in 1 epoch in 1 batch: 0.71771\n",
      "val loss in 1 epoch: 0.66284\n"
     ]
    },
    {
     "name": "stderr",
     "output_type": "stream",
     "text": [
      "/Library/Frameworks/Python.framework/Versions/3.7/lib/python3.7/site-packages/IPython/core/interactiveshell.py:3338: DtypeWarning: Columns (26,27,28) have mixed types.Specify dtype option on import or set low_memory=False.\n",
      "  if (await self.run_code(code, result,  async_=asy)):\n"
     ]
    },
    {
     "name": "stdout",
     "output_type": "stream",
     "text": [
      "Round 748, winrate: 0.0, max_step: 197, reward: 0.019699999999999936, example: {'ranks': [{'rank': 1, 'agentID': 1}, {'rank': 2, 'agentID': 0}], 'replayFile': 'replays/733986913.json'}\n",
      "train loss in 1 epoch in 1 batch: 1.45105\n",
      "val loss in 1 epoch: 1.02646\n",
      "Round 749, winrate: 0.0, max_step: 275, reward: 0.026399999999999896, example: {'ranks': [{'rank': 1, 'agentID': 0}, {'rank': 2, 'agentID': 1}], 'replayFile': 'replays/89113747.json'}\n",
      "train loss in 1 epoch in 1 batch: 2.56732\n",
      "val loss in 1 epoch: 0.91118\n",
      "Round 750, winrate: 0.0, max_step: 311, reward: 0.031099999999999867, example: {'ranks': [{'rank': 1, 'agentID': 1}, {'rank': 2, 'agentID': 0}], 'replayFile': 'replays/895147972.json'}\n",
      "train loss in 1 epoch in 1 batch: 1.32675\n",
      "val loss in 1 epoch: 1.17740\n",
      "Round 751, winrate: 0.0, max_step: 190, reward: 0.11449999999999923, example: {'ranks': [{'rank': 1, 'agentID': 0}, {'rank': 2, 'agentID': 1}], 'replayFile': 'replays/378246717.json'}\n",
      "train loss in 1 epoch in 1 batch: 0.23387\n",
      "val loss in 1 epoch: 1.34173\n",
      "Round 752, winrate: 0.0, max_step: 350, reward: 0.03139999999999987, example: {'ranks': [{'rank': 1, 'agentID': 1}, {'rank': 2, 'agentID': 0}], 'replayFile': 'replays/82234847.json'}\n",
      "train loss in 1 epoch in 1 batch: 2.14174\n",
      "val loss in 1 epoch: 1.09554\n",
      "Round 753, winrate: 0.0, max_step: 197, reward: 0.019699999999999936, example: {'ranks': [{'rank': 1, 'agentID': 0}, {'rank': 2, 'agentID': 1}], 'replayFile': 'replays/180570060.json'}\n",
      "train loss in 1 epoch in 1 batch: 0.28058\n",
      "val loss in 1 epoch: 0.30362\n"
     ]
    },
    {
     "name": "stderr",
     "output_type": "stream",
     "text": [
      "/Library/Frameworks/Python.framework/Versions/3.7/lib/python3.7/site-packages/IPython/core/interactiveshell.py:3338: DtypeWarning: Columns (17,18,19,20,21,22) have mixed types.Specify dtype option on import or set low_memory=False.\n",
      "  if (await self.run_code(code, result,  async_=asy)):\n"
     ]
    },
    {
     "name": "stdout",
     "output_type": "stream",
     "text": [
      "Round 754, winrate: 0.0, max_step: 319, reward: 0.1535999999999985, example: {'ranks': [{'rank': 1, 'agentID': 1}, {'rank': 2, 'agentID': 0}], 'replayFile': 'replays/776396101.json'}\n",
      "train loss in 1 epoch in 1 batch: 0.54584\n",
      "val loss in 1 epoch: 0.99642\n",
      "Round 755, winrate: 0.0, max_step: 236, reward: 0.04999999999999977, example: {'ranks': [{'rank': 1, 'agentID': 0}, {'rank': 2, 'agentID': 1}], 'replayFile': 'replays/562464916.json'}\n",
      "train loss in 1 epoch in 1 batch: 3.94821\n",
      "val loss in 1 epoch: 0.71537\n",
      "Round 756, winrate: 0.0, max_step: 156, reward: 0.0067000000000000046, example: {'ranks': [{'rank': 1, 'agentID': 1}, {'rank': 2, 'agentID': 0}], 'replayFile': 'replays/284102340.json'}\n",
      "train loss in 1 epoch in 1 batch: 1.67645\n",
      "val loss in 1 epoch: 1.16676\n",
      "Round 757, winrate: 0.0, max_step: 279, reward: 0.1801999999999981, example: {'ranks': [{'rank': 1, 'agentID': 0}, {'rank': 2, 'agentID': 1}], 'replayFile': 'replays/846844194.json'}\n",
      "train loss in 1 epoch in 1 batch: 0.82343\n",
      "val loss in 1 epoch: 0.63411\n",
      "train loss in 1 epoch in 2 batch: 0.12064\n",
      "val loss in 1 epoch: 0.63913\n"
     ]
    },
    {
     "name": "stderr",
     "output_type": "stream",
     "text": [
      "/Library/Frameworks/Python.framework/Versions/3.7/lib/python3.7/site-packages/IPython/core/interactiveshell.py:3338: DtypeWarning: Columns (17,18,19,20,21,22) have mixed types.Specify dtype option on import or set low_memory=False.\n",
      "  if (await self.run_code(code, result,  async_=asy)):\n"
     ]
    },
    {
     "name": "stdout",
     "output_type": "stream",
     "text": [
      "Round 758, winrate: 1.0, max_step: 235, reward: 1.0158, example: {'ranks': [{'rank': 1, 'agentID': 0}, {'rank': 2, 'agentID': 1}], 'replayFile': 'replays/246994933.json'}\n",
      "train loss in 1 epoch in 1 batch: 6.05356\n",
      "val loss in 1 epoch: 4.72333\n",
      "Round 759, winrate: 0.0, max_step: 231, reward: 0.01909999999999994, example: {'ranks': [{'rank': 1, 'agentID': 0}, {'rank': 2, 'agentID': 1}], 'replayFile': 'replays/896287880.json'}\n",
      "train loss in 1 epoch in 1 batch: 5.13003\n",
      "val loss in 1 epoch: 3.95313\n",
      "Round 760, winrate: 0.0, max_step: 190, reward: 0.015599999999999961, example: {'ranks': [{'rank': 1, 'agentID': 1}, {'rank': 2, 'agentID': 0}], 'replayFile': 'replays/535122361.json'}\n",
      "train loss in 1 epoch in 1 batch: 1.27322\n",
      "val loss in 1 epoch: 1.28135\n"
     ]
    },
    {
     "name": "stderr",
     "output_type": "stream",
     "text": [
      "/Library/Frameworks/Python.framework/Versions/3.7/lib/python3.7/site-packages/IPython/core/interactiveshell.py:3338: DtypeWarning: Columns (17,18,19,20,21,22) have mixed types.Specify dtype option on import or set low_memory=False.\n",
      "  if (await self.run_code(code, result,  async_=asy)):\n"
     ]
    },
    {
     "name": "stdout",
     "output_type": "stream",
     "text": [
      "Round 761, winrate: 0.0, max_step: 359, reward: 0.1171000000000013, example: {'ranks': [{'rank': 1, 'agentID': 0}, {'rank': 2, 'agentID': 1}], 'replayFile': 'replays/58619677.json'}\n",
      "train loss in 1 epoch in 1 batch: 2.11881\n",
      "val loss in 1 epoch: 0.72105\n",
      "Round 762, winrate: 0.0, max_step: 74, reward: 0.004299999999999998, example: {'ranks': [{'rank': 1, 'agentID': 1}, {'rank': 2, 'agentID': 0}], 'replayFile': 'replays/773358646.json'}\n",
      "train loss in 1 epoch in 1 batch: 1.37889\n",
      "val loss in 1 epoch: 1.26056\n"
     ]
    },
    {
     "name": "stderr",
     "output_type": "stream",
     "text": [
      "/Library/Frameworks/Python.framework/Versions/3.7/lib/python3.7/site-packages/IPython/core/interactiveshell.py:3338: DtypeWarning: Columns (26,27,28) have mixed types.Specify dtype option on import or set low_memory=False.\n",
      "  if (await self.run_code(code, result,  async_=asy)):\n"
     ]
    },
    {
     "name": "stdout",
     "output_type": "stream",
     "text": [
      "Round 763, winrate: 0.0, max_step: 271, reward: 0.07770000000000017, example: {'ranks': [{'rank': 1, 'agentID': 0}, {'rank': 2, 'agentID': 1}], 'replayFile': 'replays/247896938.json'}\n",
      "train loss in 1 epoch in 1 batch: 1.23854\n",
      "val loss in 1 epoch: 1.14618\n",
      "Round 764, winrate: 0.0, max_step: 191, reward: 0.03409999999999999, example: {'ranks': [{'rank': 1, 'agentID': 1}, {'rank': 2, 'agentID': 0}], 'replayFile': 'replays/918085310.json'}\n",
      "train loss in 1 epoch in 1 batch: 2.85513\n",
      "val loss in 1 epoch: 1.23322\n",
      "Round 765, winrate: 0.0, max_step: 359, reward: 0.12199999999999862, example: {'ranks': [{'rank': 1, 'agentID': 0}, {'rank': 2, 'agentID': 1}], 'replayFile': 'replays/971648029.json'}\n",
      "train loss in 1 epoch in 1 batch: 0.33795\n",
      "val loss in 1 epoch: 0.66937\n",
      "Round 766, winrate: 0.0, max_step: 235, reward: 0.0019000000000000006, example: {'ranks': [{'rank': 1, 'agentID': 1}, {'rank': 2, 'agentID': 0}], 'replayFile': 'replays/382611441.json'}\n",
      "train loss in 1 epoch in 1 batch: 1.20109\n",
      "val loss in 1 epoch: 1.06393\n",
      "Round 767, winrate: 0.0, max_step: 359, reward: 0.1207000000000014, example: {'ranks': [{'rank': 1, 'agentID': 0}, {'rank': 2, 'agentID': 1}], 'replayFile': 'replays/53590940.json'}\n",
      "train loss in 1 epoch in 1 batch: 2.21623\n",
      "val loss in 1 epoch: 1.03556\n",
      "Round 768, winrate: 1.0, max_step: 231, reward: 1.0196999999999998, example: {'ranks': [{'rank': 1, 'agentID': 0}, {'rank': 2, 'agentID': 1}], 'replayFile': 'replays/486248574.json'}\n",
      "train loss in 1 epoch in 1 batch: 3.55831\n",
      "val loss in 1 epoch: 2.59770\n",
      "Round 769, winrate: 0.0, max_step: 318, reward: 0.022999999999999916, example: {'ranks': [{'rank': 1, 'agentID': 0}, {'rank': 2, 'agentID': 1}], 'replayFile': 'replays/798020316.json'}\n",
      "train loss in 1 epoch in 1 batch: 2.85529\n",
      "val loss in 1 epoch: 2.21770\n",
      "Round 770, winrate: 0.0, max_step: 359, reward: 0.24119999999999772, example: {'ranks': [{'rank': 1, 'agentID': 1}, {'rank': 2, 'agentID': 0}], 'replayFile': 'replays/599580696.json'}\n",
      "train loss in 1 epoch in 1 batch: 0.30732\n",
      "val loss in 1 epoch: 0.84222\n",
      "train loss in 1 epoch in 2 batch: 2.84888\n",
      "val loss in 1 epoch: 0.84855\n"
     ]
    },
    {
     "name": "stderr",
     "output_type": "stream",
     "text": [
      "/Library/Frameworks/Python.framework/Versions/3.7/lib/python3.7/site-packages/IPython/core/interactiveshell.py:3338: DtypeWarning: Columns (9,10,11,12,13,14) have mixed types.Specify dtype option on import or set low_memory=False.\n",
      "  if (await self.run_code(code, result,  async_=asy)):\n"
     ]
    },
    {
     "name": "stdout",
     "output_type": "stream",
     "text": [
      "Round 771, winrate: 0.0, max_step: 359, reward: 0.18879999999999764, example: {'ranks': [{'rank': 1, 'agentID': 0}, {'rank': 2, 'agentID': 1}], 'replayFile': 'replays/560291268.json'}\n",
      "train loss in 1 epoch in 1 batch: 0.21805\n",
      "val loss in 1 epoch: 0.57041\n",
      "train loss in 1 epoch in 2 batch: 0.12423\n",
      "val loss in 1 epoch: 0.56578\n",
      "Round 772, winrate: 0.0, max_step: 359, reward: 0.33030000000000004, example: {'ranks': [{'rank': 1, 'agentID': 1}, {'rank': 2, 'agentID': 0}], 'replayFile': 'replays/71929890.json'}\n",
      "train loss in 1 epoch in 1 batch: 1.65038\n",
      "val loss in 1 epoch: 1.18520\n",
      "train loss in 1 epoch in 2 batch: 0.28829\n",
      "val loss in 1 epoch: 1.17721\n"
     ]
    },
    {
     "name": "stderr",
     "output_type": "stream",
     "text": [
      "/Library/Frameworks/Python.framework/Versions/3.7/lib/python3.7/site-packages/IPython/core/interactiveshell.py:3338: DtypeWarning: Columns (9,10,11,12,13,14) have mixed types.Specify dtype option on import or set low_memory=False.\n",
      "  if (await self.run_code(code, result,  async_=asy)):\n"
     ]
    },
    {
     "name": "stdout",
     "output_type": "stream",
     "text": [
      "Round 773, winrate: 0.0, max_step: 274, reward: 0.019999999999999934, example: {'ranks': [{'rank': 1, 'agentID': 0}, {'rank': 2, 'agentID': 1}], 'replayFile': 'replays/613149209.json'}\n",
      "train loss in 1 epoch in 1 batch: 0.62047\n",
      "val loss in 1 epoch: 0.83078\n"
     ]
    },
    {
     "name": "stderr",
     "output_type": "stream",
     "text": [
      "/Library/Frameworks/Python.framework/Versions/3.7/lib/python3.7/site-packages/IPython/core/interactiveshell.py:3338: DtypeWarning: Columns (26,27,28) have mixed types.Specify dtype option on import or set low_memory=False.\n",
      "  if (await self.run_code(code, result,  async_=asy)):\n"
     ]
    },
    {
     "name": "stdout",
     "output_type": "stream",
     "text": [
      "Round 774, winrate: 0.0, max_step: 359, reward: 0.033199999999999924, example: {'ranks': [{'rank': 1, 'agentID': 1}, {'rank': 2, 'agentID': 0}], 'replayFile': 'replays/543468622.json'}\n",
      "train loss in 1 epoch in 1 batch: 0.91872\n",
      "val loss in 1 epoch: 1.01296\n",
      "Round 775, winrate: 0.0, max_step: 154, reward: 0.05089999999999977, example: {'ranks': [{'rank': 1, 'agentID': 0}, {'rank': 2, 'agentID': 1}], 'replayFile': 'replays/540027776.json'}\n",
      "train loss in 1 epoch in 1 batch: 1.00733\n",
      "val loss in 1 epoch: 0.88649\n",
      "Round 776, winrate: 0.0, max_step: 235, reward: 0.021299999999999927, example: {'ranks': [{'rank': 1, 'agentID': 1}, {'rank': 2, 'agentID': 0}], 'replayFile': 'replays/22076793.json'}\n",
      "train loss in 1 epoch in 1 batch: 0.57730\n",
      "val loss in 1 epoch: 0.25422\n"
     ]
    },
    {
     "name": "stderr",
     "output_type": "stream",
     "text": [
      "/Library/Frameworks/Python.framework/Versions/3.7/lib/python3.7/site-packages/IPython/core/interactiveshell.py:3338: DtypeWarning: Columns (9,10,11,12,13,14) have mixed types.Specify dtype option on import or set low_memory=False.\n",
      "  if (await self.run_code(code, result,  async_=asy)):\n"
     ]
    },
    {
     "name": "stdout",
     "output_type": "stream",
     "text": [
      "Round 777, winrate: 0.0, max_step: 270, reward: 0.06489999999999979, example: {'ranks': [{'rank': 1, 'agentID': 0}, {'rank': 2, 'agentID': 1}], 'replayFile': 'replays/655685735.json'}\n",
      "train loss in 1 epoch in 1 batch: 1.90094\n",
      "val loss in 1 epoch: 1.79543\n"
     ]
    },
    {
     "name": "stderr",
     "output_type": "stream",
     "text": [
      "/Library/Frameworks/Python.framework/Versions/3.7/lib/python3.7/site-packages/IPython/core/interactiveshell.py:3338: DtypeWarning: Columns (26,27,28) have mixed types.Specify dtype option on import or set low_memory=False.\n",
      "  if (await self.run_code(code, result,  async_=asy)):\n"
     ]
    },
    {
     "name": "stdout",
     "output_type": "stream",
     "text": [
      "Round 778, winrate: 0.0, max_step: 359, reward: 0.0359, example: {'ranks': [{'rank': 1, 'agentID': 1}, {'rank': 2, 'agentID': 0}], 'replayFile': 'replays/718281167.json'}\n",
      "train loss in 1 epoch in 1 batch: 3.13654\n",
      "val loss in 1 epoch: 2.49569\n",
      "Round 779, winrate: 0.0, max_step: 319, reward: 0.03189999999999989, example: {'ranks': [{'rank': 1, 'agentID': 0}, {'rank': 2, 'agentID': 1}], 'replayFile': 'replays/690898706.json'}\n",
      "train loss in 1 epoch in 1 batch: 2.46331\n",
      "val loss in 1 epoch: 2.95730\n",
      "Round 780, winrate: 0.0, max_step: 312, reward: 0.02219999999999992, example: {'ranks': [{'rank': 1, 'agentID': 1}, {'rank': 2, 'agentID': 0}], 'replayFile': 'replays/998416085.json'}\n",
      "train loss in 1 epoch in 1 batch: 3.08732\n",
      "val loss in 1 epoch: 2.49611\n",
      "Round 781, winrate: 0.0, max_step: 359, reward: 0.0359, example: {'ranks': [{'rank': 1, 'agentID': 0}, {'rank': 2, 'agentID': 1}], 'replayFile': 'replays/856964372.json'}\n",
      "train loss in 1 epoch in 1 batch: 0.42180\n",
      "val loss in 1 epoch: 0.22234\n",
      "Round 782, winrate: 0.0, max_step: 150, reward: 0.005700000000000002, example: {'ranks': [{'rank': 1, 'agentID': 1}, {'rank': 2, 'agentID': 0}], 'replayFile': 'replays/925285898.json'}\n",
      "train loss in 1 epoch in 1 batch: 0.95331\n",
      "val loss in 1 epoch: 0.90440\n",
      "Round 783, winrate: 0.0, max_step: 270, reward: 0.023299999999999915, example: {'ranks': [{'rank': 1, 'agentID': 0}, {'rank': 2, 'agentID': 1}], 'replayFile': 'replays/721623433.json'}\n",
      "train loss in 1 epoch in 1 batch: 0.19057\n",
      "val loss in 1 epoch: 1.64323\n",
      "Round 784, winrate: 0.0, max_step: 359, reward: 0.03039999999999987, example: {'ranks': [{'rank': 1, 'agentID': 1}, {'rank': 2, 'agentID': 0}], 'replayFile': 'replays/803621013.json'}\n",
      "train loss in 1 epoch in 1 batch: 2.81519\n",
      "val loss in 1 epoch: 2.86837\n",
      "Round 785, winrate: 0.0, max_step: 234, reward: 0.0023, example: {'ranks': [{'rank': 1, 'agentID': 0}, {'rank': 2, 'agentID': 1}], 'replayFile': 'replays/256518872.json'}\n",
      "train loss in 1 epoch in 1 batch: 1.05911\n",
      "val loss in 1 epoch: 0.89220\n",
      "Round 786, winrate: 0.0, max_step: 75, reward: 0.010200000000000008, example: {'ranks': [{'rank': 1, 'agentID': 1}, {'rank': 2, 'agentID': 0}], 'replayFile': 'replays/28697374.json'}\n",
      "train loss in 1 epoch in 1 batch: 0.30481\n",
      "val loss in 1 epoch: 0.80537\n"
     ]
    },
    {
     "name": "stderr",
     "output_type": "stream",
     "text": [
      "/Library/Frameworks/Python.framework/Versions/3.7/lib/python3.7/site-packages/IPython/core/interactiveshell.py:3338: DtypeWarning: Columns (9,10,11,12,13,14,26,27,28) have mixed types.Specify dtype option on import or set low_memory=False.\n",
      "  if (await self.run_code(code, result,  async_=asy)):\n"
     ]
    },
    {
     "name": "stdout",
     "output_type": "stream",
     "text": [
      "Round 787, winrate: 0.0, max_step: 314, reward: 0.01399999999999997, example: {'ranks': [{'rank': 1, 'agentID': 0}, {'rank': 2, 'agentID': 1}], 'replayFile': 'replays/453522989.json'}\n",
      "train loss in 1 epoch in 1 batch: 0.87646\n",
      "val loss in 1 epoch: 0.86147\n"
     ]
    },
    {
     "name": "stderr",
     "output_type": "stream",
     "text": [
      "/Library/Frameworks/Python.framework/Versions/3.7/lib/python3.7/site-packages/IPython/core/interactiveshell.py:3338: DtypeWarning: Columns (9,10,11,12,13,14) have mixed types.Specify dtype option on import or set low_memory=False.\n",
      "  if (await self.run_code(code, result,  async_=asy)):\n"
     ]
    },
    {
     "name": "stdout",
     "output_type": "stream",
     "text": [
      "Round 788, winrate: 0.0, max_step: 359, reward: 0.06759999999999983, example: {'ranks': [{'rank': 1, 'agentID': 1}, {'rank': 2, 'agentID': 0}], 'replayFile': 'replays/753041330.json'}\n",
      "train loss in 1 epoch in 1 batch: 0.32569\n",
      "val loss in 1 epoch: 1.01042\n"
     ]
    },
    {
     "name": "stderr",
     "output_type": "stream",
     "text": [
      "/Library/Frameworks/Python.framework/Versions/3.7/lib/python3.7/site-packages/IPython/core/interactiveshell.py:3338: DtypeWarning: Columns (9,10,11,12,13,14) have mixed types.Specify dtype option on import or set low_memory=False.\n",
      "  if (await self.run_code(code, result,  async_=asy)):\n"
     ]
    },
    {
     "name": "stdout",
     "output_type": "stream",
     "text": [
      "Round 789, winrate: 0.0, max_step: 196, reward: 0.042999999999999865, example: {'ranks': [{'rank': 1, 'agentID': 0}, {'rank': 2, 'agentID': 1}], 'replayFile': 'replays/314970675.json'}\n",
      "train loss in 1 epoch in 1 batch: 0.79312\n",
      "val loss in 1 epoch: 1.44152\n",
      "Round 790, winrate: 0.0, max_step: 197, reward: 0.019699999999999936, example: {'ranks': [{'rank': 1, 'agentID': 1}, {'rank': 2, 'agentID': 0}], 'replayFile': 'replays/170877168.json'}\n",
      "train loss in 1 epoch in 1 batch: 0.86945\n",
      "val loss in 1 epoch: 0.96209\n",
      "Round 791, winrate: 0.0, max_step: 359, reward: 0.09390000000000058, example: {'ranks': [{'rank': 1, 'agentID': 0}, {'rank': 2, 'agentID': 1}], 'replayFile': 'replays/895124453.json'}\n",
      "train loss in 1 epoch in 1 batch: 2.57495\n",
      "val loss in 1 epoch: 0.82816\n"
     ]
    },
    {
     "name": "stderr",
     "output_type": "stream",
     "text": [
      "/Library/Frameworks/Python.framework/Versions/3.7/lib/python3.7/site-packages/IPython/core/interactiveshell.py:3338: DtypeWarning: Columns (9,10,11,12,13,14) have mixed types.Specify dtype option on import or set low_memory=False.\n",
      "  if (await self.run_code(code, result,  async_=asy)):\n"
     ]
    },
    {
     "name": "stdout",
     "output_type": "stream",
     "text": [
      "Round 792, winrate: 0.0, max_step: 155, reward: 0.010199999999999994, example: {'ranks': [{'rank': 1, 'agentID': 1}, {'rank': 2, 'agentID': 0}], 'replayFile': 'replays/865325181.json'}\n",
      "train loss in 1 epoch in 1 batch: 0.17910\n",
      "val loss in 1 epoch: 0.72232\n",
      "Round 793, winrate: 0.0, max_step: 359, reward: 0.11830000000000133, example: {'ranks': [{'rank': 1, 'agentID': 0}, {'rank': 2, 'agentID': 1}], 'replayFile': 'replays/153145981.json'}\n",
      "train loss in 1 epoch in 1 batch: 0.58870\n",
      "val loss in 1 epoch: 0.34441\n",
      "Round 794, winrate: 0.0, max_step: 190, reward: 0.002799999999999999, example: {'ranks': [{'rank': 1, 'agentID': 1}, {'rank': 2, 'agentID': 0}], 'replayFile': 'replays/378014899.json'}\n",
      "train loss in 1 epoch in 1 batch: 1.12671\n",
      "val loss in 1 epoch: 0.91899\n",
      "Round 795, winrate: 0.0, max_step: 230, reward: 0.022899999999999917, example: {'ranks': [{'rank': 1, 'agentID': 0}, {'rank': 2, 'agentID': 1}], 'replayFile': 'replays/445992228.json'}\n",
      "train loss in 1 epoch in 1 batch: 0.17575\n",
      "val loss in 1 epoch: 1.05563\n",
      "Round 796, winrate: 0.0, max_step: 157, reward: 0.013399999999999974, example: {'ranks': [{'rank': 1, 'agentID': 1}, {'rank': 2, 'agentID': 0}], 'replayFile': 'replays/286551782.json'}\n",
      "train loss in 1 epoch in 1 batch: 0.50667\n",
      "val loss in 1 epoch: 1.07512\n"
     ]
    },
    {
     "name": "stderr",
     "output_type": "stream",
     "text": [
      "/Library/Frameworks/Python.framework/Versions/3.7/lib/python3.7/site-packages/IPython/core/interactiveshell.py:3338: DtypeWarning: Columns (9,10,11,12,13,14) have mixed types.Specify dtype option on import or set low_memory=False.\n",
      "  if (await self.run_code(code, result,  async_=asy)):\n"
     ]
    },
    {
     "name": "stdout",
     "output_type": "stream",
     "text": [
      "Round 797, winrate: 0.0, max_step: 311, reward: 0.0735, example: {'ranks': [{'rank': 1, 'agentID': 0}, {'rank': 2, 'agentID': 1}], 'replayFile': 'replays/64075633.json'}\n",
      "train loss in 1 epoch in 1 batch: 2.64083\n",
      "val loss in 1 epoch: 1.76247\n",
      "Round 798, winrate: 0.0, max_step: 197, reward: 0.019699999999999936, example: {'ranks': [{'rank': 1, 'agentID': 1}, {'rank': 2, 'agentID': 0}], 'replayFile': 'replays/697048452.json'}\n",
      "train loss in 1 epoch in 1 batch: 0.95196\n",
      "val loss in 1 epoch: 0.86077\n",
      "Round 799, winrate: 0.0, max_step: 278, reward: 0.026699999999999894, example: {'ranks': [{'rank': 1, 'agentID': 0}, {'rank': 2, 'agentID': 1}], 'replayFile': 'replays/510321191.json'}\n",
      "train loss in 1 epoch in 1 batch: 0.21126\n",
      "val loss in 1 epoch: 0.57526\n",
      "Round 800, winrate: 0.0, max_step: 359, reward: 0.11180000000000115, example: {'ranks': [{'rank': 1, 'agentID': 1}, {'rank': 2, 'agentID': 0}], 'replayFile': 'replays/349519183.json'}\n",
      "train loss in 1 epoch in 1 batch: 1.16330\n",
      "val loss in 1 epoch: 0.93051\n",
      "Round 801, winrate: 0.0, max_step: 359, reward: 0.0323999999999999, example: {'ranks': [{'rank': 1, 'agentID': 0}, {'rank': 2, 'agentID': 1}], 'replayFile': 'replays/35625746.json'}\n",
      "train loss in 1 epoch in 1 batch: 0.31849\n",
      "val loss in 1 epoch: 1.15626\n",
      "Round 802, winrate: 0.0, max_step: 238, reward: 0.0016000000000000005, example: {'ranks': [{'rank': 1, 'agentID': 1}, {'rank': 2, 'agentID': 0}], 'replayFile': 'replays/949582016.json'}\n",
      "train loss in 1 epoch in 1 batch: 2.32913\n",
      "val loss in 1 epoch: 2.00755\n",
      "Round 803, winrate: 0.0, max_step: 230, reward: 0.021399999999999926, example: {'ranks': [{'rank': 1, 'agentID': 0}, {'rank': 2, 'agentID': 1}], 'replayFile': 'replays/793197026.json'}\n",
      "train loss in 1 epoch in 1 batch: 1.98108\n",
      "val loss in 1 epoch: 1.82868\n"
     ]
    },
    {
     "name": "stderr",
     "output_type": "stream",
     "text": [
      "/Library/Frameworks/Python.framework/Versions/3.7/lib/python3.7/site-packages/IPython/core/interactiveshell.py:3338: DtypeWarning: Columns (9,10,11,12,13,14,26,27,28) have mixed types.Specify dtype option on import or set low_memory=False.\n",
      "  if (await self.run_code(code, result,  async_=asy)):\n"
     ]
    },
    {
     "name": "stdout",
     "output_type": "stream",
     "text": [
      "Round 804, winrate: 0.0, max_step: 314, reward: 0.015499999999999962, example: {'ranks': [{'rank': 1, 'agentID': 1}, {'rank': 2, 'agentID': 0}], 'replayFile': 'replays/938895169.json'}\n",
      "train loss in 1 epoch in 1 batch: 0.81784\n",
      "val loss in 1 epoch: 0.89964\n",
      "Round 805, winrate: 0.0, max_step: 275, reward: 0.0093, example: {'ranks': [{'rank': 1, 'agentID': 0}, {'rank': 2, 'agentID': 1}], 'replayFile': 'replays/112294984.json'}\n",
      "train loss in 1 epoch in 1 batch: 1.06200\n",
      "val loss in 1 epoch: 0.83038\n"
     ]
    },
    {
     "name": "stderr",
     "output_type": "stream",
     "text": [
      "/Library/Frameworks/Python.framework/Versions/3.7/lib/python3.7/site-packages/IPython/core/interactiveshell.py:3338: DtypeWarning: Columns (17,18,19,20,21,22) have mixed types.Specify dtype option on import or set low_memory=False.\n",
      "  if (await self.run_code(code, result,  async_=asy)):\n"
     ]
    },
    {
     "name": "stdout",
     "output_type": "stream",
     "text": [
      "Round 806, winrate: 0.0, max_step: 190, reward: 0.01409999999999997, example: {'ranks': [{'rank': 1, 'agentID': 1}, {'rank': 2, 'agentID': 0}], 'replayFile': 'replays/727406070.json'}\n",
      "train loss in 1 epoch in 1 batch: 1.62007\n",
      "val loss in 1 epoch: 2.03352\n",
      "Round 807, winrate: 0.0, max_step: 236, reward: 0.02249999999999992, example: {'ranks': [{'rank': 1, 'agentID': 0}, {'rank': 2, 'agentID': 1}], 'replayFile': 'replays/607123852.json'}\n",
      "train loss in 1 epoch in 1 batch: 0.20064\n",
      "val loss in 1 epoch: 0.41033\n",
      "Round 808, winrate: 0.0, max_step: 231, reward: 0.0018000000000000006, example: {'ranks': [{'rank': 1, 'agentID': 1}, {'rank': 2, 'agentID': 0}], 'replayFile': 'replays/897001934.json'}\n",
      "train loss in 1 epoch in 1 batch: 2.42924\n",
      "val loss in 1 epoch: 1.91773\n",
      "Round 809, winrate: 0.0, max_step: 359, reward: 0.06219999999999968, example: {'ranks': [{'rank': 1, 'agentID': 0}, {'rank': 2, 'agentID': 1}], 'replayFile': 'replays/198287149.json'}\n",
      "train loss in 1 epoch in 1 batch: 3.26357\n",
      "val loss in 1 epoch: 0.61075\n"
     ]
    },
    {
     "name": "stderr",
     "output_type": "stream",
     "text": [
      "/Library/Frameworks/Python.framework/Versions/3.7/lib/python3.7/site-packages/IPython/core/interactiveshell.py:3338: DtypeWarning: Columns (26,27,28) have mixed types.Specify dtype option on import or set low_memory=False.\n",
      "  if (await self.run_code(code, result,  async_=asy)):\n"
     ]
    },
    {
     "name": "stdout",
     "output_type": "stream",
     "text": [
      "Round 810, winrate: 0.0, max_step: 277, reward: 0.027699999999999888, example: {'ranks': [{'rank': 1, 'agentID': 1}, {'rank': 2, 'agentID': 0}], 'replayFile': 'replays/192367988.json'}\n",
      "train loss in 1 epoch in 1 batch: 0.93669\n",
      "val loss in 1 epoch: 0.76859\n"
     ]
    },
    {
     "name": "stderr",
     "output_type": "stream",
     "text": [
      "/Library/Frameworks/Python.framework/Versions/3.7/lib/python3.7/site-packages/IPython/core/interactiveshell.py:3338: DtypeWarning: Columns (26,27,28) have mixed types.Specify dtype option on import or set low_memory=False.\n",
      "  if (await self.run_code(code, result,  async_=asy)):\n"
     ]
    },
    {
     "name": "stdout",
     "output_type": "stream",
     "text": [
      "Round 811, winrate: 1.0, max_step: 359, reward: 1.0331, example: {'ranks': [{'rank': 1, 'agentID': 1}, {'rank': 2, 'agentID': 0}], 'replayFile': 'replays/401576774.json'}\n",
      "train loss in 1 epoch in 1 batch: 1.86966\n",
      "val loss in 1 epoch: 1.44810\n"
     ]
    },
    {
     "name": "stderr",
     "output_type": "stream",
     "text": [
      "/Library/Frameworks/Python.framework/Versions/3.7/lib/python3.7/site-packages/IPython/core/interactiveshell.py:3338: DtypeWarning: Columns (26,27,28) have mixed types.Specify dtype option on import or set low_memory=False.\n",
      "  if (await self.run_code(code, result,  async_=asy)):\n"
     ]
    },
    {
     "name": "stdout",
     "output_type": "stream",
     "text": [
      "Round 812, winrate: 0.0, max_step: 275, reward: 0.02749999999999989, example: {'ranks': [{'rank': 1, 'agentID': 1}, {'rank': 2, 'agentID': 0}], 'replayFile': 'replays/21392363.json'}\n",
      "train loss in 1 epoch in 1 batch: 0.76865\n",
      "val loss in 1 epoch: 0.66518\n"
     ]
    },
    {
     "name": "stderr",
     "output_type": "stream",
     "text": [
      "/Library/Frameworks/Python.framework/Versions/3.7/lib/python3.7/site-packages/IPython/core/interactiveshell.py:3338: DtypeWarning: Columns (17,18,19,20,21,22) have mixed types.Specify dtype option on import or set low_memory=False.\n",
      "  if (await self.run_code(code, result,  async_=asy)):\n"
     ]
    },
    {
     "name": "stdout",
     "output_type": "stream",
     "text": [
      "Round 813, winrate: 1.0, max_step: 359, reward: 1.0341, example: {'ranks': [{'rank': 1, 'agentID': 1}, {'rank': 2, 'agentID': 0}], 'replayFile': 'replays/989306935.json'}\n",
      "train loss in 1 epoch in 1 batch: 0.66182\n",
      "val loss in 1 epoch: 0.71481\n",
      "Round 814, winrate: 0.0, max_step: 155, reward: 0.032299999999999954, example: {'ranks': [{'rank': 1, 'agentID': 1}, {'rank': 2, 'agentID': 0}], 'replayFile': 'replays/769686693.json'}\n",
      "train loss in 1 epoch in 1 batch: 0.37163\n",
      "val loss in 1 epoch: 0.55408\n",
      "Round 815, winrate: 0.0, max_step: 155, reward: 0.0038999999999999972, example: {'ranks': [{'rank': 1, 'agentID': 0}, {'rank': 2, 'agentID': 1}], 'replayFile': 'replays/248375264.json'}\n",
      "train loss in 1 epoch in 1 batch: 0.78830\n",
      "val loss in 1 epoch: 0.66315\n"
     ]
    },
    {
     "name": "stderr",
     "output_type": "stream",
     "text": [
      "/Library/Frameworks/Python.framework/Versions/3.7/lib/python3.7/site-packages/IPython/core/interactiveshell.py:3338: DtypeWarning: Columns (26,27,28) have mixed types.Specify dtype option on import or set low_memory=False.\n",
      "  if (await self.run_code(code, result,  async_=asy)):\n"
     ]
    },
    {
     "name": "stdout",
     "output_type": "stream",
     "text": [
      "Round 816, winrate: 0.0, max_step: 359, reward: 0.0359, example: {'ranks': [{'rank': 1, 'agentID': 1}, {'rank': 2, 'agentID': 0}], 'replayFile': 'replays/49672788.json'}\n",
      "train loss in 1 epoch in 1 batch: 0.69725\n",
      "val loss in 1 epoch: 0.59676\n",
      "Round 817, winrate: 0.0, max_step: 312, reward: 0.10500000000000095, example: {'ranks': [{'rank': 1, 'agentID': 0}, {'rank': 2, 'agentID': 1}], 'replayFile': 'replays/41358614.json'}\n",
      "train loss in 1 epoch in 1 batch: 0.25377\n",
      "val loss in 1 epoch: 0.31059\n",
      "Round 818, winrate: 0.0, max_step: 194, reward: 0.03820000000000006, example: {'ranks': [{'rank': 1, 'agentID': 1}, {'rank': 2, 'agentID': 0}], 'replayFile': 'replays/486290293.json'}\n",
      "train loss in 1 epoch in 1 batch: 1.47763\n",
      "val loss in 1 epoch: 0.87897\n"
     ]
    },
    {
     "name": "stderr",
     "output_type": "stream",
     "text": [
      "/Library/Frameworks/Python.framework/Versions/3.7/lib/python3.7/site-packages/IPython/core/interactiveshell.py:3338: DtypeWarning: Columns (9,10,11,12,13,14) have mixed types.Specify dtype option on import or set low_memory=False.\n",
      "  if (await self.run_code(code, result,  async_=asy)):\n"
     ]
    },
    {
     "name": "stdout",
     "output_type": "stream",
     "text": [
      "Round 819, winrate: 0.0, max_step: 358, reward: 0.03209999999999989, example: {'ranks': [{'rank': 1, 'agentID': 0}, {'rank': 2, 'agentID': 1}], 'replayFile': 'replays/912325057.json'}\n",
      "train loss in 1 epoch in 1 batch: 0.59393\n",
      "val loss in 1 epoch: 0.64662\n",
      "Round 820, winrate: 0.0, max_step: 310, reward: 0.03089999999999987, example: {'ranks': [{'rank': 1, 'agentID': 1}, {'rank': 2, 'agentID': 0}], 'replayFile': 'replays/179739825.json'}\n",
      "train loss in 1 epoch in 1 batch: 0.17403\n",
      "val loss in 1 epoch: 0.28138\n",
      "Round 821, winrate: 0.0, max_step: 195, reward: 0.009699999999999997, example: {'ranks': [{'rank': 1, 'agentID': 0}, {'rank': 2, 'agentID': 1}], 'replayFile': 'replays/52308207.json'}\n",
      "train loss in 1 epoch in 1 batch: 0.71826\n",
      "val loss in 1 epoch: 0.59243\n",
      "Round 822, winrate: 0.0, max_step: 197, reward: 0.019699999999999936, example: {'ranks': [{'rank': 1, 'agentID': 1}, {'rank': 2, 'agentID': 0}], 'replayFile': 'replays/860280102.json'}\n",
      "train loss in 1 epoch in 1 batch: 0.35384\n",
      "val loss in 1 epoch: 0.86902\n",
      "Round 823, winrate: 0.0, max_step: 358, reward: 0.0020000000000000005, example: {'ranks': [{'rank': 1, 'agentID': 0}, {'rank': 2, 'agentID': 1}], 'replayFile': 'replays/195111128.json'}\n",
      "train loss in 1 epoch in 1 batch: 1.21538\n",
      "val loss in 1 epoch: 1.48344\n",
      "Round 824, winrate: 0.0, max_step: 198, reward: 0.008000000000000007, example: {'ranks': [{'rank': 1, 'agentID': 1}, {'rank': 2, 'agentID': 0}], 'replayFile': 'replays/783315777.json'}\n",
      "train loss in 1 epoch in 1 batch: 1.76053\n",
      "val loss in 1 epoch: 1.23538\n"
     ]
    },
    {
     "name": "stderr",
     "output_type": "stream",
     "text": [
      "/Library/Frameworks/Python.framework/Versions/3.7/lib/python3.7/site-packages/IPython/core/interactiveshell.py:3338: DtypeWarning: Columns (26,27,28) have mixed types.Specify dtype option on import or set low_memory=False.\n",
      "  if (await self.run_code(code, result,  async_=asy)):\n"
     ]
    },
    {
     "name": "stdout",
     "output_type": "stream",
     "text": [
      "Round 825, winrate: 0.0, max_step: 271, reward: 0.019399999999999938, example: {'ranks': [{'rank': 1, 'agentID': 0}, {'rank': 2, 'agentID': 1}], 'replayFile': 'replays/605683318.json'}\n",
      "train loss in 1 epoch in 1 batch: 0.55770\n",
      "val loss in 1 epoch: 0.57220\n",
      "Round 826, winrate: 0.0, max_step: 359, reward: 0.11750000000000131, example: {'ranks': [{'rank': 1, 'agentID': 1}, {'rank': 2, 'agentID': 0}], 'replayFile': 'replays/448169677.json'}\n",
      "train loss in 1 epoch in 1 batch: 0.36090\n",
      "val loss in 1 epoch: 0.24782\n",
      "Round 827, winrate: 0.0, max_step: 359, reward: 0.0323999999999999, example: {'ranks': [{'rank': 1, 'agentID': 0}, {'rank': 2, 'agentID': 1}], 'replayFile': 'replays/288580745.json'}\n",
      "train loss in 1 epoch in 1 batch: 1.32785\n",
      "val loss in 1 epoch: 1.11270\n",
      "Round 828, winrate: 0.0, max_step: 359, reward: 0.029299999999999878, example: {'ranks': [{'rank': 1, 'agentID': 1}, {'rank': 2, 'agentID': 0}], 'replayFile': 'replays/227632929.json'}\n",
      "train loss in 1 epoch in 1 batch: 0.56516\n",
      "val loss in 1 epoch: 0.58935\n",
      "Round 829, winrate: 0.0, max_step: 355, reward: 0.035299999999999984, example: {'ranks': [{'rank': 1, 'agentID': 0}, {'rank': 2, 'agentID': 1}], 'replayFile': 'replays/180798930.json'}\n",
      "train loss in 1 epoch in 1 batch: 0.18260\n",
      "val loss in 1 epoch: 0.40392\n",
      "Round 830, winrate: 0.0, max_step: 359, reward: 0.012099999999999982, example: {'ranks': [{'rank': 1, 'agentID': 1}, {'rank': 2, 'agentID': 0}], 'replayFile': 'replays/894348364.json'}\n",
      "train loss in 1 epoch in 1 batch: 1.09761\n",
      "val loss in 1 epoch: 0.80369\n",
      "Round 831, winrate: 0.0, max_step: 274, reward: 0.025099999999999904, example: {'ranks': [{'rank': 1, 'agentID': 0}, {'rank': 2, 'agentID': 1}], 'replayFile': 'replays/224209555.json'}\n",
      "train loss in 1 epoch in 1 batch: 1.39211\n",
      "val loss in 1 epoch: 1.65277\n",
      "Round 832, winrate: 0.0, max_step: 235, reward: 0.004199999999999998, example: {'ranks': [{'rank': 1, 'agentID': 1}, {'rank': 2, 'agentID': 0}], 'replayFile': 'replays/832091225.json'}\n",
      "train loss in 1 epoch in 1 batch: 0.62936\n",
      "val loss in 1 epoch: 0.57136\n",
      "Round 833, winrate: 0.0, max_step: 229, reward: 0.0059000000000000025, example: {'ranks': [{'rank': 1, 'agentID': 0}, {'rank': 2, 'agentID': 1}], 'replayFile': 'replays/249566057.json'}\n",
      "train loss in 1 epoch in 1 batch: 0.55987\n",
      "val loss in 1 epoch: 0.56919\n"
     ]
    },
    {
     "name": "stderr",
     "output_type": "stream",
     "text": [
      "/Library/Frameworks/Python.framework/Versions/3.7/lib/python3.7/site-packages/IPython/core/interactiveshell.py:3338: DtypeWarning: Columns (9,10,11,12,13,14) have mixed types.Specify dtype option on import or set low_memory=False.\n",
      "  if (await self.run_code(code, result,  async_=asy)):\n"
     ]
    },
    {
     "name": "stdout",
     "output_type": "stream",
     "text": [
      "Round 834, winrate: 0.0, max_step: 234, reward: 0.013599999999999973, example: {'ranks': [{'rank': 1, 'agentID': 1}, {'rank': 2, 'agentID': 0}], 'replayFile': 'replays/485089308.json'}\n",
      "train loss in 1 epoch in 1 batch: 0.54850\n",
      "val loss in 1 epoch: 0.60192\n",
      "Round 835, winrate: 0.0, max_step: 359, reward: 0.0359, example: {'ranks': [{'rank': 1, 'agentID': 0}, {'rank': 2, 'agentID': 1}], 'replayFile': 'replays/115462237.json'}\n",
      "train loss in 1 epoch in 1 batch: 0.61831\n",
      "val loss in 1 epoch: 0.55403\n",
      "Round 836, winrate: 0.0, max_step: 319, reward: 0.08600000000000038, example: {'ranks': [{'rank': 1, 'agentID': 1}, {'rank': 2, 'agentID': 0}], 'replayFile': 'replays/508757783.json'}\n",
      "train loss in 1 epoch in 1 batch: 0.43656\n",
      "val loss in 1 epoch: 0.36045\n",
      "Round 837, winrate: 0.0, max_step: 359, reward: 0.027999999999999886, example: {'ranks': [{'rank': 1, 'agentID': 0}, {'rank': 2, 'agentID': 1}], 'replayFile': 'replays/608633456.json'}\n",
      "train loss in 1 epoch in 1 batch: 0.58265\n",
      "val loss in 1 epoch: 0.62563\n",
      "Round 838, winrate: 0.0, max_step: 359, reward: 0.08640000000000037, example: {'ranks': [{'rank': 1, 'agentID': 1}, {'rank': 2, 'agentID': 0}], 'replayFile': 'replays/669510237.json'}\n",
      "train loss in 1 epoch in 1 batch: 0.16113\n",
      "val loss in 1 epoch: 0.38086\n",
      "Round 839, winrate: 0.0, max_step: 235, reward: 0.004099999999999998, example: {'ranks': [{'rank': 1, 'agentID': 0}, {'rank': 2, 'agentID': 1}], 'replayFile': 'replays/822634402.json'}\n",
      "train loss in 1 epoch in 1 batch: 0.64546\n",
      "val loss in 1 epoch: 0.58529\n",
      "Round 840, winrate: 0.0, max_step: 313, reward: 0.024599999999999907, example: {'ranks': [{'rank': 1, 'agentID': 1}, {'rank': 2, 'agentID': 0}], 'replayFile': 'replays/402285697.json'}\n",
      "train loss in 1 epoch in 1 batch: 0.59134\n",
      "val loss in 1 epoch: 0.63148\n"
     ]
    },
    {
     "name": "stderr",
     "output_type": "stream",
     "text": [
      "/Library/Frameworks/Python.framework/Versions/3.7/lib/python3.7/site-packages/IPython/core/interactiveshell.py:3338: DtypeWarning: Columns (17,18,19,20,21,22) have mixed types.Specify dtype option on import or set low_memory=False.\n",
      "  if (await self.run_code(code, result,  async_=asy)):\n"
     ]
    },
    {
     "name": "stdout",
     "output_type": "stream",
     "text": [
      "Round 841, winrate: 0.0, max_step: 356, reward: 0.1204000000000014, example: {'ranks': [{'rank': 1, 'agentID': 0}, {'rank': 2, 'agentID': 1}], 'replayFile': 'replays/719040036.json'}\n",
      "train loss in 1 epoch in 1 batch: 0.35429\n",
      "val loss in 1 epoch: 0.40701\n",
      "Round 842, winrate: 1.0, max_step: 274, reward: 1.0263, example: {'ranks': [{'rank': 1, 'agentID': 0}, {'rank': 2, 'agentID': 1}], 'replayFile': 'replays/572140548.json'}\n",
      "train loss in 1 epoch in 1 batch: 0.14915\n",
      "val loss in 1 epoch: 0.36329\n",
      "Round 843, winrate: 0.0, max_step: 315, reward: 0.0864000000000004, example: {'ranks': [{'rank': 1, 'agentID': 0}, {'rank': 2, 'agentID': 1}], 'replayFile': 'replays/379708147.json'}\n",
      "train loss in 1 epoch in 1 batch: 0.41307\n",
      "val loss in 1 epoch: 0.64490\n",
      "Round 844, winrate: 0.0, max_step: 197, reward: 0.019699999999999936, example: {'ranks': [{'rank': 1, 'agentID': 1}, {'rank': 2, 'agentID': 0}], 'replayFile': 'replays/730765061.json'}\n",
      "train loss in 1 epoch in 1 batch: 0.69309\n",
      "val loss in 1 epoch: 0.62903\n"
     ]
    },
    {
     "name": "stderr",
     "output_type": "stream",
     "text": [
      "/Library/Frameworks/Python.framework/Versions/3.7/lib/python3.7/site-packages/IPython/core/interactiveshell.py:3338: DtypeWarning: Columns (9,10,11,12,13,14,17,18,19,20,21,22) have mixed types.Specify dtype option on import or set low_memory=False.\n",
      "  if (await self.run_code(code, result,  async_=asy)):\n"
     ]
    },
    {
     "name": "stdout",
     "output_type": "stream",
     "text": [
      "Round 845, winrate: 0.0, max_step: 358, reward: 0.13489999999999852, example: {'ranks': [{'rank': 1, 'agentID': 0}, {'rank': 2, 'agentID': 1}], 'replayFile': 'replays/803521849.json'}\n",
      "train loss in 1 epoch in 1 batch: 0.15876\n",
      "val loss in 1 epoch: 0.51193\n",
      "Round 846, winrate: 0.0, max_step: 359, reward: 0.12369999999999894, example: {'ranks': [{'rank': 1, 'agentID': 1}, {'rank': 2, 'agentID': 0}], 'replayFile': 'replays/206579543.json'}\n",
      "train loss in 1 epoch in 1 batch: 0.40314\n",
      "val loss in 1 epoch: 0.84315\n",
      "Round 847, winrate: 0.0, max_step: 274, reward: 0.006200000000000003, example: {'ranks': [{'rank': 1, 'agentID': 0}, {'rank': 2, 'agentID': 1}], 'replayFile': 'replays/808762721.json'}\n",
      "train loss in 1 epoch in 1 batch: 0.66177\n",
      "val loss in 1 epoch: 0.56295\n",
      "Round 848, winrate: 0.0, max_step: 110, reward: 0.005500000000000001, example: {'ranks': [{'rank': 1, 'agentID': 1}, {'rank': 2, 'agentID': 0}], 'replayFile': 'replays/864482942.json'}\n",
      "train loss in 1 epoch in 1 batch: 0.62992\n",
      "val loss in 1 epoch: 0.52557\n",
      "Round 849, winrate: 0.0, max_step: 156, reward: 0.015499999999999962, example: {'ranks': [{'rank': 1, 'agentID': 0}, {'rank': 2, 'agentID': 1}], 'replayFile': 'replays/971760329.json'}\n",
      "train loss in 1 epoch in 1 batch: 0.18769\n",
      "val loss in 1 epoch: 0.60946\n",
      "Round 850, winrate: 0.0, max_step: 278, reward: 0.024699999999999906, example: {'ranks': [{'rank': 1, 'agentID': 1}, {'rank': 2, 'agentID': 0}], 'replayFile': 'replays/279973088.json'}\n",
      "train loss in 1 epoch in 1 batch: 0.51803\n",
      "val loss in 1 epoch: 0.55465\n",
      "Round 851, winrate: 0.0, max_step: 350, reward: 0.03379999999999994, example: {'ranks': [{'rank': 1, 'agentID': 0}, {'rank': 2, 'agentID': 1}], 'replayFile': 'replays/323199220.json'}\n",
      "train loss in 1 epoch in 1 batch: 0.15284\n",
      "val loss in 1 epoch: 0.63114\n",
      "Round 852, winrate: 0.0, max_step: 275, reward: 0.07630000000000012, example: {'ranks': [{'rank': 1, 'agentID': 1}, {'rank': 2, 'agentID': 0}], 'replayFile': 'replays/970331741.json'}\n",
      "train loss in 1 epoch in 1 batch: 1.47604\n",
      "val loss in 1 epoch: 0.74517\n",
      "Round 853, winrate: 0.0, max_step: 192, reward: 0.05149999999999981, example: {'ranks': [{'rank': 1, 'agentID': 0}, {'rank': 2, 'agentID': 1}], 'replayFile': 'replays/567267636.json'}\n",
      "train loss in 1 epoch in 1 batch: 0.14074\n",
      "val loss in 1 epoch: 0.51698\n"
     ]
    },
    {
     "name": "stderr",
     "output_type": "stream",
     "text": [
      "/Library/Frameworks/Python.framework/Versions/3.7/lib/python3.7/site-packages/IPython/core/interactiveshell.py:3338: DtypeWarning: Columns (26,27,28) have mixed types.Specify dtype option on import or set low_memory=False.\n",
      "  if (await self.run_code(code, result,  async_=asy)):\n"
     ]
    },
    {
     "name": "stdout",
     "output_type": "stream",
     "text": [
      "Round 854, winrate: 0.0, max_step: 199, reward: 0.018499999999999944, example: {'ranks': [{'rank': 1, 'agentID': 1}, {'rank': 2, 'agentID': 0}], 'replayFile': 'replays/75352712.json'}\n",
      "train loss in 1 epoch in 1 batch: 0.52672\n",
      "val loss in 1 epoch: 0.49039\n",
      "Round 855, winrate: 0.0, max_step: 350, reward: 0.025999999999999898, example: {'ranks': [{'rank': 1, 'agentID': 0}, {'rank': 2, 'agentID': 1}], 'replayFile': 'replays/751067844.json'}\n",
      "train loss in 1 epoch in 1 batch: 1.50106\n",
      "val loss in 1 epoch: 1.47948\n",
      "Round 856, winrate: 0.0, max_step: 233, reward: 0.02089999999999993, example: {'ranks': [{'rank': 1, 'agentID': 1}, {'rank': 2, 'agentID': 0}], 'replayFile': 'replays/527824783.json'}\n",
      "train loss in 1 epoch in 1 batch: 2.52410\n",
      "val loss in 1 epoch: 0.77779\n",
      "Round 857, winrate: 0.0, max_step: 277, reward: 0.01919999999999994, example: {'ranks': [{'rank': 1, 'agentID': 0}, {'rank': 2, 'agentID': 1}], 'replayFile': 'replays/755243894.json'}\n",
      "train loss in 1 epoch in 1 batch: 1.41422\n",
      "val loss in 1 epoch: 1.86991\n",
      "Round 858, winrate: 0.0, max_step: 275, reward: 0.0017000000000000006, example: {'ranks': [{'rank': 1, 'agentID': 1}, {'rank': 2, 'agentID': 0}], 'replayFile': 'replays/49935740.json'}\n",
      "train loss in 1 epoch in 1 batch: 0.63762\n",
      "val loss in 1 epoch: 0.53694\n",
      "Round 859, winrate: 0.0, max_step: 270, reward: 0.024599999999999907, example: {'ranks': [{'rank': 1, 'agentID': 0}, {'rank': 2, 'agentID': 1}], 'replayFile': 'replays/674346514.json'}\n",
      "train loss in 1 epoch in 1 batch: 2.18107\n",
      "val loss in 1 epoch: 0.93639\n",
      "Round 860, winrate: 0.0, max_step: 359, reward: 0.4344000000000032, example: {'ranks': [{'rank': 1, 'agentID': 1}, {'rank': 2, 'agentID': 0}], 'replayFile': 'replays/530481905.json'}\n",
      "train loss in 1 epoch in 1 batch: 0.16588\n",
      "val loss in 1 epoch: 0.71579\n",
      "train loss in 1 epoch in 2 batch: 0.09609\n",
      "val loss in 1 epoch: 0.72262\n",
      "Round 861, winrate: 0.0, max_step: 359, reward: 0.0358, example: {'ranks': [{'rank': 1, 'agentID': 0}, {'rank': 2, 'agentID': 1}], 'replayFile': 'replays/839298721.json'}\n",
      "train loss in 1 epoch in 1 batch: 0.50953\n",
      "val loss in 1 epoch: 0.46633\n"
     ]
    },
    {
     "name": "stderr",
     "output_type": "stream",
     "text": [
      "/Library/Frameworks/Python.framework/Versions/3.7/lib/python3.7/site-packages/IPython/core/interactiveshell.py:3338: DtypeWarning: Columns (17,18,19,20,21,22) have mixed types.Specify dtype option on import or set low_memory=False.\n",
      "  if (await self.run_code(code, result,  async_=asy)):\n"
     ]
    },
    {
     "name": "stdout",
     "output_type": "stream",
     "text": [
      "Round 862, winrate: 0.0, max_step: 359, reward: 0.12230000000000145, example: {'ranks': [{'rank': 1, 'agentID': 1}, {'rank': 2, 'agentID': 0}], 'replayFile': 'replays/95418284.json'}\n",
      "train loss in 1 epoch in 1 batch: 0.15185\n",
      "val loss in 1 epoch: 0.74001\n",
      "Round 863, winrate: 0.0, max_step: 359, reward: 0.035699999999999996, example: {'ranks': [{'rank': 1, 'agentID': 0}, {'rank': 2, 'agentID': 1}], 'replayFile': 'replays/101837026.json'}\n",
      "train loss in 1 epoch in 1 batch: 0.14059\n",
      "val loss in 1 epoch: 0.63999\n",
      "Round 864, winrate: 0.0, max_step: 315, reward: 0.004499999999999999, example: {'ranks': [{'rank': 1, 'agentID': 1}, {'rank': 2, 'agentID': 0}], 'replayFile': 'replays/604892702.json'}\n",
      "train loss in 1 epoch in 1 batch: 1.99056\n",
      "val loss in 1 epoch: 1.53223\n",
      "Round 865, winrate: 0.0, max_step: 350, reward: 0.03269999999999991, example: {'ranks': [{'rank': 1, 'agentID': 0}, {'rank': 2, 'agentID': 1}], 'replayFile': 'replays/568978214.json'}\n",
      "train loss in 1 epoch in 1 batch: 0.11799\n",
      "val loss in 1 epoch: 0.52903\n",
      "Round 866, winrate: 1.0, max_step: 197, reward: 1.0196999999999998, example: {'ranks': [{'rank': 1, 'agentID': 0}, {'rank': 2, 'agentID': 1}], 'replayFile': 'replays/31149158.json'}\n",
      "train loss in 1 epoch in 1 batch: 0.12898\n",
      "val loss in 1 epoch: 0.15967\n",
      "Round 867, winrate: 0.0, max_step: 275, reward: 0.004099999999999998, example: {'ranks': [{'rank': 1, 'agentID': 0}, {'rank': 2, 'agentID': 1}], 'replayFile': 'replays/559903512.json'}\n",
      "train loss in 1 epoch in 1 batch: 0.50908\n",
      "val loss in 1 epoch: 0.46820\n"
     ]
    },
    {
     "name": "stderr",
     "output_type": "stream",
     "text": [
      "/Library/Frameworks/Python.framework/Versions/3.7/lib/python3.7/site-packages/IPython/core/interactiveshell.py:3338: DtypeWarning: Columns (26,27,28) have mixed types.Specify dtype option on import or set low_memory=False.\n",
      "  if (await self.run_code(code, result,  async_=asy)):\n"
     ]
    },
    {
     "name": "stdout",
     "output_type": "stream",
     "text": [
      "Round 868, winrate: 0.0, max_step: 359, reward: 0.024499999999999907, example: {'ranks': [{'rank': 1, 'agentID': 1}, {'rank': 2, 'agentID': 0}], 'replayFile': 'replays/737784147.json'}\n",
      "train loss in 1 epoch in 1 batch: 1.62732\n",
      "val loss in 1 epoch: 1.30720\n"
     ]
    },
    {
     "name": "stderr",
     "output_type": "stream",
     "text": [
      "/Library/Frameworks/Python.framework/Versions/3.7/lib/python3.7/site-packages/IPython/core/interactiveshell.py:3338: DtypeWarning: Columns (17,18,19,20,21,22) have mixed types.Specify dtype option on import or set low_memory=False.\n",
      "  if (await self.run_code(code, result,  async_=asy)):\n"
     ]
    },
    {
     "name": "stdout",
     "output_type": "stream",
     "text": [
      "Round 869, winrate: 0.0, max_step: 239, reward: 0.2518, example: {'ranks': [{'rank': 1, 'agentID': 0}, {'rank': 2, 'agentID': 1}], 'replayFile': 'replays/579049488.json'}\n",
      "train loss in 1 epoch in 1 batch: 0.18683\n",
      "val loss in 1 epoch: 0.44856\n",
      "train loss in 1 epoch in 2 batch: 0.07895\n",
      "val loss in 1 epoch: 0.45352\n",
      "Round 870, winrate: 0.0, max_step: 359, reward: 0.3976000000000003, example: {'ranks': [{'rank': 1, 'agentID': 1}, {'rank': 2, 'agentID': 0}], 'replayFile': 'replays/966517467.json'}\n",
      "train loss in 1 epoch in 1 batch: 0.88671\n",
      "val loss in 1 epoch: 0.69134\n",
      "train loss in 1 epoch in 2 batch: 0.15757\n",
      "val loss in 1 epoch: 0.70937\n",
      "Round 871, winrate: 0.0, max_step: 359, reward: 0.5321999999999959, example: {'ranks': [{'rank': 1, 'agentID': 0}, {'rank': 2, 'agentID': 1}], 'replayFile': 'replays/606948454.json'}\n",
      "train loss in 1 epoch in 1 batch: 0.84806\n",
      "val loss in 1 epoch: 0.69277\n",
      "train loss in 1 epoch in 2 batch: 0.08480\n",
      "val loss in 1 epoch: 0.70234\n"
     ]
    },
    {
     "name": "stderr",
     "output_type": "stream",
     "text": [
      "/Library/Frameworks/Python.framework/Versions/3.7/lib/python3.7/site-packages/IPython/core/interactiveshell.py:3338: DtypeWarning: Columns (26,27,28) have mixed types.Specify dtype option on import or set low_memory=False.\n",
      "  if (await self.run_code(code, result,  async_=asy)):\n"
     ]
    },
    {
     "name": "stdout",
     "output_type": "stream",
     "text": [
      "Round 872, winrate: 0.0, max_step: 354, reward: 0.007400000000000006, example: {'ranks': [{'rank': 1, 'agentID': 1}, {'rank': 2, 'agentID': 0}], 'replayFile': 'replays/87228345.json'}\n",
      "train loss in 1 epoch in 1 batch: 1.97631\n",
      "val loss in 1 epoch: 1.52828\n",
      "Round 873, winrate: 0.0, max_step: 274, reward: 0.02399999999999991, example: {'ranks': [{'rank': 1, 'agentID': 0}, {'rank': 2, 'agentID': 1}], 'replayFile': 'replays/188240881.json'}\n",
      "train loss in 1 epoch in 1 batch: 1.46737\n",
      "val loss in 1 epoch: 1.78952\n"
     ]
    },
    {
     "name": "stderr",
     "output_type": "stream",
     "text": [
      "/Library/Frameworks/Python.framework/Versions/3.7/lib/python3.7/site-packages/IPython/core/interactiveshell.py:3338: DtypeWarning: Columns (17,18,19,20,21,22) have mixed types.Specify dtype option on import or set low_memory=False.\n",
      "  if (await self.run_code(code, result,  async_=asy)):\n"
     ]
    },
    {
     "name": "stdout",
     "output_type": "stream",
     "text": [
      "Round 874, winrate: 0.0, max_step: 359, reward: 0.010399999999999993, example: {'ranks': [{'rank': 1, 'agentID': 1}, {'rank': 2, 'agentID': 0}], 'replayFile': 'replays/776349007.json'}\n",
      "train loss in 1 epoch in 1 batch: 2.14240\n",
      "val loss in 1 epoch: 1.56493\n",
      "Round 875, winrate: 0.0, max_step: 278, reward: 0.06559999999999977, example: {'ranks': [{'rank': 1, 'agentID': 0}, {'rank': 2, 'agentID': 1}], 'replayFile': 'replays/150558954.json'}\n",
      "train loss in 1 epoch in 1 batch: 0.60618\n",
      "val loss in 1 epoch: 0.31487\n"
     ]
    },
    {
     "name": "stderr",
     "output_type": "stream",
     "text": [
      "/Library/Frameworks/Python.framework/Versions/3.7/lib/python3.7/site-packages/IPython/core/interactiveshell.py:3338: DtypeWarning: Columns (9,10,11,12,13,14,26,27,28) have mixed types.Specify dtype option on import or set low_memory=False.\n",
      "  if (await self.run_code(code, result,  async_=asy)):\n"
     ]
    },
    {
     "name": "stdout",
     "output_type": "stream",
     "text": [
      "Round 876, winrate: 0.0, max_step: 359, reward: 0.01569999999999996, example: {'ranks': [{'rank': 1, 'agentID': 1}, {'rank': 2, 'agentID': 0}], 'replayFile': 'replays/937552162.json'}\n",
      "train loss in 1 epoch in 1 batch: 1.54640\n",
      "val loss in 1 epoch: 1.74897\n",
      "Round 877, winrate: 1.0, max_step: 196, reward: 1.0131999999999999, example: {'ranks': [{'rank': 1, 'agentID': 1}, {'rank': 2, 'agentID': 0}], 'replayFile': 'replays/384916143.json'}\n",
      "train loss in 1 epoch in 1 batch: 0.56044\n",
      "val loss in 1 epoch: 0.54822\n",
      "Round 878, winrate: 0.0, max_step: 230, reward: 0.021799999999999924, example: {'ranks': [{'rank': 1, 'agentID': 1}, {'rank': 2, 'agentID': 0}], 'replayFile': 'replays/565784161.json'}\n",
      "train loss in 1 epoch in 1 batch: 0.12665\n",
      "val loss in 1 epoch: 0.40038\n",
      "Round 879, winrate: 0.0, max_step: 190, reward: 0.013299999999999975, example: {'ranks': [{'rank': 1, 'agentID': 0}, {'rank': 2, 'agentID': 1}], 'replayFile': 'replays/752520315.json'}\n",
      "train loss in 1 epoch in 1 batch: 2.09076\n",
      "val loss in 1 epoch: 1.67608\n",
      "Round 880, winrate: 0.0, max_step: 313, reward: 0.03129999999999987, example: {'ranks': [{'rank': 1, 'agentID': 1}, {'rank': 2, 'agentID': 0}], 'replayFile': 'replays/361209676.json'}\n",
      "train loss in 1 epoch in 1 batch: 0.51490\n",
      "val loss in 1 epoch: 0.45552\n",
      "Round 881, winrate: 0.0, max_step: 359, reward: 0.09690000000000068, example: {'ranks': [{'rank': 1, 'agentID': 0}, {'rank': 2, 'agentID': 1}], 'replayFile': 'replays/748565568.json'}\n",
      "train loss in 1 epoch in 1 batch: 1.25455\n",
      "val loss in 1 epoch: 0.80219\n"
     ]
    },
    {
     "name": "stderr",
     "output_type": "stream",
     "text": [
      "/Library/Frameworks/Python.framework/Versions/3.7/lib/python3.7/site-packages/IPython/core/interactiveshell.py:3338: DtypeWarning: Columns (26,27,28) have mixed types.Specify dtype option on import or set low_memory=False.\n",
      "  if (await self.run_code(code, result,  async_=asy)):\n"
     ]
    },
    {
     "name": "stdout",
     "output_type": "stream",
     "text": [
      "Round 882, winrate: 0.0, max_step: 315, reward: 0.02739999999999989, example: {'ranks': [{'rank': 1, 'agentID': 1}, {'rank': 2, 'agentID': 0}], 'replayFile': 'replays/594148264.json'}\n",
      "train loss in 1 epoch in 1 batch: 0.46850\n",
      "val loss in 1 epoch: 0.45878\n",
      "Round 883, winrate: 0.0, max_step: 358, reward: 0.09740000000000074, example: {'ranks': [{'rank': 1, 'agentID': 0}, {'rank': 2, 'agentID': 1}], 'replayFile': 'replays/468114120.json'}\n",
      "train loss in 1 epoch in 1 batch: 1.66623\n",
      "val loss in 1 epoch: 1.50954\n",
      "Round 884, winrate: 0.0, max_step: 194, reward: 0.0038999999999999972, example: {'ranks': [{'rank': 1, 'agentID': 1}, {'rank': 2, 'agentID': 0}], 'replayFile': 'replays/354934740.json'}\n",
      "train loss in 1 epoch in 1 batch: 1.39382\n",
      "val loss in 1 epoch: 1.35806\n",
      "Round 885, winrate: 0.0, max_step: 349, reward: 0.019799999999999936, example: {'ranks': [{'rank': 1, 'agentID': 0}, {'rank': 2, 'agentID': 1}], 'replayFile': 'replays/225661242.json'}\n",
      "train loss in 1 epoch in 1 batch: 0.52582\n",
      "val loss in 1 epoch: 0.45771\n",
      "Round 886, winrate: 0.0, max_step: 272, reward: 0.07900000000000021, example: {'ranks': [{'rank': 1, 'agentID': 1}, {'rank': 2, 'agentID': 0}], 'replayFile': 'replays/6050586.json'}\n",
      "train loss in 1 epoch in 1 batch: 0.84578\n",
      "val loss in 1 epoch: 0.87107\n"
     ]
    },
    {
     "name": "stderr",
     "output_type": "stream",
     "text": [
      "/Library/Frameworks/Python.framework/Versions/3.7/lib/python3.7/site-packages/IPython/core/interactiveshell.py:3338: DtypeWarning: Columns (26,27,28) have mixed types.Specify dtype option on import or set low_memory=False.\n",
      "  if (await self.run_code(code, result,  async_=asy)):\n"
     ]
    },
    {
     "name": "stdout",
     "output_type": "stream",
     "text": [
      "Round 887, winrate: 0.0, max_step: 359, reward: 0.03369999999999994, example: {'ranks': [{'rank': 1, 'agentID': 0}, {'rank': 2, 'agentID': 1}], 'replayFile': 'replays/470298387.json'}\n",
      "train loss in 1 epoch in 1 batch: 0.68050\n",
      "val loss in 1 epoch: 0.77178\n",
      "Round 888, winrate: 0.0, max_step: 359, reward: 0.08600000000000035, example: {'ranks': [{'rank': 1, 'agentID': 1}, {'rank': 2, 'agentID': 0}], 'replayFile': 'replays/470559230.json'}\n",
      "train loss in 1 epoch in 1 batch: 1.50441\n",
      "val loss in 1 epoch: 0.74106\n",
      "Round 889, winrate: 0.0, max_step: 199, reward: 0.11259999999999931, example: {'ranks': [{'rank': 1, 'agentID': 0}, {'rank': 2, 'agentID': 1}], 'replayFile': 'replays/766907018.json'}\n",
      "train loss in 1 epoch in 1 batch: 0.32013\n",
      "val loss in 1 epoch: 0.40727\n",
      "Round 890, winrate: 0.0, max_step: 350, reward: 0.031499999999999875, example: {'ranks': [{'rank': 1, 'agentID': 1}, {'rank': 2, 'agentID': 0}], 'replayFile': 'replays/702648030.json'}\n",
      "train loss in 1 epoch in 1 batch: 0.13644\n",
      "val loss in 1 epoch: 0.74982\n"
     ]
    },
    {
     "name": "stderr",
     "output_type": "stream",
     "text": [
      "/Library/Frameworks/Python.framework/Versions/3.7/lib/python3.7/site-packages/IPython/core/interactiveshell.py:3338: DtypeWarning: Columns (26,27,28) have mixed types.Specify dtype option on import or set low_memory=False.\n",
      "  if (await self.run_code(code, result,  async_=asy)):\n"
     ]
    },
    {
     "name": "stdout",
     "output_type": "stream",
     "text": [
      "Round 891, winrate: 0.0, max_step: 359, reward: 0.03349999999999993, example: {'ranks': [{'rank': 1, 'agentID': 0}, {'rank': 2, 'agentID': 1}], 'replayFile': 'replays/900271817.json'}\n",
      "train loss in 1 epoch in 1 batch: 0.48865\n",
      "val loss in 1 epoch: 0.48250\n",
      "Round 892, winrate: 0.0, max_step: 119, reward: 0.008500000000000004, example: {'ranks': [{'rank': 1, 'agentID': 1}, {'rank': 2, 'agentID': 0}], 'replayFile': 'replays/215671913.json'}\n",
      "train loss in 1 epoch in 1 batch: 1.68539\n",
      "val loss in 1 epoch: 1.59089\n",
      "Round 893, winrate: 0.0, max_step: 230, reward: 0.01899999999999994, example: {'ranks': [{'rank': 1, 'agentID': 0}, {'rank': 2, 'agentID': 1}], 'replayFile': 'replays/421604850.json'}\n",
      "train loss in 1 epoch in 1 batch: 0.49091\n",
      "val loss in 1 epoch: 0.56089\n",
      "Round 894, winrate: 0.0, max_step: 350, reward: 0.21909999999999744, example: {'ranks': [{'rank': 1, 'agentID': 1}, {'rank': 2, 'agentID': 0}], 'replayFile': 'replays/835583282.json'}\n",
      "train loss in 1 epoch in 1 batch: 0.14275\n",
      "val loss in 1 epoch: 0.53967\n",
      "train loss in 1 epoch in 2 batch: 0.09623\n",
      "val loss in 1 epoch: 0.53479\n",
      "Round 895, winrate: 0.0, max_step: 199, reward: 0.05509999999999978, example: {'ranks': [{'rank': 1, 'agentID': 0}, {'rank': 2, 'agentID': 1}], 'replayFile': 'replays/374890235.json'}\n",
      "train loss in 1 epoch in 1 batch: 0.12534\n",
      "val loss in 1 epoch: 0.77993\n",
      "Round 896, winrate: 0.0, max_step: 235, reward: 0.0043999999999999985, example: {'ranks': [{'rank': 1, 'agentID': 1}, {'rank': 2, 'agentID': 0}], 'replayFile': 'replays/873767716.json'}\n",
      "train loss in 1 epoch in 1 batch: 0.51048\n",
      "val loss in 1 epoch: 0.59593\n",
      "Round 897, winrate: 0.0, max_step: 358, reward: 0.0063000000000000035, example: {'ranks': [{'rank': 1, 'agentID': 0}, {'rank': 2, 'agentID': 1}], 'replayFile': 'replays/905710707.json'}\n",
      "train loss in 1 epoch in 1 batch: 0.62432\n",
      "val loss in 1 epoch: 0.53936\n",
      "Round 898, winrate: 0.0, max_step: 194, reward: 0.019399999999999938, example: {'ranks': [{'rank': 1, 'agentID': 1}, {'rank': 2, 'agentID': 0}], 'replayFile': 'replays/388360298.json'}\n",
      "train loss in 1 epoch in 1 batch: 0.13678\n",
      "val loss in 1 epoch: 0.40008\n",
      "Round 899, winrate: 0.0, max_step: 277, reward: 0.02099999999999993, example: {'ranks': [{'rank': 1, 'agentID': 0}, {'rank': 2, 'agentID': 1}], 'replayFile': 'replays/738764619.json'}\n",
      "train loss in 1 epoch in 1 batch: 0.53895\n",
      "val loss in 1 epoch: 0.49406\n",
      "Round 900, winrate: 0.0, max_step: 198, reward: 0.01579999999999996, example: {'ranks': [{'rank': 1, 'agentID': 1}, {'rank': 2, 'agentID': 0}], 'replayFile': 'replays/786844566.json'}\n",
      "train loss in 1 epoch in 1 batch: 1.84750\n",
      "val loss in 1 epoch: 1.46837\n"
     ]
    },
    {
     "name": "stderr",
     "output_type": "stream",
     "text": [
      "/Library/Frameworks/Python.framework/Versions/3.7/lib/python3.7/site-packages/IPython/core/interactiveshell.py:3338: DtypeWarning: Columns (26,27,28) have mixed types.Specify dtype option on import or set low_memory=False.\n",
      "  if (await self.run_code(code, result,  async_=asy)):\n"
     ]
    },
    {
     "name": "stdout",
     "output_type": "stream",
     "text": [
      "Round 901, winrate: 0.0, max_step: 359, reward: 0.0359, example: {'ranks': [{'rank': 1, 'agentID': 0}, {'rank': 2, 'agentID': 1}], 'replayFile': 'replays/62348857.json'}\n",
      "train loss in 1 epoch in 1 batch: 1.43325\n",
      "val loss in 1 epoch: 1.34778\n"
     ]
    },
    {
     "name": "stderr",
     "output_type": "stream",
     "text": [
      "/Library/Frameworks/Python.framework/Versions/3.7/lib/python3.7/site-packages/IPython/core/interactiveshell.py:3338: DtypeWarning: Columns (26,27,28) have mixed types.Specify dtype option on import or set low_memory=False.\n",
      "  if (await self.run_code(code, result,  async_=asy)):\n"
     ]
    },
    {
     "name": "stdout",
     "output_type": "stream",
     "text": [
      "Round 902, winrate: 0.0, max_step: 356, reward: 0.09510000000000064, example: {'ranks': [{'rank': 1, 'agentID': 1}, {'rank': 2, 'agentID': 0}], 'replayFile': 'replays/74325058.json'}\n",
      "train loss in 1 epoch in 1 batch: 1.15468\n",
      "val loss in 1 epoch: 0.94121\n",
      "Round 903, winrate: 0.0, max_step: 111, reward: 0.0031999999999999984, example: {'ranks': [{'rank': 1, 'agentID': 0}, {'rank': 2, 'agentID': 1}], 'replayFile': 'replays/721378116.json'}\n",
      "train loss in 1 epoch in 1 batch: 0.28076\n",
      "val loss in 1 epoch: 0.32197\n"
     ]
    },
    {
     "name": "stderr",
     "output_type": "stream",
     "text": [
      "/Library/Frameworks/Python.framework/Versions/3.7/lib/python3.7/site-packages/IPython/core/interactiveshell.py:3338: DtypeWarning: Columns (9,10,11,12,13,14) have mixed types.Specify dtype option on import or set low_memory=False.\n",
      "  if (await self.run_code(code, result,  async_=asy)):\n"
     ]
    },
    {
     "name": "stdout",
     "output_type": "stream",
     "text": [
      "Round 904, winrate: 0.0, max_step: 197, reward: 0.016399999999999956, example: {'ranks': [{'rank': 1, 'agentID': 1}, {'rank': 2, 'agentID': 0}], 'replayFile': 'replays/865090517.json'}\n",
      "train loss in 1 epoch in 1 batch: 0.15595\n",
      "val loss in 1 epoch: 1.00347\n",
      "Round 905, winrate: 0.0, max_step: 359, reward: 0.10479999999999903, example: {'ranks': [{'rank': 1, 'agentID': 0}, {'rank': 2, 'agentID': 1}], 'replayFile': 'replays/401564872.json'}\n",
      "train loss in 1 epoch in 1 batch: 0.92827\n",
      "val loss in 1 epoch: 0.36837\n",
      "Round 906, winrate: 0.0, max_step: 359, reward: 0.09890000000000074, example: {'ranks': [{'rank': 1, 'agentID': 1}, {'rank': 2, 'agentID': 0}], 'replayFile': 'replays/461235659.json'}\n",
      "train loss in 1 epoch in 1 batch: 0.19088\n",
      "val loss in 1 epoch: 0.26755\n",
      "Round 907, winrate: 0.0, max_step: 359, reward: 0.031499999999999875, example: {'ranks': [{'rank': 1, 'agentID': 0}, {'rank': 2, 'agentID': 1}], 'replayFile': 'replays/499933072.json'}\n",
      "train loss in 1 epoch in 1 batch: 1.55871\n",
      "val loss in 1 epoch: 0.87380\n",
      "Round 908, winrate: 0.0, max_step: 359, reward: 0.09050000000000048, example: {'ranks': [{'rank': 1, 'agentID': 1}, {'rank': 2, 'agentID': 0}], 'replayFile': 'replays/137873282.json'}\n",
      "train loss in 1 epoch in 1 batch: 0.13182\n",
      "val loss in 1 epoch: 0.21821\n",
      "Round 909, winrate: 0.0, max_step: 230, reward: 0.02069999999999993, example: {'ranks': [{'rank': 1, 'agentID': 0}, {'rank': 2, 'agentID': 1}], 'replayFile': 'replays/898750876.json'}\n",
      "train loss in 1 epoch in 1 batch: 0.12349\n",
      "val loss in 1 epoch: 0.57768\n",
      "Round 910, winrate: 0.0, max_step: 235, reward: 0.023399999999999914, example: {'ranks': [{'rank': 1, 'agentID': 1}, {'rank': 2, 'agentID': 0}], 'replayFile': 'replays/554544303.json'}\n",
      "train loss in 1 epoch in 1 batch: 1.92752\n",
      "val loss in 1 epoch: 0.40375\n",
      "Round 911, winrate: 0.0, max_step: 350, reward: 0.03319999999999992, example: {'ranks': [{'rank': 1, 'agentID': 0}, {'rank': 2, 'agentID': 1}], 'replayFile': 'replays/384546667.json'}\n",
      "train loss in 1 epoch in 1 batch: 1.36420\n",
      "val loss in 1 epoch: 0.87580\n",
      "Round 912, winrate: 0.0, max_step: 274, reward: 0.0043999999999999985, example: {'ranks': [{'rank': 1, 'agentID': 1}, {'rank': 2, 'agentID': 0}], 'replayFile': 'replays/864949077.json'}\n",
      "train loss in 1 epoch in 1 batch: 0.47611\n",
      "val loss in 1 epoch: 0.51750\n"
     ]
    },
    {
     "name": "stderr",
     "output_type": "stream",
     "text": [
      "/Library/Frameworks/Python.framework/Versions/3.7/lib/python3.7/site-packages/IPython/core/interactiveshell.py:3338: DtypeWarning: Columns (17,18,19,20,21,22) have mixed types.Specify dtype option on import or set low_memory=False.\n",
      "  if (await self.run_code(code, result,  async_=asy)):\n"
     ]
    },
    {
     "name": "stdout",
     "output_type": "stream",
     "text": [
      "Round 913, winrate: 0.0, max_step: 354, reward: 0.0036999999999999976, example: {'ranks': [{'rank': 1, 'agentID': 0}, {'rank': 2, 'agentID': 1}], 'replayFile': 'replays/426937734.json'}\n",
      "train loss in 1 epoch in 1 batch: 0.53996\n",
      "val loss in 1 epoch: 0.46818\n",
      "Round 914, winrate: 1.0, max_step: 359, reward: 1.0186, example: {'ranks': [{'rank': 1, 'agentID': 0}, {'rank': 2, 'agentID': 1}], 'replayFile': 'replays/265679500.json'}\n",
      "train loss in 1 epoch in 1 batch: 1.71101\n",
      "val loss in 1 epoch: 1.40140\n"
     ]
    },
    {
     "name": "stderr",
     "output_type": "stream",
     "text": [
      "/Library/Frameworks/Python.framework/Versions/3.7/lib/python3.7/site-packages/IPython/core/interactiveshell.py:3338: DtypeWarning: Columns (9,10,11,12,13,14) have mixed types.Specify dtype option on import or set low_memory=False.\n",
      "  if (await self.run_code(code, result,  async_=asy)):\n"
     ]
    },
    {
     "name": "stdout",
     "output_type": "stream",
     "text": [
      "Round 915, winrate: 0.0, max_step: 359, reward: 0.04290000000000009, example: {'ranks': [{'rank': 1, 'agentID': 0}, {'rank': 2, 'agentID': 1}], 'replayFile': 'replays/679466974.json'}\n",
      "train loss in 1 epoch in 1 batch: 0.13421\n",
      "val loss in 1 epoch: 0.36172\n",
      "Round 916, winrate: 0.0, max_step: 359, reward: 0.0359, example: {'ranks': [{'rank': 1, 'agentID': 1}, {'rank': 2, 'agentID': 0}], 'replayFile': 'replays/154176748.json'}\n",
      "train loss in 1 epoch in 1 batch: 1.53622\n",
      "val loss in 1 epoch: 1.17282\n",
      "Round 917, winrate: 0.0, max_step: 199, reward: 0.0504999999999998, example: {'ranks': [{'rank': 1, 'agentID': 0}, {'rank': 2, 'agentID': 1}], 'replayFile': 'replays/829199959.json'}\n",
      "train loss in 1 epoch in 1 batch: 0.12572\n",
      "val loss in 1 epoch: 0.27129\n"
     ]
    },
    {
     "name": "stderr",
     "output_type": "stream",
     "text": [
      "/Library/Frameworks/Python.framework/Versions/3.7/lib/python3.7/site-packages/IPython/core/interactiveshell.py:3338: DtypeWarning: Columns (9,10,11,12,13,14) have mixed types.Specify dtype option on import or set low_memory=False.\n",
      "  if (await self.run_code(code, result,  async_=asy)):\n"
     ]
    },
    {
     "name": "stdout",
     "output_type": "stream",
     "text": [
      "Round 918, winrate: 0.0, max_step: 237, reward: 0.018699999999999942, example: {'ranks': [{'rank': 1, 'agentID': 1}, {'rank': 2, 'agentID': 0}], 'replayFile': 'replays/2595785.json'}\n",
      "train loss in 1 epoch in 1 batch: 0.28566\n",
      "val loss in 1 epoch: 0.28796\n",
      "Round 919, winrate: 0.0, max_step: 232, reward: 0.010999999999999989, example: {'ranks': [{'rank': 1, 'agentID': 0}, {'rank': 2, 'agentID': 1}], 'replayFile': 'replays/397137410.json'}\n",
      "train loss in 1 epoch in 1 batch: 0.13019\n",
      "val loss in 1 epoch: 0.27401\n",
      "Round 920, winrate: 0.0, max_step: 270, reward: 0.026899999999999893, example: {'ranks': [{'rank': 1, 'agentID': 1}, {'rank': 2, 'agentID': 0}], 'replayFile': 'replays/780392900.json'}\n",
      "train loss in 1 epoch in 1 batch: 0.11536\n",
      "val loss in 1 epoch: 0.46448\n",
      "Round 921, winrate: 0.0, max_step: 359, reward: 0.07919999999999947, example: {'ranks': [{'rank': 1, 'agentID': 0}, {'rank': 2, 'agentID': 1}], 'replayFile': 'replays/926072681.json'}\n",
      "train loss in 1 epoch in 1 batch: 0.13842\n",
      "val loss in 1 epoch: 0.20505\n",
      "Round 922, winrate: 0.0, max_step: 272, reward: 0.05559999999999972, example: {'ranks': [{'rank': 1, 'agentID': 1}, {'rank': 2, 'agentID': 0}], 'replayFile': 'replays/470394075.json'}\n",
      "train loss in 1 epoch in 1 batch: 2.41321\n",
      "val loss in 1 epoch: 0.74008\n",
      "Round 923, winrate: 0.0, max_step: 359, reward: 0.11110000000000113, example: {'ranks': [{'rank': 1, 'agentID': 0}, {'rank': 2, 'agentID': 1}], 'replayFile': 'replays/629107409.json'}\n",
      "train loss in 1 epoch in 1 batch: 0.19999\n",
      "val loss in 1 epoch: 0.47615\n",
      "Round 924, winrate: 0.0, max_step: 197, reward: 0.019699999999999936, example: {'ranks': [{'rank': 1, 'agentID': 1}, {'rank': 2, 'agentID': 0}], 'replayFile': 'replays/769918389.json'}\n",
      "train loss in 1 epoch in 1 batch: 1.86915\n",
      "val loss in 1 epoch: 1.58301\n",
      "Round 925, winrate: 0.0, max_step: 359, reward: 0.025999999999999898, example: {'ranks': [{'rank': 1, 'agentID': 0}, {'rank': 2, 'agentID': 1}], 'replayFile': 'replays/468600414.json'}\n",
      "train loss in 1 epoch in 1 batch: 1.61340\n",
      "val loss in 1 epoch: 1.26931\n",
      "Round 926, winrate: 0.0, max_step: 231, reward: 0.01919999999999994, example: {'ranks': [{'rank': 1, 'agentID': 1}, {'rank': 2, 'agentID': 0}], 'replayFile': 'replays/16367382.json'}\n",
      "train loss in 1 epoch in 1 batch: 1.30901\n",
      "val loss in 1 epoch: 1.07808\n",
      "Round 927, winrate: 0.0, max_step: 359, reward: 0.09950000000000074, example: {'ranks': [{'rank': 1, 'agentID': 0}, {'rank': 2, 'agentID': 1}], 'replayFile': 'replays/586757233.json'}\n",
      "train loss in 1 epoch in 1 batch: 0.12688\n",
      "val loss in 1 epoch: 0.30277\n"
     ]
    },
    {
     "name": "stderr",
     "output_type": "stream",
     "text": [
      "/Library/Frameworks/Python.framework/Versions/3.7/lib/python3.7/site-packages/IPython/core/interactiveshell.py:3338: DtypeWarning: Columns (9,10,11,12,13,14) have mixed types.Specify dtype option on import or set low_memory=False.\n",
      "  if (await self.run_code(code, result,  async_=asy)):\n"
     ]
    },
    {
     "name": "stdout",
     "output_type": "stream",
     "text": [
      "Round 928, winrate: 0.0, max_step: 359, reward: 0.056899999999999715, example: {'ranks': [{'rank': 1, 'agentID': 1}, {'rank': 2, 'agentID': 0}], 'replayFile': 'replays/372180088.json'}\n",
      "train loss in 1 epoch in 1 batch: 0.30861\n",
      "val loss in 1 epoch: 0.70365\n"
     ]
    },
    {
     "name": "stderr",
     "output_type": "stream",
     "text": [
      "/Library/Frameworks/Python.framework/Versions/3.7/lib/python3.7/site-packages/IPython/core/interactiveshell.py:3338: DtypeWarning: Columns (26,27,28) have mixed types.Specify dtype option on import or set low_memory=False.\n",
      "  if (await self.run_code(code, result,  async_=asy)):\n"
     ]
    },
    {
     "name": "stdout",
     "output_type": "stream",
     "text": [
      "Round 929, winrate: 0.0, max_step: 271, reward: 0.02709999999999989, example: {'ranks': [{'rank': 1, 'agentID': 0}, {'rank': 2, 'agentID': 1}], 'replayFile': 'replays/231288974.json'}\n",
      "train loss in 1 epoch in 1 batch: 1.34392\n",
      "val loss in 1 epoch: 0.96444\n",
      "Round 930, winrate: 0.0, max_step: 270, reward: 0.026799999999999893, example: {'ranks': [{'rank': 1, 'agentID': 1}, {'rank': 2, 'agentID': 0}], 'replayFile': 'replays/812968797.json'}\n",
      "train loss in 1 epoch in 1 batch: 0.15774\n",
      "val loss in 1 epoch: 1.27177\n",
      "Round 931, winrate: 0.0, max_step: 359, reward: 0.054599999999999725, example: {'ranks': [{'rank': 1, 'agentID': 0}, {'rank': 2, 'agentID': 1}], 'replayFile': 'replays/484439426.json'}\n",
      "train loss in 1 epoch in 1 batch: 0.14555\n",
      "val loss in 1 epoch: 0.53116\n",
      "Round 932, winrate: 0.0, max_step: 358, reward: 0.0016000000000000005, example: {'ranks': [{'rank': 1, 'agentID': 1}, {'rank': 2, 'agentID': 0}], 'replayFile': 'replays/988932012.json'}\n",
      "train loss in 1 epoch in 1 batch: 0.37637\n",
      "val loss in 1 epoch: 0.40364\n"
     ]
    },
    {
     "name": "stderr",
     "output_type": "stream",
     "text": [
      "/Library/Frameworks/Python.framework/Versions/3.7/lib/python3.7/site-packages/IPython/core/interactiveshell.py:3338: DtypeWarning: Columns (17,18,19,20,21,22) have mixed types.Specify dtype option on import or set low_memory=False.\n",
      "  if (await self.run_code(code, result,  async_=asy)):\n"
     ]
    },
    {
     "name": "stdout",
     "output_type": "stream",
     "text": [
      "Round 933, winrate: 0.0, max_step: 359, reward: 0.008600000000000003, example: {'ranks': [{'rank': 1, 'agentID': 0}, {'rank': 2, 'agentID': 1}], 'replayFile': 'replays/534128023.json'}\n",
      "train loss in 1 epoch in 1 batch: 1.36469\n",
      "val loss in 1 epoch: 0.96446\n",
      "Round 934, winrate: 0.0, max_step: 350, reward: 0.03039999999999987, example: {'ranks': [{'rank': 1, 'agentID': 1}, {'rank': 2, 'agentID': 0}], 'replayFile': 'replays/982377712.json'}\n",
      "train loss in 1 epoch in 1 batch: 0.47728\n",
      "val loss in 1 epoch: 0.33973\n",
      "Round 935, winrate: 0.0, max_step: 194, reward: 0.019399999999999938, example: {'ranks': [{'rank': 1, 'agentID': 0}, {'rank': 2, 'agentID': 1}], 'replayFile': 'replays/960519203.json'}\n",
      "train loss in 1 epoch in 1 batch: 0.14182\n",
      "val loss in 1 epoch: 0.59059\n",
      "Round 936, winrate: 0.0, max_step: 358, reward: 0.11550000000000125, example: {'ranks': [{'rank': 1, 'agentID': 1}, {'rank': 2, 'agentID': 0}], 'replayFile': 'replays/973968834.json'}\n",
      "train loss in 1 epoch in 1 batch: 0.14762\n",
      "val loss in 1 epoch: 0.53896\n"
     ]
    },
    {
     "name": "stderr",
     "output_type": "stream",
     "text": [
      "/Library/Frameworks/Python.framework/Versions/3.7/lib/python3.7/site-packages/IPython/core/interactiveshell.py:3338: DtypeWarning: Columns (9,10,11,12,13,14) have mixed types.Specify dtype option on import or set low_memory=False.\n",
      "  if (await self.run_code(code, result,  async_=asy)):\n"
     ]
    },
    {
     "name": "stdout",
     "output_type": "stream",
     "text": [
      "Round 937, winrate: 0.0, max_step: 234, reward: 0.013399999999999974, example: {'ranks': [{'rank': 1, 'agentID': 0}, {'rank': 2, 'agentID': 1}], 'replayFile': 'replays/81155732.json'}\n",
      "train loss in 1 epoch in 1 batch: 0.38712\n",
      "val loss in 1 epoch: 0.40599\n"
     ]
    },
    {
     "name": "stderr",
     "output_type": "stream",
     "text": [
      "/Library/Frameworks/Python.framework/Versions/3.7/lib/python3.7/site-packages/IPython/core/interactiveshell.py:3338: DtypeWarning: Columns (9,10,11,12,13,14) have mixed types.Specify dtype option on import or set low_memory=False.\n",
      "  if (await self.run_code(code, result,  async_=asy)):\n"
     ]
    },
    {
     "name": "stdout",
     "output_type": "stream",
     "text": [
      "Round 938, winrate: 1.0, max_step: 230, reward: 1.0211999999999999, example: {'ranks': [{'rank': 1, 'agentID': 0}, {'rank': 2, 'agentID': 1}], 'replayFile': 'replays/75612687.json'}\n",
      "train loss in 1 epoch in 1 batch: 2.08820\n",
      "val loss in 1 epoch: 0.42528\n"
     ]
    },
    {
     "name": "stderr",
     "output_type": "stream",
     "text": [
      "/Library/Frameworks/Python.framework/Versions/3.7/lib/python3.7/site-packages/IPython/core/interactiveshell.py:3338: DtypeWarning: Columns (9,10,11,12,13,14) have mixed types.Specify dtype option on import or set low_memory=False.\n",
      "  if (await self.run_code(code, result,  async_=asy)):\n"
     ]
    },
    {
     "name": "stdout",
     "output_type": "stream",
     "text": [
      "Round 939, winrate: 0.0, max_step: 234, reward: 0.019699999999999936, example: {'ranks': [{'rank': 1, 'agentID': 0}, {'rank': 2, 'agentID': 1}], 'replayFile': 'replays/746675552.json'}\n",
      "train loss in 1 epoch in 1 batch: 0.26445\n",
      "val loss in 1 epoch: 0.54082\n"
     ]
    },
    {
     "name": "stderr",
     "output_type": "stream",
     "text": [
      "/Library/Frameworks/Python.framework/Versions/3.7/lib/python3.7/site-packages/IPython/core/interactiveshell.py:3338: DtypeWarning: Columns (26,27,28) have mixed types.Specify dtype option on import or set low_memory=False.\n",
      "  if (await self.run_code(code, result,  async_=asy)):\n"
     ]
    },
    {
     "name": "stdout",
     "output_type": "stream",
     "text": [
      "Round 940, winrate: 0.0, max_step: 237, reward: 0.019499999999999938, example: {'ranks': [{'rank': 1, 'agentID': 1}, {'rank': 2, 'agentID': 0}], 'replayFile': 'replays/792177597.json'}\n",
      "train loss in 1 epoch in 1 batch: 2.07928\n",
      "val loss in 1 epoch: 1.56407\n",
      "Round 941, winrate: 0.0, max_step: 110, reward: 0.0091, example: {'ranks': [{'rank': 1, 'agentID': 0}, {'rank': 2, 'agentID': 1}], 'replayFile': 'replays/332295752.json'}\n",
      "train loss in 1 epoch in 1 batch: 0.15813\n",
      "val loss in 1 epoch: 0.43771\n",
      "Round 942, winrate: 0.0, max_step: 239, reward: 0.07640000000000025, example: {'ranks': [{'rank': 1, 'agentID': 1}, {'rank': 2, 'agentID': 0}], 'replayFile': 'replays/218199952.json'}\n",
      "train loss in 1 epoch in 1 batch: 0.37249\n",
      "val loss in 1 epoch: 0.71265\n",
      "Round 943, winrate: 0.0, max_step: 359, reward: 0.035699999999999996, example: {'ranks': [{'rank': 1, 'agentID': 0}, {'rank': 2, 'agentID': 1}], 'replayFile': 'replays/134757515.json'}\n",
      "train loss in 1 epoch in 1 batch: 0.10386\n",
      "val loss in 1 epoch: 0.54191\n",
      "Round 944, winrate: 0.0, max_step: 235, reward: 0.08090000000000021, example: {'ranks': [{'rank': 1, 'agentID': 1}, {'rank': 2, 'agentID': 0}], 'replayFile': 'replays/521395917.json'}\n",
      "train loss in 1 epoch in 1 batch: 0.24461\n",
      "val loss in 1 epoch: 0.55338\n",
      "Round 945, winrate: 0.0, max_step: 197, reward: 0.019699999999999936, example: {'ranks': [{'rank': 1, 'agentID': 0}, {'rank': 2, 'agentID': 1}], 'replayFile': 'replays/979068580.json'}\n",
      "train loss in 1 epoch in 1 batch: 0.41412\n",
      "val loss in 1 epoch: 0.46771\n",
      "Round 946, winrate: 0.0, max_step: 239, reward: 0.02389999999999991, example: {'ranks': [{'rank': 1, 'agentID': 1}, {'rank': 2, 'agentID': 0}], 'replayFile': 'replays/263868423.json'}\n",
      "train loss in 1 epoch in 1 batch: 0.47582\n",
      "val loss in 1 epoch: 0.43342\n",
      "Round 947, winrate: 0.0, max_step: 195, reward: 0.019499999999999938, example: {'ranks': [{'rank': 1, 'agentID': 0}, {'rank': 2, 'agentID': 1}], 'replayFile': 'replays/626914070.json'}\n",
      "train loss in 1 epoch in 1 batch: 3.21953\n",
      "val loss in 1 epoch: 1.91087\n"
     ]
    },
    {
     "name": "stderr",
     "output_type": "stream",
     "text": [
      "/Library/Frameworks/Python.framework/Versions/3.7/lib/python3.7/site-packages/IPython/core/interactiveshell.py:3338: DtypeWarning: Columns (26,27,28) have mixed types.Specify dtype option on import or set low_memory=False.\n",
      "  if (await self.run_code(code, result,  async_=asy)):\n"
     ]
    },
    {
     "name": "stdout",
     "output_type": "stream",
     "text": [
      "Round 948, winrate: 0.0, max_step: 315, reward: 0.007700000000000007, example: {'ranks': [{'rank': 1, 'agentID': 1}, {'rank': 2, 'agentID': 0}], 'replayFile': 'replays/53236521.json'}\n",
      "train loss in 1 epoch in 1 batch: 0.41529\n",
      "val loss in 1 epoch: 0.40069\n",
      "Round 949, winrate: 0.0, max_step: 353, reward: 0.1042000000000009, example: {'ranks': [{'rank': 1, 'agentID': 0}, {'rank': 2, 'agentID': 1}], 'replayFile': 'replays/225492101.json'}\n",
      "train loss in 1 epoch in 1 batch: 1.12508\n",
      "val loss in 1 epoch: 0.41568\n",
      "Round 950, winrate: 0.0, max_step: 279, reward: 0.17329999999999826, example: {'ranks': [{'rank': 1, 'agentID': 1}, {'rank': 2, 'agentID': 0}], 'replayFile': 'replays/313880279.json'}\n",
      "train loss in 1 epoch in 1 batch: 0.14112\n",
      "val loss in 1 epoch: 0.61537\n",
      "train loss in 1 epoch in 2 batch: 0.07969\n"
     ]
    }
   ],
   "source": [
    "t = 0  #  1778 - value_iter\n",
    "B = 1\n",
    "\n",
    "model = NNWithCustomFeatures(83, 0.05, 64)\n",
    "\n",
    "writer = SummaryWriter()\n",
    "\n",
    "while True:\n",
    "    t += 1\n",
    "    np.random.seed(t)\n",
    "    torch.save(model.state_dict(), '../submissions/simple/models/ac_iter_v{}'.format(t))\n",
    "    r = []\n",
    "    for i in np.arange(B):\n",
    "        seed = t * B + i\n",
    "        _f = str(seed) + \".txt\"\n",
    "        bot = build_runnable_bot_with_flags({\n",
    "            \"model_path\": \"models/ac_iter_v{}\".format(t), \n",
    "            \"use_policy\": True,\n",
    "            \"is_neural\": True,\n",
    "            \"prob_use_default_agent\": 0.5 / np.log(t + 1),\n",
    "            \"prob_use_random\": 0.05,\n",
    "            \"ohe_path\": \"models/ohe_v2\",\n",
    "            \"use_old_units_cargo_rules\": False,\n",
    "            \"log_features_path\": \"../../research/features_iter/\", \"log_path_file_name\": _f\n",
    "        })\n",
    "        if t % 2 == 0:\n",
    "            _r = run_game(bot, simple_bot, loglevel=0, seed=seed)\n",
    "        else:\n",
    "            _r = run_game(simple_bot, bot, loglevel=0, seed=seed)\n",
    "        r.append(_r)\n",
    "    wins = np.mean(count_series(r))\n",
    "    if t % 2 == 1:\n",
    "        wins = 1 - wins\n",
    "    trainD = dataset.get_dataset_from_file(os.path.join(\"features_iter/\", _f), wins)\n",
    "    reward = np.sum(trainD.weights)\n",
    "    trainD_ohe, valD_ohe, _ = prepare_features(trainD, trainD, OHE)\n",
    "    max_step = np.max(trainD.features[:, 31])\n",
    "    trainD_ohe_with_next = add_next_features(trainD_ohe)\n",
    "    valD_ohe_with_next = add_next_features(valD_ohe)\n",
    "    trainD_ohe_with_next_sampled = sample_dataset(trainD_ohe_with_next, 0.1)\n",
    "    print(\"Round {}, winrate: {}, max_step: {}, reward: {}, example: {}\".format(t, wins, max_step, reward, r[0][0]['results']))\n",
    "    writer.add_scalar('data/reward', reward, t)\n",
    "    writer.add_scalar('data/winrate', wins, t)\n",
    "    writer.add_scalar('data/max_step', max_step, t)\n",
    "    try:\n",
    "        learn(trainD_ohe_with_next_sampled, valD_ohe_with_next, model, actor_critic_loss, lr=1e-1 / (t+1), batch_size=64, epochs=1, freq=1, l2=1e-5, use_tb=False)\n",
    "    except Exception as e:\n",
    "        print(e)"
   ]
  },
  {
   "cell_type": "code",
   "execution_count": null,
   "metadata": {},
   "outputs": [],
   "source": []
  }
 ],
 "metadata": {
  "kernelspec": {
   "display_name": "Python 3",
   "language": "python",
   "name": "python3"
  },
  "language_info": {
   "codemirror_mode": {
    "name": "ipython",
    "version": 3
   },
   "file_extension": ".py",
   "mimetype": "text/x-python",
   "name": "python",
   "nbconvert_exporter": "python",
   "pygments_lexer": "ipython3",
   "version": "3.7.9"
  }
 },
 "nbformat": 4,
 "nbformat_minor": 4
}
